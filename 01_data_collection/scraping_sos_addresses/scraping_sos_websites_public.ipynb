{
 "cells": [
  {
   "cell_type": "markdown",
   "id": "8a7764b0",
   "metadata": {},
   "source": [
    "# Scraping SOS from Websites"
   ]
  },
  {
   "cell_type": "code",
   "execution_count": 1,
   "id": "1fd44a4d",
   "metadata": {},
   "outputs": [
    {
     "name": "stdout",
     "output_type": "stream",
     "text": [
      "Exception reporting mode: Minimal\n"
     ]
    }
   ],
   "source": [
    "# set up \n",
    "import requests \n",
    "import bs4\n",
    "import pandas as pd \n",
    "import numpy as np\n",
    "import time \n",
    "import re\n",
    "from tika import parser\n",
    "from selenium import webdriver\n",
    "from selenium.webdriver.common.by import By\n",
    "from selenium.webdriver.support.ui import WebDriverWait\n",
    "from selenium.webdriver.support import expected_conditions as EC\n",
    "from io import BytesIO\n",
    "from urllib.request import urlopen\n",
    "\n",
    "from IPython.core.interactiveshell import InteractiveShell \n",
    "InteractiveShell.ast_node_interactivity = \"all\"\n",
    "\n",
    "%xmode Minimal"
   ]
  },
  {
   "cell_type": "code",
   "execution_count": 2,
   "id": "af3ec470",
   "metadata": {},
   "outputs": [],
   "source": [
    "# set headers\n",
    "header_list = {'User-Agent': 'REDACTED',\n",
    "              'Accept-Language': 'en-US,en;q=0.9'}"
   ]
  },
  {
   "cell_type": "code",
   "execution_count": 14,
   "id": "a7fa47aa",
   "metadata": {},
   "outputs": [],
   "source": [
    "# define a customized BeautifulSoup function (tweaked after scraping)\n",
    "def scrape_content(link, state, release_type, html1, html2, id_info=None, **kwargs):\n",
    "    '''purpose: use BeautifulSoup to scrape content from the website and add it to the dataframe\n",
    "     \n",
    "       input: the website link (string); state (string); type of document (string); \n",
    "              the html tag for the content block; the html tag for the paragraph; the id info (if relevant)(string); \n",
    "              other keyword arguments as relevant.\n",
    "       output: the states_df with the cleaned text (string) and the type of document (sos, budget, or inauguration)\n",
    "               (string) in the proper column for the state'''\n",
    "    try:\n",
    "        server_response = requests.get(link, headers = header_list)\n",
    "        soup_link = bs4.BeautifulSoup(server_response.content, features=\"html.parser\")\n",
    "        try: \n",
    "            result = soup_link.find(html1, {\"id\": id_info}, **kwargs)\n",
    "        except: \n",
    "            result = soup_link.find(html1, **kwargs)\n",
    "        p_result = result.find_all(html2)\n",
    "        string_result = [str(i.text) for i in p_result]\n",
    "        string_result_clean = [i.replace(u'\\xa0', u' ') for i in string_result]\n",
    "        string_result_clean = [i.replace(u'\\n', u' ') for i in string_result_clean]\n",
    "        result_merged = \" \".join(string_result_clean)\n",
    "       \n",
    "        # add to df\n",
    "        df.loc[df.state == state, 'text'] = result_merged\n",
    "        df.loc[df.state == state, 'type'] = release_type\n",
    "        \n",
    "        return df\n",
    "         \n",
    "    except Exception as e: \n",
    "        print(f'error due to {e}')"
   ]
  },
  {
   "cell_type": "code",
   "execution_count": 4,
   "id": "3c8ce7ce",
   "metadata": {},
   "outputs": [],
   "source": [
    "# define a customized Selenium function (tweaked after testing individual states)\n",
    "def scrape_selenium(link, STATE, xpath, ptag, release_type):\n",
    "    '''purpose: uses Selenium to dynamically scrape the webpage and add it to the dataframe\n",
    "    \n",
    "       input: website link (string), state name (string), xpath of content on website (string), html tag for the \n",
    "              text (string), and release type (string)\n",
    "       output: the states_df with the cleaned text (string) and the type of document (sos, budget, or inauguration)\n",
    "               (string) in the proper column for the state'''\n",
    "     \n",
    "    # initialize the session\n",
    "    driver = webdriver.Chrome()\n",
    "    driver.get(link)\n",
    "    time.sleep(3)\n",
    "\n",
    "    # find the content block\n",
    "    results = driver.find_element(By.XPATH, xpath)\n",
    "\n",
    "    # find the text \n",
    "    p_results = results.find_elements(By.TAG_NAME, ptag) \n",
    "\n",
    "    p_text = [i.text for i in p_results]\n",
    "    # p_text\n",
    "    \n",
    "    result_merged = \" \".join(p_text)\n",
    "    # result_merged\n",
    "\n",
    "    # add to df\n",
    "    df.loc[df.state == STATE, 'text'] = result_merged\n",
    "    df.loc[df.state==STATE, 'type'] = release_type\n",
    "    \n",
    "    # close the session\n",
    "    driver.quit()\n",
    "    \n",
    "    #return result_merged\n",
    "    return df"
   ]
  },
  {
   "cell_type": "code",
   "execution_count": 5,
   "id": "3368f9c4",
   "metadata": {},
   "outputs": [],
   "source": [
    "# copy pdf scraping function developed in the other notebook\n",
    "def scrape_pdf(state):\n",
    "    '''inputs: the name of a state (string)\n",
    "       outputs: the cleaned text (string) from a state speech pdf (saved locally)'''\n",
    "    if ' ' in state:\n",
    "        state_name = re.sub(' ', '_', state)\n",
    "        raw = parser.from_file(f'sos_pdfs/{state_name}.pdf')\n",
    "        text = raw['content']\n",
    "        clean_text = re.sub('\\n', '', text)\n",
    "    else:\n",
    "        raw = parser.from_file(f'sos_pdfs/{state}.pdf')\n",
    "        text = raw['content']\n",
    "        clean_text = re.sub('\\n', '', text)\n",
    "    return clean_text"
   ]
  },
  {
   "cell_type": "code",
   "execution_count": 6,
   "id": "b74be92c",
   "metadata": {},
   "outputs": [],
   "source": [
    "# copy pdf function developed in the other notebook\n",
    "def add_pdf_to_df(STATE, doc_type):\n",
    "    '''inputs: the name of the state (string) and the type of document (string)\n",
    "       outputs: the state dataframe with the scraped pdf text and the document type in the appropriate columns'''\n",
    "    result = scrape_pdf(state = STATE)\n",
    "    df.loc[df['state']== STATE, 'text'] = result\n",
    "    df.loc[df['state']== STATE, 'type'] = doc_type \n",
    "    return df"
   ]
  },
  {
   "cell_type": "code",
   "execution_count": 7,
   "id": "d3b99730",
   "metadata": {},
   "outputs": [],
   "source": [
    "# read in df\n",
    "# originally used sos_withpdf.csv. The file sos_df_23.csv is a more recent version of the file\n",
    "df = pd.read_csv('sos_df_23.csv')"
   ]
  },
  {
   "cell_type": "code",
   "execution_count": 8,
   "id": "a2de8c5f",
   "metadata": {},
   "outputs": [
    {
     "data": {
      "text/html": [
       "<div>\n",
       "<style scoped>\n",
       "    .dataframe tbody tr th:only-of-type {\n",
       "        vertical-align: middle;\n",
       "    }\n",
       "\n",
       "    .dataframe tbody tr th {\n",
       "        vertical-align: top;\n",
       "    }\n",
       "\n",
       "    .dataframe thead th {\n",
       "        text-align: right;\n",
       "    }\n",
       "</style>\n",
       "<table border=\"1\" class=\"dataframe\">\n",
       "  <thead>\n",
       "    <tr style=\"text-align: right;\">\n",
       "      <th></th>\n",
       "      <th>state</th>\n",
       "      <th>gov_name</th>\n",
       "      <th>party</th>\n",
       "      <th>type</th>\n",
       "      <th>text</th>\n",
       "    </tr>\n",
       "  </thead>\n",
       "  <tbody>\n",
       "    <tr>\n",
       "      <th>0</th>\n",
       "      <td>alabama</td>\n",
       "      <td>kay ivey</td>\n",
       "      <td>republican</td>\n",
       "      <td>sos</td>\n",
       "      <td>Page 1 of 8     2023 STATE OF THE STATE ADDRES...</td>\n",
       "    </tr>\n",
       "    <tr>\n",
       "      <th>1</th>\n",
       "      <td>alaska</td>\n",
       "      <td>mike dunleavy</td>\n",
       "      <td>republican</td>\n",
       "      <td>sos</td>\n",
       "      <td>Governor Dunleavy’s 2023 State of the State Ad...</td>\n",
       "    </tr>\n",
       "    <tr>\n",
       "      <th>2</th>\n",
       "      <td>arizona</td>\n",
       "      <td>katie hobbs</td>\n",
       "      <td>democratic</td>\n",
       "      <td>sos</td>\n",
       "      <td>Good afternoon, Chief Justice Brutinel, Secret...</td>\n",
       "    </tr>\n",
       "    <tr>\n",
       "      <th>3</th>\n",
       "      <td>arkansas</td>\n",
       "      <td>sarah huckabee sanders</td>\n",
       "      <td>republican</td>\n",
       "      <td>inaug</td>\n",
       "      <td>LITTLE ROCK, Ark.— Today, Governor Sarah Hucka...</td>\n",
       "    </tr>\n",
       "    <tr>\n",
       "      <th>4</th>\n",
       "      <td>california</td>\n",
       "      <td>gavin newsom</td>\n",
       "      <td>democratic</td>\n",
       "      <td>inaug</td>\n",
       "      <td>Watch Governor Newsom’s swearing-in and inaugu...</td>\n",
       "    </tr>\n",
       "    <tr>\n",
       "      <th>5</th>\n",
       "      <td>colorado</td>\n",
       "      <td>jared polis</td>\n",
       "      <td>democratic</td>\n",
       "      <td>sos</td>\n",
       "      <td>ForMedia-2023-StateOfState-GovernorPolis-AsPre...</td>\n",
       "    </tr>\n",
       "    <tr>\n",
       "      <th>6</th>\n",
       "      <td>connecticut</td>\n",
       "      <td>ned lamont</td>\n",
       "      <td>democratic</td>\n",
       "      <td>sos</td>\n",
       "      <td>\\r\\n01/03/2023              2023 State of the ...</td>\n",
       "    </tr>\n",
       "    <tr>\n",
       "      <th>7</th>\n",
       "      <td>delaware</td>\n",
       "      <td>john carney</td>\n",
       "      <td>democratic</td>\n",
       "      <td>sos</td>\n",
       "      <td>January 19, 2023 As prepared for delivery #DE...</td>\n",
       "    </tr>\n",
       "    <tr>\n",
       "      <th>8</th>\n",
       "      <td>florida</td>\n",
       "      <td>ron desantis</td>\n",
       "      <td>republican</td>\n",
       "      <td>sos</td>\n",
       "      <td>From the Space Coast to the Suncoast, from St....</td>\n",
       "    </tr>\n",
       "    <tr>\n",
       "      <th>9</th>\n",
       "      <td>georgia</td>\n",
       "      <td>brian kemp</td>\n",
       "      <td>republican</td>\n",
       "      <td>sos</td>\n",
       "      <td>Lt. Governor Jones, Speaker Burns, President P...</td>\n",
       "    </tr>\n",
       "    <tr>\n",
       "      <th>10</th>\n",
       "      <td>hawaii</td>\n",
       "      <td>josh green</td>\n",
       "      <td>democratic</td>\n",
       "      <td>sos</td>\n",
       "      <td>1 of 17   1 of 17   “ACTION ROOTED IN VALUES”...</td>\n",
       "    </tr>\n",
       "    <tr>\n",
       "      <th>11</th>\n",
       "      <td>idaho</td>\n",
       "      <td>brad little</td>\n",
       "      <td>republican</td>\n",
       "      <td>sos</td>\n",
       "      <td>Page 1 of 11    2 0 23  ST ATE OF  THE  ST ATE...</td>\n",
       "    </tr>\n",
       "    <tr>\n",
       "      <th>12</th>\n",
       "      <td>illinois</td>\n",
       "      <td>jb pritzker</td>\n",
       "      <td>democratic</td>\n",
       "      <td>sos</td>\n",
       "      <td>Gov. Pritzker Proposes Transformative, Gener...</td>\n",
       "    </tr>\n",
       "    <tr>\n",
       "      <th>13</th>\n",
       "      <td>indiana</td>\n",
       "      <td>eric holcomb</td>\n",
       "      <td>republican</td>\n",
       "      <td>sos</td>\n",
       "      <td>Governor Eric J. Holcomb2023 State of the Stat...</td>\n",
       "    </tr>\n",
       "    <tr>\n",
       "      <th>14</th>\n",
       "      <td>iowa</td>\n",
       "      <td>kim reynolds</td>\n",
       "      <td>republican</td>\n",
       "      <td>sos</td>\n",
       "      <td>Tonight, Gov. Reynolds delivered her 2023 Cond...</td>\n",
       "    </tr>\n",
       "    <tr>\n",
       "      <th>15</th>\n",
       "      <td>kansas</td>\n",
       "      <td>laura kelly</td>\n",
       "      <td>democratic</td>\n",
       "      <td>sos</td>\n",
       "      <td>Governor Kelly Delivers Her 2023 State of the ...</td>\n",
       "    </tr>\n",
       "    <tr>\n",
       "      <th>16</th>\n",
       "      <td>kentucky</td>\n",
       "      <td>andy beshear</td>\n",
       "      <td>democratic</td>\n",
       "      <td>sos</td>\n",
       "      <td>Microsoft Word - 20230104_Gov-Beshear_State-of...</td>\n",
       "    </tr>\n",
       "    <tr>\n",
       "      <th>17</th>\n",
       "      <td>louisiana</td>\n",
       "      <td>john bel edwards</td>\n",
       "      <td>democratic</td>\n",
       "      <td>sos</td>\n",
       "      <td>As prepared for delivery: Mr. Speaker, Mr. Pre...</td>\n",
       "    </tr>\n",
       "    <tr>\n",
       "      <th>18</th>\n",
       "      <td>maine</td>\n",
       "      <td>janet mills</td>\n",
       "      <td>democratic</td>\n",
       "      <td>inaug</td>\n",
       "      <td>1  Governor Janet T. Mills Second Inaugural Ad...</td>\n",
       "    </tr>\n",
       "    <tr>\n",
       "      <th>19</th>\n",
       "      <td>maryland</td>\n",
       "      <td>wes moore</td>\n",
       "      <td>democratic</td>\n",
       "      <td>sos</td>\n",
       "      <td>ANNAPOLIS, MD— Today, Governor Wes Moore deli...</td>\n",
       "    </tr>\n",
       "    <tr>\n",
       "      <th>20</th>\n",
       "      <td>massachusetts</td>\n",
       "      <td>maura healey</td>\n",
       "      <td>democratic</td>\n",
       "      <td>inaug</td>\n",
       "      <td>Gov. Maura Healey, the first woman elected gov...</td>\n",
       "    </tr>\n",
       "    <tr>\n",
       "      <th>21</th>\n",
       "      <td>michigan</td>\n",
       "      <td>gretchen whitmer</td>\n",
       "      <td>democratic</td>\n",
       "      <td>sos</td>\n",
       "      <td>FOR IMMEDIATE RELEASE  January 25, 2023   Cont...</td>\n",
       "    </tr>\n",
       "    <tr>\n",
       "      <th>22</th>\n",
       "      <td>minnesota</td>\n",
       "      <td>tim walz</td>\n",
       "      <td>democratic</td>\n",
       "      <td>sos</td>\n",
       "      <td>Governor Walz State of the State Remarks as Pr...</td>\n",
       "    </tr>\n",
       "    <tr>\n",
       "      <th>23</th>\n",
       "      <td>mississippi</td>\n",
       "      <td>tate reeves</td>\n",
       "      <td>republican</td>\n",
       "      <td>sos</td>\n",
       "      <td>Gov. Tate Reeves, a first-term Republican, del...</td>\n",
       "    </tr>\n",
       "    <tr>\n",
       "      <th>24</th>\n",
       "      <td>missouri</td>\n",
       "      <td>mike parson</td>\n",
       "      <td>republican</td>\n",
       "      <td>sos</td>\n",
       "      <td>1  Missouri Governor — Michael L. Parson Offic...</td>\n",
       "    </tr>\n",
       "    <tr>\n",
       "      <th>25</th>\n",
       "      <td>montana</td>\n",
       "      <td>greg gianforte</td>\n",
       "      <td>republican</td>\n",
       "      <td>sos</td>\n",
       "      <td>HELENA, Mont. – Governor Greg Gianforte tonigh...</td>\n",
       "    </tr>\n",
       "    <tr>\n",
       "      <th>26</th>\n",
       "      <td>nebraska</td>\n",
       "      <td>jim pillen</td>\n",
       "      <td>republican</td>\n",
       "      <td>sos</td>\n",
       "      <td>Governor Jim Pillen                          ...</td>\n",
       "    </tr>\n",
       "    <tr>\n",
       "      <th>27</th>\n",
       "      <td>nevada</td>\n",
       "      <td>joe lombardo</td>\n",
       "      <td>republican</td>\n",
       "      <td>sos</td>\n",
       "      <td>Governor Joe Lombardo 2023 State of the State ...</td>\n",
       "    </tr>\n",
       "    <tr>\n",
       "      <th>28</th>\n",
       "      <td>new hampshire</td>\n",
       "      <td>chris sununu</td>\n",
       "      <td>republican</td>\n",
       "      <td>inaug</td>\n",
       "      <td>Concord, NH – Please find below Governor Chris...</td>\n",
       "    </tr>\n",
       "    <tr>\n",
       "      <th>29</th>\n",
       "      <td>new jersey</td>\n",
       "      <td>phil murphy</td>\n",
       "      <td>democratic</td>\n",
       "      <td>sos</td>\n",
       "      <td>Governor Murphy Delivers 2023 State of the Sta...</td>\n",
       "    </tr>\n",
       "    <tr>\n",
       "      <th>30</th>\n",
       "      <td>new mexico</td>\n",
       "      <td>michelle lujan grisham</td>\n",
       "      <td>democratic</td>\n",
       "      <td>sos</td>\n",
       "      <td>FROM THE OFFICE OF THE GOVERNOR Editor’s note:...</td>\n",
       "    </tr>\n",
       "    <tr>\n",
       "      <th>31</th>\n",
       "      <td>new york</td>\n",
       "      <td>kathy hochul</td>\n",
       "      <td>democratic</td>\n",
       "      <td>sos</td>\n",
       "      <td>Governor Kathy Hochul today delivered her 2023...</td>\n",
       "    </tr>\n",
       "    <tr>\n",
       "      <th>32</th>\n",
       "      <td>north carolina</td>\n",
       "      <td>roy cooper</td>\n",
       "      <td>democratic</td>\n",
       "      <td>sos</td>\n",
       "      <td>Governor Roy Cooper Follow 1   Mr. President P...</td>\n",
       "    </tr>\n",
       "    <tr>\n",
       "      <th>33</th>\n",
       "      <td>north dakota</td>\n",
       "      <td>doug burgum</td>\n",
       "      <td>republican</td>\n",
       "      <td>sos</td>\n",
       "      <td>1     State of the State Address January 3, 20...</td>\n",
       "    </tr>\n",
       "    <tr>\n",
       "      <th>34</th>\n",
       "      <td>ohio</td>\n",
       "      <td>mike dewine</td>\n",
       "      <td>republican</td>\n",
       "      <td>sos</td>\n",
       "      <td>(COLUMBUS, Ohio)—Ohio Governor Mike DeWine tod...</td>\n",
       "    </tr>\n",
       "    <tr>\n",
       "      <th>35</th>\n",
       "      <td>oklahoma</td>\n",
       "      <td>kevin stitt</td>\n",
       "      <td>republican</td>\n",
       "      <td>sos</td>\n",
       "      <td>Governor Kevin Stitt delivered the first State...</td>\n",
       "    </tr>\n",
       "    <tr>\n",
       "      <th>36</th>\n",
       "      <td>oregon</td>\n",
       "      <td>tina kotek</td>\n",
       "      <td>democratic</td>\n",
       "      <td>inaug</td>\n",
       "      <td>Inaugural Address (Spanish) January 9, 2023 Go...</td>\n",
       "    </tr>\n",
       "    <tr>\n",
       "      <th>37</th>\n",
       "      <td>pennsylvania</td>\n",
       "      <td>josh shapiro</td>\n",
       "      <td>democratic</td>\n",
       "      <td>budget</td>\n",
       "      <td>February 06, 2024 Governor Shapiro’s budget pr...</td>\n",
       "    </tr>\n",
       "    <tr>\n",
       "      <th>38</th>\n",
       "      <td>rhode island</td>\n",
       "      <td>dan mckee</td>\n",
       "      <td>democratic</td>\n",
       "      <td>sos</td>\n",
       "      <td>Published on Tuesday, January 17, 2023 January...</td>\n",
       "    </tr>\n",
       "    <tr>\n",
       "      <th>39</th>\n",
       "      <td>south carolina</td>\n",
       "      <td>henry mcmaster</td>\n",
       "      <td>republican</td>\n",
       "      <td>sos</td>\n",
       "      <td>Mr. Speaker, Mr. President, ladies and gentlem...</td>\n",
       "    </tr>\n",
       "    <tr>\n",
       "      <th>40</th>\n",
       "      <td>south dakota</td>\n",
       "      <td>kristi noem</td>\n",
       "      <td>republican</td>\n",
       "      <td>sos</td>\n",
       "      <td>2023 State of the State Address   By: Governor...</td>\n",
       "    </tr>\n",
       "    <tr>\n",
       "      <th>41</th>\n",
       "      <td>tennessee</td>\n",
       "      <td>bill lee</td>\n",
       "      <td>republican</td>\n",
       "      <td>sos</td>\n",
       "      <td>Thank you very much. Lieutenant Governor McNal...</td>\n",
       "    </tr>\n",
       "    <tr>\n",
       "      <th>42</th>\n",
       "      <td>texas</td>\n",
       "      <td>greg abbott</td>\n",
       "      <td>republican</td>\n",
       "      <td>inaug</td>\n",
       "      <td>January 17, 2023 | Austin, Texas        |     ...</td>\n",
       "    </tr>\n",
       "    <tr>\n",
       "      <th>43</th>\n",
       "      <td>utah</td>\n",
       "      <td>spencer cox</td>\n",
       "      <td>republican</td>\n",
       "      <td>sos</td>\n",
       "      <td>2023 State of the State Address U...</td>\n",
       "    </tr>\n",
       "    <tr>\n",
       "      <th>44</th>\n",
       "      <td>vermont</td>\n",
       "      <td>phil scott</td>\n",
       "      <td>republican</td>\n",
       "      <td>inaug</td>\n",
       "      <td>Montpelier, Vt. - Governor Phil Scott today wa...</td>\n",
       "    </tr>\n",
       "    <tr>\n",
       "      <th>45</th>\n",
       "      <td>virginia</td>\n",
       "      <td>glenn youngkin</td>\n",
       "      <td>republican</td>\n",
       "      <td>sos</td>\n",
       "      <td>RICHMOND, VA - Governor Youngkin today deliver...</td>\n",
       "    </tr>\n",
       "    <tr>\n",
       "      <th>46</th>\n",
       "      <td>washington</td>\n",
       "      <td>jay inslee</td>\n",
       "      <td>democratic</td>\n",
       "      <td>sos</td>\n",
       "      <td>Sign up Sign in Sign up Sign in Governor Jay I...</td>\n",
       "    </tr>\n",
       "    <tr>\n",
       "      <th>47</th>\n",
       "      <td>west virginia</td>\n",
       "      <td>jim justice</td>\n",
       "      <td>republican</td>\n",
       "      <td>sos</td>\n",
       "      <td>VIEW PHOTO ALBUM     ...</td>\n",
       "    </tr>\n",
       "    <tr>\n",
       "      <th>48</th>\n",
       "      <td>wisconsin</td>\n",
       "      <td>tony evers</td>\n",
       "      <td>democratic</td>\n",
       "      <td>inaug</td>\n",
       "      <td>Good evening, Wisconsin! Honorable Supreme Cou...</td>\n",
       "    </tr>\n",
       "    <tr>\n",
       "      <th>49</th>\n",
       "      <td>wyoming</td>\n",
       "      <td>mark gordon</td>\n",
       "      <td>republican</td>\n",
       "      <td>sos</td>\n",
       "      <td>CHEYENNE, Wyo. –  Governor Mark Gordon’s State...</td>\n",
       "    </tr>\n",
       "  </tbody>\n",
       "</table>\n",
       "</div>"
      ],
      "text/plain": [
       "             state                gov_name       party    type  \\\n",
       "0          alabama                kay ivey  republican     sos   \n",
       "1           alaska           mike dunleavy  republican     sos   \n",
       "2          arizona             katie hobbs  democratic     sos   \n",
       "3         arkansas  sarah huckabee sanders  republican   inaug   \n",
       "4       california            gavin newsom  democratic   inaug   \n",
       "5         colorado             jared polis  democratic     sos   \n",
       "6      connecticut              ned lamont  democratic     sos   \n",
       "7         delaware             john carney  democratic     sos   \n",
       "8          florida            ron desantis  republican     sos   \n",
       "9          georgia              brian kemp  republican     sos   \n",
       "10          hawaii              josh green  democratic     sos   \n",
       "11           idaho             brad little  republican     sos   \n",
       "12        illinois             jb pritzker  democratic     sos   \n",
       "13         indiana            eric holcomb  republican     sos   \n",
       "14            iowa            kim reynolds  republican     sos   \n",
       "15          kansas             laura kelly  democratic     sos   \n",
       "16        kentucky            andy beshear  democratic     sos   \n",
       "17       louisiana        john bel edwards  democratic     sos   \n",
       "18           maine             janet mills  democratic   inaug   \n",
       "19        maryland               wes moore  democratic     sos   \n",
       "20   massachusetts            maura healey  democratic   inaug   \n",
       "21        michigan        gretchen whitmer  democratic     sos   \n",
       "22       minnesota                tim walz  democratic     sos   \n",
       "23     mississippi             tate reeves  republican     sos   \n",
       "24        missouri             mike parson  republican     sos   \n",
       "25         montana          greg gianforte  republican     sos   \n",
       "26        nebraska              jim pillen  republican     sos   \n",
       "27          nevada            joe lombardo  republican     sos   \n",
       "28   new hampshire            chris sununu  republican   inaug   \n",
       "29      new jersey             phil murphy  democratic     sos   \n",
       "30      new mexico  michelle lujan grisham  democratic     sos   \n",
       "31        new york            kathy hochul  democratic     sos   \n",
       "32  north carolina              roy cooper  democratic     sos   \n",
       "33    north dakota             doug burgum  republican     sos   \n",
       "34            ohio             mike dewine  republican     sos   \n",
       "35        oklahoma             kevin stitt  republican     sos   \n",
       "36          oregon              tina kotek  democratic   inaug   \n",
       "37    pennsylvania            josh shapiro  democratic  budget   \n",
       "38    rhode island               dan mckee  democratic     sos   \n",
       "39  south carolina          henry mcmaster  republican     sos   \n",
       "40    south dakota             kristi noem  republican     sos   \n",
       "41       tennessee                bill lee  republican     sos   \n",
       "42           texas             greg abbott  republican   inaug   \n",
       "43            utah             spencer cox  republican     sos   \n",
       "44         vermont              phil scott  republican   inaug   \n",
       "45        virginia          glenn youngkin  republican     sos   \n",
       "46      washington              jay inslee  democratic     sos   \n",
       "47   west virginia             jim justice  republican     sos   \n",
       "48       wisconsin              tony evers  democratic   inaug   \n",
       "49         wyoming             mark gordon  republican     sos   \n",
       "\n",
       "                                                 text  \n",
       "0   Page 1 of 8     2023 STATE OF THE STATE ADDRES...  \n",
       "1   Governor Dunleavy’s 2023 State of the State Ad...  \n",
       "2   Good afternoon, Chief Justice Brutinel, Secret...  \n",
       "3   LITTLE ROCK, Ark.— Today, Governor Sarah Hucka...  \n",
       "4   Watch Governor Newsom’s swearing-in and inaugu...  \n",
       "5   ForMedia-2023-StateOfState-GovernorPolis-AsPre...  \n",
       "6   \\r\\n01/03/2023              2023 State of the ...  \n",
       "7    January 19, 2023 As prepared for delivery #DE...  \n",
       "8   From the Space Coast to the Suncoast, from St....  \n",
       "9   Lt. Governor Jones, Speaker Burns, President P...  \n",
       "10   1 of 17   1 of 17   “ACTION ROOTED IN VALUES”...  \n",
       "11  Page 1 of 11    2 0 23  ST ATE OF  THE  ST ATE...  \n",
       "12    Gov. Pritzker Proposes Transformative, Gener...  \n",
       "13  Governor Eric J. Holcomb2023 State of the Stat...  \n",
       "14  Tonight, Gov. Reynolds delivered her 2023 Cond...  \n",
       "15  Governor Kelly Delivers Her 2023 State of the ...  \n",
       "16  Microsoft Word - 20230104_Gov-Beshear_State-of...  \n",
       "17  As prepared for delivery: Mr. Speaker, Mr. Pre...  \n",
       "18  1  Governor Janet T. Mills Second Inaugural Ad...  \n",
       "19   ANNAPOLIS, MD— Today, Governor Wes Moore deli...  \n",
       "20  Gov. Maura Healey, the first woman elected gov...  \n",
       "21  FOR IMMEDIATE RELEASE  January 25, 2023   Cont...  \n",
       "22  Governor Walz State of the State Remarks as Pr...  \n",
       "23  Gov. Tate Reeves, a first-term Republican, del...  \n",
       "24  1  Missouri Governor — Michael L. Parson Offic...  \n",
       "25  HELENA, Mont. – Governor Greg Gianforte tonigh...  \n",
       "26   Governor Jim Pillen                          ...  \n",
       "27  Governor Joe Lombardo 2023 State of the State ...  \n",
       "28  Concord, NH – Please find below Governor Chris...  \n",
       "29  Governor Murphy Delivers 2023 State of the Sta...  \n",
       "30  FROM THE OFFICE OF THE GOVERNOR Editor’s note:...  \n",
       "31  Governor Kathy Hochul today delivered her 2023...  \n",
       "32  Governor Roy Cooper Follow 1   Mr. President P...  \n",
       "33  1     State of the State Address January 3, 20...  \n",
       "34  (COLUMBUS, Ohio)—Ohio Governor Mike DeWine tod...  \n",
       "35  Governor Kevin Stitt delivered the first State...  \n",
       "36  Inaugural Address (Spanish) January 9, 2023 Go...  \n",
       "37  February 06, 2024 Governor Shapiro’s budget pr...  \n",
       "38  Published on Tuesday, January 17, 2023 January...  \n",
       "39  Mr. Speaker, Mr. President, ladies and gentlem...  \n",
       "40  2023 State of the State Address   By: Governor...  \n",
       "41  Thank you very much. Lieutenant Governor McNal...  \n",
       "42  January 17, 2023 | Austin, Texas        |     ...  \n",
       "43               2023 State of the State Address U...  \n",
       "44  Montpelier, Vt. - Governor Phil Scott today wa...  \n",
       "45  RICHMOND, VA - Governor Youngkin today deliver...  \n",
       "46  Sign up Sign in Sign up Sign in Governor Jay I...  \n",
       "47                           VIEW PHOTO ALBUM     ...  \n",
       "48  Good evening, Wisconsin! Honorable Supreme Cou...  \n",
       "49  CHEYENNE, Wyo. –  Governor Mark Gordon’s State...  "
      ]
     },
     "execution_count": 8,
     "metadata": {},
     "output_type": "execute_result"
    }
   ],
   "source": [
    "df"
   ]
  },
  {
   "cell_type": "markdown",
   "id": "bae62e14",
   "metadata": {
    "heading_collapsed": true
   },
   "source": [
    "## Arizona\n",
    "[Website](https://azgovernor.gov/office-arizona-governor/news/2023/01/transcript-governor-hobbs-2023-state-state-address)"
   ]
  },
  {
   "cell_type": "code",
   "execution_count": 79,
   "id": "f6234496",
   "metadata": {
    "hidden": true
   },
   "outputs": [],
   "source": [
    "# create function for scraping the Arizona website\n",
    "def scrape_arizona(link, state, release_type):\n",
    "    try:\n",
    "        server_response = requests.get(link, headers = header_list)\n",
    "        soup_link = bs4.BeautifulSoup(server_response.content, features=\"html.parser\")\n",
    "        result = soup_link.find('div', class_ = 'margin-top20 clearfix field-name-body margin-bottom20').find_all('p')\n",
    "        # clean\n",
    "        string_result = [str(i.text) for i in result]\n",
    "        string_result_clean = [i.replace(u'\\xa0', u' ') for i in string_result]\n",
    "        result_merged = \" \".join(string_result_clean)\n",
    "        # add to df\n",
    "        df.loc[df.state == state, 'text'] = result_merged\n",
    "        df.loc[df.state == state, 'type'] = release_type\n",
    "        \n",
    "        return df\n",
    "    \n",
    "    except Exception as e: \n",
    "        print(f'error due to {e}')"
   ]
  },
  {
   "cell_type": "code",
   "execution_count": 80,
   "id": "94327539",
   "metadata": {
    "hidden": true
   },
   "outputs": [],
   "source": [
    "# scrape and add to df \n",
    "df = scrape_arizona(link = 'https://azgovernor.gov/office-arizona-governor/news/2023/01/transcript-governor-hobbs-2023-state-state-address',\n",
    "              state = 'arizona',\n",
    "              release_type = 'sos')"
   ]
  },
  {
   "cell_type": "markdown",
   "id": "c7ae6905",
   "metadata": {
    "heading_collapsed": true
   },
   "source": [
    "## Arkansas\n",
    "[Website](https://governor.arkansas.gov/news_post/sanders-delivers-inaugural-address/)"
   ]
  },
  {
   "cell_type": "code",
   "execution_count": 81,
   "id": "729930b4",
   "metadata": {
    "hidden": true
   },
   "outputs": [],
   "source": [
    "# create function to scrape the Arkansas website \n",
    "def scrape_arkansas(link, state, release_type):\n",
    "    try:\n",
    "        server_response = requests.get(link, headers = header_list)\n",
    "        soup_link = bs4.BeautifulSoup(server_response.content, features=\"html.parser\")\n",
    "        result = soup_link.find('div', class_ = 'elementor-element elementor-element-95261b0 elementor-widget elementor-widget-theme-post-content')\n",
    "        p_result = result.find_all('p')\n",
    "        # clean\n",
    "        string_result = [str(i.text) for i in p_result]\n",
    "        string_result_clean = [i.replace(u'\\xa0', u' ') for i in string_result]\n",
    "        result_merged = \" \".join(string_result_clean)\n",
    "        # add to df\n",
    "        df.loc[df.state == state, 'text'] = result_merged\n",
    "        df.loc[df.state == state, 'type'] = release_type\n",
    "        \n",
    "        return df\n",
    "    \n",
    "    except Exception as e: \n",
    "        print(f'error due to {e}')"
   ]
  },
  {
   "cell_type": "code",
   "execution_count": 82,
   "id": "560930b8",
   "metadata": {
    "hidden": true
   },
   "outputs": [],
   "source": [
    "# scrape website and add to the df \n",
    "df = scrape_arkansas(link = 'https://governor.arkansas.gov/news_post/sanders-delivers-inaugural-address/', \n",
    "                     state = 'arkansas',\n",
    "                     release_type= 'inaug')"
   ]
  },
  {
   "cell_type": "markdown",
   "id": "278b4ac7",
   "metadata": {
    "heading_collapsed": true
   },
   "source": [
    "## California\n",
    "[Website](https://www.gov.ca.gov/2023/01/06/governor-newsom-inaugurated-to-second-term-in-celebration-of-californias-values-diverse-communities/)"
   ]
  },
  {
   "cell_type": "code",
   "execution_count": 83,
   "id": "a47c4d35",
   "metadata": {
    "hidden": true
   },
   "outputs": [],
   "source": [
    "# create a function to scrape California's website \n",
    "def scrape_california(link, state, release_type):\n",
    "    try:\n",
    "        server_response = requests.get(link, headers = header_list)\n",
    "        soup_link = bs4.BeautifulSoup(server_response.content, features=\"html.parser\")\n",
    "        result = soup_link.find('div', class_ = 'entry-content')\n",
    "        p_result = result.find_all('p')\n",
    "        # clean\n",
    "        string_result = [str(i.text) for i in p_result]\n",
    "        string_result_clean = [i.replace(u'\\xa0', u' ') for i in string_result]\n",
    "        result_merged = \" \".join(string_result_clean)\n",
    "        # add to df\n",
    "        df.loc[df.state == state, 'text'] = result_merged\n",
    "        df.loc[df.state == state, 'type'] = release_type\n",
    "        \n",
    "        return df\n",
    "    \n",
    "    except Exception as e: \n",
    "        print(f'error due to {e}')"
   ]
  },
  {
   "cell_type": "code",
   "execution_count": 84,
   "id": "145907c6",
   "metadata": {
    "hidden": true
   },
   "outputs": [],
   "source": [
    "# scrape website and add to df \n",
    "df = scrape_california(link = 'https://www.gov.ca.gov/2023/01/06/governor-newsom-inaugurated-to-second-term-in-celebration-of-californias-values-diverse-communities/',\n",
    "                 state = 'california', \n",
    "                 release_type = 'inaug')"
   ]
  },
  {
   "cell_type": "markdown",
   "id": "ca1ebc89",
   "metadata": {
    "heading_collapsed": true
   },
   "source": [
    "## Connectictut\n",
    "[Website](https://portal.ct.gov/Office-of-the-Governor/News/Speeches/Governor-Lamont-2023-State-of-the-State-Address)"
   ]
  },
  {
   "cell_type": "code",
   "execution_count": 85,
   "id": "e50d8e96",
   "metadata": {
    "hidden": true
   },
   "outputs": [],
   "source": [
    "# create a function to scrape Connecticut's website \n",
    "def scrape_connecticut(link, state, release_type, **kwargs):\n",
    "    try:\n",
    "        server_response = requests.get(link, headers = header_list)\n",
    "        soup_link = bs4.BeautifulSoup(server_response.content, features=\"html.parser\")\n",
    "        result = soup_link.find('div', **kwargs)\n",
    "        p_result = result.find_all('p')\n",
    "        # clean\n",
    "        string_result = [str(i.text) for i in p_result]\n",
    "        string_result_clean = [i.replace(u'\\xa0', u' ') for i in string_result]\n",
    "        result_merged = \" \".join(string_result_clean)\n",
    "        # add to df\n",
    "        df.loc[df.state == state, 'text'] = result_merged\n",
    "        df.loc[df.state == state, 'type'] = release_type\n",
    "        \n",
    "        return df\n",
    "    \n",
    "    except Exception as e: \n",
    "        print(f'error due to {e}')"
   ]
  },
  {
   "cell_type": "code",
   "execution_count": 86,
   "id": "010729d0",
   "metadata": {
    "hidden": true
   },
   "outputs": [
    {
     "data": {
      "text/html": [
       "<div>\n",
       "<style scoped>\n",
       "    .dataframe tbody tr th:only-of-type {\n",
       "        vertical-align: middle;\n",
       "    }\n",
       "\n",
       "    .dataframe tbody tr th {\n",
       "        vertical-align: top;\n",
       "    }\n",
       "\n",
       "    .dataframe thead th {\n",
       "        text-align: right;\n",
       "    }\n",
       "</style>\n",
       "<table border=\"1\" class=\"dataframe\">\n",
       "  <thead>\n",
       "    <tr style=\"text-align: right;\">\n",
       "      <th></th>\n",
       "      <th>state</th>\n",
       "      <th>gov_name</th>\n",
       "      <th>party</th>\n",
       "      <th>type</th>\n",
       "      <th>text</th>\n",
       "    </tr>\n",
       "  </thead>\n",
       "  <tbody>\n",
       "    <tr>\n",
       "      <th>0</th>\n",
       "      <td>alabama</td>\n",
       "      <td>kay ivey</td>\n",
       "      <td>republican</td>\n",
       "      <td>sos</td>\n",
       "      <td>Page 1 of 8     2023 STATE OF THE STATE ADDRES...</td>\n",
       "    </tr>\n",
       "    <tr>\n",
       "      <th>1</th>\n",
       "      <td>alaska</td>\n",
       "      <td>mike dunleavy</td>\n",
       "      <td>republican</td>\n",
       "      <td>sos</td>\n",
       "      <td>Governor Dunleavy’s 2023 State of the State Ad...</td>\n",
       "    </tr>\n",
       "    <tr>\n",
       "      <th>2</th>\n",
       "      <td>arizona</td>\n",
       "      <td>katie hobbs</td>\n",
       "      <td>democratic</td>\n",
       "      <td>sos</td>\n",
       "      <td>Good afternoon, Chief Justice Brutinel, Secret...</td>\n",
       "    </tr>\n",
       "    <tr>\n",
       "      <th>3</th>\n",
       "      <td>arkansas</td>\n",
       "      <td>sarah huckabee sanders</td>\n",
       "      <td>republican</td>\n",
       "      <td>inaug</td>\n",
       "      <td>LITTLE ROCK, Ark.— Today, Governor Sarah Hucka...</td>\n",
       "    </tr>\n",
       "    <tr>\n",
       "      <th>4</th>\n",
       "      <td>california</td>\n",
       "      <td>gavin newsom</td>\n",
       "      <td>democratic</td>\n",
       "      <td>inaug</td>\n",
       "      <td>Watch Governor Newsom’s swearing-in and inaugu...</td>\n",
       "    </tr>\n",
       "    <tr>\n",
       "      <th>5</th>\n",
       "      <td>colorado</td>\n",
       "      <td>jared polis</td>\n",
       "      <td>democratic</td>\n",
       "      <td>sos</td>\n",
       "      <td>ForMedia-2023-StateOfState-GovernorPolis-AsPre...</td>\n",
       "    </tr>\n",
       "    <tr>\n",
       "      <th>6</th>\n",
       "      <td>connecticut</td>\n",
       "      <td>ned lamont</td>\n",
       "      <td>democratic</td>\n",
       "      <td>sos</td>\n",
       "      <td>\\r\\n01/03/2023              2023 State of the ...</td>\n",
       "    </tr>\n",
       "    <tr>\n",
       "      <th>7</th>\n",
       "      <td>delaware</td>\n",
       "      <td>john carney</td>\n",
       "      <td>democratic</td>\n",
       "      <td>sos</td>\n",
       "      <td>January 19, 2023 As prepared for delivery #DE...</td>\n",
       "    </tr>\n",
       "    <tr>\n",
       "      <th>8</th>\n",
       "      <td>florida</td>\n",
       "      <td>ron desantis</td>\n",
       "      <td>republican</td>\n",
       "      <td>NaN</td>\n",
       "      <td>NaN</td>\n",
       "    </tr>\n",
       "    <tr>\n",
       "      <th>9</th>\n",
       "      <td>georgia</td>\n",
       "      <td>brian kemp</td>\n",
       "      <td>republican</td>\n",
       "      <td>NaN</td>\n",
       "      <td>NaN</td>\n",
       "    </tr>\n",
       "    <tr>\n",
       "      <th>10</th>\n",
       "      <td>hawaii</td>\n",
       "      <td>josh green</td>\n",
       "      <td>democratic</td>\n",
       "      <td>sos</td>\n",
       "      <td>1 of 17   1 of 17   “ACTION ROOTED IN VALUES”...</td>\n",
       "    </tr>\n",
       "    <tr>\n",
       "      <th>11</th>\n",
       "      <td>idaho</td>\n",
       "      <td>brad little</td>\n",
       "      <td>republican</td>\n",
       "      <td>sos</td>\n",
       "      <td>Page 1 of 11    2 0 23  ST ATE OF  THE  ST ATE...</td>\n",
       "    </tr>\n",
       "    <tr>\n",
       "      <th>12</th>\n",
       "      <td>illinois</td>\n",
       "      <td>jb pritzker</td>\n",
       "      <td>democratic</td>\n",
       "      <td>NaN</td>\n",
       "      <td>NaN</td>\n",
       "    </tr>\n",
       "    <tr>\n",
       "      <th>13</th>\n",
       "      <td>indiana</td>\n",
       "      <td>eric holcomb</td>\n",
       "      <td>republican</td>\n",
       "      <td>NaN</td>\n",
       "      <td>NaN</td>\n",
       "    </tr>\n",
       "    <tr>\n",
       "      <th>14</th>\n",
       "      <td>iowa</td>\n",
       "      <td>kim reynolds</td>\n",
       "      <td>republican</td>\n",
       "      <td>NaN</td>\n",
       "      <td>NaN</td>\n",
       "    </tr>\n",
       "    <tr>\n",
       "      <th>15</th>\n",
       "      <td>kansas</td>\n",
       "      <td>laura kelly</td>\n",
       "      <td>democratic</td>\n",
       "      <td>sos</td>\n",
       "      <td>Governor Kelly Delivers Her 2023 State of the ...</td>\n",
       "    </tr>\n",
       "    <tr>\n",
       "      <th>16</th>\n",
       "      <td>kentucky</td>\n",
       "      <td>andy beshear</td>\n",
       "      <td>democratic</td>\n",
       "      <td>sos</td>\n",
       "      <td>Microsoft Word - 20230104_Gov-Beshear_State-of...</td>\n",
       "    </tr>\n",
       "    <tr>\n",
       "      <th>17</th>\n",
       "      <td>louisiana</td>\n",
       "      <td>john bel edwards</td>\n",
       "      <td>democratic</td>\n",
       "      <td>NaN</td>\n",
       "      <td>NaN</td>\n",
       "    </tr>\n",
       "    <tr>\n",
       "      <th>18</th>\n",
       "      <td>maine</td>\n",
       "      <td>janet mills</td>\n",
       "      <td>democratic</td>\n",
       "      <td>NaN</td>\n",
       "      <td>NaN</td>\n",
       "    </tr>\n",
       "    <tr>\n",
       "      <th>19</th>\n",
       "      <td>maryland</td>\n",
       "      <td>wes moore</td>\n",
       "      <td>democratic</td>\n",
       "      <td>NaN</td>\n",
       "      <td>NaN</td>\n",
       "    </tr>\n",
       "    <tr>\n",
       "      <th>20</th>\n",
       "      <td>massachusetts</td>\n",
       "      <td>maura healey</td>\n",
       "      <td>democratic</td>\n",
       "      <td>NaN</td>\n",
       "      <td>NaN</td>\n",
       "    </tr>\n",
       "    <tr>\n",
       "      <th>21</th>\n",
       "      <td>michigan</td>\n",
       "      <td>gretchen whitmer</td>\n",
       "      <td>democratic</td>\n",
       "      <td>NaN</td>\n",
       "      <td>NaN</td>\n",
       "    </tr>\n",
       "    <tr>\n",
       "      <th>22</th>\n",
       "      <td>minnesota</td>\n",
       "      <td>tim walz</td>\n",
       "      <td>democratic</td>\n",
       "      <td>NaN</td>\n",
       "      <td>NaN</td>\n",
       "    </tr>\n",
       "    <tr>\n",
       "      <th>23</th>\n",
       "      <td>mississippi</td>\n",
       "      <td>tate reeves</td>\n",
       "      <td>republican</td>\n",
       "      <td>NaN</td>\n",
       "      <td>NaN</td>\n",
       "    </tr>\n",
       "    <tr>\n",
       "      <th>24</th>\n",
       "      <td>missouri</td>\n",
       "      <td>mike parson</td>\n",
       "      <td>republican</td>\n",
       "      <td>sos</td>\n",
       "      <td>1  Missouri Governor — Michael L. Parson Offic...</td>\n",
       "    </tr>\n",
       "    <tr>\n",
       "      <th>25</th>\n",
       "      <td>montana</td>\n",
       "      <td>greg gianforte</td>\n",
       "      <td>republican</td>\n",
       "      <td>NaN</td>\n",
       "      <td>NaN</td>\n",
       "    </tr>\n",
       "    <tr>\n",
       "      <th>26</th>\n",
       "      <td>nebraska</td>\n",
       "      <td>jim pillen</td>\n",
       "      <td>republican</td>\n",
       "      <td>NaN</td>\n",
       "      <td>NaN</td>\n",
       "    </tr>\n",
       "    <tr>\n",
       "      <th>27</th>\n",
       "      <td>nevada</td>\n",
       "      <td>joe lombardo</td>\n",
       "      <td>republican</td>\n",
       "      <td>NaN</td>\n",
       "      <td>NaN</td>\n",
       "    </tr>\n",
       "    <tr>\n",
       "      <th>28</th>\n",
       "      <td>new hampshire</td>\n",
       "      <td>chris sununu</td>\n",
       "      <td>republican</td>\n",
       "      <td>NaN</td>\n",
       "      <td>NaN</td>\n",
       "    </tr>\n",
       "    <tr>\n",
       "      <th>29</th>\n",
       "      <td>new jersey</td>\n",
       "      <td>phil murphy</td>\n",
       "      <td>democratic</td>\n",
       "      <td>NaN</td>\n",
       "      <td>NaN</td>\n",
       "    </tr>\n",
       "    <tr>\n",
       "      <th>30</th>\n",
       "      <td>new mexico</td>\n",
       "      <td>michelle lujan grisham</td>\n",
       "      <td>democratic</td>\n",
       "      <td>NaN</td>\n",
       "      <td>NaN</td>\n",
       "    </tr>\n",
       "    <tr>\n",
       "      <th>31</th>\n",
       "      <td>new york</td>\n",
       "      <td>kathy hochul</td>\n",
       "      <td>democratic</td>\n",
       "      <td>NaN</td>\n",
       "      <td>NaN</td>\n",
       "    </tr>\n",
       "    <tr>\n",
       "      <th>32</th>\n",
       "      <td>north carolina</td>\n",
       "      <td>roy cooper</td>\n",
       "      <td>democratic</td>\n",
       "      <td>NaN</td>\n",
       "      <td>NaN</td>\n",
       "    </tr>\n",
       "    <tr>\n",
       "      <th>33</th>\n",
       "      <td>north dakota</td>\n",
       "      <td>doug burgum</td>\n",
       "      <td>republican</td>\n",
       "      <td>sos</td>\n",
       "      <td>1     State of the State Address January 3, 20...</td>\n",
       "    </tr>\n",
       "    <tr>\n",
       "      <th>34</th>\n",
       "      <td>ohio</td>\n",
       "      <td>mike dewine</td>\n",
       "      <td>republican</td>\n",
       "      <td>NaN</td>\n",
       "      <td>NaN</td>\n",
       "    </tr>\n",
       "    <tr>\n",
       "      <th>35</th>\n",
       "      <td>oklahoma</td>\n",
       "      <td>kevin stitt</td>\n",
       "      <td>republican</td>\n",
       "      <td>NaN</td>\n",
       "      <td>NaN</td>\n",
       "    </tr>\n",
       "    <tr>\n",
       "      <th>36</th>\n",
       "      <td>oregon</td>\n",
       "      <td>tina kotek</td>\n",
       "      <td>democratic</td>\n",
       "      <td>NaN</td>\n",
       "      <td>NaN</td>\n",
       "    </tr>\n",
       "    <tr>\n",
       "      <th>37</th>\n",
       "      <td>pennsylvania</td>\n",
       "      <td>josh shapiro</td>\n",
       "      <td>democratic</td>\n",
       "      <td>NaN</td>\n",
       "      <td>NaN</td>\n",
       "    </tr>\n",
       "    <tr>\n",
       "      <th>38</th>\n",
       "      <td>rhode island</td>\n",
       "      <td>dan mckee</td>\n",
       "      <td>democratic</td>\n",
       "      <td>NaN</td>\n",
       "      <td>NaN</td>\n",
       "    </tr>\n",
       "    <tr>\n",
       "      <th>39</th>\n",
       "      <td>south carolina</td>\n",
       "      <td>henry mcmaster</td>\n",
       "      <td>republican</td>\n",
       "      <td>NaN</td>\n",
       "      <td>NaN</td>\n",
       "    </tr>\n",
       "    <tr>\n",
       "      <th>40</th>\n",
       "      <td>south dakota</td>\n",
       "      <td>kristi noem</td>\n",
       "      <td>republican</td>\n",
       "      <td>NaN</td>\n",
       "      <td>NaN</td>\n",
       "    </tr>\n",
       "    <tr>\n",
       "      <th>41</th>\n",
       "      <td>tennessee</td>\n",
       "      <td>bill lee</td>\n",
       "      <td>republican</td>\n",
       "      <td>NaN</td>\n",
       "      <td>NaN</td>\n",
       "    </tr>\n",
       "    <tr>\n",
       "      <th>42</th>\n",
       "      <td>texas</td>\n",
       "      <td>greg abbott</td>\n",
       "      <td>republican</td>\n",
       "      <td>NaN</td>\n",
       "      <td>NaN</td>\n",
       "    </tr>\n",
       "    <tr>\n",
       "      <th>43</th>\n",
       "      <td>utah</td>\n",
       "      <td>spencer cox</td>\n",
       "      <td>republican</td>\n",
       "      <td>sos</td>\n",
       "      <td>2023 State of the State Address U...</td>\n",
       "    </tr>\n",
       "    <tr>\n",
       "      <th>44</th>\n",
       "      <td>vermont</td>\n",
       "      <td>phil scott</td>\n",
       "      <td>republican</td>\n",
       "      <td>NaN</td>\n",
       "      <td>NaN</td>\n",
       "    </tr>\n",
       "    <tr>\n",
       "      <th>45</th>\n",
       "      <td>virginia</td>\n",
       "      <td>glenn youngkin</td>\n",
       "      <td>republican</td>\n",
       "      <td>NaN</td>\n",
       "      <td>NaN</td>\n",
       "    </tr>\n",
       "    <tr>\n",
       "      <th>46</th>\n",
       "      <td>washington</td>\n",
       "      <td>jay inslee</td>\n",
       "      <td>democratic</td>\n",
       "      <td>NaN</td>\n",
       "      <td>NaN</td>\n",
       "    </tr>\n",
       "    <tr>\n",
       "      <th>47</th>\n",
       "      <td>west virginia</td>\n",
       "      <td>jim justice</td>\n",
       "      <td>republican</td>\n",
       "      <td>NaN</td>\n",
       "      <td>NaN</td>\n",
       "    </tr>\n",
       "    <tr>\n",
       "      <th>48</th>\n",
       "      <td>wisconsin</td>\n",
       "      <td>tony evers</td>\n",
       "      <td>democratic</td>\n",
       "      <td>NaN</td>\n",
       "      <td>NaN</td>\n",
       "    </tr>\n",
       "    <tr>\n",
       "      <th>49</th>\n",
       "      <td>wyoming</td>\n",
       "      <td>mark gordon</td>\n",
       "      <td>republican</td>\n",
       "      <td>NaN</td>\n",
       "      <td>NaN</td>\n",
       "    </tr>\n",
       "  </tbody>\n",
       "</table>\n",
       "</div>"
      ],
      "text/plain": [
       "             state                gov_name       party   type  \\\n",
       "0          alabama                kay ivey  republican    sos   \n",
       "1           alaska           mike dunleavy  republican    sos   \n",
       "2          arizona             katie hobbs  democratic    sos   \n",
       "3         arkansas  sarah huckabee sanders  republican  inaug   \n",
       "4       california            gavin newsom  democratic  inaug   \n",
       "5         colorado             jared polis  democratic    sos   \n",
       "6      connecticut              ned lamont  democratic    sos   \n",
       "7         delaware             john carney  democratic    sos   \n",
       "8          florida            ron desantis  republican    NaN   \n",
       "9          georgia              brian kemp  republican    NaN   \n",
       "10          hawaii              josh green  democratic    sos   \n",
       "11           idaho             brad little  republican    sos   \n",
       "12        illinois             jb pritzker  democratic    NaN   \n",
       "13         indiana            eric holcomb  republican    NaN   \n",
       "14            iowa            kim reynolds  republican    NaN   \n",
       "15          kansas             laura kelly  democratic    sos   \n",
       "16        kentucky            andy beshear  democratic    sos   \n",
       "17       louisiana        john bel edwards  democratic    NaN   \n",
       "18           maine             janet mills  democratic    NaN   \n",
       "19        maryland               wes moore  democratic    NaN   \n",
       "20   massachusetts            maura healey  democratic    NaN   \n",
       "21        michigan        gretchen whitmer  democratic    NaN   \n",
       "22       minnesota                tim walz  democratic    NaN   \n",
       "23     mississippi             tate reeves  republican    NaN   \n",
       "24        missouri             mike parson  republican    sos   \n",
       "25         montana          greg gianforte  republican    NaN   \n",
       "26        nebraska              jim pillen  republican    NaN   \n",
       "27          nevada            joe lombardo  republican    NaN   \n",
       "28   new hampshire            chris sununu  republican    NaN   \n",
       "29      new jersey             phil murphy  democratic    NaN   \n",
       "30      new mexico  michelle lujan grisham  democratic    NaN   \n",
       "31        new york            kathy hochul  democratic    NaN   \n",
       "32  north carolina              roy cooper  democratic    NaN   \n",
       "33    north dakota             doug burgum  republican    sos   \n",
       "34            ohio             mike dewine  republican    NaN   \n",
       "35        oklahoma             kevin stitt  republican    NaN   \n",
       "36          oregon              tina kotek  democratic    NaN   \n",
       "37    pennsylvania            josh shapiro  democratic    NaN   \n",
       "38    rhode island               dan mckee  democratic    NaN   \n",
       "39  south carolina          henry mcmaster  republican    NaN   \n",
       "40    south dakota             kristi noem  republican    NaN   \n",
       "41       tennessee                bill lee  republican    NaN   \n",
       "42           texas             greg abbott  republican    NaN   \n",
       "43            utah             spencer cox  republican    sos   \n",
       "44         vermont              phil scott  republican    NaN   \n",
       "45        virginia          glenn youngkin  republican    NaN   \n",
       "46      washington              jay inslee  democratic    NaN   \n",
       "47   west virginia             jim justice  republican    NaN   \n",
       "48       wisconsin              tony evers  democratic    NaN   \n",
       "49         wyoming             mark gordon  republican    NaN   \n",
       "\n",
       "                                                 text  \n",
       "0   Page 1 of 8     2023 STATE OF THE STATE ADDRES...  \n",
       "1   Governor Dunleavy’s 2023 State of the State Ad...  \n",
       "2   Good afternoon, Chief Justice Brutinel, Secret...  \n",
       "3   LITTLE ROCK, Ark.— Today, Governor Sarah Hucka...  \n",
       "4   Watch Governor Newsom’s swearing-in and inaugu...  \n",
       "5   ForMedia-2023-StateOfState-GovernorPolis-AsPre...  \n",
       "6   \\r\\n01/03/2023              2023 State of the ...  \n",
       "7    January 19, 2023 As prepared for delivery #DE...  \n",
       "8                                                 NaN  \n",
       "9                                                 NaN  \n",
       "10   1 of 17   1 of 17   “ACTION ROOTED IN VALUES”...  \n",
       "11  Page 1 of 11    2 0 23  ST ATE OF  THE  ST ATE...  \n",
       "12                                                NaN  \n",
       "13                                                NaN  \n",
       "14                                                NaN  \n",
       "15  Governor Kelly Delivers Her 2023 State of the ...  \n",
       "16  Microsoft Word - 20230104_Gov-Beshear_State-of...  \n",
       "17                                                NaN  \n",
       "18                                                NaN  \n",
       "19                                                NaN  \n",
       "20                                                NaN  \n",
       "21                                                NaN  \n",
       "22                                                NaN  \n",
       "23                                                NaN  \n",
       "24  1  Missouri Governor — Michael L. Parson Offic...  \n",
       "25                                                NaN  \n",
       "26                                                NaN  \n",
       "27                                                NaN  \n",
       "28                                                NaN  \n",
       "29                                                NaN  \n",
       "30                                                NaN  \n",
       "31                                                NaN  \n",
       "32                                                NaN  \n",
       "33  1     State of the State Address January 3, 20...  \n",
       "34                                                NaN  \n",
       "35                                                NaN  \n",
       "36                                                NaN  \n",
       "37                                                NaN  \n",
       "38                                                NaN  \n",
       "39                                                NaN  \n",
       "40                                                NaN  \n",
       "41                                                NaN  \n",
       "42                                                NaN  \n",
       "43               2023 State of the State Address U...  \n",
       "44                                                NaN  \n",
       "45                                                NaN  \n",
       "46                                                NaN  \n",
       "47                                                NaN  \n",
       "48                                                NaN  \n",
       "49                                                NaN  "
      ]
     },
     "execution_count": 86,
     "metadata": {},
     "output_type": "execute_result"
    }
   ],
   "source": [
    "# scrape and add to the df \n",
    "df = scrape_connecticut(link = 'https://portal.ct.gov/Office-of-the-Governor/News/Speeches/Governor-Lamont-2023-State-of-the-State-Address',\n",
    "                 state = 'connecticut', \n",
    "                 release_type = 'sos',\n",
    "                 class_ = 'content')\n",
    "# df"
   ]
  },
  {
   "cell_type": "markdown",
   "id": "8c0b95f1",
   "metadata": {
    "heading_collapsed": true
   },
   "source": [
    "## Florida \n",
    "[Website](https://www.flgov.com/2023/01/03/governor-desantis-delivers-inaugural-address-sets-priorities-for-second-term/)"
   ]
  },
  {
   "cell_type": "code",
   "execution_count": 98,
   "id": "d5a56382",
   "metadata": {
    "hidden": true
   },
   "outputs": [],
   "source": [
    "# use the customized BeautifulSoup function to scrape the Florida website \n",
    "df = scrape_content(link = 'https://www.flgov.com/2023/01/03/governor-desantis-delivers-inaugural-address-sets-priorities-for-second-term/',\n",
    "                 state = 'florida', \n",
    "                 release_type = 'sos',\n",
    "                 html1 = 'tbody',\n",
    "                 html2= 'p')"
   ]
  },
  {
   "cell_type": "markdown",
   "id": "413b7894",
   "metadata": {
    "heading_collapsed": true
   },
   "source": [
    "## Georgia\n",
    "[Website](https://gov.georgia.gov/press-releases/2023-01-25/governor-brian-p-kemps-2023-state-state-address)"
   ]
  },
  {
   "cell_type": "code",
   "execution_count": 99,
   "id": "5bac2da0",
   "metadata": {
    "hidden": true
   },
   "outputs": [],
   "source": [
    "# use the customized BeautifulSoup function to scrape the Georgia website \n",
    "df = scrape_content(link = 'https://gov.georgia.gov/press-releases/2023-01-25/governor-brian-p-kemps-2023-state-state-address',\n",
    "                 state = 'georgia', \n",
    "                 release_type = 'sos',\n",
    "                 html1 = 'main',\n",
    "                 html2= 'p', \n",
    "                 class_ = 'content-page__main')"
   ]
  },
  {
   "cell_type": "markdown",
   "id": "9d9df4b7",
   "metadata": {
    "heading_collapsed": true
   },
   "source": [
    "## Illinois\n",
    "[Website](https://www.illinois.gov/news/press-release.26065.html)"
   ]
  },
  {
   "cell_type": "code",
   "execution_count": 142,
   "id": "e451f74c",
   "metadata": {
    "hidden": true
   },
   "outputs": [],
   "source": [
    "# use the customized BeautifulSoup function to scrape the Illinois website \n",
    "df = scrape_content(link = 'https://www.illinois.gov/news/press-release.26065.html',\n",
    "                 state = 'illinois', \n",
    "                 release_type = 'sos',\n",
    "                 html1 = 'div', \n",
    "                 html2 = 'div',\n",
    "                 class_ = 'press-release aem-GridColumn--default--none aem-GridColumn--phone--12 aem-GridColumn--default--9 aem-GridColumn--phone--newline aem-GridColumn aem-GridColumn--offset--phone--0 aem-GridColumn--offset--default--0')"
   ]
  },
  {
   "cell_type": "markdown",
   "id": "d8c1af87",
   "metadata": {
    "heading_collapsed": true
   },
   "source": [
    "## Indiana\n",
    "[Website](https://www.in.gov/gov/newsroom/2023-state-of-the-state-address/)"
   ]
  },
  {
   "cell_type": "code",
   "execution_count": 33,
   "id": "a437c4ec",
   "metadata": {
    "hidden": true
   },
   "outputs": [],
   "source": [
    "# use the customized BeautifulSoup function to scrape the Indiana website \n",
    "df = scrape_content(link = 'https://www.in.gov/gov/newsroom/2023-state-of-the-state-address/',\n",
    "                 state = 'indiana', \n",
    "                 release_type = 'sos',\n",
    "                 html1 = 'section', \n",
    "                 id_info = 'content_container_649017',\n",
    "                 html2 = 'p')"
   ]
  },
  {
   "cell_type": "markdown",
   "id": "bfcb83c1",
   "metadata": {
    "heading_collapsed": true
   },
   "source": [
    "## Iowa\n",
    "[Website](https://governor.iowa.gov/press-release/2023-01-10/gov-reynolds-delivers-2023-condition-state)"
   ]
  },
  {
   "cell_type": "code",
   "execution_count": 39,
   "id": "f83e534e",
   "metadata": {
    "hidden": true
   },
   "outputs": [],
   "source": [
    "# use the customized BeautifulSoup function to scrape the Iowa website \n",
    "df = scrape_content(link = 'https://governor.iowa.gov/press-release/2023-01-10/gov-reynolds-delivers-2023-condition-state',\n",
    "                 state = 'iowa', \n",
    "                 release_type = 'sos',\n",
    "                 html1 = 'div', \n",
    "                 class_ = 'clearfix text-formatted field field--name-field-news__body field--type-text-long field--label-hidden field__item',\n",
    "                 html2 = 'p') "
   ]
  },
  {
   "cell_type": "markdown",
   "id": "396c8747",
   "metadata": {
    "heading_collapsed": true
   },
   "source": [
    "## Louisiana\n",
    "[Website (archived)](https://web.archive.org/web/20230903094025/https://gov.louisiana.gov/index.cfm/newsroom/detail/4057)"
   ]
  },
  {
   "cell_type": "code",
   "execution_count": 109,
   "id": "82414317",
   "metadata": {
    "hidden": true
   },
   "outputs": [],
   "source": [
    "# accessed archived site using web.archive.org since the Governor is new in 2024\n",
    "# use the customized BeautifulSoup function to scrape the archived site\n",
    "df = scrape_content(link = 'https://web.archive.org/web/20230903094025/https://gov.louisiana.gov/index.cfm/newsroom/detail/4057',\n",
    "                 state = 'louisiana', \n",
    "                 release_type = 'sos',\n",
    "                 html1 = 'div', \n",
    "                 class_ = 'col-md-8 main-content',\n",
    "                 html2 = 'p') "
   ]
  },
  {
   "cell_type": "markdown",
   "id": "9306eae1",
   "metadata": {
    "heading_collapsed": true
   },
   "source": [
    "## Maine\n",
    "PDF"
   ]
  },
  {
   "cell_type": "code",
   "execution_count": null,
   "id": "e21fa378",
   "metadata": {
    "hidden": true
   },
   "outputs": [],
   "source": [
    "# Added from PDF form (not completed in previous notebook)\n",
    "df = add_pdf_to_df('maine', 'inaug')"
   ]
  },
  {
   "cell_type": "markdown",
   "id": "f3401fb6",
   "metadata": {
    "heading_collapsed": true
   },
   "source": [
    "## Maryland\n",
    "[Website](https://governor.maryland.gov/news/press/pages/Governor-Wes-Moore-Delivers-His-First-State-of-the-State-Address.aspx)"
   ]
  },
  {
   "cell_type": "code",
   "execution_count": 111,
   "id": "8d88b008",
   "metadata": {
    "hidden": true
   },
   "outputs": [],
   "source": [
    "# use the customized BeautifulSoup function to scrape the Maryland website \n",
    "df = scrape_content(link = 'https://governor.maryland.gov/news/press/pages/Governor-Wes-Moore-Delivers-His-First-State-of-the-State-Address.aspx',\n",
    "                 state = 'maryland', \n",
    "                 release_type = 'sos',\n",
    "                 html1 = 'div', \n",
    "                 class_ = 'mdg-pressRelease-content',\n",
    "                 html2 = 'p') "
   ]
  },
  {
   "cell_type": "markdown",
   "id": "17a486ff",
   "metadata": {
    "heading_collapsed": true
   },
   "source": [
    "## Massachusetts\n",
    "[Website](https://www.wbur.org/news/2023/01/05/read-healey-inauguration-remarks-transcript)"
   ]
  },
  {
   "cell_type": "code",
   "execution_count": 112,
   "id": "08b4a50f",
   "metadata": {
    "hidden": true
   },
   "outputs": [],
   "source": [
    "# Note that this versino was published via local news and not the Governor's website \n",
    "# use the customized BeautifulSoup function to scrape \n",
    "df = scrape_content(link = 'https://www.wbur.org/news/2023/01/05/read-healey-inauguration-remarks-transcript',\n",
    "                 state = 'massachusetts', \n",
    "                 release_type = 'inaug',\n",
    "                 html1 = 'section', \n",
    "                 class_ = 'article-section--content hang-punctuation article-section--first article-section--centered article-sections',\n",
    "                 html2 = 'p') "
   ]
  },
  {
   "cell_type": "markdown",
   "id": "ddf0945c",
   "metadata": {
    "heading_collapsed": true
   },
   "source": [
    "## Michigan\n",
    "[Website](https://www.michigan.gov/whitmer/news/press-releases/2023/01/25/governor-whitmers-2023-state-of-the-state-address-as-prepared-for-delivery)"
   ]
  },
  {
   "cell_type": "code",
   "execution_count": 113,
   "id": "18da3ddc",
   "metadata": {
    "hidden": true
   },
   "outputs": [],
   "source": [
    "# use the customized BeautifulSoup function to scrape the Michigan website \n",
    "df = scrape_content(link = 'https://www.michigan.gov/whitmer/news/press-releases/2023/01/25/governor-whitmers-2023-state-of-the-state-address-as-prepared-for-delivery',\n",
    "                 state = 'michigan', \n",
    "                 release_type = 'sos',\n",
    "                 html1 = 'div', \n",
    "                 class_ = 'news-item__section-content',\n",
    "                 html2 = 'p') "
   ]
  },
  {
   "cell_type": "markdown",
   "id": "69c86653",
   "metadata": {
    "heading_collapsed": true
   },
   "source": [
    "## Minnesota\n",
    "PDF"
   ]
  },
  {
   "cell_type": "code",
   "execution_count": 9,
   "id": "623d207b",
   "metadata": {
    "hidden": true
   },
   "outputs": [],
   "source": [
    "# Added from PDF form (not completed in previous notebook)\n",
    "df = add_pdf_to_df('minnesota', 'sos')"
   ]
  },
  {
   "cell_type": "markdown",
   "id": "d1d83e0e",
   "metadata": {
    "heading_collapsed": true
   },
   "source": [
    "## Mississippi\n",
    "[Website](https://mississippitoday.org/2023/01/30/tate-reeves-2023-state-of-the-state/)"
   ]
  },
  {
   "cell_type": "code",
   "execution_count": 38,
   "id": "b1793d9c",
   "metadata": {
    "hidden": true
   },
   "outputs": [
    {
     "data": {
      "text/plain": [
       "<selenium.webdriver.remote.webelement.WebElement (session=\"3db9e42a9de6e04375d73f21aef4204f\", element=\"787A619122493F11AD8ABA7CA2F93A81_element_11\")>"
      ]
     },
     "execution_count": 38,
     "metadata": {},
     "output_type": "execute_result"
    },
    {
     "data": {
      "text/plain": [
       "['Gov. Tate Reeves, a first-term Republican, delivered his annual State of the State address on Jan. 30, 2023.',\n",
       " 'Below is the transcript of Reeves’ speech, which aired live on Mississippi Public Broadcasting.',\n",
       " 'Editor’s note: This transcript was submitted by Reeves’ staff and has not been formatted to match Mississippi Today’s style.',\n",
       " 'WATCH: Gov. Tate Reeves’ full State of the State address.',\n",
       " 'Thank you, Lieutenant Governor Hosemann and Speaker Gunn.',\n",
       " 'To the members of the legislature and other elected officials here tonight, thank you. Thank you for your continued partnership and thank you for the tireless work you do on behalf of our great state and her people.',\n",
       " 'I also have to take a moment to thank my beautiful wife and Mississippi’s outstanding First Lady, Elee. She’s an incredible wife, an awesome mom, and a wonderful representative for our state. I’m amazed daily by your grace and your kindness, and I’m so thankful to have you in my life every single day.',\n",
       " 'Finally and most importantly, I have to thank the three million Mississippians who have helped our state usher in an unprecedented period of economic growth, educational achievement, and freedom.',\n",
       " '2022 was perhaps the best year in Mississippi’s history. Because, here in Mississippi and unlike in Washington, D.C., we still have the incredible capacity to work together and accomplish great things for our constituents.',\n",
       " 'The sense that our state is one big, small town binds us and it furthers a sense of optimism that we can still work together here and deliver results on behalf of our people.',\n",
       " 'The people of Mississippi are our state’s strength. It is because of your hard work that our state is primed and ready to face the challenges of tomorrow.',\n",
       " 'It is because of your work ethic and your commitment to excellence that more and more companies are choosing to do business in Mississippi and that our state’s brightest days lie in front of us.',\n",
       " 'It has been the privilege of a lifetime to serve as your governor over the last three years. I haven’t taken it for granted for one second, and I promise you that I never will. It is truly an honor to wake up each and every day and get to work on your behalf, and I look forward to making even bigger things happen in this great state.',\n",
       " 'Now, over these years some days have been more challenging than others. But no matter what’s thrown at Mississippi, I thank God each night that I have the chance to live, work, and serve alongside of you. There is no place I would have rather weathered tornadoes, floods, hurricanes, or a global pandemic than right here in Mississippi.',\n",
       " 'But Mississippi – and I think you’ll agree too – means more than simply a place to batten down the hatches during natural disasters.',\n",
       " 'Mississippi is all of our home. Our state is filled with natural beauty and friendly people. I, like so many of y’all today, am grateful to be raised in this loving community.',\n",
       " 'I’m proud to be a Mississippian, and I’m proud of the life lessons I’ve learned from the people I’ve met along the way.',\n",
       " 'One of those people, is my hero – my dad. Now, I don’t remember the first time I met him because I was only a few minutes old. But I do remember some of the lessons he taught me, especially when it comes to the value of hard work.',\n",
       " 'My father grew up in a two-room home with five brothers and five sisters in Bogue Chitto. He started a small business in the early 70’s and spent many, many nights sweeping the dirt floors and praying for his next clients.',\n",
       " 'Like entrepreneurs across Mississippi, he spent his life growing that business. Only in America could the son of that man stand here today as the governor of this great state. It is the American Dream, and the lessons I learned from him have inspired everything that I’ve done.',\n",
       " 'I’ve tried my best to take those lessons with me over the years and incorporate them into everything that I do. I’ve leaned on them when times were good, and I’ve leaned on them when times were bad.',\n",
       " 'They’ve helped to keep me grounded and to remember what’s really important in life. They’ve helped me govern, and they’ve helped me keep perspective.',\n",
       " 'Today, it’s a cold-hard-fact that really, really good things are happening in Mississippi. And it’s my honor to stand before you today and announce that the state of our state is stronger than ever.',\n",
       " 'Our state is strong because our people and my administration are laser focused on the issues that matter to Mississippians.',\n",
       " 'As you’ve heard me say before, the way we measure success is in the wages of our workers, the success of our students, and winning the war on our values.',\n",
       " 'Mississippi is hitting the target on all three of these fronts.',\n",
       " 'First, wages. Since 2019, we’ve raised per capita personal income in Mississippi by approximately $7,000 or almost 18%. We are boosting the money that Mississippi families are bringing home – especially right now, as we combat rising inflation from wasteful spending in Washington, D.C.',\n",
       " 'This wasn’t by accident. We were able to accomplish this momentous feat because we never wavered from the tried and true economic and fiscally conservative principles that have set up states for growth for generations. And we were able to accomplish this despite the left’s best attempts to grow government.',\n",
       " 'Our conservative reforms and sound budget management have laid the foundation for this economic boom. It’s the policies of yesterday that have paved the pathway to today’s prosperity.',\n",
       " 'It’s led us to a $4 billion budget surplus. $4 billion!',\n",
       " 'It’s led to investing a historic amount in jobs training, and because of that we have the lowest unemployment rate in our state’s history.',\n",
       " 'It resulted in a record $6 billion in new capital investment in 2022, which is more than seven times the previous average of approximately $900 million a year before I became governor.',\n",
       " 'And it helped us finalize the largest economic development project in Mississippi history – a $2.5 billion capital investment that will create 1,000 new jobs with an average salary of almost $100,000 a year.',\n",
       " 'But we had more than just one major economic deal. That grand slam was great, but there were dozens and dozens of projects impacting every corner of our state over the last year. The fact is that thanks to our singles and our doubles, Mississippi is starting to run up the scoreboard.',\n",
       " 'Last year we announced a $2 million investment that will create 117 new upholstery jobs in New Albany.',\n",
       " 'We announced a $79 million investment that will create 21 new operations jobs in Pelahatchie.',\n",
       " 'We announced a $51 million investment that will create 41 new manufacturing jobs in Winona.',\n",
       " 'Canton, Philadelphia, Bay Springs, Columbus, Starkville, Southaven, Meridian, Calhoun, Waynesboro, Vicksburg, Olive Branch, and Corinth – just to name a few of the places that we announced investments this last year.',\n",
       " 'My friends, when it comes to setting up our people and state for more economic prosperity, we are, by every objective standard, getting the job done.',\n",
       " 'We are boosting salaries and we are expanding the tax base. And we are investing in the areas that will provide our state with the highest return – our people.',\n",
       " 'I want our state to go even further in supporting Mississippians. Our state is in the best fiscal shape we’ve ever been in, and our state is in the best financial shape in history and our residents deserve to get a bigger piece of the pie.',\n",
       " 'We can and should do more to put additional dollars into the pockets of Mississippians. We will do this, by eliminating our state’s income tax once and for all.',\n",
       " 'We can do this and we can do this without raising other taxes. You’ve heard me say this before, but I’m going to keep saying it because it’s that important: government doesn’t have anything that it doesn’t first take from somebody else.',\n",
       " 'I believe that Mississippians not politicians or the government know best how to spend their dollars. I also believe that those who have competitive advantages win.',\n",
       " 'We have a competitive advantage in our people. We need to add another competitive advantage with our tax code.',\n",
       " 'To build the best possible environment for entrepreneurs, to combat President Biden’s runaway inflation, to compete with the likes of Florida, Tennessee and Texas, to continue making it easier for Mississippians to support their families, we must eliminate Mississippi’s income tax.',\n",
       " 'That’s why last year I was so proud to sign into law the largest tax cut in Mississippi history, which returned over half a billion dollars to Mississippians.',\n",
       " 'That’s more dollars in your pocket, more dollars in your kids’ college funds, more dollars put toward buying a home or retirement, and more dollars for you to spend on your priorities. Not politicians’ pet projects.',\n",
       " 'I’m proud of what we accomplished. But I’m even more fired up to keep the tax cuts coming. You have my word that as long as I’m governor, I’m going to continue relentlessly fighting for permanent, long-term tax relief that lets you keep more of your own hard-earned money.',\n",
       " 'But Mississippi isn’t just witnessing historic achievements in our state’s economy. We’re also seeing it in classrooms across our state.',\n",
       " 'A little over a week ago we announced – for the third time since I’ve been governor – that Mississippi’s high school graduation rate hit an all-time high and continues to be better than the national average.',\n",
       " 'And like our state’s economic growth, our education improvements didn’t happen by accident.',\n",
       " 'Our state’s stellar report card didn’t just appear out of thin air.',\n",
       " 'Mississippi insisted on getting kids back into school when other blue states stayed closed, and now we have the best education numbers in our state’s history!',\n",
       " 'The year Philip Gunn and I first presided over a State of the State in 2012, Mississippi was dead last in fourth grade math. Now, we’re above the national average at Number 23.',\n",
       " 'That means that over the last ten years since we passed education reform, Mississippi surpassed half the states in the nation.',\n",
       " 'We’ve gone from needs improvement to most improved.',\n",
       " 'We’ve led the nation in fourth grade reading and fourth grade math gains.',\n",
       " 'And students from all walks of life are finding more success in Mississippi. In 2003, Mississippi was among the worst performers when it came to test scores for Black students. Today we’re fifth in the entire nation when it comes to fourth grade reading test scores for Black students. Fifth in the entire nation!',\n",
       " 'So, when some people say, “Mississippi is last in education,” folks, they’re just not telling you the truth.',\n",
       " 'I want to personally thank all the legislators that played a role in helping to pass those education reforms. I also want to thank all the involved parents and dedicated teachers across Mississippi. We couldn’t have accomplished these goals without you.',\n",
       " 'Our state – unlike some others that have been in the news – recognizes that we have a duty to both. We should ensure that parents continue to play an active role in their kids’ education, and we should ensure that teachers are paid what they deserve.',\n",
       " 'It is my firm belief that Mississippi has some of the best teachers in the nation, and their salaries should reflect that.',\n",
       " 'That’s why I was proud to sign legislation giving Mississippi teachers the largest pay raise in state history. We elevated teacher salaries above not only the Southeastern average, but even above the national average!',\n",
       " 'Mississippi’s teachers earned those raises, and I was proud to sign them into law.',\n",
       " 'But regardless of the technology or textbooks we put in front of our kids, nothing is more influential to a child’s educational development than parents.',\n",
       " 'And when it comes to education, Mississippi should protect parents’ voices and their right to be involved in the classroom. Because at the end of the day, the state doesn’t run a child’s life – parents do. We need more transparency in schools in this country. We need more choice. We need more freedom. That will be the best way to protect our children.',\n",
       " 'I’ve been shocked to see how some states have embraced the misguided practice of pushing parents out of the classroom, pushing parents out of their children’s lives, and pushing parents out of the school board decision-making process.',\n",
       " 'Nobody, and I mean nobody, is more invested in the life and the future of a child than a parent. They shouldn’t be labeled as domestic terrorists for simply asking questions or for attending a school board meeting. They should be celebrated for being invested in their child’s education.',\n",
       " 'As a father myself, I want schools across Mississippi to complement the lessons parents are trying to teach at home, not reject them. That’s exactly why I am calling on the legislature to pass a Parents’ Bill of Rights this session.',\n",
       " 'Through the Parents’ Bill of Rights, we will reaffirm that in Mississippi, it is the state who answers to parents and not vice versa.',\n",
       " 'This Parents’ Bill of Rights would further cement that when it comes to the usage of names, pronouns, or health matters, schools will adhere to the will of parents. There is no room in our schools for policies that attempt to undercut parents and require the usage of pronouns or names that fail to correspond with reality.',\n",
       " 'I am proud to be governor, but the greatest pride in my life is being the dad of three wonderful girls. There are few things I love more than having the chance to cheer them on from the sidelines at their soccer or basketball games.',\n",
       " 'That’s why I’m especially proud to have signed legislation that ensured, that in Mississippi, we’re going to let boys play boys sports, and girls play girls sports. I didn’t do this just for my daughters, I did this for all of Mississippi’s daughters.',\n",
       " 'But we need to do even more to protect Mississippi’s children. We have a duty to keep pushing back against those that are taking advantage of children and using them to advance their sick and twisted ideologies.',\n",
       " 'There was a time in America when saying to kids ‘you can be whatever you want when you grow up’ meant that one day they could become a teacher, police officer, or fire fighter. A professional athlete, a doctor, or even a lawyer. That if you push yourself, there is nothing you can’t accomplish.',\n",
       " 'But today, there is a dangerous and radical movement that is now being pushed upon America’s kids. It threatens the very nature of truth. Across the country, activists are advancing untested experiments and persuading kids that they can live as a girl if they’re a boy, and that they can live as a boy if they’re a girl. And they’re telling them to pursue expensive, radical medical procedures to advance that lie.',\n",
       " 'These radical liberals are attempting to undermine objective, scientific truths. They’re trying to undermine how we view gender and even manipulate English words and grammar rules. From their illogical pronouns to their attempts at pushing the word Latinx onto the Hispanic community – they don’t care about the destruction they’re causing or whether they have the support of those they’re trying to group or label. Rather, they’re tyrannical in their approach to these issues and their unceasing attempts to have them adopted by society.',\n",
       " 'And let’s be honest, America stands essentially alone in the truly outrageous position that we’ve staked out on this issue. While some in our country push surgical mutilation onto 11 year olds even here in Mississippi, even liberal darlings like Finland, Denmark, and Sweden don’t allow these surgeries to be performed on kids who are under 18.',\n",
       " 'The fact is that we set age restrictions on driving a car and on getting a tattoo. We don’t let 11 year olds enter an R-rated movie alone, yet some would have us believe that we should push permanent body-altering surgeries on them at such a young age.',\n",
       " 'Mississippi must continue to do everything in our power to counter those who want to push their experiments on our kids. Time is of the essence, and we don’t have a second to waste. We must take every step to preserve the innocence of our children, especially against the cruel forces of modern progressivism which seek to use them as guinea pigs in their sick social experiments.',\n",
       " 'Let me be clear to those radical activists around the nation who want to do our kids harm.',\n",
       " 'Mississippi will not be trading compassion for compliance.',\n",
       " 'Our voices will not be silenced when it comes to science.',\n",
       " 'We will not be pressured into not asking questions.',\n",
       " 'And we will not give in to liberal intimidation when it comes to protecting our kids.',\n",
       " 'This is my promise to every Mississippian across our state.',\n",
       " 'There is also another way we are going to keep our kids safe, and it includes keeping their parents safe as well.',\n",
       " 'One of the most fundamental responsibilities of government is to ensure public safety and to uphold law and order.',\n",
       " 'I ran for governor to fix Mississippi’s problems, not to hide them. That’s why I’ve become increasingly concerned that, for three consecutive years now, homicides have numbered in the triple digits here in our capital city. We can and must do better.',\n",
       " 'The fact is, no matter how hard we try, there will always be evil in the world. There are those who lurk in the shadows seeking to hurt those around them. There are those who seek to inject drugs and crime into their communities, all so they can make a buck.',\n",
       " 'These actions undermine social cohesion and safety in our neighborhoods. They threaten the lives of our kids and the safety of our families.',\n",
       " 'To put it mildly, the crime situation in Jackson is unacceptable. Kids are getting killed in our streets and it’s time we put a stop to it.',\n",
       " 'Now, some have suggested that the response should be to undercut, defund, and dismantle the police. I couldn’t disagree more.',\n",
       " 'Many of us have family and friends who wear the badge. It’s worth constantly reminding ourselves that these individuals are the thin blue line which helps hold communities together.',\n",
       " 'In Mississippi we choose to fund the police. We choose to back the blue. We choose to celebrate the brave men and women who put on the badge every day and run towards danger. That’s exactly what Mississippi has done, and that’s exactly what Mississippi will continue to do.',\n",
       " 'Last year, the Mississippi Department of Public Safety conducted two major surges of law enforcement personnel – one in Jackson and one along our Gulf Coast. We flexed law enforcement in the areas and helped to shut down criminal elements in the regions. And while those surges proved to be successful, we still have more work to do.',\n",
       " 'That’s why this session, I’m calling on the legislature to make further investment into our Capitol Police by giving them the 150 officers and equipment they need to continue fulfilling their mission and continue pushing back on lawlessness in Jackson.',\n",
       " 'And let me say this as well, my administration will go after all crime within our jurisdiction. Regardless of the crime committed, regardless of who did it, regardless if it happened on the street or in an office building, my administration is and will continue to hold criminals accountable.',\n",
       " 'That’s why my administration remains committed to delivering justice and recouping every dollar possible from those who stole from Mississippians through the theft of TANF dollars.',\n",
       " 'Again, I ran for governor to fix Mississippi’s problems, not to hide them. Which brings me to my next area of focus – our state’s healthcare system.',\n",
       " 'Mississippi is not immune to the struggles facing healthcare systems across the country. Together, we should keep working to improve Mississippians’ access to quality healthcare, and together, we should keep working to ensure Mississippi’s healthcare system meets the needs of our people.',\n",
       " 'It starts with leveling the playing field. Most people do not know that it is illegal to open a new health care facility that competes with other institutions. We are all frustrated and worried by the threats that some hospitals may close. The first step should be allowing new ones to open! By reforming Mississippi’s Certificate of Need laws, we can root out anti-competitive behavior that blocks the formation of medical facilities and prevents the delivery of lifesaving healthcare to Mississippians.',\n",
       " 'We should continue to strengthen the pipeline of medical professionals by doubling and tripling down on our improved workforce development strategy, and we should pass legislation that levels the playing field for hospitals with expanded residency programs.',\n",
       " 'Because, at the end of the day, the real answers to our problems are not contained in the same old proposals that only serve to delay the inevitable at the expense of taxpayers. The real answer to our problems lies in innovation.',\n",
       " 'Technology is changing, and the way healthcare is delivered is changing. Our policies must adapt with the times and facilitate care that focuses not on institutions but on the patients we seek to support.',\n",
       " 'Throughout modern history we’ve witnessed innovation disrupt industries such as manufacturing, transportation, food, and entertainment. There was a time when people had to go to the theater to watch a movie. Today, they can watch them at home and on an airplane. On cable TV, Netflix, and every streaming service in between.',\n",
       " 'The fact of the matter is that technology and innovation lead to new opportunities. The same can be said of our healthcare system.',\n",
       " 'There was a time when if you needed medical services, you had to go to a large brick and mortar hospital – that was your only choice. But today, people are increasingly choosing new healthcare distribution channels over your traditional hospital. Today, people are accessing healthcare through telemedicine providers, micro-hospitals, urgent care facilities, and expanded care opportunities with nurse practitioners, pharmacists, and others.',\n",
       " 'This legislative session, I urge the legislature to think outside the box when it comes to improving Mississippi’s healthcare system. Don’t simply cave under the pressure of Democrats and their allies in the media who are pushing for the expansion of Obamacare, welfare, and socialized medicine.',\n",
       " 'Instead, seek innovative free market solutions that disrupt traditional healthcare delivery models, increase competition, and lead to better health outcomes for Mississippians.',\n",
       " 'Do not settle for something that won’t solve the problem because it could potentially and only temporarily remove the liberal media’s target on your back.',\n",
       " 'You have my word that if you stand up to the left’s push for endless government-run healthcare, I will stand with you.',\n",
       " 'For as dire as national politics sometimes seem, there’s still a tremendous amount of hope in Mississippi.',\n",
       " 'There really are incredible things happening here. And I’m talking about far more than our state winning its second college baseball national championship in a row, as incredible as that was.',\n",
       " 'Last year, Mississippi led the nation to overturn Roe v. Wade – the greatest accomplishment in the conservative movement in my lifetime.',\n",
       " 'Long story short, more innocent children will now have the chance to be born.',\n",
       " 'There are future doctors who now have the chance to be born. There are future teachers that now have the chance to be born. There are future nurses, future linemen, and future truckers. There are future fathers and future mothers, friends and family, brothers and sisters. They all now have the chance at life.',\n",
       " 'And there may very well even be a life that was saved who, a few years from now, will stand up here and give his or her update on the State of our State. What a wonderful blessing that would be.',\n",
       " 'But the fact is that being pro-life is about more than just being anti-abortion. We don’t just want to eliminate the taking of unborn children’s lives, we want to make it easier for parents to raise children and for mothers to give birth to happy and healthy kids.',\n",
       " 'Now some have said that too many children will be added to Mississippi’s population. I say what a wonderful problem to have. On this point I agree with Mother Teresa when she said, ‘How can there be too many children? That is like saying there are too many flowers.’',\n",
       " 'But I also recognize we are called to do more and to support these new moms and new babies.',\n",
       " 'And I want every element of our laws to reflect and facilitate this critical mission.',\n",
       " 'That’s why I’m also calling on the legislature to establish a New Pro-Life Agenda that helps make Mississippi the easiest place in the nation to raise a family.',\n",
       " 'Together, we can prove the country wrong just like we did in education. Just like we led the nation in overturning Roe, we can lead the nation in supporting mothers and babies.',\n",
       " 'This session, Mississippi should establish a childcare tax credit and allow Mississippi families to write off childcare supplies on state tax returns.',\n",
       " 'We should increase our support for pregnancy resource centers and thus help to care for expectant and new mothers, especially those who are struggling with poverty or isolation.',\n",
       " 'We should expand childcare opportunities by cutting red tape. There’s no reason that we should let government get in the way of parents accessing care for their children.',\n",
       " 'We should expand safe haven laws, so parents have every available opportunity to choose life.',\n",
       " 'We should reduce the existing adoption backlogs and make it easier and less expensive for parents to adopt kids into a loving forever home.',\n",
       " 'And we should update our child support laws so that fathers must support their children from the moment their life begins – at conception.',\n",
       " 'This is our New Pro-Life Agenda. As I’ve said before, it will not be easy, and it will not be free. But I know that together, we are going to get the job done and deliver the support Mississippi mothers and babies deserve.',\n",
       " 'My fellow Mississippians, it’s been quite the year for our state. We’ve had moments of triumph and moments of anguish. But through it all, we’ve emerged stronger, together.',\n",
       " 'We know where Mississippi has been, and we know where Mississippi is going. Regardless of the unfair stereotypes placed upon our state and her people, we know good things are happening here.',\n",
       " 'Is our state perfect? Of course not. But besides heaven, no place is.',\n",
       " 'We know what’s happening on the ground here. We know it because we are seeing it. Whether it’s the record investment or all-time low unemployment, the all-time high graduation rate or standing up to the radical left’s war on our values – Mississippi is winning, and our state is on the rise.',\n",
       " 'That’s why I urge all of you here today to stand with me and call out the lies when they are thrown at all of us.',\n",
       " 'We can never give into the cynics who seek to tear down our great state.',\n",
       " 'We can never give into Joe Biden and the national Democrats who seek to force feed us an unhealthy dose of progressivism because they view Mississippians as neanderthals.',\n",
       " 'And we can never give into those who want us to live in a perpetual state of self-condemnation.',\n",
       " 'My friends, I am proud to serve as Mississippi’s 65th governor but I’m even prouder to call myself a Mississippian.',\n",
       " 'The eyes of our state are turned to the future, and that’s why I will continue to reject those who would seek to divide and separate us. Instead, on behalf of all Mississippi, I am proud to pronounce once more that we are all Mississippians, committed to improving this home that we love.',\n",
       " 'We are blessed to live in a wonderful state. We are blessed to have wonderful neighbors. We are blessed by one common God who smiles down upon Mississippi.',\n",
       " 'I have no doubt that our future is brighter than ever before and that, together, we will continue to build this great state upwards.',\n",
       " 'God bless all of you. And may God continue to bless this great state that we all love, Mississippi.',\n",
       " '',\n",
       " 'Republish This Story',\n",
       " '',\n",
       " 'Republish our articles for free, online or in print, under a Creative Commons license.']"
      ]
     },
     "execution_count": 38,
     "metadata": {},
     "output_type": "execute_result"
    }
   ],
   "source": [
    "# Accessed via a news site rather than from the Governor's website \n",
    "# try Selenium package to dynamically scrape the site \n",
    "\n",
    "# create session\n",
    "driver = webdriver.Chrome()\n",
    "driver.get(\"https://mississippitoday.org/2023/01/30/tate-reeves-2023-state-of-the-state/\")\n",
    "time.sleep(3)\n",
    "\n",
    "# find content block\n",
    "results = driver.find_element(By.XPATH, '//*[@id=\"post-1089678\"]/div')\n",
    "# results\n",
    "\n",
    "# find text \n",
    "p_results = results.find_elements(By.TAG_NAME, 'p') \n",
    "p_text = [i.text for i in p_results]\n",
    "# p_text\n",
    "\n",
    "# end session\n",
    "driver.quit()"
   ]
  },
  {
   "cell_type": "code",
   "execution_count": 40,
   "id": "c168b416",
   "metadata": {
    "hidden": true
   },
   "outputs": [
    {
     "data": {
      "text/plain": [
       "'Gov. Tate Reeves, a first-term Republican, delivered his annual State of the State address on Jan. 30, 2023. Below is the transcript of Reeves’ speech, which aired live on Mississippi Public Broadcasting. Editor’s note: This transcript was submitted by Reeves’ staff and has not been formatted to match Mississippi Today’s style. WATCH: Gov. Tate Reeves’ full State of the State address. Thank you, Lieutenant Governor Hosemann and Speaker Gunn. To the members of the legislature and other elected officials here tonight, thank you. Thank you for your continued partnership and thank you for the tireless work you do on behalf of our great state and her people. I also have to take a moment to thank my beautiful wife and Mississippi’s outstanding First Lady, Elee. She’s an incredible wife, an awesome mom, and a wonderful representative for our state. I’m amazed daily by your grace and your kindness, and I’m so thankful to have you in my life every single day. Finally and most importantly, I have to thank the three million Mississippians who have helped our state usher in an unprecedented period of economic growth, educational achievement, and freedom. 2022 was perhaps the best year in Mississippi’s history. Because, here in Mississippi and unlike in Washington, D.C., we still have the incredible capacity to work together and accomplish great things for our constituents. The sense that our state is one big, small town binds us and it furthers a sense of optimism that we can still work together here and deliver results on behalf of our people. The people of Mississippi are our state’s strength. It is because of your hard work that our state is primed and ready to face the challenges of tomorrow. It is because of your work ethic and your commitment to excellence that more and more companies are choosing to do business in Mississippi and that our state’s brightest days lie in front of us. It has been the privilege of a lifetime to serve as your governor over the last three years. I haven’t taken it for granted for one second, and I promise you that I never will. It is truly an honor to wake up each and every day and get to work on your behalf, and I look forward to making even bigger things happen in this great state. Now, over these years some days have been more challenging than others. But no matter what’s thrown at Mississippi, I thank God each night that I have the chance to live, work, and serve alongside of you. There is no place I would have rather weathered tornadoes, floods, hurricanes, or a global pandemic than right here in Mississippi. But Mississippi – and I think you’ll agree too – means more than simply a place to batten down the hatches during natural disasters. Mississippi is all of our home. Our state is filled with natural beauty and friendly people. I, like so many of y’all today, am grateful to be raised in this loving community. I’m proud to be a Mississippian, and I’m proud of the life lessons I’ve learned from the people I’ve met along the way. One of those people, is my hero – my dad. Now, I don’t remember the first time I met him because I was only a few minutes old. But I do remember some of the lessons he taught me, especially when it comes to the value of hard work. My father grew up in a two-room home with five brothers and five sisters in Bogue Chitto. He started a small business in the early 70’s and spent many, many nights sweeping the dirt floors and praying for his next clients. Like entrepreneurs across Mississippi, he spent his life growing that business. Only in America could the son of that man stand here today as the governor of this great state. It is the American Dream, and the lessons I learned from him have inspired everything that I’ve done. I’ve tried my best to take those lessons with me over the years and incorporate them into everything that I do. I’ve leaned on them when times were good, and I’ve leaned on them when times were bad. They’ve helped to keep me grounded and to remember what’s really important in life. They’ve helped me govern, and they’ve helped me keep perspective. Today, it’s a cold-hard-fact that really, really good things are happening in Mississippi. And it’s my honor to stand before you today and announce that the state of our state is stronger than ever. Our state is strong because our people and my administration are laser focused on the issues that matter to Mississippians. As you’ve heard me say before, the way we measure success is in the wages of our workers, the success of our students, and winning the war on our values. Mississippi is hitting the target on all three of these fronts. First, wages. Since 2019, we’ve raised per capita personal income in Mississippi by approximately $7,000 or almost 18%. We are boosting the money that Mississippi families are bringing home – especially right now, as we combat rising inflation from wasteful spending in Washington, D.C. This wasn’t by accident. We were able to accomplish this momentous feat because we never wavered from the tried and true economic and fiscally conservative principles that have set up states for growth for generations. And we were able to accomplish this despite the left’s best attempts to grow government. Our conservative reforms and sound budget management have laid the foundation for this economic boom. It’s the policies of yesterday that have paved the pathway to today’s prosperity. It’s led us to a $4 billion budget surplus. $4 billion! It’s led to investing a historic amount in jobs training, and because of that we have the lowest unemployment rate in our state’s history. It resulted in a record $6 billion in new capital investment in 2022, which is more than seven times the previous average of approximately $900 million a year before I became governor. And it helped us finalize the largest economic development project in Mississippi history – a $2.5 billion capital investment that will create 1,000 new jobs with an average salary of almost $100,000 a year. But we had more than just one major economic deal. That grand slam was great, but there were dozens and dozens of projects impacting every corner of our state over the last year. The fact is that thanks to our singles and our doubles, Mississippi is starting to run up the scoreboard. Last year we announced a $2 million investment that will create 117 new upholstery jobs in New Albany. We announced a $79 million investment that will create 21 new operations jobs in Pelahatchie. We announced a $51 million investment that will create 41 new manufacturing jobs in Winona. Canton, Philadelphia, Bay Springs, Columbus, Starkville, Southaven, Meridian, Calhoun, Waynesboro, Vicksburg, Olive Branch, and Corinth – just to name a few of the places that we announced investments this last year. My friends, when it comes to setting up our people and state for more economic prosperity, we are, by every objective standard, getting the job done. We are boosting salaries and we are expanding the tax base. And we are investing in the areas that will provide our state with the highest return – our people. I want our state to go even further in supporting Mississippians. Our state is in the best fiscal shape we’ve ever been in, and our state is in the best financial shape in history and our residents deserve to get a bigger piece of the pie. We can and should do more to put additional dollars into the pockets of Mississippians. We will do this, by eliminating our state’s income tax once and for all. We can do this and we can do this without raising other taxes. You’ve heard me say this before, but I’m going to keep saying it because it’s that important: government doesn’t have anything that it doesn’t first take from somebody else. I believe that Mississippians not politicians or the government know best how to spend their dollars. I also believe that those who have competitive advantages win. We have a competitive advantage in our people. We need to add another competitive advantage with our tax code. To build the best possible environment for entrepreneurs, to combat President Biden’s runaway inflation, to compete with the likes of Florida, Tennessee and Texas, to continue making it easier for Mississippians to support their families, we must eliminate Mississippi’s income tax. That’s why last year I was so proud to sign into law the largest tax cut in Mississippi history, which returned over half a billion dollars to Mississippians. That’s more dollars in your pocket, more dollars in your kids’ college funds, more dollars put toward buying a home or retirement, and more dollars for you to spend on your priorities. Not politicians’ pet projects. I’m proud of what we accomplished. But I’m even more fired up to keep the tax cuts coming. You have my word that as long as I’m governor, I’m going to continue relentlessly fighting for permanent, long-term tax relief that lets you keep more of your own hard-earned money. But Mississippi isn’t just witnessing historic achievements in our state’s economy. We’re also seeing it in classrooms across our state. A little over a week ago we announced – for the third time since I’ve been governor – that Mississippi’s high school graduation rate hit an all-time high and continues to be better than the national average. And like our state’s economic growth, our education improvements didn’t happen by accident. Our state’s stellar report card didn’t just appear out of thin air. Mississippi insisted on getting kids back into school when other blue states stayed closed, and now we have the best education numbers in our state’s history! The year Philip Gunn and I first presided over a State of the State in 2012, Mississippi was dead last in fourth grade math. Now, we’re above the national average at Number 23. That means that over the last ten years since we passed education reform, Mississippi surpassed half the states in the nation. We’ve gone from needs improvement to most improved. We’ve led the nation in fourth grade reading and fourth grade math gains. And students from all walks of life are finding more success in Mississippi. In 2003, Mississippi was among the worst performers when it came to test scores for Black students. Today we’re fifth in the entire nation when it comes to fourth grade reading test scores for Black students. Fifth in the entire nation! So, when some people say, “Mississippi is last in education,” folks, they’re just not telling you the truth. I want to personally thank all the legislators that played a role in helping to pass those education reforms. I also want to thank all the involved parents and dedicated teachers across Mississippi. We couldn’t have accomplished these goals without you. Our state – unlike some others that have been in the news – recognizes that we have a duty to both. We should ensure that parents continue to play an active role in their kids’ education, and we should ensure that teachers are paid what they deserve. It is my firm belief that Mississippi has some of the best teachers in the nation, and their salaries should reflect that. That’s why I was proud to sign legislation giving Mississippi teachers the largest pay raise in state history. We elevated teacher salaries above not only the Southeastern average, but even above the national average! Mississippi’s teachers earned those raises, and I was proud to sign them into law. But regardless of the technology or textbooks we put in front of our kids, nothing is more influential to a child’s educational development than parents. And when it comes to education, Mississippi should protect parents’ voices and their right to be involved in the classroom. Because at the end of the day, the state doesn’t run a child’s life – parents do. We need more transparency in schools in this country. We need more choice. We need more freedom. That will be the best way to protect our children. I’ve been shocked to see how some states have embraced the misguided practice of pushing parents out of the classroom, pushing parents out of their children’s lives, and pushing parents out of the school board decision-making process. Nobody, and I mean nobody, is more invested in the life and the future of a child than a parent. They shouldn’t be labeled as domestic terrorists for simply asking questions or for attending a school board meeting. They should be celebrated for being invested in their child’s education. As a father myself, I want schools across Mississippi to complement the lessons parents are trying to teach at home, not reject them. That’s exactly why I am calling on the legislature to pass a Parents’ Bill of Rights this session. Through the Parents’ Bill of Rights, we will reaffirm that in Mississippi, it is the state who answers to parents and not vice versa. This Parents’ Bill of Rights would further cement that when it comes to the usage of names, pronouns, or health matters, schools will adhere to the will of parents. There is no room in our schools for policies that attempt to undercut parents and require the usage of pronouns or names that fail to correspond with reality. I am proud to be governor, but the greatest pride in my life is being the dad of three wonderful girls. There are few things I love more than having the chance to cheer them on from the sidelines at their soccer or basketball games. That’s why I’m especially proud to have signed legislation that ensured, that in Mississippi, we’re going to let boys play boys sports, and girls play girls sports. I didn’t do this just for my daughters, I did this for all of Mississippi’s daughters. But we need to do even more to protect Mississippi’s children. We have a duty to keep pushing back against those that are taking advantage of children and using them to advance their sick and twisted ideologies. There was a time in America when saying to kids ‘you can be whatever you want when you grow up’ meant that one day they could become a teacher, police officer, or fire fighter. A professional athlete, a doctor, or even a lawyer. That if you push yourself, there is nothing you can’t accomplish. But today, there is a dangerous and radical movement that is now being pushed upon America’s kids. It threatens the very nature of truth. Across the country, activists are advancing untested experiments and persuading kids that they can live as a girl if they’re a boy, and that they can live as a boy if they’re a girl. And they’re telling them to pursue expensive, radical medical procedures to advance that lie. These radical liberals are attempting to undermine objective, scientific truths. They’re trying to undermine how we view gender and even manipulate English words and grammar rules. From their illogical pronouns to their attempts at pushing the word Latinx onto the Hispanic community – they don’t care about the destruction they’re causing or whether they have the support of those they’re trying to group or label. Rather, they’re tyrannical in their approach to these issues and their unceasing attempts to have them adopted by society. And let’s be honest, America stands essentially alone in the truly outrageous position that we’ve staked out on this issue. While some in our country push surgical mutilation onto 11 year olds even here in Mississippi, even liberal darlings like Finland, Denmark, and Sweden don’t allow these surgeries to be performed on kids who are under 18. The fact is that we set age restrictions on driving a car and on getting a tattoo. We don’t let 11 year olds enter an R-rated movie alone, yet some would have us believe that we should push permanent body-altering surgeries on them at such a young age. Mississippi must continue to do everything in our power to counter those who want to push their experiments on our kids. Time is of the essence, and we don’t have a second to waste. We must take every step to preserve the innocence of our children, especially against the cruel forces of modern progressivism which seek to use them as guinea pigs in their sick social experiments. Let me be clear to those radical activists around the nation who want to do our kids harm. Mississippi will not be trading compassion for compliance. Our voices will not be silenced when it comes to science. We will not be pressured into not asking questions. And we will not give in to liberal intimidation when it comes to protecting our kids. This is my promise to every Mississippian across our state. There is also another way we are going to keep our kids safe, and it includes keeping their parents safe as well. One of the most fundamental responsibilities of government is to ensure public safety and to uphold law and order. I ran for governor to fix Mississippi’s problems, not to hide them. That’s why I’ve become increasingly concerned that, for three consecutive years now, homicides have numbered in the triple digits here in our capital city. We can and must do better. The fact is, no matter how hard we try, there will always be evil in the world. There are those who lurk in the shadows seeking to hurt those around them. There are those who seek to inject drugs and crime into their communities, all so they can make a buck. These actions undermine social cohesion and safety in our neighborhoods. They threaten the lives of our kids and the safety of our families. To put it mildly, the crime situation in Jackson is unacceptable. Kids are getting killed in our streets and it’s time we put a stop to it. Now, some have suggested that the response should be to undercut, defund, and dismantle the police. I couldn’t disagree more. Many of us have family and friends who wear the badge. It’s worth constantly reminding ourselves that these individuals are the thin blue line which helps hold communities together. In Mississippi we choose to fund the police. We choose to back the blue. We choose to celebrate the brave men and women who put on the badge every day and run towards danger. That’s exactly what Mississippi has done, and that’s exactly what Mississippi will continue to do. Last year, the Mississippi Department of Public Safety conducted two major surges of law enforcement personnel – one in Jackson and one along our Gulf Coast. We flexed law enforcement in the areas and helped to shut down criminal elements in the regions. And while those surges proved to be successful, we still have more work to do. That’s why this session, I’m calling on the legislature to make further investment into our Capitol Police by giving them the 150 officers and equipment they need to continue fulfilling their mission and continue pushing back on lawlessness in Jackson. And let me say this as well, my administration will go after all crime within our jurisdiction. Regardless of the crime committed, regardless of who did it, regardless if it happened on the street or in an office building, my administration is and will continue to hold criminals accountable. That’s why my administration remains committed to delivering justice and recouping every dollar possible from those who stole from Mississippians through the theft of TANF dollars. Again, I ran for governor to fix Mississippi’s problems, not to hide them. Which brings me to my next area of focus – our state’s healthcare system. Mississippi is not immune to the struggles facing healthcare systems across the country. Together, we should keep working to improve Mississippians’ access to quality healthcare, and together, we should keep working to ensure Mississippi’s healthcare system meets the needs of our people. It starts with leveling the playing field. Most people do not know that it is illegal to open a new health care facility that competes with other institutions. We are all frustrated and worried by the threats that some hospitals may close. The first step should be allowing new ones to open! By reforming Mississippi’s Certificate of Need laws, we can root out anti-competitive behavior that blocks the formation of medical facilities and prevents the delivery of lifesaving healthcare to Mississippians. We should continue to strengthen the pipeline of medical professionals by doubling and tripling down on our improved workforce development strategy, and we should pass legislation that levels the playing field for hospitals with expanded residency programs. Because, at the end of the day, the real answers to our problems are not contained in the same old proposals that only serve to delay the inevitable at the expense of taxpayers. The real answer to our problems lies in innovation. Technology is changing, and the way healthcare is delivered is changing. Our policies must adapt with the times and facilitate care that focuses not on institutions but on the patients we seek to support. Throughout modern history we’ve witnessed innovation disrupt industries such as manufacturing, transportation, food, and entertainment. There was a time when people had to go to the theater to watch a movie. Today, they can watch them at home and on an airplane. On cable TV, Netflix, and every streaming service in between. The fact of the matter is that technology and innovation lead to new opportunities. The same can be said of our healthcare system. There was a time when if you needed medical services, you had to go to a large brick and mortar hospital – that was your only choice. But today, people are increasingly choosing new healthcare distribution channels over your traditional hospital. Today, people are accessing healthcare through telemedicine providers, micro-hospitals, urgent care facilities, and expanded care opportunities with nurse practitioners, pharmacists, and others. This legislative session, I urge the legislature to think outside the box when it comes to improving Mississippi’s healthcare system. Don’t simply cave under the pressure of Democrats and their allies in the media who are pushing for the expansion of Obamacare, welfare, and socialized medicine. Instead, seek innovative free market solutions that disrupt traditional healthcare delivery models, increase competition, and lead to better health outcomes for Mississippians. Do not settle for something that won’t solve the problem because it could potentially and only temporarily remove the liberal media’s target on your back. You have my word that if you stand up to the left’s push for endless government-run healthcare, I will stand with you. For as dire as national politics sometimes seem, there’s still a tremendous amount of hope in Mississippi. There really are incredible things happening here. And I’m talking about far more than our state winning its second college baseball national championship in a row, as incredible as that was. Last year, Mississippi led the nation to overturn Roe v. Wade – the greatest accomplishment in the conservative movement in my lifetime. Long story short, more innocent children will now have the chance to be born. There are future doctors who now have the chance to be born. There are future teachers that now have the chance to be born. There are future nurses, future linemen, and future truckers. There are future fathers and future mothers, friends and family, brothers and sisters. They all now have the chance at life. And there may very well even be a life that was saved who, a few years from now, will stand up here and give his or her update on the State of our State. What a wonderful blessing that would be. But the fact is that being pro-life is about more than just being anti-abortion. We don’t just want to eliminate the taking of unborn children’s lives, we want to make it easier for parents to raise children and for mothers to give birth to happy and healthy kids. Now some have said that too many children will be added to Mississippi’s population. I say what a wonderful problem to have. On this point I agree with Mother Teresa when she said, ‘How can there be too many children? That is like saying there are too many flowers.’ But I also recognize we are called to do more and to support these new moms and new babies. And I want every element of our laws to reflect and facilitate this critical mission. That’s why I’m also calling on the legislature to establish a New Pro-Life Agenda that helps make Mississippi the easiest place in the nation to raise a family. Together, we can prove the country wrong just like we did in education. Just like we led the nation in overturning Roe, we can lead the nation in supporting mothers and babies. This session, Mississippi should establish a childcare tax credit and allow Mississippi families to write off childcare supplies on state tax returns. We should increase our support for pregnancy resource centers and thus help to care for expectant and new mothers, especially those who are struggling with poverty or isolation. We should expand childcare opportunities by cutting red tape. There’s no reason that we should let government get in the way of parents accessing care for their children. We should expand safe haven laws, so parents have every available opportunity to choose life. We should reduce the existing adoption backlogs and make it easier and less expensive for parents to adopt kids into a loving forever home. And we should update our child support laws so that fathers must support their children from the moment their life begins – at conception. This is our New Pro-Life Agenda. As I’ve said before, it will not be easy, and it will not be free. But I know that together, we are going to get the job done and deliver the support Mississippi mothers and babies deserve. My fellow Mississippians, it’s been quite the year for our state. We’ve had moments of triumph and moments of anguish. But through it all, we’ve emerged stronger, together. We know where Mississippi has been, and we know where Mississippi is going. Regardless of the unfair stereotypes placed upon our state and her people, we know good things are happening here. Is our state perfect? Of course not. But besides heaven, no place is. We know what’s happening on the ground here. We know it because we are seeing it. Whether it’s the record investment or all-time low unemployment, the all-time high graduation rate or standing up to the radical left’s war on our values – Mississippi is winning, and our state is on the rise. That’s why I urge all of you here today to stand with me and call out the lies when they are thrown at all of us. We can never give into the cynics who seek to tear down our great state. We can never give into Joe Biden and the national Democrats who seek to force feed us an unhealthy dose of progressivism because they view Mississippians as neanderthals. And we can never give into those who want us to live in a perpetual state of self-condemnation. My friends, I am proud to serve as Mississippi’s 65th governor but I’m even prouder to call myself a Mississippian. The eyes of our state are turned to the future, and that’s why I will continue to reject those who would seek to divide and separate us. Instead, on behalf of all Mississippi, I am proud to pronounce once more that we are all Mississippians, committed to improving this home that we love. We are blessed to live in a wonderful state. We are blessed to have wonderful neighbors. We are blessed by one common God who smiles down upon Mississippi. I have no doubt that our future is brighter than ever before and that, together, we will continue to build this great state upwards. God bless all of you. And may God continue to bless this great state that we all love, Mississippi.  Republish This Story  Republish our articles for free, online or in print, under a Creative Commons license.'"
      ]
     },
     "execution_count": 40,
     "metadata": {},
     "output_type": "execute_result"
    }
   ],
   "source": [
    "# merge the text strings\n",
    "result_merged = \" \".join(p_text)\n",
    "# result_merged"
   ]
  },
  {
   "cell_type": "code",
   "execution_count": 43,
   "id": "fff2f0ad",
   "metadata": {
    "hidden": true
   },
   "outputs": [],
   "source": [
    "# add the cleaned text to the df\n",
    "df.loc[df.state=='mississippi', 'text'] = result_merged"
   ]
  },
  {
   "cell_type": "code",
   "execution_count": 45,
   "id": "09b39e6f",
   "metadata": {
    "hidden": true
   },
   "outputs": [],
   "source": [
    "# update the document type column \n",
    "df.loc[df.state=='mississippi', 'type'] = 'sos'"
   ]
  },
  {
   "cell_type": "markdown",
   "id": "31950554",
   "metadata": {
    "heading_collapsed": true
   },
   "source": [
    "## Montana\n",
    "[Website](https://news.mt.gov/Governors-Office/Governor_Gianforte_The_American_Dream_Is_Alive_and_Well_Here_in_Montana)"
   ]
  },
  {
   "cell_type": "code",
   "execution_count": 115,
   "id": "d74f7bd9",
   "metadata": {
    "hidden": true
   },
   "outputs": [],
   "source": [
    "# use the customized BeautifulSoup function to scrape the Montana website \n",
    "df = scrape_content(link = 'https://news.mt.gov/Governors-Office/Governor_Gianforte_The_American_Dream_Is_Alive_and_Well_Here_in_Montana',\n",
    "                 state = 'montana', \n",
    "                 release_type = 'sos',\n",
    "                 html1 = 'div', \n",
    "                 class_ = 'col-lg-8 order-1 order-lg-0',\n",
    "                 html2 = 'p') "
   ]
  },
  {
   "cell_type": "markdown",
   "id": "a2d7101c",
   "metadata": {
    "heading_collapsed": true
   },
   "source": [
    "## Nebraska\n",
    "[Website](https://governor.nebraska.gov/press/governor-jim-pillen-2023-state-state-address)"
   ]
  },
  {
   "cell_type": "code",
   "execution_count": 201,
   "id": "c60620b3",
   "metadata": {
    "hidden": true
   },
   "outputs": [],
   "source": [
    "# definition for scraping the Nebraska website (tweaked after scraping)\n",
    "def scrape_nebraska(link, state, release_type, html1, **kwargs):\n",
    "    try:\n",
    "        server_response = requests.get(link, headers = header_list)\n",
    "        soup_link = bs4.BeautifulSoup(server_response.content, features=\"html.parser\")\n",
    "        result = soup_link.find_all(html1, **kwargs)\n",
    "        p_result = result\n",
    "        # clean\n",
    "        string_result = [str(i.text) for i in p_result]\n",
    "        string_result_clean = [i.replace(u'\\xa0', u' ') for i in string_result]\n",
    "        string_result_clean = [i.replace(u'\\n', u' ') for i in string_result_clean]\n",
    "        result_merged = \" \".join(string_result_clean)\n",
    "       \n",
    "        # add to df\n",
    "        df.loc[df.state == state, 'text'] = result_merged\n",
    "        df.loc[df.state == state, 'type'] = release_type\n",
    "        \n",
    "        #return result \n",
    "        #return p_result\n",
    "        return result_merged \n",
    "        #return df\n",
    "         \n",
    "    except Exception as e: \n",
    "        print(f'error due to {e}')"
   ]
  },
  {
   "cell_type": "code",
   "execution_count": 193,
   "id": "fdc945f5",
   "metadata": {
    "hidden": true
   },
   "outputs": [],
   "source": [
    "# scrape the Nebraska website \n",
    "df = scrape_nebraska(link = 'https://governor.nebraska.gov/press/governor-jim-pillen-2023-state-state-address',\n",
    "                 state = 'nebraska', \n",
    "                 release_type = 'sos',\n",
    "                 html1 = 'p', \n",
    "                 class_ = 'rtecenter') "
   ]
  },
  {
   "cell_type": "markdown",
   "id": "7b957fc7",
   "metadata": {
    "heading_collapsed": true
   },
   "source": [
    "## Nevada \n",
    "PDF"
   ]
  },
  {
   "cell_type": "code",
   "execution_count": 194,
   "id": "0f95b250",
   "metadata": {
    "hidden": true
   },
   "outputs": [],
   "source": [
    "# Added from PDF form (not completed in previous notebook)\n",
    "df = add_pdf_to_df('nevada', 'sos')"
   ]
  },
  {
   "cell_type": "markdown",
   "id": "8f5acb19",
   "metadata": {
    "heading_collapsed": true
   },
   "source": [
    "## New Hampshire\n",
    "[Website](https://www.governor.nh.gov/news-and-media/governor-chris-sununus-inaugural-address)"
   ]
  },
  {
   "cell_type": "code",
   "execution_count": 195,
   "id": "78c30e3a",
   "metadata": {
    "hidden": true
   },
   "outputs": [],
   "source": [
    "# use the customized BeautifulSoup function to scrape the New Hampshire website \n",
    "df = scrape_content(link = 'https://www.governor.nh.gov/news-and-media/governor-chris-sununus-inaugural-address',\n",
    "                 state = 'new hampshire', \n",
    "                 release_type = 'inaug',\n",
    "                 html1 = 'div', \n",
    "                 class_ = 'field field--name-body field--type-text-with-summary field--label-hidden field__item',\n",
    "                 html2 = 'p') "
   ]
  },
  {
   "cell_type": "markdown",
   "id": "8834d87c",
   "metadata": {
    "heading_collapsed": true
   },
   "source": [
    "## New Jersey\n",
    "[Website](https://nj.gov/governor/news/news/562023/approved/20230110b.shtml)"
   ]
  },
  {
   "cell_type": "code",
   "execution_count": 196,
   "id": "e0f0d757",
   "metadata": {
    "hidden": true
   },
   "outputs": [],
   "source": [
    "# use the customized BeautifulSoup function to scrape the New Jersey website \n",
    "df = scrape_content(link = 'https://nj.gov/governor/news/news/562023/approved/20230110b.shtml',\n",
    "                 state = 'new jersey', \n",
    "                 release_type = 'sos',\n",
    "                 html1 = 'div', \n",
    "                 class_ = 'col-sm-12',\n",
    "                 html2 = 'p') "
   ]
  },
  {
   "cell_type": "markdown",
   "id": "7f1718eb",
   "metadata": {
    "heading_collapsed": true
   },
   "source": [
    "## New Mexico\n",
    "[Website](https://losalamosreporter.com/2023/01/17/full-text-of-gov-lujan-grishams-2023-state-of-the-state-address/)"
   ]
  },
  {
   "cell_type": "code",
   "execution_count": 197,
   "id": "e76c7031",
   "metadata": {
    "hidden": true
   },
   "outputs": [],
   "source": [
    "# Accessed via a local news site for ease of scraping \n",
    "# use the customized BeautifulSoup function to scrape the website \n",
    "df = scrape_content(link = 'https://losalamosreporter.com/2023/01/17/full-text-of-gov-lujan-grishams-2023-state-of-the-state-address/',\n",
    "                 state = 'new mexico', \n",
    "                 release_type = 'sos',\n",
    "                 html1 = 'div', \n",
    "                 class_ = 'entry-content',\n",
    "                 html2 = 'p') "
   ]
  },
  {
   "cell_type": "markdown",
   "id": "e0cb07e2",
   "metadata": {
    "heading_collapsed": true
   },
   "source": [
    "## New York\n",
    "[Website](https://www.governor.ny.gov/news/remarks-prepared-governor-hochul-delivers-2023-state-state)"
   ]
  },
  {
   "cell_type": "code",
   "execution_count": 198,
   "id": "c21478c0",
   "metadata": {
    "hidden": true
   },
   "outputs": [],
   "source": [
    "# use the customized BeautifulSoup function to scrape the New York website \n",
    "df = scrape_content(link = 'https://www.governor.ny.gov/news/remarks-prepared-governor-hochul-delivers-2023-state-state',\n",
    "                 state = 'new york', \n",
    "                 release_type = 'sos',\n",
    "                 html1 = 'div', \n",
    "                 class_ = 'a-text__html o-jazzed-release__wysiwyg1',\n",
    "                 html2 = 'p') "
   ]
  },
  {
   "cell_type": "markdown",
   "id": "7f4c11cc",
   "metadata": {
    "heading_collapsed": true
   },
   "source": [
    "## North Carolina\n",
    "[Website](https://nc-governor.medium.com/governor-cooper-state-of-the-state-2023-a82ebebd8e17)"
   ]
  },
  {
   "cell_type": "code",
   "execution_count": 47,
   "id": "a17b9f48",
   "metadata": {
    "hidden": true
   },
   "outputs": [
    {
     "data": {
      "text/plain": [
       "<selenium.webdriver.remote.webelement.WebElement (session=\"6ff2e0c966cfc98c26c28df6b32c1fcf\", element=\"501A1FCD495F6E712CE53ECDA8DC9CC5_element_10\")>"
      ]
     },
     "execution_count": 47,
     "metadata": {},
     "output_type": "execute_result"
    },
    {
     "data": {
      "text/plain": [
       "['Governor Roy Cooper',\n",
       " 'Follow',\n",
       " '1',\n",
       " '',\n",
       " '',\n",
       " 'Mr. President Pro Tempore, Mr. Speaker, Lieutenant Governor, Members of the General Assembly, Council of State, Mr. Chief Justice and members of the Supreme Court, Madame Chief Judge and members of the Court of Appeals, Cabinet Secretaries, and my fellow North Carolinians: I am honored to join you to report on the state of our great state.',\n",
       " 'With me tonight, is my remarkable wife, our First Lady, Kristin, our three wonderful daughters, Hilary, Natalie and Claire and my son-in-law Zack and my brother Pell, all of whom I’m thankful for each and every day.',\n",
       " 'Each generation has but so many chances to leave an indelible mark on history that benefits the generations to come. And so often, our greatest advancements come after our greatest upheavals. War, protests, strife, disasters, pandemic. To find ourselves as state leaders at a time like this, is to bear a tremendous responsibility. A responsibility to learn from adversity and make things better. A responsibility that reaches far into our future.',\n",
       " 'Two-hundred and thirty-four years ago, legislative leaders following the directive in our first constitution cited “the indispensable duty …to consult the happiness of a rising generation” and chartered the first public university in the nation. Today, the positive effects of North Carolina’s great public university system reach around the globe.',\n",
       " 'Sixty years ago, a forward-looking group of North Carolinians had the vision to see a place for research and development. They recognized an urgent need to diversify our state’s economic anchors. And they worked collaboratively to do something about it. Today, we know their work as the Research Triangle Park.',\n",
       " 'Thirty-nine years ago, spotting yet another shift in industry, our leaders gathered strength from our word-class universities, medical schools and researchers to launch the North Carolina Biotechnology Center which has helped to spark a surging life sciences sector in our economy.',\n",
       " 'Time and again, overcoming adversity, our leaders had the foresight and the resolve to invest in new ideas that have revolutionized our state, impacting the generations that followed.',\n",
       " 'And while we stand on their shoulders, we also stand at an altogether new crossroads. One that demands we have the same clarity of purpose, the same innovation, the same determination that brought us here.',\n",
       " 'Our moment to build enduring prosperity is now. And I know that North Carolina is ready.',\n",
       " 'As we sit here tonight, North Carolina is cementing its place as a leader in the global clean energy economy — no longer the industry of the future, but the flourishing business of today. North Carolina is a clean energy destination, bringing good paying manufacturing jobs to parts of our state that years ago knew more factory closures than ribbon cuttings.',\n",
       " 'Consider electric vehicles, now projected to grow into a four hundred billion dollar global market in just five years. And it’s cranking up right here. From the battery manufacturing in Randolph County to the semiconductor production and the electric vehicle manufacturing in Chatham County, to the charging station production in Durham County. North Carolina has a claim to every link and every job in this fast-growing, lucrative supply chain.',\n",
       " 'The private sector electric vehicle market is about to take the world by storm and North Carolina is riding the first wave. And that means more money in the pockets of North Carolinians even as we do our part to fight climate change.',\n",
       " 'Through bipartisan cooperation here in the General Assembly, we became just the second state in the southeast to put carbon reduction requirements into law. And through my executive orders, we’ve brought people together to plot our course to a lower cost, net-zero carbon future, to cleaner transportation, and toward more renewable energy like wind and solar power. With challenges like jobs and climate change, you can only make progress when you set ambitious goals. And we’re taking action to reach those goals, because progress is never passive.',\n",
       " 'And it’s not just clean energy that’s thriving in our state. Technology, aerospace, biotechnology, advanced manufacturing, and many more industries are building for growth in North Carolina. In 2022, we broke records yet again, with tens of thousands of new jobs last year alone. From the cities of Charlotte and Greensboro to the counties of Halifax and Scotland, in urban and rural areas far and wide, North Carolina continues to be the best place for people to live, learn, work and raise a family.',\n",
       " 'And we’ve made sure that’s no secret. In 2022, North Carolina was named THE number one state in the country for business.',\n",
       " 'You legislators deserve some credit for that. My administration deserves some credit for that. Our business community deserves some credit for that. But we all know who deserves the bulk of the credit: those who make up our amazing workforce — the determined, dedicated and diverse people of North Carolina.',\n",
       " 'Yep, our talented, educated workers are the foundation of our economic success. And we’ve succeeded in expanding that workforce to be more diverse and more inclusive. Like with veterans who served our great country, people with disabilities, formerly incarcerated people who’ve paid their debt to society. All are becoming integral parts of our workforce because we are being intentional about making it happen.',\n",
       " 'And as our growth accelerates, we must not forget that once-in-a-generation opportunities require once-in-a-generation investments. Because these new jobs require more skill, the education pipeline from early childhood all the way through community college and universities is more important than ever.',\n",
       " 'A great workforce requires real investment from cradle to career. And it starts with early childhood education at quality child care centers. With federal resources initiated by the Biden Administration, we have invested more than $800 million to stabilize child care, helping centers with great teachers stay open, and helping North Carolina parents get back to work. It’s a triple play, guys: education for the child, a job earning money for the parent, and a badly needed employee for the business. We need to fill them with high quality staff and keep those child care centers open.',\n",
       " 'One child care leader is with us tonight. Rhonda Rivers is the Regional Director of Curriculum and Training for LeafSpring Schools in Charlotte. Her centers used our child care grants to give bonuses to recruit and retain high-quality teachers. Rhonda has said that these grants helped her keep good teachers who might have been forced to go elsewhere even though they love their jobs. For all they do for children, parents and businesses, let’s give Rhonda and her colleagues a hand for their amazing work.',\n",
       " 'We know that a great workforce also relies on public schools. Educating the next generation of workers who will fill the jobs that we haven’t even yet imagined is how we stay an economic powerhouse. And we know that a sound, basic education, as required by our state constitution, calls for qualified teachers in every classroom, skilled principals in every school, excellent counselors, and the funding to support every student from every walk of life.',\n",
       " 'Now, I know many of you on the Republican side of the aisle don’t believe the NC Supreme Court should be able to order you to invest more in our children’s education to comply with the Constitution. But the Court should uphold decades of bipartisan Supreme Court precedent that comes down on the side of the children, because that’s what really matters — the children.',\n",
       " 'The education investments ordered by the Court are the right thing to do not only for our children, but our parents, our workforce and our businesses.',\n",
       " 'We have the money this year and next to fund the plan. And if we’re smart about our tax policy, we can fund it into the future. The budget I will present to you invests in the entire education plan ordered by the court. It gives teachers and principals double digit raises, it keeps the buses running, it helps kids with special needs, it keeps schools safe, it does not raise taxes and it balances the budget.',\n",
       " 'Supporting students also means more mental health care. The youth mental health crisis cannot be ignored.',\n",
       " 'Just ask Meredith Draughn who’s here with us tonight. Meredith experiences this crisis up close. As a school counselor at B. Everett Jordan Elementary School in Alamance County, Meredith sees firsthand the increasing number of children dealing with stress and anxiety. Her support is critical to their well-being and can be life-saving. All our counselors, teachers and school staff play a vital role in student mental health. And we are so proud that Meredith was named the 2023 National School Counselor of the Year. Let’s give Meredith a hand.',\n",
       " 'With federal funds, I’ve already directed tens of millions of dollars to this critically important effort, including mental health first aid that helps teachers and school staff recognize the signs of a child in crisis. And in the coming days, I’ll propose a plan that makes historic investments in the whole-person health of every North Carolinian. It will save lives, save government resources and pay dividends for decades to come.',\n",
       " 'The education pipeline continues with our community colleges and universities that are central to the educated workforce of the future. In every corner of our state, community colleges are coordinating directly with local industry and workforce development boards. They’re creating hands-on training programs that help their graduates cross the stage with a degree or credential AND a job offer in hand. I’ve worked with you legislators in a bipartisan way to make sure people can get this training through Longleaf Commitment grants, Finish Line grants and other community college funding. Let’s keep at it.',\n",
       " 'We have the very best array of public and private universities, including more four-year HBCUs than any state in the country. In order for our public universities to stay great, our leaders on the University Board of Governors and Trustees must reflect the broad demographic and political diversity in our state. That’s why I created the bipartisan Commission on the Future of Public Universities to propose changes to the way our university leadership is selected to better reflect who we are. I ask you to carefully consider their report.',\n",
       " 'We must maintain a world-class education system, keep our amazing state employee workforce, build infrastructure, make sure people are healthy and make other investments to keep our state thriving. That requires a smart tax policy. Now, before the finger pointing starts, l want to be clear — we do not need to raise taxes.',\n",
       " 'But even the North Carolina Chamber of Commerce has said that our current corporate tax rates are already competitive. The jobs are coming fast and furious to North Carolina now and more tax cuts for those at the top will stunt our growth when we should be investing in our workforce. We don’t need more tax breaks for corporations and the wealthiest North Carolinians.',\n",
       " 'In addition to education, we’re tackling the challenge of our robust growth with more critical infrastructure like roads, bridges, ports and rail. And thanks to the generational investments of the American Rescue Plan and the Bipartisan Infrastructure Law we’re investing more than $2 billion to do what once seemed a faraway dream. We’re going to ensure that every home in North Carolina has access to high-speed internet.',\n",
       " 'And our Office of Digital Equity and Literacy — the first in the nation — is working to ensure that everyone can get online with affordable devices and good training.',\n",
       " 'Getting more people online means healthier communities. That’s something Phyllis Pillmon knows well. Phyllis lives in Ahoskie, and she’s here tonight with Kim Schwartz, the CEO of Roanoke Chowan Community Health Center, to highlight the remarkable ways that telemedicine can benefit our state. Phyllis has a hybrid plan of care where she sees her regular doctor in person while connecting with specialists as far away as Charlotte. That’s a 280-mile gap that Phyllis and her specialist can span in just seconds. Phyllis, we’re glad you’re online and Kim, we’re glad your center provides this valuable service for people in Eastern North Carolina! Let’s give them a hand.',\n",
       " 'We’re also using federal funds to make historic investments in clean water. Across the country, we’ve seen the consequences of neglected water systems, particularly in our rural communities. Without reliable clean drinking water, families struggle, new business won’t come to town, and communities can wither.',\n",
       " 'Travelling the state, I’ve heard stories from families who can’t wash their clothes regularly because the water’s brown, about pipes that freeze and break when it’s cold, about frequent boil alerts because the water may not be safe. Now those stories will change.',\n",
       " 'In a normal year, our state invests around $200 million in clean water infrastructure. But with this new federal funding, we’re investing more than $2.3 billion over two years to rebuild hundreds of water systems in nearly every county in our state.',\n",
       " 'The town of Ivanhoe in Sampson County got one of those grants because Russell Devane, who’s here tonight, worked with other members of his community and with local and state government to highlight the problem resulting in $13.2 million to bring clean water to his town. Let’s give Russell and all the community leaders who are working to make life better for their residents a big hand.',\n",
       " 'Tonight, I’ve stressed how we are at a pivotal moment with unprecedented opportunities to benefit the generations to come. One of the ways we are seizing that moment is by expanding Medicaid. I’m grateful for our unified Democratic legislators and some Republicans who have been relentless for years in this effort to expand Medicaid. I commend the Republican leadership of this legislature for now embracing this and coming together in agreement. I also deeply appreciate the many health care professionals and advocates from all walks of life who have worked tirelessly to get this done. When we get Medicaid expansion across the finish line, it will save lives.',\n",
       " 'Tonight, I bring a message of urgency that I hope all of you will keep at heart. Every month we wait to expand not only costs lives but costs our state more than $521 million dollars a month in federal health care dollars. And if we don’t expand soon, we will forfeit an additional $1.8 billion in Health Care Access and stabilization or HASP funds that our hospitals will never get back, and that would be particularly hard on our rural hospitals. No business would make that kind of financial decision. Finally, we all now agree on Medicaid expansion, we all now agree on how to do it and we all now agree on what other health care laws will be changed with it. For mental health. For working families. For rural hospitals. For a healthier North Carolina. For $1.8 billion we can’t afford to leave behind. Let’s expand Medicaid now.',\n",
       " 'Another group that has frequently called for Medicaid expansion is our law enforcement officers. They witness every day the consequences of people who need mental health care instead of handcuffs. As one sheriff told me, jails are our biggest mental health facilities. That’s a problem we need to solve.',\n",
       " 'We need law enforcement focused on protecting our communities. And there’s more we can do to reduce crime and keep communities safe while making sure our criminal justice system operates fairly and without prejudice. My Task Force on Racial Equity in Criminal Justice has offered smart solutions, like a duty for officers to intervene. And I was glad that the legislature took action on that recommendation to pass a bipartisan bill that I signed. Let’s continue that important work as there is more to do. And let’s invest the resources to recruit and retain more good law enforcement officers and support them with the better pay and training they deserve.',\n",
       " 'Let’s take affirmative steps to make life safer for these brave law enforcement officers and everyday people by keeping guns away from children, criminals and those who are a danger to themselves or others. This is especially true now that death by gunfire has surpassed car accidents as the number one cause of injury deaths for children. A recent report found that in 2021, children in NC were 51% more likely to die from gun violence than children in the U.S. as a whole. If you support the responsible gun ownership that we are granted under the Second Amendment as I do, then we cannot accept this. In the weeks to come, let’s move forward to fight gun violence, not backward.',\n",
       " 'At the outset of my time as Governor, I set a clear goal. I wanted North Carolinians to be healthier, better educated, with more money in their pockets and to have lives of purpose and abundance. And though we still have hard work ahead — for working families, hurricane survivors, and those who feel forgotten and left behind — I’m encouraged by the progress we’ve made as a state. Progress that’s been possible because we’ve agreed on economic development strategies and worked to create a good business environment with the best employees in the world. Avoiding the worst of the culture wars these past 6 years has also been good for business. We worked together in a bipartisan way to fully repeal the horrible bathroom bill the first year I took office. And as we look to the future, I challenge this General Assembly to keep us off the front lines of those culture wars that hurt people and cost us jobs so we can continue our successful bipartisan work.',\n",
       " 'Use public schools to build a brighter future, not to bully and marginalize LGBTQ students. Don’t make teachers re-write history. Keep the freedom to vote in reach for every eligible voter. Leave the decisions about reproductive health care to women and their doctors.',\n",
       " 'We must not go backward when so much promise lies ahead.',\n",
       " 'In my six years as Governor, you legislators and I have found plenty to disagree about. But we have found areas of common ground to strengthen our communities, create opportunity, and make our state more resilient and prepared for the future.',\n",
       " 'Many of us here have a deep faith in God. We share common aspirations. We want safe communities, good jobs and an affordable quality of life. We want to give our children more and better opportunities than we had.',\n",
       " 'This has always been North Carolina’s story: good people from diverse communities coming together to build a common future. I know that fierce debate will continue, but I appreciate that regardless of perspective, the men and women who serve in this body share a love of our state and a respect for the responsibility that comes with public service. We must commit wherever possible to pursue together our shared ambitions for our great state.',\n",
       " 'The leaders who steered us through the crossroads of the last century kept front and center the promise of the future. Building on their foresight, North Carolina’s growth and success have eclipsed anything that seemed possible. Now, it’s on us to lay the foundation for North Carolina’s next transformation that promises progress and growth for the generations ahead.',\n",
       " 'Today, I stand before you to report that the state of our state is bright and energized with the promise of tomorrow.',\n",
       " 'As we envision tomorrow and all the days that follow, let’s work toward a North Carolina where the doors of opportunity are wide open, bursting with possibility for everyone. A North Carolina where hope abounds. A North Carolina where strong growth is made possible by the investments we make today — in our classrooms, in our economy, in our communities, and in our people.',\n",
       " 'Thank you and may God bless North Carolina and the United States of America.']"
      ]
     },
     "execution_count": 47,
     "metadata": {},
     "output_type": "execute_result"
    }
   ],
   "source": [
    "# try Selenium since attempt with general definition (using BeautifulSoup) wasn't working\n",
    "# Website is Governor's blog post on Medium rather than the Governor website \n",
    "\n",
    "# open session\n",
    "driver = webdriver.Chrome()\n",
    "driver.get(\"https://nc-governor.medium.com/governor-cooper-state-of-the-state-2023-a82ebebd8e17\")\n",
    "time.sleep(3)\n",
    "\n",
    "# access content\n",
    "results = driver.find_element(By.XPATH,'//*[@id=\"root\"]/div/div[3]/div[2]/div[2]/article/div/div/section/div/div[2]/div/div')\n",
    "#results\n",
    "\n",
    "# access individual text blocks\n",
    "p_results = results.find_elements(By.TAG_NAME, 'p') \n",
    "p_text = [i.text for i in p_results]\n",
    "#p_text\n",
    "\n",
    "# end session\n",
    "driver.quit()"
   ]
  },
  {
   "cell_type": "code",
   "execution_count": 48,
   "id": "fe077e74",
   "metadata": {
    "hidden": true
   },
   "outputs": [],
   "source": [
    "# merge text results together\n",
    "result_merged = \" \".join(p_text)\n",
    "# result_merged\n",
    "\n",
    "# add to df\n",
    "df.loc[df.state == 'north carolina', 'text'] = result_merged\n",
    "df.loc[df.state=='north carolina', 'type'] = 'sos'"
   ]
  },
  {
   "cell_type": "markdown",
   "id": "24f1ef2a",
   "metadata": {
    "heading_collapsed": true
   },
   "source": [
    "## Ohio\n",
    "[Website](https://governor.ohio.gov/media/news-and-media/governor-dewines-2023-state-of-the-state-address-01312023)"
   ]
  },
  {
   "cell_type": "code",
   "execution_count": 51,
   "id": "0747cb1e",
   "metadata": {
    "hidden": true
   },
   "outputs": [
    {
     "data": {
      "text/plain": [
       "<selenium.webdriver.remote.webelement.WebElement (session=\"fcd31a0d66cf5420a8893d2f3b847122\", element=\"5684617F09C74B1BFA7546D392997004_element_43\")>"
      ]
     },
     "execution_count": 51,
     "metadata": {},
     "output_type": "execute_result"
    },
    {
     "data": {
      "text/plain": [
       "['(COLUMBUS, Ohio)—Ohio Governor Mike DeWine today delivered the 2023 State of the State address today in the House Chamber of the Ohio Statehouse. The remarks, as prepared, are as follows:',\n",
       " 'Speaker Stephens, President Huffman, Leader Antonio and Leader Russo, Members of the General Assembly, Chief Justice Kennedy and Justices of the Ohio Supreme Court, Elected State Officials, Lieutenant Governor Husted, My Fellow Citizens of Ohio….',\n",
       " 'We meet at a time of great opportunity for Ohio and its citizens.  ',\n",
       " 'Yet, it is also a time of great challenges.',\n",
       " 'Our future is bright -- but that future will be defined by how well we educate all our children and how we tear down the barriers to their success.  We are challenged as never before, because at no time in our history has the full education of all our children been more important.',\n",
       " 'The budget that I will present to you later today reflects the moral imperative we have to see that ALL Ohioans are fully educated, and therefore, have the tools to live up to their full God-given potential.',\n",
       " 'Our budget is fiscally sound -- spending one-time money on one-time expenditures, averting a fiscal cliff in future years when this one-time money is gone.',\n",
       " 'It is a budget that focuses on our people, on our families, and on our children, for they are Ohio’s greatest asset.  ',\n",
       " 'It reflects our obligation to make sure every Ohioan has the tools to succeed, to get a good job, to live their dreams, whatever they may be.',\n",
       " 'So, let us start with our children.',\n",
       " 'We know that reading unlocks the door for all future learning and provides a lifetime of opportunities.  It opens the door to good jobs -- but really, it opens the door to life.  ',\n",
       " 'Reading can take what seems like a dark world and make it bright!  ',\n",
       " 'It can fire a child’s imagination -- and turn what looks like a black and white world into vivid and bright colors!',\n",
       " 'But tragically, today 40 percent of all Ohio 3rd Grade students are not proficient in reading -- 40 percent!',\n",
       " 'So today, I am calling for a renewed focus on literacy -- and on the way we teach reading in the State of Ohio.',\n",
       " 'The jury has returned.  The evidence is clear.  The verdict is in.',\n",
       " 'There a is great deal of research about how we learn to read.  And today, we understand the great value and importance of phonics.  Not all literacy curriculums are created equal, and sadly, many Ohio students do not have access to the most effective reading curriculum. ',\n",
       " 'In our budget, we are making sure that all Ohio children have access to curriculum that is aligned with the evidence-based approaches of the Science of Reading. ',\n",
       " 'Our budget directs the Ohio Department of Education to lay out a plan -- informed by research and evidence -- to ensure that all Ohio students have the best opportunity to master the skill of reading. ',\n",
       " 'Further, it directs them to help students in our public, STEM, and charter schools by providing funding to each school to pay for curriculum based on the Science of Reading and for professional development for those teachers needing it in that curriculum.',\n",
       " 'We know that the earlier a child is reading on grade level, the better that child will do in later grades -- and in life.  We also know that what happens to a child before they start school determines their chances of success. ',\n",
       " 'With your help in the past in efforts to reduce infant mortality and to improve maternal health, we have doubled the number of new and expectant moms participating in evidence-based home visiting, where trained professionals offer valuable help to moms.  In our proposed budget, we will grow this program to serve nearly 10,000 additional families. ',\n",
       " 'To further reduce infant mortality and help more mothers, our budget will also expand access to safe, stable housing for pregnant and new mothers.',\n",
       " 'Now, we know that a child’s brain is 80 percent developed by the time they turn three, so these first years of growth are so very, very important.  That is why introducing children to books as soon as they are born is vital to their development.',\n",
       " 'Mr. Speaker, Mr. President, Members of the General Assembly -- thank you.  Thank you for your continued support for the Dolly Parton Imagination Library and at this time, I would like to introduce Fran -- my best friend and bride of over 55 years.',\n",
       " 'Fran told me just this morning that 51 percent of Ohio children from birth to age five are now enrolled in the in the Imagination Library, and that 366,401 Ohio kids are receiving a free book in the mail every single month.  Not only that, since Fran became First Lady, more than 10 million books have been mailed to Ohio’s children.',\n",
       " 'This General Assembly has helped by providing funding for the books and by connecting us with organizations and supporters in your districts who work with and serve children and families.  I thank those local organizations, as well -- the United Way, public libraries, community foundations, hospitals, Head Start programs, pre-schools, and so many, many others -- who have also provided funding and helped with enrollment. ',\n",
       " 'The Imagination Library is about helping families.  We know that sometimes it’s difficult to be a parent.  What happens at home and how a child grows up impacts them more than really anything else.  For Ohio to be the best state in the Nation to raise a family, we must do everything we can to better support families, and so our budget will do the following:',\n",
       " 'To ease the financial burden on new parents, our budget asks you to repeal the State’s sales tax on critical infant supplies, things such as diapers, wipes, cribs, car seats, strollers, and safety equipment. ',\n",
       " 'Further, I am also asking you to enact a $2,500 per child state tax deduction!  ',\n",
       " 'Our budget will make available childcare for more working families. ',\n",
       " 'Many Ohio parents must choose between taking on full-time, full-year work or staying unemployed or underemployed, because they cannot afford the high cost of childcare.  Through our budget, 15,000 more Ohio children in working families will have access to high-quality childcare -- childcare that will help them start Kindergarten with the skills needed to succeed.',\n",
       " 'Next, we are going to make it easier for families to adopt children into safe, loving, permanent homes.  Currently, children adopted through the public children services system have access to Medicaid coverage, but children adopted through private agencies do not -- EVEN if these children have complex medical needs.  We know there are many families who would love to open their homes to a child, including children with serious health needs, but cannot afford to do it. ',\n",
       " 'In our budget, we will extend that same opportunity for health care coverage to ALL children who are adopted in the State of Ohio. ',\n",
       " 'With your help, we have been transforming foster care.  We created a Foster Youth Bill of Rights, and we established a statewide advocate for youth and families who independently investigates reports of abuse and misconduct within Ohio’s foster care system. ',\n",
       " 'I am also proud of our work to create the Children Services Transformation Advisory Council.  Members of this Council traveled across the State to hear directly from those impacted by foster care, and they developed 37 separate recommendations to improve the system.  I am very pleased to report that every single one of those recommendations has either been fully implemented or is in the process of being implemented.',\n",
       " 'We also must do more to help the families involved in the child welfare system. ',\n",
       " 'Historically, the State has woefully underfunded our county children’s services agencies.  Working together in our last two budgets, we have more than doubled state funding for them.  However, Ohio still remains near the bottom nationally for funding, and many of our children’s services agencies continue to struggle.',\n",
       " 'To better support children, families, and the caseworkers who serve them, we will once again increase their funding in our new proposed budget.',\n",
       " 'There are other families in Ohio with vulnerable children who have unique needs, who -- up until now -- have had no place to go to seek help.  They face challenges that many of us cannot even comprehend.  We will help them, as well.',\n",
       " 'In our last budget, we created OhioRise -- a specialized program to help children with mental health challenges -- challenges that are so complex and so severe that these children are at risk of being unable to even stay in their homes with their parents.  Families in this program are assigned a hands-on case manager -- someone with a small caseload -- who can provide individualized attention and help that family get the best possible care for their child. ',\n",
       " 'OhioRise is now getting immediate care to over 16,000 Ohio children by helping communities develop new and intensive behavioral health services that are tailored to the specific needs of these children.  Our budget will allow us to connect many more families to these desperately needed services. ',\n",
       " 'OhioRise is also giving hope back to families.',\n",
       " 'In the words of one mother, “OhioRise has saved my son’s life.  He is smiling again.  There is laughter in our home.  And, my son is healing.”',\n",
       " 'One of my first acts as Governor was to create the Governor’s Children’s Initiative.  We made great progress by working collaboratively across agencies and breaking down silos to help children.  But, we also quickly learned that the supports we provide Ohio children are strewn across departments, agencies, and offices, sometimes causing duplication and inefficiencies.',\n",
       " 'The issues impacting the lives of our children are simply too important to leave scattered throughout multiple agencies, without a member of the Governor’s Cabinet driving them each and every day. ',\n",
       " 'And so, in our budget, I am proposing the creation of a new Cabinet-level agency, called the “Department of Children and Youth.” ',\n",
       " 'This statewide agency will allow us to have a sharp focus on children’s issues.  Our proposed Department of Children and Youth Services will consolidate programs from six different state agencies and focus specifically on the following:  ',\n",
       " 'We are very excited about the prospect of this new Department and what it will mean for Ohio children and their families.',\n",
       " 'One of the things families never used to worry about was the safety of their children at school.  Today, sadly, they do.',\n",
       " 'When I took office, our local schools were receiving very little help from the State for school safety.  So, I created the Ohio School Safety Center, which is dedicated to helping schools, public and private, to address security needs -- from the physical security of their buildings, to training our school officials in threat assessment, to improving our schools’ emergency response plans. ',\n",
       " 'Each day, our experts at the School Safety Center are scanning social media for threats to our students.  They are responding to calls to the anonymous tip line.  And, they are working with our local officials on each district’s unique safety needs.  ',\n",
       " 'Our proposed budget will allow us to continue and expand this vital work.',\n",
       " 'Further, some school officials have told me that they would like to place a School Resource Officer in their school, but simply cannot afford to do so.  In this budget, we offer all schools -- again public and private -- who want a School Resource Officer, with additional state funding to help them do so.  ',\n",
       " 'We also want to do this because, oftentimes, there is a trust that gets built between students and the officer that would not otherwise occur -- but for that officer being in the school each day.',\n",
       " 'When kids feel safe at school, they are better able to learn.  We want all students to attend schools where they’re safe and have the resources they need to succeed, which is why our budget continues the implementation of the Cupp-Patterson school funding formula.',\n",
       " 'Now, children have unique needs, so we want families to have the opportunity to send their children to a school that best meets those needs.  That is why our budget proposal includes an historic investment in the EdChoice scholarship program by expanding eligibility to families at or below 400 percent of the Federal Poverty Level.  This investment will allow more families than ever to take advantage of this scholarship and find the best school for their children.',\n",
       " 'For some families, choice means a charter school, and we are continuing to expand choice for those families by increasing funding for high-quality charter schools.  For students attending high-quality charter schools, our budget provides an additional $3,000 for each economically disadvantaged student.  It also increases the per-pupil facilities funding for all charter schools --from $500 to $1000 per student.',\n",
       " 'Parents want their children to be healthy and happy and to find a passion -- something that they love to do -- something that allows them to live out their dreams -- whatever those dreams may be.  Many Ohio families are seeing their children find that passion in their county career centers. ',\n",
       " 'Lieutenant Governor Husted, Fran, and I have spent a lot of time recently visiting career tech centers across the State.  ',\n",
       " 'At the Medina County Career Center, I met students learning HVAC and construction trades, as well as those studying sports medicine and cybersecurity.',\n",
       " 'At the Fairfield County Workforce Center, I visited students and the manufacturers who are providing them jobs.',\n",
       " 'And, at the Tri Rivers Career Center in Marion, I talked with teachers who are teaching adults welding, industrial maintenance, and robotics.',\n",
       " 'When Fran and I and the Lieutenant Governor were visiting these career centers, we would talk to the teachers and the superintendents about the different programs they offer.  We would ask about the number of students enrolled, and so often, the teachers would tell us that more kids want to take the courses, but there are waitlists because there simply aren’t enough open spots. ',\n",
       " 'In other cases, they told us they don’t have the most modern, up-to-date equipment needed to teach certain courses. ',\n",
       " 'We are going to change this!   ',\n",
       " 'To reach more students and to provide better training for 21st Century jobs, our budget will invest $300 million of one-time funding for capital improvements and equipment for career tech education.',\n",
       " 'If a child’s passion instead takes them to college, many families worry if they can afford it.  And so, for the first time ever -- we will provide need-based financial aid to students choosing to enroll in community colleges or university regional campuses. ',\n",
       " 'Our budget will also expand the State’s need-based scholarship, known as Ohio College Opportunity Grants, in two very important ways. ',\n",
       " 'First, we will significantly expand eligibility to include many more working Ohio families. ',\n",
       " 'And second, we will increase the scholarship amount to $6,000 per student, renewable for each of four years.',\n",
       " 'Further, to reward academic excellence, if you are in the top five percent of your high school graduating class -- wherever you go to high school in Ohio -- we plan to reward you with a $5,000 a year scholarship, also renewable for each of four years, if you choose to attend a college or university here in Ohio.',\n",
       " 'WORKFORCE/JOBS/ECONOMIC DEVELOPMENT',\n",
       " 'We want our children to grow, learn, and ultimately live and work right here in Ohio!  And we believe the changes we have announced today will help them do that.  Keeping our young people in Ohio has never been more important, as we create jobs faster than we can fill them.  ',\n",
       " 'Now, I want to take a moment to recognize my friend and partner in moving Ohio forward -- Lieutenant Governor Jon Husted. ',\n",
       " 'Jon has focused relentlessly on growing our workforce and on economic development.  Since the Intel announcement just a year ago, we’ve celebrated groundbreakings, expansions, and investments all over the State:',\n",
       " 'Smucker’s announced plans for a new research and development facility in Orville! ',\n",
       " 'Abbott chose Bowling Green for the site of its new powder formula facility! ',\n",
       " 'And Medpace is expanding its healthcare research work in Cincinnati!  ',\n",
       " 'Ohio, which has a rich history in automotives, has also become an emerging force in electric vehicle and EV parts manufacturing.',\n",
       " 'Ford chose Avon Lake for the assembly of its all-new commercial electric vehicle.',\n",
       " 'General Motors selected Toledo for its first electric vehicle propulsion plant in the United States. ',\n",
       " 'And Honda -- with whom Ohio’s partnership stretches back 40 years -- chose Fayette County for its brand-new EV battery plant!',\n",
       " 'There is no question -- Ohio is on the move! ',\n",
       " 'In the last four years, 48 companies left the East and West Coasts for Ohio, creating more than 14,000 new jobs, $1.1 billion in new Ohio payroll, and $24.9 billion in new capital investment.  ',\n",
       " 'While we have had so many successes and everyone is excited about Intel, I have heard from a lot of people outside of Central Ohio who ask, “What about us?” ',\n",
       " 'One of the reasons Intel is locating in Licking County is because the site was one of few in the State that could handle an economic development project of that magnitude.  We simply don’t have enough shovel-ready, development-ready sites for the kind of calls we are getting from companies all over the world. ',\n",
       " 'If a manufacturer calls and says, “We need 400 acres with roads, water, gas, and electricity,” we need to have sites immediately available to show them NOW. ',\n",
       " 'We want ALL regions of the State to participate in Ohio’s economic revival -- and for all Ohioans to prosper from it.  Every region of the State has good sites, however, many of them are not yet ready for development. ',\n",
       " 'When a business is looking for a site, they want to move quickly, and so we must get these sites ready so that we can capture these jobs in every part of the State.',\n",
       " 'As President Ronald Reagan once said, “America is too great for small dreams.”  Well, my friends, so is Ohio! ',\n",
       " 'And that is why our budget creates the “All Ohio Future Fund” -- a one-time investment that will provide a lifetime of returns!  We will make an unprecedented $2.5 billion investment to prepare the infrastructure of large economic development sites located in every single part of Ohio.  With the development of these sites, every single Ohio citizen will be within commuting distance of at least one of these sites.',\n",
       " 'Innovation is in our blood!  And with your help, we now have thriving Innovation Districts in Cincinnati, Columbus, and Cleveland.  They partner businesses with our colleges and universities to develop new STEM education talent, create tens of thousands of jobs, and bring about new research, extraordinary technology, and life-saving medical advancements.',\n",
       " 'In our budget, we will invest an additional $150 million to create new Innovation Hubs in regions throughout the State.  These hubs will bring together each community’s strengths to encourage more economic development and attract the very best talent. ',\n",
       " 'MENTAL HEALTH',\n",
       " 'For the past year, I have talked a lot about mental health, but there was a time when no one wanted to talk about it -- a time when it was easier to simply look the other way.   ',\n",
       " 'My Fellow Ohioans -- That time is over! ',\n",
       " 'Each of us knows someone who is struggling.  Maybe you have a friend who is depressed or anxious about the future. ',\n",
       " 'Maybe your brother or sister has schizophrenia, but you’ve never told your friends because you’re too embarrassed. ',\n",
       " 'Maybe your mom or dad has an addiction to alcohol or opioids and can no longer hold a job. ',\n",
       " 'Maybe your child has bi-polar disorder and has contemplated suicide.',\n",
       " 'Or, maybe you, yourself, have. ',\n",
       " 'Thankfully, more people today are starting to talk more openly about these issues, just as Bengals tight end, Hayden Hurst, is doing by sharing publicly his own mental health struggles -- and also through education campaigns, like our public-private partnership, to create the “Beat the Stigma” commercials, which have now been seen by nearly 90 percent of Ohioans. ',\n",
       " 'As author and civil rights activist James Baldwin once said, “Not everything that is faced can be changed, but nothing can be changed unless it is faced.”  And so, we must face the fact that no Ohioan will ever fully live up to their potential or be able to lead purposeful and meaningful lives if their mental illness remains in the shadows and untreated.    ',\n",
       " 'Despite the good intentions of the past, our country has never fully built a community mental health system.  Sixty years ago, President John F. Kennedy signed the Community Mental Health Act of 1963 -- releasing thousands of women and men with mental illness from psychiatric hospitals.  The promise then was that a system of care would be built so that these men and women, and others with untreated mental illness, would live with dignity and receive treatment in their own communities. ',\n",
       " 'That promise was never fully kept -- not nationally, nor in Ohio -- and the community system of care was never fully built.  But, with your help we have started to make progress. ',\n",
       " 'Since the time I took office -- beginning with the Student Wellness and Success dollars for schools right up to the additional resources you provided in the recent lame duck session -- we are tackling things head on!',\n",
       " 'Yet, there remains so much more to do. ',\n",
       " 'The budget I am releasing later today is centered on:',\n",
       " 'In this budget, you will see growing investments to expand what’s working -- to all 88 counties, including:',\n",
       " 'Treatment and counseling services delivered either in person or through telehealth visits to people directly in their homes and workplaces.',\n",
       " 'Suicide prevention to end the needless loss of our brothers and sisters.',\n",
       " 'Support for our youngest Ohioans, so they can have a great start to life and get help at the earliest sign of a behavioral health need.',\n",
       " 'Expansion of the crisis care system and the new 9-8-8 hotline so fewer Ohioans land in the emergency room. ',\n",
       " 'And, increased access to state hospitals and private psychiatric hospitals to ease stress on families, emergency departments, courts, and jails.',\n",
       " 'Further, we are proposing a one-time investment to expand the capacity of our pediatric behavioral health care system to address the shortage of behavioral health professionals serving children -- and to expand critical facilities. ',\n",
       " 'Now, while many families are getting good results from what’s currently available, others languish.  And so, we must do more. ',\n",
       " 'We must not accept that mental illness and addiction are inevitable. ',\n",
       " 'Or that some of these illnesses can’t be prevented.',\n",
       " 'Or that we have advanced treatment as far as it will go.',\n",
       " 'Or that recovery is only for the few and the lucky. ',\n",
       " 'None of these things are true.',\n",
       " 'What instead is true is that Ohioans know how to impact change.  Ohioans don’t wait for others to solve our problems.  That’s not who we are.  It’s not in our DNA. ',\n",
       " 'What IS in our DNA is a great passion for and history of research and innovation!  From the Wright Brothers taking the lead on flight research to Albert Sabin developing the life-saving oral Polio vaccine -- when we have a problem, we figure out solutions -- and then the rest of the world FOLLOWS Ohio!',\n",
       " 'As we look toward how we continue to address the mental health and addiction challenges of our citizens and families, I am reminded of something Desmond Tutu once said.  He said that “there comes a point where we need to stop just pulling people out of the river.  We need to go upstream and find out why they’re falling in.” ',\n",
       " 'To make meaningful change, we must figure out why so many of our fellow Ohioans keep falling into that proverbial river and finally get to the root causes of mental illness and addiction. ',\n",
       " 'We must engage the best and brightest minds in Ohio to focus on what’s really holding Ohio families and communities back.  In doing so, our budget will approach mental health care more holistically.  For the truth is -- from research to treatment to understanding the biological, cultural, and situational aspects of mental illness -- we have not, to this point, brought things together in a cohesive way.  ',\n",
       " 'This work will involve a coordinated, comprehensive investment in new innovations to achieve better outcomes and will recognize that what works for one person in one community may not work for everyone, everywhere in Ohio. ',\n",
       " 'And so, Members of the General Assembly, I ask you to join me in creating the “State of Ohio Action for Resiliency Network” or the SOAR Network.  ',\n",
       " 'This effort will harness the talent of our citizens to deploy a first-of-its-kind, comprehensive, multi-year research study that includes Ohioans from ALL regions of our state.  This, and other research opportunities, will help us launch new discoveries about the brain and about resilience. ',\n",
       " 'It will help us understand the unique nature of mental health issues across Ohio’s urban, suburban, rural, and Appalachian communities to better determine which interventions work best in our many diverse communities. ',\n",
       " 'It will look at individuals, but it will also take a multi-generational view of how those individuals fit into a family and into a community. ',\n",
       " 'It will include an interdisciplinary research team of counselors, social workers, sociologists, nurses, psychologists, and medical doctors from across our State.  They will work collectively to determine which counseling or other support programs in the community can best improve resiliency, so Ohioans can remain effectively engaged in school, in the workplace, in their community and -- most importantly -- in their own home, with their own family.',\n",
       " 'It will help us support our most vulnerable citizens, by figuring out how to most effectively reduce the risk of suicide, addiction, and overdose and by investing in additional evidence-based initiatives that we know work.',\n",
       " 'And finally, as these great minds develop new ways of preventing and treating mental health conditions, we will train Ohio’s behavioral health workforce in cutting edge therapies, and we will put this research into practice -- in real time -- in all corners of the State of Ohio. ',\n",
       " 'We will do these things, because they keep Ohioans working and our state thriving.  But we will also do them, because it is simply the right thing to do. ',\n",
       " 'HOUSING    ',\n",
       " 'Too many Ohio families lack adequate and affordable housing.',\n",
       " 'In recent years, we have experienced lower rates of housing construction and low vacancy rates in rental properties.  This has put a strain on our housing market, especially affecting Ohioans with low and moderate incomes. ',\n",
       " 'We started a housing conversation last year in the waning days of the legislative session.  And at that time, I pledged to the people of Ohio that we would address the issue of housing holistically.',\n",
       " 'To encourage the development of housing for lower-income families, help more Ohioans achieve the dream of homeownership, and continue the revitalization of our downtowns and historic communities, I am proposing in my budget a series of tax changes and programs. ',\n",
       " 'For the first time ever, we will create both state “Low Income Housing Tax Credits” and “Single Family Housing Tax Credits” to stimulate the construction of more housing for families. ',\n",
       " 'And, we will create an “Ohio Home Ownership Savings Account” program with Treasurer of State Sprague to allow Ohioans to save for down payments and other qualified housing expenses with reduced state tax consequences. ',\n",
       " 'NURSING HOMES',\n",
       " 'Virtually every Ohio family has a family member or knows someone living in a nursing home. ',\n",
       " 'Today, Ohio has over 960 nursing homes.  Most of them are very good, with many wonderful and compassionate workers caring for the residents -- and we are grateful for their work.',\n",
       " 'But tragically, nursing home horror stories happen in every part of our State.  I have received gut-wrenching letters from families begging for help.',\n",
       " 'Oftentimes, these are preventable tragedies caused by systemic problems in the nursing home, including poor infection prevention and control, medication errors, failure to provide care, and sometimes elder abuse.  ',\n",
       " 'Sadly, Ohio ranks 39th as a state in the most recent CMS overall Quality Star Ratings.  ',\n",
       " 'And, disturbingly, when we look at the record, too many of the facilities in Ohio have very inconsistent compliance with standards of care -- going up and then going down, repeating and correcting the same deficiencies over and over and over again.',\n",
       " 'We know that the General Assembly will be looking at the rebasing system this year, and we look forward to working with all of you and with our nursing homes to make sure that nursing homes are adequately funded. ',\n",
       " 'But, any discussion about rebasing will also include a serious discussion about quality in our nursing homes.',\n",
       " 'So, in the coming days, I will be appointing a task force to study the issues surrounding quality of life and quality of care in our nursing homes.  This matter is urgent, and I will give this group a short timeline to report back to the people of Ohio. ',\n",
       " 'They will travel across the state and will hear directly from residents and families about their lived experiences.  We will give them a voice, and we will empower them to help drive solutions.',\n",
       " 'PUBLIC SAFETY/CRIME',\n",
       " 'The most important function of government is to keep families safe.  And, I am grateful to the General Assembly for your continued support for law enforcement. ',\n",
       " 'You have helped hundreds of agencies purchase body cameras.  Recent events have once again shown us how important body camera footage can be, as well as the critical need for on-going training for our law enforcement officers. ',\n",
       " 'In addition to more resources for body cameras, my budget will include $40 million per year for continuous training for Ohio law enforcement officers on topics ranging from de-escalation to use-of-force to crisis intervention for someone with a mental illness.  This is consistent with one of the recommendations of the Legislature’s “Law Enforcement Training Funding Study Commission.” ',\n",
       " 'Training matters, and it makes a difference. ',\n",
       " 'Through your support of our Violent Crime Reduction Grant Program, we are helping communities better fight and prevent crime.  For example, in Westlake, the Police Department came to us because of a significant spike in domestic violence, aggravated assault, and gun crimes.  With our grant funding, they purchased technology that helps predict where crime will occur.  As a result, Westlake has reduced their gun-related crimes by 77 percent!',\n",
       " 'We have also created the Ohio Narcotics Intelligence Center or O-NIC, whose focus all day, every day is helping local authorities with drug trafficking investigations.  Many law enforcement agencies don’t have the capacity to process large amounts of data from computers and cell phones.  O-NIC can help.  So far, they have assisted in nearly 3,200 criminal investigations and analyzed more than 7,500 digital devices.',\n",
       " 'Now, I would like to talk about the “Next Generation 9-1-1 System.”  You might be surprised to learn that under most current 9-1-1 systems, when you call on your cell phone, it doesn’t necessarily go directly to your local dispatch center.  However, the Next Generation 9-1-1 System routes calls directly to local dispatchers and uses your cell phone’s GPS to more quickly get first responders to your exact location. ',\n",
       " 'Our budget will fully fund this system in every Ohio community. ',\n",
       " 'We will also help more agencies utilize the “Multi-Agency Radio Communication System” -- known as MARCS.  More than 3,000 first responder agencies in Ohio currently use MARCS to communicate with each other across jurisdictional lines.  However, many others use different radio systems, often making communication difficult with officers from other jurisdictions.  ',\n",
       " 'To improve the way our first responders communicate, our budget will fully pay the monthly fees for any agency that uses MARCS radios.  ',\n",
       " 'H2OHIO RIVERS INITIATIVE',\n",
       " 'In Ohio, water is one of our greatest assets!  It is tied directly to our health, our quality of life, and our ability to create jobs. ',\n",
       " 'Members of the General Assembly -- thank you!  Thank you for protecting Ohio’s water and for twice investing in our H2Ohio program, which has been focused on the algae bloom problem in Lake Erie.  I’m happy to report that this program is going according to plan and is on track!',\n",
       " 'So far, we have enrolled 1.5 million acres of farmland in Northwest Ohio to reduce runoff.  We created or are actively creating or restoring more than 265 wetlands to filter these same nutrients out of over 110,000 acres of watershed.  As part of this process, H2Ohio has also planted 80,000 trees and protected 90 threatened or endangered species.  ',\n",
       " 'Further, H2Ohio has put a focus on removing lead pipes -- and a major accomplishment came last year when the program helped remove and replace every single lead service line leading into childcare facilities in Cleveland!',\n",
       " 'We have exciting plans to expand H2Ohio to cover the entire State.  Over the next biennium, we will begin work to improve the quality and the health of our rivers, which are critical for wildlife habitat, infrastructure, drinking water, economic development, and recreation.  With your support, we will create the H2Ohio “Rivers Initiative.” ',\n",
       " 'From the Little Muskingum to the Little Miami to the Cuyahoga, Kokosing, and Conneaut Creek -- we will work to preserve and protect the health of Ohio’s rivers and the land and wildlife habitats alongside them by cleaning up polluted waterways, strategically removing dams, and restoring rivers across the State to their former glory.',\n",
       " 'CONCLUSION',\n",
       " 'The Bible warns us of the dangers of unclear and uncertain leadership -- as an “uncertain trumpet.”',\n",
       " '“For if the trumpet give an uncertain sound, who shall prepare himself for battle?”    ',\n",
       " 'And so, I have tried today to be crystal clear about where I believe we must go as a State and what we must do.  However, I also recognize the great role -- the Constitutional role -- that this General Assembly plays in our system of government.',\n",
       " 'But, all of us must remember -- and take comfort in -- the fact our greatness as a state lies, not so much in our leaders, but rather in the wisdom, and the common sense, and the goodness of our people.',\n",
       " 'May God Bless Ohio -- and may God Bless its people.']"
      ]
     },
     "execution_count": 51,
     "metadata": {},
     "output_type": "execute_result"
    }
   ],
   "source": [
    "# try Selenium since attempt with general definition (using BeautifulSoup) wasn't working\n",
    "\n",
    "# initiate session \n",
    "driver = webdriver.Chrome()\n",
    "driver.get(\"https://governor.ohio.gov/media/news-and-media/governor-dewines-2023-state-of-the-state-address-01312023\")\n",
    "time.sleep(3)\n",
    "\n",
    "# access content \n",
    "results = driver.find_element(By.XPATH,'//*[@id=\"js-odx-content__body\"]')\n",
    "#results\n",
    "\n",
    "# access text results\n",
    "p_results = results.find_elements(By.TAG_NAME, 'p') \n",
    "p_text = [i.text for i in p_results]\n",
    "#p_text\n",
    "\n",
    "# end session\n",
    "driver.quit()"
   ]
  },
  {
   "cell_type": "code",
   "execution_count": 54,
   "id": "b3fd220c",
   "metadata": {
    "hidden": true
   },
   "outputs": [],
   "source": [
    "# merge text results \n",
    "result_merged = \" \".join(p_text)\n",
    "# result_merged\n",
    "\n",
    "# add to df\n",
    "df.loc[df.state == 'ohio', 'text'] = result_merged\n",
    "df.loc[df.state=='ohio', 'type'] = 'sos'"
   ]
  },
  {
   "cell_type": "markdown",
   "id": "7eff97b4",
   "metadata": {
    "heading_collapsed": true
   },
   "source": [
    "## Oklahoma\n",
    "[Website](https://oklahoma.gov/governor/newsroom/newsroom/2023/february2023/governor-stitt-delivers-2023-state-of-the-state-address.html)"
   ]
  },
  {
   "cell_type": "code",
   "execution_count": 199,
   "id": "3367c7ab",
   "metadata": {
    "hidden": true
   },
   "outputs": [],
   "source": [
    "# use the customized BeautifulSoup function to scrape the Oklahoma website \n",
    "df = scrape_content(link = 'https://oklahoma.gov/governor/newsroom/newsroom/2023/february2023/governor-stitt-delivers-2023-state-of-the-state-address.html',\n",
    "                 state = 'oklahoma', \n",
    "                 release_type = 'sos',\n",
    "                 html1 = 'div', \n",
    "                 id_info='text-684b40b6c6', \n",
    "                 html2 = 'p') "
   ]
  },
  {
   "cell_type": "markdown",
   "id": "54194cea",
   "metadata": {
    "heading_collapsed": true
   },
   "source": [
    "## Oregon\n",
    "[Website](https://www.oregon.gov/gov/speeches/Pages/2023-01-09-inauguration.aspx)"
   ]
  },
  {
   "cell_type": "code",
   "execution_count": 208,
   "id": "1541f77a",
   "metadata": {
    "hidden": true
   },
   "outputs": [],
   "source": [
    "# use the customized BeautifulSoup function to scrape the Oregon website \n",
    "df = scrape_content(link = 'https://www.oregon.gov/gov/speeches/Pages/2023-01-09-inauguration.aspx',\n",
    "                 state = 'oregon', \n",
    "                 release_type = 'inaug',\n",
    "                 html1 = 'div', \n",
    "                 id_info= 'ctl00_ctl00_MainContentPlaceHolder_PageContentPlaceHolder_PageContentPlaceHolder_RichHtmlField1__ControlWrapper_OregonRichHtmlField',\n",
    "                 html2 = 'p') "
   ]
  },
  {
   "cell_type": "markdown",
   "id": "06920c69",
   "metadata": {
    "heading_collapsed": true
   },
   "source": [
    "## Pennsylvania\n",
    "[Website](https://www.governor.pa.gov/newsroom/governor-shapiro-inaugural-address-as-prepared/)"
   ]
  },
  {
   "cell_type": "code",
   "execution_count": 15,
   "id": "1391b95b",
   "metadata": {
    "hidden": true
   },
   "outputs": [],
   "source": [
    "# use the customized BeautifulSoup function to scrape the Pennsylvania website \n",
    "df = scrape_content(link = 'https://www.governor.pa.gov/newsroom/governor-shapiro-inaugural-address-as-prepared/',\n",
    "              state = 'pennsylvania', \n",
    "              release_type = 'inaug',\n",
    "              html1 = 'article',\n",
    "              id_info = 'post-6351636',\n",
    "              html2 = 'p')"
   ]
  },
  {
   "cell_type": "markdown",
   "id": "16a43a70",
   "metadata": {
    "heading_collapsed": true
   },
   "source": [
    "## Rhode Island\n",
    "[Website](https://governor.ri.gov/press-releases/governor-daniel-j-mckees-2023-state-state-address)"
   ]
  },
  {
   "cell_type": "code",
   "execution_count": 102,
   "id": "b53ac51c",
   "metadata": {
    "hidden": true
   },
   "outputs": [],
   "source": [
    "# use the customized BeautifulSoup function to scrape the Rhode Island website \n",
    "df = scrape_content(link = 'https://governor.ri.gov/press-releases/governor-daniel-j-mckees-2023-state-state-address',\n",
    "                 state = 'rhode island', \n",
    "                 release_type = 'sos',\n",
    "                 html1 = 'article', \n",
    "                 class_ = 'node node--type-press-release node--view-mode-full',\n",
    "                 html2 = 'p') "
   ]
  },
  {
   "cell_type": "markdown",
   "id": "761ae065",
   "metadata": {
    "heading_collapsed": true
   },
   "source": [
    "## South Carolina\n",
    "[Website](https://governor.sc.gov/news/2023-01/2023-state-state-address-governor-henry-mcmaster)"
   ]
  },
  {
   "cell_type": "code",
   "execution_count": 103,
   "id": "eaacca14",
   "metadata": {
    "hidden": true
   },
   "outputs": [],
   "source": [
    "# use the customized BeautifulSoup function to scrape the South Carolina website \n",
    "df = scrape_content(link = 'https://governor.sc.gov/news/2023-01/2023-state-state-address-governor-henry-mcmaster',\n",
    "                 state = 'south carolina', \n",
    "                 release_type = 'sos',\n",
    "                 html1 = 'div', \n",
    "                 class_ = 'mainContent group',\n",
    "                 html2 = 'p') "
   ]
  },
  {
   "cell_type": "markdown",
   "id": "2e22e556",
   "metadata": {
    "heading_collapsed": true
   },
   "source": [
    "## South Dakota \n",
    "[Website](https://news.sd.gov/news?id=news_kb_article_view&sys_id=0160a6f91b1029901de443bae54bcb0f)"
   ]
  },
  {
   "cell_type": "code",
   "execution_count": 60,
   "id": "2ec4a6e0",
   "metadata": {
    "hidden": true
   },
   "outputs": [],
   "source": [
    "# use the customized Selenium function to scrape the South Dakota website (wouldn't work with BeautifulSoup)\n",
    "df = scrape_selenium(link = 'https://news.sd.gov/news?id=news_kb_article_view&sys_id=0160a6f91b1029901de443bae54bcb0f',\n",
    "               STATE = 'south dakota',\n",
    "               xpath= '//*[@id=\"x_g_sdbo_news_u_kb_article_body\"]',\n",
    "               ptag = 'p', \n",
    "               release_type='sos')"
   ]
  },
  {
   "cell_type": "markdown",
   "id": "941afd43",
   "metadata": {
    "heading_collapsed": true
   },
   "source": [
    "## Tennessee\n",
    "[Website](https://www.tn.gov/governor/sots/2023-state-of-the-state-address.html)"
   ]
  },
  {
   "cell_type": "code",
   "execution_count": 104,
   "id": "1538cdaa",
   "metadata": {
    "hidden": true
   },
   "outputs": [],
   "source": [
    "# use the customized BeautifulSoup function to scrape the Tennessee website \n",
    "df = scrape_content(link = 'https://www.tn.gov/governor/sots/2023-state-of-the-state-address.html',\n",
    "                 state = 'tennessee', \n",
    "                 release_type = 'sos',\n",
    "                 html1 = 'div', \n",
    "                 class_ = 'tn-rte',\n",
    "                 html2 = 'p') "
   ]
  },
  {
   "cell_type": "markdown",
   "id": "cd84c7f4",
   "metadata": {
    "heading_collapsed": true
   },
   "source": [
    "## Texas\n",
    "[Website](https://gov.texas.gov/news/post/governor-abbott-delivers-2023-texas-inaugural-address-)"
   ]
  },
  {
   "cell_type": "code",
   "execution_count": 105,
   "id": "52efe91b",
   "metadata": {
    "hidden": true
   },
   "outputs": [],
   "source": [
    "# use the customized BeautifulSoup function to scrape the Texas website \n",
    "df = scrape_content(link = 'https://gov.texas.gov/news/post/governor-abbott-delivers-2023-texas-inaugural-address-',\n",
    "                 state = 'texas', \n",
    "                 release_type = 'inaug',\n",
    "                 html1 = 'section', \n",
    "                 class_ = 'l-content columns small-12',\n",
    "                 html2 = 'p') "
   ]
  },
  {
   "cell_type": "markdown",
   "id": "f7752aaa",
   "metadata": {
    "heading_collapsed": true
   },
   "source": [
    "## Vermont \n",
    "[Website](https://governor.vermont.gov/press-release/governor-phil-scott-delivers-fourth-inaugural-address)"
   ]
  },
  {
   "cell_type": "code",
   "execution_count": 66,
   "id": "092b90b0",
   "metadata": {
    "hidden": true
   },
   "outputs": [],
   "source": [
    "# use the customized Selenium function to scrape the Vermont website (BeautifulSoup didn't work)\n",
    "df = scrape_selenium(link = 'https://governor.vermont.gov/press-release/governor-phil-scott-delivers-fourth-inaugural-address',\n",
    "               STATE = 'vermont',\n",
    "               xpath= '//*[@id=\"block-governor-governor-system-main\"]/article/div/div[3]',\n",
    "               ptag = 'p', \n",
    "               release_type='inaug')"
   ]
  },
  {
   "cell_type": "markdown",
   "id": "d6ad0c64",
   "metadata": {
    "heading_collapsed": true
   },
   "source": [
    "## Virginia\n",
    "[Website](https://www.governor.virginia.gov/newsroom/news-releases/2023/january/name-979187-en.html)"
   ]
  },
  {
   "cell_type": "code",
   "execution_count": 106,
   "id": "ec3917f5",
   "metadata": {
    "hidden": true
   },
   "outputs": [],
   "source": [
    "# definition (tweaked after scraping)\n",
    "def scrape_virginia(link, state, release_type, html1, html2, id_info=None, **kwargs):\n",
    "    try:\n",
    "        server_response = requests.get(link, headers = header_list)\n",
    "        soup_link = bs4.BeautifulSoup(server_response.content, features=\"html.parser\")\n",
    "        try: \n",
    "            result = soup_link.find_all(html1, {\"id\": id_info}, **kwargs)\n",
    "        except: \n",
    "            result = soup_link.find_all(html1, **kwargs)\n",
    "        \n",
    "        result1 = result[1]\n",
    "        p_result = result1.find_all(html2)\n",
    "        # clean\n",
    "        string_result = [str(i.text) for i in p_result]\n",
    "        string_result_clean = [i.replace(u'\\xa0', u' ') for i in string_result]\n",
    "        string_result_clean = [i.replace(u'\\n', u' ') for i in string_result_clean]\n",
    "        result_merged = \" \".join(string_result_clean)\n",
    "       \n",
    "        # add to df\n",
    "        df.loc[df.state == state, 'text'] = result_merged\n",
    "        df.loc[df.state == state, 'type'] = release_type\n",
    "        \n",
    "        #return result \n",
    "        #return p_result\n",
    "        #return result_merged \n",
    "        return df\n",
    "         \n",
    "    except Exception as e: \n",
    "        print(f'error due to {e}')"
   ]
  },
  {
   "cell_type": "code",
   "execution_count": 107,
   "id": "e0a960be",
   "metadata": {
    "hidden": true
   },
   "outputs": [],
   "source": [
    "df = scrape_virginia(link = 'https://www.governor.virginia.gov/newsroom/news-releases/2023/january/name-979187-en.html',\n",
    "                 state = 'virginia', \n",
    "                 release_type = 'sos',\n",
    "                 html1 = 'table', \n",
    "                 class_ = 'layout layout--1-column',\n",
    "                 html2 = 'p') "
   ]
  },
  {
   "cell_type": "markdown",
   "id": "c8593274",
   "metadata": {
    "heading_collapsed": true
   },
   "source": [
    "## Washington\n",
    "[Website](https://medium.com/wagovernor/inslee-delivers-state-of-the-state-bold-actions-for-building-a-stronger-washington-5541a39977cb)"
   ]
  },
  {
   "cell_type": "code",
   "execution_count": 108,
   "id": "223db580",
   "metadata": {
    "hidden": true
   },
   "outputs": [],
   "source": [
    "# definition (tweaked after scraping)\n",
    "def scrape_washington(link, state, release_type, html1, id_info=None, **kwargs):\n",
    "    try:\n",
    "        server_response = requests.get(link, headers = header_list)\n",
    "        soup_link = bs4.BeautifulSoup(server_response.content, features=\"html.parser\")\n",
    "        p_result = soup_link.find_all(html1)\n",
    "        # clean\n",
    "        string_result = [str(i.text) for i in p_result]\n",
    "        string_result_clean = [i.replace(u'\\xa0', u' ') for i in string_result]\n",
    "        string_result_clean = [i.replace(u'\\n', u' ') for i in string_result_clean]\n",
    "        result_merged = \" \".join(string_result_clean)\n",
    "       \n",
    "        # add to df\n",
    "        df.loc[df.state == state, 'text'] = result_merged\n",
    "        df.loc[df.state == state, 'type'] = release_type\n",
    "        \n",
    "        #return result \n",
    "        #return p_result\n",
    "        #return result_merged \n",
    "        return df\n",
    "         \n",
    "    except Exception as e: \n",
    "        print(f'error due to {e}')"
   ]
  },
  {
   "cell_type": "code",
   "execution_count": 109,
   "id": "ac376bbc",
   "metadata": {
    "hidden": true
   },
   "outputs": [],
   "source": [
    "# note, the address was published by the Governor's office on Medium \n",
    "df = scrape_washington(link = 'https://medium.com/wagovernor/inslee-delivers-state-of-the-state-bold-actions-for-building-a-stronger-washington-5541a39977cb',\n",
    "                 state = 'washington', \n",
    "                 release_type = 'sos',\n",
    "                 html1 = 'p') "
   ]
  },
  {
   "cell_type": "markdown",
   "id": "262b010b",
   "metadata": {
    "heading_collapsed": true
   },
   "source": [
    "## West Virginia\n",
    "[Website](https://governor.wv.gov/News/press-releases/2023/Pages/Gov.-Justice-delivers-his-2023-West-Virginia-State-of-the-State-Address.aspx)"
   ]
  },
  {
   "cell_type": "code",
   "execution_count": 110,
   "id": "d6fa4c38",
   "metadata": {
    "hidden": true
   },
   "outputs": [],
   "source": [
    "# definition (tweaked after scraping)\n",
    "def scrape_west_virginia(link, state, release_type, html1, id_info=None, **kwargs):\n",
    "    try:\n",
    "        server_response = requests.get(link, headers = header_list)\n",
    "        soup_link = bs4.BeautifulSoup(server_response.content, features=\"html.parser\")\n",
    "        p_result = soup_link.find_all(html1, **kwargs)\n",
    "        # clean\n",
    "        string_result = [str(i.text) for i in p_result]\n",
    "        string_result_clean = [i.replace(u'\\xa0', u' ') for i in string_result]\n",
    "        string_result_clean = [i.replace(u'\\n', u' ') for i in string_result_clean]\n",
    "        result_merged = \" \".join(string_result_clean)\n",
    "       \n",
    "        # add to df\n",
    "        df.loc[df.state == state, 'text'] = result_merged\n",
    "        df.loc[df.state == state, 'type'] = release_type\n",
    "        \n",
    "        #return result \n",
    "        #return p_result\n",
    "        #return result_merged \n",
    "        return df\n",
    "         \n",
    "    except Exception as e: \n",
    "        print(f'error due to {e}')"
   ]
  },
  {
   "cell_type": "code",
   "execution_count": 111,
   "id": "caf26c41",
   "metadata": {
    "hidden": true
   },
   "outputs": [],
   "source": [
    "df = scrape_west_virginia(link = 'https://governor.wv.gov/News/press-releases/2023/Pages/Gov.-Justice-delivers-his-2023-West-Virginia-State-of-the-State-Address.aspx',\n",
    "                 state = 'west virginia', \n",
    "                 release_type = 'sos',\n",
    "                 html1 = 'td') "
   ]
  },
  {
   "cell_type": "markdown",
   "id": "2f78de6e",
   "metadata": {
    "heading_collapsed": true
   },
   "source": [
    "## Wisconsin \n",
    "[Wisconsin](https://content.govdelivery.com/accounts/WIGOV/bulletins/343fc2b)"
   ]
  },
  {
   "cell_type": "code",
   "execution_count": 74,
   "id": "679bfcf7",
   "metadata": {
    "hidden": true
   },
   "outputs": [],
   "source": [
    "# use the customized Selenium function to scrape the Wisconsin website (wouldn't work with BeautifulSoup)\n",
    "# note, this website was a newsletter issued by the Governor's office through GovDelivery\n",
    "df = scrape_selenium(link = 'https://content.govdelivery.com/accounts/WIGOV/bulletins/343fc2b',\n",
    "               STATE = 'wisconsin',\n",
    "               xpath= '//*[@id=\"bulletin_body\"]/table/tbody/tr[7]/td',\n",
    "               ptag = 'em', \n",
    "               release_type='inaug')"
   ]
  },
  {
   "cell_type": "markdown",
   "id": "b68b19d4",
   "metadata": {
    "heading_collapsed": true
   },
   "source": [
    "## Wyoming\n",
    "[Website](https://governor.wyo.gov/news-releases/governor-gordon-offers-a-blueprint-for-wyoming-to-lead-the-nation-)"
   ]
  },
  {
   "cell_type": "code",
   "execution_count": 79,
   "id": "4337e98c",
   "metadata": {
    "hidden": true
   },
   "outputs": [],
   "source": [
    "# use the customized Selenium function to scrape the Wyoming website (wouldn't work with BeautifulSoup)\n",
    "df = scrape_selenium(link = 'https://governor.wyo.gov/news-releases/governor-gordon-offers-a-blueprint-for-wyoming-to-lead-the-nation-',\n",
    "               STATE = 'wyoming',\n",
    "               xpath= '//*[@id=\"app\"]/div/div/div/main/main/div/div',\n",
    "               ptag = 'p', \n",
    "               release_type='sos')"
   ]
  },
  {
   "cell_type": "markdown",
   "id": "44a2ba59",
   "metadata": {},
   "source": [
    "## Export"
   ]
  },
  {
   "cell_type": "code",
   "execution_count": 17,
   "id": "d97208d9",
   "metadata": {},
   "outputs": [],
   "source": [
    "#df.to_csv('sos_df_23.csv', index = False)\n",
    "df.to_csv('sos_df_23_revised.csv', index = False)"
   ]
  }
 ],
 "metadata": {
  "kernelspec": {
   "display_name": "Python 3 (ipykernel)",
   "language": "python",
   "name": "python3"
  },
  "language_info": {
   "codemirror_mode": {
    "name": "ipython",
    "version": 3
   },
   "file_extension": ".py",
   "mimetype": "text/x-python",
   "name": "python",
   "nbconvert_exporter": "python",
   "pygments_lexer": "ipython3",
   "version": "3.9.12"
  }
 },
 "nbformat": 4,
 "nbformat_minor": 5
}
