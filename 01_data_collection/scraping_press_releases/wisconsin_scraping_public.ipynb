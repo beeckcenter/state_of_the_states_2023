{
 "cells": [
  {
   "cell_type": "markdown",
   "id": "f00d02a5",
   "metadata": {},
   "source": [
    "# Wisconsin Scraping "
   ]
  },
  {
   "cell_type": "code",
   "execution_count": 10,
   "id": "2d2ca3c3",
   "metadata": {},
   "outputs": [
    {
     "name": "stdout",
     "output_type": "stream",
     "text": [
      "Exception reporting mode: Minimal\n"
     ]
    }
   ],
   "source": [
    "# set up \n",
    "import pandas as pd \n",
    "import requests \n",
    "import bs4\n",
    "import numpy as np\n",
    "import time \n",
    "import re\n",
    "from tika import parser\n",
    "from selenium import webdriver\n",
    "from selenium.webdriver.common.by import By\n",
    "from selenium.webdriver.support.ui import WebDriverWait\n",
    "from selenium.webdriver.support import expected_conditions as EC\n",
    "from selenium.webdriver.support.select import Select\n",
    "from selenium.webdriver.common.action_chains import ActionChains\n",
    "from selenium.webdriver.common.desired_capabilities import DesiredCapabilities\n",
    "from selenium.common.exceptions import StaleElementReferenceException, TimeoutException\n",
    "from io import BytesIO\n",
    "from urllib.request import urlopen\n",
    "\n",
    "from IPython.core.interactiveshell import InteractiveShell \n",
    "InteractiveShell.ast_node_interactivity = \"all\"\n",
    "\n",
    "%xmode Minimal"
   ]
  },
  {
   "cell_type": "code",
   "execution_count": 4,
   "id": "4b8c25f3",
   "metadata": {},
   "outputs": [],
   "source": [
    "# # set headers\n",
    "# header_list = {'User-Agent': REDACTED,\n",
    "#               'Accept-Language': 'en-US,en;q=0.9'}"
   ]
  },
  {
   "cell_type": "code",
   "execution_count": 5,
   "id": "0b85368d",
   "metadata": {},
   "outputs": [],
   "source": [
    "# state - UPDATE EACH TIME\n",
    "state = 'wisconsin'"
   ]
  },
  {
   "cell_type": "code",
   "execution_count": null,
   "id": "150c1170",
   "metadata": {},
   "outputs": [],
   "source": [
    "# review of robots.txt - non existent"
   ]
  },
  {
   "cell_type": "code",
   "execution_count": null,
   "id": "92379a17",
   "metadata": {},
   "outputs": [],
   "source": [
    "# test = pd.read_csv(f'{state}_2023.csv')\n",
    "# test.head()"
   ]
  },
  {
   "cell_type": "markdown",
   "id": "40a0e028",
   "metadata": {},
   "source": [
    "## Scrape links \n",
    "`Selenium`"
   ]
  },
  {
   "cell_type": "code",
   "execution_count": null,
   "id": "c02413e0",
   "metadata": {},
   "outputs": [],
   "source": [
    "driver = webdriver.Chrome()\n",
    "driver.get('https://evers.wi.gov/Pages/Newsroom/Press-Releases.aspx')\n",
    "\n",
    "wait = WebDriverWait(driver, 3)\n",
    "\n",
    "wait.until(EC.presence_of_all_elements_located((By.XPATH, '//*[@id=\"heading2023\"]/a')))\n",
    "\n",
    "apply = driver.find_element(By.XPATH, '//*[@id=\"heading2023\"]/a')\n",
    "\n",
    "driver.execute_script(\"arguments[0].click();\", apply);\n",
    "\n",
    "all_2023 = driver.find_element(By.XPATH, '//*[@id=\"collapse2023\"]/div')\n",
    "\n",
    "links = all_2023.find_elements(By.TAG_NAME, 'li')\n",
    "\n",
    "results_list = [{'title': i.find_element(By.TAG_NAME, 'a').text,\n",
    "                'date': i.text, \n",
    "                'link': i.find_element(By.TAG_NAME, 'a').get_attribute('href')} for i in links]\n",
    "\n",
    "df = pd.DataFrame.from_dict(results_list)\n",
    "df.title = [i.split('—')[0].strip() for i in df.title]\n",
    "df.date = [i.split('—')[1].strip() for i in df.date]\n",
    "    \n",
    "driver.close()"
   ]
  },
  {
   "cell_type": "code",
   "execution_count": null,
   "id": "b7e209b1",
   "metadata": {},
   "outputs": [],
   "source": [
    "df.head()"
   ]
  },
  {
   "cell_type": "code",
   "execution_count": null,
   "id": "1efed926",
   "metadata": {},
   "outputs": [],
   "source": [
    "# add empty content column \n",
    "df['content'] = np.nan\n",
    "df.head()"
   ]
  },
  {
   "cell_type": "code",
   "execution_count": null,
   "id": "4e15e0d0",
   "metadata": {},
   "outputs": [],
   "source": [
    "# export\n",
    "df.to_csv(f'{state}_links.csv', index = False)"
   ]
  },
  {
   "cell_type": "code",
   "execution_count": 6,
   "id": "8e4b5d44",
   "metadata": {},
   "outputs": [
    {
     "data": {
      "text/html": [
       "<div>\n",
       "<style scoped>\n",
       "    .dataframe tbody tr th:only-of-type {\n",
       "        vertical-align: middle;\n",
       "    }\n",
       "\n",
       "    .dataframe tbody tr th {\n",
       "        vertical-align: top;\n",
       "    }\n",
       "\n",
       "    .dataframe thead th {\n",
       "        text-align: right;\n",
       "    }\n",
       "</style>\n",
       "<table border=\"1\" class=\"dataframe\">\n",
       "  <thead>\n",
       "    <tr style=\"text-align: right;\">\n",
       "      <th></th>\n",
       "      <th>title</th>\n",
       "      <th>date</th>\n",
       "      <th>link</th>\n",
       "      <th>content</th>\n",
       "    </tr>\n",
       "  </thead>\n",
       "  <tbody>\n",
       "    <tr>\n",
       "      <th>0</th>\n",
       "      <td>Gov. Evers Orders Flags to Half-Staff in Honor...</td>\n",
       "      <td>December 28, 2023</td>\n",
       "      <td>https://content.govdelivery.com/accounts/WIGOV...</td>\n",
       "      <td>NaN</td>\n",
       "    </tr>\n",
       "    <tr>\n",
       "      <th>1</th>\n",
       "      <td>2023 Roundup: Gov. Evers Completes Annual 72-C...</td>\n",
       "      <td>December 28, 2023</td>\n",
       "      <td>https://content.govdelivery.com/accounts/WIGOV...</td>\n",
       "      <td>NaN</td>\n",
       "    </tr>\n",
       "    <tr>\n",
       "      <th>2</th>\n",
       "      <td>Gov. Evers Seeks Applicants for Langlade Count...</td>\n",
       "      <td>December 27, 2023</td>\n",
       "      <td>https://content.govdelivery.com/accounts/WIGOV...</td>\n",
       "      <td>NaN</td>\n",
       "    </tr>\n",
       "    <tr>\n",
       "      <th>3</th>\n",
       "      <td>Gov. Evers Releases Statement Regarding Passin...</td>\n",
       "      <td>December 27, 2023</td>\n",
       "      <td>https://content.govdelivery.com/accounts/WIGOV...</td>\n",
       "      <td>NaN</td>\n",
       "    </tr>\n",
       "    <tr>\n",
       "      <th>4</th>\n",
       "      <td>Gov. Evers, First Lady Celebrate Kwanzaa in Wi...</td>\n",
       "      <td>December 26, 2023</td>\n",
       "      <td>https://content.govdelivery.com/accounts/WIGOV...</td>\n",
       "      <td>NaN</td>\n",
       "    </tr>\n",
       "  </tbody>\n",
       "</table>\n",
       "</div>"
      ],
      "text/plain": [
       "                                               title               date  \\\n",
       "0  Gov. Evers Orders Flags to Half-Staff in Honor...  December 28, 2023   \n",
       "1  2023 Roundup: Gov. Evers Completes Annual 72-C...  December 28, 2023   \n",
       "2  Gov. Evers Seeks Applicants for Langlade Count...  December 27, 2023   \n",
       "3  Gov. Evers Releases Statement Regarding Passin...  December 27, 2023   \n",
       "4  Gov. Evers, First Lady Celebrate Kwanzaa in Wi...  December 26, 2023   \n",
       "\n",
       "                                                link  content  \n",
       "0  https://content.govdelivery.com/accounts/WIGOV...      NaN  \n",
       "1  https://content.govdelivery.com/accounts/WIGOV...      NaN  \n",
       "2  https://content.govdelivery.com/accounts/WIGOV...      NaN  \n",
       "3  https://content.govdelivery.com/accounts/WIGOV...      NaN  \n",
       "4  https://content.govdelivery.com/accounts/WIGOV...      NaN  "
      ]
     },
     "execution_count": 6,
     "metadata": {},
     "output_type": "execute_result"
    }
   ],
   "source": [
    "test = pd.read_csv(f'{state}_links.csv')\n",
    "test.head()"
   ]
  },
  {
   "cell_type": "markdown",
   "id": "4eb38010",
   "metadata": {},
   "source": [
    "## Scrape Content \n",
    "`Selenium`"
   ]
  },
  {
   "cell_type": "markdown",
   "id": "2ea8d306",
   "metadata": {},
   "source": [
    "### Test"
   ]
  },
  {
   "cell_type": "code",
   "execution_count": 12,
   "id": "b7c59010",
   "metadata": {},
   "outputs": [],
   "source": [
    "def scrape_wisconsin_content(df, link):\n",
    "    window_width = 50\n",
    "    window_height = 50\n",
    "    chrome_options = webdriver.ChromeOptions()\n",
    "    chrome_options.add_argument(f\"--window-size={window_width},{window_height}\")\n",
    "    try: \n",
    "        # check if content has already been pulled\n",
    "        result = df.loc[df.link == link, 'content'].notnull().all()\n",
    "        if result:\n",
    "            return f'content already existing for {link}' \n",
    "        else:\n",
    "            try: \n",
    "                driver = webdriver.Chrome(options=chrome_options)\n",
    "#                 driver = webdriver.Chrome()\n",
    "                driver.get(link)\n",
    "                time.sleep(3)\n",
    "\n",
    "                results = driver.find_element(By.XPATH, '//*[@id=\"bulletin_body\"]/table/tbody/tr[7]/td')\n",
    "\n",
    "                final_text = results.text \n",
    "                final_text = final_text.replace(u'\\n', ' ')\n",
    "                if len(final_text) < 200: \n",
    "                    try: \n",
    "                        results = driver.find_element(By.XPATH, '//*[@id=\"bulletin_body\"]/table/tbody/tr[8]/td')\n",
    "                        final_text = results.text \n",
    "                        final_text = final_text.replace(u'\\n', ' ')\n",
    "                        df.loc[df.link == link, 'content'] = final_text\n",
    "                        return f\"success: content added from {link}\"\n",
    "                    except: \n",
    "                        pass\n",
    "                driver.close()\n",
    "\n",
    "                df.loc[df.link == link, 'content'] = final_text\n",
    "                return f\"success: content added from {link}\"\n",
    "            except: \n",
    "                pass\n",
    "    except Exception as e: \n",
    "        return f\"unable to gather content from {link} due to {e}\"  "
   ]
  },
  {
   "cell_type": "code",
   "execution_count": null,
   "id": "3ad4e251",
   "metadata": {},
   "outputs": [],
   "source": [
    "combined = df.copy()"
   ]
  },
  {
   "cell_type": "code",
   "execution_count": 14,
   "id": "c4c07cc7",
   "metadata": {},
   "outputs": [
    {
     "data": {
      "text/plain": [
       "'success: content added from https://content.govdelivery.com/accounts/WIGOV/bulletins/3821c31'"
      ]
     },
     "execution_count": 14,
     "metadata": {},
     "output_type": "execute_result"
    },
    {
     "data": {
      "text/plain": [
       "'success: content added from https://content.govdelivery.com/accounts/WIGOV/bulletins/381fb42'"
      ]
     },
     "execution_count": 14,
     "metadata": {},
     "output_type": "execute_result"
    },
    {
     "data": {
      "text/plain": [
       "'success: content added from https://content.govdelivery.com/accounts/WIGOV/bulletins/381dfd4'"
      ]
     },
     "execution_count": 14,
     "metadata": {},
     "output_type": "execute_result"
    },
    {
     "data": {
      "text/plain": [
       "'success: content added from https://content.govdelivery.com/accounts/WIGOV/bulletins/3820ce5'"
      ]
     },
     "execution_count": 14,
     "metadata": {},
     "output_type": "execute_result"
    },
    {
     "data": {
      "text/plain": [
       "'success: content added from https://content.govdelivery.com/accounts/WIGOV/bulletins/38046d6'"
      ]
     },
     "execution_count": 14,
     "metadata": {},
     "output_type": "execute_result"
    },
    {
     "data": {
      "text/plain": [
       "'success: content added from https://content.govdelivery.com/accounts/WIGOV/bulletins/3816300'"
      ]
     },
     "execution_count": 14,
     "metadata": {},
     "output_type": "execute_result"
    },
    {
     "data": {
      "text/plain": [
       "'success: content added from https://content.govdelivery.com/accounts/WIGOV/bulletins/381d86b'"
      ]
     },
     "execution_count": 14,
     "metadata": {},
     "output_type": "execute_result"
    },
    {
     "data": {
      "text/plain": [
       "'success: content added from https://content.govdelivery.com/accounts/WIGOV/bulletins/3816d6c'"
      ]
     },
     "execution_count": 14,
     "metadata": {},
     "output_type": "execute_result"
    },
    {
     "data": {
      "text/plain": [
       "'success: content added from https://content.govdelivery.com/accounts/WIGOV/bulletins/3809598'"
      ]
     },
     "execution_count": 14,
     "metadata": {},
     "output_type": "execute_result"
    },
    {
     "data": {
      "text/plain": [
       "'success: content added from https://content.govdelivery.com/accounts/WIGOV/bulletins/380fb39'"
      ]
     },
     "execution_count": 14,
     "metadata": {},
     "output_type": "execute_result"
    }
   ],
   "source": [
    "for i in combined.link[0:10]:\n",
    "    scrape_wisconsin_content(combined, i)"
   ]
  },
  {
   "cell_type": "code",
   "execution_count": 15,
   "id": "1406996f",
   "metadata": {},
   "outputs": [
    {
     "data": {
      "text/html": [
       "<div>\n",
       "<style scoped>\n",
       "    .dataframe tbody tr th:only-of-type {\n",
       "        vertical-align: middle;\n",
       "    }\n",
       "\n",
       "    .dataframe tbody tr th {\n",
       "        vertical-align: top;\n",
       "    }\n",
       "\n",
       "    .dataframe thead th {\n",
       "        text-align: right;\n",
       "    }\n",
       "</style>\n",
       "<table border=\"1\" class=\"dataframe\">\n",
       "  <thead>\n",
       "    <tr style=\"text-align: right;\">\n",
       "      <th></th>\n",
       "      <th>title</th>\n",
       "      <th>date</th>\n",
       "      <th>link</th>\n",
       "      <th>content</th>\n",
       "    </tr>\n",
       "  </thead>\n",
       "  <tbody>\n",
       "    <tr>\n",
       "      <th>0</th>\n",
       "      <td>Gov. Evers Orders Flags to Half-Staff in Honor...</td>\n",
       "      <td>December 28, 2023</td>\n",
       "      <td>https://content.govdelivery.com/accounts/WIGOV...</td>\n",
       "      <td>MADISON — Gov. Tony Evers today ordered the fl...</td>\n",
       "    </tr>\n",
       "    <tr>\n",
       "      <th>1</th>\n",
       "      <td>2023 Roundup: Gov. Evers Completes Annual 72-C...</td>\n",
       "      <td>December 28, 2023</td>\n",
       "      <td>https://content.govdelivery.com/accounts/WIGOV...</td>\n",
       "      <td>MADISON — Gov. Tony Evers today announced that...</td>\n",
       "    </tr>\n",
       "    <tr>\n",
       "      <th>2</th>\n",
       "      <td>Gov. Evers Seeks Applicants for Langlade Count...</td>\n",
       "      <td>December 27, 2023</td>\n",
       "      <td>https://content.govdelivery.com/accounts/WIGOV...</td>\n",
       "      <td>MADISON — Gov. Tony Evers announced today that...</td>\n",
       "    </tr>\n",
       "    <tr>\n",
       "      <th>3</th>\n",
       "      <td>Gov. Evers Releases Statement Regarding Passin...</td>\n",
       "      <td>December 27, 2023</td>\n",
       "      <td>https://content.govdelivery.com/accounts/WIGOV...</td>\n",
       "      <td>MADISON — Gov. Tony Evers today released a sta...</td>\n",
       "    </tr>\n",
       "    <tr>\n",
       "      <th>4</th>\n",
       "      <td>Gov. Evers, First Lady Celebrate Kwanzaa in Wi...</td>\n",
       "      <td>December 26, 2023</td>\n",
       "      <td>https://content.govdelivery.com/accounts/WIGOV...</td>\n",
       "      <td>MADISON — Gov. Tony Evers and First Lady Kathy...</td>\n",
       "    </tr>\n",
       "  </tbody>\n",
       "</table>\n",
       "</div>"
      ],
      "text/plain": [
       "                                               title               date  \\\n",
       "0  Gov. Evers Orders Flags to Half-Staff in Honor...  December 28, 2023   \n",
       "1  2023 Roundup: Gov. Evers Completes Annual 72-C...  December 28, 2023   \n",
       "2  Gov. Evers Seeks Applicants for Langlade Count...  December 27, 2023   \n",
       "3  Gov. Evers Releases Statement Regarding Passin...  December 27, 2023   \n",
       "4  Gov. Evers, First Lady Celebrate Kwanzaa in Wi...  December 26, 2023   \n",
       "\n",
       "                                                link  \\\n",
       "0  https://content.govdelivery.com/accounts/WIGOV...   \n",
       "1  https://content.govdelivery.com/accounts/WIGOV...   \n",
       "2  https://content.govdelivery.com/accounts/WIGOV...   \n",
       "3  https://content.govdelivery.com/accounts/WIGOV...   \n",
       "4  https://content.govdelivery.com/accounts/WIGOV...   \n",
       "\n",
       "                                             content  \n",
       "0  MADISON — Gov. Tony Evers today ordered the fl...  \n",
       "1  MADISON — Gov. Tony Evers today announced that...  \n",
       "2  MADISON — Gov. Tony Evers announced today that...  \n",
       "3  MADISON — Gov. Tony Evers today released a sta...  \n",
       "4  MADISON — Gov. Tony Evers and First Lady Kathy...  "
      ]
     },
     "execution_count": 15,
     "metadata": {},
     "output_type": "execute_result"
    }
   ],
   "source": [
    "combined.head()"
   ]
  },
  {
   "cell_type": "markdown",
   "id": "d97754e6",
   "metadata": {},
   "source": [
    "### Scrape content from all links"
   ]
  },
  {
   "cell_type": "code",
   "execution_count": 16,
   "id": "eb24648f",
   "metadata": {},
   "outputs": [
    {
     "data": {
      "text/plain": [
       "'content already existing for https://content.govdelivery.com/accounts/WIGOV/bulletins/3821c31'"
      ]
     },
     "execution_count": 16,
     "metadata": {},
     "output_type": "execute_result"
    },
    {
     "data": {
      "text/plain": [
       "'content already existing for https://content.govdelivery.com/accounts/WIGOV/bulletins/381fb42'"
      ]
     },
     "execution_count": 16,
     "metadata": {},
     "output_type": "execute_result"
    },
    {
     "data": {
      "text/plain": [
       "'content already existing for https://content.govdelivery.com/accounts/WIGOV/bulletins/381dfd4'"
      ]
     },
     "execution_count": 16,
     "metadata": {},
     "output_type": "execute_result"
    },
    {
     "data": {
      "text/plain": [
       "'content already existing for https://content.govdelivery.com/accounts/WIGOV/bulletins/3820ce5'"
      ]
     },
     "execution_count": 16,
     "metadata": {},
     "output_type": "execute_result"
    },
    {
     "data": {
      "text/plain": [
       "'content already existing for https://content.govdelivery.com/accounts/WIGOV/bulletins/38046d6'"
      ]
     },
     "execution_count": 16,
     "metadata": {},
     "output_type": "execute_result"
    },
    {
     "data": {
      "text/plain": [
       "'content already existing for https://content.govdelivery.com/accounts/WIGOV/bulletins/3816300'"
      ]
     },
     "execution_count": 16,
     "metadata": {},
     "output_type": "execute_result"
    },
    {
     "data": {
      "text/plain": [
       "'content already existing for https://content.govdelivery.com/accounts/WIGOV/bulletins/381d86b'"
      ]
     },
     "execution_count": 16,
     "metadata": {},
     "output_type": "execute_result"
    },
    {
     "data": {
      "text/plain": [
       "'content already existing for https://content.govdelivery.com/accounts/WIGOV/bulletins/3816d6c'"
      ]
     },
     "execution_count": 16,
     "metadata": {},
     "output_type": "execute_result"
    },
    {
     "data": {
      "text/plain": [
       "'content already existing for https://content.govdelivery.com/accounts/WIGOV/bulletins/3809598'"
      ]
     },
     "execution_count": 16,
     "metadata": {},
     "output_type": "execute_result"
    },
    {
     "data": {
      "text/plain": [
       "'content already existing for https://content.govdelivery.com/accounts/WIGOV/bulletins/380fb39'"
      ]
     },
     "execution_count": 16,
     "metadata": {},
     "output_type": "execute_result"
    },
    {
     "data": {
      "text/plain": [
       "'success: content added from https://content.govdelivery.com/accounts/WIGOV/bulletins/3812fae'"
      ]
     },
     "execution_count": 16,
     "metadata": {},
     "output_type": "execute_result"
    },
    {
     "data": {
      "text/plain": [
       "'success: content added from https://content.govdelivery.com/accounts/WIGOV/bulletins/3811004'"
      ]
     },
     "execution_count": 16,
     "metadata": {},
     "output_type": "execute_result"
    },
    {
     "data": {
      "text/plain": [
       "'success: content added from https://content.govdelivery.com/accounts/WIGOV/bulletins/3810790'"
      ]
     },
     "execution_count": 16,
     "metadata": {},
     "output_type": "execute_result"
    },
    {
     "data": {
      "text/plain": [
       "'success: content added from https://content.govdelivery.com/accounts/WIGOV/bulletins/380a330'"
      ]
     },
     "execution_count": 16,
     "metadata": {},
     "output_type": "execute_result"
    },
    {
     "data": {
      "text/plain": [
       "'success: content added from https://content.govdelivery.com/accounts/WIGOV/bulletins/38100e1'"
      ]
     },
     "execution_count": 16,
     "metadata": {},
     "output_type": "execute_result"
    },
    {
     "data": {
      "text/plain": [
       "'success: content added from https://content.govdelivery.com/accounts/WIGOV/bulletins/380d013'"
      ]
     },
     "execution_count": 16,
     "metadata": {},
     "output_type": "execute_result"
    },
    {
     "data": {
      "text/plain": [
       "'success: content added from https://content.govdelivery.com/accounts/WIGOV/bulletins/37f9a32'"
      ]
     },
     "execution_count": 16,
     "metadata": {},
     "output_type": "execute_result"
    },
    {
     "data": {
      "text/plain": [
       "'success: content added from https://content.govdelivery.com/accounts/WIGOV/bulletins/37fd8a2'"
      ]
     },
     "execution_count": 16,
     "metadata": {},
     "output_type": "execute_result"
    },
    {
     "data": {
      "text/plain": [
       "'success: content added from https://content.govdelivery.com/accounts/WIGOV/bulletins/37e3f59'"
      ]
     },
     "execution_count": 16,
     "metadata": {},
     "output_type": "execute_result"
    },
    {
     "data": {
      "text/plain": [
       "'success: content added from https://content.govdelivery.com/accounts/WIGOV/bulletins/37fce2c'"
      ]
     },
     "execution_count": 16,
     "metadata": {},
     "output_type": "execute_result"
    },
    {
     "data": {
      "text/plain": [
       "'success: content added from https://content.govdelivery.com/accounts/WIGOV/bulletins/37f678d'"
      ]
     },
     "execution_count": 16,
     "metadata": {},
     "output_type": "execute_result"
    },
    {
     "data": {
      "text/plain": [
       "'success: content added from https://content.govdelivery.com/accounts/WIGOV/bulletins/37f95f7'"
      ]
     },
     "execution_count": 16,
     "metadata": {},
     "output_type": "execute_result"
    },
    {
     "data": {
      "text/plain": [
       "'success: content added from https://content.govdelivery.com/accounts/WIGOV/bulletins/37f6be1'"
      ]
     },
     "execution_count": 16,
     "metadata": {},
     "output_type": "execute_result"
    },
    {
     "data": {
      "text/plain": [
       "'success: content added from https://content.govdelivery.com/accounts/WIGOV/bulletins/37fe4fa'"
      ]
     },
     "execution_count": 16,
     "metadata": {},
     "output_type": "execute_result"
    },
    {
     "data": {
      "text/plain": [
       "'success: content added from https://content.govdelivery.com/accounts/WIGOV/bulletins/37fade0'"
      ]
     },
     "execution_count": 16,
     "metadata": {},
     "output_type": "execute_result"
    },
    {
     "data": {
      "text/plain": [
       "'success: content added from https://content.govdelivery.com/accounts/WIGOV/bulletins/37eff08'"
      ]
     },
     "execution_count": 16,
     "metadata": {},
     "output_type": "execute_result"
    },
    {
     "data": {
      "text/plain": [
       "'success: content added from https://content.govdelivery.com/accounts/WIGOV/bulletins/37f2813'"
      ]
     },
     "execution_count": 16,
     "metadata": {},
     "output_type": "execute_result"
    },
    {
     "data": {
      "text/plain": [
       "'success: content added from https://content.govdelivery.com/accounts/WIGOV/bulletins/37e74ca'"
      ]
     },
     "execution_count": 16,
     "metadata": {},
     "output_type": "execute_result"
    },
    {
     "data": {
      "text/plain": [
       "'success: content added from https://content.govdelivery.com/accounts/WIGOV/bulletins/37ef8c0'"
      ]
     },
     "execution_count": 16,
     "metadata": {},
     "output_type": "execute_result"
    },
    {
     "data": {
      "text/plain": [
       "'success: content added from https://content.govdelivery.com/accounts/WIGOV/bulletins/37da161'"
      ]
     },
     "execution_count": 16,
     "metadata": {},
     "output_type": "execute_result"
    },
    {
     "data": {
      "text/plain": [
       "'success: content added from https://content.govdelivery.com/accounts/WIGOV/bulletins/37eca9a'"
      ]
     },
     "execution_count": 16,
     "metadata": {},
     "output_type": "execute_result"
    },
    {
     "data": {
      "text/plain": [
       "'success: content added from https://content.govdelivery.com/accounts/WIGOV/bulletins/37e7689'"
      ]
     },
     "execution_count": 16,
     "metadata": {},
     "output_type": "execute_result"
    },
    {
     "data": {
      "text/plain": [
       "'success: content added from https://content.govdelivery.com/accounts/WIGOV/bulletins/37e72dc'"
      ]
     },
     "execution_count": 16,
     "metadata": {},
     "output_type": "execute_result"
    },
    {
     "data": {
      "text/plain": [
       "'success: content added from https://content.govdelivery.com/accounts/WIGOV/bulletins/37e9a24'"
      ]
     },
     "execution_count": 16,
     "metadata": {},
     "output_type": "execute_result"
    },
    {
     "data": {
      "text/plain": [
       "'success: content added from https://content.govdelivery.com/accounts/WIGOV/bulletins/37dc96f'"
      ]
     },
     "execution_count": 16,
     "metadata": {},
     "output_type": "execute_result"
    },
    {
     "data": {
      "text/plain": [
       "'success: content added from https://content.govdelivery.com/accounts/WIGOV/bulletins/37e3e63'"
      ]
     },
     "execution_count": 16,
     "metadata": {},
     "output_type": "execute_result"
    },
    {
     "data": {
      "text/plain": [
       "'success: content added from https://content.govdelivery.com/accounts/WIGOV/bulletins/37d6a56'"
      ]
     },
     "execution_count": 16,
     "metadata": {},
     "output_type": "execute_result"
    },
    {
     "data": {
      "text/plain": [
       "'success: content added from https://content.govdelivery.com/accounts/WIGOV/bulletins/37d8f60'"
      ]
     },
     "execution_count": 16,
     "metadata": {},
     "output_type": "execute_result"
    },
    {
     "data": {
      "text/plain": [
       "'success: content added from https://content.govdelivery.com/accounts/WIGOV/bulletins/37aef63'"
      ]
     },
     "execution_count": 16,
     "metadata": {},
     "output_type": "execute_result"
    },
    {
     "data": {
      "text/plain": [
       "'success: content added from https://content.govdelivery.com/accounts/WIGOV/bulletins/37e2c7a'"
      ]
     },
     "execution_count": 16,
     "metadata": {},
     "output_type": "execute_result"
    },
    {
     "data": {
      "text/plain": [
       "'success: content added from https://content.govdelivery.com/accounts/WIGOV/bulletins/37c27ba'"
      ]
     },
     "execution_count": 16,
     "metadata": {},
     "output_type": "execute_result"
    },
    {
     "data": {
      "text/plain": [
       "'success: content added from https://content.govdelivery.com/accounts/WIGOV/bulletins/37d5e0e'"
      ]
     },
     "execution_count": 16,
     "metadata": {},
     "output_type": "execute_result"
    },
    {
     "data": {
      "text/plain": [
       "'success: content added from https://content.govdelivery.com/accounts/WIGOV/bulletins/37d61fc'"
      ]
     },
     "execution_count": 16,
     "metadata": {},
     "output_type": "execute_result"
    },
    {
     "data": {
      "text/plain": [
       "'success: content added from https://content.govdelivery.com/accounts/WIGOV/bulletins/37b060c'"
      ]
     },
     "execution_count": 16,
     "metadata": {},
     "output_type": "execute_result"
    },
    {
     "data": {
      "text/plain": [
       "'success: content added from https://content.govdelivery.com/accounts/WIGOV/bulletins/37c557f'"
      ]
     },
     "execution_count": 16,
     "metadata": {},
     "output_type": "execute_result"
    },
    {
     "data": {
      "text/plain": [
       "'success: content added from https://content.govdelivery.com/accounts/WIGOV/bulletins/37cff49'"
      ]
     },
     "execution_count": 16,
     "metadata": {},
     "output_type": "execute_result"
    },
    {
     "data": {
      "text/plain": [
       "'success: content added from https://content.govdelivery.com/accounts/WIGOV/bulletins/37c2d01'"
      ]
     },
     "execution_count": 16,
     "metadata": {},
     "output_type": "execute_result"
    },
    {
     "data": {
      "text/plain": [
       "'success: content added from https://content.govdelivery.com/accounts/WIGOV/bulletins/37c23cc'"
      ]
     },
     "execution_count": 16,
     "metadata": {},
     "output_type": "execute_result"
    },
    {
     "data": {
      "text/plain": [
       "'success: content added from https://content.govdelivery.com/accounts/WIGOV/bulletins/37af9f9'"
      ]
     },
     "execution_count": 16,
     "metadata": {},
     "output_type": "execute_result"
    },
    {
     "data": {
      "text/plain": [
       "'success: content added from https://content.govdelivery.com/accounts/WIGOV/bulletins/37b8e90'"
      ]
     },
     "execution_count": 16,
     "metadata": {},
     "output_type": "execute_result"
    },
    {
     "data": {
      "text/plain": [
       "'success: content added from https://content.govdelivery.com/accounts/WIGOV/bulletins/37aedec'"
      ]
     },
     "execution_count": 16,
     "metadata": {},
     "output_type": "execute_result"
    },
    {
     "data": {
      "text/plain": [
       "'success: content added from https://content.govdelivery.com/accounts/WIGOV/bulletins/37bf3e0'"
      ]
     },
     "execution_count": 16,
     "metadata": {},
     "output_type": "execute_result"
    },
    {
     "data": {
      "text/plain": [
       "'success: content added from https://content.govdelivery.com/accounts/WIGOV/bulletins/37bf3d0'"
      ]
     },
     "execution_count": 16,
     "metadata": {},
     "output_type": "execute_result"
    },
    {
     "data": {
      "text/plain": [
       "'success: content added from https://content.govdelivery.com/accounts/WIGOV/bulletins/37bbee4'"
      ]
     },
     "execution_count": 16,
     "metadata": {},
     "output_type": "execute_result"
    },
    {
     "data": {
      "text/plain": [
       "'success: content added from https://content.govdelivery.com/accounts/WIGOV/bulletins/37b57aa'"
      ]
     },
     "execution_count": 16,
     "metadata": {},
     "output_type": "execute_result"
    },
    {
     "data": {
      "text/plain": [
       "'success: content added from https://content.govdelivery.com/accounts/WIGOV/bulletins/37b58e1'"
      ]
     },
     "execution_count": 16,
     "metadata": {},
     "output_type": "execute_result"
    },
    {
     "data": {
      "text/plain": [
       "'success: content added from https://content.govdelivery.com/accounts/WIGOV/bulletins/37acd87'"
      ]
     },
     "execution_count": 16,
     "metadata": {},
     "output_type": "execute_result"
    },
    {
     "data": {
      "text/plain": [
       "'success: content added from https://content.govdelivery.com/accounts/WIGOV/bulletins/37ac336'"
      ]
     },
     "execution_count": 16,
     "metadata": {},
     "output_type": "execute_result"
    },
    {
     "data": {
      "text/plain": [
       "'success: content added from https://content.govdelivery.com/accounts/WIGOV/bulletins/37ac8ab'"
      ]
     },
     "execution_count": 16,
     "metadata": {},
     "output_type": "execute_result"
    },
    {
     "data": {
      "text/plain": [
       "'success: content added from https://content.govdelivery.com/accounts/WIGOV/bulletins/37b081b'"
      ]
     },
     "execution_count": 16,
     "metadata": {},
     "output_type": "execute_result"
    },
    {
     "data": {
      "text/plain": [
       "'success: content added from https://content.govdelivery.com/accounts/WIGOV/bulletins/37b0401'"
      ]
     },
     "execution_count": 16,
     "metadata": {},
     "output_type": "execute_result"
    },
    {
     "data": {
      "text/plain": [
       "'success: content added from https://content.govdelivery.com/accounts/WIGOV/bulletins/37ac380'"
      ]
     },
     "execution_count": 16,
     "metadata": {},
     "output_type": "execute_result"
    },
    {
     "data": {
      "text/plain": [
       "'success: content added from https://content.govdelivery.com/accounts/WIGOV/bulletins/3786d10'"
      ]
     },
     "execution_count": 16,
     "metadata": {},
     "output_type": "execute_result"
    },
    {
     "data": {
      "text/plain": [
       "'success: content added from https://content.govdelivery.com/accounts/WIGOV/bulletins/379dbfd'"
      ]
     },
     "execution_count": 16,
     "metadata": {},
     "output_type": "execute_result"
    },
    {
     "data": {
      "text/plain": [
       "'success: content added from https://content.govdelivery.com/accounts/WIGOV/bulletins/37a6e52'"
      ]
     },
     "execution_count": 16,
     "metadata": {},
     "output_type": "execute_result"
    },
    {
     "data": {
      "text/plain": [
       "'success: content added from https://content.govdelivery.com/accounts/WIGOV/bulletins/37a6b42'"
      ]
     },
     "execution_count": 16,
     "metadata": {},
     "output_type": "execute_result"
    },
    {
     "data": {
      "text/plain": [
       "'success: content added from https://content.govdelivery.com/accounts/WIGOV/bulletins/37a1e45'"
      ]
     },
     "execution_count": 16,
     "metadata": {},
     "output_type": "execute_result"
    },
    {
     "data": {
      "text/plain": [
       "'success: content added from https://content.govdelivery.com/accounts/WIGOV/bulletins/3790b78'"
      ]
     },
     "execution_count": 16,
     "metadata": {},
     "output_type": "execute_result"
    },
    {
     "data": {
      "text/plain": [
       "'success: content added from https://content.govdelivery.com/accounts/WIGOV/bulletins/379de9e'"
      ]
     },
     "execution_count": 16,
     "metadata": {},
     "output_type": "execute_result"
    },
    {
     "data": {
      "text/plain": [
       "'success: content added from https://content.govdelivery.com/accounts/WIGOV/bulletins/3795173'"
      ]
     },
     "execution_count": 16,
     "metadata": {},
     "output_type": "execute_result"
    },
    {
     "data": {
      "text/plain": [
       "'success: content added from https://content.govdelivery.com/accounts/WIGOV/bulletins/379abf6'"
      ]
     },
     "execution_count": 16,
     "metadata": {},
     "output_type": "execute_result"
    },
    {
     "data": {
      "text/plain": [
       "'success: content added from https://content.govdelivery.com/accounts/WIGOV/bulletins/3793c48'"
      ]
     },
     "execution_count": 16,
     "metadata": {},
     "output_type": "execute_result"
    },
    {
     "data": {
      "text/plain": [
       "'success: content added from https://content.govdelivery.com/accounts/WIGOV/bulletins/3791a00'"
      ]
     },
     "execution_count": 16,
     "metadata": {},
     "output_type": "execute_result"
    },
    {
     "data": {
      "text/plain": [
       "'success: content added from https://content.govdelivery.com/accounts/WIGOV/bulletins/3793ebb'"
      ]
     },
     "execution_count": 16,
     "metadata": {},
     "output_type": "execute_result"
    },
    {
     "data": {
      "text/plain": [
       "'success: content added from https://content.govdelivery.com/accounts/WIGOV/bulletins/379050f'"
      ]
     },
     "execution_count": 16,
     "metadata": {},
     "output_type": "execute_result"
    },
    {
     "data": {
      "text/plain": [
       "'success: content added from https://content.govdelivery.com/accounts/WIGOV/bulletins/378ad59'"
      ]
     },
     "execution_count": 16,
     "metadata": {},
     "output_type": "execute_result"
    },
    {
     "data": {
      "text/plain": [
       "'success: content added from https://content.govdelivery.com/accounts/WIGOV/bulletins/37887fa'"
      ]
     },
     "execution_count": 16,
     "metadata": {},
     "output_type": "execute_result"
    },
    {
     "data": {
      "text/plain": [
       "'success: content added from https://content.govdelivery.com/accounts/WIGOV/bulletins/376405e'"
      ]
     },
     "execution_count": 16,
     "metadata": {},
     "output_type": "execute_result"
    },
    {
     "data": {
      "text/plain": [
       "'success: content added from https://content.govdelivery.com/accounts/WIGOV/bulletins/3787336'"
      ]
     },
     "execution_count": 16,
     "metadata": {},
     "output_type": "execute_result"
    },
    {
     "data": {
      "text/plain": [
       "'success: content added from https://content.govdelivery.com/accounts/WIGOV/bulletins/3778ed4'"
      ]
     },
     "execution_count": 16,
     "metadata": {},
     "output_type": "execute_result"
    },
    {
     "data": {
      "text/plain": [
       "'success: content added from https://content.govdelivery.com/accounts/WIGOV/bulletins/37585f6'"
      ]
     },
     "execution_count": 16,
     "metadata": {},
     "output_type": "execute_result"
    },
    {
     "data": {
      "text/plain": [
       "'success: content added from https://content.govdelivery.com/accounts/WIGOV/bulletins/3776fa9'"
      ]
     },
     "execution_count": 16,
     "metadata": {},
     "output_type": "execute_result"
    },
    {
     "data": {
      "text/plain": [
       "'success: content added from https://content.govdelivery.com/accounts/WIGOV/bulletins/377376e'"
      ]
     },
     "execution_count": 16,
     "metadata": {},
     "output_type": "execute_result"
    },
    {
     "data": {
      "text/plain": [
       "'success: content added from https://content.govdelivery.com/accounts/WIGOV/bulletins/3767844'"
      ]
     },
     "execution_count": 16,
     "metadata": {},
     "output_type": "execute_result"
    },
    {
     "data": {
      "text/plain": [
       "'success: content added from https://content.govdelivery.com/accounts/WIGOV/bulletins/37744dc'"
      ]
     },
     "execution_count": 16,
     "metadata": {},
     "output_type": "execute_result"
    },
    {
     "data": {
      "text/plain": [
       "'success: content added from https://content.govdelivery.com/accounts/WIGOV/bulletins/3772ae5'"
      ]
     },
     "execution_count": 16,
     "metadata": {},
     "output_type": "execute_result"
    },
    {
     "data": {
      "text/plain": [
       "'success: content added from https://content.govdelivery.com/accounts/WIGOV/bulletins/3769f2d'"
      ]
     },
     "execution_count": 16,
     "metadata": {},
     "output_type": "execute_result"
    },
    {
     "data": {
      "text/plain": [
       "'success: content added from https://content.govdelivery.com/accounts/WIGOV/bulletins/376d18f'"
      ]
     },
     "execution_count": 16,
     "metadata": {},
     "output_type": "execute_result"
    },
    {
     "data": {
      "text/plain": [
       "'success: content added from https://content.govdelivery.com/accounts/WIGOV/bulletins/37515b0'"
      ]
     },
     "execution_count": 16,
     "metadata": {},
     "output_type": "execute_result"
    },
    {
     "data": {
      "text/plain": [
       "'success: content added from https://content.govdelivery.com/accounts/WIGOV/bulletins/376d986'"
      ]
     },
     "execution_count": 16,
     "metadata": {},
     "output_type": "execute_result"
    },
    {
     "data": {
      "text/plain": [
       "'success: content added from https://content.govdelivery.com/accounts/WIGOV/bulletins/376528d'"
      ]
     },
     "execution_count": 16,
     "metadata": {},
     "output_type": "execute_result"
    },
    {
     "data": {
      "text/plain": [
       "'success: content added from https://content.govdelivery.com/accounts/WIGOV/bulletins/3760638'"
      ]
     },
     "execution_count": 16,
     "metadata": {},
     "output_type": "execute_result"
    },
    {
     "data": {
      "text/plain": [
       "'success: content added from https://content.govdelivery.com/accounts/WIGOV/bulletins/376057e'"
      ]
     },
     "execution_count": 16,
     "metadata": {},
     "output_type": "execute_result"
    },
    {
     "data": {
      "text/plain": [
       "'success: content added from https://content.govdelivery.com/accounts/WIGOV/bulletins/3761994'"
      ]
     },
     "execution_count": 16,
     "metadata": {},
     "output_type": "execute_result"
    },
    {
     "data": {
      "text/plain": [
       "'success: content added from https://content.govdelivery.com/accounts/WIGOV/bulletins/3761fc5'"
      ]
     },
     "execution_count": 16,
     "metadata": {},
     "output_type": "execute_result"
    },
    {
     "data": {
      "text/plain": [
       "'success: content added from https://content.govdelivery.com/accounts/WIGOV/bulletins/376472d'"
      ]
     },
     "execution_count": 16,
     "metadata": {},
     "output_type": "execute_result"
    },
    {
     "data": {
      "text/plain": [
       "'success: content added from https://content.govdelivery.com/accounts/WIGOV/bulletins/3760412'"
      ]
     },
     "execution_count": 16,
     "metadata": {},
     "output_type": "execute_result"
    },
    {
     "data": {
      "text/plain": [
       "'success: content added from https://content.govdelivery.com/accounts/WIGOV/bulletins/3760dd9'"
      ]
     },
     "execution_count": 16,
     "metadata": {},
     "output_type": "execute_result"
    },
    {
     "data": {
      "text/plain": [
       "'success: content added from https://content.govdelivery.com/accounts/WIGOV/bulletins/3761728'"
      ]
     },
     "execution_count": 16,
     "metadata": {},
     "output_type": "execute_result"
    },
    {
     "data": {
      "text/plain": [
       "'success: content added from https://content.govdelivery.com/accounts/WIGOV/bulletins/37583e2'"
      ]
     },
     "execution_count": 16,
     "metadata": {},
     "output_type": "execute_result"
    },
    {
     "data": {
      "text/plain": [
       "'success: content added from https://content.govdelivery.com/accounts/WIGOV/bulletins/373beb3'"
      ]
     },
     "execution_count": 16,
     "metadata": {},
     "output_type": "execute_result"
    },
    {
     "data": {
      "text/plain": [
       "'success: content added from https://content.govdelivery.com/accounts/WIGOV/bulletins/3751d3b'"
      ]
     },
     "execution_count": 16,
     "metadata": {},
     "output_type": "execute_result"
    },
    {
     "data": {
      "text/plain": [
       "'success: content added from https://content.govdelivery.com/accounts/WIGOV/bulletins/3751f83'"
      ]
     },
     "execution_count": 16,
     "metadata": {},
     "output_type": "execute_result"
    },
    {
     "data": {
      "text/plain": [
       "'success: content added from https://content.govdelivery.com/accounts/WIGOV/bulletins/372a24f'"
      ]
     },
     "execution_count": 16,
     "metadata": {},
     "output_type": "execute_result"
    },
    {
     "data": {
      "text/plain": [
       "'success: content added from https://content.govdelivery.com/accounts/WIGOV/bulletins/3729fa4'"
      ]
     },
     "execution_count": 16,
     "metadata": {},
     "output_type": "execute_result"
    },
    {
     "data": {
      "text/plain": [
       "'success: content added from https://content.govdelivery.com/accounts/WIGOV/bulletins/373c21c'"
      ]
     },
     "execution_count": 16,
     "metadata": {},
     "output_type": "execute_result"
    },
    {
     "data": {
      "text/plain": [
       "'success: content added from https://content.govdelivery.com/accounts/WIGOV/bulletins/3742b8c'"
      ]
     },
     "execution_count": 16,
     "metadata": {},
     "output_type": "execute_result"
    },
    {
     "data": {
      "text/plain": [
       "'success: content added from https://content.govdelivery.com/accounts/WIGOV/bulletins/373f5e5'"
      ]
     },
     "execution_count": 16,
     "metadata": {},
     "output_type": "execute_result"
    },
    {
     "data": {
      "text/plain": [
       "'success: content added from https://content.govdelivery.com/accounts/WIGOV/bulletins/3734d2b'"
      ]
     },
     "execution_count": 16,
     "metadata": {},
     "output_type": "execute_result"
    },
    {
     "data": {
      "text/plain": [
       "'success: content added from https://content.govdelivery.com/accounts/WIGOV/bulletins/372ab4d'"
      ]
     },
     "execution_count": 16,
     "metadata": {},
     "output_type": "execute_result"
    },
    {
     "data": {
      "text/plain": [
       "'success: content added from https://content.govdelivery.com/accounts/WIGOV/bulletins/37186df'"
      ]
     },
     "execution_count": 16,
     "metadata": {},
     "output_type": "execute_result"
    },
    {
     "data": {
      "text/plain": [
       "'success: content added from https://content.govdelivery.com/accounts/WIGOV/bulletins/371726b'"
      ]
     },
     "execution_count": 16,
     "metadata": {},
     "output_type": "execute_result"
    },
    {
     "data": {
      "text/plain": [
       "'success: content added from https://content.govdelivery.com/accounts/WIGOV/bulletins/3716ecc'"
      ]
     },
     "execution_count": 16,
     "metadata": {},
     "output_type": "execute_result"
    },
    {
     "data": {
      "text/plain": [
       "'success: content added from https://content.govdelivery.com/accounts/WIGOV/bulletins/370a59a'"
      ]
     },
     "execution_count": 16,
     "metadata": {},
     "output_type": "execute_result"
    },
    {
     "data": {
      "text/plain": [
       "'success: content added from https://content.govdelivery.com/accounts/WIGOV/bulletins/36ee451'"
      ]
     },
     "execution_count": 16,
     "metadata": {},
     "output_type": "execute_result"
    },
    {
     "data": {
      "text/plain": [
       "'success: content added from https://content.govdelivery.com/accounts/WIGOV/bulletins/3705729'"
      ]
     },
     "execution_count": 16,
     "metadata": {},
     "output_type": "execute_result"
    },
    {
     "data": {
      "text/plain": [
       "'success: content added from https://content.govdelivery.com/accounts/WIGOV/bulletins/3705ea6'"
      ]
     },
     "execution_count": 16,
     "metadata": {},
     "output_type": "execute_result"
    },
    {
     "data": {
      "text/plain": [
       "'success: content added from https://content.govdelivery.com/accounts/WIGOV/bulletins/3705a95'"
      ]
     },
     "execution_count": 16,
     "metadata": {},
     "output_type": "execute_result"
    },
    {
     "data": {
      "text/plain": [
       "'success: content added from https://content.govdelivery.com/accounts/WIGOV/bulletins/36fe3e7'"
      ]
     },
     "execution_count": 16,
     "metadata": {},
     "output_type": "execute_result"
    },
    {
     "data": {
      "text/plain": [
       "'success: content added from https://content.govdelivery.com/accounts/WIGOV/bulletins/36ffebf'"
      ]
     },
     "execution_count": 16,
     "metadata": {},
     "output_type": "execute_result"
    },
    {
     "data": {
      "text/plain": [
       "'success: content added from https://content.govdelivery.com/accounts/WIGOV/bulletins/36f0a04'"
      ]
     },
     "execution_count": 16,
     "metadata": {},
     "output_type": "execute_result"
    },
    {
     "data": {
      "text/plain": [
       "'success: content added from https://content.govdelivery.com/accounts/WIGOV/bulletins/36ee253'"
      ]
     },
     "execution_count": 16,
     "metadata": {},
     "output_type": "execute_result"
    },
    {
     "data": {
      "text/plain": [
       "'success: content added from https://content.govdelivery.com/accounts/WIGOV/bulletins/36e9d2f'"
      ]
     },
     "execution_count": 16,
     "metadata": {},
     "output_type": "execute_result"
    },
    {
     "data": {
      "text/plain": [
       "'success: content added from https://content.govdelivery.com/accounts/WIGOV/bulletins/36ed87b'"
      ]
     },
     "execution_count": 16,
     "metadata": {},
     "output_type": "execute_result"
    },
    {
     "data": {
      "text/plain": [
       "'success: content added from https://content.govdelivery.com/accounts/WIGOV/bulletins/36eab89'"
      ]
     },
     "execution_count": 16,
     "metadata": {},
     "output_type": "execute_result"
    },
    {
     "data": {
      "text/plain": [
       "'success: content added from https://content.govdelivery.com/accounts/WIGOV/bulletins/36d2f6a'"
      ]
     },
     "execution_count": 16,
     "metadata": {},
     "output_type": "execute_result"
    },
    {
     "data": {
      "text/plain": [
       "'success: content added from https://content.govdelivery.com/accounts/WIGOV/bulletins/36e0885'"
      ]
     },
     "execution_count": 16,
     "metadata": {},
     "output_type": "execute_result"
    },
    {
     "data": {
      "text/plain": [
       "'success: content added from https://content.govdelivery.com/accounts/WIGOV/bulletins/36d7756'"
      ]
     },
     "execution_count": 16,
     "metadata": {},
     "output_type": "execute_result"
    },
    {
     "data": {
      "text/plain": [
       "'success: content added from https://content.govdelivery.com/accounts/WIGOV/bulletins/36cd28c'"
      ]
     },
     "execution_count": 16,
     "metadata": {},
     "output_type": "execute_result"
    },
    {
     "data": {
      "text/plain": [
       "'success: content added from https://content.govdelivery.com/accounts/WIGOV/bulletins/36ddae8'"
      ]
     },
     "execution_count": 16,
     "metadata": {},
     "output_type": "execute_result"
    },
    {
     "data": {
      "text/plain": [
       "'success: content added from https://content.govdelivery.com/accounts/WIGOV/bulletins/36c6e7b'"
      ]
     },
     "execution_count": 16,
     "metadata": {},
     "output_type": "execute_result"
    },
    {
     "data": {
      "text/plain": [
       "'success: content added from https://content.govdelivery.com/accounts/WIGOV/bulletins/36b5a34'"
      ]
     },
     "execution_count": 16,
     "metadata": {},
     "output_type": "execute_result"
    },
    {
     "data": {
      "text/plain": [
       "'success: content added from https://content.govdelivery.com/accounts/WIGOV/bulletins/36c36eb'"
      ]
     },
     "execution_count": 16,
     "metadata": {},
     "output_type": "execute_result"
    },
    {
     "data": {
      "text/plain": [
       "'success: content added from https://content.govdelivery.com/accounts/WIGOV/bulletins/36b58e5'"
      ]
     },
     "execution_count": 16,
     "metadata": {},
     "output_type": "execute_result"
    },
    {
     "data": {
      "text/plain": [
       "'success: content added from https://content.govdelivery.com/accounts/WIGOV/bulletins/36bf1b8'"
      ]
     },
     "execution_count": 16,
     "metadata": {},
     "output_type": "execute_result"
    },
    {
     "data": {
      "text/plain": [
       "'success: content added from https://content.govdelivery.com/accounts/WIGOV/bulletins/36b5b7a'"
      ]
     },
     "execution_count": 16,
     "metadata": {},
     "output_type": "execute_result"
    },
    {
     "data": {
      "text/plain": [
       "'success: content added from https://content.govdelivery.com/accounts/WIGOV/bulletins/366286a'"
      ]
     },
     "execution_count": 16,
     "metadata": {},
     "output_type": "execute_result"
    },
    {
     "data": {
      "text/plain": [
       "'success: content added from https://content.govdelivery.com/accounts/WIGOV/bulletins/36ab395'"
      ]
     },
     "execution_count": 16,
     "metadata": {},
     "output_type": "execute_result"
    },
    {
     "data": {
      "text/plain": [
       "'success: content added from https://content.govdelivery.com/accounts/WIGOV/bulletins/36b1eeb'"
      ]
     },
     "execution_count": 16,
     "metadata": {},
     "output_type": "execute_result"
    },
    {
     "data": {
      "text/plain": [
       "'success: content added from https://content.govdelivery.com/accounts/WIGOV/bulletins/36a1e36'"
      ]
     },
     "execution_count": 16,
     "metadata": {},
     "output_type": "execute_result"
    },
    {
     "data": {
      "text/plain": [
       "'success: content added from https://content.govdelivery.com/accounts/WIGOV/bulletins/369ea0c'"
      ]
     },
     "execution_count": 16,
     "metadata": {},
     "output_type": "execute_result"
    },
    {
     "data": {
      "text/plain": [
       "'success: content added from https://content.govdelivery.com/accounts/WIGOV/bulletins/369eeb0'"
      ]
     },
     "execution_count": 16,
     "metadata": {},
     "output_type": "execute_result"
    },
    {
     "data": {
      "text/plain": [
       "'success: content added from https://content.govdelivery.com/accounts/WIGOV/bulletins/369b515'"
      ]
     },
     "execution_count": 16,
     "metadata": {},
     "output_type": "execute_result"
    },
    {
     "data": {
      "text/plain": [
       "'success: content added from https://content.govdelivery.com/accounts/WIGOV/bulletins/3698bbb'"
      ]
     },
     "execution_count": 16,
     "metadata": {},
     "output_type": "execute_result"
    },
    {
     "data": {
      "text/plain": [
       "'success: content added from https://content.govdelivery.com/accounts/WIGOV/bulletins/368fb1e'"
      ]
     },
     "execution_count": 16,
     "metadata": {},
     "output_type": "execute_result"
    },
    {
     "data": {
      "text/plain": [
       "'success: content added from https://content.govdelivery.com/accounts/WIGOV/bulletins/368fadf'"
      ]
     },
     "execution_count": 16,
     "metadata": {},
     "output_type": "execute_result"
    },
    {
     "data": {
      "text/plain": [
       "'success: content added from https://content.govdelivery.com/accounts/WIGOV/bulletins/368a399'"
      ]
     },
     "execution_count": 16,
     "metadata": {},
     "output_type": "execute_result"
    },
    {
     "data": {
      "text/plain": [
       "'success: content added from https://content.govdelivery.com/accounts/WIGOV/bulletins/368780d'"
      ]
     },
     "execution_count": 16,
     "metadata": {},
     "output_type": "execute_result"
    },
    {
     "data": {
      "text/plain": [
       "'success: content added from https://content.govdelivery.com/accounts/WIGOV/bulletins/36899ea'"
      ]
     },
     "execution_count": 16,
     "metadata": {},
     "output_type": "execute_result"
    },
    {
     "data": {
      "text/plain": [
       "'success: content added from https://content.govdelivery.com/accounts/WIGOV/bulletins/3678bfe'"
      ]
     },
     "execution_count": 16,
     "metadata": {},
     "output_type": "execute_result"
    },
    {
     "data": {
      "text/plain": [
       "'success: content added from https://content.govdelivery.com/accounts/WIGOV/bulletins/3683d87'"
      ]
     },
     "execution_count": 16,
     "metadata": {},
     "output_type": "execute_result"
    },
    {
     "data": {
      "text/plain": [
       "'success: content added from https://content.govdelivery.com/accounts/WIGOV/bulletins/36760f5'"
      ]
     },
     "execution_count": 16,
     "metadata": {},
     "output_type": "execute_result"
    },
    {
     "data": {
      "text/plain": [
       "'success: content added from https://content.govdelivery.com/accounts/WIGOV/bulletins/3675704'"
      ]
     },
     "execution_count": 16,
     "metadata": {},
     "output_type": "execute_result"
    },
    {
     "data": {
      "text/plain": [
       "'success: content added from https://content.govdelivery.com/accounts/WIGOV/bulletins/3678cb3'"
      ]
     },
     "execution_count": 16,
     "metadata": {},
     "output_type": "execute_result"
    },
    {
     "data": {
      "text/plain": [
       "'success: content added from https://content.govdelivery.com/accounts/WIGOV/bulletins/366f8ed'"
      ]
     },
     "execution_count": 16,
     "metadata": {},
     "output_type": "execute_result"
    },
    {
     "data": {
      "text/plain": [
       "'success: content added from https://content.govdelivery.com/accounts/WIGOV/bulletins/3665e25'"
      ]
     },
     "execution_count": 16,
     "metadata": {},
     "output_type": "execute_result"
    },
    {
     "data": {
      "text/plain": [
       "'success: content added from https://content.govdelivery.com/accounts/WIGOV/bulletins/366f13a'"
      ]
     },
     "execution_count": 16,
     "metadata": {},
     "output_type": "execute_result"
    },
    {
     "data": {
      "text/plain": [
       "'success: content added from https://content.govdelivery.com/accounts/WIGOV/bulletins/366f8af'"
      ]
     },
     "execution_count": 16,
     "metadata": {},
     "output_type": "execute_result"
    },
    {
     "data": {
      "text/plain": [
       "'success: content added from https://content.govdelivery.com/accounts/WIGOV/bulletins/365e6ec'"
      ]
     },
     "execution_count": 16,
     "metadata": {},
     "output_type": "execute_result"
    },
    {
     "data": {
      "text/plain": [
       "'success: content added from https://content.govdelivery.com/accounts/WIGOV/bulletins/3667a53'"
      ]
     },
     "execution_count": 16,
     "metadata": {},
     "output_type": "execute_result"
    },
    {
     "data": {
      "text/plain": [
       "'success: content added from https://content.govdelivery.com/accounts/WIGOV/bulletins/3667f04'"
      ]
     },
     "execution_count": 16,
     "metadata": {},
     "output_type": "execute_result"
    },
    {
     "data": {
      "text/plain": [
       "'success: content added from https://content.govdelivery.com/accounts/WIGOV/bulletins/3662761'"
      ]
     },
     "execution_count": 16,
     "metadata": {},
     "output_type": "execute_result"
    },
    {
     "data": {
      "text/plain": [
       "'success: content added from https://content.govdelivery.com/accounts/WIGOV/bulletins/36619a3'"
      ]
     },
     "execution_count": 16,
     "metadata": {},
     "output_type": "execute_result"
    },
    {
     "data": {
      "text/plain": [
       "'success: content added from https://content.govdelivery.com/accounts/WIGOV/bulletins/36619a8'"
      ]
     },
     "execution_count": 16,
     "metadata": {},
     "output_type": "execute_result"
    },
    {
     "data": {
      "text/plain": [
       "'success: content added from https://content.govdelivery.com/accounts/WIGOV/bulletins/3650d8e'"
      ]
     },
     "execution_count": 16,
     "metadata": {},
     "output_type": "execute_result"
    },
    {
     "data": {
      "text/plain": [
       "'success: content added from https://content.govdelivery.com/accounts/WIGOV/bulletins/364b461'"
      ]
     },
     "execution_count": 16,
     "metadata": {},
     "output_type": "execute_result"
    },
    {
     "data": {
      "text/plain": [
       "'success: content added from https://content.govdelivery.com/accounts/WIGOV/bulletins/364b071'"
      ]
     },
     "execution_count": 16,
     "metadata": {},
     "output_type": "execute_result"
    },
    {
     "data": {
      "text/plain": [
       "'success: content added from https://content.govdelivery.com/accounts/WIGOV/bulletins/364a531'"
      ]
     },
     "execution_count": 16,
     "metadata": {},
     "output_type": "execute_result"
    },
    {
     "data": {
      "text/plain": [
       "'success: content added from https://content.govdelivery.com/accounts/WIGOV/bulletins/364e56d'"
      ]
     },
     "execution_count": 16,
     "metadata": {},
     "output_type": "execute_result"
    },
    {
     "data": {
      "text/plain": [
       "'success: content added from https://content.govdelivery.com/accounts/WIGOV/bulletins/364e5f0'"
      ]
     },
     "execution_count": 16,
     "metadata": {},
     "output_type": "execute_result"
    },
    {
     "data": {
      "text/plain": [
       "'success: content added from https://content.govdelivery.com/accounts/WIGOV/bulletins/364e503'"
      ]
     },
     "execution_count": 16,
     "metadata": {},
     "output_type": "execute_result"
    },
    {
     "data": {
      "text/plain": [
       "'success: content added from https://content.govdelivery.com/accounts/WIGOV/bulletins/364ac00'"
      ]
     },
     "execution_count": 16,
     "metadata": {},
     "output_type": "execute_result"
    },
    {
     "data": {
      "text/plain": [
       "'success: content added from https://content.govdelivery.com/accounts/WIGOV/bulletins/3647e4d'"
      ]
     },
     "execution_count": 16,
     "metadata": {},
     "output_type": "execute_result"
    },
    {
     "data": {
      "text/plain": [
       "'success: content added from https://content.govdelivery.com/accounts/WIGOV/bulletins/3640b48'"
      ]
     },
     "execution_count": 16,
     "metadata": {},
     "output_type": "execute_result"
    },
    {
     "data": {
      "text/plain": [
       "'success: content added from https://content.govdelivery.com/accounts/WIGOV/bulletins/362ed2f'"
      ]
     },
     "execution_count": 16,
     "metadata": {},
     "output_type": "execute_result"
    },
    {
     "data": {
      "text/plain": [
       "'success: content added from https://content.govdelivery.com/accounts/WIGOV/bulletins/3639e56'"
      ]
     },
     "execution_count": 16,
     "metadata": {},
     "output_type": "execute_result"
    },
    {
     "data": {
      "text/plain": [
       "'success: content added from https://content.govdelivery.com/accounts/WIGOV/bulletins/3623ef0'"
      ]
     },
     "execution_count": 16,
     "metadata": {},
     "output_type": "execute_result"
    },
    {
     "data": {
      "text/plain": [
       "'success: content added from https://content.govdelivery.com/accounts/WIGOV/bulletins/3628923'"
      ]
     },
     "execution_count": 16,
     "metadata": {},
     "output_type": "execute_result"
    },
    {
     "data": {
      "text/plain": [
       "'success: content added from https://content.govdelivery.com/accounts/WIGOV/bulletins/362475d'"
      ]
     },
     "execution_count": 16,
     "metadata": {},
     "output_type": "execute_result"
    },
    {
     "data": {
      "text/plain": [
       "'success: content added from https://content.govdelivery.com/accounts/WIGOV/bulletins/362bdf7'"
      ]
     },
     "execution_count": 16,
     "metadata": {},
     "output_type": "execute_result"
    },
    {
     "data": {
      "text/plain": [
       "'success: content added from https://content.govdelivery.com/accounts/WIGOV/bulletins/36180af'"
      ]
     },
     "execution_count": 16,
     "metadata": {},
     "output_type": "execute_result"
    },
    {
     "data": {
      "text/plain": [
       "'success: content added from https://content.govdelivery.com/accounts/WIGOV/bulletins/360b4e2'"
      ]
     },
     "execution_count": 16,
     "metadata": {},
     "output_type": "execute_result"
    },
    {
     "data": {
      "text/plain": [
       "'success: content added from https://content.govdelivery.com/accounts/WIGOV/bulletins/360b9e8'"
      ]
     },
     "execution_count": 16,
     "metadata": {},
     "output_type": "execute_result"
    },
    {
     "data": {
      "text/plain": [
       "'success: content added from https://content.govdelivery.com/accounts/WIGOV/bulletins/361451c'"
      ]
     },
     "execution_count": 16,
     "metadata": {},
     "output_type": "execute_result"
    },
    {
     "data": {
      "text/plain": [
       "'success: content added from https://content.govdelivery.com/accounts/WIGOV/bulletins/36168fe'"
      ]
     },
     "execution_count": 16,
     "metadata": {},
     "output_type": "execute_result"
    },
    {
     "data": {
      "text/plain": [
       "'success: content added from https://content.govdelivery.com/accounts/WIGOV/bulletins/36112db'"
      ]
     },
     "execution_count": 16,
     "metadata": {},
     "output_type": "execute_result"
    },
    {
     "data": {
      "text/plain": [
       "'success: content added from https://content.govdelivery.com/accounts/WIGOV/bulletins/360c01e'"
      ]
     },
     "execution_count": 16,
     "metadata": {},
     "output_type": "execute_result"
    },
    {
     "data": {
      "text/plain": [
       "'success: content added from https://content.govdelivery.com/accounts/WIGOV/bulletins/360f7f6'"
      ]
     },
     "execution_count": 16,
     "metadata": {},
     "output_type": "execute_result"
    },
    {
     "data": {
      "text/plain": [
       "'success: content added from https://content.govdelivery.com/accounts/WIGOV/bulletins/35ffd6f'"
      ]
     },
     "execution_count": 16,
     "metadata": {},
     "output_type": "execute_result"
    },
    {
     "data": {
      "text/plain": [
       "'success: content added from https://content.govdelivery.com/accounts/WIGOV/bulletins/3601b59'"
      ]
     },
     "execution_count": 16,
     "metadata": {},
     "output_type": "execute_result"
    },
    {
     "data": {
      "text/plain": [
       "'success: content added from https://content.govdelivery.com/accounts/WIGOV/bulletins/36037da'"
      ]
     },
     "execution_count": 16,
     "metadata": {},
     "output_type": "execute_result"
    },
    {
     "data": {
      "text/plain": [
       "'success: content added from https://content.govdelivery.com/accounts/WIGOV/bulletins/35f93d3'"
      ]
     },
     "execution_count": 16,
     "metadata": {},
     "output_type": "execute_result"
    },
    {
     "data": {
      "text/plain": [
       "'success: content added from https://content.govdelivery.com/accounts/WIGOV/bulletins/35fd4e1'"
      ]
     },
     "execution_count": 16,
     "metadata": {},
     "output_type": "execute_result"
    },
    {
     "data": {
      "text/plain": [
       "'success: content added from https://content.govdelivery.com/accounts/WIGOV/bulletins/35ebc6fv'"
      ]
     },
     "execution_count": 16,
     "metadata": {},
     "output_type": "execute_result"
    },
    {
     "data": {
      "text/plain": [
       "'success: content added from https://content.govdelivery.com/accounts/WIGOV/bulletins/35ed628'"
      ]
     },
     "execution_count": 16,
     "metadata": {},
     "output_type": "execute_result"
    },
    {
     "data": {
      "text/plain": [
       "'success: content added from https://content.govdelivery.com/accounts/WIGOV/bulletins/35ec60b'"
      ]
     },
     "execution_count": 16,
     "metadata": {},
     "output_type": "execute_result"
    },
    {
     "data": {
      "text/plain": [
       "'success: content added from https://content.govdelivery.com/accounts/WIGOV/bulletins/35ec790'"
      ]
     },
     "execution_count": 16,
     "metadata": {},
     "output_type": "execute_result"
    },
    {
     "data": {
      "text/plain": [
       "'success: content added from https://content.govdelivery.com/accounts/WIGOV/bulletins/35eff7d'"
      ]
     },
     "execution_count": 16,
     "metadata": {},
     "output_type": "execute_result"
    },
    {
     "data": {
      "text/plain": [
       "'success: content added from https://content.govdelivery.com/accounts/WIGOV/bulletins/35d4ea1'"
      ]
     },
     "execution_count": 16,
     "metadata": {},
     "output_type": "execute_result"
    },
    {
     "data": {
      "text/plain": [
       "'success: content added from https://content.govdelivery.com/accounts/WIGOV/bulletins/35de620'"
      ]
     },
     "execution_count": 16,
     "metadata": {},
     "output_type": "execute_result"
    },
    {
     "data": {
      "text/plain": [
       "'success: content added from https://content.govdelivery.com/accounts/WIGOV/bulletins/35db220'"
      ]
     },
     "execution_count": 16,
     "metadata": {},
     "output_type": "execute_result"
    },
    {
     "data": {
      "text/plain": [
       "'success: content added from https://content.govdelivery.com/accounts/WIGOV/bulletins/35d8e1b'"
      ]
     },
     "execution_count": 16,
     "metadata": {},
     "output_type": "execute_result"
    },
    {
     "data": {
      "text/plain": [
       "'success: content added from https://content.govdelivery.com/accounts/WIGOV/bulletins/35d8f4e'"
      ]
     },
     "execution_count": 16,
     "metadata": {},
     "output_type": "execute_result"
    },
    {
     "data": {
      "text/plain": [
       "'success: content added from https://content.govdelivery.com/accounts/WIGOV/bulletins/35da9af'"
      ]
     },
     "execution_count": 16,
     "metadata": {},
     "output_type": "execute_result"
    },
    {
     "data": {
      "text/plain": [
       "'success: content added from https://content.govdelivery.com/accounts/WIGOV/bulletins/35d8e6c'"
      ]
     },
     "execution_count": 16,
     "metadata": {},
     "output_type": "execute_result"
    },
    {
     "data": {
      "text/plain": [
       "'success: content added from https://content.govdelivery.com/accounts/WIGOV/bulletins/35c9b8c'"
      ]
     },
     "execution_count": 16,
     "metadata": {},
     "output_type": "execute_result"
    },
    {
     "data": {
      "text/plain": [
       "'success: content added from https://content.govdelivery.com/accounts/WIGOV/bulletins/35c2ce4'"
      ]
     },
     "execution_count": 16,
     "metadata": {},
     "output_type": "execute_result"
    },
    {
     "data": {
      "text/plain": [
       "'success: content added from https://content.govdelivery.com/accounts/WIGOV/bulletins/35b2899'"
      ]
     },
     "execution_count": 16,
     "metadata": {},
     "output_type": "execute_result"
    },
    {
     "data": {
      "text/plain": [
       "'success: content added from https://content.govdelivery.com/accounts/WIGOV/bulletins/35c6039'"
      ]
     },
     "execution_count": 16,
     "metadata": {},
     "output_type": "execute_result"
    },
    {
     "data": {
      "text/plain": [
       "'success: content added from https://content.govdelivery.com/accounts/WIGOV/bulletins/35b85a4'"
      ]
     },
     "execution_count": 16,
     "metadata": {},
     "output_type": "execute_result"
    },
    {
     "data": {
      "text/plain": [
       "'success: content added from https://content.govdelivery.com/accounts/WIGOV/bulletins/35c8869'"
      ]
     },
     "execution_count": 16,
     "metadata": {},
     "output_type": "execute_result"
    },
    {
     "data": {
      "text/plain": [
       "'success: content added from https://content.govdelivery.com/accounts/WIGOV/bulletins/35c54b0'"
      ]
     },
     "execution_count": 16,
     "metadata": {},
     "output_type": "execute_result"
    },
    {
     "data": {
      "text/plain": [
       "'success: content added from https://content.govdelivery.com/accounts/WIGOV/bulletins/35b55cb'"
      ]
     },
     "execution_count": 16,
     "metadata": {},
     "output_type": "execute_result"
    },
    {
     "data": {
      "text/plain": [
       "'success: content added from https://content.govdelivery.com/accounts/WIGOV/bulletins/35b2807'"
      ]
     },
     "execution_count": 16,
     "metadata": {},
     "output_type": "execute_result"
    },
    {
     "data": {
      "text/plain": [
       "'success: content added from https://content.govdelivery.com/accounts/WIGOV/bulletins/35afb95'"
      ]
     },
     "execution_count": 16,
     "metadata": {},
     "output_type": "execute_result"
    },
    {
     "data": {
      "text/plain": [
       "'success: content added from https://content.govdelivery.com/accounts/WIGOV/bulletins/35a33b3'"
      ]
     },
     "execution_count": 16,
     "metadata": {},
     "output_type": "execute_result"
    },
    {
     "data": {
      "text/plain": [
       "'success: content added from https://content.govdelivery.com/accounts/WIGOV/bulletins/35a238c'"
      ]
     },
     "execution_count": 16,
     "metadata": {},
     "output_type": "execute_result"
    },
    {
     "data": {
      "text/plain": [
       "'success: content added from https://content.govdelivery.com/accounts/WIGOV/bulletins/3594c4f'"
      ]
     },
     "execution_count": 16,
     "metadata": {},
     "output_type": "execute_result"
    },
    {
     "data": {
      "text/plain": [
       "'success: content added from https://content.govdelivery.com/accounts/WIGOV/bulletins/3598446'"
      ]
     },
     "execution_count": 16,
     "metadata": {},
     "output_type": "execute_result"
    },
    {
     "data": {
      "text/plain": [
       "'success: content added from https://content.govdelivery.com/accounts/WIGOV/bulletins/359f020'"
      ]
     },
     "execution_count": 16,
     "metadata": {},
     "output_type": "execute_result"
    },
    {
     "data": {
      "text/plain": [
       "'success: content added from https://content.govdelivery.com/accounts/WIGOV/bulletins/358ea8f'"
      ]
     },
     "execution_count": 16,
     "metadata": {},
     "output_type": "execute_result"
    },
    {
     "data": {
      "text/plain": [
       "'success: content added from https://content.govdelivery.com/accounts/WIGOV/bulletins/359560b'"
      ]
     },
     "execution_count": 16,
     "metadata": {},
     "output_type": "execute_result"
    },
    {
     "data": {
      "text/plain": [
       "'success: content added from https://content.govdelivery.com/accounts/WIGOV/bulletins/358b344'"
      ]
     },
     "execution_count": 16,
     "metadata": {},
     "output_type": "execute_result"
    },
    {
     "data": {
      "text/plain": [
       "'success: content added from https://content.govdelivery.com/accounts/WIGOV/bulletins/358fa29'"
      ]
     },
     "execution_count": 16,
     "metadata": {},
     "output_type": "execute_result"
    },
    {
     "data": {
      "text/plain": [
       "'success: content added from https://content.govdelivery.com/accounts/WIGOV/bulletins/3594caa'"
      ]
     },
     "execution_count": 16,
     "metadata": {},
     "output_type": "execute_result"
    },
    {
     "data": {
      "text/plain": [
       "'success: content added from https://content.govdelivery.com/accounts/WIGOV/bulletins/3594306'"
      ]
     },
     "execution_count": 16,
     "metadata": {},
     "output_type": "execute_result"
    },
    {
     "data": {
      "text/plain": [
       "'success: content added from https://content.govdelivery.com/accounts/WIGOV/bulletins/359491f'"
      ]
     },
     "execution_count": 16,
     "metadata": {},
     "output_type": "execute_result"
    },
    {
     "data": {
      "text/plain": [
       "'success: content added from https://content.govdelivery.com/accounts/WIGOV/bulletins/357b646'"
      ]
     },
     "execution_count": 16,
     "metadata": {},
     "output_type": "execute_result"
    },
    {
     "data": {
      "text/plain": [
       "'success: content added from https://content.govdelivery.com/accounts/WIGOV/bulletins/3588048'"
      ]
     },
     "execution_count": 16,
     "metadata": {},
     "output_type": "execute_result"
    },
    {
     "data": {
      "text/plain": [
       "'success: content added from https://content.govdelivery.com/accounts/WIGOV/bulletins/35879bc'"
      ]
     },
     "execution_count": 16,
     "metadata": {},
     "output_type": "execute_result"
    },
    {
     "data": {
      "text/plain": [
       "'success: content added from https://content.govdelivery.com/accounts/WIGOV/bulletins/358e86b'"
      ]
     },
     "execution_count": 16,
     "metadata": {},
     "output_type": "execute_result"
    },
    {
     "data": {
      "text/plain": [
       "'success: content added from https://content.govdelivery.com/accounts/WIGOV/bulletins/358b944'"
      ]
     },
     "execution_count": 16,
     "metadata": {},
     "output_type": "execute_result"
    },
    {
     "data": {
      "text/plain": [
       "'success: content added from https://content.govdelivery.com/accounts/WIGOV/bulletins/3582a03'"
      ]
     },
     "execution_count": 16,
     "metadata": {},
     "output_type": "execute_result"
    },
    {
     "data": {
      "text/plain": [
       "'success: content added from https://content.govdelivery.com/accounts/WIGOV/bulletins/358affd'"
      ]
     },
     "execution_count": 16,
     "metadata": {},
     "output_type": "execute_result"
    },
    {
     "data": {
      "text/plain": [
       "'success: content added from https://content.govdelivery.com/accounts/WIGOV/bulletins/358608b'"
      ]
     },
     "execution_count": 16,
     "metadata": {},
     "output_type": "execute_result"
    },
    {
     "data": {
      "text/plain": [
       "'success: content added from https://content.govdelivery.com/accounts/WIGOV/bulletins/3587cd2'"
      ]
     },
     "execution_count": 16,
     "metadata": {},
     "output_type": "execute_result"
    },
    {
     "data": {
      "text/plain": [
       "'success: content added from https://content.govdelivery.com/accounts/WIGOV/bulletins/3584e1c'"
      ]
     },
     "execution_count": 16,
     "metadata": {},
     "output_type": "execute_result"
    },
    {
     "data": {
      "text/plain": [
       "'success: content added from https://content.govdelivery.com/accounts/WIGOV/bulletins/357a554'"
      ]
     },
     "execution_count": 16,
     "metadata": {},
     "output_type": "execute_result"
    },
    {
     "data": {
      "text/plain": [
       "'success: content added from https://content.govdelivery.com/accounts/WIGOV/bulletins/3581741'"
      ]
     },
     "execution_count": 16,
     "metadata": {},
     "output_type": "execute_result"
    },
    {
     "data": {
      "text/plain": [
       "'success: content added from https://content.govdelivery.com/accounts/WIGOV/bulletins/3574bb1'"
      ]
     },
     "execution_count": 16,
     "metadata": {},
     "output_type": "execute_result"
    },
    {
     "data": {
      "text/plain": [
       "'success: content added from https://content.govdelivery.com/accounts/WIGOV/bulletins/357441b'"
      ]
     },
     "execution_count": 16,
     "metadata": {},
     "output_type": "execute_result"
    },
    {
     "data": {
      "text/plain": [
       "'success: content added from https://content.govdelivery.com/accounts/WIGOV/bulletins/357094d'"
      ]
     },
     "execution_count": 16,
     "metadata": {},
     "output_type": "execute_result"
    },
    {
     "data": {
      "text/plain": [
       "'success: content added from https://content.govdelivery.com/accounts/WIGOV/bulletins/35734a9'"
      ]
     },
     "execution_count": 16,
     "metadata": {},
     "output_type": "execute_result"
    },
    {
     "data": {
      "text/plain": [
       "'success: content added from https://content.govdelivery.com/accounts/WIGOV/bulletins/356c65d'"
      ]
     },
     "execution_count": 16,
     "metadata": {},
     "output_type": "execute_result"
    },
    {
     "data": {
      "text/plain": [
       "'success: content added from https://content.govdelivery.com/accounts/WIGOV/bulletins/355a0fb'"
      ]
     },
     "execution_count": 16,
     "metadata": {},
     "output_type": "execute_result"
    },
    {
     "data": {
      "text/plain": [
       "'success: content added from https://content.govdelivery.com/accounts/WIGOV/bulletins/3561b62'"
      ]
     },
     "execution_count": 16,
     "metadata": {},
     "output_type": "execute_result"
    },
    {
     "data": {
      "text/plain": [
       "'success: content added from https://content.govdelivery.com/accounts/WIGOV/bulletins/3556d19'"
      ]
     },
     "execution_count": 16,
     "metadata": {},
     "output_type": "execute_result"
    },
    {
     "data": {
      "text/plain": [
       "'success: content added from https://content.govdelivery.com/accounts/WIGOV/bulletins/355eec9'"
      ]
     },
     "execution_count": 16,
     "metadata": {},
     "output_type": "execute_result"
    },
    {
     "data": {
      "text/plain": [
       "'success: content added from https://content.govdelivery.com/accounts/WIGOV/bulletins/3557ac6'"
      ]
     },
     "execution_count": 16,
     "metadata": {},
     "output_type": "execute_result"
    },
    {
     "data": {
      "text/plain": [
       "'success: content added from https://content.govdelivery.com/accounts/WIGOV/bulletins/3557764'"
      ]
     },
     "execution_count": 16,
     "metadata": {},
     "output_type": "execute_result"
    },
    {
     "data": {
      "text/plain": [
       "'success: content added from https://content.govdelivery.com/accounts/WIGOV/bulletins/3557675'"
      ]
     },
     "execution_count": 16,
     "metadata": {},
     "output_type": "execute_result"
    },
    {
     "data": {
      "text/plain": [
       "'success: content added from https://content.govdelivery.com/accounts/WIGOV/bulletins/355ae34'"
      ]
     },
     "execution_count": 16,
     "metadata": {},
     "output_type": "execute_result"
    },
    {
     "data": {
      "text/plain": [
       "'success: content added from https://content.govdelivery.com/accounts/WIGOV/bulletins/3549145'"
      ]
     },
     "execution_count": 16,
     "metadata": {},
     "output_type": "execute_result"
    },
    {
     "data": {
      "text/plain": [
       "'success: content added from https://content.govdelivery.com/accounts/WIGOV/bulletins/35417a6'"
      ]
     },
     "execution_count": 16,
     "metadata": {},
     "output_type": "execute_result"
    },
    {
     "data": {
      "text/plain": [
       "'success: content added from https://content.govdelivery.com/accounts/WIGOV/bulletins/354769c'"
      ]
     },
     "execution_count": 16,
     "metadata": {},
     "output_type": "execute_result"
    },
    {
     "data": {
      "text/plain": [
       "'success: content added from https://content.govdelivery.com/accounts/WIGOV/bulletins/3547d41'"
      ]
     },
     "execution_count": 16,
     "metadata": {},
     "output_type": "execute_result"
    },
    {
     "data": {
      "text/plain": [
       "'success: content added from https://content.govdelivery.com/accounts/WIGOV/bulletins/35413bb'"
      ]
     },
     "execution_count": 16,
     "metadata": {},
     "output_type": "execute_result"
    },
    {
     "data": {
      "text/plain": [
       "'success: content added from https://content.govdelivery.com/accounts/WIGOV/bulletins/353b805'"
      ]
     },
     "execution_count": 16,
     "metadata": {},
     "output_type": "execute_result"
    },
    {
     "data": {
      "text/plain": [
       "'success: content added from https://content.govdelivery.com/accounts/WIGOV/bulletins/353b5df'"
      ]
     },
     "execution_count": 16,
     "metadata": {},
     "output_type": "execute_result"
    },
    {
     "data": {
      "text/plain": [
       "'success: content added from https://content.govdelivery.com/accounts/WIGOV/bulletins/3537773'"
      ]
     },
     "execution_count": 16,
     "metadata": {},
     "output_type": "execute_result"
    },
    {
     "data": {
      "text/plain": [
       "'success: content added from https://content.govdelivery.com/accounts/WIGOV/bulletins/3537c90'"
      ]
     },
     "execution_count": 16,
     "metadata": {},
     "output_type": "execute_result"
    },
    {
     "data": {
      "text/plain": [
       "'success: content added from https://content.govdelivery.com/accounts/WIGOV/bulletins/353353d'"
      ]
     },
     "execution_count": 16,
     "metadata": {},
     "output_type": "execute_result"
    },
    {
     "data": {
      "text/plain": [
       "'success: content added from https://content.govdelivery.com/accounts/WIGOV/bulletins/352af13'"
      ]
     },
     "execution_count": 16,
     "metadata": {},
     "output_type": "execute_result"
    },
    {
     "data": {
      "text/plain": [
       "'success: content added from https://content.govdelivery.com/accounts/WIGOV/bulletins/35369f8'"
      ]
     },
     "execution_count": 16,
     "metadata": {},
     "output_type": "execute_result"
    },
    {
     "data": {
      "text/plain": [
       "'success: content added from https://content.govdelivery.com/accounts/WIGOV/bulletins/3532d2f'"
      ]
     },
     "execution_count": 16,
     "metadata": {},
     "output_type": "execute_result"
    },
    {
     "data": {
      "text/plain": [
       "'success: content added from https://content.govdelivery.com/accounts/WIGOV/bulletins/3534105'"
      ]
     },
     "execution_count": 16,
     "metadata": {},
     "output_type": "execute_result"
    },
    {
     "data": {
      "text/plain": [
       "'success: content added from https://content.govdelivery.com/accounts/WIGOV/bulletins/3523407'"
      ]
     },
     "execution_count": 16,
     "metadata": {},
     "output_type": "execute_result"
    },
    {
     "data": {
      "text/plain": [
       "'success: content added from https://content.govdelivery.com/accounts/WIGOV/bulletins/352ee02'"
      ]
     },
     "execution_count": 16,
     "metadata": {},
     "output_type": "execute_result"
    },
    {
     "data": {
      "text/plain": [
       "'success: content added from https://content.govdelivery.com/accounts/WIGOV/bulletins/3533d5e'"
      ]
     },
     "execution_count": 16,
     "metadata": {},
     "output_type": "execute_result"
    },
    {
     "data": {
      "text/plain": [
       "'success: content added from https://content.govdelivery.com/accounts/WIGOV/bulletins/35239c0'"
      ]
     },
     "execution_count": 16,
     "metadata": {},
     "output_type": "execute_result"
    },
    {
     "data": {
      "text/plain": [
       "'success: content added from https://content.govdelivery.com/accounts/WIGOV/bulletins/352452e'"
      ]
     },
     "execution_count": 16,
     "metadata": {},
     "output_type": "execute_result"
    },
    {
     "data": {
      "text/plain": [
       "'success: content added from https://content.govdelivery.com/accounts/WIGOV/bulletins/352417e'"
      ]
     },
     "execution_count": 16,
     "metadata": {},
     "output_type": "execute_result"
    },
    {
     "data": {
      "text/plain": [
       "'success: content added from https://content.govdelivery.com/accounts/WIGOV/bulletins/351d472'"
      ]
     },
     "execution_count": 16,
     "metadata": {},
     "output_type": "execute_result"
    },
    {
     "data": {
      "text/plain": [
       "'success: content added from https://content.govdelivery.com/accounts/WIGOV/bulletins/350cee7'"
      ]
     },
     "execution_count": 16,
     "metadata": {},
     "output_type": "execute_result"
    },
    {
     "data": {
      "text/plain": [
       "'success: content added from https://content.govdelivery.com/accounts/WIGOV/bulletins/350bb54'"
      ]
     },
     "execution_count": 16,
     "metadata": {},
     "output_type": "execute_result"
    },
    {
     "data": {
      "text/plain": [
       "'success: content added from https://content.govdelivery.com/accounts/WIGOV/bulletins/35159b6'"
      ]
     },
     "execution_count": 16,
     "metadata": {},
     "output_type": "execute_result"
    },
    {
     "data": {
      "text/plain": [
       "'success: content added from https://content.govdelivery.com/accounts/WIGOV/bulletins/350c282'"
      ]
     },
     "execution_count": 16,
     "metadata": {},
     "output_type": "execute_result"
    },
    {
     "data": {
      "text/plain": [
       "'success: content added from https://content.govdelivery.com/accounts/WIGOV/bulletins/350b9db'"
      ]
     },
     "execution_count": 16,
     "metadata": {},
     "output_type": "execute_result"
    },
    {
     "data": {
      "text/plain": [
       "'success: content added from https://content.govdelivery.com/accounts/WIGOV/bulletins/3501df0'"
      ]
     },
     "execution_count": 16,
     "metadata": {},
     "output_type": "execute_result"
    },
    {
     "data": {
      "text/plain": [
       "'success: content added from https://content.govdelivery.com/accounts/WIGOV/bulletins/3507eaa'"
      ]
     },
     "execution_count": 16,
     "metadata": {},
     "output_type": "execute_result"
    },
    {
     "data": {
      "text/plain": [
       "'success: content added from https://content.govdelivery.com/accounts/WIGOV/bulletins/35056aa'"
      ]
     },
     "execution_count": 16,
     "metadata": {},
     "output_type": "execute_result"
    },
    {
     "data": {
      "text/plain": [
       "'success: content added from https://content.govdelivery.com/accounts/WIGOV/bulletins/3501255'"
      ]
     },
     "execution_count": 16,
     "metadata": {},
     "output_type": "execute_result"
    },
    {
     "data": {
      "text/plain": [
       "'success: content added from https://content.govdelivery.com/accounts/WIGOV/bulletins/350203f'"
      ]
     },
     "execution_count": 16,
     "metadata": {},
     "output_type": "execute_result"
    },
    {
     "data": {
      "text/plain": [
       "'success: content added from https://content.govdelivery.com/accounts/WIGOV/bulletins/34fdca1'"
      ]
     },
     "execution_count": 16,
     "metadata": {},
     "output_type": "execute_result"
    },
    {
     "data": {
      "text/plain": [
       "'success: content added from https://content.govdelivery.com/accounts/WIGOV/bulletins/34fd6b9'"
      ]
     },
     "execution_count": 16,
     "metadata": {},
     "output_type": "execute_result"
    },
    {
     "data": {
      "text/plain": [
       "'success: content added from https://content.govdelivery.com/accounts/WIGOV/bulletins/34f5349'"
      ]
     },
     "execution_count": 16,
     "metadata": {},
     "output_type": "execute_result"
    },
    {
     "data": {
      "text/plain": [
       "'success: content added from https://content.govdelivery.com/accounts/WIGOV/bulletins/34ea87b'"
      ]
     },
     "execution_count": 16,
     "metadata": {},
     "output_type": "execute_result"
    },
    {
     "data": {
      "text/plain": [
       "'success: content added from https://content.govdelivery.com/accounts/WIGOV/bulletins/34eec83'"
      ]
     },
     "execution_count": 16,
     "metadata": {},
     "output_type": "execute_result"
    },
    {
     "data": {
      "text/plain": [
       "'success: content added from https://content.govdelivery.com/accounts/WIGOV/bulletins/34ee159'"
      ]
     },
     "execution_count": 16,
     "metadata": {},
     "output_type": "execute_result"
    },
    {
     "data": {
      "text/plain": [
       "'success: content added from https://content.govdelivery.com/accounts/WIGOV/bulletins/34eb12d'"
      ]
     },
     "execution_count": 16,
     "metadata": {},
     "output_type": "execute_result"
    },
    {
     "data": {
      "text/plain": [
       "'success: content added from https://content.govdelivery.com/accounts/WIGOV/bulletins/34e6344'"
      ]
     },
     "execution_count": 16,
     "metadata": {},
     "output_type": "execute_result"
    },
    {
     "data": {
      "text/plain": [
       "'success: content added from https://content.govdelivery.com/accounts/WIGOV/bulletins/34d31ff'"
      ]
     },
     "execution_count": 16,
     "metadata": {},
     "output_type": "execute_result"
    },
    {
     "data": {
      "text/plain": [
       "'success: content added from https://content.govdelivery.com/accounts/WIGOV/bulletins/34d74b9'"
      ]
     },
     "execution_count": 16,
     "metadata": {},
     "output_type": "execute_result"
    },
    {
     "data": {
      "text/plain": [
       "'success: content added from https://content.govdelivery.com/accounts/WIGOV/bulletins/34bee25'"
      ]
     },
     "execution_count": 16,
     "metadata": {},
     "output_type": "execute_result"
    },
    {
     "data": {
      "text/plain": [
       "'success: content added from https://content.govdelivery.com/accounts/WIGOV/bulletins/34c4fd6'"
      ]
     },
     "execution_count": 16,
     "metadata": {},
     "output_type": "execute_result"
    },
    {
     "data": {
      "text/plain": [
       "'success: content added from https://content.govdelivery.com/accounts/WIGOV/bulletins/34c39f3'"
      ]
     },
     "execution_count": 16,
     "metadata": {},
     "output_type": "execute_result"
    },
    {
     "data": {
      "text/plain": [
       "'success: content added from https://content.govdelivery.com/accounts/WIGOV/bulletins/34bc87d'"
      ]
     },
     "execution_count": 16,
     "metadata": {},
     "output_type": "execute_result"
    },
    {
     "data": {
      "text/plain": [
       "'success: content added from https://content.govdelivery.com/accounts/WIGOV/bulletins/348885c'"
      ]
     },
     "execution_count": 16,
     "metadata": {},
     "output_type": "execute_result"
    },
    {
     "data": {
      "text/plain": [
       "'success: content added from https://content.govdelivery.com/accounts/WIGOV/bulletins/34b6b5b'"
      ]
     },
     "execution_count": 16,
     "metadata": {},
     "output_type": "execute_result"
    },
    {
     "data": {
      "text/plain": [
       "'success: content added from https://content.govdelivery.com/accounts/WIGOV/bulletins/34aa344'"
      ]
     },
     "execution_count": 16,
     "metadata": {},
     "output_type": "execute_result"
    },
    {
     "data": {
      "text/plain": [
       "'success: content added from https://content.govdelivery.com/accounts/WIGOV/bulletins/34af1fd'"
      ]
     },
     "execution_count": 16,
     "metadata": {},
     "output_type": "execute_result"
    },
    {
     "data": {
      "text/plain": [
       "'success: content added from https://content.govdelivery.com/accounts/WIGOV/bulletins/34a81c0'"
      ]
     },
     "execution_count": 16,
     "metadata": {},
     "output_type": "execute_result"
    },
    {
     "data": {
      "text/plain": [
       "'success: content added from https://content.govdelivery.com/accounts/WIGOV/bulletins/34af0a8'"
      ]
     },
     "execution_count": 16,
     "metadata": {},
     "output_type": "execute_result"
    },
    {
     "data": {
      "text/plain": [
       "'success: content added from https://content.govdelivery.com/accounts/WIGOV/bulletins/34a7399'"
      ]
     },
     "execution_count": 16,
     "metadata": {},
     "output_type": "execute_result"
    },
    {
     "data": {
      "text/plain": [
       "'success: content added from https://content.govdelivery.com/accounts/WIGOV/bulletins/34a3c1e'"
      ]
     },
     "execution_count": 16,
     "metadata": {},
     "output_type": "execute_result"
    },
    {
     "data": {
      "text/plain": [
       "'success: content added from https://content.govdelivery.com/accounts/WIGOV/bulletins/34a80c8'"
      ]
     },
     "execution_count": 16,
     "metadata": {},
     "output_type": "execute_result"
    },
    {
     "data": {
      "text/plain": [
       "'success: content added from https://content.govdelivery.com/accounts/WIGOV/bulletins/347a6ca'"
      ]
     },
     "execution_count": 16,
     "metadata": {},
     "output_type": "execute_result"
    },
    {
     "data": {
      "text/plain": [
       "'success: content added from https://content.govdelivery.com/accounts/WIGOV/bulletins/34a0034'"
      ]
     },
     "execution_count": 16,
     "metadata": {},
     "output_type": "execute_result"
    },
    {
     "data": {
      "text/plain": [
       "'success: content added from https://content.govdelivery.com/accounts/WIGOV/bulletins/34a8381'"
      ]
     },
     "execution_count": 16,
     "metadata": {},
     "output_type": "execute_result"
    },
    {
     "data": {
      "text/plain": [
       "'success: content added from https://content.govdelivery.com/accounts/WIGOV/bulletins/349f138'"
      ]
     },
     "execution_count": 16,
     "metadata": {},
     "output_type": "execute_result"
    },
    {
     "data": {
      "text/plain": [
       "'success: content added from https://content.govdelivery.com/accounts/WIGOV/bulletins/34944d6'"
      ]
     },
     "execution_count": 16,
     "metadata": {},
     "output_type": "execute_result"
    },
    {
     "data": {
      "text/plain": [
       "'success: content added from https://content.govdelivery.com/accounts/WIGOV/bulletins/3481530'"
      ]
     },
     "execution_count": 16,
     "metadata": {},
     "output_type": "execute_result"
    },
    {
     "data": {
      "text/plain": [
       "'success: content added from https://content.govdelivery.com/accounts/WIGOV/bulletins/347d609'"
      ]
     },
     "execution_count": 16,
     "metadata": {},
     "output_type": "execute_result"
    },
    {
     "data": {
      "text/plain": [
       "'success: content added from https://content.govdelivery.com/accounts/WIGOV/bulletins/34912ff'"
      ]
     },
     "execution_count": 16,
     "metadata": {},
     "output_type": "execute_result"
    },
    {
     "data": {
      "text/plain": [
       "'success: content added from https://content.govdelivery.com/accounts/WIGOV/bulletins/34914c1'"
      ]
     },
     "execution_count": 16,
     "metadata": {},
     "output_type": "execute_result"
    },
    {
     "data": {
      "text/plain": [
       "'success: content added from https://content.govdelivery.com/accounts/WIGOV/bulletins/3490b77'"
      ]
     },
     "execution_count": 16,
     "metadata": {},
     "output_type": "execute_result"
    },
    {
     "data": {
      "text/plain": [
       "'success: content added from https://content.govdelivery.com/accounts/WIGOV/bulletins/3490f00'"
      ]
     },
     "execution_count": 16,
     "metadata": {},
     "output_type": "execute_result"
    },
    {
     "data": {
      "text/plain": [
       "'success: content added from https://content.govdelivery.com/accounts/WIGOV/bulletins/347d65a'"
      ]
     },
     "execution_count": 16,
     "metadata": {},
     "output_type": "execute_result"
    },
    {
     "data": {
      "text/plain": [
       "'success: content added from https://content.govdelivery.com/accounts/WIGOV/bulletins/34868de'"
      ]
     },
     "execution_count": 16,
     "metadata": {},
     "output_type": "execute_result"
    },
    {
     "data": {
      "text/plain": [
       "'success: content added from https://content.govdelivery.com/accounts/WIGOV/bulletins/34896a0'"
      ]
     },
     "execution_count": 16,
     "metadata": {},
     "output_type": "execute_result"
    },
    {
     "data": {
      "text/plain": [
       "'success: content added from https://content.govdelivery.com/accounts/WIGOV/bulletins/34805fc'"
      ]
     },
     "execution_count": 16,
     "metadata": {},
     "output_type": "execute_result"
    },
    {
     "data": {
      "text/plain": [
       "'success: content added from https://content.govdelivery.com/accounts/WIGOV/bulletins/34829dd'"
      ]
     },
     "execution_count": 16,
     "metadata": {},
     "output_type": "execute_result"
    },
    {
     "data": {
      "text/plain": [
       "'success: content added from https://content.govdelivery.com/accounts/WIGOV/bulletins/3480d9av'"
      ]
     },
     "execution_count": 16,
     "metadata": {},
     "output_type": "execute_result"
    },
    {
     "data": {
      "text/plain": [
       "'success: content added from https://content.govdelivery.com/accounts/WIGOV/bulletins/347de30'"
      ]
     },
     "execution_count": 16,
     "metadata": {},
     "output_type": "execute_result"
    },
    {
     "data": {
      "text/plain": [
       "'success: content added from https://content.govdelivery.com/accounts/WIGOV/bulletins/347f4be'"
      ]
     },
     "execution_count": 16,
     "metadata": {},
     "output_type": "execute_result"
    },
    {
     "data": {
      "text/plain": [
       "'success: content added from https://content.govdelivery.com/accounts/WIGOV/bulletins/3477831'"
      ]
     },
     "execution_count": 16,
     "metadata": {},
     "output_type": "execute_result"
    },
    {
     "data": {
      "text/plain": [
       "'success: content added from https://content.govdelivery.com/accounts/WIGOV/bulletins/34747bd'"
      ]
     },
     "execution_count": 16,
     "metadata": {},
     "output_type": "execute_result"
    },
    {
     "data": {
      "text/plain": [
       "'success: content added from https://content.govdelivery.com/accounts/WIGOV/bulletins/3476132'"
      ]
     },
     "execution_count": 16,
     "metadata": {},
     "output_type": "execute_result"
    },
    {
     "data": {
      "text/plain": [
       "'success: content added from https://content.govdelivery.com/accounts/WIGOV/bulletins/3470660'"
      ]
     },
     "execution_count": 16,
     "metadata": {},
     "output_type": "execute_result"
    },
    {
     "data": {
      "text/plain": [
       "'success: content added from https://content.govdelivery.com/accounts/WIGOV/bulletins/346eb6c'"
      ]
     },
     "execution_count": 16,
     "metadata": {},
     "output_type": "execute_result"
    },
    {
     "data": {
      "text/plain": [
       "'success: content added from https://content.govdelivery.com/accounts/WIGOV/bulletins/3474349'"
      ]
     },
     "execution_count": 16,
     "metadata": {},
     "output_type": "execute_result"
    },
    {
     "data": {
      "text/plain": [
       "'success: content added from https://content.govdelivery.com/accounts/WIGOV/bulletins/3468f63'"
      ]
     },
     "execution_count": 16,
     "metadata": {},
     "output_type": "execute_result"
    },
    {
     "data": {
      "text/plain": [
       "'success: content added from https://content.govdelivery.com/accounts/WIGOV/bulletins/3468136'"
      ]
     },
     "execution_count": 16,
     "metadata": {},
     "output_type": "execute_result"
    },
    {
     "data": {
      "text/plain": [
       "'success: content added from https://content.govdelivery.com/accounts/WIGOV/bulletins/3454e5c'"
      ]
     },
     "execution_count": 16,
     "metadata": {},
     "output_type": "execute_result"
    },
    {
     "data": {
      "text/plain": [
       "'success: content added from https://content.govdelivery.com/accounts/WIGOV/bulletins/3456097'"
      ]
     },
     "execution_count": 16,
     "metadata": {},
     "output_type": "execute_result"
    },
    {
     "data": {
      "text/plain": [
       "'success: content added from https://content.govdelivery.com/accounts/WIGOV/bulletins/346166f'"
      ]
     },
     "execution_count": 16,
     "metadata": {},
     "output_type": "execute_result"
    },
    {
     "data": {
      "text/plain": [
       "'success: content added from https://content.govdelivery.com/accounts/WIGOV/bulletins/34552e7'"
      ]
     },
     "execution_count": 16,
     "metadata": {},
     "output_type": "execute_result"
    },
    {
     "data": {
      "text/plain": [
       "'success: content added from https://content.govdelivery.com/accounts/WIGOV/bulletins/34551d4'"
      ]
     },
     "execution_count": 16,
     "metadata": {},
     "output_type": "execute_result"
    },
    {
     "data": {
      "text/plain": [
       "'success: content added from https://content.govdelivery.com/accounts/WIGOV/bulletins/3454bf6'"
      ]
     },
     "execution_count": 16,
     "metadata": {},
     "output_type": "execute_result"
    },
    {
     "data": {
      "text/plain": [
       "'success: content added from https://content.govdelivery.com/accounts/WIGOV/bulletins/3450e65'"
      ]
     },
     "execution_count": 16,
     "metadata": {},
     "output_type": "execute_result"
    },
    {
     "data": {
      "text/plain": [
       "'success: content added from https://content.govdelivery.com/accounts/WIGOV/bulletins/344e38c'"
      ]
     },
     "execution_count": 16,
     "metadata": {},
     "output_type": "execute_result"
    },
    {
     "data": {
      "text/plain": [
       "'success: content added from https://content.govdelivery.com/accounts/WIGOV/bulletins/344b5b3'"
      ]
     },
     "execution_count": 16,
     "metadata": {},
     "output_type": "execute_result"
    },
    {
     "data": {
      "text/plain": [
       "'success: content added from https://content.govdelivery.com/accounts/WIGOV/bulletins/344af86'"
      ]
     },
     "execution_count": 16,
     "metadata": {},
     "output_type": "execute_result"
    },
    {
     "data": {
      "text/plain": [
       "'success: content added from https://content.govdelivery.com/accounts/WIGOV/bulletins/344b79b'"
      ]
     },
     "execution_count": 16,
     "metadata": {},
     "output_type": "execute_result"
    },
    {
     "data": {
      "text/plain": [
       "'success: content added from https://content.govdelivery.com/accounts/WIGOV/bulletins/344b7f8'"
      ]
     },
     "execution_count": 16,
     "metadata": {},
     "output_type": "execute_result"
    },
    {
     "data": {
      "text/plain": [
       "'success: content added from https://content.govdelivery.com/accounts/WIGOV/bulletins/343fc2b'"
      ]
     },
     "execution_count": 16,
     "metadata": {},
     "output_type": "execute_result"
    },
    {
     "data": {
      "text/plain": [
       "'success: content added from https://content.govdelivery.com/accounts/WIGOV/bulletins/343fc01'"
      ]
     },
     "execution_count": 16,
     "metadata": {},
     "output_type": "execute_result"
    },
    {
     "data": {
      "text/plain": [
       "'success: content added from http://content.govdelivery.com/accounts/WIGOV/bulletins/3420089'"
      ]
     },
     "execution_count": 16,
     "metadata": {},
     "output_type": "execute_result"
    },
    {
     "data": {
      "text/plain": [
       "'success: content added from http://content.govdelivery.com/accounts/WIGOV/bulletins/3432648'"
      ]
     },
     "execution_count": 16,
     "metadata": {},
     "output_type": "execute_result"
    },
    {
     "data": {
      "text/plain": [
       "'success: content added from https://content.govdelivery.com/accounts/WIGOV/bulletins/343569f'"
      ]
     },
     "execution_count": 16,
     "metadata": {},
     "output_type": "execute_result"
    },
    {
     "data": {
      "text/plain": [
       "'success: content added from https://content.govdelivery.com/accounts/WIGOV/bulletins/34275eb'"
      ]
     },
     "execution_count": 16,
     "metadata": {},
     "output_type": "execute_result"
    },
    {
     "data": {
      "text/plain": [
       "'success: content added from https://content.govdelivery.com/accounts/WIGOV/bulletins/3426da6'"
      ]
     },
     "execution_count": 16,
     "metadata": {},
     "output_type": "execute_result"
    },
    {
     "data": {
      "text/plain": [
       "'success: content added from https://lnks.gd/2/zT3jr2'"
      ]
     },
     "execution_count": 16,
     "metadata": {},
     "output_type": "execute_result"
    },
    {
     "data": {
      "text/plain": [
       "'success: content added from https://lnks.gd/2/zJP-VJ'"
      ]
     },
     "execution_count": 16,
     "metadata": {},
     "output_type": "execute_result"
    },
    {
     "data": {
      "text/plain": [
       "'success: content added from https://lnks.gd/2/zNj_wR'"
      ]
     },
     "execution_count": 16,
     "metadata": {},
     "output_type": "execute_result"
    },
    {
     "data": {
      "text/plain": [
       "'success: content added from https://lnks.gd/2/zLx_6x'"
      ]
     },
     "execution_count": 16,
     "metadata": {},
     "output_type": "execute_result"
    },
    {
     "data": {
      "text/plain": [
       "'success: content added from https://lnks.gd/2/zJNnN5'"
      ]
     },
     "execution_count": 16,
     "metadata": {},
     "output_type": "execute_result"
    },
    {
     "data": {
      "text/plain": [
       "'success: content added from https://lnks.gd/2/zLbRD6'"
      ]
     },
     "execution_count": 16,
     "metadata": {},
     "output_type": "execute_result"
    },
    {
     "data": {
      "text/plain": [
       "'success: content added from https://lnks.gd/2/zJPXVt'"
      ]
     },
     "execution_count": 16,
     "metadata": {},
     "output_type": "execute_result"
    },
    {
     "data": {
      "text/plain": [
       "'success: content added from https://lnks.gd/2/zHdjZX'"
      ]
     },
     "execution_count": 16,
     "metadata": {},
     "output_type": "execute_result"
    }
   ],
   "source": [
    "for i in combined.link:\n",
    "    scrape_wisconsin_content(combined, i)"
   ]
  },
  {
   "cell_type": "code",
   "execution_count": 19,
   "id": "51724643",
   "metadata": {},
   "outputs": [
    {
     "name": "stdout",
     "output_type": "stream",
     "text": [
      "<class 'pandas.core.frame.DataFrame'>\n",
      "RangeIndex: 364 entries, 0 to 363\n",
      "Data columns (total 4 columns):\n",
      " #   Column   Non-Null Count  Dtype \n",
      "---  ------   --------------  ----- \n",
      " 0   title    364 non-null    object\n",
      " 1   date     364 non-null    object\n",
      " 2   link     364 non-null    object\n",
      " 3   content  360 non-null    object\n",
      "dtypes: object(4)\n",
      "memory usage: 11.5+ KB\n"
     ]
    },
    {
     "data": {
      "text/html": [
       "<div>\n",
       "<style scoped>\n",
       "    .dataframe tbody tr th:only-of-type {\n",
       "        vertical-align: middle;\n",
       "    }\n",
       "\n",
       "    .dataframe tbody tr th {\n",
       "        vertical-align: top;\n",
       "    }\n",
       "\n",
       "    .dataframe thead th {\n",
       "        text-align: right;\n",
       "    }\n",
       "</style>\n",
       "<table border=\"1\" class=\"dataframe\">\n",
       "  <thead>\n",
       "    <tr style=\"text-align: right;\">\n",
       "      <th></th>\n",
       "      <th>title</th>\n",
       "      <th>date</th>\n",
       "      <th>link</th>\n",
       "      <th>content</th>\n",
       "    </tr>\n",
       "  </thead>\n",
       "  <tbody>\n",
       "    <tr>\n",
       "      <th>0</th>\n",
       "      <td>Gov. Evers Orders Flags to Half-Staff in Honor...</td>\n",
       "      <td>December 28, 2023</td>\n",
       "      <td>https://content.govdelivery.com/accounts/WIGOV...</td>\n",
       "      <td>MADISON — Gov. Tony Evers today ordered the fl...</td>\n",
       "    </tr>\n",
       "    <tr>\n",
       "      <th>1</th>\n",
       "      <td>2023 Roundup: Gov. Evers Completes Annual 72-C...</td>\n",
       "      <td>December 28, 2023</td>\n",
       "      <td>https://content.govdelivery.com/accounts/WIGOV...</td>\n",
       "      <td>MADISON — Gov. Tony Evers today announced that...</td>\n",
       "    </tr>\n",
       "    <tr>\n",
       "      <th>2</th>\n",
       "      <td>Gov. Evers Seeks Applicants for Langlade Count...</td>\n",
       "      <td>December 27, 2023</td>\n",
       "      <td>https://content.govdelivery.com/accounts/WIGOV...</td>\n",
       "      <td>MADISON — Gov. Tony Evers announced today that...</td>\n",
       "    </tr>\n",
       "    <tr>\n",
       "      <th>3</th>\n",
       "      <td>Gov. Evers Releases Statement Regarding Passin...</td>\n",
       "      <td>December 27, 2023</td>\n",
       "      <td>https://content.govdelivery.com/accounts/WIGOV...</td>\n",
       "      <td>MADISON — Gov. Tony Evers today released a sta...</td>\n",
       "    </tr>\n",
       "    <tr>\n",
       "      <th>4</th>\n",
       "      <td>Gov. Evers, First Lady Celebrate Kwanzaa in Wi...</td>\n",
       "      <td>December 26, 2023</td>\n",
       "      <td>https://content.govdelivery.com/accounts/WIGOV...</td>\n",
       "      <td>MADISON — Gov. Tony Evers and First Lady Kathy...</td>\n",
       "    </tr>\n",
       "  </tbody>\n",
       "</table>\n",
       "</div>"
      ],
      "text/plain": [
       "                                               title               date  \\\n",
       "0  Gov. Evers Orders Flags to Half-Staff in Honor...  December 28, 2023   \n",
       "1  2023 Roundup: Gov. Evers Completes Annual 72-C...  December 28, 2023   \n",
       "2  Gov. Evers Seeks Applicants for Langlade Count...  December 27, 2023   \n",
       "3  Gov. Evers Releases Statement Regarding Passin...  December 27, 2023   \n",
       "4  Gov. Evers, First Lady Celebrate Kwanzaa in Wi...  December 26, 2023   \n",
       "\n",
       "                                                link  \\\n",
       "0  https://content.govdelivery.com/accounts/WIGOV...   \n",
       "1  https://content.govdelivery.com/accounts/WIGOV...   \n",
       "2  https://content.govdelivery.com/accounts/WIGOV...   \n",
       "3  https://content.govdelivery.com/accounts/WIGOV...   \n",
       "4  https://content.govdelivery.com/accounts/WIGOV...   \n",
       "\n",
       "                                             content  \n",
       "0  MADISON — Gov. Tony Evers today ordered the fl...  \n",
       "1  MADISON — Gov. Tony Evers today announced that...  \n",
       "2  MADISON — Gov. Tony Evers announced today that...  \n",
       "3  MADISON — Gov. Tony Evers today released a sta...  \n",
       "4  MADISON — Gov. Tony Evers and First Lady Kathy...  "
      ]
     },
     "execution_count": 19,
     "metadata": {},
     "output_type": "execute_result"
    }
   ],
   "source": [
    "# check\n",
    "combined.info()\n",
    "combined.head()"
   ]
  },
  {
   "cell_type": "markdown",
   "id": "5ee16e4a",
   "metadata": {},
   "source": [
    "## Validate and Clean"
   ]
  },
  {
   "cell_type": "code",
   "execution_count": 26,
   "id": "b1e3b574",
   "metadata": {},
   "outputs": [
    {
     "data": {
      "text/plain": [
       "'http://https//content.govdelivery.com/accounts/WIGOV/bulletins/357ae6b'"
      ]
     },
     "execution_count": 26,
     "metadata": {},
     "output_type": "execute_result"
    },
    {
     "data": {
      "text/plain": [
       "'http://https//content.govdelivery.com/accounts/WIGOV/bulletins/354196d'"
      ]
     },
     "execution_count": 26,
     "metadata": {},
     "output_type": "execute_result"
    },
    {
     "data": {
      "text/plain": [
       "'https://content.govdelivery.com/accounts/WIGOV/bulletins/3517f17https://content.govdelivery.com/accounts/WIGOV/bulletins/3517f17'"
      ]
     },
     "execution_count": 26,
     "metadata": {},
     "output_type": "execute_result"
    },
    {
     "data": {
      "text/plain": [
       "'http://https//content.govdelivery.com/accounts/WIGOV/bulletins/34a8199'"
      ]
     },
     "execution_count": 26,
     "metadata": {},
     "output_type": "execute_result"
    }
   ],
   "source": [
    "# review null content\n",
    "nas = combined[combined.content.isna()]\n",
    "\n",
    "for link in nas.link:\n",
    "    link\n",
    "    \n",
    "# looks 3 have an extra https and 1 is repeated in a single string "
   ]
  },
  {
   "cell_type": "code",
   "execution_count": 38,
   "id": "2480eb90",
   "metadata": {},
   "outputs": [
    {
     "data": {
      "text/html": [
       "<div>\n",
       "<style scoped>\n",
       "    .dataframe tbody tr th:only-of-type {\n",
       "        vertical-align: middle;\n",
       "    }\n",
       "\n",
       "    .dataframe tbody tr th {\n",
       "        vertical-align: top;\n",
       "    }\n",
       "\n",
       "    .dataframe thead th {\n",
       "        text-align: right;\n",
       "    }\n",
       "</style>\n",
       "<table border=\"1\" class=\"dataframe\">\n",
       "  <thead>\n",
       "    <tr style=\"text-align: right;\">\n",
       "      <th></th>\n",
       "      <th>title</th>\n",
       "      <th>date</th>\n",
       "      <th>link</th>\n",
       "      <th>content</th>\n",
       "    </tr>\n",
       "  </thead>\n",
       "  <tbody>\n",
       "    <tr>\n",
       "      <th>239</th>\n",
       "      <td>Gov. Evers Appoints Clifford Burdon as Marquet...</td>\n",
       "      <td>May 1, 2023</td>\n",
       "      <td>http://https//content.govdelivery.com/accounts...</td>\n",
       "      <td>NaN</td>\n",
       "    </tr>\n",
       "    <tr>\n",
       "      <th>249</th>\n",
       "      <td>Gov. Evers, DATCP Announce Commercial Nitrogen...</td>\n",
       "      <td>April 20, 2023</td>\n",
       "      <td>http://https//content.govdelivery.com/accounts...</td>\n",
       "      <td>NaN</td>\n",
       "    </tr>\n",
       "    <tr>\n",
       "      <th>276</th>\n",
       "      <td>Gov. Evers Celebrates Launch of New Clean Econ...</td>\n",
       "      <td>March 29, 2023</td>\n",
       "      <td>https://content.govdelivery.com/accounts/WIGOV...</td>\n",
       "      <td>NaN</td>\n",
       "    </tr>\n",
       "    <tr>\n",
       "      <th>305</th>\n",
       "      <td>Gov. Evers Orders Flags to Half-Staff in Honor...</td>\n",
       "      <td>February 24, 2023</td>\n",
       "      <td>http://https//content.govdelivery.com/accounts...</td>\n",
       "      <td>NaN</td>\n",
       "    </tr>\n",
       "  </tbody>\n",
       "</table>\n",
       "</div>"
      ],
      "text/plain": [
       "                                                 title               date  \\\n",
       "239  Gov. Evers Appoints Clifford Burdon as Marquet...        May 1, 2023   \n",
       "249  Gov. Evers, DATCP Announce Commercial Nitrogen...     April 20, 2023   \n",
       "276  Gov. Evers Celebrates Launch of New Clean Econ...     March 29, 2023   \n",
       "305  Gov. Evers Orders Flags to Half-Staff in Honor...  February 24, 2023   \n",
       "\n",
       "                                                  link content  \n",
       "239  http://https//content.govdelivery.com/accounts...     NaN  \n",
       "249  http://https//content.govdelivery.com/accounts...     NaN  \n",
       "276  https://content.govdelivery.com/accounts/WIGOV...     NaN  \n",
       "305  http://https//content.govdelivery.com/accounts...     NaN  "
      ]
     },
     "execution_count": 38,
     "metadata": {},
     "output_type": "execute_result"
    }
   ],
   "source": [
    "# print indices\n",
    "nas"
   ]
  },
  {
   "cell_type": "code",
   "execution_count": 39,
   "id": "7de71aa6",
   "metadata": {},
   "outputs": [
    {
     "data": {
      "text/plain": [
       "title      Gov. Evers Appoints Clifford Burdon as Marquet...\n",
       "date                                             May 1, 2023\n",
       "link       https://content.govdelivery.com/accounts/WIGOV...\n",
       "content                                                  NaN\n",
       "Name: 239, dtype: object"
      ]
     },
     "execution_count": 39,
     "metadata": {},
     "output_type": "execute_result"
    }
   ],
   "source": [
    "#hard code replacements\n",
    "combined.link[239] = 'https://content.govdelivery.com/accounts/WIGOV/bulletins/357ae6b'"
   ]
  },
  {
   "cell_type": "code",
   "execution_count": 50,
   "id": "764abd5e",
   "metadata": {},
   "outputs": [
    {
     "data": {
      "text/plain": [
       "'https://content.govdelivery.com/accounts/WIGOV/bulletins/354196d'"
      ]
     },
     "execution_count": 50,
     "metadata": {},
     "output_type": "execute_result"
    }
   ],
   "source": [
    "combined.link[249] \n",
    "combined.link[249] = 'https://content.govdelivery.com/accounts/WIGOV/bulletins/354196d'"
   ]
  },
  {
   "cell_type": "code",
   "execution_count": 54,
   "id": "f45995fd",
   "metadata": {},
   "outputs": [
    {
     "data": {
      "text/plain": [
       "'https://content.govdelivery.com/accounts/WIGOV/bulletins/34a8199'"
      ]
     },
     "execution_count": 54,
     "metadata": {},
     "output_type": "execute_result"
    }
   ],
   "source": [
    "combined.link[305] \n",
    "combined.link[305] = 'https://content.govdelivery.com/accounts/WIGOV/bulletins/34a8199'"
   ]
  },
  {
   "cell_type": "code",
   "execution_count": 69,
   "id": "e333196c",
   "metadata": {},
   "outputs": [
    {
     "data": {
      "text/plain": [
       "'https://content.govdelivery.com/accounts/WIGOV/bulletins/3517f17'"
      ]
     },
     "execution_count": 69,
     "metadata": {},
     "output_type": "execute_result"
    }
   ],
   "source": [
    "combined.link[276]\n",
    "combined.link[276] = 'https://content.govdelivery.com/accounts/WIGOV/bulletins/3517f17'"
   ]
  },
  {
   "cell_type": "code",
   "execution_count": 40,
   "id": "17e5e756",
   "metadata": {},
   "outputs": [
    {
     "data": {
      "text/plain": [
       "'success: content added from https://content.govdelivery.com/accounts/WIGOV/bulletins/357ae6b'"
      ]
     },
     "execution_count": 40,
     "metadata": {},
     "output_type": "execute_result"
    }
   ],
   "source": [
    "# redo \n",
    "scrape_wisconsin_content(combined, combined.link[239])"
   ]
  },
  {
   "cell_type": "code",
   "execution_count": 60,
   "id": "e82025cd",
   "metadata": {},
   "outputs": [
    {
     "data": {
      "text/plain": [
       "\"MADISON — Gov. Tony Evers announced today his appointment of Clifford Burdon to serve as Marquette County District Attorney. The appointment fills a vacancy created by former District Attorney Brian J. Juech’s resignation. Burdon will serve for the remainder of the unexpired term that ends January 2025.  “Clifford Burdon brings experience and continuity to the Marquette County District Attorney’s Office,” said Gov. Evers. “He will serve the people of Marquette County well as their next district attorney.”  Burdon is currently the Assistant District Attorney in the Marquette County District Attorney’s Office and has been a prosecutor for more than a decade, previously working in the Juneau, Fond du Lac, and Columbia County District Attorney Offices. Prior to his current role and earlier in his career, Burdon was a criminal defense attorney. Over his career as a prosecutor and defense attorney, he has handled various criminal matters and dozens of jury trials.  “Governor Evers has made an excellent choice in appointing Cliff Burdon as Marquette County District Attorney,” said Marquette County Sheriff Joseph Konrath. “Mr. Burdon is an intelligent and experienced prosecutor. Our Sheriff's Office looks forward to working with our new District Attorney to ensure public safety while treating everyone with dignity and respect.”  Burdon is active in professional and community organizations, having served as vice president of the Columbia County Bar Association in 2011 and 2018, and volunteered with the Pardeeville Watermelon Festival for many years. He will be relocating to Marquette County to serve in this role.  “I am honored to accept the appointment by Governor Evers to serve as District Attorney for Marquette County,” said Burdon. “As District Attorney, I look forward to working alongside our excellent law enforcement with my dedicated staff serving our community in our pursuit of justice.”  A photo of Burdon is available here.\""
      ]
     },
     "execution_count": 60,
     "metadata": {},
     "output_type": "execute_result"
    }
   ],
   "source": [
    "# check this worked\n",
    "combined.content[239]"
   ]
  },
  {
   "cell_type": "code",
   "execution_count": 59,
   "id": "ab8d151a",
   "metadata": {},
   "outputs": [
    {
     "data": {
      "text/plain": [
       "'success: content added from https://content.govdelivery.com/accounts/WIGOV/bulletins/354196d'"
      ]
     },
     "execution_count": 59,
     "metadata": {},
     "output_type": "execute_result"
    }
   ],
   "source": [
    "# redo \n",
    "scrape_wisconsin_content(combined, combined.link[249])"
   ]
  },
  {
   "cell_type": "code",
   "execution_count": 65,
   "id": "1aeb5d5f",
   "metadata": {},
   "outputs": [
    {
     "data": {
      "text/plain": [
       "'MADISON — Gov. Tony Evers, together with the Wisconsin Department of Agriculture, Trade, and Consumer Protection (DATCP), announced that 20 recipients are receiving grant funding for the 2023 Commercial Nitrogen Optimization Pilot Program (NOPP). These grants aim to refine and enhance the understanding of new methods that optimize commercial nitrogen applied to agricultural fields, helping to protect vital soil and water resources.  “This pilot program is a great way to bring together partners in this work, from farmers and producers to conservation professionals, to promote collaboration and find best practices to ensure that we are protecting our state’s natural resources from harmful contaminants while helping farmers protect their bottom line,” said Gov. Evers. “Farmers know firsthand the value of having clean water and fruitful land, and we are glad to continue to invest in and support producer-led conservation efforts in my 2023-25 biennial budget so farmers can continue to stay innovative and productive for years to come.”  “As stewards of the land, Wisconsin farmers understand that our rich soil and water resources are our strength, and they work tirelessly to ensure that our farmland is maintained for future generations,” said DATCP Secretary Randy Romanski. “Thanks to Governor Evers and the Legislature, these grants will give farmers across the state the opportunity to continue identifying new opportunities in nitrogen optimization.”  The NOPP was designed to encourage agricultural producers to develop innovative approaches to optimize the application of commercial nitrogen for a duration of at least two growing seasons. The selected producers must collaborate with a University of Wisconsin (UW) System institution, which will monitor the grant project on-site and conduct commercial nitrogen optimization field studies.  Funding for the NOPP and the cover crop insurance premium rebate program, which assists farmers with rebates of $5 per acre of a cover crop planted for crop insurance premiums paid on those acres, was announced last summer. These programs were created under 2021 Wisconsin Act 223, legislation put forth by the bipartisan Water Quality Task Force and signed into law by Gov. Evers in April 2022. Building on these efforts to conserve and protect Wisconsin’s soil and water resources, Gov. Evers’ 2023-25 biennial budget proposes to provide $2.4 million in each year of the biennium to continue the NOPP, as well as the cover crop insurance program.  The grant structure allowed agricultural producers to work together and apply under a single application, with each individual producer eligible to receive a maximum award of up to $50,000. Of each of the grants, up to 20 percent will be awarded to the UW System for monitoring and research assistance. The application period for the program closed on Jan. 31, 2023.  DATCP received 31 funding applications totaling more than $2.1 million in requests. The grant recipients and their planned projects, totaling nearly $1.6 million, are:  Joe Ailts | $43,505 Explore organic and inorganic nitrogen soil testing as a means to reduce nitrogen applications. Number of producers on project: 2  David Albright | $50,000 Evaluate the nitrogen efficiency and yield return of Augmenta camera system. Number of producers on project: 1  Gregory Bean (McCain Foods) | $100,000 Create a Public-Industry Partnership for Enhanced Nitrogen Management (PIPE-N) in potatoes. Number of producers on project: 2  Brendon Blank | $128,134 Determine nitrogen rate for best winter triticale forage yield, quality, and phosphorus removal. Number of producers on project: 3  Joe Bragger | $18,940 Optimize urea applications when applying poultry litter to corn. Number of producers on project: 2  Cranberry Creek | $50,000 Study nitrogen application timing in Wisconsin cranberry marshes. Number of producers on project: 1  Dodge County Farmers for Healthy Soil & Healthy Water | $246,926 Determine nitrogen rate from multi-species cover crops after wheat in greater Dodge County. Number of producers on project: 13  Flyte Farms | $50,000 Maximize potato yield nitrogen use efficiency (NUE) with at-plant additives in a reduced nitrogen setting. Number of producers on project: 1  Jim Hebbe | $48,000 Evaluate a biological nitrogen product in maintaining corn yield. Number of producers on project: 1  InDepth Agronomy | $64,271 Validate corn nitrogen rates for eastern Wisconsin soils. Number of producers on project: 2  Lafayette Ag Stewardship Alliance | $100,582 Determine optimal nitrogen rate for planting corn for grain production “green” in cereal rye cover crop following the soybean production year. Number of producers on project: 4  Michael Fields Agricultural Institute | $71,041 Estimate nitrogen credits from multi-species cover crops planted after wheat. Number of producers on project: 3  Tracey Novak | $25,597 Evaluate Pivot Bio PROVEN40® over four nitrogen rates. Number of producers on project: 1  Pleasant Valley Acres LLC | $42,851 Evaluate corn maximum return to nitrogen (MRTN) rates on coarse versus loam soil types. Number of producers on project: 1  Powell-Smith Grass-Based Study | $149,934 Examine use of commercial fertilizer supplementation for prime grass-legume crop with dairy manure. Number of producers on project: 3  Red Cedar Conservation Farmers | $148,364 Determine NUE: Trial 1 - effect of cover crop termination on NUE; Trial 2 - effect of manure and tillage on NUE. Number of producers on project: 4  Trent Towne | $47,947 Evaluate the benefits of winter grazing on corn yields while optimizing nitrogen application. Number of producers on project: 1  Ben Turzinski | $48,935 Conduct field-scale corn nitrogen rate study in irrigated loamy sands in Portage County. Number of producers on project: 1  Dean Weichmann | $48,686 Optimize commercial nitrogen applications in corn after short-season cover crops. Number of producers on project: 1  Western Wisconsin Conservation Council | $100,000 Conduct a four-year nitrogen rate study under irrigation in western Wisconsin. Number of producers on project: 2  Additional information on the Commercial Nitrogen Optimization Pilot Grant Program is available on DATCP’s website here. '"
      ]
     },
     "execution_count": 65,
     "metadata": {},
     "output_type": "execute_result"
    }
   ],
   "source": [
    "# success\n",
    "combined.content[249]"
   ]
  },
  {
   "cell_type": "code",
   "execution_count": 61,
   "id": "091ed978",
   "metadata": {},
   "outputs": [
    {
     "data": {
      "text/plain": [
       "'success: content added from https://content.govdelivery.com/accounts/WIGOV/bulletins/34a8199'"
      ]
     },
     "execution_count": 61,
     "metadata": {},
     "output_type": "execute_result"
    }
   ],
   "source": [
    "# retry\n",
    "scrape_wisconsin_content(combined, combined.link[305])"
   ]
  },
  {
   "cell_type": "code",
   "execution_count": 62,
   "id": "55e1aa9b",
   "metadata": {},
   "outputs": [
    {
     "data": {
      "text/plain": [
       "'MADISON — Gov. Tony Evers today ordered the flags of the United States and the state of Wisconsin to be flown at half-staff on Sun., Feb. 26, 2023, in honor of Fire Chief Todd J. Yandre of the Lake Mills Fire Department, who passed away in the line of duty on Feb. 15, 2023.    “Chief Yandre was by all accounts a caring and loyal friend, mentor, coach, husband, father, and grandfather who was dedicated to serving his community. Chief Yandre served the Lake Mills Fire Department for more than four decades, first as a volunteer firefighter and eventually becoming chief of the department,” said Gov. Evers. “Kathy and I share our deepest condolences with the Yandre family, his wife, Monica, his children, Jordan and Catherine, his grandchildren, and all of his friends and family at the Lake Mills Fire Department. He will not be forgotten.”  Chief Yandre graduated from Lake Mills High School and later earned his degree in emergency management with an emphasis in fire safety from Lakeshore Technical College. He joined the Lake Mills Fire Department in 1981, becoming a full-time firefighter in 1995 and chief of the department in 2019.   Services for Chief Yandre will be held on Sun., Feb. 26, 2023, in Lake Mills.  Executive Order #188 is available here and will be in effect from sunrise to sunset on Sun., Feb. 26, 2023. This order is in effect concurrently with Executive Order #187 and flags should remain at half-staff through Fri., March 3, 2023, in accordance with Executive Order #187, available here. '"
      ]
     },
     "execution_count": 62,
     "metadata": {},
     "output_type": "execute_result"
    }
   ],
   "source": [
    "# success \n",
    "combined.content[305]"
   ]
  },
  {
   "cell_type": "code",
   "execution_count": 70,
   "id": "c113d99a",
   "metadata": {},
   "outputs": [
    {
     "data": {
      "text/plain": [
       "'success: content added from https://content.govdelivery.com/accounts/WIGOV/bulletins/3517f17'"
      ]
     },
     "execution_count": 70,
     "metadata": {},
     "output_type": "execute_result"
    }
   ],
   "source": [
    "# retry\n",
    "scrape_wisconsin_content(combined, combined.link[276])"
   ]
  },
  {
   "cell_type": "code",
   "execution_count": 71,
   "id": "29b736cc",
   "metadata": {},
   "outputs": [
    {
     "data": {
      "text/plain": [
       "'MADISON — Gov. Tony Evers today joined a broad-based group of climate, energy, environmental justice, and conservation organizations, businesses, and allies in Milwaukee to celebrate the official launch of the new Clean Economy Coalition of Wisconsin (CECW).  “Today, we have an historic opportunity to define Wisconsin as a clean economy state—to build a workforce, economy, and state that’s prepared for the 21st century, reduce reliance on out-of-state energy sources and lower energy bills for working families, and create new jobs and apprenticeships in innovative industries,” said Gov. Evers. “Now is the time for us to double our efforts to build the future we want for our state, and I’m so excited for the role the Clean Economy Coalition of Wisconsin is going to play in our efforts to do just that.”  The CECW seeks to leverage the combined strength of its members to enhance the quality of life of all Wisconsinites by accelerating the state’s transition to a clean energy economy. Founding members of the Coalition include Action for the Climate Emergency, Audubon Great Lakes, Clean Wisconsin, Elevate, The Nature Conservancy, RENEW Wisconsin, Sierra Club Wisconsin Chapter, Slipstream, Wisconsin Conservation Voters, Walnut Way Conservation Corp., Wisconsin Health Professionals for Climate Action, and Wisconsin Land and Water Conservation Association.  “As a Coalition, our priority is to achieve statewide decarbonization by 2050 through people-first policies that create jobs for Wisconsin workers, build healthier communities and protect our natural resources,” said Sam Dunaiski, Executive Director of RENEW Wisconsin. “We know that together, we can advance clean energy solutions that accelerate economic development, while increasing Wisconsin’s energy independence.”  Though the CECW formally launched today, members have been working together for years to advance Wisconsin’s clean energy policy.  “We’re here to meet an historic moment,” said Jennifer Giegerich, Government Affairs Director for Wisconsin Conservation Voters. “Wisconsin has a proud tradition of environmental stewardship. From the original Indigenous stewards to the birthplace of Earth Day, Wisconsin’s legacy is rooted in conservation and stewardship. And the current combination of local action, state leadership, and federal opportunity is allowing us to embark on a new era for Wisconsin’s people, environment, and economy.”  The Coalition’s 2023 policy agenda is built upon six core pillars—the tenets of a clean economy.  Healthy economy A robust economy is necessary to move our state forward. The CECW supports efforts and policies that ensure households’ health, jobs, and choices for tomorrow are better than they are today.   Environmental justice and infrastructure The CECW puts racial and economic justice at the center of its work because there are can’t-wait communities already experiencing the impacts of climate change. The CECW aims to be the bridge between the lived experiences of climate and energy consequences and the arenas where policy decisions are made.   Carbon-free power The CECW shapes and advocates for policies that support a 100 percent carbon-free state by 2050. The CECW supports energy freedom through increased access to clean power, allowing new sources of clean and renewable power generation to be a part of the state’s clean economy future.   Home and building repair The CECW advocates and acts for policies to achieve 100 percent zero carbon new residential and commercial buildings by 2030 and to facilitate the reduction of building sector energy use by 50 percent by 2030. The CECW will work to phase out the use of natural gas in existing homes and businesses to prioritize retrofitting and weatherization and to reduce the energy burden on households who can least afford it.   Thriving landscapes Wisconsin’s economy relies on thriving landscapes that support productive agriculture, resilient cities, and valued natural areas. The CECW will advocate for natural climate solutions that protect land and water while providing economic growth to both rural and urban communities.   Next-gen transportation The CECW works with partners across all sectors to ease the road for the transition to electric and low-carbon transportation, advocating and acting to make the transition to electric vehicles cost-effective, easy, and equitable, with a goal of over 50 percent of new car sales being electric by 2030.   “We believe we have a once-in-a-generation opportunity to accelerate our state’s transition to a clean economy,” said Matt Kruger, Executive Director of the Wisconsin Land and Water Conservation Association. “There’s so much about the identity of our state that’s tied to our rural heritage and agriculture, which has been in flux over the last few decades. We are advocating for natural climate solutions for both rural and urban communities to help spur our state’s economy.”  Gov. Evers has been a leader in combatting the climate crisis and is committed to building a clean energy economy in Wisconsin. From joining the U.S. Climate Alliance, a bipartisan coalition of governors committed to reducing greenhouse gas emissions consistent with the goals of the Paris Agreement, to creating the Governor’s Task Force on Climate Change to releasing the state’s first-ever Clean Energy Plan, which many of the partners behind the CECW played a role in building, Wisconsin continues to advance towards a clean energy economy under Gov. Evers’ leadership. The governor’s 2023-25 biennial budget proposal builds on this work and includes several provisions recommended by the state’s Office of Sustainability and Clean Energy and the Clean Energy Plan. Implementing the state’s Clean Energy Plan is expected to lower energy bills for families, reduce reliance on out-of-state energy sources, invest in job and apprenticeship training, and create more than 40,000 jobs by 2030. In addition, this plan also supports the governor’s ambitious commitment to making Wisconsin’s electricity production 100 percent carbon-free by 2050.    Gov. Evers’ 2023-25 budget proposal includes many key investments in building a clean energy economy, promoting clean energy production and energy efficiency, and supporting and creating jobs in the clean energy sector. The governor’s budget invests in building the state’s clean energy workforce, increases funding for the state’s Focus on Energy program, and supports small businesses in the clean energy sector and local communities in resiliency planning efforts. Additionally, the governor is proposing key initiatives to build out Wisconsin’s electric vehicle charging station network to accelerate the deployment and adoption of electric vehicles in Wisconsin, lowering emissions and improving air quality for all Wisconsinites.  More information regarding the governor’s proposals to protect and conserve Wisconsin’s natural resources and promote a clean energy economy and workforce is available here.     More information about the Clean Economy Coalition of Wisconsin, its members, and its policy goals is available here.'"
      ]
     },
     "execution_count": 71,
     "metadata": {},
     "output_type": "execute_result"
    }
   ],
   "source": [
    "# success\n",
    "combined.content[276]"
   ]
  },
  {
   "cell_type": "code",
   "execution_count": 72,
   "id": "fd7a5e32",
   "metadata": {},
   "outputs": [],
   "source": [
    "# double check string length \n",
    "\n",
    "filtered_rows = []\n",
    "\n",
    "for index, row in combined.iterrows():\n",
    "    if pd.isna(row['content']):\n",
    "        pass  \n",
    "    elif len(row['content']) < 200:\n",
    "        filtered_rows.append(row)\n",
    "    else:\n",
    "        pass\n",
    "    \n",
    "redo = pd.DataFrame(filtered_rows)"
   ]
  },
  {
   "cell_type": "code",
   "execution_count": 73,
   "id": "3441466d",
   "metadata": {},
   "outputs": [
    {
     "data": {
      "text/html": [
       "<div>\n",
       "<style scoped>\n",
       "    .dataframe tbody tr th:only-of-type {\n",
       "        vertical-align: middle;\n",
       "    }\n",
       "\n",
       "    .dataframe tbody tr th {\n",
       "        vertical-align: top;\n",
       "    }\n",
       "\n",
       "    .dataframe thead th {\n",
       "        text-align: right;\n",
       "    }\n",
       "</style>\n",
       "<table border=\"1\" class=\"dataframe\">\n",
       "  <thead>\n",
       "    <tr style=\"text-align: right;\">\n",
       "      <th></th>\n",
       "    </tr>\n",
       "  </thead>\n",
       "  <tbody>\n",
       "  </tbody>\n",
       "</table>\n",
       "</div>"
      ],
      "text/plain": [
       "Empty DataFrame\n",
       "Columns: []\n",
       "Index: []"
      ]
     },
     "execution_count": 73,
     "metadata": {},
     "output_type": "execute_result"
    }
   ],
   "source": [
    "# empty so success\n",
    "redo"
   ]
  },
  {
   "cell_type": "code",
   "execution_count": 74,
   "id": "746471a6",
   "metadata": {},
   "outputs": [],
   "source": [
    "# clean date column \n",
    "combined['date_clean'] = pd.to_datetime(combined['date'])\n",
    "\n",
    "combined_2023 = combined.drop(columns=['date']).copy()"
   ]
  },
  {
   "cell_type": "code",
   "execution_count": 76,
   "id": "a7c29c5c",
   "metadata": {},
   "outputs": [
    {
     "name": "stdout",
     "output_type": "stream",
     "text": [
      "<class 'pandas.core.frame.DataFrame'>\n",
      "RangeIndex: 364 entries, 0 to 363\n",
      "Data columns (total 4 columns):\n",
      " #   Column      Non-Null Count  Dtype         \n",
      "---  ------      --------------  -----         \n",
      " 0   title       364 non-null    object        \n",
      " 1   link        364 non-null    object        \n",
      " 2   content     364 non-null    object        \n",
      " 3   date_clean  364 non-null    datetime64[ns]\n",
      "dtypes: datetime64[ns](1), object(3)\n",
      "memory usage: 11.5+ KB\n"
     ]
    },
    {
     "data": {
      "text/html": [
       "<div>\n",
       "<style scoped>\n",
       "    .dataframe tbody tr th:only-of-type {\n",
       "        vertical-align: middle;\n",
       "    }\n",
       "\n",
       "    .dataframe tbody tr th {\n",
       "        vertical-align: top;\n",
       "    }\n",
       "\n",
       "    .dataframe thead th {\n",
       "        text-align: right;\n",
       "    }\n",
       "</style>\n",
       "<table border=\"1\" class=\"dataframe\">\n",
       "  <thead>\n",
       "    <tr style=\"text-align: right;\">\n",
       "      <th></th>\n",
       "      <th>title</th>\n",
       "      <th>link</th>\n",
       "      <th>content</th>\n",
       "      <th>date_clean</th>\n",
       "    </tr>\n",
       "  </thead>\n",
       "  <tbody>\n",
       "    <tr>\n",
       "      <th>0</th>\n",
       "      <td>Gov. Evers Orders Flags to Half-Staff in Honor...</td>\n",
       "      <td>https://content.govdelivery.com/accounts/WIGOV...</td>\n",
       "      <td>MADISON — Gov. Tony Evers today ordered the fl...</td>\n",
       "      <td>2023-12-28</td>\n",
       "    </tr>\n",
       "    <tr>\n",
       "      <th>1</th>\n",
       "      <td>2023 Roundup: Gov. Evers Completes Annual 72-C...</td>\n",
       "      <td>https://content.govdelivery.com/accounts/WIGOV...</td>\n",
       "      <td>MADISON — Gov. Tony Evers today announced that...</td>\n",
       "      <td>2023-12-28</td>\n",
       "    </tr>\n",
       "    <tr>\n",
       "      <th>2</th>\n",
       "      <td>Gov. Evers Seeks Applicants for Langlade Count...</td>\n",
       "      <td>https://content.govdelivery.com/accounts/WIGOV...</td>\n",
       "      <td>MADISON — Gov. Tony Evers announced today that...</td>\n",
       "      <td>2023-12-27</td>\n",
       "    </tr>\n",
       "    <tr>\n",
       "      <th>3</th>\n",
       "      <td>Gov. Evers Releases Statement Regarding Passin...</td>\n",
       "      <td>https://content.govdelivery.com/accounts/WIGOV...</td>\n",
       "      <td>MADISON — Gov. Tony Evers today released a sta...</td>\n",
       "      <td>2023-12-27</td>\n",
       "    </tr>\n",
       "    <tr>\n",
       "      <th>4</th>\n",
       "      <td>Gov. Evers, First Lady Celebrate Kwanzaa in Wi...</td>\n",
       "      <td>https://content.govdelivery.com/accounts/WIGOV...</td>\n",
       "      <td>MADISON — Gov. Tony Evers and First Lady Kathy...</td>\n",
       "      <td>2023-12-26</td>\n",
       "    </tr>\n",
       "  </tbody>\n",
       "</table>\n",
       "</div>"
      ],
      "text/plain": [
       "                                               title  \\\n",
       "0  Gov. Evers Orders Flags to Half-Staff in Honor...   \n",
       "1  2023 Roundup: Gov. Evers Completes Annual 72-C...   \n",
       "2  Gov. Evers Seeks Applicants for Langlade Count...   \n",
       "3  Gov. Evers Releases Statement Regarding Passin...   \n",
       "4  Gov. Evers, First Lady Celebrate Kwanzaa in Wi...   \n",
       "\n",
       "                                                link  \\\n",
       "0  https://content.govdelivery.com/accounts/WIGOV...   \n",
       "1  https://content.govdelivery.com/accounts/WIGOV...   \n",
       "2  https://content.govdelivery.com/accounts/WIGOV...   \n",
       "3  https://content.govdelivery.com/accounts/WIGOV...   \n",
       "4  https://content.govdelivery.com/accounts/WIGOV...   \n",
       "\n",
       "                                             content date_clean  \n",
       "0  MADISON — Gov. Tony Evers today ordered the fl... 2023-12-28  \n",
       "1  MADISON — Gov. Tony Evers today announced that... 2023-12-28  \n",
       "2  MADISON — Gov. Tony Evers announced today that... 2023-12-27  \n",
       "3  MADISON — Gov. Tony Evers today released a sta... 2023-12-27  \n",
       "4  MADISON — Gov. Tony Evers and First Lady Kathy... 2023-12-26  "
      ]
     },
     "execution_count": 76,
     "metadata": {},
     "output_type": "execute_result"
    }
   ],
   "source": [
    "combined_2023.info()\n",
    "combined_2023.head()"
   ]
  },
  {
   "cell_type": "markdown",
   "id": "8856e78d",
   "metadata": {},
   "source": [
    "## Export"
   ]
  },
  {
   "cell_type": "code",
   "execution_count": 77,
   "id": "e894624d",
   "metadata": {},
   "outputs": [
    {
     "name": "stdout",
     "output_type": "stream",
     "text": [
      "pulled 364 documents from wisconsin for 2023\n"
     ]
    }
   ],
   "source": [
    "print(f\"pulled {str(len(combined_2023))} documents from {state} for 2023\")"
   ]
  },
  {
   "cell_type": "code",
   "execution_count": 78,
   "id": "d675fc44",
   "metadata": {},
   "outputs": [],
   "source": [
    "# export\n",
    "combined_2023.to_csv(f'{state}_2023.csv', index = False)"
   ]
  },
  {
   "cell_type": "code",
   "execution_count": 79,
   "id": "621c6b9b",
   "metadata": {},
   "outputs": [
    {
     "data": {
      "text/html": [
       "<div>\n",
       "<style scoped>\n",
       "    .dataframe tbody tr th:only-of-type {\n",
       "        vertical-align: middle;\n",
       "    }\n",
       "\n",
       "    .dataframe tbody tr th {\n",
       "        vertical-align: top;\n",
       "    }\n",
       "\n",
       "    .dataframe thead th {\n",
       "        text-align: right;\n",
       "    }\n",
       "</style>\n",
       "<table border=\"1\" class=\"dataframe\">\n",
       "  <thead>\n",
       "    <tr style=\"text-align: right;\">\n",
       "      <th></th>\n",
       "      <th>title</th>\n",
       "      <th>link</th>\n",
       "      <th>content</th>\n",
       "      <th>date_clean</th>\n",
       "    </tr>\n",
       "  </thead>\n",
       "  <tbody>\n",
       "    <tr>\n",
       "      <th>0</th>\n",
       "      <td>Gov. Evers Orders Flags to Half-Staff in Honor...</td>\n",
       "      <td>https://content.govdelivery.com/accounts/WIGOV...</td>\n",
       "      <td>MADISON — Gov. Tony Evers today ordered the fl...</td>\n",
       "      <td>2023-12-28</td>\n",
       "    </tr>\n",
       "    <tr>\n",
       "      <th>1</th>\n",
       "      <td>2023 Roundup: Gov. Evers Completes Annual 72-C...</td>\n",
       "      <td>https://content.govdelivery.com/accounts/WIGOV...</td>\n",
       "      <td>MADISON — Gov. Tony Evers today announced that...</td>\n",
       "      <td>2023-12-28</td>\n",
       "    </tr>\n",
       "    <tr>\n",
       "      <th>2</th>\n",
       "      <td>Gov. Evers Seeks Applicants for Langlade Count...</td>\n",
       "      <td>https://content.govdelivery.com/accounts/WIGOV...</td>\n",
       "      <td>MADISON — Gov. Tony Evers announced today that...</td>\n",
       "      <td>2023-12-27</td>\n",
       "    </tr>\n",
       "    <tr>\n",
       "      <th>3</th>\n",
       "      <td>Gov. Evers Releases Statement Regarding Passin...</td>\n",
       "      <td>https://content.govdelivery.com/accounts/WIGOV...</td>\n",
       "      <td>MADISON — Gov. Tony Evers today released a sta...</td>\n",
       "      <td>2023-12-27</td>\n",
       "    </tr>\n",
       "    <tr>\n",
       "      <th>4</th>\n",
       "      <td>Gov. Evers, First Lady Celebrate Kwanzaa in Wi...</td>\n",
       "      <td>https://content.govdelivery.com/accounts/WIGOV...</td>\n",
       "      <td>MADISON — Gov. Tony Evers and First Lady Kathy...</td>\n",
       "      <td>2023-12-26</td>\n",
       "    </tr>\n",
       "  </tbody>\n",
       "</table>\n",
       "</div>"
      ],
      "text/plain": [
       "                                               title  \\\n",
       "0  Gov. Evers Orders Flags to Half-Staff in Honor...   \n",
       "1  2023 Roundup: Gov. Evers Completes Annual 72-C...   \n",
       "2  Gov. Evers Seeks Applicants for Langlade Count...   \n",
       "3  Gov. Evers Releases Statement Regarding Passin...   \n",
       "4  Gov. Evers, First Lady Celebrate Kwanzaa in Wi...   \n",
       "\n",
       "                                                link  \\\n",
       "0  https://content.govdelivery.com/accounts/WIGOV...   \n",
       "1  https://content.govdelivery.com/accounts/WIGOV...   \n",
       "2  https://content.govdelivery.com/accounts/WIGOV...   \n",
       "3  https://content.govdelivery.com/accounts/WIGOV...   \n",
       "4  https://content.govdelivery.com/accounts/WIGOV...   \n",
       "\n",
       "                                             content  date_clean  \n",
       "0  MADISON — Gov. Tony Evers today ordered the fl...  2023-12-28  \n",
       "1  MADISON — Gov. Tony Evers today announced that...  2023-12-28  \n",
       "2  MADISON — Gov. Tony Evers announced today that...  2023-12-27  \n",
       "3  MADISON — Gov. Tony Evers today released a sta...  2023-12-27  \n",
       "4  MADISON — Gov. Tony Evers and First Lady Kathy...  2023-12-26  "
      ]
     },
     "execution_count": 79,
     "metadata": {},
     "output_type": "execute_result"
    }
   ],
   "source": [
    "test = pd.read_csv(f'{state}_2023.csv')\n",
    "test.head()"
   ]
  }
 ],
 "metadata": {
  "kernelspec": {
   "display_name": "Python 3 (ipykernel)",
   "language": "python",
   "name": "python3"
  },
  "language_info": {
   "codemirror_mode": {
    "name": "ipython",
    "version": 3
   },
   "file_extension": ".py",
   "mimetype": "text/x-python",
   "name": "python",
   "nbconvert_exporter": "python",
   "pygments_lexer": "ipython3",
   "version": "3.9.12"
  }
 },
 "nbformat": 4,
 "nbformat_minor": 5
}
