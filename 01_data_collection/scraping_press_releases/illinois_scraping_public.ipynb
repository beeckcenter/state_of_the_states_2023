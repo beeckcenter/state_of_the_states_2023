{
 "cells": [
  {
   "cell_type": "markdown",
   "id": "f00d02a5",
   "metadata": {},
   "source": [
    "# Illinois Scraping "
   ]
  },
  {
   "cell_type": "code",
   "execution_count": 1,
   "id": "2d2ca3c3",
   "metadata": {},
   "outputs": [
    {
     "name": "stdout",
     "output_type": "stream",
     "text": [
      "Exception reporting mode: Minimal\n"
     ]
    }
   ],
   "source": [
    "# set up \n",
    "import pandas as pd \n",
    "import requests \n",
    "import bs4\n",
    "import numpy as np\n",
    "import time \n",
    "import re\n",
    "from tika import parser\n",
    "from selenium import webdriver\n",
    "from selenium.webdriver.common.by import By\n",
    "from selenium.webdriver.support.ui import WebDriverWait\n",
    "from selenium.webdriver.support import expected_conditions as EC\n",
    "from selenium.webdriver.support.select import Select\n",
    "from io import BytesIO\n",
    "from urllib.request import urlopen\n",
    "\n",
    "from IPython.core.interactiveshell import InteractiveShell \n",
    "InteractiveShell.ast_node_interactivity = \"all\"\n",
    "\n",
    "%xmode Minimal"
   ]
  },
  {
   "cell_type": "code",
   "execution_count": 1,
   "id": "4b8c25f3",
   "metadata": {},
   "outputs": [],
   "source": [
    "# # set headers\n",
    "# header_list = {'User-Agent': REDACTED,\n",
    "#               'Accept-Language': 'en-US,en;q=0.9'}"
   ]
  },
  {
   "cell_type": "code",
   "execution_count": 3,
   "id": "0b85368d",
   "metadata": {},
   "outputs": [],
   "source": [
    "# state - UPDATE EACH TIME\n",
    "state = 'illinois'"
   ]
  },
  {
   "cell_type": "code",
   "execution_count": null,
   "id": "150c1170",
   "metadata": {},
   "outputs": [],
   "source": [
    "# review of robots.txt - no restrictions"
   ]
  },
  {
   "cell_type": "code",
   "execution_count": null,
   "id": "92379a17",
   "metadata": {},
   "outputs": [],
   "source": [
    "# test = pd.read_csv(f'{state}_2023.csv')\n",
    "# test.head()"
   ]
  },
  {
   "cell_type": "markdown",
   "id": "a41b45ff",
   "metadata": {},
   "source": [
    "## Scrape Links \n",
    "`Selenium`"
   ]
  },
  {
   "cell_type": "markdown",
   "id": "91470170",
   "metadata": {
    "heading_collapsed": true
   },
   "source": [
    "### Test on one link"
   ]
  },
  {
   "cell_type": "markdown",
   "id": "c56cd8f6",
   "metadata": {
    "hidden": true
   },
   "source": [
    " `Beautiful Soup` **Test**"
   ]
  },
  {
   "cell_type": "code",
   "execution_count": 4,
   "id": "54353e0d",
   "metadata": {
    "hidden": true
   },
   "outputs": [
    {
     "data": {
      "text/plain": [
       "<Response [200]>"
      ]
     },
     "execution_count": 4,
     "metadata": {},
     "output_type": "execute_result"
    }
   ],
   "source": [
    "# access webpage\n",
    "link = 'https://gov.illinois.gov/newsroom/all-news.html'\n",
    "server_response = requests.get(link, header_list)\n",
    "server_response"
   ]
  },
  {
   "cell_type": "code",
   "execution_count": 7,
   "id": "e7afa6bb",
   "metadata": {
    "hidden": true
   },
   "outputs": [
    {
     "data": {
      "text/plain": [
       "[]"
      ]
     },
     "execution_count": 7,
     "metadata": {},
     "output_type": "execute_result"
    }
   ],
   "source": [
    "# parse and isolate content - DIDN'T WORK \n",
    "soup = bs4.BeautifulSoup(server_response.content, features=\"html.parser\")\n",
    "results = soup.find_all('div', class_ = 'cmp-news-feed__text')\n",
    "results\n",
    "\n",
    "# title = [i.find('a').text for i in results]\n",
    "# link = [i.find('a')['href'] for i in results]\n",
    "# date = [i.find('span', class_ ='cmp-news-feed__type').text for i in results]"
   ]
  },
  {
   "cell_type": "markdown",
   "id": "5621e676",
   "metadata": {
    "heading_collapsed": true
   },
   "source": [
    "### Scrape all links"
   ]
  },
  {
   "cell_type": "code",
   "execution_count": 20,
   "id": "48a52d01",
   "metadata": {
    "hidden": true
   },
   "outputs": [
    {
     "data": {
      "text/plain": [
       "[<selenium.webdriver.remote.webelement.WebElement (session=\"2cafe71a55db32e9af9289a069ba1d80\", element=\"1C30C952D0C1AD88572C78E3281B4453_element_21\")>,\n",
       " <selenium.webdriver.remote.webelement.WebElement (session=\"2cafe71a55db32e9af9289a069ba1d80\", element=\"1C30C952D0C1AD88572C78E3281B4453_element_22\")>,\n",
       " <selenium.webdriver.remote.webelement.WebElement (session=\"2cafe71a55db32e9af9289a069ba1d80\", element=\"1C30C952D0C1AD88572C78E3281B4453_element_23\")>,\n",
       " <selenium.webdriver.remote.webelement.WebElement (session=\"2cafe71a55db32e9af9289a069ba1d80\", element=\"1C30C952D0C1AD88572C78E3281B4453_element_24\")>,\n",
       " <selenium.webdriver.remote.webelement.WebElement (session=\"2cafe71a55db32e9af9289a069ba1d80\", element=\"1C30C952D0C1AD88572C78E3281B4453_element_25\")>,\n",
       " <selenium.webdriver.remote.webelement.WebElement (session=\"2cafe71a55db32e9af9289a069ba1d80\", element=\"1C30C952D0C1AD88572C78E3281B4453_element_26\")>,\n",
       " <selenium.webdriver.remote.webelement.WebElement (session=\"2cafe71a55db32e9af9289a069ba1d80\", element=\"1C30C952D0C1AD88572C78E3281B4453_element_27\")>,\n",
       " <selenium.webdriver.remote.webelement.WebElement (session=\"2cafe71a55db32e9af9289a069ba1d80\", element=\"1C30C952D0C1AD88572C78E3281B4453_element_28\")>,\n",
       " <selenium.webdriver.remote.webelement.WebElement (session=\"2cafe71a55db32e9af9289a069ba1d80\", element=\"1C30C952D0C1AD88572C78E3281B4453_element_29\")>,\n",
       " <selenium.webdriver.remote.webelement.WebElement (session=\"2cafe71a55db32e9af9289a069ba1d80\", element=\"1C30C952D0C1AD88572C78E3281B4453_element_30\")>,\n",
       " <selenium.webdriver.remote.webelement.WebElement (session=\"2cafe71a55db32e9af9289a069ba1d80\", element=\"1C30C952D0C1AD88572C78E3281B4453_element_31\")>,\n",
       " <selenium.webdriver.remote.webelement.WebElement (session=\"2cafe71a55db32e9af9289a069ba1d80\", element=\"1C30C952D0C1AD88572C78E3281B4453_element_32\")>,\n",
       " <selenium.webdriver.remote.webelement.WebElement (session=\"2cafe71a55db32e9af9289a069ba1d80\", element=\"1C30C952D0C1AD88572C78E3281B4453_element_33\")>,\n",
       " <selenium.webdriver.remote.webelement.WebElement (session=\"2cafe71a55db32e9af9289a069ba1d80\", element=\"1C30C952D0C1AD88572C78E3281B4453_element_34\")>,\n",
       " <selenium.webdriver.remote.webelement.WebElement (session=\"2cafe71a55db32e9af9289a069ba1d80\", element=\"1C30C952D0C1AD88572C78E3281B4453_element_35\")>,\n",
       " <selenium.webdriver.remote.webelement.WebElement (session=\"2cafe71a55db32e9af9289a069ba1d80\", element=\"1C30C952D0C1AD88572C78E3281B4453_element_36\")>,\n",
       " <selenium.webdriver.remote.webelement.WebElement (session=\"2cafe71a55db32e9af9289a069ba1d80\", element=\"1C30C952D0C1AD88572C78E3281B4453_element_37\")>,\n",
       " <selenium.webdriver.remote.webelement.WebElement (session=\"2cafe71a55db32e9af9289a069ba1d80\", element=\"1C30C952D0C1AD88572C78E3281B4453_element_38\")>,\n",
       " <selenium.webdriver.remote.webelement.WebElement (session=\"2cafe71a55db32e9af9289a069ba1d80\", element=\"1C30C952D0C1AD88572C78E3281B4453_element_39\")>,\n",
       " <selenium.webdriver.remote.webelement.WebElement (session=\"2cafe71a55db32e9af9289a069ba1d80\", element=\"1C30C952D0C1AD88572C78E3281B4453_element_40\")>,\n",
       " <selenium.webdriver.remote.webelement.WebElement (session=\"2cafe71a55db32e9af9289a069ba1d80\", element=\"1C30C952D0C1AD88572C78E3281B4453_element_41\")>,\n",
       " <selenium.webdriver.remote.webelement.WebElement (session=\"2cafe71a55db32e9af9289a069ba1d80\", element=\"1C30C952D0C1AD88572C78E3281B4453_element_42\")>,\n",
       " <selenium.webdriver.remote.webelement.WebElement (session=\"2cafe71a55db32e9af9289a069ba1d80\", element=\"1C30C952D0C1AD88572C78E3281B4453_element_43\")>,\n",
       " <selenium.webdriver.remote.webelement.WebElement (session=\"2cafe71a55db32e9af9289a069ba1d80\", element=\"1C30C952D0C1AD88572C78E3281B4453_element_44\")>,\n",
       " <selenium.webdriver.remote.webelement.WebElement (session=\"2cafe71a55db32e9af9289a069ba1d80\", element=\"1C30C952D0C1AD88572C78E3281B4453_element_45\")>,\n",
       " <selenium.webdriver.remote.webelement.WebElement (session=\"2cafe71a55db32e9af9289a069ba1d80\", element=\"1C30C952D0C1AD88572C78E3281B4453_element_46\")>,\n",
       " <selenium.webdriver.remote.webelement.WebElement (session=\"2cafe71a55db32e9af9289a069ba1d80\", element=\"1C30C952D0C1AD88572C78E3281B4453_element_47\")>,\n",
       " <selenium.webdriver.remote.webelement.WebElement (session=\"2cafe71a55db32e9af9289a069ba1d80\", element=\"1C30C952D0C1AD88572C78E3281B4453_element_48\")>,\n",
       " <selenium.webdriver.remote.webelement.WebElement (session=\"2cafe71a55db32e9af9289a069ba1d80\", element=\"1C30C952D0C1AD88572C78E3281B4453_element_49\")>,\n",
       " <selenium.webdriver.remote.webelement.WebElement (session=\"2cafe71a55db32e9af9289a069ba1d80\", element=\"1C30C952D0C1AD88572C78E3281B4453_element_50\")>,\n",
       " <selenium.webdriver.remote.webelement.WebElement (session=\"2cafe71a55db32e9af9289a069ba1d80\", element=\"1C30C952D0C1AD88572C78E3281B4453_element_51\")>,\n",
       " <selenium.webdriver.remote.webelement.WebElement (session=\"2cafe71a55db32e9af9289a069ba1d80\", element=\"1C30C952D0C1AD88572C78E3281B4453_element_52\")>,\n",
       " <selenium.webdriver.remote.webelement.WebElement (session=\"2cafe71a55db32e9af9289a069ba1d80\", element=\"1C30C952D0C1AD88572C78E3281B4453_element_53\")>,\n",
       " <selenium.webdriver.remote.webelement.WebElement (session=\"2cafe71a55db32e9af9289a069ba1d80\", element=\"1C30C952D0C1AD88572C78E3281B4453_element_54\")>,\n",
       " <selenium.webdriver.remote.webelement.WebElement (session=\"2cafe71a55db32e9af9289a069ba1d80\", element=\"1C30C952D0C1AD88572C78E3281B4453_element_55\")>,\n",
       " <selenium.webdriver.remote.webelement.WebElement (session=\"2cafe71a55db32e9af9289a069ba1d80\", element=\"1C30C952D0C1AD88572C78E3281B4453_element_56\")>,\n",
       " <selenium.webdriver.remote.webelement.WebElement (session=\"2cafe71a55db32e9af9289a069ba1d80\", element=\"1C30C952D0C1AD88572C78E3281B4453_element_57\")>,\n",
       " <selenium.webdriver.remote.webelement.WebElement (session=\"2cafe71a55db32e9af9289a069ba1d80\", element=\"1C30C952D0C1AD88572C78E3281B4453_element_58\")>,\n",
       " <selenium.webdriver.remote.webelement.WebElement (session=\"2cafe71a55db32e9af9289a069ba1d80\", element=\"1C30C952D0C1AD88572C78E3281B4453_element_59\")>,\n",
       " <selenium.webdriver.remote.webelement.WebElement (session=\"2cafe71a55db32e9af9289a069ba1d80\", element=\"1C30C952D0C1AD88572C78E3281B4453_element_60\")>,\n",
       " <selenium.webdriver.remote.webelement.WebElement (session=\"2cafe71a55db32e9af9289a069ba1d80\", element=\"1C30C952D0C1AD88572C78E3281B4453_element_61\")>,\n",
       " <selenium.webdriver.remote.webelement.WebElement (session=\"2cafe71a55db32e9af9289a069ba1d80\", element=\"1C30C952D0C1AD88572C78E3281B4453_element_62\")>,\n",
       " <selenium.webdriver.remote.webelement.WebElement (session=\"2cafe71a55db32e9af9289a069ba1d80\", element=\"1C30C952D0C1AD88572C78E3281B4453_element_63\")>,\n",
       " <selenium.webdriver.remote.webelement.WebElement (session=\"2cafe71a55db32e9af9289a069ba1d80\", element=\"1C30C952D0C1AD88572C78E3281B4453_element_64\")>,\n",
       " <selenium.webdriver.remote.webelement.WebElement (session=\"2cafe71a55db32e9af9289a069ba1d80\", element=\"1C30C952D0C1AD88572C78E3281B4453_element_65\")>,\n",
       " <selenium.webdriver.remote.webelement.WebElement (session=\"2cafe71a55db32e9af9289a069ba1d80\", element=\"1C30C952D0C1AD88572C78E3281B4453_element_66\")>,\n",
       " <selenium.webdriver.remote.webelement.WebElement (session=\"2cafe71a55db32e9af9289a069ba1d80\", element=\"1C30C952D0C1AD88572C78E3281B4453_element_67\")>,\n",
       " <selenium.webdriver.remote.webelement.WebElement (session=\"2cafe71a55db32e9af9289a069ba1d80\", element=\"1C30C952D0C1AD88572C78E3281B4453_element_68\")>,\n",
       " <selenium.webdriver.remote.webelement.WebElement (session=\"2cafe71a55db32e9af9289a069ba1d80\", element=\"1C30C952D0C1AD88572C78E3281B4453_element_69\")>,\n",
       " <selenium.webdriver.remote.webelement.WebElement (session=\"2cafe71a55db32e9af9289a069ba1d80\", element=\"1C30C952D0C1AD88572C78E3281B4453_element_70\")>,\n",
       " <selenium.webdriver.remote.webelement.WebElement (session=\"2cafe71a55db32e9af9289a069ba1d80\", element=\"1C30C952D0C1AD88572C78E3281B4453_element_71\")>,\n",
       " <selenium.webdriver.remote.webelement.WebElement (session=\"2cafe71a55db32e9af9289a069ba1d80\", element=\"1C30C952D0C1AD88572C78E3281B4453_element_72\")>,\n",
       " <selenium.webdriver.remote.webelement.WebElement (session=\"2cafe71a55db32e9af9289a069ba1d80\", element=\"1C30C952D0C1AD88572C78E3281B4453_element_73\")>,\n",
       " <selenium.webdriver.remote.webelement.WebElement (session=\"2cafe71a55db32e9af9289a069ba1d80\", element=\"1C30C952D0C1AD88572C78E3281B4453_element_74\")>,\n",
       " <selenium.webdriver.remote.webelement.WebElement (session=\"2cafe71a55db32e9af9289a069ba1d80\", element=\"1C30C952D0C1AD88572C78E3281B4453_element_75\")>,\n",
       " <selenium.webdriver.remote.webelement.WebElement (session=\"2cafe71a55db32e9af9289a069ba1d80\", element=\"1C30C952D0C1AD88572C78E3281B4453_element_76\")>,\n",
       " <selenium.webdriver.remote.webelement.WebElement (session=\"2cafe71a55db32e9af9289a069ba1d80\", element=\"1C30C952D0C1AD88572C78E3281B4453_element_77\")>,\n",
       " <selenium.webdriver.remote.webelement.WebElement (session=\"2cafe71a55db32e9af9289a069ba1d80\", element=\"1C30C952D0C1AD88572C78E3281B4453_element_78\")>,\n",
       " <selenium.webdriver.remote.webelement.WebElement (session=\"2cafe71a55db32e9af9289a069ba1d80\", element=\"1C30C952D0C1AD88572C78E3281B4453_element_79\")>,\n",
       " <selenium.webdriver.remote.webelement.WebElement (session=\"2cafe71a55db32e9af9289a069ba1d80\", element=\"1C30C952D0C1AD88572C78E3281B4453_element_80\")>,\n",
       " <selenium.webdriver.remote.webelement.WebElement (session=\"2cafe71a55db32e9af9289a069ba1d80\", element=\"1C30C952D0C1AD88572C78E3281B4453_element_81\")>,\n",
       " <selenium.webdriver.remote.webelement.WebElement (session=\"2cafe71a55db32e9af9289a069ba1d80\", element=\"1C30C952D0C1AD88572C78E3281B4453_element_82\")>,\n",
       " <selenium.webdriver.remote.webelement.WebElement (session=\"2cafe71a55db32e9af9289a069ba1d80\", element=\"1C30C952D0C1AD88572C78E3281B4453_element_83\")>,\n",
       " <selenium.webdriver.remote.webelement.WebElement (session=\"2cafe71a55db32e9af9289a069ba1d80\", element=\"1C30C952D0C1AD88572C78E3281B4453_element_84\")>,\n",
       " <selenium.webdriver.remote.webelement.WebElement (session=\"2cafe71a55db32e9af9289a069ba1d80\", element=\"1C30C952D0C1AD88572C78E3281B4453_element_85\")>,\n",
       " <selenium.webdriver.remote.webelement.WebElement (session=\"2cafe71a55db32e9af9289a069ba1d80\", element=\"1C30C952D0C1AD88572C78E3281B4453_element_86\")>,\n",
       " <selenium.webdriver.remote.webelement.WebElement (session=\"2cafe71a55db32e9af9289a069ba1d80\", element=\"1C30C952D0C1AD88572C78E3281B4453_element_87\")>,\n",
       " <selenium.webdriver.remote.webelement.WebElement (session=\"2cafe71a55db32e9af9289a069ba1d80\", element=\"1C30C952D0C1AD88572C78E3281B4453_element_88\")>,\n",
       " <selenium.webdriver.remote.webelement.WebElement (session=\"2cafe71a55db32e9af9289a069ba1d80\", element=\"1C30C952D0C1AD88572C78E3281B4453_element_89\")>,\n",
       " <selenium.webdriver.remote.webelement.WebElement (session=\"2cafe71a55db32e9af9289a069ba1d80\", element=\"1C30C952D0C1AD88572C78E3281B4453_element_90\")>,\n",
       " <selenium.webdriver.remote.webelement.WebElement (session=\"2cafe71a55db32e9af9289a069ba1d80\", element=\"1C30C952D0C1AD88572C78E3281B4453_element_91\")>,\n",
       " <selenium.webdriver.remote.webelement.WebElement (session=\"2cafe71a55db32e9af9289a069ba1d80\", element=\"1C30C952D0C1AD88572C78E3281B4453_element_92\")>,\n",
       " <selenium.webdriver.remote.webelement.WebElement (session=\"2cafe71a55db32e9af9289a069ba1d80\", element=\"1C30C952D0C1AD88572C78E3281B4453_element_93\")>,\n",
       " <selenium.webdriver.remote.webelement.WebElement (session=\"2cafe71a55db32e9af9289a069ba1d80\", element=\"1C30C952D0C1AD88572C78E3281B4453_element_94\")>,\n",
       " <selenium.webdriver.remote.webelement.WebElement (session=\"2cafe71a55db32e9af9289a069ba1d80\", element=\"1C30C952D0C1AD88572C78E3281B4453_element_95\")>,\n",
       " <selenium.webdriver.remote.webelement.WebElement (session=\"2cafe71a55db32e9af9289a069ba1d80\", element=\"1C30C952D0C1AD88572C78E3281B4453_element_96\")>,\n",
       " <selenium.webdriver.remote.webelement.WebElement (session=\"2cafe71a55db32e9af9289a069ba1d80\", element=\"1C30C952D0C1AD88572C78E3281B4453_element_97\")>,\n",
       " <selenium.webdriver.remote.webelement.WebElement (session=\"2cafe71a55db32e9af9289a069ba1d80\", element=\"1C30C952D0C1AD88572C78E3281B4453_element_98\")>,\n",
       " <selenium.webdriver.remote.webelement.WebElement (session=\"2cafe71a55db32e9af9289a069ba1d80\", element=\"1C30C952D0C1AD88572C78E3281B4453_element_99\")>,\n",
       " <selenium.webdriver.remote.webelement.WebElement (session=\"2cafe71a55db32e9af9289a069ba1d80\", element=\"1C30C952D0C1AD88572C78E3281B4453_element_100\")>,\n",
       " <selenium.webdriver.remote.webelement.WebElement (session=\"2cafe71a55db32e9af9289a069ba1d80\", element=\"1C30C952D0C1AD88572C78E3281B4453_element_101\")>,\n",
       " <selenium.webdriver.remote.webelement.WebElement (session=\"2cafe71a55db32e9af9289a069ba1d80\", element=\"1C30C952D0C1AD88572C78E3281B4453_element_102\")>,\n",
       " <selenium.webdriver.remote.webelement.WebElement (session=\"2cafe71a55db32e9af9289a069ba1d80\", element=\"1C30C952D0C1AD88572C78E3281B4453_element_103\")>,\n",
       " <selenium.webdriver.remote.webelement.WebElement (session=\"2cafe71a55db32e9af9289a069ba1d80\", element=\"1C30C952D0C1AD88572C78E3281B4453_element_104\")>,\n",
       " <selenium.webdriver.remote.webelement.WebElement (session=\"2cafe71a55db32e9af9289a069ba1d80\", element=\"1C30C952D0C1AD88572C78E3281B4453_element_105\")>,\n",
       " <selenium.webdriver.remote.webelement.WebElement (session=\"2cafe71a55db32e9af9289a069ba1d80\", element=\"1C30C952D0C1AD88572C78E3281B4453_element_106\")>,\n",
       " <selenium.webdriver.remote.webelement.WebElement (session=\"2cafe71a55db32e9af9289a069ba1d80\", element=\"1C30C952D0C1AD88572C78E3281B4453_element_107\")>,\n",
       " <selenium.webdriver.remote.webelement.WebElement (session=\"2cafe71a55db32e9af9289a069ba1d80\", element=\"1C30C952D0C1AD88572C78E3281B4453_element_108\")>,\n",
       " <selenium.webdriver.remote.webelement.WebElement (session=\"2cafe71a55db32e9af9289a069ba1d80\", element=\"1C30C952D0C1AD88572C78E3281B4453_element_109\")>,\n",
       " <selenium.webdriver.remote.webelement.WebElement (session=\"2cafe71a55db32e9af9289a069ba1d80\", element=\"1C30C952D0C1AD88572C78E3281B4453_element_110\")>,\n",
       " <selenium.webdriver.remote.webelement.WebElement (session=\"2cafe71a55db32e9af9289a069ba1d80\", element=\"1C30C952D0C1AD88572C78E3281B4453_element_111\")>,\n",
       " <selenium.webdriver.remote.webelement.WebElement (session=\"2cafe71a55db32e9af9289a069ba1d80\", element=\"1C30C952D0C1AD88572C78E3281B4453_element_112\")>,\n",
       " <selenium.webdriver.remote.webelement.WebElement (session=\"2cafe71a55db32e9af9289a069ba1d80\", element=\"1C30C952D0C1AD88572C78E3281B4453_element_113\")>,\n",
       " <selenium.webdriver.remote.webelement.WebElement (session=\"2cafe71a55db32e9af9289a069ba1d80\", element=\"1C30C952D0C1AD88572C78E3281B4453_element_114\")>,\n",
       " <selenium.webdriver.remote.webelement.WebElement (session=\"2cafe71a55db32e9af9289a069ba1d80\", element=\"1C30C952D0C1AD88572C78E3281B4453_element_115\")>,\n",
       " <selenium.webdriver.remote.webelement.WebElement (session=\"2cafe71a55db32e9af9289a069ba1d80\", element=\"1C30C952D0C1AD88572C78E3281B4453_element_116\")>,\n",
       " <selenium.webdriver.remote.webelement.WebElement (session=\"2cafe71a55db32e9af9289a069ba1d80\", element=\"1C30C952D0C1AD88572C78E3281B4453_element_117\")>,\n",
       " <selenium.webdriver.remote.webelement.WebElement (session=\"2cafe71a55db32e9af9289a069ba1d80\", element=\"1C30C952D0C1AD88572C78E3281B4453_element_118\")>,\n",
       " <selenium.webdriver.remote.webelement.WebElement (session=\"2cafe71a55db32e9af9289a069ba1d80\", element=\"1C30C952D0C1AD88572C78E3281B4453_element_119\")>,\n",
       " <selenium.webdriver.remote.webelement.WebElement (session=\"2cafe71a55db32e9af9289a069ba1d80\", element=\"1C30C952D0C1AD88572C78E3281B4453_element_120\")>,\n",
       " <selenium.webdriver.remote.webelement.WebElement (session=\"2cafe71a55db32e9af9289a069ba1d80\", element=\"1C30C952D0C1AD88572C78E3281B4453_element_121\")>,\n",
       " <selenium.webdriver.remote.webelement.WebElement (session=\"2cafe71a55db32e9af9289a069ba1d80\", element=\"1C30C952D0C1AD88572C78E3281B4453_element_122\")>,\n",
       " <selenium.webdriver.remote.webelement.WebElement (session=\"2cafe71a55db32e9af9289a069ba1d80\", element=\"1C30C952D0C1AD88572C78E3281B4453_element_123\")>,\n",
       " <selenium.webdriver.remote.webelement.WebElement (session=\"2cafe71a55db32e9af9289a069ba1d80\", element=\"1C30C952D0C1AD88572C78E3281B4453_element_124\")>,\n",
       " <selenium.webdriver.remote.webelement.WebElement (session=\"2cafe71a55db32e9af9289a069ba1d80\", element=\"1C30C952D0C1AD88572C78E3281B4453_element_125\")>,\n",
       " <selenium.webdriver.remote.webelement.WebElement (session=\"2cafe71a55db32e9af9289a069ba1d80\", element=\"1C30C952D0C1AD88572C78E3281B4453_element_126\")>,\n",
       " <selenium.webdriver.remote.webelement.WebElement (session=\"2cafe71a55db32e9af9289a069ba1d80\", element=\"1C30C952D0C1AD88572C78E3281B4453_element_127\")>,\n",
       " <selenium.webdriver.remote.webelement.WebElement (session=\"2cafe71a55db32e9af9289a069ba1d80\", element=\"1C30C952D0C1AD88572C78E3281B4453_element_128\")>,\n",
       " <selenium.webdriver.remote.webelement.WebElement (session=\"2cafe71a55db32e9af9289a069ba1d80\", element=\"1C30C952D0C1AD88572C78E3281B4453_element_129\")>,\n",
       " <selenium.webdriver.remote.webelement.WebElement (session=\"2cafe71a55db32e9af9289a069ba1d80\", element=\"1C30C952D0C1AD88572C78E3281B4453_element_130\")>,\n",
       " <selenium.webdriver.remote.webelement.WebElement (session=\"2cafe71a55db32e9af9289a069ba1d80\", element=\"1C30C952D0C1AD88572C78E3281B4453_element_131\")>,\n",
       " <selenium.webdriver.remote.webelement.WebElement (session=\"2cafe71a55db32e9af9289a069ba1d80\", element=\"1C30C952D0C1AD88572C78E3281B4453_element_132\")>,\n",
       " <selenium.webdriver.remote.webelement.WebElement (session=\"2cafe71a55db32e9af9289a069ba1d80\", element=\"1C30C952D0C1AD88572C78E3281B4453_element_133\")>,\n",
       " <selenium.webdriver.remote.webelement.WebElement (session=\"2cafe71a55db32e9af9289a069ba1d80\", element=\"1C30C952D0C1AD88572C78E3281B4453_element_134\")>,\n",
       " <selenium.webdriver.remote.webelement.WebElement (session=\"2cafe71a55db32e9af9289a069ba1d80\", element=\"1C30C952D0C1AD88572C78E3281B4453_element_135\")>,\n",
       " <selenium.webdriver.remote.webelement.WebElement (session=\"2cafe71a55db32e9af9289a069ba1d80\", element=\"1C30C952D0C1AD88572C78E3281B4453_element_136\")>,\n",
       " <selenium.webdriver.remote.webelement.WebElement (session=\"2cafe71a55db32e9af9289a069ba1d80\", element=\"1C30C952D0C1AD88572C78E3281B4453_element_137\")>,\n",
       " <selenium.webdriver.remote.webelement.WebElement (session=\"2cafe71a55db32e9af9289a069ba1d80\", element=\"1C30C952D0C1AD88572C78E3281B4453_element_138\")>,\n",
       " <selenium.webdriver.remote.webelement.WebElement (session=\"2cafe71a55db32e9af9289a069ba1d80\", element=\"1C30C952D0C1AD88572C78E3281B4453_element_139\")>,\n",
       " <selenium.webdriver.remote.webelement.WebElement (session=\"2cafe71a55db32e9af9289a069ba1d80\", element=\"1C30C952D0C1AD88572C78E3281B4453_element_140\")>,\n",
       " <selenium.webdriver.remote.webelement.WebElement (session=\"2cafe71a55db32e9af9289a069ba1d80\", element=\"1C30C952D0C1AD88572C78E3281B4453_element_141\")>,\n",
       " <selenium.webdriver.remote.webelement.WebElement (session=\"2cafe71a55db32e9af9289a069ba1d80\", element=\"1C30C952D0C1AD88572C78E3281B4453_element_142\")>,\n",
       " <selenium.webdriver.remote.webelement.WebElement (session=\"2cafe71a55db32e9af9289a069ba1d80\", element=\"1C30C952D0C1AD88572C78E3281B4453_element_143\")>,\n",
       " <selenium.webdriver.remote.webelement.WebElement (session=\"2cafe71a55db32e9af9289a069ba1d80\", element=\"1C30C952D0C1AD88572C78E3281B4453_element_144\")>,\n",
       " <selenium.webdriver.remote.webelement.WebElement (session=\"2cafe71a55db32e9af9289a069ba1d80\", element=\"1C30C952D0C1AD88572C78E3281B4453_element_145\")>,\n",
       " <selenium.webdriver.remote.webelement.WebElement (session=\"2cafe71a55db32e9af9289a069ba1d80\", element=\"1C30C952D0C1AD88572C78E3281B4453_element_146\")>,\n",
       " <selenium.webdriver.remote.webelement.WebElement (session=\"2cafe71a55db32e9af9289a069ba1d80\", element=\"1C30C952D0C1AD88572C78E3281B4453_element_147\")>,\n",
       " <selenium.webdriver.remote.webelement.WebElement (session=\"2cafe71a55db32e9af9289a069ba1d80\", element=\"1C30C952D0C1AD88572C78E3281B4453_element_148\")>,\n",
       " <selenium.webdriver.remote.webelement.WebElement (session=\"2cafe71a55db32e9af9289a069ba1d80\", element=\"1C30C952D0C1AD88572C78E3281B4453_element_149\")>,\n",
       " <selenium.webdriver.remote.webelement.WebElement (session=\"2cafe71a55db32e9af9289a069ba1d80\", element=\"1C30C952D0C1AD88572C78E3281B4453_element_150\")>,\n",
       " <selenium.webdriver.remote.webelement.WebElement (session=\"2cafe71a55db32e9af9289a069ba1d80\", element=\"1C30C952D0C1AD88572C78E3281B4453_element_151\")>,\n",
       " <selenium.webdriver.remote.webelement.WebElement (session=\"2cafe71a55db32e9af9289a069ba1d80\", element=\"1C30C952D0C1AD88572C78E3281B4453_element_152\")>,\n",
       " <selenium.webdriver.remote.webelement.WebElement (session=\"2cafe71a55db32e9af9289a069ba1d80\", element=\"1C30C952D0C1AD88572C78E3281B4453_element_153\")>,\n",
       " <selenium.webdriver.remote.webelement.WebElement (session=\"2cafe71a55db32e9af9289a069ba1d80\", element=\"1C30C952D0C1AD88572C78E3281B4453_element_154\")>,\n",
       " <selenium.webdriver.remote.webelement.WebElement (session=\"2cafe71a55db32e9af9289a069ba1d80\", element=\"1C30C952D0C1AD88572C78E3281B4453_element_155\")>,\n",
       " <selenium.webdriver.remote.webelement.WebElement (session=\"2cafe71a55db32e9af9289a069ba1d80\", element=\"1C30C952D0C1AD88572C78E3281B4453_element_156\")>,\n",
       " <selenium.webdriver.remote.webelement.WebElement (session=\"2cafe71a55db32e9af9289a069ba1d80\", element=\"1C30C952D0C1AD88572C78E3281B4453_element_157\")>,\n",
       " <selenium.webdriver.remote.webelement.WebElement (session=\"2cafe71a55db32e9af9289a069ba1d80\", element=\"1C30C952D0C1AD88572C78E3281B4453_element_158\")>,\n",
       " <selenium.webdriver.remote.webelement.WebElement (session=\"2cafe71a55db32e9af9289a069ba1d80\", element=\"1C30C952D0C1AD88572C78E3281B4453_element_159\")>,\n",
       " <selenium.webdriver.remote.webelement.WebElement (session=\"2cafe71a55db32e9af9289a069ba1d80\", element=\"1C30C952D0C1AD88572C78E3281B4453_element_160\")>,\n",
       " <selenium.webdriver.remote.webelement.WebElement (session=\"2cafe71a55db32e9af9289a069ba1d80\", element=\"1C30C952D0C1AD88572C78E3281B4453_element_161\")>,\n",
       " <selenium.webdriver.remote.webelement.WebElement (session=\"2cafe71a55db32e9af9289a069ba1d80\", element=\"1C30C952D0C1AD88572C78E3281B4453_element_162\")>,\n",
       " <selenium.webdriver.remote.webelement.WebElement (session=\"2cafe71a55db32e9af9289a069ba1d80\", element=\"1C30C952D0C1AD88572C78E3281B4453_element_163\")>,\n",
       " <selenium.webdriver.remote.webelement.WebElement (session=\"2cafe71a55db32e9af9289a069ba1d80\", element=\"1C30C952D0C1AD88572C78E3281B4453_element_164\")>,\n",
       " <selenium.webdriver.remote.webelement.WebElement (session=\"2cafe71a55db32e9af9289a069ba1d80\", element=\"1C30C952D0C1AD88572C78E3281B4453_element_165\")>,\n",
       " <selenium.webdriver.remote.webelement.WebElement (session=\"2cafe71a55db32e9af9289a069ba1d80\", element=\"1C30C952D0C1AD88572C78E3281B4453_element_166\")>,\n",
       " <selenium.webdriver.remote.webelement.WebElement (session=\"2cafe71a55db32e9af9289a069ba1d80\", element=\"1C30C952D0C1AD88572C78E3281B4453_element_167\")>,\n",
       " <selenium.webdriver.remote.webelement.WebElement (session=\"2cafe71a55db32e9af9289a069ba1d80\", element=\"1C30C952D0C1AD88572C78E3281B4453_element_168\")>,\n",
       " <selenium.webdriver.remote.webelement.WebElement (session=\"2cafe71a55db32e9af9289a069ba1d80\", element=\"1C30C952D0C1AD88572C78E3281B4453_element_169\")>,\n",
       " <selenium.webdriver.remote.webelement.WebElement (session=\"2cafe71a55db32e9af9289a069ba1d80\", element=\"1C30C952D0C1AD88572C78E3281B4453_element_170\")>,\n",
       " <selenium.webdriver.remote.webelement.WebElement (session=\"2cafe71a55db32e9af9289a069ba1d80\", element=\"1C30C952D0C1AD88572C78E3281B4453_element_171\")>,\n",
       " <selenium.webdriver.remote.webelement.WebElement (session=\"2cafe71a55db32e9af9289a069ba1d80\", element=\"1C30C952D0C1AD88572C78E3281B4453_element_172\")>,\n",
       " <selenium.webdriver.remote.webelement.WebElement (session=\"2cafe71a55db32e9af9289a069ba1d80\", element=\"1C30C952D0C1AD88572C78E3281B4453_element_173\")>,\n",
       " <selenium.webdriver.remote.webelement.WebElement (session=\"2cafe71a55db32e9af9289a069ba1d80\", element=\"1C30C952D0C1AD88572C78E3281B4453_element_174\")>,\n",
       " <selenium.webdriver.remote.webelement.WebElement (session=\"2cafe71a55db32e9af9289a069ba1d80\", element=\"1C30C952D0C1AD88572C78E3281B4453_element_175\")>,\n",
       " <selenium.webdriver.remote.webelement.WebElement (session=\"2cafe71a55db32e9af9289a069ba1d80\", element=\"1C30C952D0C1AD88572C78E3281B4453_element_176\")>,\n",
       " <selenium.webdriver.remote.webelement.WebElement (session=\"2cafe71a55db32e9af9289a069ba1d80\", element=\"1C30C952D0C1AD88572C78E3281B4453_element_177\")>,\n",
       " <selenium.webdriver.remote.webelement.WebElement (session=\"2cafe71a55db32e9af9289a069ba1d80\", element=\"1C30C952D0C1AD88572C78E3281B4453_element_178\")>,\n",
       " <selenium.webdriver.remote.webelement.WebElement (session=\"2cafe71a55db32e9af9289a069ba1d80\", element=\"1C30C952D0C1AD88572C78E3281B4453_element_179\")>,\n",
       " <selenium.webdriver.remote.webelement.WebElement (session=\"2cafe71a55db32e9af9289a069ba1d80\", element=\"1C30C952D0C1AD88572C78E3281B4453_element_180\")>,\n",
       " <selenium.webdriver.remote.webelement.WebElement (session=\"2cafe71a55db32e9af9289a069ba1d80\", element=\"1C30C952D0C1AD88572C78E3281B4453_element_181\")>,\n",
       " <selenium.webdriver.remote.webelement.WebElement (session=\"2cafe71a55db32e9af9289a069ba1d80\", element=\"1C30C952D0C1AD88572C78E3281B4453_element_182\")>,\n",
       " <selenium.webdriver.remote.webelement.WebElement (session=\"2cafe71a55db32e9af9289a069ba1d80\", element=\"1C30C952D0C1AD88572C78E3281B4453_element_183\")>,\n",
       " <selenium.webdriver.remote.webelement.WebElement (session=\"2cafe71a55db32e9af9289a069ba1d80\", element=\"1C30C952D0C1AD88572C78E3281B4453_element_184\")>,\n",
       " <selenium.webdriver.remote.webelement.WebElement (session=\"2cafe71a55db32e9af9289a069ba1d80\", element=\"1C30C952D0C1AD88572C78E3281B4453_element_185\")>,\n",
       " <selenium.webdriver.remote.webelement.WebElement (session=\"2cafe71a55db32e9af9289a069ba1d80\", element=\"1C30C952D0C1AD88572C78E3281B4453_element_186\")>,\n",
       " <selenium.webdriver.remote.webelement.WebElement (session=\"2cafe71a55db32e9af9289a069ba1d80\", element=\"1C30C952D0C1AD88572C78E3281B4453_element_187\")>,\n",
       " <selenium.webdriver.remote.webelement.WebElement (session=\"2cafe71a55db32e9af9289a069ba1d80\", element=\"1C30C952D0C1AD88572C78E3281B4453_element_188\")>,\n",
       " <selenium.webdriver.remote.webelement.WebElement (session=\"2cafe71a55db32e9af9289a069ba1d80\", element=\"1C30C952D0C1AD88572C78E3281B4453_element_189\")>,\n",
       " <selenium.webdriver.remote.webelement.WebElement (session=\"2cafe71a55db32e9af9289a069ba1d80\", element=\"1C30C952D0C1AD88572C78E3281B4453_element_190\")>,\n",
       " <selenium.webdriver.remote.webelement.WebElement (session=\"2cafe71a55db32e9af9289a069ba1d80\", element=\"1C30C952D0C1AD88572C78E3281B4453_element_191\")>,\n",
       " <selenium.webdriver.remote.webelement.WebElement (session=\"2cafe71a55db32e9af9289a069ba1d80\", element=\"1C30C952D0C1AD88572C78E3281B4453_element_192\")>,\n",
       " <selenium.webdriver.remote.webelement.WebElement (session=\"2cafe71a55db32e9af9289a069ba1d80\", element=\"1C30C952D0C1AD88572C78E3281B4453_element_193\")>,\n",
       " <selenium.webdriver.remote.webelement.WebElement (session=\"2cafe71a55db32e9af9289a069ba1d80\", element=\"1C30C952D0C1AD88572C78E3281B4453_element_194\")>,\n",
       " <selenium.webdriver.remote.webelement.WebElement (session=\"2cafe71a55db32e9af9289a069ba1d80\", element=\"1C30C952D0C1AD88572C78E3281B4453_element_195\")>,\n",
       " <selenium.webdriver.remote.webelement.WebElement (session=\"2cafe71a55db32e9af9289a069ba1d80\", element=\"1C30C952D0C1AD88572C78E3281B4453_element_196\")>,\n",
       " <selenium.webdriver.remote.webelement.WebElement (session=\"2cafe71a55db32e9af9289a069ba1d80\", element=\"1C30C952D0C1AD88572C78E3281B4453_element_197\")>,\n",
       " <selenium.webdriver.remote.webelement.WebElement (session=\"2cafe71a55db32e9af9289a069ba1d80\", element=\"1C30C952D0C1AD88572C78E3281B4453_element_198\")>,\n",
       " <selenium.webdriver.remote.webelement.WebElement (session=\"2cafe71a55db32e9af9289a069ba1d80\", element=\"1C30C952D0C1AD88572C78E3281B4453_element_199\")>,\n",
       " <selenium.webdriver.remote.webelement.WebElement (session=\"2cafe71a55db32e9af9289a069ba1d80\", element=\"1C30C952D0C1AD88572C78E3281B4453_element_200\")>,\n",
       " <selenium.webdriver.remote.webelement.WebElement (session=\"2cafe71a55db32e9af9289a069ba1d80\", element=\"1C30C952D0C1AD88572C78E3281B4453_element_201\")>,\n",
       " <selenium.webdriver.remote.webelement.WebElement (session=\"2cafe71a55db32e9af9289a069ba1d80\", element=\"1C30C952D0C1AD88572C78E3281B4453_element_202\")>,\n",
       " <selenium.webdriver.remote.webelement.WebElement (session=\"2cafe71a55db32e9af9289a069ba1d80\", element=\"1C30C952D0C1AD88572C78E3281B4453_element_203\")>,\n",
       " <selenium.webdriver.remote.webelement.WebElement (session=\"2cafe71a55db32e9af9289a069ba1d80\", element=\"1C30C952D0C1AD88572C78E3281B4453_element_204\")>,\n",
       " <selenium.webdriver.remote.webelement.WebElement (session=\"2cafe71a55db32e9af9289a069ba1d80\", element=\"1C30C952D0C1AD88572C78E3281B4453_element_205\")>,\n",
       " <selenium.webdriver.remote.webelement.WebElement (session=\"2cafe71a55db32e9af9289a069ba1d80\", element=\"1C30C952D0C1AD88572C78E3281B4453_element_206\")>,\n",
       " <selenium.webdriver.remote.webelement.WebElement (session=\"2cafe71a55db32e9af9289a069ba1d80\", element=\"1C30C952D0C1AD88572C78E3281B4453_element_207\")>,\n",
       " <selenium.webdriver.remote.webelement.WebElement (session=\"2cafe71a55db32e9af9289a069ba1d80\", element=\"1C30C952D0C1AD88572C78E3281B4453_element_208\")>,\n",
       " <selenium.webdriver.remote.webelement.WebElement (session=\"2cafe71a55db32e9af9289a069ba1d80\", element=\"1C30C952D0C1AD88572C78E3281B4453_element_209\")>,\n",
       " <selenium.webdriver.remote.webelement.WebElement (session=\"2cafe71a55db32e9af9289a069ba1d80\", element=\"1C30C952D0C1AD88572C78E3281B4453_element_210\")>,\n",
       " <selenium.webdriver.remote.webelement.WebElement (session=\"2cafe71a55db32e9af9289a069ba1d80\", element=\"1C30C952D0C1AD88572C78E3281B4453_element_211\")>,\n",
       " <selenium.webdriver.remote.webelement.WebElement (session=\"2cafe71a55db32e9af9289a069ba1d80\", element=\"1C30C952D0C1AD88572C78E3281B4453_element_212\")>,\n",
       " <selenium.webdriver.remote.webelement.WebElement (session=\"2cafe71a55db32e9af9289a069ba1d80\", element=\"1C30C952D0C1AD88572C78E3281B4453_element_213\")>,\n",
       " <selenium.webdriver.remote.webelement.WebElement (session=\"2cafe71a55db32e9af9289a069ba1d80\", element=\"1C30C952D0C1AD88572C78E3281B4453_element_214\")>,\n",
       " <selenium.webdriver.remote.webelement.WebElement (session=\"2cafe71a55db32e9af9289a069ba1d80\", element=\"1C30C952D0C1AD88572C78E3281B4453_element_215\")>,\n",
       " <selenium.webdriver.remote.webelement.WebElement (session=\"2cafe71a55db32e9af9289a069ba1d80\", element=\"1C30C952D0C1AD88572C78E3281B4453_element_216\")>,\n",
       " <selenium.webdriver.remote.webelement.WebElement (session=\"2cafe71a55db32e9af9289a069ba1d80\", element=\"1C30C952D0C1AD88572C78E3281B4453_element_217\")>,\n",
       " <selenium.webdriver.remote.webelement.WebElement (session=\"2cafe71a55db32e9af9289a069ba1d80\", element=\"1C30C952D0C1AD88572C78E3281B4453_element_218\")>,\n",
       " <selenium.webdriver.remote.webelement.WebElement (session=\"2cafe71a55db32e9af9289a069ba1d80\", element=\"1C30C952D0C1AD88572C78E3281B4453_element_219\")>,\n",
       " <selenium.webdriver.remote.webelement.WebElement (session=\"2cafe71a55db32e9af9289a069ba1d80\", element=\"1C30C952D0C1AD88572C78E3281B4453_element_220\")>,\n",
       " <selenium.webdriver.remote.webelement.WebElement (session=\"2cafe71a55db32e9af9289a069ba1d80\", element=\"1C30C952D0C1AD88572C78E3281B4453_element_221\")>,\n",
       " <selenium.webdriver.remote.webelement.WebElement (session=\"2cafe71a55db32e9af9289a069ba1d80\", element=\"1C30C952D0C1AD88572C78E3281B4453_element_222\")>,\n",
       " <selenium.webdriver.remote.webelement.WebElement (session=\"2cafe71a55db32e9af9289a069ba1d80\", element=\"1C30C952D0C1AD88572C78E3281B4453_element_223\")>,\n",
       " <selenium.webdriver.remote.webelement.WebElement (session=\"2cafe71a55db32e9af9289a069ba1d80\", element=\"1C30C952D0C1AD88572C78E3281B4453_element_224\")>,\n",
       " <selenium.webdriver.remote.webelement.WebElement (session=\"2cafe71a55db32e9af9289a069ba1d80\", element=\"1C30C952D0C1AD88572C78E3281B4453_element_225\")>,\n",
       " <selenium.webdriver.remote.webelement.WebElement (session=\"2cafe71a55db32e9af9289a069ba1d80\", element=\"1C30C952D0C1AD88572C78E3281B4453_element_226\")>,\n",
       " <selenium.webdriver.remote.webelement.WebElement (session=\"2cafe71a55db32e9af9289a069ba1d80\", element=\"1C30C952D0C1AD88572C78E3281B4453_element_227\")>,\n",
       " <selenium.webdriver.remote.webelement.WebElement (session=\"2cafe71a55db32e9af9289a069ba1d80\", element=\"1C30C952D0C1AD88572C78E3281B4453_element_228\")>,\n",
       " <selenium.webdriver.remote.webelement.WebElement (session=\"2cafe71a55db32e9af9289a069ba1d80\", element=\"1C30C952D0C1AD88572C78E3281B4453_element_229\")>,\n",
       " <selenium.webdriver.remote.webelement.WebElement (session=\"2cafe71a55db32e9af9289a069ba1d80\", element=\"1C30C952D0C1AD88572C78E3281B4453_element_230\")>,\n",
       " <selenium.webdriver.remote.webelement.WebElement (session=\"2cafe71a55db32e9af9289a069ba1d80\", element=\"1C30C952D0C1AD88572C78E3281B4453_element_231\")>,\n",
       " <selenium.webdriver.remote.webelement.WebElement (session=\"2cafe71a55db32e9af9289a069ba1d80\", element=\"1C30C952D0C1AD88572C78E3281B4453_element_232\")>,\n",
       " <selenium.webdriver.remote.webelement.WebElement (session=\"2cafe71a55db32e9af9289a069ba1d80\", element=\"1C30C952D0C1AD88572C78E3281B4453_element_233\")>,\n",
       " <selenium.webdriver.remote.webelement.WebElement (session=\"2cafe71a55db32e9af9289a069ba1d80\", element=\"1C30C952D0C1AD88572C78E3281B4453_element_234\")>,\n",
       " <selenium.webdriver.remote.webelement.WebElement (session=\"2cafe71a55db32e9af9289a069ba1d80\", element=\"1C30C952D0C1AD88572C78E3281B4453_element_235\")>,\n",
       " <selenium.webdriver.remote.webelement.WebElement (session=\"2cafe71a55db32e9af9289a069ba1d80\", element=\"1C30C952D0C1AD88572C78E3281B4453_element_236\")>,\n",
       " <selenium.webdriver.remote.webelement.WebElement (session=\"2cafe71a55db32e9af9289a069ba1d80\", element=\"1C30C952D0C1AD88572C78E3281B4453_element_237\")>,\n",
       " <selenium.webdriver.remote.webelement.WebElement (session=\"2cafe71a55db32e9af9289a069ba1d80\", element=\"1C30C952D0C1AD88572C78E3281B4453_element_238\")>,\n",
       " <selenium.webdriver.remote.webelement.WebElement (session=\"2cafe71a55db32e9af9289a069ba1d80\", element=\"1C30C952D0C1AD88572C78E3281B4453_element_239\")>,\n",
       " <selenium.webdriver.remote.webelement.WebElement (session=\"2cafe71a55db32e9af9289a069ba1d80\", element=\"1C30C952D0C1AD88572C78E3281B4453_element_240\")>,\n",
       " <selenium.webdriver.remote.webelement.WebElement (session=\"2cafe71a55db32e9af9289a069ba1d80\", element=\"1C30C952D0C1AD88572C78E3281B4453_element_241\")>,\n",
       " <selenium.webdriver.remote.webelement.WebElement (session=\"2cafe71a55db32e9af9289a069ba1d80\", element=\"1C30C952D0C1AD88572C78E3281B4453_element_242\")>,\n",
       " <selenium.webdriver.remote.webelement.WebElement (session=\"2cafe71a55db32e9af9289a069ba1d80\", element=\"1C30C952D0C1AD88572C78E3281B4453_element_243\")>,\n",
       " <selenium.webdriver.remote.webelement.WebElement (session=\"2cafe71a55db32e9af9289a069ba1d80\", element=\"1C30C952D0C1AD88572C78E3281B4453_element_244\")>,\n",
       " <selenium.webdriver.remote.webelement.WebElement (session=\"2cafe71a55db32e9af9289a069ba1d80\", element=\"1C30C952D0C1AD88572C78E3281B4453_element_245\")>,\n",
       " <selenium.webdriver.remote.webelement.WebElement (session=\"2cafe71a55db32e9af9289a069ba1d80\", element=\"1C30C952D0C1AD88572C78E3281B4453_element_246\")>,\n",
       " <selenium.webdriver.remote.webelement.WebElement (session=\"2cafe71a55db32e9af9289a069ba1d80\", element=\"1C30C952D0C1AD88572C78E3281B4453_element_247\")>,\n",
       " <selenium.webdriver.remote.webelement.WebElement (session=\"2cafe71a55db32e9af9289a069ba1d80\", element=\"1C30C952D0C1AD88572C78E3281B4453_element_248\")>,\n",
       " <selenium.webdriver.remote.webelement.WebElement (session=\"2cafe71a55db32e9af9289a069ba1d80\", element=\"1C30C952D0C1AD88572C78E3281B4453_element_249\")>,\n",
       " <selenium.webdriver.remote.webelement.WebElement (session=\"2cafe71a55db32e9af9289a069ba1d80\", element=\"1C30C952D0C1AD88572C78E3281B4453_element_250\")>,\n",
       " <selenium.webdriver.remote.webelement.WebElement (session=\"2cafe71a55db32e9af9289a069ba1d80\", element=\"1C30C952D0C1AD88572C78E3281B4453_element_251\")>,\n",
       " <selenium.webdriver.remote.webelement.WebElement (session=\"2cafe71a55db32e9af9289a069ba1d80\", element=\"1C30C952D0C1AD88572C78E3281B4453_element_252\")>,\n",
       " <selenium.webdriver.remote.webelement.WebElement (session=\"2cafe71a55db32e9af9289a069ba1d80\", element=\"1C30C952D0C1AD88572C78E3281B4453_element_253\")>,\n",
       " <selenium.webdriver.remote.webelement.WebElement (session=\"2cafe71a55db32e9af9289a069ba1d80\", element=\"1C30C952D0C1AD88572C78E3281B4453_element_254\")>,\n",
       " <selenium.webdriver.remote.webelement.WebElement (session=\"2cafe71a55db32e9af9289a069ba1d80\", element=\"1C30C952D0C1AD88572C78E3281B4453_element_255\")>,\n",
       " <selenium.webdriver.remote.webelement.WebElement (session=\"2cafe71a55db32e9af9289a069ba1d80\", element=\"1C30C952D0C1AD88572C78E3281B4453_element_256\")>,\n",
       " <selenium.webdriver.remote.webelement.WebElement (session=\"2cafe71a55db32e9af9289a069ba1d80\", element=\"1C30C952D0C1AD88572C78E3281B4453_element_257\")>,\n",
       " <selenium.webdriver.remote.webelement.WebElement (session=\"2cafe71a55db32e9af9289a069ba1d80\", element=\"1C30C952D0C1AD88572C78E3281B4453_element_258\")>,\n",
       " <selenium.webdriver.remote.webelement.WebElement (session=\"2cafe71a55db32e9af9289a069ba1d80\", element=\"1C30C952D0C1AD88572C78E3281B4453_element_259\")>,\n",
       " <selenium.webdriver.remote.webelement.WebElement (session=\"2cafe71a55db32e9af9289a069ba1d80\", element=\"1C30C952D0C1AD88572C78E3281B4453_element_260\")>,\n",
       " <selenium.webdriver.remote.webelement.WebElement (session=\"2cafe71a55db32e9af9289a069ba1d80\", element=\"1C30C952D0C1AD88572C78E3281B4453_element_261\")>,\n",
       " <selenium.webdriver.remote.webelement.WebElement (session=\"2cafe71a55db32e9af9289a069ba1d80\", element=\"1C30C952D0C1AD88572C78E3281B4453_element_262\")>,\n",
       " <selenium.webdriver.remote.webelement.WebElement (session=\"2cafe71a55db32e9af9289a069ba1d80\", element=\"1C30C952D0C1AD88572C78E3281B4453_element_263\")>,\n",
       " <selenium.webdriver.remote.webelement.WebElement (session=\"2cafe71a55db32e9af9289a069ba1d80\", element=\"1C30C952D0C1AD88572C78E3281B4453_element_264\")>,\n",
       " <selenium.webdriver.remote.webelement.WebElement (session=\"2cafe71a55db32e9af9289a069ba1d80\", element=\"1C30C952D0C1AD88572C78E3281B4453_element_265\")>,\n",
       " <selenium.webdriver.remote.webelement.WebElement (session=\"2cafe71a55db32e9af9289a069ba1d80\", element=\"1C30C952D0C1AD88572C78E3281B4453_element_266\")>,\n",
       " <selenium.webdriver.remote.webelement.WebElement (session=\"2cafe71a55db32e9af9289a069ba1d80\", element=\"1C30C952D0C1AD88572C78E3281B4453_element_267\")>,\n",
       " <selenium.webdriver.remote.webelement.WebElement (session=\"2cafe71a55db32e9af9289a069ba1d80\", element=\"1C30C952D0C1AD88572C78E3281B4453_element_268\")>,\n",
       " <selenium.webdriver.remote.webelement.WebElement (session=\"2cafe71a55db32e9af9289a069ba1d80\", element=\"1C30C952D0C1AD88572C78E3281B4453_element_269\")>,\n",
       " <selenium.webdriver.remote.webelement.WebElement (session=\"2cafe71a55db32e9af9289a069ba1d80\", element=\"1C30C952D0C1AD88572C78E3281B4453_element_270\")>,\n",
       " <selenium.webdriver.remote.webelement.WebElement (session=\"2cafe71a55db32e9af9289a069ba1d80\", element=\"1C30C952D0C1AD88572C78E3281B4453_element_271\")>,\n",
       " <selenium.webdriver.remote.webelement.WebElement (session=\"2cafe71a55db32e9af9289a069ba1d80\", element=\"1C30C952D0C1AD88572C78E3281B4453_element_272\")>,\n",
       " <selenium.webdriver.remote.webelement.WebElement (session=\"2cafe71a55db32e9af9289a069ba1d80\", element=\"1C30C952D0C1AD88572C78E3281B4453_element_273\")>,\n",
       " <selenium.webdriver.remote.webelement.WebElement (session=\"2cafe71a55db32e9af9289a069ba1d80\", element=\"1C30C952D0C1AD88572C78E3281B4453_element_274\")>,\n",
       " <selenium.webdriver.remote.webelement.WebElement (session=\"2cafe71a55db32e9af9289a069ba1d80\", element=\"1C30C952D0C1AD88572C78E3281B4453_element_275\")>,\n",
       " <selenium.webdriver.remote.webelement.WebElement (session=\"2cafe71a55db32e9af9289a069ba1d80\", element=\"1C30C952D0C1AD88572C78E3281B4453_element_276\")>,\n",
       " <selenium.webdriver.remote.webelement.WebElement (session=\"2cafe71a55db32e9af9289a069ba1d80\", element=\"1C30C952D0C1AD88572C78E3281B4453_element_277\")>,\n",
       " <selenium.webdriver.remote.webelement.WebElement (session=\"2cafe71a55db32e9af9289a069ba1d80\", element=\"1C30C952D0C1AD88572C78E3281B4453_element_278\")>,\n",
       " <selenium.webdriver.remote.webelement.WebElement (session=\"2cafe71a55db32e9af9289a069ba1d80\", element=\"1C30C952D0C1AD88572C78E3281B4453_element_279\")>,\n",
       " <selenium.webdriver.remote.webelement.WebElement (session=\"2cafe71a55db32e9af9289a069ba1d80\", element=\"1C30C952D0C1AD88572C78E3281B4453_element_280\")>,\n",
       " <selenium.webdriver.remote.webelement.WebElement (session=\"2cafe71a55db32e9af9289a069ba1d80\", element=\"1C30C952D0C1AD88572C78E3281B4453_element_281\")>,\n",
       " <selenium.webdriver.remote.webelement.WebElement (session=\"2cafe71a55db32e9af9289a069ba1d80\", element=\"1C30C952D0C1AD88572C78E3281B4453_element_282\")>,\n",
       " <selenium.webdriver.remote.webelement.WebElement (session=\"2cafe71a55db32e9af9289a069ba1d80\", element=\"1C30C952D0C1AD88572C78E3281B4453_element_283\")>,\n",
       " <selenium.webdriver.remote.webelement.WebElement (session=\"2cafe71a55db32e9af9289a069ba1d80\", element=\"1C30C952D0C1AD88572C78E3281B4453_element_284\")>,\n",
       " <selenium.webdriver.remote.webelement.WebElement (session=\"2cafe71a55db32e9af9289a069ba1d80\", element=\"1C30C952D0C1AD88572C78E3281B4453_element_285\")>,\n",
       " <selenium.webdriver.remote.webelement.WebElement (session=\"2cafe71a55db32e9af9289a069ba1d80\", element=\"1C30C952D0C1AD88572C78E3281B4453_element_286\")>,\n",
       " <selenium.webdriver.remote.webelement.WebElement (session=\"2cafe71a55db32e9af9289a069ba1d80\", element=\"1C30C952D0C1AD88572C78E3281B4453_element_287\")>,\n",
       " <selenium.webdriver.remote.webelement.WebElement (session=\"2cafe71a55db32e9af9289a069ba1d80\", element=\"1C30C952D0C1AD88572C78E3281B4453_element_288\")>,\n",
       " <selenium.webdriver.remote.webelement.WebElement (session=\"2cafe71a55db32e9af9289a069ba1d80\", element=\"1C30C952D0C1AD88572C78E3281B4453_element_289\")>,\n",
       " <selenium.webdriver.remote.webelement.WebElement (session=\"2cafe71a55db32e9af9289a069ba1d80\", element=\"1C30C952D0C1AD88572C78E3281B4453_element_290\")>,\n",
       " <selenium.webdriver.remote.webelement.WebElement (session=\"2cafe71a55db32e9af9289a069ba1d80\", element=\"1C30C952D0C1AD88572C78E3281B4453_element_291\")>,\n",
       " <selenium.webdriver.remote.webelement.WebElement (session=\"2cafe71a55db32e9af9289a069ba1d80\", element=\"1C30C952D0C1AD88572C78E3281B4453_element_292\")>,\n",
       " <selenium.webdriver.remote.webelement.WebElement (session=\"2cafe71a55db32e9af9289a069ba1d80\", element=\"1C30C952D0C1AD88572C78E3281B4453_element_293\")>,\n",
       " <selenium.webdriver.remote.webelement.WebElement (session=\"2cafe71a55db32e9af9289a069ba1d80\", element=\"1C30C952D0C1AD88572C78E3281B4453_element_294\")>,\n",
       " <selenium.webdriver.remote.webelement.WebElement (session=\"2cafe71a55db32e9af9289a069ba1d80\", element=\"1C30C952D0C1AD88572C78E3281B4453_element_295\")>,\n",
       " <selenium.webdriver.remote.webelement.WebElement (session=\"2cafe71a55db32e9af9289a069ba1d80\", element=\"1C30C952D0C1AD88572C78E3281B4453_element_296\")>,\n",
       " <selenium.webdriver.remote.webelement.WebElement (session=\"2cafe71a55db32e9af9289a069ba1d80\", element=\"1C30C952D0C1AD88572C78E3281B4453_element_297\")>,\n",
       " <selenium.webdriver.remote.webelement.WebElement (session=\"2cafe71a55db32e9af9289a069ba1d80\", element=\"1C30C952D0C1AD88572C78E3281B4453_element_298\")>,\n",
       " <selenium.webdriver.remote.webelement.WebElement (session=\"2cafe71a55db32e9af9289a069ba1d80\", element=\"1C30C952D0C1AD88572C78E3281B4453_element_299\")>,\n",
       " <selenium.webdriver.remote.webelement.WebElement (session=\"2cafe71a55db32e9af9289a069ba1d80\", element=\"1C30C952D0C1AD88572C78E3281B4453_element_300\")>,\n",
       " <selenium.webdriver.remote.webelement.WebElement (session=\"2cafe71a55db32e9af9289a069ba1d80\", element=\"1C30C952D0C1AD88572C78E3281B4453_element_301\")>,\n",
       " <selenium.webdriver.remote.webelement.WebElement (session=\"2cafe71a55db32e9af9289a069ba1d80\", element=\"1C30C952D0C1AD88572C78E3281B4453_element_302\")>,\n",
       " <selenium.webdriver.remote.webelement.WebElement (session=\"2cafe71a55db32e9af9289a069ba1d80\", element=\"1C30C952D0C1AD88572C78E3281B4453_element_303\")>,\n",
       " <selenium.webdriver.remote.webelement.WebElement (session=\"2cafe71a55db32e9af9289a069ba1d80\", element=\"1C30C952D0C1AD88572C78E3281B4453_element_304\")>,\n",
       " <selenium.webdriver.remote.webelement.WebElement (session=\"2cafe71a55db32e9af9289a069ba1d80\", element=\"1C30C952D0C1AD88572C78E3281B4453_element_305\")>,\n",
       " <selenium.webdriver.remote.webelement.WebElement (session=\"2cafe71a55db32e9af9289a069ba1d80\", element=\"1C30C952D0C1AD88572C78E3281B4453_element_306\")>,\n",
       " <selenium.webdriver.remote.webelement.WebElement (session=\"2cafe71a55db32e9af9289a069ba1d80\", element=\"1C30C952D0C1AD88572C78E3281B4453_element_307\")>,\n",
       " <selenium.webdriver.remote.webelement.WebElement (session=\"2cafe71a55db32e9af9289a069ba1d80\", element=\"1C30C952D0C1AD88572C78E3281B4453_element_308\")>,\n",
       " <selenium.webdriver.remote.webelement.WebElement (session=\"2cafe71a55db32e9af9289a069ba1d80\", element=\"1C30C952D0C1AD88572C78E3281B4453_element_309\")>,\n",
       " <selenium.webdriver.remote.webelement.WebElement (session=\"2cafe71a55db32e9af9289a069ba1d80\", element=\"1C30C952D0C1AD88572C78E3281B4453_element_310\")>,\n",
       " <selenium.webdriver.remote.webelement.WebElement (session=\"2cafe71a55db32e9af9289a069ba1d80\", element=\"1C30C952D0C1AD88572C78E3281B4453_element_311\")>,\n",
       " <selenium.webdriver.remote.webelement.WebElement (session=\"2cafe71a55db32e9af9289a069ba1d80\", element=\"1C30C952D0C1AD88572C78E3281B4453_element_312\")>,\n",
       " <selenium.webdriver.remote.webelement.WebElement (session=\"2cafe71a55db32e9af9289a069ba1d80\", element=\"1C30C952D0C1AD88572C78E3281B4453_element_313\")>,\n",
       " <selenium.webdriver.remote.webelement.WebElement (session=\"2cafe71a55db32e9af9289a069ba1d80\", element=\"1C30C952D0C1AD88572C78E3281B4453_element_314\")>,\n",
       " <selenium.webdriver.remote.webelement.WebElement (session=\"2cafe71a55db32e9af9289a069ba1d80\", element=\"1C30C952D0C1AD88572C78E3281B4453_element_315\")>,\n",
       " <selenium.webdriver.remote.webelement.WebElement (session=\"2cafe71a55db32e9af9289a069ba1d80\", element=\"1C30C952D0C1AD88572C78E3281B4453_element_316\")>,\n",
       " <selenium.webdriver.remote.webelement.WebElement (session=\"2cafe71a55db32e9af9289a069ba1d80\", element=\"1C30C952D0C1AD88572C78E3281B4453_element_317\")>,\n",
       " <selenium.webdriver.remote.webelement.WebElement (session=\"2cafe71a55db32e9af9289a069ba1d80\", element=\"1C30C952D0C1AD88572C78E3281B4453_element_318\")>,\n",
       " <selenium.webdriver.remote.webelement.WebElement (session=\"2cafe71a55db32e9af9289a069ba1d80\", element=\"1C30C952D0C1AD88572C78E3281B4453_element_319\")>,\n",
       " <selenium.webdriver.remote.webelement.WebElement (session=\"2cafe71a55db32e9af9289a069ba1d80\", element=\"1C30C952D0C1AD88572C78E3281B4453_element_320\")>,\n",
       " <selenium.webdriver.remote.webelement.WebElement (session=\"2cafe71a55db32e9af9289a069ba1d80\", element=\"1C30C952D0C1AD88572C78E3281B4453_element_321\")>,\n",
       " <selenium.webdriver.remote.webelement.WebElement (session=\"2cafe71a55db32e9af9289a069ba1d80\", element=\"1C30C952D0C1AD88572C78E3281B4453_element_322\")>,\n",
       " <selenium.webdriver.remote.webelement.WebElement (session=\"2cafe71a55db32e9af9289a069ba1d80\", element=\"1C30C952D0C1AD88572C78E3281B4453_element_323\")>,\n",
       " <selenium.webdriver.remote.webelement.WebElement (session=\"2cafe71a55db32e9af9289a069ba1d80\", element=\"1C30C952D0C1AD88572C78E3281B4453_element_324\")>,\n",
       " <selenium.webdriver.remote.webelement.WebElement (session=\"2cafe71a55db32e9af9289a069ba1d80\", element=\"1C30C952D0C1AD88572C78E3281B4453_element_325\")>,\n",
       " <selenium.webdriver.remote.webelement.WebElement (session=\"2cafe71a55db32e9af9289a069ba1d80\", element=\"1C30C952D0C1AD88572C78E3281B4453_element_326\")>,\n",
       " <selenium.webdriver.remote.webelement.WebElement (session=\"2cafe71a55db32e9af9289a069ba1d80\", element=\"1C30C952D0C1AD88572C78E3281B4453_element_327\")>,\n",
       " <selenium.webdriver.remote.webelement.WebElement (session=\"2cafe71a55db32e9af9289a069ba1d80\", element=\"1C30C952D0C1AD88572C78E3281B4453_element_328\")>,\n",
       " <selenium.webdriver.remote.webelement.WebElement (session=\"2cafe71a55db32e9af9289a069ba1d80\", element=\"1C30C952D0C1AD88572C78E3281B4453_element_329\")>,\n",
       " <selenium.webdriver.remote.webelement.WebElement (session=\"2cafe71a55db32e9af9289a069ba1d80\", element=\"1C30C952D0C1AD88572C78E3281B4453_element_330\")>,\n",
       " <selenium.webdriver.remote.webelement.WebElement (session=\"2cafe71a55db32e9af9289a069ba1d80\", element=\"1C30C952D0C1AD88572C78E3281B4453_element_331\")>,\n",
       " <selenium.webdriver.remote.webelement.WebElement (session=\"2cafe71a55db32e9af9289a069ba1d80\", element=\"1C30C952D0C1AD88572C78E3281B4453_element_332\")>,\n",
       " <selenium.webdriver.remote.webelement.WebElement (session=\"2cafe71a55db32e9af9289a069ba1d80\", element=\"1C30C952D0C1AD88572C78E3281B4453_element_333\")>,\n",
       " <selenium.webdriver.remote.webelement.WebElement (session=\"2cafe71a55db32e9af9289a069ba1d80\", element=\"1C30C952D0C1AD88572C78E3281B4453_element_334\")>,\n",
       " <selenium.webdriver.remote.webelement.WebElement (session=\"2cafe71a55db32e9af9289a069ba1d80\", element=\"1C30C952D0C1AD88572C78E3281B4453_element_335\")>,\n",
       " <selenium.webdriver.remote.webelement.WebElement (session=\"2cafe71a55db32e9af9289a069ba1d80\", element=\"1C30C952D0C1AD88572C78E3281B4453_element_336\")>,\n",
       " <selenium.webdriver.remote.webelement.WebElement (session=\"2cafe71a55db32e9af9289a069ba1d80\", element=\"1C30C952D0C1AD88572C78E3281B4453_element_337\")>,\n",
       " <selenium.webdriver.remote.webelement.WebElement (session=\"2cafe71a55db32e9af9289a069ba1d80\", element=\"1C30C952D0C1AD88572C78E3281B4453_element_338\")>,\n",
       " <selenium.webdriver.remote.webelement.WebElement (session=\"2cafe71a55db32e9af9289a069ba1d80\", element=\"1C30C952D0C1AD88572C78E3281B4453_element_339\")>,\n",
       " <selenium.webdriver.remote.webelement.WebElement (session=\"2cafe71a55db32e9af9289a069ba1d80\", element=\"1C30C952D0C1AD88572C78E3281B4453_element_340\")>,\n",
       " <selenium.webdriver.remote.webelement.WebElement (session=\"2cafe71a55db32e9af9289a069ba1d80\", element=\"1C30C952D0C1AD88572C78E3281B4453_element_341\")>,\n",
       " <selenium.webdriver.remote.webelement.WebElement (session=\"2cafe71a55db32e9af9289a069ba1d80\", element=\"1C30C952D0C1AD88572C78E3281B4453_element_342\")>,\n",
       " <selenium.webdriver.remote.webelement.WebElement (session=\"2cafe71a55db32e9af9289a069ba1d80\", element=\"1C30C952D0C1AD88572C78E3281B4453_element_343\")>,\n",
       " <selenium.webdriver.remote.webelement.WebElement (session=\"2cafe71a55db32e9af9289a069ba1d80\", element=\"1C30C952D0C1AD88572C78E3281B4453_element_344\")>,\n",
       " <selenium.webdriver.remote.webelement.WebElement (session=\"2cafe71a55db32e9af9289a069ba1d80\", element=\"1C30C952D0C1AD88572C78E3281B4453_element_345\")>,\n",
       " <selenium.webdriver.remote.webelement.WebElement (session=\"2cafe71a55db32e9af9289a069ba1d80\", element=\"1C30C952D0C1AD88572C78E3281B4453_element_346\")>,\n",
       " <selenium.webdriver.remote.webelement.WebElement (session=\"2cafe71a55db32e9af9289a069ba1d80\", element=\"1C30C952D0C1AD88572C78E3281B4453_element_347\")>,\n",
       " <selenium.webdriver.remote.webelement.WebElement (session=\"2cafe71a55db32e9af9289a069ba1d80\", element=\"1C30C952D0C1AD88572C78E3281B4453_element_348\")>,\n",
       " <selenium.webdriver.remote.webelement.WebElement (session=\"2cafe71a55db32e9af9289a069ba1d80\", element=\"1C30C952D0C1AD88572C78E3281B4453_element_349\")>,\n",
       " <selenium.webdriver.remote.webelement.WebElement (session=\"2cafe71a55db32e9af9289a069ba1d80\", element=\"1C30C952D0C1AD88572C78E3281B4453_element_350\")>,\n",
       " <selenium.webdriver.remote.webelement.WebElement (session=\"2cafe71a55db32e9af9289a069ba1d80\", element=\"1C30C952D0C1AD88572C78E3281B4453_element_351\")>,\n",
       " <selenium.webdriver.remote.webelement.WebElement (session=\"2cafe71a55db32e9af9289a069ba1d80\", element=\"1C30C952D0C1AD88572C78E3281B4453_element_352\")>,\n",
       " <selenium.webdriver.remote.webelement.WebElement (session=\"2cafe71a55db32e9af9289a069ba1d80\", element=\"1C30C952D0C1AD88572C78E3281B4453_element_353\")>,\n",
       " <selenium.webdriver.remote.webelement.WebElement (session=\"2cafe71a55db32e9af9289a069ba1d80\", element=\"1C30C952D0C1AD88572C78E3281B4453_element_354\")>,\n",
       " <selenium.webdriver.remote.webelement.WebElement (session=\"2cafe71a55db32e9af9289a069ba1d80\", element=\"1C30C952D0C1AD88572C78E3281B4453_element_355\")>,\n",
       " <selenium.webdriver.remote.webelement.WebElement (session=\"2cafe71a55db32e9af9289a069ba1d80\", element=\"1C30C952D0C1AD88572C78E3281B4453_element_356\")>,\n",
       " <selenium.webdriver.remote.webelement.WebElement (session=\"2cafe71a55db32e9af9289a069ba1d80\", element=\"1C30C952D0C1AD88572C78E3281B4453_element_357\")>,\n",
       " <selenium.webdriver.remote.webelement.WebElement (session=\"2cafe71a55db32e9af9289a069ba1d80\", element=\"1C30C952D0C1AD88572C78E3281B4453_element_358\")>,\n",
       " <selenium.webdriver.remote.webelement.WebElement (session=\"2cafe71a55db32e9af9289a069ba1d80\", element=\"1C30C952D0C1AD88572C78E3281B4453_element_359\")>,\n",
       " <selenium.webdriver.remote.webelement.WebElement (session=\"2cafe71a55db32e9af9289a069ba1d80\", element=\"1C30C952D0C1AD88572C78E3281B4453_element_360\")>,\n",
       " <selenium.webdriver.remote.webelement.WebElement (session=\"2cafe71a55db32e9af9289a069ba1d80\", element=\"1C30C952D0C1AD88572C78E3281B4453_element_361\")>,\n",
       " <selenium.webdriver.remote.webelement.WebElement (session=\"2cafe71a55db32e9af9289a069ba1d80\", element=\"1C30C952D0C1AD88572C78E3281B4453_element_362\")>,\n",
       " <selenium.webdriver.remote.webelement.WebElement (session=\"2cafe71a55db32e9af9289a069ba1d80\", element=\"1C30C952D0C1AD88572C78E3281B4453_element_363\")>,\n",
       " <selenium.webdriver.remote.webelement.WebElement (session=\"2cafe71a55db32e9af9289a069ba1d80\", element=\"1C30C952D0C1AD88572C78E3281B4453_element_364\")>,\n",
       " <selenium.webdriver.remote.webelement.WebElement (session=\"2cafe71a55db32e9af9289a069ba1d80\", element=\"1C30C952D0C1AD88572C78E3281B4453_element_365\")>,\n",
       " <selenium.webdriver.remote.webelement.WebElement (session=\"2cafe71a55db32e9af9289a069ba1d80\", element=\"1C30C952D0C1AD88572C78E3281B4453_element_366\")>,\n",
       " <selenium.webdriver.remote.webelement.WebElement (session=\"2cafe71a55db32e9af9289a069ba1d80\", element=\"1C30C952D0C1AD88572C78E3281B4453_element_367\")>,\n",
       " <selenium.webdriver.remote.webelement.WebElement (session=\"2cafe71a55db32e9af9289a069ba1d80\", element=\"1C30C952D0C1AD88572C78E3281B4453_element_368\")>,\n",
       " <selenium.webdriver.remote.webelement.WebElement (session=\"2cafe71a55db32e9af9289a069ba1d80\", element=\"1C30C952D0C1AD88572C78E3281B4453_element_369\")>,\n",
       " <selenium.webdriver.remote.webelement.WebElement (session=\"2cafe71a55db32e9af9289a069ba1d80\", element=\"1C30C952D0C1AD88572C78E3281B4453_element_370\")>,\n",
       " <selenium.webdriver.remote.webelement.WebElement (session=\"2cafe71a55db32e9af9289a069ba1d80\", element=\"1C30C952D0C1AD88572C78E3281B4453_element_371\")>,\n",
       " <selenium.webdriver.remote.webelement.WebElement (session=\"2cafe71a55db32e9af9289a069ba1d80\", element=\"1C30C952D0C1AD88572C78E3281B4453_element_372\")>,\n",
       " <selenium.webdriver.remote.webelement.WebElement (session=\"2cafe71a55db32e9af9289a069ba1d80\", element=\"1C30C952D0C1AD88572C78E3281B4453_element_373\")>,\n",
       " <selenium.webdriver.remote.webelement.WebElement (session=\"2cafe71a55db32e9af9289a069ba1d80\", element=\"1C30C952D0C1AD88572C78E3281B4453_element_374\")>,\n",
       " <selenium.webdriver.remote.webelement.WebElement (session=\"2cafe71a55db32e9af9289a069ba1d80\", element=\"1C30C952D0C1AD88572C78E3281B4453_element_375\")>,\n",
       " <selenium.webdriver.remote.webelement.WebElement (session=\"2cafe71a55db32e9af9289a069ba1d80\", element=\"1C30C952D0C1AD88572C78E3281B4453_element_376\")>,\n",
       " <selenium.webdriver.remote.webelement.WebElement (session=\"2cafe71a55db32e9af9289a069ba1d80\", element=\"1C30C952D0C1AD88572C78E3281B4453_element_377\")>,\n",
       " <selenium.webdriver.remote.webelement.WebElement (session=\"2cafe71a55db32e9af9289a069ba1d80\", element=\"1C30C952D0C1AD88572C78E3281B4453_element_378\")>,\n",
       " <selenium.webdriver.remote.webelement.WebElement (session=\"2cafe71a55db32e9af9289a069ba1d80\", element=\"1C30C952D0C1AD88572C78E3281B4453_element_379\")>,\n",
       " <selenium.webdriver.remote.webelement.WebElement (session=\"2cafe71a55db32e9af9289a069ba1d80\", element=\"1C30C952D0C1AD88572C78E3281B4453_element_380\")>,\n",
       " <selenium.webdriver.remote.webelement.WebElement (session=\"2cafe71a55db32e9af9289a069ba1d80\", element=\"1C30C952D0C1AD88572C78E3281B4453_element_381\")>,\n",
       " <selenium.webdriver.remote.webelement.WebElement (session=\"2cafe71a55db32e9af9289a069ba1d80\", element=\"1C30C952D0C1AD88572C78E3281B4453_element_382\")>,\n",
       " <selenium.webdriver.remote.webelement.WebElement (session=\"2cafe71a55db32e9af9289a069ba1d80\", element=\"1C30C952D0C1AD88572C78E3281B4453_element_383\")>,\n",
       " <selenium.webdriver.remote.webelement.WebElement (session=\"2cafe71a55db32e9af9289a069ba1d80\", element=\"1C30C952D0C1AD88572C78E3281B4453_element_384\")>,\n",
       " <selenium.webdriver.remote.webelement.WebElement (session=\"2cafe71a55db32e9af9289a069ba1d80\", element=\"1C30C952D0C1AD88572C78E3281B4453_element_385\")>,\n",
       " <selenium.webdriver.remote.webelement.WebElement (session=\"2cafe71a55db32e9af9289a069ba1d80\", element=\"1C30C952D0C1AD88572C78E3281B4453_element_386\")>,\n",
       " <selenium.webdriver.remote.webelement.WebElement (session=\"2cafe71a55db32e9af9289a069ba1d80\", element=\"1C30C952D0C1AD88572C78E3281B4453_element_387\")>,\n",
       " <selenium.webdriver.remote.webelement.WebElement (session=\"2cafe71a55db32e9af9289a069ba1d80\", element=\"1C30C952D0C1AD88572C78E3281B4453_element_388\")>,\n",
       " <selenium.webdriver.remote.webelement.WebElement (session=\"2cafe71a55db32e9af9289a069ba1d80\", element=\"1C30C952D0C1AD88572C78E3281B4453_element_389\")>,\n",
       " <selenium.webdriver.remote.webelement.WebElement (session=\"2cafe71a55db32e9af9289a069ba1d80\", element=\"1C30C952D0C1AD88572C78E3281B4453_element_390\")>,\n",
       " <selenium.webdriver.remote.webelement.WebElement (session=\"2cafe71a55db32e9af9289a069ba1d80\", element=\"1C30C952D0C1AD88572C78E3281B4453_element_391\")>,\n",
       " <selenium.webdriver.remote.webelement.WebElement (session=\"2cafe71a55db32e9af9289a069ba1d80\", element=\"1C30C952D0C1AD88572C78E3281B4453_element_392\")>,\n",
       " <selenium.webdriver.remote.webelement.WebElement (session=\"2cafe71a55db32e9af9289a069ba1d80\", element=\"1C30C952D0C1AD88572C78E3281B4453_element_393\")>,\n",
       " <selenium.webdriver.remote.webelement.WebElement (session=\"2cafe71a55db32e9af9289a069ba1d80\", element=\"1C30C952D0C1AD88572C78E3281B4453_element_394\")>,\n",
       " <selenium.webdriver.remote.webelement.WebElement (session=\"2cafe71a55db32e9af9289a069ba1d80\", element=\"1C30C952D0C1AD88572C78E3281B4453_element_395\")>,\n",
       " <selenium.webdriver.remote.webelement.WebElement (session=\"2cafe71a55db32e9af9289a069ba1d80\", element=\"1C30C952D0C1AD88572C78E3281B4453_element_396\")>,\n",
       " <selenium.webdriver.remote.webelement.WebElement (session=\"2cafe71a55db32e9af9289a069ba1d80\", element=\"1C30C952D0C1AD88572C78E3281B4453_element_397\")>,\n",
       " <selenium.webdriver.remote.webelement.WebElement (session=\"2cafe71a55db32e9af9289a069ba1d80\", element=\"1C30C952D0C1AD88572C78E3281B4453_element_398\")>,\n",
       " <selenium.webdriver.remote.webelement.WebElement (session=\"2cafe71a55db32e9af9289a069ba1d80\", element=\"1C30C952D0C1AD88572C78E3281B4453_element_399\")>,\n",
       " <selenium.webdriver.remote.webelement.WebElement (session=\"2cafe71a55db32e9af9289a069ba1d80\", element=\"1C30C952D0C1AD88572C78E3281B4453_element_400\")>,\n",
       " <selenium.webdriver.remote.webelement.WebElement (session=\"2cafe71a55db32e9af9289a069ba1d80\", element=\"1C30C952D0C1AD88572C78E3281B4453_element_401\")>,\n",
       " <selenium.webdriver.remote.webelement.WebElement (session=\"2cafe71a55db32e9af9289a069ba1d80\", element=\"1C30C952D0C1AD88572C78E3281B4453_element_402\")>,\n",
       " <selenium.webdriver.remote.webelement.WebElement (session=\"2cafe71a55db32e9af9289a069ba1d80\", element=\"1C30C952D0C1AD88572C78E3281B4453_element_403\")>,\n",
       " <selenium.webdriver.remote.webelement.WebElement (session=\"2cafe71a55db32e9af9289a069ba1d80\", element=\"1C30C952D0C1AD88572C78E3281B4453_element_404\")>,\n",
       " <selenium.webdriver.remote.webelement.WebElement (session=\"2cafe71a55db32e9af9289a069ba1d80\", element=\"1C30C952D0C1AD88572C78E3281B4453_element_405\")>,\n",
       " <selenium.webdriver.remote.webelement.WebElement (session=\"2cafe71a55db32e9af9289a069ba1d80\", element=\"1C30C952D0C1AD88572C78E3281B4453_element_406\")>,\n",
       " <selenium.webdriver.remote.webelement.WebElement (session=\"2cafe71a55db32e9af9289a069ba1d80\", element=\"1C30C952D0C1AD88572C78E3281B4453_element_407\")>,\n",
       " <selenium.webdriver.remote.webelement.WebElement (session=\"2cafe71a55db32e9af9289a069ba1d80\", element=\"1C30C952D0C1AD88572C78E3281B4453_element_408\")>,\n",
       " <selenium.webdriver.remote.webelement.WebElement (session=\"2cafe71a55db32e9af9289a069ba1d80\", element=\"1C30C952D0C1AD88572C78E3281B4453_element_409\")>,\n",
       " <selenium.webdriver.remote.webelement.WebElement (session=\"2cafe71a55db32e9af9289a069ba1d80\", element=\"1C30C952D0C1AD88572C78E3281B4453_element_410\")>,\n",
       " <selenium.webdriver.remote.webelement.WebElement (session=\"2cafe71a55db32e9af9289a069ba1d80\", element=\"1C30C952D0C1AD88572C78E3281B4453_element_411\")>,\n",
       " <selenium.webdriver.remote.webelement.WebElement (session=\"2cafe71a55db32e9af9289a069ba1d80\", element=\"1C30C952D0C1AD88572C78E3281B4453_element_412\")>,\n",
       " <selenium.webdriver.remote.webelement.WebElement (session=\"2cafe71a55db32e9af9289a069ba1d80\", element=\"1C30C952D0C1AD88572C78E3281B4453_element_413\")>,\n",
       " <selenium.webdriver.remote.webelement.WebElement (session=\"2cafe71a55db32e9af9289a069ba1d80\", element=\"1C30C952D0C1AD88572C78E3281B4453_element_414\")>,\n",
       " <selenium.webdriver.remote.webelement.WebElement (session=\"2cafe71a55db32e9af9289a069ba1d80\", element=\"1C30C952D0C1AD88572C78E3281B4453_element_415\")>,\n",
       " <selenium.webdriver.remote.webelement.WebElement (session=\"2cafe71a55db32e9af9289a069ba1d80\", element=\"1C30C952D0C1AD88572C78E3281B4453_element_416\")>,\n",
       " <selenium.webdriver.remote.webelement.WebElement (session=\"2cafe71a55db32e9af9289a069ba1d80\", element=\"1C30C952D0C1AD88572C78E3281B4453_element_417\")>,\n",
       " <selenium.webdriver.remote.webelement.WebElement (session=\"2cafe71a55db32e9af9289a069ba1d80\", element=\"1C30C952D0C1AD88572C78E3281B4453_element_418\")>,\n",
       " <selenium.webdriver.remote.webelement.WebElement (session=\"2cafe71a55db32e9af9289a069ba1d80\", element=\"1C30C952D0C1AD88572C78E3281B4453_element_419\")>,\n",
       " <selenium.webdriver.remote.webelement.WebElement (session=\"2cafe71a55db32e9af9289a069ba1d80\", element=\"1C30C952D0C1AD88572C78E3281B4453_element_420\")>,\n",
       " <selenium.webdriver.remote.webelement.WebElement (session=\"2cafe71a55db32e9af9289a069ba1d80\", element=\"1C30C952D0C1AD88572C78E3281B4453_element_421\")>,\n",
       " <selenium.webdriver.remote.webelement.WebElement (session=\"2cafe71a55db32e9af9289a069ba1d80\", element=\"1C30C952D0C1AD88572C78E3281B4453_element_422\")>,\n",
       " <selenium.webdriver.remote.webelement.WebElement (session=\"2cafe71a55db32e9af9289a069ba1d80\", element=\"1C30C952D0C1AD88572C78E3281B4453_element_423\")>,\n",
       " <selenium.webdriver.remote.webelement.WebElement (session=\"2cafe71a55db32e9af9289a069ba1d80\", element=\"1C30C952D0C1AD88572C78E3281B4453_element_424\")>,\n",
       " <selenium.webdriver.remote.webelement.WebElement (session=\"2cafe71a55db32e9af9289a069ba1d80\", element=\"1C30C952D0C1AD88572C78E3281B4453_element_425\")>,\n",
       " <selenium.webdriver.remote.webelement.WebElement (session=\"2cafe71a55db32e9af9289a069ba1d80\", element=\"1C30C952D0C1AD88572C78E3281B4453_element_426\")>,\n",
       " <selenium.webdriver.remote.webelement.WebElement (session=\"2cafe71a55db32e9af9289a069ba1d80\", element=\"1C30C952D0C1AD88572C78E3281B4453_element_427\")>,\n",
       " <selenium.webdriver.remote.webelement.WebElement (session=\"2cafe71a55db32e9af9289a069ba1d80\", element=\"1C30C952D0C1AD88572C78E3281B4453_element_428\")>,\n",
       " <selenium.webdriver.remote.webelement.WebElement (session=\"2cafe71a55db32e9af9289a069ba1d80\", element=\"1C30C952D0C1AD88572C78E3281B4453_element_429\")>,\n",
       " <selenium.webdriver.remote.webelement.WebElement (session=\"2cafe71a55db32e9af9289a069ba1d80\", element=\"1C30C952D0C1AD88572C78E3281B4453_element_430\")>,\n",
       " <selenium.webdriver.remote.webelement.WebElement (session=\"2cafe71a55db32e9af9289a069ba1d80\", element=\"1C30C952D0C1AD88572C78E3281B4453_element_431\")>,\n",
       " <selenium.webdriver.remote.webelement.WebElement (session=\"2cafe71a55db32e9af9289a069ba1d80\", element=\"1C30C952D0C1AD88572C78E3281B4453_element_432\")>,\n",
       " <selenium.webdriver.remote.webelement.WebElement (session=\"2cafe71a55db32e9af9289a069ba1d80\", element=\"1C30C952D0C1AD88572C78E3281B4453_element_433\")>,\n",
       " <selenium.webdriver.remote.webelement.WebElement (session=\"2cafe71a55db32e9af9289a069ba1d80\", element=\"1C30C952D0C1AD88572C78E3281B4453_element_434\")>,\n",
       " <selenium.webdriver.remote.webelement.WebElement (session=\"2cafe71a55db32e9af9289a069ba1d80\", element=\"1C30C952D0C1AD88572C78E3281B4453_element_435\")>,\n",
       " <selenium.webdriver.remote.webelement.WebElement (session=\"2cafe71a55db32e9af9289a069ba1d80\", element=\"1C30C952D0C1AD88572C78E3281B4453_element_436\")>,\n",
       " <selenium.webdriver.remote.webelement.WebElement (session=\"2cafe71a55db32e9af9289a069ba1d80\", element=\"1C30C952D0C1AD88572C78E3281B4453_element_437\")>,\n",
       " <selenium.webdriver.remote.webelement.WebElement (session=\"2cafe71a55db32e9af9289a069ba1d80\", element=\"1C30C952D0C1AD88572C78E3281B4453_element_438\")>,\n",
       " <selenium.webdriver.remote.webelement.WebElement (session=\"2cafe71a55db32e9af9289a069ba1d80\", element=\"1C30C952D0C1AD88572C78E3281B4453_element_439\")>,\n",
       " <selenium.webdriver.remote.webelement.WebElement (session=\"2cafe71a55db32e9af9289a069ba1d80\", element=\"1C30C952D0C1AD88572C78E3281B4453_element_440\")>,\n",
       " <selenium.webdriver.remote.webelement.WebElement (session=\"2cafe71a55db32e9af9289a069ba1d80\", element=\"1C30C952D0C1AD88572C78E3281B4453_element_441\")>,\n",
       " <selenium.webdriver.remote.webelement.WebElement (session=\"2cafe71a55db32e9af9289a069ba1d80\", element=\"1C30C952D0C1AD88572C78E3281B4453_element_442\")>,\n",
       " <selenium.webdriver.remote.webelement.WebElement (session=\"2cafe71a55db32e9af9289a069ba1d80\", element=\"1C30C952D0C1AD88572C78E3281B4453_element_443\")>,\n",
       " <selenium.webdriver.remote.webelement.WebElement (session=\"2cafe71a55db32e9af9289a069ba1d80\", element=\"1C30C952D0C1AD88572C78E3281B4453_element_444\")>,\n",
       " <selenium.webdriver.remote.webelement.WebElement (session=\"2cafe71a55db32e9af9289a069ba1d80\", element=\"1C30C952D0C1AD88572C78E3281B4453_element_445\")>,\n",
       " <selenium.webdriver.remote.webelement.WebElement (session=\"2cafe71a55db32e9af9289a069ba1d80\", element=\"1C30C952D0C1AD88572C78E3281B4453_element_446\")>,\n",
       " <selenium.webdriver.remote.webelement.WebElement (session=\"2cafe71a55db32e9af9289a069ba1d80\", element=\"1C30C952D0C1AD88572C78E3281B4453_element_447\")>,\n",
       " <selenium.webdriver.remote.webelement.WebElement (session=\"2cafe71a55db32e9af9289a069ba1d80\", element=\"1C30C952D0C1AD88572C78E3281B4453_element_448\")>,\n",
       " <selenium.webdriver.remote.webelement.WebElement (session=\"2cafe71a55db32e9af9289a069ba1d80\", element=\"1C30C952D0C1AD88572C78E3281B4453_element_449\")>,\n",
       " <selenium.webdriver.remote.webelement.WebElement (session=\"2cafe71a55db32e9af9289a069ba1d80\", element=\"1C30C952D0C1AD88572C78E3281B4453_element_450\")>,\n",
       " <selenium.webdriver.remote.webelement.WebElement (session=\"2cafe71a55db32e9af9289a069ba1d80\", element=\"1C30C952D0C1AD88572C78E3281B4453_element_451\")>,\n",
       " <selenium.webdriver.remote.webelement.WebElement (session=\"2cafe71a55db32e9af9289a069ba1d80\", element=\"1C30C952D0C1AD88572C78E3281B4453_element_452\")>,\n",
       " <selenium.webdriver.remote.webelement.WebElement (session=\"2cafe71a55db32e9af9289a069ba1d80\", element=\"1C30C952D0C1AD88572C78E3281B4453_element_453\")>,\n",
       " <selenium.webdriver.remote.webelement.WebElement (session=\"2cafe71a55db32e9af9289a069ba1d80\", element=\"1C30C952D0C1AD88572C78E3281B4453_element_454\")>,\n",
       " <selenium.webdriver.remote.webelement.WebElement (session=\"2cafe71a55db32e9af9289a069ba1d80\", element=\"1C30C952D0C1AD88572C78E3281B4453_element_455\")>,\n",
       " <selenium.webdriver.remote.webelement.WebElement (session=\"2cafe71a55db32e9af9289a069ba1d80\", element=\"1C30C952D0C1AD88572C78E3281B4453_element_456\")>,\n",
       " <selenium.webdriver.remote.webelement.WebElement (session=\"2cafe71a55db32e9af9289a069ba1d80\", element=\"1C30C952D0C1AD88572C78E3281B4453_element_457\")>,\n",
       " <selenium.webdriver.remote.webelement.WebElement (session=\"2cafe71a55db32e9af9289a069ba1d80\", element=\"1C30C952D0C1AD88572C78E3281B4453_element_458\")>,\n",
       " <selenium.webdriver.remote.webelement.WebElement (session=\"2cafe71a55db32e9af9289a069ba1d80\", element=\"1C30C952D0C1AD88572C78E3281B4453_element_459\")>,\n",
       " <selenium.webdriver.remote.webelement.WebElement (session=\"2cafe71a55db32e9af9289a069ba1d80\", element=\"1C30C952D0C1AD88572C78E3281B4453_element_460\")>,\n",
       " <selenium.webdriver.remote.webelement.WebElement (session=\"2cafe71a55db32e9af9289a069ba1d80\", element=\"1C30C952D0C1AD88572C78E3281B4453_element_461\")>,\n",
       " <selenium.webdriver.remote.webelement.WebElement (session=\"2cafe71a55db32e9af9289a069ba1d80\", element=\"1C30C952D0C1AD88572C78E3281B4453_element_462\")>,\n",
       " <selenium.webdriver.remote.webelement.WebElement (session=\"2cafe71a55db32e9af9289a069ba1d80\", element=\"1C30C952D0C1AD88572C78E3281B4453_element_463\")>,\n",
       " <selenium.webdriver.remote.webelement.WebElement (session=\"2cafe71a55db32e9af9289a069ba1d80\", element=\"1C30C952D0C1AD88572C78E3281B4453_element_464\")>,\n",
       " <selenium.webdriver.remote.webelement.WebElement (session=\"2cafe71a55db32e9af9289a069ba1d80\", element=\"1C30C952D0C1AD88572C78E3281B4453_element_465\")>,\n",
       " <selenium.webdriver.remote.webelement.WebElement (session=\"2cafe71a55db32e9af9289a069ba1d80\", element=\"1C30C952D0C1AD88572C78E3281B4453_element_466\")>,\n",
       " <selenium.webdriver.remote.webelement.WebElement (session=\"2cafe71a55db32e9af9289a069ba1d80\", element=\"1C30C952D0C1AD88572C78E3281B4453_element_467\")>,\n",
       " <selenium.webdriver.remote.webelement.WebElement (session=\"2cafe71a55db32e9af9289a069ba1d80\", element=\"1C30C952D0C1AD88572C78E3281B4453_element_468\")>,\n",
       " <selenium.webdriver.remote.webelement.WebElement (session=\"2cafe71a55db32e9af9289a069ba1d80\", element=\"1C30C952D0C1AD88572C78E3281B4453_element_469\")>,\n",
       " <selenium.webdriver.remote.webelement.WebElement (session=\"2cafe71a55db32e9af9289a069ba1d80\", element=\"1C30C952D0C1AD88572C78E3281B4453_element_470\")>,\n",
       " <selenium.webdriver.remote.webelement.WebElement (session=\"2cafe71a55db32e9af9289a069ba1d80\", element=\"1C30C952D0C1AD88572C78E3281B4453_element_471\")>,\n",
       " <selenium.webdriver.remote.webelement.WebElement (session=\"2cafe71a55db32e9af9289a069ba1d80\", element=\"1C30C952D0C1AD88572C78E3281B4453_element_472\")>,\n",
       " <selenium.webdriver.remote.webelement.WebElement (session=\"2cafe71a55db32e9af9289a069ba1d80\", element=\"1C30C952D0C1AD88572C78E3281B4453_element_473\")>,\n",
       " <selenium.webdriver.remote.webelement.WebElement (session=\"2cafe71a55db32e9af9289a069ba1d80\", element=\"1C30C952D0C1AD88572C78E3281B4453_element_474\")>,\n",
       " <selenium.webdriver.remote.webelement.WebElement (session=\"2cafe71a55db32e9af9289a069ba1d80\", element=\"1C30C952D0C1AD88572C78E3281B4453_element_475\")>,\n",
       " <selenium.webdriver.remote.webelement.WebElement (session=\"2cafe71a55db32e9af9289a069ba1d80\", element=\"1C30C952D0C1AD88572C78E3281B4453_element_476\")>,\n",
       " <selenium.webdriver.remote.webelement.WebElement (session=\"2cafe71a55db32e9af9289a069ba1d80\", element=\"1C30C952D0C1AD88572C78E3281B4453_element_477\")>,\n",
       " <selenium.webdriver.remote.webelement.WebElement (session=\"2cafe71a55db32e9af9289a069ba1d80\", element=\"1C30C952D0C1AD88572C78E3281B4453_element_478\")>,\n",
       " <selenium.webdriver.remote.webelement.WebElement (session=\"2cafe71a55db32e9af9289a069ba1d80\", element=\"1C30C952D0C1AD88572C78E3281B4453_element_479\")>,\n",
       " <selenium.webdriver.remote.webelement.WebElement (session=\"2cafe71a55db32e9af9289a069ba1d80\", element=\"1C30C952D0C1AD88572C78E3281B4453_element_480\")>,\n",
       " <selenium.webdriver.remote.webelement.WebElement (session=\"2cafe71a55db32e9af9289a069ba1d80\", element=\"1C30C952D0C1AD88572C78E3281B4453_element_481\")>,\n",
       " <selenium.webdriver.remote.webelement.WebElement (session=\"2cafe71a55db32e9af9289a069ba1d80\", element=\"1C30C952D0C1AD88572C78E3281B4453_element_482\")>,\n",
       " <selenium.webdriver.remote.webelement.WebElement (session=\"2cafe71a55db32e9af9289a069ba1d80\", element=\"1C30C952D0C1AD88572C78E3281B4453_element_483\")>,\n",
       " <selenium.webdriver.remote.webelement.WebElement (session=\"2cafe71a55db32e9af9289a069ba1d80\", element=\"1C30C952D0C1AD88572C78E3281B4453_element_484\")>,\n",
       " <selenium.webdriver.remote.webelement.WebElement (session=\"2cafe71a55db32e9af9289a069ba1d80\", element=\"1C30C952D0C1AD88572C78E3281B4453_element_485\")>,\n",
       " <selenium.webdriver.remote.webelement.WebElement (session=\"2cafe71a55db32e9af9289a069ba1d80\", element=\"1C30C952D0C1AD88572C78E3281B4453_element_486\")>,\n",
       " <selenium.webdriver.remote.webelement.WebElement (session=\"2cafe71a55db32e9af9289a069ba1d80\", element=\"1C30C952D0C1AD88572C78E3281B4453_element_487\")>,\n",
       " <selenium.webdriver.remote.webelement.WebElement (session=\"2cafe71a55db32e9af9289a069ba1d80\", element=\"1C30C952D0C1AD88572C78E3281B4453_element_488\")>,\n",
       " <selenium.webdriver.remote.webelement.WebElement (session=\"2cafe71a55db32e9af9289a069ba1d80\", element=\"1C30C952D0C1AD88572C78E3281B4453_element_489\")>,\n",
       " <selenium.webdriver.remote.webelement.WebElement (session=\"2cafe71a55db32e9af9289a069ba1d80\", element=\"1C30C952D0C1AD88572C78E3281B4453_element_490\")>,\n",
       " <selenium.webdriver.remote.webelement.WebElement (session=\"2cafe71a55db32e9af9289a069ba1d80\", element=\"1C30C952D0C1AD88572C78E3281B4453_element_491\")>,\n",
       " <selenium.webdriver.remote.webelement.WebElement (session=\"2cafe71a55db32e9af9289a069ba1d80\", element=\"1C30C952D0C1AD88572C78E3281B4453_element_492\")>,\n",
       " <selenium.webdriver.remote.webelement.WebElement (session=\"2cafe71a55db32e9af9289a069ba1d80\", element=\"1C30C952D0C1AD88572C78E3281B4453_element_493\")>,\n",
       " <selenium.webdriver.remote.webelement.WebElement (session=\"2cafe71a55db32e9af9289a069ba1d80\", element=\"1C30C952D0C1AD88572C78E3281B4453_element_494\")>,\n",
       " <selenium.webdriver.remote.webelement.WebElement (session=\"2cafe71a55db32e9af9289a069ba1d80\", element=\"1C30C952D0C1AD88572C78E3281B4453_element_495\")>,\n",
       " <selenium.webdriver.remote.webelement.WebElement (session=\"2cafe71a55db32e9af9289a069ba1d80\", element=\"1C30C952D0C1AD88572C78E3281B4453_element_496\")>,\n",
       " <selenium.webdriver.remote.webelement.WebElement (session=\"2cafe71a55db32e9af9289a069ba1d80\", element=\"1C30C952D0C1AD88572C78E3281B4453_element_497\")>,\n",
       " <selenium.webdriver.remote.webelement.WebElement (session=\"2cafe71a55db32e9af9289a069ba1d80\", element=\"1C30C952D0C1AD88572C78E3281B4453_element_498\")>,\n",
       " <selenium.webdriver.remote.webelement.WebElement (session=\"2cafe71a55db32e9af9289a069ba1d80\", element=\"1C30C952D0C1AD88572C78E3281B4453_element_499\")>,\n",
       " <selenium.webdriver.remote.webelement.WebElement (session=\"2cafe71a55db32e9af9289a069ba1d80\", element=\"1C30C952D0C1AD88572C78E3281B4453_element_500\")>,\n",
       " <selenium.webdriver.remote.webelement.WebElement (session=\"2cafe71a55db32e9af9289a069ba1d80\", element=\"1C30C952D0C1AD88572C78E3281B4453_element_501\")>,\n",
       " <selenium.webdriver.remote.webelement.WebElement (session=\"2cafe71a55db32e9af9289a069ba1d80\", element=\"1C30C952D0C1AD88572C78E3281B4453_element_502\")>,\n",
       " <selenium.webdriver.remote.webelement.WebElement (session=\"2cafe71a55db32e9af9289a069ba1d80\", element=\"1C30C952D0C1AD88572C78E3281B4453_element_503\")>,\n",
       " <selenium.webdriver.remote.webelement.WebElement (session=\"2cafe71a55db32e9af9289a069ba1d80\", element=\"1C30C952D0C1AD88572C78E3281B4453_element_504\")>,\n",
       " <selenium.webdriver.remote.webelement.WebElement (session=\"2cafe71a55db32e9af9289a069ba1d80\", element=\"1C30C952D0C1AD88572C78E3281B4453_element_505\")>,\n",
       " <selenium.webdriver.remote.webelement.WebElement (session=\"2cafe71a55db32e9af9289a069ba1d80\", element=\"1C30C952D0C1AD88572C78E3281B4453_element_506\")>,\n",
       " <selenium.webdriver.remote.webelement.WebElement (session=\"2cafe71a55db32e9af9289a069ba1d80\", element=\"1C30C952D0C1AD88572C78E3281B4453_element_507\")>,\n",
       " <selenium.webdriver.remote.webelement.WebElement (session=\"2cafe71a55db32e9af9289a069ba1d80\", element=\"1C30C952D0C1AD88572C78E3281B4453_element_508\")>,\n",
       " <selenium.webdriver.remote.webelement.WebElement (session=\"2cafe71a55db32e9af9289a069ba1d80\", element=\"1C30C952D0C1AD88572C78E3281B4453_element_509\")>,\n",
       " <selenium.webdriver.remote.webelement.WebElement (session=\"2cafe71a55db32e9af9289a069ba1d80\", element=\"1C30C952D0C1AD88572C78E3281B4453_element_510\")>,\n",
       " <selenium.webdriver.remote.webelement.WebElement (session=\"2cafe71a55db32e9af9289a069ba1d80\", element=\"1C30C952D0C1AD88572C78E3281B4453_element_511\")>,\n",
       " <selenium.webdriver.remote.webelement.WebElement (session=\"2cafe71a55db32e9af9289a069ba1d80\", element=\"1C30C952D0C1AD88572C78E3281B4453_element_512\")>,\n",
       " <selenium.webdriver.remote.webelement.WebElement (session=\"2cafe71a55db32e9af9289a069ba1d80\", element=\"1C30C952D0C1AD88572C78E3281B4453_element_513\")>,\n",
       " <selenium.webdriver.remote.webelement.WebElement (session=\"2cafe71a55db32e9af9289a069ba1d80\", element=\"1C30C952D0C1AD88572C78E3281B4453_element_514\")>,\n",
       " <selenium.webdriver.remote.webelement.WebElement (session=\"2cafe71a55db32e9af9289a069ba1d80\", element=\"1C30C952D0C1AD88572C78E3281B4453_element_515\")>,\n",
       " <selenium.webdriver.remote.webelement.WebElement (session=\"2cafe71a55db32e9af9289a069ba1d80\", element=\"1C30C952D0C1AD88572C78E3281B4453_element_516\")>,\n",
       " <selenium.webdriver.remote.webelement.WebElement (session=\"2cafe71a55db32e9af9289a069ba1d80\", element=\"1C30C952D0C1AD88572C78E3281B4453_element_517\")>,\n",
       " <selenium.webdriver.remote.webelement.WebElement (session=\"2cafe71a55db32e9af9289a069ba1d80\", element=\"1C30C952D0C1AD88572C78E3281B4453_element_518\")>,\n",
       " <selenium.webdriver.remote.webelement.WebElement (session=\"2cafe71a55db32e9af9289a069ba1d80\", element=\"1C30C952D0C1AD88572C78E3281B4453_element_519\")>,\n",
       " <selenium.webdriver.remote.webelement.WebElement (session=\"2cafe71a55db32e9af9289a069ba1d80\", element=\"1C30C952D0C1AD88572C78E3281B4453_element_520\")>,\n",
       " <selenium.webdriver.remote.webelement.WebElement (session=\"2cafe71a55db32e9af9289a069ba1d80\", element=\"1C30C952D0C1AD88572C78E3281B4453_element_521\")>,\n",
       " <selenium.webdriver.remote.webelement.WebElement (session=\"2cafe71a55db32e9af9289a069ba1d80\", element=\"1C30C952D0C1AD88572C78E3281B4453_element_522\")>,\n",
       " <selenium.webdriver.remote.webelement.WebElement (session=\"2cafe71a55db32e9af9289a069ba1d80\", element=\"1C30C952D0C1AD88572C78E3281B4453_element_523\")>,\n",
       " <selenium.webdriver.remote.webelement.WebElement (session=\"2cafe71a55db32e9af9289a069ba1d80\", element=\"1C30C952D0C1AD88572C78E3281B4453_element_524\")>,\n",
       " <selenium.webdriver.remote.webelement.WebElement (session=\"2cafe71a55db32e9af9289a069ba1d80\", element=\"1C30C952D0C1AD88572C78E3281B4453_element_525\")>,\n",
       " <selenium.webdriver.remote.webelement.WebElement (session=\"2cafe71a55db32e9af9289a069ba1d80\", element=\"1C30C952D0C1AD88572C78E3281B4453_element_526\")>,\n",
       " <selenium.webdriver.remote.webelement.WebElement (session=\"2cafe71a55db32e9af9289a069ba1d80\", element=\"1C30C952D0C1AD88572C78E3281B4453_element_527\")>,\n",
       " <selenium.webdriver.remote.webelement.WebElement (session=\"2cafe71a55db32e9af9289a069ba1d80\", element=\"1C30C952D0C1AD88572C78E3281B4453_element_528\")>,\n",
       " <selenium.webdriver.remote.webelement.WebElement (session=\"2cafe71a55db32e9af9289a069ba1d80\", element=\"1C30C952D0C1AD88572C78E3281B4453_element_529\")>,\n",
       " <selenium.webdriver.remote.webelement.WebElement (session=\"2cafe71a55db32e9af9289a069ba1d80\", element=\"1C30C952D0C1AD88572C78E3281B4453_element_530\")>,\n",
       " <selenium.webdriver.remote.webelement.WebElement (session=\"2cafe71a55db32e9af9289a069ba1d80\", element=\"1C30C952D0C1AD88572C78E3281B4453_element_531\")>,\n",
       " <selenium.webdriver.remote.webelement.WebElement (session=\"2cafe71a55db32e9af9289a069ba1d80\", element=\"1C30C952D0C1AD88572C78E3281B4453_element_532\")>,\n",
       " <selenium.webdriver.remote.webelement.WebElement (session=\"2cafe71a55db32e9af9289a069ba1d80\", element=\"1C30C952D0C1AD88572C78E3281B4453_element_533\")>,\n",
       " <selenium.webdriver.remote.webelement.WebElement (session=\"2cafe71a55db32e9af9289a069ba1d80\", element=\"1C30C952D0C1AD88572C78E3281B4453_element_534\")>,\n",
       " <selenium.webdriver.remote.webelement.WebElement (session=\"2cafe71a55db32e9af9289a069ba1d80\", element=\"1C30C952D0C1AD88572C78E3281B4453_element_535\")>,\n",
       " <selenium.webdriver.remote.webelement.WebElement (session=\"2cafe71a55db32e9af9289a069ba1d80\", element=\"1C30C952D0C1AD88572C78E3281B4453_element_536\")>,\n",
       " <selenium.webdriver.remote.webelement.WebElement (session=\"2cafe71a55db32e9af9289a069ba1d80\", element=\"1C30C952D0C1AD88572C78E3281B4453_element_537\")>,\n",
       " <selenium.webdriver.remote.webelement.WebElement (session=\"2cafe71a55db32e9af9289a069ba1d80\", element=\"1C30C952D0C1AD88572C78E3281B4453_element_538\")>,\n",
       " <selenium.webdriver.remote.webelement.WebElement (session=\"2cafe71a55db32e9af9289a069ba1d80\", element=\"1C30C952D0C1AD88572C78E3281B4453_element_539\")>,\n",
       " <selenium.webdriver.remote.webelement.WebElement (session=\"2cafe71a55db32e9af9289a069ba1d80\", element=\"1C30C952D0C1AD88572C78E3281B4453_element_540\")>,\n",
       " <selenium.webdriver.remote.webelement.WebElement (session=\"2cafe71a55db32e9af9289a069ba1d80\", element=\"1C30C952D0C1AD88572C78E3281B4453_element_541\")>,\n",
       " <selenium.webdriver.remote.webelement.WebElement (session=\"2cafe71a55db32e9af9289a069ba1d80\", element=\"1C30C952D0C1AD88572C78E3281B4453_element_542\")>,\n",
       " <selenium.webdriver.remote.webelement.WebElement (session=\"2cafe71a55db32e9af9289a069ba1d80\", element=\"1C30C952D0C1AD88572C78E3281B4453_element_543\")>,\n",
       " <selenium.webdriver.remote.webelement.WebElement (session=\"2cafe71a55db32e9af9289a069ba1d80\", element=\"1C30C952D0C1AD88572C78E3281B4453_element_544\")>,\n",
       " <selenium.webdriver.remote.webelement.WebElement (session=\"2cafe71a55db32e9af9289a069ba1d80\", element=\"1C30C952D0C1AD88572C78E3281B4453_element_545\")>,\n",
       " <selenium.webdriver.remote.webelement.WebElement (session=\"2cafe71a55db32e9af9289a069ba1d80\", element=\"1C30C952D0C1AD88572C78E3281B4453_element_546\")>,\n",
       " <selenium.webdriver.remote.webelement.WebElement (session=\"2cafe71a55db32e9af9289a069ba1d80\", element=\"1C30C952D0C1AD88572C78E3281B4453_element_547\")>,\n",
       " <selenium.webdriver.remote.webelement.WebElement (session=\"2cafe71a55db32e9af9289a069ba1d80\", element=\"1C30C952D0C1AD88572C78E3281B4453_element_548\")>,\n",
       " <selenium.webdriver.remote.webelement.WebElement (session=\"2cafe71a55db32e9af9289a069ba1d80\", element=\"1C30C952D0C1AD88572C78E3281B4453_element_549\")>,\n",
       " <selenium.webdriver.remote.webelement.WebElement (session=\"2cafe71a55db32e9af9289a069ba1d80\", element=\"1C30C952D0C1AD88572C78E3281B4453_element_550\")>,\n",
       " <selenium.webdriver.remote.webelement.WebElement (session=\"2cafe71a55db32e9af9289a069ba1d80\", element=\"1C30C952D0C1AD88572C78E3281B4453_element_551\")>,\n",
       " <selenium.webdriver.remote.webelement.WebElement (session=\"2cafe71a55db32e9af9289a069ba1d80\", element=\"1C30C952D0C1AD88572C78E3281B4453_element_552\")>,\n",
       " <selenium.webdriver.remote.webelement.WebElement (session=\"2cafe71a55db32e9af9289a069ba1d80\", element=\"1C30C952D0C1AD88572C78E3281B4453_element_553\")>,\n",
       " <selenium.webdriver.remote.webelement.WebElement (session=\"2cafe71a55db32e9af9289a069ba1d80\", element=\"1C30C952D0C1AD88572C78E3281B4453_element_554\")>,\n",
       " <selenium.webdriver.remote.webelement.WebElement (session=\"2cafe71a55db32e9af9289a069ba1d80\", element=\"1C30C952D0C1AD88572C78E3281B4453_element_555\")>,\n",
       " <selenium.webdriver.remote.webelement.WebElement (session=\"2cafe71a55db32e9af9289a069ba1d80\", element=\"1C30C952D0C1AD88572C78E3281B4453_element_556\")>,\n",
       " <selenium.webdriver.remote.webelement.WebElement (session=\"2cafe71a55db32e9af9289a069ba1d80\", element=\"1C30C952D0C1AD88572C78E3281B4453_element_557\")>,\n",
       " <selenium.webdriver.remote.webelement.WebElement (session=\"2cafe71a55db32e9af9289a069ba1d80\", element=\"1C30C952D0C1AD88572C78E3281B4453_element_558\")>,\n",
       " <selenium.webdriver.remote.webelement.WebElement (session=\"2cafe71a55db32e9af9289a069ba1d80\", element=\"1C30C952D0C1AD88572C78E3281B4453_element_559\")>,\n",
       " <selenium.webdriver.remote.webelement.WebElement (session=\"2cafe71a55db32e9af9289a069ba1d80\", element=\"1C30C952D0C1AD88572C78E3281B4453_element_560\")>,\n",
       " <selenium.webdriver.remote.webelement.WebElement (session=\"2cafe71a55db32e9af9289a069ba1d80\", element=\"1C30C952D0C1AD88572C78E3281B4453_element_561\")>,\n",
       " <selenium.webdriver.remote.webelement.WebElement (session=\"2cafe71a55db32e9af9289a069ba1d80\", element=\"1C30C952D0C1AD88572C78E3281B4453_element_562\")>,\n",
       " <selenium.webdriver.remote.webelement.WebElement (session=\"2cafe71a55db32e9af9289a069ba1d80\", element=\"1C30C952D0C1AD88572C78E3281B4453_element_563\")>,\n",
       " <selenium.webdriver.remote.webelement.WebElement (session=\"2cafe71a55db32e9af9289a069ba1d80\", element=\"1C30C952D0C1AD88572C78E3281B4453_element_564\")>,\n",
       " <selenium.webdriver.remote.webelement.WebElement (session=\"2cafe71a55db32e9af9289a069ba1d80\", element=\"1C30C952D0C1AD88572C78E3281B4453_element_565\")>,\n",
       " <selenium.webdriver.remote.webelement.WebElement (session=\"2cafe71a55db32e9af9289a069ba1d80\", element=\"1C30C952D0C1AD88572C78E3281B4453_element_566\")>,\n",
       " <selenium.webdriver.remote.webelement.WebElement (session=\"2cafe71a55db32e9af9289a069ba1d80\", element=\"1C30C952D0C1AD88572C78E3281B4453_element_567\")>,\n",
       " <selenium.webdriver.remote.webelement.WebElement (session=\"2cafe71a55db32e9af9289a069ba1d80\", element=\"1C30C952D0C1AD88572C78E3281B4453_element_568\")>,\n",
       " <selenium.webdriver.remote.webelement.WebElement (session=\"2cafe71a55db32e9af9289a069ba1d80\", element=\"1C30C952D0C1AD88572C78E3281B4453_element_569\")>,\n",
       " <selenium.webdriver.remote.webelement.WebElement (session=\"2cafe71a55db32e9af9289a069ba1d80\", element=\"1C30C952D0C1AD88572C78E3281B4453_element_570\")>,\n",
       " <selenium.webdriver.remote.webelement.WebElement (session=\"2cafe71a55db32e9af9289a069ba1d80\", element=\"1C30C952D0C1AD88572C78E3281B4453_element_571\")>,\n",
       " <selenium.webdriver.remote.webelement.WebElement (session=\"2cafe71a55db32e9af9289a069ba1d80\", element=\"1C30C952D0C1AD88572C78E3281B4453_element_572\")>,\n",
       " <selenium.webdriver.remote.webelement.WebElement (session=\"2cafe71a55db32e9af9289a069ba1d80\", element=\"1C30C952D0C1AD88572C78E3281B4453_element_573\")>,\n",
       " <selenium.webdriver.remote.webelement.WebElement (session=\"2cafe71a55db32e9af9289a069ba1d80\", element=\"1C30C952D0C1AD88572C78E3281B4453_element_574\")>,\n",
       " <selenium.webdriver.remote.webelement.WebElement (session=\"2cafe71a55db32e9af9289a069ba1d80\", element=\"1C30C952D0C1AD88572C78E3281B4453_element_575\")>,\n",
       " <selenium.webdriver.remote.webelement.WebElement (session=\"2cafe71a55db32e9af9289a069ba1d80\", element=\"1C30C952D0C1AD88572C78E3281B4453_element_576\")>,\n",
       " <selenium.webdriver.remote.webelement.WebElement (session=\"2cafe71a55db32e9af9289a069ba1d80\", element=\"1C30C952D0C1AD88572C78E3281B4453_element_577\")>,\n",
       " <selenium.webdriver.remote.webelement.WebElement (session=\"2cafe71a55db32e9af9289a069ba1d80\", element=\"1C30C952D0C1AD88572C78E3281B4453_element_578\")>,\n",
       " <selenium.webdriver.remote.webelement.WebElement (session=\"2cafe71a55db32e9af9289a069ba1d80\", element=\"1C30C952D0C1AD88572C78E3281B4453_element_579\")>,\n",
       " <selenium.webdriver.remote.webelement.WebElement (session=\"2cafe71a55db32e9af9289a069ba1d80\", element=\"1C30C952D0C1AD88572C78E3281B4453_element_580\")>,\n",
       " <selenium.webdriver.remote.webelement.WebElement (session=\"2cafe71a55db32e9af9289a069ba1d80\", element=\"1C30C952D0C1AD88572C78E3281B4453_element_581\")>,\n",
       " <selenium.webdriver.remote.webelement.WebElement (session=\"2cafe71a55db32e9af9289a069ba1d80\", element=\"1C30C952D0C1AD88572C78E3281B4453_element_582\")>,\n",
       " <selenium.webdriver.remote.webelement.WebElement (session=\"2cafe71a55db32e9af9289a069ba1d80\", element=\"1C30C952D0C1AD88572C78E3281B4453_element_583\")>,\n",
       " <selenium.webdriver.remote.webelement.WebElement (session=\"2cafe71a55db32e9af9289a069ba1d80\", element=\"1C30C952D0C1AD88572C78E3281B4453_element_584\")>,\n",
       " <selenium.webdriver.remote.webelement.WebElement (session=\"2cafe71a55db32e9af9289a069ba1d80\", element=\"1C30C952D0C1AD88572C78E3281B4453_element_585\")>,\n",
       " <selenium.webdriver.remote.webelement.WebElement (session=\"2cafe71a55db32e9af9289a069ba1d80\", element=\"1C30C952D0C1AD88572C78E3281B4453_element_586\")>,\n",
       " <selenium.webdriver.remote.webelement.WebElement (session=\"2cafe71a55db32e9af9289a069ba1d80\", element=\"1C30C952D0C1AD88572C78E3281B4453_element_587\")>,\n",
       " <selenium.webdriver.remote.webelement.WebElement (session=\"2cafe71a55db32e9af9289a069ba1d80\", element=\"1C30C952D0C1AD88572C78E3281B4453_element_588\")>,\n",
       " <selenium.webdriver.remote.webelement.WebElement (session=\"2cafe71a55db32e9af9289a069ba1d80\", element=\"1C30C952D0C1AD88572C78E3281B4453_element_589\")>,\n",
       " <selenium.webdriver.remote.webelement.WebElement (session=\"2cafe71a55db32e9af9289a069ba1d80\", element=\"1C30C952D0C1AD88572C78E3281B4453_element_590\")>,\n",
       " <selenium.webdriver.remote.webelement.WebElement (session=\"2cafe71a55db32e9af9289a069ba1d80\", element=\"1C30C952D0C1AD88572C78E3281B4453_element_591\")>,\n",
       " <selenium.webdriver.remote.webelement.WebElement (session=\"2cafe71a55db32e9af9289a069ba1d80\", element=\"1C30C952D0C1AD88572C78E3281B4453_element_592\")>,\n",
       " <selenium.webdriver.remote.webelement.WebElement (session=\"2cafe71a55db32e9af9289a069ba1d80\", element=\"1C30C952D0C1AD88572C78E3281B4453_element_593\")>,\n",
       " <selenium.webdriver.remote.webelement.WebElement (session=\"2cafe71a55db32e9af9289a069ba1d80\", element=\"1C30C952D0C1AD88572C78E3281B4453_element_594\")>,\n",
       " <selenium.webdriver.remote.webelement.WebElement (session=\"2cafe71a55db32e9af9289a069ba1d80\", element=\"1C30C952D0C1AD88572C78E3281B4453_element_595\")>,\n",
       " <selenium.webdriver.remote.webelement.WebElement (session=\"2cafe71a55db32e9af9289a069ba1d80\", element=\"1C30C952D0C1AD88572C78E3281B4453_element_596\")>,\n",
       " <selenium.webdriver.remote.webelement.WebElement (session=\"2cafe71a55db32e9af9289a069ba1d80\", element=\"1C30C952D0C1AD88572C78E3281B4453_element_597\")>,\n",
       " <selenium.webdriver.remote.webelement.WebElement (session=\"2cafe71a55db32e9af9289a069ba1d80\", element=\"1C30C952D0C1AD88572C78E3281B4453_element_598\")>,\n",
       " <selenium.webdriver.remote.webelement.WebElement (session=\"2cafe71a55db32e9af9289a069ba1d80\", element=\"1C30C952D0C1AD88572C78E3281B4453_element_599\")>,\n",
       " <selenium.webdriver.remote.webelement.WebElement (session=\"2cafe71a55db32e9af9289a069ba1d80\", element=\"1C30C952D0C1AD88572C78E3281B4453_element_600\")>,\n",
       " <selenium.webdriver.remote.webelement.WebElement (session=\"2cafe71a55db32e9af9289a069ba1d80\", element=\"1C30C952D0C1AD88572C78E3281B4453_element_601\")>,\n",
       " <selenium.webdriver.remote.webelement.WebElement (session=\"2cafe71a55db32e9af9289a069ba1d80\", element=\"1C30C952D0C1AD88572C78E3281B4453_element_602\")>,\n",
       " <selenium.webdriver.remote.webelement.WebElement (session=\"2cafe71a55db32e9af9289a069ba1d80\", element=\"1C30C952D0C1AD88572C78E3281B4453_element_603\")>,\n",
       " <selenium.webdriver.remote.webelement.WebElement (session=\"2cafe71a55db32e9af9289a069ba1d80\", element=\"1C30C952D0C1AD88572C78E3281B4453_element_604\")>,\n",
       " <selenium.webdriver.remote.webelement.WebElement (session=\"2cafe71a55db32e9af9289a069ba1d80\", element=\"1C30C952D0C1AD88572C78E3281B4453_element_605\")>,\n",
       " <selenium.webdriver.remote.webelement.WebElement (session=\"2cafe71a55db32e9af9289a069ba1d80\", element=\"1C30C952D0C1AD88572C78E3281B4453_element_606\")>,\n",
       " <selenium.webdriver.remote.webelement.WebElement (session=\"2cafe71a55db32e9af9289a069ba1d80\", element=\"1C30C952D0C1AD88572C78E3281B4453_element_607\")>,\n",
       " <selenium.webdriver.remote.webelement.WebElement (session=\"2cafe71a55db32e9af9289a069ba1d80\", element=\"1C30C952D0C1AD88572C78E3281B4453_element_608\")>,\n",
       " <selenium.webdriver.remote.webelement.WebElement (session=\"2cafe71a55db32e9af9289a069ba1d80\", element=\"1C30C952D0C1AD88572C78E3281B4453_element_609\")>,\n",
       " <selenium.webdriver.remote.webelement.WebElement (session=\"2cafe71a55db32e9af9289a069ba1d80\", element=\"1C30C952D0C1AD88572C78E3281B4453_element_610\")>,\n",
       " <selenium.webdriver.remote.webelement.WebElement (session=\"2cafe71a55db32e9af9289a069ba1d80\", element=\"1C30C952D0C1AD88572C78E3281B4453_element_611\")>,\n",
       " <selenium.webdriver.remote.webelement.WebElement (session=\"2cafe71a55db32e9af9289a069ba1d80\", element=\"1C30C952D0C1AD88572C78E3281B4453_element_612\")>,\n",
       " <selenium.webdriver.remote.webelement.WebElement (session=\"2cafe71a55db32e9af9289a069ba1d80\", element=\"1C30C952D0C1AD88572C78E3281B4453_element_613\")>,\n",
       " <selenium.webdriver.remote.webelement.WebElement (session=\"2cafe71a55db32e9af9289a069ba1d80\", element=\"1C30C952D0C1AD88572C78E3281B4453_element_614\")>,\n",
       " <selenium.webdriver.remote.webelement.WebElement (session=\"2cafe71a55db32e9af9289a069ba1d80\", element=\"1C30C952D0C1AD88572C78E3281B4453_element_615\")>,\n",
       " <selenium.webdriver.remote.webelement.WebElement (session=\"2cafe71a55db32e9af9289a069ba1d80\", element=\"1C30C952D0C1AD88572C78E3281B4453_element_616\")>,\n",
       " <selenium.webdriver.remote.webelement.WebElement (session=\"2cafe71a55db32e9af9289a069ba1d80\", element=\"1C30C952D0C1AD88572C78E3281B4453_element_617\")>,\n",
       " <selenium.webdriver.remote.webelement.WebElement (session=\"2cafe71a55db32e9af9289a069ba1d80\", element=\"1C30C952D0C1AD88572C78E3281B4453_element_618\")>,\n",
       " <selenium.webdriver.remote.webelement.WebElement (session=\"2cafe71a55db32e9af9289a069ba1d80\", element=\"1C30C952D0C1AD88572C78E3281B4453_element_619\")>,\n",
       " <selenium.webdriver.remote.webelement.WebElement (session=\"2cafe71a55db32e9af9289a069ba1d80\", element=\"1C30C952D0C1AD88572C78E3281B4453_element_620\")>,\n",
       " <selenium.webdriver.remote.webelement.WebElement (session=\"2cafe71a55db32e9af9289a069ba1d80\", element=\"1C30C952D0C1AD88572C78E3281B4453_element_621\")>,\n",
       " <selenium.webdriver.remote.webelement.WebElement (session=\"2cafe71a55db32e9af9289a069ba1d80\", element=\"1C30C952D0C1AD88572C78E3281B4453_element_622\")>,\n",
       " <selenium.webdriver.remote.webelement.WebElement (session=\"2cafe71a55db32e9af9289a069ba1d80\", element=\"1C30C952D0C1AD88572C78E3281B4453_element_623\")>,\n",
       " <selenium.webdriver.remote.webelement.WebElement (session=\"2cafe71a55db32e9af9289a069ba1d80\", element=\"1C30C952D0C1AD88572C78E3281B4453_element_624\")>,\n",
       " <selenium.webdriver.remote.webelement.WebElement (session=\"2cafe71a55db32e9af9289a069ba1d80\", element=\"1C30C952D0C1AD88572C78E3281B4453_element_625\")>,\n",
       " <selenium.webdriver.remote.webelement.WebElement (session=\"2cafe71a55db32e9af9289a069ba1d80\", element=\"1C30C952D0C1AD88572C78E3281B4453_element_626\")>,\n",
       " <selenium.webdriver.remote.webelement.WebElement (session=\"2cafe71a55db32e9af9289a069ba1d80\", element=\"1C30C952D0C1AD88572C78E3281B4453_element_627\")>,\n",
       " <selenium.webdriver.remote.webelement.WebElement (session=\"2cafe71a55db32e9af9289a069ba1d80\", element=\"1C30C952D0C1AD88572C78E3281B4453_element_628\")>,\n",
       " <selenium.webdriver.remote.webelement.WebElement (session=\"2cafe71a55db32e9af9289a069ba1d80\", element=\"1C30C952D0C1AD88572C78E3281B4453_element_629\")>,\n",
       " <selenium.webdriver.remote.webelement.WebElement (session=\"2cafe71a55db32e9af9289a069ba1d80\", element=\"1C30C952D0C1AD88572C78E3281B4453_element_630\")>,\n",
       " <selenium.webdriver.remote.webelement.WebElement (session=\"2cafe71a55db32e9af9289a069ba1d80\", element=\"1C30C952D0C1AD88572C78E3281B4453_element_631\")>,\n",
       " <selenium.webdriver.remote.webelement.WebElement (session=\"2cafe71a55db32e9af9289a069ba1d80\", element=\"1C30C952D0C1AD88572C78E3281B4453_element_632\")>,\n",
       " <selenium.webdriver.remote.webelement.WebElement (session=\"2cafe71a55db32e9af9289a069ba1d80\", element=\"1C30C952D0C1AD88572C78E3281B4453_element_633\")>,\n",
       " <selenium.webdriver.remote.webelement.WebElement (session=\"2cafe71a55db32e9af9289a069ba1d80\", element=\"1C30C952D0C1AD88572C78E3281B4453_element_634\")>,\n",
       " <selenium.webdriver.remote.webelement.WebElement (session=\"2cafe71a55db32e9af9289a069ba1d80\", element=\"1C30C952D0C1AD88572C78E3281B4453_element_635\")>,\n",
       " <selenium.webdriver.remote.webelement.WebElement (session=\"2cafe71a55db32e9af9289a069ba1d80\", element=\"1C30C952D0C1AD88572C78E3281B4453_element_636\")>,\n",
       " <selenium.webdriver.remote.webelement.WebElement (session=\"2cafe71a55db32e9af9289a069ba1d80\", element=\"1C30C952D0C1AD88572C78E3281B4453_element_637\")>,\n",
       " <selenium.webdriver.remote.webelement.WebElement (session=\"2cafe71a55db32e9af9289a069ba1d80\", element=\"1C30C952D0C1AD88572C78E3281B4453_element_638\")>,\n",
       " <selenium.webdriver.remote.webelement.WebElement (session=\"2cafe71a55db32e9af9289a069ba1d80\", element=\"1C30C952D0C1AD88572C78E3281B4453_element_639\")>,\n",
       " <selenium.webdriver.remote.webelement.WebElement (session=\"2cafe71a55db32e9af9289a069ba1d80\", element=\"1C30C952D0C1AD88572C78E3281B4453_element_640\")>,\n",
       " <selenium.webdriver.remote.webelement.WebElement (session=\"2cafe71a55db32e9af9289a069ba1d80\", element=\"1C30C952D0C1AD88572C78E3281B4453_element_641\")>,\n",
       " <selenium.webdriver.remote.webelement.WebElement (session=\"2cafe71a55db32e9af9289a069ba1d80\", element=\"1C30C952D0C1AD88572C78E3281B4453_element_642\")>,\n",
       " <selenium.webdriver.remote.webelement.WebElement (session=\"2cafe71a55db32e9af9289a069ba1d80\", element=\"1C30C952D0C1AD88572C78E3281B4453_element_643\")>,\n",
       " <selenium.webdriver.remote.webelement.WebElement (session=\"2cafe71a55db32e9af9289a069ba1d80\", element=\"1C30C952D0C1AD88572C78E3281B4453_element_644\")>,\n",
       " <selenium.webdriver.remote.webelement.WebElement (session=\"2cafe71a55db32e9af9289a069ba1d80\", element=\"1C30C952D0C1AD88572C78E3281B4453_element_645\")>,\n",
       " <selenium.webdriver.remote.webelement.WebElement (session=\"2cafe71a55db32e9af9289a069ba1d80\", element=\"1C30C952D0C1AD88572C78E3281B4453_element_646\")>,\n",
       " <selenium.webdriver.remote.webelement.WebElement (session=\"2cafe71a55db32e9af9289a069ba1d80\", element=\"1C30C952D0C1AD88572C78E3281B4453_element_647\")>,\n",
       " <selenium.webdriver.remote.webelement.WebElement (session=\"2cafe71a55db32e9af9289a069ba1d80\", element=\"1C30C952D0C1AD88572C78E3281B4453_element_648\")>,\n",
       " <selenium.webdriver.remote.webelement.WebElement (session=\"2cafe71a55db32e9af9289a069ba1d80\", element=\"1C30C952D0C1AD88572C78E3281B4453_element_649\")>,\n",
       " <selenium.webdriver.remote.webelement.WebElement (session=\"2cafe71a55db32e9af9289a069ba1d80\", element=\"1C30C952D0C1AD88572C78E3281B4453_element_650\")>,\n",
       " <selenium.webdriver.remote.webelement.WebElement (session=\"2cafe71a55db32e9af9289a069ba1d80\", element=\"1C30C952D0C1AD88572C78E3281B4453_element_651\")>,\n",
       " <selenium.webdriver.remote.webelement.WebElement (session=\"2cafe71a55db32e9af9289a069ba1d80\", element=\"1C30C952D0C1AD88572C78E3281B4453_element_652\")>,\n",
       " <selenium.webdriver.remote.webelement.WebElement (session=\"2cafe71a55db32e9af9289a069ba1d80\", element=\"1C30C952D0C1AD88572C78E3281B4453_element_653\")>,\n",
       " <selenium.webdriver.remote.webelement.WebElement (session=\"2cafe71a55db32e9af9289a069ba1d80\", element=\"1C30C952D0C1AD88572C78E3281B4453_element_654\")>,\n",
       " <selenium.webdriver.remote.webelement.WebElement (session=\"2cafe71a55db32e9af9289a069ba1d80\", element=\"1C30C952D0C1AD88572C78E3281B4453_element_655\")>,\n",
       " <selenium.webdriver.remote.webelement.WebElement (session=\"2cafe71a55db32e9af9289a069ba1d80\", element=\"1C30C952D0C1AD88572C78E3281B4453_element_656\")>,\n",
       " <selenium.webdriver.remote.webelement.WebElement (session=\"2cafe71a55db32e9af9289a069ba1d80\", element=\"1C30C952D0C1AD88572C78E3281B4453_element_657\")>,\n",
       " <selenium.webdriver.remote.webelement.WebElement (session=\"2cafe71a55db32e9af9289a069ba1d80\", element=\"1C30C952D0C1AD88572C78E3281B4453_element_658\")>,\n",
       " <selenium.webdriver.remote.webelement.WebElement (session=\"2cafe71a55db32e9af9289a069ba1d80\", element=\"1C30C952D0C1AD88572C78E3281B4453_element_659\")>,\n",
       " <selenium.webdriver.remote.webelement.WebElement (session=\"2cafe71a55db32e9af9289a069ba1d80\", element=\"1C30C952D0C1AD88572C78E3281B4453_element_660\")>,\n",
       " <selenium.webdriver.remote.webelement.WebElement (session=\"2cafe71a55db32e9af9289a069ba1d80\", element=\"1C30C952D0C1AD88572C78E3281B4453_element_661\")>,\n",
       " <selenium.webdriver.remote.webelement.WebElement (session=\"2cafe71a55db32e9af9289a069ba1d80\", element=\"1C30C952D0C1AD88572C78E3281B4453_element_662\")>,\n",
       " <selenium.webdriver.remote.webelement.WebElement (session=\"2cafe71a55db32e9af9289a069ba1d80\", element=\"1C30C952D0C1AD88572C78E3281B4453_element_663\")>,\n",
       " <selenium.webdriver.remote.webelement.WebElement (session=\"2cafe71a55db32e9af9289a069ba1d80\", element=\"1C30C952D0C1AD88572C78E3281B4453_element_664\")>,\n",
       " <selenium.webdriver.remote.webelement.WebElement (session=\"2cafe71a55db32e9af9289a069ba1d80\", element=\"1C30C952D0C1AD88572C78E3281B4453_element_665\")>,\n",
       " <selenium.webdriver.remote.webelement.WebElement (session=\"2cafe71a55db32e9af9289a069ba1d80\", element=\"1C30C952D0C1AD88572C78E3281B4453_element_666\")>,\n",
       " <selenium.webdriver.remote.webelement.WebElement (session=\"2cafe71a55db32e9af9289a069ba1d80\", element=\"1C30C952D0C1AD88572C78E3281B4453_element_667\")>,\n",
       " <selenium.webdriver.remote.webelement.WebElement (session=\"2cafe71a55db32e9af9289a069ba1d80\", element=\"1C30C952D0C1AD88572C78E3281B4453_element_668\")>,\n",
       " <selenium.webdriver.remote.webelement.WebElement (session=\"2cafe71a55db32e9af9289a069ba1d80\", element=\"1C30C952D0C1AD88572C78E3281B4453_element_669\")>,\n",
       " <selenium.webdriver.remote.webelement.WebElement (session=\"2cafe71a55db32e9af9289a069ba1d80\", element=\"1C30C952D0C1AD88572C78E3281B4453_element_670\")>,\n",
       " <selenium.webdriver.remote.webelement.WebElement (session=\"2cafe71a55db32e9af9289a069ba1d80\", element=\"1C30C952D0C1AD88572C78E3281B4453_element_671\")>,\n",
       " <selenium.webdriver.remote.webelement.WebElement (session=\"2cafe71a55db32e9af9289a069ba1d80\", element=\"1C30C952D0C1AD88572C78E3281B4453_element_672\")>,\n",
       " <selenium.webdriver.remote.webelement.WebElement (session=\"2cafe71a55db32e9af9289a069ba1d80\", element=\"1C30C952D0C1AD88572C78E3281B4453_element_673\")>,\n",
       " <selenium.webdriver.remote.webelement.WebElement (session=\"2cafe71a55db32e9af9289a069ba1d80\", element=\"1C30C952D0C1AD88572C78E3281B4453_element_674\")>,\n",
       " <selenium.webdriver.remote.webelement.WebElement (session=\"2cafe71a55db32e9af9289a069ba1d80\", element=\"1C30C952D0C1AD88572C78E3281B4453_element_675\")>,\n",
       " <selenium.webdriver.remote.webelement.WebElement (session=\"2cafe71a55db32e9af9289a069ba1d80\", element=\"1C30C952D0C1AD88572C78E3281B4453_element_676\")>,\n",
       " <selenium.webdriver.remote.webelement.WebElement (session=\"2cafe71a55db32e9af9289a069ba1d80\", element=\"1C30C952D0C1AD88572C78E3281B4453_element_677\")>,\n",
       " <selenium.webdriver.remote.webelement.WebElement (session=\"2cafe71a55db32e9af9289a069ba1d80\", element=\"1C30C952D0C1AD88572C78E3281B4453_element_678\")>,\n",
       " <selenium.webdriver.remote.webelement.WebElement (session=\"2cafe71a55db32e9af9289a069ba1d80\", element=\"1C30C952D0C1AD88572C78E3281B4453_element_679\")>,\n",
       " <selenium.webdriver.remote.webelement.WebElement (session=\"2cafe71a55db32e9af9289a069ba1d80\", element=\"1C30C952D0C1AD88572C78E3281B4453_element_680\")>,\n",
       " <selenium.webdriver.remote.webelement.WebElement (session=\"2cafe71a55db32e9af9289a069ba1d80\", element=\"1C30C952D0C1AD88572C78E3281B4453_element_681\")>,\n",
       " <selenium.webdriver.remote.webelement.WebElement (session=\"2cafe71a55db32e9af9289a069ba1d80\", element=\"1C30C952D0C1AD88572C78E3281B4453_element_682\")>,\n",
       " <selenium.webdriver.remote.webelement.WebElement (session=\"2cafe71a55db32e9af9289a069ba1d80\", element=\"1C30C952D0C1AD88572C78E3281B4453_element_683\")>,\n",
       " <selenium.webdriver.remote.webelement.WebElement (session=\"2cafe71a55db32e9af9289a069ba1d80\", element=\"1C30C952D0C1AD88572C78E3281B4453_element_684\")>,\n",
       " <selenium.webdriver.remote.webelement.WebElement (session=\"2cafe71a55db32e9af9289a069ba1d80\", element=\"1C30C952D0C1AD88572C78E3281B4453_element_685\")>,\n",
       " <selenium.webdriver.remote.webelement.WebElement (session=\"2cafe71a55db32e9af9289a069ba1d80\", element=\"1C30C952D0C1AD88572C78E3281B4453_element_686\")>,\n",
       " <selenium.webdriver.remote.webelement.WebElement (session=\"2cafe71a55db32e9af9289a069ba1d80\", element=\"1C30C952D0C1AD88572C78E3281B4453_element_687\")>,\n",
       " <selenium.webdriver.remote.webelement.WebElement (session=\"2cafe71a55db32e9af9289a069ba1d80\", element=\"1C30C952D0C1AD88572C78E3281B4453_element_688\")>,\n",
       " <selenium.webdriver.remote.webelement.WebElement (session=\"2cafe71a55db32e9af9289a069ba1d80\", element=\"1C30C952D0C1AD88572C78E3281B4453_element_689\")>,\n",
       " <selenium.webdriver.remote.webelement.WebElement (session=\"2cafe71a55db32e9af9289a069ba1d80\", element=\"1C30C952D0C1AD88572C78E3281B4453_element_690\")>,\n",
       " <selenium.webdriver.remote.webelement.WebElement (session=\"2cafe71a55db32e9af9289a069ba1d80\", element=\"1C30C952D0C1AD88572C78E3281B4453_element_691\")>,\n",
       " <selenium.webdriver.remote.webelement.WebElement (session=\"2cafe71a55db32e9af9289a069ba1d80\", element=\"1C30C952D0C1AD88572C78E3281B4453_element_692\")>,\n",
       " <selenium.webdriver.remote.webelement.WebElement (session=\"2cafe71a55db32e9af9289a069ba1d80\", element=\"1C30C952D0C1AD88572C78E3281B4453_element_693\")>,\n",
       " <selenium.webdriver.remote.webelement.WebElement (session=\"2cafe71a55db32e9af9289a069ba1d80\", element=\"1C30C952D0C1AD88572C78E3281B4453_element_694\")>,\n",
       " <selenium.webdriver.remote.webelement.WebElement (session=\"2cafe71a55db32e9af9289a069ba1d80\", element=\"1C30C952D0C1AD88572C78E3281B4453_element_695\")>,\n",
       " <selenium.webdriver.remote.webelement.WebElement (session=\"2cafe71a55db32e9af9289a069ba1d80\", element=\"1C30C952D0C1AD88572C78E3281B4453_element_696\")>,\n",
       " <selenium.webdriver.remote.webelement.WebElement (session=\"2cafe71a55db32e9af9289a069ba1d80\", element=\"1C30C952D0C1AD88572C78E3281B4453_element_697\")>,\n",
       " <selenium.webdriver.remote.webelement.WebElement (session=\"2cafe71a55db32e9af9289a069ba1d80\", element=\"1C30C952D0C1AD88572C78E3281B4453_element_698\")>,\n",
       " <selenium.webdriver.remote.webelement.WebElement (session=\"2cafe71a55db32e9af9289a069ba1d80\", element=\"1C30C952D0C1AD88572C78E3281B4453_element_699\")>,\n",
       " <selenium.webdriver.remote.webelement.WebElement (session=\"2cafe71a55db32e9af9289a069ba1d80\", element=\"1C30C952D0C1AD88572C78E3281B4453_element_700\")>,\n",
       " <selenium.webdriver.remote.webelement.WebElement (session=\"2cafe71a55db32e9af9289a069ba1d80\", element=\"1C30C952D0C1AD88572C78E3281B4453_element_701\")>,\n",
       " <selenium.webdriver.remote.webelement.WebElement (session=\"2cafe71a55db32e9af9289a069ba1d80\", element=\"1C30C952D0C1AD88572C78E3281B4453_element_702\")>,\n",
       " <selenium.webdriver.remote.webelement.WebElement (session=\"2cafe71a55db32e9af9289a069ba1d80\", element=\"1C30C952D0C1AD88572C78E3281B4453_element_703\")>,\n",
       " <selenium.webdriver.remote.webelement.WebElement (session=\"2cafe71a55db32e9af9289a069ba1d80\", element=\"1C30C952D0C1AD88572C78E3281B4453_element_704\")>,\n",
       " <selenium.webdriver.remote.webelement.WebElement (session=\"2cafe71a55db32e9af9289a069ba1d80\", element=\"1C30C952D0C1AD88572C78E3281B4453_element_705\")>,\n",
       " <selenium.webdriver.remote.webelement.WebElement (session=\"2cafe71a55db32e9af9289a069ba1d80\", element=\"1C30C952D0C1AD88572C78E3281B4453_element_706\")>,\n",
       " <selenium.webdriver.remote.webelement.WebElement (session=\"2cafe71a55db32e9af9289a069ba1d80\", element=\"1C30C952D0C1AD88572C78E3281B4453_element_707\")>,\n",
       " <selenium.webdriver.remote.webelement.WebElement (session=\"2cafe71a55db32e9af9289a069ba1d80\", element=\"1C30C952D0C1AD88572C78E3281B4453_element_708\")>,\n",
       " <selenium.webdriver.remote.webelement.WebElement (session=\"2cafe71a55db32e9af9289a069ba1d80\", element=\"1C30C952D0C1AD88572C78E3281B4453_element_709\")>,\n",
       " <selenium.webdriver.remote.webelement.WebElement (session=\"2cafe71a55db32e9af9289a069ba1d80\", element=\"1C30C952D0C1AD88572C78E3281B4453_element_710\")>,\n",
       " <selenium.webdriver.remote.webelement.WebElement (session=\"2cafe71a55db32e9af9289a069ba1d80\", element=\"1C30C952D0C1AD88572C78E3281B4453_element_711\")>,\n",
       " <selenium.webdriver.remote.webelement.WebElement (session=\"2cafe71a55db32e9af9289a069ba1d80\", element=\"1C30C952D0C1AD88572C78E3281B4453_element_712\")>,\n",
       " <selenium.webdriver.remote.webelement.WebElement (session=\"2cafe71a55db32e9af9289a069ba1d80\", element=\"1C30C952D0C1AD88572C78E3281B4453_element_713\")>,\n",
       " <selenium.webdriver.remote.webelement.WebElement (session=\"2cafe71a55db32e9af9289a069ba1d80\", element=\"1C30C952D0C1AD88572C78E3281B4453_element_714\")>,\n",
       " <selenium.webdriver.remote.webelement.WebElement (session=\"2cafe71a55db32e9af9289a069ba1d80\", element=\"1C30C952D0C1AD88572C78E3281B4453_element_715\")>,\n",
       " <selenium.webdriver.remote.webelement.WebElement (session=\"2cafe71a55db32e9af9289a069ba1d80\", element=\"1C30C952D0C1AD88572C78E3281B4453_element_716\")>,\n",
       " <selenium.webdriver.remote.webelement.WebElement (session=\"2cafe71a55db32e9af9289a069ba1d80\", element=\"1C30C952D0C1AD88572C78E3281B4453_element_717\")>,\n",
       " <selenium.webdriver.remote.webelement.WebElement (session=\"2cafe71a55db32e9af9289a069ba1d80\", element=\"1C30C952D0C1AD88572C78E3281B4453_element_718\")>,\n",
       " <selenium.webdriver.remote.webelement.WebElement (session=\"2cafe71a55db32e9af9289a069ba1d80\", element=\"1C30C952D0C1AD88572C78E3281B4453_element_719\")>,\n",
       " <selenium.webdriver.remote.webelement.WebElement (session=\"2cafe71a55db32e9af9289a069ba1d80\", element=\"1C30C952D0C1AD88572C78E3281B4453_element_720\")>,\n",
       " <selenium.webdriver.remote.webelement.WebElement (session=\"2cafe71a55db32e9af9289a069ba1d80\", element=\"1C30C952D0C1AD88572C78E3281B4453_element_721\")>,\n",
       " <selenium.webdriver.remote.webelement.WebElement (session=\"2cafe71a55db32e9af9289a069ba1d80\", element=\"1C30C952D0C1AD88572C78E3281B4453_element_722\")>,\n",
       " <selenium.webdriver.remote.webelement.WebElement (session=\"2cafe71a55db32e9af9289a069ba1d80\", element=\"1C30C952D0C1AD88572C78E3281B4453_element_723\")>,\n",
       " <selenium.webdriver.remote.webelement.WebElement (session=\"2cafe71a55db32e9af9289a069ba1d80\", element=\"1C30C952D0C1AD88572C78E3281B4453_element_724\")>,\n",
       " <selenium.webdriver.remote.webelement.WebElement (session=\"2cafe71a55db32e9af9289a069ba1d80\", element=\"1C30C952D0C1AD88572C78E3281B4453_element_725\")>,\n",
       " <selenium.webdriver.remote.webelement.WebElement (session=\"2cafe71a55db32e9af9289a069ba1d80\", element=\"1C30C952D0C1AD88572C78E3281B4453_element_726\")>,\n",
       " <selenium.webdriver.remote.webelement.WebElement (session=\"2cafe71a55db32e9af9289a069ba1d80\", element=\"1C30C952D0C1AD88572C78E3281B4453_element_727\")>,\n",
       " <selenium.webdriver.remote.webelement.WebElement (session=\"2cafe71a55db32e9af9289a069ba1d80\", element=\"1C30C952D0C1AD88572C78E3281B4453_element_728\")>,\n",
       " <selenium.webdriver.remote.webelement.WebElement (session=\"2cafe71a55db32e9af9289a069ba1d80\", element=\"1C30C952D0C1AD88572C78E3281B4453_element_729\")>,\n",
       " <selenium.webdriver.remote.webelement.WebElement (session=\"2cafe71a55db32e9af9289a069ba1d80\", element=\"1C30C952D0C1AD88572C78E3281B4453_element_730\")>,\n",
       " <selenium.webdriver.remote.webelement.WebElement (session=\"2cafe71a55db32e9af9289a069ba1d80\", element=\"1C30C952D0C1AD88572C78E3281B4453_element_731\")>,\n",
       " <selenium.webdriver.remote.webelement.WebElement (session=\"2cafe71a55db32e9af9289a069ba1d80\", element=\"1C30C952D0C1AD88572C78E3281B4453_element_732\")>,\n",
       " <selenium.webdriver.remote.webelement.WebElement (session=\"2cafe71a55db32e9af9289a069ba1d80\", element=\"1C30C952D0C1AD88572C78E3281B4453_element_733\")>,\n",
       " <selenium.webdriver.remote.webelement.WebElement (session=\"2cafe71a55db32e9af9289a069ba1d80\", element=\"1C30C952D0C1AD88572C78E3281B4453_element_734\")>,\n",
       " <selenium.webdriver.remote.webelement.WebElement (session=\"2cafe71a55db32e9af9289a069ba1d80\", element=\"1C30C952D0C1AD88572C78E3281B4453_element_735\")>,\n",
       " <selenium.webdriver.remote.webelement.WebElement (session=\"2cafe71a55db32e9af9289a069ba1d80\", element=\"1C30C952D0C1AD88572C78E3281B4453_element_736\")>,\n",
       " <selenium.webdriver.remote.webelement.WebElement (session=\"2cafe71a55db32e9af9289a069ba1d80\", element=\"1C30C952D0C1AD88572C78E3281B4453_element_737\")>,\n",
       " <selenium.webdriver.remote.webelement.WebElement (session=\"2cafe71a55db32e9af9289a069ba1d80\", element=\"1C30C952D0C1AD88572C78E3281B4453_element_738\")>,\n",
       " <selenium.webdriver.remote.webelement.WebElement (session=\"2cafe71a55db32e9af9289a069ba1d80\", element=\"1C30C952D0C1AD88572C78E3281B4453_element_739\")>,\n",
       " <selenium.webdriver.remote.webelement.WebElement (session=\"2cafe71a55db32e9af9289a069ba1d80\", element=\"1C30C952D0C1AD88572C78E3281B4453_element_740\")>,\n",
       " <selenium.webdriver.remote.webelement.WebElement (session=\"2cafe71a55db32e9af9289a069ba1d80\", element=\"1C30C952D0C1AD88572C78E3281B4453_element_741\")>,\n",
       " <selenium.webdriver.remote.webelement.WebElement (session=\"2cafe71a55db32e9af9289a069ba1d80\", element=\"1C30C952D0C1AD88572C78E3281B4453_element_742\")>,\n",
       " <selenium.webdriver.remote.webelement.WebElement (session=\"2cafe71a55db32e9af9289a069ba1d80\", element=\"1C30C952D0C1AD88572C78E3281B4453_element_743\")>,\n",
       " <selenium.webdriver.remote.webelement.WebElement (session=\"2cafe71a55db32e9af9289a069ba1d80\", element=\"1C30C952D0C1AD88572C78E3281B4453_element_744\")>,\n",
       " <selenium.webdriver.remote.webelement.WebElement (session=\"2cafe71a55db32e9af9289a069ba1d80\", element=\"1C30C952D0C1AD88572C78E3281B4453_element_745\")>,\n",
       " <selenium.webdriver.remote.webelement.WebElement (session=\"2cafe71a55db32e9af9289a069ba1d80\", element=\"1C30C952D0C1AD88572C78E3281B4453_element_746\")>,\n",
       " <selenium.webdriver.remote.webelement.WebElement (session=\"2cafe71a55db32e9af9289a069ba1d80\", element=\"1C30C952D0C1AD88572C78E3281B4453_element_747\")>,\n",
       " <selenium.webdriver.remote.webelement.WebElement (session=\"2cafe71a55db32e9af9289a069ba1d80\", element=\"1C30C952D0C1AD88572C78E3281B4453_element_748\")>,\n",
       " <selenium.webdriver.remote.webelement.WebElement (session=\"2cafe71a55db32e9af9289a069ba1d80\", element=\"1C30C952D0C1AD88572C78E3281B4453_element_749\")>,\n",
       " <selenium.webdriver.remote.webelement.WebElement (session=\"2cafe71a55db32e9af9289a069ba1d80\", element=\"1C30C952D0C1AD88572C78E3281B4453_element_750\")>,\n",
       " <selenium.webdriver.remote.webelement.WebElement (session=\"2cafe71a55db32e9af9289a069ba1d80\", element=\"1C30C952D0C1AD88572C78E3281B4453_element_751\")>,\n",
       " <selenium.webdriver.remote.webelement.WebElement (session=\"2cafe71a55db32e9af9289a069ba1d80\", element=\"1C30C952D0C1AD88572C78E3281B4453_element_752\")>,\n",
       " <selenium.webdriver.remote.webelement.WebElement (session=\"2cafe71a55db32e9af9289a069ba1d80\", element=\"1C30C952D0C1AD88572C78E3281B4453_element_753\")>,\n",
       " <selenium.webdriver.remote.webelement.WebElement (session=\"2cafe71a55db32e9af9289a069ba1d80\", element=\"1C30C952D0C1AD88572C78E3281B4453_element_754\")>,\n",
       " <selenium.webdriver.remote.webelement.WebElement (session=\"2cafe71a55db32e9af9289a069ba1d80\", element=\"1C30C952D0C1AD88572C78E3281B4453_element_755\")>,\n",
       " <selenium.webdriver.remote.webelement.WebElement (session=\"2cafe71a55db32e9af9289a069ba1d80\", element=\"1C30C952D0C1AD88572C78E3281B4453_element_756\")>,\n",
       " <selenium.webdriver.remote.webelement.WebElement (session=\"2cafe71a55db32e9af9289a069ba1d80\", element=\"1C30C952D0C1AD88572C78E3281B4453_element_757\")>,\n",
       " <selenium.webdriver.remote.webelement.WebElement (session=\"2cafe71a55db32e9af9289a069ba1d80\", element=\"1C30C952D0C1AD88572C78E3281B4453_element_758\")>,\n",
       " <selenium.webdriver.remote.webelement.WebElement (session=\"2cafe71a55db32e9af9289a069ba1d80\", element=\"1C30C952D0C1AD88572C78E3281B4453_element_759\")>,\n",
       " <selenium.webdriver.remote.webelement.WebElement (session=\"2cafe71a55db32e9af9289a069ba1d80\", element=\"1C30C952D0C1AD88572C78E3281B4453_element_760\")>,\n",
       " <selenium.webdriver.remote.webelement.WebElement (session=\"2cafe71a55db32e9af9289a069ba1d80\", element=\"1C30C952D0C1AD88572C78E3281B4453_element_761\")>,\n",
       " <selenium.webdriver.remote.webelement.WebElement (session=\"2cafe71a55db32e9af9289a069ba1d80\", element=\"1C30C952D0C1AD88572C78E3281B4453_element_762\")>,\n",
       " <selenium.webdriver.remote.webelement.WebElement (session=\"2cafe71a55db32e9af9289a069ba1d80\", element=\"1C30C952D0C1AD88572C78E3281B4453_element_763\")>,\n",
       " <selenium.webdriver.remote.webelement.WebElement (session=\"2cafe71a55db32e9af9289a069ba1d80\", element=\"1C30C952D0C1AD88572C78E3281B4453_element_764\")>,\n",
       " <selenium.webdriver.remote.webelement.WebElement (session=\"2cafe71a55db32e9af9289a069ba1d80\", element=\"1C30C952D0C1AD88572C78E3281B4453_element_765\")>,\n",
       " <selenium.webdriver.remote.webelement.WebElement (session=\"2cafe71a55db32e9af9289a069ba1d80\", element=\"1C30C952D0C1AD88572C78E3281B4453_element_766\")>,\n",
       " <selenium.webdriver.remote.webelement.WebElement (session=\"2cafe71a55db32e9af9289a069ba1d80\", element=\"1C30C952D0C1AD88572C78E3281B4453_element_767\")>,\n",
       " <selenium.webdriver.remote.webelement.WebElement (session=\"2cafe71a55db32e9af9289a069ba1d80\", element=\"1C30C952D0C1AD88572C78E3281B4453_element_768\")>,\n",
       " <selenium.webdriver.remote.webelement.WebElement (session=\"2cafe71a55db32e9af9289a069ba1d80\", element=\"1C30C952D0C1AD88572C78E3281B4453_element_769\")>,\n",
       " <selenium.webdriver.remote.webelement.WebElement (session=\"2cafe71a55db32e9af9289a069ba1d80\", element=\"1C30C952D0C1AD88572C78E3281B4453_element_770\")>,\n",
       " <selenium.webdriver.remote.webelement.WebElement (session=\"2cafe71a55db32e9af9289a069ba1d80\", element=\"1C30C952D0C1AD88572C78E3281B4453_element_771\")>,\n",
       " <selenium.webdriver.remote.webelement.WebElement (session=\"2cafe71a55db32e9af9289a069ba1d80\", element=\"1C30C952D0C1AD88572C78E3281B4453_element_772\")>,\n",
       " <selenium.webdriver.remote.webelement.WebElement (session=\"2cafe71a55db32e9af9289a069ba1d80\", element=\"1C30C952D0C1AD88572C78E3281B4453_element_773\")>,\n",
       " <selenium.webdriver.remote.webelement.WebElement (session=\"2cafe71a55db32e9af9289a069ba1d80\", element=\"1C30C952D0C1AD88572C78E3281B4453_element_774\")>,\n",
       " <selenium.webdriver.remote.webelement.WebElement (session=\"2cafe71a55db32e9af9289a069ba1d80\", element=\"1C30C952D0C1AD88572C78E3281B4453_element_775\")>,\n",
       " <selenium.webdriver.remote.webelement.WebElement (session=\"2cafe71a55db32e9af9289a069ba1d80\", element=\"1C30C952D0C1AD88572C78E3281B4453_element_776\")>,\n",
       " <selenium.webdriver.remote.webelement.WebElement (session=\"2cafe71a55db32e9af9289a069ba1d80\", element=\"1C30C952D0C1AD88572C78E3281B4453_element_777\")>,\n",
       " <selenium.webdriver.remote.webelement.WebElement (session=\"2cafe71a55db32e9af9289a069ba1d80\", element=\"1C30C952D0C1AD88572C78E3281B4453_element_778\")>,\n",
       " <selenium.webdriver.remote.webelement.WebElement (session=\"2cafe71a55db32e9af9289a069ba1d80\", element=\"1C30C952D0C1AD88572C78E3281B4453_element_779\")>,\n",
       " <selenium.webdriver.remote.webelement.WebElement (session=\"2cafe71a55db32e9af9289a069ba1d80\", element=\"1C30C952D0C1AD88572C78E3281B4453_element_780\")>,\n",
       " <selenium.webdriver.remote.webelement.WebElement (session=\"2cafe71a55db32e9af9289a069ba1d80\", element=\"1C30C952D0C1AD88572C78E3281B4453_element_781\")>,\n",
       " <selenium.webdriver.remote.webelement.WebElement (session=\"2cafe71a55db32e9af9289a069ba1d80\", element=\"1C30C952D0C1AD88572C78E3281B4453_element_782\")>,\n",
       " <selenium.webdriver.remote.webelement.WebElement (session=\"2cafe71a55db32e9af9289a069ba1d80\", element=\"1C30C952D0C1AD88572C78E3281B4453_element_783\")>,\n",
       " <selenium.webdriver.remote.webelement.WebElement (session=\"2cafe71a55db32e9af9289a069ba1d80\", element=\"1C30C952D0C1AD88572C78E3281B4453_element_784\")>,\n",
       " <selenium.webdriver.remote.webelement.WebElement (session=\"2cafe71a55db32e9af9289a069ba1d80\", element=\"1C30C952D0C1AD88572C78E3281B4453_element_785\")>,\n",
       " <selenium.webdriver.remote.webelement.WebElement (session=\"2cafe71a55db32e9af9289a069ba1d80\", element=\"1C30C952D0C1AD88572C78E3281B4453_element_786\")>,\n",
       " <selenium.webdriver.remote.webelement.WebElement (session=\"2cafe71a55db32e9af9289a069ba1d80\", element=\"1C30C952D0C1AD88572C78E3281B4453_element_787\")>,\n",
       " <selenium.webdriver.remote.webelement.WebElement (session=\"2cafe71a55db32e9af9289a069ba1d80\", element=\"1C30C952D0C1AD88572C78E3281B4453_element_788\")>,\n",
       " <selenium.webdriver.remote.webelement.WebElement (session=\"2cafe71a55db32e9af9289a069ba1d80\", element=\"1C30C952D0C1AD88572C78E3281B4453_element_789\")>,\n",
       " <selenium.webdriver.remote.webelement.WebElement (session=\"2cafe71a55db32e9af9289a069ba1d80\", element=\"1C30C952D0C1AD88572C78E3281B4453_element_790\")>,\n",
       " <selenium.webdriver.remote.webelement.WebElement (session=\"2cafe71a55db32e9af9289a069ba1d80\", element=\"1C30C952D0C1AD88572C78E3281B4453_element_791\")>,\n",
       " <selenium.webdriver.remote.webelement.WebElement (session=\"2cafe71a55db32e9af9289a069ba1d80\", element=\"1C30C952D0C1AD88572C78E3281B4453_element_792\")>,\n",
       " <selenium.webdriver.remote.webelement.WebElement (session=\"2cafe71a55db32e9af9289a069ba1d80\", element=\"1C30C952D0C1AD88572C78E3281B4453_element_793\")>,\n",
       " <selenium.webdriver.remote.webelement.WebElement (session=\"2cafe71a55db32e9af9289a069ba1d80\", element=\"1C30C952D0C1AD88572C78E3281B4453_element_794\")>,\n",
       " <selenium.webdriver.remote.webelement.WebElement (session=\"2cafe71a55db32e9af9289a069ba1d80\", element=\"1C30C952D0C1AD88572C78E3281B4453_element_795\")>,\n",
       " <selenium.webdriver.remote.webelement.WebElement (session=\"2cafe71a55db32e9af9289a069ba1d80\", element=\"1C30C952D0C1AD88572C78E3281B4453_element_796\")>,\n",
       " <selenium.webdriver.remote.webelement.WebElement (session=\"2cafe71a55db32e9af9289a069ba1d80\", element=\"1C30C952D0C1AD88572C78E3281B4453_element_797\")>,\n",
       " <selenium.webdriver.remote.webelement.WebElement (session=\"2cafe71a55db32e9af9289a069ba1d80\", element=\"1C30C952D0C1AD88572C78E3281B4453_element_798\")>,\n",
       " <selenium.webdriver.remote.webelement.WebElement (session=\"2cafe71a55db32e9af9289a069ba1d80\", element=\"1C30C952D0C1AD88572C78E3281B4453_element_799\")>,\n",
       " <selenium.webdriver.remote.webelement.WebElement (session=\"2cafe71a55db32e9af9289a069ba1d80\", element=\"1C30C952D0C1AD88572C78E3281B4453_element_800\")>,\n",
       " <selenium.webdriver.remote.webelement.WebElement (session=\"2cafe71a55db32e9af9289a069ba1d80\", element=\"1C30C952D0C1AD88572C78E3281B4453_element_801\")>,\n",
       " <selenium.webdriver.remote.webelement.WebElement (session=\"2cafe71a55db32e9af9289a069ba1d80\", element=\"1C30C952D0C1AD88572C78E3281B4453_element_802\")>,\n",
       " <selenium.webdriver.remote.webelement.WebElement (session=\"2cafe71a55db32e9af9289a069ba1d80\", element=\"1C30C952D0C1AD88572C78E3281B4453_element_803\")>,\n",
       " <selenium.webdriver.remote.webelement.WebElement (session=\"2cafe71a55db32e9af9289a069ba1d80\", element=\"1C30C952D0C1AD88572C78E3281B4453_element_804\")>,\n",
       " <selenium.webdriver.remote.webelement.WebElement (session=\"2cafe71a55db32e9af9289a069ba1d80\", element=\"1C30C952D0C1AD88572C78E3281B4453_element_805\")>,\n",
       " <selenium.webdriver.remote.webelement.WebElement (session=\"2cafe71a55db32e9af9289a069ba1d80\", element=\"1C30C952D0C1AD88572C78E3281B4453_element_806\")>,\n",
       " <selenium.webdriver.remote.webelement.WebElement (session=\"2cafe71a55db32e9af9289a069ba1d80\", element=\"1C30C952D0C1AD88572C78E3281B4453_element_807\")>,\n",
       " <selenium.webdriver.remote.webelement.WebElement (session=\"2cafe71a55db32e9af9289a069ba1d80\", element=\"1C30C952D0C1AD88572C78E3281B4453_element_808\")>,\n",
       " <selenium.webdriver.remote.webelement.WebElement (session=\"2cafe71a55db32e9af9289a069ba1d80\", element=\"1C30C952D0C1AD88572C78E3281B4453_element_809\")>,\n",
       " <selenium.webdriver.remote.webelement.WebElement (session=\"2cafe71a55db32e9af9289a069ba1d80\", element=\"1C30C952D0C1AD88572C78E3281B4453_element_810\")>,\n",
       " <selenium.webdriver.remote.webelement.WebElement (session=\"2cafe71a55db32e9af9289a069ba1d80\", element=\"1C30C952D0C1AD88572C78E3281B4453_element_811\")>,\n",
       " <selenium.webdriver.remote.webelement.WebElement (session=\"2cafe71a55db32e9af9289a069ba1d80\", element=\"1C30C952D0C1AD88572C78E3281B4453_element_812\")>,\n",
       " <selenium.webdriver.remote.webelement.WebElement (session=\"2cafe71a55db32e9af9289a069ba1d80\", element=\"1C30C952D0C1AD88572C78E3281B4453_element_813\")>,\n",
       " <selenium.webdriver.remote.webelement.WebElement (session=\"2cafe71a55db32e9af9289a069ba1d80\", element=\"1C30C952D0C1AD88572C78E3281B4453_element_814\")>,\n",
       " <selenium.webdriver.remote.webelement.WebElement (session=\"2cafe71a55db32e9af9289a069ba1d80\", element=\"1C30C952D0C1AD88572C78E3281B4453_element_815\")>,\n",
       " <selenium.webdriver.remote.webelement.WebElement (session=\"2cafe71a55db32e9af9289a069ba1d80\", element=\"1C30C952D0C1AD88572C78E3281B4453_element_816\")>,\n",
       " <selenium.webdriver.remote.webelement.WebElement (session=\"2cafe71a55db32e9af9289a069ba1d80\", element=\"1C30C952D0C1AD88572C78E3281B4453_element_817\")>,\n",
       " <selenium.webdriver.remote.webelement.WebElement (session=\"2cafe71a55db32e9af9289a069ba1d80\", element=\"1C30C952D0C1AD88572C78E3281B4453_element_818\")>,\n",
       " <selenium.webdriver.remote.webelement.WebElement (session=\"2cafe71a55db32e9af9289a069ba1d80\", element=\"1C30C952D0C1AD88572C78E3281B4453_element_819\")>,\n",
       " <selenium.webdriver.remote.webelement.WebElement (session=\"2cafe71a55db32e9af9289a069ba1d80\", element=\"1C30C952D0C1AD88572C78E3281B4453_element_820\")>,\n",
       " <selenium.webdriver.remote.webelement.WebElement (session=\"2cafe71a55db32e9af9289a069ba1d80\", element=\"1C30C952D0C1AD88572C78E3281B4453_element_821\")>,\n",
       " <selenium.webdriver.remote.webelement.WebElement (session=\"2cafe71a55db32e9af9289a069ba1d80\", element=\"1C30C952D0C1AD88572C78E3281B4453_element_822\")>,\n",
       " <selenium.webdriver.remote.webelement.WebElement (session=\"2cafe71a55db32e9af9289a069ba1d80\", element=\"1C30C952D0C1AD88572C78E3281B4453_element_823\")>,\n",
       " <selenium.webdriver.remote.webelement.WebElement (session=\"2cafe71a55db32e9af9289a069ba1d80\", element=\"1C30C952D0C1AD88572C78E3281B4453_element_824\")>,\n",
       " <selenium.webdriver.remote.webelement.WebElement (session=\"2cafe71a55db32e9af9289a069ba1d80\", element=\"1C30C952D0C1AD88572C78E3281B4453_element_825\")>,\n",
       " <selenium.webdriver.remote.webelement.WebElement (session=\"2cafe71a55db32e9af9289a069ba1d80\", element=\"1C30C952D0C1AD88572C78E3281B4453_element_826\")>,\n",
       " <selenium.webdriver.remote.webelement.WebElement (session=\"2cafe71a55db32e9af9289a069ba1d80\", element=\"1C30C952D0C1AD88572C78E3281B4453_element_827\")>,\n",
       " <selenium.webdriver.remote.webelement.WebElement (session=\"2cafe71a55db32e9af9289a069ba1d80\", element=\"1C30C952D0C1AD88572C78E3281B4453_element_828\")>,\n",
       " <selenium.webdriver.remote.webelement.WebElement (session=\"2cafe71a55db32e9af9289a069ba1d80\", element=\"1C30C952D0C1AD88572C78E3281B4453_element_829\")>,\n",
       " <selenium.webdriver.remote.webelement.WebElement (session=\"2cafe71a55db32e9af9289a069ba1d80\", element=\"1C30C952D0C1AD88572C78E3281B4453_element_830\")>,\n",
       " <selenium.webdriver.remote.webelement.WebElement (session=\"2cafe71a55db32e9af9289a069ba1d80\", element=\"1C30C952D0C1AD88572C78E3281B4453_element_831\")>,\n",
       " <selenium.webdriver.remote.webelement.WebElement (session=\"2cafe71a55db32e9af9289a069ba1d80\", element=\"1C30C952D0C1AD88572C78E3281B4453_element_832\")>,\n",
       " <selenium.webdriver.remote.webelement.WebElement (session=\"2cafe71a55db32e9af9289a069ba1d80\", element=\"1C30C952D0C1AD88572C78E3281B4453_element_833\")>,\n",
       " <selenium.webdriver.remote.webelement.WebElement (session=\"2cafe71a55db32e9af9289a069ba1d80\", element=\"1C30C952D0C1AD88572C78E3281B4453_element_834\")>,\n",
       " <selenium.webdriver.remote.webelement.WebElement (session=\"2cafe71a55db32e9af9289a069ba1d80\", element=\"1C30C952D0C1AD88572C78E3281B4453_element_835\")>,\n",
       " <selenium.webdriver.remote.webelement.WebElement (session=\"2cafe71a55db32e9af9289a069ba1d80\", element=\"1C30C952D0C1AD88572C78E3281B4453_element_836\")>,\n",
       " <selenium.webdriver.remote.webelement.WebElement (session=\"2cafe71a55db32e9af9289a069ba1d80\", element=\"1C30C952D0C1AD88572C78E3281B4453_element_837\")>,\n",
       " <selenium.webdriver.remote.webelement.WebElement (session=\"2cafe71a55db32e9af9289a069ba1d80\", element=\"1C30C952D0C1AD88572C78E3281B4453_element_838\")>,\n",
       " <selenium.webdriver.remote.webelement.WebElement (session=\"2cafe71a55db32e9af9289a069ba1d80\", element=\"1C30C952D0C1AD88572C78E3281B4453_element_839\")>,\n",
       " <selenium.webdriver.remote.webelement.WebElement (session=\"2cafe71a55db32e9af9289a069ba1d80\", element=\"1C30C952D0C1AD88572C78E3281B4453_element_840\")>,\n",
       " <selenium.webdriver.remote.webelement.WebElement (session=\"2cafe71a55db32e9af9289a069ba1d80\", element=\"1C30C952D0C1AD88572C78E3281B4453_element_841\")>,\n",
       " <selenium.webdriver.remote.webelement.WebElement (session=\"2cafe71a55db32e9af9289a069ba1d80\", element=\"1C30C952D0C1AD88572C78E3281B4453_element_842\")>,\n",
       " <selenium.webdriver.remote.webelement.WebElement (session=\"2cafe71a55db32e9af9289a069ba1d80\", element=\"1C30C952D0C1AD88572C78E3281B4453_element_843\")>,\n",
       " <selenium.webdriver.remote.webelement.WebElement (session=\"2cafe71a55db32e9af9289a069ba1d80\", element=\"1C30C952D0C1AD88572C78E3281B4453_element_844\")>,\n",
       " <selenium.webdriver.remote.webelement.WebElement (session=\"2cafe71a55db32e9af9289a069ba1d80\", element=\"1C30C952D0C1AD88572C78E3281B4453_element_845\")>,\n",
       " <selenium.webdriver.remote.webelement.WebElement (session=\"2cafe71a55db32e9af9289a069ba1d80\", element=\"1C30C952D0C1AD88572C78E3281B4453_element_846\")>,\n",
       " <selenium.webdriver.remote.webelement.WebElement (session=\"2cafe71a55db32e9af9289a069ba1d80\", element=\"1C30C952D0C1AD88572C78E3281B4453_element_847\")>,\n",
       " <selenium.webdriver.remote.webelement.WebElement (session=\"2cafe71a55db32e9af9289a069ba1d80\", element=\"1C30C952D0C1AD88572C78E3281B4453_element_848\")>,\n",
       " <selenium.webdriver.remote.webelement.WebElement (session=\"2cafe71a55db32e9af9289a069ba1d80\", element=\"1C30C952D0C1AD88572C78E3281B4453_element_849\")>,\n",
       " <selenium.webdriver.remote.webelement.WebElement (session=\"2cafe71a55db32e9af9289a069ba1d80\", element=\"1C30C952D0C1AD88572C78E3281B4453_element_850\")>,\n",
       " <selenium.webdriver.remote.webelement.WebElement (session=\"2cafe71a55db32e9af9289a069ba1d80\", element=\"1C30C952D0C1AD88572C78E3281B4453_element_851\")>,\n",
       " <selenium.webdriver.remote.webelement.WebElement (session=\"2cafe71a55db32e9af9289a069ba1d80\", element=\"1C30C952D0C1AD88572C78E3281B4453_element_852\")>,\n",
       " <selenium.webdriver.remote.webelement.WebElement (session=\"2cafe71a55db32e9af9289a069ba1d80\", element=\"1C30C952D0C1AD88572C78E3281B4453_element_853\")>,\n",
       " <selenium.webdriver.remote.webelement.WebElement (session=\"2cafe71a55db32e9af9289a069ba1d80\", element=\"1C30C952D0C1AD88572C78E3281B4453_element_854\")>,\n",
       " <selenium.webdriver.remote.webelement.WebElement (session=\"2cafe71a55db32e9af9289a069ba1d80\", element=\"1C30C952D0C1AD88572C78E3281B4453_element_855\")>,\n",
       " <selenium.webdriver.remote.webelement.WebElement (session=\"2cafe71a55db32e9af9289a069ba1d80\", element=\"1C30C952D0C1AD88572C78E3281B4453_element_856\")>,\n",
       " <selenium.webdriver.remote.webelement.WebElement (session=\"2cafe71a55db32e9af9289a069ba1d80\", element=\"1C30C952D0C1AD88572C78E3281B4453_element_857\")>,\n",
       " <selenium.webdriver.remote.webelement.WebElement (session=\"2cafe71a55db32e9af9289a069ba1d80\", element=\"1C30C952D0C1AD88572C78E3281B4453_element_858\")>,\n",
       " <selenium.webdriver.remote.webelement.WebElement (session=\"2cafe71a55db32e9af9289a069ba1d80\", element=\"1C30C952D0C1AD88572C78E3281B4453_element_859\")>,\n",
       " <selenium.webdriver.remote.webelement.WebElement (session=\"2cafe71a55db32e9af9289a069ba1d80\", element=\"1C30C952D0C1AD88572C78E3281B4453_element_860\")>,\n",
       " <selenium.webdriver.remote.webelement.WebElement (session=\"2cafe71a55db32e9af9289a069ba1d80\", element=\"1C30C952D0C1AD88572C78E3281B4453_element_861\")>,\n",
       " <selenium.webdriver.remote.webelement.WebElement (session=\"2cafe71a55db32e9af9289a069ba1d80\", element=\"1C30C952D0C1AD88572C78E3281B4453_element_862\")>,\n",
       " <selenium.webdriver.remote.webelement.WebElement (session=\"2cafe71a55db32e9af9289a069ba1d80\", element=\"1C30C952D0C1AD88572C78E3281B4453_element_863\")>,\n",
       " <selenium.webdriver.remote.webelement.WebElement (session=\"2cafe71a55db32e9af9289a069ba1d80\", element=\"1C30C952D0C1AD88572C78E3281B4453_element_864\")>,\n",
       " <selenium.webdriver.remote.webelement.WebElement (session=\"2cafe71a55db32e9af9289a069ba1d80\", element=\"1C30C952D0C1AD88572C78E3281B4453_element_865\")>,\n",
       " <selenium.webdriver.remote.webelement.WebElement (session=\"2cafe71a55db32e9af9289a069ba1d80\", element=\"1C30C952D0C1AD88572C78E3281B4453_element_866\")>,\n",
       " <selenium.webdriver.remote.webelement.WebElement (session=\"2cafe71a55db32e9af9289a069ba1d80\", element=\"1C30C952D0C1AD88572C78E3281B4453_element_867\")>,\n",
       " <selenium.webdriver.remote.webelement.WebElement (session=\"2cafe71a55db32e9af9289a069ba1d80\", element=\"1C30C952D0C1AD88572C78E3281B4453_element_868\")>,\n",
       " <selenium.webdriver.remote.webelement.WebElement (session=\"2cafe71a55db32e9af9289a069ba1d80\", element=\"1C30C952D0C1AD88572C78E3281B4453_element_869\")>,\n",
       " <selenium.webdriver.remote.webelement.WebElement (session=\"2cafe71a55db32e9af9289a069ba1d80\", element=\"1C30C952D0C1AD88572C78E3281B4453_element_870\")>,\n",
       " <selenium.webdriver.remote.webelement.WebElement (session=\"2cafe71a55db32e9af9289a069ba1d80\", element=\"1C30C952D0C1AD88572C78E3281B4453_element_871\")>,\n",
       " <selenium.webdriver.remote.webelement.WebElement (session=\"2cafe71a55db32e9af9289a069ba1d80\", element=\"1C30C952D0C1AD88572C78E3281B4453_element_872\")>,\n",
       " <selenium.webdriver.remote.webelement.WebElement (session=\"2cafe71a55db32e9af9289a069ba1d80\", element=\"1C30C952D0C1AD88572C78E3281B4453_element_873\")>,\n",
       " <selenium.webdriver.remote.webelement.WebElement (session=\"2cafe71a55db32e9af9289a069ba1d80\", element=\"1C30C952D0C1AD88572C78E3281B4453_element_874\")>,\n",
       " <selenium.webdriver.remote.webelement.WebElement (session=\"2cafe71a55db32e9af9289a069ba1d80\", element=\"1C30C952D0C1AD88572C78E3281B4453_element_875\")>,\n",
       " <selenium.webdriver.remote.webelement.WebElement (session=\"2cafe71a55db32e9af9289a069ba1d80\", element=\"1C30C952D0C1AD88572C78E3281B4453_element_876\")>,\n",
       " <selenium.webdriver.remote.webelement.WebElement (session=\"2cafe71a55db32e9af9289a069ba1d80\", element=\"1C30C952D0C1AD88572C78E3281B4453_element_877\")>,\n",
       " <selenium.webdriver.remote.webelement.WebElement (session=\"2cafe71a55db32e9af9289a069ba1d80\", element=\"1C30C952D0C1AD88572C78E3281B4453_element_878\")>,\n",
       " <selenium.webdriver.remote.webelement.WebElement (session=\"2cafe71a55db32e9af9289a069ba1d80\", element=\"1C30C952D0C1AD88572C78E3281B4453_element_879\")>,\n",
       " <selenium.webdriver.remote.webelement.WebElement (session=\"2cafe71a55db32e9af9289a069ba1d80\", element=\"1C30C952D0C1AD88572C78E3281B4453_element_880\")>,\n",
       " <selenium.webdriver.remote.webelement.WebElement (session=\"2cafe71a55db32e9af9289a069ba1d80\", element=\"1C30C952D0C1AD88572C78E3281B4453_element_881\")>,\n",
       " <selenium.webdriver.remote.webelement.WebElement (session=\"2cafe71a55db32e9af9289a069ba1d80\", element=\"1C30C952D0C1AD88572C78E3281B4453_element_882\")>,\n",
       " <selenium.webdriver.remote.webelement.WebElement (session=\"2cafe71a55db32e9af9289a069ba1d80\", element=\"1C30C952D0C1AD88572C78E3281B4453_element_883\")>,\n",
       " <selenium.webdriver.remote.webelement.WebElement (session=\"2cafe71a55db32e9af9289a069ba1d80\", element=\"1C30C952D0C1AD88572C78E3281B4453_element_884\")>,\n",
       " <selenium.webdriver.remote.webelement.WebElement (session=\"2cafe71a55db32e9af9289a069ba1d80\", element=\"1C30C952D0C1AD88572C78E3281B4453_element_885\")>,\n",
       " <selenium.webdriver.remote.webelement.WebElement (session=\"2cafe71a55db32e9af9289a069ba1d80\", element=\"1C30C952D0C1AD88572C78E3281B4453_element_886\")>,\n",
       " <selenium.webdriver.remote.webelement.WebElement (session=\"2cafe71a55db32e9af9289a069ba1d80\", element=\"1C30C952D0C1AD88572C78E3281B4453_element_887\")>,\n",
       " <selenium.webdriver.remote.webelement.WebElement (session=\"2cafe71a55db32e9af9289a069ba1d80\", element=\"1C30C952D0C1AD88572C78E3281B4453_element_888\")>,\n",
       " <selenium.webdriver.remote.webelement.WebElement (session=\"2cafe71a55db32e9af9289a069ba1d80\", element=\"1C30C952D0C1AD88572C78E3281B4453_element_889\")>,\n",
       " <selenium.webdriver.remote.webelement.WebElement (session=\"2cafe71a55db32e9af9289a069ba1d80\", element=\"1C30C952D0C1AD88572C78E3281B4453_element_890\")>,\n",
       " <selenium.webdriver.remote.webelement.WebElement (session=\"2cafe71a55db32e9af9289a069ba1d80\", element=\"1C30C952D0C1AD88572C78E3281B4453_element_891\")>,\n",
       " <selenium.webdriver.remote.webelement.WebElement (session=\"2cafe71a55db32e9af9289a069ba1d80\", element=\"1C30C952D0C1AD88572C78E3281B4453_element_892\")>,\n",
       " <selenium.webdriver.remote.webelement.WebElement (session=\"2cafe71a55db32e9af9289a069ba1d80\", element=\"1C30C952D0C1AD88572C78E3281B4453_element_893\")>,\n",
       " <selenium.webdriver.remote.webelement.WebElement (session=\"2cafe71a55db32e9af9289a069ba1d80\", element=\"1C30C952D0C1AD88572C78E3281B4453_element_894\")>,\n",
       " <selenium.webdriver.remote.webelement.WebElement (session=\"2cafe71a55db32e9af9289a069ba1d80\", element=\"1C30C952D0C1AD88572C78E3281B4453_element_895\")>,\n",
       " <selenium.webdriver.remote.webelement.WebElement (session=\"2cafe71a55db32e9af9289a069ba1d80\", element=\"1C30C952D0C1AD88572C78E3281B4453_element_896\")>,\n",
       " <selenium.webdriver.remote.webelement.WebElement (session=\"2cafe71a55db32e9af9289a069ba1d80\", element=\"1C30C952D0C1AD88572C78E3281B4453_element_897\")>,\n",
       " <selenium.webdriver.remote.webelement.WebElement (session=\"2cafe71a55db32e9af9289a069ba1d80\", element=\"1C30C952D0C1AD88572C78E3281B4453_element_898\")>,\n",
       " <selenium.webdriver.remote.webelement.WebElement (session=\"2cafe71a55db32e9af9289a069ba1d80\", element=\"1C30C952D0C1AD88572C78E3281B4453_element_899\")>,\n",
       " <selenium.webdriver.remote.webelement.WebElement (session=\"2cafe71a55db32e9af9289a069ba1d80\", element=\"1C30C952D0C1AD88572C78E3281B4453_element_900\")>,\n",
       " <selenium.webdriver.remote.webelement.WebElement (session=\"2cafe71a55db32e9af9289a069ba1d80\", element=\"1C30C952D0C1AD88572C78E3281B4453_element_901\")>,\n",
       " <selenium.webdriver.remote.webelement.WebElement (session=\"2cafe71a55db32e9af9289a069ba1d80\", element=\"1C30C952D0C1AD88572C78E3281B4453_element_902\")>,\n",
       " <selenium.webdriver.remote.webelement.WebElement (session=\"2cafe71a55db32e9af9289a069ba1d80\", element=\"1C30C952D0C1AD88572C78E3281B4453_element_903\")>,\n",
       " <selenium.webdriver.remote.webelement.WebElement (session=\"2cafe71a55db32e9af9289a069ba1d80\", element=\"1C30C952D0C1AD88572C78E3281B4453_element_904\")>,\n",
       " <selenium.webdriver.remote.webelement.WebElement (session=\"2cafe71a55db32e9af9289a069ba1d80\", element=\"1C30C952D0C1AD88572C78E3281B4453_element_905\")>,\n",
       " <selenium.webdriver.remote.webelement.WebElement (session=\"2cafe71a55db32e9af9289a069ba1d80\", element=\"1C30C952D0C1AD88572C78E3281B4453_element_906\")>,\n",
       " <selenium.webdriver.remote.webelement.WebElement (session=\"2cafe71a55db32e9af9289a069ba1d80\", element=\"1C30C952D0C1AD88572C78E3281B4453_element_907\")>,\n",
       " <selenium.webdriver.remote.webelement.WebElement (session=\"2cafe71a55db32e9af9289a069ba1d80\", element=\"1C30C952D0C1AD88572C78E3281B4453_element_908\")>,\n",
       " <selenium.webdriver.remote.webelement.WebElement (session=\"2cafe71a55db32e9af9289a069ba1d80\", element=\"1C30C952D0C1AD88572C78E3281B4453_element_909\")>,\n",
       " <selenium.webdriver.remote.webelement.WebElement (session=\"2cafe71a55db32e9af9289a069ba1d80\", element=\"1C30C952D0C1AD88572C78E3281B4453_element_910\")>,\n",
       " <selenium.webdriver.remote.webelement.WebElement (session=\"2cafe71a55db32e9af9289a069ba1d80\", element=\"1C30C952D0C1AD88572C78E3281B4453_element_911\")>,\n",
       " <selenium.webdriver.remote.webelement.WebElement (session=\"2cafe71a55db32e9af9289a069ba1d80\", element=\"1C30C952D0C1AD88572C78E3281B4453_element_912\")>,\n",
       " <selenium.webdriver.remote.webelement.WebElement (session=\"2cafe71a55db32e9af9289a069ba1d80\", element=\"1C30C952D0C1AD88572C78E3281B4453_element_913\")>,\n",
       " <selenium.webdriver.remote.webelement.WebElement (session=\"2cafe71a55db32e9af9289a069ba1d80\", element=\"1C30C952D0C1AD88572C78E3281B4453_element_914\")>,\n",
       " <selenium.webdriver.remote.webelement.WebElement (session=\"2cafe71a55db32e9af9289a069ba1d80\", element=\"1C30C952D0C1AD88572C78E3281B4453_element_915\")>,\n",
       " <selenium.webdriver.remote.webelement.WebElement (session=\"2cafe71a55db32e9af9289a069ba1d80\", element=\"1C30C952D0C1AD88572C78E3281B4453_element_916\")>,\n",
       " <selenium.webdriver.remote.webelement.WebElement (session=\"2cafe71a55db32e9af9289a069ba1d80\", element=\"1C30C952D0C1AD88572C78E3281B4453_element_917\")>,\n",
       " <selenium.webdriver.remote.webelement.WebElement (session=\"2cafe71a55db32e9af9289a069ba1d80\", element=\"1C30C952D0C1AD88572C78E3281B4453_element_918\")>,\n",
       " <selenium.webdriver.remote.webelement.WebElement (session=\"2cafe71a55db32e9af9289a069ba1d80\", element=\"1C30C952D0C1AD88572C78E3281B4453_element_919\")>,\n",
       " <selenium.webdriver.remote.webelement.WebElement (session=\"2cafe71a55db32e9af9289a069ba1d80\", element=\"1C30C952D0C1AD88572C78E3281B4453_element_920\")>,\n",
       " <selenium.webdriver.remote.webelement.WebElement (session=\"2cafe71a55db32e9af9289a069ba1d80\", element=\"1C30C952D0C1AD88572C78E3281B4453_element_921\")>,\n",
       " <selenium.webdriver.remote.webelement.WebElement (session=\"2cafe71a55db32e9af9289a069ba1d80\", element=\"1C30C952D0C1AD88572C78E3281B4453_element_922\")>,\n",
       " <selenium.webdriver.remote.webelement.WebElement (session=\"2cafe71a55db32e9af9289a069ba1d80\", element=\"1C30C952D0C1AD88572C78E3281B4453_element_923\")>,\n",
       " <selenium.webdriver.remote.webelement.WebElement (session=\"2cafe71a55db32e9af9289a069ba1d80\", element=\"1C30C952D0C1AD88572C78E3281B4453_element_924\")>,\n",
       " <selenium.webdriver.remote.webelement.WebElement (session=\"2cafe71a55db32e9af9289a069ba1d80\", element=\"1C30C952D0C1AD88572C78E3281B4453_element_925\")>,\n",
       " <selenium.webdriver.remote.webelement.WebElement (session=\"2cafe71a55db32e9af9289a069ba1d80\", element=\"1C30C952D0C1AD88572C78E3281B4453_element_926\")>,\n",
       " <selenium.webdriver.remote.webelement.WebElement (session=\"2cafe71a55db32e9af9289a069ba1d80\", element=\"1C30C952D0C1AD88572C78E3281B4453_element_927\")>,\n",
       " <selenium.webdriver.remote.webelement.WebElement (session=\"2cafe71a55db32e9af9289a069ba1d80\", element=\"1C30C952D0C1AD88572C78E3281B4453_element_928\")>,\n",
       " <selenium.webdriver.remote.webelement.WebElement (session=\"2cafe71a55db32e9af9289a069ba1d80\", element=\"1C30C952D0C1AD88572C78E3281B4453_element_929\")>,\n",
       " <selenium.webdriver.remote.webelement.WebElement (session=\"2cafe71a55db32e9af9289a069ba1d80\", element=\"1C30C952D0C1AD88572C78E3281B4453_element_930\")>,\n",
       " <selenium.webdriver.remote.webelement.WebElement (session=\"2cafe71a55db32e9af9289a069ba1d80\", element=\"1C30C952D0C1AD88572C78E3281B4453_element_931\")>,\n",
       " <selenium.webdriver.remote.webelement.WebElement (session=\"2cafe71a55db32e9af9289a069ba1d80\", element=\"1C30C952D0C1AD88572C78E3281B4453_element_932\")>,\n",
       " <selenium.webdriver.remote.webelement.WebElement (session=\"2cafe71a55db32e9af9289a069ba1d80\", element=\"1C30C952D0C1AD88572C78E3281B4453_element_933\")>,\n",
       " <selenium.webdriver.remote.webelement.WebElement (session=\"2cafe71a55db32e9af9289a069ba1d80\", element=\"1C30C952D0C1AD88572C78E3281B4453_element_934\")>,\n",
       " <selenium.webdriver.remote.webelement.WebElement (session=\"2cafe71a55db32e9af9289a069ba1d80\", element=\"1C30C952D0C1AD88572C78E3281B4453_element_935\")>,\n",
       " <selenium.webdriver.remote.webelement.WebElement (session=\"2cafe71a55db32e9af9289a069ba1d80\", element=\"1C30C952D0C1AD88572C78E3281B4453_element_936\")>,\n",
       " <selenium.webdriver.remote.webelement.WebElement (session=\"2cafe71a55db32e9af9289a069ba1d80\", element=\"1C30C952D0C1AD88572C78E3281B4453_element_937\")>,\n",
       " <selenium.webdriver.remote.webelement.WebElement (session=\"2cafe71a55db32e9af9289a069ba1d80\", element=\"1C30C952D0C1AD88572C78E3281B4453_element_938\")>,\n",
       " <selenium.webdriver.remote.webelement.WebElement (session=\"2cafe71a55db32e9af9289a069ba1d80\", element=\"1C30C952D0C1AD88572C78E3281B4453_element_939\")>,\n",
       " <selenium.webdriver.remote.webelement.WebElement (session=\"2cafe71a55db32e9af9289a069ba1d80\", element=\"1C30C952D0C1AD88572C78E3281B4453_element_940\")>,\n",
       " <selenium.webdriver.remote.webelement.WebElement (session=\"2cafe71a55db32e9af9289a069ba1d80\", element=\"1C30C952D0C1AD88572C78E3281B4453_element_941\")>,\n",
       " <selenium.webdriver.remote.webelement.WebElement (session=\"2cafe71a55db32e9af9289a069ba1d80\", element=\"1C30C952D0C1AD88572C78E3281B4453_element_942\")>,\n",
       " <selenium.webdriver.remote.webelement.WebElement (session=\"2cafe71a55db32e9af9289a069ba1d80\", element=\"1C30C952D0C1AD88572C78E3281B4453_element_943\")>,\n",
       " <selenium.webdriver.remote.webelement.WebElement (session=\"2cafe71a55db32e9af9289a069ba1d80\", element=\"1C30C952D0C1AD88572C78E3281B4453_element_944\")>,\n",
       " <selenium.webdriver.remote.webelement.WebElement (session=\"2cafe71a55db32e9af9289a069ba1d80\", element=\"1C30C952D0C1AD88572C78E3281B4453_element_945\")>,\n",
       " <selenium.webdriver.remote.webelement.WebElement (session=\"2cafe71a55db32e9af9289a069ba1d80\", element=\"1C30C952D0C1AD88572C78E3281B4453_element_946\")>,\n",
       " <selenium.webdriver.remote.webelement.WebElement (session=\"2cafe71a55db32e9af9289a069ba1d80\", element=\"1C30C952D0C1AD88572C78E3281B4453_element_947\")>,\n",
       " <selenium.webdriver.remote.webelement.WebElement (session=\"2cafe71a55db32e9af9289a069ba1d80\", element=\"1C30C952D0C1AD88572C78E3281B4453_element_948\")>,\n",
       " <selenium.webdriver.remote.webelement.WebElement (session=\"2cafe71a55db32e9af9289a069ba1d80\", element=\"1C30C952D0C1AD88572C78E3281B4453_element_949\")>,\n",
       " <selenium.webdriver.remote.webelement.WebElement (session=\"2cafe71a55db32e9af9289a069ba1d80\", element=\"1C30C952D0C1AD88572C78E3281B4453_element_950\")>,\n",
       " <selenium.webdriver.remote.webelement.WebElement (session=\"2cafe71a55db32e9af9289a069ba1d80\", element=\"1C30C952D0C1AD88572C78E3281B4453_element_951\")>,\n",
       " <selenium.webdriver.remote.webelement.WebElement (session=\"2cafe71a55db32e9af9289a069ba1d80\", element=\"1C30C952D0C1AD88572C78E3281B4453_element_952\")>,\n",
       " <selenium.webdriver.remote.webelement.WebElement (session=\"2cafe71a55db32e9af9289a069ba1d80\", element=\"1C30C952D0C1AD88572C78E3281B4453_element_953\")>,\n",
       " <selenium.webdriver.remote.webelement.WebElement (session=\"2cafe71a55db32e9af9289a069ba1d80\", element=\"1C30C952D0C1AD88572C78E3281B4453_element_954\")>,\n",
       " <selenium.webdriver.remote.webelement.WebElement (session=\"2cafe71a55db32e9af9289a069ba1d80\", element=\"1C30C952D0C1AD88572C78E3281B4453_element_955\")>,\n",
       " <selenium.webdriver.remote.webelement.WebElement (session=\"2cafe71a55db32e9af9289a069ba1d80\", element=\"1C30C952D0C1AD88572C78E3281B4453_element_956\")>,\n",
       " <selenium.webdriver.remote.webelement.WebElement (session=\"2cafe71a55db32e9af9289a069ba1d80\", element=\"1C30C952D0C1AD88572C78E3281B4453_element_957\")>,\n",
       " <selenium.webdriver.remote.webelement.WebElement (session=\"2cafe71a55db32e9af9289a069ba1d80\", element=\"1C30C952D0C1AD88572C78E3281B4453_element_958\")>,\n",
       " <selenium.webdriver.remote.webelement.WebElement (session=\"2cafe71a55db32e9af9289a069ba1d80\", element=\"1C30C952D0C1AD88572C78E3281B4453_element_959\")>,\n",
       " <selenium.webdriver.remote.webelement.WebElement (session=\"2cafe71a55db32e9af9289a069ba1d80\", element=\"1C30C952D0C1AD88572C78E3281B4453_element_960\")>,\n",
       " <selenium.webdriver.remote.webelement.WebElement (session=\"2cafe71a55db32e9af9289a069ba1d80\", element=\"1C30C952D0C1AD88572C78E3281B4453_element_961\")>,\n",
       " <selenium.webdriver.remote.webelement.WebElement (session=\"2cafe71a55db32e9af9289a069ba1d80\", element=\"1C30C952D0C1AD88572C78E3281B4453_element_962\")>,\n",
       " <selenium.webdriver.remote.webelement.WebElement (session=\"2cafe71a55db32e9af9289a069ba1d80\", element=\"1C30C952D0C1AD88572C78E3281B4453_element_963\")>,\n",
       " <selenium.webdriver.remote.webelement.WebElement (session=\"2cafe71a55db32e9af9289a069ba1d80\", element=\"1C30C952D0C1AD88572C78E3281B4453_element_964\")>,\n",
       " <selenium.webdriver.remote.webelement.WebElement (session=\"2cafe71a55db32e9af9289a069ba1d80\", element=\"1C30C952D0C1AD88572C78E3281B4453_element_965\")>,\n",
       " <selenium.webdriver.remote.webelement.WebElement (session=\"2cafe71a55db32e9af9289a069ba1d80\", element=\"1C30C952D0C1AD88572C78E3281B4453_element_966\")>,\n",
       " <selenium.webdriver.remote.webelement.WebElement (session=\"2cafe71a55db32e9af9289a069ba1d80\", element=\"1C30C952D0C1AD88572C78E3281B4453_element_967\")>,\n",
       " <selenium.webdriver.remote.webelement.WebElement (session=\"2cafe71a55db32e9af9289a069ba1d80\", element=\"1C30C952D0C1AD88572C78E3281B4453_element_968\")>,\n",
       " <selenium.webdriver.remote.webelement.WebElement (session=\"2cafe71a55db32e9af9289a069ba1d80\", element=\"1C30C952D0C1AD88572C78E3281B4453_element_969\")>,\n",
       " <selenium.webdriver.remote.webelement.WebElement (session=\"2cafe71a55db32e9af9289a069ba1d80\", element=\"1C30C952D0C1AD88572C78E3281B4453_element_970\")>,\n",
       " <selenium.webdriver.remote.webelement.WebElement (session=\"2cafe71a55db32e9af9289a069ba1d80\", element=\"1C30C952D0C1AD88572C78E3281B4453_element_971\")>,\n",
       " <selenium.webdriver.remote.webelement.WebElement (session=\"2cafe71a55db32e9af9289a069ba1d80\", element=\"1C30C952D0C1AD88572C78E3281B4453_element_972\")>,\n",
       " <selenium.webdriver.remote.webelement.WebElement (session=\"2cafe71a55db32e9af9289a069ba1d80\", element=\"1C30C952D0C1AD88572C78E3281B4453_element_973\")>,\n",
       " <selenium.webdriver.remote.webelement.WebElement (session=\"2cafe71a55db32e9af9289a069ba1d80\", element=\"1C30C952D0C1AD88572C78E3281B4453_element_974\")>,\n",
       " <selenium.webdriver.remote.webelement.WebElement (session=\"2cafe71a55db32e9af9289a069ba1d80\", element=\"1C30C952D0C1AD88572C78E3281B4453_element_975\")>,\n",
       " <selenium.webdriver.remote.webelement.WebElement (session=\"2cafe71a55db32e9af9289a069ba1d80\", element=\"1C30C952D0C1AD88572C78E3281B4453_element_976\")>,\n",
       " <selenium.webdriver.remote.webelement.WebElement (session=\"2cafe71a55db32e9af9289a069ba1d80\", element=\"1C30C952D0C1AD88572C78E3281B4453_element_977\")>,\n",
       " <selenium.webdriver.remote.webelement.WebElement (session=\"2cafe71a55db32e9af9289a069ba1d80\", element=\"1C30C952D0C1AD88572C78E3281B4453_element_978\")>,\n",
       " <selenium.webdriver.remote.webelement.WebElement (session=\"2cafe71a55db32e9af9289a069ba1d80\", element=\"1C30C952D0C1AD88572C78E3281B4453_element_979\")>,\n",
       " <selenium.webdriver.remote.webelement.WebElement (session=\"2cafe71a55db32e9af9289a069ba1d80\", element=\"1C30C952D0C1AD88572C78E3281B4453_element_980\")>,\n",
       " <selenium.webdriver.remote.webelement.WebElement (session=\"2cafe71a55db32e9af9289a069ba1d80\", element=\"1C30C952D0C1AD88572C78E3281B4453_element_981\")>,\n",
       " <selenium.webdriver.remote.webelement.WebElement (session=\"2cafe71a55db32e9af9289a069ba1d80\", element=\"1C30C952D0C1AD88572C78E3281B4453_element_982\")>,\n",
       " <selenium.webdriver.remote.webelement.WebElement (session=\"2cafe71a55db32e9af9289a069ba1d80\", element=\"1C30C952D0C1AD88572C78E3281B4453_element_983\")>,\n",
       " <selenium.webdriver.remote.webelement.WebElement (session=\"2cafe71a55db32e9af9289a069ba1d80\", element=\"1C30C952D0C1AD88572C78E3281B4453_element_984\")>,\n",
       " <selenium.webdriver.remote.webelement.WebElement (session=\"2cafe71a55db32e9af9289a069ba1d80\", element=\"1C30C952D0C1AD88572C78E3281B4453_element_985\")>,\n",
       " <selenium.webdriver.remote.webelement.WebElement (session=\"2cafe71a55db32e9af9289a069ba1d80\", element=\"1C30C952D0C1AD88572C78E3281B4453_element_986\")>,\n",
       " <selenium.webdriver.remote.webelement.WebElement (session=\"2cafe71a55db32e9af9289a069ba1d80\", element=\"1C30C952D0C1AD88572C78E3281B4453_element_987\")>,\n",
       " <selenium.webdriver.remote.webelement.WebElement (session=\"2cafe71a55db32e9af9289a069ba1d80\", element=\"1C30C952D0C1AD88572C78E3281B4453_element_988\")>,\n",
       " <selenium.webdriver.remote.webelement.WebElement (session=\"2cafe71a55db32e9af9289a069ba1d80\", element=\"1C30C952D0C1AD88572C78E3281B4453_element_989\")>,\n",
       " <selenium.webdriver.remote.webelement.WebElement (session=\"2cafe71a55db32e9af9289a069ba1d80\", element=\"1C30C952D0C1AD88572C78E3281B4453_element_990\")>,\n",
       " <selenium.webdriver.remote.webelement.WebElement (session=\"2cafe71a55db32e9af9289a069ba1d80\", element=\"1C30C952D0C1AD88572C78E3281B4453_element_991\")>,\n",
       " <selenium.webdriver.remote.webelement.WebElement (session=\"2cafe71a55db32e9af9289a069ba1d80\", element=\"1C30C952D0C1AD88572C78E3281B4453_element_992\")>,\n",
       " <selenium.webdriver.remote.webelement.WebElement (session=\"2cafe71a55db32e9af9289a069ba1d80\", element=\"1C30C952D0C1AD88572C78E3281B4453_element_993\")>,\n",
       " <selenium.webdriver.remote.webelement.WebElement (session=\"2cafe71a55db32e9af9289a069ba1d80\", element=\"1C30C952D0C1AD88572C78E3281B4453_element_994\")>,\n",
       " <selenium.webdriver.remote.webelement.WebElement (session=\"2cafe71a55db32e9af9289a069ba1d80\", element=\"1C30C952D0C1AD88572C78E3281B4453_element_995\")>,\n",
       " <selenium.webdriver.remote.webelement.WebElement (session=\"2cafe71a55db32e9af9289a069ba1d80\", element=\"1C30C952D0C1AD88572C78E3281B4453_element_996\")>,\n",
       " <selenium.webdriver.remote.webelement.WebElement (session=\"2cafe71a55db32e9af9289a069ba1d80\", element=\"1C30C952D0C1AD88572C78E3281B4453_element_997\")>,\n",
       " <selenium.webdriver.remote.webelement.WebElement (session=\"2cafe71a55db32e9af9289a069ba1d80\", element=\"1C30C952D0C1AD88572C78E3281B4453_element_998\")>,\n",
       " <selenium.webdriver.remote.webelement.WebElement (session=\"2cafe71a55db32e9af9289a069ba1d80\", element=\"1C30C952D0C1AD88572C78E3281B4453_element_999\")>,\n",
       " <selenium.webdriver.remote.webelement.WebElement (session=\"2cafe71a55db32e9af9289a069ba1d80\", element=\"1C30C952D0C1AD88572C78E3281B4453_element_1000\")>,\n",
       " <selenium.webdriver.remote.webelement.WebElement (session=\"2cafe71a55db32e9af9289a069ba1d80\", element=\"1C30C952D0C1AD88572C78E3281B4453_element_1001\")>,\n",
       " <selenium.webdriver.remote.webelement.WebElement (session=\"2cafe71a55db32e9af9289a069ba1d80\", element=\"1C30C952D0C1AD88572C78E3281B4453_element_1002\")>,\n",
       " <selenium.webdriver.remote.webelement.WebElement (session=\"2cafe71a55db32e9af9289a069ba1d80\", element=\"1C30C952D0C1AD88572C78E3281B4453_element_1003\")>,\n",
       " <selenium.webdriver.remote.webelement.WebElement (session=\"2cafe71a55db32e9af9289a069ba1d80\", element=\"1C30C952D0C1AD88572C78E3281B4453_element_1004\")>,\n",
       " <selenium.webdriver.remote.webelement.WebElement (session=\"2cafe71a55db32e9af9289a069ba1d80\", element=\"1C30C952D0C1AD88572C78E3281B4453_element_1005\")>,\n",
       " <selenium.webdriver.remote.webelement.WebElement (session=\"2cafe71a55db32e9af9289a069ba1d80\", element=\"1C30C952D0C1AD88572C78E3281B4453_element_1006\")>,\n",
       " <selenium.webdriver.remote.webelement.WebElement (session=\"2cafe71a55db32e9af9289a069ba1d80\", element=\"1C30C952D0C1AD88572C78E3281B4453_element_1007\")>,\n",
       " <selenium.webdriver.remote.webelement.WebElement (session=\"2cafe71a55db32e9af9289a069ba1d80\", element=\"1C30C952D0C1AD88572C78E3281B4453_element_1008\")>,\n",
       " <selenium.webdriver.remote.webelement.WebElement (session=\"2cafe71a55db32e9af9289a069ba1d80\", element=\"1C30C952D0C1AD88572C78E3281B4453_element_1009\")>,\n",
       " <selenium.webdriver.remote.webelement.WebElement (session=\"2cafe71a55db32e9af9289a069ba1d80\", element=\"1C30C952D0C1AD88572C78E3281B4453_element_1010\")>,\n",
       " <selenium.webdriver.remote.webelement.WebElement (session=\"2cafe71a55db32e9af9289a069ba1d80\", element=\"1C30C952D0C1AD88572C78E3281B4453_element_1011\")>,\n",
       " <selenium.webdriver.remote.webelement.WebElement (session=\"2cafe71a55db32e9af9289a069ba1d80\", element=\"1C30C952D0C1AD88572C78E3281B4453_element_1012\")>,\n",
       " <selenium.webdriver.remote.webelement.WebElement (session=\"2cafe71a55db32e9af9289a069ba1d80\", element=\"1C30C952D0C1AD88572C78E3281B4453_element_1013\")>,\n",
       " <selenium.webdriver.remote.webelement.WebElement (session=\"2cafe71a55db32e9af9289a069ba1d80\", element=\"1C30C952D0C1AD88572C78E3281B4453_element_1014\")>,\n",
       " <selenium.webdriver.remote.webelement.WebElement (session=\"2cafe71a55db32e9af9289a069ba1d80\", element=\"1C30C952D0C1AD88572C78E3281B4453_element_1015\")>,\n",
       " <selenium.webdriver.remote.webelement.WebElement (session=\"2cafe71a55db32e9af9289a069ba1d80\", element=\"1C30C952D0C1AD88572C78E3281B4453_element_1016\")>,\n",
       " <selenium.webdriver.remote.webelement.WebElement (session=\"2cafe71a55db32e9af9289a069ba1d80\", element=\"1C30C952D0C1AD88572C78E3281B4453_element_1017\")>,\n",
       " <selenium.webdriver.remote.webelement.WebElement (session=\"2cafe71a55db32e9af9289a069ba1d80\", element=\"1C30C952D0C1AD88572C78E3281B4453_element_1018\")>,\n",
       " <selenium.webdriver.remote.webelement.WebElement (session=\"2cafe71a55db32e9af9289a069ba1d80\", element=\"1C30C952D0C1AD88572C78E3281B4453_element_1019\")>,\n",
       " <selenium.webdriver.remote.webelement.WebElement (session=\"2cafe71a55db32e9af9289a069ba1d80\", element=\"1C30C952D0C1AD88572C78E3281B4453_element_1020\")>,\n",
       " ...]"
      ]
     },
     "execution_count": 20,
     "metadata": {},
     "output_type": "execute_result"
    }
   ],
   "source": [
    "# scrape all \n",
    "driver = webdriver.Chrome()\n",
    "driver.get('https://gov.illinois.gov/newsroom/all-news.html')\n",
    "\n",
    "wait = WebDriverWait(driver, 10)\n",
    "\n",
    "wait.until(EC.presence_of_all_elements_located((By.CLASS_NAME, 'cmp-news-feed__text')))\n",
    "\n",
    "results = driver.find_elements(By.CLASS_NAME, 'cmp-news-feed__text')\n",
    "\n",
    "results_list = [{'title': i.find_element(By.TAG_NAME, 'a').text,\n",
    "                'date': i.find_element(By.TAG_NAME, 'span').text, \n",
    "                'link': i.find_element(By.TAG_NAME, 'a').get_attribute('href')} for i in results]\n",
    "\n",
    "df = pd.DataFrame.from_dict(results_list)\n",
    "\n",
    "driver.close() "
   ]
  },
  {
   "cell_type": "code",
   "execution_count": 21,
   "id": "c3678a67",
   "metadata": {
    "hidden": true
   },
   "outputs": [
    {
     "data": {
      "text/html": [
       "<div>\n",
       "<style scoped>\n",
       "    .dataframe tbody tr th:only-of-type {\n",
       "        vertical-align: middle;\n",
       "    }\n",
       "\n",
       "    .dataframe tbody tr th {\n",
       "        vertical-align: top;\n",
       "    }\n",
       "\n",
       "    .dataframe thead th {\n",
       "        text-align: right;\n",
       "    }\n",
       "</style>\n",
       "<table border=\"1\" class=\"dataframe\">\n",
       "  <thead>\n",
       "    <tr style=\"text-align: right;\">\n",
       "      <th></th>\n",
       "      <th>title</th>\n",
       "      <th>date</th>\n",
       "      <th>link</th>\n",
       "    </tr>\n",
       "  </thead>\n",
       "  <tbody>\n",
       "    <tr>\n",
       "      <th>0</th>\n",
       "      <td>Gov. Pritzker Advances Fiscal Responsibility, ...</td>\n",
       "      <td>Press Release - Wednesday, February 21, 2024</td>\n",
       "      <td>https://gov.illinois.gov/newsroom/press-releas...</td>\n",
       "    </tr>\n",
       "    <tr>\n",
       "      <th>1</th>\n",
       "      <td>Gov. Pritzker Announces One Appointment to Boa...</td>\n",
       "      <td>Press Release - Friday, February 16, 2024</td>\n",
       "      <td>https://gov.illinois.gov/newsroom/press-releas...</td>\n",
       "    </tr>\n",
       "    <tr>\n",
       "      <th>2</th>\n",
       "      <td>Seasonal Respiratory Viruses Remain at Low Lev...</td>\n",
       "      <td>Press Release - Friday, February 16, 2024</td>\n",
       "      <td>https://gov.illinois.gov/newsroom/press-releas...</td>\n",
       "    </tr>\n",
       "    <tr>\n",
       "      <th>3</th>\n",
       "      <td>State and County Announce $250 Million Commitm...</td>\n",
       "      <td>Press Release - Thursday, February 15, 2024</td>\n",
       "      <td>https://gov.illinois.gov/newsroom/press-releas...</td>\n",
       "    </tr>\n",
       "    <tr>\n",
       "      <th>4</th>\n",
       "      <td>Governor Pritzker Awards Over $18 Million in G...</td>\n",
       "      <td>Press Release - Thursday, February 15, 2024</td>\n",
       "      <td>https://gov.illinois.gov/newsroom/press-releas...</td>\n",
       "    </tr>\n",
       "  </tbody>\n",
       "</table>\n",
       "</div>"
      ],
      "text/plain": [
       "                                               title  \\\n",
       "0  Gov. Pritzker Advances Fiscal Responsibility, ...   \n",
       "1  Gov. Pritzker Announces One Appointment to Boa...   \n",
       "2  Seasonal Respiratory Viruses Remain at Low Lev...   \n",
       "3  State and County Announce $250 Million Commitm...   \n",
       "4  Governor Pritzker Awards Over $18 Million in G...   \n",
       "\n",
       "                                           date  \\\n",
       "0  Press Release - Wednesday, February 21, 2024   \n",
       "1     Press Release - Friday, February 16, 2024   \n",
       "2     Press Release - Friday, February 16, 2024   \n",
       "3   Press Release - Thursday, February 15, 2024   \n",
       "4   Press Release - Thursday, February 15, 2024   \n",
       "\n",
       "                                                link  \n",
       "0  https://gov.illinois.gov/newsroom/press-releas...  \n",
       "1  https://gov.illinois.gov/newsroom/press-releas...  \n",
       "2  https://gov.illinois.gov/newsroom/press-releas...  \n",
       "3  https://gov.illinois.gov/newsroom/press-releas...  \n",
       "4  https://gov.illinois.gov/newsroom/press-releas...  "
      ]
     },
     "execution_count": 21,
     "metadata": {},
     "output_type": "execute_result"
    },
    {
     "name": "stdout",
     "output_type": "stream",
     "text": [
      "<class 'pandas.core.frame.DataFrame'>\n",
      "RangeIndex: 8588 entries, 0 to 8587\n",
      "Data columns (total 3 columns):\n",
      " #   Column  Non-Null Count  Dtype \n",
      "---  ------  --------------  ----- \n",
      " 0   title   8588 non-null   object\n",
      " 1   date    8588 non-null   object\n",
      " 2   link    8588 non-null   object\n",
      "dtypes: object(3)\n",
      "memory usage: 201.4+ KB\n"
     ]
    }
   ],
   "source": [
    "df.head()\n",
    "df.info()"
   ]
  },
  {
   "cell_type": "code",
   "execution_count": 23,
   "id": "5fc921f7",
   "metadata": {
    "hidden": true
   },
   "outputs": [
    {
     "data": {
      "text/html": [
       "<div>\n",
       "<style scoped>\n",
       "    .dataframe tbody tr th:only-of-type {\n",
       "        vertical-align: middle;\n",
       "    }\n",
       "\n",
       "    .dataframe tbody tr th {\n",
       "        vertical-align: top;\n",
       "    }\n",
       "\n",
       "    .dataframe thead th {\n",
       "        text-align: right;\n",
       "    }\n",
       "</style>\n",
       "<table border=\"1\" class=\"dataframe\">\n",
       "  <thead>\n",
       "    <tr style=\"text-align: right;\">\n",
       "      <th></th>\n",
       "      <th>title</th>\n",
       "      <th>date</th>\n",
       "      <th>link</th>\n",
       "    </tr>\n",
       "  </thead>\n",
       "  <tbody>\n",
       "    <tr>\n",
       "      <th>8583</th>\n",
       "      <td>Blagojevich takes action to protect consumers ...</td>\n",
       "      <td>Press Release - Wednesday, August 20, 2003</td>\n",
       "      <td>https://gov.illinois.gov/newsroom/press-releas...</td>\n",
       "    </tr>\n",
       "    <tr>\n",
       "      <th>8584</th>\n",
       "      <td>Governor signs legislation to help ease state ...</td>\n",
       "      <td>Press Release - Wednesday, August 20, 2003</td>\n",
       "      <td>https://gov.illinois.gov/newsroom/press-releas...</td>\n",
       "    </tr>\n",
       "    <tr>\n",
       "      <th>8585</th>\n",
       "      <td>Blagojevich signs law to protect the public fr...</td>\n",
       "      <td>Press Release - Tuesday, August 19, 2003</td>\n",
       "      <td>https://gov.illinois.gov/newsroom/press-releas...</td>\n",
       "    </tr>\n",
       "    <tr>\n",
       "      <th>8586</th>\n",
       "      <td>GOVERNOR NAMES DEPUTY CHIEF OF STAFF FOR EDUCA...</td>\n",
       "      <td>Press Release - Monday, August 18, 2003</td>\n",
       "      <td>https://gov.illinois.gov/newsroom/press-releas...</td>\n",
       "    </tr>\n",
       "    <tr>\n",
       "      <th>8587</th>\n",
       "      <td>Governor Signs Bill to Attract Film Industry B...</td>\n",
       "      <td>Press Release - Monday, August 18, 2003</td>\n",
       "      <td>https://gov.illinois.gov/newsroom/press-releas...</td>\n",
       "    </tr>\n",
       "  </tbody>\n",
       "</table>\n",
       "</div>"
      ],
      "text/plain": [
       "                                                  title  \\\n",
       "8583  Blagojevich takes action to protect consumers ...   \n",
       "8584  Governor signs legislation to help ease state ...   \n",
       "8585  Blagojevich signs law to protect the public fr...   \n",
       "8586  GOVERNOR NAMES DEPUTY CHIEF OF STAFF FOR EDUCA...   \n",
       "8587  Governor Signs Bill to Attract Film Industry B...   \n",
       "\n",
       "                                            date  \\\n",
       "8583  Press Release - Wednesday, August 20, 2003   \n",
       "8584  Press Release - Wednesday, August 20, 2003   \n",
       "8585    Press Release - Tuesday, August 19, 2003   \n",
       "8586     Press Release - Monday, August 18, 2003   \n",
       "8587     Press Release - Monday, August 18, 2003   \n",
       "\n",
       "                                                   link  \n",
       "8583  https://gov.illinois.gov/newsroom/press-releas...  \n",
       "8584  https://gov.illinois.gov/newsroom/press-releas...  \n",
       "8585  https://gov.illinois.gov/newsroom/press-releas...  \n",
       "8586  https://gov.illinois.gov/newsroom/press-releas...  \n",
       "8587  https://gov.illinois.gov/newsroom/press-releas...  "
      ]
     },
     "execution_count": 23,
     "metadata": {},
     "output_type": "execute_result"
    }
   ],
   "source": [
    "df.tail()"
   ]
  },
  {
   "cell_type": "code",
   "execution_count": null,
   "id": "1890359a",
   "metadata": {
    "hidden": true
   },
   "outputs": [],
   "source": [
    "# subset to 2023 - this pulled 10 years "
   ]
  },
  {
   "cell_type": "code",
   "execution_count": 48,
   "id": "1e5a60d2",
   "metadata": {
    "hidden": true
   },
   "outputs": [
    {
     "data": {
      "text/plain": [
       "'February 21, 2024'"
      ]
     },
     "execution_count": 48,
     "metadata": {},
     "output_type": "execute_result"
    }
   ],
   "source": [
    "# test date cleaning method \n",
    "text = 'Press Release - Wednesday, February 21, 2024'\n",
    "def clean_date(text):\n",
    "    result = text.split(',')\n",
    "    date_clean = (result[1] + \",\" + result[2]).strip()\n",
    "    return date_clean\n",
    "\n",
    "clean_date(text)"
   ]
  },
  {
   "cell_type": "code",
   "execution_count": 49,
   "id": "2b95635e",
   "metadata": {
    "hidden": true
   },
   "outputs": [],
   "source": [
    "# create clean date column \n",
    "df['date_cl']  = [clean_date(i) for i in df.date]"
   ]
  },
  {
   "cell_type": "code",
   "execution_count": 50,
   "id": "f8012daa",
   "metadata": {
    "hidden": true
   },
   "outputs": [
    {
     "data": {
      "text/html": [
       "<div>\n",
       "<style scoped>\n",
       "    .dataframe tbody tr th:only-of-type {\n",
       "        vertical-align: middle;\n",
       "    }\n",
       "\n",
       "    .dataframe tbody tr th {\n",
       "        vertical-align: top;\n",
       "    }\n",
       "\n",
       "    .dataframe thead th {\n",
       "        text-align: right;\n",
       "    }\n",
       "</style>\n",
       "<table border=\"1\" class=\"dataframe\">\n",
       "  <thead>\n",
       "    <tr style=\"text-align: right;\">\n",
       "      <th></th>\n",
       "      <th>title</th>\n",
       "      <th>date</th>\n",
       "      <th>link</th>\n",
       "      <th>date_cl</th>\n",
       "    </tr>\n",
       "  </thead>\n",
       "  <tbody>\n",
       "    <tr>\n",
       "      <th>0</th>\n",
       "      <td>Gov. Pritzker Advances Fiscal Responsibility, ...</td>\n",
       "      <td>Press Release - Wednesday, February 21, 2024</td>\n",
       "      <td>https://gov.illinois.gov/newsroom/press-releas...</td>\n",
       "      <td>February 21, 2024</td>\n",
       "    </tr>\n",
       "    <tr>\n",
       "      <th>1</th>\n",
       "      <td>Gov. Pritzker Announces One Appointment to Boa...</td>\n",
       "      <td>Press Release - Friday, February 16, 2024</td>\n",
       "      <td>https://gov.illinois.gov/newsroom/press-releas...</td>\n",
       "      <td>February 16, 2024</td>\n",
       "    </tr>\n",
       "    <tr>\n",
       "      <th>2</th>\n",
       "      <td>Seasonal Respiratory Viruses Remain at Low Lev...</td>\n",
       "      <td>Press Release - Friday, February 16, 2024</td>\n",
       "      <td>https://gov.illinois.gov/newsroom/press-releas...</td>\n",
       "      <td>February 16, 2024</td>\n",
       "    </tr>\n",
       "    <tr>\n",
       "      <th>3</th>\n",
       "      <td>State and County Announce $250 Million Commitm...</td>\n",
       "      <td>Press Release - Thursday, February 15, 2024</td>\n",
       "      <td>https://gov.illinois.gov/newsroom/press-releas...</td>\n",
       "      <td>February 15, 2024</td>\n",
       "    </tr>\n",
       "    <tr>\n",
       "      <th>4</th>\n",
       "      <td>Governor Pritzker Awards Over $18 Million in G...</td>\n",
       "      <td>Press Release - Thursday, February 15, 2024</td>\n",
       "      <td>https://gov.illinois.gov/newsroom/press-releas...</td>\n",
       "      <td>February 15, 2024</td>\n",
       "    </tr>\n",
       "  </tbody>\n",
       "</table>\n",
       "</div>"
      ],
      "text/plain": [
       "                                               title  \\\n",
       "0  Gov. Pritzker Advances Fiscal Responsibility, ...   \n",
       "1  Gov. Pritzker Announces One Appointment to Boa...   \n",
       "2  Seasonal Respiratory Viruses Remain at Low Lev...   \n",
       "3  State and County Announce $250 Million Commitm...   \n",
       "4  Governor Pritzker Awards Over $18 Million in G...   \n",
       "\n",
       "                                           date  \\\n",
       "0  Press Release - Wednesday, February 21, 2024   \n",
       "1     Press Release - Friday, February 16, 2024   \n",
       "2     Press Release - Friday, February 16, 2024   \n",
       "3   Press Release - Thursday, February 15, 2024   \n",
       "4   Press Release - Thursday, February 15, 2024   \n",
       "\n",
       "                                                link            date_cl  \n",
       "0  https://gov.illinois.gov/newsroom/press-releas...  February 21, 2024  \n",
       "1  https://gov.illinois.gov/newsroom/press-releas...  February 16, 2024  \n",
       "2  https://gov.illinois.gov/newsroom/press-releas...  February 16, 2024  \n",
       "3  https://gov.illinois.gov/newsroom/press-releas...  February 15, 2024  \n",
       "4  https://gov.illinois.gov/newsroom/press-releas...  February 15, 2024  "
      ]
     },
     "execution_count": 50,
     "metadata": {},
     "output_type": "execute_result"
    }
   ],
   "source": [
    "df.head()"
   ]
  },
  {
   "cell_type": "code",
   "execution_count": 52,
   "id": "2ef4bd5c",
   "metadata": {
    "hidden": true
   },
   "outputs": [],
   "source": [
    "# subset to 2023 only \n",
    "df['date_clean'] = pd.to_datetime(df['date_cl'])\n",
    "\n",
    "df_23 = df[(df['date_clean'] >= '2023-01-01')\n",
    "                     & (df['date_clean'] <= '2023-12-31')].copy()\n"
   ]
  },
  {
   "cell_type": "code",
   "execution_count": 56,
   "id": "e6c72191",
   "metadata": {
    "hidden": true
   },
   "outputs": [],
   "source": [
    "df.to_csv(f'{state}_links.csv', index = False)"
   ]
  },
  {
   "cell_type": "code",
   "execution_count": 53,
   "id": "526386e9",
   "metadata": {
    "hidden": true
   },
   "outputs": [],
   "source": [
    "combined = df_23.drop(columns = ['date', 'date_cl']).copy()"
   ]
  },
  {
   "cell_type": "code",
   "execution_count": 55,
   "id": "c08a5028",
   "metadata": {
    "hidden": true
   },
   "outputs": [
    {
     "name": "stdout",
     "output_type": "stream",
     "text": [
      "<class 'pandas.core.frame.DataFrame'>\n",
      "Int64Index: 533 entries, 55 to 587\n",
      "Data columns (total 3 columns):\n",
      " #   Column      Non-Null Count  Dtype         \n",
      "---  ------      --------------  -----         \n",
      " 0   title       533 non-null    object        \n",
      " 1   link        533 non-null    object        \n",
      " 2   date_clean  533 non-null    datetime64[ns]\n",
      "dtypes: datetime64[ns](1), object(2)\n",
      "memory usage: 16.7+ KB\n"
     ]
    },
    {
     "data": {
      "text/html": [
       "<div>\n",
       "<style scoped>\n",
       "    .dataframe tbody tr th:only-of-type {\n",
       "        vertical-align: middle;\n",
       "    }\n",
       "\n",
       "    .dataframe tbody tr th {\n",
       "        vertical-align: top;\n",
       "    }\n",
       "\n",
       "    .dataframe thead th {\n",
       "        text-align: right;\n",
       "    }\n",
       "</style>\n",
       "<table border=\"1\" class=\"dataframe\">\n",
       "  <thead>\n",
       "    <tr style=\"text-align: right;\">\n",
       "      <th></th>\n",
       "      <th>title</th>\n",
       "      <th>link</th>\n",
       "      <th>date_clean</th>\n",
       "    </tr>\n",
       "  </thead>\n",
       "  <tbody>\n",
       "    <tr>\n",
       "      <th>55</th>\n",
       "      <td>Gov. Pritzker Celebrates 2023 Executive and Le...</td>\n",
       "      <td>https://gov.illinois.gov/newsroom/press-releas...</td>\n",
       "      <td>2023-12-29</td>\n",
       "    </tr>\n",
       "    <tr>\n",
       "      <th>56</th>\n",
       "      <td>Paid Leave for All Workers Act Takes Effect Ja...</td>\n",
       "      <td>https://gov.illinois.gov/newsroom/press-releas...</td>\n",
       "      <td>2023-12-27</td>\n",
       "    </tr>\n",
       "    <tr>\n",
       "      <th>57</th>\n",
       "      <td>State Deploys Additional Resources to Support ...</td>\n",
       "      <td>https://gov.illinois.gov/newsroom/press-releas...</td>\n",
       "      <td>2023-12-24</td>\n",
       "    </tr>\n",
       "    <tr>\n",
       "      <th>58</th>\n",
       "      <td>New Laws Taking Effect January 1st Expand Leav...</td>\n",
       "      <td>https://gov.illinois.gov/newsroom/press-releas...</td>\n",
       "      <td>2023-12-21</td>\n",
       "    </tr>\n",
       "    <tr>\n",
       "      <th>59</th>\n",
       "      <td>Governor Pritzker Announces Federal Recompete ...</td>\n",
       "      <td>https://gov.illinois.gov/newsroom/press-releas...</td>\n",
       "      <td>2023-12-20</td>\n",
       "    </tr>\n",
       "  </tbody>\n",
       "</table>\n",
       "</div>"
      ],
      "text/plain": [
       "                                                title  \\\n",
       "55  Gov. Pritzker Celebrates 2023 Executive and Le...   \n",
       "56  Paid Leave for All Workers Act Takes Effect Ja...   \n",
       "57  State Deploys Additional Resources to Support ...   \n",
       "58  New Laws Taking Effect January 1st Expand Leav...   \n",
       "59  Governor Pritzker Announces Federal Recompete ...   \n",
       "\n",
       "                                                 link date_clean  \n",
       "55  https://gov.illinois.gov/newsroom/press-releas... 2023-12-29  \n",
       "56  https://gov.illinois.gov/newsroom/press-releas... 2023-12-27  \n",
       "57  https://gov.illinois.gov/newsroom/press-releas... 2023-12-24  \n",
       "58  https://gov.illinois.gov/newsroom/press-releas... 2023-12-21  \n",
       "59  https://gov.illinois.gov/newsroom/press-releas... 2023-12-20  "
      ]
     },
     "execution_count": 55,
     "metadata": {},
     "output_type": "execute_result"
    },
    {
     "data": {
      "text/html": [
       "<div>\n",
       "<style scoped>\n",
       "    .dataframe tbody tr th:only-of-type {\n",
       "        vertical-align: middle;\n",
       "    }\n",
       "\n",
       "    .dataframe tbody tr th {\n",
       "        vertical-align: top;\n",
       "    }\n",
       "\n",
       "    .dataframe thead th {\n",
       "        text-align: right;\n",
       "    }\n",
       "</style>\n",
       "<table border=\"1\" class=\"dataframe\">\n",
       "  <thead>\n",
       "    <tr style=\"text-align: right;\">\n",
       "      <th></th>\n",
       "      <th>title</th>\n",
       "      <th>link</th>\n",
       "      <th>date_clean</th>\n",
       "    </tr>\n",
       "  </thead>\n",
       "  <tbody>\n",
       "    <tr>\n",
       "      <th>583</th>\n",
       "      <td>Honoring Illinois' Fallen</td>\n",
       "      <td>https://gov.illinois.gov/newsroom/press-releas...</td>\n",
       "      <td>2023-01-06</td>\n",
       "    </tr>\n",
       "    <tr>\n",
       "      <th>584</th>\n",
       "      <td>Governor Pritzker Announces Second Term Agency...</td>\n",
       "      <td>https://gov.illinois.gov/newsroom/press-releas...</td>\n",
       "      <td>2023-01-06</td>\n",
       "    </tr>\n",
       "    <tr>\n",
       "      <th>585</th>\n",
       "      <td>Gov. Pritzker Visits Ball Elementary School to...</td>\n",
       "      <td>https://gov.illinois.gov/newsroom/press-releas...</td>\n",
       "      <td>2023-01-05</td>\n",
       "    </tr>\n",
       "    <tr>\n",
       "      <th>586</th>\n",
       "      <td>State Receives Donation of Large, Modern Offic...</td>\n",
       "      <td>https://gov.illinois.gov/newsroom/press-releas...</td>\n",
       "      <td>2023-01-04</td>\n",
       "    </tr>\n",
       "    <tr>\n",
       "      <th>587</th>\n",
       "      <td>Gov. Pritzker Highlights Investments in Early ...</td>\n",
       "      <td>https://gov.illinois.gov/newsroom/press-releas...</td>\n",
       "      <td>2023-01-04</td>\n",
       "    </tr>\n",
       "  </tbody>\n",
       "</table>\n",
       "</div>"
      ],
      "text/plain": [
       "                                                 title  \\\n",
       "583                          Honoring Illinois' Fallen   \n",
       "584  Governor Pritzker Announces Second Term Agency...   \n",
       "585  Gov. Pritzker Visits Ball Elementary School to...   \n",
       "586  State Receives Donation of Large, Modern Offic...   \n",
       "587  Gov. Pritzker Highlights Investments in Early ...   \n",
       "\n",
       "                                                  link date_clean  \n",
       "583  https://gov.illinois.gov/newsroom/press-releas... 2023-01-06  \n",
       "584  https://gov.illinois.gov/newsroom/press-releas... 2023-01-06  \n",
       "585  https://gov.illinois.gov/newsroom/press-releas... 2023-01-05  \n",
       "586  https://gov.illinois.gov/newsroom/press-releas... 2023-01-04  \n",
       "587  https://gov.illinois.gov/newsroom/press-releas... 2023-01-04  "
      ]
     },
     "execution_count": 55,
     "metadata": {},
     "output_type": "execute_result"
    }
   ],
   "source": [
    "combined.info()\n",
    "combined.head()\n",
    "combined.tail()"
   ]
  },
  {
   "cell_type": "code",
   "execution_count": 57,
   "id": "2c164b83",
   "metadata": {
    "hidden": true
   },
   "outputs": [],
   "source": [
    "# safety save \n",
    "combined.to_csv(f'{state}_links_23.csv', index = False)"
   ]
  },
  {
   "cell_type": "markdown",
   "id": "92cf01bb",
   "metadata": {},
   "source": [
    "## Scrape content from links\n",
    "`Beautiful Soup`"
   ]
  },
  {
   "cell_type": "markdown",
   "id": "0ef94b9c",
   "metadata": {
    "heading_collapsed": true
   },
   "source": [
    "### Test with one link"
   ]
  },
  {
   "cell_type": "code",
   "execution_count": 77,
   "id": "219060c0",
   "metadata": {
    "hidden": true
   },
   "outputs": [],
   "source": [
    "# define link scraping \n",
    "def get_illinois_content(link, df, header_list):\n",
    "    try: \n",
    "        # check if content has already been pulled\n",
    "        result = df.loc[df.link == link, 'content'].notnull().all()\n",
    "        if result:\n",
    "            return f'content already existing for {link}' \n",
    "        else: \n",
    "            try: \n",
    "                df['content']\n",
    "                server_response = requests.get(link, headers = header_list)\n",
    "                soup_link = bs4.BeautifulSoup(server_response.content, features=\"html.parser\")\n",
    "                result = soup_link.find('div', \n",
    "                                        class_ ='press-release aem-GridColumn--default--none aem-GridColumn--phone--12 aem-GridColumn--default--9 aem-GridColumn--phone--newline aem-GridColumn aem-GridColumn--offset--phone--0 aem-GridColumn--offset--default--0').find_all('p')\n",
    "                string_result = [str(i.text) for i in result]\n",
    "                string_result_clean = [i.replace(u'\\xa0', u'') for i in string_result]\n",
    "                string_result_clean = [i.replace(u'\\n', u'') for i in string_result_clean] \n",
    "                result_merged = \" \".join(string_result_clean)\n",
    "                \n",
    "                df.loc[df.link == link, 'content'] = result_merged\n",
    "                return f\"success: content added from {link}\"\n",
    "            except: \n",
    "                pass\n",
    "    except Exception as e: \n",
    "        return f\"unable to gather content from {link} due to {e}\"\n",
    "    #return df_updated "
   ]
  },
  {
   "cell_type": "code",
   "execution_count": 59,
   "id": "497843ea",
   "metadata": {
    "hidden": true
   },
   "outputs": [
    {
     "data": {
      "text/plain": [
       "<Response [200]>"
      ]
     },
     "execution_count": 59,
     "metadata": {},
     "output_type": "execute_result"
    }
   ],
   "source": [
    "# access webpage\n",
    "link = 'https://gov.illinois.gov/newsroom/press-release.29645.html'\n",
    "server_response = requests.get(link, headers = header_list)\n",
    "server_response"
   ]
  },
  {
   "cell_type": "code",
   "execution_count": 76,
   "id": "30642e3a",
   "metadata": {
    "hidden": true
   },
   "outputs": [
    {
     "data": {
      "text/plain": [
       "['\\nBuilding on a strong team of diverse experts in their fields, Governor JB Pritzker announced the following appointment in his administrationCapital Development BoardEileen Rhodes will continue to serve as a Member of the Capital Development Board.* Rhodes has over thirty years of residential property management and development experience. She currently serves as President for East Lake Management Group. Rhodes manages 10,000 housing units and oversees social services for senior buildings, single room occupancy buildings, and a mixed income rental development. Prior to joining East Lake Management, Rhodes was the Program Manager with Chicago Housing Authority and Director of Development with Chicago Dwellings Association. Rhodes is an active member in her community, where she is a board chair for Chicago Reader NFP and Illinois Capital Development Board; and is the owner of a Non-Profit Art Gallery Blanc Gallery. Eileen Rhodes received her Bachelor of Science from Georgetown University and her Master of Arts from Erikson Institute.* Appointments pending confirmation by the Illinois Senate\\n',\n",
       " '']"
      ]
     },
     "execution_count": 76,
     "metadata": {},
     "output_type": "execute_result"
    },
    {
     "data": {
      "text/plain": [
       "'Building on a strong team of diverse experts in their fields, Governor JB Pritzker announced the following appointment in his administrationCapital Development BoardEileen Rhodes will continue to serve as a Member of the Capital Development Board.* Rhodes has over thirty years of residential property management and development experience. She currently serves as President for East Lake Management Group. Rhodes manages 10,000 housing units and oversees social services for senior buildings, single room occupancy buildings, and a mixed income rental development. Prior to joining East Lake Management, Rhodes was the Program Manager with Chicago Housing Authority and Director of Development with Chicago Dwellings Association. Rhodes is an active member in her community, where she is a board chair for Chicago Reader NFP and Illinois Capital Development Board; and is the owner of a Non-Profit Art Gallery Blanc Gallery. Eileen Rhodes received her Bachelor of Science from Georgetown University and her Master of Arts from Erikson Institute.* Appointments pending confirmation by the Illinois Senate '"
      ]
     },
     "execution_count": 76,
     "metadata": {},
     "output_type": "execute_result"
    }
   ],
   "source": [
    "# parse and isolate content\n",
    "soup_link = bs4.BeautifulSoup(server_response.content, features=\"html.parser\")\n",
    "result = soup_link.find('div', \n",
    "                        class_ ='press-release aem-GridColumn--default--none aem-GridColumn--phone--12 aem-GridColumn--default--9 aem-GridColumn--phone--newline aem-GridColumn aem-GridColumn--offset--phone--0 aem-GridColumn--offset--default--0').find_all('p')\n",
    "string_result = [str(i.text) for i in result]\n",
    "string_result_clean = [i.replace(u'\\xa0', u'') for i in string_result]\n",
    "string_result_clean = [i.replace(u'\\n', u'') for i in string_result_clean] \n",
    "result_merged = \" \".join(string_result_clean)\n",
    "result_merged"
   ]
  },
  {
   "cell_type": "markdown",
   "id": "5f8a8a06",
   "metadata": {
    "heading_collapsed": true
   },
   "source": [
    "### Scrape content from all links"
   ]
  },
  {
   "cell_type": "code",
   "execution_count": 79,
   "id": "ddf8491e",
   "metadata": {
    "hidden": true
   },
   "outputs": [],
   "source": [
    "# add blank content column\n",
    "combined['content'] = np.nan "
   ]
  },
  {
   "cell_type": "code",
   "execution_count": 80,
   "id": "60fbdc9f",
   "metadata": {
    "hidden": true
   },
   "outputs": [
    {
     "data": {
      "text/plain": [
       "'success: content added from https://gov.illinois.gov/newsroom/press-release.29470.html'"
      ]
     },
     "execution_count": 80,
     "metadata": {},
     "output_type": "execute_result"
    },
    {
     "data": {
      "text/plain": [
       "'success: content added from https://gov.illinois.gov/newsroom/press-release.29457.html'"
      ]
     },
     "execution_count": 80,
     "metadata": {},
     "output_type": "execute_result"
    },
    {
     "data": {
      "text/plain": [
       "'success: content added from https://gov.illinois.gov/newsroom/press-release.29453.html'"
      ]
     },
     "execution_count": 80,
     "metadata": {},
     "output_type": "execute_result"
    },
    {
     "data": {
      "text/plain": [
       "'success: content added from https://gov.illinois.gov/newsroom/press-release.29444.html'"
      ]
     },
     "execution_count": 80,
     "metadata": {},
     "output_type": "execute_result"
    },
    {
     "data": {
      "text/plain": [
       "'success: content added from https://gov.illinois.gov/newsroom/press-release.29442.html'"
      ]
     },
     "execution_count": 80,
     "metadata": {},
     "output_type": "execute_result"
    },
    {
     "data": {
      "text/html": [
       "<div>\n",
       "<style scoped>\n",
       "    .dataframe tbody tr th:only-of-type {\n",
       "        vertical-align: middle;\n",
       "    }\n",
       "\n",
       "    .dataframe tbody tr th {\n",
       "        vertical-align: top;\n",
       "    }\n",
       "\n",
       "    .dataframe thead th {\n",
       "        text-align: right;\n",
       "    }\n",
       "</style>\n",
       "<table border=\"1\" class=\"dataframe\">\n",
       "  <thead>\n",
       "    <tr style=\"text-align: right;\">\n",
       "      <th></th>\n",
       "      <th>title</th>\n",
       "      <th>link</th>\n",
       "      <th>date_clean</th>\n",
       "      <th>content</th>\n",
       "    </tr>\n",
       "  </thead>\n",
       "  <tbody>\n",
       "    <tr>\n",
       "      <th>55</th>\n",
       "      <td>Gov. Pritzker Celebrates 2023 Executive and Le...</td>\n",
       "      <td>https://gov.illinois.gov/newsroom/press-releas...</td>\n",
       "      <td>2023-12-29</td>\n",
       "      <td>Accomplishments include historic investments i...</td>\n",
       "    </tr>\n",
       "    <tr>\n",
       "      <th>56</th>\n",
       "      <td>Paid Leave for All Workers Act Takes Effect Ja...</td>\n",
       "      <td>https://gov.illinois.gov/newsroom/press-releas...</td>\n",
       "      <td>2023-12-27</td>\n",
       "      <td>Workers will begin earning up to 40 hours of p...</td>\n",
       "    </tr>\n",
       "    <tr>\n",
       "      <th>57</th>\n",
       "      <td>State Deploys Additional Resources to Support ...</td>\n",
       "      <td>https://gov.illinois.gov/newsroom/press-releas...</td>\n",
       "      <td>2023-12-24</td>\n",
       "      <td>At request of City of Chicago, State temporari...</td>\n",
       "    </tr>\n",
       "    <tr>\n",
       "      <th>58</th>\n",
       "      <td>New Laws Taking Effect January 1st Expand Leav...</td>\n",
       "      <td>https://gov.illinois.gov/newsroom/press-releas...</td>\n",
       "      <td>2023-12-21</td>\n",
       "      <td>Families impacted by violence afforded job sec...</td>\n",
       "    </tr>\n",
       "    <tr>\n",
       "      <th>59</th>\n",
       "      <td>Governor Pritzker Announces Federal Recompete ...</td>\n",
       "      <td>https://gov.illinois.gov/newsroom/press-releas...</td>\n",
       "      <td>2023-12-20</td>\n",
       "      <td>NaN</td>\n",
       "    </tr>\n",
       "  </tbody>\n",
       "</table>\n",
       "</div>"
      ],
      "text/plain": [
       "                                                title  \\\n",
       "55  Gov. Pritzker Celebrates 2023 Executive and Le...   \n",
       "56  Paid Leave for All Workers Act Takes Effect Ja...   \n",
       "57  State Deploys Additional Resources to Support ...   \n",
       "58  New Laws Taking Effect January 1st Expand Leav...   \n",
       "59  Governor Pritzker Announces Federal Recompete ...   \n",
       "\n",
       "                                                 link date_clean  \\\n",
       "55  https://gov.illinois.gov/newsroom/press-releas... 2023-12-29   \n",
       "56  https://gov.illinois.gov/newsroom/press-releas... 2023-12-27   \n",
       "57  https://gov.illinois.gov/newsroom/press-releas... 2023-12-24   \n",
       "58  https://gov.illinois.gov/newsroom/press-releas... 2023-12-21   \n",
       "59  https://gov.illinois.gov/newsroom/press-releas... 2023-12-20   \n",
       "\n",
       "                                              content  \n",
       "55  Accomplishments include historic investments i...  \n",
       "56  Workers will begin earning up to 40 hours of p...  \n",
       "57  At request of City of Chicago, State temporari...  \n",
       "58  Families impacted by violence afforded job sec...  \n",
       "59                                                NaN  "
      ]
     },
     "execution_count": 80,
     "metadata": {},
     "output_type": "execute_result"
    }
   ],
   "source": [
    "# test on 5 to see if it works\n",
    "for i in combined.link[0:6]:\n",
    "     get_illinois_content(i, combined, header_list)\n",
    "    \n",
    "combined.head()"
   ]
  },
  {
   "cell_type": "code",
   "execution_count": 81,
   "id": "4be4977e",
   "metadata": {
    "hidden": true
   },
   "outputs": [
    {
     "data": {
      "text/plain": [
       "'content already existing for https://gov.illinois.gov/newsroom/press-release.29470.html'"
      ]
     },
     "execution_count": 81,
     "metadata": {},
     "output_type": "execute_result"
    },
    {
     "data": {
      "text/plain": [
       "'content already existing for https://gov.illinois.gov/newsroom/press-release.29457.html'"
      ]
     },
     "execution_count": 81,
     "metadata": {},
     "output_type": "execute_result"
    },
    {
     "data": {
      "text/plain": [
       "'content already existing for https://gov.illinois.gov/newsroom/press-release.29453.html'"
      ]
     },
     "execution_count": 81,
     "metadata": {},
     "output_type": "execute_result"
    },
    {
     "data": {
      "text/plain": [
       "'content already existing for https://gov.illinois.gov/newsroom/press-release.29444.html'"
      ]
     },
     "execution_count": 81,
     "metadata": {},
     "output_type": "execute_result"
    },
    {
     "data": {
      "text/plain": [
       "'content already existing for https://gov.illinois.gov/newsroom/press-release.29442.html'"
      ]
     },
     "execution_count": 81,
     "metadata": {},
     "output_type": "execute_result"
    },
    {
     "data": {
      "text/plain": [
       "'success: content added from https://gov.illinois.gov/newsroom/press-release.29436.html'"
      ]
     },
     "execution_count": 81,
     "metadata": {},
     "output_type": "execute_result"
    },
    {
     "data": {
      "text/plain": [
       "'success: content added from https://gov.illinois.gov/newsroom/press-release.29437.html'"
      ]
     },
     "execution_count": 81,
     "metadata": {},
     "output_type": "execute_result"
    },
    {
     "data": {
      "text/plain": [
       "'success: content added from https://gov.illinois.gov/newsroom/press-release.29420.html'"
      ]
     },
     "execution_count": 81,
     "metadata": {},
     "output_type": "execute_result"
    },
    {
     "data": {
      "text/plain": [
       "'success: content added from https://gov.illinois.gov/newsroom/press-release.29400.html'"
      ]
     },
     "execution_count": 81,
     "metadata": {},
     "output_type": "execute_result"
    },
    {
     "data": {
      "text/plain": [
       "'success: content added from https://gov.illinois.gov/newsroom/press-release.29403.html'"
      ]
     },
     "execution_count": 81,
     "metadata": {},
     "output_type": "execute_result"
    },
    {
     "data": {
      "text/plain": [
       "'success: content added from https://gov.illinois.gov/newsroom/press-release.29399.html'"
      ]
     },
     "execution_count": 81,
     "metadata": {},
     "output_type": "execute_result"
    },
    {
     "data": {
      "text/plain": [
       "'success: content added from https://gov.illinois.gov/newsroom/press-release.29395.html'"
      ]
     },
     "execution_count": 81,
     "metadata": {},
     "output_type": "execute_result"
    },
    {
     "data": {
      "text/plain": [
       "'success: content added from https://gov.illinois.gov/newsroom/press-release.29386.html'"
      ]
     },
     "execution_count": 81,
     "metadata": {},
     "output_type": "execute_result"
    },
    {
     "data": {
      "text/plain": [
       "'success: content added from https://gov.illinois.gov/newsroom/press-release.29387.html'"
      ]
     },
     "execution_count": 81,
     "metadata": {},
     "output_type": "execute_result"
    },
    {
     "data": {
      "text/plain": [
       "'success: content added from https://gov.illinois.gov/newsroom/press-release.29390.html'"
      ]
     },
     "execution_count": 81,
     "metadata": {},
     "output_type": "execute_result"
    },
    {
     "data": {
      "text/plain": [
       "'success: content added from https://gov.illinois.gov/newsroom/press-release.29388.html'"
      ]
     },
     "execution_count": 81,
     "metadata": {},
     "output_type": "execute_result"
    },
    {
     "data": {
      "text/plain": [
       "'success: content added from https://gov.illinois.gov/newsroom/press-release.29385.html'"
      ]
     },
     "execution_count": 81,
     "metadata": {},
     "output_type": "execute_result"
    },
    {
     "data": {
      "text/plain": [
       "'success: content added from https://gov.illinois.gov/newsroom/press-release.28384.html'"
      ]
     },
     "execution_count": 81,
     "metadata": {},
     "output_type": "execute_result"
    },
    {
     "data": {
      "text/plain": [
       "'success: content added from https://gov.illinois.gov/newsroom/press-release.28379.html'"
      ]
     },
     "execution_count": 81,
     "metadata": {},
     "output_type": "execute_result"
    },
    {
     "data": {
      "text/plain": [
       "'success: content added from https://gov.illinois.gov/newsroom/press-release.28369.html'"
      ]
     },
     "execution_count": 81,
     "metadata": {},
     "output_type": "execute_result"
    },
    {
     "data": {
      "text/plain": [
       "'success: content added from https://gov.illinois.gov/newsroom/press-release.28367.html'"
      ]
     },
     "execution_count": 81,
     "metadata": {},
     "output_type": "execute_result"
    },
    {
     "data": {
      "text/plain": [
       "'success: content added from https://gov.illinois.gov/newsroom/press-release.28368.html'"
      ]
     },
     "execution_count": 81,
     "metadata": {},
     "output_type": "execute_result"
    },
    {
     "data": {
      "text/plain": [
       "'success: content added from https://gov.illinois.gov/newsroom/press-release.28362.html'"
      ]
     },
     "execution_count": 81,
     "metadata": {},
     "output_type": "execute_result"
    },
    {
     "data": {
      "text/plain": [
       "'success: content added from https://gov.illinois.gov/newsroom/press-release.28352.html'"
      ]
     },
     "execution_count": 81,
     "metadata": {},
     "output_type": "execute_result"
    },
    {
     "data": {
      "text/plain": [
       "'success: content added from https://gov.illinois.gov/newsroom/press-release.28355.html'"
      ]
     },
     "execution_count": 81,
     "metadata": {},
     "output_type": "execute_result"
    },
    {
     "data": {
      "text/plain": [
       "'success: content added from https://gov.illinois.gov/newsroom/press-release.27334.html'"
      ]
     },
     "execution_count": 81,
     "metadata": {},
     "output_type": "execute_result"
    },
    {
     "data": {
      "text/plain": [
       "'success: content added from https://gov.illinois.gov/newsroom/press-release.28333.html'"
      ]
     },
     "execution_count": 81,
     "metadata": {},
     "output_type": "execute_result"
    },
    {
     "data": {
      "text/plain": [
       "'success: content added from https://gov.illinois.gov/newsroom/press-release.27336.html'"
      ]
     },
     "execution_count": 81,
     "metadata": {},
     "output_type": "execute_result"
    },
    {
     "data": {
      "text/plain": [
       "'success: content added from https://gov.illinois.gov/newsroom/press-release.27324.html'"
      ]
     },
     "execution_count": 81,
     "metadata": {},
     "output_type": "execute_result"
    },
    {
     "data": {
      "text/plain": [
       "'success: content added from https://gov.illinois.gov/newsroom/press-release.27318.html'"
      ]
     },
     "execution_count": 81,
     "metadata": {},
     "output_type": "execute_result"
    },
    {
     "data": {
      "text/plain": [
       "'success: content added from https://gov.illinois.gov/newsroom/press-release.27323.html'"
      ]
     },
     "execution_count": 81,
     "metadata": {},
     "output_type": "execute_result"
    },
    {
     "data": {
      "text/plain": [
       "'success: content added from https://gov.illinois.gov/newsroom/press-release.27312.html'"
      ]
     },
     "execution_count": 81,
     "metadata": {},
     "output_type": "execute_result"
    },
    {
     "data": {
      "text/plain": [
       "'success: content added from https://gov.illinois.gov/newsroom/press-release.27299.html'"
      ]
     },
     "execution_count": 81,
     "metadata": {},
     "output_type": "execute_result"
    },
    {
     "data": {
      "text/plain": [
       "'success: content added from https://gov.illinois.gov/newsroom/press-release.27293.html'"
      ]
     },
     "execution_count": 81,
     "metadata": {},
     "output_type": "execute_result"
    },
    {
     "data": {
      "text/plain": [
       "'success: content added from https://gov.illinois.gov/newsroom/press-release.27282.html'"
      ]
     },
     "execution_count": 81,
     "metadata": {},
     "output_type": "execute_result"
    },
    {
     "data": {
      "text/plain": [
       "'success: content added from https://gov.illinois.gov/newsroom/press-release.27272.html'"
      ]
     },
     "execution_count": 81,
     "metadata": {},
     "output_type": "execute_result"
    },
    {
     "data": {
      "text/plain": [
       "'success: content added from https://gov.illinois.gov/newsroom/press-release.27273.html'"
      ]
     },
     "execution_count": 81,
     "metadata": {},
     "output_type": "execute_result"
    },
    {
     "data": {
      "text/plain": [
       "'success: content added from https://gov.illinois.gov/newsroom/press-release.27275.html'"
      ]
     },
     "execution_count": 81,
     "metadata": {},
     "output_type": "execute_result"
    },
    {
     "data": {
      "text/plain": [
       "'success: content added from https://gov.illinois.gov/newsroom/press-release.27255.html'"
      ]
     },
     "execution_count": 81,
     "metadata": {},
     "output_type": "execute_result"
    },
    {
     "data": {
      "text/plain": [
       "'success: content added from https://gov.illinois.gov/newsroom/press-release.27261.html'"
      ]
     },
     "execution_count": 81,
     "metadata": {},
     "output_type": "execute_result"
    },
    {
     "data": {
      "text/plain": [
       "'success: content added from https://gov.illinois.gov/newsroom/press-release.27249.html'"
      ]
     },
     "execution_count": 81,
     "metadata": {},
     "output_type": "execute_result"
    },
    {
     "data": {
      "text/plain": [
       "'success: content added from https://gov.illinois.gov/newsroom/press-release.27244.html'"
      ]
     },
     "execution_count": 81,
     "metadata": {},
     "output_type": "execute_result"
    },
    {
     "data": {
      "text/plain": [
       "'success: content added from https://gov.illinois.gov/newsroom/press-release.27245.html'"
      ]
     },
     "execution_count": 81,
     "metadata": {},
     "output_type": "execute_result"
    },
    {
     "data": {
      "text/plain": [
       "'success: content added from https://gov.illinois.gov/newsroom/press-release.27235.html'"
      ]
     },
     "execution_count": 81,
     "metadata": {},
     "output_type": "execute_result"
    },
    {
     "data": {
      "text/plain": [
       "'success: content added from https://gov.illinois.gov/newsroom/press-release.27226.html'"
      ]
     },
     "execution_count": 81,
     "metadata": {},
     "output_type": "execute_result"
    },
    {
     "data": {
      "text/plain": [
       "'success: content added from https://gov.illinois.gov/newsroom/press-release.27224.html'"
      ]
     },
     "execution_count": 81,
     "metadata": {},
     "output_type": "execute_result"
    },
    {
     "data": {
      "text/plain": [
       "'success: content added from https://gov.illinois.gov/newsroom/press-release.27219.html'"
      ]
     },
     "execution_count": 81,
     "metadata": {},
     "output_type": "execute_result"
    },
    {
     "data": {
      "text/plain": [
       "'success: content added from https://gov.illinois.gov/newsroom/press-release.27217.html'"
      ]
     },
     "execution_count": 81,
     "metadata": {},
     "output_type": "execute_result"
    },
    {
     "data": {
      "text/plain": [
       "'success: content added from https://gov.illinois.gov/newsroom/press-release.27220.html'"
      ]
     },
     "execution_count": 81,
     "metadata": {},
     "output_type": "execute_result"
    },
    {
     "data": {
      "text/plain": [
       "'success: content added from https://gov.illinois.gov/newsroom/press-release.27216.html'"
      ]
     },
     "execution_count": 81,
     "metadata": {},
     "output_type": "execute_result"
    },
    {
     "data": {
      "text/plain": [
       "'success: content added from https://gov.illinois.gov/newsroom/press-release.27212.html'"
      ]
     },
     "execution_count": 81,
     "metadata": {},
     "output_type": "execute_result"
    },
    {
     "data": {
      "text/plain": [
       "'success: content added from https://gov.illinois.gov/newsroom/press-release.27213.html'"
      ]
     },
     "execution_count": 81,
     "metadata": {},
     "output_type": "execute_result"
    },
    {
     "data": {
      "text/plain": [
       "'success: content added from https://gov.illinois.gov/newsroom/press-release.27214.html'"
      ]
     },
     "execution_count": 81,
     "metadata": {},
     "output_type": "execute_result"
    },
    {
     "data": {
      "text/plain": [
       "'success: content added from https://gov.illinois.gov/newsroom/press-release.27215.html'"
      ]
     },
     "execution_count": 81,
     "metadata": {},
     "output_type": "execute_result"
    },
    {
     "data": {
      "text/plain": [
       "'success: content added from https://gov.illinois.gov/newsroom/press-release.27203.html'"
      ]
     },
     "execution_count": 81,
     "metadata": {},
     "output_type": "execute_result"
    },
    {
     "data": {
      "text/plain": [
       "'success: content added from https://gov.illinois.gov/newsroom/press-release.27204.html'"
      ]
     },
     "execution_count": 81,
     "metadata": {},
     "output_type": "execute_result"
    },
    {
     "data": {
      "text/plain": [
       "'success: content added from https://gov.illinois.gov/newsroom/press-release.27179.html'"
      ]
     },
     "execution_count": 81,
     "metadata": {},
     "output_type": "execute_result"
    },
    {
     "data": {
      "text/plain": [
       "'success: content added from https://gov.illinois.gov/newsroom/press-release.27180.html'"
      ]
     },
     "execution_count": 81,
     "metadata": {},
     "output_type": "execute_result"
    },
    {
     "data": {
      "text/plain": [
       "'success: content added from https://gov.illinois.gov/newsroom/press-release.27175.html'"
      ]
     },
     "execution_count": 81,
     "metadata": {},
     "output_type": "execute_result"
    },
    {
     "data": {
      "text/plain": [
       "'success: content added from https://gov.illinois.gov/newsroom/press-release.27178.html'"
      ]
     },
     "execution_count": 81,
     "metadata": {},
     "output_type": "execute_result"
    },
    {
     "data": {
      "text/plain": [
       "'success: content added from https://gov.illinois.gov/newsroom/press-release.27172.html'"
      ]
     },
     "execution_count": 81,
     "metadata": {},
     "output_type": "execute_result"
    },
    {
     "data": {
      "text/plain": [
       "'success: content added from https://gov.illinois.gov/newsroom/press-release.27166.html'"
      ]
     },
     "execution_count": 81,
     "metadata": {},
     "output_type": "execute_result"
    },
    {
     "data": {
      "text/plain": [
       "'success: content added from https://gov.illinois.gov/newsroom/press-release.27168.html'"
      ]
     },
     "execution_count": 81,
     "metadata": {},
     "output_type": "execute_result"
    },
    {
     "data": {
      "text/plain": [
       "'success: content added from https://gov.illinois.gov/newsroom/press-release.27169.html'"
      ]
     },
     "execution_count": 81,
     "metadata": {},
     "output_type": "execute_result"
    },
    {
     "data": {
      "text/plain": [
       "'success: content added from https://gov.illinois.gov/newsroom/press-release.27156.html'"
      ]
     },
     "execution_count": 81,
     "metadata": {},
     "output_type": "execute_result"
    },
    {
     "data": {
      "text/plain": [
       "'success: content added from https://gov.illinois.gov/newsroom/press-release.27157.html'"
      ]
     },
     "execution_count": 81,
     "metadata": {},
     "output_type": "execute_result"
    },
    {
     "data": {
      "text/plain": [
       "'success: content added from https://gov.illinois.gov/newsroom/press-release.27151.html'"
      ]
     },
     "execution_count": 81,
     "metadata": {},
     "output_type": "execute_result"
    },
    {
     "data": {
      "text/plain": [
       "'success: content added from https://gov.illinois.gov/newsroom/press-release.27146.html'"
      ]
     },
     "execution_count": 81,
     "metadata": {},
     "output_type": "execute_result"
    },
    {
     "data": {
      "text/plain": [
       "'success: content added from https://gov.illinois.gov/newsroom/press-release.27147.html'"
      ]
     },
     "execution_count": 81,
     "metadata": {},
     "output_type": "execute_result"
    },
    {
     "data": {
      "text/plain": [
       "'success: content added from https://gov.illinois.gov/newsroom/press-release.27153.html'"
      ]
     },
     "execution_count": 81,
     "metadata": {},
     "output_type": "execute_result"
    },
    {
     "data": {
      "text/plain": [
       "'success: content added from https://gov.illinois.gov/newsroom/press-release.27136.html'"
      ]
     },
     "execution_count": 81,
     "metadata": {},
     "output_type": "execute_result"
    },
    {
     "data": {
      "text/plain": [
       "'success: content added from https://gov.illinois.gov/newsroom/press-release.27139.html'"
      ]
     },
     "execution_count": 81,
     "metadata": {},
     "output_type": "execute_result"
    },
    {
     "data": {
      "text/plain": [
       "'success: content added from https://gov.illinois.gov/newsroom/press-release.27142.html'"
      ]
     },
     "execution_count": 81,
     "metadata": {},
     "output_type": "execute_result"
    },
    {
     "data": {
      "text/plain": [
       "'success: content added from https://gov.illinois.gov/newsroom/press-release.27143.html'"
      ]
     },
     "execution_count": 81,
     "metadata": {},
     "output_type": "execute_result"
    },
    {
     "data": {
      "text/plain": [
       "'success: content added from https://gov.illinois.gov/newsroom/press-release.27140.html'"
      ]
     },
     "execution_count": 81,
     "metadata": {},
     "output_type": "execute_result"
    },
    {
     "data": {
      "text/plain": [
       "'success: content added from https://gov.illinois.gov/newsroom/press-release.27141.html'"
      ]
     },
     "execution_count": 81,
     "metadata": {},
     "output_type": "execute_result"
    },
    {
     "data": {
      "text/plain": [
       "'success: content added from https://gov.illinois.gov/newsroom/press-release.27145.html'"
      ]
     },
     "execution_count": 81,
     "metadata": {},
     "output_type": "execute_result"
    },
    {
     "data": {
      "text/plain": [
       "'success: content added from https://gov.illinois.gov/newsroom/press-release.27126.html'"
      ]
     },
     "execution_count": 81,
     "metadata": {},
     "output_type": "execute_result"
    },
    {
     "data": {
      "text/plain": [
       "'success: content added from https://gov.illinois.gov/newsroom/press-release.27128.html'"
      ]
     },
     "execution_count": 81,
     "metadata": {},
     "output_type": "execute_result"
    },
    {
     "data": {
      "text/plain": [
       "'success: content added from https://gov.illinois.gov/newsroom/press-release.27130.html'"
      ]
     },
     "execution_count": 81,
     "metadata": {},
     "output_type": "execute_result"
    },
    {
     "data": {
      "text/plain": [
       "'success: content added from https://gov.illinois.gov/newsroom/press-release.27124.html'"
      ]
     },
     "execution_count": 81,
     "metadata": {},
     "output_type": "execute_result"
    },
    {
     "data": {
      "text/plain": [
       "'success: content added from https://gov.illinois.gov/newsroom/press-release.27121.html'"
      ]
     },
     "execution_count": 81,
     "metadata": {},
     "output_type": "execute_result"
    },
    {
     "data": {
      "text/plain": [
       "'success: content added from https://gov.illinois.gov/newsroom/press-release.27122.html'"
      ]
     },
     "execution_count": 81,
     "metadata": {},
     "output_type": "execute_result"
    },
    {
     "data": {
      "text/plain": [
       "'success: content added from https://gov.illinois.gov/newsroom/press-release.27118.html'"
      ]
     },
     "execution_count": 81,
     "metadata": {},
     "output_type": "execute_result"
    },
    {
     "data": {
      "text/plain": [
       "'success: content added from https://gov.illinois.gov/newsroom/press-release.27116.html'"
      ]
     },
     "execution_count": 81,
     "metadata": {},
     "output_type": "execute_result"
    },
    {
     "data": {
      "text/plain": [
       "'success: content added from https://gov.illinois.gov/newsroom/press-release.27107.html'"
      ]
     },
     "execution_count": 81,
     "metadata": {},
     "output_type": "execute_result"
    },
    {
     "data": {
      "text/plain": [
       "'success: content added from https://gov.illinois.gov/newsroom/press-release.27101.html'"
      ]
     },
     "execution_count": 81,
     "metadata": {},
     "output_type": "execute_result"
    },
    {
     "data": {
      "text/plain": [
       "'success: content added from https://gov.illinois.gov/newsroom/press-release.27105.html'"
      ]
     },
     "execution_count": 81,
     "metadata": {},
     "output_type": "execute_result"
    },
    {
     "data": {
      "text/plain": [
       "'success: content added from https://gov.illinois.gov/newsroom/press-release.27095.html'"
      ]
     },
     "execution_count": 81,
     "metadata": {},
     "output_type": "execute_result"
    },
    {
     "data": {
      "text/plain": [
       "'success: content added from https://gov.illinois.gov/newsroom/press-release.27100.html'"
      ]
     },
     "execution_count": 81,
     "metadata": {},
     "output_type": "execute_result"
    },
    {
     "data": {
      "text/plain": [
       "'success: content added from https://gov.illinois.gov/newsroom/press-release.27090.html'"
      ]
     },
     "execution_count": 81,
     "metadata": {},
     "output_type": "execute_result"
    },
    {
     "data": {
      "text/plain": [
       "'success: content added from https://gov.illinois.gov/newsroom/press-release.27091.html'"
      ]
     },
     "execution_count": 81,
     "metadata": {},
     "output_type": "execute_result"
    },
    {
     "data": {
      "text/plain": [
       "'success: content added from https://gov.illinois.gov/newsroom/press-release.27092.html'"
      ]
     },
     "execution_count": 81,
     "metadata": {},
     "output_type": "execute_result"
    },
    {
     "data": {
      "text/plain": [
       "'success: content added from https://gov.illinois.gov/newsroom/press-release.27081.html'"
      ]
     },
     "execution_count": 81,
     "metadata": {},
     "output_type": "execute_result"
    },
    {
     "data": {
      "text/plain": [
       "'success: content added from https://gov.illinois.gov/newsroom/press-release.27079.html'"
      ]
     },
     "execution_count": 81,
     "metadata": {},
     "output_type": "execute_result"
    },
    {
     "data": {
      "text/plain": [
       "'success: content added from https://gov.illinois.gov/newsroom/press-release.27082.html'"
      ]
     },
     "execution_count": 81,
     "metadata": {},
     "output_type": "execute_result"
    },
    {
     "data": {
      "text/plain": [
       "'success: content added from https://gov.illinois.gov/newsroom/press-release.27083.html'"
      ]
     },
     "execution_count": 81,
     "metadata": {},
     "output_type": "execute_result"
    },
    {
     "data": {
      "text/plain": [
       "'content already existing for https://gov.illinois.gov/newsroom/press-release.27079.html'"
      ]
     },
     "execution_count": 81,
     "metadata": {},
     "output_type": "execute_result"
    },
    {
     "data": {
      "text/plain": [
       "'success: content added from https://gov.illinois.gov/newsroom/press-release.27074.html'"
      ]
     },
     "execution_count": 81,
     "metadata": {},
     "output_type": "execute_result"
    },
    {
     "data": {
      "text/plain": [
       "'success: content added from https://gov.illinois.gov/newsroom/press-release.27075.html'"
      ]
     },
     "execution_count": 81,
     "metadata": {},
     "output_type": "execute_result"
    },
    {
     "data": {
      "text/plain": [
       "'success: content added from https://gov.illinois.gov/newsroom/press-release.27078.html'"
      ]
     },
     "execution_count": 81,
     "metadata": {},
     "output_type": "execute_result"
    },
    {
     "data": {
      "text/plain": [
       "'success: content added from https://gov.illinois.gov/newsroom/press-release.27060.html'"
      ]
     },
     "execution_count": 81,
     "metadata": {},
     "output_type": "execute_result"
    },
    {
     "data": {
      "text/plain": [
       "'success: content added from https://gov.illinois.gov/newsroom/press-release.27058.html'"
      ]
     },
     "execution_count": 81,
     "metadata": {},
     "output_type": "execute_result"
    },
    {
     "data": {
      "text/plain": [
       "'success: content added from https://gov.illinois.gov/newsroom/press-release.27059.html'"
      ]
     },
     "execution_count": 81,
     "metadata": {},
     "output_type": "execute_result"
    },
    {
     "data": {
      "text/plain": [
       "'success: content added from https://gov.illinois.gov/newsroom/press-release.27054.html'"
      ]
     },
     "execution_count": 81,
     "metadata": {},
     "output_type": "execute_result"
    },
    {
     "data": {
      "text/plain": [
       "'success: content added from https://gov.illinois.gov/newsroom/press-release.27057.html'"
      ]
     },
     "execution_count": 81,
     "metadata": {},
     "output_type": "execute_result"
    },
    {
     "data": {
      "text/plain": [
       "'success: content added from https://gov.illinois.gov/newsroom/press-release.27044.html'"
      ]
     },
     "execution_count": 81,
     "metadata": {},
     "output_type": "execute_result"
    },
    {
     "data": {
      "text/plain": [
       "'success: content added from https://gov.illinois.gov/newsroom/press-release.27053.html'"
      ]
     },
     "execution_count": 81,
     "metadata": {},
     "output_type": "execute_result"
    },
    {
     "data": {
      "text/plain": [
       "'success: content added from https://gov.illinois.gov/newsroom/press-release.27041.html'"
      ]
     },
     "execution_count": 81,
     "metadata": {},
     "output_type": "execute_result"
    },
    {
     "data": {
      "text/plain": [
       "'success: content added from https://gov.illinois.gov/newsroom/press-release.27039.html'"
      ]
     },
     "execution_count": 81,
     "metadata": {},
     "output_type": "execute_result"
    },
    {
     "data": {
      "text/plain": [
       "'success: content added from https://gov.illinois.gov/newsroom/press-release.27038.html'"
      ]
     },
     "execution_count": 81,
     "metadata": {},
     "output_type": "execute_result"
    },
    {
     "data": {
      "text/plain": [
       "'success: content added from https://gov.illinois.gov/newsroom/press-release.27029.html'"
      ]
     },
     "execution_count": 81,
     "metadata": {},
     "output_type": "execute_result"
    },
    {
     "data": {
      "text/plain": [
       "'success: content added from https://gov.illinois.gov/newsroom/press-release.27036.html'"
      ]
     },
     "execution_count": 81,
     "metadata": {},
     "output_type": "execute_result"
    },
    {
     "data": {
      "text/plain": [
       "'success: content added from https://gov.illinois.gov/newsroom/press-release.27027.html'"
      ]
     },
     "execution_count": 81,
     "metadata": {},
     "output_type": "execute_result"
    },
    {
     "data": {
      "text/plain": [
       "'success: content added from https://gov.illinois.gov/newsroom/press-release.27030.html'"
      ]
     },
     "execution_count": 81,
     "metadata": {},
     "output_type": "execute_result"
    },
    {
     "data": {
      "text/plain": [
       "'success: content added from https://gov.illinois.gov/newsroom/press-release.27031.html'"
      ]
     },
     "execution_count": 81,
     "metadata": {},
     "output_type": "execute_result"
    },
    {
     "data": {
      "text/plain": [
       "'success: content added from https://gov.illinois.gov/newsroom/press-release.27020.html'"
      ]
     },
     "execution_count": 81,
     "metadata": {},
     "output_type": "execute_result"
    },
    {
     "data": {
      "text/plain": [
       "'success: content added from https://gov.illinois.gov/newsroom/press-release.27015.html'"
      ]
     },
     "execution_count": 81,
     "metadata": {},
     "output_type": "execute_result"
    },
    {
     "data": {
      "text/plain": [
       "'success: content added from https://gov.illinois.gov/newsroom/press-release.27013.html'"
      ]
     },
     "execution_count": 81,
     "metadata": {},
     "output_type": "execute_result"
    },
    {
     "data": {
      "text/plain": [
       "'success: content added from https://gov.illinois.gov/newsroom/press-release.27014.html'"
      ]
     },
     "execution_count": 81,
     "metadata": {},
     "output_type": "execute_result"
    },
    {
     "data": {
      "text/plain": [
       "'success: content added from https://gov.illinois.gov/newsroom/press-release.27012.html'"
      ]
     },
     "execution_count": 81,
     "metadata": {},
     "output_type": "execute_result"
    },
    {
     "data": {
      "text/plain": [
       "'success: content added from https://gov.illinois.gov/newsroom/press-release.27010.html'"
      ]
     },
     "execution_count": 81,
     "metadata": {},
     "output_type": "execute_result"
    },
    {
     "data": {
      "text/plain": [
       "'success: content added from https://gov.illinois.gov/newsroom/press-release.27011.html'"
      ]
     },
     "execution_count": 81,
     "metadata": {},
     "output_type": "execute_result"
    },
    {
     "data": {
      "text/plain": [
       "'success: content added from https://gov.illinois.gov/newsroom/press-release.27006.html'"
      ]
     },
     "execution_count": 81,
     "metadata": {},
     "output_type": "execute_result"
    },
    {
     "data": {
      "text/plain": [
       "'success: content added from https://gov.illinois.gov/newsroom/press-release.26993.html'"
      ]
     },
     "execution_count": 81,
     "metadata": {},
     "output_type": "execute_result"
    },
    {
     "data": {
      "text/plain": [
       "'success: content added from https://gov.illinois.gov/newsroom/press-release.26995.html'"
      ]
     },
     "execution_count": 81,
     "metadata": {},
     "output_type": "execute_result"
    },
    {
     "data": {
      "text/plain": [
       "'success: content added from https://gov.illinois.gov/newsroom/press-release.26997.html'"
      ]
     },
     "execution_count": 81,
     "metadata": {},
     "output_type": "execute_result"
    },
    {
     "data": {
      "text/plain": [
       "'success: content added from https://gov.illinois.gov/newsroom/press-release.26998.html'"
      ]
     },
     "execution_count": 81,
     "metadata": {},
     "output_type": "execute_result"
    },
    {
     "data": {
      "text/plain": [
       "'success: content added from https://gov.illinois.gov/newsroom/press-release.27001.html'"
      ]
     },
     "execution_count": 81,
     "metadata": {},
     "output_type": "execute_result"
    },
    {
     "data": {
      "text/plain": [
       "'success: content added from https://gov.illinois.gov/newsroom/press-release.27003.html'"
      ]
     },
     "execution_count": 81,
     "metadata": {},
     "output_type": "execute_result"
    },
    {
     "data": {
      "text/plain": [
       "'success: content added from https://gov.illinois.gov/newsroom/press-release.26988.html'"
      ]
     },
     "execution_count": 81,
     "metadata": {},
     "output_type": "execute_result"
    },
    {
     "data": {
      "text/plain": [
       "'success: content added from https://gov.illinois.gov/newsroom/press-release.26989.html'"
      ]
     },
     "execution_count": 81,
     "metadata": {},
     "output_type": "execute_result"
    },
    {
     "data": {
      "text/plain": [
       "'success: content added from https://gov.illinois.gov/newsroom/press-release.26986.html'"
      ]
     },
     "execution_count": 81,
     "metadata": {},
     "output_type": "execute_result"
    },
    {
     "data": {
      "text/plain": [
       "'success: content added from https://gov.illinois.gov/newsroom/press-release.26987.html'"
      ]
     },
     "execution_count": 81,
     "metadata": {},
     "output_type": "execute_result"
    },
    {
     "data": {
      "text/plain": [
       "'success: content added from https://gov.illinois.gov/newsroom/press-release.26962.html'"
      ]
     },
     "execution_count": 81,
     "metadata": {},
     "output_type": "execute_result"
    },
    {
     "data": {
      "text/plain": [
       "'success: content added from https://gov.illinois.gov/newsroom/press-release.26976.html'"
      ]
     },
     "execution_count": 81,
     "metadata": {},
     "output_type": "execute_result"
    },
    {
     "data": {
      "text/plain": [
       "'success: content added from https://gov.illinois.gov/newsroom/press-release.26978.html'"
      ]
     },
     "execution_count": 81,
     "metadata": {},
     "output_type": "execute_result"
    },
    {
     "data": {
      "text/plain": [
       "'success: content added from https://gov.illinois.gov/newsroom/press-release.26980.html'"
      ]
     },
     "execution_count": 81,
     "metadata": {},
     "output_type": "execute_result"
    },
    {
     "data": {
      "text/plain": [
       "'success: content added from https://gov.illinois.gov/newsroom/press-release.26960.html'"
      ]
     },
     "execution_count": 81,
     "metadata": {},
     "output_type": "execute_result"
    },
    {
     "data": {
      "text/plain": [
       "'success: content added from https://gov.illinois.gov/newsroom/press-release.26957.html'"
      ]
     },
     "execution_count": 81,
     "metadata": {},
     "output_type": "execute_result"
    },
    {
     "data": {
      "text/plain": [
       "'success: content added from https://gov.illinois.gov/newsroom/press-release.26958.html'"
      ]
     },
     "execution_count": 81,
     "metadata": {},
     "output_type": "execute_result"
    },
    {
     "data": {
      "text/plain": [
       "'success: content added from https://gov.illinois.gov/newsroom/press-release.26947.html'"
      ]
     },
     "execution_count": 81,
     "metadata": {},
     "output_type": "execute_result"
    },
    {
     "data": {
      "text/plain": [
       "'success: content added from https://gov.illinois.gov/newsroom/press-release.26949.html'"
      ]
     },
     "execution_count": 81,
     "metadata": {},
     "output_type": "execute_result"
    },
    {
     "data": {
      "text/plain": [
       "'success: content added from https://gov.illinois.gov/newsroom/press-release.26933.html'"
      ]
     },
     "execution_count": 81,
     "metadata": {},
     "output_type": "execute_result"
    },
    {
     "data": {
      "text/plain": [
       "'success: content added from https://gov.illinois.gov/newsroom/press-release.26952.html'"
      ]
     },
     "execution_count": 81,
     "metadata": {},
     "output_type": "execute_result"
    },
    {
     "data": {
      "text/plain": [
       "'success: content added from https://gov.illinois.gov/newsroom/press-release.26956.html'"
      ]
     },
     "execution_count": 81,
     "metadata": {},
     "output_type": "execute_result"
    },
    {
     "data": {
      "text/plain": [
       "'success: content added from https://gov.illinois.gov/newsroom/press-release.26943.html'"
      ]
     },
     "execution_count": 81,
     "metadata": {},
     "output_type": "execute_result"
    },
    {
     "data": {
      "text/plain": [
       "'success: content added from https://gov.illinois.gov/newsroom/press-release.26924.html'"
      ]
     },
     "execution_count": 81,
     "metadata": {},
     "output_type": "execute_result"
    },
    {
     "data": {
      "text/plain": [
       "'success: content added from https://gov.illinois.gov/newsroom/press-release.26913.html'"
      ]
     },
     "execution_count": 81,
     "metadata": {},
     "output_type": "execute_result"
    },
    {
     "data": {
      "text/plain": [
       "'success: content added from https://gov.illinois.gov/newsroom/press-release.26911.html'"
      ]
     },
     "execution_count": 81,
     "metadata": {},
     "output_type": "execute_result"
    },
    {
     "data": {
      "text/plain": [
       "'success: content added from https://gov.illinois.gov/newsroom/press-release.26902.html'"
      ]
     },
     "execution_count": 81,
     "metadata": {},
     "output_type": "execute_result"
    },
    {
     "data": {
      "text/plain": [
       "'success: content added from https://gov.illinois.gov/newsroom/press-release.26898.html'"
      ]
     },
     "execution_count": 81,
     "metadata": {},
     "output_type": "execute_result"
    },
    {
     "data": {
      "text/plain": [
       "'success: content added from https://gov.illinois.gov/newsroom/press-release.26895.html'"
      ]
     },
     "execution_count": 81,
     "metadata": {},
     "output_type": "execute_result"
    },
    {
     "data": {
      "text/plain": [
       "'success: content added from https://gov.illinois.gov/newsroom/press-release.26893.html'"
      ]
     },
     "execution_count": 81,
     "metadata": {},
     "output_type": "execute_result"
    },
    {
     "data": {
      "text/plain": [
       "'success: content added from https://gov.illinois.gov/newsroom/press-release.26890.html'"
      ]
     },
     "execution_count": 81,
     "metadata": {},
     "output_type": "execute_result"
    },
    {
     "data": {
      "text/plain": [
       "'success: content added from https://gov.illinois.gov/newsroom/press-release.26889.html'"
      ]
     },
     "execution_count": 81,
     "metadata": {},
     "output_type": "execute_result"
    },
    {
     "data": {
      "text/plain": [
       "'success: content added from https://gov.illinois.gov/newsroom/press-release.26884.html'"
      ]
     },
     "execution_count": 81,
     "metadata": {},
     "output_type": "execute_result"
    },
    {
     "data": {
      "text/plain": [
       "'success: content added from https://gov.illinois.gov/newsroom/press-release.26886.html'"
      ]
     },
     "execution_count": 81,
     "metadata": {},
     "output_type": "execute_result"
    },
    {
     "data": {
      "text/plain": [
       "'success: content added from https://gov.illinois.gov/newsroom/press-release.26881.html'"
      ]
     },
     "execution_count": 81,
     "metadata": {},
     "output_type": "execute_result"
    },
    {
     "data": {
      "text/plain": [
       "'success: content added from https://gov.illinois.gov/newsroom/press-release.26875.html'"
      ]
     },
     "execution_count": 81,
     "metadata": {},
     "output_type": "execute_result"
    },
    {
     "data": {
      "text/plain": [
       "'success: content added from https://gov.illinois.gov/newsroom/press-release.26876.html'"
      ]
     },
     "execution_count": 81,
     "metadata": {},
     "output_type": "execute_result"
    },
    {
     "data": {
      "text/plain": [
       "'success: content added from https://gov.illinois.gov/newsroom/press-release.26874.html'"
      ]
     },
     "execution_count": 81,
     "metadata": {},
     "output_type": "execute_result"
    },
    {
     "data": {
      "text/plain": [
       "'success: content added from https://gov.illinois.gov/newsroom/press-release.26872.html'"
      ]
     },
     "execution_count": 81,
     "metadata": {},
     "output_type": "execute_result"
    },
    {
     "data": {
      "text/plain": [
       "'success: content added from https://gov.illinois.gov/newsroom/press-release.26879.html'"
      ]
     },
     "execution_count": 81,
     "metadata": {},
     "output_type": "execute_result"
    },
    {
     "data": {
      "text/plain": [
       "'success: content added from https://gov.illinois.gov/newsroom/press-release.26880.html'"
      ]
     },
     "execution_count": 81,
     "metadata": {},
     "output_type": "execute_result"
    },
    {
     "data": {
      "text/plain": [
       "'success: content added from https://gov.illinois.gov/newsroom/press-release.26877.html'"
      ]
     },
     "execution_count": 81,
     "metadata": {},
     "output_type": "execute_result"
    },
    {
     "data": {
      "text/plain": [
       "'success: content added from https://gov.illinois.gov/newsroom/press-release.26878.html'"
      ]
     },
     "execution_count": 81,
     "metadata": {},
     "output_type": "execute_result"
    },
    {
     "data": {
      "text/plain": [
       "'success: content added from https://gov.illinois.gov/newsroom/press-release.26860.html'"
      ]
     },
     "execution_count": 81,
     "metadata": {},
     "output_type": "execute_result"
    },
    {
     "data": {
      "text/plain": [
       "'success: content added from https://gov.illinois.gov/newsroom/press-release.26862.html'"
      ]
     },
     "execution_count": 81,
     "metadata": {},
     "output_type": "execute_result"
    },
    {
     "data": {
      "text/plain": [
       "'success: content added from https://gov.illinois.gov/newsroom/press-release.26829.html'"
      ]
     },
     "execution_count": 81,
     "metadata": {},
     "output_type": "execute_result"
    },
    {
     "data": {
      "text/plain": [
       "'success: content added from https://gov.illinois.gov/newsroom/press-release.26857.html'"
      ]
     },
     "execution_count": 81,
     "metadata": {},
     "output_type": "execute_result"
    },
    {
     "data": {
      "text/plain": [
       "'success: content added from https://gov.illinois.gov/newsroom/press-release.26858.html'"
      ]
     },
     "execution_count": 81,
     "metadata": {},
     "output_type": "execute_result"
    },
    {
     "data": {
      "text/plain": [
       "'success: content added from https://gov.illinois.gov/newsroom/press-release.26850.html'"
      ]
     },
     "execution_count": 81,
     "metadata": {},
     "output_type": "execute_result"
    },
    {
     "data": {
      "text/plain": [
       "'success: content added from https://gov.illinois.gov/newsroom/press-release.26841.html'"
      ]
     },
     "execution_count": 81,
     "metadata": {},
     "output_type": "execute_result"
    },
    {
     "data": {
      "text/plain": [
       "'success: content added from https://gov.illinois.gov/newsroom/press-release.26847.html'"
      ]
     },
     "execution_count": 81,
     "metadata": {},
     "output_type": "execute_result"
    },
    {
     "data": {
      "text/plain": [
       "'success: content added from https://gov.illinois.gov/newsroom/press-release.26835.html'"
      ]
     },
     "execution_count": 81,
     "metadata": {},
     "output_type": "execute_result"
    },
    {
     "data": {
      "text/plain": [
       "'success: content added from https://gov.illinois.gov/newsroom/press-release.26836.html'"
      ]
     },
     "execution_count": 81,
     "metadata": {},
     "output_type": "execute_result"
    },
    {
     "data": {
      "text/plain": [
       "'success: content added from https://gov.illinois.gov/newsroom/press-release.26837.html'"
      ]
     },
     "execution_count": 81,
     "metadata": {},
     "output_type": "execute_result"
    },
    {
     "data": {
      "text/plain": [
       "'success: content added from https://gov.illinois.gov/newsroom/press-release.26838.html'"
      ]
     },
     "execution_count": 81,
     "metadata": {},
     "output_type": "execute_result"
    },
    {
     "data": {
      "text/plain": [
       "'success: content added from https://gov.illinois.gov/newsroom/press-release.26839.html'"
      ]
     },
     "execution_count": 81,
     "metadata": {},
     "output_type": "execute_result"
    },
    {
     "data": {
      "text/plain": [
       "'success: content added from https://gov.illinois.gov/newsroom/press-release.26822.html'"
      ]
     },
     "execution_count": 81,
     "metadata": {},
     "output_type": "execute_result"
    },
    {
     "data": {
      "text/plain": [
       "'success: content added from https://gov.illinois.gov/newsroom/press-release.26823.html'"
      ]
     },
     "execution_count": 81,
     "metadata": {},
     "output_type": "execute_result"
    },
    {
     "data": {
      "text/plain": [
       "'success: content added from https://gov.illinois.gov/newsroom/press-release.26817.html'"
      ]
     },
     "execution_count": 81,
     "metadata": {},
     "output_type": "execute_result"
    },
    {
     "data": {
      "text/plain": [
       "'success: content added from https://gov.illinois.gov/newsroom/press-release.26818.html'"
      ]
     },
     "execution_count": 81,
     "metadata": {},
     "output_type": "execute_result"
    },
    {
     "data": {
      "text/plain": [
       "'success: content added from https://gov.illinois.gov/newsroom/press-release.26819.html'"
      ]
     },
     "execution_count": 81,
     "metadata": {},
     "output_type": "execute_result"
    },
    {
     "data": {
      "text/plain": [
       "'success: content added from https://gov.illinois.gov/newsroom/press-release.26813.html'"
      ]
     },
     "execution_count": 81,
     "metadata": {},
     "output_type": "execute_result"
    },
    {
     "data": {
      "text/plain": [
       "'success: content added from https://gov.illinois.gov/newsroom/press-release.26812.html'"
      ]
     },
     "execution_count": 81,
     "metadata": {},
     "output_type": "execute_result"
    },
    {
     "data": {
      "text/plain": [
       "'success: content added from https://gov.illinois.gov/newsroom/press-release.26816.html'"
      ]
     },
     "execution_count": 81,
     "metadata": {},
     "output_type": "execute_result"
    },
    {
     "data": {
      "text/plain": [
       "'success: content added from https://gov.illinois.gov/newsroom/press-release.26803.html'"
      ]
     },
     "execution_count": 81,
     "metadata": {},
     "output_type": "execute_result"
    },
    {
     "data": {
      "text/plain": [
       "'success: content added from https://gov.illinois.gov/newsroom/press-release.26807.html'"
      ]
     },
     "execution_count": 81,
     "metadata": {},
     "output_type": "execute_result"
    },
    {
     "data": {
      "text/plain": [
       "'success: content added from https://gov.illinois.gov/newsroom/press-release.26808.html'"
      ]
     },
     "execution_count": 81,
     "metadata": {},
     "output_type": "execute_result"
    },
    {
     "data": {
      "text/plain": [
       "'success: content added from https://gov.illinois.gov/newsroom/press-release.26806.html'"
      ]
     },
     "execution_count": 81,
     "metadata": {},
     "output_type": "execute_result"
    },
    {
     "data": {
      "text/plain": [
       "'success: content added from https://gov.illinois.gov/newsroom/press-release.26798.html'"
      ]
     },
     "execution_count": 81,
     "metadata": {},
     "output_type": "execute_result"
    },
    {
     "data": {
      "text/plain": [
       "'success: content added from https://gov.illinois.gov/newsroom/press-release.26794.html'"
      ]
     },
     "execution_count": 81,
     "metadata": {},
     "output_type": "execute_result"
    },
    {
     "data": {
      "text/plain": [
       "'success: content added from https://gov.illinois.gov/newsroom/press-release.26799.html'"
      ]
     },
     "execution_count": 81,
     "metadata": {},
     "output_type": "execute_result"
    },
    {
     "data": {
      "text/plain": [
       "'success: content added from https://gov.illinois.gov/newsroom/press-release.26805.html'"
      ]
     },
     "execution_count": 81,
     "metadata": {},
     "output_type": "execute_result"
    },
    {
     "data": {
      "text/plain": [
       "'success: content added from https://gov.illinois.gov/newsroom/press-release.26802.html'"
      ]
     },
     "execution_count": 81,
     "metadata": {},
     "output_type": "execute_result"
    },
    {
     "data": {
      "text/plain": [
       "'success: content added from https://gov.illinois.gov/newsroom/press-release.26771.html'"
      ]
     },
     "execution_count": 81,
     "metadata": {},
     "output_type": "execute_result"
    },
    {
     "data": {
      "text/plain": [
       "'success: content added from https://gov.illinois.gov/newsroom/press-release.26772.html'"
      ]
     },
     "execution_count": 81,
     "metadata": {},
     "output_type": "execute_result"
    },
    {
     "data": {
      "text/plain": [
       "'success: content added from https://gov.illinois.gov/newsroom/press-release.26779.html'"
      ]
     },
     "execution_count": 81,
     "metadata": {},
     "output_type": "execute_result"
    },
    {
     "data": {
      "text/plain": [
       "'success: content added from https://gov.illinois.gov/newsroom/press-release.26787.html'"
      ]
     },
     "execution_count": 81,
     "metadata": {},
     "output_type": "execute_result"
    },
    {
     "data": {
      "text/plain": [
       "'success: content added from https://gov.illinois.gov/newsroom/press-release.26762.html'"
      ]
     },
     "execution_count": 81,
     "metadata": {},
     "output_type": "execute_result"
    },
    {
     "data": {
      "text/plain": [
       "'success: content added from https://gov.illinois.gov/newsroom/press-release.26765.html'"
      ]
     },
     "execution_count": 81,
     "metadata": {},
     "output_type": "execute_result"
    },
    {
     "data": {
      "text/plain": [
       "'success: content added from https://gov.illinois.gov/newsroom/press-release.26754.html'"
      ]
     },
     "execution_count": 81,
     "metadata": {},
     "output_type": "execute_result"
    },
    {
     "data": {
      "text/plain": [
       "'success: content added from https://gov.illinois.gov/newsroom/press-release.26759.html'"
      ]
     },
     "execution_count": 81,
     "metadata": {},
     "output_type": "execute_result"
    },
    {
     "data": {
      "text/plain": [
       "'success: content added from https://gov.illinois.gov/newsroom/press-release.26757.html'"
      ]
     },
     "execution_count": 81,
     "metadata": {},
     "output_type": "execute_result"
    },
    {
     "data": {
      "text/plain": [
       "'success: content added from https://gov.illinois.gov/newsroom/press-release.26755.html'"
      ]
     },
     "execution_count": 81,
     "metadata": {},
     "output_type": "execute_result"
    },
    {
     "data": {
      "text/plain": [
       "'success: content added from https://gov.illinois.gov/newsroom/press-release.26749.html'"
      ]
     },
     "execution_count": 81,
     "metadata": {},
     "output_type": "execute_result"
    },
    {
     "data": {
      "text/plain": [
       "'success: content added from https://gov.illinois.gov/newsroom/press-release.26748.html'"
      ]
     },
     "execution_count": 81,
     "metadata": {},
     "output_type": "execute_result"
    },
    {
     "data": {
      "text/plain": [
       "'success: content added from https://gov.illinois.gov/newsroom/press-release.26751.html'"
      ]
     },
     "execution_count": 81,
     "metadata": {},
     "output_type": "execute_result"
    },
    {
     "data": {
      "text/plain": [
       "'success: content added from https://gov.illinois.gov/newsroom/press-release.26745.html'"
      ]
     },
     "execution_count": 81,
     "metadata": {},
     "output_type": "execute_result"
    },
    {
     "data": {
      "text/plain": [
       "'success: content added from https://gov.illinois.gov/newsroom/press-release.26746.html'"
      ]
     },
     "execution_count": 81,
     "metadata": {},
     "output_type": "execute_result"
    },
    {
     "data": {
      "text/plain": [
       "'success: content added from https://gov.illinois.gov/newsroom/press-release.26742.html'"
      ]
     },
     "execution_count": 81,
     "metadata": {},
     "output_type": "execute_result"
    },
    {
     "data": {
      "text/plain": [
       "'success: content added from https://gov.illinois.gov/newsroom/press-release.26747.html'"
      ]
     },
     "execution_count": 81,
     "metadata": {},
     "output_type": "execute_result"
    },
    {
     "data": {
      "text/plain": [
       "'success: content added from https://gov.illinois.gov/newsroom/press-release.26738.html'"
      ]
     },
     "execution_count": 81,
     "metadata": {},
     "output_type": "execute_result"
    },
    {
     "data": {
      "text/plain": [
       "'success: content added from https://gov.illinois.gov/newsroom/press-release.26735.html'"
      ]
     },
     "execution_count": 81,
     "metadata": {},
     "output_type": "execute_result"
    },
    {
     "data": {
      "text/plain": [
       "'success: content added from https://gov.illinois.gov/newsroom/press-release.26734.html'"
      ]
     },
     "execution_count": 81,
     "metadata": {},
     "output_type": "execute_result"
    },
    {
     "data": {
      "text/plain": [
       "'success: content added from https://gov.illinois.gov/newsroom/press-release.26729.html'"
      ]
     },
     "execution_count": 81,
     "metadata": {},
     "output_type": "execute_result"
    },
    {
     "data": {
      "text/plain": [
       "'success: content added from https://gov.illinois.gov/newsroom/press-release.26733.html'"
      ]
     },
     "execution_count": 81,
     "metadata": {},
     "output_type": "execute_result"
    },
    {
     "data": {
      "text/plain": [
       "'success: content added from https://gov.illinois.gov/newsroom/press-release.26731.html'"
      ]
     },
     "execution_count": 81,
     "metadata": {},
     "output_type": "execute_result"
    },
    {
     "data": {
      "text/plain": [
       "'success: content added from https://gov.illinois.gov/newsroom/press-release.26728.html'"
      ]
     },
     "execution_count": 81,
     "metadata": {},
     "output_type": "execute_result"
    },
    {
     "data": {
      "text/plain": [
       "'success: content added from https://gov.illinois.gov/newsroom/press-release.26725.html'"
      ]
     },
     "execution_count": 81,
     "metadata": {},
     "output_type": "execute_result"
    },
    {
     "data": {
      "text/plain": [
       "'success: content added from https://gov.illinois.gov/newsroom/press-release.26726.html'"
      ]
     },
     "execution_count": 81,
     "metadata": {},
     "output_type": "execute_result"
    },
    {
     "data": {
      "text/plain": [
       "'success: content added from https://gov.illinois.gov/newsroom/press-release.26727.html'"
      ]
     },
     "execution_count": 81,
     "metadata": {},
     "output_type": "execute_result"
    },
    {
     "data": {
      "text/plain": [
       "'success: content added from https://gov.illinois.gov/newsroom/press-release.26723.html'"
      ]
     },
     "execution_count": 81,
     "metadata": {},
     "output_type": "execute_result"
    },
    {
     "data": {
      "text/plain": [
       "'success: content added from https://gov.illinois.gov/newsroom/press-release.26722.html'"
      ]
     },
     "execution_count": 81,
     "metadata": {},
     "output_type": "execute_result"
    },
    {
     "data": {
      "text/plain": [
       "'success: content added from https://gov.illinois.gov/newsroom/press-release.26718.html'"
      ]
     },
     "execution_count": 81,
     "metadata": {},
     "output_type": "execute_result"
    },
    {
     "data": {
      "text/plain": [
       "'success: content added from https://gov.illinois.gov/newsroom/press-release.26719.html'"
      ]
     },
     "execution_count": 81,
     "metadata": {},
     "output_type": "execute_result"
    },
    {
     "data": {
      "text/plain": [
       "'success: content added from https://gov.illinois.gov/newsroom/press-release.26707.html'"
      ]
     },
     "execution_count": 81,
     "metadata": {},
     "output_type": "execute_result"
    },
    {
     "data": {
      "text/plain": [
       "'success: content added from https://gov.illinois.gov/newsroom/press-release.26710.html'"
      ]
     },
     "execution_count": 81,
     "metadata": {},
     "output_type": "execute_result"
    },
    {
     "data": {
      "text/plain": [
       "'success: content added from https://gov.illinois.gov/newsroom/press-release.26709.html'"
      ]
     },
     "execution_count": 81,
     "metadata": {},
     "output_type": "execute_result"
    },
    {
     "data": {
      "text/plain": [
       "'success: content added from https://gov.illinois.gov/newsroom/press-release.26706.html'"
      ]
     },
     "execution_count": 81,
     "metadata": {},
     "output_type": "execute_result"
    },
    {
     "data": {
      "text/plain": [
       "'success: content added from https://gov.illinois.gov/newsroom/press-release.26704.html'"
      ]
     },
     "execution_count": 81,
     "metadata": {},
     "output_type": "execute_result"
    },
    {
     "data": {
      "text/plain": [
       "'success: content added from https://gov.illinois.gov/newsroom/press-release.26708.html'"
      ]
     },
     "execution_count": 81,
     "metadata": {},
     "output_type": "execute_result"
    },
    {
     "data": {
      "text/plain": [
       "'success: content added from https://gov.illinois.gov/newsroom/press-release.26700.html'"
      ]
     },
     "execution_count": 81,
     "metadata": {},
     "output_type": "execute_result"
    },
    {
     "data": {
      "text/plain": [
       "'success: content added from https://gov.illinois.gov/newsroom/press-release.26696.html'"
      ]
     },
     "execution_count": 81,
     "metadata": {},
     "output_type": "execute_result"
    },
    {
     "data": {
      "text/plain": [
       "'success: content added from https://gov.illinois.gov/newsroom/press-release.26697.html'"
      ]
     },
     "execution_count": 81,
     "metadata": {},
     "output_type": "execute_result"
    },
    {
     "data": {
      "text/plain": [
       "'success: content added from https://gov.illinois.gov/newsroom/press-release.26687.html'"
      ]
     },
     "execution_count": 81,
     "metadata": {},
     "output_type": "execute_result"
    },
    {
     "data": {
      "text/plain": [
       "'success: content added from https://gov.illinois.gov/newsroom/press-release.26690.html'"
      ]
     },
     "execution_count": 81,
     "metadata": {},
     "output_type": "execute_result"
    },
    {
     "data": {
      "text/plain": [
       "'success: content added from https://gov.illinois.gov/newsroom/press-release.26685.html'"
      ]
     },
     "execution_count": 81,
     "metadata": {},
     "output_type": "execute_result"
    },
    {
     "data": {
      "text/plain": [
       "'success: content added from https://gov.illinois.gov/newsroom/press-release.26683.html'"
      ]
     },
     "execution_count": 81,
     "metadata": {},
     "output_type": "execute_result"
    },
    {
     "data": {
      "text/plain": [
       "'success: content added from https://gov.illinois.gov/newsroom/press-release.26672.html'"
      ]
     },
     "execution_count": 81,
     "metadata": {},
     "output_type": "execute_result"
    },
    {
     "data": {
      "text/plain": [
       "'success: content added from https://gov.illinois.gov/newsroom/press-release.26667.html'"
      ]
     },
     "execution_count": 81,
     "metadata": {},
     "output_type": "execute_result"
    },
    {
     "data": {
      "text/plain": [
       "'success: content added from https://gov.illinois.gov/newsroom/press-release.26669.html'"
      ]
     },
     "execution_count": 81,
     "metadata": {},
     "output_type": "execute_result"
    },
    {
     "data": {
      "text/plain": [
       "'success: content added from https://gov.illinois.gov/newsroom/press-release.26670.html'"
      ]
     },
     "execution_count": 81,
     "metadata": {},
     "output_type": "execute_result"
    },
    {
     "data": {
      "text/plain": [
       "'success: content added from https://gov.illinois.gov/newsroom/press-release.26679.html'"
      ]
     },
     "execution_count": 81,
     "metadata": {},
     "output_type": "execute_result"
    },
    {
     "data": {
      "text/plain": [
       "'success: content added from https://gov.illinois.gov/newsroom/press-release.26675.html'"
      ]
     },
     "execution_count": 81,
     "metadata": {},
     "output_type": "execute_result"
    },
    {
     "data": {
      "text/plain": [
       "'success: content added from https://gov.illinois.gov/newsroom/press-release.26656.html'"
      ]
     },
     "execution_count": 81,
     "metadata": {},
     "output_type": "execute_result"
    },
    {
     "data": {
      "text/plain": [
       "'success: content added from https://gov.illinois.gov/newsroom/press-release.26658.html'"
      ]
     },
     "execution_count": 81,
     "metadata": {},
     "output_type": "execute_result"
    },
    {
     "data": {
      "text/plain": [
       "'success: content added from https://gov.illinois.gov/newsroom/press-release.26662.html'"
      ]
     },
     "execution_count": 81,
     "metadata": {},
     "output_type": "execute_result"
    },
    {
     "data": {
      "text/plain": [
       "'success: content added from https://gov.illinois.gov/newsroom/press-release.26636.html'"
      ]
     },
     "execution_count": 81,
     "metadata": {},
     "output_type": "execute_result"
    },
    {
     "data": {
      "text/plain": [
       "'success: content added from https://gov.illinois.gov/newsroom/press-release.26642.html'"
      ]
     },
     "execution_count": 81,
     "metadata": {},
     "output_type": "execute_result"
    },
    {
     "data": {
      "text/plain": [
       "'success: content added from https://gov.illinois.gov/newsroom/press-release.26634.html'"
      ]
     },
     "execution_count": 81,
     "metadata": {},
     "output_type": "execute_result"
    },
    {
     "data": {
      "text/plain": [
       "'success: content added from https://gov.illinois.gov/newsroom/press-release.26635.html'"
      ]
     },
     "execution_count": 81,
     "metadata": {},
     "output_type": "execute_result"
    },
    {
     "data": {
      "text/plain": [
       "'success: content added from https://gov.illinois.gov/newsroom/press-release.26637.html'"
      ]
     },
     "execution_count": 81,
     "metadata": {},
     "output_type": "execute_result"
    },
    {
     "data": {
      "text/plain": [
       "'success: content added from https://gov.illinois.gov/newsroom/press-release.26633.html'"
      ]
     },
     "execution_count": 81,
     "metadata": {},
     "output_type": "execute_result"
    },
    {
     "data": {
      "text/plain": [
       "'success: content added from https://gov.illinois.gov/newsroom/press-release.26632.html'"
      ]
     },
     "execution_count": 81,
     "metadata": {},
     "output_type": "execute_result"
    },
    {
     "data": {
      "text/plain": [
       "'success: content added from https://gov.illinois.gov/newsroom/press-release.26631.html'"
      ]
     },
     "execution_count": 81,
     "metadata": {},
     "output_type": "execute_result"
    },
    {
     "data": {
      "text/plain": [
       "'success: content added from https://gov.illinois.gov/newsroom/press-release.26614.html'"
      ]
     },
     "execution_count": 81,
     "metadata": {},
     "output_type": "execute_result"
    },
    {
     "data": {
      "text/plain": [
       "'success: content added from https://gov.illinois.gov/newsroom/press-release.26608.html'"
      ]
     },
     "execution_count": 81,
     "metadata": {},
     "output_type": "execute_result"
    },
    {
     "data": {
      "text/plain": [
       "'success: content added from https://gov.illinois.gov/newsroom/press-release.26600.html'"
      ]
     },
     "execution_count": 81,
     "metadata": {},
     "output_type": "execute_result"
    },
    {
     "data": {
      "text/plain": [
       "'success: content added from https://gov.illinois.gov/newsroom/press-release.26602.html'"
      ]
     },
     "execution_count": 81,
     "metadata": {},
     "output_type": "execute_result"
    },
    {
     "data": {
      "text/plain": [
       "'success: content added from https://gov.illinois.gov/newsroom/press-release.26604.html'"
      ]
     },
     "execution_count": 81,
     "metadata": {},
     "output_type": "execute_result"
    },
    {
     "data": {
      "text/plain": [
       "'success: content added from https://gov.illinois.gov/newsroom/press-release.26592.html'"
      ]
     },
     "execution_count": 81,
     "metadata": {},
     "output_type": "execute_result"
    },
    {
     "data": {
      "text/plain": [
       "'success: content added from https://gov.illinois.gov/newsroom/press-release.26588.html'"
      ]
     },
     "execution_count": 81,
     "metadata": {},
     "output_type": "execute_result"
    },
    {
     "data": {
      "text/plain": [
       "'success: content added from https://gov.illinois.gov/newsroom/press-release.26581.html'"
      ]
     },
     "execution_count": 81,
     "metadata": {},
     "output_type": "execute_result"
    },
    {
     "data": {
      "text/plain": [
       "'success: content added from https://gov.illinois.gov/newsroom/press-release.26579.html'"
      ]
     },
     "execution_count": 81,
     "metadata": {},
     "output_type": "execute_result"
    },
    {
     "data": {
      "text/plain": [
       "'success: content added from https://gov.illinois.gov/newsroom/press-release.26587.html'"
      ]
     },
     "execution_count": 81,
     "metadata": {},
     "output_type": "execute_result"
    },
    {
     "data": {
      "text/plain": [
       "'success: content added from https://gov.illinois.gov/newsroom/press-release.26577.html'"
      ]
     },
     "execution_count": 81,
     "metadata": {},
     "output_type": "execute_result"
    },
    {
     "data": {
      "text/plain": [
       "'success: content added from https://gov.illinois.gov/newsroom/press-release.26575.html'"
      ]
     },
     "execution_count": 81,
     "metadata": {},
     "output_type": "execute_result"
    },
    {
     "data": {
      "text/plain": [
       "'success: content added from https://gov.illinois.gov/newsroom/press-release.26571.html'"
      ]
     },
     "execution_count": 81,
     "metadata": {},
     "output_type": "execute_result"
    },
    {
     "data": {
      "text/plain": [
       "'success: content added from https://gov.illinois.gov/newsroom/press-release.26578.html'"
      ]
     },
     "execution_count": 81,
     "metadata": {},
     "output_type": "execute_result"
    },
    {
     "data": {
      "text/plain": [
       "'success: content added from https://gov.illinois.gov/newsroom/press-release.26570.html'"
      ]
     },
     "execution_count": 81,
     "metadata": {},
     "output_type": "execute_result"
    },
    {
     "data": {
      "text/plain": [
       "'success: content added from https://gov.illinois.gov/newsroom/press-release.26573.html'"
      ]
     },
     "execution_count": 81,
     "metadata": {},
     "output_type": "execute_result"
    },
    {
     "data": {
      "text/plain": [
       "'success: content added from https://gov.illinois.gov/newsroom/press-release.26569.html'"
      ]
     },
     "execution_count": 81,
     "metadata": {},
     "output_type": "execute_result"
    },
    {
     "data": {
      "text/plain": [
       "'success: content added from https://gov.illinois.gov/newsroom/press-release.26567.html'"
      ]
     },
     "execution_count": 81,
     "metadata": {},
     "output_type": "execute_result"
    },
    {
     "data": {
      "text/plain": [
       "'success: content added from https://gov.illinois.gov/newsroom/press-release.26564.html'"
      ]
     },
     "execution_count": 81,
     "metadata": {},
     "output_type": "execute_result"
    },
    {
     "data": {
      "text/plain": [
       "'success: content added from https://gov.illinois.gov/newsroom/press-release.26561.html'"
      ]
     },
     "execution_count": 81,
     "metadata": {},
     "output_type": "execute_result"
    },
    {
     "data": {
      "text/plain": [
       "'success: content added from https://gov.illinois.gov/newsroom/press-release.26558.html'"
      ]
     },
     "execution_count": 81,
     "metadata": {},
     "output_type": "execute_result"
    },
    {
     "data": {
      "text/plain": [
       "'success: content added from https://gov.illinois.gov/newsroom/press-release.26559.html'"
      ]
     },
     "execution_count": 81,
     "metadata": {},
     "output_type": "execute_result"
    },
    {
     "data": {
      "text/plain": [
       "'success: content added from https://gov.illinois.gov/newsroom/press-release.26545.html'"
      ]
     },
     "execution_count": 81,
     "metadata": {},
     "output_type": "execute_result"
    },
    {
     "data": {
      "text/plain": [
       "'success: content added from https://gov.illinois.gov/newsroom/press-release.26549.html'"
      ]
     },
     "execution_count": 81,
     "metadata": {},
     "output_type": "execute_result"
    },
    {
     "data": {
      "text/plain": [
       "'success: content added from https://gov.illinois.gov/newsroom/press-release.26547.html'"
      ]
     },
     "execution_count": 81,
     "metadata": {},
     "output_type": "execute_result"
    },
    {
     "data": {
      "text/plain": [
       "'success: content added from https://gov.illinois.gov/newsroom/press-release.26550.html'"
      ]
     },
     "execution_count": 81,
     "metadata": {},
     "output_type": "execute_result"
    },
    {
     "data": {
      "text/plain": [
       "'success: content added from https://gov.illinois.gov/newsroom/press-release.26551.html'"
      ]
     },
     "execution_count": 81,
     "metadata": {},
     "output_type": "execute_result"
    },
    {
     "data": {
      "text/plain": [
       "'success: content added from https://gov.illinois.gov/newsroom/press-release.26546.html'"
      ]
     },
     "execution_count": 81,
     "metadata": {},
     "output_type": "execute_result"
    },
    {
     "data": {
      "text/plain": [
       "'success: content added from https://gov.illinois.gov/newsroom/press-release.26544.html'"
      ]
     },
     "execution_count": 81,
     "metadata": {},
     "output_type": "execute_result"
    },
    {
     "data": {
      "text/plain": [
       "'success: content added from https://gov.illinois.gov/newsroom/press-release.26540.html'"
      ]
     },
     "execution_count": 81,
     "metadata": {},
     "output_type": "execute_result"
    },
    {
     "data": {
      "text/plain": [
       "'success: content added from https://gov.illinois.gov/newsroom/press-release.26536.html'"
      ]
     },
     "execution_count": 81,
     "metadata": {},
     "output_type": "execute_result"
    },
    {
     "data": {
      "text/plain": [
       "'success: content added from https://gov.illinois.gov/newsroom/press-release.26522.html'"
      ]
     },
     "execution_count": 81,
     "metadata": {},
     "output_type": "execute_result"
    },
    {
     "data": {
      "text/plain": [
       "'success: content added from https://gov.illinois.gov/newsroom/press-release.26528.html'"
      ]
     },
     "execution_count": 81,
     "metadata": {},
     "output_type": "execute_result"
    },
    {
     "data": {
      "text/plain": [
       "'success: content added from https://gov.illinois.gov/newsroom/press-release.26529.html'"
      ]
     },
     "execution_count": 81,
     "metadata": {},
     "output_type": "execute_result"
    },
    {
     "data": {
      "text/plain": [
       "'success: content added from https://gov.illinois.gov/newsroom/press-release.26531.html'"
      ]
     },
     "execution_count": 81,
     "metadata": {},
     "output_type": "execute_result"
    },
    {
     "data": {
      "text/plain": [
       "'success: content added from https://gov.illinois.gov/newsroom/press-release.26521.html'"
      ]
     },
     "execution_count": 81,
     "metadata": {},
     "output_type": "execute_result"
    },
    {
     "data": {
      "text/plain": [
       "'success: content added from https://gov.illinois.gov/newsroom/press-release.26515.html'"
      ]
     },
     "execution_count": 81,
     "metadata": {},
     "output_type": "execute_result"
    },
    {
     "data": {
      "text/plain": [
       "'success: content added from https://gov.illinois.gov/newsroom/press-release.26513.html'"
      ]
     },
     "execution_count": 81,
     "metadata": {},
     "output_type": "execute_result"
    },
    {
     "data": {
      "text/plain": [
       "'success: content added from https://gov.illinois.gov/newsroom/press-release.26514.html'"
      ]
     },
     "execution_count": 81,
     "metadata": {},
     "output_type": "execute_result"
    },
    {
     "data": {
      "text/plain": [
       "'success: content added from https://gov.illinois.gov/newsroom/press-release.26493.html'"
      ]
     },
     "execution_count": 81,
     "metadata": {},
     "output_type": "execute_result"
    },
    {
     "data": {
      "text/plain": [
       "'success: content added from https://gov.illinois.gov/newsroom/press-release.26509.html'"
      ]
     },
     "execution_count": 81,
     "metadata": {},
     "output_type": "execute_result"
    },
    {
     "data": {
      "text/plain": [
       "'success: content added from https://gov.illinois.gov/newsroom/press-release.26510.html'"
      ]
     },
     "execution_count": 81,
     "metadata": {},
     "output_type": "execute_result"
    },
    {
     "data": {
      "text/plain": [
       "'success: content added from https://gov.illinois.gov/newsroom/press-release.26494.html'"
      ]
     },
     "execution_count": 81,
     "metadata": {},
     "output_type": "execute_result"
    },
    {
     "data": {
      "text/plain": [
       "'success: content added from https://gov.illinois.gov/newsroom/press-release.26485.html'"
      ]
     },
     "execution_count": 81,
     "metadata": {},
     "output_type": "execute_result"
    },
    {
     "data": {
      "text/plain": [
       "'success: content added from https://gov.illinois.gov/newsroom/press-release.26477.html'"
      ]
     },
     "execution_count": 81,
     "metadata": {},
     "output_type": "execute_result"
    },
    {
     "data": {
      "text/plain": [
       "'success: content added from https://gov.illinois.gov/newsroom/press-release.26479.html'"
      ]
     },
     "execution_count": 81,
     "metadata": {},
     "output_type": "execute_result"
    },
    {
     "data": {
      "text/plain": [
       "'success: content added from https://gov.illinois.gov/newsroom/press-release.26474.html'"
      ]
     },
     "execution_count": 81,
     "metadata": {},
     "output_type": "execute_result"
    },
    {
     "data": {
      "text/plain": [
       "'success: content added from https://gov.illinois.gov/newsroom/press-release.26475.html'"
      ]
     },
     "execution_count": 81,
     "metadata": {},
     "output_type": "execute_result"
    },
    {
     "data": {
      "text/plain": [
       "'success: content added from https://gov.illinois.gov/newsroom/press-release.26465.html'"
      ]
     },
     "execution_count": 81,
     "metadata": {},
     "output_type": "execute_result"
    },
    {
     "data": {
      "text/plain": [
       "'success: content added from https://gov.illinois.gov/newsroom/press-release.26460.html'"
      ]
     },
     "execution_count": 81,
     "metadata": {},
     "output_type": "execute_result"
    },
    {
     "data": {
      "text/plain": [
       "'success: content added from https://gov.illinois.gov/newsroom/press-release.26455.html'"
      ]
     },
     "execution_count": 81,
     "metadata": {},
     "output_type": "execute_result"
    },
    {
     "data": {
      "text/plain": [
       "'success: content added from https://gov.illinois.gov/newsroom/press-release.26459.html'"
      ]
     },
     "execution_count": 81,
     "metadata": {},
     "output_type": "execute_result"
    },
    {
     "data": {
      "text/plain": [
       "'success: content added from https://gov.illinois.gov/newsroom/press-release.26451.html'"
      ]
     },
     "execution_count": 81,
     "metadata": {},
     "output_type": "execute_result"
    },
    {
     "data": {
      "text/plain": [
       "'success: content added from https://gov.illinois.gov/newsroom/press-release.26454.html'"
      ]
     },
     "execution_count": 81,
     "metadata": {},
     "output_type": "execute_result"
    },
    {
     "data": {
      "text/plain": [
       "'success: content added from https://gov.illinois.gov/newsroom/press-release.26449.html'"
      ]
     },
     "execution_count": 81,
     "metadata": {},
     "output_type": "execute_result"
    },
    {
     "data": {
      "text/plain": [
       "'success: content added from https://gov.illinois.gov/newsroom/press-release.26447.html'"
      ]
     },
     "execution_count": 81,
     "metadata": {},
     "output_type": "execute_result"
    },
    {
     "data": {
      "text/plain": [
       "'success: content added from https://gov.illinois.gov/newsroom/press-release.26439.html'"
      ]
     },
     "execution_count": 81,
     "metadata": {},
     "output_type": "execute_result"
    },
    {
     "data": {
      "text/plain": [
       "'success: content added from https://gov.illinois.gov/newsroom/press-release.26442.html'"
      ]
     },
     "execution_count": 81,
     "metadata": {},
     "output_type": "execute_result"
    },
    {
     "data": {
      "text/plain": [
       "'success: content added from https://gov.illinois.gov/newsroom/press-release.26443.html'"
      ]
     },
     "execution_count": 81,
     "metadata": {},
     "output_type": "execute_result"
    },
    {
     "data": {
      "text/plain": [
       "'success: content added from https://gov.illinois.gov/newsroom/press-release.26429.html'"
      ]
     },
     "execution_count": 81,
     "metadata": {},
     "output_type": "execute_result"
    },
    {
     "data": {
      "text/plain": [
       "'success: content added from https://gov.illinois.gov/newsroom/press-release.26432.html'"
      ]
     },
     "execution_count": 81,
     "metadata": {},
     "output_type": "execute_result"
    },
    {
     "data": {
      "text/plain": [
       "'success: content added from https://gov.illinois.gov/newsroom/press-release.26426.html'"
      ]
     },
     "execution_count": 81,
     "metadata": {},
     "output_type": "execute_result"
    },
    {
     "data": {
      "text/plain": [
       "'success: content added from https://gov.illinois.gov/newsroom/press-release.26417.html'"
      ]
     },
     "execution_count": 81,
     "metadata": {},
     "output_type": "execute_result"
    },
    {
     "data": {
      "text/plain": [
       "'success: content added from https://gov.illinois.gov/newsroom/press-release.26401.html'"
      ]
     },
     "execution_count": 81,
     "metadata": {},
     "output_type": "execute_result"
    },
    {
     "data": {
      "text/plain": [
       "'success: content added from https://gov.illinois.gov/newsroom/press-release.26406.html'"
      ]
     },
     "execution_count": 81,
     "metadata": {},
     "output_type": "execute_result"
    },
    {
     "data": {
      "text/plain": [
       "'success: content added from https://gov.illinois.gov/newsroom/press-release.26398.html'"
      ]
     },
     "execution_count": 81,
     "metadata": {},
     "output_type": "execute_result"
    },
    {
     "data": {
      "text/plain": [
       "'success: content added from https://gov.illinois.gov/newsroom/press-release.26397.html'"
      ]
     },
     "execution_count": 81,
     "metadata": {},
     "output_type": "execute_result"
    },
    {
     "data": {
      "text/plain": [
       "'success: content added from https://gov.illinois.gov/newsroom/press-release.26395.html'"
      ]
     },
     "execution_count": 81,
     "metadata": {},
     "output_type": "execute_result"
    },
    {
     "data": {
      "text/plain": [
       "'success: content added from https://gov.illinois.gov/newsroom/press-release.26374.html'"
      ]
     },
     "execution_count": 81,
     "metadata": {},
     "output_type": "execute_result"
    },
    {
     "data": {
      "text/plain": [
       "'success: content added from https://gov.illinois.gov/newsroom/press-release.26380.html'"
      ]
     },
     "execution_count": 81,
     "metadata": {},
     "output_type": "execute_result"
    },
    {
     "data": {
      "text/plain": [
       "'success: content added from https://gov.illinois.gov/newsroom/press-release.26391.html'"
      ]
     },
     "execution_count": 81,
     "metadata": {},
     "output_type": "execute_result"
    },
    {
     "data": {
      "text/plain": [
       "'success: content added from https://gov.illinois.gov/newsroom/press-release.26389.html'"
      ]
     },
     "execution_count": 81,
     "metadata": {},
     "output_type": "execute_result"
    },
    {
     "data": {
      "text/plain": [
       "'success: content added from https://gov.illinois.gov/newsroom/press-release.26390.html'"
      ]
     },
     "execution_count": 81,
     "metadata": {},
     "output_type": "execute_result"
    },
    {
     "data": {
      "text/plain": [
       "'success: content added from https://gov.illinois.gov/newsroom/press-release.26371.html'"
      ]
     },
     "execution_count": 81,
     "metadata": {},
     "output_type": "execute_result"
    },
    {
     "data": {
      "text/plain": [
       "'success: content added from https://gov.illinois.gov/newsroom/press-release.26367.html'"
      ]
     },
     "execution_count": 81,
     "metadata": {},
     "output_type": "execute_result"
    },
    {
     "data": {
      "text/plain": [
       "'success: content added from https://gov.illinois.gov/newsroom/press-release.26358.html'"
      ]
     },
     "execution_count": 81,
     "metadata": {},
     "output_type": "execute_result"
    },
    {
     "data": {
      "text/plain": [
       "'success: content added from https://gov.illinois.gov/newsroom/press-release.26359.html'"
      ]
     },
     "execution_count": 81,
     "metadata": {},
     "output_type": "execute_result"
    },
    {
     "data": {
      "text/plain": [
       "'success: content added from https://gov.illinois.gov/newsroom/press-release.26364.html'"
      ]
     },
     "execution_count": 81,
     "metadata": {},
     "output_type": "execute_result"
    },
    {
     "data": {
      "text/plain": [
       "'success: content added from https://gov.illinois.gov/newsroom/press-release.26354.html'"
      ]
     },
     "execution_count": 81,
     "metadata": {},
     "output_type": "execute_result"
    },
    {
     "data": {
      "text/plain": [
       "'success: content added from https://gov.illinois.gov/newsroom/press-release.26356.html'"
      ]
     },
     "execution_count": 81,
     "metadata": {},
     "output_type": "execute_result"
    },
    {
     "data": {
      "text/plain": [
       "'success: content added from https://gov.illinois.gov/newsroom/press-release.26357.html'"
      ]
     },
     "execution_count": 81,
     "metadata": {},
     "output_type": "execute_result"
    },
    {
     "data": {
      "text/plain": [
       "'success: content added from https://gov.illinois.gov/newsroom/press-release.26350.html'"
      ]
     },
     "execution_count": 81,
     "metadata": {},
     "output_type": "execute_result"
    },
    {
     "data": {
      "text/plain": [
       "'success: content added from https://gov.illinois.gov/newsroom/press-release.26338.html'"
      ]
     },
     "execution_count": 81,
     "metadata": {},
     "output_type": "execute_result"
    },
    {
     "data": {
      "text/plain": [
       "'success: content added from https://gov.illinois.gov/newsroom/press-release.26339.html'"
      ]
     },
     "execution_count": 81,
     "metadata": {},
     "output_type": "execute_result"
    },
    {
     "data": {
      "text/plain": [
       "'success: content added from https://gov.illinois.gov/newsroom/press-release.26342.html'"
      ]
     },
     "execution_count": 81,
     "metadata": {},
     "output_type": "execute_result"
    },
    {
     "data": {
      "text/plain": [
       "'success: content added from https://gov.illinois.gov/newsroom/press-release.26336.html'"
      ]
     },
     "execution_count": 81,
     "metadata": {},
     "output_type": "execute_result"
    },
    {
     "data": {
      "text/plain": [
       "'success: content added from https://gov.illinois.gov/newsroom/press-release.26315.html'"
      ]
     },
     "execution_count": 81,
     "metadata": {},
     "output_type": "execute_result"
    },
    {
     "data": {
      "text/plain": [
       "'success: content added from https://gov.illinois.gov/newsroom/press-release.26314.html'"
      ]
     },
     "execution_count": 81,
     "metadata": {},
     "output_type": "execute_result"
    },
    {
     "data": {
      "text/plain": [
       "'success: content added from https://gov.illinois.gov/newsroom/press-release.26309.html'"
      ]
     },
     "execution_count": 81,
     "metadata": {},
     "output_type": "execute_result"
    },
    {
     "data": {
      "text/plain": [
       "'success: content added from https://gov.illinois.gov/newsroom/press-release.26312.html'"
      ]
     },
     "execution_count": 81,
     "metadata": {},
     "output_type": "execute_result"
    },
    {
     "data": {
      "text/plain": [
       "'success: content added from https://gov.illinois.gov/newsroom/press-release.26313.html'"
      ]
     },
     "execution_count": 81,
     "metadata": {},
     "output_type": "execute_result"
    },
    {
     "data": {
      "text/plain": [
       "'success: content added from https://gov.illinois.gov/newsroom/press-release.26311.html'"
      ]
     },
     "execution_count": 81,
     "metadata": {},
     "output_type": "execute_result"
    },
    {
     "data": {
      "text/plain": [
       "'success: content added from https://gov.illinois.gov/newsroom/press-release.26299.html'"
      ]
     },
     "execution_count": 81,
     "metadata": {},
     "output_type": "execute_result"
    },
    {
     "data": {
      "text/plain": [
       "'success: content added from https://gov.illinois.gov/newsroom/press-release.26307.html'"
      ]
     },
     "execution_count": 81,
     "metadata": {},
     "output_type": "execute_result"
    },
    {
     "data": {
      "text/plain": [
       "'success: content added from https://gov.illinois.gov/newsroom/press-release.26301.html'"
      ]
     },
     "execution_count": 81,
     "metadata": {},
     "output_type": "execute_result"
    },
    {
     "data": {
      "text/plain": [
       "'success: content added from https://gov.illinois.gov/newsroom/press-release.26295.html'"
      ]
     },
     "execution_count": 81,
     "metadata": {},
     "output_type": "execute_result"
    },
    {
     "data": {
      "text/plain": [
       "'success: content added from https://gov.illinois.gov/newsroom/press-release.26297.html'"
      ]
     },
     "execution_count": 81,
     "metadata": {},
     "output_type": "execute_result"
    },
    {
     "data": {
      "text/plain": [
       "'success: content added from https://gov.illinois.gov/newsroom/press-release.26298.html'"
      ]
     },
     "execution_count": 81,
     "metadata": {},
     "output_type": "execute_result"
    },
    {
     "data": {
      "text/plain": [
       "'success: content added from https://gov.illinois.gov/newsroom/press-release.26287.html'"
      ]
     },
     "execution_count": 81,
     "metadata": {},
     "output_type": "execute_result"
    },
    {
     "data": {
      "text/plain": [
       "'success: content added from https://gov.illinois.gov/newsroom/press-release.26285.html'"
      ]
     },
     "execution_count": 81,
     "metadata": {},
     "output_type": "execute_result"
    },
    {
     "data": {
      "text/plain": [
       "'success: content added from https://gov.illinois.gov/newsroom/press-release.26291.html'"
      ]
     },
     "execution_count": 81,
     "metadata": {},
     "output_type": "execute_result"
    },
    {
     "data": {
      "text/plain": [
       "'success: content added from https://gov.illinois.gov/newsroom/press-release.26279.html'"
      ]
     },
     "execution_count": 81,
     "metadata": {},
     "output_type": "execute_result"
    },
    {
     "data": {
      "text/plain": [
       "'success: content added from https://gov.illinois.gov/newsroom/press-release.26282.html'"
      ]
     },
     "execution_count": 81,
     "metadata": {},
     "output_type": "execute_result"
    },
    {
     "data": {
      "text/plain": [
       "'content already existing for https://gov.illinois.gov/newsroom/press-release.26279.html'"
      ]
     },
     "execution_count": 81,
     "metadata": {},
     "output_type": "execute_result"
    },
    {
     "data": {
      "text/plain": [
       "'success: content added from https://gov.illinois.gov/newsroom/press-release.26272.html'"
      ]
     },
     "execution_count": 81,
     "metadata": {},
     "output_type": "execute_result"
    },
    {
     "data": {
      "text/plain": [
       "'success: content added from https://gov.illinois.gov/newsroom/press-release.26274.html'"
      ]
     },
     "execution_count": 81,
     "metadata": {},
     "output_type": "execute_result"
    },
    {
     "data": {
      "text/plain": [
       "'success: content added from https://gov.illinois.gov/newsroom/press-release.26278.html'"
      ]
     },
     "execution_count": 81,
     "metadata": {},
     "output_type": "execute_result"
    },
    {
     "data": {
      "text/plain": [
       "'success: content added from https://gov.illinois.gov/newsroom/press-release.26256.html'"
      ]
     },
     "execution_count": 81,
     "metadata": {},
     "output_type": "execute_result"
    },
    {
     "data": {
      "text/plain": [
       "'success: content added from https://gov.illinois.gov/newsroom/press-release.26248.html'"
      ]
     },
     "execution_count": 81,
     "metadata": {},
     "output_type": "execute_result"
    },
    {
     "data": {
      "text/plain": [
       "'success: content added from https://gov.illinois.gov/newsroom/press-release.26242.html'"
      ]
     },
     "execution_count": 81,
     "metadata": {},
     "output_type": "execute_result"
    },
    {
     "data": {
      "text/plain": [
       "'success: content added from https://gov.illinois.gov/newsroom/press-release.26245.html'"
      ]
     },
     "execution_count": 81,
     "metadata": {},
     "output_type": "execute_result"
    },
    {
     "data": {
      "text/plain": [
       "'success: content added from https://gov.illinois.gov/newsroom/press-release.26235.html'"
      ]
     },
     "execution_count": 81,
     "metadata": {},
     "output_type": "execute_result"
    },
    {
     "data": {
      "text/plain": [
       "'success: content added from https://gov.illinois.gov/newsroom/press-release.26237.html'"
      ]
     },
     "execution_count": 81,
     "metadata": {},
     "output_type": "execute_result"
    },
    {
     "data": {
      "text/plain": [
       "'success: content added from https://gov.illinois.gov/newsroom/press-release.26238.html'"
      ]
     },
     "execution_count": 81,
     "metadata": {},
     "output_type": "execute_result"
    },
    {
     "data": {
      "text/plain": [
       "'success: content added from https://gov.illinois.gov/newsroom/press-release.26230.html'"
      ]
     },
     "execution_count": 81,
     "metadata": {},
     "output_type": "execute_result"
    },
    {
     "data": {
      "text/plain": [
       "'success: content added from https://gov.illinois.gov/newsroom/press-release.26227.html'"
      ]
     },
     "execution_count": 81,
     "metadata": {},
     "output_type": "execute_result"
    },
    {
     "data": {
      "text/plain": [
       "'success: content added from https://gov.illinois.gov/newsroom/press-release.26231.html'"
      ]
     },
     "execution_count": 81,
     "metadata": {},
     "output_type": "execute_result"
    },
    {
     "data": {
      "text/plain": [
       "'success: content added from https://gov.illinois.gov/newsroom/press-release.26225.html'"
      ]
     },
     "execution_count": 81,
     "metadata": {},
     "output_type": "execute_result"
    },
    {
     "data": {
      "text/plain": [
       "'success: content added from https://gov.illinois.gov/newsroom/press-release.26219.html'"
      ]
     },
     "execution_count": 81,
     "metadata": {},
     "output_type": "execute_result"
    },
    {
     "data": {
      "text/plain": [
       "'success: content added from https://gov.illinois.gov/newsroom/press-release.26221.html'"
      ]
     },
     "execution_count": 81,
     "metadata": {},
     "output_type": "execute_result"
    },
    {
     "data": {
      "text/plain": [
       "'success: content added from https://gov.illinois.gov/newsroom/press-release.26208.html'"
      ]
     },
     "execution_count": 81,
     "metadata": {},
     "output_type": "execute_result"
    },
    {
     "data": {
      "text/plain": [
       "'success: content added from https://gov.illinois.gov/newsroom/press-release.26210.html'"
      ]
     },
     "execution_count": 81,
     "metadata": {},
     "output_type": "execute_result"
    },
    {
     "data": {
      "text/plain": [
       "'success: content added from https://gov.illinois.gov/newsroom/press-release.26211.html'"
      ]
     },
     "execution_count": 81,
     "metadata": {},
     "output_type": "execute_result"
    },
    {
     "data": {
      "text/plain": [
       "'success: content added from https://gov.illinois.gov/newsroom/press-release.26202.html'"
      ]
     },
     "execution_count": 81,
     "metadata": {},
     "output_type": "execute_result"
    },
    {
     "data": {
      "text/plain": [
       "'success: content added from https://gov.illinois.gov/newsroom/press-release.26203.html'"
      ]
     },
     "execution_count": 81,
     "metadata": {},
     "output_type": "execute_result"
    },
    {
     "data": {
      "text/plain": [
       "'success: content added from https://gov.illinois.gov/newsroom/press-release.26204.html'"
      ]
     },
     "execution_count": 81,
     "metadata": {},
     "output_type": "execute_result"
    },
    {
     "data": {
      "text/plain": [
       "'success: content added from https://gov.illinois.gov/newsroom/press-release.26206.html'"
      ]
     },
     "execution_count": 81,
     "metadata": {},
     "output_type": "execute_result"
    },
    {
     "data": {
      "text/plain": [
       "'success: content added from https://gov.illinois.gov/newsroom/press-release.26207.html'"
      ]
     },
     "execution_count": 81,
     "metadata": {},
     "output_type": "execute_result"
    },
    {
     "data": {
      "text/plain": [
       "'success: content added from https://gov.illinois.gov/newsroom/press-release.26168.html'"
      ]
     },
     "execution_count": 81,
     "metadata": {},
     "output_type": "execute_result"
    },
    {
     "data": {
      "text/plain": [
       "'success: content added from https://gov.illinois.gov/newsroom/press-release.26186.html'"
      ]
     },
     "execution_count": 81,
     "metadata": {},
     "output_type": "execute_result"
    },
    {
     "data": {
      "text/plain": [
       "'success: content added from https://gov.illinois.gov/newsroom/press-release.26198.html'"
      ]
     },
     "execution_count": 81,
     "metadata": {},
     "output_type": "execute_result"
    },
    {
     "data": {
      "text/plain": [
       "'success: content added from https://gov.illinois.gov/newsroom/press-release.26178.html'"
      ]
     },
     "execution_count": 81,
     "metadata": {},
     "output_type": "execute_result"
    },
    {
     "data": {
      "text/plain": [
       "'success: content added from https://gov.illinois.gov/newsroom/press-release.26180.html'"
      ]
     },
     "execution_count": 81,
     "metadata": {},
     "output_type": "execute_result"
    },
    {
     "data": {
      "text/plain": [
       "'success: content added from https://gov.illinois.gov/newsroom/press-release.26170.html'"
      ]
     },
     "execution_count": 81,
     "metadata": {},
     "output_type": "execute_result"
    },
    {
     "data": {
      "text/plain": [
       "'success: content added from https://gov.illinois.gov/newsroom/press-release.26174.html'"
      ]
     },
     "execution_count": 81,
     "metadata": {},
     "output_type": "execute_result"
    },
    {
     "data": {
      "text/plain": [
       "'success: content added from https://gov.illinois.gov/newsroom/press-release.26172.html'"
      ]
     },
     "execution_count": 81,
     "metadata": {},
     "output_type": "execute_result"
    },
    {
     "data": {
      "text/plain": [
       "'success: content added from https://gov.illinois.gov/newsroom/press-release.26164.html'"
      ]
     },
     "execution_count": 81,
     "metadata": {},
     "output_type": "execute_result"
    },
    {
     "data": {
      "text/plain": [
       "'success: content added from https://gov.illinois.gov/newsroom/press-release.26165.html'"
      ]
     },
     "execution_count": 81,
     "metadata": {},
     "output_type": "execute_result"
    },
    {
     "data": {
      "text/plain": [
       "'success: content added from https://gov.illinois.gov/newsroom/press-release.26158.html'"
      ]
     },
     "execution_count": 81,
     "metadata": {},
     "output_type": "execute_result"
    },
    {
     "data": {
      "text/plain": [
       "'success: content added from https://gov.illinois.gov/newsroom/press-release.26157.html'"
      ]
     },
     "execution_count": 81,
     "metadata": {},
     "output_type": "execute_result"
    },
    {
     "data": {
      "text/plain": [
       "'success: content added from https://gov.illinois.gov/newsroom/press-release.26148.html'"
      ]
     },
     "execution_count": 81,
     "metadata": {},
     "output_type": "execute_result"
    },
    {
     "data": {
      "text/plain": [
       "'success: content added from https://gov.illinois.gov/newsroom/press-release.26145.html'"
      ]
     },
     "execution_count": 81,
     "metadata": {},
     "output_type": "execute_result"
    },
    {
     "data": {
      "text/plain": [
       "'success: content added from https://gov.illinois.gov/newsroom/press-release.26142.html'"
      ]
     },
     "execution_count": 81,
     "metadata": {},
     "output_type": "execute_result"
    },
    {
     "data": {
      "text/plain": [
       "'success: content added from https://gov.illinois.gov/newsroom/press-release.26143.html'"
      ]
     },
     "execution_count": 81,
     "metadata": {},
     "output_type": "execute_result"
    },
    {
     "data": {
      "text/plain": [
       "'success: content added from https://gov.illinois.gov/newsroom/press-release.26140.html'"
      ]
     },
     "execution_count": 81,
     "metadata": {},
     "output_type": "execute_result"
    },
    {
     "data": {
      "text/plain": [
       "'success: content added from https://gov.illinois.gov/newsroom/press-release.26136.html'"
      ]
     },
     "execution_count": 81,
     "metadata": {},
     "output_type": "execute_result"
    },
    {
     "data": {
      "text/plain": [
       "'success: content added from https://gov.illinois.gov/newsroom/press-release.26133.html'"
      ]
     },
     "execution_count": 81,
     "metadata": {},
     "output_type": "execute_result"
    },
    {
     "data": {
      "text/plain": [
       "'success: content added from https://gov.illinois.gov/newsroom/press-release.26134.html'"
      ]
     },
     "execution_count": 81,
     "metadata": {},
     "output_type": "execute_result"
    },
    {
     "data": {
      "text/plain": [
       "'success: content added from https://gov.illinois.gov/newsroom/press-release.26126.html'"
      ]
     },
     "execution_count": 81,
     "metadata": {},
     "output_type": "execute_result"
    },
    {
     "data": {
      "text/plain": [
       "'success: content added from https://gov.illinois.gov/newsroom/press-release.26130.html'"
      ]
     },
     "execution_count": 81,
     "metadata": {},
     "output_type": "execute_result"
    },
    {
     "data": {
      "text/plain": [
       "'success: content added from https://gov.illinois.gov/newsroom/press-release.26122.html'"
      ]
     },
     "execution_count": 81,
     "metadata": {},
     "output_type": "execute_result"
    },
    {
     "data": {
      "text/plain": [
       "'success: content added from https://gov.illinois.gov/newsroom/press-release.26121.html'"
      ]
     },
     "execution_count": 81,
     "metadata": {},
     "output_type": "execute_result"
    },
    {
     "data": {
      "text/plain": [
       "'success: content added from https://gov.illinois.gov/newsroom/press-release.26111.html'"
      ]
     },
     "execution_count": 81,
     "metadata": {},
     "output_type": "execute_result"
    },
    {
     "data": {
      "text/plain": [
       "'success: content added from https://gov.illinois.gov/newsroom/press-release.26110.html'"
      ]
     },
     "execution_count": 81,
     "metadata": {},
     "output_type": "execute_result"
    },
    {
     "data": {
      "text/plain": [
       "'success: content added from https://gov.illinois.gov/newsroom/press-release.26105.html'"
      ]
     },
     "execution_count": 81,
     "metadata": {},
     "output_type": "execute_result"
    },
    {
     "data": {
      "text/plain": [
       "'success: content added from https://gov.illinois.gov/newsroom/press-release.26101.html'"
      ]
     },
     "execution_count": 81,
     "metadata": {},
     "output_type": "execute_result"
    },
    {
     "data": {
      "text/plain": [
       "'success: content added from https://gov.illinois.gov/newsroom/press-release.26089.html'"
      ]
     },
     "execution_count": 81,
     "metadata": {},
     "output_type": "execute_result"
    },
    {
     "data": {
      "text/plain": [
       "'success: content added from https://gov.illinois.gov/newsroom/press-release.26092.html'"
      ]
     },
     "execution_count": 81,
     "metadata": {},
     "output_type": "execute_result"
    },
    {
     "data": {
      "text/plain": [
       "'success: content added from https://gov.illinois.gov/newsroom/press-release.26096.html'"
      ]
     },
     "execution_count": 81,
     "metadata": {},
     "output_type": "execute_result"
    },
    {
     "data": {
      "text/plain": [
       "'success: content added from https://gov.illinois.gov/newsroom/press-release.26075.html'"
      ]
     },
     "execution_count": 81,
     "metadata": {},
     "output_type": "execute_result"
    },
    {
     "data": {
      "text/plain": [
       "'success: content added from https://gov.illinois.gov/newsroom/press-release.26087.html'"
      ]
     },
     "execution_count": 81,
     "metadata": {},
     "output_type": "execute_result"
    },
    {
     "data": {
      "text/plain": [
       "'success: content added from https://gov.illinois.gov/newsroom/press-release.26078.html'"
      ]
     },
     "execution_count": 81,
     "metadata": {},
     "output_type": "execute_result"
    },
    {
     "data": {
      "text/plain": [
       "'success: content added from https://gov.illinois.gov/newsroom/press-release.26079.html'"
      ]
     },
     "execution_count": 81,
     "metadata": {},
     "output_type": "execute_result"
    },
    {
     "data": {
      "text/plain": [
       "'success: content added from https://gov.illinois.gov/newsroom/press-release.26085.html'"
      ]
     },
     "execution_count": 81,
     "metadata": {},
     "output_type": "execute_result"
    },
    {
     "data": {
      "text/plain": [
       "'success: content added from https://gov.illinois.gov/newsroom/press-release.26086.html'"
      ]
     },
     "execution_count": 81,
     "metadata": {},
     "output_type": "execute_result"
    },
    {
     "data": {
      "text/plain": [
       "'success: content added from https://gov.illinois.gov/newsroom/press-release.26080.html'"
      ]
     },
     "execution_count": 81,
     "metadata": {},
     "output_type": "execute_result"
    },
    {
     "data": {
      "text/plain": [
       "'success: content added from https://gov.illinois.gov/newsroom/press-release.26081.html'"
      ]
     },
     "execution_count": 81,
     "metadata": {},
     "output_type": "execute_result"
    },
    {
     "data": {
      "text/plain": [
       "'success: content added from https://gov.illinois.gov/newsroom/press-release.26082.html'"
      ]
     },
     "execution_count": 81,
     "metadata": {},
     "output_type": "execute_result"
    },
    {
     "data": {
      "text/plain": [
       "'success: content added from https://gov.illinois.gov/newsroom/press-release.26083.html'"
      ]
     },
     "execution_count": 81,
     "metadata": {},
     "output_type": "execute_result"
    },
    {
     "data": {
      "text/plain": [
       "'success: content added from https://gov.illinois.gov/newsroom/press-release.26084.html'"
      ]
     },
     "execution_count": 81,
     "metadata": {},
     "output_type": "execute_result"
    },
    {
     "data": {
      "text/plain": [
       "'success: content added from https://gov.illinois.gov/newsroom/press-release.26074.html'"
      ]
     },
     "execution_count": 81,
     "metadata": {},
     "output_type": "execute_result"
    },
    {
     "data": {
      "text/plain": [
       "'success: content added from https://gov.illinois.gov/newsroom/press-release.26065.html'"
      ]
     },
     "execution_count": 81,
     "metadata": {},
     "output_type": "execute_result"
    },
    {
     "data": {
      "text/plain": [
       "'success: content added from https://gov.illinois.gov/newsroom/press-release.26050.html'"
      ]
     },
     "execution_count": 81,
     "metadata": {},
     "output_type": "execute_result"
    },
    {
     "data": {
      "text/plain": [
       "'success: content added from https://gov.illinois.gov/newsroom/press-release.26048.html'"
      ]
     },
     "execution_count": 81,
     "metadata": {},
     "output_type": "execute_result"
    },
    {
     "data": {
      "text/plain": [
       "'success: content added from https://gov.illinois.gov/newsroom/press-release.26042.html'"
      ]
     },
     "execution_count": 81,
     "metadata": {},
     "output_type": "execute_result"
    },
    {
     "data": {
      "text/plain": [
       "'success: content added from https://gov.illinois.gov/newsroom/press-release.26046.html'"
      ]
     },
     "execution_count": 81,
     "metadata": {},
     "output_type": "execute_result"
    },
    {
     "data": {
      "text/plain": [
       "'success: content added from https://gov.illinois.gov/newsroom/press-release.26047.html'"
      ]
     },
     "execution_count": 81,
     "metadata": {},
     "output_type": "execute_result"
    },
    {
     "data": {
      "text/plain": [
       "'success: content added from https://gov.illinois.gov/newsroom/press-release.26038.html'"
      ]
     },
     "execution_count": 81,
     "metadata": {},
     "output_type": "execute_result"
    },
    {
     "data": {
      "text/plain": [
       "'success: content added from https://gov.illinois.gov/newsroom/press-release.26036.html'"
      ]
     },
     "execution_count": 81,
     "metadata": {},
     "output_type": "execute_result"
    },
    {
     "data": {
      "text/plain": [
       "'success: content added from https://gov.illinois.gov/newsroom/press-release.26033.html'"
      ]
     },
     "execution_count": 81,
     "metadata": {},
     "output_type": "execute_result"
    },
    {
     "data": {
      "text/plain": [
       "'success: content added from https://gov.illinois.gov/newsroom/press-release.26029.html'"
      ]
     },
     "execution_count": 81,
     "metadata": {},
     "output_type": "execute_result"
    },
    {
     "data": {
      "text/plain": [
       "'success: content added from https://gov.illinois.gov/newsroom/press-release.26032.html'"
      ]
     },
     "execution_count": 81,
     "metadata": {},
     "output_type": "execute_result"
    },
    {
     "data": {
      "text/plain": [
       "'success: content added from https://gov.illinois.gov/newsroom/press-release.26024.html'"
      ]
     },
     "execution_count": 81,
     "metadata": {},
     "output_type": "execute_result"
    },
    {
     "data": {
      "text/plain": [
       "'success: content added from https://gov.illinois.gov/newsroom/press-release.26030.html'"
      ]
     },
     "execution_count": 81,
     "metadata": {},
     "output_type": "execute_result"
    },
    {
     "data": {
      "text/plain": [
       "'success: content added from https://gov.illinois.gov/newsroom/press-release.26028.html'"
      ]
     },
     "execution_count": 81,
     "metadata": {},
     "output_type": "execute_result"
    },
    {
     "data": {
      "text/plain": [
       "'success: content added from https://gov.illinois.gov/newsroom/press-release.26019.html'"
      ]
     },
     "execution_count": 81,
     "metadata": {},
     "output_type": "execute_result"
    },
    {
     "data": {
      "text/plain": [
       "'success: content added from https://gov.illinois.gov/newsroom/press-release.26015.html'"
      ]
     },
     "execution_count": 81,
     "metadata": {},
     "output_type": "execute_result"
    },
    {
     "data": {
      "text/plain": [
       "'success: content added from https://gov.illinois.gov/newsroom/press-release.26017.html'"
      ]
     },
     "execution_count": 81,
     "metadata": {},
     "output_type": "execute_result"
    },
    {
     "data": {
      "text/plain": [
       "'content already existing for https://gov.illinois.gov/newsroom/press-release.26019.html'"
      ]
     },
     "execution_count": 81,
     "metadata": {},
     "output_type": "execute_result"
    },
    {
     "data": {
      "text/plain": [
       "'success: content added from https://gov.illinois.gov/newsroom/press-release.26020.html'"
      ]
     },
     "execution_count": 81,
     "metadata": {},
     "output_type": "execute_result"
    },
    {
     "data": {
      "text/plain": [
       "'success: content added from https://gov.illinois.gov/newsroom/press-release.26010.html'"
      ]
     },
     "execution_count": 81,
     "metadata": {},
     "output_type": "execute_result"
    },
    {
     "data": {
      "text/plain": [
       "'success: content added from https://gov.illinois.gov/newsroom/press-release.26021.html'"
      ]
     },
     "execution_count": 81,
     "metadata": {},
     "output_type": "execute_result"
    },
    {
     "data": {
      "text/plain": [
       "'success: content added from https://gov.illinois.gov/newsroom/press-release.26007.html'"
      ]
     },
     "execution_count": 81,
     "metadata": {},
     "output_type": "execute_result"
    },
    {
     "data": {
      "text/plain": [
       "'success: content added from https://gov.illinois.gov/newsroom/press-release.26014.html'"
      ]
     },
     "execution_count": 81,
     "metadata": {},
     "output_type": "execute_result"
    },
    {
     "data": {
      "text/plain": [
       "'success: content added from https://gov.illinois.gov/newsroom/press-release.26002.html'"
      ]
     },
     "execution_count": 81,
     "metadata": {},
     "output_type": "execute_result"
    },
    {
     "data": {
      "text/plain": [
       "'success: content added from https://gov.illinois.gov/newsroom/press-release.26006.html'"
      ]
     },
     "execution_count": 81,
     "metadata": {},
     "output_type": "execute_result"
    },
    {
     "data": {
      "text/plain": [
       "'success: content added from https://gov.illinois.gov/newsroom/press-release.25991.html'"
      ]
     },
     "execution_count": 81,
     "metadata": {},
     "output_type": "execute_result"
    },
    {
     "data": {
      "text/plain": [
       "'success: content added from https://gov.illinois.gov/newsroom/press-release.25995.html'"
      ]
     },
     "execution_count": 81,
     "metadata": {},
     "output_type": "execute_result"
    },
    {
     "data": {
      "text/plain": [
       "'success: content added from https://gov.illinois.gov/newsroom/press-release.25998.html'"
      ]
     },
     "execution_count": 81,
     "metadata": {},
     "output_type": "execute_result"
    },
    {
     "data": {
      "text/plain": [
       "'success: content added from https://gov.illinois.gov/newsroom/press-release.25996.html'"
      ]
     },
     "execution_count": 81,
     "metadata": {},
     "output_type": "execute_result"
    },
    {
     "data": {
      "text/plain": [
       "'success: content added from https://gov.illinois.gov/newsroom/press-release.25988.html'"
      ]
     },
     "execution_count": 81,
     "metadata": {},
     "output_type": "execute_result"
    },
    {
     "data": {
      "text/plain": [
       "'success: content added from https://gov.illinois.gov/newsroom/press-release.25985.html'"
      ]
     },
     "execution_count": 81,
     "metadata": {},
     "output_type": "execute_result"
    },
    {
     "data": {
      "text/plain": [
       "'success: content added from https://gov.illinois.gov/newsroom/press-release.25986.html'"
      ]
     },
     "execution_count": 81,
     "metadata": {},
     "output_type": "execute_result"
    },
    {
     "data": {
      "text/plain": [
       "'success: content added from https://gov.illinois.gov/newsroom/press-release.25974.html'"
      ]
     },
     "execution_count": 81,
     "metadata": {},
     "output_type": "execute_result"
    },
    {
     "data": {
      "text/plain": [
       "'success: content added from https://gov.illinois.gov/newsroom/press-release.25976.html'"
      ]
     },
     "execution_count": 81,
     "metadata": {},
     "output_type": "execute_result"
    },
    {
     "data": {
      "text/plain": [
       "'success: content added from https://gov.illinois.gov/newsroom/press-release.25977.html'"
      ]
     },
     "execution_count": 81,
     "metadata": {},
     "output_type": "execute_result"
    },
    {
     "data": {
      "text/plain": [
       "'success: content added from https://gov.illinois.gov/newsroom/press-release.25979.html'"
      ]
     },
     "execution_count": 81,
     "metadata": {},
     "output_type": "execute_result"
    },
    {
     "data": {
      "text/plain": [
       "'success: content added from https://gov.illinois.gov/newsroom/press-release.25981.html'"
      ]
     },
     "execution_count": 81,
     "metadata": {},
     "output_type": "execute_result"
    },
    {
     "data": {
      "text/plain": [
       "'success: content added from https://gov.illinois.gov/newsroom/press-release.25980.html'"
      ]
     },
     "execution_count": 81,
     "metadata": {},
     "output_type": "execute_result"
    },
    {
     "data": {
      "text/plain": [
       "'success: content added from https://gov.illinois.gov/newsroom/press-release.25962.html'"
      ]
     },
     "execution_count": 81,
     "metadata": {},
     "output_type": "execute_result"
    },
    {
     "data": {
      "text/plain": [
       "'success: content added from https://gov.illinois.gov/newsroom/press-release.25972.html'"
      ]
     },
     "execution_count": 81,
     "metadata": {},
     "output_type": "execute_result"
    },
    {
     "data": {
      "text/plain": [
       "'success: content added from https://gov.illinois.gov/newsroom/press-release.25960.html'"
      ]
     },
     "execution_count": 81,
     "metadata": {},
     "output_type": "execute_result"
    },
    {
     "data": {
      "text/plain": [
       "'success: content added from https://gov.illinois.gov/newsroom/press-release.25944.html'"
      ]
     },
     "execution_count": 81,
     "metadata": {},
     "output_type": "execute_result"
    },
    {
     "data": {
      "text/plain": [
       "'success: content added from https://gov.illinois.gov/newsroom/press-release.25957.html'"
      ]
     },
     "execution_count": 81,
     "metadata": {},
     "output_type": "execute_result"
    },
    {
     "data": {
      "text/plain": [
       "'success: content added from https://gov.illinois.gov/newsroom/press-release.25952.html'"
      ]
     },
     "execution_count": 81,
     "metadata": {},
     "output_type": "execute_result"
    },
    {
     "data": {
      "text/plain": [
       "'success: content added from https://gov.illinois.gov/newsroom/press-release.25958.html'"
      ]
     },
     "execution_count": 81,
     "metadata": {},
     "output_type": "execute_result"
    },
    {
     "data": {
      "text/plain": [
       "'success: content added from https://gov.illinois.gov/newsroom/press-release.25941.html'"
      ]
     },
     "execution_count": 81,
     "metadata": {},
     "output_type": "execute_result"
    },
    {
     "data": {
      "text/plain": [
       "'success: content added from https://gov.illinois.gov/newsroom/press-release.25942.html'"
      ]
     },
     "execution_count": 81,
     "metadata": {},
     "output_type": "execute_result"
    },
    {
     "data": {
      "text/plain": [
       "'success: content added from https://gov.illinois.gov/newsroom/press-release.25937.html'"
      ]
     },
     "execution_count": 81,
     "metadata": {},
     "output_type": "execute_result"
    },
    {
     "data": {
      "text/plain": [
       "'success: content added from https://gov.illinois.gov/newsroom/press-release.25938.html'"
      ]
     },
     "execution_count": 81,
     "metadata": {},
     "output_type": "execute_result"
    },
    {
     "data": {
      "text/plain": [
       "'success: content added from https://gov.illinois.gov/newsroom/press-release.25939.html'"
      ]
     },
     "execution_count": 81,
     "metadata": {},
     "output_type": "execute_result"
    },
    {
     "data": {
      "text/plain": [
       "'success: content added from https://gov.illinois.gov/newsroom/press-release.25929.html'"
      ]
     },
     "execution_count": 81,
     "metadata": {},
     "output_type": "execute_result"
    },
    {
     "data": {
      "text/plain": [
       "'success: content added from https://gov.illinois.gov/newsroom/press-release.25928.html'"
      ]
     },
     "execution_count": 81,
     "metadata": {},
     "output_type": "execute_result"
    },
    {
     "data": {
      "text/plain": [
       "'success: content added from https://gov.illinois.gov/newsroom/press-release.25927.html'"
      ]
     },
     "execution_count": 81,
     "metadata": {},
     "output_type": "execute_result"
    },
    {
     "data": {
      "text/plain": [
       "'success: content added from https://gov.illinois.gov/newsroom/press-release.25915.html'"
      ]
     },
     "execution_count": 81,
     "metadata": {},
     "output_type": "execute_result"
    },
    {
     "data": {
      "text/plain": [
       "'success: content added from https://gov.illinois.gov/newsroom/press-release.25914.html'"
      ]
     },
     "execution_count": 81,
     "metadata": {},
     "output_type": "execute_result"
    },
    {
     "data": {
      "text/plain": [
       "'success: content added from https://gov.illinois.gov/newsroom/press-release.25905.html'"
      ]
     },
     "execution_count": 81,
     "metadata": {},
     "output_type": "execute_result"
    },
    {
     "data": {
      "text/plain": [
       "'success: content added from https://gov.illinois.gov/newsroom/press-release.25906.html'"
      ]
     },
     "execution_count": 81,
     "metadata": {},
     "output_type": "execute_result"
    },
    {
     "data": {
      "text/plain": [
       "'success: content added from https://gov.illinois.gov/newsroom/press-release.25903.html'"
      ]
     },
     "execution_count": 81,
     "metadata": {},
     "output_type": "execute_result"
    },
    {
     "data": {
      "text/plain": [
       "'success: content added from https://gov.illinois.gov/newsroom/press-release.25908.html'"
      ]
     },
     "execution_count": 81,
     "metadata": {},
     "output_type": "execute_result"
    },
    {
     "data": {
      "text/plain": [
       "'success: content added from https://gov.illinois.gov/newsroom/press-release.25909.html'"
      ]
     },
     "execution_count": 81,
     "metadata": {},
     "output_type": "execute_result"
    },
    {
     "data": {
      "text/plain": [
       "'success: content added from https://gov.illinois.gov/newsroom/press-release.25910.html'"
      ]
     },
     "execution_count": 81,
     "metadata": {},
     "output_type": "execute_result"
    },
    {
     "data": {
      "text/plain": [
       "'success: content added from https://gov.illinois.gov/newsroom/press-release.25913.html'"
      ]
     },
     "execution_count": 81,
     "metadata": {},
     "output_type": "execute_result"
    },
    {
     "data": {
      "text/plain": [
       "'success: content added from https://gov.illinois.gov/newsroom/press-release.25900.html'"
      ]
     },
     "execution_count": 81,
     "metadata": {},
     "output_type": "execute_result"
    },
    {
     "data": {
      "text/plain": [
       "'success: content added from https://gov.illinois.gov/newsroom/press-release.25901.html'"
      ]
     },
     "execution_count": 81,
     "metadata": {},
     "output_type": "execute_result"
    },
    {
     "data": {
      "text/plain": [
       "'success: content added from https://gov.illinois.gov/newsroom/press-release.25902.html'"
      ]
     },
     "execution_count": 81,
     "metadata": {},
     "output_type": "execute_result"
    },
    {
     "data": {
      "text/plain": [
       "'success: content added from https://gov.illinois.gov/newsroom/press-release.25892.html'"
      ]
     },
     "execution_count": 81,
     "metadata": {},
     "output_type": "execute_result"
    },
    {
     "data": {
      "text/plain": [
       "'success: content added from https://gov.illinois.gov/newsroom/press-release.25897.html'"
      ]
     },
     "execution_count": 81,
     "metadata": {},
     "output_type": "execute_result"
    },
    {
     "data": {
      "text/plain": [
       "'success: content added from https://gov.illinois.gov/newsroom/press-release.25899.html'"
      ]
     },
     "execution_count": 81,
     "metadata": {},
     "output_type": "execute_result"
    },
    {
     "data": {
      "text/plain": [
       "'success: content added from https://gov.illinois.gov/newsroom/press-release.25880.html'"
      ]
     },
     "execution_count": 81,
     "metadata": {},
     "output_type": "execute_result"
    },
    {
     "data": {
      "text/plain": [
       "'success: content added from https://gov.illinois.gov/newsroom/press-release.25890.html'"
      ]
     },
     "execution_count": 81,
     "metadata": {},
     "output_type": "execute_result"
    },
    {
     "data": {
      "text/plain": [
       "'success: content added from https://gov.illinois.gov/newsroom/press-release.25887.html'"
      ]
     },
     "execution_count": 81,
     "metadata": {},
     "output_type": "execute_result"
    },
    {
     "data": {
      "text/plain": [
       "'success: content added from https://gov.illinois.gov/newsroom/press-release.25877.html'"
      ]
     },
     "execution_count": 81,
     "metadata": {},
     "output_type": "execute_result"
    },
    {
     "data": {
      "text/plain": [
       "'success: content added from https://gov.illinois.gov/newsroom/press-release.25879.html'"
      ]
     },
     "execution_count": 81,
     "metadata": {},
     "output_type": "execute_result"
    },
    {
     "data": {
      "text/plain": [
       "'success: content added from https://gov.illinois.gov/newsroom/press-release.25878.html'"
      ]
     },
     "execution_count": 81,
     "metadata": {},
     "output_type": "execute_result"
    },
    {
     "data": {
      "text/plain": [
       "'success: content added from https://gov.illinois.gov/newsroom/press-release.25871.html'"
      ]
     },
     "execution_count": 81,
     "metadata": {},
     "output_type": "execute_result"
    },
    {
     "data": {
      "text/plain": [
       "'success: content added from https://gov.illinois.gov/newsroom/press-release.25872.html'"
      ]
     },
     "execution_count": 81,
     "metadata": {},
     "output_type": "execute_result"
    },
    {
     "data": {
      "text/plain": [
       "'success: content added from https://gov.illinois.gov/newsroom/press-release.25873.html'"
      ]
     },
     "execution_count": 81,
     "metadata": {},
     "output_type": "execute_result"
    },
    {
     "data": {
      "text/plain": [
       "'success: content added from https://gov.illinois.gov/newsroom/press-release.25874.html'"
      ]
     },
     "execution_count": 81,
     "metadata": {},
     "output_type": "execute_result"
    },
    {
     "data": {
      "text/plain": [
       "'success: content added from https://gov.illinois.gov/newsroom/press-release.25875.html'"
      ]
     },
     "execution_count": 81,
     "metadata": {},
     "output_type": "execute_result"
    },
    {
     "data": {
      "text/plain": [
       "'success: content added from https://gov.illinois.gov/newsroom/press-release.25870.html'"
      ]
     },
     "execution_count": 81,
     "metadata": {},
     "output_type": "execute_result"
    },
    {
     "data": {
      "text/plain": [
       "'success: content added from https://gov.illinois.gov/newsroom/press-release.25864.html'"
      ]
     },
     "execution_count": 81,
     "metadata": {},
     "output_type": "execute_result"
    },
    {
     "data": {
      "text/plain": [
       "'success: content added from https://gov.illinois.gov/newsroom/press-release.25865.html'"
      ]
     },
     "execution_count": 81,
     "metadata": {},
     "output_type": "execute_result"
    }
   ],
   "source": [
    "# do for all\n",
    "for i in combined.link:\n",
    "     get_illinois_content(i, combined, header_list)"
   ]
  },
  {
   "cell_type": "markdown",
   "id": "c2d58e60",
   "metadata": {},
   "source": [
    "## Validate and Clean"
   ]
  },
  {
   "cell_type": "code",
   "execution_count": 84,
   "id": "06bca64d",
   "metadata": {},
   "outputs": [],
   "source": [
    "#check that content was pulled accurately\n",
    "missing = combined[combined.content.isna()]"
   ]
  },
  {
   "cell_type": "code",
   "execution_count": 85,
   "id": "bd314c7a",
   "metadata": {},
   "outputs": [
    {
     "data": {
      "text/plain": [
       "'success: content added from https://gov.illinois.gov/newsroom/press-release.29441.html'"
      ]
     },
     "execution_count": 85,
     "metadata": {},
     "output_type": "execute_result"
    },
    {
     "data": {
      "text/plain": [
       "'success: content added from https://gov.illinois.gov/newsroom/press-release.29427.html'"
      ]
     },
     "execution_count": 85,
     "metadata": {},
     "output_type": "execute_result"
    },
    {
     "data": {
      "text/plain": [
       "'success: content added from https://gov.illinois.gov/newsroom/press-release.29428.html'"
      ]
     },
     "execution_count": 85,
     "metadata": {},
     "output_type": "execute_result"
    },
    {
     "data": {
      "text/plain": [
       "'success: content added from https://gov.illinois.gov/newsroom/press-release.29424.html'"
      ]
     },
     "execution_count": 85,
     "metadata": {},
     "output_type": "execute_result"
    },
    {
     "data": {
      "text/plain": [
       "'success: content added from https://gov.illinois.gov/newsroom/press-release.29419.html'"
      ]
     },
     "execution_count": 85,
     "metadata": {},
     "output_type": "execute_result"
    },
    {
     "data": {
      "text/plain": [
       "'success: content added from https://gov.illinois.gov/newsroom/press-release.29418.html'"
      ]
     },
     "execution_count": 85,
     "metadata": {},
     "output_type": "execute_result"
    },
    {
     "data": {
      "text/plain": [
       "'success: content added from https://gov.illinois.gov/newsroom/press-release.29414.html'"
      ]
     },
     "execution_count": 85,
     "metadata": {},
     "output_type": "execute_result"
    },
    {
     "data": {
      "text/plain": [
       "'success: content added from https://gov.illinois.gov/newsroom/press-release.29402.html'"
      ]
     },
     "execution_count": 85,
     "metadata": {},
     "output_type": "execute_result"
    },
    {
     "data": {
      "text/plain": [
       "'success: content added from https://gov.illinois.gov/newsroom/press-release.28380.html'"
      ]
     },
     "execution_count": 85,
     "metadata": {},
     "output_type": "execute_result"
    },
    {
     "data": {
      "text/plain": [
       "'success: content added from https://gov.illinois.gov/newsroom/press-release.28381.html'"
      ]
     },
     "execution_count": 85,
     "metadata": {},
     "output_type": "execute_result"
    },
    {
     "data": {
      "text/plain": [
       "'success: content added from https://gov.illinois.gov/newsroom/press-release.28377.html'"
      ]
     },
     "execution_count": 85,
     "metadata": {},
     "output_type": "execute_result"
    },
    {
     "data": {
      "text/plain": [
       "'success: content added from https://gov.illinois.gov/newsroom/press-release.28370.html'"
      ]
     },
     "execution_count": 85,
     "metadata": {},
     "output_type": "execute_result"
    },
    {
     "data": {
      "text/plain": [
       "'success: content added from https://gov.illinois.gov/newsroom/press-release.28358.html'"
      ]
     },
     "execution_count": 85,
     "metadata": {},
     "output_type": "execute_result"
    },
    {
     "data": {
      "text/plain": [
       "'success: content added from https://gov.illinois.gov/newsroom/press-release.28354.html'"
      ]
     },
     "execution_count": 85,
     "metadata": {},
     "output_type": "execute_result"
    },
    {
     "data": {
      "text/plain": [
       "'success: content added from https://gov.illinois.gov/newsroom/press-release.28342.html'"
      ]
     },
     "execution_count": 85,
     "metadata": {},
     "output_type": "execute_result"
    },
    {
     "data": {
      "text/plain": [
       "'success: content added from https://gov.illinois.gov/newsroom/press-release.27307.html'"
      ]
     },
     "execution_count": 85,
     "metadata": {},
     "output_type": "execute_result"
    },
    {
     "data": {
      "text/plain": [
       "'success: content added from https://gov.illinois.gov/newsroom/press-release.27246.html'"
      ]
     },
     "execution_count": 85,
     "metadata": {},
     "output_type": "execute_result"
    },
    {
     "data": {
      "text/plain": [
       "'success: content added from https://gov.illinois.gov/newsroom/press-release.27248.html'"
      ]
     },
     "execution_count": 85,
     "metadata": {},
     "output_type": "execute_result"
    },
    {
     "data": {
      "text/plain": [
       "'success: content added from https://gov.illinois.gov/newsroom/press-release.26715.html'"
      ]
     },
     "execution_count": 85,
     "metadata": {},
     "output_type": "execute_result"
    },
    {
     "data": {
      "text/plain": [
       "'success: content added from https://gov.illinois.gov/newsroom/press-release.26562.html'"
      ]
     },
     "execution_count": 85,
     "metadata": {},
     "output_type": "execute_result"
    },
    {
     "data": {
      "text/plain": [
       "'success: content added from https://gov.illinois.gov/newsroom/press-release.26137.html'"
      ]
     },
     "execution_count": 85,
     "metadata": {},
     "output_type": "execute_result"
    }
   ],
   "source": [
    "# retry missing content\n",
    "for i in missing.link:\n",
    "    get_illinois_content(i, combined, header_list)"
   ]
  },
  {
   "cell_type": "code",
   "execution_count": 91,
   "id": "78fa7124",
   "metadata": {},
   "outputs": [
    {
     "data": {
      "text/html": [
       "<div>\n",
       "<style scoped>\n",
       "    .dataframe tbody tr th:only-of-type {\n",
       "        vertical-align: middle;\n",
       "    }\n",
       "\n",
       "    .dataframe tbody tr th {\n",
       "        vertical-align: top;\n",
       "    }\n",
       "\n",
       "    .dataframe thead th {\n",
       "        text-align: right;\n",
       "    }\n",
       "</style>\n",
       "<table border=\"1\" class=\"dataframe\">\n",
       "  <thead>\n",
       "    <tr style=\"text-align: right;\">\n",
       "      <th></th>\n",
       "      <th>title</th>\n",
       "      <th>link</th>\n",
       "      <th>date_clean</th>\n",
       "      <th>content</th>\n",
       "    </tr>\n",
       "  </thead>\n",
       "  <tbody>\n",
       "    <tr>\n",
       "      <th>101</th>\n",
       "      <td>IDPH Marks U.S. Antibiotic Awareness Week, Nov...</td>\n",
       "      <td>https://gov.illinois.gov/newsroom/press-releas...</td>\n",
       "      <td>2023-11-16</td>\n",
       "      <td>NaN</td>\n",
       "    </tr>\n",
       "  </tbody>\n",
       "</table>\n",
       "</div>"
      ],
      "text/plain": [
       "                                                 title  \\\n",
       "101  IDPH Marks U.S. Antibiotic Awareness Week, Nov...   \n",
       "\n",
       "                                                  link date_clean content  \n",
       "101  https://gov.illinois.gov/newsroom/press-releas... 2023-11-16     NaN  "
      ]
     },
     "execution_count": 91,
     "metadata": {},
     "output_type": "execute_result"
    }
   ],
   "source": [
    "#check that content was pulled accurately\n",
    "combined[combined.content.isna()]"
   ]
  },
  {
   "cell_type": "code",
   "execution_count": 95,
   "id": "4214cc8f",
   "metadata": {},
   "outputs": [
    {
     "data": {
      "text/plain": [
       "'https://gov.illinois.gov/newsroom/press-release.27306.html'"
      ]
     },
     "execution_count": 95,
     "metadata": {},
     "output_type": "execute_result"
    },
    {
     "data": {
      "text/plain": [
       "533"
      ]
     },
     "execution_count": 95,
     "metadata": {},
     "output_type": "execute_result"
    },
    {
     "data": {
      "text/plain": [
       "532"
      ]
     },
     "execution_count": 95,
     "metadata": {},
     "output_type": "execute_result"
    }
   ],
   "source": [
    "# issue with link 101\n",
    "# get_illinois_content(combined.link[101], combined, header_list)\n",
    "combined.link[101]\n",
    "# manual review of link is it doesn't work so let's drop\n",
    "\n",
    "combined_2023 = combined.drop([101])\n",
    "\n",
    "combined.shape[0]\n",
    "combined_2023.shape[0]"
   ]
  },
  {
   "cell_type": "code",
   "execution_count": 97,
   "id": "dcea6850",
   "metadata": {},
   "outputs": [
    {
     "data": {
      "text/html": [
       "<div>\n",
       "<style scoped>\n",
       "    .dataframe tbody tr th:only-of-type {\n",
       "        vertical-align: middle;\n",
       "    }\n",
       "\n",
       "    .dataframe tbody tr th {\n",
       "        vertical-align: top;\n",
       "    }\n",
       "\n",
       "    .dataframe thead th {\n",
       "        text-align: right;\n",
       "    }\n",
       "</style>\n",
       "<table border=\"1\" class=\"dataframe\">\n",
       "  <thead>\n",
       "    <tr style=\"text-align: right;\">\n",
       "      <th></th>\n",
       "      <th>title</th>\n",
       "      <th>link</th>\n",
       "      <th>date_clean</th>\n",
       "      <th>content</th>\n",
       "    </tr>\n",
       "  </thead>\n",
       "  <tbody>\n",
       "    <tr>\n",
       "      <th>55</th>\n",
       "      <td>Gov. Pritzker Celebrates 2023 Executive and Le...</td>\n",
       "      <td>https://gov.illinois.gov/newsroom/press-releas...</td>\n",
       "      <td>2023-12-29</td>\n",
       "      <td>Accomplishments include historic investments i...</td>\n",
       "    </tr>\n",
       "    <tr>\n",
       "      <th>56</th>\n",
       "      <td>Paid Leave for All Workers Act Takes Effect Ja...</td>\n",
       "      <td>https://gov.illinois.gov/newsroom/press-releas...</td>\n",
       "      <td>2023-12-27</td>\n",
       "      <td>Workers will begin earning up to 40 hours of p...</td>\n",
       "    </tr>\n",
       "    <tr>\n",
       "      <th>57</th>\n",
       "      <td>State Deploys Additional Resources to Support ...</td>\n",
       "      <td>https://gov.illinois.gov/newsroom/press-releas...</td>\n",
       "      <td>2023-12-24</td>\n",
       "      <td>At request of City of Chicago, State temporari...</td>\n",
       "    </tr>\n",
       "    <tr>\n",
       "      <th>58</th>\n",
       "      <td>New Laws Taking Effect January 1st Expand Leav...</td>\n",
       "      <td>https://gov.illinois.gov/newsroom/press-releas...</td>\n",
       "      <td>2023-12-21</td>\n",
       "      <td>Families impacted by violence afforded job sec...</td>\n",
       "    </tr>\n",
       "    <tr>\n",
       "      <th>59</th>\n",
       "      <td>Governor Pritzker Announces Federal Recompete ...</td>\n",
       "      <td>https://gov.illinois.gov/newsroom/press-releas...</td>\n",
       "      <td>2023-12-20</td>\n",
       "      <td>Two U.S. Department of Commerce's Economic Dev...</td>\n",
       "    </tr>\n",
       "  </tbody>\n",
       "</table>\n",
       "</div>"
      ],
      "text/plain": [
       "                                                title  \\\n",
       "55  Gov. Pritzker Celebrates 2023 Executive and Le...   \n",
       "56  Paid Leave for All Workers Act Takes Effect Ja...   \n",
       "57  State Deploys Additional Resources to Support ...   \n",
       "58  New Laws Taking Effect January 1st Expand Leav...   \n",
       "59  Governor Pritzker Announces Federal Recompete ...   \n",
       "\n",
       "                                                 link date_clean  \\\n",
       "55  https://gov.illinois.gov/newsroom/press-releas... 2023-12-29   \n",
       "56  https://gov.illinois.gov/newsroom/press-releas... 2023-12-27   \n",
       "57  https://gov.illinois.gov/newsroom/press-releas... 2023-12-24   \n",
       "58  https://gov.illinois.gov/newsroom/press-releas... 2023-12-21   \n",
       "59  https://gov.illinois.gov/newsroom/press-releas... 2023-12-20   \n",
       "\n",
       "                                              content  \n",
       "55  Accomplishments include historic investments i...  \n",
       "56  Workers will begin earning up to 40 hours of p...  \n",
       "57  At request of City of Chicago, State temporari...  \n",
       "58  Families impacted by violence afforded job sec...  \n",
       "59  Two U.S. Department of Commerce's Economic Dev...  "
      ]
     },
     "execution_count": 97,
     "metadata": {},
     "output_type": "execute_result"
    },
    {
     "data": {
      "text/html": [
       "<div>\n",
       "<style scoped>\n",
       "    .dataframe tbody tr th:only-of-type {\n",
       "        vertical-align: middle;\n",
       "    }\n",
       "\n",
       "    .dataframe tbody tr th {\n",
       "        vertical-align: top;\n",
       "    }\n",
       "\n",
       "    .dataframe thead th {\n",
       "        text-align: right;\n",
       "    }\n",
       "</style>\n",
       "<table border=\"1\" class=\"dataframe\">\n",
       "  <thead>\n",
       "    <tr style=\"text-align: right;\">\n",
       "      <th></th>\n",
       "      <th>title</th>\n",
       "      <th>link</th>\n",
       "      <th>date_clean</th>\n",
       "      <th>content</th>\n",
       "    </tr>\n",
       "  </thead>\n",
       "  <tbody>\n",
       "    <tr>\n",
       "      <th>583</th>\n",
       "      <td>Honoring Illinois' Fallen</td>\n",
       "      <td>https://gov.illinois.gov/newsroom/press-releas...</td>\n",
       "      <td>2023-01-06</td>\n",
       "      <td>The Department of Central Management Services ...</td>\n",
       "    </tr>\n",
       "    <tr>\n",
       "      <th>584</th>\n",
       "      <td>Governor Pritzker Announces Second Term Agency...</td>\n",
       "      <td>https://gov.illinois.gov/newsroom/press-releas...</td>\n",
       "      <td>2023-01-06</td>\n",
       "      <td>Springfield—As Governor Pritzker concludes his...</td>\n",
       "    </tr>\n",
       "    <tr>\n",
       "      <th>585</th>\n",
       "      <td>Gov. Pritzker Visits Ball Elementary School to...</td>\n",
       "      <td>https://gov.illinois.gov/newsroom/press-releas...</td>\n",
       "      <td>2023-01-05</td>\n",
       "      <td>SANGAMON COUNTY — Today, Governor JB Pritzker ...</td>\n",
       "    </tr>\n",
       "    <tr>\n",
       "      <th>586</th>\n",
       "      <td>State Receives Donation of Large, Modern Offic...</td>\n",
       "      <td>https://gov.illinois.gov/newsroom/press-releas...</td>\n",
       "      <td>2023-01-04</td>\n",
       "      <td>MARION, IL - Governor JB Pritzker and the Illi...</td>\n",
       "    </tr>\n",
       "    <tr>\n",
       "      <th>587</th>\n",
       "      <td>Gov. Pritzker Highlights Investments in Early ...</td>\n",
       "      <td>https://gov.illinois.gov/newsroom/press-releas...</td>\n",
       "      <td>2023-01-04</td>\n",
       "      <td>CHICAGO — Today, Governor JB Pritzker visited ...</td>\n",
       "    </tr>\n",
       "  </tbody>\n",
       "</table>\n",
       "</div>"
      ],
      "text/plain": [
       "                                                 title  \\\n",
       "583                          Honoring Illinois' Fallen   \n",
       "584  Governor Pritzker Announces Second Term Agency...   \n",
       "585  Gov. Pritzker Visits Ball Elementary School to...   \n",
       "586  State Receives Donation of Large, Modern Offic...   \n",
       "587  Gov. Pritzker Highlights Investments in Early ...   \n",
       "\n",
       "                                                  link date_clean  \\\n",
       "583  https://gov.illinois.gov/newsroom/press-releas... 2023-01-06   \n",
       "584  https://gov.illinois.gov/newsroom/press-releas... 2023-01-06   \n",
       "585  https://gov.illinois.gov/newsroom/press-releas... 2023-01-05   \n",
       "586  https://gov.illinois.gov/newsroom/press-releas... 2023-01-04   \n",
       "587  https://gov.illinois.gov/newsroom/press-releas... 2023-01-04   \n",
       "\n",
       "                                               content  \n",
       "583  The Department of Central Management Services ...  \n",
       "584  Springfield—As Governor Pritzker concludes his...  \n",
       "585  SANGAMON COUNTY — Today, Governor JB Pritzker ...  \n",
       "586  MARION, IL - Governor JB Pritzker and the Illi...  \n",
       "587  CHICAGO — Today, Governor JB Pritzker visited ...  "
      ]
     },
     "execution_count": 97,
     "metadata": {},
     "output_type": "execute_result"
    }
   ],
   "source": [
    "combined_2023.head()\n",
    "combined_2023.tail()"
   ]
  },
  {
   "cell_type": "code",
   "execution_count": 98,
   "id": "e894624d",
   "metadata": {},
   "outputs": [
    {
     "name": "stdout",
     "output_type": "stream",
     "text": [
      "pulled 532 documents from illinois for 2023\n"
     ]
    }
   ],
   "source": [
    "print(f\"pulled {str(len(combined_2023))} documents from {state} for 2023\")"
   ]
  },
  {
   "cell_type": "markdown",
   "id": "894fcfa7",
   "metadata": {},
   "source": [
    "## Export "
   ]
  },
  {
   "cell_type": "code",
   "execution_count": 99,
   "id": "d675fc44",
   "metadata": {},
   "outputs": [],
   "source": [
    "# export\n",
    "combined_2023.to_csv(f'{state}_2023.csv', index = False)"
   ]
  },
  {
   "cell_type": "code",
   "execution_count": 100,
   "id": "621c6b9b",
   "metadata": {},
   "outputs": [
    {
     "data": {
      "text/html": [
       "<div>\n",
       "<style scoped>\n",
       "    .dataframe tbody tr th:only-of-type {\n",
       "        vertical-align: middle;\n",
       "    }\n",
       "\n",
       "    .dataframe tbody tr th {\n",
       "        vertical-align: top;\n",
       "    }\n",
       "\n",
       "    .dataframe thead th {\n",
       "        text-align: right;\n",
       "    }\n",
       "</style>\n",
       "<table border=\"1\" class=\"dataframe\">\n",
       "  <thead>\n",
       "    <tr style=\"text-align: right;\">\n",
       "      <th></th>\n",
       "      <th>title</th>\n",
       "      <th>link</th>\n",
       "      <th>date_clean</th>\n",
       "      <th>content</th>\n",
       "    </tr>\n",
       "  </thead>\n",
       "  <tbody>\n",
       "    <tr>\n",
       "      <th>0</th>\n",
       "      <td>Gov. Pritzker Celebrates 2023 Executive and Le...</td>\n",
       "      <td>https://gov.illinois.gov/newsroom/press-releas...</td>\n",
       "      <td>2023-12-29</td>\n",
       "      <td>Accomplishments include historic investments i...</td>\n",
       "    </tr>\n",
       "    <tr>\n",
       "      <th>1</th>\n",
       "      <td>Paid Leave for All Workers Act Takes Effect Ja...</td>\n",
       "      <td>https://gov.illinois.gov/newsroom/press-releas...</td>\n",
       "      <td>2023-12-27</td>\n",
       "      <td>Workers will begin earning up to 40 hours of p...</td>\n",
       "    </tr>\n",
       "    <tr>\n",
       "      <th>2</th>\n",
       "      <td>State Deploys Additional Resources to Support ...</td>\n",
       "      <td>https://gov.illinois.gov/newsroom/press-releas...</td>\n",
       "      <td>2023-12-24</td>\n",
       "      <td>At request of City of Chicago, State temporari...</td>\n",
       "    </tr>\n",
       "    <tr>\n",
       "      <th>3</th>\n",
       "      <td>New Laws Taking Effect January 1st Expand Leav...</td>\n",
       "      <td>https://gov.illinois.gov/newsroom/press-releas...</td>\n",
       "      <td>2023-12-21</td>\n",
       "      <td>Families impacted by violence afforded job sec...</td>\n",
       "    </tr>\n",
       "    <tr>\n",
       "      <th>4</th>\n",
       "      <td>Governor Pritzker Announces Federal Recompete ...</td>\n",
       "      <td>https://gov.illinois.gov/newsroom/press-releas...</td>\n",
       "      <td>2023-12-20</td>\n",
       "      <td>Two U.S. Department of Commerce's Economic Dev...</td>\n",
       "    </tr>\n",
       "  </tbody>\n",
       "</table>\n",
       "</div>"
      ],
      "text/plain": [
       "                                               title  \\\n",
       "0  Gov. Pritzker Celebrates 2023 Executive and Le...   \n",
       "1  Paid Leave for All Workers Act Takes Effect Ja...   \n",
       "2  State Deploys Additional Resources to Support ...   \n",
       "3  New Laws Taking Effect January 1st Expand Leav...   \n",
       "4  Governor Pritzker Announces Federal Recompete ...   \n",
       "\n",
       "                                                link  date_clean  \\\n",
       "0  https://gov.illinois.gov/newsroom/press-releas...  2023-12-29   \n",
       "1  https://gov.illinois.gov/newsroom/press-releas...  2023-12-27   \n",
       "2  https://gov.illinois.gov/newsroom/press-releas...  2023-12-24   \n",
       "3  https://gov.illinois.gov/newsroom/press-releas...  2023-12-21   \n",
       "4  https://gov.illinois.gov/newsroom/press-releas...  2023-12-20   \n",
       "\n",
       "                                             content  \n",
       "0  Accomplishments include historic investments i...  \n",
       "1  Workers will begin earning up to 40 hours of p...  \n",
       "2  At request of City of Chicago, State temporari...  \n",
       "3  Families impacted by violence afforded job sec...  \n",
       "4  Two U.S. Department of Commerce's Economic Dev...  "
      ]
     },
     "execution_count": 100,
     "metadata": {},
     "output_type": "execute_result"
    }
   ],
   "source": [
    "test = pd.read_csv(f'{state}_2023.csv')\n",
    "test.head()"
   ]
  }
 ],
 "metadata": {
  "kernelspec": {
   "display_name": "Python 3 (ipykernel)",
   "language": "python",
   "name": "python3"
  },
  "language_info": {
   "codemirror_mode": {
    "name": "ipython",
    "version": 3
   },
   "file_extension": ".py",
   "mimetype": "text/x-python",
   "name": "python",
   "nbconvert_exporter": "python",
   "pygments_lexer": "ipython3",
   "version": "3.9.12"
  }
 },
 "nbformat": 4,
 "nbformat_minor": 5
}
