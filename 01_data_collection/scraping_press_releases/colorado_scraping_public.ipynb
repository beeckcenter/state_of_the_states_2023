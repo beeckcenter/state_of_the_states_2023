{
 "cells": [
  {
   "cell_type": "markdown",
   "id": "f00d02a5",
   "metadata": {},
   "source": [
    "# Colorado Scraping "
   ]
  },
  {
   "cell_type": "code",
   "execution_count": 1,
   "id": "2d2ca3c3",
   "metadata": {},
   "outputs": [
    {
     "name": "stdout",
     "output_type": "stream",
     "text": [
      "Exception reporting mode: Minimal\n"
     ]
    }
   ],
   "source": [
    "# set up \n",
    "import pandas as pd \n",
    "import requests \n",
    "import bs4\n",
    "import numpy as np\n",
    "import time \n",
    "import re\n",
    "from tika import parser\n",
    "from selenium import webdriver\n",
    "from selenium.webdriver.common.by import By\n",
    "from selenium.webdriver.support.ui import WebDriverWait\n",
    "from selenium.webdriver.support import expected_conditions as EC\n",
    "from io import BytesIO\n",
    "from urllib.request import urlopen\n",
    "\n",
    "from IPython.core.interactiveshell import InteractiveShell \n",
    "InteractiveShell.ast_node_interactivity = \"all\"\n",
    "\n",
    "%xmode Minimal"
   ]
  },
  {
   "cell_type": "code",
   "execution_count": 2,
   "id": "4b8c25f3",
   "metadata": {},
   "outputs": [],
   "source": [
    "# # set headers\n",
    "# header_list = {'User-Agent': REDACTED,\n",
    "#               'Accept-Language': 'en-US,en;q=0.9'}"
   ]
  },
  {
   "cell_type": "code",
   "execution_count": 18,
   "id": "59ef33cf",
   "metadata": {},
   "outputs": [],
   "source": [
    "# state - UPDATE EACH TIME\n",
    "state = 'colorado'"
   ]
  },
  {
   "cell_type": "code",
   "execution_count": 4,
   "id": "150c1170",
   "metadata": {},
   "outputs": [],
   "source": [
    "# review of robots.txt - nonexistent"
   ]
  },
  {
   "cell_type": "markdown",
   "id": "a41b45ff",
   "metadata": {},
   "source": [
    "## Scrape Links\n",
    "`Beautiful Soup`"
   ]
  },
  {
   "cell_type": "markdown",
   "id": "9e5b7aef",
   "metadata": {
    "heading_collapsed": true
   },
   "source": [
    "### Test on one link"
   ]
  },
  {
   "cell_type": "code",
   "execution_count": 4,
   "id": "54353e0d",
   "metadata": {
    "hidden": true
   },
   "outputs": [
    {
     "data": {
      "text/plain": [
       "<Response [200]>"
      ]
     },
     "execution_count": 4,
     "metadata": {},
     "output_type": "execute_result"
    }
   ],
   "source": [
    "# access webpage\n",
    "link = 'https://www.colorado.gov/governor/news?page=1'\n",
    "server_response = requests.get(link, header_list)\n",
    "server_response"
   ]
  },
  {
   "cell_type": "code",
   "execution_count": 11,
   "id": "e7afa6bb",
   "metadata": {
    "hidden": true
   },
   "outputs": [
    {
     "data": {
      "text/plain": [
       "['Thursday, February 1, 2024',\n",
       " 'Thursday, February 1, 2024',\n",
       " 'Wednesday, January 31, 2024',\n",
       " 'Wednesday, January 31, 2024',\n",
       " 'Wednesday, January 31, 2024',\n",
       " 'Wednesday, January 31, 2024',\n",
       " 'Monday, January 29, 2024',\n",
       " 'Monday, January 29, 2024',\n",
       " 'Friday, January 26, 2024',\n",
       " 'Friday, January 26, 2024',\n",
       " 'Wednesday, January 24, 2024']"
      ]
     },
     "execution_count": 11,
     "metadata": {},
     "output_type": "execute_result"
    }
   ],
   "source": [
    "# parse and isolate content\n",
    "soup = bs4.BeautifulSoup(server_response.content, features=\"html.parser\")\n",
    "#soup\n",
    "results = soup.find_all('article') \n",
    "# results\n",
    "# title = [i.find('h2', class_ = 'press-release__title').text for i in results]\n",
    "# title_clean = [i.replace(u'\\n', u'') for i in title]\n",
    "# title_clean\n",
    "# date = [i.find('footer', class_ = 'press-release__date').text for i in results]\n",
    "# date"
   ]
  },
  {
   "cell_type": "markdown",
   "id": "7d3f0997",
   "metadata": {
    "heading_collapsed": true
   },
   "source": [
    "### Scrape all links"
   ]
  },
  {
   "cell_type": "code",
   "execution_count": 14,
   "id": "27dccd40",
   "metadata": {
    "hidden": true
   },
   "outputs": [],
   "source": [
    "# define webpage scraping \n",
    "def scrape_colorado_links(website, headers):\n",
    "    server_response = requests.get(website, headers)\n",
    "    soup = bs4.BeautifulSoup(server_response.content, features=\"html.parser\")\n",
    "    results = soup.find_all('article') \n",
    "    results_list = [{'title': i.find('h2', class_ = 'press-release__title').text,\n",
    "                 'date': i.find('footer', class_ = 'press-release__date').text, \n",
    "                'link': i.find('a')['href']} for i in results]\n",
    "    df = pd.DataFrame.from_dict(results_list)\n",
    "    df.title = [i.replace(u'\\n', u'') for i in df.title]\n",
    "    df['content'] = np.nan\n",
    "    return df"
   ]
  },
  {
   "cell_type": "code",
   "execution_count": 13,
   "id": "cecea20e",
   "metadata": {
    "hidden": true
   },
   "outputs": [
    {
     "data": {
      "text/html": [
       "<div>\n",
       "<style scoped>\n",
       "    .dataframe tbody tr th:only-of-type {\n",
       "        vertical-align: middle;\n",
       "    }\n",
       "\n",
       "    .dataframe tbody tr th {\n",
       "        vertical-align: top;\n",
       "    }\n",
       "\n",
       "    .dataframe thead th {\n",
       "        text-align: right;\n",
       "    }\n",
       "</style>\n",
       "<table border=\"1\" class=\"dataframe\">\n",
       "  <thead>\n",
       "    <tr style=\"text-align: right;\">\n",
       "      <th></th>\n",
       "      <th>title</th>\n",
       "      <th>date</th>\n",
       "      <th>link</th>\n",
       "      <th>content</th>\n",
       "    </tr>\n",
       "  </thead>\n",
       "  <tbody>\n",
       "    <tr>\n",
       "      <th>0</th>\n",
       "      <td>Governor Polis and the Colorado Energy Office ...</td>\n",
       "      <td>Thursday, February 1, 2024</td>\n",
       "      <td>/governor/news/11471-governor-polis-and-colora...</td>\n",
       "      <td>NaN</td>\n",
       "    </tr>\n",
       "    <tr>\n",
       "      <th>1</th>\n",
       "      <td>Governor Polis and the Colorado Energy Office ...</td>\n",
       "      <td>Thursday, February 1, 2024</td>\n",
       "      <td>/governor/news/11471-governor-polis-and-colora...</td>\n",
       "      <td>NaN</td>\n",
       "    </tr>\n",
       "    <tr>\n",
       "      <th>2</th>\n",
       "      <td>Governor Polis Appoints James H. Hesson to the...</td>\n",
       "      <td>Wednesday, January 31, 2024</td>\n",
       "      <td>/governor/news/11466-governor-polis-appoints-j...</td>\n",
       "      <td>NaN</td>\n",
       "    </tr>\n",
       "    <tr>\n",
       "      <th>3</th>\n",
       "      <td>Governor Polis Signs First Law of the 2024 Leg...</td>\n",
       "      <td>Wednesday, January 31, 2024</td>\n",
       "      <td>/governor/news/11456-governor-polis-signs-firs...</td>\n",
       "      <td>NaN</td>\n",
       "    </tr>\n",
       "    <tr>\n",
       "      <th>4</th>\n",
       "      <td>Colorado and Alberta Announce Energy and Clima...</td>\n",
       "      <td>Wednesday, January 31, 2024</td>\n",
       "      <td>/governor/news/11461-colorado-and-alberta-anno...</td>\n",
       "      <td>NaN</td>\n",
       "    </tr>\n",
       "    <tr>\n",
       "      <th>5</th>\n",
       "      <td>Laying Groundwork for More Housing That is Aff...</td>\n",
       "      <td>Wednesday, January 31, 2024</td>\n",
       "      <td>/governor/news/11451-laying-groundwork-more-ho...</td>\n",
       "      <td>NaN</td>\n",
       "    </tr>\n",
       "    <tr>\n",
       "      <th>6</th>\n",
       "      <td>Governor Polis Delivers Regional State of the ...</td>\n",
       "      <td>Monday, January 29, 2024</td>\n",
       "      <td>/governor/news/11446-governor-polis-delivers-r...</td>\n",
       "      <td>NaN</td>\n",
       "    </tr>\n",
       "    <tr>\n",
       "      <th>7</th>\n",
       "      <td>Colorado and Wyoming Awarded Inaugural NSF Eng...</td>\n",
       "      <td>Monday, January 29, 2024</td>\n",
       "      <td>/governor/news/11441-colorado-and-wyoming-awar...</td>\n",
       "      <td>NaN</td>\n",
       "    </tr>\n",
       "    <tr>\n",
       "      <th>8</th>\n",
       "      <td>Polis Administration Announces New Curated Exh...</td>\n",
       "      <td>Friday, January 26, 2024</td>\n",
       "      <td>/governor/news/11431-polis-administration-anno...</td>\n",
       "      <td>NaN</td>\n",
       "    </tr>\n",
       "    <tr>\n",
       "      <th>9</th>\n",
       "      <td>Governor Polis Delivers Regional State of the ...</td>\n",
       "      <td>Friday, January 26, 2024</td>\n",
       "      <td>/governor/news/11426-governor-polis-delivers-r...</td>\n",
       "      <td>NaN</td>\n",
       "    </tr>\n",
       "    <tr>\n",
       "      <th>10</th>\n",
       "      <td>Celebrating Colorado’s 150th Birthday: Governo...</td>\n",
       "      <td>Wednesday, January 24, 2024</td>\n",
       "      <td>/governor/news/11421-celebrating-colorados-150...</td>\n",
       "      <td>NaN</td>\n",
       "    </tr>\n",
       "  </tbody>\n",
       "</table>\n",
       "</div>"
      ],
      "text/plain": [
       "                                                title  \\\n",
       "0   Governor Polis and the Colorado Energy Office ...   \n",
       "1   Governor Polis and the Colorado Energy Office ...   \n",
       "2   Governor Polis Appoints James H. Hesson to the...   \n",
       "3   Governor Polis Signs First Law of the 2024 Leg...   \n",
       "4   Colorado and Alberta Announce Energy and Clima...   \n",
       "5   Laying Groundwork for More Housing That is Aff...   \n",
       "6   Governor Polis Delivers Regional State of the ...   \n",
       "7   Colorado and Wyoming Awarded Inaugural NSF Eng...   \n",
       "8   Polis Administration Announces New Curated Exh...   \n",
       "9   Governor Polis Delivers Regional State of the ...   \n",
       "10  Celebrating Colorado’s 150th Birthday: Governo...   \n",
       "\n",
       "                           date  \\\n",
       "0    Thursday, February 1, 2024   \n",
       "1    Thursday, February 1, 2024   \n",
       "2   Wednesday, January 31, 2024   \n",
       "3   Wednesday, January 31, 2024   \n",
       "4   Wednesday, January 31, 2024   \n",
       "5   Wednesday, January 31, 2024   \n",
       "6      Monday, January 29, 2024   \n",
       "7      Monday, January 29, 2024   \n",
       "8      Friday, January 26, 2024   \n",
       "9      Friday, January 26, 2024   \n",
       "10  Wednesday, January 24, 2024   \n",
       "\n",
       "                                                 link  content  \n",
       "0   /governor/news/11471-governor-polis-and-colora...      NaN  \n",
       "1   /governor/news/11471-governor-polis-and-colora...      NaN  \n",
       "2   /governor/news/11466-governor-polis-appoints-j...      NaN  \n",
       "3   /governor/news/11456-governor-polis-signs-firs...      NaN  \n",
       "4   /governor/news/11461-colorado-and-alberta-anno...      NaN  \n",
       "5   /governor/news/11451-laying-groundwork-more-ho...      NaN  \n",
       "6   /governor/news/11446-governor-polis-delivers-r...      NaN  \n",
       "7   /governor/news/11441-colorado-and-wyoming-awar...      NaN  \n",
       "8   /governor/news/11431-polis-administration-anno...      NaN  \n",
       "9   /governor/news/11426-governor-polis-delivers-r...      NaN  \n",
       "10  /governor/news/11421-celebrating-colorados-150...      NaN  "
      ]
     },
     "execution_count": 13,
     "metadata": {},
     "output_type": "execute_result"
    }
   ],
   "source": [
    "scrape_colorado_links('https://www.colorado.gov/governor/news?page=1', header_list)"
   ]
  },
  {
   "cell_type": "code",
   "execution_count": 16,
   "id": "a7749d45",
   "metadata": {
    "hidden": true
   },
   "outputs": [],
   "source": [
    "# try to scrape the first set of pages\n",
    "# manual review for 2023 - I want pages 1-42, give or take a few links on first and last pages\n",
    "df_list=[]\n",
    "\n",
    "for i in range(1,43):\n",
    "    try: \n",
    "        df = scrape_colorado_links(f'https://www.colorado.gov/governor/news?page={i}', \n",
    "                                  header_list)\n",
    "        df['page_scraped'] = i \n",
    "        df_list.append(df)\n",
    "    except Exception as e:\n",
    "        print(f'Error: {e} at page {i}')"
   ]
  },
  {
   "cell_type": "code",
   "execution_count": 19,
   "id": "2d48afe6",
   "metadata": {
    "hidden": true
   },
   "outputs": [
    {
     "name": "stdout",
     "output_type": "stream",
     "text": [
      "<class 'pandas.core.frame.DataFrame'>\n",
      "RangeIndex: 462 entries, 0 to 461\n",
      "Data columns (total 5 columns):\n",
      " #   Column        Non-Null Count  Dtype  \n",
      "---  ------        --------------  -----  \n",
      " 0   title         462 non-null    object \n",
      " 1   date          462 non-null    object \n",
      " 2   link          462 non-null    object \n",
      " 3   content       0 non-null      float64\n",
      " 4   page_scraped  462 non-null    int64  \n",
      "dtypes: float64(1), int64(1), object(3)\n",
      "memory usage: 18.2+ KB\n"
     ]
    }
   ],
   "source": [
    "# combine into one df\n",
    "combined = pd.concat(df_list, ignore_index=True)\n",
    "combined.info()"
   ]
  },
  {
   "cell_type": "code",
   "execution_count": 24,
   "id": "986fb6fb",
   "metadata": {
    "hidden": true
   },
   "outputs": [
    {
     "data": {
      "text/html": [
       "<div>\n",
       "<style scoped>\n",
       "    .dataframe tbody tr th:only-of-type {\n",
       "        vertical-align: middle;\n",
       "    }\n",
       "\n",
       "    .dataframe tbody tr th {\n",
       "        vertical-align: top;\n",
       "    }\n",
       "\n",
       "    .dataframe thead th {\n",
       "        text-align: right;\n",
       "    }\n",
       "</style>\n",
       "<table border=\"1\" class=\"dataframe\">\n",
       "  <thead>\n",
       "    <tr style=\"text-align: right;\">\n",
       "      <th></th>\n",
       "      <th>title</th>\n",
       "      <th>date</th>\n",
       "      <th>link</th>\n",
       "      <th>content</th>\n",
       "      <th>page_scraped</th>\n",
       "    </tr>\n",
       "  </thead>\n",
       "  <tbody>\n",
       "    <tr>\n",
       "      <th>0</th>\n",
       "      <td>Governor Polis and the Colorado Energy Office ...</td>\n",
       "      <td>Thursday, February 1, 2024</td>\n",
       "      <td>/governor/news/11471-governor-polis-and-colora...</td>\n",
       "      <td>NaN</td>\n",
       "      <td>1</td>\n",
       "    </tr>\n",
       "    <tr>\n",
       "      <th>1</th>\n",
       "      <td>Governor Polis and the Colorado Energy Office ...</td>\n",
       "      <td>Thursday, February 1, 2024</td>\n",
       "      <td>/governor/news/11471-governor-polis-and-colora...</td>\n",
       "      <td>NaN</td>\n",
       "      <td>1</td>\n",
       "    </tr>\n",
       "    <tr>\n",
       "      <th>2</th>\n",
       "      <td>Governor Polis Appoints James H. Hesson to the...</td>\n",
       "      <td>Wednesday, January 31, 2024</td>\n",
       "      <td>/governor/news/11466-governor-polis-appoints-j...</td>\n",
       "      <td>NaN</td>\n",
       "      <td>1</td>\n",
       "    </tr>\n",
       "    <tr>\n",
       "      <th>3</th>\n",
       "      <td>Governor Polis Signs First Law of the 2024 Leg...</td>\n",
       "      <td>Wednesday, January 31, 2024</td>\n",
       "      <td>/governor/news/11456-governor-polis-signs-firs...</td>\n",
       "      <td>NaN</td>\n",
       "      <td>1</td>\n",
       "    </tr>\n",
       "    <tr>\n",
       "      <th>4</th>\n",
       "      <td>Colorado and Alberta Announce Energy and Clima...</td>\n",
       "      <td>Wednesday, January 31, 2024</td>\n",
       "      <td>/governor/news/11461-colorado-and-alberta-anno...</td>\n",
       "      <td>NaN</td>\n",
       "      <td>1</td>\n",
       "    </tr>\n",
       "  </tbody>\n",
       "</table>\n",
       "</div>"
      ],
      "text/plain": [
       "                                               title  \\\n",
       "0  Governor Polis and the Colorado Energy Office ...   \n",
       "1  Governor Polis and the Colorado Energy Office ...   \n",
       "2  Governor Polis Appoints James H. Hesson to the...   \n",
       "3  Governor Polis Signs First Law of the 2024 Leg...   \n",
       "4  Colorado and Alberta Announce Energy and Clima...   \n",
       "\n",
       "                          date  \\\n",
       "0   Thursday, February 1, 2024   \n",
       "1   Thursday, February 1, 2024   \n",
       "2  Wednesday, January 31, 2024   \n",
       "3  Wednesday, January 31, 2024   \n",
       "4  Wednesday, January 31, 2024   \n",
       "\n",
       "                                                link  content  page_scraped  \n",
       "0  /governor/news/11471-governor-polis-and-colora...      NaN             1  \n",
       "1  /governor/news/11471-governor-polis-and-colora...      NaN             1  \n",
       "2  /governor/news/11466-governor-polis-appoints-j...      NaN             1  \n",
       "3  /governor/news/11456-governor-polis-signs-firs...      NaN             1  \n",
       "4  /governor/news/11461-colorado-and-alberta-anno...      NaN             1  "
      ]
     },
     "execution_count": 24,
     "metadata": {},
     "output_type": "execute_result"
    }
   ],
   "source": [
    "combined.head()"
   ]
  },
  {
   "cell_type": "code",
   "execution_count": 25,
   "id": "50d8b0a4",
   "metadata": {
    "hidden": true
   },
   "outputs": [],
   "source": [
    "# seems to be missing the url prefix so let's add this to the links \n",
    "combined.link = ['https://www.colorado.gov' + i for i in combined.link]\n",
    "combined.head()"
   ]
  },
  {
   "cell_type": "code",
   "execution_count": 27,
   "id": "25884a3f",
   "metadata": {
    "hidden": true
   },
   "outputs": [],
   "source": [
    "combined.to_csv(f'{state}_links.csv', index = False)"
   ]
  },
  {
   "cell_type": "code",
   "execution_count": 28,
   "id": "39315b53",
   "metadata": {
    "hidden": true
   },
   "outputs": [
    {
     "data": {
      "text/html": [
       "<div>\n",
       "<style scoped>\n",
       "    .dataframe tbody tr th:only-of-type {\n",
       "        vertical-align: middle;\n",
       "    }\n",
       "\n",
       "    .dataframe tbody tr th {\n",
       "        vertical-align: top;\n",
       "    }\n",
       "\n",
       "    .dataframe thead th {\n",
       "        text-align: right;\n",
       "    }\n",
       "</style>\n",
       "<table border=\"1\" class=\"dataframe\">\n",
       "  <thead>\n",
       "    <tr style=\"text-align: right;\">\n",
       "      <th></th>\n",
       "      <th>title</th>\n",
       "      <th>date</th>\n",
       "      <th>link</th>\n",
       "      <th>content</th>\n",
       "      <th>page_scraped</th>\n",
       "    </tr>\n",
       "  </thead>\n",
       "  <tbody>\n",
       "    <tr>\n",
       "      <th>0</th>\n",
       "      <td>Governor Polis and the Colorado Energy Office ...</td>\n",
       "      <td>Thursday, February 1, 2024</td>\n",
       "      <td>https://www.colorado.gov/governor/news/11471-g...</td>\n",
       "      <td>NaN</td>\n",
       "      <td>1</td>\n",
       "    </tr>\n",
       "    <tr>\n",
       "      <th>1</th>\n",
       "      <td>Governor Polis and the Colorado Energy Office ...</td>\n",
       "      <td>Thursday, February 1, 2024</td>\n",
       "      <td>https://www.colorado.gov/governor/news/11471-g...</td>\n",
       "      <td>NaN</td>\n",
       "      <td>1</td>\n",
       "    </tr>\n",
       "    <tr>\n",
       "      <th>2</th>\n",
       "      <td>Governor Polis Appoints James H. Hesson to the...</td>\n",
       "      <td>Wednesday, January 31, 2024</td>\n",
       "      <td>https://www.colorado.gov/governor/news/11466-g...</td>\n",
       "      <td>NaN</td>\n",
       "      <td>1</td>\n",
       "    </tr>\n",
       "    <tr>\n",
       "      <th>3</th>\n",
       "      <td>Governor Polis Signs First Law of the 2024 Leg...</td>\n",
       "      <td>Wednesday, January 31, 2024</td>\n",
       "      <td>https://www.colorado.gov/governor/news/11456-g...</td>\n",
       "      <td>NaN</td>\n",
       "      <td>1</td>\n",
       "    </tr>\n",
       "    <tr>\n",
       "      <th>4</th>\n",
       "      <td>Colorado and Alberta Announce Energy and Clima...</td>\n",
       "      <td>Wednesday, January 31, 2024</td>\n",
       "      <td>https://www.colorado.gov/governor/news/11461-c...</td>\n",
       "      <td>NaN</td>\n",
       "      <td>1</td>\n",
       "    </tr>\n",
       "  </tbody>\n",
       "</table>\n",
       "</div>"
      ],
      "text/plain": [
       "                                               title  \\\n",
       "0  Governor Polis and the Colorado Energy Office ...   \n",
       "1  Governor Polis and the Colorado Energy Office ...   \n",
       "2  Governor Polis Appoints James H. Hesson to the...   \n",
       "3  Governor Polis Signs First Law of the 2024 Leg...   \n",
       "4  Colorado and Alberta Announce Energy and Clima...   \n",
       "\n",
       "                          date  \\\n",
       "0   Thursday, February 1, 2024   \n",
       "1   Thursday, February 1, 2024   \n",
       "2  Wednesday, January 31, 2024   \n",
       "3  Wednesday, January 31, 2024   \n",
       "4  Wednesday, January 31, 2024   \n",
       "\n",
       "                                                link  content  page_scraped  \n",
       "0  https://www.colorado.gov/governor/news/11471-g...      NaN             1  \n",
       "1  https://www.colorado.gov/governor/news/11471-g...      NaN             1  \n",
       "2  https://www.colorado.gov/governor/news/11466-g...      NaN             1  \n",
       "3  https://www.colorado.gov/governor/news/11456-g...      NaN             1  \n",
       "4  https://www.colorado.gov/governor/news/11461-c...      NaN             1  "
      ]
     },
     "execution_count": 28,
     "metadata": {},
     "output_type": "execute_result"
    }
   ],
   "source": [
    "combined = pd.read_csv(f'{state}_links.csv')\n",
    "combined.head()"
   ]
  },
  {
   "cell_type": "markdown",
   "id": "92cf01bb",
   "metadata": {},
   "source": [
    "## Scrape content from links\n",
    "`Beautiful Soup`"
   ]
  },
  {
   "cell_type": "markdown",
   "id": "06166fcd",
   "metadata": {
    "heading_collapsed": true
   },
   "source": [
    "### Test with one link"
   ]
  },
  {
   "cell_type": "code",
   "execution_count": 37,
   "id": "219060c0",
   "metadata": {
    "hidden": true
   },
   "outputs": [],
   "source": [
    "# define link scraping \n",
    "def get_colorado_content(link, df, header_list):\n",
    "    try: \n",
    "        # check if content has already been pulled\n",
    "        result = df.loc[df.link == link, 'content'].notnull().all()\n",
    "        if result:\n",
    "            return f'content already existing for {link}' \n",
    "        else: \n",
    "            try: \n",
    "                df['content']\n",
    "                server_response = requests.get(link, headers = header_list)\n",
    "                soup_link = bs4.BeautifulSoup(server_response.content, features=\"html.parser\")\n",
    "                result = soup_link.find('div', \n",
    "                                        class_ = 'field field--name-body field--type-text-with-summary field--label-hidden field__item').find_all('p')\n",
    "                string_result = [str(i.text) for i in result]\n",
    "                string_result_clean = [i.replace(u'\\xa0', u'') for i in string_result]\n",
    "                string_result_clean = [i.replace(u'\\n', u'') for i in string_result_clean]\n",
    "                result_merged = \" \".join(string_result_clean)\n",
    "                df.loc[df.link == link, 'content'] = result_merged\n",
    "                return f\"success: content added from {link}\"\n",
    "            except: \n",
    "                pass\n",
    "    except Exception as e: \n",
    "        return f\"unable to gather content from {link} due to {e}\"\n",
    "    #return df_updated "
   ]
  },
  {
   "cell_type": "code",
   "execution_count": 30,
   "id": "497843ea",
   "metadata": {
    "hidden": true
   },
   "outputs": [
    {
     "data": {
      "text/plain": [
       "<Response [200]>"
      ]
     },
     "execution_count": 30,
     "metadata": {},
     "output_type": "execute_result"
    }
   ],
   "source": [
    "# access webpage\n",
    "link = 'https://www.colorado.gov/governor/news/9341-state-government-offices-denver-area-will-open-late-today'\n",
    "server_response = requests.get(link, headers = header_list)\n",
    "server_response"
   ]
  },
  {
   "cell_type": "code",
   "execution_count": 36,
   "id": "30642e3a",
   "metadata": {
    "hidden": true
   },
   "outputs": [
    {
     "data": {
      "text/plain": [
       "' DENVER - State of Colorado government offices in the Denver and surrounding suburban counties will open to the public at 10:00 a.m. Thursday, December 29th, due to extreme weather conditions. There will be a 2-hour delay in start times for state employees to arrive at work safely.  State facilities essential to public health and safety will maintain regular operating schedules and “essential personnel” must report to work at their normal scheduled time.  The Colorado Judicial Branch posts its own information regarding closures and delays related to Colorado’s courthouses and probation offices. Visit www.courts.state.co.us for current information related to courts and probation. The Colorado General Assembly posts daily schedules at www.leg.colorado.gov.  ### '"
      ]
     },
     "execution_count": 36,
     "metadata": {},
     "output_type": "execute_result"
    }
   ],
   "source": [
    "# parse and isolate content\n",
    "soup_link = bs4.BeautifulSoup(server_response.content, features=\"html.parser\")\n",
    "result = soup_link.find('div', class_ = 'field field--name-body field--type-text-with-summary field--label-hidden field__item').find_all('p')\n",
    "string_result = [str(i.text) for i in result]\n",
    "string_result_clean = [i.replace(u'\\xa0', u'') for i in string_result]\n",
    "string_result_clean = [i.replace(u'\\n', u'') for i in string_result_clean]\n",
    "result_merged = \" \".join(string_result_clean)\n",
    "result_merged"
   ]
  },
  {
   "cell_type": "markdown",
   "id": "5ef621ff",
   "metadata": {
    "heading_collapsed": true
   },
   "source": [
    "### Scrape content from all links"
   ]
  },
  {
   "cell_type": "code",
   "execution_count": 39,
   "id": "60fbdc9f",
   "metadata": {
    "hidden": true
   },
   "outputs": [
    {
     "data": {
      "text/plain": [
       "'content already existing for https://www.colorado.gov/governor/news/11471-governor-polis-and-colorado-energy-office-celebrate-new-tax-incentives-lower-cost-high'"
      ]
     },
     "execution_count": 39,
     "metadata": {},
     "output_type": "execute_result"
    },
    {
     "data": {
      "text/plain": [
       "'content already existing for https://www.colorado.gov/governor/news/11471-governor-polis-and-colorado-energy-office-celebrate-new-tax-incentives-lower-cost-high'"
      ]
     },
     "execution_count": 39,
     "metadata": {},
     "output_type": "execute_result"
    },
    {
     "data": {
      "text/plain": [
       "'content already existing for https://www.colorado.gov/governor/news/11466-governor-polis-appoints-james-h-hesson-moffat-county-court-14th-judicial-district'"
      ]
     },
     "execution_count": 39,
     "metadata": {},
     "output_type": "execute_result"
    },
    {
     "data": {
      "text/plain": [
       "'content already existing for https://www.colorado.gov/governor/news/11456-governor-polis-signs-first-law-2024-legislative-session-help-save-coloradans-money'"
      ]
     },
     "execution_count": 39,
     "metadata": {},
     "output_type": "execute_result"
    },
    {
     "data": {
      "text/plain": [
       "'content already existing for https://www.colorado.gov/governor/news/11461-colorado-and-alberta-announce-energy-and-climate-partnership'"
      ]
     },
     "execution_count": 39,
     "metadata": {},
     "output_type": "execute_result"
    },
    {
     "data": {
      "text/plain": [
       "'content already existing for https://www.colorado.gov/governor/news/11451-laying-groundwork-more-housing-affordable-polis-administration-announces-first'"
      ]
     },
     "execution_count": 39,
     "metadata": {},
     "output_type": "execute_result"
    },
    {
     "data": {
      "text/html": [
       "<div>\n",
       "<style scoped>\n",
       "    .dataframe tbody tr th:only-of-type {\n",
       "        vertical-align: middle;\n",
       "    }\n",
       "\n",
       "    .dataframe tbody tr th {\n",
       "        vertical-align: top;\n",
       "    }\n",
       "\n",
       "    .dataframe thead th {\n",
       "        text-align: right;\n",
       "    }\n",
       "</style>\n",
       "<table border=\"1\" class=\"dataframe\">\n",
       "  <thead>\n",
       "    <tr style=\"text-align: right;\">\n",
       "      <th></th>\n",
       "      <th>title</th>\n",
       "      <th>date</th>\n",
       "      <th>link</th>\n",
       "      <th>content</th>\n",
       "      <th>page_scraped</th>\n",
       "    </tr>\n",
       "  </thead>\n",
       "  <tbody>\n",
       "    <tr>\n",
       "      <th>0</th>\n",
       "      <td>Governor Polis and the Colorado Energy Office ...</td>\n",
       "      <td>Thursday, February 1, 2024</td>\n",
       "      <td>https://www.colorado.gov/governor/news/11471-g...</td>\n",
       "      <td>DENVER -Today, Governor Polis and the Colorado...</td>\n",
       "      <td>1</td>\n",
       "    </tr>\n",
       "    <tr>\n",
       "      <th>1</th>\n",
       "      <td>Governor Polis and the Colorado Energy Office ...</td>\n",
       "      <td>Thursday, February 1, 2024</td>\n",
       "      <td>https://www.colorado.gov/governor/news/11471-g...</td>\n",
       "      <td>DENVER -Today, Governor Polis and the Colorado...</td>\n",
       "      <td>1</td>\n",
       "    </tr>\n",
       "    <tr>\n",
       "      <th>2</th>\n",
       "      <td>Governor Polis Appoints James H. Hesson to the...</td>\n",
       "      <td>Wednesday, January 31, 2024</td>\n",
       "      <td>https://www.colorado.gov/governor/news/11466-g...</td>\n",
       "      <td>DENVER -Today, Governor Polis appointed James ...</td>\n",
       "      <td>1</td>\n",
       "    </tr>\n",
       "    <tr>\n",
       "      <th>3</th>\n",
       "      <td>Governor Polis Signs First Law of the 2024 Leg...</td>\n",
       "      <td>Wednesday, January 31, 2024</td>\n",
       "      <td>https://www.colorado.gov/governor/news/11456-g...</td>\n",
       "      <td>DENVER -Today, Governor Polis signedHB24-1084 ...</td>\n",
       "      <td>1</td>\n",
       "    </tr>\n",
       "    <tr>\n",
       "      <th>4</th>\n",
       "      <td>Colorado and Alberta Announce Energy and Clima...</td>\n",
       "      <td>Wednesday, January 31, 2024</td>\n",
       "      <td>https://www.colorado.gov/governor/news/11461-c...</td>\n",
       "      <td>DENVER- Today, Colorado Governor Jared Polis a...</td>\n",
       "      <td>1</td>\n",
       "    </tr>\n",
       "  </tbody>\n",
       "</table>\n",
       "</div>"
      ],
      "text/plain": [
       "                                               title  \\\n",
       "0  Governor Polis and the Colorado Energy Office ...   \n",
       "1  Governor Polis and the Colorado Energy Office ...   \n",
       "2  Governor Polis Appoints James H. Hesson to the...   \n",
       "3  Governor Polis Signs First Law of the 2024 Leg...   \n",
       "4  Colorado and Alberta Announce Energy and Clima...   \n",
       "\n",
       "                          date  \\\n",
       "0   Thursday, February 1, 2024   \n",
       "1   Thursday, February 1, 2024   \n",
       "2  Wednesday, January 31, 2024   \n",
       "3  Wednesday, January 31, 2024   \n",
       "4  Wednesday, January 31, 2024   \n",
       "\n",
       "                                                link  \\\n",
       "0  https://www.colorado.gov/governor/news/11471-g...   \n",
       "1  https://www.colorado.gov/governor/news/11471-g...   \n",
       "2  https://www.colorado.gov/governor/news/11466-g...   \n",
       "3  https://www.colorado.gov/governor/news/11456-g...   \n",
       "4  https://www.colorado.gov/governor/news/11461-c...   \n",
       "\n",
       "                                             content  page_scraped  \n",
       "0  DENVER -Today, Governor Polis and the Colorado...             1  \n",
       "1  DENVER -Today, Governor Polis and the Colorado...             1  \n",
       "2  DENVER -Today, Governor Polis appointed James ...             1  \n",
       "3  DENVER -Today, Governor Polis signedHB24-1084 ...             1  \n",
       "4  DENVER- Today, Colorado Governor Jared Polis a...             1  "
      ]
     },
     "execution_count": 39,
     "metadata": {},
     "output_type": "execute_result"
    }
   ],
   "source": [
    "# test on 5 to see if it works\n",
    "for i in combined.link[0:6]:\n",
    "     get_colorado_content(i, combined, header_list)\n",
    "    \n",
    "combined.head()"
   ]
  },
  {
   "cell_type": "code",
   "execution_count": 40,
   "id": "4be4977e",
   "metadata": {
    "hidden": true
   },
   "outputs": [
    {
     "data": {
      "text/plain": [
       "'content already existing for https://www.colorado.gov/governor/news/11471-governor-polis-and-colorado-energy-office-celebrate-new-tax-incentives-lower-cost-high'"
      ]
     },
     "execution_count": 40,
     "metadata": {},
     "output_type": "execute_result"
    },
    {
     "data": {
      "text/plain": [
       "'content already existing for https://www.colorado.gov/governor/news/11471-governor-polis-and-colorado-energy-office-celebrate-new-tax-incentives-lower-cost-high'"
      ]
     },
     "execution_count": 40,
     "metadata": {},
     "output_type": "execute_result"
    },
    {
     "data": {
      "text/plain": [
       "'content already existing for https://www.colorado.gov/governor/news/11466-governor-polis-appoints-james-h-hesson-moffat-county-court-14th-judicial-district'"
      ]
     },
     "execution_count": 40,
     "metadata": {},
     "output_type": "execute_result"
    },
    {
     "data": {
      "text/plain": [
       "'content already existing for https://www.colorado.gov/governor/news/11456-governor-polis-signs-first-law-2024-legislative-session-help-save-coloradans-money'"
      ]
     },
     "execution_count": 40,
     "metadata": {},
     "output_type": "execute_result"
    },
    {
     "data": {
      "text/plain": [
       "'content already existing for https://www.colorado.gov/governor/news/11461-colorado-and-alberta-announce-energy-and-climate-partnership'"
      ]
     },
     "execution_count": 40,
     "metadata": {},
     "output_type": "execute_result"
    },
    {
     "data": {
      "text/plain": [
       "'content already existing for https://www.colorado.gov/governor/news/11451-laying-groundwork-more-housing-affordable-polis-administration-announces-first'"
      ]
     },
     "execution_count": 40,
     "metadata": {},
     "output_type": "execute_result"
    },
    {
     "data": {
      "text/plain": [
       "'success: content added from https://www.colorado.gov/governor/news/11446-governor-polis-delivers-regional-state-state-glenwood-springs-discusses-vision-housing'"
      ]
     },
     "execution_count": 40,
     "metadata": {},
     "output_type": "execute_result"
    },
    {
     "data": {
      "text/plain": [
       "'success: content added from https://www.colorado.gov/governor/news/11441-colorado-and-wyoming-awarded-inaugural-nsf-engines-award-advance-innovative-climate'"
      ]
     },
     "execution_count": 40,
     "metadata": {},
     "output_type": "execute_result"
    },
    {
     "data": {
      "text/plain": [
       "'success: content added from https://www.colorado.gov/governor/news/11431-polis-administration-announces-new-curated-exhibit-space-blumhouse-colorados-iconic'"
      ]
     },
     "execution_count": 40,
     "metadata": {},
     "output_type": "execute_result"
    },
    {
     "data": {
      "text/plain": [
       "'success: content added from https://www.colorado.gov/governor/news/11426-governor-polis-delivers-regional-state-state-pueblo-focuses-making-housing-more'"
      ]
     },
     "execution_count": 40,
     "metadata": {},
     "output_type": "execute_result"
    },
    {
     "data": {
      "text/plain": [
       "'success: content added from https://www.colorado.gov/governor/news/11421-celebrating-colorados-150th-birthday-governor-polis-signs-executive-order-support'"
      ]
     },
     "execution_count": 40,
     "metadata": {},
     "output_type": "execute_result"
    },
    {
     "data": {
      "text/plain": [
       "'success: content added from https://www.colorado.gov/governor/news/11416-gov-polis-holds-quantum-summit'"
      ]
     },
     "execution_count": 40,
     "metadata": {},
     "output_type": "execute_result"
    },
    {
     "data": {
      "text/plain": [
       "'content already existing for https://www.colorado.gov/governor/news/11416-gov-polis-holds-quantum-summit'"
      ]
     },
     "execution_count": 40,
     "metadata": {},
     "output_type": "execute_result"
    },
    {
     "data": {
      "text/plain": [
       "'success: content added from https://www.colorado.gov/governor/news/11411-governor-polis-senators-bennet-hickenlooper-cdot-director-lew-celebrate-more-88-million'"
      ]
     },
     "execution_count": 40,
     "metadata": {},
     "output_type": "execute_result"
    },
    {
     "data": {
      "text/plain": [
       "'success: content added from https://www.colorado.gov/governor/news/11406-governor-polis-congratulates-todd-helton-being-elected-baseball-hall-fame'"
      ]
     },
     "execution_count": 40,
     "metadata": {},
     "output_type": "execute_result"
    },
    {
     "data": {
      "text/plain": [
       "'success: content added from https://www.colorado.gov/governor/news/11401-governor-polis-and-cdot-celebrate-83-million-support-ev-charging-infrastructure-across'"
      ]
     },
     "execution_count": 40,
     "metadata": {},
     "output_type": "execute_result"
    },
    {
     "data": {
      "text/plain": [
       "'success: content added from https://www.colorado.gov/governor/news/11396-governor-polis-and-fellow-governors-call-upon-congress-secure-border-act-assist-cities'"
      ]
     },
     "execution_count": 40,
     "metadata": {},
     "output_type": "execute_result"
    },
    {
     "data": {
      "text/plain": [
       "'success: content added from https://www.colorado.gov/governor/news/11391-governor-polis-calls-irs-allow-coloradans-keep-more-their-hard-earned-money-joins-fellow'"
      ]
     },
     "execution_count": 40,
     "metadata": {},
     "output_type": "execute_result"
    },
    {
     "data": {
      "text/plain": [
       "'success: content added from https://www.colorado.gov/governor/news/11386-governor-polis-and-colorado-department-higher-education-celebrate-first-graduates-core'"
      ]
     },
     "execution_count": 40,
     "metadata": {},
     "output_type": "execute_result"
    },
    {
     "data": {
      "text/plain": [
       "'success: content added from https://www.colorado.gov/governor/news/11381-governor-polis-and-cdot-announce-first-its-kind-partnership-between-x-games-aspen-and'"
      ]
     },
     "execution_count": 40,
     "metadata": {},
     "output_type": "execute_result"
    },
    {
     "data": {
      "text/plain": [
       "'success: content added from https://www.colorado.gov/governor/news/11376-creating-jobs-polis-administration-announces-toro-relocation-and-job-creation-weld'"
      ]
     },
     "execution_count": 40,
     "metadata": {},
     "output_type": "execute_result"
    },
    {
     "data": {
      "text/plain": [
       "'success: content added from https://www.colorado.gov/governor/news/11371-gov-polis-announces-boards-and-commissions-appointments'"
      ]
     },
     "execution_count": 40,
     "metadata": {},
     "output_type": "execute_result"
    },
    {
     "data": {
      "text/plain": [
       "'success: content added from https://www.colorado.gov/governor/news/11366-80655-enroll-colorado-option-plans-2024-polis-administration-continues-focus-saving'"
      ]
     },
     "execution_count": 40,
     "metadata": {},
     "output_type": "execute_result"
    },
    {
     "data": {
      "text/plain": [
       "'content already existing for https://www.colorado.gov/governor/news/11366-80655-enroll-colorado-option-plans-2024-polis-administration-continues-focus-saving'"
      ]
     },
     "execution_count": 40,
     "metadata": {},
     "output_type": "execute_result"
    },
    {
     "data": {
      "text/plain": [
       "'success: content added from https://www.colorado.gov/governor/news/11361-2023-free-application-days-saved-colorado-students-28-million'"
      ]
     },
     "execution_count": 40,
     "metadata": {},
     "output_type": "execute_result"
    },
    {
     "data": {
      "text/plain": [
       "'success: content added from https://www.colorado.gov/governor/news/11356-colorado-disability-funding-committee-launch-national-western-stock-show-themed-license'"
      ]
     },
     "execution_count": 40,
     "metadata": {},
     "output_type": "execute_result"
    },
    {
     "data": {
      "text/plain": [
       "'success: content added from https://www.colorado.gov/governor/news/11351-lieutenant-governor-primavera-celebrates-success-americorps-reading-corps-program'"
      ]
     },
     "execution_count": 40,
     "metadata": {},
     "output_type": "execute_result"
    },
    {
     "data": {
      "text/plain": [
       "'success: content added from https://www.colorado.gov/governor/news/11346-governor-polis-colorado-parks-and-wildlife-grow-outdoor-regional-partnerships-initiative'"
      ]
     },
     "execution_count": 40,
     "metadata": {},
     "output_type": "execute_result"
    },
    {
     "data": {
      "text/plain": [
       "'success: content added from https://www.colorado.gov/governor/news/11341-what-theyre-saying-about-governor-poliss-state-state-address'"
      ]
     },
     "execution_count": 40,
     "metadata": {},
     "output_type": "execute_result"
    },
    {
     "data": {
      "text/plain": [
       "'success: content added from https://www.colorado.gov/governor/news/11336-governor-polis-rides-2024-season-opening-amtrak-winter-park-express-will-celebrate-new'"
      ]
     },
     "execution_count": 40,
     "metadata": {},
     "output_type": "execute_result"
    },
    {
     "data": {
      "text/plain": [
       "'success: content added from https://www.colorado.gov/governor/news/11331-governor-polis-verbally-declares-disaster-declaration-protect-people-during-winter-cold'"
      ]
     },
     "execution_count": 40,
     "metadata": {},
     "output_type": "execute_result"
    },
    {
     "data": {
      "text/plain": [
       "'success: content added from https://www.colorado.gov/governor/news/11326-governor-polis-delivers-2024-state-state-address-focused-reducing-housing-costs-transit'"
      ]
     },
     "execution_count": 40,
     "metadata": {},
     "output_type": "execute_result"
    },
    {
     "data": {
      "text/plain": [
       "'success: content added from https://www.colorado.gov/governor/news/11321-gov-polis-announces-boards-and-commissions-appointments'"
      ]
     },
     "execution_count": 40,
     "metadata": {},
     "output_type": "execute_result"
    },
    {
     "data": {
      "text/plain": [
       "'success: content added from https://www.colorado.gov/governor/news/11316-governor-polis-celebrates-brigadier-general-laura-clellans-promotion-rank-major-general'"
      ]
     },
     "execution_count": 40,
     "metadata": {},
     "output_type": "execute_result"
    },
    {
     "data": {
      "text/plain": [
       "'content already existing for https://www.colorado.gov/governor/news/11316-governor-polis-celebrates-brigadier-general-laura-clellans-promotion-rank-major-general'"
      ]
     },
     "execution_count": 40,
     "metadata": {},
     "output_type": "execute_result"
    },
    {
     "data": {
      "text/plain": [
       "'success: content added from https://www.colorado.gov/governor/news/11311-governor-polis-appoints-jeffrey-d-ruff-17th-judicial-district-court'"
      ]
     },
     "execution_count": 40,
     "metadata": {},
     "output_type": "execute_result"
    },
    {
     "data": {
      "text/plain": [
       "'success: content added from https://www.colorado.gov/governor/news/11306-governor-polis-appoints-elizabeth-j-mccarthy-denver-juvenile-court-and-christina-m'"
      ]
     },
     "execution_count": 40,
     "metadata": {},
     "output_type": "execute_result"
    },
    {
     "data": {
      "text/plain": [
       "'success: content added from https://www.colorado.gov/governor/news/11301-growing-colorado-semiconductor-industry-microchip-expand-colorado-springs'"
      ]
     },
     "execution_count": 40,
     "metadata": {},
     "output_type": "execute_result"
    },
    {
     "data": {
      "text/plain": [
       "'success: content added from https://www.colorado.gov/governor/news/11296-governor-polis-and-colorado-broadband-office-announce-unprecedented-funding-broadband'"
      ]
     },
     "execution_count": 40,
     "metadata": {},
     "output_type": "execute_result"
    },
    {
     "data": {
      "text/plain": [
       "'success: content added from https://www.colorado.gov/governor/news/11291-governor-polis-and-department-natural-resources-release-pollinator-report'"
      ]
     },
     "execution_count": 40,
     "metadata": {},
     "output_type": "execute_result"
    },
    {
     "data": {
      "text/plain": [
       "'success: content added from https://www.colorado.gov/governor/news/11281-preparing-colorado-today-next-generation-polis-administration-releases-series-reports'"
      ]
     },
     "execution_count": 40,
     "metadata": {},
     "output_type": "execute_result"
    },
    {
     "data": {
      "text/plain": [
       "'success: content added from https://www.colorado.gov/governor/news/11266-governor-polis-provides-1-million-non-profit-grants-help-protect-colorados-places'"
      ]
     },
     "execution_count": 40,
     "metadata": {},
     "output_type": "execute_result"
    },
    {
     "data": {
      "text/plain": [
       "'success: content added from https://www.colorado.gov/governor/news/11276-governor-polis-provides-1-million-non-profit-grants-help-protect-colorados-places'"
      ]
     },
     "execution_count": 40,
     "metadata": {},
     "output_type": "execute_result"
    },
    {
     "data": {
      "text/plain": [
       "'success: content added from https://www.colorado.gov/governor/news/11271-governor-poliss-supplemental-budget-proposal-builds-historic-investment-education-and'"
      ]
     },
     "execution_count": 40,
     "metadata": {},
     "output_type": "execute_result"
    },
    {
     "data": {
      "text/plain": [
       "'success: content added from https://www.colorado.gov/governor/news/11286-delivering-real-results-coloradans-new-laws-signed-governor-polis-take-effect-january-1'"
      ]
     },
     "execution_count": 40,
     "metadata": {},
     "output_type": "execute_result"
    },
    {
     "data": {
      "text/plain": [
       "'content already existing for https://www.colorado.gov/governor/news/11286-delivering-real-results-coloradans-new-laws-signed-governor-polis-take-effect-january-1'"
      ]
     },
     "execution_count": 40,
     "metadata": {},
     "output_type": "execute_result"
    },
    {
     "data": {
      "text/plain": [
       "'success: content added from https://www.colorado.gov/governor/news/11261-governor-polis-announces-technical-assistance-program-local-governments-tribes-and'"
      ]
     },
     "execution_count": 40,
     "metadata": {},
     "output_type": "execute_result"
    },
    {
     "data": {
      "text/plain": [
       "'success: content added from https://www.colorado.gov/governor/news/11256-governor-polis-announces-final-revitalizing-main-streets-grants-2023'"
      ]
     },
     "execution_count": 40,
     "metadata": {},
     "output_type": "execute_result"
    },
    {
     "data": {
      "text/plain": [
       "'success: content added from https://www.colorado.gov/governor/news/11251-governor-polis-goes-platinum'"
      ]
     },
     "execution_count": 40,
     "metadata": {},
     "output_type": "execute_result"
    },
    {
     "data": {
      "text/plain": [
       "'success: content added from https://www.colorado.gov/governor/news/11246-governor-polis-announces-clemency-28-individuals'"
      ]
     },
     "execution_count": 40,
     "metadata": {},
     "output_type": "execute_result"
    },
    {
     "data": {
      "text/plain": [
       "'success: content added from https://www.colorado.gov/governor/news/11241-governor-polis-applauds-president-bidens-nationwide-pardon'"
      ]
     },
     "execution_count": 40,
     "metadata": {},
     "output_type": "execute_result"
    },
    {
     "data": {
      "text/plain": [
       "'success: content added from https://www.colorado.gov/governor/news/11236-governor-polis-celebrates-historic-colorado-river-water-agreement'"
      ]
     },
     "execution_count": 40,
     "metadata": {},
     "output_type": "execute_result"
    },
    {
     "data": {
      "text/plain": [
       "'success: content added from https://www.colorado.gov/governor/news/11231-economic-forecast-shows-continued-strong-economic-growth-colorado'"
      ]
     },
     "execution_count": 40,
     "metadata": {},
     "output_type": "execute_result"
    },
    {
     "data": {
      "text/plain": [
       "'success: content added from https://www.colorado.gov/governor/news/11226-governor-polis-appoints-arturo-g-hernandez-17th-judicial-district-court'"
      ]
     },
     "execution_count": 40,
     "metadata": {},
     "output_type": "execute_result"
    },
    {
     "data": {
      "text/plain": [
       "'success: content added from https://www.colorado.gov/governor/news/11221-governor-polis-and-lt-governor-primavera-reflect-2023-look-ahead-bold-action-2024'"
      ]
     },
     "execution_count": 40,
     "metadata": {},
     "output_type": "execute_result"
    },
    {
     "data": {
      "text/plain": [
       "'success: content added from https://www.colorado.gov/governor/news/11216-governor-polis-announces-funding-agrivoltaics-grants-help-colorados-agriculture-industry'"
      ]
     },
     "execution_count": 40,
     "metadata": {},
     "output_type": "execute_result"
    },
    {
     "data": {
      "text/plain": [
       "'content already existing for https://www.colorado.gov/governor/news/11216-governor-polis-announces-funding-agrivoltaics-grants-help-colorados-agriculture-industry'"
      ]
     },
     "execution_count": 40,
     "metadata": {},
     "output_type": "execute_result"
    },
    {
     "data": {
      "text/plain": [
       "'success: content added from https://www.colorado.gov/governor/news/11211-governor-polis-orders-flags-fly-half-staff-honor-justice-sandra-day-oconnor'"
      ]
     },
     "execution_count": 40,
     "metadata": {},
     "output_type": "execute_result"
    },
    {
     "data": {
      "text/plain": [
       "'success: content added from https://www.colorado.gov/governor/news/11206-lt-governor-primavera-celebrates-work-colorado-disability-funding-committee-visits-grant'"
      ]
     },
     "execution_count": 40,
     "metadata": {},
     "output_type": "execute_result"
    },
    {
     "data": {
      "text/plain": [
       "'success: content added from https://www.colorado.gov/governor/news/11201-polis-primavera-administration-and-national-security-leaders-recognize-us-space-command'"
      ]
     },
     "execution_count": 40,
     "metadata": {},
     "output_type": "execute_result"
    },
    {
     "data": {
      "text/plain": [
       "'success: content added from https://www.colorado.gov/governor/news/11196-governor-polis-declares-passage-proposition-ii'"
      ]
     },
     "execution_count": 40,
     "metadata": {},
     "output_type": "execute_result"
    },
    {
     "data": {
      "text/plain": [
       "'success: content added from https://www.colorado.gov/governor/news/11191-governor-polis-and-colorado-parks-and-wildlife-award-22-million-outdoor-equity-grants'"
      ]
     },
     "execution_count": 40,
     "metadata": {},
     "output_type": "execute_result"
    },
    {
     "data": {
      "text/plain": [
       "'success: content added from https://www.colorado.gov/governor/news/11181-governor-polis-celebrates-launch-accident-explorer-alongside-colorado-avalanche'"
      ]
     },
     "execution_count": 40,
     "metadata": {},
     "output_type": "execute_result"
    },
    {
     "data": {
      "text/plain": [
       "'success: content added from https://www.colorado.gov/governor/news/11176-governor-polis-releases-statement-reproductive-freedom'"
      ]
     },
     "execution_count": 40,
     "metadata": {},
     "output_type": "execute_result"
    },
    {
     "data": {
      "text/plain": [
       "'success: content added from https://www.colorado.gov/governor/news/11171-governor-polis-announces-new-grants-support-job-creation-coal-transition-communities'"
      ]
     },
     "execution_count": 40,
     "metadata": {},
     "output_type": "execute_result"
    },
    {
     "data": {
      "text/plain": [
       "'success: content added from https://www.colorado.gov/governor/news/11166-governor-polis-discusses-vision-housing-and-transit-colorado-springs-and-pueblo'"
      ]
     },
     "execution_count": 40,
     "metadata": {},
     "output_type": "execute_result"
    },
    {
     "data": {
      "text/plain": [
       "'success: content added from https://www.colorado.gov/governor/news/11161-governor-polis-announces-two-new-rise-grant-recipients-celebrates-impact-colorado'"
      ]
     },
     "execution_count": 40,
     "metadata": {},
     "output_type": "execute_result"
    },
    {
     "data": {
      "text/plain": [
       "'content already existing for https://www.colorado.gov/governor/news/11161-governor-polis-announces-two-new-rise-grant-recipients-celebrates-impact-colorado'"
      ]
     },
     "execution_count": 40,
     "metadata": {},
     "output_type": "execute_result"
    },
    {
     "data": {
      "text/plain": [
       "'success: content added from https://www.colorado.gov/governor/news/11146-governor-polis-releases-bold-vision-housing-and-transit-colorado'"
      ]
     },
     "execution_count": 40,
     "metadata": {},
     "output_type": "execute_result"
    },
    {
     "data": {
      "text/plain": [
       "'success: content added from https://www.colorado.gov/governor/news/11136-governor-polis-orders-flags-fly-half-staff-pearl-harbor-remembrance-day'"
      ]
     },
     "execution_count": 40,
     "metadata": {},
     "output_type": "execute_result"
    },
    {
     "data": {
      "text/plain": [
       "'success: content added from https://www.colorado.gov/governor/news/11141-governor-polis-celebrates-federal-funding-front-range-rail'"
      ]
     },
     "execution_count": 40,
     "metadata": {},
     "output_type": "execute_result"
    },
    {
     "data": {
      "text/plain": [
       "'success: content added from https://www.colorado.gov/governor/news/11151-gov-polis-announces-boards-and-commissions-appointments'"
      ]
     },
     "execution_count": 40,
     "metadata": {},
     "output_type": "execute_result"
    },
    {
     "data": {
      "text/plain": [
       "'success: content added from https://www.colorado.gov/governor/news/11131-peyton-manning-receive-mizel-institute-2024-community-enrichment-award'"
      ]
     },
     "execution_count": 40,
     "metadata": {},
     "output_type": "execute_result"
    },
    {
     "data": {
      "text/plain": [
       "'success: content added from https://www.colorado.gov/governor/news/11126-governor-polis-governors-across-country-encourage-biden-administration-federal'"
      ]
     },
     "execution_count": 40,
     "metadata": {},
     "output_type": "execute_result"
    },
    {
     "data": {
      "text/plain": [
       "'success: content added from https://www.colorado.gov/governor/news/11121-governor-polis-orders-flags-be-lowered-honor-sergeant-michael-moran'"
      ]
     },
     "execution_count": 40,
     "metadata": {},
     "output_type": "execute_result"
    },
    {
     "data": {
      "text/plain": [
       "'success: content added from https://www.colorado.gov/governor/news/11116-governor-polis-announces-computer-science-education-week-celebrates-colorados-future'"
      ]
     },
     "execution_count": 40,
     "metadata": {},
     "output_type": "execute_result"
    },
    {
     "data": {
      "text/plain": [
       "'success: content added from https://www.colorado.gov/governor/news/11106-governor-polis-announces-governors-residence-public-holiday-tours-welcomes-coloradans'"
      ]
     },
     "execution_count": 40,
     "metadata": {},
     "output_type": "execute_result"
    },
    {
     "data": {
      "text/plain": [
       "'success: content added from https://www.colorado.gov/governor/news/11071-polis-administration-releases-first-its-kind-climate-preparedness-roadmap'"
      ]
     },
     "execution_count": 40,
     "metadata": {},
     "output_type": "execute_result"
    },
    {
     "data": {
      "text/plain": [
       "'content already existing for https://www.colorado.gov/governor/news/11071-polis-administration-releases-first-its-kind-climate-preparedness-roadmap'"
      ]
     },
     "execution_count": 40,
     "metadata": {},
     "output_type": "execute_result"
    },
    {
     "data": {
      "text/plain": [
       "'success: content added from https://www.colorado.gov/governor/news/11091-governor-polis-leads-five-other-states-urging-federal-government-create-space-national'"
      ]
     },
     "execution_count": 40,
     "metadata": {},
     "output_type": "execute_result"
    },
    {
     "data": {
      "text/plain": [
       "'success: content added from https://www.colorado.gov/governor/news/11086-governor-polis-releases-statement-passing-justice-sandra-day-oconnor'"
      ]
     },
     "execution_count": 40,
     "metadata": {},
     "output_type": "execute_result"
    },
    {
     "data": {
      "text/plain": [
       "'success: content added from https://www.colorado.gov/governor/news/11081-what-theyre-saying-following-release-climate-preparedness-roadmap'"
      ]
     },
     "execution_count": 40,
     "metadata": {},
     "output_type": "execute_result"
    },
    {
     "data": {
      "text/plain": [
       "'success: content added from https://www.colorado.gov/governor/news/11066-serve-colorado-secures-2023-commission-innovation-award'"
      ]
     },
     "execution_count": 40,
     "metadata": {},
     "output_type": "execute_result"
    },
    {
     "data": {
      "text/plain": [
       "'success: content added from https://www.colorado.gov/governor/news/11061-governor-polis-discusses-property-tax-relief-delivered-special-session-urges-local'"
      ]
     },
     "execution_count": 40,
     "metadata": {},
     "output_type": "execute_result"
    },
    {
     "data": {
      "text/plain": [
       "'success: content added from https://www.colorado.gov/governor/news/11111-governor-polis-releases-statement-fallen-cortez-police-officer'"
      ]
     },
     "execution_count": 40,
     "metadata": {},
     "output_type": "execute_result"
    },
    {
     "data": {
      "text/plain": [
       "'success: content added from https://www.colorado.gov/governor/news/11056-lieutenant-governor-dianne-primavera-leads-roundtable-discussion-long-covid-impacts-and'"
      ]
     },
     "execution_count": 40,
     "metadata": {},
     "output_type": "execute_result"
    },
    {
     "data": {
      "text/plain": [
       "'success: content added from https://www.colorado.gov/governor/news/11051-governor-polis-appoints-timothy-j-lane-gilpin-county-court-1st-judicial-district'"
      ]
     },
     "execution_count": 40,
     "metadata": {},
     "output_type": "execute_result"
    },
    {
     "data": {
      "text/plain": [
       "'success: content added from https://www.colorado.gov/governor/news/11026-following-special-legislative-session-delivered-property-tax-relief-gov-polis-urges'"
      ]
     },
     "execution_count": 40,
     "metadata": {},
     "output_type": "execute_result"
    },
    {
     "data": {
      "text/plain": [
       "'success: content added from https://www.colorado.gov/governor/news/11046-governor-polis-signs-laws-help-hardworking-coloradans-address-property-tax-challenges'"
      ]
     },
     "execution_count": 40,
     "metadata": {},
     "output_type": "execute_result"
    },
    {
     "data": {
      "text/plain": [
       "'content already existing for https://www.colorado.gov/governor/news/11046-governor-polis-signs-laws-help-hardworking-coloradans-address-property-tax-challenges'"
      ]
     },
     "execution_count": 40,
     "metadata": {},
     "output_type": "execute_result"
    },
    {
     "data": {
      "text/plain": [
       "'success: content added from https://www.colorado.gov/governor/news/11041-governor-polis-announces-staff-updates'"
      ]
     },
     "execution_count": 40,
     "metadata": {},
     "output_type": "execute_result"
    },
    {
     "data": {
      "text/plain": [
       "'success: content added from https://www.colorado.gov/governor/news/11036-2023-colorado-governors-citizenship-medal-recipients-announced-partnership-civico'"
      ]
     },
     "execution_count": 40,
     "metadata": {},
     "output_type": "execute_result"
    },
    {
     "data": {
      "text/plain": [
       "'success: content added from https://www.colorado.gov/governor/news/11031-governor-polis-welcomes-president-biden-pueblo-ahead-colorado-visit'"
      ]
     },
     "execution_count": 40,
     "metadata": {},
     "output_type": "execute_result"
    },
    {
     "data": {
      "text/plain": [
       "'success: content added from https://www.colorado.gov/governor/news/11026-governor-polis-appoints-amanda-j-philipps-4th-judicial-district-court-and-brittany'"
      ]
     },
     "execution_count": 40,
     "metadata": {},
     "output_type": "execute_result"
    },
    {
     "data": {
      "text/plain": [
       "'success: content added from https://www.colorado.gov/governor/news/11021-governor-polis-orders-flags-lowered-half-staff-remembrance-first-lady-rosalynn-carter'"
      ]
     },
     "execution_count": 40,
     "metadata": {},
     "output_type": "execute_result"
    },
    {
     "data": {
      "text/plain": [
       "'success: content added from https://www.colorado.gov/governor/news/11016-helping-students-achieve-their-career-goals-and-develop-colorados-workforce-governor'"
      ]
     },
     "execution_count": 40,
     "metadata": {},
     "output_type": "execute_result"
    },
    {
     "data": {
      "text/plain": [
       "'success: content added from https://www.colorado.gov/governor/news/11011-governor-polis-signs-laws-passed-legislature-during-special-session-deliver-real-results'"
      ]
     },
     "execution_count": 40,
     "metadata": {},
     "output_type": "execute_result"
    },
    {
     "data": {
      "text/plain": [
       "'success: content added from https://www.colorado.gov/governor/news/11006-governor-polis-and-first-gentleman-marlon-reis-pardon-maple-pumpkin-matilda-and-gus-four'"
      ]
     },
     "execution_count": 40,
     "metadata": {},
     "output_type": "execute_result"
    },
    {
     "data": {
      "text/plain": [
       "'success: content added from https://www.colorado.gov/governor/news/11001-gov-polis-opens-trail-summit-fishers-peak-state-park'"
      ]
     },
     "execution_count": 40,
     "metadata": {},
     "output_type": "execute_result"
    },
    {
     "data": {
      "text/plain": [
       "'success: content added from https://www.colorado.gov/governor/news/10996-governor-polis-releases-statement-one-year-anniversary-club-q-tragedy'"
      ]
     },
     "execution_count": 40,
     "metadata": {},
     "output_type": "execute_result"
    },
    {
     "data": {
      "text/plain": [
       "'content already existing for https://www.colorado.gov/governor/news/10996-governor-polis-releases-statement-one-year-anniversary-club-q-tragedy'"
      ]
     },
     "execution_count": 40,
     "metadata": {},
     "output_type": "execute_result"
    },
    {
     "data": {
      "text/plain": [
       "'success: content added from https://www.colorado.gov/governor/news/10991-governor-polis-presents-budget-proposal-fully-funding-education-joint-budget-committee'"
      ]
     },
     "execution_count": 40,
     "metadata": {},
     "output_type": "execute_result"
    },
    {
     "data": {
      "text/plain": [
       "'success: content added from https://www.colorado.gov/governor/news/10986-governor-polis-and-dept-higher-ed-highlight-collegeinvest-first-step-program-helping'"
      ]
     },
     "execution_count": 40,
     "metadata": {},
     "output_type": "execute_result"
    },
    {
     "data": {
      "text/plain": [
       "'success: content added from https://www.colorado.gov/governor/news/10981-governor-polis-appoints-chantel-e-contiguglia-1st-judicial-district-court'"
      ]
     },
     "execution_count": 40,
     "metadata": {},
     "output_type": "execute_result"
    },
    {
     "data": {
      "text/plain": [
       "'success: content added from https://www.colorado.gov/governor/news/10976-governor-polis-announces-update-cabinet'"
      ]
     },
     "execution_count": 40,
     "metadata": {},
     "output_type": "execute_result"
    },
    {
     "data": {
      "text/plain": [
       "'success: content added from https://www.colorado.gov/governor/news/10971-governor-polis-applauds-white-house-budget-supplemental-request-urges-congress-avoid'"
      ]
     },
     "execution_count": 40,
     "metadata": {},
     "output_type": "execute_result"
    },
    {
     "data": {
      "text/plain": [
       "'success: content added from https://www.colorado.gov/governor/news/10966-polis-administration-colorado-energy-office-launch-grant-program-support-geothermal'"
      ]
     },
     "execution_count": 40,
     "metadata": {},
     "output_type": "execute_result"
    },
    {
     "data": {
      "text/plain": [
       "'success: content added from https://www.colorado.gov/governor/news/10961-update-special-session-74th-general-assembly'"
      ]
     },
     "execution_count": 40,
     "metadata": {},
     "output_type": "execute_result"
    },
    {
     "data": {
      "text/plain": [
       "'success: content added from https://www.colorado.gov/governor/news/10956-governor-polis-appoints-pax-l-moultrie-and-grant-t-sullivan-colorado-court-appeals'"
      ]
     },
     "execution_count": 40,
     "metadata": {},
     "output_type": "execute_result"
    },
    {
     "data": {
      "text/plain": [
       "'success: content added from https://www.colorado.gov/governor/news/10951-governor-polis-calls-special-session-74th-general-assembly-urges-legislature-put-people'"
      ]
     },
     "execution_count": 40,
     "metadata": {},
     "output_type": "execute_result"
    },
    {
     "data": {
      "text/plain": [
       "'success: content added from https://www.colorado.gov/governor/news/10946-governor-polis-releases-statement-following-arrest-individuals-connection-fremont-county'"
      ]
     },
     "execution_count": 40,
     "metadata": {},
     "output_type": "execute_result"
    },
    {
     "data": {
      "text/plain": [
       "'content already existing for https://www.colorado.gov/governor/news/10946-governor-polis-releases-statement-following-arrest-individuals-connection-fremont-county'"
      ]
     },
     "execution_count": 40,
     "metadata": {},
     "output_type": "execute_result"
    },
    {
     "data": {
      "text/plain": [
       "'success: content added from https://www.colorado.gov/governor/news/10941-governor-polis-releases-statement-following-voter-approval-proposition-ii'"
      ]
     },
     "execution_count": 40,
     "metadata": {},
     "output_type": "execute_result"
    },
    {
     "data": {
      "text/plain": [
       "'success: content added from https://www.colorado.gov/governor/news/10936-colorado-economic-development-commission-approves-funding-downtown-grand-junctions-first'"
      ]
     },
     "execution_count": 40,
     "metadata": {},
     "output_type": "execute_result"
    },
    {
     "data": {
      "text/plain": [
       "'success: content added from https://www.colorado.gov/governor/news/10931-governor-announces-updates-cabinet'"
      ]
     },
     "execution_count": 40,
     "metadata": {},
     "output_type": "execute_result"
    },
    {
     "data": {
      "text/plain": [
       "'success: content added from https://www.colorado.gov/governor/news/10926-strengthening-colorados-schools-governor-polis-announces-new-educational-funding'"
      ]
     },
     "execution_count": 40,
     "metadata": {},
     "output_type": "execute_result"
    },
    {
     "data": {
      "text/plain": [
       "'success: content added from https://www.colorado.gov/governor/news/10921-governor-polis-lieutenant-governor-primavera-and-division-insurance-announce-colorados'"
      ]
     },
     "execution_count": 40,
     "metadata": {},
     "output_type": "execute_result"
    },
    {
     "data": {
      "text/plain": [
       "'success: content added from https://www.colorado.gov/governor/news/10916-governor-polis-announces-boards-and-commissions-appointments'"
      ]
     },
     "execution_count": 40,
     "metadata": {},
     "output_type": "execute_result"
    },
    {
     "data": {
      "text/plain": [
       "'success: content added from https://www.colorado.gov/governor/news/10911-governor-polis-releases-statement-congressman-ken-buck'"
      ]
     },
     "execution_count": 40,
     "metadata": {},
     "output_type": "execute_result"
    },
    {
     "data": {
      "text/plain": [
       "'success: content added from https://www.colorado.gov/governor/news/10906-gov-polis-releases-balanced-budget-proposal-fully-funds-k-12-first-time-2009-focuses'"
      ]
     },
     "execution_count": 40,
     "metadata": {},
     "output_type": "execute_result"
    },
    {
     "data": {
      "text/plain": [
       "'success: content added from https://www.colorado.gov/governor/news/11156-governor-polis-announces-boards-and-commissions-appointments'"
      ]
     },
     "execution_count": 40,
     "metadata": {},
     "output_type": "execute_result"
    },
    {
     "data": {
      "text/plain": [
       "'success: content added from https://www.colorado.gov/governor/news/10901-polis-primavera-administration-eliminates-subminimum-wages-people-disabilities-two-years'"
      ]
     },
     "execution_count": 40,
     "metadata": {},
     "output_type": "execute_result"
    },
    {
     "data": {
      "text/plain": [
       "'content already existing for https://www.colorado.gov/governor/news/10901-polis-primavera-administration-eliminates-subminimum-wages-people-disabilities-two-years'"
      ]
     },
     "execution_count": 40,
     "metadata": {},
     "output_type": "execute_result"
    },
    {
     "data": {
      "text/plain": [
       "'success: content added from https://www.colorado.gov/governor/news/10896-governor-polis-takes-action-response-iron-fire-moffat-county-and-incident-fremont-county'"
      ]
     },
     "execution_count": 40,
     "metadata": {},
     "output_type": "execute_result"
    },
    {
     "data": {
      "text/plain": [
       "'success: content added from https://www.colorado.gov/governor/news/10891-governor-polis-appoints-jon-j-olafson-2nd-judicial-district-court'"
      ]
     },
     "execution_count": 40,
     "metadata": {},
     "output_type": "execute_result"
    },
    {
     "data": {
      "text/plain": [
       "'success: content added from https://www.colorado.gov/governor/news/10886-governor-polis-orders-flags-be-lowered-honor-victims-tragedy-lewiston-maine'"
      ]
     },
     "execution_count": 40,
     "metadata": {},
     "output_type": "execute_result"
    },
    {
     "data": {
      "text/plain": [
       "'success: content added from https://www.colorado.gov/governor/news/10881-governor-polis-and-colorado-avalanche-information-center-celebrate-50-years-avalanche'"
      ]
     },
     "execution_count": 40,
     "metadata": {},
     "output_type": "execute_result"
    },
    {
     "data": {
      "text/plain": [
       "'success: content added from https://www.colorado.gov/governor/news/10876-governor-jared-polis-state-lawmakers-announce-more-35-million-infrastructure-funding'"
      ]
     },
     "execution_count": 40,
     "metadata": {},
     "output_type": "execute_result"
    },
    {
     "data": {
      "text/plain": [
       "'success: content added from https://www.colorado.gov/governor/news/10871-polis-administration-announces-latest-round-ihip-grant-recipients-supporting-creation'"
      ]
     },
     "execution_count": 40,
     "metadata": {},
     "output_type": "execute_result"
    },
    {
     "data": {
      "text/plain": [
       "'success: content added from https://www.colorado.gov/governor/news/10866-gov-polis-and-doi-announce-80-health-insurers-decrease-premium-requests-2024-and'"
      ]
     },
     "execution_count": 40,
     "metadata": {},
     "output_type": "execute_result"
    },
    {
     "data": {
      "text/plain": [
       "'success: content added from https://www.colorado.gov/governor/news/10861-colorado-electric-vehicle-ownership-soars-under-polis-administration-now-171-new'"
      ]
     },
     "execution_count": 40,
     "metadata": {},
     "output_type": "execute_result"
    },
    {
     "data": {
      "text/plain": [
       "'success: content added from https://www.colorado.gov/governor/news/10856-under-polis-administration-colorado-secures-official-federal-designation-tech-hub'"
      ]
     },
     "execution_count": 40,
     "metadata": {},
     "output_type": "execute_result"
    },
    {
     "data": {
      "text/plain": [
       "'success: content added from https://www.colorado.gov/governor/news/10851-governor-polis-and-cdot-announce-reopening-both-lanes-i-25-outside-pueblo'"
      ]
     },
     "execution_count": 40,
     "metadata": {},
     "output_type": "execute_result"
    },
    {
     "data": {
      "text/plain": [
       "'content already existing for https://www.colorado.gov/governor/news/10851-governor-polis-and-cdot-announce-reopening-both-lanes-i-25-outside-pueblo'"
      ]
     },
     "execution_count": 40,
     "metadata": {},
     "output_type": "execute_result"
    },
    {
     "data": {
      "text/plain": [
       "'success: content added from https://www.colorado.gov/governor/news/10846-governor-polis-announces-action-save-people-money-health-care-and-support-health-care'"
      ]
     },
     "execution_count": 40,
     "metadata": {},
     "output_type": "execute_result"
    },
    {
     "data": {
      "text/plain": [
       "'success: content added from https://www.colorado.gov/governor/news/10841-governor-polis-announces-timeline-re-open-i-25-near-pueblo'"
      ]
     },
     "execution_count": 40,
     "metadata": {},
     "output_type": "execute_result"
    },
    {
     "data": {
      "text/plain": [
       "'success: content added from https://www.colorado.gov/governor/news/10836-governor-polis-releases-statement-train-derailment-near-pueblo'"
      ]
     },
     "execution_count": 40,
     "metadata": {},
     "output_type": "execute_result"
    },
    {
     "data": {
      "text/plain": [
       "'success: content added from https://www.colorado.gov/governor/news/10831-governor-polis-issues-anti-semitism-proclamation'"
      ]
     },
     "execution_count": 40,
     "metadata": {},
     "output_type": "execute_result"
    },
    {
     "data": {
      "text/plain": [
       "'success: content added from https://www.colorado.gov/governor/news/10826-bipartisan-governors-stand-together-condemn-violence-israel'"
      ]
     },
     "execution_count": 40,
     "metadata": {},
     "output_type": "execute_result"
    },
    {
     "data": {
      "text/plain": [
       "'success: content added from https://www.colorado.gov/governor/news/10821-supporting-rural-economic-development-polis-administration-provides-grants-support'"
      ]
     },
     "execution_count": 40,
     "metadata": {},
     "output_type": "execute_result"
    },
    {
     "data": {
      "text/plain": [
       "'success: content added from https://www.colorado.gov/governor/news/10816-governor-polis-and-colorado-department-higher-education-announce-waived-higher-education'"
      ]
     },
     "execution_count": 40,
     "metadata": {},
     "output_type": "execute_result"
    },
    {
     "data": {
      "text/plain": [
       "'success: content added from https://www.colorado.gov/governor/news/10811-colorado-and-wyoming-partnering-become-national-leader-climate-resilient-and-sustainable'"
      ]
     },
     "execution_count": 40,
     "metadata": {},
     "output_type": "execute_result"
    },
    {
     "data": {
      "text/plain": [
       "'success: content added from https://www.colorado.gov/governor/news/10806-governor-polis-colorado-legislative-leaders-urge-biden-administration-commerce-secretary'"
      ]
     },
     "execution_count": 40,
     "metadata": {},
     "output_type": "execute_result"
    },
    {
     "data": {
      "text/plain": [
       "'success: content added from https://www.colorado.gov/governor/news/10801-governor-polis-takes-action-make-colorado-communities-safer'"
      ]
     },
     "execution_count": 40,
     "metadata": {},
     "output_type": "execute_result"
    },
    {
     "data": {
      "text/plain": [
       "'content already existing for https://www.colorado.gov/governor/news/10801-governor-polis-takes-action-make-colorado-communities-safer'"
      ]
     },
     "execution_count": 40,
     "metadata": {},
     "output_type": "execute_result"
    },
    {
     "data": {
      "text/plain": [
       "'success: content added from https://www.colorado.gov/governor/news/10796-governor-jared-polis-condemns-deadly-attacks-israel'"
      ]
     },
     "execution_count": 40,
     "metadata": {},
     "output_type": "execute_result"
    },
    {
     "data": {
      "text/plain": [
       "'success: content added from https://www.colorado.gov/governor/news/10791-creating-housing-and-new-jobs-manufacturer-3d-printed-homes-expand-greeley-company'"
      ]
     },
     "execution_count": 40,
     "metadata": {},
     "output_type": "execute_result"
    },
    {
     "data": {
      "text/plain": [
       "'success: content added from https://www.colorado.gov/governor/news/10786-colorado-leaders-push-state-continue-growing-quantum-hub-support-jobs-innovation-economy'"
      ]
     },
     "execution_count": 40,
     "metadata": {},
     "output_type": "execute_result"
    },
    {
     "data": {
      "text/plain": [
       "'success: content added from https://www.colorado.gov/governor/news/10781-colorado-governor-jared-polis-releases-statement-following-news-house-and-senate-reached'"
      ]
     },
     "execution_count": 40,
     "metadata": {},
     "output_type": "execute_result"
    },
    {
     "data": {
      "text/plain": [
       "'success: content added from https://www.colorado.gov/governor/news/10776-governor-polis-orders-flags-be-lowered-honor-colorado-springs-community-parole-officer'"
      ]
     },
     "execution_count": 40,
     "metadata": {},
     "output_type": "execute_result"
    },
    {
     "data": {
      "text/plain": [
       "'success: content added from https://www.colorado.gov/governor/news/10771-gov-polis-and-gov-cox-release-joint-statement-urging-federal-government-prevent-shutdown'"
      ]
     },
     "execution_count": 40,
     "metadata": {},
     "output_type": "execute_result"
    },
    {
     "data": {
      "text/plain": [
       "'success: content added from https://www.colorado.gov/governor/news/10766-governor-polis-takes-action-keep-national-parks-open-if-federal-shutdown-occurs'"
      ]
     },
     "execution_count": 40,
     "metadata": {},
     "output_type": "execute_result"
    },
    {
     "data": {
      "text/plain": [
       "'success: content added from https://www.colorado.gov/governor/news/10761-governor-polis-announces-rise-grant-opportunity-creating-more-work-based-learning'"
      ]
     },
     "execution_count": 40,
     "metadata": {},
     "output_type": "execute_result"
    },
    {
     "data": {
      "text/plain": [
       "'success: content added from https://www.colorado.gov/governor/news/10756-governor-polis-applauds-us-senate-banking-committee-bipartisan-passage-safer-banking-act'"
      ]
     },
     "execution_count": 40,
     "metadata": {},
     "output_type": "execute_result"
    },
    {
     "data": {
      "text/plain": [
       "'success: content added from https://www.colorado.gov/governor/news/10751-bolstering-colorados-economy-polis-administration-secures-modeling-simulation'"
      ]
     },
     "execution_count": 40,
     "metadata": {},
     "output_type": "execute_result"
    },
    {
     "data": {
      "text/plain": [
       "'content already existing for https://www.colorado.gov/governor/news/10751-bolstering-colorados-economy-polis-administration-secures-modeling-simulation'"
      ]
     },
     "execution_count": 40,
     "metadata": {},
     "output_type": "execute_result"
    },
    {
     "data": {
      "text/plain": [
       "'success: content added from https://www.colorado.gov/governor/news/10746-governor-polis-releases-statement-phil-distefano'"
      ]
     },
     "execution_count": 40,
     "metadata": {},
     "output_type": "execute_result"
    },
    {
     "data": {
      "text/plain": [
       "'success: content added from https://www.colorado.gov/governor/news/10741-governor-polis-takes-action-support-recovery-efforts-following-severe-weather-flooding'"
      ]
     },
     "execution_count": 40,
     "metadata": {},
     "output_type": "execute_result"
    },
    {
     "data": {
      "text/plain": [
       "'success: content added from https://www.colorado.gov/governor/news/10736-governor-polis-colorado-department-education-announce-additional-funding-donorschoose'"
      ]
     },
     "execution_count": 40,
     "metadata": {},
     "output_type": "execute_result"
    },
    {
     "data": {
      "text/plain": [
       "'success: content added from https://www.colorado.gov/governor/news/10731-governor-polis-applauds-biden-administration-action-temporary-protected-status-tps-work'"
      ]
     },
     "execution_count": 40,
     "metadata": {},
     "output_type": "execute_result"
    },
    {
     "data": {
      "text/plain": [
       "'success: content added from https://www.colorado.gov/governor/news/10726-colorados-economy-continues-streak-strength-following-economic-forecast'"
      ]
     },
     "execution_count": 40,
     "metadata": {},
     "output_type": "execute_result"
    },
    {
     "data": {
      "text/plain": [
       "'success: content added from https://www.colorado.gov/governor/news/10716-gov-polis-appoints-heidi-humphreys-department-revenue-executive-director'"
      ]
     },
     "execution_count": 40,
     "metadata": {},
     "output_type": "execute_result"
    },
    {
     "data": {
      "text/plain": [
       "'success: content added from https://www.colorado.gov/governor/news/10711-stronger-colorado-join-americorps-recruitment-psa-unveils-transformative-service'"
      ]
     },
     "execution_count": 40,
     "metadata": {},
     "output_type": "execute_result"
    },
    {
     "data": {
      "text/plain": [
       "'success: content added from https://www.colorado.gov/governor/news/10706-governor-polis-takes-action-further-states-commitment-renewable-energy-saving-money'"
      ]
     },
     "execution_count": 40,
     "metadata": {},
     "output_type": "execute_result"
    },
    {
     "data": {
      "text/plain": [
       "'success: content added from https://www.colorado.gov/governor/news/10701-governor-polis-announces-updates-cabinet'"
      ]
     },
     "execution_count": 40,
     "metadata": {},
     "output_type": "execute_result"
    },
    {
     "data": {
      "text/plain": [
       "'success: content added from https://www.colorado.gov/governor/news/10686-governor-polis-orders-flags-lowered-honor-911-anniversary'"
      ]
     },
     "execution_count": 40,
     "metadata": {},
     "output_type": "execute_result"
    },
    {
     "data": {
      "text/plain": [
       "'content already existing for https://www.colorado.gov/governor/news/10686-governor-polis-orders-flags-lowered-honor-911-anniversary'"
      ]
     },
     "execution_count": 40,
     "metadata": {},
     "output_type": "execute_result"
    },
    {
     "data": {
      "text/plain": [
       "'success: content added from https://www.colorado.gov/governor/news/10696-governor-polis-takes-action-support-ongoing-recovery-rebuilding-efforts-wildfires'"
      ]
     },
     "execution_count": 40,
     "metadata": {},
     "output_type": "execute_result"
    },
    {
     "data": {
      "text/plain": [
       "'success: content added from https://www.colorado.gov/governor/news/10681-governor-jared-polis-and-mayor-mike-johnston-partnership-counterterrorism-education'"
      ]
     },
     "execution_count": 40,
     "metadata": {},
     "output_type": "execute_result"
    },
    {
     "data": {
      "text/plain": [
       "'success: content added from https://www.colorado.gov/governor/news/10676-governor-polis-takes-executive-action-expand-access-work-based-learning-opportunities'"
      ]
     },
     "execution_count": 40,
     "metadata": {},
     "output_type": "execute_result"
    },
    {
     "data": {
      "text/plain": [
       "'success: content added from https://www.colorado.gov/governor/news/10721-governor-polis-announces-colorado-author-new-poet-laureate'"
      ]
     },
     "execution_count": 40,
     "metadata": {},
     "output_type": "execute_result"
    },
    {
     "data": {
      "text/plain": [
       "'success: content added from https://www.colorado.gov/governor/news/10671-lt-governor-primavera-tests-positive-covid-19-will-continue-duties-lt-governor-while'"
      ]
     },
     "execution_count": 40,
     "metadata": {},
     "output_type": "execute_result"
    },
    {
     "data": {
      "text/plain": [
       "'success: content added from https://www.colorado.gov/governor/news/10656-governor-polis-releases-statement-absurd-potential-irs-decision'"
      ]
     },
     "execution_count": 40,
     "metadata": {},
     "output_type": "execute_result"
    },
    {
     "data": {
      "text/plain": [
       "'success: content added from https://www.colorado.gov/governor/news/10651-biden-administration-recognizes-colorados-first-nation-health-cost-savings-program-and'"
      ]
     },
     "execution_count": 40,
     "metadata": {},
     "output_type": "execute_result"
    },
    {
     "data": {
      "text/plain": [
       "'success: content added from https://www.colorado.gov/governor/news/10646-colorado-expands-access-mobile-behavioral-health-services'"
      ]
     },
     "execution_count": 40,
     "metadata": {},
     "output_type": "execute_result"
    },
    {
     "data": {
      "text/plain": [
       "'success: content added from https://www.colorado.gov/governor/news/10641-more-470000-raised-benefit-colorado-youth-during-colorados-electric-cooperatives-junior'"
      ]
     },
     "execution_count": 40,
     "metadata": {},
     "output_type": "execute_result"
    },
    {
     "data": {
      "text/plain": [
       "'success: content added from https://www.colorado.gov/governor/news/10636-stoke-pizza-wins-golden-plate-award-2023-governors-plate-competition'"
      ]
     },
     "execution_count": 40,
     "metadata": {},
     "output_type": "execute_result"
    },
    {
     "data": {
      "text/plain": [
       "'content already existing for https://www.colorado.gov/governor/news/10636-stoke-pizza-wins-golden-plate-award-2023-governors-plate-competition'"
      ]
     },
     "execution_count": 40,
     "metadata": {},
     "output_type": "execute_result"
    },
    {
     "data": {
      "text/plain": [
       "'success: content added from https://www.colorado.gov/governor/news/10631-lt-governor-primavera-attends-white-house-event-lowering-health-care-costs'"
      ]
     },
     "execution_count": 40,
     "metadata": {},
     "output_type": "execute_result"
    },
    {
     "data": {
      "text/plain": [
       "'success: content added from https://www.colorado.gov/governor/news/10621-serve-colorado-announces-fall-grant-competition-americorps-programs'"
      ]
     },
     "execution_count": 40,
     "metadata": {},
     "output_type": "execute_result"
    },
    {
     "data": {
      "text/plain": [
       "'success: content added from https://www.colorado.gov/governor/news/10626-polis-administration-colorado-department-public-safety-announces-office-school-safety'"
      ]
     },
     "execution_count": 40,
     "metadata": {},
     "output_type": "execute_result"
    },
    {
     "data": {
      "text/plain": [
       "'success: content added from https://www.colorado.gov/governor/news/10616-creating-more-housing-options-polis-administration-announces-latest-ihip-grant'"
      ]
     },
     "execution_count": 40,
     "metadata": {},
     "output_type": "execute_result"
    },
    {
     "data": {
      "text/plain": [
       "'success: content added from https://www.colorado.gov/governor/news/10611-governor-polis-releases-statement-white-house-disaster-declaration'"
      ]
     },
     "execution_count": 40,
     "metadata": {},
     "output_type": "execute_result"
    },
    {
     "data": {
      "text/plain": [
       "'success: content added from https://www.colorado.gov/governor/news/10606-gov-polis-announces-boards-and-commissions-appointments'"
      ]
     },
     "execution_count": 40,
     "metadata": {},
     "output_type": "execute_result"
    },
    {
     "data": {
      "text/plain": [
       "'success: content added from https://www.colorado.gov/governor/news/10601-under-polis-administration-cdot-working-complete-high-country-road-repairs-winter'"
      ]
     },
     "execution_count": 40,
     "metadata": {},
     "output_type": "execute_result"
    },
    {
     "data": {
      "text/plain": [
       "'success: content added from https://www.colorado.gov/governor/news/10596-governor-polis-takes-action-response-lowline-fire-gunnison-county'"
      ]
     },
     "execution_count": 40,
     "metadata": {},
     "output_type": "execute_result"
    },
    {
     "data": {
      "text/plain": [
       "'success: content added from https://www.colorado.gov/governor/news/10591-colorado-aerospace-industry-continues-grow-polis-primavera-administration-secures'"
      ]
     },
     "execution_count": 40,
     "metadata": {},
     "output_type": "execute_result"
    },
    {
     "data": {
      "text/plain": [
       "'success: content added from https://www.colorado.gov/governor/news/10586-gov-polis-cpw-announce-2023-human-bear-conflict-reduction-grant-recipients-working-keep'"
      ]
     },
     "execution_count": 40,
     "metadata": {},
     "output_type": "execute_result"
    },
    {
     "data": {
      "text/plain": [
       "'content already existing for https://www.colorado.gov/governor/news/10586-gov-polis-cpw-announce-2023-human-bear-conflict-reduction-grant-recipients-working-keep'"
      ]
     },
     "execution_count": 40,
     "metadata": {},
     "output_type": "execute_result"
    },
    {
     "data": {
      "text/plain": [
       "'success: content added from https://www.colorado.gov/governor/news/10581-governor-polis-takes-action-help-address-colorados-housing-challenges'"
      ]
     },
     "execution_count": 40,
     "metadata": {},
     "output_type": "execute_result"
    },
    {
     "data": {
      "text/plain": [
       "'success: content added from https://www.colorado.gov/governor/news/10576-gov-polis-colorado-parks-and-wildlife-outdoor-equity-grant-program-will-distribute-2'"
      ]
     },
     "execution_count": 40,
     "metadata": {},
     "output_type": "execute_result"
    },
    {
     "data": {
      "text/plain": [
       "'success: content added from https://www.colorado.gov/governor/news/10571-colorados-unemployment-rate-remains-below-30-15-consecutive-months-highest-labor-force'"
      ]
     },
     "execution_count": 40,
     "metadata": {},
     "output_type": "execute_result"
    },
    {
     "data": {
      "text/plain": [
       "'success: content added from https://www.colorado.gov/governor/news/10566-governor-polis-appoints-magistrate-ryan-p-loewer-1st-judicial-district-court-bench'"
      ]
     },
     "execution_count": 40,
     "metadata": {},
     "output_type": "execute_result"
    },
    {
     "data": {
      "text/plain": [
       "'success: content added from https://www.colorado.gov/governor/news/10561-governor-polis-state-lawmakers-alarmed-recent-challenges-coloradans-have-faced-hoas'"
      ]
     },
     "execution_count": 40,
     "metadata": {},
     "output_type": "execute_result"
    },
    {
     "data": {
      "text/plain": [
       "'success: content added from https://www.colorado.gov/governor/news/10556-positioning-colorado-regional-technology-and-innovation-hub-polis-administrations'"
      ]
     },
     "execution_count": 40,
     "metadata": {},
     "output_type": "execute_result"
    },
    {
     "data": {
      "text/plain": [
       "'success: content added from https://www.colorado.gov/governor/news/10551-gov-polis-and-colorado-parks-and-wildlife-highlight-free-entry-day-all-state-parks-and'"
      ]
     },
     "execution_count": 40,
     "metadata": {},
     "output_type": "execute_result"
    },
    {
     "data": {
      "text/plain": [
       "'success: content added from https://www.colorado.gov/governor/news/10546-governor-polis-appoints-amy-danielle-touart-arapahoe-county-court'"
      ]
     },
     "execution_count": 40,
     "metadata": {},
     "output_type": "execute_result"
    },
    {
     "data": {
      "text/plain": [
       "'success: content added from https://www.colorado.gov/governor/news/10541-supporting-small-businesses-across-colorado-polis-administration-awards-40-digital'"
      ]
     },
     "execution_count": 40,
     "metadata": {},
     "output_type": "execute_result"
    },
    {
     "data": {
      "text/plain": [
       "'success: content added from https://www.colorado.gov/governor/news/10536-governors-plate-colorado-state-fair-grand-junction-pueblo-edgewater-castle-rock'"
      ]
     },
     "execution_count": 40,
     "metadata": {},
     "output_type": "execute_result"
    },
    {
     "data": {
      "text/plain": [
       "'content already existing for https://www.colorado.gov/governor/news/10536-governors-plate-colorado-state-fair-grand-junction-pueblo-edgewater-castle-rock'"
      ]
     },
     "execution_count": 40,
     "metadata": {},
     "output_type": "execute_result"
    },
    {
     "data": {
      "text/plain": [
       "'success: content added from https://www.colorado.gov/governor/news/10531-gov-polis-announces-boards-and-commissions-appointments'"
      ]
     },
     "execution_count": 40,
     "metadata": {},
     "output_type": "execute_result"
    },
    {
     "data": {
      "text/plain": [
       "'success: content added from https://www.colorado.gov/governor/news/10526-polis-primavera-administration-applauds-decision-retain-us-space-command-colorado'"
      ]
     },
     "execution_count": 40,
     "metadata": {},
     "output_type": "execute_result"
    },
    {
     "data": {
      "text/plain": [
       "'success: content added from https://www.colorado.gov/governor/news/10521-celebrate-colorado-governor-polis-highlights-full-week-events-celebrate-147th-annual'"
      ]
     },
     "execution_count": 40,
     "metadata": {},
     "output_type": "execute_result"
    },
    {
     "data": {
      "text/plain": [
       "'success: content added from https://www.colorado.gov/governor/news/10516-governor-polis-takes-action-response-fires-garfield-and-las-animas-counties'"
      ]
     },
     "execution_count": 40,
     "metadata": {},
     "output_type": "execute_result"
    },
    {
     "data": {
      "text/plain": [
       "'success: content added from https://www.colorado.gov/governor/news/10511-growing-colorados-semiconductor-industry-polis-administration-capturing-federal-chips'"
      ]
     },
     "execution_count": 40,
     "metadata": {},
     "output_type": "execute_result"
    },
    {
     "data": {
      "text/plain": [
       "'success: content added from https://www.colorado.gov/governor/news/10506-polis-administration-announces-bustang-cutting-fares-half-through-september'"
      ]
     },
     "execution_count": 40,
     "metadata": {},
     "output_type": "execute_result"
    },
    {
     "data": {
      "text/plain": [
       "'success: content added from https://www.colorado.gov/governor/news/10501-polis-administration-secures-global-solar-manufacturer-colorado-springs-expansion-job'"
      ]
     },
     "execution_count": 40,
     "metadata": {},
     "output_type": "execute_result"
    },
    {
     "data": {
      "text/plain": [
       "'success: content added from https://www.colorado.gov/governor/news/10496-governor-polis-takes-action-response-extreme-weather'"
      ]
     },
     "execution_count": 40,
     "metadata": {},
     "output_type": "execute_result"
    },
    {
     "data": {
      "text/plain": [
       "'success: content added from https://www.colorado.gov/governor/news/10491-private-sector-jobs-grow-third-straight-month-colorados-unemployment-rate-remains-well'"
      ]
     },
     "execution_count": 40,
     "metadata": {},
     "output_type": "execute_result"
    },
    {
     "data": {
      "text/plain": [
       "'success: content added from https://www.colorado.gov/governor/news/10486-governor-polis-cheers-team-usa-womens-world-cup-game'"
      ]
     },
     "execution_count": 40,
     "metadata": {},
     "output_type": "execute_result"
    },
    {
     "data": {
      "text/plain": [
       "'content already existing for https://www.colorado.gov/governor/news/10486-governor-polis-cheers-team-usa-womens-world-cup-game'"
      ]
     },
     "execution_count": 40,
     "metadata": {},
     "output_type": "execute_result"
    },
    {
     "data": {
      "text/plain": [
       "'success: content added from https://www.colorado.gov/governor/news/10476-polis-administration-announces-37-colorado-communities-receive-funding-roads'"
      ]
     },
     "execution_count": 40,
     "metadata": {},
     "output_type": "execute_result"
    },
    {
     "data": {
      "text/plain": [
       "'success: content added from https://www.colorado.gov/governor/news/10471-governor-polis-thanks-state-cio-and-oit-executive-director-anthony-neal-graves-following'"
      ]
     },
     "execution_count": 40,
     "metadata": {},
     "output_type": "execute_result"
    },
    {
     "data": {
      "text/plain": [
       "'success: content added from https://www.colorado.gov/governor/news/10466-colorado-launches-free-training-demand-jobs'"
      ]
     },
     "execution_count": 40,
     "metadata": {},
     "output_type": "execute_result"
    },
    {
     "data": {
      "text/plain": [
       "'success: content added from https://www.colorado.gov/governor/news/10461-gov-polis-announces-boards-and-commissions-appointments'"
      ]
     },
     "execution_count": 40,
     "metadata": {},
     "output_type": "execute_result"
    },
    {
     "data": {
      "text/plain": [
       "'success: content added from https://www.colorado.gov/governor/news/10456-governor-polis-congratulates-new-denver-mayor-mike-johnston-inauguration'"
      ]
     },
     "execution_count": 40,
     "metadata": {},
     "output_type": "execute_result"
    },
    {
     "data": {
      "text/plain": [
       "'success: content added from https://www.colorado.gov/governor/news/10451-governor-polis-appoints-victoria-e-klingensmith-18th-judicial-district-court'"
      ]
     },
     "execution_count": 40,
     "metadata": {},
     "output_type": "execute_result"
    },
    {
     "data": {
      "text/plain": [
       "'success: content added from https://www.colorado.gov/governor/news/10446-governor-polis-elected-vice-chair-bipartisan-national-governors-association'"
      ]
     },
     "execution_count": 40,
     "metadata": {},
     "output_type": "execute_result"
    },
    {
     "data": {
      "text/plain": [
       "'success: content added from https://www.colorado.gov/governor/news/10441-governor-polis-applauds-approval-new-over-counter-birth-control-pill-colorado-continues'"
      ]
     },
     "execution_count": 40,
     "metadata": {},
     "output_type": "execute_result"
    },
    {
     "data": {
      "text/plain": [
       "'success: content added from https://www.colorado.gov/governor/news/10436-governor-polis-highlights-opportunities-coloradans-support-local-farmers-and-ranchers'"
      ]
     },
     "execution_count": 40,
     "metadata": {},
     "output_type": "execute_result"
    },
    {
     "data": {
      "text/plain": [
       "'success: content added from https://www.colorado.gov/governor/news/10431-governor-polis-colorado-parks-and-wildlife-grow-outdoor-regional-partnerships-initiative'"
      ]
     },
     "execution_count": 40,
     "metadata": {},
     "output_type": "execute_result"
    },
    {
     "data": {
      "text/plain": [
       "'content already existing for https://www.colorado.gov/governor/news/10431-governor-polis-colorado-parks-and-wildlife-grow-outdoor-regional-partnerships-initiative'"
      ]
     },
     "execution_count": 40,
     "metadata": {},
     "output_type": "execute_result"
    },
    {
     "data": {
      "text/plain": [
       "'success: content added from https://www.colorado.gov/governor/news/10426-polis-administration-department-local-affairs-awards-more-48m-third-round'"
      ]
     },
     "execution_count": 40,
     "metadata": {},
     "output_type": "execute_result"
    },
    {
     "data": {
      "text/plain": [
       "'success: content added from https://www.colorado.gov/governor/news/10421-governor-polis-welcomes-taylor-swift-back-colorado-ahead-two-sold-out-shows'"
      ]
     },
     "execution_count": 40,
     "metadata": {},
     "output_type": "execute_result"
    },
    {
     "data": {
      "text/plain": [
       "'success: content added from https://www.colorado.gov/governor/news/10416-governor-polis-appoints-mark-ferrandino-lead-office-state-planning-and-budget'"
      ]
     },
     "execution_count": 40,
     "metadata": {},
     "output_type": "execute_result"
    },
    {
     "data": {
      "text/plain": [
       "'success: content added from https://www.colorado.gov/governor/news/10411-governor-polis-sen-bennet-rep-neguse-state-rep-titone-federal-and-local-officials-share'"
      ]
     },
     "execution_count": 40,
     "metadata": {},
     "output_type": "execute_result"
    },
    {
     "data": {
      "text/plain": [
       "'success: content added from https://www.colorado.gov/governor/news/10406-colorado-department-early-childhood-awards-153-million-1141-universal-preschool-colorado'"
      ]
     },
     "execution_count": 40,
     "metadata": {},
     "output_type": "execute_result"
    },
    {
     "data": {
      "text/plain": [
       "'success: content added from https://www.colorado.gov/governor/news/10401-governor-polis-appoints-christopher-b-rhamey-1st-judicial-district-court'"
      ]
     },
     "execution_count": 40,
     "metadata": {},
     "output_type": "execute_result"
    },
    {
     "data": {
      "text/plain": [
       "'success: content added from https://www.colorado.gov/governor/news/10396-governor-polis-misguided-us-supreme-court-ruling-attacks-freedom'"
      ]
     },
     "execution_count": 40,
     "metadata": {},
     "output_type": "execute_result"
    },
    {
     "data": {
      "text/plain": [
       "'success: content added from https://www.colorado.gov/governor/news/10391-gov-polis-announces-boards-and-commissions-appointments'"
      ]
     },
     "execution_count": 40,
     "metadata": {},
     "output_type": "execute_result"
    },
    {
     "data": {
      "text/plain": [
       "'success: content added from https://www.colorado.gov/governor/news/10386-delivering-real-results-coloradans-gov-polis-celebrates-bold-action-improve-education'"
      ]
     },
     "execution_count": 40,
     "metadata": {},
     "output_type": "execute_result"
    },
    {
     "data": {
      "text/plain": [
       "'success: content added from https://www.colorado.gov/governor/news/10381-colorado-announces-presidential-primary-date-2024'"
      ]
     },
     "execution_count": 40,
     "metadata": {},
     "output_type": "execute_result"
    },
    {
     "data": {
      "text/plain": [
       "'content already existing for https://www.colorado.gov/governor/news/10381-colorado-announces-presidential-primary-date-2024'"
      ]
     },
     "execution_count": 40,
     "metadata": {},
     "output_type": "execute_result"
    },
    {
     "data": {
      "text/plain": [
       "'success: content added from https://www.colorado.gov/governor/news/10376-wyoming-and-colorado-sign-memorandum-understanding-regarding-direct-air-capture'"
      ]
     },
     "execution_count": 40,
     "metadata": {},
     "output_type": "execute_result"
    },
    {
     "data": {
      "text/plain": [
       "'success: content added from https://www.colorado.gov/governor/news/10371-harnessing-heat-beneath-our-feet-renewable-energy-new-report-western-governors'"
      ]
     },
     "execution_count": 40,
     "metadata": {},
     "output_type": "execute_result"
    },
    {
     "data": {
      "text/plain": [
       "'success: content added from https://www.colorado.gov/governor/news/10366-polis-administration-continues-support-colorados-outdoor-industry-orec-announces-third'"
      ]
     },
     "execution_count": 40,
     "metadata": {},
     "output_type": "execute_result"
    },
    {
     "data": {
      "text/plain": [
       "'success: content added from https://www.colorado.gov/governor/news/10361-polis-bennet-hickenlooper-welcome-over-826-million-broadband-equity-access-and'"
      ]
     },
     "execution_count": 40,
     "metadata": {},
     "output_type": "execute_result"
    },
    {
     "data": {
      "text/plain": [
       "'success: content added from https://www.colorado.gov/governor/news/10356-governor-polis-welcomes-bipartisan-western-governors-colorado-chair-western-governors'"
      ]
     },
     "execution_count": 40,
     "metadata": {},
     "output_type": "execute_result"
    },
    {
     "data": {
      "text/plain": [
       "'success: content added from https://www.colorado.gov/governor/news/10351-supporting-demand-jobs-gov-polis-announces-46-opportunity-now-colorado-grant-recipients'"
      ]
     },
     "execution_count": 40,
     "metadata": {},
     "output_type": "execute_result"
    },
    {
     "data": {
      "text/plain": [
       "'success: content added from https://www.colorado.gov/governor/news/10346-governor-polis-appoints-elise-v-myer-9th-judicial-district-court'"
      ]
     },
     "execution_count": 40,
     "metadata": {},
     "output_type": "execute_result"
    },
    {
     "data": {
      "text/plain": [
       "'success: content added from https://www.colorado.gov/governor/news/10341-governor-polis-announces-senior-staff-updates'"
      ]
     },
     "execution_count": 40,
     "metadata": {},
     "output_type": "execute_result"
    },
    {
     "data": {
      "text/plain": [
       "'success: content added from https://www.colorado.gov/governor/news/10336-economic-forecast-shows-colorados-strong-economy-continues-grow-under-polis'"
      ]
     },
     "execution_count": 40,
     "metadata": {},
     "output_type": "execute_result"
    },
    {
     "data": {
      "text/plain": [
       "'success: content added from https://www.colorado.gov/governor/news/10331-colorados-economy-strong-under-polis-administration-labor-force-participation-rate'"
      ]
     },
     "execution_count": 40,
     "metadata": {},
     "output_type": "execute_result"
    },
    {
     "data": {
      "text/plain": [
       "'content already existing for https://www.colorado.gov/governor/news/10331-colorados-economy-strong-under-polis-administration-labor-force-participation-rate'"
      ]
     },
     "execution_count": 40,
     "metadata": {},
     "output_type": "execute_result"
    },
    {
     "data": {
      "text/plain": [
       "'success: content added from https://www.colorado.gov/governor/news/10326-office-ehealth-innovation-joins-national-efforts-support-cancer-treatment-and-health'"
      ]
     },
     "execution_count": 40,
     "metadata": {},
     "output_type": "execute_result"
    },
    {
     "data": {
      "text/plain": [
       "'success: content added from https://www.colorado.gov/governor/news/10311-governor-polis-promotes-opportunity-young-adults-highlights-success-big-blur'"
      ]
     },
     "execution_count": 40,
     "metadata": {},
     "output_type": "execute_result"
    },
    {
     "data": {
      "text/plain": [
       "'success: content added from https://www.colorado.gov/governor/news/10301-polis-administration-department-local-affairs-announce-funding-mobile-home-park-resident'"
      ]
     },
     "execution_count": 40,
     "metadata": {},
     "output_type": "execute_result"
    },
    {
     "data": {
      "text/plain": [
       "'success: content added from https://www.colorado.gov/governor/news/10321-governor-polis-marks-conclusion-bill-signing-period-following-landmark-legislative'"
      ]
     },
     "execution_count": 40,
     "metadata": {},
     "output_type": "execute_result"
    },
    {
     "data": {
      "text/plain": [
       "'success: content added from https://www.colorado.gov/governor/news/10316-governor-polis-signs-bills-law'"
      ]
     },
     "execution_count": 40,
     "metadata": {},
     "output_type": "execute_result"
    },
    {
     "data": {
      "text/plain": [
       "'success: content added from https://www.colorado.gov/governor/news/10296-governor-polis-takes-action-bills'"
      ]
     },
     "execution_count": 40,
     "metadata": {},
     "output_type": "execute_result"
    },
    {
     "data": {
      "text/plain": [
       "'success: content added from https://www.colorado.gov/governor/news/10306-governor-polis-appoints-laqunya-l-baker-and-jacob-edson-18th-judicial-district-court'"
      ]
     },
     "execution_count": 40,
     "metadata": {},
     "output_type": "execute_result"
    },
    {
     "data": {
      "text/plain": [
       "'success: content added from https://www.colorado.gov/governor/news/10286-governor-polis-signing-bills-law-help-support-youth-mental-health-foster-youth-grow'"
      ]
     },
     "execution_count": 40,
     "metadata": {},
     "output_type": "execute_result"
    },
    {
     "data": {
      "text/plain": [
       "'success: content added from https://www.colorado.gov/governor/news/10281-governors-office-releases-statement'"
      ]
     },
     "execution_count": 40,
     "metadata": {},
     "output_type": "execute_result"
    },
    {
     "data": {
      "text/plain": [
       "'success: content added from https://www.colorado.gov/governor/news/10291-governor-polis-signs-bipartisan-bills-law-eastern-colorado'"
      ]
     },
     "execution_count": 40,
     "metadata": {},
     "output_type": "execute_result"
    },
    {
     "data": {
      "text/plain": [
       "'content already existing for https://www.colorado.gov/governor/news/10291-governor-polis-signs-bipartisan-bills-law-eastern-colorado'"
      ]
     },
     "execution_count": 40,
     "metadata": {},
     "output_type": "execute_result"
    },
    {
     "data": {
      "text/plain": [
       "'success: content added from https://www.colorado.gov/governor/news/10276-what-theyre-saying-about-new-laws-signed-improve-public-safety'"
      ]
     },
     "execution_count": 40,
     "metadata": {},
     "output_type": "execute_result"
    },
    {
     "data": {
      "text/plain": [
       "'success: content added from https://www.colorado.gov/governor/news/10271-gov-polis-signs-bills-law'"
      ]
     },
     "execution_count": 40,
     "metadata": {},
     "output_type": "execute_result"
    },
    {
     "data": {
      "text/plain": [
       "'success: content added from https://www.colorado.gov/governor/news/10266-gov-polis-signing-bills-law-improve-public-safety'"
      ]
     },
     "execution_count": 40,
     "metadata": {},
     "output_type": "execute_result"
    },
    {
     "data": {
      "text/plain": [
       "'success: content added from https://www.colorado.gov/governor/news/10261-governor-polis-recognizes-national-gun-violence-awareness-day-and-takes-action-keep'"
      ]
     },
     "execution_count": 40,
     "metadata": {},
     "output_type": "execute_result"
    },
    {
     "data": {
      "text/plain": [
       "'success: content added from https://www.colorado.gov/governor/news/10256-governor-polis-signs-bills-law'"
      ]
     },
     "execution_count": 40,
     "metadata": {},
     "output_type": "execute_result"
    },
    {
     "data": {
      "text/plain": [
       "'success: content added from https://www.colorado.gov/governor/news/10251-governor-polis-congratulates-former-state-rep-daneya-esgar-pueblo-county-commissioner'"
      ]
     },
     "execution_count": 40,
     "metadata": {},
     "output_type": "execute_result"
    },
    {
     "data": {
      "text/plain": [
       "'success: content added from https://www.colorado.gov/governor/news/10246-governor-polis-appoints-tayler-m-thomas-10th-judicial-district-court'"
      ]
     },
     "execution_count": 40,
     "metadata": {},
     "output_type": "execute_result"
    },
    {
     "data": {
      "text/plain": [
       "'success: content added from https://www.colorado.gov/governor/news/10241-continuing-boost-student-math-achievement-save-schools-money-polis-administration'"
      ]
     },
     "execution_count": 40,
     "metadata": {},
     "output_type": "execute_result"
    },
    {
     "data": {
      "text/plain": [
       "'success: content added from https://www.colorado.gov/governor/news/10236-continuing-make-sure-coloradans-can-access-high-quality-affordable-health-care'"
      ]
     },
     "execution_count": 40,
     "metadata": {},
     "output_type": "execute_result"
    },
    {
     "data": {
      "text/plain": [
       "'success: content added from https://www.colorado.gov/governor/news/10231-keeping-public-pools-open-governor-polis-dola-and-cdle-announce-grantees-lifeguard'"
      ]
     },
     "execution_count": 40,
     "metadata": {},
     "output_type": "execute_result"
    },
    {
     "data": {
      "text/plain": [
       "'content already existing for https://www.colorado.gov/governor/news/10231-keeping-public-pools-open-governor-polis-dola-and-cdle-announce-grantees-lifeguard'"
      ]
     },
     "execution_count": 40,
     "metadata": {},
     "output_type": "execute_result"
    },
    {
     "data": {
      "text/plain": [
       "'success: content added from https://www.colorado.gov/governor/news/10226-governor-polis-statement-welcoming-susana-cordova-incoming-colorado-commissioner'"
      ]
     },
     "execution_count": 40,
     "metadata": {},
     "output_type": "execute_result"
    },
    {
     "data": {
      "text/plain": [
       "'success: content added from https://www.colorado.gov/governor/news/10221-governor-polis-cdphe-statements-supreme-court-decision-waters-us'"
      ]
     },
     "execution_count": 40,
     "metadata": {},
     "output_type": "execute_result"
    },
    {
     "data": {
      "text/plain": [
       "'success: content added from https://www.colorado.gov/governor/news/10216-lieutenant-governor-dianne-primavera-signs-bills-law-make-sure-every-coloradan-can'"
      ]
     },
     "execution_count": 40,
     "metadata": {},
     "output_type": "execute_result"
    },
    {
     "data": {
      "text/plain": [
       "'success: content added from https://www.colorado.gov/governor/news/10206-colorado-food-trucks-invited-apply-now-2023-governors-plate-competition-colorado-state'"
      ]
     },
     "execution_count": 40,
     "metadata": {},
     "output_type": "execute_result"
    },
    {
     "data": {
      "text/plain": [
       "'success: content added from https://www.colorado.gov/governor/news/10201-colorado-launches-500000-grant-opportunity-disability-application-assistance'"
      ]
     },
     "execution_count": 40,
     "metadata": {},
     "output_type": "execute_result"
    },
    {
     "data": {
      "text/plain": [
       "'success: content added from https://www.colorado.gov/governor/news/10196-governor-polis-cdphe-statements-supreme-court-decision-waters-us'"
      ]
     },
     "execution_count": 40,
     "metadata": {},
     "output_type": "execute_result"
    },
    {
     "data": {
      "text/plain": [
       "'success: content added from https://www.colorado.gov/governor/news/10211-gov-polis-signs-bills-law'"
      ]
     },
     "execution_count": 40,
     "metadata": {},
     "output_type": "execute_result"
    },
    {
     "data": {
      "text/plain": [
       "'success: content added from https://www.colorado.gov/governor/news/10186-providing-major-property-tax-relief-homeowners-seniors-businesses-governor-polis-signs'"
      ]
     },
     "execution_count": 40,
     "metadata": {},
     "output_type": "execute_result"
    },
    {
     "data": {
      "text/plain": [
       "'success: content added from https://www.colorado.gov/governor/news/10191-gov-polis-takes-action-bills'"
      ]
     },
     "execution_count": 40,
     "metadata": {},
     "output_type": "execute_result"
    },
    {
     "data": {
      "text/plain": [
       "'success: content added from https://www.colorado.gov/governor/news/10176-making-bold-progress-towards-100-renewable-energy-2040-governor-polis-signs-bills-law'"
      ]
     },
     "execution_count": 40,
     "metadata": {},
     "output_type": "execute_result"
    },
    {
     "data": {
      "text/plain": [
       "'content already existing for https://www.colorado.gov/governor/news/10176-making-bold-progress-towards-100-renewable-energy-2040-governor-polis-signs-bills-law'"
      ]
     },
     "execution_count": 40,
     "metadata": {},
     "output_type": "execute_result"
    },
    {
     "data": {
      "text/plain": [
       "'success: content added from https://www.colorado.gov/governor/news/10181-governor-polis-delivers-cmu-commencement-addresses-signs-bills-law-grand-junction'"
      ]
     },
     "execution_count": 40,
     "metadata": {},
     "output_type": "execute_result"
    },
    {
     "data": {
      "text/plain": [
       "'success: content added from https://www.colorado.gov/governor/news/10171-gov-polis-announces-boards-and-commissions-appointments'"
      ]
     },
     "execution_count": 40,
     "metadata": {},
     "output_type": "execute_result"
    },
    {
     "data": {
      "text/plain": [
       "'success: content added from https://www.colorado.gov/governor/news/10166-governor-polis-signs-bills-law'"
      ]
     },
     "execution_count": 40,
     "metadata": {},
     "output_type": "execute_result"
    },
    {
     "data": {
      "text/plain": [
       "'success: content added from https://www.colorado.gov/governor/news/10156-governor-polis-signs-bills-law'"
      ]
     },
     "execution_count": 40,
     "metadata": {},
     "output_type": "execute_result"
    },
    {
     "data": {
      "text/plain": [
       "'success: content added from https://www.colorado.gov/governor/news/10151-governor-polis-signs-bills-law'"
      ]
     },
     "execution_count": 40,
     "metadata": {},
     "output_type": "execute_result"
    },
    {
     "data": {
      "text/plain": [
       "'success: content added from https://www.colorado.gov/governor/news/10146-governor-polis-administration-applaud-dept-energy-funding-school-mines'"
      ]
     },
     "execution_count": 40,
     "metadata": {},
     "output_type": "execute_result"
    },
    {
     "data": {
      "text/plain": [
       "'success: content added from https://www.colorado.gov/governor/news/10141-protecting-colorados-water-resources-pollinators-governor-polis-sign-bills-law'"
      ]
     },
     "execution_count": 40,
     "metadata": {},
     "output_type": "execute_result"
    },
    {
     "data": {
      "text/plain": [
       "'success: content added from https://www.colorado.gov/governor/news/10136-governor-polis-congratulates-new-colorado-springs-mayor-yemi-mobolade-thanks-coloradans'"
      ]
     },
     "execution_count": 40,
     "metadata": {},
     "output_type": "execute_result"
    },
    {
     "data": {
      "text/plain": [
       "'success: content added from https://www.colorado.gov/governor/news/10131-governor-polis-takes-action-response-gageby-creek-fire-bent-county'"
      ]
     },
     "execution_count": 40,
     "metadata": {},
     "output_type": "execute_result"
    },
    {
     "data": {
      "text/plain": [
       "'success: content added from https://www.colorado.gov/governor/news/10126-gov-polis-takes-action-bills'"
      ]
     },
     "execution_count": 40,
     "metadata": {},
     "output_type": "execute_result"
    },
    {
     "data": {
      "text/plain": [
       "'content already existing for https://www.colorado.gov/governor/news/10126-gov-polis-takes-action-bills'"
      ]
     },
     "execution_count": 40,
     "metadata": {},
     "output_type": "execute_result"
    },
    {
     "data": {
      "text/plain": [
       "'success: content added from https://www.colorado.gov/governor/news/10121-governor-polis-signing-bills-help-fill-high-demand-jobs-increase-training-education-and'"
      ]
     },
     "execution_count": 40,
     "metadata": {},
     "output_type": "execute_result"
    },
    {
     "data": {
      "text/plain": [
       "'success: content added from https://www.colorado.gov/governor/news/10116-governors-creative-leadership-awards-recognize-excellence-creative-industries'"
      ]
     },
     "execution_count": 40,
     "metadata": {},
     "output_type": "execute_result"
    },
    {
     "data": {
      "text/plain": [
       "'success: content added from https://www.colorado.gov/governor/news/10106-governor-polis-signs-bills-law'"
      ]
     },
     "execution_count": 40,
     "metadata": {},
     "output_type": "execute_result"
    },
    {
     "data": {
      "text/plain": [
       "'success: content added from https://www.colorado.gov/governor/news/10101-governor-polis-signing-laws-boost-student-achievement-support-colorado-schools'"
      ]
     },
     "execution_count": 40,
     "metadata": {},
     "output_type": "execute_result"
    },
    {
     "data": {
      "text/plain": [
       "'success: content added from https://www.colorado.gov/governor/news/10111-colorado-disability-funding-committee-releases-casa-bonita-south-park-license-plate'"
      ]
     },
     "execution_count": 40,
     "metadata": {},
     "output_type": "execute_result"
    },
    {
     "data": {
      "text/plain": [
       "'success: content added from https://www.colorado.gov/governor/news/10096-governor-polis-releases-statement-following-us-supreme-court-ruling-proposition-12'"
      ]
     },
     "execution_count": 40,
     "metadata": {},
     "output_type": "execute_result"
    },
    {
     "data": {
      "text/plain": [
       "'success: content added from https://www.colorado.gov/governor/news/10091-governor-polis-cdle-dola-open-applications-lifeguard-training-initiative'"
      ]
     },
     "execution_count": 40,
     "metadata": {},
     "output_type": "execute_result"
    },
    {
     "data": {
      "text/plain": [
       "'success: content added from https://www.colorado.gov/governor/news/10086-gov-polis-signs-bills-law'"
      ]
     },
     "execution_count": 40,
     "metadata": {},
     "output_type": "execute_result"
    },
    {
     "data": {
      "text/plain": [
       "'success: content added from https://www.colorado.gov/governor/news/10081-continuing-prepare-prevent-respond-wildfires-governor-polis-signs-bills-law'"
      ]
     },
     "execution_count": 40,
     "metadata": {},
     "output_type": "execute_result"
    },
    {
     "data": {
      "text/plain": [
       "'success: content added from https://www.colorado.gov/governor/news/10076-saving-people-money-energy-governor-polis-signs-bills-law'"
      ]
     },
     "execution_count": 40,
     "metadata": {},
     "output_type": "execute_result"
    },
    {
     "data": {
      "text/plain": [
       "'content already existing for https://www.colorado.gov/governor/news/10076-saving-people-money-energy-governor-polis-signs-bills-law'"
      ]
     },
     "execution_count": 40,
     "metadata": {},
     "output_type": "execute_result"
    },
    {
     "data": {
      "text/plain": [
       "'success: content added from https://www.colorado.gov/governor/news/10071-saving-people-money-health-care-governor-polis-signs-bills-law'"
      ]
     },
     "execution_count": 40,
     "metadata": {},
     "output_type": "execute_result"
    },
    {
     "data": {
      "text/plain": [
       "'success: content added from https://www.colorado.gov/governor/news/10066-legislative-leadership-gov-polis-lt-gov-primavera-highlight-historic-legislative-session'"
      ]
     },
     "execution_count": 40,
     "metadata": {},
     "output_type": "execute_result"
    },
    {
     "data": {
      "text/plain": [
       "'success: content added from https://www.colorado.gov/governor/news/10051-mayor-hancock-gov-polis-urge-dept-homeland-security-take-action-title-42-expires'"
      ]
     },
     "execution_count": 40,
     "metadata": {},
     "output_type": "execute_result"
    },
    {
     "data": {
      "text/plain": [
       "'success: content added from https://www.colorado.gov/governor/news/10061-gov-polis-orders-flags-lowered-honor-remember-victims-texas-tragedy'"
      ]
     },
     "execution_count": 40,
     "metadata": {},
     "output_type": "execute_result"
    },
    {
     "data": {
      "text/plain": [
       "'success: content added from https://www.colorado.gov/governor/news/10056-gov-polis-orders-flags-lowered-honor-national-fallen-firefighters-memorial-service'"
      ]
     },
     "execution_count": 40,
     "metadata": {},
     "output_type": "execute_result"
    },
    {
     "data": {
      "text/plain": [
       "'success: content added from https://www.colorado.gov/governor/news/10046-governor-polis-appoints-jeremy-p-boyce-16th-judicial-district'"
      ]
     },
     "execution_count": 40,
     "metadata": {},
     "output_type": "execute_result"
    },
    {
     "data": {
      "text/plain": [
       "'success: content added from https://www.colorado.gov/governor/news/10161-governor-polis-signs-bills-law'"
      ]
     },
     "execution_count": 40,
     "metadata": {},
     "output_type": "execute_result"
    },
    {
     "data": {
      "text/plain": [
       "'success: content added from https://www.colorado.gov/governor/news/10041-may-4th-be-you-star-wars-license-plate-auction-launches-benefit-states-disability'"
      ]
     },
     "execution_count": 40,
     "metadata": {},
     "output_type": "execute_result"
    },
    {
     "data": {
      "text/plain": [
       "'success: content added from https://www.colorado.gov/governor/news/10036-securing-today-investing-tomorrow-governor-polis-signs-bills-law-including-fiscally'"
      ]
     },
     "execution_count": 40,
     "metadata": {},
     "output_type": "execute_result"
    },
    {
     "data": {
      "text/plain": [
       "'success: content added from https://www.colorado.gov/governor/news/10031-gov-polis-legislative-leaders-announce-plan-cut-property-taxes-saving-coloradans-money'"
      ]
     },
     "execution_count": 40,
     "metadata": {},
     "output_type": "execute_result"
    },
    {
     "data": {
      "text/plain": [
       "'content already existing for https://www.colorado.gov/governor/news/10031-gov-polis-legislative-leaders-announce-plan-cut-property-taxes-saving-coloradans-money'"
      ]
     },
     "execution_count": 40,
     "metadata": {},
     "output_type": "execute_result"
    },
    {
     "data": {
      "text/plain": [
       "'success: content added from https://www.colorado.gov/governor/news/10026-governor-polis-signs-bills-law'"
      ]
     },
     "execution_count": 40,
     "metadata": {},
     "output_type": "execute_result"
    },
    {
     "data": {
      "text/plain": [
       "'success: content added from https://www.colorado.gov/governor/news/10021-governor-polis-signs-bills-law'"
      ]
     },
     "execution_count": 40,
     "metadata": {},
     "output_type": "execute_result"
    },
    {
     "data": {
      "text/plain": [
       "'success: content added from https://www.colorado.gov/governor/news/10011-governor-polis-signs-bills-law'"
      ]
     },
     "execution_count": 40,
     "metadata": {},
     "output_type": "execute_result"
    },
    {
     "data": {
      "text/plain": [
       "'success: content added from https://www.colorado.gov/governor/news/10006-governor-polis-signs-legislation-law'"
      ]
     },
     "execution_count": 40,
     "metadata": {},
     "output_type": "execute_result"
    },
    {
     "data": {
      "text/plain": [
       "'success: content added from https://www.colorado.gov/governor/news/10001-nearly-25000-families-matched-provider-first-round-universal-preschool-colorado-saving'"
      ]
     },
     "execution_count": 40,
     "metadata": {},
     "output_type": "execute_result"
    },
    {
     "data": {
      "text/plain": [
       "'success: content added from https://www.colorado.gov/governor/news/9996-governor-polis-welcomes-cities-summit-americas-biennial-americas-colorado'"
      ]
     },
     "execution_count": 40,
     "metadata": {},
     "output_type": "execute_result"
    },
    {
     "data": {
      "text/plain": [
       "'success: content added from https://www.colorado.gov/governor/news/9991-boosting-colorados-strong-agriculture-industry-governor-polis-signs-bipartisan'"
      ]
     },
     "execution_count": 40,
     "metadata": {},
     "output_type": "execute_result"
    },
    {
     "data": {
      "text/plain": [
       "'success: content added from https://www.colorado.gov/governor/news/9986-colorado-continues-encourage-small-business-growth-through-grant-funding-oedit-awards-40'"
      ]
     },
     "execution_count": 40,
     "metadata": {},
     "output_type": "execute_result"
    },
    {
     "data": {
      "text/plain": [
       "'success: content added from https://www.colorado.gov/governor/news/9981-polis-administration-announces-cannabis-business-office-partners-nuproject-launch'"
      ]
     },
     "execution_count": 40,
     "metadata": {},
     "output_type": "execute_result"
    },
    {
     "data": {
      "text/plain": [
       "'success: content added from https://www.colorado.gov/governor/news/10016-building-colorado-all-colorado-auctions-rights-20-cannabis-themed-license-plates-benefit'"
      ]
     },
     "execution_count": 40,
     "metadata": {},
     "output_type": "execute_result"
    },
    {
     "data": {
      "text/plain": [
       "'content already existing for https://www.colorado.gov/governor/news/10016-building-colorado-all-colorado-auctions-rights-20-cannabis-themed-license-plates-benefit'"
      ]
     },
     "execution_count": 40,
     "metadata": {},
     "output_type": "execute_result"
    },
    {
     "data": {
      "text/plain": [
       "'success: content added from https://www.colorado.gov/governor/news/9971-colorados-unemployment-rate-below-national-average-and-more-women-returning-workforce'"
      ]
     },
     "execution_count": 40,
     "metadata": {},
     "output_type": "execute_result"
    },
    {
     "data": {
      "text/plain": [
       "'success: content added from https://www.colorado.gov/governor/news/9966-governor-polis-signs-bills-law'"
      ]
     },
     "execution_count": 40,
     "metadata": {},
     "output_type": "execute_result"
    },
    {
     "data": {
      "text/plain": [
       "'success: content added from https://www.colorado.gov/governor/news/9976-polis-administration-invest-45-million-restore-roads-after-especially-harsh-winter'"
      ]
     },
     "execution_count": 40,
     "metadata": {},
     "output_type": "execute_result"
    },
    {
     "data": {
      "text/plain": [
       "'success: content added from https://www.colorado.gov/governor/news/9961-boosting-rural-colorados-strong-economy-polis-administration-announces-regional-planning'"
      ]
     },
     "execution_count": 40,
     "metadata": {},
     "output_type": "execute_result"
    },
    {
     "data": {
      "text/plain": [
       "'success: content added from https://www.colorado.gov/governor/news/9956-colorado-springs-governor-polis-lt-governor-primavera-tout-colorados-nation-leading'"
      ]
     },
     "execution_count": 40,
     "metadata": {},
     "output_type": "execute_result"
    },
    {
     "data": {
      "text/plain": [
       "'success: content added from https://www.colorado.gov/governor/news/9951-polis-primavera-administration-announces-new-addition-colorado-aerospace-industry'"
      ]
     },
     "execution_count": 40,
     "metadata": {},
     "output_type": "execute_result"
    },
    {
     "data": {
      "text/plain": [
       "'success: content added from https://www.colorado.gov/governor/news/9946-governor-announces-change-behavioral-health-administration'"
      ]
     },
     "execution_count": 40,
     "metadata": {},
     "output_type": "execute_result"
    },
    {
     "data": {
      "text/plain": [
       "'success: content added from https://www.colorado.gov/governor/news/9941-governor-polis-signs-bills-law'"
      ]
     },
     "execution_count": 40,
     "metadata": {},
     "output_type": "execute_result"
    },
    {
     "data": {
      "text/plain": [
       "'success: content added from https://www.colorado.gov/governor/news/9936-gov-polis-appoints-christian-hatfield-22nd-judicial-district-attorney-dolores-montezuma'"
      ]
     },
     "execution_count": 40,
     "metadata": {},
     "output_type": "execute_result"
    },
    {
     "data": {
      "text/plain": [
       "'success: content added from https://www.colorado.gov/governor/news/9931-gov-polis-announces-four-new-employee-owned-companies-pioneering-new-workforce-trend'"
      ]
     },
     "execution_count": 40,
     "metadata": {},
     "output_type": "execute_result"
    },
    {
     "data": {
      "text/plain": [
       "'content already existing for https://www.colorado.gov/governor/news/9931-gov-polis-announces-four-new-employee-owned-companies-pioneering-new-workforce-trend'"
      ]
     },
     "execution_count": 40,
     "metadata": {},
     "output_type": "execute_result"
    },
    {
     "data": {
      "text/plain": [
       "'success: content added from https://www.colorado.gov/governor/news/9926-governor-polis-signs-bills-law'"
      ]
     },
     "execution_count": 40,
     "metadata": {},
     "output_type": "execute_result"
    },
    {
     "data": {
      "text/plain": [
       "'success: content added from https://www.colorado.gov/governor/news/9921-governor-polis-signs-bills-law'"
      ]
     },
     "execution_count": 40,
     "metadata": {},
     "output_type": "execute_result"
    },
    {
     "data": {
      "text/plain": [
       "'success: content added from https://www.colorado.gov/governor/news/9916-gov-polis-announces-boards-and-commissions-appointments'"
      ]
     },
     "execution_count": 40,
     "metadata": {},
     "output_type": "execute_result"
    },
    {
     "data": {
      "text/plain": [
       "'success: content added from https://www.colorado.gov/governor/news/9911-governor-polis-signs-bills-law'"
      ]
     },
     "execution_count": 40,
     "metadata": {},
     "output_type": "execute_result"
    },
    {
     "data": {
      "text/plain": [
       "'success: content added from https://www.colorado.gov/governor/news/9906-governor-polis-dedicate-maj-general-maurice-rose-monument-april-16'"
      ]
     },
     "execution_count": 40,
     "metadata": {},
     "output_type": "execute_result"
    },
    {
     "data": {
      "text/plain": [
       "'success: content added from https://www.colorado.gov/governor/news/9901-gov-polis-launches-techhubnow-initiative-position-colorado-regional-technology-and'"
      ]
     },
     "execution_count": 40,
     "metadata": {},
     "output_type": "execute_result"
    },
    {
     "data": {
      "text/plain": [
       "'success: content added from https://www.colorado.gov/governor/news/9896-governor-polis-signs-bills-law'"
      ]
     },
     "execution_count": 40,
     "metadata": {},
     "output_type": "execute_result"
    },
    {
     "data": {
      "text/plain": [
       "'success: content added from https://www.colorado.gov/governor/news/9891-western-interstate-hydrogen-hub-submits-application-us-department-energy-funding-grant'"
      ]
     },
     "execution_count": 40,
     "metadata": {},
     "output_type": "execute_result"
    },
    {
     "data": {
      "text/plain": [
       "'success: content added from https://www.colorado.gov/governor/news/9886-gov-polis-announces-digital-math-accelerator-boost-student-math-achievement'"
      ]
     },
     "execution_count": 40,
     "metadata": {},
     "output_type": "execute_result"
    },
    {
     "data": {
      "text/plain": [
       "'success: content added from https://www.colorado.gov/governor/news/9881-governor-polis-releases-statement-cruel-texas-court-ruling-will-roll-back-access'"
      ]
     },
     "execution_count": 40,
     "metadata": {},
     "output_type": "execute_result"
    },
    {
     "data": {
      "text/plain": [
       "'content already existing for https://www.colorado.gov/governor/news/9881-governor-polis-releases-statement-cruel-texas-court-ruling-will-roll-back-access'"
      ]
     },
     "execution_count": 40,
     "metadata": {},
     "output_type": "execute_result"
    },
    {
     "data": {
      "text/plain": [
       "'success: content added from https://www.colorado.gov/governor/news/9876-governor-polis-appoints-monica-o-haenselman-boulder-county-court-20th-judicial-district'"
      ]
     },
     "execution_count": 40,
     "metadata": {},
     "output_type": "execute_result"
    },
    {
     "data": {
      "text/plain": [
       "'success: content added from https://www.colorado.gov/governor/news/9866-governor-polis-takes-action-response-covid-19'"
      ]
     },
     "execution_count": 40,
     "metadata": {},
     "output_type": "execute_result"
    },
    {
     "data": {
      "text/plain": [
       "'success: content added from https://www.colorado.gov/governor/news/9871-governor-polis-signs-bills-law'"
      ]
     },
     "execution_count": 40,
     "metadata": {},
     "output_type": "execute_result"
    },
    {
     "data": {
      "text/plain": [
       "'success: content added from https://www.colorado.gov/governor/news/9861-governor-polis-welcomes-first-lady-dr-jill-biden-colorado-visit-highlighting-colorados'"
      ]
     },
     "execution_count": 40,
     "metadata": {},
     "output_type": "execute_result"
    },
    {
     "data": {
      "text/plain": [
       "'success: content added from https://www.colorado.gov/governor/news/9851-lt-governor-primavera-and-brigadier-general-laura-l-clellan-announce-historic-americorps'"
      ]
     },
     "execution_count": 40,
     "metadata": {},
     "output_type": "execute_result"
    },
    {
     "data": {
      "text/plain": [
       "'success: content added from https://www.colorado.gov/governor/news/9856-lieutenant-governor-primavera-acting-governor-signs-bipartisan-legislation-law'"
      ]
     },
     "execution_count": 40,
     "metadata": {},
     "output_type": "execute_result"
    },
    {
     "data": {
      "text/plain": [
       "'success: content added from https://www.colorado.gov/governor/news/9846-increasing-access-housing-cutting-red-tape-colorado-energy-office-releases-analysis'"
      ]
     },
     "execution_count": 40,
     "metadata": {},
     "output_type": "execute_result"
    },
    {
     "data": {
      "text/plain": [
       "'success: content added from https://www.colorado.gov/governor/news/9836-colorado-aerospace-industry-continues-grow-polis-primavera-administration-announces'"
      ]
     },
     "execution_count": 40,
     "metadata": {},
     "output_type": "execute_result"
    },
    {
     "data": {
      "text/plain": [
       "'success: content added from https://www.colorado.gov/governor/news/9831-polis-administration-announces-colorado-communities-receive-millions-funding-forest'"
      ]
     },
     "execution_count": 40,
     "metadata": {},
     "output_type": "execute_result"
    },
    {
     "data": {
      "text/plain": [
       "'success: content added from https://www.colorado.gov/governor/news/9826-governor-polis-leading-colorado-investment-mission-japan'"
      ]
     },
     "execution_count": 40,
     "metadata": {},
     "output_type": "execute_result"
    },
    {
     "data": {
      "text/plain": [
       "'content already existing for https://www.colorado.gov/governor/news/9826-governor-polis-leading-colorado-investment-mission-japan'"
      ]
     },
     "execution_count": 40,
     "metadata": {},
     "output_type": "execute_result"
    },
    {
     "data": {
      "text/plain": [
       "'success: content added from https://www.colorado.gov/governor/news/9821-governor-polis-appoints-michelle-chostner-10th-judicial-district-court'"
      ]
     },
     "execution_count": 40,
     "metadata": {},
     "output_type": "execute_result"
    },
    {
     "data": {
      "text/plain": [
       "'success: content added from https://www.colorado.gov/governor/news/9816-polis-administration-continues-boost-colorados-robust-outdoor-rec-workforce-make-sure-all'"
      ]
     },
     "execution_count": 40,
     "metadata": {},
     "output_type": "execute_result"
    },
    {
     "data": {
      "text/plain": [
       "'success: content added from https://www.colorado.gov/governor/news/9811-14-centennial-state-park-pass-offers-colorado-underserved-communities-outdoor'"
      ]
     },
     "execution_count": 40,
     "metadata": {},
     "output_type": "execute_result"
    },
    {
     "data": {
      "text/plain": [
       "'success: content added from https://www.colorado.gov/governor/news/9806-14-centennial-state-park-pass-offers-colorado-underserved-communities-outdoor'"
      ]
     },
     "execution_count": 40,
     "metadata": {},
     "output_type": "execute_result"
    },
    {
     "data": {
      "text/plain": [
       "'success: content added from https://www.colorado.gov/governor/news/9801-governor-polis-appoints-john-g-scott-lake-county-court-5th-judicial-district'"
      ]
     },
     "execution_count": 40,
     "metadata": {},
     "output_type": "execute_result"
    },
    {
     "data": {
      "text/plain": [
       "'success: content added from https://www.colorado.gov/governor/news/9796-governor-polis-signs-bills-law'"
      ]
     },
     "execution_count": 40,
     "metadata": {},
     "output_type": "execute_result"
    },
    {
     "data": {
      "text/plain": [
       "'success: content added from https://www.colorado.gov/governor/news/9791-boosting-global-competitiveness-under-polis-administration-colorado-strategically'"
      ]
     },
     "execution_count": 40,
     "metadata": {},
     "output_type": "execute_result"
    },
    {
     "data": {
      "text/plain": [
       "'success: content added from https://www.colorado.gov/governor/news/9786-ag-day-gov-polis-signs-bipartisan-bill-law-support-colorados-agriculture-industry'"
      ]
     },
     "execution_count": 40,
     "metadata": {},
     "output_type": "execute_result"
    },
    {
     "data": {
      "text/plain": [
       "'success: content added from https://www.colorado.gov/governor/news/9781-governor-polis-statement-shooting-east-high-school-denver'"
      ]
     },
     "execution_count": 40,
     "metadata": {},
     "output_type": "execute_result"
    },
    {
     "data": {
      "text/plain": [
       "'success: content added from https://www.colorado.gov/governor/news/9776-legislative-leaders-gov-polis-environmental-advocates-local-government-officials-business'"
      ]
     },
     "execution_count": 40,
     "metadata": {},
     "output_type": "execute_result"
    },
    {
     "data": {
      "text/plain": [
       "'content already existing for https://www.colorado.gov/governor/news/9776-legislative-leaders-gov-polis-environmental-advocates-local-government-officials-business'"
      ]
     },
     "execution_count": 40,
     "metadata": {},
     "output_type": "execute_result"
    },
    {
     "data": {
      "text/plain": [
       "'success: content added from https://www.colorado.gov/governor/news/9766-colorado-way-what-coloradans-are-saying-about-historic-housing-plan-will-create-more'"
      ]
     },
     "execution_count": 40,
     "metadata": {},
     "output_type": "execute_result"
    },
    {
     "data": {
      "text/plain": [
       "'success: content added from https://www.colorado.gov/governor/news/9771-governor-polis-releases-statement-anniversary-boulder-shooting'"
      ]
     },
     "execution_count": 40,
     "metadata": {},
     "output_type": "execute_result"
    },
    {
     "data": {
      "text/plain": [
       "'success: content added from https://www.colorado.gov/governor/news/9761-gov-polis-signs-bipartisan-bills-law'"
      ]
     },
     "execution_count": 40,
     "metadata": {},
     "output_type": "execute_result"
    },
    {
     "data": {
      "text/plain": [
       "'success: content added from https://www.colorado.gov/governor/news/9756-economic-forecast-shows-colorados-strong-economy-continue-growing-faster-nation'"
      ]
     },
     "execution_count": 40,
     "metadata": {},
     "output_type": "execute_result"
    },
    {
     "data": {
      "text/plain": [
       "'success: content added from https://www.colorado.gov/governor/news/9751-improving-air-quality-governor-polis-directs-state-agencies-take-new-comprehensive-steps'"
      ]
     },
     "execution_count": 40,
     "metadata": {},
     "output_type": "execute_result"
    },
    {
     "data": {
      "text/plain": [
       "'success: content added from https://www.colorado.gov/governor/news/9746-polis-administration-announces-grant-recipients-support-creation-over-1000-new-affordable'"
      ]
     },
     "execution_count": 40,
     "metadata": {},
     "output_type": "execute_result"
    },
    {
     "data": {
      "text/plain": [
       "'success: content added from https://www.colorado.gov/governor/news/9741-boosting-colorados-workforce-economy-governor-polis-bipartisan-legislators-announce-bold'"
      ]
     },
     "execution_count": 40,
     "metadata": {},
     "output_type": "execute_result"
    },
    {
     "data": {
      "text/plain": [
       "'success: content added from https://www.colorado.gov/governor/news/9736-colorados-unemployment-rate-returns-pre-pandemic-levels-among-lowest-us'"
      ]
     },
     "execution_count": 40,
     "metadata": {},
     "output_type": "execute_result"
    },
    {
     "data": {
      "text/plain": [
       "'success: content added from https://www.colorado.gov/governor/news/9731-gov-polis-signs-bipartisan-bills-law-cut-red-tape-support-colorados-teachers-national'"
      ]
     },
     "execution_count": 40,
     "metadata": {},
     "output_type": "execute_result"
    },
    {
     "data": {
      "text/plain": [
       "'success: content added from https://www.colorado.gov/governor/news/9726-gov-polis-signs-bill-expanding-energy-efficient-building-upgrades-eligible-funding-saving'"
      ]
     },
     "execution_count": 40,
     "metadata": {},
     "output_type": "execute_result"
    },
    {
     "data": {
      "text/plain": [
       "'content already existing for https://www.colorado.gov/governor/news/9726-gov-polis-signs-bill-expanding-energy-efficient-building-upgrades-eligible-funding-saving'"
      ]
     },
     "execution_count": 40,
     "metadata": {},
     "output_type": "execute_result"
    },
    {
     "data": {
      "text/plain": [
       "'success: content added from https://www.colorado.gov/governor/news/9721-gov-polis-signs-bill-expanding-energy-efficient-building-upgrades-eligible-funding-saving'"
      ]
     },
     "execution_count": 40,
     "metadata": {},
     "output_type": "execute_result"
    },
    {
     "data": {
      "text/plain": [
       "'success: content added from https://www.colorado.gov/governor/news/9716-governor-polis-state-legislators-announce-plans-save-people-money-energy-cut-red-tape'"
      ]
     },
     "execution_count": 40,
     "metadata": {},
     "output_type": "execute_result"
    },
    {
     "data": {
      "text/plain": [
       "'success: content added from https://www.colorado.gov/governor/news/9711-colorado-leadership-calls-president-biden-keep-us-space-command-colorado'"
      ]
     },
     "execution_count": 40,
     "metadata": {},
     "output_type": "execute_result"
    },
    {
     "data": {
      "text/plain": [
       "'success: content added from https://www.colorado.gov/governor/news/9706-polis-primavera-administration-celebrates-international-womens-day-honors-historic'"
      ]
     },
     "execution_count": 40,
     "metadata": {},
     "output_type": "execute_result"
    },
    {
     "data": {
      "text/plain": [
       "'success: content added from https://www.colorado.gov/governor/news/9701-governor-polis-takes-action-response-covid-19'"
      ]
     },
     "execution_count": 40,
     "metadata": {},
     "output_type": "execute_result"
    },
    {
     "data": {
      "text/plain": [
       "'success: content added from https://www.colorado.gov/governor/news/9696-governor-polis-bipartisan-legislators-announce-historic-investments-data-driven-math'"
      ]
     },
     "execution_count": 40,
     "metadata": {},
     "output_type": "execute_result"
    },
    {
     "data": {
      "text/plain": [
       "'success: content added from https://www.colorado.gov/governor/news/9691-gov-polis-signs-bipartisan-joint-budget-committee-supplemental-bill-package'"
      ]
     },
     "execution_count": 40,
     "metadata": {},
     "output_type": "execute_result"
    },
    {
     "data": {
      "text/plain": [
       "'success: content added from https://www.colorado.gov/governor/news/9681-polis-administration-announces-amprius-technologies-inc-chooses-brighton-colorado-new'"
      ]
     },
     "execution_count": 40,
     "metadata": {},
     "output_type": "execute_result"
    },
    {
     "data": {
      "text/plain": [
       "'success: content added from https://www.colorado.gov/governor/news/9686-governor-polis-appoints-thomas-w-henderson-18th-judicial-district-court'"
      ]
     },
     "execution_count": 40,
     "metadata": {},
     "output_type": "execute_result"
    },
    {
     "data": {
      "text/plain": [
       "'success: content added from https://www.colorado.gov/governor/news/9676-governor-polis-takes-action-make-government-more-efficient'"
      ]
     },
     "execution_count": 40,
     "metadata": {},
     "output_type": "execute_result"
    },
    {
     "data": {
      "text/plain": [
       "'content already existing for https://www.colorado.gov/governor/news/9676-governor-polis-takes-action-make-government-more-efficient'"
      ]
     },
     "execution_count": 40,
     "metadata": {},
     "output_type": "execute_result"
    },
    {
     "data": {
      "text/plain": [
       "'success: content added from https://www.colorado.gov/governor/news/9671-gov-polis-signs-bipartisan-bill-law-making-behavioral-health-care-more-accessible'"
      ]
     },
     "execution_count": 40,
     "metadata": {},
     "output_type": "execute_result"
    },
    {
     "data": {
      "text/plain": [
       "'success: content added from https://www.colorado.gov/governor/news/9666-governor-polis-announces-tom-clements-better-government-award-winners-honoring'"
      ]
     },
     "execution_count": 40,
     "metadata": {},
     "output_type": "execute_result"
    },
    {
     "data": {
      "text/plain": [
       "'success: content added from https://www.colorado.gov/governor/news/9661-governor-polis-state-legislators-announce-plans-help-save-coloradans-money-health-care'"
      ]
     },
     "execution_count": 40,
     "metadata": {},
     "output_type": "execute_result"
    },
    {
     "data": {
      "text/plain": [
       "'success: content added from https://www.colorado.gov/governor/news/9656-polis-administration-and-cdot-announce-recipients-zero-emission-vehicle-workforce'"
      ]
     },
     "execution_count": 40,
     "metadata": {},
     "output_type": "execute_result"
    },
    {
     "data": {
      "text/plain": [
       "'success: content added from https://www.colorado.gov/governor/news/9646-governor-polis-dmv-reveal-historic-colorado-contest-winners-states-150th-anniversary'"
      ]
     },
     "execution_count": 40,
     "metadata": {},
     "output_type": "execute_result"
    },
    {
     "data": {
      "text/plain": [
       "'success: content added from https://www.colorado.gov/governor/news/9641-gov-polis-signs-budget-supplemental-bills-law'"
      ]
     },
     "execution_count": 40,
     "metadata": {},
     "output_type": "execute_result"
    },
    {
     "data": {
      "text/plain": [
       "'success: content added from https://www.colorado.gov/governor/news/9636-gov-polis-takes-action-related-fuel-supply'"
      ]
     },
     "execution_count": 40,
     "metadata": {},
     "output_type": "execute_result"
    },
    {
     "data": {
      "text/plain": [
       "'success: content added from https://www.colorado.gov/governor/news/9631-gov-polis-announces-boards-and-commissions-appointments'"
      ]
     },
     "execution_count": 40,
     "metadata": {},
     "output_type": "execute_result"
    },
    {
     "data": {
      "text/plain": [
       "'success: content added from https://www.colorado.gov/governor/news/9626-gov-polis-appoints-attorney-general-phil-weiser-be-states-prosecutor-22nd-judicial'"
      ]
     },
     "execution_count": 40,
     "metadata": {},
     "output_type": "execute_result"
    },
    {
     "data": {
      "text/plain": [
       "'success: content added from https://www.colorado.gov/governor/news/9621-governor-polis-signs-first-bill-legislative-session-support-colorados-water-quality-clean'"
      ]
     },
     "execution_count": 40,
     "metadata": {},
     "output_type": "execute_result"
    },
    {
     "data": {
      "text/plain": [
       "'content already existing for https://www.colorado.gov/governor/news/9621-governor-polis-signs-first-bill-legislative-session-support-colorados-water-quality-clean'"
      ]
     },
     "execution_count": 40,
     "metadata": {},
     "output_type": "execute_result"
    },
    {
     "data": {
      "text/plain": [
       "'success: content added from https://www.colorado.gov/governor/news/9616-twenty-one-states-announce-historic-governor-led-reproductive-freedom-alliance'"
      ]
     },
     "execution_count": 40,
     "metadata": {},
     "output_type": "execute_result"
    },
    {
     "data": {
      "text/plain": [
       "'success: content added from https://www.colorado.gov/governor/news/9606-lt-governor-primavera-announces-new-tool-assist-blind-and-low-vision-coloradans-navigate'"
      ]
     },
     "execution_count": 40,
     "metadata": {},
     "output_type": "execute_result"
    },
    {
     "data": {
      "text/plain": [
       "'success: content added from https://www.colorado.gov/governor/news/9611-co-dept-natural-resources-launches-study-native-pollinating-insects'"
      ]
     },
     "execution_count": 40,
     "metadata": {},
     "output_type": "execute_result"
    },
    {
     "data": {
      "text/plain": [
       "'success: content added from https://www.colorado.gov/governor/news/9581-gov-polis-announces-panel-members-review-22nd-judicial-district-attorney-applications'"
      ]
     },
     "execution_count": 40,
     "metadata": {},
     "output_type": "execute_result"
    },
    {
     "data": {
      "text/plain": [
       "'success: content added from https://www.colorado.gov/governor/news/9576-governor-polis-appoints-reid-r-stewart-la-plata-county-court-6th-judicial-district'"
      ]
     },
     "execution_count": 40,
     "metadata": {},
     "output_type": "execute_result"
    },
    {
     "data": {
      "text/plain": [
       "'success: content added from https://www.colorado.gov/governor/news/9571-governor-polis-colorado-parks-and-wildlife-announces-recipients-outdoor-regional'"
      ]
     },
     "execution_count": 40,
     "metadata": {},
     "output_type": "execute_result"
    },
    {
     "data": {
      "text/plain": [
       "'success: content added from https://www.colorado.gov/governor/news/9561-polis-administration-applauds-irs-decision-not-tax-expedited-tax-refunds'"
      ]
     },
     "execution_count": 40,
     "metadata": {},
     "output_type": "execute_result"
    },
    {
     "data": {
      "text/plain": [
       "'success: content added from https://www.colorado.gov/governor/news/9556-governor-polis-urges-irs-avoid-taxing-money-rightfully-owed-coloradans'"
      ]
     },
     "execution_count": 40,
     "metadata": {},
     "output_type": "execute_result"
    },
    {
     "data": {
      "text/plain": [
       "'success: content added from https://www.colorado.gov/governor/news/9551-governor-polis-appoints-jonathan-k-shamis-5th-judicial-district-court'"
      ]
     },
     "execution_count": 40,
     "metadata": {},
     "output_type": "execute_result"
    },
    {
     "data": {
      "text/plain": [
       "'success: content added from https://www.colorado.gov/governor/news/9546-governor-jared-polis-department-local-affairs-office-recovery-and-senators-bennet'"
      ]
     },
     "execution_count": 40,
     "metadata": {},
     "output_type": "execute_result"
    },
    {
     "data": {
      "text/plain": [
       "'content already existing for https://www.colorado.gov/governor/news/9546-governor-jared-polis-department-local-affairs-office-recovery-and-senators-bennet'"
      ]
     },
     "execution_count": 40,
     "metadata": {},
     "output_type": "execute_result"
    },
    {
     "data": {
      "text/plain": [
       "'success: content added from https://www.colorado.gov/governor/news/9541-governor-polis-appoints-matthew-g-margeson-dolores-county-court-22nd-judicial-district'"
      ]
     },
     "execution_count": 40,
     "metadata": {},
     "output_type": "execute_result"
    },
    {
     "data": {
      "text/plain": [
       "'success: content added from https://www.colorado.gov/governor/news/9536-governor-polis-takes-action-response-covid-19'"
      ]
     },
     "execution_count": 40,
     "metadata": {},
     "output_type": "execute_result"
    },
    {
     "data": {
      "text/plain": [
       "'success: content added from https://www.colorado.gov/governor/news/9531-fighting-lower-energy-costs-coloradans-governor-polis-directs-state-agencies-provide'"
      ]
     },
     "execution_count": 40,
     "metadata": {},
     "output_type": "execute_result"
    },
    {
     "data": {
      "text/plain": [
       "'success: content added from https://www.colorado.gov/governor/news/9526-governor-polis-statement-devastating-earthquakes-turkey-syria'"
      ]
     },
     "execution_count": 40,
     "metadata": {},
     "output_type": "execute_result"
    },
    {
     "data": {
      "text/plain": [
       "'success: content added from https://www.colorado.gov/governor/news/9521-governor-polis-announces-new-funding-grand-junction-regional-airport-delivers-regional'"
      ]
     },
     "execution_count": 40,
     "metadata": {},
     "output_type": "execute_result"
    },
    {
     "data": {
      "text/plain": [
       "'success: content added from https://www.colorado.gov/governor/news/9516-governor-polis-appoints-meegan-miloud-first-judicial-district-court'"
      ]
     },
     "execution_count": 40,
     "metadata": {},
     "output_type": "execute_result"
    },
    {
     "data": {
      "text/plain": [
       "'success: content added from https://www.colorado.gov/governor/news/9511-gov-polis-appoints-moses-andre-stancil-department-corrections-executive-director'"
      ]
     },
     "execution_count": 40,
     "metadata": {},
     "output_type": "execute_result"
    },
    {
     "data": {
      "text/plain": [
       "'success: content added from https://www.colorado.gov/governor/news/9506-polis-administration-continues-support-small-businesses-colorado-oedit-awards-56-access'"
      ]
     },
     "execution_count": 40,
     "metadata": {},
     "output_type": "execute_result"
    },
    {
     "data": {
      "text/plain": [
       "'success: content added from https://www.colorado.gov/governor/news/9501-gov-polis-renews-executive-action-related-fuel-supply'"
      ]
     },
     "execution_count": 40,
     "metadata": {},
     "output_type": "execute_result"
    },
    {
     "data": {
      "text/plain": [
       "'success: content added from https://www.colorado.gov/governor/news/9491-governor-polis-statement-six-state-consensus-colorado-river-conservation'"
      ]
     },
     "execution_count": 40,
     "metadata": {},
     "output_type": "execute_result"
    },
    {
     "data": {
      "text/plain": [
       "'content already existing for https://www.colorado.gov/governor/news/9491-governor-polis-statement-six-state-consensus-colorado-river-conservation'"
      ]
     },
     "execution_count": 40,
     "metadata": {},
     "output_type": "execute_result"
    },
    {
     "data": {
      "text/plain": [
       "'success: content added from https://www.colorado.gov/governor/news/9496-saving-people-money-polis-administration-announces-property-tax-rent-heat-rebate-relief'"
      ]
     },
     "execution_count": 40,
     "metadata": {},
     "output_type": "execute_result"
    },
    {
     "data": {
      "text/plain": [
       "'success: content added from https://www.colorado.gov/governor/news/9486-governor-polis-statement-release-body-camera-footage-surrounding-death-tyre-nichols'"
      ]
     },
     "execution_count": 40,
     "metadata": {},
     "output_type": "execute_result"
    },
    {
     "data": {
      "text/plain": [
       "'success: content added from https://www.colorado.gov/governor/news/9481-governor-polis-formalizes-action-provide-temporary-regulatory-relief-due-suncors'"
      ]
     },
     "execution_count": 40,
     "metadata": {},
     "output_type": "execute_result"
    },
    {
     "data": {
      "text/plain": [
       "'success: content added from https://www.colorado.gov/governor/news/9476-gov-polis-announces-boards-and-commissions-appointments'"
      ]
     },
     "execution_count": 40,
     "metadata": {},
     "output_type": "execute_result"
    },
    {
     "data": {
      "text/plain": [
       "'success: content added from https://www.colorado.gov/governor/news/9471-polis-administration-continues-support-workforce-development-outdoor-recreation-industry'"
      ]
     },
     "execution_count": 40,
     "metadata": {},
     "output_type": "execute_result"
    },
    {
     "data": {
      "text/plain": [
       "'success: content added from https://www.colorado.gov/governor/news/9466-promoting-statewide-access-venture-funding-state-renews-partnership-greater-colorado'"
      ]
     },
     "execution_count": 40,
     "metadata": {},
     "output_type": "execute_result"
    },
    {
     "data": {
      "text/plain": [
       "'success: content added from https://www.colorado.gov/governor/news/9461-2023-colorado-water-plan-will-inspire-action-build-stronger-water-future'"
      ]
     },
     "execution_count": 40,
     "metadata": {},
     "output_type": "execute_result"
    },
    {
     "data": {
      "text/plain": [
       "'success: content added from https://www.colorado.gov/governor/news/9456-gov-polis-announces-boards-and-commissions-appointments'"
      ]
     },
     "execution_count": 40,
     "metadata": {},
     "output_type": "execute_result"
    },
    {
     "data": {
      "text/plain": [
       "'success: content added from https://www.colorado.gov/governor/news/9451-governor-polis-orders-flags-lowered-honor-victims-tragic-shooting-monterey-park'"
      ]
     },
     "execution_count": 40,
     "metadata": {},
     "output_type": "execute_result"
    },
    {
     "data": {
      "text/plain": [
       "'success: content added from https://www.colorado.gov/governor/news/9446-colorados-unemployment-rate-declines-again-polis-administration-continues-save-people'"
      ]
     },
     "execution_count": 40,
     "metadata": {},
     "output_type": "execute_result"
    },
    {
     "data": {
      "text/plain": [
       "'content already existing for https://www.colorado.gov/governor/news/9446-colorados-unemployment-rate-declines-again-polis-administration-continues-save-people'"
      ]
     },
     "execution_count": 40,
     "metadata": {},
     "output_type": "execute_result"
    },
    {
     "data": {
      "text/plain": [
       "'success: content added from https://www.colorado.gov/governor/news/9441-continuing-bring-good-paying-jobs-coloradans-boost-colorados-thriving-aerospace-industry'"
      ]
     },
     "execution_count": 40,
     "metadata": {},
     "output_type": "execute_result"
    },
    {
     "data": {
      "text/plain": [
       "'success: content added from https://www.colorado.gov/governor/news/9436-what-theyre-saying-about-governor-poliss-state-state-address'"
      ]
     },
     "execution_count": 40,
     "metadata": {},
     "output_type": "execute_result"
    },
    {
     "data": {
      "text/plain": [
       "'success: content added from https://www.colorado.gov/governor/news/9431-governor-polis-lays-out-bold-goals-second-term-challenging-us-envision-what-we-want'"
      ]
     },
     "execution_count": 40,
     "metadata": {},
     "output_type": "execute_result"
    },
    {
     "data": {
      "text/plain": [
       "'success: content added from https://www.colorado.gov/governor/news/9426-governor-polis-announces-public-utilities-commission-appointment'"
      ]
     },
     "execution_count": 40,
     "metadata": {},
     "output_type": "execute_result"
    },
    {
     "data": {
      "text/plain": [
       "'success: content added from https://www.colorado.gov/governor/news/9421-colorado-re-introduces-three-retired-license-plates-benefit-states-disability-funding'"
      ]
     },
     "execution_count": 40,
     "metadata": {},
     "output_type": "execute_result"
    },
    {
     "data": {
      "text/plain": [
       "'success: content added from https://www.colorado.gov/governor/news/9416-governor-polis-formalizes-action-taken-response-extreme-winter-weather-december'"
      ]
     },
     "execution_count": 40,
     "metadata": {},
     "output_type": "execute_result"
    },
    {
     "data": {
      "text/plain": [
       "'success: content added from https://www.colorado.gov/governor/news/9411-creating-jobs-and-affordable-housing-polis-administration-announces-innovative-housing'"
      ]
     },
     "execution_count": 40,
     "metadata": {},
     "output_type": "execute_result"
    },
    {
     "data": {
      "text/plain": [
       "'success: content added from https://www.colorado.gov/governor/news/9406-polis-administration-announces-bold-progress-building-global-energy-business-park-glo'"
      ]
     },
     "execution_count": 40,
     "metadata": {},
     "output_type": "execute_result"
    },
    {
     "data": {
      "text/plain": [
       "'success: content added from https://www.colorado.gov/governor/news/9401-colorado-gov-jared-polis-and-lt-gov-primavera-sworn-second-term'"
      ]
     },
     "execution_count": 40,
     "metadata": {},
     "output_type": "execute_result"
    },
    {
     "data": {
      "text/plain": [
       "'success: content added from https://www.colorado.gov/governor/news/9396-bringing-universal-preschool-colorado-kids-polis-administration-announces-enrollment'"
      ]
     },
     "execution_count": 40,
     "metadata": {},
     "output_type": "execute_result"
    },
    {
     "data": {
      "text/plain": [
       "'content already existing for https://www.colorado.gov/governor/news/9396-bringing-universal-preschool-colorado-kids-polis-administration-announces-enrollment'"
      ]
     },
     "execution_count": 40,
     "metadata": {},
     "output_type": "execute_result"
    },
    {
     "data": {
      "text/plain": [
       "'success: content added from https://www.colorado.gov/governor/news/9391-polis-administration-announces-leading-life-sciences-company-chooses-town-frederick'"
      ]
     },
     "execution_count": 40,
     "metadata": {},
     "output_type": "execute_result"
    },
    {
     "data": {
      "text/plain": [
       "'success: content added from https://www.colorado.gov/governor/news/9386-governor-polis-takes-action-response-covid-19'"
      ]
     },
     "execution_count": 40,
     "metadata": {},
     "output_type": "execute_result"
    },
    {
     "data": {
      "text/plain": [
       "'success: content added from https://www.colorado.gov/governor/news/9376-update-colorados-efforts-help-migrants-reach-their-final-destination'"
      ]
     },
     "execution_count": 40,
     "metadata": {},
     "output_type": "execute_result"
    },
    {
     "data": {
      "text/plain": [
       "'success: content added from https://www.colorado.gov/governor/news/9371-governor-polis-appoints-anthony-nathaniel-baca-sixth-judicial-district-court'"
      ]
     },
     "execution_count": 40,
     "metadata": {},
     "output_type": "execute_result"
    },
    {
     "data": {
      "text/plain": [
       "'success: content added from https://www.colorado.gov/governor/news/9366-six-month-update-polis-administrations-greenhouse-gas-reduction-roadmap-outlines'"
      ]
     },
     "execution_count": 40,
     "metadata": {},
     "output_type": "execute_result"
    },
    {
     "data": {
      "text/plain": [
       "'success: content added from https://www.colorado.gov/governor/news/9361-building-upon-bold-investments-secure-today-invest-tomorrow-gov-polis-submits-balanced'"
      ]
     },
     "execution_count": 40,
     "metadata": {},
     "output_type": "execute_result"
    },
    {
     "data": {
      "text/plain": [
       "'success: content added from https://www.colorado.gov/governor/news/9356-colorado-takes-action-assist-migrants-completing-their-journeys'"
      ]
     },
     "execution_count": 40,
     "metadata": {},
     "output_type": "execute_result"
    },
    {
     "data": {
      "text/plain": [
       "'success: content added from https://www.colorado.gov/governor/news/9351-continuing-save-people-money-polis-administration-announces-discounted-29-keep-colorado'"
      ]
     },
     "execution_count": 40,
     "metadata": {},
     "output_type": "execute_result"
    },
    {
     "data": {
      "text/plain": [
       "'success: content added from https://www.colorado.gov/governor/news/9346-governor-polis-takes-action-provide-temporary-regulatory-relief-due-suncors-temporary'"
      ]
     },
     "execution_count": 40,
     "metadata": {},
     "output_type": "execute_result"
    },
    {
     "data": {
      "text/plain": [
       "'success: content added from https://www.colorado.gov/governor/news/9341-state-government-offices-denver-area-will-open-late-today'"
      ]
     },
     "execution_count": 40,
     "metadata": {},
     "output_type": "execute_result"
    },
    {
     "data": {
      "text/plain": [
       "'content already existing for https://www.colorado.gov/governor/news/9341-state-government-offices-denver-area-will-open-late-today'"
      ]
     },
     "execution_count": 40,
     "metadata": {},
     "output_type": "execute_result"
    },
    {
     "data": {
      "text/plain": [
       "'success: content added from https://www.colorado.gov/governor/news/9336-polis-administration-funding-enhance-wildlife-mitigation-features-highway-projects'"
      ]
     },
     "execution_count": 40,
     "metadata": {},
     "output_type": "execute_result"
    },
    {
     "data": {
      "text/plain": [
       "'success: content added from https://www.colorado.gov/governor/news/9331-governor-polis-releases-statement-ahead-one-year-anniversary-marshall-fire-and-straight'"
      ]
     },
     "execution_count": 40,
     "metadata": {},
     "output_type": "execute_result"
    },
    {
     "data": {
      "text/plain": [
       "'success: content added from https://www.colorado.gov/governor/news/9326-governor-polis-appoints-anthony-n-baca-la-plata-county-court'"
      ]
     },
     "execution_count": 40,
     "metadata": {},
     "output_type": "execute_result"
    },
    {
     "data": {
      "text/plain": [
       "'success: content added from https://www.colorado.gov/governor/news/9321-gov-polis-issues-proclamations-declare-vote-voter-approved-ballot-measures'"
      ]
     },
     "execution_count": 40,
     "metadata": {},
     "output_type": "execute_result"
    },
    {
     "data": {
      "text/plain": [
       "'success: content added from https://www.colorado.gov/governor/news/9316-gov-polis-visits-warming-centers-shelters-supporting-coloradans-migrants-state-continues'"
      ]
     },
     "execution_count": 40,
     "metadata": {},
     "output_type": "execute_result"
    },
    {
     "data": {
      "text/plain": [
       "'success: content added from https://www.colorado.gov/governor/news/9311-governor-polis-announces-clemency-24-individuals'"
      ]
     },
     "execution_count": 40,
     "metadata": {},
     "output_type": "execute_result"
    },
    {
     "data": {
      "text/plain": [
       "'success: content added from https://www.colorado.gov/governor/news/9306-gov-polis-announces-boards-and-commissions-appointments'"
      ]
     },
     "execution_count": 40,
     "metadata": {},
     "output_type": "execute_result"
    },
    {
     "data": {
      "text/plain": [
       "'success: content added from https://www.colorado.gov/governor/news/9301-gov-polis-activates-colorado-national-guard-help-assist-extreme-cold-weather'"
      ]
     },
     "execution_count": 40,
     "metadata": {},
     "output_type": "execute_result"
    },
    {
     "data": {
      "text/plain": [
       "'success: content added from https://www.colorado.gov/governor/news/9296-provider-registration-open-universal-preschool-upk-colorado'"
      ]
     },
     "execution_count": 40,
     "metadata": {},
     "output_type": "execute_result"
    }
   ],
   "source": [
    "# do for all\n",
    "for i in combined.link:\n",
    "     get_colorado_content(i, combined, header_list)"
   ]
  },
  {
   "cell_type": "markdown",
   "id": "003a1321",
   "metadata": {
    "heading_collapsed": true
   },
   "source": [
    "## Validate and Clean"
   ]
  },
  {
   "cell_type": "code",
   "execution_count": 42,
   "id": "06bca64d",
   "metadata": {
    "hidden": true
   },
   "outputs": [
    {
     "data": {
      "text/html": [
       "<div>\n",
       "<style scoped>\n",
       "    .dataframe tbody tr th:only-of-type {\n",
       "        vertical-align: middle;\n",
       "    }\n",
       "\n",
       "    .dataframe tbody tr th {\n",
       "        vertical-align: top;\n",
       "    }\n",
       "\n",
       "    .dataframe thead th {\n",
       "        text-align: right;\n",
       "    }\n",
       "</style>\n",
       "<table border=\"1\" class=\"dataframe\">\n",
       "  <thead>\n",
       "    <tr style=\"text-align: right;\">\n",
       "      <th></th>\n",
       "      <th>title</th>\n",
       "      <th>date</th>\n",
       "      <th>link</th>\n",
       "      <th>content</th>\n",
       "      <th>page_scraped</th>\n",
       "    </tr>\n",
       "  </thead>\n",
       "  <tbody>\n",
       "  </tbody>\n",
       "</table>\n",
       "</div>"
      ],
      "text/plain": [
       "Empty DataFrame\n",
       "Columns: [title, date, link, content, page_scraped]\n",
       "Index: []"
      ]
     },
     "execution_count": 42,
     "metadata": {},
     "output_type": "execute_result"
    }
   ],
   "source": [
    "#check that content was pulled accurately\n",
    "combined[combined.content.isna()]"
   ]
  },
  {
   "cell_type": "code",
   "execution_count": 48,
   "id": "6615a069",
   "metadata": {
    "hidden": true
   },
   "outputs": [
    {
     "data": {
      "text/html": [
       "<div>\n",
       "<style scoped>\n",
       "    .dataframe tbody tr th:only-of-type {\n",
       "        vertical-align: middle;\n",
       "    }\n",
       "\n",
       "    .dataframe tbody tr th {\n",
       "        vertical-align: top;\n",
       "    }\n",
       "\n",
       "    .dataframe thead th {\n",
       "        text-align: right;\n",
       "    }\n",
       "</style>\n",
       "<table border=\"1\" class=\"dataframe\">\n",
       "  <thead>\n",
       "    <tr style=\"text-align: right;\">\n",
       "      <th></th>\n",
       "      <th>title</th>\n",
       "      <th>date</th>\n",
       "      <th>link</th>\n",
       "      <th>content</th>\n",
       "      <th>page_scraped</th>\n",
       "      <th>date_clean</th>\n",
       "    </tr>\n",
       "  </thead>\n",
       "  <tbody>\n",
       "    <tr>\n",
       "      <th>0</th>\n",
       "      <td>Governor Polis and the Colorado Energy Office ...</td>\n",
       "      <td>Thursday, February 1, 2024</td>\n",
       "      <td>https://www.colorado.gov/governor/news/11471-g...</td>\n",
       "      <td>DENVER -Today, Governor Polis and the Colorado...</td>\n",
       "      <td>1</td>\n",
       "      <td>2024-02-01</td>\n",
       "    </tr>\n",
       "    <tr>\n",
       "      <th>1</th>\n",
       "      <td>Governor Polis and the Colorado Energy Office ...</td>\n",
       "      <td>Thursday, February 1, 2024</td>\n",
       "      <td>https://www.colorado.gov/governor/news/11471-g...</td>\n",
       "      <td>DENVER -Today, Governor Polis and the Colorado...</td>\n",
       "      <td>1</td>\n",
       "      <td>2024-02-01</td>\n",
       "    </tr>\n",
       "    <tr>\n",
       "      <th>2</th>\n",
       "      <td>Governor Polis Appoints James H. Hesson to the...</td>\n",
       "      <td>Wednesday, January 31, 2024</td>\n",
       "      <td>https://www.colorado.gov/governor/news/11466-g...</td>\n",
       "      <td>DENVER -Today, Governor Polis appointed James ...</td>\n",
       "      <td>1</td>\n",
       "      <td>2024-01-31</td>\n",
       "    </tr>\n",
       "    <tr>\n",
       "      <th>3</th>\n",
       "      <td>Governor Polis Signs First Law of the 2024 Leg...</td>\n",
       "      <td>Wednesday, January 31, 2024</td>\n",
       "      <td>https://www.colorado.gov/governor/news/11456-g...</td>\n",
       "      <td>DENVER -Today, Governor Polis signedHB24-1084 ...</td>\n",
       "      <td>1</td>\n",
       "      <td>2024-01-31</td>\n",
       "    </tr>\n",
       "    <tr>\n",
       "      <th>4</th>\n",
       "      <td>Colorado and Alberta Announce Energy and Clima...</td>\n",
       "      <td>Wednesday, January 31, 2024</td>\n",
       "      <td>https://www.colorado.gov/governor/news/11461-c...</td>\n",
       "      <td>DENVER- Today, Colorado Governor Jared Polis a...</td>\n",
       "      <td>1</td>\n",
       "      <td>2024-01-31</td>\n",
       "    </tr>\n",
       "  </tbody>\n",
       "</table>\n",
       "</div>"
      ],
      "text/plain": [
       "                                               title  \\\n",
       "0  Governor Polis and the Colorado Energy Office ...   \n",
       "1  Governor Polis and the Colorado Energy Office ...   \n",
       "2  Governor Polis Appoints James H. Hesson to the...   \n",
       "3  Governor Polis Signs First Law of the 2024 Leg...   \n",
       "4  Colorado and Alberta Announce Energy and Clima...   \n",
       "\n",
       "                          date  \\\n",
       "0   Thursday, February 1, 2024   \n",
       "1   Thursday, February 1, 2024   \n",
       "2  Wednesday, January 31, 2024   \n",
       "3  Wednesday, January 31, 2024   \n",
       "4  Wednesday, January 31, 2024   \n",
       "\n",
       "                                                link  \\\n",
       "0  https://www.colorado.gov/governor/news/11471-g...   \n",
       "1  https://www.colorado.gov/governor/news/11471-g...   \n",
       "2  https://www.colorado.gov/governor/news/11466-g...   \n",
       "3  https://www.colorado.gov/governor/news/11456-g...   \n",
       "4  https://www.colorado.gov/governor/news/11461-c...   \n",
       "\n",
       "                                             content  page_scraped date_clean  \n",
       "0  DENVER -Today, Governor Polis and the Colorado...             1 2024-02-01  \n",
       "1  DENVER -Today, Governor Polis and the Colorado...             1 2024-02-01  \n",
       "2  DENVER -Today, Governor Polis appointed James ...             1 2024-01-31  \n",
       "3  DENVER -Today, Governor Polis signedHB24-1084 ...             1 2024-01-31  \n",
       "4  DENVER- Today, Colorado Governor Jared Polis a...             1 2024-01-31  "
      ]
     },
     "execution_count": 48,
     "metadata": {},
     "output_type": "execute_result"
    }
   ],
   "source": [
    "# convert date to date-time object to subset\n",
    "combined['date_clean'] = pd.to_datetime(combined['date'])\n",
    "combined.head()"
   ]
  },
  {
   "cell_type": "code",
   "execution_count": 49,
   "id": "2f31557a",
   "metadata": {
    "hidden": true
   },
   "outputs": [],
   "source": [
    "# drop original date column \n",
    "combined_cl = combined.drop(columns=['date']).copy()"
   ]
  },
  {
   "cell_type": "code",
   "execution_count": 50,
   "id": "c51e53c4",
   "metadata": {
    "hidden": true
   },
   "outputs": [],
   "source": [
    "# subset to 2023 only \n",
    "combined_2023 = combined_cl[(combined_cl['date_clean'] >= '2023-01-01')\n",
    "                     & (combined_cl['date_clean'] <= '2023-12-31')].copy()"
   ]
  },
  {
   "cell_type": "code",
   "execution_count": 51,
   "id": "e894624d",
   "metadata": {
    "hidden": true
   },
   "outputs": [
    {
     "name": "stdout",
     "output_type": "stream",
     "text": [
      "pulled 407 documents from colorado for 2023\n"
     ]
    }
   ],
   "source": [
    "print(f\"pulled {str(len(combined_2023))} documents from {state} for 2023\")"
   ]
  },
  {
   "cell_type": "markdown",
   "id": "33ffc027",
   "metadata": {},
   "source": [
    "## Export "
   ]
  },
  {
   "cell_type": "code",
   "execution_count": 52,
   "id": "d675fc44",
   "metadata": {},
   "outputs": [],
   "source": [
    "# export\n",
    "combined_2023.to_csv(f'{state}_2023.csv', index = False)"
   ]
  },
  {
   "cell_type": "code",
   "execution_count": 53,
   "id": "621c6b9b",
   "metadata": {},
   "outputs": [
    {
     "data": {
      "text/html": [
       "<div>\n",
       "<style scoped>\n",
       "    .dataframe tbody tr th:only-of-type {\n",
       "        vertical-align: middle;\n",
       "    }\n",
       "\n",
       "    .dataframe tbody tr th {\n",
       "        vertical-align: top;\n",
       "    }\n",
       "\n",
       "    .dataframe thead th {\n",
       "        text-align: right;\n",
       "    }\n",
       "</style>\n",
       "<table border=\"1\" class=\"dataframe\">\n",
       "  <thead>\n",
       "    <tr style=\"text-align: right;\">\n",
       "      <th></th>\n",
       "      <th>title</th>\n",
       "      <th>link</th>\n",
       "      <th>content</th>\n",
       "      <th>page_scraped</th>\n",
       "      <th>date_clean</th>\n",
       "    </tr>\n",
       "  </thead>\n",
       "  <tbody>\n",
       "    <tr>\n",
       "      <th>0</th>\n",
       "      <td>Delivering Real Results for Coloradans: New La...</td>\n",
       "      <td>https://www.colorado.gov/governor/news/11286-d...</td>\n",
       "      <td>New tax credits for up to $7,500 on electric ...</td>\n",
       "      <td>5</td>\n",
       "      <td>2023-12-29</td>\n",
       "    </tr>\n",
       "    <tr>\n",
       "      <th>1</th>\n",
       "      <td>Delivering Real Results for Coloradans: New La...</td>\n",
       "      <td>https://www.colorado.gov/governor/news/11286-d...</td>\n",
       "      <td>New tax credits for up to $7,500 on electric ...</td>\n",
       "      <td>5</td>\n",
       "      <td>2023-12-29</td>\n",
       "    </tr>\n",
       "    <tr>\n",
       "      <th>2</th>\n",
       "      <td>Governor Polis Announces Technical Assistance ...</td>\n",
       "      <td>https://www.colorado.gov/governor/news/11261-g...</td>\n",
       "      <td>DENVER— Today Governor Polis, in partnership w...</td>\n",
       "      <td>5</td>\n",
       "      <td>2023-12-28</td>\n",
       "    </tr>\n",
       "    <tr>\n",
       "      <th>3</th>\n",
       "      <td>Governor Polis Announces Final Revitalizing Ma...</td>\n",
       "      <td>https://www.colorado.gov/governor/news/11256-g...</td>\n",
       "      <td>STATEWIDE - Today, Governor Polis and the Colo...</td>\n",
       "      <td>5</td>\n",
       "      <td>2023-12-27</td>\n",
       "    </tr>\n",
       "    <tr>\n",
       "      <th>4</th>\n",
       "      <td>Governor Polis Goes “Platinum”</td>\n",
       "      <td>https://www.colorado.gov/governor/news/11251-g...</td>\n",
       "      <td>Governor Polis Celebrates a Holiday Classic w...</td>\n",
       "      <td>5</td>\n",
       "      <td>2023-12-26</td>\n",
       "    </tr>\n",
       "  </tbody>\n",
       "</table>\n",
       "</div>"
      ],
      "text/plain": [
       "                                               title  \\\n",
       "0  Delivering Real Results for Coloradans: New La...   \n",
       "1  Delivering Real Results for Coloradans: New La...   \n",
       "2  Governor Polis Announces Technical Assistance ...   \n",
       "3  Governor Polis Announces Final Revitalizing Ma...   \n",
       "4                    Governor Polis Goes “Platinum”    \n",
       "\n",
       "                                                link  \\\n",
       "0  https://www.colorado.gov/governor/news/11286-d...   \n",
       "1  https://www.colorado.gov/governor/news/11286-d...   \n",
       "2  https://www.colorado.gov/governor/news/11261-g...   \n",
       "3  https://www.colorado.gov/governor/news/11256-g...   \n",
       "4  https://www.colorado.gov/governor/news/11251-g...   \n",
       "\n",
       "                                             content  page_scraped  date_clean  \n",
       "0   New tax credits for up to $7,500 on electric ...             5  2023-12-29  \n",
       "1   New tax credits for up to $7,500 on electric ...             5  2023-12-29  \n",
       "2  DENVER— Today Governor Polis, in partnership w...             5  2023-12-28  \n",
       "3  STATEWIDE - Today, Governor Polis and the Colo...             5  2023-12-27  \n",
       "4   Governor Polis Celebrates a Holiday Classic w...             5  2023-12-26  "
      ]
     },
     "execution_count": 53,
     "metadata": {},
     "output_type": "execute_result"
    }
   ],
   "source": [
    "test = pd.read_csv(f'{state}_2023.csv')\n",
    "test.head()"
   ]
  }
 ],
 "metadata": {
  "kernelspec": {
   "display_name": "Python 3 (ipykernel)",
   "language": "python",
   "name": "python3"
  },
  "language_info": {
   "codemirror_mode": {
    "name": "ipython",
    "version": 3
   },
   "file_extension": ".py",
   "mimetype": "text/x-python",
   "name": "python",
   "nbconvert_exporter": "python",
   "pygments_lexer": "ipython3",
   "version": "3.9.12"
  }
 },
 "nbformat": 4,
 "nbformat_minor": 5
}
