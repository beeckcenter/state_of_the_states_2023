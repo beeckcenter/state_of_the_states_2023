{
 "cells": [
  {
   "cell_type": "markdown",
   "id": "f00d02a5",
   "metadata": {},
   "source": [
    "# Oregon Scraping "
   ]
  },
  {
   "cell_type": "code",
   "execution_count": 1,
   "id": "2d2ca3c3",
   "metadata": {},
   "outputs": [
    {
     "name": "stdout",
     "output_type": "stream",
     "text": [
      "Exception reporting mode: Minimal\n"
     ]
    }
   ],
   "source": [
    "# set up \n",
    "import pandas as pd \n",
    "import requests \n",
    "import bs4\n",
    "import numpy as np\n",
    "import time \n",
    "import re\n",
    "from tika import parser\n",
    "from selenium import webdriver\n",
    "from selenium.webdriver.common.by import By\n",
    "from selenium.webdriver.support.ui import WebDriverWait\n",
    "from selenium.webdriver.support import expected_conditions as EC\n",
    "from selenium.webdriver.support.select import Select\n",
    "from selenium.webdriver.common.action_chains import ActionChains\n",
    "from selenium.common.exceptions import StaleElementReferenceException, TimeoutException\n",
    "from io import BytesIO\n",
    "from urllib.request import urlopen\n",
    "\n",
    "from IPython.core.interactiveshell import InteractiveShell \n",
    "InteractiveShell.ast_node_interactivity = \"all\"\n",
    "\n",
    "%xmode Minimal"
   ]
  },
  {
   "cell_type": "code",
   "execution_count": 2,
   "id": "4b8c25f3",
   "metadata": {},
   "outputs": [],
   "source": [
    "# # set headers\n",
    "# header_list = {'User-Agent': REDACTED,\n",
    "#               'Accept-Language': 'en-US,en;q=0.9'}"
   ]
  },
  {
   "cell_type": "code",
   "execution_count": 3,
   "id": "0b85368d",
   "metadata": {},
   "outputs": [],
   "source": [
    "# state - UPDATE EACH TIME\n",
    "state = 'oregon'"
   ]
  },
  {
   "cell_type": "code",
   "execution_count": null,
   "id": "150c1170",
   "metadata": {},
   "outputs": [],
   "source": [
    "# review of robots.txt - no restrictions"
   ]
  },
  {
   "cell_type": "code",
   "execution_count": null,
   "id": "92379a17",
   "metadata": {},
   "outputs": [],
   "source": [
    "# test = pd.read_csv(f'{state}_2023.csv')\n",
    "# test.head()"
   ]
  },
  {
   "cell_type": "markdown",
   "id": "40a0e028",
   "metadata": {},
   "source": [
    "## Scrape links \n",
    "`Selenium`"
   ]
  },
  {
   "cell_type": "code",
   "execution_count": 31,
   "id": "c02413e0",
   "metadata": {},
   "outputs": [],
   "source": [
    "driver = webdriver.Chrome()\n",
    "driver.get('https://www.oregon.gov/newsroom/Pages/Agency.aspx?page=0&pageSize=10&agency=GOV&year=2023')\n",
    "\n",
    "wait = WebDriverWait(driver, 3)\n",
    "\n",
    "df_list = []\n",
    "\n",
    "def scrape_page():\n",
    "    result = wait.until(EC.presence_of_all_elements_located((By.XPATH, \n",
    "                                                              '//*[@id=\"main-content\"]')))\n",
    "    articles = driver.find_elements(By.TAG_NAME, 'article')\n",
    "\n",
    "    results_list = [{'title': i.find_element(By.TAG_NAME, 'a').text,\n",
    "                'date': i.find_element(By.CLASS_NAME, 'or-newsroom-article-date').text, \n",
    "                'link': i.find_element(By.TAG_NAME, 'a').get_attribute('href')} for i in articles]\n",
    "\n",
    "    df = pd.DataFrame.from_dict(results_list)\n",
    "    df_list.append(df)\n",
    "\n",
    "scrape_page()\n",
    "\n",
    "# pagination\n",
    "pagination = driver.find_element(By.XPATH, '//ul[contains(@class, \"pagination\")]')\n",
    "pages = pagination.find_elements(By.TAG_NAME, 'li')\n",
    "last_page = int(pages[-2].text)\n",
    "\n",
    "current_page = 1\n",
    "\n",
    "while current_page <= last_page:\n",
    "    time.sleep(2)\n",
    "    scrape_page()\n",
    "    current_page = current_page + 1\n",
    "    try:\n",
    "        next_page = driver.find_element(By.XPATH, '//*[@id=\"next_span\"]')\n",
    "        next_page.click()\n",
    "    except:\n",
    "        pass\n",
    "    \n",
    "driver.close()"
   ]
  },
  {
   "cell_type": "code",
   "execution_count": 32,
   "id": "b7e209b1",
   "metadata": {},
   "outputs": [
    {
     "data": {
      "text/plain": [
       "7"
      ]
     },
     "execution_count": 32,
     "metadata": {},
     "output_type": "execute_result"
    }
   ],
   "source": [
    "len(df_list)"
   ]
  },
  {
   "cell_type": "code",
   "execution_count": 33,
   "id": "b3d0b8b6",
   "metadata": {},
   "outputs": [
    {
     "data": {
      "text/html": [
       "<div>\n",
       "<style scoped>\n",
       "    .dataframe tbody tr th:only-of-type {\n",
       "        vertical-align: middle;\n",
       "    }\n",
       "\n",
       "    .dataframe tbody tr th {\n",
       "        vertical-align: top;\n",
       "    }\n",
       "\n",
       "    .dataframe thead th {\n",
       "        text-align: right;\n",
       "    }\n",
       "</style>\n",
       "<table border=\"1\" class=\"dataframe\">\n",
       "  <thead>\n",
       "    <tr style=\"text-align: right;\">\n",
       "      <th></th>\n",
       "      <th>title</th>\n",
       "      <th>date</th>\n",
       "      <th>link</th>\n",
       "    </tr>\n",
       "  </thead>\n",
       "  <tbody>\n",
       "    <tr>\n",
       "      <th>0</th>\n",
       "      <td>Governor Kotek Appoints Klamath County Distric...</td>\n",
       "      <td>December 21, 2023</td>\n",
       "      <td>https://www.oregon.gov/newsroom/Pages/NewsDeta...</td>\n",
       "    </tr>\n",
       "    <tr>\n",
       "      <th>1</th>\n",
       "      <td>Governor Kotek Issues Statement on Passage of ...</td>\n",
       "      <td>December 21, 2023</td>\n",
       "      <td>https://www.oregon.gov/newsroom/Pages/NewsDeta...</td>\n",
       "    </tr>\n",
       "    <tr>\n",
       "      <th>2</th>\n",
       "      <td>Governor Kotek Issues Statement on Siletz Cons...</td>\n",
       "      <td>December 20, 2023</td>\n",
       "      <td>https://www.oregon.gov/newsroom/Pages/NewsDeta...</td>\n",
       "    </tr>\n",
       "    <tr>\n",
       "      <th>3</th>\n",
       "      <td>Governor Kotek Orders Flags Lowered in Memory ...</td>\n",
       "      <td>December 18, 2023</td>\n",
       "      <td>https://www.oregon.gov/newsroom/Pages/NewsDeta...</td>\n",
       "    </tr>\n",
       "    <tr>\n",
       "      <th>4</th>\n",
       "      <td>Governor Kotek and First Lady Reflect on One O...</td>\n",
       "      <td>December 18, 2023</td>\n",
       "      <td>https://www.oregon.gov/newsroom/Pages/NewsDeta...</td>\n",
       "    </tr>\n",
       "    <tr>\n",
       "      <th>...</th>\n",
       "      <td>...</td>\n",
       "      <td>...</td>\n",
       "      <td>...</td>\n",
       "    </tr>\n",
       "    <tr>\n",
       "      <th>18</th>\n",
       "      <td>Governor Tina Kotek Officially Declares Homele...</td>\n",
       "      <td>January 10, 2023</td>\n",
       "      <td>https://www.oregon.gov/newsroom/Pages/NewsDeta...</td>\n",
       "    </tr>\n",
       "    <tr>\n",
       "      <th>19</th>\n",
       "      <td>Governor Tina Kotek Announces Her First Action...</td>\n",
       "      <td>January 09, 2023</td>\n",
       "      <td>https://www.oregon.gov/newsroom/Pages/NewsDeta...</td>\n",
       "    </tr>\n",
       "    <tr>\n",
       "      <th>20</th>\n",
       "      <td>Governor-Elect Tina Kotek Announces Senior Sta...</td>\n",
       "      <td>January 09, 2023</td>\n",
       "      <td>https://www.oregon.gov/newsroom/Pages/NewsDeta...</td>\n",
       "    </tr>\n",
       "    <tr>\n",
       "      <th>21</th>\n",
       "      <td>Governor-Elect Tina Kotek Announces New Educat...</td>\n",
       "      <td>January 09, 2023</td>\n",
       "      <td>https://www.oregon.gov/newsroom/Pages/NewsDeta...</td>\n",
       "    </tr>\n",
       "    <tr>\n",
       "      <th>22</th>\n",
       "      <td>Tina Kotek to be Sworn In as Oregon Governor, ...</td>\n",
       "      <td>January 06, 2023</td>\n",
       "      <td>https://www.oregon.gov/newsroom/Pages/NewsDeta...</td>\n",
       "    </tr>\n",
       "  </tbody>\n",
       "</table>\n",
       "<p>203 rows × 3 columns</p>\n",
       "</div>"
      ],
      "text/plain": [
       "                                                title               date  \\\n",
       "0   Governor Kotek Appoints Klamath County Distric...  December 21, 2023   \n",
       "1   Governor Kotek Issues Statement on Passage of ...  December 21, 2023   \n",
       "2   Governor Kotek Issues Statement on Siletz Cons...  December 20, 2023   \n",
       "3   Governor Kotek Orders Flags Lowered in Memory ...  December 18, 2023   \n",
       "4   Governor Kotek and First Lady Reflect on One O...  December 18, 2023   \n",
       "..                                                ...                ...   \n",
       "18  Governor Tina Kotek Officially Declares Homele...   January 10, 2023   \n",
       "19  Governor Tina Kotek Announces Her First Action...   January 09, 2023   \n",
       "20  Governor-Elect Tina Kotek Announces Senior Sta...   January 09, 2023   \n",
       "21  Governor-Elect Tina Kotek Announces New Educat...   January 09, 2023   \n",
       "22  Tina Kotek to be Sworn In as Oregon Governor, ...   January 06, 2023   \n",
       "\n",
       "                                                 link  \n",
       "0   https://www.oregon.gov/newsroom/Pages/NewsDeta...  \n",
       "1   https://www.oregon.gov/newsroom/Pages/NewsDeta...  \n",
       "2   https://www.oregon.gov/newsroom/Pages/NewsDeta...  \n",
       "3   https://www.oregon.gov/newsroom/Pages/NewsDeta...  \n",
       "4   https://www.oregon.gov/newsroom/Pages/NewsDeta...  \n",
       "..                                                ...  \n",
       "18  https://www.oregon.gov/newsroom/Pages/NewsDeta...  \n",
       "19  https://www.oregon.gov/newsroom/Pages/NewsDeta...  \n",
       "20  https://www.oregon.gov/newsroom/Pages/NewsDeta...  \n",
       "21  https://www.oregon.gov/newsroom/Pages/NewsDeta...  \n",
       "22  https://www.oregon.gov/newsroom/Pages/NewsDeta...  \n",
       "\n",
       "[203 rows x 3 columns]"
      ]
     },
     "execution_count": 33,
     "metadata": {},
     "output_type": "execute_result"
    }
   ],
   "source": [
    "# concat\n",
    "combined = pd.concat(df_list)\n",
    "combined"
   ]
  },
  {
   "cell_type": "code",
   "execution_count": 53,
   "id": "1efed926",
   "metadata": {},
   "outputs": [
    {
     "data": {
      "text/html": [
       "<div>\n",
       "<style scoped>\n",
       "    .dataframe tbody tr th:only-of-type {\n",
       "        vertical-align: middle;\n",
       "    }\n",
       "\n",
       "    .dataframe tbody tr th {\n",
       "        vertical-align: top;\n",
       "    }\n",
       "\n",
       "    .dataframe thead th {\n",
       "        text-align: right;\n",
       "    }\n",
       "</style>\n",
       "<table border=\"1\" class=\"dataframe\">\n",
       "  <thead>\n",
       "    <tr style=\"text-align: right;\">\n",
       "      <th></th>\n",
       "      <th>title</th>\n",
       "      <th>date</th>\n",
       "      <th>link</th>\n",
       "      <th>content</th>\n",
       "    </tr>\n",
       "  </thead>\n",
       "  <tbody>\n",
       "    <tr>\n",
       "      <th>0</th>\n",
       "      <td>Governor Kotek Appoints Klamath County Distric...</td>\n",
       "      <td>December 21, 2023</td>\n",
       "      <td>https://www.oregon.gov/newsroom/Pages/NewsDeta...</td>\n",
       "      <td>NaN</td>\n",
       "    </tr>\n",
       "    <tr>\n",
       "      <th>1</th>\n",
       "      <td>Governor Kotek Issues Statement on Passage of ...</td>\n",
       "      <td>December 21, 2023</td>\n",
       "      <td>https://www.oregon.gov/newsroom/Pages/NewsDeta...</td>\n",
       "      <td>NaN</td>\n",
       "    </tr>\n",
       "    <tr>\n",
       "      <th>2</th>\n",
       "      <td>Governor Kotek Issues Statement on Siletz Cons...</td>\n",
       "      <td>December 20, 2023</td>\n",
       "      <td>https://www.oregon.gov/newsroom/Pages/NewsDeta...</td>\n",
       "      <td>NaN</td>\n",
       "    </tr>\n",
       "    <tr>\n",
       "      <th>3</th>\n",
       "      <td>Governor Kotek Orders Flags Lowered in Memory ...</td>\n",
       "      <td>December 18, 2023</td>\n",
       "      <td>https://www.oregon.gov/newsroom/Pages/NewsDeta...</td>\n",
       "      <td>NaN</td>\n",
       "    </tr>\n",
       "    <tr>\n",
       "      <th>4</th>\n",
       "      <td>Governor Kotek and First Lady Reflect on One O...</td>\n",
       "      <td>December 18, 2023</td>\n",
       "      <td>https://www.oregon.gov/newsroom/Pages/NewsDeta...</td>\n",
       "      <td>NaN</td>\n",
       "    </tr>\n",
       "  </tbody>\n",
       "</table>\n",
       "</div>"
      ],
      "text/plain": [
       "                                               title               date  \\\n",
       "0  Governor Kotek Appoints Klamath County Distric...  December 21, 2023   \n",
       "1  Governor Kotek Issues Statement on Passage of ...  December 21, 2023   \n",
       "2  Governor Kotek Issues Statement on Siletz Cons...  December 20, 2023   \n",
       "3  Governor Kotek Orders Flags Lowered in Memory ...  December 18, 2023   \n",
       "4  Governor Kotek and First Lady Reflect on One O...  December 18, 2023   \n",
       "\n",
       "                                                link  content  \n",
       "0  https://www.oregon.gov/newsroom/Pages/NewsDeta...      NaN  \n",
       "1  https://www.oregon.gov/newsroom/Pages/NewsDeta...      NaN  \n",
       "2  https://www.oregon.gov/newsroom/Pages/NewsDeta...      NaN  \n",
       "3  https://www.oregon.gov/newsroom/Pages/NewsDeta...      NaN  \n",
       "4  https://www.oregon.gov/newsroom/Pages/NewsDeta...      NaN  "
      ]
     },
     "execution_count": 53,
     "metadata": {},
     "output_type": "execute_result"
    }
   ],
   "source": [
    "# add empty content column \n",
    "combined['content'] = np.nan\n",
    "combined.head()"
   ]
  },
  {
   "cell_type": "code",
   "execution_count": 54,
   "id": "4e15e0d0",
   "metadata": {},
   "outputs": [],
   "source": [
    "# export\n",
    "combined.to_csv(f'{state}_links.csv', index = False)"
   ]
  },
  {
   "cell_type": "code",
   "execution_count": 55,
   "id": "8e4b5d44",
   "metadata": {},
   "outputs": [
    {
     "data": {
      "text/html": [
       "<div>\n",
       "<style scoped>\n",
       "    .dataframe tbody tr th:only-of-type {\n",
       "        vertical-align: middle;\n",
       "    }\n",
       "\n",
       "    .dataframe tbody tr th {\n",
       "        vertical-align: top;\n",
       "    }\n",
       "\n",
       "    .dataframe thead th {\n",
       "        text-align: right;\n",
       "    }\n",
       "</style>\n",
       "<table border=\"1\" class=\"dataframe\">\n",
       "  <thead>\n",
       "    <tr style=\"text-align: right;\">\n",
       "      <th></th>\n",
       "      <th>title</th>\n",
       "      <th>date</th>\n",
       "      <th>link</th>\n",
       "      <th>content</th>\n",
       "    </tr>\n",
       "  </thead>\n",
       "  <tbody>\n",
       "    <tr>\n",
       "      <th>0</th>\n",
       "      <td>Governor Kotek Appoints Klamath County Distric...</td>\n",
       "      <td>December 21, 2023</td>\n",
       "      <td>https://www.oregon.gov/newsroom/Pages/NewsDeta...</td>\n",
       "      <td>NaN</td>\n",
       "    </tr>\n",
       "    <tr>\n",
       "      <th>1</th>\n",
       "      <td>Governor Kotek Issues Statement on Passage of ...</td>\n",
       "      <td>December 21, 2023</td>\n",
       "      <td>https://www.oregon.gov/newsroom/Pages/NewsDeta...</td>\n",
       "      <td>NaN</td>\n",
       "    </tr>\n",
       "    <tr>\n",
       "      <th>2</th>\n",
       "      <td>Governor Kotek Issues Statement on Siletz Cons...</td>\n",
       "      <td>December 20, 2023</td>\n",
       "      <td>https://www.oregon.gov/newsroom/Pages/NewsDeta...</td>\n",
       "      <td>NaN</td>\n",
       "    </tr>\n",
       "    <tr>\n",
       "      <th>3</th>\n",
       "      <td>Governor Kotek Orders Flags Lowered in Memory ...</td>\n",
       "      <td>December 18, 2023</td>\n",
       "      <td>https://www.oregon.gov/newsroom/Pages/NewsDeta...</td>\n",
       "      <td>NaN</td>\n",
       "    </tr>\n",
       "    <tr>\n",
       "      <th>4</th>\n",
       "      <td>Governor Kotek and First Lady Reflect on One O...</td>\n",
       "      <td>December 18, 2023</td>\n",
       "      <td>https://www.oregon.gov/newsroom/Pages/NewsDeta...</td>\n",
       "      <td>NaN</td>\n",
       "    </tr>\n",
       "  </tbody>\n",
       "</table>\n",
       "</div>"
      ],
      "text/plain": [
       "                                               title               date  \\\n",
       "0  Governor Kotek Appoints Klamath County Distric...  December 21, 2023   \n",
       "1  Governor Kotek Issues Statement on Passage of ...  December 21, 2023   \n",
       "2  Governor Kotek Issues Statement on Siletz Cons...  December 20, 2023   \n",
       "3  Governor Kotek Orders Flags Lowered in Memory ...  December 18, 2023   \n",
       "4  Governor Kotek and First Lady Reflect on One O...  December 18, 2023   \n",
       "\n",
       "                                                link  content  \n",
       "0  https://www.oregon.gov/newsroom/Pages/NewsDeta...      NaN  \n",
       "1  https://www.oregon.gov/newsroom/Pages/NewsDeta...      NaN  \n",
       "2  https://www.oregon.gov/newsroom/Pages/NewsDeta...      NaN  \n",
       "3  https://www.oregon.gov/newsroom/Pages/NewsDeta...      NaN  \n",
       "4  https://www.oregon.gov/newsroom/Pages/NewsDeta...      NaN  "
      ]
     },
     "execution_count": 55,
     "metadata": {},
     "output_type": "execute_result"
    }
   ],
   "source": [
    "test = pd.read_csv(f'{state}_links.csv')\n",
    "test.head()"
   ]
  },
  {
   "cell_type": "markdown",
   "id": "92cf01bb",
   "metadata": {},
   "source": [
    "## Scrape content from links\n",
    "`Beautiful Soup`"
   ]
  },
  {
   "cell_type": "markdown",
   "id": "9e595a8b",
   "metadata": {},
   "source": [
    "### Test with one link"
   ]
  },
  {
   "cell_type": "code",
   "execution_count": 37,
   "id": "497843ea",
   "metadata": {},
   "outputs": [
    {
     "data": {
      "text/plain": [
       "<Response [200]>"
      ]
     },
     "execution_count": 37,
     "metadata": {},
     "output_type": "execute_result"
    }
   ],
   "source": [
    "# test with one\n",
    "link = 'https://www.oregon.gov/newsroom/Pages/NewsDetail.aspx?newsid=207105'\n",
    "server_response = requests.get(link, headers = header_list)\n",
    "server_response"
   ]
  },
  {
   "cell_type": "code",
   "execution_count": 46,
   "id": "30642e3a",
   "metadata": {},
   "outputs": [
    {
     "data": {
      "text/plain": [
       "'   Salem, OR—Media availability to be held on Tuesday, Kotek’s first full day in office[Salem, OR] - Tina Kotek will be sworn in as the 39th Governor of the State of Oregon on Monday, January 9, 2023.Chief Justice Meagan A. Flynn will administer the Oath of Office, and then the new Governor will give her inaugural address before a Joint Session of the Oregon Legislative Assembly.MONDAY: Tina Kotek to be sworn in as Oregon GovernorWhat: Joint Session to receive the Inaugural Address of the Honorable Tina Kotek, Governor-Elect of the State of OregonWhen: Monday, January 9, 1:00 pmWhere: Oregon State Capitol, House ChamberMedia members should plan to enter through the center doors on State Street on the south side of the Capitol. This is the same entrance for the general public. All who enter the Capitol must pass through a metal detector and bags will be scanned by on-site security.For the Joint Session in the House chamber, the only space available for media members are the six spots in the rear gallery, which will be first come, first serve. Media members who are not able to utilize the limited seating capacity in the House chamber can watch a livestream of the Joint Session in hearing rooms A – E. Capacity is 90 people per room.Live streaming of the events will be available remotely on the Oregon Legislative website  here.  Questions regarding media logistics should be directed to Danny Moran in the House Speaker’s Office, Danny.Moran@oregonlegislature.gov.TUESDAY: Media availability with Governor Kotek on her first full day in officeWhat: Media availability with Governor KotekWhen: Tuesday, January 10, 1:00pmWhere: Salem. Media must RSVP to press@tinafororegon.comfor additional details. '"
      ]
     },
     "execution_count": 46,
     "metadata": {},
     "output_type": "execute_result"
    }
   ],
   "source": [
    "# test with one contd \n",
    "soup_link = bs4.BeautifulSoup(server_response.content, features=\"html.parser\")\n",
    "result = soup_link.find('div', class_ = 'col-md-9 or-newsroom-article-main-content')\n",
    "string_result = [str(i.text) for i in result]\n",
    "string_result_clean = [i.replace(u'\\xa0', u'') for i in string_result]\n",
    "string_result_clean = [i.replace(u'\\n', u'') for i in string_result_clean]\n",
    "result_merged = \" \".join(string_result_clean)\n",
    "result_merged"
   ]
  },
  {
   "cell_type": "code",
   "execution_count": null,
   "id": "e576a6d5",
   "metadata": {},
   "outputs": [],
   "source": [
    "# define link scraping \n",
    "def get_oregon_content(link, df, header_list): \n",
    "    try: \n",
    "        # check if content has already been pulled\n",
    "        result = df.loc[df.link == link, 'content'].notnull().all()\n",
    "        if result:\n",
    "            return f'content already existing for {link}' \n",
    "        else: \n",
    "            try: \n",
    "                server_response = requests.get(link, headers = header_list)\n",
    "                soup_link = bs4.BeautifulSoup(server_response.content, features=\"html.parser\")\n",
    "                soup_link = bs4.BeautifulSoup(server_response.content, features=\"html.parser\")\n",
    "                result = soup_link.find('div', class_ = 'col-md-9 or-newsroom-article-main-content')\n",
    "                string_result = [str(i.text) for i in result]\n",
    "                string_result_clean = [i.replace(u'\\xa0', u'') for i in string_result]\n",
    "                string_result_clean = [i.replace(u'\\n', u'') for i in string_result_clean]\n",
    "                result_merged = \" \".join(string_result_clean)\n",
    "                \n",
    "                df.loc[df.link == link, 'content'] = result_merged\n",
    "                return f\"success: content added from {link}\"\n",
    "            except: \n",
    "                pass\n",
    "    except Exception as e: \n",
    "        return f\"unable to gather content from {link} due to {e}\"\n",
    "    #return df_updated "
   ]
  },
  {
   "cell_type": "code",
   "execution_count": 57,
   "id": "60fbdc9f",
   "metadata": {},
   "outputs": [
    {
     "data": {
      "text/plain": [
       "'success: content added from https://www.oregon.gov/newsroom/Pages/NewsDetail.aspx?newsid=215081'"
      ]
     },
     "execution_count": 57,
     "metadata": {},
     "output_type": "execute_result"
    },
    {
     "data": {
      "text/plain": [
       "'success: content added from https://www.oregon.gov/newsroom/Pages/NewsDetail.aspx?newsid=215074'"
      ]
     },
     "execution_count": 57,
     "metadata": {},
     "output_type": "execute_result"
    },
    {
     "data": {
      "text/plain": [
       "'success: content added from https://www.oregon.gov/newsroom/Pages/NewsDetail.aspx?newsid=215071'"
      ]
     },
     "execution_count": 57,
     "metadata": {},
     "output_type": "execute_result"
    },
    {
     "data": {
      "text/plain": [
       "'success: content added from https://www.oregon.gov/newsroom/Pages/NewsDetail.aspx?newsid=203173'"
      ]
     },
     "execution_count": 57,
     "metadata": {},
     "output_type": "execute_result"
    },
    {
     "data": {
      "text/plain": [
       "'success: content added from https://www.oregon.gov/newsroom/Pages/NewsDetail.aspx?newsid=203171'"
      ]
     },
     "execution_count": 57,
     "metadata": {},
     "output_type": "execute_result"
    },
    {
     "data": {
      "text/plain": [
       "'success: content added from https://www.oregon.gov/newsroom/Pages/NewsDetail.aspx?newsid=203169'"
      ]
     },
     "execution_count": 57,
     "metadata": {},
     "output_type": "execute_result"
    },
    {
     "data": {
      "text/html": [
       "<div>\n",
       "<style scoped>\n",
       "    .dataframe tbody tr th:only-of-type {\n",
       "        vertical-align: middle;\n",
       "    }\n",
       "\n",
       "    .dataframe tbody tr th {\n",
       "        vertical-align: top;\n",
       "    }\n",
       "\n",
       "    .dataframe thead th {\n",
       "        text-align: right;\n",
       "    }\n",
       "</style>\n",
       "<table border=\"1\" class=\"dataframe\">\n",
       "  <thead>\n",
       "    <tr style=\"text-align: right;\">\n",
       "      <th></th>\n",
       "      <th>title</th>\n",
       "      <th>date</th>\n",
       "      <th>link</th>\n",
       "      <th>content</th>\n",
       "    </tr>\n",
       "  </thead>\n",
       "  <tbody>\n",
       "    <tr>\n",
       "      <th>0</th>\n",
       "      <td>Governor Kotek Appoints Klamath County Distric...</td>\n",
       "      <td>December 21, 2023</td>\n",
       "      <td>https://www.oregon.gov/newsroom/Pages/NewsDeta...</td>\n",
       "      <td>Salem, OR—Today, Governor Tina Kotek announ...</td>\n",
       "    </tr>\n",
       "    <tr>\n",
       "      <th>1</th>\n",
       "      <td>Governor Kotek Issues Statement on Passage of ...</td>\n",
       "      <td>December 21, 2023</td>\n",
       "      <td>https://www.oregon.gov/newsroom/Pages/NewsDeta...</td>\n",
       "      <td>Salem, OR—Today, Governor Tina Kotek made t...</td>\n",
       "    </tr>\n",
       "    <tr>\n",
       "      <th>2</th>\n",
       "      <td>Governor Kotek Issues Statement on Siletz Cons...</td>\n",
       "      <td>December 20, 2023</td>\n",
       "      <td>https://www.oregon.gov/newsroom/Pages/NewsDeta...</td>\n",
       "      <td>Salem, OR—Today, Governor Tina Kotek made t...</td>\n",
       "    </tr>\n",
       "    <tr>\n",
       "      <th>3</th>\n",
       "      <td>Governor Kotek Orders Flags Lowered in Memory ...</td>\n",
       "      <td>December 18, 2023</td>\n",
       "      <td>https://www.oregon.gov/newsroom/Pages/NewsDeta...</td>\n",
       "      <td>Salem, OR—Today, Governor Tina Kotek ordere...</td>\n",
       "    </tr>\n",
       "    <tr>\n",
       "      <th>4</th>\n",
       "      <td>Governor Kotek and First Lady Reflect on One O...</td>\n",
       "      <td>December 18, 2023</td>\n",
       "      <td>https://www.oregon.gov/newsroom/Pages/NewsDeta...</td>\n",
       "      <td>Governor delivers on promise to visit all 36 ...</td>\n",
       "    </tr>\n",
       "  </tbody>\n",
       "</table>\n",
       "</div>"
      ],
      "text/plain": [
       "                                               title               date  \\\n",
       "0  Governor Kotek Appoints Klamath County Distric...  December 21, 2023   \n",
       "1  Governor Kotek Issues Statement on Passage of ...  December 21, 2023   \n",
       "2  Governor Kotek Issues Statement on Siletz Cons...  December 20, 2023   \n",
       "3  Governor Kotek Orders Flags Lowered in Memory ...  December 18, 2023   \n",
       "4  Governor Kotek and First Lady Reflect on One O...  December 18, 2023   \n",
       "\n",
       "                                                link  \\\n",
       "0  https://www.oregon.gov/newsroom/Pages/NewsDeta...   \n",
       "1  https://www.oregon.gov/newsroom/Pages/NewsDeta...   \n",
       "2  https://www.oregon.gov/newsroom/Pages/NewsDeta...   \n",
       "3  https://www.oregon.gov/newsroom/Pages/NewsDeta...   \n",
       "4  https://www.oregon.gov/newsroom/Pages/NewsDeta...   \n",
       "\n",
       "                                             content  \n",
       "0     Salem, OR—Today, Governor Tina Kotek announ...  \n",
       "1     Salem, OR—Today, Governor Tina Kotek made t...  \n",
       "2     Salem, OR—Today, Governor Tina Kotek made t...  \n",
       "3     Salem, OR—Today, Governor Tina Kotek ordere...  \n",
       "4   Governor delivers on promise to visit all 36 ...  "
      ]
     },
     "execution_count": 57,
     "metadata": {},
     "output_type": "execute_result"
    }
   ],
   "source": [
    "# test on 5 to see if it works\n",
    "# links_2023.content = np.nan\n",
    "\n",
    "for i in combined.link[0:6]:\n",
    "     get_oregon_content(i, combined, header_list)\n",
    "    \n",
    "combined.head()"
   ]
  },
  {
   "cell_type": "markdown",
   "id": "368e981b",
   "metadata": {},
   "source": [
    "### Scrape content from all links"
   ]
  },
  {
   "cell_type": "code",
   "execution_count": 58,
   "id": "4be4977e",
   "metadata": {},
   "outputs": [
    {
     "data": {
      "text/plain": [
       "'content already existing for https://www.oregon.gov/newsroom/Pages/NewsDetail.aspx?newsid=215081'"
      ]
     },
     "execution_count": 58,
     "metadata": {},
     "output_type": "execute_result"
    },
    {
     "data": {
      "text/plain": [
       "'content already existing for https://www.oregon.gov/newsroom/Pages/NewsDetail.aspx?newsid=215074'"
      ]
     },
     "execution_count": 58,
     "metadata": {},
     "output_type": "execute_result"
    },
    {
     "data": {
      "text/plain": [
       "'content already existing for https://www.oregon.gov/newsroom/Pages/NewsDetail.aspx?newsid=215071'"
      ]
     },
     "execution_count": 58,
     "metadata": {},
     "output_type": "execute_result"
    },
    {
     "data": {
      "text/plain": [
       "'content already existing for https://www.oregon.gov/newsroom/Pages/NewsDetail.aspx?newsid=203173'"
      ]
     },
     "execution_count": 58,
     "metadata": {},
     "output_type": "execute_result"
    },
    {
     "data": {
      "text/plain": [
       "'content already existing for https://www.oregon.gov/newsroom/Pages/NewsDetail.aspx?newsid=203171'"
      ]
     },
     "execution_count": 58,
     "metadata": {},
     "output_type": "execute_result"
    },
    {
     "data": {
      "text/plain": [
       "'content already existing for https://www.oregon.gov/newsroom/Pages/NewsDetail.aspx?newsid=203169'"
      ]
     },
     "execution_count": 58,
     "metadata": {},
     "output_type": "execute_result"
    },
    {
     "data": {
      "text/plain": [
       "'success: content added from https://www.oregon.gov/newsroom/Pages/NewsDetail.aspx?newsid=203167'"
      ]
     },
     "execution_count": 58,
     "metadata": {},
     "output_type": "execute_result"
    },
    {
     "data": {
      "text/plain": [
       "'success: content added from https://www.oregon.gov/newsroom/Pages/NewsDetail.aspx?newsid=203159'"
      ]
     },
     "execution_count": 58,
     "metadata": {},
     "output_type": "execute_result"
    },
    {
     "data": {
      "text/plain": [
       "'success: content added from https://www.oregon.gov/newsroom/Pages/NewsDetail.aspx?newsid=203157'"
      ]
     },
     "execution_count": 58,
     "metadata": {},
     "output_type": "execute_result"
    },
    {
     "data": {
      "text/plain": [
       "'success: content added from https://www.oregon.gov/newsroom/Pages/NewsDetail.aspx?newsid=203153'"
      ]
     },
     "execution_count": 58,
     "metadata": {},
     "output_type": "execute_result"
    },
    {
     "data": {
      "text/plain": [
       "'success: content added from https://www.oregon.gov/newsroom/Pages/NewsDetail.aspx?newsid=203183'"
      ]
     },
     "execution_count": 58,
     "metadata": {},
     "output_type": "execute_result"
    },
    {
     "data": {
      "text/plain": [
       "'success: content added from https://www.oregon.gov/newsroom/Pages/NewsDetail.aspx?newsid=203991'"
      ]
     },
     "execution_count": 58,
     "metadata": {},
     "output_type": "execute_result"
    },
    {
     "data": {
      "text/plain": [
       "'success: content added from https://www.oregon.gov/newsroom/Pages/NewsDetail.aspx?newsid=204665'"
      ]
     },
     "execution_count": 58,
     "metadata": {},
     "output_type": "execute_result"
    },
    {
     "data": {
      "text/plain": [
       "'success: content added from https://www.oregon.gov/newsroom/Pages/NewsDetail.aspx?newsid=203925'"
      ]
     },
     "execution_count": 58,
     "metadata": {},
     "output_type": "execute_result"
    },
    {
     "data": {
      "text/plain": [
       "'success: content added from https://www.oregon.gov/newsroom/Pages/NewsDetail.aspx?newsid=204651'"
      ]
     },
     "execution_count": 58,
     "metadata": {},
     "output_type": "execute_result"
    },
    {
     "data": {
      "text/plain": [
       "'success: content added from https://www.oregon.gov/newsroom/Pages/NewsDetail.aspx?newsid=203921'"
      ]
     },
     "execution_count": 58,
     "metadata": {},
     "output_type": "execute_result"
    },
    {
     "data": {
      "text/plain": [
       "'success: content added from https://www.oregon.gov/newsroom/Pages/NewsDetail.aspx?newsid=204631'"
      ]
     },
     "execution_count": 58,
     "metadata": {},
     "output_type": "execute_result"
    },
    {
     "data": {
      "text/plain": [
       "'success: content added from https://www.oregon.gov/newsroom/Pages/NewsDetail.aspx?newsid=204625'"
      ]
     },
     "execution_count": 58,
     "metadata": {},
     "output_type": "execute_result"
    },
    {
     "data": {
      "text/plain": [
       "'success: content added from https://www.oregon.gov/newsroom/Pages/NewsDetail.aspx?newsid=203331'"
      ]
     },
     "execution_count": 58,
     "metadata": {},
     "output_type": "execute_result"
    },
    {
     "data": {
      "text/plain": [
       "'success: content added from https://www.oregon.gov/newsroom/Pages/NewsDetail.aspx?newsid=203325'"
      ]
     },
     "execution_count": 58,
     "metadata": {},
     "output_type": "execute_result"
    },
    {
     "data": {
      "text/plain": [
       "'success: content added from https://www.oregon.gov/newsroom/Pages/NewsDetail.aspx?newsid=204581'"
      ]
     },
     "execution_count": 58,
     "metadata": {},
     "output_type": "execute_result"
    },
    {
     "data": {
      "text/plain": [
       "'success: content added from https://www.oregon.gov/newsroom/Pages/NewsDetail.aspx?newsid=204579'"
      ]
     },
     "execution_count": 58,
     "metadata": {},
     "output_type": "execute_result"
    },
    {
     "data": {
      "text/plain": [
       "'success: content added from https://www.oregon.gov/newsroom/Pages/NewsDetail.aspx?newsid=204563'"
      ]
     },
     "execution_count": 58,
     "metadata": {},
     "output_type": "execute_result"
    },
    {
     "data": {
      "text/plain": [
       "'success: content added from https://www.oregon.gov/newsroom/Pages/NewsDetail.aspx?newsid=204573'"
      ]
     },
     "execution_count": 58,
     "metadata": {},
     "output_type": "execute_result"
    },
    {
     "data": {
      "text/plain": [
       "'success: content added from https://www.oregon.gov/newsroom/Pages/NewsDetail.aspx?newsid=204561'"
      ]
     },
     "execution_count": 58,
     "metadata": {},
     "output_type": "execute_result"
    },
    {
     "data": {
      "text/plain": [
       "'success: content added from https://www.oregon.gov/newsroom/Pages/NewsDetail.aspx?newsid=204553'"
      ]
     },
     "execution_count": 58,
     "metadata": {},
     "output_type": "execute_result"
    },
    {
     "data": {
      "text/plain": [
       "'success: content added from https://www.oregon.gov/newsroom/Pages/NewsDetail.aspx?newsid=204551'"
      ]
     },
     "execution_count": 58,
     "metadata": {},
     "output_type": "execute_result"
    },
    {
     "data": {
      "text/plain": [
       "'success: content added from https://www.oregon.gov/newsroom/Pages/NewsDetail.aspx?newsid=204539'"
      ]
     },
     "execution_count": 58,
     "metadata": {},
     "output_type": "execute_result"
    },
    {
     "data": {
      "text/plain": [
       "'success: content added from https://www.oregon.gov/newsroom/Pages/NewsDetail.aspx?newsid=203621'"
      ]
     },
     "execution_count": 58,
     "metadata": {},
     "output_type": "execute_result"
    },
    {
     "data": {
      "text/plain": [
       "'success: content added from https://www.oregon.gov/newsroom/Pages/NewsDetail.aspx?newsid=204517'"
      ]
     },
     "execution_count": 58,
     "metadata": {},
     "output_type": "execute_result"
    },
    {
     "data": {
      "text/plain": [
       "'content already existing for https://www.oregon.gov/newsroom/Pages/NewsDetail.aspx?newsid=215081'"
      ]
     },
     "execution_count": 58,
     "metadata": {},
     "output_type": "execute_result"
    },
    {
     "data": {
      "text/plain": [
       "'content already existing for https://www.oregon.gov/newsroom/Pages/NewsDetail.aspx?newsid=215074'"
      ]
     },
     "execution_count": 58,
     "metadata": {},
     "output_type": "execute_result"
    },
    {
     "data": {
      "text/plain": [
       "'content already existing for https://www.oregon.gov/newsroom/Pages/NewsDetail.aspx?newsid=215071'"
      ]
     },
     "execution_count": 58,
     "metadata": {},
     "output_type": "execute_result"
    },
    {
     "data": {
      "text/plain": [
       "'content already existing for https://www.oregon.gov/newsroom/Pages/NewsDetail.aspx?newsid=203173'"
      ]
     },
     "execution_count": 58,
     "metadata": {},
     "output_type": "execute_result"
    },
    {
     "data": {
      "text/plain": [
       "'content already existing for https://www.oregon.gov/newsroom/Pages/NewsDetail.aspx?newsid=203171'"
      ]
     },
     "execution_count": 58,
     "metadata": {},
     "output_type": "execute_result"
    },
    {
     "data": {
      "text/plain": [
       "'content already existing for https://www.oregon.gov/newsroom/Pages/NewsDetail.aspx?newsid=203169'"
      ]
     },
     "execution_count": 58,
     "metadata": {},
     "output_type": "execute_result"
    },
    {
     "data": {
      "text/plain": [
       "'content already existing for https://www.oregon.gov/newsroom/Pages/NewsDetail.aspx?newsid=203167'"
      ]
     },
     "execution_count": 58,
     "metadata": {},
     "output_type": "execute_result"
    },
    {
     "data": {
      "text/plain": [
       "'content already existing for https://www.oregon.gov/newsroom/Pages/NewsDetail.aspx?newsid=203159'"
      ]
     },
     "execution_count": 58,
     "metadata": {},
     "output_type": "execute_result"
    },
    {
     "data": {
      "text/plain": [
       "'content already existing for https://www.oregon.gov/newsroom/Pages/NewsDetail.aspx?newsid=203157'"
      ]
     },
     "execution_count": 58,
     "metadata": {},
     "output_type": "execute_result"
    },
    {
     "data": {
      "text/plain": [
       "'content already existing for https://www.oregon.gov/newsroom/Pages/NewsDetail.aspx?newsid=203153'"
      ]
     },
     "execution_count": 58,
     "metadata": {},
     "output_type": "execute_result"
    },
    {
     "data": {
      "text/plain": [
       "'content already existing for https://www.oregon.gov/newsroom/Pages/NewsDetail.aspx?newsid=203183'"
      ]
     },
     "execution_count": 58,
     "metadata": {},
     "output_type": "execute_result"
    },
    {
     "data": {
      "text/plain": [
       "'content already existing for https://www.oregon.gov/newsroom/Pages/NewsDetail.aspx?newsid=203991'"
      ]
     },
     "execution_count": 58,
     "metadata": {},
     "output_type": "execute_result"
    },
    {
     "data": {
      "text/plain": [
       "'content already existing for https://www.oregon.gov/newsroom/Pages/NewsDetail.aspx?newsid=204665'"
      ]
     },
     "execution_count": 58,
     "metadata": {},
     "output_type": "execute_result"
    },
    {
     "data": {
      "text/plain": [
       "'content already existing for https://www.oregon.gov/newsroom/Pages/NewsDetail.aspx?newsid=203925'"
      ]
     },
     "execution_count": 58,
     "metadata": {},
     "output_type": "execute_result"
    },
    {
     "data": {
      "text/plain": [
       "'content already existing for https://www.oregon.gov/newsroom/Pages/NewsDetail.aspx?newsid=204651'"
      ]
     },
     "execution_count": 58,
     "metadata": {},
     "output_type": "execute_result"
    },
    {
     "data": {
      "text/plain": [
       "'content already existing for https://www.oregon.gov/newsroom/Pages/NewsDetail.aspx?newsid=203921'"
      ]
     },
     "execution_count": 58,
     "metadata": {},
     "output_type": "execute_result"
    },
    {
     "data": {
      "text/plain": [
       "'content already existing for https://www.oregon.gov/newsroom/Pages/NewsDetail.aspx?newsid=204631'"
      ]
     },
     "execution_count": 58,
     "metadata": {},
     "output_type": "execute_result"
    },
    {
     "data": {
      "text/plain": [
       "'content already existing for https://www.oregon.gov/newsroom/Pages/NewsDetail.aspx?newsid=204625'"
      ]
     },
     "execution_count": 58,
     "metadata": {},
     "output_type": "execute_result"
    },
    {
     "data": {
      "text/plain": [
       "'content already existing for https://www.oregon.gov/newsroom/Pages/NewsDetail.aspx?newsid=203331'"
      ]
     },
     "execution_count": 58,
     "metadata": {},
     "output_type": "execute_result"
    },
    {
     "data": {
      "text/plain": [
       "'content already existing for https://www.oregon.gov/newsroom/Pages/NewsDetail.aspx?newsid=203325'"
      ]
     },
     "execution_count": 58,
     "metadata": {},
     "output_type": "execute_result"
    },
    {
     "data": {
      "text/plain": [
       "'content already existing for https://www.oregon.gov/newsroom/Pages/NewsDetail.aspx?newsid=204581'"
      ]
     },
     "execution_count": 58,
     "metadata": {},
     "output_type": "execute_result"
    },
    {
     "data": {
      "text/plain": [
       "'content already existing for https://www.oregon.gov/newsroom/Pages/NewsDetail.aspx?newsid=204579'"
      ]
     },
     "execution_count": 58,
     "metadata": {},
     "output_type": "execute_result"
    },
    {
     "data": {
      "text/plain": [
       "'content already existing for https://www.oregon.gov/newsroom/Pages/NewsDetail.aspx?newsid=204563'"
      ]
     },
     "execution_count": 58,
     "metadata": {},
     "output_type": "execute_result"
    },
    {
     "data": {
      "text/plain": [
       "'content already existing for https://www.oregon.gov/newsroom/Pages/NewsDetail.aspx?newsid=204573'"
      ]
     },
     "execution_count": 58,
     "metadata": {},
     "output_type": "execute_result"
    },
    {
     "data": {
      "text/plain": [
       "'content already existing for https://www.oregon.gov/newsroom/Pages/NewsDetail.aspx?newsid=204561'"
      ]
     },
     "execution_count": 58,
     "metadata": {},
     "output_type": "execute_result"
    },
    {
     "data": {
      "text/plain": [
       "'content already existing for https://www.oregon.gov/newsroom/Pages/NewsDetail.aspx?newsid=204553'"
      ]
     },
     "execution_count": 58,
     "metadata": {},
     "output_type": "execute_result"
    },
    {
     "data": {
      "text/plain": [
       "'content already existing for https://www.oregon.gov/newsroom/Pages/NewsDetail.aspx?newsid=204551'"
      ]
     },
     "execution_count": 58,
     "metadata": {},
     "output_type": "execute_result"
    },
    {
     "data": {
      "text/plain": [
       "'content already existing for https://www.oregon.gov/newsroom/Pages/NewsDetail.aspx?newsid=204539'"
      ]
     },
     "execution_count": 58,
     "metadata": {},
     "output_type": "execute_result"
    },
    {
     "data": {
      "text/plain": [
       "'content already existing for https://www.oregon.gov/newsroom/Pages/NewsDetail.aspx?newsid=203621'"
      ]
     },
     "execution_count": 58,
     "metadata": {},
     "output_type": "execute_result"
    },
    {
     "data": {
      "text/plain": [
       "'content already existing for https://www.oregon.gov/newsroom/Pages/NewsDetail.aspx?newsid=204517'"
      ]
     },
     "execution_count": 58,
     "metadata": {},
     "output_type": "execute_result"
    },
    {
     "data": {
      "text/plain": [
       "'success: content added from https://www.oregon.gov/newsroom/Pages/NewsDetail.aspx?newsid=204509'"
      ]
     },
     "execution_count": 58,
     "metadata": {},
     "output_type": "execute_result"
    },
    {
     "data": {
      "text/plain": [
       "'success: content added from https://www.oregon.gov/newsroom/Pages/NewsDetail.aspx?newsid=203377'"
      ]
     },
     "execution_count": 58,
     "metadata": {},
     "output_type": "execute_result"
    },
    {
     "data": {
      "text/plain": [
       "'success: content added from https://www.oregon.gov/newsroom/Pages/NewsDetail.aspx?newsid=204489'"
      ]
     },
     "execution_count": 58,
     "metadata": {},
     "output_type": "execute_result"
    },
    {
     "data": {
      "text/plain": [
       "'success: content added from https://www.oregon.gov/newsroom/Pages/NewsDetail.aspx?newsid=204487'"
      ]
     },
     "execution_count": 58,
     "metadata": {},
     "output_type": "execute_result"
    },
    {
     "data": {
      "text/plain": [
       "'success: content added from https://www.oregon.gov/newsroom/Pages/NewsDetail.aspx?newsid=204479'"
      ]
     },
     "execution_count": 58,
     "metadata": {},
     "output_type": "execute_result"
    },
    {
     "data": {
      "text/plain": [
       "'success: content added from https://www.oregon.gov/newsroom/Pages/NewsDetail.aspx?newsid=204469'"
      ]
     },
     "execution_count": 58,
     "metadata": {},
     "output_type": "execute_result"
    },
    {
     "data": {
      "text/plain": [
       "'success: content added from https://www.oregon.gov/newsroom/Pages/NewsDetail.aspx?newsid=204467'"
      ]
     },
     "execution_count": 58,
     "metadata": {},
     "output_type": "execute_result"
    },
    {
     "data": {
      "text/plain": [
       "'success: content added from https://www.oregon.gov/newsroom/Pages/NewsDetail.aspx?newsid=204465'"
      ]
     },
     "execution_count": 58,
     "metadata": {},
     "output_type": "execute_result"
    },
    {
     "data": {
      "text/plain": [
       "'success: content added from https://www.oregon.gov/newsroom/Pages/NewsDetail.aspx?newsid=204455'"
      ]
     },
     "execution_count": 58,
     "metadata": {},
     "output_type": "execute_result"
    },
    {
     "data": {
      "text/plain": [
       "'success: content added from https://www.oregon.gov/newsroom/Pages/NewsDetail.aspx?newsid=204417'"
      ]
     },
     "execution_count": 58,
     "metadata": {},
     "output_type": "execute_result"
    },
    {
     "data": {
      "text/plain": [
       "'success: content added from https://www.oregon.gov/newsroom/Pages/NewsDetail.aspx?newsid=204411'"
      ]
     },
     "execution_count": 58,
     "metadata": {},
     "output_type": "execute_result"
    },
    {
     "data": {
      "text/plain": [
       "'success: content added from https://www.oregon.gov/newsroom/Pages/NewsDetail.aspx?newsid=204413'"
      ]
     },
     "execution_count": 58,
     "metadata": {},
     "output_type": "execute_result"
    },
    {
     "data": {
      "text/plain": [
       "'success: content added from https://www.oregon.gov/newsroom/Pages/NewsDetail.aspx?newsid=204299'"
      ]
     },
     "execution_count": 58,
     "metadata": {},
     "output_type": "execute_result"
    },
    {
     "data": {
      "text/plain": [
       "'success: content added from https://www.oregon.gov/newsroom/Pages/NewsDetail.aspx?newsid=204277'"
      ]
     },
     "execution_count": 58,
     "metadata": {},
     "output_type": "execute_result"
    },
    {
     "data": {
      "text/plain": [
       "'success: content added from https://www.oregon.gov/newsroom/Pages/NewsDetail.aspx?newsid=204279'"
      ]
     },
     "execution_count": 58,
     "metadata": {},
     "output_type": "execute_result"
    },
    {
     "data": {
      "text/plain": [
       "'success: content added from https://www.oregon.gov/newsroom/Pages/NewsDetail.aspx?newsid=204271'"
      ]
     },
     "execution_count": 58,
     "metadata": {},
     "output_type": "execute_result"
    },
    {
     "data": {
      "text/plain": [
       "'success: content added from https://www.oregon.gov/newsroom/Pages/NewsDetail.aspx?newsid=204263'"
      ]
     },
     "execution_count": 58,
     "metadata": {},
     "output_type": "execute_result"
    },
    {
     "data": {
      "text/plain": [
       "'success: content added from https://www.oregon.gov/newsroom/Pages/NewsDetail.aspx?newsid=204259'"
      ]
     },
     "execution_count": 58,
     "metadata": {},
     "output_type": "execute_result"
    },
    {
     "data": {
      "text/plain": [
       "'success: content added from https://www.oregon.gov/newsroom/Pages/NewsDetail.aspx?newsid=204239'"
      ]
     },
     "execution_count": 58,
     "metadata": {},
     "output_type": "execute_result"
    },
    {
     "data": {
      "text/plain": [
       "'success: content added from https://www.oregon.gov/newsroom/Pages/NewsDetail.aspx?newsid=204235'"
      ]
     },
     "execution_count": 58,
     "metadata": {},
     "output_type": "execute_result"
    },
    {
     "data": {
      "text/plain": [
       "'success: content added from https://www.oregon.gov/newsroom/Pages/NewsDetail.aspx?newsid=204199'"
      ]
     },
     "execution_count": 58,
     "metadata": {},
     "output_type": "execute_result"
    },
    {
     "data": {
      "text/plain": [
       "'success: content added from https://www.oregon.gov/newsroom/Pages/NewsDetail.aspx?newsid=204181'"
      ]
     },
     "execution_count": 58,
     "metadata": {},
     "output_type": "execute_result"
    },
    {
     "data": {
      "text/plain": [
       "'success: content added from https://www.oregon.gov/newsroom/Pages/NewsDetail.aspx?newsid=203179'"
      ]
     },
     "execution_count": 58,
     "metadata": {},
     "output_type": "execute_result"
    },
    {
     "data": {
      "text/plain": [
       "'success: content added from https://www.oregon.gov/newsroom/Pages/NewsDetail.aspx?newsid=204453'"
      ]
     },
     "execution_count": 58,
     "metadata": {},
     "output_type": "execute_result"
    },
    {
     "data": {
      "text/plain": [
       "'success: content added from https://www.oregon.gov/newsroom/Pages/NewsDetail.aspx?newsid=204445'"
      ]
     },
     "execution_count": 58,
     "metadata": {},
     "output_type": "execute_result"
    },
    {
     "data": {
      "text/plain": [
       "'success: content added from https://www.oregon.gov/newsroom/Pages/NewsDetail.aspx?newsid=204441'"
      ]
     },
     "execution_count": 58,
     "metadata": {},
     "output_type": "execute_result"
    },
    {
     "data": {
      "text/plain": [
       "'success: content added from https://www.oregon.gov/newsroom/Pages/NewsDetail.aspx?newsid=204431'"
      ]
     },
     "execution_count": 58,
     "metadata": {},
     "output_type": "execute_result"
    },
    {
     "data": {
      "text/plain": [
       "'success: content added from https://www.oregon.gov/newsroom/Pages/NewsDetail.aspx?newsid=204429'"
      ]
     },
     "execution_count": 58,
     "metadata": {},
     "output_type": "execute_result"
    },
    {
     "data": {
      "text/plain": [
       "'success: content added from https://www.oregon.gov/newsroom/Pages/NewsDetail.aspx?newsid=204425'"
      ]
     },
     "execution_count": 58,
     "metadata": {},
     "output_type": "execute_result"
    },
    {
     "data": {
      "text/plain": [
       "'success: content added from https://www.oregon.gov/newsroom/Pages/NewsDetail.aspx?newsid=204407'"
      ]
     },
     "execution_count": 58,
     "metadata": {},
     "output_type": "execute_result"
    },
    {
     "data": {
      "text/plain": [
       "'success: content added from https://www.oregon.gov/newsroom/Pages/NewsDetail.aspx?newsid=203735'"
      ]
     },
     "execution_count": 58,
     "metadata": {},
     "output_type": "execute_result"
    },
    {
     "data": {
      "text/plain": [
       "'success: content added from https://www.oregon.gov/newsroom/Pages/NewsDetail.aspx?newsid=203733'"
      ]
     },
     "execution_count": 58,
     "metadata": {},
     "output_type": "execute_result"
    },
    {
     "data": {
      "text/plain": [
       "'success: content added from https://www.oregon.gov/newsroom/Pages/NewsDetail.aspx?newsid=203729'"
      ]
     },
     "execution_count": 58,
     "metadata": {},
     "output_type": "execute_result"
    },
    {
     "data": {
      "text/plain": [
       "'success: content added from https://www.oregon.gov/newsroom/Pages/NewsDetail.aspx?newsid=203727'"
      ]
     },
     "execution_count": 58,
     "metadata": {},
     "output_type": "execute_result"
    },
    {
     "data": {
      "text/plain": [
       "'success: content added from https://www.oregon.gov/newsroom/Pages/NewsDetail.aspx?newsid=203725'"
      ]
     },
     "execution_count": 58,
     "metadata": {},
     "output_type": "execute_result"
    },
    {
     "data": {
      "text/plain": [
       "'success: content added from https://www.oregon.gov/newsroom/Pages/NewsDetail.aspx?newsid=204401'"
      ]
     },
     "execution_count": 58,
     "metadata": {},
     "output_type": "execute_result"
    },
    {
     "data": {
      "text/plain": [
       "'success: content added from https://www.oregon.gov/newsroom/Pages/NewsDetail.aspx?newsid=204395'"
      ]
     },
     "execution_count": 58,
     "metadata": {},
     "output_type": "execute_result"
    },
    {
     "data": {
      "text/plain": [
       "'success: content added from https://www.oregon.gov/newsroom/Pages/NewsDetail.aspx?newsid=204393'"
      ]
     },
     "execution_count": 58,
     "metadata": {},
     "output_type": "execute_result"
    },
    {
     "data": {
      "text/plain": [
       "'success: content added from https://www.oregon.gov/newsroom/Pages/NewsDetail.aspx?newsid=204363'"
      ]
     },
     "execution_count": 58,
     "metadata": {},
     "output_type": "execute_result"
    },
    {
     "data": {
      "text/plain": [
       "'success: content added from https://www.oregon.gov/newsroom/Pages/NewsDetail.aspx?newsid=204361'"
      ]
     },
     "execution_count": 58,
     "metadata": {},
     "output_type": "execute_result"
    },
    {
     "data": {
      "text/plain": [
       "'success: content added from https://www.oregon.gov/newsroom/Pages/NewsDetail.aspx?newsid=204347'"
      ]
     },
     "execution_count": 58,
     "metadata": {},
     "output_type": "execute_result"
    },
    {
     "data": {
      "text/plain": [
       "'success: content added from https://www.oregon.gov/newsroom/Pages/NewsDetail.aspx?newsid=204323'"
      ]
     },
     "execution_count": 58,
     "metadata": {},
     "output_type": "execute_result"
    },
    {
     "data": {
      "text/plain": [
       "'success: content added from https://www.oregon.gov/newsroom/Pages/NewsDetail.aspx?newsid=204315'"
      ]
     },
     "execution_count": 58,
     "metadata": {},
     "output_type": "execute_result"
    },
    {
     "data": {
      "text/plain": [
       "'success: content added from https://www.oregon.gov/newsroom/Pages/NewsDetail.aspx?newsid=204307'"
      ]
     },
     "execution_count": 58,
     "metadata": {},
     "output_type": "execute_result"
    },
    {
     "data": {
      "text/plain": [
       "'success: content added from https://www.oregon.gov/newsroom/Pages/NewsDetail.aspx?newsid=204319'"
      ]
     },
     "execution_count": 58,
     "metadata": {},
     "output_type": "execute_result"
    },
    {
     "data": {
      "text/plain": [
       "'success: content added from https://www.oregon.gov/newsroom/Pages/NewsDetail.aspx?newsid=203665'"
      ]
     },
     "execution_count": 58,
     "metadata": {},
     "output_type": "execute_result"
    },
    {
     "data": {
      "text/plain": [
       "'success: content added from https://www.oregon.gov/newsroom/Pages/NewsDetail.aspx?newsid=203659'"
      ]
     },
     "execution_count": 58,
     "metadata": {},
     "output_type": "execute_result"
    },
    {
     "data": {
      "text/plain": [
       "'success: content added from https://www.oregon.gov/newsroom/Pages/NewsDetail.aspx?newsid=204251'"
      ]
     },
     "execution_count": 58,
     "metadata": {},
     "output_type": "execute_result"
    },
    {
     "data": {
      "text/plain": [
       "'success: content added from https://www.oregon.gov/newsroom/Pages/NewsDetail.aspx?newsid=203595'"
      ]
     },
     "execution_count": 58,
     "metadata": {},
     "output_type": "execute_result"
    },
    {
     "data": {
      "text/plain": [
       "'success: content added from https://www.oregon.gov/newsroom/Pages/NewsDetail.aspx?newsid=204243'"
      ]
     },
     "execution_count": 58,
     "metadata": {},
     "output_type": "execute_result"
    },
    {
     "data": {
      "text/plain": [
       "'success: content added from https://www.oregon.gov/newsroom/Pages/NewsDetail.aspx?newsid=204183'"
      ]
     },
     "execution_count": 58,
     "metadata": {},
     "output_type": "execute_result"
    },
    {
     "data": {
      "text/plain": [
       "'success: content added from https://www.oregon.gov/newsroom/Pages/NewsDetail.aspx?newsid=204163'"
      ]
     },
     "execution_count": 58,
     "metadata": {},
     "output_type": "execute_result"
    },
    {
     "data": {
      "text/plain": [
       "'success: content added from https://www.oregon.gov/newsroom/Pages/NewsDetail.aspx?newsid=204161'"
      ]
     },
     "execution_count": 58,
     "metadata": {},
     "output_type": "execute_result"
    },
    {
     "data": {
      "text/plain": [
       "'success: content added from https://www.oregon.gov/newsroom/Pages/NewsDetail.aspx?newsid=203575'"
      ]
     },
     "execution_count": 58,
     "metadata": {},
     "output_type": "execute_result"
    },
    {
     "data": {
      "text/plain": [
       "'success: content added from https://www.oregon.gov/newsroom/Pages/NewsDetail.aspx?newsid=203573'"
      ]
     },
     "execution_count": 58,
     "metadata": {},
     "output_type": "execute_result"
    },
    {
     "data": {
      "text/plain": [
       "'success: content added from https://www.oregon.gov/newsroom/Pages/NewsDetail.aspx?newsid=203569'"
      ]
     },
     "execution_count": 58,
     "metadata": {},
     "output_type": "execute_result"
    },
    {
     "data": {
      "text/plain": [
       "'success: content added from https://www.oregon.gov/newsroom/Pages/NewsDetail.aspx?newsid=203567'"
      ]
     },
     "execution_count": 58,
     "metadata": {},
     "output_type": "execute_result"
    },
    {
     "data": {
      "text/plain": [
       "'success: content added from https://www.oregon.gov/newsroom/Pages/NewsDetail.aspx?newsid=203565'"
      ]
     },
     "execution_count": 58,
     "metadata": {},
     "output_type": "execute_result"
    },
    {
     "data": {
      "text/plain": [
       "'success: content added from https://www.oregon.gov/newsroom/Pages/NewsDetail.aspx?newsid=204151'"
      ]
     },
     "execution_count": 58,
     "metadata": {},
     "output_type": "execute_result"
    },
    {
     "data": {
      "text/plain": [
       "'success: content added from https://www.oregon.gov/newsroom/Pages/NewsDetail.aspx?newsid=204133'"
      ]
     },
     "execution_count": 58,
     "metadata": {},
     "output_type": "execute_result"
    },
    {
     "data": {
      "text/plain": [
       "'success: content added from https://www.oregon.gov/newsroom/Pages/NewsDetail.aspx?newsid=204127'"
      ]
     },
     "execution_count": 58,
     "metadata": {},
     "output_type": "execute_result"
    },
    {
     "data": {
      "text/plain": [
       "'success: content added from https://www.oregon.gov/newsroom/Pages/NewsDetail.aspx?newsid=204029'"
      ]
     },
     "execution_count": 58,
     "metadata": {},
     "output_type": "execute_result"
    },
    {
     "data": {
      "text/plain": [
       "'success: content added from https://www.oregon.gov/newsroom/Pages/NewsDetail.aspx?newsid=203207'"
      ]
     },
     "execution_count": 58,
     "metadata": {},
     "output_type": "execute_result"
    },
    {
     "data": {
      "text/plain": [
       "'success: content added from https://www.oregon.gov/newsroom/Pages/NewsDetail.aspx?newsid=203175'"
      ]
     },
     "execution_count": 58,
     "metadata": {},
     "output_type": "execute_result"
    },
    {
     "data": {
      "text/plain": [
       "'success: content added from https://www.oregon.gov/newsroom/Pages/NewsDetail.aspx?newsid=204045'"
      ]
     },
     "execution_count": 58,
     "metadata": {},
     "output_type": "execute_result"
    },
    {
     "data": {
      "text/plain": [
       "'success: content added from https://www.oregon.gov/newsroom/Pages/NewsDetail.aspx?newsid=204541'"
      ]
     },
     "execution_count": 58,
     "metadata": {},
     "output_type": "execute_result"
    },
    {
     "data": {
      "text/plain": [
       "'success: content added from https://www.oregon.gov/newsroom/Pages/NewsDetail.aspx?newsid=204529'"
      ]
     },
     "execution_count": 58,
     "metadata": {},
     "output_type": "execute_result"
    },
    {
     "data": {
      "text/plain": [
       "'success: content added from https://www.oregon.gov/newsroom/Pages/NewsDetail.aspx?newsid=204527'"
      ]
     },
     "execution_count": 58,
     "metadata": {},
     "output_type": "execute_result"
    },
    {
     "data": {
      "text/plain": [
       "'success: content added from https://www.oregon.gov/newsroom/Pages/NewsDetail.aspx?newsid=204507'"
      ]
     },
     "execution_count": 58,
     "metadata": {},
     "output_type": "execute_result"
    },
    {
     "data": {
      "text/plain": [
       "'success: content added from https://www.oregon.gov/newsroom/Pages/NewsDetail.aspx?newsid=204115'"
      ]
     },
     "execution_count": 58,
     "metadata": {},
     "output_type": "execute_result"
    },
    {
     "data": {
      "text/plain": [
       "'success: content added from https://www.oregon.gov/newsroom/Pages/NewsDetail.aspx?newsid=203545'"
      ]
     },
     "execution_count": 58,
     "metadata": {},
     "output_type": "execute_result"
    },
    {
     "data": {
      "text/plain": [
       "'success: content added from https://www.oregon.gov/newsroom/Pages/NewsDetail.aspx?newsid=203529'"
      ]
     },
     "execution_count": 58,
     "metadata": {},
     "output_type": "execute_result"
    },
    {
     "data": {
      "text/plain": [
       "'success: content added from https://www.oregon.gov/newsroom/Pages/NewsDetail.aspx?newsid=204107'"
      ]
     },
     "execution_count": 58,
     "metadata": {},
     "output_type": "execute_result"
    },
    {
     "data": {
      "text/plain": [
       "'success: content added from https://www.oregon.gov/newsroom/Pages/NewsDetail.aspx?newsid=204103'"
      ]
     },
     "execution_count": 58,
     "metadata": {},
     "output_type": "execute_result"
    },
    {
     "data": {
      "text/plain": [
       "'success: content added from https://www.oregon.gov/newsroom/Pages/NewsDetail.aspx?newsid=203473'"
      ]
     },
     "execution_count": 58,
     "metadata": {},
     "output_type": "execute_result"
    },
    {
     "data": {
      "text/plain": [
       "'success: content added from https://www.oregon.gov/newsroom/Pages/NewsDetail.aspx?newsid=204097'"
      ]
     },
     "execution_count": 58,
     "metadata": {},
     "output_type": "execute_result"
    },
    {
     "data": {
      "text/plain": [
       "'success: content added from https://www.oregon.gov/newsroom/Pages/NewsDetail.aspx?newsid=204091'"
      ]
     },
     "execution_count": 58,
     "metadata": {},
     "output_type": "execute_result"
    },
    {
     "data": {
      "text/plain": [
       "'success: content added from https://www.oregon.gov/newsroom/Pages/NewsDetail.aspx?newsid=204081'"
      ]
     },
     "execution_count": 58,
     "metadata": {},
     "output_type": "execute_result"
    },
    {
     "data": {
      "text/plain": [
       "'success: content added from https://www.oregon.gov/newsroom/Pages/NewsDetail.aspx?newsid=203443'"
      ]
     },
     "execution_count": 58,
     "metadata": {},
     "output_type": "execute_result"
    },
    {
     "data": {
      "text/plain": [
       "'success: content added from https://www.oregon.gov/newsroom/Pages/NewsDetail.aspx?newsid=204077'"
      ]
     },
     "execution_count": 58,
     "metadata": {},
     "output_type": "execute_result"
    },
    {
     "data": {
      "text/plain": [
       "'success: content added from https://www.oregon.gov/newsroom/Pages/NewsDetail.aspx?newsid=204075'"
      ]
     },
     "execution_count": 58,
     "metadata": {},
     "output_type": "execute_result"
    },
    {
     "data": {
      "text/plain": [
       "'success: content added from https://www.oregon.gov/newsroom/Pages/NewsDetail.aspx?newsid=204073'"
      ]
     },
     "execution_count": 58,
     "metadata": {},
     "output_type": "execute_result"
    },
    {
     "data": {
      "text/plain": [
       "'success: content added from https://www.oregon.gov/newsroom/Pages/NewsDetail.aspx?newsid=206243'"
      ]
     },
     "execution_count": 58,
     "metadata": {},
     "output_type": "execute_result"
    },
    {
     "data": {
      "text/plain": [
       "'success: content added from https://www.oregon.gov/newsroom/Pages/NewsDetail.aspx?newsid=206201'"
      ]
     },
     "execution_count": 58,
     "metadata": {},
     "output_type": "execute_result"
    },
    {
     "data": {
      "text/plain": [
       "'success: content added from https://www.oregon.gov/newsroom/Pages/NewsDetail.aspx?newsid=206181'"
      ]
     },
     "execution_count": 58,
     "metadata": {},
     "output_type": "execute_result"
    },
    {
     "data": {
      "text/plain": [
       "'success: content added from https://www.oregon.gov/newsroom/Pages/NewsDetail.aspx?newsid=206157'"
      ]
     },
     "execution_count": 58,
     "metadata": {},
     "output_type": "execute_result"
    },
    {
     "data": {
      "text/plain": [
       "'success: content added from https://www.oregon.gov/newsroom/Pages/NewsDetail.aspx?newsid=206123'"
      ]
     },
     "execution_count": 58,
     "metadata": {},
     "output_type": "execute_result"
    },
    {
     "data": {
      "text/plain": [
       "'success: content added from https://www.oregon.gov/newsroom/Pages/NewsDetail.aspx?newsid=206121'"
      ]
     },
     "execution_count": 58,
     "metadata": {},
     "output_type": "execute_result"
    },
    {
     "data": {
      "text/plain": [
       "'success: content added from https://www.oregon.gov/newsroom/Pages/NewsDetail.aspx?newsid=206119'"
      ]
     },
     "execution_count": 58,
     "metadata": {},
     "output_type": "execute_result"
    },
    {
     "data": {
      "text/plain": [
       "'success: content added from https://www.oregon.gov/newsroom/Pages/NewsDetail.aspx?newsid=206083'"
      ]
     },
     "execution_count": 58,
     "metadata": {},
     "output_type": "execute_result"
    },
    {
     "data": {
      "text/plain": [
       "'success: content added from https://www.oregon.gov/newsroom/Pages/NewsDetail.aspx?newsid=206075'"
      ]
     },
     "execution_count": 58,
     "metadata": {},
     "output_type": "execute_result"
    },
    {
     "data": {
      "text/plain": [
       "'success: content added from https://www.oregon.gov/newsroom/Pages/NewsDetail.aspx?newsid=206043'"
      ]
     },
     "execution_count": 58,
     "metadata": {},
     "output_type": "execute_result"
    },
    {
     "data": {
      "text/plain": [
       "'success: content added from https://www.oregon.gov/newsroom/Pages/NewsDetail.aspx?newsid=203279'"
      ]
     },
     "execution_count": 58,
     "metadata": {},
     "output_type": "execute_result"
    },
    {
     "data": {
      "text/plain": [
       "'success: content added from https://www.oregon.gov/newsroom/Pages/NewsDetail.aspx?newsid=205975'"
      ]
     },
     "execution_count": 58,
     "metadata": {},
     "output_type": "execute_result"
    },
    {
     "data": {
      "text/plain": [
       "'success: content added from https://www.oregon.gov/newsroom/Pages/NewsDetail.aspx?newsid=205953'"
      ]
     },
     "execution_count": 58,
     "metadata": {},
     "output_type": "execute_result"
    },
    {
     "data": {
      "text/plain": [
       "'success: content added from https://www.oregon.gov/newsroom/Pages/NewsDetail.aspx?newsid=205959'"
      ]
     },
     "execution_count": 58,
     "metadata": {},
     "output_type": "execute_result"
    },
    {
     "data": {
      "text/plain": [
       "'success: content added from https://www.oregon.gov/newsroom/Pages/NewsDetail.aspx?newsid=205957'"
      ]
     },
     "execution_count": 58,
     "metadata": {},
     "output_type": "execute_result"
    },
    {
     "data": {
      "text/plain": [
       "'success: content added from https://www.oregon.gov/newsroom/Pages/NewsDetail.aspx?newsid=205945'"
      ]
     },
     "execution_count": 58,
     "metadata": {},
     "output_type": "execute_result"
    },
    {
     "data": {
      "text/plain": [
       "'success: content added from https://www.oregon.gov/newsroom/Pages/NewsDetail.aspx?newsid=205937'"
      ]
     },
     "execution_count": 58,
     "metadata": {},
     "output_type": "execute_result"
    },
    {
     "data": {
      "text/plain": [
       "'success: content added from https://www.oregon.gov/newsroom/Pages/NewsDetail.aspx?newsid=205927'"
      ]
     },
     "execution_count": 58,
     "metadata": {},
     "output_type": "execute_result"
    },
    {
     "data": {
      "text/plain": [
       "'success: content added from https://www.oregon.gov/newsroom/Pages/NewsDetail.aspx?newsid=205917'"
      ]
     },
     "execution_count": 58,
     "metadata": {},
     "output_type": "execute_result"
    },
    {
     "data": {
      "text/plain": [
       "'success: content added from https://www.oregon.gov/newsroom/Pages/NewsDetail.aspx?newsid=205815'"
      ]
     },
     "execution_count": 58,
     "metadata": {},
     "output_type": "execute_result"
    },
    {
     "data": {
      "text/plain": [
       "'success: content added from https://www.oregon.gov/newsroom/Pages/NewsDetail.aspx?newsid=205887'"
      ]
     },
     "execution_count": 58,
     "metadata": {},
     "output_type": "execute_result"
    },
    {
     "data": {
      "text/plain": [
       "'success: content added from https://www.oregon.gov/newsroom/Pages/NewsDetail.aspx?newsid=205881'"
      ]
     },
     "execution_count": 58,
     "metadata": {},
     "output_type": "execute_result"
    },
    {
     "data": {
      "text/plain": [
       "'success: content added from https://www.oregon.gov/newsroom/Pages/NewsDetail.aspx?newsid=205879'"
      ]
     },
     "execution_count": 58,
     "metadata": {},
     "output_type": "execute_result"
    },
    {
     "data": {
      "text/plain": [
       "'success: content added from https://www.oregon.gov/newsroom/Pages/NewsDetail.aspx?newsid=205889'"
      ]
     },
     "execution_count": 58,
     "metadata": {},
     "output_type": "execute_result"
    },
    {
     "data": {
      "text/plain": [
       "'success: content added from https://www.oregon.gov/newsroom/Pages/NewsDetail.aspx?newsid=205853'"
      ]
     },
     "execution_count": 58,
     "metadata": {},
     "output_type": "execute_result"
    },
    {
     "data": {
      "text/plain": [
       "'success: content added from https://www.oregon.gov/newsroom/Pages/NewsDetail.aspx?newsid=205843'"
      ]
     },
     "execution_count": 58,
     "metadata": {},
     "output_type": "execute_result"
    },
    {
     "data": {
      "text/plain": [
       "'success: content added from https://www.oregon.gov/newsroom/Pages/NewsDetail.aspx?newsid=205841'"
      ]
     },
     "execution_count": 58,
     "metadata": {},
     "output_type": "execute_result"
    },
    {
     "data": {
      "text/plain": [
       "'success: content added from https://www.oregon.gov/newsroom/Pages/NewsDetail.aspx?newsid=205831'"
      ]
     },
     "execution_count": 58,
     "metadata": {},
     "output_type": "execute_result"
    },
    {
     "data": {
      "text/plain": [
       "'success: content added from https://www.oregon.gov/newsroom/Pages/NewsDetail.aspx?newsid=203675'"
      ]
     },
     "execution_count": 58,
     "metadata": {},
     "output_type": "execute_result"
    },
    {
     "data": {
      "text/plain": [
       "'success: content added from https://www.oregon.gov/newsroom/Pages/NewsDetail.aspx?newsid=203639'"
      ]
     },
     "execution_count": 58,
     "metadata": {},
     "output_type": "execute_result"
    },
    {
     "data": {
      "text/plain": [
       "'success: content added from https://www.oregon.gov/newsroom/Pages/NewsDetail.aspx?newsid=203637'"
      ]
     },
     "execution_count": 58,
     "metadata": {},
     "output_type": "execute_result"
    },
    {
     "data": {
      "text/plain": [
       "'success: content added from https://www.oregon.gov/newsroom/Pages/NewsDetail.aspx?newsid=205793'"
      ]
     },
     "execution_count": 58,
     "metadata": {},
     "output_type": "execute_result"
    },
    {
     "data": {
      "text/plain": [
       "'success: content added from https://www.oregon.gov/newsroom/Pages/NewsDetail.aspx?newsid=205771'"
      ]
     },
     "execution_count": 58,
     "metadata": {},
     "output_type": "execute_result"
    },
    {
     "data": {
      "text/plain": [
       "'success: content added from https://www.oregon.gov/newsroom/Pages/NewsDetail.aspx?newsid=205761'"
      ]
     },
     "execution_count": 58,
     "metadata": {},
     "output_type": "execute_result"
    },
    {
     "data": {
      "text/plain": [
       "'success: content added from https://www.oregon.gov/newsroom/Pages/NewsDetail.aspx?newsid=205765'"
      ]
     },
     "execution_count": 58,
     "metadata": {},
     "output_type": "execute_result"
    },
    {
     "data": {
      "text/plain": [
       "'success: content added from https://www.oregon.gov/newsroom/Pages/NewsDetail.aspx?newsid=205749'"
      ]
     },
     "execution_count": 58,
     "metadata": {},
     "output_type": "execute_result"
    },
    {
     "data": {
      "text/plain": [
       "'success: content added from https://www.oregon.gov/newsroom/Pages/NewsDetail.aspx?newsid=205737'"
      ]
     },
     "execution_count": 58,
     "metadata": {},
     "output_type": "execute_result"
    },
    {
     "data": {
      "text/plain": [
       "'success: content added from https://www.oregon.gov/newsroom/Pages/NewsDetail.aspx?newsid=205731'"
      ]
     },
     "execution_count": 58,
     "metadata": {},
     "output_type": "execute_result"
    },
    {
     "data": {
      "text/plain": [
       "'success: content added from https://www.oregon.gov/newsroom/Pages/NewsDetail.aspx?newsid=205729'"
      ]
     },
     "execution_count": 58,
     "metadata": {},
     "output_type": "execute_result"
    },
    {
     "data": {
      "text/plain": [
       "'success: content added from https://www.oregon.gov/newsroom/Pages/NewsDetail.aspx?newsid=205389'"
      ]
     },
     "execution_count": 58,
     "metadata": {},
     "output_type": "execute_result"
    },
    {
     "data": {
      "text/plain": [
       "'success: content added from https://www.oregon.gov/newsroom/Pages/NewsDetail.aspx?newsid=205459'"
      ]
     },
     "execution_count": 58,
     "metadata": {},
     "output_type": "execute_result"
    },
    {
     "data": {
      "text/plain": [
       "'success: content added from https://www.oregon.gov/newsroom/Pages/NewsDetail.aspx?newsid=205723'"
      ]
     },
     "execution_count": 58,
     "metadata": {},
     "output_type": "execute_result"
    },
    {
     "data": {
      "text/plain": [
       "'success: content added from https://www.oregon.gov/newsroom/Pages/NewsDetail.aspx?newsid=205721'"
      ]
     },
     "execution_count": 58,
     "metadata": {},
     "output_type": "execute_result"
    },
    {
     "data": {
      "text/plain": [
       "'success: content added from https://www.oregon.gov/newsroom/Pages/NewsDetail.aspx?newsid=205709'"
      ]
     },
     "execution_count": 58,
     "metadata": {},
     "output_type": "execute_result"
    },
    {
     "data": {
      "text/plain": [
       "'success: content added from https://www.oregon.gov/newsroom/Pages/NewsDetail.aspx?newsid=205689'"
      ]
     },
     "execution_count": 58,
     "metadata": {},
     "output_type": "execute_result"
    },
    {
     "data": {
      "text/plain": [
       "'success: content added from https://www.oregon.gov/newsroom/Pages/NewsDetail.aspx?newsid=205687'"
      ]
     },
     "execution_count": 58,
     "metadata": {},
     "output_type": "execute_result"
    },
    {
     "data": {
      "text/plain": [
       "'success: content added from https://www.oregon.gov/newsroom/Pages/NewsDetail.aspx?newsid=205647'"
      ]
     },
     "execution_count": 58,
     "metadata": {},
     "output_type": "execute_result"
    },
    {
     "data": {
      "text/plain": [
       "'success: content added from https://www.oregon.gov/newsroom/Pages/NewsDetail.aspx?newsid=205679'"
      ]
     },
     "execution_count": 58,
     "metadata": {},
     "output_type": "execute_result"
    },
    {
     "data": {
      "text/plain": [
       "'success: content added from https://www.oregon.gov/newsroom/Pages/NewsDetail.aspx?newsid=205651'"
      ]
     },
     "execution_count": 58,
     "metadata": {},
     "output_type": "execute_result"
    },
    {
     "data": {
      "text/plain": [
       "'success: content added from https://www.oregon.gov/newsroom/Pages/NewsDetail.aspx?newsid=205383'"
      ]
     },
     "execution_count": 58,
     "metadata": {},
     "output_type": "execute_result"
    },
    {
     "data": {
      "text/plain": [
       "'success: content added from https://www.oregon.gov/newsroom/Pages/NewsDetail.aspx?newsid=205257'"
      ]
     },
     "execution_count": 58,
     "metadata": {},
     "output_type": "execute_result"
    },
    {
     "data": {
      "text/plain": [
       "'success: content added from https://www.oregon.gov/newsroom/Pages/NewsDetail.aspx?newsid=205639'"
      ]
     },
     "execution_count": 58,
     "metadata": {},
     "output_type": "execute_result"
    },
    {
     "data": {
      "text/plain": [
       "'success: content added from https://www.oregon.gov/newsroom/Pages/NewsDetail.aspx?newsid=205635'"
      ]
     },
     "execution_count": 58,
     "metadata": {},
     "output_type": "execute_result"
    },
    {
     "data": {
      "text/plain": [
       "'success: content added from https://www.oregon.gov/newsroom/Pages/NewsDetail.aspx?newsid=215061'"
      ]
     },
     "execution_count": 58,
     "metadata": {},
     "output_type": "execute_result"
    },
    {
     "data": {
      "text/plain": [
       "'success: content added from https://www.oregon.gov/newsroom/Pages/NewsDetail.aspx?newsid=205949'"
      ]
     },
     "execution_count": 58,
     "metadata": {},
     "output_type": "execute_result"
    },
    {
     "data": {
      "text/plain": [
       "'success: content added from https://www.oregon.gov/newsroom/Pages/NewsDetail.aspx?newsid=206455'"
      ]
     },
     "execution_count": 58,
     "metadata": {},
     "output_type": "execute_result"
    },
    {
     "data": {
      "text/plain": [
       "'success: content added from https://www.oregon.gov/newsroom/Pages/NewsDetail.aspx?newsid=209005'"
      ]
     },
     "execution_count": 58,
     "metadata": {},
     "output_type": "execute_result"
    },
    {
     "data": {
      "text/plain": [
       "'success: content added from https://www.oregon.gov/newsroom/Pages/NewsDetail.aspx?newsid=209019'"
      ]
     },
     "execution_count": 58,
     "metadata": {},
     "output_type": "execute_result"
    },
    {
     "data": {
      "text/plain": [
       "'success: content added from https://www.oregon.gov/newsroom/Pages/NewsDetail.aspx?newsid=203511'"
      ]
     },
     "execution_count": 58,
     "metadata": {},
     "output_type": "execute_result"
    },
    {
     "data": {
      "text/plain": [
       "'success: content added from https://www.oregon.gov/newsroom/Pages/NewsDetail.aspx?newsid=203681'"
      ]
     },
     "execution_count": 58,
     "metadata": {},
     "output_type": "execute_result"
    },
    {
     "data": {
      "text/plain": [
       "'success: content added from https://www.oregon.gov/newsroom/Pages/NewsDetail.aspx?newsid=207105'"
      ]
     },
     "execution_count": 58,
     "metadata": {},
     "output_type": "execute_result"
    }
   ],
   "source": [
    "for i in combined.link:\n",
    "     get_oregon_content(i, combined, header_list)"
   ]
  },
  {
   "cell_type": "markdown",
   "id": "b6b24297",
   "metadata": {},
   "source": [
    "## Validate and Clean"
   ]
  },
  {
   "cell_type": "code",
   "execution_count": 59,
   "id": "06bca64d",
   "metadata": {},
   "outputs": [
    {
     "data": {
      "text/html": [
       "<div>\n",
       "<style scoped>\n",
       "    .dataframe tbody tr th:only-of-type {\n",
       "        vertical-align: middle;\n",
       "    }\n",
       "\n",
       "    .dataframe tbody tr th {\n",
       "        vertical-align: top;\n",
       "    }\n",
       "\n",
       "    .dataframe thead th {\n",
       "        text-align: right;\n",
       "    }\n",
       "</style>\n",
       "<table border=\"1\" class=\"dataframe\">\n",
       "  <thead>\n",
       "    <tr style=\"text-align: right;\">\n",
       "      <th></th>\n",
       "      <th>title</th>\n",
       "      <th>date</th>\n",
       "      <th>link</th>\n",
       "      <th>content</th>\n",
       "    </tr>\n",
       "  </thead>\n",
       "  <tbody>\n",
       "  </tbody>\n",
       "</table>\n",
       "</div>"
      ],
      "text/plain": [
       "Empty DataFrame\n",
       "Columns: [title, date, link, content]\n",
       "Index: []"
      ]
     },
     "execution_count": 59,
     "metadata": {},
     "output_type": "execute_result"
    }
   ],
   "source": [
    "#check that content was pulled accurately\n",
    "combined[combined.content.isna()]"
   ]
  },
  {
   "cell_type": "code",
   "execution_count": 60,
   "id": "dcea6850",
   "metadata": {},
   "outputs": [],
   "source": [
    "# convert to date-time format\n",
    "combined['date_clean'] = pd.to_datetime(combined['date'])\n",
    "\n",
    "combined_2023 = combined.drop(columns=['date']).copy()"
   ]
  },
  {
   "cell_type": "code",
   "execution_count": 62,
   "id": "0f3cb95d",
   "metadata": {},
   "outputs": [
    {
     "data": {
      "text/html": [
       "<div>\n",
       "<style scoped>\n",
       "    .dataframe tbody tr th:only-of-type {\n",
       "        vertical-align: middle;\n",
       "    }\n",
       "\n",
       "    .dataframe tbody tr th {\n",
       "        vertical-align: top;\n",
       "    }\n",
       "\n",
       "    .dataframe thead th {\n",
       "        text-align: right;\n",
       "    }\n",
       "</style>\n",
       "<table border=\"1\" class=\"dataframe\">\n",
       "  <thead>\n",
       "    <tr style=\"text-align: right;\">\n",
       "      <th></th>\n",
       "      <th>title</th>\n",
       "      <th>link</th>\n",
       "      <th>content</th>\n",
       "      <th>date_clean</th>\n",
       "    </tr>\n",
       "  </thead>\n",
       "  <tbody>\n",
       "    <tr>\n",
       "      <th>0</th>\n",
       "      <td>Governor Kotek Appoints Klamath County Distric...</td>\n",
       "      <td>https://www.oregon.gov/newsroom/Pages/NewsDeta...</td>\n",
       "      <td>Salem, OR—Today, Governor Tina Kotek announ...</td>\n",
       "      <td>2023-12-21</td>\n",
       "    </tr>\n",
       "    <tr>\n",
       "      <th>1</th>\n",
       "      <td>Governor Kotek Issues Statement on Passage of ...</td>\n",
       "      <td>https://www.oregon.gov/newsroom/Pages/NewsDeta...</td>\n",
       "      <td>Salem, OR—Today, Governor Tina Kotek made t...</td>\n",
       "      <td>2023-12-21</td>\n",
       "    </tr>\n",
       "    <tr>\n",
       "      <th>2</th>\n",
       "      <td>Governor Kotek Issues Statement on Siletz Cons...</td>\n",
       "      <td>https://www.oregon.gov/newsroom/Pages/NewsDeta...</td>\n",
       "      <td>Salem, OR—Today, Governor Tina Kotek made t...</td>\n",
       "      <td>2023-12-20</td>\n",
       "    </tr>\n",
       "    <tr>\n",
       "      <th>3</th>\n",
       "      <td>Governor Kotek Orders Flags Lowered in Memory ...</td>\n",
       "      <td>https://www.oregon.gov/newsroom/Pages/NewsDeta...</td>\n",
       "      <td>Salem, OR—Today, Governor Tina Kotek ordere...</td>\n",
       "      <td>2023-12-18</td>\n",
       "    </tr>\n",
       "    <tr>\n",
       "      <th>4</th>\n",
       "      <td>Governor Kotek and First Lady Reflect on One O...</td>\n",
       "      <td>https://www.oregon.gov/newsroom/Pages/NewsDeta...</td>\n",
       "      <td>Governor delivers on promise to visit all 36 ...</td>\n",
       "      <td>2023-12-18</td>\n",
       "    </tr>\n",
       "  </tbody>\n",
       "</table>\n",
       "</div>"
      ],
      "text/plain": [
       "                                               title  \\\n",
       "0  Governor Kotek Appoints Klamath County Distric...   \n",
       "1  Governor Kotek Issues Statement on Passage of ...   \n",
       "2  Governor Kotek Issues Statement on Siletz Cons...   \n",
       "3  Governor Kotek Orders Flags Lowered in Memory ...   \n",
       "4  Governor Kotek and First Lady Reflect on One O...   \n",
       "\n",
       "                                                link  \\\n",
       "0  https://www.oregon.gov/newsroom/Pages/NewsDeta...   \n",
       "1  https://www.oregon.gov/newsroom/Pages/NewsDeta...   \n",
       "2  https://www.oregon.gov/newsroom/Pages/NewsDeta...   \n",
       "3  https://www.oregon.gov/newsroom/Pages/NewsDeta...   \n",
       "4  https://www.oregon.gov/newsroom/Pages/NewsDeta...   \n",
       "\n",
       "                                             content date_clean  \n",
       "0     Salem, OR—Today, Governor Tina Kotek announ... 2023-12-21  \n",
       "1     Salem, OR—Today, Governor Tina Kotek made t... 2023-12-21  \n",
       "2     Salem, OR—Today, Governor Tina Kotek made t... 2023-12-20  \n",
       "3     Salem, OR—Today, Governor Tina Kotek ordere... 2023-12-18  \n",
       "4   Governor delivers on promise to visit all 36 ... 2023-12-18  "
      ]
     },
     "execution_count": 62,
     "metadata": {},
     "output_type": "execute_result"
    },
    {
     "name": "stdout",
     "output_type": "stream",
     "text": [
      "<class 'pandas.core.frame.DataFrame'>\n",
      "Int64Index: 203 entries, 0 to 22\n",
      "Data columns (total 4 columns):\n",
      " #   Column      Non-Null Count  Dtype         \n",
      "---  ------      --------------  -----         \n",
      " 0   title       203 non-null    object        \n",
      " 1   link        203 non-null    object        \n",
      " 2   content     203 non-null    object        \n",
      " 3   date_clean  203 non-null    datetime64[ns]\n",
      "dtypes: datetime64[ns](1), object(3)\n",
      "memory usage: 7.9+ KB\n"
     ]
    }
   ],
   "source": [
    "combined_2023.head()\n",
    "combined_2023.info()"
   ]
  },
  {
   "cell_type": "code",
   "execution_count": 63,
   "id": "e894624d",
   "metadata": {},
   "outputs": [
    {
     "name": "stdout",
     "output_type": "stream",
     "text": [
      "pulled 203 documents from oregon for 2023\n"
     ]
    }
   ],
   "source": [
    "print(f\"pulled {str(len(combined_2023))} documents from {state} for 2023\")"
   ]
  },
  {
   "cell_type": "markdown",
   "id": "b7b79c75",
   "metadata": {},
   "source": [
    "## Export"
   ]
  },
  {
   "cell_type": "code",
   "execution_count": 64,
   "id": "d675fc44",
   "metadata": {},
   "outputs": [],
   "source": [
    "combined_2023.to_csv(f'{state}_2023.csv', index = False)"
   ]
  },
  {
   "cell_type": "code",
   "execution_count": 65,
   "id": "621c6b9b",
   "metadata": {},
   "outputs": [
    {
     "data": {
      "text/html": [
       "<div>\n",
       "<style scoped>\n",
       "    .dataframe tbody tr th:only-of-type {\n",
       "        vertical-align: middle;\n",
       "    }\n",
       "\n",
       "    .dataframe tbody tr th {\n",
       "        vertical-align: top;\n",
       "    }\n",
       "\n",
       "    .dataframe thead th {\n",
       "        text-align: right;\n",
       "    }\n",
       "</style>\n",
       "<table border=\"1\" class=\"dataframe\">\n",
       "  <thead>\n",
       "    <tr style=\"text-align: right;\">\n",
       "      <th></th>\n",
       "      <th>title</th>\n",
       "      <th>link</th>\n",
       "      <th>content</th>\n",
       "      <th>date_clean</th>\n",
       "    </tr>\n",
       "  </thead>\n",
       "  <tbody>\n",
       "    <tr>\n",
       "      <th>0</th>\n",
       "      <td>Governor Kotek Appoints Klamath County Distric...</td>\n",
       "      <td>https://www.oregon.gov/newsroom/Pages/NewsDeta...</td>\n",
       "      <td>Salem, OR—Today, Governor Tina Kotek announ...</td>\n",
       "      <td>2023-12-21</td>\n",
       "    </tr>\n",
       "    <tr>\n",
       "      <th>1</th>\n",
       "      <td>Governor Kotek Issues Statement on Passage of ...</td>\n",
       "      <td>https://www.oregon.gov/newsroom/Pages/NewsDeta...</td>\n",
       "      <td>Salem, OR—Today, Governor Tina Kotek made t...</td>\n",
       "      <td>2023-12-21</td>\n",
       "    </tr>\n",
       "    <tr>\n",
       "      <th>2</th>\n",
       "      <td>Governor Kotek Issues Statement on Siletz Cons...</td>\n",
       "      <td>https://www.oregon.gov/newsroom/Pages/NewsDeta...</td>\n",
       "      <td>Salem, OR—Today, Governor Tina Kotek made t...</td>\n",
       "      <td>2023-12-20</td>\n",
       "    </tr>\n",
       "    <tr>\n",
       "      <th>3</th>\n",
       "      <td>Governor Kotek Orders Flags Lowered in Memory ...</td>\n",
       "      <td>https://www.oregon.gov/newsroom/Pages/NewsDeta...</td>\n",
       "      <td>Salem, OR—Today, Governor Tina Kotek ordere...</td>\n",
       "      <td>2023-12-18</td>\n",
       "    </tr>\n",
       "    <tr>\n",
       "      <th>4</th>\n",
       "      <td>Governor Kotek and First Lady Reflect on One O...</td>\n",
       "      <td>https://www.oregon.gov/newsroom/Pages/NewsDeta...</td>\n",
       "      <td>Governor delivers on promise to visit all 36 ...</td>\n",
       "      <td>2023-12-18</td>\n",
       "    </tr>\n",
       "  </tbody>\n",
       "</table>\n",
       "</div>"
      ],
      "text/plain": [
       "                                               title  \\\n",
       "0  Governor Kotek Appoints Klamath County Distric...   \n",
       "1  Governor Kotek Issues Statement on Passage of ...   \n",
       "2  Governor Kotek Issues Statement on Siletz Cons...   \n",
       "3  Governor Kotek Orders Flags Lowered in Memory ...   \n",
       "4  Governor Kotek and First Lady Reflect on One O...   \n",
       "\n",
       "                                                link  \\\n",
       "0  https://www.oregon.gov/newsroom/Pages/NewsDeta...   \n",
       "1  https://www.oregon.gov/newsroom/Pages/NewsDeta...   \n",
       "2  https://www.oregon.gov/newsroom/Pages/NewsDeta...   \n",
       "3  https://www.oregon.gov/newsroom/Pages/NewsDeta...   \n",
       "4  https://www.oregon.gov/newsroom/Pages/NewsDeta...   \n",
       "\n",
       "                                             content  date_clean  \n",
       "0     Salem, OR—Today, Governor Tina Kotek announ...  2023-12-21  \n",
       "1     Salem, OR—Today, Governor Tina Kotek made t...  2023-12-21  \n",
       "2     Salem, OR—Today, Governor Tina Kotek made t...  2023-12-20  \n",
       "3     Salem, OR—Today, Governor Tina Kotek ordere...  2023-12-18  \n",
       "4   Governor delivers on promise to visit all 36 ...  2023-12-18  "
      ]
     },
     "execution_count": 65,
     "metadata": {},
     "output_type": "execute_result"
    }
   ],
   "source": [
    "test = pd.read_csv(f'{state}_2023.csv')\n",
    "test.head()"
   ]
  }
 ],
 "metadata": {
  "kernelspec": {
   "display_name": "Python 3 (ipykernel)",
   "language": "python",
   "name": "python3"
  },
  "language_info": {
   "codemirror_mode": {
    "name": "ipython",
    "version": 3
   },
   "file_extension": ".py",
   "mimetype": "text/x-python",
   "name": "python",
   "nbconvert_exporter": "python",
   "pygments_lexer": "ipython3",
   "version": "3.9.12"
  }
 },
 "nbformat": 4,
 "nbformat_minor": 5
}
