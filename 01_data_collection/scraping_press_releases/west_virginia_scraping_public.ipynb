{
 "cells": [
  {
   "cell_type": "markdown",
   "id": "f00d02a5",
   "metadata": {},
   "source": [
    "# West Virginia Scraping "
   ]
  },
  {
   "cell_type": "code",
   "execution_count": 53,
   "id": "2d2ca3c3",
   "metadata": {},
   "outputs": [
    {
     "name": "stdout",
     "output_type": "stream",
     "text": [
      "Exception reporting mode: Minimal\n"
     ]
    }
   ],
   "source": [
    "# set up \n",
    "import pandas as pd \n",
    "import requests \n",
    "import bs4\n",
    "import numpy as np\n",
    "import time \n",
    "import re\n",
    "from tika import parser\n",
    "from selenium import webdriver\n",
    "from selenium.webdriver.common.by import By\n",
    "from selenium.webdriver.support.ui import WebDriverWait\n",
    "from selenium.webdriver.support import expected_conditions as EC\n",
    "from selenium.webdriver.support.select import Select\n",
    "from selenium.webdriver.common.action_chains import ActionChains\n",
    "from selenium.common.exceptions import StaleElementReferenceException, TimeoutException\n",
    "from io import BytesIO\n",
    "from urllib.request import urlopen\n",
    "from selenium.webdriver.chrome.options import Options\n",
    "\n",
    "from IPython.core.interactiveshell import InteractiveShell \n",
    "InteractiveShell.ast_node_interactivity = \"all\"\n",
    "\n",
    "%xmode Minimal"
   ]
  },
  {
   "cell_type": "code",
   "execution_count": 54,
   "id": "4b8c25f3",
   "metadata": {},
   "outputs": [],
   "source": [
    "# # set headers\n",
    "# header_list = {'User-Agent': REDACTED,\n",
    "#               'Accept-Language': 'en-US,en;q=0.9'}"
   ]
  },
  {
   "cell_type": "code",
   "execution_count": 55,
   "id": "0b85368d",
   "metadata": {},
   "outputs": [],
   "source": [
    "# state - UPDATE EACH TIME\n",
    "state = 'west_virginia' "
   ]
  },
  {
   "cell_type": "code",
   "execution_count": 56,
   "id": "150c1170",
   "metadata": {},
   "outputs": [],
   "source": [
    "# review of robots.txt - non-existent"
   ]
  },
  {
   "cell_type": "code",
   "execution_count": null,
   "id": "92379a17",
   "metadata": {},
   "outputs": [],
   "source": [
    "# test = pd.read_csv(f'{state}_2023.csv')\n",
    "# test.head()"
   ]
  },
  {
   "cell_type": "markdown",
   "id": "40a0e028",
   "metadata": {},
   "source": [
    "## Scrape links \n",
    "`Selenium`"
   ]
  },
  {
   "cell_type": "code",
   "execution_count": 108,
   "id": "c3542160",
   "metadata": {},
   "outputs": [
    {
     "data": {
      "text/plain": [
       "[<selenium.webdriver.remote.webelement.WebElement (session=\"8b31e8db411082a276791b96eeb814c8\", element=\"D14AD65465038A3FA0AA9B7DFFBFB02F_element_11\")>,\n",
       " <selenium.webdriver.remote.webelement.WebElement (session=\"8b31e8db411082a276791b96eeb814c8\", element=\"D14AD65465038A3FA0AA9B7DFFBFB02F_element_12\")>,\n",
       " <selenium.webdriver.remote.webelement.WebElement (session=\"8b31e8db411082a276791b96eeb814c8\", element=\"D14AD65465038A3FA0AA9B7DFFBFB02F_element_13\")>]"
      ]
     },
     "execution_count": 108,
     "metadata": {},
     "output_type": "execute_result"
    }
   ],
   "source": [
    "driver = webdriver.Chrome()\n",
    "driver.get('https://governor.wv.gov/News/press-releases/2023/Pages/default.aspx')\n",
    "\n",
    "wait = WebDriverWait(driver, 10)\n",
    "wait.until(EC.presence_of_all_elements_located((By.CLASS_NAME, 'col-md-12')))\n",
    "\n",
    "df_list = []\n",
    "\n",
    "results = driver.find_elements(By.XPATH, \"//div[@style='padding-bottom:15px;']\")\n",
    "\n",
    "# december is automatically loaded\n",
    "\n",
    "for i in results:\n",
    "    if len(i.text) > 0:\n",
    "        text_element = i.text\n",
    "        text = text_element.split('\\n') \n",
    "        title = text[0]\n",
    "        date = text[1] \n",
    "        link = i.find_element(By.TAG_NAME, 'a').get_attribute('href')\n",
    "        df_list.append({'title': title, 'date': date, 'link': link})\n",
    "    else:\n",
    "        pass \n",
    "\n",
    "# remaining months \n",
    "\n",
    "for i in range(2, 13):\n",
    "    month_button = driver.find_element(By.XPATH, f'//*[@id=\"accordion\"]/div[{i}]/div[1]/h4/a')\n",
    "    driver.execute_script(\"arguments[0].click();\", month_button);\n",
    "\n",
    "    time.sleep(5)\n",
    "\n",
    "    results = driver.find_elements(By.XPATH, \"//div[@style='padding-bottom:15px;']\")\n",
    "\n",
    "    for i in results:\n",
    "        if len(i.text) > 0:\n",
    "            text_element = i.text\n",
    "            text = text_element.split('\\n') \n",
    "            title = text[0]\n",
    "            date = text[1] \n",
    "            link = i.find_element(By.TAG_NAME, 'a').get_attribute('href')\n",
    "            #results_list = {'tite': title, 'date': date, 'link': link}\n",
    "            df_list.append({'title': title, 'date': date, 'link': link})\n",
    "        else:\n",
    "            pass \n",
    "    \n",
    "driver.close()"
   ]
  },
  {
   "cell_type": "code",
   "execution_count": 109,
   "id": "8b22fba1",
   "metadata": {},
   "outputs": [
    {
     "data": {
      "text/html": [
       "<div>\n",
       "<style scoped>\n",
       "    .dataframe tbody tr th:only-of-type {\n",
       "        vertical-align: middle;\n",
       "    }\n",
       "\n",
       "    .dataframe tbody tr th {\n",
       "        vertical-align: top;\n",
       "    }\n",
       "\n",
       "    .dataframe thead th {\n",
       "        text-align: right;\n",
       "    }\n",
       "</style>\n",
       "<table border=\"1\" class=\"dataframe\">\n",
       "  <thead>\n",
       "    <tr style=\"text-align: right;\">\n",
       "      <th></th>\n",
       "      <th>title</th>\n",
       "      <th>date</th>\n",
       "      <th>link</th>\n",
       "    </tr>\n",
       "  </thead>\n",
       "  <tbody>\n",
       "    <tr>\n",
       "      <th>0</th>\n",
       "      <td>Gov. Justice issues proclamation declaring ext...</td>\n",
       "      <td>12/21/2023</td>\n",
       "      <td>https://governor.wv.gov/News/press-releases/20...</td>\n",
       "    </tr>\n",
       "    <tr>\n",
       "      <th>1</th>\n",
       "      <td>Gov. Justice awards $1 million grant to West V...</td>\n",
       "      <td>12/21/2023</td>\n",
       "      <td>https://governor.wv.gov/News/press-releases/20...</td>\n",
       "    </tr>\n",
       "    <tr>\n",
       "      <th>2</th>\n",
       "      <td>Gov. Justice announces Water Development Autho...</td>\n",
       "      <td>12/21/2023</td>\n",
       "      <td>https://governor.wv.gov/News/press-releases/20...</td>\n",
       "    </tr>\n",
       "    <tr>\n",
       "      <th>3</th>\n",
       "      <td>Gov. Justice orders flags to be flown at half-...</td>\n",
       "      <td>12/21/2023</td>\n",
       "      <td>https://governor.wv.gov/News/press-releases/20...</td>\n",
       "    </tr>\n",
       "    <tr>\n",
       "      <th>4</th>\n",
       "      <td>Gov. Justice issues proclamation declaring ext...</td>\n",
       "      <td>12/20/2023</td>\n",
       "      <td>https://governor.wv.gov/News/press-releases/20...</td>\n",
       "    </tr>\n",
       "    <tr>\n",
       "      <th>...</th>\n",
       "      <td>...</td>\n",
       "      <td>...</td>\n",
       "      <td>...</td>\n",
       "    </tr>\n",
       "    <tr>\n",
       "      <th>238</th>\n",
       "      <td>First Lady Justice announces two counties adde...</td>\n",
       "      <td>01/12/2023</td>\n",
       "      <td>https://governor.wv.gov/News/press-releases/20...</td>\n",
       "    </tr>\n",
       "    <tr>\n",
       "      <th>239</th>\n",
       "      <td>Gov. Justice delivers his 2023 West Virginia S...</td>\n",
       "      <td>01/11/2023</td>\n",
       "      <td>https://governor.wv.gov/News/press-releases/20...</td>\n",
       "    </tr>\n",
       "    <tr>\n",
       "      <th>240</th>\n",
       "      <td>Gov. Justice to deliver State of the State Add...</td>\n",
       "      <td>01/09/2023</td>\n",
       "      <td>https://governor.wv.gov/News/press-releases/20...</td>\n",
       "    </tr>\n",
       "    <tr>\n",
       "      <th>241</th>\n",
       "      <td>Gov. Justice announces appointment of longtime...</td>\n",
       "      <td>01/06/2023</td>\n",
       "      <td>https://governor.wv.gov/News/press-releases/20...</td>\n",
       "    </tr>\n",
       "    <tr>\n",
       "      <th>242</th>\n",
       "      <td>Gov. Justice says another month of revenue sur...</td>\n",
       "      <td>01/03/2023</td>\n",
       "      <td>https://governor.wv.gov/News/press-releases/20...</td>\n",
       "    </tr>\n",
       "  </tbody>\n",
       "</table>\n",
       "<p>243 rows × 3 columns</p>\n",
       "</div>"
      ],
      "text/plain": [
       "                                                 title        date  \\\n",
       "0    Gov. Justice issues proclamation declaring ext...  12/21/2023   \n",
       "1    Gov. Justice awards $1 million grant to West V...  12/21/2023   \n",
       "2    Gov. Justice announces Water Development Autho...  12/21/2023   \n",
       "3    Gov. Justice orders flags to be flown at half-...  12/21/2023   \n",
       "4    Gov. Justice issues proclamation declaring ext...  12/20/2023   \n",
       "..                                                 ...         ...   \n",
       "238  First Lady Justice announces two counties adde...  01/12/2023   \n",
       "239  Gov. Justice delivers his 2023 West Virginia S...  01/11/2023   \n",
       "240  Gov. Justice to deliver State of the State Add...  01/09/2023   \n",
       "241  Gov. Justice announces appointment of longtime...  01/06/2023   \n",
       "242  Gov. Justice says another month of revenue sur...  01/03/2023   \n",
       "\n",
       "                                                  link  \n",
       "0    https://governor.wv.gov/News/press-releases/20...  \n",
       "1    https://governor.wv.gov/News/press-releases/20...  \n",
       "2    https://governor.wv.gov/News/press-releases/20...  \n",
       "3    https://governor.wv.gov/News/press-releases/20...  \n",
       "4    https://governor.wv.gov/News/press-releases/20...  \n",
       "..                                                 ...  \n",
       "238  https://governor.wv.gov/News/press-releases/20...  \n",
       "239  https://governor.wv.gov/News/press-releases/20...  \n",
       "240  https://governor.wv.gov/News/press-releases/20...  \n",
       "241  https://governor.wv.gov/News/press-releases/20...  \n",
       "242  https://governor.wv.gov/News/press-releases/20...  \n",
       "\n",
       "[243 rows x 3 columns]"
      ]
     },
     "execution_count": 109,
     "metadata": {},
     "output_type": "execute_result"
    }
   ],
   "source": [
    "# combine into one df\n",
    "combined = pd.DataFrame(df_list)\n",
    "combined"
   ]
  },
  {
   "cell_type": "code",
   "execution_count": 110,
   "id": "1efed926",
   "metadata": {},
   "outputs": [
    {
     "data": {
      "text/html": [
       "<div>\n",
       "<style scoped>\n",
       "    .dataframe tbody tr th:only-of-type {\n",
       "        vertical-align: middle;\n",
       "    }\n",
       "\n",
       "    .dataframe tbody tr th {\n",
       "        vertical-align: top;\n",
       "    }\n",
       "\n",
       "    .dataframe thead th {\n",
       "        text-align: right;\n",
       "    }\n",
       "</style>\n",
       "<table border=\"1\" class=\"dataframe\">\n",
       "  <thead>\n",
       "    <tr style=\"text-align: right;\">\n",
       "      <th></th>\n",
       "      <th>title</th>\n",
       "      <th>date</th>\n",
       "      <th>link</th>\n",
       "      <th>content</th>\n",
       "    </tr>\n",
       "  </thead>\n",
       "  <tbody>\n",
       "    <tr>\n",
       "      <th>0</th>\n",
       "      <td>Gov. Justice issues proclamation declaring ext...</td>\n",
       "      <td>12/21/2023</td>\n",
       "      <td>https://governor.wv.gov/News/press-releases/20...</td>\n",
       "      <td>NaN</td>\n",
       "    </tr>\n",
       "    <tr>\n",
       "      <th>1</th>\n",
       "      <td>Gov. Justice awards $1 million grant to West V...</td>\n",
       "      <td>12/21/2023</td>\n",
       "      <td>https://governor.wv.gov/News/press-releases/20...</td>\n",
       "      <td>NaN</td>\n",
       "    </tr>\n",
       "    <tr>\n",
       "      <th>2</th>\n",
       "      <td>Gov. Justice announces Water Development Autho...</td>\n",
       "      <td>12/21/2023</td>\n",
       "      <td>https://governor.wv.gov/News/press-releases/20...</td>\n",
       "      <td>NaN</td>\n",
       "    </tr>\n",
       "    <tr>\n",
       "      <th>3</th>\n",
       "      <td>Gov. Justice orders flags to be flown at half-...</td>\n",
       "      <td>12/21/2023</td>\n",
       "      <td>https://governor.wv.gov/News/press-releases/20...</td>\n",
       "      <td>NaN</td>\n",
       "    </tr>\n",
       "    <tr>\n",
       "      <th>4</th>\n",
       "      <td>Gov. Justice issues proclamation declaring ext...</td>\n",
       "      <td>12/20/2023</td>\n",
       "      <td>https://governor.wv.gov/News/press-releases/20...</td>\n",
       "      <td>NaN</td>\n",
       "    </tr>\n",
       "  </tbody>\n",
       "</table>\n",
       "</div>"
      ],
      "text/plain": [
       "                                               title        date  \\\n",
       "0  Gov. Justice issues proclamation declaring ext...  12/21/2023   \n",
       "1  Gov. Justice awards $1 million grant to West V...  12/21/2023   \n",
       "2  Gov. Justice announces Water Development Autho...  12/21/2023   \n",
       "3  Gov. Justice orders flags to be flown at half-...  12/21/2023   \n",
       "4  Gov. Justice issues proclamation declaring ext...  12/20/2023   \n",
       "\n",
       "                                                link  content  \n",
       "0  https://governor.wv.gov/News/press-releases/20...      NaN  \n",
       "1  https://governor.wv.gov/News/press-releases/20...      NaN  \n",
       "2  https://governor.wv.gov/News/press-releases/20...      NaN  \n",
       "3  https://governor.wv.gov/News/press-releases/20...      NaN  \n",
       "4  https://governor.wv.gov/News/press-releases/20...      NaN  "
      ]
     },
     "execution_count": 110,
     "metadata": {},
     "output_type": "execute_result"
    }
   ],
   "source": [
    "# create a blank content column \n",
    "combined['content'] = np.nan\n",
    "combined.head()"
   ]
  },
  {
   "cell_type": "code",
   "execution_count": 111,
   "id": "4e15e0d0",
   "metadata": {},
   "outputs": [],
   "source": [
    "# export\n",
    "combined.to_csv(f'{state}_links.csv', index = False)"
   ]
  },
  {
   "cell_type": "code",
   "execution_count": 112,
   "id": "8e4b5d44",
   "metadata": {},
   "outputs": [
    {
     "data": {
      "text/html": [
       "<div>\n",
       "<style scoped>\n",
       "    .dataframe tbody tr th:only-of-type {\n",
       "        vertical-align: middle;\n",
       "    }\n",
       "\n",
       "    .dataframe tbody tr th {\n",
       "        vertical-align: top;\n",
       "    }\n",
       "\n",
       "    .dataframe thead th {\n",
       "        text-align: right;\n",
       "    }\n",
       "</style>\n",
       "<table border=\"1\" class=\"dataframe\">\n",
       "  <thead>\n",
       "    <tr style=\"text-align: right;\">\n",
       "      <th></th>\n",
       "      <th>title</th>\n",
       "      <th>date</th>\n",
       "      <th>link</th>\n",
       "      <th>content</th>\n",
       "    </tr>\n",
       "  </thead>\n",
       "  <tbody>\n",
       "    <tr>\n",
       "      <th>0</th>\n",
       "      <td>Gov. Justice issues proclamation declaring ext...</td>\n",
       "      <td>12/21/2023</td>\n",
       "      <td>https://governor.wv.gov/News/press-releases/20...</td>\n",
       "      <td>NaN</td>\n",
       "    </tr>\n",
       "    <tr>\n",
       "      <th>1</th>\n",
       "      <td>Gov. Justice awards $1 million grant to West V...</td>\n",
       "      <td>12/21/2023</td>\n",
       "      <td>https://governor.wv.gov/News/press-releases/20...</td>\n",
       "      <td>NaN</td>\n",
       "    </tr>\n",
       "    <tr>\n",
       "      <th>2</th>\n",
       "      <td>Gov. Justice announces Water Development Autho...</td>\n",
       "      <td>12/21/2023</td>\n",
       "      <td>https://governor.wv.gov/News/press-releases/20...</td>\n",
       "      <td>NaN</td>\n",
       "    </tr>\n",
       "    <tr>\n",
       "      <th>3</th>\n",
       "      <td>Gov. Justice orders flags to be flown at half-...</td>\n",
       "      <td>12/21/2023</td>\n",
       "      <td>https://governor.wv.gov/News/press-releases/20...</td>\n",
       "      <td>NaN</td>\n",
       "    </tr>\n",
       "    <tr>\n",
       "      <th>4</th>\n",
       "      <td>Gov. Justice issues proclamation declaring ext...</td>\n",
       "      <td>12/20/2023</td>\n",
       "      <td>https://governor.wv.gov/News/press-releases/20...</td>\n",
       "      <td>NaN</td>\n",
       "    </tr>\n",
       "  </tbody>\n",
       "</table>\n",
       "</div>"
      ],
      "text/plain": [
       "                                               title        date  \\\n",
       "0  Gov. Justice issues proclamation declaring ext...  12/21/2023   \n",
       "1  Gov. Justice awards $1 million grant to West V...  12/21/2023   \n",
       "2  Gov. Justice announces Water Development Autho...  12/21/2023   \n",
       "3  Gov. Justice orders flags to be flown at half-...  12/21/2023   \n",
       "4  Gov. Justice issues proclamation declaring ext...  12/20/2023   \n",
       "\n",
       "                                                link  content  \n",
       "0  https://governor.wv.gov/News/press-releases/20...      NaN  \n",
       "1  https://governor.wv.gov/News/press-releases/20...      NaN  \n",
       "2  https://governor.wv.gov/News/press-releases/20...      NaN  \n",
       "3  https://governor.wv.gov/News/press-releases/20...      NaN  \n",
       "4  https://governor.wv.gov/News/press-releases/20...      NaN  "
      ]
     },
     "execution_count": 112,
     "metadata": {},
     "output_type": "execute_result"
    }
   ],
   "source": [
    "test = pd.read_csv(f'{state}_links.csv')\n",
    "test.head()"
   ]
  },
  {
   "cell_type": "markdown",
   "id": "92cf01bb",
   "metadata": {},
   "source": [
    "## Scrape content from links\n",
    "`Beautiful Soup`"
   ]
  },
  {
   "cell_type": "markdown",
   "id": "6894aaec",
   "metadata": {},
   "source": [
    "### Test with one link"
   ]
  },
  {
   "cell_type": "code",
   "execution_count": 113,
   "id": "497843ea",
   "metadata": {},
   "outputs": [
    {
     "data": {
      "text/plain": [
       "<Response [200]>"
      ]
     },
     "execution_count": 113,
     "metadata": {},
     "output_type": "execute_result"
    }
   ],
   "source": [
    "# test with one\n",
    "link = 'https://governor.wv.gov/News/press-releases/2023/Pages/Gov.-Justice-awards-$1-million-grant-to-West-Virginia-Chamber-Foundation,-boosting-Jobs-for-West-Virginia-Graduates-Program.aspx'\n",
    "server_response = requests.get(link, headers = header_list)\n",
    "server_response"
   ]
  },
  {
   "cell_type": "code",
   "execution_count": 125,
   "id": "30642e3a",
   "metadata": {},
   "outputs": [
    {
     "data": {
      "text/plain": [
       "\"CHARLESTON, WV —Gov. Jim Justice today presented a $1 million check to the West Virginia Chamber Foundation, bolstering their Jobs for West Virginia’s Graduates (JWVG) program and securing brighter futures for countless students across the state.Gov. Justice joined Chamber Foundation representatives, program beneficiaries, and dedicated educators who champion JWVG’s transformative work for the ceremony at the State Capitol.                        “West Virginia students are our future,” Gov. Justice said. “This isn’t just a check, it’s a promise - a promise to bridge the gap between potential and accomplishment for our young people. JWVG’s proven track record in empowering students, particularly those facing challenges, makes it an investment worth celebrating.”The $1 million grant, included in the FY24 budget, passed by the West Virginia Legislature, and signed by Gov. Justice directly supports JWVG’s mission to equip high school students with the necessary skills and support to achieve post-graduation success. This comprehensive program, modeled after the nationally recognized Jobs for America’s Graduates initiative, boasts a 96% graduation rate and provides students with:Individualized mentorship: Caring adults guide students through academic hurdles and personal challenges, fostering resilience and confidence.Project-based learning: Engaging projects build essential skills like critical thinking, problem-solving, and teamwork, preparing students for real-world scenarios.Employer engagement: Direct connections with local businesses offer valuable internship opportunities and pave the way for smooth entry into the workforce.Post-graduation support: Students receive guidance and assistance for up to a year after graduation, ensuring a seamless transition into their chosen path, be it higher education, the military, or the workforce.                                                    “We are deeply grateful for Governor Justice and the West Virginia Legislature for recognizing the transformative power of JWVG,” Elizabeth House said, who's the Director of The West Virginia Chamber Foundation. “This vital funding will empower even more students to overcome obstacles, realize their full potential, and contribute meaningfully to our state’s future.”                        ###\""
      ]
     },
     "execution_count": 125,
     "metadata": {},
     "output_type": "execute_result"
    }
   ],
   "source": [
    "# test with one contd \n",
    "soup_link = bs4.BeautifulSoup(server_response.content, features=\"html.parser\")\n",
    "result = soup_link.find('td')\n",
    "#result\n",
    "string_result = [str(i.text) for i in result]\n",
    "# string_result\n",
    "string_result_clean = [i.replace(u'\\xa0', u'') for i in string_result]\n",
    "string_result_clean = [i.replace(u'\\n', u'') for i in string_result_clean]\n",
    "string_result_clean = [i for i in string_result_clean if len(i)>0] \n",
    "string_result_clean = [i.replace(u'\\r', u'') for i in string_result_clean]\n",
    "# string_result_clean\n",
    "result_merged = \" \".join(string_result_clean)\n",
    "result_merged"
   ]
  },
  {
   "cell_type": "code",
   "execution_count": null,
   "id": "1d905ebc",
   "metadata": {},
   "outputs": [],
   "source": [
    "# define link scraping \n",
    "def get_wv_content(link, df, header_list): \n",
    "    try: \n",
    "        # check if content has already been pulled\n",
    "        result = df.loc[df.link == link, 'content'].notnull().all()\n",
    "        if result:\n",
    "            return f'content already existing for {link}' \n",
    "        else: \n",
    "            try: \n",
    "                server_response = requests.get(link, headers = header_list)\n",
    "                soup_link = bs4.BeautifulSoup(server_response.content, features=\"html.parser\")\n",
    "                result = soup_link.find('td')\n",
    "\n",
    "                string_result = [str(i.text) for i in result]\n",
    "\n",
    "                string_result_clean = [i.replace(u'\\xa0', u'') for i in string_result]\n",
    "                string_result_clean = [i.replace(u'\\n', u'') for i in string_result_clean]\n",
    "                string_result_clean = [i for i in string_result_clean if len(i)>0] \n",
    "                string_result_clean = [i.replace(u'\\r', u'') for i in string_result_clean]\n",
    "\n",
    "                result_merged = \" \".join(string_result_clean)\n",
    "                \n",
    "                df.loc[df.link == link, 'content'] = result_merged\n",
    "                return f\"success: content added from {link}\"\n",
    "            except: \n",
    "                pass\n",
    "    except Exception as e: \n",
    "        return f\"unable to gather content from {link} due to {e}\"\n",
    "    #return df_updated "
   ]
  },
  {
   "cell_type": "code",
   "execution_count": 131,
   "id": "7c4ca661",
   "metadata": {},
   "outputs": [
    {
     "data": {
      "text/plain": [
       "'content already existing for https://governor.wv.gov/News/press-releases/2023/Pages/Gov.-Justice-issues-proclamation-declaring-extended-full-day-holiday-for-New-Years-for-public-employees.aspx'"
      ]
     },
     "execution_count": 131,
     "metadata": {},
     "output_type": "execute_result"
    },
    {
     "data": {
      "text/plain": [
       "'CHARLESTON, WV — Gov. Jim Justice has issued a proclamation, declaring Friday, Dec. 29, 2023, as a full-day state holiday for public employees.View the proclamation here.\\u200bYesterday, Gov. Justice issued a proclamation, declaring Friday, Dec. 22, 2023, as a full-day state holiday for public employees.                        ###'"
      ]
     },
     "execution_count": 131,
     "metadata": {},
     "output_type": "execute_result"
    }
   ],
   "source": [
    "# check one\n",
    "get_wv_content(combined.link[0], combined, header_list) \n",
    "combined.content[0]"
   ]
  },
  {
   "cell_type": "code",
   "execution_count": 132,
   "id": "43a36189",
   "metadata": {},
   "outputs": [
    {
     "data": {
      "text/plain": [
       "'success: content added from https://governor.wv.gov/News/press-releases/2023/Pages/Gov.-Justice-awards-$1-million-grant-to-West-Virginia-Chamber-Foundation,-boosting-Jobs-for-West-Virginia-Graduates-Program.aspx'"
      ]
     },
     "execution_count": 132,
     "metadata": {},
     "output_type": "execute_result"
    },
    {
     "data": {
      "text/plain": [
       "\"CHARLESTON, WV —Gov. Jim Justice today presented a $1 million check to the West Virginia Chamber Foundation, bolstering their Jobs for West Virginia’s Graduates (JWVG) program and securing brighter futures for countless students across the state.Gov. Justice joined Chamber Foundation representatives, program beneficiaries, and dedicated educators who champion JWVG’s transformative work for the ceremony at the State Capitol.                        “West Virginia students are our future,” Gov. Justice said. “This isn’t just a check, it’s a promise - a promise to bridge the gap between potential and accomplishment for our young people. JWVG’s proven track record in empowering students, particularly those facing challenges, makes it an investment worth celebrating.”The $1 million grant, included in the FY24 budget, passed by the West Virginia Legislature, and signed by Gov. Justice directly supports JWVG’s mission to equip high school students with the necessary skills and support to achieve post-graduation success. This comprehensive program, modeled after the nationally recognized Jobs for America’s Graduates initiative, boasts a 96% graduation rate and provides students with:Individualized mentorship: Caring adults guide students through academic hurdles and personal challenges, fostering resilience and confidence.Project-based learning: Engaging projects build essential skills like critical thinking, problem-solving, and teamwork, preparing students for real-world scenarios.Employer engagement: Direct connections with local businesses offer valuable internship opportunities and pave the way for smooth entry into the workforce.Post-graduation support: Students receive guidance and assistance for up to a year after graduation, ensuring a seamless transition into their chosen path, be it higher education, the military, or the workforce.                                                    “We are deeply grateful for Governor Justice and the West Virginia Legislature for recognizing the transformative power of JWVG,” Elizabeth House said, who's the Director of The West Virginia Chamber Foundation. “This vital funding will empower even more students to overcome obstacles, realize their full potential, and contribute meaningfully to our state’s future.”                        ###\""
      ]
     },
     "execution_count": 132,
     "metadata": {},
     "output_type": "execute_result"
    }
   ],
   "source": [
    "# check another\n",
    "get_wv_content(combined.link[1], combined, header_list) \n",
    "combined.content[1] "
   ]
  },
  {
   "cell_type": "markdown",
   "id": "251722dc",
   "metadata": {},
   "source": [
    "### Scrape content from all links "
   ]
  },
  {
   "cell_type": "code",
   "execution_count": 133,
   "id": "4be4977e",
   "metadata": {},
   "outputs": [
    {
     "data": {
      "text/plain": [
       "'content already existing for https://governor.wv.gov/News/press-releases/2023/Pages/Gov.-Justice-issues-proclamation-declaring-extended-full-day-holiday-for-New-Years-for-public-employees.aspx'"
      ]
     },
     "execution_count": 133,
     "metadata": {},
     "output_type": "execute_result"
    },
    {
     "data": {
      "text/plain": [
       "'content already existing for https://governor.wv.gov/News/press-releases/2023/Pages/Gov.-Justice-awards-$1-million-grant-to-West-Virginia-Chamber-Foundation,-boosting-Jobs-for-West-Virginia-Graduates-Program.aspx'"
      ]
     },
     "execution_count": 133,
     "metadata": {},
     "output_type": "execute_result"
    },
    {
     "data": {
      "text/plain": [
       "'success: content added from https://governor.wv.gov/News/press-releases/2023/Pages/Gov.-Justice-announces-Water-Development-Authority-approves-over-$26-million-in-economic-enhancement-projects.aspx'"
      ]
     },
     "execution_count": 133,
     "metadata": {},
     "output_type": "execute_result"
    },
    {
     "data": {
      "text/plain": [
       "'success: content added from https://governor.wv.gov/News/press-releases/2023/Pages/Gov.-Justice-orders-flags-to-be-flown-at-half-staff-on-Saturday,-December-23,-in-honor-of-former-Delegate-Larry-Faircloth.aspx'"
      ]
     },
     "execution_count": 133,
     "metadata": {},
     "output_type": "execute_result"
    },
    {
     "data": {
      "text/plain": [
       "'success: content added from https://governor.wv.gov/News/press-releases/2023/Pages/Gov.-Justice-issues-proclamation-declaring-extended-full-day-holiday-for-Christmas-for-public-employees.aspx'"
      ]
     },
     "execution_count": 133,
     "metadata": {},
     "output_type": "execute_result"
    },
    {
     "data": {
      "text/plain": [
       "'success: content added from https://governor.wv.gov/News/press-releases/2023/Pages/Gov.-Justice-cuts-ribbon-to-open-much-anticipated-Grant-Street-Bridge-in-Bluefield.aspx'"
      ]
     },
     "execution_count": 133,
     "metadata": {},
     "output_type": "execute_result"
    },
    {
     "data": {
      "text/plain": [
       "\"success: content added from https://governor.wv.gov/News/press-releases/2023/Pages/Gov.-Justice-orders-U.S.-and-State-flags-to-half-staff-in-honor-of-U.S.-Supreme-Court-Justice-Sandra-Day-O'Connor.aspx\""
      ]
     },
     "execution_count": 133,
     "metadata": {},
     "output_type": "execute_result"
    },
    {
     "data": {
      "text/plain": [
       "\"success: content added from https://governor.wv.gov/News/press-releases/2023/Pages/Gov.-Justice-cuts-ribbon-to-open-'Bridge-to-Nowhere'-and-major-section-of-King-Coal-Highway-near-Bluefield.aspx\""
      ]
     },
     "execution_count": 133,
     "metadata": {},
     "output_type": "execute_result"
    },
    {
     "data": {
      "text/plain": [
       "'success: content added from https://governor.wv.gov/News/press-releases/2023/Pages/-Gov.-Justice-appoints-Larry-Pack-as-Acting-Secretary-of-Revenue.aspx'"
      ]
     },
     "execution_count": 133,
     "metadata": {},
     "output_type": "execute_result"
    },
    {
     "data": {
      "text/plain": [
       "'success: content added from https://governor.wv.gov/News/press-releases/2023/Pages/Gov.-Justice-appoints-Hardy-as-judge-for-the-Thirteenth-Judicial-Circuit-Court-serving-Kanawha-County.aspx'"
      ]
     },
     "execution_count": 133,
     "metadata": {},
     "output_type": "execute_result"
    },
    {
     "data": {
      "text/plain": [
       "'success: content added from https://governor.wv.gov/News/press-releases/2023/Pages/Gov.-Justice-announces-2024-Governor%E2%80%99s-Schools-applications-now-open.aspx'"
      ]
     },
     "execution_count": 133,
     "metadata": {},
     "output_type": "execute_result"
    },
    {
     "data": {
      "text/plain": [
       "'success: content added from https://governor.wv.gov/News/press-releases/2023/Pages/First-Lady-Justice-announces-state%E2%80%99s-nineteenth-Friends-With-Paws-therapy-dog-for-Washington-Lands-Elementary-School.aspx'"
      ]
     },
     "execution_count": 133,
     "metadata": {},
     "output_type": "execute_result"
    },
    {
     "data": {
      "text/plain": [
       "'success: content added from https://governor.wv.gov/News/press-releases/2023/Pages/Gov.-Justice,-SBA,-approve-over-$111-million-for-new-schools-and-school-upgrades-in-19-counties.aspx'"
      ]
     },
     "execution_count": 133,
     "metadata": {},
     "output_type": "execute_result"
    },
    {
     "data": {
      "text/plain": [
       "'success: content added from https://governor.wv.gov/News/press-releases/2023/Pages/First-Lady-Justice-introduces-newest-Friends-With-Paws-therapy-dog-during-assembly-at-Ravenswood-High-School.aspx'"
      ]
     },
     "execution_count": 133,
     "metadata": {},
     "output_type": "execute_result"
    },
    {
     "data": {
      "text/plain": [
       "'success: content added from https://governor.wv.gov/News/press-releases/2023/Pages/Gov.-Justice-appoints-Sean-K.-%E2%80%9CCorky%E2%80%9D-Hammers-as-judge-for-the-Sixth-Judicial-Court-Circuit-serving-Cabell-County.aspx'"
      ]
     },
     "execution_count": 133,
     "metadata": {},
     "output_type": "execute_result"
    },
    {
     "data": {
      "text/plain": [
       "'success: content added from https://governor.wv.gov/News/press-releases/2023/Pages/Gov.-Justice,-First-Lady-Cathy-Justice-host-Joyful-Night-Celebration-at-Capitol-Complex;-announce-winners-of-Student-Orname.aspx'"
      ]
     },
     "execution_count": 133,
     "metadata": {},
     "output_type": "execute_result"
    },
    {
     "data": {
      "text/plain": [
       "'success: content added from https://governor.wv.gov/News/press-releases/2023/Pages/First-Lady-Cathy-Justice-unveils-official-2023-limited-edition-Christmas-ornament.aspx'"
      ]
     },
     "execution_count": 133,
     "metadata": {},
     "output_type": "execute_result"
    },
    {
     "data": {
      "text/plain": [
       "'success: content added from https://governor.wv.gov/News/press-releases/2023/Pages/Gov.-Justice-appoints-Wooten-to-State-Board-of-Education.aspx'"
      ]
     },
     "execution_count": 133,
     "metadata": {},
     "output_type": "execute_result"
    },
    {
     "data": {
      "text/plain": [
       "'success: content added from https://governor.wv.gov/News/press-releases/2023/Pages/Gov.-Justice-announces-yearly-revenue-collections-$286.2-million-ahead-of-estimate.aspx'"
      ]
     },
     "execution_count": 133,
     "metadata": {},
     "output_type": "execute_result"
    },
    {
     "data": {
      "text/plain": [
       "'success: content added from https://governor.wv.gov/News/press-releases/2023/Pages/Gov.-Justice-appoints-Meredith-Haines-as-judge-for-the-23rd-Family-Circuit-Court-serving-Hampshire,-Mineral,-and-Morgan-Cou.aspx'"
      ]
     },
     "execution_count": 133,
     "metadata": {},
     "output_type": "execute_result"
    },
    {
     "data": {
      "text/plain": [
       "'success: content added from https://governor.wv.gov/News/press-releases/2023/Pages/Gov.-Justice-appoints-Angela-Walters-as-judge-for-the-12th-Family-Circuit-Court-serving-Mercer-and-McDowell-Counties.aspx'"
      ]
     },
     "execution_count": 133,
     "metadata": {},
     "output_type": "execute_result"
    },
    {
     "data": {
      "text/plain": [
       "'success: content added from https://governor.wv.gov/News/press-releases/2023/Pages/Gov.-Justice-signs-MOU-between-WVDNR-and-Girl-Scouts-to-promote-education,-conservation.aspx'"
      ]
     },
     "execution_count": 133,
     "metadata": {},
     "output_type": "execute_result"
    },
    {
     "data": {
      "text/plain": [
       "'success: content added from https://governor.wv.gov/News/press-releases/2023/Pages/Gov.-Justice-announces-Monster-Trout-Contest-winners.aspx'"
      ]
     },
     "execution_count": 133,
     "metadata": {},
     "output_type": "execute_result"
    },
    {
     "data": {
      "text/plain": [
       "\"success: content added from https://governor.wv.gov/News/press-releases/2023/Pages/West-Virginia's-annual-Joyful-Night-Celebration-returns-with-special-State-Christmas-Tree-from-Kumbrabow-State-Forest.aspx\""
      ]
     },
     "execution_count": 133,
     "metadata": {},
     "output_type": "execute_result"
    },
    {
     "data": {
      "text/plain": [
       "'success: content added from https://governor.wv.gov/News/press-releases/2023/Pages/Applications-for-Ninth-Judicial-Circuit-Court-vacancy-now-available.aspx'"
      ]
     },
     "execution_count": 133,
     "metadata": {},
     "output_type": "execute_result"
    },
    {
     "data": {
      "text/plain": [
       "'success: content added from https://governor.wv.gov/News/press-releases/2023/Pages/Gov.-Justice-issues-proclamation-declaring-half-day-holiday-Wednesday-for-public-employees.aspx'"
      ]
     },
     "execution_count": 133,
     "metadata": {},
     "output_type": "execute_result"
    },
    {
     "data": {
      "text/plain": [
       "'success: content added from https://governor.wv.gov/News/press-releases/2023/Pages/Gov.-Justice-announces-over-$1.2-million-in-Justice-Assistance-Grant-awards.aspx'"
      ]
     },
     "execution_count": 133,
     "metadata": {},
     "output_type": "execute_result"
    },
    {
     "data": {
      "text/plain": [
       "'success: content added from https://governor.wv.gov/News/press-releases/2023/Pages/Gov.-Justice-announces-$2.5-million-in-Comprehensive-Opioid,-Stimulant,-and-Substance-Abuse-Program-grant-awards.aspx'"
      ]
     },
     "execution_count": 133,
     "metadata": {},
     "output_type": "execute_result"
    },
    {
     "data": {
      "text/plain": [
       "'success: content added from https://governor.wv.gov/News/press-releases/2023/Pages/Gov.-Justice-announces-Elk-River-trout-stocking-pilot-program-in-Webster-County.aspx'"
      ]
     },
     "execution_count": 133,
     "metadata": {},
     "output_type": "execute_result"
    },
    {
     "data": {
      "text/plain": [
       "'success: content added from https://governor.wv.gov/News/press-releases/2023/Pages/Gov.-Justice-announces-new-holiday-gift-ideas-from-Tourism-and-DNR.aspx'"
      ]
     },
     "execution_count": 133,
     "metadata": {},
     "output_type": "execute_result"
    },
    {
     "data": {
      "text/plain": [
       "'success: content added from https://governor.wv.gov/News/press-releases/2023/Pages/Gov.-Justice-announces-$2.8-million-in-matching-funds-for-infrastructure-advancements-in-West-Virginia.aspx'"
      ]
     },
     "execution_count": 133,
     "metadata": {},
     "output_type": "execute_result"
    },
    {
     "data": {
      "text/plain": [
       "'success: content added from https://governor.wv.gov/News/press-releases/2023/Pages/Governor-and-First-Lady-Justice-invite-West-Virginians-to-submit-photos-for-2023-Military-and-First-Responder-recognition.aspx'"
      ]
     },
     "execution_count": 133,
     "metadata": {},
     "output_type": "execute_result"
    },
    {
     "data": {
      "text/plain": [
       "'success: content added from https://governor.wv.gov/News/press-releases/2023/Pages/Gov.-Justice-announces-start-of-buck-firearms-season,-return-of-Big-Buck-Photo-Contest-.aspx'"
      ]
     },
     "execution_count": 133,
     "metadata": {},
     "output_type": "execute_result"
    },
    {
     "data": {
      "text/plain": [
       "'success: content added from https://governor.wv.gov/News/press-releases/2023/Pages/Gov.-Justice-announces-first-distribution-of-$3-million-in-funding-for-fire-services-in-West-Virginia.aspx'"
      ]
     },
     "execution_count": 133,
     "metadata": {},
     "output_type": "execute_result"
    },
    {
     "data": {
      "text/plain": [
       "'success: content added from https://governor.wv.gov/News/press-releases/2023/Pages/Gov.-Justice-declares-State-of-Emergency-for-Kanawha-County-due-to-gas-outage.aspx'"
      ]
     },
     "execution_count": 133,
     "metadata": {},
     "output_type": "execute_result"
    },
    {
     "data": {
      "text/plain": [
       "'success: content added from https://governor.wv.gov/News/press-releases/2023/Pages/Gov.-Justice-orders-flags-to-be-flown-at-half-staff-on-Saturday,-November-11,-in-honor-of-Judge-Robert-Brand-Stone.aspx'"
      ]
     },
     "execution_count": 133,
     "metadata": {},
     "output_type": "execute_result"
    },
    {
     "data": {
      "text/plain": [
       "'success: content added from https://governor.wv.gov/News/press-releases/2023/Pages/Gov.-Justice-announces-Breeze-Airways-to-start-new-route-to-Myrtle-Beach-from-Charleston.aspx'"
      ]
     },
     "execution_count": 133,
     "metadata": {},
     "output_type": "execute_result"
    },
    {
     "data": {
      "text/plain": [
       "'success: content added from https://governor.wv.gov/News/press-releases/2023/Pages/Applications-for-Thirteenth-Judicial-Circuit-Court-vacancy-now-available.aspx'"
      ]
     },
     "execution_count": 133,
     "metadata": {},
     "output_type": "execute_result"
    },
    {
     "data": {
      "text/plain": [
       "'success: content added from https://governor.wv.gov/News/press-releases/2023/Pages/West-Virginia-sees-another-month-of-revenue-surplus-as-Gov.-Justice-announces-October-collections-$7.4-million-above-estima.aspx'"
      ]
     },
     "execution_count": 133,
     "metadata": {},
     "output_type": "execute_result"
    },
    {
     "data": {
      "text/plain": [
       "'success: content added from https://governor.wv.gov/News/press-releases/2023/Pages/Gov.-Justice-announces-statewide-partnership-with-Tutor.com.aspx'"
      ]
     },
     "execution_count": 133,
     "metadata": {},
     "output_type": "execute_result"
    },
    {
     "data": {
      "text/plain": [
       "'success: content added from https://governor.wv.gov/News/press-releases/2023/Pages/Gov.-Justice-to-celebrate-West-Virginia-tree-heading-for-display-at-the-U.S.-Capitol-at-event-in-Charleston.aspx'"
      ]
     },
     "execution_count": 133,
     "metadata": {},
     "output_type": "execute_result"
    },
    {
     "data": {
      "text/plain": [
       "'success: content added from https://governor.wv.gov/News/press-releases/2023/Pages/First-Lady-Justice-announces-newest-Friends-With-Paws-therapy-dog-at-Berkeley-Springs-High-School.aspx'"
      ]
     },
     "execution_count": 133,
     "metadata": {},
     "output_type": "execute_result"
    },
    {
     "data": {
      "text/plain": [
       "'success: content added from https://governor.wv.gov/News/press-releases/2023/Pages/Gov.-Justice-appoints-Erica-Moore-to-Fifteenth-District-seat-in-House-of-Delegates.aspx'"
      ]
     },
     "execution_count": 133,
     "metadata": {},
     "output_type": "execute_result"
    },
    {
     "data": {
      "text/plain": [
       "'success: content added from https://governor.wv.gov/News/press-releases/2023/Pages/First-Lady-Justice-announces-newest-Friends-With-Paws-therapy-dog-for-Pendleton-County-Middle,-High-School.aspx'"
      ]
     },
     "execution_count": 133,
     "metadata": {},
     "output_type": "execute_result"
    },
    {
     "data": {
      "text/plain": [
       "'success: content added from https://governor.wv.gov/News/press-releases/2023/Pages/First-Lady-Cathy-Justice,-WV-Dept.-of-Arts,-Culture-and-History-invite-artists-to-create-ornaments-for-the-2023-Artistree.aspx'"
      ]
     },
     "execution_count": 133,
     "metadata": {},
     "output_type": "execute_result"
    },
    {
     "data": {
      "text/plain": [
       "'success: content added from https://governor.wv.gov/News/press-releases/2023/Pages/Gov.-Justice-invites-students-to-participate-in-annual-Almost-Heaven-Governor%E2%80%99s-Art-Exhibition.aspx'"
      ]
     },
     "execution_count": 133,
     "metadata": {},
     "output_type": "execute_result"
    },
    {
     "data": {
      "text/plain": [
       "'success: content added from https://governor.wv.gov/News/press-releases/2023/Pages/Gov.-Justice-appoints-Jeffrey-Stephens-to-Sixth-District-seat-in-House-of-Delegates.aspx'"
      ]
     },
     "execution_count": 133,
     "metadata": {},
     "output_type": "execute_result"
    },
    {
     "data": {
      "text/plain": [
       "'success: content added from https://governor.wv.gov/News/press-releases/2023/Pages/Gov.-Justice-announces-$3.8-million-in-grant-funding-opportunities-for-West-Virginia-senior-centers-now-available.aspx'"
      ]
     },
     "execution_count": 133,
     "metadata": {},
     "output_type": "execute_result"
    },
    {
     "data": {
      "text/plain": [
       "'success: content added from https://governor.wv.gov/News/press-releases/2023/Pages/Gov.-Justice-visits-Ramage-Elementary-to-applaud-progress-of-GameChanger,-celebrate-Red-Ribbon-Week.aspx'"
      ]
     },
     "execution_count": 133,
     "metadata": {},
     "output_type": "execute_result"
    },
    {
     "data": {
      "text/plain": [
       "'success: content added from https://governor.wv.gov/News/press-releases/2023/Pages/Gov.-Justice-orders-flags-to-half-staff-until-sunset-Monday,-October-30-to-honor-victims-of-Maine-mass-shooting.aspx'"
      ]
     },
     "execution_count": 133,
     "metadata": {},
     "output_type": "execute_result"
    },
    {
     "data": {
      "text/plain": [
       "'success: content added from https://governor.wv.gov/News/press-releases/2023/Pages/Applications-for-Sixth-Judicial-Circuit-Court-vacancy-now-available.aspx'"
      ]
     },
     "execution_count": 133,
     "metadata": {},
     "output_type": "execute_result"
    },
    {
     "data": {
      "text/plain": [
       "'success: content added from https://governor.wv.gov/News/press-releases/2023/Pages/Gov.-Justice-breaks-ground,-announces-naming-of-Charles-Calvin-Rogers-Veterans-Nursing-Facility.aspx'"
      ]
     },
     "execution_count": 133,
     "metadata": {},
     "output_type": "execute_result"
    },
    {
     "data": {
      "text/plain": [
       "'success: content added from https://governor.wv.gov/News/press-releases/2023/Pages/Gov.-Justice-participates-in-groundbreaking-of-largest-manufacturing-investment-in-state-history.aspx'"
      ]
     },
     "execution_count": 133,
     "metadata": {},
     "output_type": "execute_result"
    },
    {
     "data": {
      "text/plain": [
       "'success: content added from https://governor.wv.gov/News/press-releases/2023/Pages/First-Lady-Cathy-Justice-invites-students-to-create-ornaments-for-the-2023-First-Lady-Student-Ornament-Competition.aspx'"
      ]
     },
     "execution_count": 133,
     "metadata": {},
     "output_type": "execute_result"
    },
    {
     "data": {
      "text/plain": [
       "'success: content added from https://governor.wv.gov/News/press-releases/2023/Pages/Gov.-Justice-announces-opening-of-Posey-Perry-Emergency-Food-Fund-to-address-food-insecurity-in-West-Virginia.aspx'"
      ]
     },
     "execution_count": 133,
     "metadata": {},
     "output_type": "execute_result"
    },
    {
     "data": {
      "text/plain": [
       "'success: content added from https://governor.wv.gov/News/press-releases/2023/Pages/Gov.-Justice-celebrates-early-opening-of-new-RHL-Boulevard-connector.aspx'"
      ]
     },
     "execution_count": 133,
     "metadata": {},
     "output_type": "execute_result"
    },
    {
     "data": {
      "text/plain": [
       "'success: content added from https://governor.wv.gov/News/press-releases/2023/Pages/Applications-for-23rd-Circuit-Court-vacancies-now-available.aspx'"
      ]
     },
     "execution_count": 133,
     "metadata": {},
     "output_type": "execute_result"
    },
    {
     "data": {
      "text/plain": [
       "'success: content added from https://governor.wv.gov/News/press-releases/2023/Pages/Applications-for-12th-Circuit-Court-vacancies-now-available.aspx'"
      ]
     },
     "execution_count": 133,
     "metadata": {},
     "output_type": "execute_result"
    },
    {
     "data": {
      "text/plain": [
       "'success: content added from https://governor.wv.gov/News/press-releases/2023/Pages/Gov.-Justice,-Victoria-Yeager-celebrate-completion-of-Charles-Chuck-Yeager-Bridge-project.aspx'"
      ]
     },
     "execution_count": 133,
     "metadata": {},
     "output_type": "execute_result"
    },
    {
     "data": {
      "text/plain": [
       "'success: content added from https://governor.wv.gov/News/press-releases/2023/Pages/Gov.-Justice-announces-fall-trout-stockings-and-return-of-Monster-Trout-Contest.aspx'"
      ]
     },
     "execution_count": 133,
     "metadata": {},
     "output_type": "execute_result"
    },
    {
     "data": {
      "text/plain": [
       "'success: content added from https://governor.wv.gov/News/press-releases/2023/Pages/Gov.-Justice-announces-partnership-with-NBC-Sports-Next-and-GolfNow-to-offer-online-tee-time-booking-at-WV-State-Parks.aspx'"
      ]
     },
     "execution_count": 133,
     "metadata": {},
     "output_type": "execute_result"
    },
    {
     "data": {
      "text/plain": [
       "'success: content added from https://governor.wv.gov/News/press-releases/2023/Pages/Gov.-Justice-announces-$3.5-million-grant-award-to-Mylan-Park-Foundation-for-transformative-sports-development-project.aspx'"
      ]
     },
     "execution_count": 133,
     "metadata": {},
     "output_type": "execute_result"
    },
    {
     "data": {
      "text/plain": [
       "'success: content added from https://governor.wv.gov/News/press-releases/2023/Pages/Gov.-Justice-announces-new-bridge-project-in-Monongalia-County-to-enhance-economic-growth,-road-safety.aspx'"
      ]
     },
     "execution_count": 133,
     "metadata": {},
     "output_type": "execute_result"
    },
    {
     "data": {
      "text/plain": [
       "'success: content added from https://governor.wv.gov/News/press-releases/2023/Pages/Gov.-Justice-announces-more-than-$800,000-in-Sexual-Assault-Services-Program-grant-awards.aspx'"
      ]
     },
     "execution_count": 133,
     "metadata": {},
     "output_type": "execute_result"
    },
    {
     "data": {
      "text/plain": [
       "'success: content added from https://governor.wv.gov/News/press-releases/2023/Pages/Gov.-Justice-announces-$210-million-revenue-surplus-for-September,-led-by-personal-income-tax-collections.aspx'"
      ]
     },
     "execution_count": 133,
     "metadata": {},
     "output_type": "execute_result"
    },
    {
     "data": {
      "text/plain": [
       "'success: content added from https://governor.wv.gov/News/press-releases/2023/Pages/Elkins-High-School-welcomes-newest-Friends-With-Paws-therapy-dog.aspx'"
      ]
     },
     "execution_count": 133,
     "metadata": {},
     "output_type": "execute_result"
    },
    {
     "data": {
      "text/plain": [
       "'success: content added from https://governor.wv.gov/News/press-releases/2023/Pages/Gov.-Justice-orders-all-U.S.-and-State-flags-to-be-flown-at-half-staff-in-honor-of-Charles-Romine.aspx'"
      ]
     },
     "execution_count": 133,
     "metadata": {},
     "output_type": "execute_result"
    },
    {
     "data": {
      "text/plain": [
       "'success: content added from https://governor.wv.gov/News/press-releases/2023/Pages/First-Lady-Justice-introduces-newest-Friends-With-Paws-therapy-dog-during-assembly-at-Chapmanville-Intermediate-School.aspx'"
      ]
     },
     "execution_count": 133,
     "metadata": {},
     "output_type": "execute_result"
    },
    {
     "data": {
      "text/plain": [
       "'success: content added from https://governor.wv.gov/News/press-releases/2023/Pages/Gov.-Justice-celebrates-grand-opening-of-the-historic-Wellsburg-Bridge.aspx'"
      ]
     },
     "execution_count": 133,
     "metadata": {},
     "output_type": "execute_result"
    },
    {
     "data": {
      "text/plain": [
       "'success: content added from https://governor.wv.gov/News/press-releases/2023/Pages/Gov.-Justice-appoints-Hollis-T.-Lewis-to-57th-District-seat-in-House-of-Delegates.aspx'"
      ]
     },
     "execution_count": 133,
     "metadata": {},
     "output_type": "execute_result"
    },
    {
     "data": {
      "text/plain": [
       "'success: content added from https://governor.wv.gov/News/press-releases/2023/Pages/Gov.-Justice-appoints-Jeremy-Jones-as-State-Forester.aspx'"
      ]
     },
     "execution_count": 133,
     "metadata": {},
     "output_type": "execute_result"
    },
    {
     "data": {
      "text/plain": [
       "'success: content added from https://governor.wv.gov/News/press-releases/2023/Pages/Gov.-Justice-appoints-Jeff-Campbell-to-46th-District-seat-in-House-of-Delegates.aspx'"
      ]
     },
     "execution_count": 133,
     "metadata": {},
     "output_type": "execute_result"
    },
    {
     "data": {
      "text/plain": [
       "'success: content added from https://governor.wv.gov/News/press-releases/2023/Pages/Gov.-Justice-issues-statement-on-death-of-West-Virginia-National-Guard-member.aspx'"
      ]
     },
     "execution_count": 133,
     "metadata": {},
     "output_type": "execute_result"
    },
    {
     "data": {
      "text/plain": [
       "'success: content added from https://governor.wv.gov/News/press-releases/2023/Pages/Gov.-Justice-announces-new-anti-human-trafficking-initiative.aspx'"
      ]
     },
     "execution_count": 133,
     "metadata": {},
     "output_type": "execute_result"
    },
    {
     "data": {
      "text/plain": [
       "'success: content added from https://governor.wv.gov/News/press-releases/2023/Pages/Gov.-Justice-announces-record-$7-billion-annual-tourism-impact-for-2022.aspx'"
      ]
     },
     "execution_count": 133,
     "metadata": {},
     "output_type": "execute_result"
    },
    {
     "data": {
      "text/plain": [
       "'success: content added from https://governor.wv.gov/News/press-releases/2023/Pages/Gov.-Justice-orders-flags-to-half-staff-on-Monday,-September-11-for-Patriot-Day-and-Heroes-Day.aspx'"
      ]
     },
     "execution_count": 133,
     "metadata": {},
     "output_type": "execute_result"
    },
    {
     "data": {
      "text/plain": [
       "'success: content added from https://governor.wv.gov/News/press-releases/2023/Pages/Gov.-Justice-welcomes-home-WV-Guard-Operation-Lone-Star-volunteers.aspx'"
      ]
     },
     "execution_count": 133,
     "metadata": {},
     "output_type": "execute_result"
    },
    {
     "data": {
      "text/plain": [
       "'success: content added from https://governor.wv.gov/News/press-releases/2023/Pages/Gov.-Justice-announces-that-West-Virginia%E2%80%99s-EMS-workforce-has-grown-by-more-than-600-over-the-past-year-.aspx'"
      ]
     },
     "execution_count": 133,
     "metadata": {},
     "output_type": "execute_result"
    },
    {
     "data": {
      "text/plain": [
       "'success: content added from https://governor.wv.gov/News/press-releases/2023/Pages/Gov.-Justice-announces-$22.8-million-revenue-surplus-for-August.aspx'"
      ]
     },
     "execution_count": 133,
     "metadata": {},
     "output_type": "execute_result"
    },
    {
     "data": {
      "text/plain": [
       "'success: content added from https://governor.wv.gov/News/press-releases/2023/Pages/Gov.-Justice-announces-Treplar-to-invest-in-food-packaging-facility-in-Berkeley-County,-WV.aspx'"
      ]
     },
     "execution_count": 133,
     "metadata": {},
     "output_type": "execute_result"
    },
    {
     "data": {
      "text/plain": [
       "'success: content added from https://governor.wv.gov/News/press-releases/2023/Pages/Gov.-Justice-appoints-Mike-Honaker-as-new-Department-of-Homeland-Security-Inspector-General.aspx'"
      ]
     },
     "execution_count": 133,
     "metadata": {},
     "output_type": "execute_result"
    },
    {
     "data": {
      "text/plain": [
       "'success: content added from https://governor.wv.gov/News/press-releases/2023/Pages/Gov.-Justice-announces-Omnis-Fuel-Technologies-to-invest-$800-million-in-Pleasants-County,-West-Virginia-Power-Plant.aspx'"
      ]
     },
     "execution_count": 133,
     "metadata": {},
     "output_type": "execute_result"
    },
    {
     "data": {
      "text/plain": [
       "'success: content added from https://governor.wv.gov/News/press-releases/2023/Pages/Governor-and-First-Lady-Justice-introduce-newest-Friends-With-Paws-therapy-dog-at-Greenbrier-East-High-School.aspx'"
      ]
     },
     "execution_count": 133,
     "metadata": {},
     "output_type": "execute_result"
    },
    {
     "data": {
      "text/plain": [
       "'success: content added from https://governor.wv.gov/News/press-releases/2023/Pages/Gov.-Justice-announces-appointments-to-the-West-Virginia-First-Foundation.aspx'"
      ]
     },
     "execution_count": 133,
     "metadata": {},
     "output_type": "execute_result"
    },
    {
     "data": {
      "text/plain": [
       "'success: content added from https://governor.wv.gov/News/press-releases/2023/Pages/Governor-and-First-Lady-Justice-announce-next-seven-therapy-dogs-to-be-placed-through-the-Friends-With-Paws-program-in-2023.aspx'"
      ]
     },
     "execution_count": 133,
     "metadata": {},
     "output_type": "execute_result"
    },
    {
     "data": {
      "text/plain": [
       "'success: content added from https://governor.wv.gov/News/press-releases/2023/Pages/Governor-and-First-Lady-Justice-announce-15-new-counties-added-to-Communities-In-Schools-program.aspx'"
      ]
     },
     "execution_count": 133,
     "metadata": {},
     "output_type": "execute_result"
    },
    {
     "data": {
      "text/plain": [
       "'success: content added from https://governor.wv.gov/News/press-releases/2023/Pages/Gov.-Justice-declares-State-of-Emergency-for-Kanawha,-Braxton,-Calhoun,-Clay,-and-Roane-counties-due-to-flooding;-WV-Nation.aspx'"
      ]
     },
     "execution_count": 133,
     "metadata": {},
     "output_type": "execute_result"
    },
    {
     "data": {
      "text/plain": [
       "'success: content added from https://governor.wv.gov/News/press-releases/2023/Pages/Gov.-Justice-signs-bill-providing-over-$3-million-to-West-Virginia-National-Guard-for-use-at-Mountaineer-ChalleNGe-Academy-.aspx'"
      ]
     },
     "execution_count": 133,
     "metadata": {},
     "output_type": "execute_result"
    },
    {
     "data": {
      "text/plain": [
       "'success: content added from https://governor.wv.gov/News/press-releases/2023/Pages/Gov.-Justice-appoints-Michael-Asbury-as-judge-for-the-Fourteenth-Judicial-Circuit-Court-serving-Braxton,-Clay,-Gilmer,-and-.aspx'"
      ]
     },
     "execution_count": 133,
     "metadata": {},
     "output_type": "execute_result"
    },
    {
     "data": {
      "text/plain": [
       "'success: content added from https://governor.wv.gov/News/press-releases/2023/Pages/Gov.-Justice-appoints-Stephanie-Abraham-as-judge-for-the-Thirteenth-Judicial-Circuit-Court-serving-Kanawha-County.aspx'"
      ]
     },
     "execution_count": 133,
     "metadata": {},
     "output_type": "execute_result"
    },
    {
     "data": {
      "text/plain": [
       "'success: content added from https://governor.wv.gov/News/press-releases/2023/Pages/Gov.-Justice-announces-nine-arts-grants-at-Keith-Albee-Performing-Arts-Center.aspx'"
      ]
     },
     "execution_count": 133,
     "metadata": {},
     "output_type": "execute_result"
    },
    {
     "data": {
      "text/plain": [
       "'success: content added from https://governor.wv.gov/News/press-releases/2023/Pages/Gov.-Justice-signs-bill-providing-funds-to-Marshall-University-to-build-state-of-the-art-institute-for-cyber-security.aspx'"
      ]
     },
     "execution_count": 133,
     "metadata": {},
     "output_type": "execute_result"
    },
    {
     "data": {
      "text/plain": [
       "'success: content added from https://governor.wv.gov/News/press-releases/2023/Pages/Gov.-Justice-signs-bills-allocating-$12-million-to-fire-departments-and-first-responders.aspx'"
      ]
     },
     "execution_count": 133,
     "metadata": {},
     "output_type": "execute_result"
    },
    {
     "data": {
      "text/plain": [
       "'success: content added from https://governor.wv.gov/News/press-releases/2023/Pages/Gov.-Justice-announces-21-art-grants-at-the-Greenbrier-Valley-Theatre-in-Lewisburg.aspx'"
      ]
     },
     "execution_count": 133,
     "metadata": {},
     "output_type": "execute_result"
    },
    {
     "data": {
      "text/plain": [
       "'success: content added from https://governor.wv.gov/News/press-releases/2023/Pages/Gov.-Justice-signs-bill-providing-$25-million-in-funding-to-Pierpont-Community-and-Technical-College-Aviation-Maintenance-P.aspx'"
      ]
     },
     "execution_count": 133,
     "metadata": {},
     "output_type": "execute_result"
    },
    {
     "data": {
      "text/plain": [
       "'success: content added from https://governor.wv.gov/News/press-releases/2023/Pages/Gov.-Justice-signs-bill-providing-$1-million-to-WV-Veterans-Nursing-Facility.aspx'"
      ]
     },
     "execution_count": 133,
     "metadata": {},
     "output_type": "execute_result"
    },
    {
     "data": {
      "text/plain": [
       "'success: content added from https://governor.wv.gov/News/press-releases/2023/Pages/Gov.-Justice-announces-exciting-lineup-of-activities-for-this-year%E2%80%99s-Hunting-and-Fishing-Days-Celebration.aspx'"
      ]
     },
     "execution_count": 133,
     "metadata": {},
     "output_type": "execute_result"
    },
    {
     "data": {
      "text/plain": [
       "'success: content added from https://governor.wv.gov/News/press-releases/2023/Pages/Gov.-Justice-announces-Fidelis-New-Energy-to-build-hydrogen-project-and-data-center-campus-in-Mason-County.aspx'"
      ]
     },
     "execution_count": 133,
     "metadata": {},
     "output_type": "execute_result"
    },
    {
     "data": {
      "text/plain": [
       "'success: content added from https://governor.wv.gov/News/press-releases/2023/Pages/Gov.-Justice-signs-bills-to-increase-correctional-officer-salaries.aspx'"
      ]
     },
     "execution_count": 133,
     "metadata": {},
     "output_type": "execute_result"
    },
    {
     "data": {
      "text/plain": [
       "'success: content added from https://governor.wv.gov/News/press-releases/2023/Pages/Gov.-Justice-signs-bill-allocating-$4-million-for-new-firefighting-equipment,-renames-Region-Four-Division-of-Forestry.aspx'"
      ]
     },
     "execution_count": 133,
     "metadata": {},
     "output_type": "execute_result"
    },
    {
     "data": {
      "text/plain": [
       "'success: content added from https://governor.wv.gov/News/press-releases/2023/Pages/Gov.-Justice-issues-statement;-postpones-events-set-for-tomorrow.aspx'"
      ]
     },
     "execution_count": 133,
     "metadata": {},
     "output_type": "execute_result"
    },
    {
     "data": {
      "text/plain": [
       "'success: content added from https://governor.wv.gov/News/press-releases/2023/Pages/Gov.-Justice-signs-bill-officially-designating-Summersville-Lake-State-Park.aspx'"
      ]
     },
     "execution_count": 133,
     "metadata": {},
     "output_type": "execute_result"
    },
    {
     "data": {
      "text/plain": [
       "'success: content added from https://governor.wv.gov/News/press-releases/2023/Pages/Governor-issues-State-of-Preparedness-ahead-of-severe-storms.aspx'"
      ]
     },
     "execution_count": 133,
     "metadata": {},
     "output_type": "execute_result"
    },
    {
     "data": {
      "text/plain": [
       "'success: content added from https://governor.wv.gov/News/press-releases/2023/Pages/Gov.-Justice-issues-proclamation-calling-for-Special-Session-of-the-West-Virginia-Legislature-today-at-4-pm.aspx'"
      ]
     },
     "execution_count": 133,
     "metadata": {},
     "output_type": "execute_result"
    },
    {
     "data": {
      "text/plain": [
       "'success: content added from https://governor.wv.gov/News/press-releases/2023/Pages/Gov.-Justice-announces-Summersville-Lake-to-become-West-Virginia%E2%80%99s-newest-State-Park.aspx'"
      ]
     },
     "execution_count": 133,
     "metadata": {},
     "output_type": "execute_result"
    },
    {
     "data": {
      "text/plain": [
       "'success: content added from https://governor.wv.gov/News/press-releases/2023/Pages/West-Virginia-DMV%E2%80%99s-National-Digital-Titling-Clearinghouse-now-signing-up-businesses-nationwide.aspx'"
      ]
     },
     "execution_count": 133,
     "metadata": {},
     "output_type": "execute_result"
    },
    {
     "data": {
      "text/plain": [
       "\"success: content added from https://governor.wv.gov/News/press-releases/2023/Pages/Gov.-Justice-cuts-everyone's-income-tax-and-state-still-shows-surplus-revenue-numbers-for-July.aspx\""
      ]
     },
     "execution_count": 133,
     "metadata": {},
     "output_type": "execute_result"
    },
    {
     "data": {
      "text/plain": [
       "'success: content added from https://governor.wv.gov/News/press-releases/2023/Pages/Gov.-Justice-Announces-West-Virginia-Sales-Tax-Holiday-To-Take-Place-Friday,-August-4-%E2%80%93-Monday,-August-7.aspx'"
      ]
     },
     "execution_count": 133,
     "metadata": {},
     "output_type": "execute_result"
    },
    {
     "data": {
      "text/plain": [
       "'success: content added from https://governor.wv.gov/News/press-releases/2023/Pages/Gov.-Justice-announces-preliminary-approvals-for-West-Virginia-Broadband-Investment-Plan,-LEAD,-and-MBPS-programs.aspx'"
      ]
     },
     "execution_count": 133,
     "metadata": {},
     "output_type": "execute_result"
    },
    {
     "data": {
      "text/plain": [
       "'success: content added from https://governor.wv.gov/News/press-releases/2023/Pages/Governor-Justice-announces-Arts-and-Historic-Preservation-Grant-award-winners.aspx'"
      ]
     },
     "execution_count": 133,
     "metadata": {},
     "output_type": "execute_result"
    },
    {
     "data": {
      "text/plain": [
       "'success: content added from https://governor.wv.gov/News/press-releases/2023/Pages/Gov.-Justice-calls-on-HEPC-to-delay-emergency-meeting-on-Alderson-Broaddus-University.aspx'"
      ]
     },
     "execution_count": 133,
     "metadata": {},
     "output_type": "execute_result"
    },
    {
     "data": {
      "text/plain": [
       "\"success: content added from https://governor.wv.gov/News/press-releases/2023/Pages/Workers'-compensation-insurance-rates-to-drop-for-19th-straight-year,-more-good-news-for-West-Virginia-businesses.aspx\""
      ]
     },
     "execution_count": 133,
     "metadata": {},
     "output_type": "execute_result"
    },
    {
     "data": {
      "text/plain": [
       "'success: content added from https://governor.wv.gov/News/press-releases/2023/Pages/Gov.-Justice-files-SCOTUS-brief-urging-Mountain-Valley-Pipeline-completion.aspx'"
      ]
     },
     "execution_count": 133,
     "metadata": {},
     "output_type": "execute_result"
    },
    {
     "data": {
      "text/plain": [
       "'success: content added from https://governor.wv.gov/News/press-releases/2023/Pages/Gov.-Justice-thanks-CIO-Josh-Spence-for-his-service;-announces-appointment-of-Heather-Abbott-as-State%E2%80%99s-Chief-Information-O.aspx'"
      ]
     },
     "execution_count": 133,
     "metadata": {},
     "output_type": "execute_result"
    },
    {
     "data": {
      "text/plain": [
       "'success: content added from https://governor.wv.gov/News/press-releases/2023/Pages/Gov.-Justice-thanks-Secretary-Jeff-Sandy-for-his-service-after-announcing-retirement;-appoints-Mark-Sorsaia-as-Secretary-of.aspx'"
      ]
     },
     "execution_count": 133,
     "metadata": {},
     "output_type": "execute_result"
    },
    {
     "data": {
      "text/plain": [
       "'success: content added from https://governor.wv.gov/News/press-releases/2023/Pages/Gov.-Justice-announces-over-$18-million-in-ARC-grant-award-recommendations-for-projects-across-West-Virginia.aspx'"
      ]
     },
     "execution_count": 133,
     "metadata": {},
     "output_type": "execute_result"
    },
    {
     "data": {
      "text/plain": [
       "'success: content added from https://governor.wv.gov/News/press-releases/2023/Pages/Gov.-Justice-announces-MOU-between-DNR,-Boy-Scouts-to-promote-education,-conservation.aspx'"
      ]
     },
     "execution_count": 133,
     "metadata": {},
     "output_type": "execute_result"
    },
    {
     "data": {
      "text/plain": [
       "'success: content added from https://governor.wv.gov/News/press-releases/2023/Pages/Gov.-Justice-announces-updates-to-comprehensive-website-to-track-and-manage-West-Virginia%E2%80%99s-IIJA-plans-and-accomplishments.aspx'"
      ]
     },
     "execution_count": 133,
     "metadata": {},
     "output_type": "execute_result"
    },
    {
     "data": {
      "text/plain": [
       "'success: content added from https://governor.wv.gov/News/press-releases/2023/Pages/Gov.-Justice-announces-$2.6-million-awarded-in-Justice-Reinvestment-Initiative-Treatment-Supervision-grants.aspx'"
      ]
     },
     "execution_count": 133,
     "metadata": {},
     "output_type": "execute_result"
    },
    {
     "data": {
      "text/plain": [
       "'success: content added from https://governor.wv.gov/News/press-releases/2023/Pages/Gov.-Justice-appoints-Brian-Cunningham-as-Director-of-PEIA.aspx'"
      ]
     },
     "execution_count": 133,
     "metadata": {},
     "output_type": "execute_result"
    },
    {
     "data": {
      "text/plain": [
       "'success: content added from https://governor.wv.gov/News/press-releases/2023/Pages/Applications-for-14th-Judicial-Circuit-Court-vacancy-now-available.aspx'"
      ]
     },
     "execution_count": 133,
     "metadata": {},
     "output_type": "execute_result"
    },
    {
     "data": {
      "text/plain": [
       "'success: content added from https://governor.wv.gov/News/press-releases/2023/Pages/Applications-for-13th-Judicial-Circuit-Court-vacancy-now-available.aspx'"
      ]
     },
     "execution_count": 133,
     "metadata": {},
     "output_type": "execute_result"
    },
    {
     "data": {
      "text/plain": [
       "'success: content added from https://governor.wv.gov/News/press-releases/2023/Pages/Gov.-Justice-says-West-Virginia-shatters-all-time-financial-records-with-close-of-fiscal-year.aspx'"
      ]
     },
     "execution_count": 133,
     "metadata": {},
     "output_type": "execute_result"
    },
    {
     "data": {
      "text/plain": [
       "'success: content added from https://governor.wv.gov/News/press-releases/2023/Pages/Gov.-Justice-thanks-Dr.-Jeff-Coben-for-his-service;-announces-progress-on-transition-to-three-departments.aspx'"
      ]
     },
     "execution_count": 133,
     "metadata": {},
     "output_type": "execute_result"
    },
    {
     "data": {
      "text/plain": [
       "'success: content added from https://governor.wv.gov/News/press-releases/2023/Pages/Gov.-Justice-declares-holiday-for-state-employees-on-Monday,-July-3,-2023.aspx'"
      ]
     },
     "execution_count": 133,
     "metadata": {},
     "output_type": "execute_result"
    },
    {
     "data": {
      "text/plain": [
       "'success: content added from https://governor.wv.gov/News/press-releases/2023/Pages/Statement-from-The-Office-of-Governor-Jim-Justice.aspx'"
      ]
     },
     "execution_count": 133,
     "metadata": {},
     "output_type": "execute_result"
    },
    {
     "data": {
      "text/plain": [
       "'success: content added from https://governor.wv.gov/News/press-releases/2023/Pages/Gov.-Justice-orders-flags-to-half-staff-in-Wyoming-County-on-Friday-for-the-late-Warren-Randolph-McGraw.aspx'"
      ]
     },
     "execution_count": 133,
     "metadata": {},
     "output_type": "execute_result"
    },
    {
     "data": {
      "text/plain": [
       "'success: content added from https://governor.wv.gov/News/press-releases/2023/Pages/Gov.-Justice,-WVDNR-report-increase-in-number-of-stocked-trout-in-2023.aspx'"
      ]
     },
     "execution_count": 133,
     "metadata": {},
     "output_type": "execute_result"
    },
    {
     "data": {
      "text/plain": [
       "'success: content added from https://governor.wv.gov/News/press-releases/2023/Pages/Governor-and-First-Lady-Justice-celebrate-West-Virginia%E2%80%99s-160th-Birthday;-winner-of-WV-Birthday-Punch-Contest-announced.aspx'"
      ]
     },
     "execution_count": 133,
     "metadata": {},
     "output_type": "execute_result"
    },
    {
     "data": {
      "text/plain": [
       "'success: content added from https://governor.wv.gov/News/press-releases/2023/Pages/Gov.-Justice-delivers-$50-million-check-to-WVU-Cancer-Institute-to-kickstart-pursuit-of-official-National-Cancer-Institute.aspx'"
      ]
     },
     "execution_count": 133,
     "metadata": {},
     "output_type": "execute_result"
    },
    {
     "data": {
      "text/plain": [
       "'success: content added from https://governor.wv.gov/News/press-releases/2023/Pages/Gov.-Justice-announces-State%E2%80%99s-160th-birthday-celebration-scheduled-for-noon-on-Tuesday,-June-20,-at-Culture-Center.aspx'"
      ]
     },
     "execution_count": 133,
     "metadata": {},
     "output_type": "execute_result"
    },
    {
     "data": {
      "text/plain": [
       "'success: content added from https://governor.wv.gov/News/press-releases/2023/Pages/Gov.-Justice-joins-Niterra-North-America-Inc.-to-kick-off-major-plant-expansion-in-Sissonville.aspx'"
      ]
     },
     "execution_count": 133,
     "metadata": {},
     "output_type": "execute_result"
    },
    {
     "data": {
      "text/plain": [
       "'success: content added from https://governor.wv.gov/News/press-releases/2023/Pages/Gov.-Justice-holds-groundbreaking-ceremony-for-section-of-Corridor-H-in-Tucker-County.aspx'"
      ]
     },
     "execution_count": 133,
     "metadata": {},
     "output_type": "execute_result"
    },
    {
     "data": {
      "text/plain": [
       "'success: content added from https://governor.wv.gov/News/press-releases/2023/Pages/Gov.-Justice-announces-West-Virginia-Child-Advocacy-Center-Grant-funds-worth-$2.1-million-for-over-20-projects.aspx'"
      ]
     },
     "execution_count": 133,
     "metadata": {},
     "output_type": "execute_result"
    },
    {
     "data": {
      "text/plain": [
       "'success: content added from https://governor.wv.gov/News/press-releases/2023/Pages/Gov.-Justice-announces-West-Virginia-Child-Advocacy-Center-Grant-funds-worth-$2.1-million-for-22-projects.aspx'"
      ]
     },
     "execution_count": 133,
     "metadata": {},
     "output_type": "execute_result"
    },
    {
     "data": {
      "text/plain": [
       "'success: content added from https://governor.wv.gov/News/press-releases/2023/Pages/Gov.-Justice-announces-broadband-advancements,-partnerships,-and-expansion-opportunities-throughout-West-Virginia.aspx'"
      ]
     },
     "execution_count": 133,
     "metadata": {},
     "output_type": "execute_result"
    },
    {
     "data": {
      "text/plain": [
       "'success: content added from https://governor.wv.gov/News/press-releases/2023/Pages/Gov.-Justice-announces-over-$18-million-in-grant-funding-for-broadband-improvement-projects-across-West-Virginia.aspx'"
      ]
     },
     "execution_count": 133,
     "metadata": {},
     "output_type": "execute_result"
    },
    {
     "data": {
      "text/plain": [
       "'success: content added from https://governor.wv.gov/News/press-releases/2023/Pages/Gov.-Justice-announces-Clean-Vision-Corporation-to-invest-$50-million,-build-facility-in-Kanawha-County.aspx'"
      ]
     },
     "execution_count": 133,
     "metadata": {},
     "output_type": "execute_result"
    },
    {
     "data": {
      "text/plain": [
       "'success: content added from https://governor.wv.gov/News/press-releases/2023/Pages/Gov.-Justice-appoints-Diana-Winzenreid-to-4th-District-seat-in-House-of-Delegates.aspx'"
      ]
     },
     "execution_count": 133,
     "metadata": {},
     "output_type": "execute_result"
    },
    {
     "data": {
      "text/plain": [
       "'success: content added from https://governor.wv.gov/News/press-releases/2023/Pages/Gov.-Justice-issues-statement-on-death-of-Trooper-Cory-Maynard.aspx'"
      ]
     },
     "execution_count": 133,
     "metadata": {},
     "output_type": "execute_result"
    },
    {
     "data": {
      "text/plain": [
       "'success: content added from https://governor.wv.gov/News/press-releases/2023/Pages/Gov.-Justice-orders-flags-to-half-staff-in-Cabell-County-on-Saturday-for-the-late-William-Wayne-Bailey.aspx'"
      ]
     },
     "execution_count": 133,
     "metadata": {},
     "output_type": "execute_result"
    },
    {
     "data": {
      "text/plain": [
       "'success: content added from https://governor.wv.gov/News/press-releases/2023/Pages/Gov.-Justice-dedicates-Birdeye-Bend-with-a-bang.aspx'"
      ]
     },
     "execution_count": 133,
     "metadata": {},
     "output_type": "execute_result"
    },
    {
     "data": {
      "text/plain": [
       "'success: content added from https://governor.wv.gov/News/press-releases/2023/Pages/Gov.-Justice-says-West-Virginia-breaks-all-time-state-record-for-revenue-collections-through-May.aspx'"
      ]
     },
     "execution_count": 133,
     "metadata": {},
     "output_type": "execute_result"
    },
    {
     "data": {
      "text/plain": [
       "'success: content added from https://governor.wv.gov/News/press-releases/2023/Pages/First-Lady-Justice-announces-West-Virginia-Birthday-Punch-Contest.aspx'"
      ]
     },
     "execution_count": 133,
     "metadata": {},
     "output_type": "execute_result"
    },
    {
     "data": {
      "text/plain": [
       "'success: content added from https://governor.wv.gov/News/press-releases/2023/Pages/Gov.-Justice-announces-17-new-projects-approved-by-the-Water-Development-Authority.aspx'"
      ]
     },
     "execution_count": 133,
     "metadata": {},
     "output_type": "execute_result"
    },
    {
     "data": {
      "text/plain": [
       "'success: content added from https://governor.wv.gov/News/press-releases/2023/Pages/Gov.-Justice-announces-Free-Fishing-Weekend-to-take-place-June-10%E2%80%9311.aspx'"
      ]
     },
     "execution_count": 133,
     "metadata": {},
     "output_type": "execute_result"
    },
    {
     "data": {
      "text/plain": [
       "'success: content added from https://governor.wv.gov/News/press-releases/2023/Pages/-Gov.-Justice-authorizes-West-Virginia-National-Guard-deployment-to-Southern-Border.aspx'"
      ]
     },
     "execution_count": 133,
     "metadata": {},
     "output_type": "execute_result"
    },
    {
     "data": {
      "text/plain": [
       "'success: content added from https://governor.wv.gov/News/press-releases/2023/Pages/Gov.-Justice-orders-all-U.S.-and-State-flags-to-be-flown-at-half-staff-on-the-morning-of-Monday,-May-29,-in-honor-of-Memori.aspx'"
      ]
     },
     "execution_count": 133,
     "metadata": {},
     "output_type": "execute_result"
    },
    {
     "data": {
      "text/plain": [
       "'success: content added from https://governor.wv.gov/News/press-releases/2023/Pages/Gov.-Justice-announces-expansion-of-the-West-Virginia-Waterfall-Trail.aspx'"
      ]
     },
     "execution_count": 133,
     "metadata": {},
     "output_type": "execute_result"
    },
    {
     "data": {
      "text/plain": [
       "'success: content added from https://governor.wv.gov/News/press-releases/2023/Pages/Gov.-Justice-appoints-three-secretaries-to-new-departments-of-Health,-Human-Services,-and-Health-Facilities.aspx'"
      ]
     },
     "execution_count": 133,
     "metadata": {},
     "output_type": "execute_result"
    },
    {
     "data": {
      "text/plain": [
       "'success: content added from https://governor.wv.gov/News/press-releases/2023/Pages/First-Lady-Cathy-Justice-announces-winners-of-Golden-Horseshoe-Knighting-Bench-Design-Contest.aspx'"
      ]
     },
     "execution_count": 133,
     "metadata": {},
     "output_type": "execute_result"
    },
    {
     "data": {
      "text/plain": [
       "'success: content added from https://governor.wv.gov/News/press-releases/2023/Pages/First-Lady-Cathy-Justice-hosts-Take-a-Paws-to-Read-at-the-Governor%E2%80%99s-Mansion.aspx'"
      ]
     },
     "execution_count": 133,
     "metadata": {},
     "output_type": "execute_result"
    },
    {
     "data": {
      "text/plain": [
       "'success: content added from https://governor.wv.gov/News/press-releases/2023/Pages/Gov.-Justice-announces-Get-Paid-to-Pay-it-Forward-campaign,-paying-drivers-to-transport-individuals-in-Jobs-&-Hope-WV-.aspx'"
      ]
     },
     "execution_count": 133,
     "metadata": {},
     "output_type": "execute_result"
    },
    {
     "data": {
      "text/plain": [
       "'success: content added from https://governor.wv.gov/News/press-releases/2023/Pages/Gov.-Justice-declares-Juneteenth-2023-as-State-holiday-in-West-Virginia,-reminds-public-about-annual-Juneteenth-Celebration.aspx'"
      ]
     },
     "execution_count": 133,
     "metadata": {},
     "output_type": "execute_result"
    },
    {
     "data": {
      "text/plain": [
       "'success: content added from https://governor.wv.gov/News/press-releases/2023/Pages/Gov.-Justice-announces-New-River-Gorge-named-Best-Family-Trip-in-the-U.S.-by-Outside-Magazine.aspx'"
      ]
     },
     "execution_count": 133,
     "metadata": {},
     "output_type": "execute_result"
    },
    {
     "data": {
      "text/plain": [
       "'success: content added from https://governor.wv.gov/News/press-releases/2023/Pages/Gov.-Justice-appoints-Robert-E.-Ryan-to-the-21st-Judicial-Circuit.aspx'"
      ]
     },
     "execution_count": 133,
     "metadata": {},
     "output_type": "execute_result"
    },
    {
     "data": {
      "text/plain": [
       "'success: content added from https://governor.wv.gov/News/press-releases/2023/Pages/Gov.-Justice-appoints-Paul-W.-Gwaltney,-Jr.-to-the-17th-Judicial-Circuit.aspx'"
      ]
     },
     "execution_count": 133,
     "metadata": {},
     "output_type": "execute_result"
    },
    {
     "data": {
      "text/plain": [
       "'success: content added from https://governor.wv.gov/News/press-releases/2023/Pages/Gov-Justice-honors-first-responders-at-Medal-of-Valor-awards.aspx'"
      ]
     },
     "execution_count": 133,
     "metadata": {},
     "output_type": "execute_result"
    },
    {
     "data": {
      "text/plain": [
       "'success: content added from https://governor.wv.gov/News/press-releases/2023/Pages/Gov.-Justice,-WVDEP-Sec.-Ward-announce-nearly-$26-million-AML-Economic-Revitalization-(AMLER)-Program-grants.aspx'"
      ]
     },
     "execution_count": 133,
     "metadata": {},
     "output_type": "execute_result"
    },
    {
     "data": {
      "text/plain": [
       "'success: content added from https://governor.wv.gov/News/press-releases/2023/Pages/Gov.-Justice-announces-all-time-revenue-and-personal-income-tax-collection-records.aspx'"
      ]
     },
     "execution_count": 133,
     "metadata": {},
     "output_type": "execute_result"
    },
    {
     "data": {
      "text/plain": [
       "'success: content added from https://governor.wv.gov/News/press-releases/2023/Pages/Gov.-Justice-appoints-Anitra-Hamilton-to-81st-District-seat-in-House-of-Delegates.aspx'"
      ]
     },
     "execution_count": 133,
     "metadata": {},
     "output_type": "execute_result"
    },
    {
     "data": {
      "text/plain": [
       "\"success: content added from https://governor.wv.gov/News/press-releases/2023/Pages/Gov.-Justice-announces-new-West-Virginia-driver's-license-design-featuring-New-River-Gorge-Bridge.aspx\""
      ]
     },
     "execution_count": 133,
     "metadata": {},
     "output_type": "execute_result"
    },
    {
     "data": {
      "text/plain": [
       "'success: content added from https://governor.wv.gov/News/press-releases/2023/Pages/Gov-Justice-announces-statewide-burn-ban-ends-today.aspx'"
      ]
     },
     "execution_count": 133,
     "metadata": {},
     "output_type": "execute_result"
    },
    {
     "data": {
      "text/plain": [
       "'success: content added from https://governor.wv.gov/News/press-releases/2023/Pages/First-Lady-Justice-introduces-newest-Friends-With-Paws-therapy-dog-during-assembly-at-Oakvale-Elementary-School.aspx'"
      ]
     },
     "execution_count": 133,
     "metadata": {},
     "output_type": "execute_result"
    },
    {
     "data": {
      "text/plain": [
       "'success: content added from https://governor.wv.gov/News/press-releases/2023/Pages/Gov.-Justice-announces-release-of-$12.7-million-in-Community-Development-Block-Grant-Mitigation-Funds.aspx'"
      ]
     },
     "execution_count": 133,
     "metadata": {},
     "output_type": "execute_result"
    },
    {
     "data": {
      "text/plain": [
       "'success: content added from https://governor.wv.gov/News/press-releases/2023/Pages/Gov.-Justice-orders-flags-at-half-staff-on-Wednesday-in-honor-of-State-Forester-Cody-Mullens.aspx'"
      ]
     },
     "execution_count": 133,
     "metadata": {},
     "output_type": "execute_result"
    },
    {
     "data": {
      "text/plain": [
       "'success: content added from https://governor.wv.gov/News/press-releases/2023/Pages/Gov.-Justice-recognizes-Tax-Day-2023-.aspx'"
      ]
     },
     "execution_count": 133,
     "metadata": {},
     "output_type": "execute_result"
    },
    {
     "data": {
      "text/plain": [
       "'success: content added from https://governor.wv.gov/News/press-releases/2023/Pages/Gov.-Justice-urges-safe-driving-in-Work-Zones-as-state-begins-massive-2023-highway-construction-season.aspx'"
      ]
     },
     "execution_count": 133,
     "metadata": {},
     "output_type": "execute_result"
    },
    {
     "data": {
      "text/plain": [
       "'success: content added from https://governor.wv.gov/News/press-releases/2023/Pages/Gov.-Justice-issues-proclamation-banning-outdoor-burning.aspx'"
      ]
     },
     "execution_count": 133,
     "metadata": {},
     "output_type": "execute_result"
    },
    {
     "data": {
      "text/plain": [
       "'success: content added from https://governor.wv.gov/News/press-releases/2023/Pages/First-Lady-Cathy-Justice-announces-the-launch-of-her-%E2%80%9CAll-in-for-Kids%E2%80%9D-CIS-Spring-Road-Trip.aspx'"
      ]
     },
     "execution_count": 133,
     "metadata": {},
     "output_type": "execute_result"
    },
    {
     "data": {
      "text/plain": [
       "'success: content added from https://governor.wv.gov/News/press-releases/2023/Pages/Governor-and-First-Lady-issue-statement-on-death-of-forester-in-Fayette-County.aspx'"
      ]
     },
     "execution_count": 133,
     "metadata": {},
     "output_type": "execute_result"
    },
    {
     "data": {
      "text/plain": [
       "'success: content added from https://governor.wv.gov/News/press-releases/2023/Pages/Gov.-Justice-celebrates-Hunger-Free-West-Virginia-Cooler,-commemorates-initial-funding-for-the-emergency-food-bank-bucket.aspx'"
      ]
     },
     "execution_count": 133,
     "metadata": {},
     "output_type": "execute_result"
    },
    {
     "data": {
      "text/plain": [
       "'success: content added from https://governor.wv.gov/News/press-releases/2023/Pages/Gov.-Justice-announces-state-employees-will-no-longer-be-charged-for-parking-at-state-facilities.aspx'"
      ]
     },
     "execution_count": 133,
     "metadata": {},
     "output_type": "execute_result"
    },
    {
     "data": {
      "text/plain": [
       "'success: content added from https://governor.wv.gov/News/press-releases/2023/Pages/West-Virginia-exports-increase-by-over-20-percent,-state-delivers-second-largest-amount-of-coal-in-United-State.aspx'"
      ]
     },
     "execution_count": 133,
     "metadata": {},
     "output_type": "execute_result"
    },
    {
     "data": {
      "text/plain": [
       "'success: content added from https://governor.wv.gov/News/press-releases/2023/Pages/Gov.-Justice-announces-UNDBIO-secures-lease-in-Monongalia-County;-to-invest-100-million-in-first-three-years.aspx'"
      ]
     },
     "execution_count": 133,
     "metadata": {},
     "output_type": "execute_result"
    },
    {
     "data": {
      "text/plain": [
       "'success: content added from https://governor.wv.gov/News/press-releases/2023/Pages/Gov.-Justice-orders-flags-at-half-staff-on-Saturday-in-honor-of-Upshur-County-Sheriff-Virgil-Douglas-Miller.aspx'"
      ]
     },
     "execution_count": 133,
     "metadata": {},
     "output_type": "execute_result"
    },
    {
     "data": {
      "text/plain": [
       "'success: content added from https://governor.wv.gov/News/press-releases/2023/Pages/Gov.-Justice-announces-$20-million-expansion-of-nursing-education-programs.aspx'"
      ]
     },
     "execution_count": 133,
     "metadata": {},
     "output_type": "execute_result"
    },
    {
     "data": {
      "text/plain": [
       "'success: content added from https://governor.wv.gov/News/press-releases/2023/Pages/Gov.-Justice-appoints-Leigh-M.-Lefler-as-judge-for-Thirteenth-Family-Court-Circuit-serving-Raleigh,-Summers,-and-Wyoming.aspx'"
      ]
     },
     "execution_count": 133,
     "metadata": {},
     "output_type": "execute_result"
    },
    {
     "data": {
      "text/plain": [
       "'success: content added from https://governor.wv.gov/News/press-releases/2023/Pages/Gov.-Justice-announces-completion-of-Kanawha-State-Forest-Stream-Restoration-Project.aspx'"
      ]
     },
     "execution_count": 133,
     "metadata": {},
     "output_type": "execute_result"
    },
    {
     "data": {
      "text/plain": [
       "'success: content added from https://governor.wv.gov/News/press-releases/2023/Pages/Gov.-Justice-celebrates-groundbreaking-of-new-cabins,-campground,-other-improvements-at-Coopers-Rock-State-Forest.aspx'"
      ]
     },
     "execution_count": 133,
     "metadata": {},
     "output_type": "execute_result"
    },
    {
     "data": {
      "text/plain": [
       "'success: content added from https://governor.wv.gov/News/press-releases/2023/Pages/Gov.-Justice-announces-$159-million-March-revenue-surplus.aspx'"
      ]
     },
     "execution_count": 133,
     "metadata": {},
     "output_type": "execute_result"
    },
    {
     "data": {
      "text/plain": [
       "'success: content added from https://governor.wv.gov/News/press-releases/2023/Pages/State-of-Preparedness-remains-in-effect-ahead-of-hazardous-weather-threat.aspx'"
      ]
     },
     "execution_count": 133,
     "metadata": {},
     "output_type": "execute_result"
    },
    {
     "data": {
      "text/plain": [
       "'success: content added from https://governor.wv.gov/News/press-releases/2023/Pages/Gov.-Justice-signs-expansion-of-BUILD-WV-Act-into-law.aspx'"
      ]
     },
     "execution_count": 133,
     "metadata": {},
     "output_type": "execute_result"
    },
    {
     "data": {
      "text/plain": [
       "'success: content added from https://governor.wv.gov/News/press-releases/2023/Pages/Gov.-Justice-issues-statement-on-HB-2820.aspx'"
      ]
     },
     "execution_count": 133,
     "metadata": {},
     "output_type": "execute_result"
    },
    {
     "data": {
      "text/plain": [
       "'success: content added from https://governor.wv.gov/News/press-releases/2023/Pages/Gov.-Justice-announces-retirement-of-Robert-Roswall;-appoints-Denise-Worley-as-Commissioner-of-Bureau-of-Senior-Services.aspx'"
      ]
     },
     "execution_count": 133,
     "metadata": {},
     "output_type": "execute_result"
    },
    {
     "data": {
      "text/plain": [
       "'success: content added from https://governor.wv.gov/News/press-releases/2023/Pages/Applications-for-21st-Circuit-Court-vacancies-now-available.aspx'"
      ]
     },
     "execution_count": 133,
     "metadata": {},
     "output_type": "execute_result"
    },
    {
     "data": {
      "text/plain": [
       "'success: content added from https://governor.wv.gov/News/press-releases/2023/Pages/Applications-for-17th-Circuit-Court-vacancies-now-available.aspx'"
      ]
     },
     "execution_count": 133,
     "metadata": {},
     "output_type": "execute_result"
    },
    {
     "data": {
      "text/plain": [
       "'success: content added from https://governor.wv.gov/News/press-releases/2023/Pages/Gov.-Justice-announces-historic-airline-partnership.aspx'"
      ]
     },
     "execution_count": 133,
     "metadata": {},
     "output_type": "execute_result"
    },
    {
     "data": {
      "text/plain": [
       "'success: content added from https://governor.wv.gov/News/press-releases/2023/Pages/First-Lady-Justice-announces-plans-for-annual-Bunny-Brunch-and-Easter-Celebration.aspx'"
      ]
     },
     "execution_count": 133,
     "metadata": {},
     "output_type": "execute_result"
    },
    {
     "data": {
      "text/plain": [
       "'success: content added from https://governor.wv.gov/News/press-releases/2023/Pages/Gov.-Justice-kicks-off-Gold-Rush-with-ceremonial-stocking-at-Babcock-State-Park.aspx'"
      ]
     },
     "execution_count": 133,
     "metadata": {},
     "output_type": "execute_result"
    },
    {
     "data": {
      "text/plain": [
       "'success: content added from https://governor.wv.gov/News/press-releases/2023/Pages/Gov.-Justice-awards-$9.7-million-in-Transportation-Alternatives-and-Recreational-Trails-Program-grants-across-West-Virginia.aspx'"
      ]
     },
     "execution_count": 133,
     "metadata": {},
     "output_type": "execute_result"
    },
    {
     "data": {
      "text/plain": [
       "'success: content added from https://governor.wv.gov/News/press-releases/2023/Pages/Gov.-Justice-declares-State-of-Preparedness-for-all-55-counties-ahead-of-potentially-hazardous-weather.aspx'"
      ]
     },
     "execution_count": 133,
     "metadata": {},
     "output_type": "execute_result"
    },
    {
     "data": {
      "text/plain": [
       "'success: content added from https://governor.wv.gov/News/press-releases/2023/Pages/Gov.-Justice-announces-return-of-Gold-Rush-stockings.aspx'"
      ]
     },
     "execution_count": 133,
     "metadata": {},
     "output_type": "execute_result"
    },
    {
     "data": {
      "text/plain": [
       "'success: content added from https://governor.wv.gov/News/press-releases/2023/Pages/Gov.-Justice-signs-four-coal-related-bills-at-John-Amos-Power-Plant-in-Putnam-County.aspx'"
      ]
     },
     "execution_count": 133,
     "metadata": {},
     "output_type": "execute_result"
    },
    {
     "data": {
      "text/plain": [
       "'success: content added from https://governor.wv.gov/News/press-releases/2023/Pages/Gov.-Justice-orders-flags-to-half-staff-in-Mercer-County-on-Saturday-for-the-late-William-P.-Stafford.aspx'"
      ]
     },
     "execution_count": 133,
     "metadata": {},
     "output_type": "execute_result"
    },
    {
     "data": {
      "text/plain": [
       "'success: content added from https://governor.wv.gov/News/press-releases/2023/Pages/Governor-and-First-Lady-Justice-issue-statement-on-death-of-coal-miner-in-Barbour-County.aspx'"
      ]
     },
     "execution_count": 133,
     "metadata": {},
     "output_type": "execute_result"
    },
    {
     "data": {
      "text/plain": [
       "'success: content added from https://governor.wv.gov/News/press-releases/2023/Pages/Gov.-Justice-signs-bills-to-enhance-school-safety,-improve-literacy-and-numeracy-rates,-provide-free-college-credit-classes.aspx'"
      ]
     },
     "execution_count": 133,
     "metadata": {},
     "output_type": "execute_result"
    },
    {
     "data": {
      "text/plain": [
       "'success: content added from https://governor.wv.gov/News/press-releases/2023/Pages/Gov.-Justice-announces-resignation-of-Jan-Cahill;-appoints-Interim-Superintendent-of-the-West-Virginia-State-Police.aspx'"
      ]
     },
     "execution_count": 133,
     "metadata": {},
     "output_type": "execute_result"
    },
    {
     "data": {
      "text/plain": [
       "'success: content added from https://governor.wv.gov/News/press-releases/2023/Pages/Gov.-Justice-signs-into-law-4th-state-employee-pay-raise,-budget-bill,-and-other-legislation.aspx'"
      ]
     },
     "execution_count": 133,
     "metadata": {},
     "output_type": "execute_result"
    },
    {
     "data": {
      "text/plain": [
       "'success: content added from https://governor.wv.gov/News/press-releases/2023/Pages/Gov.-Justice-announces-State-Tax-Department-has-released-revised-tax-withholding-tables.aspx'"
      ]
     },
     "execution_count": 133,
     "metadata": {},
     "output_type": "execute_result"
    },
    {
     "data": {
      "text/plain": [
       "'success: content added from https://governor.wv.gov/News/press-releases/2023/Pages/Gov.-Justice-presents-Rhododendron-Award-to-Hurricane-Philanthropist-Brandi-Jones.aspx'"
      ]
     },
     "execution_count": 133,
     "metadata": {},
     "output_type": "execute_result"
    },
    {
     "data": {
      "text/plain": [
       "'success: content added from https://governor.wv.gov/News/press-releases/2023/Pages/Gov.-Justice-Announces-Approval-of-his-petition-for-the-Designation-of-Boone,-Clay,-Hampshire,-Monroe,-and-Preston-Counties.aspx'"
      ]
     },
     "execution_count": 133,
     "metadata": {},
     "output_type": "execute_result"
    },
    {
     "data": {
      "text/plain": [
       "'success: content added from https://governor.wv.gov/News/press-releases/2023/Pages/Gov.-Justice-announces-2022-WV-Big-Buck-Photo-Contest-winners.aspx'"
      ]
     },
     "execution_count": 133,
     "metadata": {},
     "output_type": "execute_result"
    },
    {
     "data": {
      "text/plain": [
       "'success: content added from https://governor.wv.gov/News/press-releases/2023/Pages/Gov.-Justice-announces-Delta-Cooling-Towers-to-expand-operations-in-Barbour-County;-invest-$6.7-million.aspx'"
      ]
     },
     "execution_count": 133,
     "metadata": {},
     "output_type": "execute_result"
    },
    {
     "data": {
      "text/plain": [
       "'success: content added from https://governor.wv.gov/News/press-releases/2023/Pages/Gov.-Justice-signs-largest-tax-cut-in-West-Virginia-history-into-law.aspx'"
      ]
     },
     "execution_count": 133,
     "metadata": {},
     "output_type": "execute_result"
    },
    {
     "data": {
      "text/plain": [
       "'success: content added from https://governor.wv.gov/News/press-releases/2023/Pages/Gov.-Justice-announces-Our-Next-Energy-(ONE)-to-build-battery-storage-system-manufacturing-facility-in-Jackson-County.aspx'"
      ]
     },
     "execution_count": 133,
     "metadata": {},
     "output_type": "execute_result"
    },
    {
     "data": {
      "text/plain": [
       "'success: content added from https://governor.wv.gov/News/press-releases/2023/Pages/History-two-years-in-the-making-largest-tax-cut-in-West-Virginia-history-nears-completion.aspx'"
      ]
     },
     "execution_count": 133,
     "metadata": {},
     "output_type": "execute_result"
    },
    {
     "data": {
      "text/plain": [
       "'success: content added from https://governor.wv.gov/News/press-releases/2023/Pages/State-of-Emergency-remains-in-effect-ahead-of-today%E2%80%99s-hazardous-weather-threat.aspx'"
      ]
     },
     "execution_count": 133,
     "metadata": {},
     "output_type": "execute_result"
    },
    {
     "data": {
      "text/plain": [
       "'success: content added from https://governor.wv.gov/News/press-releases/2023/Pages/West-Virginia-surpasses-one-billion-surplus-for-fiscal-year-2023.aspx'"
      ]
     },
     "execution_count": 133,
     "metadata": {},
     "output_type": "execute_result"
    },
    {
     "data": {
      "text/plain": [
       "'success: content added from https://governor.wv.gov/News/press-releases/2023/Pages/Gov.-Justice-signs-architectural-and-engineering-contract-for-new-veterans-nursing-facility-in-Beckley.aspx'"
      ]
     },
     "execution_count": 133,
     "metadata": {},
     "output_type": "execute_result"
    },
    {
     "data": {
      "text/plain": [
       "'success: content added from https://governor.wv.gov/News/press-releases/2023/Pages/Gov.-Justice-signs-bill-to-strengthen-2nd-Amendment-protections-in-West-Virginia.aspx'"
      ]
     },
     "execution_count": 133,
     "metadata": {},
     "output_type": "execute_result"
    },
    {
     "data": {
      "text/plain": [
       "'success: content added from https://governor.wv.gov/News/press-releases/2023/Pages/Governor-and-First-Lady-Justice-issue-statement-on-death-of-coal-miner-in-Mingo-County.aspx'"
      ]
     },
     "execution_count": 133,
     "metadata": {},
     "output_type": "execute_result"
    },
    {
     "data": {
      "text/plain": [
       "'success: content added from https://governor.wv.gov/News/press-releases/2023/Pages/Gov.-Justice-announces-agreement-on-largest-tax-cut-in-state-history.aspx'"
      ]
     },
     "execution_count": 133,
     "metadata": {},
     "output_type": "execute_result"
    },
    {
     "data": {
      "text/plain": [
       "'success: content added from https://governor.wv.gov/News/press-releases/2023/Pages/Gov.-Justice-signs-HB-2882-at-former-Weirton-Steel-Mill,-new-home-of-Form-Energy%E2%80%99s-West-Virginia-Manufacturing-Plant.aspx'"
      ]
     },
     "execution_count": 133,
     "metadata": {},
     "output_type": "execute_result"
    },
    {
     "data": {
      "text/plain": [
       "'success: content added from https://governor.wv.gov/News/press-releases/2023/Pages/First-Lady-Justice-introduces-newest-Friends-With-Paws-therapy-dog-during-assembly-at-Bridgeview-Elementary-School.aspx'"
      ]
     },
     "execution_count": 133,
     "metadata": {},
     "output_type": "execute_result"
    },
    {
     "data": {
      "text/plain": [
       "'success: content added from https://governor.wv.gov/News/press-releases/2023/Pages/Gov.-Justice-delivers-$200k-state-match-for-new-wastewater-treatment-facility-in-Mingo-County.aspx'"
      ]
     },
     "execution_count": 133,
     "metadata": {},
     "output_type": "execute_result"
    },
    {
     "data": {
      "text/plain": [
       "'success: content added from https://governor.wv.gov/News/press-releases/2023/Pages/Gov.-Justice-declares-State-of-Emergency-for-all-55-counties-due-to-severe-thunderstorms.aspx'"
      ]
     },
     "execution_count": 133,
     "metadata": {},
     "output_type": "execute_result"
    },
    {
     "data": {
      "text/plain": [
       "'success: content added from https://governor.wv.gov/News/press-releases/2023/Pages/West-Virginia-to-be-first-state-in-country-to-offer-certain-users-a-fully-digital-clearinghouse-for-vehicle-titles.aspx'"
      ]
     },
     "execution_count": 133,
     "metadata": {},
     "output_type": "execute_result"
    },
    {
     "data": {
      "text/plain": [
       "'success: content added from https://governor.wv.gov/News/press-releases/2023/Pages/Applications-for-Thirteenth-Family-Court-Circuit-vacancy-now-being-accepted.aspx'"
      ]
     },
     "execution_count": 133,
     "metadata": {},
     "output_type": "execute_result"
    },
    {
     "data": {
      "text/plain": [
       "'success: content added from https://governor.wv.gov/News/press-releases/2023/Pages/First-Lady-Justice-introduces-newest-Friends-With-Paws-therapy-dog-at-Hinton-Area-Elementary-School.aspx'"
      ]
     },
     "execution_count": 133,
     "metadata": {},
     "output_type": "execute_result"
    },
    {
     "data": {
      "text/plain": [
       "\"success: content added from https://governor.wv.gov/News/press-releases/2023/Pages/Mr.-Stephen-Moore-to-join-Gov.-Justice's-Tax-Reform-Roundtable-on-Monday.aspx\""
      ]
     },
     "execution_count": 133,
     "metadata": {},
     "output_type": "execute_result"
    },
    {
     "data": {
      "text/plain": [
       "'success: content added from https://governor.wv.gov/News/press-releases/2023/Pages/Gov.-Justice-orders-flags-to-half-staff-in-Raleigh-County-on-Saturday-for-the-late-Jack-Roop.aspx'"
      ]
     },
     "execution_count": 133,
     "metadata": {},
     "output_type": "execute_result"
    },
    {
     "data": {
      "text/plain": [
       "'success: content added from https://governor.wv.gov/News/press-releases/2023/Pages/Gov.-Justice-to-host-roundtable-with-nationally-renowned-tax-reform-expert-Grover-Norquist.aspx'"
      ]
     },
     "execution_count": 133,
     "metadata": {},
     "output_type": "execute_result"
    },
    {
     "data": {
      "text/plain": [
       "'success: content added from https://governor.wv.gov/News/press-releases/2023/Pages/First-Lady-Justice,-Department-of-Education-invite-students-to-participate-in-Golden-Horseshoe-Knighting-Bench.aspx'"
      ]
     },
     "execution_count": 133,
     "metadata": {},
     "output_type": "execute_result"
    },
    {
     "data": {
      "text/plain": [
       "'success: content added from https://governor.wv.gov/News/press-releases/2023/Pages/Gov.-Justice-announces-winners-of-2023-lifetime-license-giveaway.aspx'"
      ]
     },
     "execution_count": 133,
     "metadata": {},
     "output_type": "execute_result"
    },
    {
     "data": {
      "text/plain": [
       "'success: content added from https://governor.wv.gov/News/press-releases/2023/Pages/Gov.-Justice-says-January-revenue-surplus-continues-to-show-opportunity-for-tax-cuts-is-now.aspx'"
      ]
     },
     "execution_count": 133,
     "metadata": {},
     "output_type": "execute_result"
    },
    {
     "data": {
      "text/plain": [
       "'success: content added from https://governor.wv.gov/News/press-releases/2023/Pages/Gov.-Justice-appoints-Thomas-Hoxie-to-the-19th-Judicial-Circuit.aspx'"
      ]
     },
     "execution_count": 133,
     "metadata": {},
     "output_type": "execute_result"
    },
    {
     "data": {
      "text/plain": [
       "'success: content added from https://governor.wv.gov/News/press-releases/2023/Pages/Gov.-Justice-appoints-Charles-Richard-Wilson-to-the-2nd-Judicial-Circuit.aspx'"
      ]
     },
     "execution_count": 133,
     "metadata": {},
     "output_type": "execute_result"
    },
    {
     "data": {
      "text/plain": [
       "'success: content added from https://governor.wv.gov/News/press-releases/2023/Pages/2023-Almost-Heaven-Governor%E2%80%99s-Art-Exhibition-winners-announced.aspx'"
      ]
     },
     "execution_count": 133,
     "metadata": {},
     "output_type": "execute_result"
    },
    {
     "data": {
      "text/plain": [
       "'success: content added from https://governor.wv.gov/News/press-releases/2023/Pages/Gov.-Justice-announces-appointments-of-McHugh-and-Hubbard-to-Dept.-of-Administration-positions.aspx'"
      ]
     },
     "execution_count": 133,
     "metadata": {},
     "output_type": "execute_result"
    },
    {
     "data": {
      "text/plain": [
       "'success: content added from https://governor.wv.gov/News/press-releases/2023/Pages/Gov.-Justice-celebrates-completion-of-I-70-bridge-project-in-Wheeling.aspx'"
      ]
     },
     "execution_count": 133,
     "metadata": {},
     "output_type": "execute_result"
    },
    {
     "data": {
      "text/plain": [
       "'success: content added from https://governor.wv.gov/News/press-releases/2023/Pages/Gov.-Justice-announces-new-innovative-websites-to-help-distribute-grants-and-infrastructure-funds-in-West-Virginia.aspx'"
      ]
     },
     "execution_count": 133,
     "metadata": {},
     "output_type": "execute_result"
    },
    {
     "data": {
      "text/plain": [
       "'success: content added from https://governor.wv.gov/News/press-releases/2023/Pages/Gov.-Justice-unveils-2023-West-Virginia-Vacation-Guide.aspx'"
      ]
     },
     "execution_count": 133,
     "metadata": {},
     "output_type": "execute_result"
    },
    {
     "data": {
      "text/plain": [
       "'success: content added from https://governor.wv.gov/News/press-releases/2023/Pages/Gov.-Justice-appoints-William-K.-Marshall-as-Commissioner-of-West-Virginia-Division-of-Corrections-and-Rehabilitation.aspx'"
      ]
     },
     "execution_count": 133,
     "metadata": {},
     "output_type": "execute_result"
    },
    {
     "data": {
      "text/plain": [
       "'success: content added from https://governor.wv.gov/News/press-releases/2023/Pages/Gov.-Justice-cheers-House-passage-of-50-personal-income-tax-cut.aspx'"
      ]
     },
     "execution_count": 133,
     "metadata": {},
     "output_type": "execute_result"
    },
    {
     "data": {
      "text/plain": [
       "'success: content added from https://governor.wv.gov/News/press-releases/2023/Pages/Gov.-Justice-tests-positive-for-COVID-19---January-2023.aspx'"
      ]
     },
     "execution_count": 133,
     "metadata": {},
     "output_type": "execute_result"
    },
    {
     "data": {
      "text/plain": [
       "'success: content added from https://governor.wv.gov/News/press-releases/2023/Pages/Gov.-Justice-announces-petition-for-the-designation-of-Boone,-Clay,-Hampshire,-Monroe,-and-Preston-Counties-as-HUBZones.aspx'"
      ]
     },
     "execution_count": 133,
     "metadata": {},
     "output_type": "execute_result"
    },
    {
     "data": {
      "text/plain": [
       "'success: content added from https://governor.wv.gov/News/press-releases/2023/Pages/Gov.-Justice-proposes-huge-personal-income-tax-cut-during-2023-State-of-the-State.aspx'"
      ]
     },
     "execution_count": 133,
     "metadata": {},
     "output_type": "execute_result"
    },
    {
     "data": {
      "text/plain": [
       "'success: content added from https://governor.wv.gov/News/press-releases/2023/Pages/First-Lady-Justice-announces-two-counties-added-to-CIS-program;-three-new-schools-to-receive-Friends-With-Paws-therapy-dogs.aspx'"
      ]
     },
     "execution_count": 133,
     "metadata": {},
     "output_type": "execute_result"
    },
    {
     "data": {
      "text/plain": [
       "'success: content added from https://governor.wv.gov/News/press-releases/2023/Pages/Gov.-Justice-delivers-his-2023-West-Virginia-State-of-the-State-Address.aspx'"
      ]
     },
     "execution_count": 133,
     "metadata": {},
     "output_type": "execute_result"
    },
    {
     "data": {
      "text/plain": [
       "'success: content added from https://governor.wv.gov/News/press-releases/2023/Pages/Gov.-Justice-to-deliver-State-of-the-State-Address-Wednesday-night.aspx'"
      ]
     },
     "execution_count": 133,
     "metadata": {},
     "output_type": "execute_result"
    },
    {
     "data": {
      "text/plain": [
       "'success: content added from https://governor.wv.gov/News/press-releases/2023/Pages/Gov.-Justice-announces-appointment-of-longtime-Marion-County-educator-as-Executive-Director-of-School-Building-Authority.aspx'"
      ]
     },
     "execution_count": 133,
     "metadata": {},
     "output_type": "execute_result"
    },
    {
     "data": {
      "text/plain": [
       "'success: content added from https://governor.wv.gov/News/press-releases/2023/Pages/Gov.-Justice-says-another-month-of-revenue-surplus-means-major-tax-cuts-on-the-way.aspx'"
      ]
     },
     "execution_count": 133,
     "metadata": {},
     "output_type": "execute_result"
    }
   ],
   "source": [
    "for i in combined.link:\n",
    "     get_wv_content(i, combined, header_list) "
   ]
  },
  {
   "cell_type": "code",
   "execution_count": 134,
   "id": "5c2ddd4c",
   "metadata": {},
   "outputs": [
    {
     "data": {
      "text/html": [
       "<div>\n",
       "<style scoped>\n",
       "    .dataframe tbody tr th:only-of-type {\n",
       "        vertical-align: middle;\n",
       "    }\n",
       "\n",
       "    .dataframe tbody tr th {\n",
       "        vertical-align: top;\n",
       "    }\n",
       "\n",
       "    .dataframe thead th {\n",
       "        text-align: right;\n",
       "    }\n",
       "</style>\n",
       "<table border=\"1\" class=\"dataframe\">\n",
       "  <thead>\n",
       "    <tr style=\"text-align: right;\">\n",
       "      <th></th>\n",
       "      <th>title</th>\n",
       "      <th>date</th>\n",
       "      <th>link</th>\n",
       "      <th>content</th>\n",
       "    </tr>\n",
       "  </thead>\n",
       "  <tbody>\n",
       "    <tr>\n",
       "      <th>0</th>\n",
       "      <td>Gov. Justice issues proclamation declaring ext...</td>\n",
       "      <td>12/21/2023</td>\n",
       "      <td>https://governor.wv.gov/News/press-releases/20...</td>\n",
       "      <td>CHARLESTON, WV — Gov. Jim Justice has issued a...</td>\n",
       "    </tr>\n",
       "    <tr>\n",
       "      <th>1</th>\n",
       "      <td>Gov. Justice awards $1 million grant to West V...</td>\n",
       "      <td>12/21/2023</td>\n",
       "      <td>https://governor.wv.gov/News/press-releases/20...</td>\n",
       "      <td>CHARLESTON, WV —Gov. Jim Justice today present...</td>\n",
       "    </tr>\n",
       "    <tr>\n",
       "      <th>2</th>\n",
       "      <td>Gov. Justice announces Water Development Autho...</td>\n",
       "      <td>12/21/2023</td>\n",
       "      <td>https://governor.wv.gov/News/press-releases/20...</td>\n",
       "      <td>CHARLESTON, WV — Gov. Justice announced today ...</td>\n",
       "    </tr>\n",
       "    <tr>\n",
       "      <th>3</th>\n",
       "      <td>Gov. Justice orders flags to be flown at half-...</td>\n",
       "      <td>12/21/2023</td>\n",
       "      <td>https://governor.wv.gov/News/press-releases/20...</td>\n",
       "      <td>CHARLESTON, WV – Gov. Jim Justice has issued a...</td>\n",
       "    </tr>\n",
       "    <tr>\n",
       "      <th>4</th>\n",
       "      <td>Gov. Justice issues proclamation declaring ext...</td>\n",
       "      <td>12/20/2023</td>\n",
       "      <td>https://governor.wv.gov/News/press-releases/20...</td>\n",
       "      <td>CHARLESTON, WV — Gov. Jim Justice has issued a...</td>\n",
       "    </tr>\n",
       "  </tbody>\n",
       "</table>\n",
       "</div>"
      ],
      "text/plain": [
       "                                               title        date  \\\n",
       "0  Gov. Justice issues proclamation declaring ext...  12/21/2023   \n",
       "1  Gov. Justice awards $1 million grant to West V...  12/21/2023   \n",
       "2  Gov. Justice announces Water Development Autho...  12/21/2023   \n",
       "3  Gov. Justice orders flags to be flown at half-...  12/21/2023   \n",
       "4  Gov. Justice issues proclamation declaring ext...  12/20/2023   \n",
       "\n",
       "                                                link  \\\n",
       "0  https://governor.wv.gov/News/press-releases/20...   \n",
       "1  https://governor.wv.gov/News/press-releases/20...   \n",
       "2  https://governor.wv.gov/News/press-releases/20...   \n",
       "3  https://governor.wv.gov/News/press-releases/20...   \n",
       "4  https://governor.wv.gov/News/press-releases/20...   \n",
       "\n",
       "                                             content  \n",
       "0  CHARLESTON, WV — Gov. Jim Justice has issued a...  \n",
       "1  CHARLESTON, WV —Gov. Jim Justice today present...  \n",
       "2  CHARLESTON, WV — Gov. Justice announced today ...  \n",
       "3  CHARLESTON, WV – Gov. Jim Justice has issued a...  \n",
       "4  CHARLESTON, WV — Gov. Jim Justice has issued a...  "
      ]
     },
     "execution_count": 134,
     "metadata": {},
     "output_type": "execute_result"
    }
   ],
   "source": [
    "combined.head()"
   ]
  },
  {
   "cell_type": "markdown",
   "id": "186ba62d",
   "metadata": {},
   "source": [
    "## Validate and Clean"
   ]
  },
  {
   "cell_type": "code",
   "execution_count": 135,
   "id": "06bca64d",
   "metadata": {},
   "outputs": [
    {
     "data": {
      "text/html": [
       "<div>\n",
       "<style scoped>\n",
       "    .dataframe tbody tr th:only-of-type {\n",
       "        vertical-align: middle;\n",
       "    }\n",
       "\n",
       "    .dataframe tbody tr th {\n",
       "        vertical-align: top;\n",
       "    }\n",
       "\n",
       "    .dataframe thead th {\n",
       "        text-align: right;\n",
       "    }\n",
       "</style>\n",
       "<table border=\"1\" class=\"dataframe\">\n",
       "  <thead>\n",
       "    <tr style=\"text-align: right;\">\n",
       "      <th></th>\n",
       "      <th>title</th>\n",
       "      <th>date</th>\n",
       "      <th>link</th>\n",
       "      <th>content</th>\n",
       "    </tr>\n",
       "  </thead>\n",
       "  <tbody>\n",
       "  </tbody>\n",
       "</table>\n",
       "</div>"
      ],
      "text/plain": [
       "Empty DataFrame\n",
       "Columns: [title, date, link, content]\n",
       "Index: []"
      ]
     },
     "execution_count": 135,
     "metadata": {},
     "output_type": "execute_result"
    }
   ],
   "source": [
    "#check that content was pulled accurately\n",
    "combined[combined.content.isna()]"
   ]
  },
  {
   "cell_type": "code",
   "execution_count": 136,
   "id": "dcea6850",
   "metadata": {},
   "outputs": [],
   "source": [
    "# clean date column and subset to 2023 only \n",
    "combined['date_clean'] = pd.to_datetime(combined['date'])\n",
    "\n",
    "combined_2023 = combined[(combined['date_clean'] >= '2023-01-01')\n",
    "                     & (combined['date_clean'] <= '2023-12-31')].copy()\n",
    "\n",
    "combined_2023 = combined_2023.drop(columns=['date']).copy()"
   ]
  },
  {
   "cell_type": "code",
   "execution_count": 137,
   "id": "0f3cb95d",
   "metadata": {},
   "outputs": [
    {
     "data": {
      "text/html": [
       "<div>\n",
       "<style scoped>\n",
       "    .dataframe tbody tr th:only-of-type {\n",
       "        vertical-align: middle;\n",
       "    }\n",
       "\n",
       "    .dataframe tbody tr th {\n",
       "        vertical-align: top;\n",
       "    }\n",
       "\n",
       "    .dataframe thead th {\n",
       "        text-align: right;\n",
       "    }\n",
       "</style>\n",
       "<table border=\"1\" class=\"dataframe\">\n",
       "  <thead>\n",
       "    <tr style=\"text-align: right;\">\n",
       "      <th></th>\n",
       "      <th>title</th>\n",
       "      <th>link</th>\n",
       "      <th>content</th>\n",
       "      <th>date_clean</th>\n",
       "    </tr>\n",
       "  </thead>\n",
       "  <tbody>\n",
       "    <tr>\n",
       "      <th>0</th>\n",
       "      <td>Gov. Justice issues proclamation declaring ext...</td>\n",
       "      <td>https://governor.wv.gov/News/press-releases/20...</td>\n",
       "      <td>CHARLESTON, WV — Gov. Jim Justice has issued a...</td>\n",
       "      <td>2023-12-21</td>\n",
       "    </tr>\n",
       "    <tr>\n",
       "      <th>1</th>\n",
       "      <td>Gov. Justice awards $1 million grant to West V...</td>\n",
       "      <td>https://governor.wv.gov/News/press-releases/20...</td>\n",
       "      <td>CHARLESTON, WV —Gov. Jim Justice today present...</td>\n",
       "      <td>2023-12-21</td>\n",
       "    </tr>\n",
       "    <tr>\n",
       "      <th>2</th>\n",
       "      <td>Gov. Justice announces Water Development Autho...</td>\n",
       "      <td>https://governor.wv.gov/News/press-releases/20...</td>\n",
       "      <td>CHARLESTON, WV — Gov. Justice announced today ...</td>\n",
       "      <td>2023-12-21</td>\n",
       "    </tr>\n",
       "    <tr>\n",
       "      <th>3</th>\n",
       "      <td>Gov. Justice orders flags to be flown at half-...</td>\n",
       "      <td>https://governor.wv.gov/News/press-releases/20...</td>\n",
       "      <td>CHARLESTON, WV – Gov. Jim Justice has issued a...</td>\n",
       "      <td>2023-12-21</td>\n",
       "    </tr>\n",
       "    <tr>\n",
       "      <th>4</th>\n",
       "      <td>Gov. Justice issues proclamation declaring ext...</td>\n",
       "      <td>https://governor.wv.gov/News/press-releases/20...</td>\n",
       "      <td>CHARLESTON, WV — Gov. Jim Justice has issued a...</td>\n",
       "      <td>2023-12-20</td>\n",
       "    </tr>\n",
       "  </tbody>\n",
       "</table>\n",
       "</div>"
      ],
      "text/plain": [
       "                                               title  \\\n",
       "0  Gov. Justice issues proclamation declaring ext...   \n",
       "1  Gov. Justice awards $1 million grant to West V...   \n",
       "2  Gov. Justice announces Water Development Autho...   \n",
       "3  Gov. Justice orders flags to be flown at half-...   \n",
       "4  Gov. Justice issues proclamation declaring ext...   \n",
       "\n",
       "                                                link  \\\n",
       "0  https://governor.wv.gov/News/press-releases/20...   \n",
       "1  https://governor.wv.gov/News/press-releases/20...   \n",
       "2  https://governor.wv.gov/News/press-releases/20...   \n",
       "3  https://governor.wv.gov/News/press-releases/20...   \n",
       "4  https://governor.wv.gov/News/press-releases/20...   \n",
       "\n",
       "                                             content date_clean  \n",
       "0  CHARLESTON, WV — Gov. Jim Justice has issued a... 2023-12-21  \n",
       "1  CHARLESTON, WV —Gov. Jim Justice today present... 2023-12-21  \n",
       "2  CHARLESTON, WV — Gov. Justice announced today ... 2023-12-21  \n",
       "3  CHARLESTON, WV – Gov. Jim Justice has issued a... 2023-12-21  \n",
       "4  CHARLESTON, WV — Gov. Jim Justice has issued a... 2023-12-20  "
      ]
     },
     "execution_count": 137,
     "metadata": {},
     "output_type": "execute_result"
    },
    {
     "name": "stdout",
     "output_type": "stream",
     "text": [
      "<class 'pandas.core.frame.DataFrame'>\n",
      "Int64Index: 243 entries, 0 to 242\n",
      "Data columns (total 4 columns):\n",
      " #   Column      Non-Null Count  Dtype         \n",
      "---  ------      --------------  -----         \n",
      " 0   title       243 non-null    object        \n",
      " 1   link        243 non-null    object        \n",
      " 2   content     243 non-null    object        \n",
      " 3   date_clean  243 non-null    datetime64[ns]\n",
      "dtypes: datetime64[ns](1), object(3)\n",
      "memory usage: 9.5+ KB\n"
     ]
    }
   ],
   "source": [
    "combined_2023.head()\n",
    "combined_2023.info()"
   ]
  },
  {
   "cell_type": "code",
   "execution_count": 138,
   "id": "e894624d",
   "metadata": {},
   "outputs": [
    {
     "name": "stdout",
     "output_type": "stream",
     "text": [
      "pulled 243 documents from west_virginia for 2023\n"
     ]
    }
   ],
   "source": [
    "print(f\"pulled {str(len(combined_2023))} documents from {state} for 2023\")"
   ]
  },
  {
   "cell_type": "markdown",
   "id": "c4b6823c",
   "metadata": {},
   "source": [
    "## Export"
   ]
  },
  {
   "cell_type": "code",
   "execution_count": 139,
   "id": "d675fc44",
   "metadata": {},
   "outputs": [],
   "source": [
    "combined_2023.to_csv(f'{state}_2023.csv', index = False)"
   ]
  },
  {
   "cell_type": "code",
   "execution_count": 140,
   "id": "621c6b9b",
   "metadata": {},
   "outputs": [
    {
     "data": {
      "text/html": [
       "<div>\n",
       "<style scoped>\n",
       "    .dataframe tbody tr th:only-of-type {\n",
       "        vertical-align: middle;\n",
       "    }\n",
       "\n",
       "    .dataframe tbody tr th {\n",
       "        vertical-align: top;\n",
       "    }\n",
       "\n",
       "    .dataframe thead th {\n",
       "        text-align: right;\n",
       "    }\n",
       "</style>\n",
       "<table border=\"1\" class=\"dataframe\">\n",
       "  <thead>\n",
       "    <tr style=\"text-align: right;\">\n",
       "      <th></th>\n",
       "      <th>title</th>\n",
       "      <th>link</th>\n",
       "      <th>content</th>\n",
       "      <th>date_clean</th>\n",
       "    </tr>\n",
       "  </thead>\n",
       "  <tbody>\n",
       "    <tr>\n",
       "      <th>0</th>\n",
       "      <td>Gov. Justice issues proclamation declaring ext...</td>\n",
       "      <td>https://governor.wv.gov/News/press-releases/20...</td>\n",
       "      <td>CHARLESTON, WV — Gov. Jim Justice has issued a...</td>\n",
       "      <td>2023-12-21</td>\n",
       "    </tr>\n",
       "    <tr>\n",
       "      <th>1</th>\n",
       "      <td>Gov. Justice awards $1 million grant to West V...</td>\n",
       "      <td>https://governor.wv.gov/News/press-releases/20...</td>\n",
       "      <td>CHARLESTON, WV —Gov. Jim Justice today present...</td>\n",
       "      <td>2023-12-21</td>\n",
       "    </tr>\n",
       "    <tr>\n",
       "      <th>2</th>\n",
       "      <td>Gov. Justice announces Water Development Autho...</td>\n",
       "      <td>https://governor.wv.gov/News/press-releases/20...</td>\n",
       "      <td>CHARLESTON, WV — Gov. Justice announced today ...</td>\n",
       "      <td>2023-12-21</td>\n",
       "    </tr>\n",
       "    <tr>\n",
       "      <th>3</th>\n",
       "      <td>Gov. Justice orders flags to be flown at half-...</td>\n",
       "      <td>https://governor.wv.gov/News/press-releases/20...</td>\n",
       "      <td>CHARLESTON, WV – Gov. Jim Justice has issued a...</td>\n",
       "      <td>2023-12-21</td>\n",
       "    </tr>\n",
       "    <tr>\n",
       "      <th>4</th>\n",
       "      <td>Gov. Justice issues proclamation declaring ext...</td>\n",
       "      <td>https://governor.wv.gov/News/press-releases/20...</td>\n",
       "      <td>CHARLESTON, WV — Gov. Jim Justice has issued a...</td>\n",
       "      <td>2023-12-20</td>\n",
       "    </tr>\n",
       "  </tbody>\n",
       "</table>\n",
       "</div>"
      ],
      "text/plain": [
       "                                               title  \\\n",
       "0  Gov. Justice issues proclamation declaring ext...   \n",
       "1  Gov. Justice awards $1 million grant to West V...   \n",
       "2  Gov. Justice announces Water Development Autho...   \n",
       "3  Gov. Justice orders flags to be flown at half-...   \n",
       "4  Gov. Justice issues proclamation declaring ext...   \n",
       "\n",
       "                                                link  \\\n",
       "0  https://governor.wv.gov/News/press-releases/20...   \n",
       "1  https://governor.wv.gov/News/press-releases/20...   \n",
       "2  https://governor.wv.gov/News/press-releases/20...   \n",
       "3  https://governor.wv.gov/News/press-releases/20...   \n",
       "4  https://governor.wv.gov/News/press-releases/20...   \n",
       "\n",
       "                                             content  date_clean  \n",
       "0  CHARLESTON, WV — Gov. Jim Justice has issued a...  2023-12-21  \n",
       "1  CHARLESTON, WV —Gov. Jim Justice today present...  2023-12-21  \n",
       "2  CHARLESTON, WV — Gov. Justice announced today ...  2023-12-21  \n",
       "3  CHARLESTON, WV – Gov. Jim Justice has issued a...  2023-12-21  \n",
       "4  CHARLESTON, WV — Gov. Jim Justice has issued a...  2023-12-20  "
      ]
     },
     "execution_count": 140,
     "metadata": {},
     "output_type": "execute_result"
    }
   ],
   "source": [
    "test = pd.read_csv(f'{state}_2023.csv')\n",
    "test.head()"
   ]
  }
 ],
 "metadata": {
  "kernelspec": {
   "display_name": "Python 3 (ipykernel)",
   "language": "python",
   "name": "python3"
  },
  "language_info": {
   "codemirror_mode": {
    "name": "ipython",
    "version": 3
   },
   "file_extension": ".py",
   "mimetype": "text/x-python",
   "name": "python",
   "nbconvert_exporter": "python",
   "pygments_lexer": "ipython3",
   "version": "3.9.12"
  }
 },
 "nbformat": 4,
 "nbformat_minor": 5
}
