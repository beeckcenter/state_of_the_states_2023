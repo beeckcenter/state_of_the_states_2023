{
 "cells": [
  {
   "cell_type": "markdown",
   "id": "f00d02a5",
   "metadata": {},
   "source": [
    "# Ohio Scraping "
   ]
  },
  {
   "cell_type": "code",
   "execution_count": 1,
   "id": "2d2ca3c3",
   "metadata": {},
   "outputs": [
    {
     "name": "stdout",
     "output_type": "stream",
     "text": [
      "Exception reporting mode: Minimal\n"
     ]
    }
   ],
   "source": [
    "# set up \n",
    "import pandas as pd \n",
    "import requests \n",
    "import bs4\n",
    "import numpy as np\n",
    "import time \n",
    "import re\n",
    "from tika import parser\n",
    "from selenium import webdriver\n",
    "from selenium.webdriver.common.by import By\n",
    "from selenium.webdriver.support.ui import WebDriverWait\n",
    "from selenium.webdriver.support import expected_conditions as EC\n",
    "from selenium.webdriver.support.select import Select\n",
    "from selenium.webdriver.common.action_chains import ActionChains\n",
    "from selenium.common.exceptions import StaleElementReferenceException, TimeoutException\n",
    "from io import BytesIO\n",
    "from urllib.request import urlopen\n",
    "\n",
    "from IPython.core.interactiveshell import InteractiveShell \n",
    "InteractiveShell.ast_node_interactivity = \"all\"\n",
    "\n",
    "%xmode Minimal"
   ]
  },
  {
   "cell_type": "code",
   "execution_count": 2,
   "id": "4b8c25f3",
   "metadata": {},
   "outputs": [],
   "source": [
    "# # set headers\n",
    "# header_list = {'User-Agent': REDACTED,\n",
    "#               'Accept-Language': 'en-US,en;q=0.9'}"
   ]
  },
  {
   "cell_type": "code",
   "execution_count": 82,
   "id": "0b85368d",
   "metadata": {},
   "outputs": [],
   "source": [
    "# state - UPDATE EACH TIME\n",
    "state = 'ohio'"
   ]
  },
  {
   "cell_type": "code",
   "execution_count": null,
   "id": "150c1170",
   "metadata": {},
   "outputs": [],
   "source": [
    "# review of robots.txt - no restrictions"
   ]
  },
  {
   "cell_type": "code",
   "execution_count": null,
   "id": "92379a17",
   "metadata": {},
   "outputs": [],
   "source": [
    "# test = pd.read_csv(f'{state}_2023.csv')\n",
    "# test.head()"
   ]
  },
  {
   "cell_type": "markdown",
   "id": "40a0e028",
   "metadata": {},
   "source": [
    "## Scrape links\n",
    "`Selenium`"
   ]
  },
  {
   "cell_type": "code",
   "execution_count": 63,
   "id": "58e8f6a2",
   "metadata": {},
   "outputs": [],
   "source": [
    "# get all links \n",
    "driver = webdriver.Chrome()\n",
    "driver.get('https://governor.ohio.gov/media/news-and-media')\n",
    "\n",
    "time.sleep(25)\n",
    "#wait = WebDriverWait(driver, 15)\n",
    "\n",
    "results = driver.find_elements(By.TAG_NAME, 'a')\n",
    "\n",
    "links = [i.get_attribute('href') for i in results]\n",
    "links = [i for i in links if \"https://governor.ohio.gov/wps/portal/gov/governor/media/news-and-media/\" in i]\n",
    "\n",
    "driver.close()"
   ]
  },
  {
   "cell_type": "code",
   "execution_count": 64,
   "id": "7024be6c",
   "metadata": {},
   "outputs": [
    {
     "data": {
      "text/plain": [
       "['https://governor.ohio.gov/wps/portal/gov/governor/media/news-and-media/!ut/p/z1/04_Sj9CPykssy0xPLMnMz0vMAfIjo8zi_SzdHQ0NvQ383C0sDAwCnf2MTS3c3VwNAg30w_Eo8LV0NNePIka_AQ7gaEBIvxchBUAfGBX5Ovum60cVJJZk6GbmpeXrR-SllhfrJual6OampmQmAl0RhccciD_ACvA4tCA3NKLKJy3Y01FREQCN641y/#',\n",
       " 'https://governor.ohio.gov/wps/portal/gov/governor/media/news-and-media/governor-dewine-lt-governor-husted-celebrate-historic-investments-in-new-operating-budget',\n",
       " 'https://governor.ohio.gov/wps/portal/gov/governor/media/news-and-media/governor-dewine-lt-governor-husted-announce-career-tech-construction-grant-awards-new-equipment-funding-opportunity',\n",
       " 'https://governor.ohio.gov/wps/portal/gov/governor/media/news-and-media/governor-dewine-lt-governor-husted-joby-aviation-announce-historic-manufacturing-site-in-ohio',\n",
       " 'https://governor.ohio.gov/wps/portal/gov/governor/media/news-and-media/governor-dewine-launches-readohio-initiative',\n",
       " 'https://governor.ohio.gov/wps/portal/gov/governor/media/news-and-media/governor-dewine-lt-governor-husted-celebrate-opening-day-of-ohio-state-fair',\n",
       " 'https://governor.ohio.gov/wps/portal/gov/governor/media/news-and-media/governor-dewine-lt-governor-husted-celebrate-historic-investments-in-new-operating-budget',\n",
       " 'https://governor.ohio.gov/wps/portal/gov/governor/media/news-and-media/governor-dewine-lt-governor-husted-announce-career-tech-construction-grant-awards-new-equipment-funding-opportunity',\n",
       " 'https://governor.ohio.gov/wps/portal/gov/governor/media/news-and-media/governor-dewine-lt-governor-husted-joby-aviation-announce-historic-manufacturing-site-in-ohio',\n",
       " 'https://governor.ohio.gov/wps/portal/gov/governor/media/news-and-media/governor-dewine-launches-readohio-initiative',\n",
       " 'https://governor.ohio.gov/wps/portal/gov/governor/media/news-and-media/governor-dewine-lt-governor-husted-celebrate-opening-day-of-ohio-state-fair',\n",
       " 'https://governor.ohio.gov/wps/portal/gov/governor/media/news-and-media/governor-dewine-lt-governor-husted-celebrate-historic-investments-in-new-operating-budget',\n",
       " 'https://governor.ohio.gov/wps/portal/gov/governor/media/news-and-media/dewine-husted-announce-effective-date-for-ohios-updated-building-codes',\n",
       " 'https://governor.ohio.gov/wps/portal/gov/governor/media/news-and-media/governor-lt-governor-recognize-business-education-partners-for-connecting-students-to-professional-skills-and-real-world-expereinces',\n",
       " 'https://governor.ohio.gov/wps/portal/gov/governor/media/news-and-media/new-state-projects-expected-to-create-1171-jobs-269-million-in-investments',\n",
       " 'https://governor.ohio.gov/wps/portal/gov/governor/media/news-and-media/governor-dewine-lt-governor-husted-announce-new-schaeffler-ev-manufacturing-facility-in-tuscarawas-county',\n",
       " 'https://governor.ohio.gov/wps/portal/gov/governor/media/news-and-media/governor-dewine-applauds-collegiate-prop-bet-changes-issued-by-ohio-casino-control-commission',\n",
       " 'https://governor.ohio.gov/wps/portal/gov/governor/media/news-and-media/governor-dewine-department-of-aging-launch-ohio-nursing-home-quality-navigator',\n",
       " 'https://governor.ohio.gov/wps/portal/gov/governor/media/news-and-media/governor-dewine-joins-odnr-to-plant-first-seeds-at-new-buckeye-state-tree-nursery',\n",
       " 'https://governor.ohio.gov/wps/portal/gov/governor/media/news-and-media/governor-dewine-issues-reprieves-2-16',\n",
       " 'https://governor.ohio.gov/wps/portal/gov/governor/media/news-and-media/governor-dewine-announces-nearly-5-million-to-enhance-support-for-human-trafficking-survivors',\n",
       " 'https://governor.ohio.gov/wps/portal/gov/governor/media/news-and-media/governor-dewine-odot-announce-new-technology-to-warn-drivers-of-dangerous-traffic-congestion',\n",
       " 'https://governor.ohio.gov/wps/portal/gov/governor/media/news-and-media/governor-dewine-announces-106-million-to-support-local-transit-projects',\n",
       " 'https://governor.ohio.gov/wps/portal/gov/governor/media/news-and-media/governor-dewine-lt-governor-husted-release-statement-following-court-decision-on-social-media-parental-notification-act',\n",
       " 'https://governor.ohio.gov/wps/portal/gov/governor/media/news-and-media/governor-dewine-announces-availability-of-funding-for-sexual-assault-kit-testing',\n",
       " 'https://governor.ohio.gov/wps/portal/gov/governor/media/news-and-media/first-lady-dewine-celebrates-dolly-partons-imagination-library-of-ohio-milestones-reaching-record-number-of-children',\n",
       " 'https://governor.ohio.gov/wps/portal/gov/governor/media/news-and-media/governor-dewine-announces-support-for-local-major-bridge-projects',\n",
       " 'https://governor.ohio.gov/wps/portal/gov/governor/media/news-and-media/governor-dewine-announces-85-million-in-federal-funding-for-new-appalachia-community-innovation-centers-program',\n",
       " 'https://governor.ohio.gov/wps/portal/gov/governor/media/news-and-media/governor-dewine-lt-governor-husted-announce-institutions-approved-for-ohio-teacher-bootcamp-program',\n",
       " 'https://governor.ohio.gov/wps/portal/gov/governor/media/news-and-media/governor-dewine-announces-additional-loans-for-east-palestine-businesses',\n",
       " 'https://governor.ohio.gov/wps/portal/gov/governor/media/news-and-media/governor-dewine-issues-statement-on-death-of-stanley-aronoff',\n",
       " 'https://governor.ohio.gov/wps/portal/gov/governor/media/news-and-media/ohio-school-bus-safety-working-group-issues-seventeen-recommendations',\n",
       " 'https://governor.ohio.gov/wps/portal/gov/governor/media/news-and-media/governor-dewine-signs-bill-into-law-1-30',\n",
       " 'https://governor.ohio.gov/wps/portal/gov/governor/media/news-and-media/reporter-resources-for-one-year-anniversary-of-east-palestine',\n",
       " 'https://governor.ohio.gov/wps/portal/gov/governor/media/news-and-media/governor-dewine-announces-project-to-destroy-toxic-firefighting-foam',\n",
       " 'https://governor.ohio.gov/wps/portal/gov/governor/media/news-and-media/ohio-mixed-use-development-projects-expected-to-spur-2-billion-in-community-investments',\n",
       " 'https://governor.ohio.gov/wps/portal/gov/governor/media/news-and-media/new-projects-expected-to-create-295-jobs-271-million-in-investments',\n",
       " 'https://governor.ohio.gov/wps/portal/gov/governor/media/news-and-media/governor-dewine-releases-plan-to-reduce-suicides-statewide',\n",
       " 'https://governor.ohio.gov/wps/portal/gov/governor/media/news-and-media/governor-dewine-issues-statement-on-death-of-former-ohio-department-of-public-safety-director-and-ohio-inspector-general-thomas-p-charles',\n",
       " 'https://governor.ohio.gov/wps/portal/gov/governor/media/news-and-media/governor-dewine-announces-4-million0in-grants-to-increase-driver-training-options-for+teens',\n",
       " 'https://governor.ohio.gov/wps/portal/gov/governor/media/news-and-media/ohio-state-state-of-ohio-launch-20-million-soar-study-to-identify-risk-and-resilency-factor-to-improve-behavioral-health-outcomes',\n",
       " 'https://governor.ohio.gov/wps/portal/gov/governor/media/news-and-media/governor-dewine-declares-2024-as-the-year-of-ohio-state-parks',\n",
       " 'https://governor.ohio.gov/wps/portal/gov/governor/media/news-and-media/governor-dewine-announces-14-million-to-67-counties-to-support-ohioans-with-developmental-disabilties',\n",
       " 'https://governor.ohio.gov/wps/portal/gov/governor/media/news-and-media/governor-dewine-calls-for-quick-action-on-intoxicating-hemp',\n",
       " 'https://governor.ohio.gov/wps/portal/gov/governor/media/news-and-media/governor-dewine-announces-funding-for-law-enforcement-body-worn-camera-programs',\n",
       " 'https://governor.ohio.gov/wps/portal/gov/governor/media/news-and-media/governor-dewine-signs-executive-order-2024-02d',\n",
       " 'https://governor.ohio.gov/wps/portal/gov/governor/media/news-and-media/governor-dewine-announces-availability-of-150-million-to-improve-access-to-housing-in-ohio',\n",
       " 'https://governor.ohio.gov/wps/portal/gov/governor/media/news-and-media/governor-dewine-statement-on-house-bill-68',\n",
       " 'https://governor.ohio.gov/wps/portal/gov/governor/media/news-and-media/governor-dewine-lt-governor-husted-release-statements-following-court-decision-that-temporarily-blocks-social-media-parental-notification-act',\n",
       " 'https://governor.ohio.gov/wps/portal/gov/governor/media/news-and-media/governor-dewine-lt-governor-husted-announce-support-for-citywide-broadband-expansion-in-cleveland',\n",
       " 'https://governor.ohio.gov/wps/portal/gov/governor/media/news-and-media/governor-dewine-announces-nomination-of-adam-heffron-to-lead-the-ohio-expo-center-and-state-fair',\n",
       " 'https://governor.ohio.gov/wps/portal/gov/governor/media/news-and-media/governor-dewine-signs-executive-order-2024-01d',\n",
       " 'https://governor.ohio.gov/wps/portal/gov/governor/media/news-and-media/governor-dewine-calls-special-election-for-ohios-6th-congressional-district',\n",
       " 'https://governor.ohio.gov/wps/portal/gov/governor/media/news-and-media/governor-dewine-vetoes-house-bill-68',\n",
       " 'https://governor.ohio.gov/wps/portal/gov/governor/media/news-and-media/governor-dewine-signs-bill-into-law-12-28',\n",
       " 'https://governor.ohio.gov/wps/portal/gov/governor/media/news-and-media/governor-dewine-issues-statement-on-death-of-former-us-senator-herb-kohl',\n",
       " 'https://governor.ohio.gov/wps/portal/gov/governor/media/news-and-media/governor-dewine-announces-financial-support-for-east-palestine-businesses',\n",
       " 'https://governor.ohio.gov/wps/portal/gov/governor/media/news-and-media/governor-dewine-announces-state-support-of-46-hisotric-rehabilitation-projects',\n",
       " 'https://governor.ohio.gov/wps/portal/gov/governor/media/news-and-media/ohio-governors-expedited-pardon-project-surpasses-100-pardons-for-reformed-citizens',\n",
       " 'https://governor.ohio.gov/wps/portal/gov/governor/media/news-and-media/governor-dewine-announces-new-grant-program-to-reduce-road-salt-runoff-water-contamination',\n",
       " 'https://governor.ohio.gov/wps/portal/gov/governor/media/news-and-media/governor-dewine-orders-flags-lowered-december-19-2023',\n",
       " 'https://governor.ohio.gov/wps/portal/gov/governor/media/news-and-media/governor-dewine-oders-flags-lowered-in-preble-county-december-18',\n",
       " 'https://governor.ohio.gov/wps/portal/gov/governor/media/news-and-media/governor-dewine-announces-guidelines-for-750-million-all-ohio-future-fund',\n",
       " 'https://governor.ohio.gov/wps/portal/gov/governor/media/news-and-media/governor-dewine-lt-governor-husted-announce-super-rapids-grant-recipients',\n",
       " 'https://governor.ohio.gov/wps/portal/gov/governor/media/news-and-media/governor-dewine-signe-sb-34',\n",
       " 'https://governor.ohio.gov/wps/portal/gov/governor/media/news-and-media/governor-dewine-announces-84-million-in-grants-to-protect-ohio-families-from-toxic-lead',\n",
       " 'https://governor.ohio.gov/wps/portal/gov/governor/media/news-and-media/governor-dewine-orders--flags-lowered-in-honor-of-the-life-and-service-us-air-force-senior-airman-brian-kody-johnson',\n",
       " 'https://governor.ohio.gov/wps/portal/gov/governor/media/news-and-media/ohio-expositions-commission-approves-lease-addendum-for-columburs-crew-practice-fields',\n",
       " 'https://governor.ohio.gov/wps/portal/gov/governor/media/news-and-media/governor-dewine-announces-details-for-new-150-million-welcome-home-ohio-program',\n",
       " 'https://governor.ohio.gov/wps/portal/gov/governor/media/news-and-media/new-projects-expected-to-create-1600-jobs-more-than-2-5-billion-in-investments',\n",
       " 'https://governor.ohio.gov/wps/portal/gov/governor/media/news-and-media/governor-dewine-announces-expansion-of-h2ohio',\n",
       " 'https://governor.ohio.gov/wps/portal/gov/governor/media/news-and-media/governor-dewine-lt-governor-husted-announce-worldplay-locating-corporate-headquaters-in-cincinnati',\n",
       " 'https://governor.ohio.gov/wps/portal/gov/governor/media/news-and-media/ohio-earns-aaa-ratings-from-all-three-major-credit-bureaus',\n",
       " 'https://governor.ohio.gov/wps/portal/gov/governor/media/news-and-media/ohio-first-state-in-activate-nevi-chargers',\n",
       " 'https://governor.ohio.gov/wps/portal/gov/governor/media/news-and-media/governor-dewine-lt-governor-husted-announce-saturday-as-columbus-crew-day',\n",
       " 'https://governor.ohio.gov/wps/portal/gov/governor/media/news-and-media/governor-dewine-announces-new-h2ohio-wetland-projects',\n",
       " 'https://governor.ohio.gov/wps/portal/gov/governor/media/news-and-media/governor-dewine-orders-flags-lowered-on-pearl-harbor-remembrance-day',\n",
       " 'https://governor.ohio.gov/wps/portal/gov/governor/media/news-and-media/governor-dewines-ohio-start-program-receives-national-certification',\n",
       " 'https://governor.ohio.gov/wps/portal/gov/governor/media/news-and-media/governor-dewine-announces-availability-of-funding-to-support-local-violent-crime-reduction-initiatves',\n",
       " 'https://governor.ohio.gov/wps/portal/gov/governor/media/news-and-media/governor-dewine-announces-73-million-in-funding-support-for-traffic-safety-projects',\n",
       " 'https://governor.ohio.gov/wps/portal/gov/governor/media/news-and-media/governor-dewine-announces-availability-on175-million-for-brownfield-remediation',\n",
       " 'https://governor.ohio.gov/wps/portal/gov/governor/media/news-and-media/governor-dewine-announces-official-launch-of-the-governors-merit-scholarship-program',\n",
       " 'https://governor.ohio.gov/wps/portal/gov/governor/media/news-and-media/governor-dewine-announces-16-7-million-for-h2ohio-water-infrastructure-projects',\n",
       " 'https://governor.ohio.gov/wps/portal/gov/governor/media/news-and-media/governor-dewine-announces-ohio-receives-aaa-credit-upgrade-from-moodys',\n",
       " 'https://governor.ohio.gov/wps/portal/gov/governor/media/news-and-media/governor-dewine-nominates-cornyn-to-be-director-of-the-ohio-department-of-mental-health-and-addiction-services',\n",
       " 'https://governor.ohio.gov/wps/portal/gov/governor/media/news-and-media/governor-dewine-statement-on-death-of-justice-sandra-day-oconnor',\n",
       " 'https://governor.ohio.gov/wps/portal/gov/governor/media/news-and-media/governor-dewine-signs-executive-order-2023-12d',\n",
       " 'https://governor.ohio.gov/wps/portal/gov/governor/media/news-and-media/state-secures-111-million-settlement-with-dupont-for-environmental-restoration-along-ohio-river',\n",
       " 'https://governor.ohio.gov/wps/portal/gov/governor/media/news-and-media/new-ohio-homebuyer-plus-savings-program-to-launch-in-january',\n",
       " 'https://governor.ohio.gov/wps/portal/gov/governor/media/news-and-media/governor-dewine-and-governor-whitmer-place-wager-on-the-game-2023',\n",
       " 'https://governor.ohio.gov/wps/portal/gov/governor/media/news-and-media/governor-dewine-orders-flags-lowered-in-honor-of-former-first-lady-rosalynn-carter',\n",
       " 'https://governor.ohio.gov/wps/portal/gov/governor/media/news-and-media/governor-dewine-announces-additional-funding-to-support-child-care-centers',\n",
       " 'https://governor.ohio.gov/wps/portal/gov/governor/media/news-and-media/ohio-to-lead-semiconductor-supply-chain-consortium-proposal',\n",
       " 'https://governor.ohio.gov/wps/portal/gov/governor/media/news-and-media/governor-dewine-announces-funding-support-for-village-of-east-palestine',\n",
       " 'https://governor.ohio.gov/wps/portal/gov/governor/media/news-and-media/governor-dewine-orders-flags-lowered-in-honor-of-charles-chuck-calvert',\n",
       " 'https://governor.ohio.gov/wps/portal/gov/governor/media/news-and-media/governor-dewine-orders-flags-lowered-in-honor-of-ronald-mottl',\n",
       " 'https://governor.ohio.gov/wps/portal/gov/governor/media/news-and-media/governor-dewine-orders-flags-lowered-in-honor-of-those-killed-in+tuscarawas-valley-local-school-district-bus-crash',\n",
       " 'https://governor.ohio.gov/wps/portal/gov/governor/media/news-and-media/governor-dewine-lt-governor-husted-announce-teacher-bootcamp-program-application-period',\n",
       " 'https://governor.ohio.gov/wps/portal/gov/governor/media/news-and-media/governor-dewine-announces-ohio-juvenile-justice-working-group',\n",
       " 'https://governor.ohio.gov/wps/portal/gov/governor/media/news-and-media/governor-dewine-announces-cabinet-changes',\n",
       " 'https://governor.ohio.gov/wps/portal/gov/governor/media/news-and-media/governor-dewine-launches-healthy-aging-program-empoering-older-to-maintain-health-and-independence',\n",
       " 'https://governor.ohio.gov/wps/portal/gov/governor/media/news-and-media/governor-dewine-launches-second-round-of-appalachian-community-grant-program',\n",
       " 'https://governor.ohio.gov/wps/portal/gov/governor/media/news-and-media/governor-dewine-lt-governor-husted-announce-career-tech-construction-grant-awards-new-equipment-funding-opportunity',\n",
       " 'https://governor.ohio.gov/wps/portal/gov/governor/media/news-and-media/governor-dewine-orders-flags-lowered-in-lake-county-in-remembrance-of-lance-corporal-austin-schwenk',\n",
       " 'https://governor.ohio.gov/wps/portal/gov/governor/media/news-and-media/governor-dewine-announces-new-program-to-support-energy-efficiency-in-vulnerable-ohio-communities',\n",
       " 'https://governor.ohio.gov/wps/portal/gov/governor/media/news-and-media/governor-dewine-announces-support-for-arts-organizations-in-ohio',\n",
       " 'https://governor.ohio.gov/wps/portal/gov/governor/media/news-and-media/governor-dewine-announces-additional-150-million-to-demolish-dilapidated-buildings-pave-way-for-economic-growth',\n",
       " 'https://governor.ohio.gov/wps/portal/gov/governor/media/news-and-media/governor-dewine-lt-governor-husted-announce-new-projects-expected-to-create-more-than-2200-jobs-482-million-in-payroll',\n",
       " 'https://governor.ohio.gov/wps/portal/gov/governor/media/news-and-media/governor-signs-executive-order-awarding-funds-to-help-families-in-need-and+encourage-workforce-development',\n",
       " 'https://governor.ohio.gov/wps/portal/gov/governor/media/news-and-media/governor-dewine-announces-grants-to-support-economic-development-in-appalachia',\n",
       " 'https://governor.ohio.gov/wps/portal/gov/governor/media/news-and-media/governor-dewine-orders-flags-lowered-in-remembrance-of-the-lewiston-maine-shooting-victims',\n",
       " 'https://governor.ohio.gov/wps/portal/gov/governor/media/news-and-media/governor-names-interim-director-of-the-department-of-education-and-workforce',\n",
       " 'https://governor.ohio.gov/wps/portal/gov/governor/media/news-and-media/new-soybean-processing-plant-to-bring-more-than-100-new-jobs-to-ohio',\n",
       " 'https://governor.ohio.gov/wps/portal/gov/governor/media/news-and-media/governor-dewine-announces-expanded-program-to-provide-lifesaving-overdose-reversal-supplies-and-test-strips-to-more-college-campuses',\n",
       " 'https://governor.ohio.gov/wps/portal/gov/governor/media/news-and-media/ohio-launces-new-skills-based-job-search-feature',\n",
       " 'https://governor.ohio.gov/wps/portal/gov/governor/media/news-and-media/governor-dewine-announces-1-8-million-grant-to-reduce-housing-barriers-for-human-trafficking-survivors',\n",
       " 'https://governor.ohio.gov/wps/portal/gov/governor/media/news-and-media/governor-dewine-issues-reprieves-10-13-2023',\n",
       " 'https://governor.ohio.gov/wps/portal/gov/governor/media/news-and-media/governor-dewine-nominates-mike-duffey-to-lead-the-department-of-higher-education',\n",
       " 'https://governor.ohio.gov/wps/portal/gov/governor/media/news-and-media/governor-announces-initiative-to-better-support-ohio-children-with-special-needs',\n",
       " 'https://governor.ohio.gov/wps/portal/gov/governor/media/news-and-media/governor-dewine-signs-bills-into-law-10-16-2023',\n",
       " 'https://governor.ohio.gov/wps/portal/gov/governor/media/news-and-media/governor-dewine-announces-higher-education-chancellor-randy-gardner-to-retire',\n",
       " 'https://governor.ohio.gov/wps/portal/gov/governor/media/news-and-media/governor-dewine-announces-100m-in-federal-funding-to-communities-to-fight-opiod-addiction-prevent-opiod-deaths',\n",
       " 'https://governor.ohio.gov/wps/portal/gov/governor/media/news-and-media/governor-dewine-announces-availability-of-safety-and-security-funding-for-religious-institutions-charter-schools-preschools-and-nonprofits',\n",
       " 'https://governor.ohio.gov/wps/portal/gov/governor/media/news-and-media/governor-dewine-appoints-welling-as-ohio-state-historic-preservation-officer',\n",
       " 'https://governor.ohio.gov/wps/portal/gov/governor/media/news-and-media/governor-dewine-announces-day-of-prayer-for-israel',\n",
       " 'https://governor.ohio.gov/wps/portal/gov/governor/media/news-and-media/governor-dewine-issues-statement-on-thehamas-bombing-into-israel',\n",
       " 'https://governor.ohio.gov/wps/portal/gov/governor/media/news-and-media/governor-dewine-announces-10-million-in-support-for-community-development-improvement-projects',\n",
       " 'https://governor.ohio.gov/wps/portal/gov/governor/media/news-and-media/governor-dewine-talks-with-father-tom-hagan-about-the-current-violence-in-haiti',\n",
       " 'https://governor.ohio.gov/wps/portal/gov/governor/media/news-and-media/new-distracted-driving-law-leads-to-significant-decrease-in-traffic-crashes',\n",
       " 'https://governor.ohio.gov/wps/portal/gov/governor/media/news-and-media/governor-dewine-orders-flags-lowered-in-remembrance-of-senator-dianne-feinstein',\n",
       " 'https://governor.ohio.gov/wps/portal/gov/governor/media/news-and-media/governor-dewine-announces-enhancements-to-safer-ohio-school-tip-line',\n",
       " 'https://governor.ohio.gov/wps/portal/gov/governor/media/news-and-media/statement-by-governor-dewine-on-dr-pierre-agostini-of-the-ohio-state-university-named-as-a-nobel-prize-winner',\n",
       " 'https://governor.ohio.gov/wps/portal/gov/governor/media/news-and-media/governor-dewine-announces-new-program-to-increase-teen-driver-training-options',\n",
       " 'https://governor.ohio.gov/wps/portal/gov/governor/media/news-and-media/governor-dewine-announces-program-to-enhance-support-for-human-trafficking-surviviors',\n",
       " 'https://governor.ohio.gov/wps/portal/gov/governor/media/news-and-media/governor-dewine-lt-governor-husted-announce-new-porjects-expected-to-create-more-than-300-jobs-27-million-in-payroll',\n",
       " 'https://governor.ohio.gov/wps/portal/gov/governor/media/news-and-media/governor-dewine-lt-governor-husted-announce-significant-word-reduction-in-ohio-administrative-code-through-updated-building-codes',\n",
       " 'https://governor.ohio.gov/wps/portal/gov/governor/media/news-and-media/governor-dewine-announces-partnership-to-provide-overdose-reversal-drug-at-ohio-rest-areas',\n",
       " 'https://governor.ohio.gov/wps/portal/gov/governor/media/news-and-media/governor-dewine-announces-midwest-microelectronics-consortium-selected-as-microelectronics-innovation-hub',\n",
       " 'https://governor.ohio.gov/wps/portal/gov/governor/media/news-and-media/new-central-ohio-crime-gun-intelligence-center-opens-in-columbus',\n",
       " 'https://governor.ohio.gov/wps/portal/gov/governor/media/news-and-media/governor-dewine-applauds-unesco-world-heritage-designation-for-ohios-hopewell-ceremonial-earthworks',\n",
       " 'https://governor.ohio.gov/wps/portal/gov/governor/media/news-and-media/governor-dewine-issues-reprieve-september-18',\n",
       " 'https://governor.ohio.gov/wps/portal/gov/governor/media/news-and-media/governor-dewine-lt-governor-husted-joby-aviation-announce-historic-manufacturing-site-in-ohio',\n",
       " 'https://governor.ohio.gov/wps/portal/gov/governor/media/news-and-media/governor-and-first-lady-dewine-welcome-luke-bryan-to-ohio-to-support-feeding-families-and-children-who-face-hunger',\n",
       " 'https://governor.ohio.gov/wps/portal/gov/governor/media/news-and-media/governor-dewine-announces-millions-for-neighborhood-revitalization-and-critical-infrastructure',\n",
       " 'https://governor.ohio.gov/wps/portal/gov/governor/media/news-and-media/governor-dewine-announces-statewide-h2ohio-expansion-plans',\n",
       " 'https://governor.ohio.gov/wps/portal/gov/governor/media/news-and-media/governor-dewine-announces-resources-available-for-school-athletic-coaches-to-better-support-athletes',\n",
       " 'https://governor.ohio.gov/wps/portal/gov/governor/media/news-and-media/governor-dewine-announces-federal-grant-awards-to-support-ohioans-in-recovery',\n",
       " 'https://governor.ohio.gov/wps/portal/gov/governor/media/news-and-media/governor-dewine-issues-statement-on-death-of-charles-zody',\n",
       " 'https://governor.ohio.gov/wps/portal/gov/governor/media/news-and-media/governor-dewine-announces-new-partnership-to-provide-free-broadband-job-training',\n",
       " 'https://governor.ohio.gov/wps/portal/gov/governor/media/news-and-media/governor-dewine-announces-funding-opportunity-for-law-enforcement-body-worn-cameras',\n",
       " 'https://governor.ohio.gov/wps/portal/gov/governor/media/news-and-media/governor-dewine-lt-governor-husted-announce-super-rapids-application-period',\n",
       " 'https://governor.ohio.gov/wps/portal/gov/governor/media/news-and-media/governor-dewine-announces-100-million-to-help-eliminate-dangerous-railroad-crossings',\n",
       " 'https://governor.ohio.gov/wps/portal/gov/governor/media/news-and-media/governor-dewine-marks-third-annual-overdose-awareness-day-on-august-31',\n",
       " 'https://governor.ohio.gov/wps/portal/gov/governor/media/news-and-media/governor-dewine-announces-members-of-ohio-school-bus-safety-working-group',\n",
       " 'https://governor.ohio.gov/wps/portal/gov/governor/media/news-and-media/ohio-launches-venture-capital-programs-for-tech-based-companies',\n",
       " 'https://governor.ohio.gov/wps/portal/gov/governor/media/news-and-media/governor-dewine-lt-governor-husted-announce-new-projects-expected-to-create-more-than-900-jobs-58-million-in-payroll',\n",
       " 'https://governor.ohio.gov/wps/portal/gov/governor/media/news-and-media/governor-dewine-announces-90-million-investment-to-strengthen-local-behavioral-health-crisis-repsonse-services',\n",
       " 'https://governor.ohio.gov/wps/portal/gov/governor/media/news-and-media/statement-on-death-of-clay-mathile',\n",
       " 'https://governor.ohio.gov/wps/portal/gov/governor/media/news-and-media/governor-dewine-announces-second-cohert-of-broadband-ohio-community-accelerator',\n",
       " 'https://governor.ohio.gov/wps/portal/gov/governor/media/news-and-media/governor-dewine-names-oneohio-executive-director-department-of-children-and-youth-director-nomineee',\n",
       " 'https://governor.ohio.gov/wps/portal/gov/governor/media/news-and-media/governor-dewine-issues-statement-on-death-of-scott-nein',\n",
       " 'https://governor.ohio.gov/wps/portal/gov/governor/media/news-and-media/governor-dewine-announces-more-ohio-children-will-have-acess-to-high-quality-preschool-education',\n",
       " 'https://governor.ohio.gov/wps/portal/gov/governor/media/news-and-media/governor-dewine-lt-governor-husted-announce-state-has-the-most-filled-jobs-in-ohio-history',\n",
       " 'https://governor.ohio.gov/wps/portal/gov/governor/media/news-and-media/governor-dewine-announces-state-support-for-cleveland-violence-reduction-initiative',\n",
       " 'https://governor.ohio.gov/wps/portal/gov/governor/media/news-and-media/governor-dewine-announces-grant-awards-to-quality-after-school-and-summer-program-providers',\n",
       " 'https://governor.ohio.gov/wps/portal/gov/governor/media/news-and-media/governor-dewine-announces-new-teacher-apprenticeship-program',\n",
       " 'https://governor.ohio.gov/wps/portal/gov/governor/media/news-and-media/governor-dewine-statement-on-death-of-former-state-representative-chuck-calvert',\n",
       " 'https://governor.ohio.gov/wps/portal/gov/governor/media/news-and-media/governor-dewine-launches-readohio-initiative',\n",
       " 'https://governor.ohio.gov/wps/portal/gov/governor/media/news-and-media/governor-dewine-lt-governor-husted-mark-one-year-anniversary-of-federal-chips-act',\n",
       " 'https://governor.ohio.gov/wps/portal/gov/governor/media/news-and-media/governor-dewine-announces-6.2-million-for-fayette-county-road-improvements',\n",
       " 'https://governor.ohio.gov/wps/portal/gov/governor/media/news-and-media/governor-dewine-announces-key-staff',\n",
       " 'https://governor.ohio.gov/wps/portal/gov/governor/media/news-and-media/governor-dewine-nominates-director-of-department-of-children-and-youth',\n",
       " 'https://governor.ohio.gov/wps/portal/gov/governor/media/news-and-media/governor-dewine-announces-safety-improvement-projects-coming-to-ohio-roads',\n",
       " 'https://governor.ohio.gov/wps/portal/gov/governor/media/news-and-media/east-palestine-update-8-3-23',\n",
       " 'https://governor.ohio.gov/wps/portal/gov/governor/media/news-and-media/governor-dewine-announces-retention-incentives-for-thousands-of-ohio-first-responders',\n",
       " 'https://governor.ohio.gov/wps/portal/gov/governor/media/news-and-media/governor-dewine-announces-3.5-million-for-transportation-improvement-districts-to-boost-ohios-economy',\n",
       " 'https://governor.ohio.gov/wps/portal/gov/governor/media/news-and-media/governor-dewine-announces-results-of-statewide-river-water-quality-study',\n",
       " 'https://governor.ohio.gov/wps/portal/gov/governor/media/news-and-media/governor-dewine-lt-governor-husted-announce-new-projects-expected-to-create-more-than-700-jobs-85-million-in-payroll',\n",
       " 'https://governor.ohio.gov/wps/portal/gov/governor/media/news-and-media/governor-dewine-announces-26m-investment-in-tutoring-to-boost-student-achievement',\n",
       " 'https://governor.ohio.gov/wps/portal/gov/governor/media/news-and-media/governor-dewine-signs-senate-bill-43',\n",
       " 'https://governor.ohio.gov/wps/portal/gov/governor/media/news-and-media/governors-dewine-and-beshear-announce-brent-spence-design-build-team',\n",
       " 'https://governor.ohio.gov/wps/portal/gov/governor/media/news-and-media/governor-dewine-lt-governor-husted-celebrate-opening-day-of-ohio-state-fair',\n",
       " 'https://governor.ohio.gov/wps/portal/gov/governor/media/news-and-media/governor-dewine-announces-new-safety-support-for-volunteer-fire-departments',\n",
       " 'https://governor.ohio.gov/wps/portal/gov/governor/media/news-and-media/governor-dewine-announces-700-in-education-support-for-fall-term-for-ohioans-with-disabilities',\n",
       " 'https://governor.ohio.gov/wps/portal/gov/governor/media/news-and-media/governor-dewine-announces-additional-135-million-to-support-critical-water-infrastructure-projects',\n",
       " 'https://governor.ohio.gov/wps/portal/gov/governor/media/news-and-media/governor-dewine-celebrates-the-walleye-capital-of-the-world',\n",
       " 'https://governor.ohio.gov/wps/portal/gov/governor/media/news-and-media/governor-dewine-announces-grid-resiliance-funding',\n",
       " 'https://governor.ohio.gov/wps/portal/gov/governor/media/news-and-media/governor-dewine-announces-record-9.8-million-awarded-through-safe-routes-to-school-program',\n",
       " 'https://governor.ohio.gov/wps/portal/gov/governor/media/news-and-media/governor-dewine-supports-local-drug-task-forces-with-2.4-million-in-recovery-ohio-funding',\n",
       " 'https://governor.ohio.gov/wps/portal/gov/governor/media/news-and-media/governor-dewine-announces-new-tool-to-boost-middle-school-matth-achievement',\n",
       " 'https://governor.ohio.gov/wps/portal/gov/governor/media/news-and-media/governor-dewine-announces-seventh-round-of-wellness-support-for-first-responder-agencies',\n",
       " 'https://governor.ohio.gov/wps/portal/gov/governor/media/news-and-media/governor-dewine-announces-new-targeted-investments-for-silicon-heartland-transportation-improvements',\n",
       " 'https://governor.ohio.gov/wps/portal/gov/governor/media/news-and-media/governor-dewine-lt-governor-husted-announce-new-cybersecurity-services-for-local-government',\n",
       " 'https://governor.ohio.gov/wps/portal/gov/governor/media/news-and-media/governor-dewine-issues-reprieve',\n",
       " 'https://governor.ohio.gov/wps/portal/gov/governor/media/news-and-media/governor-dewine-announces-locations-for-interstate-electric-vehicle-charging-stations',\n",
       " 'https://governor.ohio.gov/wps/portal/gov/governor/media/news-and-media/governor-announces-33.3-million-in-grant-funding-to-provide-students-safer-healthier-learning-environments',\n",
       " 'https://governor.ohio.gov/wps/portal/gov/governor/media/news-and-media/governor-announces-response-to-columbiana-county-natural-gas-release',\n",
       " 'https://governor.ohio.gov/wps/portal/gov/governor/media/news-and-media/governor-dewine-celebrates-new-mental-health-treatment-center-at-ohio-reformatory-for-women',\n",
       " 'https://governor.ohio.gov/wps/portal/gov/governor/media/news-and-media/governor-marks-one-year-anniversary-of-988-suicide-and-crisis-lifeline-providing-hope-and-help',\n",
       " 'https://governor.ohio.gov/wps/portal/gov/governor/media/news-and-media/governor-dewine-announces-20-million-in-grants-for-arts-organizations',\n",
       " 'https://governor.ohio.gov/wps/portal/gov/governor/media/news-and-media/governor-dewine-lt-governor-husted-celebrate-historic-investments-in-new-operating-budget',\n",
       " 'https://governor.ohio.gov/wps/portal/gov/governor/media/news-and-media/governor-dewine-signs-FY-24-25-budget-with-historic-investments-in-ohios-workforce-children-and-communities',\n",
       " 'https://governor.ohio.gov/wps/portal/gov/governor/media/news-and-media/governor-dewine-requests-presidential-disaster-declaration-for-east-palestine',\n",
       " 'https://governor.ohio.gov/wps/portal/gov/governor/media/news-and-media/governor-dewine-lt-governor-husted-announce-state-support-for-38-historic-rehabilitation-projects',\n",
       " 'https://governor.ohio.gov/wps/portal/gov/governor/media/news-and-media/governor-dewine-ODNR-celebrate-new-nature-preserve-at-little-darby-creek',\n",
       " 'https://governor.ohio.gov/wps/portal/gov/governor/media/news-and-media/new-projects-expect-to-create-534-jobs-more-than-40-million-in-payroll',\n",
       " 'https://governor.ohio.gov/wps/portal/gov/governor/media/news-and-media/governor-dewine-announces-plans-for-estimated-7.8-billion-investment-by-Amazon',\n",
       " 'https://governor.ohio.gov/wps/portal/gov/governor/media/news-and-media/East-Palestine-Update-06132023',\n",
       " 'https://governor.ohio.gov/wps/portal/gov/governor/media/news-and-media/East-Palestine-Update-06122023',\n",
       " 'https://governor.ohio.gov/wps/portal/gov/governor/media/news-and-media/06162023',\n",
       " 'https://governor.ohio.gov/wps/portal/gov/governor/media/news-and-media/06122023',\n",
       " 'https://governor.ohio.gov/wps/portal/gov/governor/media/news-and-media/06062023',\n",
       " 'https://governor.ohio.gov/wps/portal/gov/governor/media/news-and-media/060523',\n",
       " 'https://governor.ohio.gov/wps/portal/gov/governor/media/news-and-media/060223',\n",
       " 'https://governor.ohio.gov/wps/portal/gov/governor/media/news-and-media/0601230',\n",
       " 'https://governor.ohio.gov/wps/portal/gov/governor/media/news-and-media/060123',\n",
       " 'https://governor.ohio.gov/wps/portal/gov/governor/media/news-and-media/052523',\n",
       " 'https://governor.ohio.gov/wps/portal/gov/governor/media/news-and-media/052323',\n",
       " 'https://governor.ohio.gov/wps/portal/gov/governor/media/news-and-media/052223',\n",
       " 'https://governor.ohio.gov/wps/portal/gov/governor/media/news-and-media/Governor+DeWine+Announces+23+Million+in+Grants+for+Arts+Organizations',\n",
       " 'https://governor.ohio.gov/wps/portal/gov/governor/media/news-and-media/051023',\n",
       " 'https://governor.ohio.gov/wps/portal/gov/governor/media/news-and-media/05082023',\n",
       " 'https://governor.ohio.gov/wps/portal/gov/governor/media/news-and-media/050823',\n",
       " 'https://governor.ohio.gov/wps/portal/gov/governor/media/news-and-media/Governor-DeWine-Unveils-Re-Imagined-Preble-County-Welcome-Center-and-Unveils-Ohio-Rest-Area-Plan-05012023',\n",
       " 'https://governor.ohio.gov/wps/portal/gov/governor/media/news-and-media/Governor-DeWine-Announces-Safety-Grants-for-600-plus-K-12-Schools-04252023',\n",
       " 'https://governor.ohio.gov/wps/portal/gov/governor/media/news-and-media/East-Palestine-Update-04202023',\n",
       " 'https://governor.ohio.gov/wps/portal/gov/governor/media/news-and-media/Governor-DeWine-Announces-Nearly-50-Million-for-Local-Jail-Projects-04202023',\n",
       " 'https://governor.ohio.gov/wps/portal/gov/governor/media/news-and-media/East-Palestine-Update-4-18-23-04182023',\n",
       " 'https://governor.ohio.gov/wps/portal/gov/governor/media/news-and-media/Governor-Announces-95-percent-of-Ohio-Schools-Offer-Prevention-Focused-Services-04182023',\n",
       " 'https://governor.ohio.gov/wps/portal/gov/governor/media/news-and-media/Governor-DeWine-Issues-Reprieves-04142023',\n",
       " 'https://governor.ohio.gov/wps/portal/gov/governor/media/news-and-media/East+Palestine+Update-4-14-23-04142023',\n",
       " 'https://governor.ohio.gov/wps/portal/gov/governor/media/news-and-media/Governor-DeWine-Awards-20-Million-for-Community-Based-Violence-Reduction-Programs-04142023',\n",
       " 'https://governor.ohio.gov/wps/portal/gov/governor/media/news-and-media/East+Palestine+Update-4-12-23-04122023',\n",
       " 'https://governor.ohio.gov/wps/portal/gov/governor/media/news-and-media/Governor-Announces-2.9-million-in-Federal-Funding-to-Strengthen-Emergency-Preparedness-Enhance-Behavioral-Health-Response-Following-Traumatic-Events-04112023',\n",
       " 'https://governor.ohio.gov/wps/portal/gov/governor/media/news-and-media/East+Palestine+Update-4-10-23-04102023',\n",
       " 'https://governor.ohio.gov/wps/portal/gov/governor/media/news-and-media/East+Palestine+Update+-4-7-23-04072023',\n",
       " 'https://governor.ohio.gov/wps/portal/gov/governor/media/news-and-media/Governor-Signs-Executive-Order-to-Launch-Adoption-Grant-Program-04072023',\n",
       " 'https://governor.ohio.gov/wps/portal/gov/governor/media/news-and-media/Governor-DeWine-Signs-Bill-Into-Law-04052023',\n",
       " 'https://governor.ohio.gov/wps/portal/gov/governor/media/news-and-media/East-Palestine-Update+-4-5-23-04052023',\n",
       " 'https://governor.ohio.gov/wps/portal/gov/governor/media/news-and-media/East+Palestine+Update-4-3-23-04032023',\n",
       " 'https://governor.ohio.gov/wps/portal/gov/governor/media/news-and-media/Governor-DeWine-Marks-Beginning-of-Strengthened-Distracted-Driving-Law-Launches-Campaign-04032023',\n",
       " 'https://governor.ohio.gov/wps/portal/gov/governor/media/news-and-media/Governor-DeWine-Signs-13.5-Billion-Transportation-Budget03312023',\n",
       " 'https://governor.ohio.gov/wps/portal/gov/governor/media/news-and-media/East-Palestine-Update-3-29-23-03292023',\n",
       " 'https://governor.ohio.gov/wps/portal/gov/governor/media/news-and-media/Governor-DeWine-Authorizes-Emergency-Classification-of-Xylazine-as-Schedule-III-Controlled-Substance',\n",
       " 'https://governor.ohio.gov/wps/portal/gov/governor/media/news-and-media/Governor-DeWine-Orders-Flags-Lowered-in-Remembrance-of-the-Nashville-School-Shooting-Victims-03282023',\n",
       " 'https://governor.ohio.gov/wps/portal/gov/governor/media/news-and-media/East-Palestine-Update-3-27-23-03272023',\n",
       " 'https://governor.ohio.gov/wps/portal/gov/governor/media/news-and-media/New-Projects-Expected-to-Create-209-New-Jobs-13.4-Million-in-Payroll-03272023',\n",
       " 'https://governor.ohio.gov/wps/portal/gov/governor/media/news-and-media/East-Palestine-Update-3-24-23-03242023',\n",
       " 'https://governor.ohio.gov/wps/portal/gov/governor/media/news-and-media/East-Palestine-Update-3-23-23-03232023',\n",
       " 'https://governor.ohio.gov/wps/portal/gov/governor/media/news-and-media/Governor-DeWine-Signs-Executive-Order-03232023',\n",
       " 'https://governor.ohio.gov/wps/portal/gov/governor/media/news-and-media/East-Palestine-Update-3-22-23-03222023',\n",
       " 'https://governor.ohio.gov/wps/portal/gov/governor/media/news-and-media/East-Palestine-Update-3-21-23-03212023',\n",
       " 'https://governor.ohio.gov/wps/portal/gov/governor/media/news-and-media/Governor-DeWine-Lt-Governor-Husted-Call-on-Norfolk-Southern-President-and-CEO-Alan-Shaw-to-Support-Legislative-Efforts-to-Improve-Rail-Safety',\n",
       " 'https://governor.ohio.gov/wps/portal/gov/governor/media/news-and-media/East-Palestine-Update-3-20-23-03022023',\n",
       " 'https://governor.ohio.gov/wps/portal/gov/governor/media/news-and-media/Governor-DeWine-Lt-Governor-Husted-Announc-First-Projects-Funded-Through-New-Appalachian-Community-Grant-Program-03202023',\n",
       " 'https://governor.ohio.gov/wps/portal/gov/governor/media/news-and-media/East-Palestine-Update-3-17-23-03172023',\n",
       " 'https://governor.ohio.gov/wps/portal/gov/governor/media/news-and-media/East-Palestine-Update-3-16-23-03162023',\n",
       " 'https://governor.ohio.gov/wps/portal/gov/governor/media/news-and-media/Governor-DeWine-Announces-Teen-Driver-Safety-Scholarship-Awards-03162023',\n",
       " 'https://governor.ohio.gov/wps/portal/gov/governor/media/news-and-media/Governor-DeWine-Signs-Bill-Into-Law',\n",
       " 'https://governor.ohio.gov/wps/portal/gov/governor/media/news-and-media/East+Palestine+Update-3-15-23',\n",
       " 'https://governor.ohio.gov/wps/portal/gov/governor/media/news-and-media/Governor-DeWine-Increases-Wellness-Support-for-Ohios-First-Responders-by-%2420-Million-03152023',\n",
       " 'https://governor.ohio.gov/wps/portal/gov/governor/media/news-and-media/East+Palestine+Update-3-14-23-03142023',\n",
       " 'https://governor.ohio.gov/wps/portal/gov/governor/media/news-and-media/East-Palestine-Update-3-13-23-03122023',\n",
       " 'https://governor.ohio.gov/wps/portal/gov/governor/media/news-and-media/East-Palestine-Update-3-10-23-03102023',\n",
       " 'https://governor.ohio.gov/wps/portal/gov/governor/media/news-and-media/Governor+DeWine-Awards-12th-Round-of-Ohio-Violent-Crime-Reduction-Grant-Awards-3102023',\n",
       " 'https://governor.ohio.gov/wps/portal/gov/governor/media/news-and-media/East+Palestine+Update-03-9-23-03092023',\n",
       " 'https://governor.ohio.gov/wps/portal/gov/governor/media/news-and-media/East+Palestine+Update-3-8-23-03082023',\n",
       " 'https://governor.ohio.gov/wps/portal/gov/governor/media/news-and-media/DeWine-Norfolk-Southern-Announce-First-Responders-Training-Center-to-be-Located-in-Ohio-03082023',\n",
       " 'https://governor.ohio.gov/wps/portal/gov/governor/media/news-and-media/East-Palestine-Update+-3-7-23-03072023',\n",
       " 'https://governor.ohio.gov/wps/portal/gov/governor/media/news-and-media/Ohio-Launches-New-Data-Dashboards-to-Report-Overdose-Substance-Use-Measures-03072023',\n",
       " 'https://governor.ohio.gov/wps/portal/gov/governor/media/news-and-media/East+Palestine+Update-3-6-23-03062023',\n",
       " 'https://governor.ohio.gov/wps/portal/gov/governor/media/news-and-media/East+Palestine+Update+-3-4-23-030423',\n",
       " 'https://governor.ohio.gov/wps/portal/gov/governor/media/news-and-media/East+Palestine+Update-3-3-23-03032023',\n",
       " 'https://governor.ohio.gov/wps/portal/gov/governor/media/news-and-media/East-Palestine-Update-3-2-23-03022023',\n",
       " 'https://governor.ohio.gov/wps/portal/gov/governor/media/news-and-media/East-Palestine-Update-3-1-23-03012023',\n",
       " 'https://governor.ohio.gov/wps/portal/gov/governor/media/news-and-media/East-Palestine-Update-2-28-23-02282023',\n",
       " 'https://governor.ohio.gov/wps/portal/gov/governor/media/news-and-media/East-Palestine-Update-2-27-23-02272023',\n",
       " 'https://governor.ohio.gov/wps/portal/gov/governor/media/news-and-media/Governor-DeWine-Lt-Governor-Husted-Announce-New-Projects-Expected-to-Create-223-New-Jobs-10-Million-in-Payroll-02272023',\n",
       " 'https://governor.ohio.gov/wps/portal/gov/governor/media/news-and-media/East-Palestine-Update-2-26-23-022723',\n",
       " 'https://governor.ohio.gov/wps/portal/gov/governor/media/news-and-media/East-Palestine-Update-2-25-23-02252023',\n",
       " 'https://governor.ohio.gov/wps/portal/gov/governor/media/news-and-media/Governor-DeWine-Orders-Flags-Lowered-in-Remembrance-of-State-Representative-Kris-Jordan-02252023',\n",
       " 'https://governor.ohio.gov/wps/portal/gov/governor/media/news-and-media/East-Palestine-Update+-2-24-23-022423',\n",
       " 'https://governor.ohio.gov/wps/portal/gov/governor/media/news-and-media/Governor-DeWine-launches-Nursing-Home-Quality-and-Accountability-Task-Force-02242023',\n",
       " 'https://governor.ohio.gov/wps/portal/gov/governor/media/news-and-media/Governor+DeWine-Recognizes-One-Year-Anniversary-of-Russias-Invasion-of-Ukraine-02242023',\n",
       " 'https://governor.ohio.gov/wps/portal/gov/governor/media/news-and-media/East-Palestine-Update-022223',\n",
       " 'https://governor.ohio.gov/wps/portal/gov/governor/media/news-and-media/Governor-DeWine-Appoints-Majer-to-Cleveland-Municipal-Court-02172023',\n",
       " 'https://governor.ohio.gov/wps/portal/gov/governor/media/news-and-media/East-Palestine-Update-2-17-23-2-15-pm-02172023',\n",
       " 'https://governor.ohio.gov/wps/portal/gov/governor/media/news-and-media/East-Palestine-Update-2-16-23+-1-15-pm-02162023',\n",
       " 'https://governor.ohio.gov/wps/portal/gov/governor/media/news-and-media/East-Palestine-Update-2-16-23-11-00-am-02162023',\n",
       " 'https://governor.ohio.gov/wps/portal/gov/governor/media/news-and-media/East-Palestine-Water-Quality-Update-2152023',\n",
       " 'https://governor.ohio.gov/wps/portal/gov/governor/media/news-and-media/East-Palestine-Update-Residents-Can-Safely-Return-Home-02082023',\n",
       " 'https://governor.ohio.gov/wps/portal/gov/governor/media/news-and-media/East-Palestine-Update-Evacuation-Area-Extended-Controlled-Release-of-Rail-Car-Contents-Planned-for-3-30-pm-02062023',\n",
       " 'https://governor.ohio.gov/wps/portal/gov/governor/media/news-and-media/Governor+DeWine+Nominates-John-Williams-for-Seat-on-Public-Utilities-Commission-of-Ohio-2032023',\n",
       " 'https://governor.ohio.gov/wps/portal/gov/governor/media/news-and-media/Governor+DeWine-Announces-School-Safety-Support-for-More-Than-900-Ohio-Schools-02022023',\n",
       " 'https://governor.ohio.gov/wps/portal/gov/governor/media/news-and-media/Governor-DeWines-2023-State-of-the-State-Address-01312023',\n",
       " 'https://governor.ohio.gov/wps/portal/gov/governor/media/news-and-media/Governor-DeWine-Lt-Governor-Husted-Announce-New-Projects-Expected-to-Create-More-Than-588-Million-in-Investments-01302023',\n",
       " 'https://governor.ohio.gov/wps/portal/gov/governor/media/news-and-media/Governor-DeWine-Announces-State-Support-to-Demolish-Nearly-600-Blighted-Buildings-in-Ohio-01272023',\n",
       " 'https://governor.ohio.gov/wps/portal/gov/governor/media/news-and-media/Governor-DeWine-Lt-Governor-Husted-Announce-Plan-to-Cut-One-Third-of-Ohio-Administrative-Code',\n",
       " 'https://governor.ohio.gov/wps/portal/gov/governor/media/news-and-media/Governor-DeWine-Names-Patricia-Harris-as-Nominee-for-Commissioner-of-the-Ohio-Department-of-Taxation-1242023',\n",
       " 'https://governor.ohio.gov/wps/portal/gov/governor/media/news-and-media/Governor-DeWine-Orders-Flags-Lowered-in-Remembrance-of-Victims-in-Monterey-Park-California-01232023',\n",
       " 'https://governor.ohio.gov/wps/portal/gov/governor/media/news-and-media/Governor-Introduces-Program-to-Improve-Maternal-and-Infant-Health-Outcomes-01232023',\n",
       " 'https://governor.ohio.gov/wps/portal/gov/governor/media/news-and-media/Governor-DeWine-Announces-Staff-Appointments-01182023',\n",
       " 'https://governor.ohio.gov/wps/portal/gov/governor/media/news-and-media/Ohio-Awarded-48-Million-Grant-to-Ensure-Kindergarten-Readiness',\n",
       " 'https://governor.ohio.gov/wps/portal/gov/governor/media/news-and-media/Governor-DeWine-Announces-Largest-Rainy-Day-Fund-in-Ohio-History-01172023',\n",
       " 'https://governor.ohio.gov/wps/portal/gov/governor/media/news-and-media/Governor-DeWine-Approves-4-Million-Grant-for-Diversion-Program-Training-Technical-Assistance-at-NEOMED-01112023',\n",
       " 'https://governor.ohio.gov/wps/portal/gov/governor/media/news-and-media/Governor-DeWines-Second-Inaugural-Address-As-Prepared-01092023',\n",
       " 'https://governor.ohio.gov/wps/portal/gov/governor/media/news-and-media/Governor-Signs-Five-Executive-Orders-Within-Minutes-of-Taking-Oath-of-Office-01082023',\n",
       " 'https://governor.ohio.gov/wps/portal/gov/governor/media/news-and-media/Governor-DeWine-Signs-Bills-Into-Law',\n",
       " 'https://governor.ohio.gov/wps/portal/gov/governor/media/news-and-media/Governor-DeWine-Announces-Staff-Appointments-01062023',\n",
       " 'https://governor.ohio.gov/wps/portal/gov/governor/media/news-and-media/Governor-DeWine-Signs-Bills-Into-Law-Vetoes-HB+513-01052023',\n",
       " 'https://governor.ohio.gov/wps/portal/gov/governor/media/news-and-media/Governor-DeWine-Signs-Bills-Into-Law-Vetoes-HB-286-01032023',\n",
       " 'https://governor.ohio.gov/wps/portal/gov/governor/media/news-and-media/Governor-DeWine-Signs-Bill-that-Strengthens-Distracted-Driving-Laws-in-Ohio-01032023',\n",
       " 'https://governor.ohio.gov/wps/portal/gov/governor/media/news-and-media/Governor-DeWine-Signs-Bills-Into-Law-01032023',\n",
       " 'https://governor.ohio.gov/wps/portal/gov/governor/media/news-and-media/Governor-DeWine-and-Governor-Kemp-Place-Wager-on-College-Football-Playoff-Matchup-12302022',\n",
       " 'https://governor.ohio.gov/wps/portal/gov/governor/media/news-and-media/Governors-DeWine-and-Beshear-Announce-Brent-Spence-Bridge-Corridor-Project-Awarded-1-635-Billion-in-Federal-Grants-12292022',\n",
       " 'https://governor.ohio.gov/wps/portal/gov/governor/media/news-and-media/Governor-DeWine-Sends-ODOT-to-Support-Emergency-Management-Efforts-in-New-York-12292022',\n",
       " 'https://governor.ohio.gov/wps/portal/gov/governor/media/news-and-media/Governor-DeWine-Names-Anne-Vogel-as-Nominee-for-Director-of-the-Ohio-Environmental-Protection-Agency-12282022',\n",
       " 'https://governor.ohio.gov/wps/portal/gov/governor/media/news-and-media/Governor-Warns-Ohioans-Dangerous-Weather-Conditions-Continue',\n",
       " 'https://governor.ohio.gov/wps/portal/gov/governor/media/news-and-media/Governor+DeWine-Awards-11th-Round-of-Ohio-Violent-Crime-Reduction-Grant-Awards-12232022',\n",
       " 'https://governor.ohio.gov/wps/portal/gov/governor/media/news-and-media/Ohioans-Are-Urged-to-Prepare-for-Extreme-Winter-Weather-12222022',\n",
       " 'https://governor.ohio.gov/wps/portal/gov/governor/media/news-and-media/Governor-DeWine-Signs-Bills-Into-Law-12222022',\n",
       " 'https://governor.ohio.gov/wps/portal/gov/governor/media/news-and-media/Ohioans-Are-Urged-to-Prepare-for-Extreme-Winter-Weather-12232022',\n",
       " 'https://governor.ohio.gov/wps/portal/gov/governor/media/news-and-media/Governor-DeWine-Lt-Governor-Husted-Announce-Expansion-of-Medpace-in-Cincinnati-Creating-1500-Jobs12212022',\n",
       " 'https://governor.ohio.gov/wps/portal/gov/governor/media/news-and-media/Governor-DeWine-Lt-Governor-Husted-Announce-State-Support-for-54-Historic-Rehabilitation-Projects-12202022',\n",
       " 'https://governor.ohio.gov/wps/portal/gov/governor/media/news-and-media/Governor-DeWine-Announces-88-Million-in-Brownfield-Grants-to-Create-Redevelopment-Opportunities-12162022',\n",
       " 'https://governor.ohio.gov/wps/portal/gov/governor/media/news-and-media/Governor-DeWine-Orders-Flags-Lowered-in-Honor-of-Deputy-Daniel-J-Kin-12162022',\n",
       " 'https://governor.ohio.gov/wps/portal/gov/governor/media/news-and-media/Governor-DeWine-Supports-Over-100-Law-Enforcement-Agencies-in-Creating-Upgrading-Body-Camera-Programs-12162022',\n",
       " 'https://governor.ohio.gov/wps/portal/gov/governor/media/news-and-media/Governor-DeWine-Announces-New-Powder-Formula-Manufacturing-Facility-in-Bowling-Green',\n",
       " 'https://governor.ohio.gov/wps/portal/gov/governor/media/news-and-media/Governor-DeWine-Announces-Fifth-Round-of-Wellness-Support-for-First-Responder-Agencies-12142022',\n",
       " 'https://governor.ohio.gov/wps/portal/gov/governor/media/news-and-media/Governor-DeWine-Signs-Bills-Into-Law12132022',\n",
       " 'https://governor.ohio.gov/wps/portal/gov/governor/media/news-and-media/Governor-DeWine-Director-Mertz-Announce-Rollout-of-Body-Cameras-for-ODNR-Officers-12092022',\n",
       " 'https://governor.ohio.gov/wps/portal/gov/governor/media/news-and-media/Governor+DeWine-Applauds-Brown-County-for-National-Certification-of-START-Program-12092022',\n",
       " 'https://governor.ohio.gov/wps/portal/gov/governor/media/news-and-media/Governor-DeWine-Announces-Expo-2050-Master-Plan-Framework-12082022',\n",
       " 'https://governor.ohio.gov/wps/portal/gov/governor/media/news-and-media/Governor-DeWine-Announces-Nearly-200-New-Jobs-for-Jackson-County',\n",
       " 'https://governor.ohio.gov/wps/portal/gov/governor/media/news-and-media/Governor-DeWine-Announces-More-than-400-New-Jobs-for-Tuscarawas-County-12072022',\n",
       " 'https://governor.ohio.gov/wps/portal/gov/governor/media/news-and-media/Governor+DeWine%2C+Lt.+Governor+Husted+Announce+Development+Projects+Expected+to+Spur+%242.3+Billion++in+Community+Investments',\n",
       " 'https://governor.ohio.gov/wps/portal/gov/governor/media/news-and-media/Governor-DeWine-Lt.-Governor-Husted-Announce-New-Projects-Expected-to-Create-More-Than-202.6-Million-in-Investments-12072022',\n",
       " 'https://governor.ohio.gov/wps/portal/gov/governor/media/news-and-media/Governor-DeWine-Orders-Flags-Lowered-on-Pearl-Harbor-Remembrance-Day-12062022',\n",
       " 'https://governor.ohio.gov/wps/portal/gov/governor/media/news-and-media/Governor-DeWine-Announces-Demolition-Plans-for-Over-2%2C200-Blighted-Buildings-in-Ohio-12062022',\n",
       " 'https://governor.ohio.gov/wps/portal/gov/governor/media/news-and-media/Governor-DeWine-Announces-25-Million-for-Gorge-Dam-Removal-Project-12022022',\n",
       " 'https://governor.ohio.gov/wps/portal/gov/governor/media/news-and-media/Ohio-Governor-Mike-DeWine-and-First-Lady-Fran-DeWine-Celebrate-Dolly-Partons-Imagination-Library-of-Ohio-Milestones-120122',\n",
       " 'https://governor.ohio.gov/wps/portal/gov/governor/media/news-and-media/Governor-DeWine-Announces-57-8-Million-in-Safety-Grants-for-Ohio-Schools-11282022',\n",
       " 'https://governor.ohio.gov/wps/portal/gov/governor/media/news-and-media/Governor-DeWine-Releases-Status-Update-on-Children-Services-Transformation-11282022',\n",
       " 'https://governor.ohio.gov/wps/portal/gov/governor/media/news-and-media/Governor-DeWine-and-Governor-Whitmer-Place-Wager-on-The-Game-11252022',\n",
       " 'https://governor.ohio.gov/wps/portal/gov/governor/media/news-and-media/Governor-DeWine-Announces-Safety-and-Security-Support-for-Colleges-and+Universities-11212022',\n",
       " 'https://governor.ohio.gov/wps/portal/gov/governor/media/news-and-media/Governor-DeWine-Announces-Formal-Selection-of-Ohio-National-Guard-Unit-for-New-Cyberspace-Mission-11182022',\n",
       " 'https://governor.ohio.gov/wps/portal/gov/governor/media/news-and-media/Governor-DeWine-Authorizes-Use-of-State-Disaster-Relief-Program-11102022',\n",
       " 'https://governor.ohio.gov/wps/portal/gov/governor/media/news-and-media/Governor-DeWine-Announces-New-Employment-Services-for-Veterans-and-Military-Spouses-11102022',\n",
       " 'https://governor.ohio.gov/wps/portal/gov/governor/media/news-and-media/Governor-DeWine-Announces-New-Outdoor-Recreation-Projects-in-62-Counties-11072022',\n",
       " 'https://governor.ohio.gov/wps/portal/gov/governor/media/news-and-media/Governor-DeWine-Announces-50-New-Traffic-Safety-Projects-11042022',\n",
       " 'https://governor.ohio.gov/wps/portal/gov/governor/media/news-and-media/Governor-DeWine-Announces-Wellness-Support-for-Dozens-of-First-Responder-Agencies-11032022',\n",
       " 'https://governor.ohio.gov/wps/portal/gov/governor/media/news-and-media/Governor-DeWine-Awards-Tenth-Round-of-Ohio-Violent-Crime-Reduction-Grant-Awards',\n",
       " 'https://governor.ohio.gov/wps/portal/gov/governor/media/news-and-media/Governor-DeWine-Announces-100-Million-for-Electric-Vehicle-Charging-Infrastructure-Now-Available-10312022',\n",
       " 'https://governor.ohio.gov/wps/portal/gov/governor/media/news-and-media/New-Projects-Expected-to-Create-3000-New-Jobs-More-Than-4.7-Billion-in-Investments-10312022',\n",
       " 'https://governor.ohio.gov/wps/portal/gov/governor/media/news-and-media/Governor-DeWine-Announces-Hundreds-of-Blighted-Buildings-to-be-Demolished-for-New-Economic-Development-10292022',\n",
       " 'https://governor.ohio.gov/wps/portal/gov/governor/media/news-and-media/Ohio-First-Lady-Fran-DeWine-Focuses-on-Dolly-Partons-Imagination-Library-of-Ohio-and-Early-Childhood-Literacy-at-University-Hospitals10262022',\n",
       " 'https://governor.ohio.gov/wps/portal/gov/governor/media/news-and-media/Governor-DeWine-Awards-Lead-Line-Mapping-Grants-10252022',\n",
       " 'https://governor.ohio.gov/wps/portal/gov/governor/media/news-and-media/Governor-DeWine-Announces-10-2-Million-in-Ohio-Court-Backlog-Reduction-Program-Awards-10242022',\n",
       " 'https://governor.ohio.gov/wps/portal/gov/governor/media/news-and-media/Governor-DeWine-Announces-New-Driver-Safety-Tools-for-Teens-10202022',\n",
       " 'https://governor.ohio.gov/wps/portal/gov/governor/media/news-and-media/Governor-DeWine-Announces-Appalachian-Community-Grant-Program-Details-10202022',\n",
       " 'https://governor.ohio.gov/wps/portal/gov/governor/media/news-and-media/Governor-DeWine-State-Fire-Marshal-Reardon-Visit-Local-Fire-Departments-for-Fire-Prevention-Week-10142022',\n",
       " 'https://governor.ohio.gov/wps/portal/gov/governor/media/news-and-media/Governor-DeWine-Announces-Availability-of-Safety-and-Security-Support-for-Religious-Institutions-Nonprofits-Preschools-Non-Public-Schools-10142022',\n",
       " 'https://governor.ohio.gov/wps/portal/gov/governor/media/news-and-media/Governor-DeWine-Announces-Honda-to-Invest-in-Ohio-for-Electric-Vehicle-Production-Including-New-Battery-Plant-with-LG-Energy-Solution-10112022',\n",
       " 'https://governor.ohio.gov/wps/portal/gov/governor/media/news-and-media/Governor-DeWine-and-ODNR-Director-Mertz-Open-Hocking-Hills-State-Park-Lodge-and-Conference-Center-10092022',\n",
       " 'https://governor.ohio.gov/wps/portal/gov/governor/media/news-and-media/Governor-DeWine-Orders-Flags-Lowered-to-Honor-National-Fallen-Firefighters-Memorial-Service-10082022',\n",
       " 'https://governor.ohio.gov/wps/portal/gov/governor/media/news-and-media/Governor-DeWine-Announces-Third-Round-of-Wellness-Funding-for-Ohio-First-Responders-10072022',\n",
       " 'https://governor.ohio.gov/wps/portal/gov/governor/media/news-and-media/Governor-DeWine-Announces-Ninth-Round-of-Ohio-Violent-Crime-Reduction-Grant-Awards',\n",
       " 'https://governor.ohio.gov/wps/portal/gov/governor/media/news-and-media/Governor-DeWine-Awards-6-7-Million-for-Domestic-Violence-Survivor-Programs-10032022',\n",
       " 'https://governor.ohio.gov/wps/portal/gov/governor/media/news-and-media/First-Lady-DeWine-and-ODNR-Director-Mertz-Open-Newest-Storybook-Trail-at-Salt-Fork-State-Park-10032022',\n",
       " 'https://governor.ohio.gov/wps/portal/gov/governor/media/news-and-media/October-Recognized-as-First-Annual-Ohio-School-Safety-Month-093022',\n",
       " 'https://governor.ohio.gov/wps/portal/gov/governor/media/news-and-media/Governor-DeWine-Announces-More-Initiatives-to-Make-Ohio-the-Best-Place-in-the-Nation-to-Have-a-Baby%2C-Raise-a-Family-09302022',\n",
       " 'https://governor.ohio.gov/wps/portal/gov/governor/media/news-and-media/Governor-DeWine-Announces-H2Ohio-Support-for-Water-Infrastructure-Projects-09282022',\n",
       " 'https://governor.ohio.gov/wps/portal/gov/governor/media/news-and-media/Governor-DeWine-Announces-Support-for-Community-Based-Interventions-to-Prevent-Violent-Crime-09272022',\n",
       " 'https://governor.ohio.gov/wps/portal/gov/governor/media/news-and-media/Governor-DeWine-Orders-Flags-Lowered-in-Honor-of-Sheriff-Dale-Williams-09262022',\n",
       " 'https://governor.ohio.gov/wps/portal/gov/governor/media/news-and-media/Governor-DeWine-Awards-7-7-Million-for-First-Responder-Wellness-09232022',\n",
       " 'https://governor.ohio.gov/wps/portal/gov/governor/media/news-and-media/Governor-DeWine-Announces-Partnership-with-Midwest-Governors-to-Establish-a-Regional-Hydrogen-Coalition-to-Expand-Economic-Opportunity-09192022',\n",
       " 'https://governor.ohio.gov/wps/portal/gov/governor/media/news-and-media/Governor-DeWine-Awards-82-Million-to-Support-Local-Initiatives-to-Prevent-Violent-Crime-09162022',\n",
       " 'https://governor.ohio.gov/wps/portal/gov/governor/media/news-and-media/Governor-Announces-Training-Reimbursement-Grants-Now-Available-to-ApprenticeOhio-Sponsors-and-Employers',\n",
       " 'https://governor.ohio.gov/wps/portal/gov/governor/media/news-and-media/Governor-DeWine-Announces-H2Ohio-Support-to-Improve-Drinking-Water-Infrastructure-in-Lowell',\n",
       " 'https://governor.ohio.gov/wps/portal/gov/governor/media/news-and-media/Governor-DeWine-Announces-Application-Period-Opens-for-5-Million-in-Ohio-Campus-Safety-Grants-09122022',\n",
       " 'https://governor.ohio.gov/wps/portal/gov/governor/media/news-and-media/Governor-DeWine-Awards-167-Million-for-First-Responder-Wellness-09122022',\n",
       " 'https://governor.ohio.gov/wps/portal/gov/governor/media/news-and-media/Governor-DeWine-Orders-Flags-Lowered-on-Patriot-Day-in-Honor-of-911-Victims-9092022',\n",
       " 'https://governor.ohio.gov/wps/portal/gov/governor/media/news-and-media/Governor+DeWine-Orders-Flags-Lowered-in-Honor-of-Her-Majesty-Queen-Elizabeth-II-9082022',\n",
       " 'https://governor.ohio.gov/wps/portal/gov/governor/media/news-and-media/Governor-DeWine-Announces-Top-AAA-Credit-Rating-for-Ohio-9082022',\n",
       " 'https://governor.ohio.gov/wps/portal/gov/governor/media/news-and-media/Governor+DeWine+Supports+Local-Drug-Task-Forces-with-Nearly-2.3-Million-in-RecoveryOhio-Funding9072022',\n",
       " 'https://governor.ohio.gov/wps/portal/gov/governor/media/news-and-media/Funding-Now-Available-for-Local-Major-Bridge-Projects-09022022',\n",
       " 'https://governor.ohio.gov/wps/portal/gov/governor/media/news-and-media/Governor-DeWine-Releases-RecoveryOhios-Annual-Review-08312022',\n",
       " 'https://governor.ohio.gov/wps/portal/gov/governor/media/news-and-media/Governor-DeWine-Orders-Flags-Lowered-to-Recognize-Ohio-Overdose-Awareness-Day-08302022',\n",
       " 'https://governor.ohio.gov/wps/portal/gov/governor/media/news-and-media/Governor-Announces-Second-Annual-Overdose-Awareness-Day-on-Aug-31-Launches-New-Naloxone-Website-08292022',\n",
       " 'https://governor.ohio.gov/wps/portal/gov/governor/media/news-and-media/New-Projects-Expected-to-Create-More-Than-318.4-Million-in-Investments-082922',\n",
       " 'https://governor.ohio.gov/wps/portal/gov/governor/media/news-and-media/Governor-DeWine-Statement-on-Honda-LG-Announcement-08292022',\n",
       " 'https://governor.ohio.gov/wps/portal/gov/governor/media/news-and-media/Millions-Now-Available-to-Support-Ohio-Jail-Renovation-and-Construction-08262022',\n",
       " 'https://governor.ohio.gov/wps/portal/gov/governor/media/news-and-media/Governor-DeWine-Announces-2-Million-Additional-Support-for-College-Students-with-Disabilities-08242022',\n",
       " 'https://governor.ohio.gov/wps/portal/gov/governor/media/news-and-media/Governor+DeWine-Announces-School-Safety-Grant-Program-Accepting-Applications-8192022',\n",
       " 'https://governor.ohio.gov/wps/portal/gov/governor/media/news-and-media/Governor-DeWine-Celebrates-42-Annual-Governors-Fish-Ohio-Day-08182022',\n",
       " 'https://governor.ohio.gov/wps/portal/gov/governor/media/news-and-media/Governor-DeWine-Awards-8-5-Million-to-Support-Local-Law-Enforcement-08182022',\n",
       " 'https://governor.ohio.gov/wps/portal/gov/governor/media/news-and-media/Governor-DeWine-Awards-3-Million-to-Strengthen-Food-Supply-Chain-in-Ohio-8172022',\n",
       " 'https://governor.ohio.gov/wps/portal/gov/governor/media/news-and-media/Governor-DeWine-Announces-Final-Approval-Of-Extended-Health-Coverage-for-New-Moms-08162022',\n",
       " 'https://governor.ohio.gov/wps/portal/gov/governor/media/news-and-media/Governor-DeWine-Announces-5-Million-Grant-Program-for-New-H2Ohio-Best-Management-Practice-08152022',\n",
       " 'https://governor.ohio.gov/wps/portal/gov/governor/media/news-and-media/Governor-DeWine-Increases-Ohio-Violent-Crime-Reduction-Grant-Program-to-100-Million-08152022',\n",
       " 'https://governor.ohio.gov/wps/portal/gov/governor/media/news-and-media/Governor-DeWine-Awards-5-Million-for-Local-Jail-Projects-08122022',\n",
       " 'https://governor.ohio.gov/wps/portal/gov/governor/media/news-and-media/Governor-DeWine-Announces-Support-for-Local-Lead-Line-Mapping-08112022',\n",
       " 'https://governor.ohio.gov/wps/portal/gov/governor/media/news-and-media/Governors-DeWine-Beshear-Submit-Second-Federal-Funding-Request-for-Brent-Spence-Bridge-Corridor-Project-08102022',\n",
       " 'https://governor.ohio.gov/wps/portal/gov/governor/media/news-and-media/Ohio-First-Lady-Fran-DeWine-Welcomes-Dolly-Parton-to-Ohio-to-Celebrate-Dolly-Partons-Imagination-Library-in-Ohio-08092022',\n",
       " 'https://governor.ohio.gov/wps/portal/gov/governor/media/news-and-media/Governor-DeWine-Declares-Aug-9-as-Dolly-Parton-Day-08082022',\n",
       " 'https://governor.ohio.gov/wps/portal/gov/governor/media/news-and-media/Governor-DeWine-Awards-57-Million-to-Support-Local-Law-Enforcement-08052022',\n",
       " 'https://governor.ohio.gov/wps/portal/gov/governor/media/news-and-media/Governor-DeWine-Announces-Law-Enforcement-Funding-for-Body-Worn-Cameras-08042022',\n",
       " 'https://governor.ohio.gov/wps/portal/gov/governor/media/news-and-media/Stat-of-Ohio-Ohio-Manufacturers-Association-Awarded-235-Million-Federal-Good-Jobs-Challenge-Grant-08032022',\n",
       " 'https://governor.ohio.gov/wps/portal/gov/governor/media/news-and-media/Governor-DeWine-Names-New-Ohio-State-Highway-Patrol-Superintendent-08032022',\n",
       " 'https://governor.ohio.gov/wps/portal/gov/governor/media/news-and-media/Governor-DeWine-Announces-Safety-and-Security-Support-for-Over-1%2C000-Ohio-Schools-08022022',\n",
       " 'https://governor.ohio.gov/wps/portal/gov/governor/media/news-and-media/Governor-DeWine-Announces-Recommendations-For-Post-Release-Control-Supervision-in-Ohio-07292022',\n",
       " 'https://governor.ohio.gov/wps/portal/gov/governor/media/news-and-media/Governor-DeWine-Signs-Executive-Order-07292022',\n",
       " 'https://governor.ohio.gov/wps/portal/gov/governor/media/news-and-media/Governor-DeWine-Issues-Statement-on-Passage-of-CHIPS-for-America-Act-07282022',\n",
       " 'https://governor.ohio.gov/wps/portal/gov/governor/media/news-and-media/Governor-DeWine-Announces-Plans-for-New-H2Ohio-Wetlands-in-22-Counties-07282022',\n",
       " 'https://governor.ohio.gov/wps/portal/gov/governor/media/news-and-media/Governor-DeWine-Celebrates-Opening-Day-at-the-Ohio-State-Fair-07282022',\n",
       " 'https://governor.ohio.gov/wps/portal/gov/governor/media/news-and-media/Governor-DeWine-Announces-Expanded-Eligibility-for-Utility-Assistance-Program-07272022',\n",
       " 'https://governor.ohio.gov/wps/portal/gov/governor/media/news-and-media/Governor-DeWine-Releases-New-Educational-Tool-to-Prevent-Distracted-Driving-by-Teens-07262022',\n",
       " 'https://governor.ohio.gov/wps/portal/gov/governor/media/news-and-media/New-Projects-Expected-to-Create-More-Than-51.8-Million-in-Investments-07252022',\n",
       " 'https://governor.ohio.gov/wps/portal/gov/governor/media/news-and-media/Governor-DeWine-Orders-Flags-Lowered-in-Honor-of-Clark-County-Deputy-Matthew-Yates',\n",
       " 'https://governor.ohio.gov/wps/portal/gov/governor/media/news-and-media/Governor-DeWine-Announces-Support-for-Law-Enforcement-to-Target-Gun-Violence-Human-Trafficking-07222022',\n",
       " 'https://governor.ohio.gov/wps/portal/gov/governor/media/news-and-media/Governor-DeWine-Announces-Local-Government-Payments-from-National-Opioid-Settlement-Begin-07152022',\n",
       " 'https://governor.ohio.gov/wps/portal/gov/governor/media/news-and-media/Governor-DeWine-Declares-State-of-Emergency-in-Brown-Clermont-Counties-07132022',\n",
       " 'https://governor.ohio.gov/wps/portal/gov/governor/media/news-and-media/Governor-DeWine-Announces-Completion-of-I-70-Lane-Addition-07122022',\n",
       " 'https://governor.ohio.gov/wps/portal/gov/governor/media/news-and-media/Governor-DeWine-Orders-Flags-Lowered-in-Honor-of-Former-Prime-Minister-of-Japan-Shinzo-Abe-07082022',\n",
       " 'https://governor.ohio.gov/wps/portal/gov/governor/media/news-and-media/Governor+DeWine+Announces+Grants+to+Prevent+Gang+Violence%2C+Improve+Law+Enforcement+Staffing+Levels',\n",
       " 'https://governor.ohio.gov/wps/portal/gov/governor/media/news-and-media/Governor-DeWine-Announces-Members-of-New-Student-Safety-Advisory-Council-07082022',\n",
       " 'https://governor.ohio.gov/wps/portal/gov/governor/media/news-and-media/Governor-DeWine-Lt.-Governor-Husted-Announce-Launch-of-New-eWarrant-System-07062022',\n",
       " 'https://governor.ohio.gov/wps/portal/gov/governor/media/news-and-media/Governor-DeWine-Orders-Flags-Lowered-in-Honor-of-Victims-Killed-in-Highland-Park-07052022',\n",
       " 'https://governor.ohio.gov/wps/portal/gov/governor/media/news-and-media/Governor-DeWine-Issues-Reprieves-07012022',\n",
       " 'https://governor.ohio.gov/wps/portal/gov/governor/media/news-and-media/Governor-DeWine-Announces-Over-42.1-Million-in-Demolition-Funding-for-Ohio-Communities-07012022',\n",
       " 'https://governor.ohio.gov/wps/portal/gov/governor/media/news-and-media/Governor-DeWine-Announces-Launch-of-OhioRISE-07012022',\n",
       " 'https://governor.ohio.gov/wps/portal/gov/governor/media/news-and-media/Governor-DeWine-Announces-Ohio-Court-Backlog-Reduction-Program-06292022',\n",
       " 'https://governor.ohio.gov/wps/portal/gov/governor/media/news-and-media/Governor-DeWine-Signs-House-Bill-377-that-Invests-500-Million-in-Appalachia-06282022',\n",
       " 'https://governor.ohio.gov/wps/portal/gov/governor/media/news-and-media/Governor-DeWine-Announces-1.3-Million-for-Statewide-First-Responder-Wellness-Programs-06282022',\n",
       " 'https://governor.ohio.gov/wps/portal/gov/governor/media/news-and-media/New-Projects-Expected-to-Create-More-Than-213-Million-in-Investments-06272022',\n",
       " 'https://governor.ohio.gov/wps/portal/gov/governor/media/news-and-media/Governor-DeWine-ODNR-Break-Ground-on-Great-Council-State-Park-06272022',\n",
       " 'https://governor.ohio.gov/wps/portal/gov/governor/media/news-and-media/Governor-DeWine-Signs-Executive-Order-2022-11D-06252022',\n",
       " 'https://governor.ohio.gov/wps/portal/gov/governor/media/news-and-media/Governor-DeWine-Gives-Statement-on-US-Supreme-Court-Decision-06242022',\n",
       " 'https://governor.ohio.gov/wps/portal/gov/governor/media/news-and-media/Governor-DeWine-Issues-Reprieve-06242022',\n",
       " 'https://governor.ohio.gov/wps/portal/gov/governor/media/news-and-media/Governor-DeWine-Signs-Bills-Into-Law-06242022',\n",
       " 'https://governor.ohio.gov/wps/portal/gov/governor/media/news-and-media/Governor-DeWine-Announces-H2Ohio-Projects-to-Improve-Water-Quality-in-Ohio-06232022',\n",
       " 'https://governor.ohio.gov/wps/portal/gov/governor/media/news-and-media/Governor-DeWine-Lt-Governor-Husted-Announce-New-Online-BMV-Services-06232022',\n",
       " 'https://governor.ohio.gov/wps/portal/gov/governor/media/news-and-media/Governor-DeWine-Statement-on-Retirement-of-Youngstown-State-University-President-Jim-Tressel-06232022',\n",
       " 'https://governor.ohio.gov/wps/portal/gov/governor/media/news-and-media/Governor-DeWine-Announces-State-Support-for-the-Rehabilitation-of-38-Historic-Buildings-06222022',\n",
       " 'https://governor.ohio.gov/wps/portal/gov/governor/media/news-and-media/Governor-DeWine-Statement-on-State-Review-of-Ohio-Power-Outages-06212022',\n",
       " 'https://governor.ohio.gov/wps/portal/gov/governor/media/news-and-media/Governor-DeWine-Announces-New-Pilot-Program-for-Improving-Transportation-Services-in-Four-Rural-Counties-06212022',\n",
       " 'https://governor.ohio.gov/wps/portal/gov/governor/media/news-and-media/Governor-DeWine-Issues-Letter-to-Ohio-School-Superintendents-on-Safety-Initiatives-06172022',\n",
       " 'https://governor.ohio.gov/wps/portal/gov/governor/media/news-and-media/Governor-DeWine-Announces-112-Brownfield-Remediation-Projects-Throughout-Ohio-06172022',\n",
       " 'https://governor.ohio.gov/wps/portal/gov/governor/media/news-and-media/Governor-DeWine-Announces-Free-Online-Parenting-Program-to-Families-06152022',\n",
       " 'https://governor.ohio.gov/wps/portal/gov/governor/media/news-and-media/Governor-DeWine-Announces-BroadbandOhio-Community-Accelerator-Cohort-06152022',\n",
       " 'https://governor.ohio.gov/wps/portal/gov/governor/media/news-and-media/Governor-DeWine-Shares-Ohio-State-Park-Locations-Offering-Cool-Options-for-Residents-06152022',\n",
       " 'https://governor.ohio.gov/wps/portal/gov/governor/media/news-and-media/Reporting-Without-Stigma-Ohio-Releases-Resource-for-Journalists-06142022',\n",
       " 'https://governor.ohio.gov/wps/portal/gov/governor/media/news-and-media/Governor-DeWine-Signs-Bills-Into-Law-06142022',\n",
       " 'https://governor.ohio.gov/wps/portal/gov/governor/media/news-and-media/Governor-DeWine-Highlights-Historic-Investments-in-Capital-Budget-Bill-06142022',\n",
       " 'https://governor.ohio.gov/wps/portal/gov/governor/media/news-and-media/Governor-DeWine-Details-Plans-to-Address-Excessive-Vegetation-at-Indian-Lake-State-Park-06132022',\n",
       " 'https://governor.ohio.gov/wps/portal/gov/governor/media/news-and-media/First-Lady-Fran-DeWine-Opens-New-Storybook-Trail-at-Deer-Creek-State-Park-06132022',\n",
       " 'https://governor.ohio.gov/wps/portal/gov/governor/media/news-and-media/Governor-DeWine-Outlines-Latest-Statewide-School-Safety-Efforts-06132022',\n",
       " 'https://governor.ohio.gov/wps/portal/gov/governor/media/news-and-media/Governor-DeWine-Announces-Funding-for-Outdoor-Storybook-Trails-06102022',\n",
       " 'https://governor.ohio.gov/wps/portal/gov/governor/media/news-and-media/Governor-DeWine-Petitions-U.S.-EPA-to-Remove-E-15-Fuel-Regulations-06102022',\n",
       " 'https://governor.ohio.gov/wps/portal/gov/governor/media/news-and-media/Governor-DeWine-Asks-President-Biden-to-Reconsider-Solar-Panel-Tariff-Ban-06092022',\n",
       " 'https://governor.ohio.gov/wps/portal/gov/governor/media/news-and-media/Governor-DeWine-Announces-Ohio-WIC-Receives-Additional-USDA-Waivers-to+Assist-Families-During-Formula-Shortage-06062022',\n",
       " 'https://governor.ohio.gov/wps/portal/gov/governor/media/news-and-media/Governor-DeWine-Awards-3.9-Million-to-Support-Local-Law-Enforcement-06062022',\n",
       " 'https://governor.ohio.gov/wps/portal/gov/governor/media/news-and-media/Governor-DeWine-Ford-Motor-Company-Announce-1800-New-Jobs-to-Assemble-New-Commercial-Electric-Vehicle-06022022',\n",
       " 'https://governor.ohio.gov/wps/portal/gov/governor/media/news-and-media/Governor-DeWine-Issues-Statements-on-Bills-Passed-by-Ohio-General-Assembly-06012022',\n",
       " 'https://governor.ohio.gov/wps/portal/gov/governor/media/news-and-media/Governor-DeWine+Awards-15-Million-to-Strengthen-Food-Supply-Chain-in-Ohio-06012022',\n",
       " 'https://governor.ohio.gov/wps/portal/gov/governor/media/news-and-media/Governor-DeWine-Signs-Bills-Into-Law-06022022',\n",
       " 'https://governor.ohio.gov/wps/portal/gov/governor/media/news-and-media/Governor-DeWine-Outlines-Next-Steps-for-Enhancing-Student-and-Teacher-Safety-05272022',\n",
       " 'https://governor.ohio.gov/wps/portal/gov/governor/media/news-and-media/Governor-DeWine-Orders-Flags-Lowered-in-Honor-of-Memorial-Day-05272022',\n",
       " 'https://governor.ohio.gov/wps/portal/gov/governor/media/news-and-media/Governor-DeWine%2C-Lt.-Governor-Husted-Join-Gold-Star-Families-in-Wreath-Laying-Ceremony',\n",
       " 'https://governor.ohio.gov/wps/portal/gov/governor/media/news-and-media/Ohio-Governor-DeWine-Awards-2-Million-to-Law-Enforcement-to-Help-Combat-Violence-05262022',\n",
       " 'https://governor.ohio.gov/wps/portal/gov/governor/media/news-and-media/Governor-DeWine-Announces-First-Round-of-Collegiate-Purple-Star-Awards-05262022',\n",
       " 'https://governor.ohio.gov/wps/portal/gov/governor/media/news-and-media/Governors-DeWine-Beshear-Submit-Federal-Funding-Request-for-Brent-Spence-Bridge-Corridor-Project-05242022',\n",
       " 'https://governor.ohio.gov/wps/portal/gov/governor/media/news-and-media/New-Projects-Expected-to-Create-More-Than-185-Million-in-Investments-05232022',\n",
       " 'https://governor.ohio.gov/wps/portal/gov/governor/media/news-and-media/Governor-Mike-DeWine-First-Lady-Fran-DeWine-Open-New-Storybook-Trails-at-Rocky-Fork-and-Cowan-Lake-State-Parks-05222022',\n",
       " 'https://governor.ohio.gov/wps/portal/gov/governor/media/news-and-media/Governor-DeWine-Unveils-New-Communication-Card-to-Help-Deaf-and+Hard-of-Hearing-Individuals-Communicate-with-Law-Enforcement-05202022',\n",
       " 'https://governor.ohio.gov/wps/portal/gov/governor/media/news-and-media/Governor-DeWine-Issues-Statement-on-Ohio-State-University-Tuition-Increase-for-Incoming-Students-05202022',\n",
       " 'https://governor.ohio.gov/wps/portal/gov/governor/media/news-and-media/Governor-Appoints-Two-Ombudsmen-to-Lead-New-Office-05192022',\n",
       " 'https://governor.ohio.gov/wps/portal/gov/governor/media/news-and-media/Governor-DeWine-Announces-%244.8-Million-for-K-12-School-Safety-and-Security-Upgrades-05192022',\n",
       " 'https://governor.ohio.gov/wps/portal/gov/governor/media/news-and-media/Governor-DeWine-Announces-New-Round-of-State-Support-to-Help-Redevelop-Ohio-Neighborhoods-05182022',\n",
       " 'https://governor.ohio.gov/wps/portal/gov/governor/media/news-and-media/Governor-DeWine-Awards-3.6-Million-to-Help-Law-Enforcement-Combat-Illegal-Drug-Activity-05172022',\n",
       " 'https://governor.ohio.gov/wps/portal/gov/governor/media/news-and-media/First-Lady-Fran-DeWine-Attends-Hamilton-Countys-One-Millionth-Imagination-Library-Book-Celebration-05172022',\n",
       " 'https://governor.ohio.gov/wps/portal/gov/governor/media/news-and-media/Governor-DeWine-Announces-Pediatric-Behavioral-Health-Initiative-05162022',\n",
       " 'https://governor.ohio.gov/wps/portal/gov/governor/media/news-and-media/Governor-DeWine-Announces-Proposal-for-85M-Investment-to-Grow-Ohio-Behavioral-Healthcare-Workforce-05132022',\n",
       " 'https://governor.ohio.gov/wps/portal/gov/governor/media/news-and-media/Governor-DeWine-Orders-Flags-Lowered-in-Honor-of-1-Million-Americans-Killed-by-COVID-19-05122022',\n",
       " 'https://governor.ohio.gov/wps/portal/gov/governor/media/news-and-media/Governor-Statement-on-New-Superintendent-of-Public-Instruction-05102022',\n",
       " 'https://governor.ohio.gov/wps/portal/gov/governor/media/news-and-media/Governor-DeWine-Announces-H2Ohio-Projects-in-the-Ohio-River-Basin-05102022',\n",
       " 'https://governor.ohio.gov/wps/portal/gov/governor/media/news-and-media/Governor-DeWine-Celebrates-Inland-Fish-Ohio-Day-at-Deer-Creek-Lake-0572022e',\n",
       " 'https://governor.ohio.gov/wps/portal/gov/governor/media/news-and-media/Nearly-2000-Pieces-of-Ohio-Personal-Protective-Gear-Headed-to-Ukraine-05062022',\n",
       " 'https://governor.ohio.gov/wps/portal/gov/governor/media/news-and-media/Governor-DeWine-Awards-Lead-Line-Mapping-Grants-05062022',\n",
       " 'https://governor.ohio.gov/wps/portal/gov/governor/media/news-and-media/Governor-DeWine-Announces-70-Million-for-First-Responder-Recruitment-Retention-and-Resilience-05052022',\n",
       " 'https://governor.ohio.gov/wps/portal/gov/governor/media/news-and-media/Governor-DeWine-Announces-51-Million-for-Traffic-Safety-Projects-05052022',\n",
       " 'https://governor.ohio.gov/wps/portal/gov/governor/media/news-and-media/Governor-DeWine-Signs-Executive-Order-04292022',\n",
       " 'https://governor.ohio.gov/wps/portal/gov/governor/media/news-and-media/Governor-Signs-Executive-Order-Expanding-Capacity-at-Youth-Treatment-Facilities-04292022',\n",
       " 'https://governor.ohio.gov/wps/portal/gov/governor/media/news-and-media/Governor-DeWine-Announces-Launch-of-Military-Friendly-Webpage-04292022',\n",
       " 'https://governor.ohio.gov/wps/portal/gov/governor/media/news-and-media/Governor-DeWine-Announces-Proposal-for-Historic-Investment-in-Appalachia-04282022',\n",
       " 'https://governor.ohio.gov/wps/portal/gov/governor/media/news-and-media/Governor-DeWine-Authorizes-Use-of-State-Disaster-Relief-Program-04272022',\n",
       " 'https://governor.ohio.gov/wps/portal/gov/governor/media/news-and-media/Governor-DeWine-Launches-Ohio-Crime-Lab-Efficiency-Program-to-Eliminate-Backlogs-Decrease-Testing-Turnaround-Time-04272022',\n",
       " 'https://governor.ohio.gov/wps/portal/gov/governor/media/news-and-media/Governor-DeWine-Appoints-Kirk-Herath-as-Cybersecurity-Strategic-Advisor-04262022',\n",
       " 'https://governor.ohio.gov/wps/portal/gov/governor/media/news-and-media/Governor-DeWine-Awards-%2460-Million-in-Brownfield-Remediation-Grants-04262022',\n",
       " 'https://governor.ohio.gov/wps/portal/gov/governor/media/news-and-media/Ohio-Governor-DeWine-Awards-3.7-Million-to-Help-Law-Enforcement-Combat-Violence-04252022',\n",
       " 'https://governor.ohio.gov/wps/portal/gov/governor/media/news-and-media/New-Projects-Expected-to-Create-More-Than-%24563-Million-in-Investments-04252022',\n",
       " 'https://governor.ohio.gov/wps/portal/gov/governor/media/news-and-media/Governor-DeWine-Announces-Ohio-State-Parks-Week-04222022',\n",
       " 'https://governor.ohio.gov/wps/portal/gov/governor/media/news-and-media/Governor-DeWine-Signs-Bills-Into-Law04212022',\n",
       " 'https://governor.ohio.gov/wps/portal/gov/governor/media/news-and-media/Ohio-National-Guard-Provides-Support-to-Ukraine-04202022',\n",
       " 'https://governor.ohio.gov/wps/portal/gov/governor/media/news-and-media/Governor-DeWine-Statement-in-Support-of-STRS-Special-Audit-04202022',\n",
       " 'https://governor.ohio.gov/wps/portal/gov/governor/media/news-and-media/Ohio-Joins-American-Governors-Border-Strike-Force-04192022',\n",
       " 'https://governor.ohio.gov/wps/portal/gov/governor/media/news-and-media/DeWine-Joins-Other-Governors-Calling-for-Removing-Biden-Administration-Mandate-Limiting-Charter-School-Creation-04182022',\n",
       " 'https://governor.ohio.gov/wps/portal/gov/governor/media/news-and-media/Governor-DeWine-Signs-Bill-Into-Law-04182022',\n",
       " 'https://governor.ohio.gov/wps/portal/gov/governor/media/news-and-media/Update-on-Governor-and-First-Lady-DeWine-COVID-19-Diagnoses-04182022',\n",
       " 'https://governor.ohio.gov/wps/portal/gov/governor/media/news-and-media/Governor-Signs-Executive-Order-Defining-Antisemitism-04142022',\n",
       " 'https://governor.ohio.gov/wps/portal/gov/governor/media/news-and-media/Governor-DeWine-Announces-Ohio-Task-Force-on-Volunteer-Fire-Service-04142022',\n",
       " 'https://governor.ohio.gov/wps/portal/gov/governor/media/news-and-media/Governor-DeWine-Launches-Southwest-Ohio-Branch-of-the-Ohio-Narcotics-Intelligence-Center-04132022',\n",
       " 'https://governor.ohio.gov/wps/portal/gov/governor/media/news-and-media/Governor-DeWine-Orders-Flags-Lowered-in-Honor-of-Town-and-Country-Fire-District-Lieutenant-Philip-Wigal-04122022',\n",
       " 'https://governor.ohio.gov/wps/portal/gov/governor/media/news-and-media/Ohio-Begins-Collecting-Law-Enforcement-Personal-Protective-Gear-for-Civilian-Humanitarian-Aid-in-Ukraine-04082022',\n",
       " 'https://governor.ohio.gov/wps/portal/gov/governor/media/news-and-media/Governor-DeWine-Signs-Bills-Into-Law-04052022',\n",
       " 'https://governor.ohio.gov/wps/portal/gov/governor/media/news-and-media/Governor-DeWine-Announces-Formation-of-Student-Safety-Advisory-Council-04062022',\n",
       " 'https://governor.ohio.gov/wps/portal/gov/governor/media/news-and-media/Governor-Signs-Executive-Order-Effectively-Banning-New-Opioids-04062022',\n",
       " 'https://governor.ohio.gov/wps/portal/gov/governor/media/news-and-media/Governor-DeWine-Awards-2.25-Million-to-Increase-Healthy-Birth-Outcomes-04062022',\n",
       " 'https://governor.ohio.gov/wps/portal/gov/governor/media/news-and-media/Governor-DeWine-Launches-Toledo-Branch-of-the-Ohio-Narcotics-Intelligence-Center-04052022',\n",
       " 'https://governor.ohio.gov/wps/portal/gov/governor/media/news-and-media/Governor-DeWine-Increases-Violent-Crime-Reduction-Grant-Program-by-50-Million-04042022',\n",
       " 'https://governor.ohio.gov/wps/portal/gov/governor/media/news-and-media/Governor-DeWine-Signs-Biennial-Capital-Reappropriations-Bill-04012022',\n",
       " 'https://governor.ohio.gov/wps/portal/gov/governor/media/news-and-media/Governor-DeWine-Orders-Flags-Lowered-in-Honor-of-Gunnery-Sgt.-James-W.-Speedy-04012022',\n",
       " 'https://governor.ohio.gov/wps/portal/gov/governor/media/news-and-media/Governor-DeWine-Attorney-General-Yost-Announce-Joint-Initiative-to-Prevent-and-Solve-Gun-Crimes-03312022',\n",
       " 'https://governor.ohio.gov/wps/portal/gov/governor/media/news-and-media/Governor-DeWine-Orders-Flags-Lowered-in-Honor-of-Bluffton-Police-Officer-Dominic-Francis-03312022',\n",
       " 'https://governor.ohio.gov/wps/portal/gov/governor/media/news-and-media/Governor-DeWine-Lt.-Governor-Husted-Announce-New-Projects-Expected-to-Create-More-Than-%241-Billion-in-Investments-03282022',\n",
       " 'https://governor.ohio.gov/wps/portal/gov/governor/media/news-and-media/Governor+DeWine+Orders+Flags+Lowered+in+Honor+of+Former+Secretary+of+State+Madeleine+Albright',\n",
       " 'https://governor.ohio.gov/wps/portal/gov/governor/media/news-and-media/Governor+Signs+Executive-Order-03232022',\n",
       " 'https://governor.ohio.gov/wps/portal/gov/governor/media/news-and-media/Governor-DeWine-Orders-Flags-Lowered-in-Honor-of-Portsmouth-Firefighter-and-EMT-Edward-Long-03232022',\n",
       " 'https://governor.ohio.gov/wps/portal/gov/governor/media/news-and-media/Governor-DeWines-2022-State-of-the-State-Address-Seize-our-Ohio-Moment-03232022',\n",
       " 'https://governor.ohio.gov/wps/portal/gov/governor/media/news-and-media/Governor-DeWine-Launches-New-Ohio-Drug-Education-Pilot-Program-03212022',\n",
       " 'https://governor.ohio.gov/wps/portal/gov/governor/media/news-and-media/Governor-Sign-+Executive-Order-03182022',\n",
       " 'https://governor.ohio.gov/wps/portal/gov/governor/media/news-and-media/Governor-DeWine-Lt-Governor-Husted-Announce-New-Broadband-Expansion-Projects-03182022',\n",
       " 'https://governor.ohio.gov/wps/portal/gov/governor/media/news-and-media/Governor-DeWine-Opens-Ohio-Summit-on-Ukrainian-Refugees-03172022',\n",
       " 'https://governor.ohio.gov/wps/portal/gov/governor/media/news-and-media/Governor-DeWine-Issues-Statement-on-Death-of-Geno-Natalucci-Persichetti-03152022',\n",
       " 'https://governor.ohio.gov/wps/portal/gov/governor/media/news-and-media/Governor-DeWine-Signs-Bills-Into-Law-03152022',\n",
       " 'https://governor.ohio.gov/wps/portal/gov/governor/media/news-and-media/Governor-DeWine-Ohio-National-Guard-Request-Law-Enforcement-Inventory-of-Donatable-Personal-Protective-Gear-03112022',\n",
       " 'https://governor.ohio.gov/wps/portal/gov/governor/media/news-and-media/Governor-DeWine-Announces-650-Million-in-Additional-Grant-to-Support-Child-Care-03112022',\n",
       " 'https://governor.ohio.gov/wps/portal/gov/governor/media/news-and-media/Governor-DeWine-Signs-Bill-Into-Law-03112022',\n",
       " 'https://governor.ohio.gov/wps/portal/gov/governor/media/news-and-media/Governor-DeWine-Signs-Bill-Into-Law-031012022',\n",
       " 'https://governor.ohio.gov/wps/portal/gov/governor/media/news-and-media/Governor-DeWine-Kicks-Off-Next-Phase-in-Downtown-Columbus-I-70-71-Construction-Project-03092022',\n",
       " 'https://governor.ohio.gov/wps/portal/gov/governor/media/news-and-media/DeWine-Calls-for-Summit-of-Refugee-Organizations-to-Plan-for-Possible-Ukrainian-Resettlement-03082022',\n",
       " 'https://governor.ohio.gov/wps/portal/gov/governor/media/news-and-media/Governor-DeWine-Announces-New-H2Ohio-Program-to-Help-Remove-and-Replace-Lead-Pipes--03072022',\n",
       " 'https://governor.ohio.gov/wps/portal/gov/governor/media/news-and-media/Governor-DeWine-Announces-25-9-million-for-136-new-or-expanded-School-Based-Health-Centers-03042022',\n",
       " 'https://governor.ohio.gov/wps/portal/gov/governor/media/news-and-media/Governor-DeWine-Awards-Over-%241.3-Million-in-Grants-for-Human-Trafficking-Prevention-Programs-03042022',\n",
       " 'https://governor.ohio.gov/wps/portal/gov/governor/media/news-and-media/Before-Donating-to-Help-the-Humanitarian-Crisis-in-Europe-Ohioans-Urged-to-do-Research-03032022',\n",
       " 'https://governor.ohio.gov/wps/portal/gov/governor/media/news-and-media/Governor-Signs-Executive-Order-in-Response-to-Russia-Unjust-War-Against-Ukraine-03032022',\n",
       " 'https://governor.ohio.gov/wps/portal/gov/governor/media/news-and-media/Governor-DeWine-Bans-Purchases-of-Russian-Goods-and-Services-Directs-OBWC-to-Divest-Russian-Assets',\n",
       " 'https://governor.ohio.gov/wps/portal/gov/governor/media/news-and-media/Governor-DeWine-Signs-Bills-Into-Law-03022022',\n",
       " 'https://governor.ohio.gov/wps/portal/gov/governor/media/news-and-media/Development-Projects-Will-Support-1-4-Billion-in-Investments-in-Ohio-Communities-03022022',\n",
       " 'https://governor.ohio.gov/wps/portal/gov/governor/media/news-and-media/Governor-DeWine-Lt-.-Governor-Husted-Announce-New-Projects-Expected-to-Create-More-Than-%24117-Million-in-Investments-03022022',\n",
       " 'https://governor.ohio.gov/wps/portal/gov/governor/media/news-and-media/Governor-DeWine-ODOT-Support-Ukraine-by-Lighting-Bridges-in-the-Colors-of-the-Ukrainian-Flag-03012022',\n",
       " 'https://governor.ohio.gov/wps/portal/gov/governor/media/news-and-media/Governor-DeWine-Signs-Executive-Order-03012022',\n",
       " 'https://governor.ohio.gov/wps/portal/gov/governor/media/news-and-media/Governor-DeWine-Announces-Appointments-for-the-Ohio-Commission-for-the-US-Semiquincentennial-03012022',\n",
       " 'https://governor.ohio.gov/wps/portal/gov/governor/media/news-and-media/Governors-DeWine-Beshear-Pledge-to-Seek-Federal-Funding-for-Brent-Spence-Bridge-Project-02282022',\n",
       " 'https://governor.ohio.gov/wps/portal/gov/governor/media/news-and-media/Governor-DeWine-Signs-Bills-Into-Law-02282022',\n",
       " 'https://governor.ohio.gov/wps/portal/gov/governor/media/news-and-media/Governor-DeWine-Announces-Day-of-Prayer-For-Ukraine-02262022',\n",
       " 'https://governor.ohio.gov/wps/portal/gov/governor/media/news-and-media/Governor-DeWine-Announces-Partnership-to-Promote-Road-Safety-for-Teen-Drivers-02252022',\n",
       " 'https://governor.ohio.gov/wps/portal/gov/governor/media/news-and-media/Governors-DeWine-Walz-Issue-Bipartisan-Response-to-Russian-Invasion-of-Ukraine-02252022',\n",
       " 'https://governor.ohio.gov/wps/portal/gov/governor/media/news-and-media/Governor-DeWine-Orders-Flags-Lowered-in-Honor-of-Medina-County-Domestic-Relations-Judge-Mary-Kovack-02242022',\n",
       " 'https://governor.ohio.gov/wps/portal/gov/governor/media/news-and-media/Governor-DeWine-Issues-Statement-on-Death-of-Jefferson-County-Sheriff-Fred-Abdalla-02222022',\n",
       " 'https://governor.ohio.gov/wps/portal/gov/governor/media/news-and-media/Governor-DeWine-Announces-Funding-for-New-Outdoor-Childrens-Literacy-Trails-02222022',\n",
       " 'https://governor.ohio.gov/wps/portal/gov/governor/media/news-and-media/Governor-DeWine-Issues-Statement-on-Death-of-Dr-Paul-Farmer-02222022',\n",
       " 'https://governor.ohio.gov/wps/portal/gov/governor/media/news-and-media/Governor-DeWine-Issues-Reprieves-02182022',\n",
       " 'https://governor.ohio.gov/wps/portal/gov/governor/media/news-and-media/Governor-DeWine-Announces-2022-Ohio-State-Fair-02182022',\n",
       " 'https://governor.ohio.gov/wps/portal/gov/governor/media/news-and-media/Governor-DeWine-Issues-Statement-on-the-Death-of-Robert-Lindner-02172022',\n",
       " 'https://governor.ohio.gov/wps/portal/gov/governor/media/news-and-media/Governor-DeWine-Signs-Bill-Into-Law-02172022',\n",
       " 'https://governor.ohio.gov/wps/portal/gov/governor/media/news-and-media/Governor-DeWine-Orders-Flags-Lowered-in-Honor-of-Former-Ohio-House-Speaker-Batchelder-02162022',\n",
       " 'https://governor.ohio.gov/wps/portal/gov/governor/media/news-and-media/Governor-DeWine-Awards-10-Million+-to-Strengthen-Food-Supply-Chain-in-Ohio-02162022',\n",
       " 'https://governor.ohio.gov/wps/portal/gov/governor/media/news-and-media/Governor-DeWine-Announces-%243-Million-in-H2Ohio-Grants-for-Ohio-River-Basin-Wetland-Projects-2162022',\n",
       " 'https://governor.ohio.gov/wps/portal/gov/governor/media/news-and-media/Governor-DeWine-Statement-on-the-Cincinnati-Bengals-Super-Bowl-Run-2132022',\n",
       " 'https://governor.ohio.gov/wps/portal/gov/governor/media/news-and-media/Governor-DeWine-Issues-Statement-on-the-Death-of-Former-Speaker-Batchelder-2122022',\n",
       " 'https://governor.ohio.gov/wps/portal/gov/governor/media/news-and-media/Governor-DeWine-and-Governor-Newsom-Place-Wager-on-Super-Bowl-LVI-02112022',\n",
       " 'https://governor.ohio.gov/wps/portal/gov/governor/media/news-and-media/Governor-DeWine-Reappoints-Conway-to-PUCO-02102022',\n",
       " 'https://governor.ohio.gov/wps/portal/gov/governor/media/news-and-media/Frans-Favorites-Skyline-Chili-Dip-02102022',\n",
       " 'https://governor.ohio.gov/wps/portal/gov/governor/media/news-and-media/Frans-Favorites-Cincinnati-Chicken-Wings-Two+Ways-02092022',\n",
       " 'https://governor.ohio.gov/wps/portal/gov/governor/media/news-and-media/Governor-DeWine-Announces-Super-Bowl-Sunday-as-Cincinnati-Bengals-Day-02082022',\n",
       " 'https://governor.ohio.gov/wps/portal/gov/governor/media/news-and-media/Governor-DeWine-Awards-Law-Enforcement-Recruitment-Grants-02082022',\n",
       " 'https://governor.ohio.gov/wps/portal/gov/governor/media/news-and-media/Governor-DeWine-Honorarily-Renames-Three-Ohio-State-Parks-Ahead-of-Super-Bowl-LVI-02072022',\n",
       " 'https://governor.ohio.gov/wps/portal/gov/governor/media/news-and-media/Governor-Announces-34-Million-Investment-in-University-of-Toledo-Medical-Center-Quality-Initiative-02022022',\n",
       " 'https://governor.ohio.gov/wps/portal/gov/governor/media/news-and-media/Governor-Gives-Notice-Of-New-State-Board-of-Education-District-Boundaries-02022022',\n",
       " 'https://governor.ohio.gov/wps/portal/gov/governor/media/news-and-media/New-Projects-Expected-to+Create-More-Than-%2476-Million-in-Investments-01312022',\n",
       " 'https://governor.ohio.gov/wps/portal/gov/governor/media/news-and-media/Governor-DeWine-Announces-Sierra-Nevada-Corporations-Selection-of-Dayton-for-Aircraft-Maintenance-Repair-and-Overhaul-Facilities-01312022',\n",
       " 'https://governor.ohio.gov/wps/portal/gov/governor/media/news-and-media/Governor-DeWine-Signs-Bill-into-Law-01282022',\n",
       " 'https://governor.ohio.gov/wps/portal/gov/governor/media/news-and-media/Governor-DeWine-Issues-Statement-on-the-Death-of-Former-Congressman-Bud-Brown-01272022',\n",
       " 'https://governor.ohio.gov/wps/portal/gov/governor/media/news-and-media/Nearly-15-Million-of-ARPA-Block-Grant-Funding-Will-Help-Strengthen-Behavioral-Healthcare-Services-01262022',\n",
       " 'https://governor.ohio.gov/wps/portal/gov/governor/media/news-and-media/Governor-DeWine-Announces-Recipients-of-2022-MARCS-Grant-01252022',\n",
       " 'https://governor.ohio.gov/wps/portal/gov/governor/media/news-and-media/Ohio-National-Guard-to-Expand-Support-in-Southwest-Ohio-Two-Testing-Locations-in-Northeast-Ohio-Close-1242022',\n",
       " 'https://governor.ohio.gov/wps/portal/gov/governor/media/news-and-media/Governor-DeWine-Awards-Body-Worn-Camera-Grants-to-100-Law-Enforcement-Agencies-01242022',\n",
       " 'https://governor.ohio.gov/wps/portal/gov/governor/media/news-and-media/Governor-DeWine-Announces-Monumental-Investment-by-Intel-to-Bring-Their-Most-Advanced-Semiconductor-Manufacturing-Plants-to-Ohio-01212022',\n",
       " 'https://governor.ohio.gov/wps/portal/gov/governor/media/news-and-media/Ohio-National-Guard-to-Bolster-Support-in-Southern-Ohio-Cleveland-Walker-Center-Testing-Location-to-Close-1182022',\n",
       " 'https://governor.ohio.gov/wps/portal/gov/governor/media/news-and-media/Governor-DeWine-Statement-on-Vaccine-Mandate-Decision-01132022',\n",
       " 'https://governor.ohio.gov/wps/portal/gov/governor/media/news-and-media/Ohio-National-Guard-To-Support-Additional-COVID-19-Testing-Sites-Cleveland-Clinic-To-Receive-Federal-Support-01132021',\n",
       " 'https://governor.ohio.gov/wps/portal/gov/governor/media/news-and-media/Governor-DeWine-Orders-Flags-Lowered-in-Honor-of-Senator-Harry-Reid-01132022',\n",
       " 'https://governor.ohio.gov/wps/portal/gov/governor/media/news-and-media/Governor-DeWine-Statement-on-Redistricting-Decision-01122022',\n",
       " 'https://governor.ohio.gov/wps/portal/gov/governor/media/news-and-media/Ohio-Expands-COVID-19-Testing-Locations-with-Support-from-Ohio-National-Guard-1112022',\n",
       " 'https://governor.ohio.gov/wps/portal/gov/governor/media/news-and-media/Governor-DeWine-Announces-New-Leadership-at-RecoveryOhio-01072022',\n",
       " 'https://governor.ohio.gov/wps/portal/gov/governor/media/news-and-media/Governor-DeWine-Orders-Flags-Lowered-in-Honor-of-Officer-Shane-Bartek-01052022',\n",
       " 'https://governor.ohio.gov/wps/portal/gov/governor/media/news-and-media/Ohio-Expands-COVID-19-Testing-Locations-with-Support-from-Ohio-National-Guard-1-3-2022',\n",
       " 'https://governor.ohio.gov/wps/portal/gov/governor/media/news-and-media/Governor-DeWine-Provides-Update-On-COVID-19-Hospitalizations-and-Ohio-National-Guard-Deployment-12292021',\n",
       " 'https://governor.ohio.gov/wps/portal/gov/governor/media/news-and-media/Governor-DeWine-Signs-Bill-into-Law-12232021',\n",
       " 'https://governor.ohio.gov/wps/portal/gov/governor/media/news-and-media/Governor-DeWine-Announces-Plan-to-Help-Cuyahoga-County-Corrections-Center-with-Staffing-12232021',\n",
       " 'https://governor.ohio.gov/wps/portal/gov/governor/media/news-and-media/Governor-DeWine-Signs-Bills-into-Law-12222021',\n",
       " 'https://governor.ohio.gov/wps/portal/gov/governor/media/news-and-media/Governor-DeWine-Announces-Launch-of-Demolition-Program-to-Clean-Up-Blight-in-Ohio-Communities-12222021',\n",
       " 'https://governor.ohio.gov/wps/portal/gov/governor/media/news-and-media/Governor-DeWine-Awards-Funds-to-Support-Child-Advocacy-Centers-Trauma-Recovery-Centers-12222021',\n",
       " 'https://governor.ohio.gov/wps/portal/gov/governor/media/news-and-media/Governor-Statement-on-Bishop-Sycamore-Investigation-12172021',\n",
       " 'https://governor.ohio.gov/wps/portal/gov/governor/media/news-and-media/COVID-19-Update-Ohio-National-Guard-Mobilized-Hospital-Staff-Needed-12172021',\n",
       " 'https://governor.ohio.gov/wps/portal/gov/governor/media/news-and-media/Governor-DeWine-Signs-Executive-Order-12162021',\n",
       " 'https://governor.ohio.gov/wps/portal/gov/governor/media/news-and-media/Schools-Offer-Prevention-Focused-Programs-Supports-During-the-School-Day-12162021',\n",
       " 'https://governor.ohio.gov/wps/portal/gov/governor/media/news-and-media/Governor-DeWine-Signs-Senate-Bill-229-12152021',\n",
       " 'https://governor.ohio.gov/wps/portal/gov/governor/media/news-and-media/Governor-DeWine-Launches-Program-to-Help-Communities-Clean-Up-Hazardous-Brownfield-Sites-12142021',\n",
       " 'https://governor.ohio.gov/wps/portal/gov/governor/media/news-and-media/Governor-DeWine-Announces-Renovation-Repurposing-of-Former-Hocking-County-Prison-12132021',\n",
       " 'https://governor.ohio.gov/wps/portal/gov/governor/media/news-and-media/Governor-Statement-on-Final-Passage-of-House-Bill-169-12092021',\n",
       " 'https://governor.ohio.gov/wps/portal/gov/governor/media/news-and-media/Governor-DeWine-Announces-New-Director-at-Ohio-Department-of-Developmental-Disabilities-Retirement-of-Director-Davis-12082021',\n",
       " 'https://governor.ohio.gov/wps/portal/gov/governor/media/news-and-media/Governor-DeWine-Signs-Executive-Order-12072021',\n",
       " 'https://governor.ohio.gov/wps/portal/gov/governor/media/news-and-media/Governor-DeWine-Announces-Additional-110-Million-in-Ohio-BUILDS-Water-Infrastructure-Grants-12072021',\n",
       " 'https://governor.ohio.gov/wps/portal/gov/governor/media/news-and-media/Governor-DeWine-Orders-Flags-Lowered-on-Pearl-Harbor-Remembrance-Day-12062021',\n",
       " 'https://governor.ohio.gov/wps/portal/gov/governor/media/news-and-media/Governor-DeWine-Lt-Governor-Husted-Announce-Proposal-to-Provide-250-Million-to-Law-Enforcement-First-Responders-12062021',\n",
       " 'https://governor.ohio.gov/wps/portal/gov/governor/media/news-and-media/New-Projects-Expected-to-Create-More-Than-%24296-Million-in-Investments-12062021',\n",
       " 'https://governor.ohio.gov/wps/portal/gov/governor/media/news-and-media/Governor-DeWine-Orders-Flags-Lowered-in-Honor-of-Senator-Bob-Dole-12062021',\n",
       " 'https://governor.ohio.gov/wps/portal/gov/governor/media/news-and-media/Governor-DeWine-Issues-Statement-on-the-Death-of-Former-Senator-Bob-Dole-12052021',\n",
       " 'https://governor.ohio.gov/wps/portal/gov/governor/media/news-and-media/Governor-DeWine-Announces-5-Million-in-Funding-to-Improve-Maternal-and-Infant-Health-12032021',\n",
       " 'https://governor.ohio.gov/wps/portal/gov/governor/media/news-and-media/ODOT-Headquarters-Rededicate-to-Honor-Former-Director-12022021',\n",
       " 'https://governor.ohio.gov/wps/portal/gov/governor/media/news-and-media/Governor-DeWine-Signs-HB-215-Four-Other-Bills-12012021',\n",
       " 'https://governor.ohio.gov/wps/portal/gov/governor/media/news-and-media/Governor-DeWine-and-Governor-Whitmer-Place-Wager-on-The-Game-11242021',\n",
       " 'https://governor.ohio.gov/wps/portal/gov/governor/media/news-and-media/Governor-DeWine-Announces-%245-Million-for-H2Ohio-Projects-in-the-Ohio-River-Basin-11242021',\n",
       " 'https://governor.ohio.gov/wps/portal/gov/governor/media/news-and-media/Governor-DeWine-Ohio-State+Highway-Patrol-Announce-Statewide-Rollout-of-Body-Cameras-for-Troopers-11232021',\n",
       " 'https://governor.ohio.gov/wps/portal/gov/governor/media/news-and-media/Governor-DeWine-Calls-for-Federal-Government-to-Ease-Regulations-on-Freight-Movement-Commits-ODOT-Aid-to-Operation-Open-Roads-11232021',\n",
       " 'https://governor.ohio.gov/wps/portal/gov/governor/media/news-and-media/Governor-DeWine-Announces-Launch-of-Ohio-Office-of-First-Responder-Wellness-11222021',\n",
       " 'https://governor.ohio.gov/wps/portal/gov/governor/media/news-and-media/Governor-DeWine-Lt-Governor-Husted-Urge-President-Biden-to-Keep-Enbridge-Line-5-Open-11222021',\n",
       " 'https://governor.ohio.gov/wps/portal/gov/governor/media/news-and-media/Governor-DeWine-Signs-Senate-Bill-258-11222021',\n",
       " 'https://governor.ohio.gov/wps/portal/gov/governor/media/news-and-media/Governor-DeWine-Statement-on-Sheriff-Gene-Fischer-11172021',\n",
       " 'https://governor.ohio.gov/wps/portal/gov/governor/media/news-and-media/Governor-DeWine-Statement-on-Tenneco-11122021',\n",
       " 'https://governor.ohio.gov/wps/portal/gov/governor/media/news-and-media/Governor-DeWine-Expands-Expedited-Pardon-Project-to-Include-Law-Partners-in-Cleveland-Dayton-and-Cincinnati-11092021',\n",
       " 'https://governor.ohio.gov/wps/portal/gov/governor/media/news-and-media/House-Bill-172-Signed-11082021',\n",
       " 'https://governor.ohio.gov/wps/portal/gov/governor/media/news-and-media/Governor-DeWine-Announces-OneOhio-Recovery-Foundation-Board-Appointments-11052021',\n",
       " 'https://governor.ohio.gov/wps/portal/gov/governor/media/news-and-media/COVID-19-Update-Governor-DeWine-Provides-Update-on-COVID-Exposure-Pediatric-Vaccination-Information-11042021',\n",
       " 'https://governor.ohio.gov/wps/portal/gov/governor/media/news-and-media/Governor-DeWine-Awards-Additional-44-Million-in-Ohio-BUILDS-Water-Infrastructure-Grants-11022021',\n",
       " 'https://governor.ohio.gov/wps/portal/gov/governor/media/news-and-media/Governor-DeWine-Announces-50-Million-in-Funding-to-Rebuild-or-Expand-Six-Local-Jails-10292021',\n",
       " 'https://governor.ohio.gov/wps/portal/gov/governor/media/news-and-media/Governor-Signs-Executive-Order-to-Enact-Emergency-Adoption-of-the-Afterschool-Child-Enrichment-Educational-Savings-Account-Program',\n",
       " 'https://governor.ohio.gov/wps/portal/gov/governor/media/news-and-media/Governor-DeWine-Signs-Bills-Into-Law-10282021',\n",
       " 'https://governor.ohio.gov/wps/portal/gov/governor/media/news-and-media/Governor-DeWine-Awards-93-Million-in-Ohio-BUILDS-Water-Infrastructure-Grants-10262021',\n",
       " 'https://governor.ohio.gov/wps/portal/gov/governor/media/news-and-media/Governor-DeWines-H2Ohio-Initiative-Sees-Remarkable-Participation-in-Expansion-Area-10252021',\n",
       " 'https://governor.ohio.gov/wps/portal/gov/governor/media/news-and-media/Governor-DeWine-and-Lt-Governor-Husted-Announce-New-Projects-Expected-to-Create-More-Than-12-Million-in-Investments-10252021',\n",
       " 'https://governor.ohio.gov/wps/portal/gov/governor/media/news-and-media/Governor-DeWine-Visits-Members-of-FIFA-and-the-U-S-Soccer-Delegation-10222021',\n",
       " 'https://governor.ohio.gov/wps/portal/gov/governor/media/news-and-media/Governor-DeWine-Unveils-New-Standard-License-Plate-10212021',\n",
       " 'https://governor.ohio.gov/wps/portal/gov/governor/media/news-and-media/Governors-Office-of-Faith-Based-and-Community-Initiatives-Partners-with-Operation-Warm-to-Distribute-Coats-and-Shoes-to-Kids-10202021',\n",
       " 'https://governor.ohio.gov/wps/portal/gov/governor/media/news-and-media/Governor-DeWine-Orders-Flags-Lowered-in-Honor-of-General-Colin-Powell-10182021',\n",
       " 'https://governor.ohio.gov/wps/portal/gov/governor/media/news-and-media/Governor-DeWine-Statement-on-General-Colin-Powell-10182021',\n",
       " 'https://governor.ohio.gov/wps/portal/gov/governor/media/news-and-media/Governor-DeWine-Orders-Flags-Lowered-in-Honor-of-the-National-Peace-Officers-Memorial-Service-10152021',\n",
       " 'https://governor.ohio.gov/wps/portal/gov/governor/media/news-and-media/Governor-DeWine-Announces-3.7-Million-in-H2Ohio-Water-and-Wastewater-Infrastructure-Grants-10152021',\n",
       " 'https://governor.ohio.gov/wps/portal/gov/governor/media/news-and-media/New-Amazon-Fulfillment-Center-to-Bring-1000-New-Jobs-to-Stark-County-10122021',\n",
       " 'https://governor.ohio.gov/wps/portal/gov/governor/media/news-and-media/New-Loan-Programs-to-Help-Minority-and-Women-Owned-Businesses-10062021',\n",
       " 'https://governor.ohio.gov/wps/portal/gov/governor/media/news-and-media/Governor-DeWine-Announces-New-Statewide-Grant-Program-to-Address-Violent-Crime-10052021',\n",
       " 'https://governor.ohio.gov/wps/portal/gov/governor/media/news-and-media/New-Projects-Expected-to-Create-More-Than-162-Million-in-Investments-10042021',\n",
       " 'https://governor.ohio.gov/wps/portal/gov/governor/media/news-and-media/Governor-DeWine-Signs-Bill-Into-Law-09292021',\n",
       " 'https://governor.ohio.gov/wps/portal/gov/governor/media/news-and-media/COVID-19-Update-Hospital-Situation-Vaccine-Incentives-School-Bus-Drivers-09232021',\n",
       " 'https://governor.ohio.gov/wps/portal/gov/governor/media/news-and-media/Additional-Funding-Available-to-Return-Wanted-Violent-Offenders-to-Ohio-09222021',\n",
       " 'https://governor.ohio.gov/wps/portal/gov/governor/media/news-and-media/Governor-DeWine-Statement-on-Death-of-Bishop-Pilla-09212021',\n",
       " 'https://governor.ohio.gov/wps/portal/gov/governor/media/news-and-media/COVID-19-Update-for-Ohio-09212021',\n",
       " 'https://governor.ohio.gov/wps/portal/gov/governor/media/news-and-media/Nearly-58-percent-Ohio-Students-Under-Local-Mandatory-Mask-Requirement-09172021',\n",
       " 'https://governor.ohio.gov/wps/portal/gov/governor/media/news-and-media/Ohio-to-Receive-855-Displaced-Afghans-09162021',\n",
       " 'https://governor.ohio.gov/wps/portal/gov/governor/media/news-and-media/National-Small-Business-Day-Ohio-Continues-to-Offer-Support-for-Small-Businesses-09162021',\n",
       " 'https://governor.ohio.gov/wps/portal/gov/governor/media/news-and-media/Governor-DeWine-Ohio-Childrens-Hospitals-Association-Appeal-to-School-Districts-to-Require-Masks-09172021',\n",
       " 'https://governor.ohio.gov/wps/portal/gov/governor/media/news-and-media/Governor-DeWine-Orders-Flags-Lowered-on-Patriot-Day-in-Honor-of-9-11-Victims-09102021',\n",
       " 'https://governor.ohio.gov/wps/portal/gov/governor/media/news-and-media/Governor-DeWine-Orders-Flags-Lowered-in-Honor-of-Former-State-Representative-Doug-Green-09092021',\n",
       " 'https://governor.ohio.gov/wps/portal/gov/governor/media/news-and-media/Ohio-Appeals-Biden-Administration-Decision-Eliminating-Medicaid-Work-Requirement-09092021',\n",
       " 'https://governor.ohio.gov/wps/portal/gov/governor/media/news-and-media/Governor-DeWine-Supports-Law-Enforcement-with-New-Grant-+for-Body-Worn-Cameras-09072021',\n",
       " 'https://governor.ohio.gov/wps/portal/gov/governor/media/news-and-media/Governor-DeWine-Launches-New-Grant-Program-to-Expand-Access-to-High-Speed-Internet-09062021',\n",
       " 'https://governor.ohio.gov/wps/portal/gov/governor/media/news-and-media/Governor+DeWine-Activates-Ohio-National-Guard-to-Support-Louisiana-Relief-Efforts09032021',\n",
       " 'https://governor.ohio.gov/wps/portal/gov/governor/media/news-and-media/Ohio-Pays-Off-Federal-Unemployment-Loan-Saving-Employers-from-Unemployment-Tax-Increase-09012021',\n",
       " 'https://governor.ohio.gov/wps/portal/gov/governor/media/news-and-media/Governor-DeWine-Statement-on-Bishop-Sycamore-08312021',\n",
       " 'https://governor.ohio.gov/wps/portal/gov/governor/media/news-and-media/Governor-DeWine-Observes-the-First-Ohio-Overdose-Awareness-Day-08312020',\n",
       " 'https://governor.ohio.gov/wps/portal/gov/governor/media/news-and-media/Governor-DeWine-Orders-Flags-Lowered-to-Recognize-Ohio-Overdose-Awareness-Day-08302021',\n",
       " 'https://governor.ohio.gov/wps/portal/gov/governor/media/news-and-media/Governor-DeWine-Announces-Enhanced-Efforts-to-Assist-Veteran-Service-Organizations-08302021',\n",
       " 'https://governor.ohio.gov/wps/portal/gov/governor/media/news-and-media/Governor-DeWine-Announces-5-Million-for-Higher-Education-Campus-Security-Upgrades-08302021',\n",
       " 'https://governor.ohio.gov/wps/portal/gov/governor/media/news-and-media/Governor-DeWine-Orders-Flags-Lowered-for-Navy-Hospitalman-Maxton-W-Soviak-08302021',\n",
       " 'https://governor.ohio.gov/wps/portal/gov/governor/media/news-and-media/Governor-DeWine-Orders-Flags-Lowered-08272021',\n",
       " 'https://governor.ohio.gov/wps/portal/gov/governor/media/news-and-media/Governor-DeWine-Statement-on-Situation-in-Afghanistan-08262021',\n",
       " 'https://governor.ohio.gov/wps/portal/gov/governor/media/news-and-media/Air-Force-Selects-Mansfield-as-Preferred-Site-for-New-Cyber-Warfare-Wing-08262021',\n",
       " 'https://governor.ohio.gov/wps/portal/gov/governor/media/news-and-media/New-Projects-Expected-to-Create-More-Than-281-Million-in-Investments-08232021',\n",
       " 'https://governor.ohio.gov/wps/portal/gov/governor/media/news-and-media/COVID-19-Update-Vaccinations-Increasing-Delta-Variant-Local-Efforts-Encouraged-08172021',\n",
       " 'https://governor.ohio.gov/wps/portal/gov/governor/media/news-and-media/Governor-DeWine-Statement-on-Death-of-Senator-Dick-Schafrath-08162021',\n",
       " 'https://governor.ohio.gov/wps/portal/gov/governor/media/news-and-media/Governor-Disappointed-in-Biden-Administrations-Withdrawal-of-Medicaid-Waiver-Approval-08112021',\n",
       " 'https://governor.ohio.gov/wps/portal/gov/governor/media/news-and-media/Vanderhoff-Named-Ohio-Department-of-Health-Director-McCloud-Returns-to-Former-Post-as-BWC-Administrator-08112021',\n",
       " 'https://governor.ohio.gov/wps/portal/gov/governor/media/news-and-media/Governor-DeWine-Adds-to-Tree-Canopy-at-Ohio-State-Fairgrounds-08092021',\n",
       " 'https://governor.ohio.gov/wps/portal/gov/governor/media/news-and-media/COVID-19-Update-Vaccinations-Increasing-Delta-Variant-Local-Efforts-Encouraged-08062021',\n",
       " 'https://governor.ohio.gov/wps/portal/gov/governor/media/news-and-media/Governor-DeWine-Orders-Flags-Lowered-in-Honor-of-Nelsonville-Police-Officer-Scott-Dawley',\n",
       " 'https://governor.ohio.gov/wps/portal/gov/governor/media/news-and-media/Governor-Signs-Executive-Orders-Awarding-Funds-to-Help-Families-Reduce-Poverty-073021',\n",
       " 'https://governor.ohio.gov/wps/portal/gov/governor/media/news-and-media/Governor-DeWine-Orders-Flags-Lowered-in-Honor-of-Sergeant-Jared-M-Ulinski-08022021',\n",
       " 'https://governor.ohio.gov/wps/portal/gov/governor/media/news-and-media/Governor-DeWine-Announces-Launch-of-New-Water-and-Wastewater-Infrastructure-Grant-Program-07302021',\n",
       " 'https://governor.ohio.gov/wps/portal/gov/governor/media/news-and-media/Governor-DeWine-Statement-on-Death-of-US-Senator-Levin-of-Michigan--7302021',\n",
       " 'https://governor.ohio.gov/wps/portal/gov/governor/media/news-and-media/Governor-Lt-Governor-Issue-Statement-on-Federal-Pandemic-Unemployment-Compensation-Ruling-07302021',\n",
       " 'https://governor.ohio.gov/wps/portal/gov/governor/media/news-and-media/Governor-DeWine-Statement-on-Death-of-US-Senator-Enzi-of-Wyoming-07272021',\n",
       " 'https://governor.ohio.gov/wps/portal/gov/governor/media/news-and-media/Governor-DeWine-Announces-5-Million-in-H2Ohio-Grants-for-Ohio-River-Basin-Wetland-Projects-07272021',\n",
       " 'https://governor.ohio.gov/wps/portal/gov/governor/media/news-and-media/New-Projects-Expected-to-Create-More-Than-30-Million-in-investments-072621',\n",
       " 'https://governor.ohio.gov/wps/portal/gov/governor/media/news-and-media/Statement-by-Governor-Mike-DeWine-07222021',\n",
       " 'https://governor.ohio.gov/wps/portal/gov/governor/media/news-and-media/Governor-DeWine-Statement-on-Potential-Opioid-Settlement-07212021',\n",
       " 'https://governor.ohio.gov/wps/portal/gov/governor/media/news-and-media/Funds-Doubled-for-Small-Business-Grant-Programs--07162021',\n",
       " 'https://governor.ohio.gov/wps/portal/gov/governor/media/news-and-media/Governor-DeWine-Signs-Bill-Into-Law-07142021',\n",
       " 'https://governor.ohio.gov/wps/portal/gov/governor/media/news-and-media/Interstate-Safety-Improvements-Continue-in-Downtown-Columbus-07132021',\n",
       " 'https://governor.ohio.gov/wps/portal/gov/governor/media/news-and-media/Governor-DeWine-Signs-Bill-Into-Law-071221',\n",
       " 'https://governor.ohio.gov/wps/portal/gov/governor/media/news-and-media/Governor-DeWine-Signs-House-Bill-191-07092021',\n",
       " 'https://governor.ohio.gov/wps/portal/gov/governor/media/news-and-media/Governor-DeWine-Vetoes-Senate-Bill-113-07092021',\n",
       " 'https://governor.ohio.gov/wps/portal/gov/governor/media/news-and-media/Lake-Erie-in-the-Spotlight-During-Governors-Fish-Ohio-Day-07082021',\n",
       " 'https://governor.ohio.gov/wps/portal/gov/governor/media/news-and-media/Governor-DeWine-Awards-RecoveryOhio+-Grants-to-Local-Drug-Task-Forces',\n",
       " 'https://governor.ohio.gov/wps/portal/gov/governor/media/news-and-media/Governor-DeWine-Announces-9-Million-in-H2Ohio-Water-and-Sewer-Infrastructure-Grant-07072021',\n",
       " 'https://governor.ohio.gov/wps/portal/gov/governor/media/news-and-media/Governor-DeWine-Signs-Collins-Law-07062021',\n",
       " 'https://governor.ohio.gov/wps/portal/gov/governor/media/news-and-media/Governor-DeWine-Announces-H2Ohio-Farmer-Incentive-Program-Expansion',\n",
       " 'https://governor.ohio.gov/wps/portal/gov/governor/media/news-and-media/Governor-DeWine-Authorizes-Ohio-State-Highway-Patrol-to-Assist-Texas-Law-Enforcement-at-Border',\n",
       " 'https://governor.ohio.gov/wps/portal/gov/governor/media/news-and-media/Governor-DeWine-Approves-Activation-of-Ohio-National-Guard-to-Support-Southwest-Border-Mission',\n",
       " 'https://governor.ohio.gov/wps/portal/gov/governor/media/news-and-media/Governor-DeWine-Issues-Statement-on-the-Death-of-John-Mahaney',\n",
       " 'https://governor.ohio.gov/wps/portal/gov/governor/media/news-and-media/Governor-DeWine-Announces-Cabinet-Directors-07022021',\n",
       " 'https://governor.ohio.gov/wps/portal/gov/governor/media/news-and-media/Governor-Signs-Bills-Into-Law-07012021',\n",
       " 'https://governor.ohio.gov/wps/portal/gov/governor/media/news-and-media/Governor-DeWine-Statement-on-State-Superintendent-Retirement-07012021',\n",
       " 'https://governor.ohio.gov/wps/portal/gov/governor/media/news-and-media/Bipartisan-State-Budget-Invests-in-Ohios-Future-and-Cuts-Taxes',\n",
       " 'https://governor.ohio.gov/wps/portal/gov/governor/media/news-and-media/governor-dewine-signs-2022-2023-operating+budget',\n",
       " 'https://governor.ohio.gov/wps/portal/gov/governor/media/news-and-media/Governor-DeWine-Signs-House-Bill-168-06292021',\n",
       " 'https://governor.ohio.gov/wps/portal/gov/governor/media/news-and-media/governor-dewine-signs-executive-order-2021-10D-06282021',\n",
       " 'https://governor.ohio.gov/wps/portal/gov/governor/media/news-and-media/New-Projects-Expected-to-Create-More-Than-322-Million-06282021',\n",
       " 'https://governor.ohio.gov/wps/portal/gov/governor/media/news-and-media/governor-dewine-issues-statement-on-passage-of-HB168',\n",
       " 'https://governor.ohio.gov/wps/portal/gov/governor/media/news-and-media/governor-dewine-statement-on-ohio-house-amendments-to-SB187',\n",
       " 'https://governor.ohio.gov/wps/portal/gov/governor/media/news-and-media/Governor-DeWine-Announces-Daycare-Lead-Pipe-Removal-in-Cleveland',\n",
       " 'https://governor.ohio.gov/wps/portal/gov/governor/media/news-and-media/governor-dewine-lt-governor-husted-announce-155-million-in-business-assistance',\n",
       " 'https://governor.ohio.gov/wps/portal/gov/governor/media/news-and-media/covid-19-update-vax-a-million-winners-06242021',\n",
       " 'https://governor.ohio.gov/wps/portal/gov/governor/media/news-and-media/governor-dewine-announces-college-to-law-enforcement-pathway-program',\n",
       " 'https://governor.ohio.gov/wps/portal/gov/governor/media/news-and-media/governor-dewine-signs-bills-into-law-06222021',\n",
       " 'https://governor.ohio.gov/wps/portal/gov/governor/media/news-and-media/governor-dewine-encourages-student--athletes-to-get-vaccinated',\n",
       " 'https://governor.ohio.gov/wps/portal/gov/governor/media/news-and-media/governor-dewine-statement-on-juneteenth-holiday',\n",
       " 'https://governor.ohio.gov/wps/portal/gov/governor/media/news-and-media/governor-dewine-orders-flags-lowered-in-honor-of-tiltonsville-fire-chief',\n",
       " 'https://governor.ohio.gov/wps/portal/gov/governor/media/news-and-media/covid19-update-state-of-emergency-to-be-lifted-vaxamillion-winners-06172021',\n",
       " 'https://governor.ohio.gov/wps/portal/gov/governor/media/news-and-media/governor-dewine-announces-10million-for-school-security',\n",
       " 'https://governor.ohio.gov/wps/portal/gov/governor/media/news-and-media/governor-dewine-celebrates-inland-fish-ohio-day-2021',\n",
       " 'https://governor.ohio.gov/wps/portal/gov/governor/media/news-and-media/covid19-update-vaccine-uptake-vaxamillion-winners-06112021',\n",
       " 'https://governor.ohio.gov/wps/portal/gov/governor/media/news-and-media/signs-bills-06-08-21',\n",
       " 'https://governor.ohio.gov/wps/portal/gov/governor/media/news-and-media/dewine-issues-urgent-appeal-to-covid19-vaccine-providers-06072021',\n",
       " 'https://governor.ohio.gov/wps/portal/gov/governor/media/news-and-media/ohio-reports-fewer-than-50-covid19-cases-per-100000-residents-06052021',\n",
       " 'https://governor.ohio.gov/wps/portal/gov/governor/media/news-and-media/signs-bills-06022021',\n",
       " 'https://governor.ohio.gov/wps/portal/gov/governor/media/news-and-media/health-orders-rescinded-06012021',\n",
       " 'https://governor.ohio.gov/wps/portal/gov/governor/media/news-and-media/dewine-reminds-unvaccinated-ohioans-to-continue-wearing-masks-06012021',\n",
       " 'https://governor.ohio.gov/wps/portal/gov/governor/media/news-and-media/flags-lowered-05282021',\n",
       " 'https://governor.ohio.gov/wps/portal/gov/governor/media/news-and-media/flags-lowered-05142021',\n",
       " 'https://governor.ohio.gov/wps/portal/gov/governor/media/news-and-media/ohio-mass0vaccination-clinic-final-week-05272021',\n",
       " 'https://governor.ohio.gov/wps/portal/gov/governor/media/news-and-media/statement-former-us-senator-john-warner-05262021',\n",
       " 'https://governor.ohio.gov/wps/portal/gov/governor/media/news-and-media/new-projects-expected-to-create-more-than-606-million-in-investments-05242021',\n",
       " 'https://governor.ohio.gov/wps/portal/gov/governor/media/news-and-media/covid19-update-05242021',\n",
       " 'https://governor.ohio.gov/wps/portal/gov/governor/media/news-and-media/staff-changes-05202021',\n",
       " 'https://governor.ohio.gov/wps/portal/gov/governor/media/news-and-media/authorize-use-state-disaster-relief-program-lawrence-gallia-counties-05182021',\n",
       " 'https://governor.ohio.gov/wps/portal/gov/governor/media/news-and-media/signs-house-bill-2-05172021',\n",
       " 'https://governor.ohio.gov/wps/portal/gov/governor/media/news-and-media/covid19-update-05172021',\n",
       " 'https://governor.ohio.gov/wps/portal/gov/governor/media/news-and-media/signs-bills-05172021',\n",
       " 'https://governor.ohio.gov/wps/portal/gov/governor/media/news-and-media/statement-otto-beatty-jr-05152021',\n",
       " 'https://governor.ohio.gov/wps/portal/gov/governor/media/news-and-media/signs-bills-05142021',\n",
       " 'https://governor.ohio.gov/wps/portal/gov/governor/media/news-and-media/statement-new-cdc-mask-guidance-05142021',\n",
       " 'https://governor.ohio.gov/wps/portal/gov/governor/media/news-and-media/covid19-update-05132021',\n",
       " 'https://governor.ohio.gov/wps/portal/gov/governor/media/news-and-media/first-lady-dewine-unveils-storybook-trail-at-burr-oak-state-park-05142021',\n",
       " 'https://governor.ohio.gov/wps/portal/gov/governor/media/news-and-media/vaccine-incentives-end-date-for-health-orders-05122021',\n",
       " 'https://governor.ohio.gov/wps/portal/gov/governor/media/news-and-media/vaccinations-available-for-youth-in-ohio-05122021',\n",
       " 'https://governor.ohio.gov/wps/portal/gov/governor/media/news-and-media/signs-bills-05112021',\n",
       " 'https://governor.ohio.gov/wps/portal/gov/governor/media/news-and-media/dewine-statement-fda-vaccine-authorization-05102021',\n",
       " 'https://governor.ohio.gov/wps/portal/gov/governor/media/news-and-media/ohio-restores-unemployment-benefits-weekly-work-search-requirement-05102021',\n",
       " 'https://governor.ohio.gov/wps/portal/gov/governor/media/news-and-media/new-storybook-trails-unveiled-montgomery-and-lorain-counties-05102021',\n",
       " 'https://governor.ohio.gov/wps/portal/gov/governor/media/news-and-media/first-lady-dewine-unveils-newest-storybook-trail-05072021',\n",
       " 'https://governor.ohio.gov/wps/portal/gov/governor/media/news-and-media/ohio-mass-vaccination-clinic-offer-jandj-next-week-05062021',\n",
       " 'https://governor.ohio.gov/wps/portal/gov/governor/media/news-and-media/health-orders-signed-05042021',\n",
       " 'https://governor.ohio.gov/wps/portal/gov/governor/media/news-and-media/flags-lowered-nelsonville-firefighter-jeff-armes-05032021',\n",
       " 'https://governor.ohio.gov/wps/portal/gov/governor/media/news-and-media/covid19-update-05032021',\n",
       " 'https://governor.ohio.gov/wps/portal/gov/governor/media/news-and-media/dewine-dedicates-tree-grove-to-survivors-victims-covid19-pandemic-04302021',\n",
       " 'https://governor.ohio.gov/wps/portal/gov/governor/media/news-and-media/health-order-removing-restrictions-signed-04272021',\n",
       " 'https://governor.ohio.gov/wps/portal/gov/governor/media/news-and-media/covid19-update-04272021',\n",
       " 'https://governor.ohio.gov/wps/portal/gov/governor/media/news-and-media/signs-bills-04272021',\n",
       " 'https://governor.ohio.gov/wps/portal/gov/governor/media/news-and-media/new-projects-expected-to-create-more-than-99-million-in-investments-04262021',\n",
       " 'https://governor.ohio.gov/wps/portal/gov/governor/media/news-and-media/dewine-calls-special-election-for-ohio-15-congressional-district-04262021',\n",
       " 'https://governor.ohio.gov/wps/portal/gov/governor/media/news-and-media/flags-lowered-04232021',\n",
       " 'https://governor.ohio.gov/wps/portal/gov/governor/media/news-and-media/vaccine-providers-permitted-to-resume-johnson-and-johnson-vaccinations-in-ohio-04232021',\n",
       " 'https://governor.ohio.gov/wps/portal/gov/governor/media/news-and-media/flags-lowered-former-vp-walter-mondale-04212021',\n",
       " 'https://governor.ohio.gov/wps/portal/gov/governor/media/news-and-media/covid19-update-04212021',\n",
       " 'https://governor.ohio.gov/wps/portal/gov/governor/media/news-and-media/dewine-husted-back-keep-nine-admendment-to-prevent-court-packing-04202021',\n",
       " 'https://governor.ohio.gov/wps/portal/gov/governor/media/news-and-media/statement-guilty-verdict-in-the-derek-chauvin-case-04202021',\n",
       " 'https://governor.ohio.gov/wps/portal/gov/governor/media/news-and-media/dewine-yost-recognize-national-donate-life-blue-and-green-day-04162021',\n",
       " 'https://governor.ohio.gov/wps/portal/gov/governor/media/news-and-media/covid19-update-04152021',\n",
       " 'https://governor.ohio.gov/wps/portal/gov/governor/media/news-and-media/covid19-update-04132021',\n",
       " 'https://governor.ohio.gov/wps/portal/gov/governor/media/news-and-media/ohio-advises-temporary-pause-johnson-and-johnson-covid19-vaccine-04132021',\n",
       " 'https://governor.ohio.gov/wps/portal/gov/governor/media/news-and-media/dewine-issues-reprieves-04092021',\n",
       " 'https://governor.ohio.gov/wps/portal/gov/governor/media/news-and-media/executive-orders-signed-04092021',\n",
       " 'https://governor.ohio.gov/wps/portal/gov/governor/media/news-and-media/amended-health-order-social-distancing-facial-coverings-non-congregation-04092021',\n",
       " 'https://governor.ohio.gov/wps/portal/gov/governor/media/news-and-media/covid19-update-04082021',\n",
       " 'https://governor.ohio.gov/wps/portal/gov/governor/media/news-and-media/broadband-expansion-project-east-cleveland-04072021',\n",
       " 'https://governor.ohio.gov/wps/portal/gov/governor/media/news-and-media/statement-jack-hanna-04072021',\n",
       " 'https://governor.ohio.gov/wps/portal/gov/governor/media/news-and-media/covid19-update-04052021',\n",
       " 'https://governor.ohio.gov/wps/portal/gov/governor/media/news-and-media/covid19-update-04012021',\n",
       " 'https://governor.ohio.gov/wps/portal/gov/governor/media/news-and-media/transportation-budget-signed-03312021',\n",
       " 'https://governor.ohio.gov/wps/portal/gov/governor/media/news-and-media/tca-news-projects-03292021',\n",
       " 'https://governor.ohio.gov/wps/portal/gov/governor/media/news-and-media/covid19-update-03252021',\n",
       " 'https://governor.ohio.gov/wps/portal/gov/governor/media/news-and-media/veto-senate-bill-22-03232021',\n",
       " 'https://governor.ohio.gov/wps/portal/gov/governor/media/news-and-media/amended-orders-visitations-nursing-homes-assisted-living-facilities-residents-03232021',\n",
       " 'https://governor.ohio.gov/wps/portal/gov/governor/media/news-and-media/covid19-update-03222021',\n",
       " 'https://governor.ohio.gov/wps/portal/gov/governor/media/news-and-media/signs-hb-67-03202021',\n",
       " 'https://governor.ohio.gov/wps/portal/gov/governor/media/news-and-media/french-next-chairwoman-puco-03192021',\n",
       " 'https://governor.ohio.gov/wps/portal/gov/governor/media/news-and-media/updated-health-order-03182021',\n",
       " 'https://governor.ohio.gov/wps/portal/gov/governor/media/news-and-media/covid19-update-03182021',\n",
       " 'https://governor.ohio.gov/wps/portal/gov/governor/media/news-and-media/signs-bill-into-law-03162021',\n",
       " 'https://governor.ohio.gov/wps/portal/gov/governor/media/news-and-media/expanded-vaccine-eligibility-+cleveland-mass-vaccination-clinic-opens-to-public-03162021',\n",
       " 'https://governor.ohio.gov/wps/portal/gov/governor/media/news-and-media/eliminating-racial-disparities-in-infant-mortality-task-force-03162021',\n",
       " 'https://governor.ohio.gov/wps/portal/gov/governor/media/news-and-media/health-order-spring-sports-extracurricular-activities-03152021',\n",
       " 'https://governor.ohio.gov/wps/portal/gov/governor/media/news-and-media/cleveland-mass-vaccination-appts-to-open-monday',\n",
       " 'https://governor.ohio.gov/wps/portal/gov/governor/media/news-and-media/covid19-update-03112021',\n",
       " 'https://governor.ohio.gov/wps/portal/gov/governor/media/news-and-media/cincinnati-columbus-pop-up-mass-vaccination-sites-03102021',\n",
       " 'https://governor.ohio.gov/wps/portal/gov/governor/media/news-and-media/day-of-remembrance-in-honor-of-lives-lost-to-covid19-03092021',\n",
       " 'https://governor.ohio.gov/wps/portal/gov/governor/media/news-and-media/covid19-update-03082021',\n",
       " 'https://governor.ohio.gov/wps/portal/gov/governor/media/news-and-media/dewine-fema-announce-mass-vaccination-clinic-at-csu-wolstein-center-03052021',\n",
       " 'https://governor.ohio.gov/wps/portal/gov/governor/media/news-and-media/regional-mass-vaccination-sites-03052021',\n",
       " 'https://governor.ohio.gov/wps/portal/gov/governor/media/news-and-media/dewine-urges-ohioans-to-remain-committed-to-safety-practices-announces-measurement-for-lifting-health-orders-03052021',\n",
       " 'https://governor.ohio.gov/wps/portal/gov/governor/media/news-and-media/health-orders-re-mass-gatherings-sports-entertainment-venues-03022021',\n",
       " 'https://governor.ohio.gov/wps/portal/gov/governor/media/news-and-media/covid19-update-03012021',\n",
       " 'https://governor.ohio.gov/wps/portal/gov/governor/media/news-and-media/ohio-first-in-site-selection-governors-cup-2020-rankings-03012021',\n",
       " 'https://governor.ohio.gov/wps/portal/gov/governor/media/news-and-media/covid19-update-02252021',\n",
       " 'https://governor.ohio.gov/wps/portal/gov/governor/media/news-and-media/flags-lowered-for-odnr-officer-02242021',\n",
       " 'https://governor.ohio.gov/wps/portal/gov/governor/media/news-and-media/orders-flags-lowered-for-500000-americans-killed-by-covid19-02232021',\n",
       " 'https://governor.ohio.gov/wps/portal/gov/governor/media/news-and-media/new-ohio-state-park-02232021',\n",
       " 'https://governor.ohio.gov/wps/portal/gov/governor/media/news-and-media/governor-first-lady-receive-second-doses-covid19-vaccine-02232021',\n",
       " 'https://governor.ohio.gov/wps/portal/gov/governor/media/news-and-media/covid19-update-02222021',\n",
       " 'https://governor.ohio.gov/wps/portal/gov/governor/media/news-and-media/new-projects-expected-to-create-+more-than-51-million-02222021',\n",
       " 'https://governor.ohio.gov/wps/portal/gov/governor/media/news-and-media/activates-national-guard-assist-debris-02192021',\n",
       " 'https://governor.ohio.gov/wps/portal/gov/governor/media/news-and-media/dewine-declares-state-of-emergency-in-lawrence-county-02172021',\n",
       " 'https://governor.ohio.gov/wps/portal/gov/governor/media/news-and-media/covid19-update-02162021',\n",
       " 'https://governor.ohio.gov/wps/portal/gov/governor/media/news-and-media/covid19-update-2112021',\n",
       " 'https://governor.ohio.gov/wps/portal/gov/governor/media/news-and-media/school-districts-to-keep-in-person-learning-committment-02122021',\n",
       " 'https://governor.ohio.gov/wps/portal/gov/governor/media/news-and-media/health-amended-order-reopening-food-service-stations-02112021',\n",
       " 'https://governor.ohio.gov/wps/portal/gov/governor/media/news-and-media/covid19-update-02092021',\n",
       " 'https://governor.ohio.gov/wps/portal/gov/governor/media/news-and-media/executive-budget-proposal-reaffirms-committment-to-safer-roads-reducing-distract-driving-02082021',\n",
       " 'https://governor.ohio.gov/wps/portal/gov/governor/media/news-and-media/covid19-update-02042021',\n",
       " 'https://governor.ohio.gov/wps/portal/gov/governor/media/news-and-media/executive-budget-plans-for-public-safety-criminal-justice-02032021',\n",
       " 'https://governor.ohio.gov/wps/portal/gov/governor/media/news-and-media/covid19-update-02022021',\n",
       " 'https://governor.ohio.gov/wps/portal/gov/governor/media/news-and-media/investing-in-ohio-initiative-02012021',\n",
       " 'https://governor.ohio.gov/wps/portal/gov/governor/media/news-and-media/lead-advisory-committee-final-report-01302021',\n",
       " 'https://governor.ohio.gov/wps/portal/gov/governor/media/news-and-media/human-trafficking-task-force-01292021',\n",
       " 'https://governor.ohio.gov/wps/portal/gov/governor/media/news-and-media/covid19-update-01282021',\n",
       " 'https://governor.ohio.gov/wps/portal/gov/governor/media/news-and-media/health-order-01272021',\n",
       " 'https://governor.ohio.gov/wps/portal/gov/governor/media/news-and-media/covid19-update-1262021',\n",
       " 'https://governor.ohio.gov/wps/portal/gov/governor/media/news-and-media/cleveland-innovation-district-01252021',\n",
       " 'https://governor.ohio.gov/wps/portal/gov/governor/media/news-and-media/portman-statement-1252021',\n",
       " 'https://governor.ohio.gov/wps/portal/gov/governor/media/news-and-media/new-projects-expected-to-create-more-than-347-million-01252021',\n",
       " 'https://governor.ohio.gov/wps/portal/gov/governor/media/news-and-media/executive-order-1222021',\n",
       " 'https://governor.ohio.gov/wps/portal/gov/governor/media/news-and-media/covid19-update-1212021',\n",
       " 'https://governor.ohio.gov/wps/portal/gov/governor/media/news-and-media/puco-nomination-1202021',\n",
       " 'https://governor.ohio.gov/wps/portal/gov/governor/media/news-and-media/covid19-update-01192021',\n",
       " 'https://governor.ohio.gov/wps/portal/gov/governor/media/news-and-media/flags-lowered-toledo-police-officer-01182021',\n",
       " 'https://governor.ohio.gov/wps/portal/gov/governor/media/news-and-media/dewine-authorize-ohio-national-guard-air-federal-authorities-01152021',\n",
       " 'https://governor.ohio.gov/wps/portal/gov/governor/media/news-and-media/covid19-update-01142021',\n",
       " 'https://governor.ohio.gov/wps/portal/gov/governor/media/news-and-media/dewine-ginther-discuss-safety-measures-01142021',\n",
       " 'https://governor.ohio.gov/wps/portal/gov/governor/media/news-and-media/signs-bills-01132021',\n",
       " 'https://governor.ohio.gov/wps/portal/gov/governor/media/news-and-media/covid19-update-01122021',\n",
       " 'https://governor.ohio.gov/wps/portal/gov/governor/media/news-and-media/flags-lowered-01112021',\n",
       " 'https://governor.ohio.gov/wps/portal/gov/governor/media/news-and-media/signs-bills-and-veto-01112021',\n",
       " 'https://governor.ohio.gov/wps/portal/gov/governor/media/news-and-media/signs-bills-01092021',\n",
       " 'https://governor.ohio.gov/wps/portal/gov/governor/media/news-and-media/signs-bills-01082021',\n",
       " 'https://governor.ohio.gov/wps/portal/gov/governor/media/news-and-media/statement-susan-allan-block-01082021',\n",
       " 'https://governor.ohio.gov/wps/portal/gov/governor/media/news-and-media/covid19-update-01072020',\n",
       " 'https://governor.ohio.gov/wps/portal/gov/governor/media/news-and-media/dewine-statement-01062021',\n",
       " 'https://governor.ohio.gov/wps/portal/gov/governor/media/news-and-media/covid19-update-01052021',\n",
       " 'https://governor.ohio.gov/wps/portal/gov/governor/media/news-and-media/dewine-signs-sb175-01042021',\n",
       " 'https://governor.ohio.gov/wps/portal/gov/governor/media/news-and-media/health-order-signed-12312020',\n",
       " 'https://governor.ohio.gov/wps/portal/gov/governor/media/news-and-media/executive-order-12302020',\n",
       " 'https://governor.ohio.gov/wps/portal/gov/governor/media/news-and-media/covid19-update-12302020',\n",
       " 'https://governor.ohio.gov/wps/portal/gov/governor/media/news-and-media/signs-bills-12302020',\n",
       " 'https://governor.ohio.gov/wps/portal/gov/governor/media/news-and-media/signs-bills-12292020',\n",
       " 'https://governor.ohio.gov/wps/portal/gov/governor/media/news-and-media/covid19-update-12232020',\n",
       " 'https://governor.ohio.gov/wps/portal/gov/governor/media/news-and-media/h2ohio-first-year-accomplishments-12222020',\n",
       " 'https://governor.ohio.gov/wps/portal/gov/governor/media/news-and-media/signs-bills-12212020',\n",
       " 'https://governor.ohio.gov/wps/portal/gov/governor/media/news-and-media/covid19-update-12212020',\n",
       " 'https://governor.ohio.gov/wps/portal/gov/governor/media/news-and-media/first-vaccines-administered-to-ohio-nursing-facility-12182021',\n",
       " 'https://governor.ohio.gov/wps/portal/gov/governor/media/news-and-media/signs-bills-12182020',\n",
       " 'https://governor.ohio.gov/wps/portal/gov/governor/media/news-and-media/issues-reprieves-12182020',\n",
       " 'https://governor.ohio.gov/wps/portal/gov/governor/media/news-and-media/Major-Investment-in-Battle-Against-Opioids-12172020',\n",
       " 'https://governor.ohio.gov/wps/portal/gov/governor/media/news-and-media/covid19-update-12172020',\n",
       " 'https://governor.ohio.gov/wps/portal/gov/governor/media/news-and-media/covid19-update-12152020',\n",
       " 'https://governor.ohio.gov/wps/portal/gov/governor/media/news-and-media/covid19-update-12142020',\n",
       " 'https://governor.ohio.gov/wps/portal/gov/governor/media/news-and-media/authorizes-ohio-national-guard-to-provide-security-support-at-local-jails-12112020',\n",
       " 'https://governor.ohio.gov/wps/portal/gov/governor/media/news-and-media/covid19-update-12102020',\n",
       " 'https://governor.ohio.gov/wps/portal/gov/governor/media/news-and-media/first-lady-dewine-encourages-more-children-to-enroll-in-imagination-library-12092020',\n",
       " 'https://governor.ohio.gov/wps/portal/gov/governor/media/news-and-media/new-projects-expected-to-create-more-than-864-million-in-investments-12072020',\n",
       " 'https://governor.ohio.gov/wps/portal/gov/governor/media/news-and-media/dewine-urges-congress-to-pass-additional-covid19-relief-12072020',\n",
       " 'https://governor.ohio.gov/wps/portal/gov/governor/media/news-and-media/covid19-update-12072020',\n",
       " 'https://governor.ohio.gov/wps/portal/gov/governor/media/news-and-media/orders-flags-lowered-on-pearl-harbor-remembrance-day-12062020',\n",
       " 'https://governor.ohio.gov/wps/portal/gov/governor/media/news-and-media/law-enforcement-standard-12042020',\n",
       " 'https://governor.ohio.gov/wps/portal/gov/governor/media/news-and-media/dewine-vetoes-bill-12032020',\n",
       " 'https://governor.ohio.gov/wps/portal/gov/governor/media/news-and-media/covid19-update-12032020',\n",
       " 'https://governor.ohio.gov/wps/portal/gov/governor/media/news-and-media/covid10-update-12042020',\n",
       " 'https://governor.ohio.gov/wps/portal/gov/governor/media/news-and-media/dewine-visits-rss-warehouse-site-12012020',\n",
       " 'https://governor.ohio.gov/wps/portal/gov/governor/media/news-and-media/covid19-update-11302020',\n",
       " 'https://governor.ohio.gov/wps/portal/gov/governor/media/news-and-media/executive-order-signed-11252020',\n",
       " 'https://governor.ohio.gov/wps/portal/gov/governor/media/news-and-media/dewine-husted-declare-thanksgiving-day-a-day-of-prayer-gratitude-remembrance-11252020',\n",
       " 'https://governor.ohio.gov/wps/portal/gov/governor/media/news-and-media/covid19-update-11252020',\n",
       " 'https://governor.ohio.gov/wps/portal/gov/governor/media/news-and-media/covid19-update-11232020',\n",
       " 'https://governor.ohio.gov/wps/portal/gov/governor/media/news-and-media/signs-bills-into-laws-11232020',\n",
       " 'https://governor.ohio.gov/wps/portal/gov/governor/media/news-and-media/children-services-transformation-final-report-11202020',\n",
       " 'https://governor.ohio.gov/wps/portal/gov/governor/media/news-and-media/resignation-puco-chairman-11202020',\n",
       " 'https://governor.ohio.gov/wps/portal/gov/governor/media/news-and-media/health-order-encouraging-ohioans-to-stay-home',\n",
       " 'https://governor.ohio.gov/wps/portal/gov/governor/media/news-and-media/covid19-update-11192020',\n",
       " 'https://governor.ohio.gov/wps/portal/gov/governor/media/news-and-media/covid19-update-11172020',\n",
       " 'https://governor.ohio.gov/wps/portal/gov/governor/media/news-and-media/health-order-limit-mass-gathering-11162020',\n",
       " 'https://governor.ohio.gov/wps/portal/gov/governor/media/news-and-media/health-order-enforcing-mask-wearing-retail-locations-11132020',\n",
       " 'https://governor.ohio.gov/wps/portal/gov/governor/media/news-and-media/covid19-update-11122020',\n",
       " 'https://governor.ohio.gov/wps/portal/gov/governor/media/news-and-media/statewide-address-11112020',\n",
       " 'https://governor.ohio.gov/wps/portal/gov/governor/media/news-and-media/covid19-update-11092020',\n",
       " 'https://governor.ohio.gov/wps/portal/gov/governor/media/news-and-media/covid19-update-11052020',\n",
       " 'https://governor.ohio.gov/wps/portal/gov/governor/media/news-and-media/governor-dewine-open-letter-to-ohioans-11012020',\n",
       " 'https://governor.ohio.gov/wps/portal/gov/governor/media/news-and-media/covid19-update-10282020',\n",
       " 'https://governor.ohio.gov/wps/portal/gov/governor/media/news-and-media/bill-signing-10282020',\n",
       " 'https://governor.ohio.gov/wps/portal/gov/governor/media/news-and-media/requests-bwc-send-5-billion-dividend-to-ohio-employer-10282020',\n",
       " 'https://governor.ohio.gov/wps/portal/gov/governor/media/news-and-media/covid19-update-10262020',\n",
       " 'https://governor.ohio.gov/wps/portal/gov/governor/media/news-and-media/dewine-statement-confirmation-of-amy-coney-barrett-10262020',\n",
       " 'https://governor.ohio.gov/wps/portal/gov/governor/media/news-and-media/statement-on-controlling-board-approval-10262020',\n",
       " 'https://governor.ohio.gov/wps/portal/gov/governor/media/news-and-media/statement-on-death-of-bob-murray-10262020',\n",
       " 'https://governor.ohio.gov/wps/portal/gov/governor/media/news-and-media/cares-act-funding-announcement-10232020',\n",
       " 'https://governor.ohio.gov/wps/portal/gov/governor/media/news-and-media/lowered-flags-hamilton-county-corporal-adam-mcmillan-10232020',\n",
       " 'https://governor.ohio.gov/wps/portal/gov/governor/media/news-and-media/bill-signing-10222020',\n",
       " 'https://governor.ohio.gov/wps/portal/gov/governor/media/news-and-media/covid19-update-10222020',\n",
       " 'https://governor.ohio.gov/wps/portal/gov/governor/media/news-and-media/bill-signing-10202020',\n",
       " 'https://governor.ohio.gov/wps/portal/gov/governor/media/news-and-media/covid19-update-10202020',\n",
       " 'https://governor.ohio.gov/wps/portal/gov/governor/media/news-and-media/signs-bills-10152020',\n",
       " 'https://governor.ohio.gov/wps/portal/gov/governor/media/news-and-media/health-order-signed-10162020',\n",
       " 'https://governor.ohio.gov/wps/portal/gov/governor/media/news-and-media/covid19-update-10152020',\n",
       " 'https://governor.ohio.gov/wps/portal/gov/governor/media/news-and-media/bill-signing-10132020',\n",
       " 'https://governor.ohio.gov/wps/portal/gov/governor/media/news-and-media/covid19-update-10132020',\n",
       " 'https://governor.ohio.gov/wps/portal/gov/governor/media/news-and-media/statement-joe-morgan-10122020',\n",
       " 'https://governor.ohio.gov/wps/portal/gov/governor/media/news-and-media/covid19-update-10082020',\n",
       " 'https://governor.ohio.gov/wps/portal/gov/governor/media/news-and-media/covid19-update-10062020',\n",
       " 'https://governor.ohio.gov/wps/portal/gov/governor/media/news-and-media/flags-lowered-for-national-fallen-firefighters-memorial-service-10042020',\n",
       " 'https://governor.ohio.gov/wps/portal/gov/governor/media/news-and-media/day-of-prayer-10032020',\n",
       " 'https://governor.ohio.gov/wps/portal/gov/governor/media/news-and-media/governor-first-lady-lt-governor-test-negative-10022020',\n",
       " 'https://governor.ohio.gov/wps/portal/gov/governor/media/news-and-media/dewine-statement-on-potus-first-lady-testing-positive-10022020',\n",
       " 'https://governor.ohio.gov/wps/portal/gov/governor/media/news-and-media/signs-bill-into-law-10022020',\n",
       " 'https://governor.ohio.gov/wps/portal/gov/governor/media/news-and-media/covid19-update-10022020',\n",
       " 'https://governor.ohio.gov/wps/portal/gov/governor/media/news-and-media/covid19-update-09292020',\n",
       " 'https://governor.ohio.gov/wps/portal/gov/governor/media/news-and-media/statement-on-abbott-binaxnow-tests-09282020',\n",
       " 'https://governor.ohio.gov/wps/portal/gov/governor/media/news-and-media/new-projects-expected-to-create-more-than-1.5-billion-in-investments-09282020',\n",
       " 'https://governor.ohio.gov/wps/portal/gov/governor/media/news-and-media/statement-on-nomination-judge-amy-coney-barrett-09262020',\n",
       " 'https://governor.ohio.gov/wps/portal/gov/governor/media/news-and-media/health-order-signed-09252020',\n",
       " 'https://governor.ohio.gov/wps/portal/gov/governor/media/news-and-media/covid19-update-09242020',\n",
       " 'https://governor.ohio.gov/wps/portal/gov/governor/media/news-and-media/health-order-signed-09232020',\n",
       " 'https://governor.ohio.gov/wps/portal/gov/governor/media/news-and-media/covid19-update-09222020',\n",
       " 'https://governor.ohio.gov/wps/portal/gov/governor/media/news-and-media/flags-lowered-for-justice-ginsburg-09192020',\n",
       " 'https://governor.ohio.gov/wps/portal/gov/governor/media/news-and-media/statement-on-justice-ginsburg-09192020',\n",
       " 'https://governor.ohio.gov/wps/portal/gov/governor/media/news-and-media/president-trump-letter-09172020',\n",
       " 'https://governor.ohio.gov/wps/portal/gov/governor/media/news-and-media/covid19-update-09172020',\n",
       " 'https://governor.ohio.gov/wps/portal/gov/governor/media/news-and-media/covid19-update-09152020',\n",
       " 'https://governor.ohio.gov/wps/portal/gov/governor/media/news-and-media/signs-bills-09162020',\n",
       " 'https://governor.ohio.gov/wps/portal/gov/governor/media/news-and-media/signs-bill-and-executive-order-09142020',\n",
       " 'https://governor.ohio.gov/wps/portal/gov/governor/media/news-and-media/covid19-update-09102020',\n",
       " 'https://governor.ohio.gov/wps/portal/gov/governor/media/news-and-media/governor-names-new-health-director-09102929',\n",
       " 'https://governor.ohio.gov/wps/portal/gov/governor/media/news-and-media/dewine-orders-flags-lowered-09102020',\n",
       " 'https://governor.ohio.gov/wps/portal/gov/governor/media/news-and-media/withdraws-from-consideration-09102020',\n",
       " 'https://governor.ohio.gov/wps/portal/gov/governor/media/news-and-media/covid19-update-09082020',\n",
       " 'https://governor.ohio.gov/wps/portal/gov/governor/media/news-and-media/spectator-variance-for-browns-bengals-09052020',\n",
       " 'https://governor.ohio.gov/wps/portal/gov/governor/media/news-and-media/health-order-signed-09042020',\n",
       " 'https://governor.ohio.gov/wps/portal/gov/governor/media/news-and-media/dewine-issues-reprieves-09042020',\n",
       " 'https://governor.ohio.gov/wps/portal/gov/governor/media/news-and-media/flags-lowered-09042020',\n",
       " 'https://governor.ohio.gov/wps/portal/gov/governor/media/news-and-media/covid19-update-09032020',\n",
       " 'https://governor.ohio.gov/wps/portal/gov/governor/media/news-and-media/covid19-update-09012020',\n",
       " 'https://governor.ohio.gov/wps/portal/gov/governor/media/news-and-media/health-order-08312020',\n",
       " 'https://governor.ohio.gov/wps/portal/gov/governor/media/news-and-media/first-year-progress-on-ohio-governors-imagination-library',\n",
       " 'https://governor.ohio.gov/wps/portal/gov/governor/media/news-and-media/projects_expected_to_create_more_than_%2468_million_in_investments',\n",
       " 'https://governor.ohio.gov/wps/portal/gov/governor/media/news-and-media/covid19-update-08272020',\n",
       " 'https://governor.ohio.gov/wps/portal/gov/governor/media/news-and-media/dewine-requests-department-of-defense-to-address-pfas-issues-08272020',\n",
       " 'https://governor.ohio.gov/wps/portal/gov/governor/media/news-and-media/covid19-update-08252020',\n",
       " 'https://governor.ohio.gov/wps/portal/gov/governor/media/news-and-media/signs-hb230-08252020',\n",
       " 'https://governor.ohio.gov/wps/portal/gov/governor/media/news-and-media/leadership-change-ohio-department-of-insurance-08242020',\n",
       " 'https://governor.ohio.gov/wps/portal/gov/governor/media/news-and-media/health-order-signed-08212020',\n",
       " 'https://governor.ohio.gov/wps/portal/gov/governor/media/news-and-media/additional-reopening-guidelines-08212020',\n",
       " 'https://governor.ohio.gov/wps/portal/gov/governor/media/news-and-media/covid19-updated-08202020',\n",
       " 'https://governor.ohio.gov/wps/portal/gov/governor/media/news-and-media/covid19-update-08182020',\n",
       " 'https://governor.ohio.gov/wps/portal/gov/governor/media/news-and-media/covid19-update-08132020',\n",
       " 'https://governor.ohio.gov/wps/portal/gov/governor/media/news-and-media/covid19-update-08112020',\n",
       " 'https://governor.ohio.gov/wps/portal/gov/governor/media/news-and-media/execuitve-order-signed-08102020',\n",
       " 'https://governor.ohio.gov/wps/portal/gov/governor/media/news-and-media/executive-orders-signed-08082020',\n",
       " 'https://governor.ohio.gov/wps/portal/gov/governor/media/news-and-media/dewine-first-lady-test-negative-for-covid19-08082020',\n",
       " 'https://governor.ohio.gov/wps/portal/gov/governor/media/news-and-media/covid19-update-08072020',\n",
       " 'https://governor.ohio.gov/wps/portal/gov/governor/media/news-and-media/dewine-first-lady-staff-all-negative-for-covid19-08062020',\n",
       " 'https://governor.ohio.gov/wps/portal/gov/governor/media/news-and-media/dewine-tests-positive-08062020',\n",
       " 'https://governor.ohio.gov/wps/portal/gov/governor/media/news-and-media/covid19-update-08042020',\n",
       " 'https://governor.ohio.gov/wps/portal/gov/governor/media/news-and-media/announces-launch-of-top-jobs-list-08032020',\n",
       " 'https://governor.ohio.gov/wps/portal/gov/governor/media/news-and-media/executive-order-signed-07312020',\n",
       " 'https://governor.ohio.gov/wps/portal/gov/governor/media/news-and-media/health-order-signed-07302020',\n",
       " 'https://governor.ohio.gov/wps/portal/gov/governor/media/news-and-media/dewine-issues-statement-congratulating-bob-cupp-07302020',\n",
       " 'https://governor.ohio.gov/wps/portal/gov/governor/media/news-and-media/covid19-update-07302020',\n",
       " 'https://governor.ohio.gov/wps/portal/gov/governor/media/news-and-media/statement-from-dewine-on-hydroxychloroquine',\n",
       " 'https://governor.ohio.gov/wps/portal/gov/governor/media/news-and-media/covid19-update-07282020',\n",
       " 'https://governor.ohio.gov/wps/portal/gov/governor/media/news-and-media/new_projects_expected_to_create_more_than_%24304_million_in_investments',\n",
       " 'https://governor.ohio.gov/wps/portal/gov/governor/media/news-and-media/governor_dewine_appoints_wilkin_to_the_fourth_district_court_of_appeals',\n",
       " 'https://governor.ohio.gov/wps/portal/gov/governor/media/news-and-media/covid19-update-07232020',\n",
       " 'https://governor.ohio.gov/wps/portal/gov/governor/media/news-and-media/covid19-update-07222020',\n",
       " 'https://governor.ohio.gov/wps/portal/gov/governor/media/news-and-media/dewine-statement-criminal-complaint-07212020',\n",
       " 'https://governor.ohio.gov/wps/portal/gov/governor/media/news-and-media/dewine-orders-flags-lowered-07182020',\n",
       " 'https://governor.ohio.gov/wps/portal/gov/governor/media/news-and-media/dewine-statement-on-congressman-john-lewis-death-07182020',\n",
       " 'https://governor.ohio.gov/wps/portal/gov/governor/media/news-and-media/health-order-signed-07172020',\n",
       " 'https://governor.ohio.gov/wps/portal/gov/governor/media/news-and-media/dewine-vetoes-bill-07172020',\n",
       " 'https://governor.ohio.gov/wps/portal/gov/governor/media/news-and-media/covid19-update-0716-2020',\n",
       " 'https://governor.ohio.gov/wps/portal/gov/governor/media/news-and-media/dewine-implores-ohioans-to-unite-07152020',\n",
       " 'https://governor.ohio.gov/wps/portal/gov/governor/media/news-and-media/dewine-signs-bill-07142020',\n",
       " ...]"
      ]
     },
     "execution_count": 64,
     "metadata": {},
     "output_type": "execute_result"
    }
   ],
   "source": [
    "links"
   ]
  },
  {
   "cell_type": "code",
   "execution_count": 76,
   "id": "7b9d1b97",
   "metadata": {},
   "outputs": [
    {
     "name": "stdout",
     "output_type": "stream",
     "text": [
      "start index: 53\n",
      "end index: 312\n"
     ]
    }
   ],
   "source": [
    "# hard code the index for the 2023 dates (previous methods to filter weren't working)\n",
    "start = links.index('https://governor.ohio.gov/wps/portal/gov/governor/media/news-and-media/governor-dewine-vetoes-house-bill-68')\n",
    "print('start index: ' + str(start))\n",
    "\n",
    "end = links.index('https://governor.ohio.gov/wps/portal/gov/governor/media/news-and-media/Governor-DeWine-Signs-Bills-Into-Law-01032023')\n",
    "print('end index: ' + str(end))"
   ]
  },
  {
   "cell_type": "code",
   "execution_count": 78,
   "id": "9fc9b0fe",
   "metadata": {},
   "outputs": [
    {
     "data": {
      "text/plain": [
       "260"
      ]
     },
     "execution_count": 78,
     "metadata": {},
     "output_type": "execute_result"
    }
   ],
   "source": [
    "# subset to 2023 links\n",
    "links_2023 = links[53:313]\n",
    "len(links_2023)"
   ]
  },
  {
   "cell_type": "code",
   "execution_count": 81,
   "id": "4baa6c16",
   "metadata": {},
   "outputs": [
    {
     "data": {
      "text/html": [
       "<div>\n",
       "<style scoped>\n",
       "    .dataframe tbody tr th:only-of-type {\n",
       "        vertical-align: middle;\n",
       "    }\n",
       "\n",
       "    .dataframe tbody tr th {\n",
       "        vertical-align: top;\n",
       "    }\n",
       "\n",
       "    .dataframe thead th {\n",
       "        text-align: right;\n",
       "    }\n",
       "</style>\n",
       "<table border=\"1\" class=\"dataframe\">\n",
       "  <thead>\n",
       "    <tr style=\"text-align: right;\">\n",
       "      <th></th>\n",
       "      <th>link</th>\n",
       "    </tr>\n",
       "  </thead>\n",
       "  <tbody>\n",
       "    <tr>\n",
       "      <th>0</th>\n",
       "      <td>https://governor.ohio.gov/wps/portal/gov/gover...</td>\n",
       "    </tr>\n",
       "    <tr>\n",
       "      <th>1</th>\n",
       "      <td>https://governor.ohio.gov/wps/portal/gov/gover...</td>\n",
       "    </tr>\n",
       "    <tr>\n",
       "      <th>2</th>\n",
       "      <td>https://governor.ohio.gov/wps/portal/gov/gover...</td>\n",
       "    </tr>\n",
       "    <tr>\n",
       "      <th>3</th>\n",
       "      <td>https://governor.ohio.gov/wps/portal/gov/gover...</td>\n",
       "    </tr>\n",
       "    <tr>\n",
       "      <th>4</th>\n",
       "      <td>https://governor.ohio.gov/wps/portal/gov/gover...</td>\n",
       "    </tr>\n",
       "    <tr>\n",
       "      <th>...</th>\n",
       "      <td>...</td>\n",
       "    </tr>\n",
       "    <tr>\n",
       "      <th>255</th>\n",
       "      <td>https://governor.ohio.gov/wps/portal/gov/gover...</td>\n",
       "    </tr>\n",
       "    <tr>\n",
       "      <th>256</th>\n",
       "      <td>https://governor.ohio.gov/wps/portal/gov/gover...</td>\n",
       "    </tr>\n",
       "    <tr>\n",
       "      <th>257</th>\n",
       "      <td>https://governor.ohio.gov/wps/portal/gov/gover...</td>\n",
       "    </tr>\n",
       "    <tr>\n",
       "      <th>258</th>\n",
       "      <td>https://governor.ohio.gov/wps/portal/gov/gover...</td>\n",
       "    </tr>\n",
       "    <tr>\n",
       "      <th>259</th>\n",
       "      <td>https://governor.ohio.gov/wps/portal/gov/gover...</td>\n",
       "    </tr>\n",
       "  </tbody>\n",
       "</table>\n",
       "<p>260 rows × 1 columns</p>\n",
       "</div>"
      ],
      "text/plain": [
       "                                                  link\n",
       "0    https://governor.ohio.gov/wps/portal/gov/gover...\n",
       "1    https://governor.ohio.gov/wps/portal/gov/gover...\n",
       "2    https://governor.ohio.gov/wps/portal/gov/gover...\n",
       "3    https://governor.ohio.gov/wps/portal/gov/gover...\n",
       "4    https://governor.ohio.gov/wps/portal/gov/gover...\n",
       "..                                                 ...\n",
       "255  https://governor.ohio.gov/wps/portal/gov/gover...\n",
       "256  https://governor.ohio.gov/wps/portal/gov/gover...\n",
       "257  https://governor.ohio.gov/wps/portal/gov/gover...\n",
       "258  https://governor.ohio.gov/wps/portal/gov/gover...\n",
       "259  https://governor.ohio.gov/wps/portal/gov/gover...\n",
       "\n",
       "[260 rows x 1 columns]"
      ]
     },
     "execution_count": 81,
     "metadata": {},
     "output_type": "execute_result"
    }
   ],
   "source": [
    "df_links_2023 = pd.DataFrame({'link': links_2023})\n",
    "df_links_2023"
   ]
  },
  {
   "cell_type": "code",
   "execution_count": 83,
   "id": "96b1b851",
   "metadata": {},
   "outputs": [],
   "source": [
    "df_links_2023.to_csv(f'{state}_links.csv', index = False)"
   ]
  },
  {
   "cell_type": "code",
   "execution_count": null,
   "id": "c98067fa",
   "metadata": {},
   "outputs": [],
   "source": [
    "# add blank content, title, and date columns \n",
    "metadata = {'content': [np.nan], \n",
    "           'title': [np.nan], \n",
    "           'date': [np.nan]}\n",
    "\n",
    "metadata_df = pd.DataFrame(metadata)\n",
    "\n",
    "links_df = pd.concat([df_links_2023, metadata_df], axis = 1)"
   ]
  },
  {
   "cell_type": "code",
   "execution_count": 101,
   "id": "e3eb362a",
   "metadata": {},
   "outputs": [
    {
     "data": {
      "text/html": [
       "<div>\n",
       "<style scoped>\n",
       "    .dataframe tbody tr th:only-of-type {\n",
       "        vertical-align: middle;\n",
       "    }\n",
       "\n",
       "    .dataframe tbody tr th {\n",
       "        vertical-align: top;\n",
       "    }\n",
       "\n",
       "    .dataframe thead th {\n",
       "        text-align: right;\n",
       "    }\n",
       "</style>\n",
       "<table border=\"1\" class=\"dataframe\">\n",
       "  <thead>\n",
       "    <tr style=\"text-align: right;\">\n",
       "      <th></th>\n",
       "      <th>link</th>\n",
       "      <th>content</th>\n",
       "      <th>title</th>\n",
       "      <th>date</th>\n",
       "    </tr>\n",
       "  </thead>\n",
       "  <tbody>\n",
       "    <tr>\n",
       "      <th>0</th>\n",
       "      <td>https://governor.ohio.gov/wps/portal/gov/gover...</td>\n",
       "      <td>NaN</td>\n",
       "      <td>NaN</td>\n",
       "      <td>NaN</td>\n",
       "    </tr>\n",
       "    <tr>\n",
       "      <th>1</th>\n",
       "      <td>https://governor.ohio.gov/wps/portal/gov/gover...</td>\n",
       "      <td>NaN</td>\n",
       "      <td>NaN</td>\n",
       "      <td>NaN</td>\n",
       "    </tr>\n",
       "    <tr>\n",
       "      <th>2</th>\n",
       "      <td>https://governor.ohio.gov/wps/portal/gov/gover...</td>\n",
       "      <td>NaN</td>\n",
       "      <td>NaN</td>\n",
       "      <td>NaN</td>\n",
       "    </tr>\n",
       "    <tr>\n",
       "      <th>3</th>\n",
       "      <td>https://governor.ohio.gov/wps/portal/gov/gover...</td>\n",
       "      <td>NaN</td>\n",
       "      <td>NaN</td>\n",
       "      <td>NaN</td>\n",
       "    </tr>\n",
       "    <tr>\n",
       "      <th>4</th>\n",
       "      <td>https://governor.ohio.gov/wps/portal/gov/gover...</td>\n",
       "      <td>NaN</td>\n",
       "      <td>NaN</td>\n",
       "      <td>NaN</td>\n",
       "    </tr>\n",
       "  </tbody>\n",
       "</table>\n",
       "</div>"
      ],
      "text/plain": [
       "                                                link  content  title  date\n",
       "0  https://governor.ohio.gov/wps/portal/gov/gover...      NaN    NaN   NaN\n",
       "1  https://governor.ohio.gov/wps/portal/gov/gover...      NaN    NaN   NaN\n",
       "2  https://governor.ohio.gov/wps/portal/gov/gover...      NaN    NaN   NaN\n",
       "3  https://governor.ohio.gov/wps/portal/gov/gover...      NaN    NaN   NaN\n",
       "4  https://governor.ohio.gov/wps/portal/gov/gover...      NaN    NaN   NaN"
      ]
     },
     "execution_count": 101,
     "metadata": {},
     "output_type": "execute_result"
    }
   ],
   "source": [
    "links_df.head()"
   ]
  },
  {
   "cell_type": "markdown",
   "id": "5ad217b2",
   "metadata": {},
   "source": [
    "## Scrape content \n",
    "`Selenium`"
   ]
  },
  {
   "cell_type": "markdown",
   "id": "1e8e5325",
   "metadata": {},
   "source": [
    "### Test on one link"
   ]
  },
  {
   "cell_type": "code",
   "execution_count": 98,
   "id": "7f663ad2",
   "metadata": {},
   "outputs": [
    {
     "data": {
      "text/plain": [
       "'Governor DeWine Signs Bills Into Law'"
      ]
     },
     "execution_count": 98,
     "metadata": {},
     "output_type": "execute_result"
    }
   ],
   "source": [
    "# test one link  \n",
    "driver = webdriver.Chrome()\n",
    "driver.get(\"https://governor.ohio.gov/media/news-and-media/Governor-DeWine-Signs-Bills-Into-Law-01032023\")\n",
    "#time.sleep(5)\n",
    "\n",
    "wait = WebDriverWait(driver, 5)\n",
    "\n",
    "title = wait.until(EC.presence_of_element_located((By.CLASS_NAME, 'odx-content__title'))).text\n",
    "\n",
    "date = driver.find_element(By.XPATH, '//*[@id=\"odx-main-content\"]/article/div/div[1]/div/span').text\n",
    "\n",
    "content = driver.find_element(By.XPATH,'//*[@id=\"js-odx-content__body\"]').text\n",
    "\n",
    "driver.quit()"
   ]
  },
  {
   "cell_type": "code",
   "execution_count": 108,
   "id": "9ff0c27b",
   "metadata": {},
   "outputs": [
    {
     "data": {
      "text/plain": [
       "'content already existing for https://governor.ohio.gov/wps/portal/gov/governor/media/news-and-media/governor-dewine-vetoes-house-bill-68'"
      ]
     },
     "execution_count": 108,
     "metadata": {},
     "output_type": "execute_result"
    },
    {
     "data": {
      "text/plain": [
       "'content already existing for https://governor.ohio.gov/wps/portal/gov/governor/media/news-and-media/governor-dewine-signs-bill-into-law-12-28'"
      ]
     },
     "execution_count": 108,
     "metadata": {},
     "output_type": "execute_result"
    },
    {
     "data": {
      "text/plain": [
       "'content already existing for https://governor.ohio.gov/wps/portal/gov/governor/media/news-and-media/governor-dewine-issues-statement-on-death-of-former-us-senator-herb-kohl'"
      ]
     },
     "execution_count": 108,
     "metadata": {},
     "output_type": "execute_result"
    },
    {
     "data": {
      "text/plain": [
       "'content already existing for https://governor.ohio.gov/wps/portal/gov/governor/media/news-and-media/governor-dewine-announces-financial-support-for-east-palestine-businesses'"
      ]
     },
     "execution_count": 108,
     "metadata": {},
     "output_type": "execute_result"
    },
    {
     "data": {
      "text/plain": [
       "'content already existing for https://governor.ohio.gov/wps/portal/gov/governor/media/news-and-media/governor-dewine-announces-state-support-of-46-hisotric-rehabilitation-projects'"
      ]
     },
     "execution_count": 108,
     "metadata": {},
     "output_type": "execute_result"
    },
    {
     "data": {
      "text/plain": [
       "'content already existing for https://governor.ohio.gov/wps/portal/gov/governor/media/news-and-media/ohio-governors-expedited-pardon-project-surpasses-100-pardons-for-reformed-citizens'"
      ]
     },
     "execution_count": 108,
     "metadata": {},
     "output_type": "execute_result"
    }
   ],
   "source": [
    "# try on a small amount\n",
    "for link in links_df.link[0:6]:\n",
    "    get_ohio_content(link, links_df) "
   ]
  },
  {
   "cell_type": "code",
   "execution_count": null,
   "id": "b4ea9e8c",
   "metadata": {},
   "outputs": [],
   "source": [
    "# create function\n",
    "def get_ohio_content(link, df): \n",
    "    try: \n",
    "        # check if content has already been pulled\n",
    "        result = df.loc[df.link == link, 'content'].notnull().all()\n",
    "        \n",
    "        if result:\n",
    "            return f'content already existing for {link}' \n",
    "        else: \n",
    "            try: \n",
    "                driver = webdriver.Chrome()\n",
    "                driver.get(link)\n",
    "                wait = WebDriverWait(driver, 5)\n",
    "                \n",
    "                title = wait.until(EC.presence_of_element_located((By.CLASS_NAME, 'odx-content__title'))).text\n",
    "                date = driver.find_element(By.XPATH, '//*[@id=\"odx-main-content\"]/article/div/div[1]/div/span').text\n",
    "                content = driver.find_element(By.XPATH,'//*[@id=\"js-odx-content__body\"]').text\n",
    "                \n",
    "                driver.quit()\n",
    "                df.loc[df.link == link, 'content'] = content\n",
    "                df.loc[df.link == link, 'title'] = title \n",
    "                df.loc[df.link == link, 'date'] = date \n",
    "                return f\"success: content added from {link}\"\n",
    "            except: \n",
    "                pass\n",
    "    except Exception as e: \n",
    "        return f\"unable to gather content from {link} due to {e}\""
   ]
  },
  {
   "cell_type": "markdown",
   "id": "6e48c611",
   "metadata": {},
   "source": [
    "### Scrape content from all links "
   ]
  },
  {
   "cell_type": "code",
   "execution_count": 109,
   "id": "37ae294f",
   "metadata": {},
   "outputs": [
    {
     "data": {
      "text/plain": [
       "'content already existing for https://governor.ohio.gov/wps/portal/gov/governor/media/news-and-media/governor-dewine-vetoes-house-bill-68'"
      ]
     },
     "execution_count": 109,
     "metadata": {},
     "output_type": "execute_result"
    },
    {
     "data": {
      "text/plain": [
       "'content already existing for https://governor.ohio.gov/wps/portal/gov/governor/media/news-and-media/governor-dewine-signs-bill-into-law-12-28'"
      ]
     },
     "execution_count": 109,
     "metadata": {},
     "output_type": "execute_result"
    },
    {
     "data": {
      "text/plain": [
       "'content already existing for https://governor.ohio.gov/wps/portal/gov/governor/media/news-and-media/governor-dewine-issues-statement-on-death-of-former-us-senator-herb-kohl'"
      ]
     },
     "execution_count": 109,
     "metadata": {},
     "output_type": "execute_result"
    },
    {
     "data": {
      "text/plain": [
       "'content already existing for https://governor.ohio.gov/wps/portal/gov/governor/media/news-and-media/governor-dewine-announces-financial-support-for-east-palestine-businesses'"
      ]
     },
     "execution_count": 109,
     "metadata": {},
     "output_type": "execute_result"
    },
    {
     "data": {
      "text/plain": [
       "'content already existing for https://governor.ohio.gov/wps/portal/gov/governor/media/news-and-media/governor-dewine-announces-state-support-of-46-hisotric-rehabilitation-projects'"
      ]
     },
     "execution_count": 109,
     "metadata": {},
     "output_type": "execute_result"
    },
    {
     "data": {
      "text/plain": [
       "'content already existing for https://governor.ohio.gov/wps/portal/gov/governor/media/news-and-media/ohio-governors-expedited-pardon-project-surpasses-100-pardons-for-reformed-citizens'"
      ]
     },
     "execution_count": 109,
     "metadata": {},
     "output_type": "execute_result"
    },
    {
     "data": {
      "text/plain": [
       "'success: content added from https://governor.ohio.gov/wps/portal/gov/governor/media/news-and-media/governor-dewine-announces-new-grant-program-to-reduce-road-salt-runoff-water-contamination'"
      ]
     },
     "execution_count": 109,
     "metadata": {},
     "output_type": "execute_result"
    },
    {
     "data": {
      "text/plain": [
       "'success: content added from https://governor.ohio.gov/wps/portal/gov/governor/media/news-and-media/governor-dewine-orders-flags-lowered-december-19-2023'"
      ]
     },
     "execution_count": 109,
     "metadata": {},
     "output_type": "execute_result"
    },
    {
     "data": {
      "text/plain": [
       "'success: content added from https://governor.ohio.gov/wps/portal/gov/governor/media/news-and-media/governor-dewine-oders-flags-lowered-in-preble-county-december-18'"
      ]
     },
     "execution_count": 109,
     "metadata": {},
     "output_type": "execute_result"
    },
    {
     "data": {
      "text/plain": [
       "'success: content added from https://governor.ohio.gov/wps/portal/gov/governor/media/news-and-media/governor-dewine-announces-guidelines-for-750-million-all-ohio-future-fund'"
      ]
     },
     "execution_count": 109,
     "metadata": {},
     "output_type": "execute_result"
    },
    {
     "data": {
      "text/plain": [
       "'success: content added from https://governor.ohio.gov/wps/portal/gov/governor/media/news-and-media/governor-dewine-lt-governor-husted-announce-super-rapids-grant-recipients'"
      ]
     },
     "execution_count": 109,
     "metadata": {},
     "output_type": "execute_result"
    },
    {
     "data": {
      "text/plain": [
       "'success: content added from https://governor.ohio.gov/wps/portal/gov/governor/media/news-and-media/governor-dewine-signe-sb-34'"
      ]
     },
     "execution_count": 109,
     "metadata": {},
     "output_type": "execute_result"
    },
    {
     "data": {
      "text/plain": [
       "'success: content added from https://governor.ohio.gov/wps/portal/gov/governor/media/news-and-media/governor-dewine-announces-84-million-in-grants-to-protect-ohio-families-from-toxic-lead'"
      ]
     },
     "execution_count": 109,
     "metadata": {},
     "output_type": "execute_result"
    },
    {
     "data": {
      "text/plain": [
       "'success: content added from https://governor.ohio.gov/wps/portal/gov/governor/media/news-and-media/governor-dewine-orders--flags-lowered-in-honor-of-the-life-and-service-us-air-force-senior-airman-brian-kody-johnson'"
      ]
     },
     "execution_count": 109,
     "metadata": {},
     "output_type": "execute_result"
    },
    {
     "data": {
      "text/plain": [
       "'success: content added from https://governor.ohio.gov/wps/portal/gov/governor/media/news-and-media/ohio-expositions-commission-approves-lease-addendum-for-columburs-crew-practice-fields'"
      ]
     },
     "execution_count": 109,
     "metadata": {},
     "output_type": "execute_result"
    },
    {
     "data": {
      "text/plain": [
       "'success: content added from https://governor.ohio.gov/wps/portal/gov/governor/media/news-and-media/governor-dewine-announces-details-for-new-150-million-welcome-home-ohio-program'"
      ]
     },
     "execution_count": 109,
     "metadata": {},
     "output_type": "execute_result"
    },
    {
     "data": {
      "text/plain": [
       "'success: content added from https://governor.ohio.gov/wps/portal/gov/governor/media/news-and-media/new-projects-expected-to-create-1600-jobs-more-than-2-5-billion-in-investments'"
      ]
     },
     "execution_count": 109,
     "metadata": {},
     "output_type": "execute_result"
    },
    {
     "data": {
      "text/plain": [
       "'success: content added from https://governor.ohio.gov/wps/portal/gov/governor/media/news-and-media/governor-dewine-announces-expansion-of-h2ohio'"
      ]
     },
     "execution_count": 109,
     "metadata": {},
     "output_type": "execute_result"
    },
    {
     "data": {
      "text/plain": [
       "'success: content added from https://governor.ohio.gov/wps/portal/gov/governor/media/news-and-media/governor-dewine-lt-governor-husted-announce-worldplay-locating-corporate-headquaters-in-cincinnati'"
      ]
     },
     "execution_count": 109,
     "metadata": {},
     "output_type": "execute_result"
    },
    {
     "data": {
      "text/plain": [
       "'success: content added from https://governor.ohio.gov/wps/portal/gov/governor/media/news-and-media/ohio-earns-aaa-ratings-from-all-three-major-credit-bureaus'"
      ]
     },
     "execution_count": 109,
     "metadata": {},
     "output_type": "execute_result"
    },
    {
     "data": {
      "text/plain": [
       "'success: content added from https://governor.ohio.gov/wps/portal/gov/governor/media/news-and-media/ohio-first-state-in-activate-nevi-chargers'"
      ]
     },
     "execution_count": 109,
     "metadata": {},
     "output_type": "execute_result"
    },
    {
     "data": {
      "text/plain": [
       "'success: content added from https://governor.ohio.gov/wps/portal/gov/governor/media/news-and-media/governor-dewine-lt-governor-husted-announce-saturday-as-columbus-crew-day'"
      ]
     },
     "execution_count": 109,
     "metadata": {},
     "output_type": "execute_result"
    },
    {
     "data": {
      "text/plain": [
       "'success: content added from https://governor.ohio.gov/wps/portal/gov/governor/media/news-and-media/governor-dewine-announces-new-h2ohio-wetland-projects'"
      ]
     },
     "execution_count": 109,
     "metadata": {},
     "output_type": "execute_result"
    },
    {
     "data": {
      "text/plain": [
       "'success: content added from https://governor.ohio.gov/wps/portal/gov/governor/media/news-and-media/governor-dewine-orders-flags-lowered-on-pearl-harbor-remembrance-day'"
      ]
     },
     "execution_count": 109,
     "metadata": {},
     "output_type": "execute_result"
    },
    {
     "data": {
      "text/plain": [
       "'success: content added from https://governor.ohio.gov/wps/portal/gov/governor/media/news-and-media/governor-dewines-ohio-start-program-receives-national-certification'"
      ]
     },
     "execution_count": 109,
     "metadata": {},
     "output_type": "execute_result"
    },
    {
     "data": {
      "text/plain": [
       "'success: content added from https://governor.ohio.gov/wps/portal/gov/governor/media/news-and-media/governor-dewine-announces-availability-of-funding-to-support-local-violent-crime-reduction-initiatves'"
      ]
     },
     "execution_count": 109,
     "metadata": {},
     "output_type": "execute_result"
    },
    {
     "data": {
      "text/plain": [
       "'success: content added from https://governor.ohio.gov/wps/portal/gov/governor/media/news-and-media/governor-dewine-announces-73-million-in-funding-support-for-traffic-safety-projects'"
      ]
     },
     "execution_count": 109,
     "metadata": {},
     "output_type": "execute_result"
    },
    {
     "data": {
      "text/plain": [
       "'success: content added from https://governor.ohio.gov/wps/portal/gov/governor/media/news-and-media/governor-dewine-announces-availability-on175-million-for-brownfield-remediation'"
      ]
     },
     "execution_count": 109,
     "metadata": {},
     "output_type": "execute_result"
    },
    {
     "data": {
      "text/plain": [
       "'success: content added from https://governor.ohio.gov/wps/portal/gov/governor/media/news-and-media/governor-dewine-announces-official-launch-of-the-governors-merit-scholarship-program'"
      ]
     },
     "execution_count": 109,
     "metadata": {},
     "output_type": "execute_result"
    },
    {
     "data": {
      "text/plain": [
       "'success: content added from https://governor.ohio.gov/wps/portal/gov/governor/media/news-and-media/governor-dewine-announces-16-7-million-for-h2ohio-water-infrastructure-projects'"
      ]
     },
     "execution_count": 109,
     "metadata": {},
     "output_type": "execute_result"
    },
    {
     "data": {
      "text/plain": [
       "'success: content added from https://governor.ohio.gov/wps/portal/gov/governor/media/news-and-media/governor-dewine-announces-ohio-receives-aaa-credit-upgrade-from-moodys'"
      ]
     },
     "execution_count": 109,
     "metadata": {},
     "output_type": "execute_result"
    },
    {
     "data": {
      "text/plain": [
       "'success: content added from https://governor.ohio.gov/wps/portal/gov/governor/media/news-and-media/governor-dewine-nominates-cornyn-to-be-director-of-the-ohio-department-of-mental-health-and-addiction-services'"
      ]
     },
     "execution_count": 109,
     "metadata": {},
     "output_type": "execute_result"
    },
    {
     "data": {
      "text/plain": [
       "'success: content added from https://governor.ohio.gov/wps/portal/gov/governor/media/news-and-media/governor-dewine-statement-on-death-of-justice-sandra-day-oconnor'"
      ]
     },
     "execution_count": 109,
     "metadata": {},
     "output_type": "execute_result"
    },
    {
     "data": {
      "text/plain": [
       "'success: content added from https://governor.ohio.gov/wps/portal/gov/governor/media/news-and-media/governor-dewine-signs-executive-order-2023-12d'"
      ]
     },
     "execution_count": 109,
     "metadata": {},
     "output_type": "execute_result"
    },
    {
     "data": {
      "text/plain": [
       "'success: content added from https://governor.ohio.gov/wps/portal/gov/governor/media/news-and-media/state-secures-111-million-settlement-with-dupont-for-environmental-restoration-along-ohio-river'"
      ]
     },
     "execution_count": 109,
     "metadata": {},
     "output_type": "execute_result"
    },
    {
     "data": {
      "text/plain": [
       "'success: content added from https://governor.ohio.gov/wps/portal/gov/governor/media/news-and-media/new-ohio-homebuyer-plus-savings-program-to-launch-in-january'"
      ]
     },
     "execution_count": 109,
     "metadata": {},
     "output_type": "execute_result"
    },
    {
     "data": {
      "text/plain": [
       "'success: content added from https://governor.ohio.gov/wps/portal/gov/governor/media/news-and-media/governor-dewine-and-governor-whitmer-place-wager-on-the-game-2023'"
      ]
     },
     "execution_count": 109,
     "metadata": {},
     "output_type": "execute_result"
    },
    {
     "data": {
      "text/plain": [
       "'success: content added from https://governor.ohio.gov/wps/portal/gov/governor/media/news-and-media/governor-dewine-orders-flags-lowered-in-honor-of-former-first-lady-rosalynn-carter'"
      ]
     },
     "execution_count": 109,
     "metadata": {},
     "output_type": "execute_result"
    },
    {
     "data": {
      "text/plain": [
       "'success: content added from https://governor.ohio.gov/wps/portal/gov/governor/media/news-and-media/governor-dewine-announces-additional-funding-to-support-child-care-centers'"
      ]
     },
     "execution_count": 109,
     "metadata": {},
     "output_type": "execute_result"
    },
    {
     "data": {
      "text/plain": [
       "'success: content added from https://governor.ohio.gov/wps/portal/gov/governor/media/news-and-media/ohio-to-lead-semiconductor-supply-chain-consortium-proposal'"
      ]
     },
     "execution_count": 109,
     "metadata": {},
     "output_type": "execute_result"
    },
    {
     "data": {
      "text/plain": [
       "'success: content added from https://governor.ohio.gov/wps/portal/gov/governor/media/news-and-media/governor-dewine-announces-funding-support-for-village-of-east-palestine'"
      ]
     },
     "execution_count": 109,
     "metadata": {},
     "output_type": "execute_result"
    },
    {
     "data": {
      "text/plain": [
       "'success: content added from https://governor.ohio.gov/wps/portal/gov/governor/media/news-and-media/governor-dewine-orders-flags-lowered-in-honor-of-charles-chuck-calvert'"
      ]
     },
     "execution_count": 109,
     "metadata": {},
     "output_type": "execute_result"
    },
    {
     "data": {
      "text/plain": [
       "'success: content added from https://governor.ohio.gov/wps/portal/gov/governor/media/news-and-media/governor-dewine-orders-flags-lowered-in-honor-of-ronald-mottl'"
      ]
     },
     "execution_count": 109,
     "metadata": {},
     "output_type": "execute_result"
    },
    {
     "data": {
      "text/plain": [
       "'success: content added from https://governor.ohio.gov/wps/portal/gov/governor/media/news-and-media/governor-dewine-orders-flags-lowered-in-honor-of-those-killed-in+tuscarawas-valley-local-school-district-bus-crash'"
      ]
     },
     "execution_count": 109,
     "metadata": {},
     "output_type": "execute_result"
    },
    {
     "data": {
      "text/plain": [
       "'success: content added from https://governor.ohio.gov/wps/portal/gov/governor/media/news-and-media/governor-dewine-lt-governor-husted-announce-teacher-bootcamp-program-application-period'"
      ]
     },
     "execution_count": 109,
     "metadata": {},
     "output_type": "execute_result"
    },
    {
     "data": {
      "text/plain": [
       "'success: content added from https://governor.ohio.gov/wps/portal/gov/governor/media/news-and-media/governor-dewine-announces-ohio-juvenile-justice-working-group'"
      ]
     },
     "execution_count": 109,
     "metadata": {},
     "output_type": "execute_result"
    },
    {
     "data": {
      "text/plain": [
       "'success: content added from https://governor.ohio.gov/wps/portal/gov/governor/media/news-and-media/governor-dewine-announces-cabinet-changes'"
      ]
     },
     "execution_count": 109,
     "metadata": {},
     "output_type": "execute_result"
    },
    {
     "data": {
      "text/plain": [
       "'success: content added from https://governor.ohio.gov/wps/portal/gov/governor/media/news-and-media/governor-dewine-launches-healthy-aging-program-empoering-older-to-maintain-health-and-independence'"
      ]
     },
     "execution_count": 109,
     "metadata": {},
     "output_type": "execute_result"
    },
    {
     "data": {
      "text/plain": [
       "'success: content added from https://governor.ohio.gov/wps/portal/gov/governor/media/news-and-media/governor-dewine-launches-second-round-of-appalachian-community-grant-program'"
      ]
     },
     "execution_count": 109,
     "metadata": {},
     "output_type": "execute_result"
    },
    {
     "data": {
      "text/plain": [
       "'success: content added from https://governor.ohio.gov/wps/portal/gov/governor/media/news-and-media/governor-dewine-lt-governor-husted-announce-career-tech-construction-grant-awards-new-equipment-funding-opportunity'"
      ]
     },
     "execution_count": 109,
     "metadata": {},
     "output_type": "execute_result"
    },
    {
     "data": {
      "text/plain": [
       "'success: content added from https://governor.ohio.gov/wps/portal/gov/governor/media/news-and-media/governor-dewine-orders-flags-lowered-in-lake-county-in-remembrance-of-lance-corporal-austin-schwenk'"
      ]
     },
     "execution_count": 109,
     "metadata": {},
     "output_type": "execute_result"
    },
    {
     "data": {
      "text/plain": [
       "'success: content added from https://governor.ohio.gov/wps/portal/gov/governor/media/news-and-media/governor-dewine-announces-new-program-to-support-energy-efficiency-in-vulnerable-ohio-communities'"
      ]
     },
     "execution_count": 109,
     "metadata": {},
     "output_type": "execute_result"
    },
    {
     "data": {
      "text/plain": [
       "'success: content added from https://governor.ohio.gov/wps/portal/gov/governor/media/news-and-media/governor-dewine-announces-support-for-arts-organizations-in-ohio'"
      ]
     },
     "execution_count": 109,
     "metadata": {},
     "output_type": "execute_result"
    },
    {
     "data": {
      "text/plain": [
       "'success: content added from https://governor.ohio.gov/wps/portal/gov/governor/media/news-and-media/governor-dewine-announces-additional-150-million-to-demolish-dilapidated-buildings-pave-way-for-economic-growth'"
      ]
     },
     "execution_count": 109,
     "metadata": {},
     "output_type": "execute_result"
    },
    {
     "data": {
      "text/plain": [
       "'success: content added from https://governor.ohio.gov/wps/portal/gov/governor/media/news-and-media/governor-dewine-lt-governor-husted-announce-new-projects-expected-to-create-more-than-2200-jobs-482-million-in-payroll'"
      ]
     },
     "execution_count": 109,
     "metadata": {},
     "output_type": "execute_result"
    },
    {
     "data": {
      "text/plain": [
       "'success: content added from https://governor.ohio.gov/wps/portal/gov/governor/media/news-and-media/governor-signs-executive-order-awarding-funds-to-help-families-in-need-and+encourage-workforce-development'"
      ]
     },
     "execution_count": 109,
     "metadata": {},
     "output_type": "execute_result"
    },
    {
     "data": {
      "text/plain": [
       "'success: content added from https://governor.ohio.gov/wps/portal/gov/governor/media/news-and-media/governor-dewine-announces-grants-to-support-economic-development-in-appalachia'"
      ]
     },
     "execution_count": 109,
     "metadata": {},
     "output_type": "execute_result"
    },
    {
     "data": {
      "text/plain": [
       "'success: content added from https://governor.ohio.gov/wps/portal/gov/governor/media/news-and-media/governor-dewine-orders-flags-lowered-in-remembrance-of-the-lewiston-maine-shooting-victims'"
      ]
     },
     "execution_count": 109,
     "metadata": {},
     "output_type": "execute_result"
    },
    {
     "data": {
      "text/plain": [
       "'success: content added from https://governor.ohio.gov/wps/portal/gov/governor/media/news-and-media/governor-names-interim-director-of-the-department-of-education-and-workforce'"
      ]
     },
     "execution_count": 109,
     "metadata": {},
     "output_type": "execute_result"
    },
    {
     "data": {
      "text/plain": [
       "'success: content added from https://governor.ohio.gov/wps/portal/gov/governor/media/news-and-media/new-soybean-processing-plant-to-bring-more-than-100-new-jobs-to-ohio'"
      ]
     },
     "execution_count": 109,
     "metadata": {},
     "output_type": "execute_result"
    },
    {
     "data": {
      "text/plain": [
       "'success: content added from https://governor.ohio.gov/wps/portal/gov/governor/media/news-and-media/governor-dewine-announces-expanded-program-to-provide-lifesaving-overdose-reversal-supplies-and-test-strips-to-more-college-campuses'"
      ]
     },
     "execution_count": 109,
     "metadata": {},
     "output_type": "execute_result"
    },
    {
     "data": {
      "text/plain": [
       "'success: content added from https://governor.ohio.gov/wps/portal/gov/governor/media/news-and-media/ohio-launces-new-skills-based-job-search-feature'"
      ]
     },
     "execution_count": 109,
     "metadata": {},
     "output_type": "execute_result"
    },
    {
     "data": {
      "text/plain": [
       "'success: content added from https://governor.ohio.gov/wps/portal/gov/governor/media/news-and-media/governor-dewine-announces-1-8-million-grant-to-reduce-housing-barriers-for-human-trafficking-survivors'"
      ]
     },
     "execution_count": 109,
     "metadata": {},
     "output_type": "execute_result"
    },
    {
     "data": {
      "text/plain": [
       "'success: content added from https://governor.ohio.gov/wps/portal/gov/governor/media/news-and-media/governor-dewine-issues-reprieves-10-13-2023'"
      ]
     },
     "execution_count": 109,
     "metadata": {},
     "output_type": "execute_result"
    },
    {
     "data": {
      "text/plain": [
       "'success: content added from https://governor.ohio.gov/wps/portal/gov/governor/media/news-and-media/governor-dewine-nominates-mike-duffey-to-lead-the-department-of-higher-education'"
      ]
     },
     "execution_count": 109,
     "metadata": {},
     "output_type": "execute_result"
    },
    {
     "data": {
      "text/plain": [
       "'success: content added from https://governor.ohio.gov/wps/portal/gov/governor/media/news-and-media/governor-announces-initiative-to-better-support-ohio-children-with-special-needs'"
      ]
     },
     "execution_count": 109,
     "metadata": {},
     "output_type": "execute_result"
    },
    {
     "data": {
      "text/plain": [
       "'success: content added from https://governor.ohio.gov/wps/portal/gov/governor/media/news-and-media/governor-dewine-signs-bills-into-law-10-16-2023'"
      ]
     },
     "execution_count": 109,
     "metadata": {},
     "output_type": "execute_result"
    },
    {
     "data": {
      "text/plain": [
       "'success: content added from https://governor.ohio.gov/wps/portal/gov/governor/media/news-and-media/governor-dewine-announces-higher-education-chancellor-randy-gardner-to-retire'"
      ]
     },
     "execution_count": 109,
     "metadata": {},
     "output_type": "execute_result"
    },
    {
     "data": {
      "text/plain": [
       "'success: content added from https://governor.ohio.gov/wps/portal/gov/governor/media/news-and-media/governor-dewine-announces-100m-in-federal-funding-to-communities-to-fight-opiod-addiction-prevent-opiod-deaths'"
      ]
     },
     "execution_count": 109,
     "metadata": {},
     "output_type": "execute_result"
    },
    {
     "data": {
      "text/plain": [
       "'success: content added from https://governor.ohio.gov/wps/portal/gov/governor/media/news-and-media/governor-dewine-announces-availability-of-safety-and-security-funding-for-religious-institutions-charter-schools-preschools-and-nonprofits'"
      ]
     },
     "execution_count": 109,
     "metadata": {},
     "output_type": "execute_result"
    },
    {
     "data": {
      "text/plain": [
       "'success: content added from https://governor.ohio.gov/wps/portal/gov/governor/media/news-and-media/governor-dewine-appoints-welling-as-ohio-state-historic-preservation-officer'"
      ]
     },
     "execution_count": 109,
     "metadata": {},
     "output_type": "execute_result"
    },
    {
     "data": {
      "text/plain": [
       "'success: content added from https://governor.ohio.gov/wps/portal/gov/governor/media/news-and-media/governor-dewine-announces-day-of-prayer-for-israel'"
      ]
     },
     "execution_count": 109,
     "metadata": {},
     "output_type": "execute_result"
    },
    {
     "data": {
      "text/plain": [
       "'success: content added from https://governor.ohio.gov/wps/portal/gov/governor/media/news-and-media/governor-dewine-issues-statement-on-thehamas-bombing-into-israel'"
      ]
     },
     "execution_count": 109,
     "metadata": {},
     "output_type": "execute_result"
    },
    {
     "data": {
      "text/plain": [
       "'success: content added from https://governor.ohio.gov/wps/portal/gov/governor/media/news-and-media/governor-dewine-announces-10-million-in-support-for-community-development-improvement-projects'"
      ]
     },
     "execution_count": 109,
     "metadata": {},
     "output_type": "execute_result"
    },
    {
     "data": {
      "text/plain": [
       "'success: content added from https://governor.ohio.gov/wps/portal/gov/governor/media/news-and-media/governor-dewine-talks-with-father-tom-hagan-about-the-current-violence-in-haiti'"
      ]
     },
     "execution_count": 109,
     "metadata": {},
     "output_type": "execute_result"
    },
    {
     "data": {
      "text/plain": [
       "'success: content added from https://governor.ohio.gov/wps/portal/gov/governor/media/news-and-media/new-distracted-driving-law-leads-to-significant-decrease-in-traffic-crashes'"
      ]
     },
     "execution_count": 109,
     "metadata": {},
     "output_type": "execute_result"
    },
    {
     "data": {
      "text/plain": [
       "'success: content added from https://governor.ohio.gov/wps/portal/gov/governor/media/news-and-media/governor-dewine-orders-flags-lowered-in-remembrance-of-senator-dianne-feinstein'"
      ]
     },
     "execution_count": 109,
     "metadata": {},
     "output_type": "execute_result"
    },
    {
     "data": {
      "text/plain": [
       "'success: content added from https://governor.ohio.gov/wps/portal/gov/governor/media/news-and-media/governor-dewine-announces-enhancements-to-safer-ohio-school-tip-line'"
      ]
     },
     "execution_count": 109,
     "metadata": {},
     "output_type": "execute_result"
    },
    {
     "data": {
      "text/plain": [
       "'success: content added from https://governor.ohio.gov/wps/portal/gov/governor/media/news-and-media/statement-by-governor-dewine-on-dr-pierre-agostini-of-the-ohio-state-university-named-as-a-nobel-prize-winner'"
      ]
     },
     "execution_count": 109,
     "metadata": {},
     "output_type": "execute_result"
    },
    {
     "data": {
      "text/plain": [
       "'success: content added from https://governor.ohio.gov/wps/portal/gov/governor/media/news-and-media/governor-dewine-announces-new-program-to-increase-teen-driver-training-options'"
      ]
     },
     "execution_count": 109,
     "metadata": {},
     "output_type": "execute_result"
    },
    {
     "data": {
      "text/plain": [
       "'success: content added from https://governor.ohio.gov/wps/portal/gov/governor/media/news-and-media/governor-dewine-announces-program-to-enhance-support-for-human-trafficking-surviviors'"
      ]
     },
     "execution_count": 109,
     "metadata": {},
     "output_type": "execute_result"
    },
    {
     "data": {
      "text/plain": [
       "'success: content added from https://governor.ohio.gov/wps/portal/gov/governor/media/news-and-media/governor-dewine-lt-governor-husted-announce-new-porjects-expected-to-create-more-than-300-jobs-27-million-in-payroll'"
      ]
     },
     "execution_count": 109,
     "metadata": {},
     "output_type": "execute_result"
    },
    {
     "data": {
      "text/plain": [
       "'success: content added from https://governor.ohio.gov/wps/portal/gov/governor/media/news-and-media/governor-dewine-lt-governor-husted-announce-significant-word-reduction-in-ohio-administrative-code-through-updated-building-codes'"
      ]
     },
     "execution_count": 109,
     "metadata": {},
     "output_type": "execute_result"
    },
    {
     "data": {
      "text/plain": [
       "'success: content added from https://governor.ohio.gov/wps/portal/gov/governor/media/news-and-media/governor-dewine-announces-partnership-to-provide-overdose-reversal-drug-at-ohio-rest-areas'"
      ]
     },
     "execution_count": 109,
     "metadata": {},
     "output_type": "execute_result"
    },
    {
     "data": {
      "text/plain": [
       "'success: content added from https://governor.ohio.gov/wps/portal/gov/governor/media/news-and-media/governor-dewine-announces-midwest-microelectronics-consortium-selected-as-microelectronics-innovation-hub'"
      ]
     },
     "execution_count": 109,
     "metadata": {},
     "output_type": "execute_result"
    },
    {
     "data": {
      "text/plain": [
       "'success: content added from https://governor.ohio.gov/wps/portal/gov/governor/media/news-and-media/new-central-ohio-crime-gun-intelligence-center-opens-in-columbus'"
      ]
     },
     "execution_count": 109,
     "metadata": {},
     "output_type": "execute_result"
    },
    {
     "data": {
      "text/plain": [
       "'success: content added from https://governor.ohio.gov/wps/portal/gov/governor/media/news-and-media/governor-dewine-applauds-unesco-world-heritage-designation-for-ohios-hopewell-ceremonial-earthworks'"
      ]
     },
     "execution_count": 109,
     "metadata": {},
     "output_type": "execute_result"
    },
    {
     "data": {
      "text/plain": [
       "'success: content added from https://governor.ohio.gov/wps/portal/gov/governor/media/news-and-media/governor-dewine-issues-reprieve-september-18'"
      ]
     },
     "execution_count": 109,
     "metadata": {},
     "output_type": "execute_result"
    },
    {
     "data": {
      "text/plain": [
       "'success: content added from https://governor.ohio.gov/wps/portal/gov/governor/media/news-and-media/governor-dewine-lt-governor-husted-joby-aviation-announce-historic-manufacturing-site-in-ohio'"
      ]
     },
     "execution_count": 109,
     "metadata": {},
     "output_type": "execute_result"
    },
    {
     "data": {
      "text/plain": [
       "'success: content added from https://governor.ohio.gov/wps/portal/gov/governor/media/news-and-media/governor-and-first-lady-dewine-welcome-luke-bryan-to-ohio-to-support-feeding-families-and-children-who-face-hunger'"
      ]
     },
     "execution_count": 109,
     "metadata": {},
     "output_type": "execute_result"
    },
    {
     "data": {
      "text/plain": [
       "'success: content added from https://governor.ohio.gov/wps/portal/gov/governor/media/news-and-media/governor-dewine-announces-millions-for-neighborhood-revitalization-and-critical-infrastructure'"
      ]
     },
     "execution_count": 109,
     "metadata": {},
     "output_type": "execute_result"
    },
    {
     "data": {
      "text/plain": [
       "'success: content added from https://governor.ohio.gov/wps/portal/gov/governor/media/news-and-media/governor-dewine-announces-statewide-h2ohio-expansion-plans'"
      ]
     },
     "execution_count": 109,
     "metadata": {},
     "output_type": "execute_result"
    },
    {
     "data": {
      "text/plain": [
       "'success: content added from https://governor.ohio.gov/wps/portal/gov/governor/media/news-and-media/governor-dewine-announces-resources-available-for-school-athletic-coaches-to-better-support-athletes'"
      ]
     },
     "execution_count": 109,
     "metadata": {},
     "output_type": "execute_result"
    },
    {
     "data": {
      "text/plain": [
       "'success: content added from https://governor.ohio.gov/wps/portal/gov/governor/media/news-and-media/governor-dewine-announces-federal-grant-awards-to-support-ohioans-in-recovery'"
      ]
     },
     "execution_count": 109,
     "metadata": {},
     "output_type": "execute_result"
    },
    {
     "data": {
      "text/plain": [
       "'success: content added from https://governor.ohio.gov/wps/portal/gov/governor/media/news-and-media/governor-dewine-issues-statement-on-death-of-charles-zody'"
      ]
     },
     "execution_count": 109,
     "metadata": {},
     "output_type": "execute_result"
    },
    {
     "data": {
      "text/plain": [
       "'success: content added from https://governor.ohio.gov/wps/portal/gov/governor/media/news-and-media/governor-dewine-announces-new-partnership-to-provide-free-broadband-job-training'"
      ]
     },
     "execution_count": 109,
     "metadata": {},
     "output_type": "execute_result"
    },
    {
     "data": {
      "text/plain": [
       "'success: content added from https://governor.ohio.gov/wps/portal/gov/governor/media/news-and-media/governor-dewine-announces-funding-opportunity-for-law-enforcement-body-worn-cameras'"
      ]
     },
     "execution_count": 109,
     "metadata": {},
     "output_type": "execute_result"
    },
    {
     "data": {
      "text/plain": [
       "'success: content added from https://governor.ohio.gov/wps/portal/gov/governor/media/news-and-media/governor-dewine-lt-governor-husted-announce-super-rapids-application-period'"
      ]
     },
     "execution_count": 109,
     "metadata": {},
     "output_type": "execute_result"
    },
    {
     "data": {
      "text/plain": [
       "'success: content added from https://governor.ohio.gov/wps/portal/gov/governor/media/news-and-media/governor-dewine-announces-100-million-to-help-eliminate-dangerous-railroad-crossings'"
      ]
     },
     "execution_count": 109,
     "metadata": {},
     "output_type": "execute_result"
    },
    {
     "data": {
      "text/plain": [
       "'success: content added from https://governor.ohio.gov/wps/portal/gov/governor/media/news-and-media/governor-dewine-marks-third-annual-overdose-awareness-day-on-august-31'"
      ]
     },
     "execution_count": 109,
     "metadata": {},
     "output_type": "execute_result"
    },
    {
     "data": {
      "text/plain": [
       "'success: content added from https://governor.ohio.gov/wps/portal/gov/governor/media/news-and-media/governor-dewine-announces-members-of-ohio-school-bus-safety-working-group'"
      ]
     },
     "execution_count": 109,
     "metadata": {},
     "output_type": "execute_result"
    },
    {
     "data": {
      "text/plain": [
       "'success: content added from https://governor.ohio.gov/wps/portal/gov/governor/media/news-and-media/ohio-launches-venture-capital-programs-for-tech-based-companies'"
      ]
     },
     "execution_count": 109,
     "metadata": {},
     "output_type": "execute_result"
    },
    {
     "data": {
      "text/plain": [
       "'success: content added from https://governor.ohio.gov/wps/portal/gov/governor/media/news-and-media/governor-dewine-announces-90-million-investment-to-strengthen-local-behavioral-health-crisis-repsonse-services'"
      ]
     },
     "execution_count": 109,
     "metadata": {},
     "output_type": "execute_result"
    },
    {
     "data": {
      "text/plain": [
       "'success: content added from https://governor.ohio.gov/wps/portal/gov/governor/media/news-and-media/statement-on-death-of-clay-mathile'"
      ]
     },
     "execution_count": 109,
     "metadata": {},
     "output_type": "execute_result"
    },
    {
     "data": {
      "text/plain": [
       "'success: content added from https://governor.ohio.gov/wps/portal/gov/governor/media/news-and-media/governor-dewine-announces-second-cohert-of-broadband-ohio-community-accelerator'"
      ]
     },
     "execution_count": 109,
     "metadata": {},
     "output_type": "execute_result"
    },
    {
     "data": {
      "text/plain": [
       "'success: content added from https://governor.ohio.gov/wps/portal/gov/governor/media/news-and-media/governor-dewine-names-oneohio-executive-director-department-of-children-and-youth-director-nomineee'"
      ]
     },
     "execution_count": 109,
     "metadata": {},
     "output_type": "execute_result"
    },
    {
     "data": {
      "text/plain": [
       "'success: content added from https://governor.ohio.gov/wps/portal/gov/governor/media/news-and-media/governor-dewine-issues-statement-on-death-of-scott-nein'"
      ]
     },
     "execution_count": 109,
     "metadata": {},
     "output_type": "execute_result"
    },
    {
     "data": {
      "text/plain": [
       "'success: content added from https://governor.ohio.gov/wps/portal/gov/governor/media/news-and-media/governor-dewine-announces-more-ohio-children-will-have-acess-to-high-quality-preschool-education'"
      ]
     },
     "execution_count": 109,
     "metadata": {},
     "output_type": "execute_result"
    },
    {
     "data": {
      "text/plain": [
       "'success: content added from https://governor.ohio.gov/wps/portal/gov/governor/media/news-and-media/governor-dewine-lt-governor-husted-announce-state-has-the-most-filled-jobs-in-ohio-history'"
      ]
     },
     "execution_count": 109,
     "metadata": {},
     "output_type": "execute_result"
    },
    {
     "data": {
      "text/plain": [
       "'success: content added from https://governor.ohio.gov/wps/portal/gov/governor/media/news-and-media/governor-dewine-announces-state-support-for-cleveland-violence-reduction-initiative'"
      ]
     },
     "execution_count": 109,
     "metadata": {},
     "output_type": "execute_result"
    },
    {
     "data": {
      "text/plain": [
       "'success: content added from https://governor.ohio.gov/wps/portal/gov/governor/media/news-and-media/governor-dewine-announces-grant-awards-to-quality-after-school-and-summer-program-providers'"
      ]
     },
     "execution_count": 109,
     "metadata": {},
     "output_type": "execute_result"
    },
    {
     "data": {
      "text/plain": [
       "'success: content added from https://governor.ohio.gov/wps/portal/gov/governor/media/news-and-media/governor-dewine-announces-new-teacher-apprenticeship-program'"
      ]
     },
     "execution_count": 109,
     "metadata": {},
     "output_type": "execute_result"
    },
    {
     "data": {
      "text/plain": [
       "'success: content added from https://governor.ohio.gov/wps/portal/gov/governor/media/news-and-media/governor-dewine-statement-on-death-of-former-state-representative-chuck-calvert'"
      ]
     },
     "execution_count": 109,
     "metadata": {},
     "output_type": "execute_result"
    },
    {
     "data": {
      "text/plain": [
       "'success: content added from https://governor.ohio.gov/wps/portal/gov/governor/media/news-and-media/governor-dewine-launches-readohio-initiative'"
      ]
     },
     "execution_count": 109,
     "metadata": {},
     "output_type": "execute_result"
    },
    {
     "data": {
      "text/plain": [
       "'success: content added from https://governor.ohio.gov/wps/portal/gov/governor/media/news-and-media/governor-dewine-lt-governor-husted-mark-one-year-anniversary-of-federal-chips-act'"
      ]
     },
     "execution_count": 109,
     "metadata": {},
     "output_type": "execute_result"
    },
    {
     "data": {
      "text/plain": [
       "'success: content added from https://governor.ohio.gov/wps/portal/gov/governor/media/news-and-media/governor-dewine-announces-6.2-million-for-fayette-county-road-improvements'"
      ]
     },
     "execution_count": 109,
     "metadata": {},
     "output_type": "execute_result"
    },
    {
     "data": {
      "text/plain": [
       "'success: content added from https://governor.ohio.gov/wps/portal/gov/governor/media/news-and-media/governor-dewine-announces-key-staff'"
      ]
     },
     "execution_count": 109,
     "metadata": {},
     "output_type": "execute_result"
    },
    {
     "data": {
      "text/plain": [
       "'success: content added from https://governor.ohio.gov/wps/portal/gov/governor/media/news-and-media/governor-dewine-nominates-director-of-department-of-children-and-youth'"
      ]
     },
     "execution_count": 109,
     "metadata": {},
     "output_type": "execute_result"
    },
    {
     "data": {
      "text/plain": [
       "'success: content added from https://governor.ohio.gov/wps/portal/gov/governor/media/news-and-media/governor-dewine-announces-safety-improvement-projects-coming-to-ohio-roads'"
      ]
     },
     "execution_count": 109,
     "metadata": {},
     "output_type": "execute_result"
    },
    {
     "data": {
      "text/plain": [
       "'success: content added from https://governor.ohio.gov/wps/portal/gov/governor/media/news-and-media/east-palestine-update-8-3-23'"
      ]
     },
     "execution_count": 109,
     "metadata": {},
     "output_type": "execute_result"
    },
    {
     "data": {
      "text/plain": [
       "'success: content added from https://governor.ohio.gov/wps/portal/gov/governor/media/news-and-media/governor-dewine-announces-retention-incentives-for-thousands-of-ohio-first-responders'"
      ]
     },
     "execution_count": 109,
     "metadata": {},
     "output_type": "execute_result"
    },
    {
     "data": {
      "text/plain": [
       "'success: content added from https://governor.ohio.gov/wps/portal/gov/governor/media/news-and-media/governor-dewine-announces-3.5-million-for-transportation-improvement-districts-to-boost-ohios-economy'"
      ]
     },
     "execution_count": 109,
     "metadata": {},
     "output_type": "execute_result"
    },
    {
     "data": {
      "text/plain": [
       "'success: content added from https://governor.ohio.gov/wps/portal/gov/governor/media/news-and-media/governor-dewine-announces-results-of-statewide-river-water-quality-study'"
      ]
     },
     "execution_count": 109,
     "metadata": {},
     "output_type": "execute_result"
    },
    {
     "data": {
      "text/plain": [
       "'success: content added from https://governor.ohio.gov/wps/portal/gov/governor/media/news-and-media/governor-dewine-lt-governor-husted-announce-new-projects-expected-to-create-more-than-700-jobs-85-million-in-payroll'"
      ]
     },
     "execution_count": 109,
     "metadata": {},
     "output_type": "execute_result"
    },
    {
     "data": {
      "text/plain": [
       "'success: content added from https://governor.ohio.gov/wps/portal/gov/governor/media/news-and-media/governor-dewine-announces-26m-investment-in-tutoring-to-boost-student-achievement'"
      ]
     },
     "execution_count": 109,
     "metadata": {},
     "output_type": "execute_result"
    },
    {
     "data": {
      "text/plain": [
       "'success: content added from https://governor.ohio.gov/wps/portal/gov/governor/media/news-and-media/governor-dewine-signs-senate-bill-43'"
      ]
     },
     "execution_count": 109,
     "metadata": {},
     "output_type": "execute_result"
    },
    {
     "data": {
      "text/plain": [
       "'success: content added from https://governor.ohio.gov/wps/portal/gov/governor/media/news-and-media/governors-dewine-and-beshear-announce-brent-spence-design-build-team'"
      ]
     },
     "execution_count": 109,
     "metadata": {},
     "output_type": "execute_result"
    },
    {
     "data": {
      "text/plain": [
       "'success: content added from https://governor.ohio.gov/wps/portal/gov/governor/media/news-and-media/governor-dewine-lt-governor-husted-celebrate-opening-day-of-ohio-state-fair'"
      ]
     },
     "execution_count": 109,
     "metadata": {},
     "output_type": "execute_result"
    },
    {
     "data": {
      "text/plain": [
       "'success: content added from https://governor.ohio.gov/wps/portal/gov/governor/media/news-and-media/governor-dewine-announces-new-safety-support-for-volunteer-fire-departments'"
      ]
     },
     "execution_count": 109,
     "metadata": {},
     "output_type": "execute_result"
    },
    {
     "data": {
      "text/plain": [
       "'success: content added from https://governor.ohio.gov/wps/portal/gov/governor/media/news-and-media/governor-dewine-announces-700-in-education-support-for-fall-term-for-ohioans-with-disabilities'"
      ]
     },
     "execution_count": 109,
     "metadata": {},
     "output_type": "execute_result"
    },
    {
     "data": {
      "text/plain": [
       "'success: content added from https://governor.ohio.gov/wps/portal/gov/governor/media/news-and-media/governor-dewine-announces-additional-135-million-to-support-critical-water-infrastructure-projects'"
      ]
     },
     "execution_count": 109,
     "metadata": {},
     "output_type": "execute_result"
    },
    {
     "data": {
      "text/plain": [
       "'success: content added from https://governor.ohio.gov/wps/portal/gov/governor/media/news-and-media/governor-dewine-celebrates-the-walleye-capital-of-the-world'"
      ]
     },
     "execution_count": 109,
     "metadata": {},
     "output_type": "execute_result"
    },
    {
     "data": {
      "text/plain": [
       "'success: content added from https://governor.ohio.gov/wps/portal/gov/governor/media/news-and-media/governor-dewine-announces-grid-resiliance-funding'"
      ]
     },
     "execution_count": 109,
     "metadata": {},
     "output_type": "execute_result"
    },
    {
     "data": {
      "text/plain": [
       "'success: content added from https://governor.ohio.gov/wps/portal/gov/governor/media/news-and-media/governor-dewine-announces-record-9.8-million-awarded-through-safe-routes-to-school-program'"
      ]
     },
     "execution_count": 109,
     "metadata": {},
     "output_type": "execute_result"
    },
    {
     "data": {
      "text/plain": [
       "'success: content added from https://governor.ohio.gov/wps/portal/gov/governor/media/news-and-media/governor-dewine-supports-local-drug-task-forces-with-2.4-million-in-recovery-ohio-funding'"
      ]
     },
     "execution_count": 109,
     "metadata": {},
     "output_type": "execute_result"
    },
    {
     "data": {
      "text/plain": [
       "'success: content added from https://governor.ohio.gov/wps/portal/gov/governor/media/news-and-media/governor-dewine-announces-new-tool-to-boost-middle-school-matth-achievement'"
      ]
     },
     "execution_count": 109,
     "metadata": {},
     "output_type": "execute_result"
    },
    {
     "data": {
      "text/plain": [
       "'success: content added from https://governor.ohio.gov/wps/portal/gov/governor/media/news-and-media/governor-dewine-announces-seventh-round-of-wellness-support-for-first-responder-agencies'"
      ]
     },
     "execution_count": 109,
     "metadata": {},
     "output_type": "execute_result"
    },
    {
     "data": {
      "text/plain": [
       "'success: content added from https://governor.ohio.gov/wps/portal/gov/governor/media/news-and-media/governor-dewine-announces-new-targeted-investments-for-silicon-heartland-transportation-improvements'"
      ]
     },
     "execution_count": 109,
     "metadata": {},
     "output_type": "execute_result"
    },
    {
     "data": {
      "text/plain": [
       "'success: content added from https://governor.ohio.gov/wps/portal/gov/governor/media/news-and-media/governor-dewine-lt-governor-husted-announce-new-cybersecurity-services-for-local-government'"
      ]
     },
     "execution_count": 109,
     "metadata": {},
     "output_type": "execute_result"
    },
    {
     "data": {
      "text/plain": [
       "'success: content added from https://governor.ohio.gov/wps/portal/gov/governor/media/news-and-media/governor-dewine-issues-reprieve'"
      ]
     },
     "execution_count": 109,
     "metadata": {},
     "output_type": "execute_result"
    },
    {
     "data": {
      "text/plain": [
       "'success: content added from https://governor.ohio.gov/wps/portal/gov/governor/media/news-and-media/governor-dewine-announces-locations-for-interstate-electric-vehicle-charging-stations'"
      ]
     },
     "execution_count": 109,
     "metadata": {},
     "output_type": "execute_result"
    },
    {
     "data": {
      "text/plain": [
       "'success: content added from https://governor.ohio.gov/wps/portal/gov/governor/media/news-and-media/governor-announces-33.3-million-in-grant-funding-to-provide-students-safer-healthier-learning-environments'"
      ]
     },
     "execution_count": 109,
     "metadata": {},
     "output_type": "execute_result"
    },
    {
     "data": {
      "text/plain": [
       "'success: content added from https://governor.ohio.gov/wps/portal/gov/governor/media/news-and-media/governor-announces-response-to-columbiana-county-natural-gas-release'"
      ]
     },
     "execution_count": 109,
     "metadata": {},
     "output_type": "execute_result"
    },
    {
     "data": {
      "text/plain": [
       "'success: content added from https://governor.ohio.gov/wps/portal/gov/governor/media/news-and-media/governor-dewine-celebrates-new-mental-health-treatment-center-at-ohio-reformatory-for-women'"
      ]
     },
     "execution_count": 109,
     "metadata": {},
     "output_type": "execute_result"
    },
    {
     "data": {
      "text/plain": [
       "'success: content added from https://governor.ohio.gov/wps/portal/gov/governor/media/news-and-media/governor-marks-one-year-anniversary-of-988-suicide-and-crisis-lifeline-providing-hope-and-help'"
      ]
     },
     "execution_count": 109,
     "metadata": {},
     "output_type": "execute_result"
    },
    {
     "data": {
      "text/plain": [
       "'success: content added from https://governor.ohio.gov/wps/portal/gov/governor/media/news-and-media/governor-dewine-announces-20-million-in-grants-for-arts-organizations'"
      ]
     },
     "execution_count": 109,
     "metadata": {},
     "output_type": "execute_result"
    },
    {
     "data": {
      "text/plain": [
       "'success: content added from https://governor.ohio.gov/wps/portal/gov/governor/media/news-and-media/governor-dewine-lt-governor-husted-celebrate-historic-investments-in-new-operating-budget'"
      ]
     },
     "execution_count": 109,
     "metadata": {},
     "output_type": "execute_result"
    },
    {
     "data": {
      "text/plain": [
       "'success: content added from https://governor.ohio.gov/wps/portal/gov/governor/media/news-and-media/governor-dewine-signs-FY-24-25-budget-with-historic-investments-in-ohios-workforce-children-and-communities'"
      ]
     },
     "execution_count": 109,
     "metadata": {},
     "output_type": "execute_result"
    },
    {
     "data": {
      "text/plain": [
       "'success: content added from https://governor.ohio.gov/wps/portal/gov/governor/media/news-and-media/governor-dewine-requests-presidential-disaster-declaration-for-east-palestine'"
      ]
     },
     "execution_count": 109,
     "metadata": {},
     "output_type": "execute_result"
    },
    {
     "data": {
      "text/plain": [
       "'success: content added from https://governor.ohio.gov/wps/portal/gov/governor/media/news-and-media/governor-dewine-lt-governor-husted-announce-state-support-for-38-historic-rehabilitation-projects'"
      ]
     },
     "execution_count": 109,
     "metadata": {},
     "output_type": "execute_result"
    },
    {
     "data": {
      "text/plain": [
       "'success: content added from https://governor.ohio.gov/wps/portal/gov/governor/media/news-and-media/governor-dewine-ODNR-celebrate-new-nature-preserve-at-little-darby-creek'"
      ]
     },
     "execution_count": 109,
     "metadata": {},
     "output_type": "execute_result"
    },
    {
     "data": {
      "text/plain": [
       "'success: content added from https://governor.ohio.gov/wps/portal/gov/governor/media/news-and-media/new-projects-expect-to-create-534-jobs-more-than-40-million-in-payroll'"
      ]
     },
     "execution_count": 109,
     "metadata": {},
     "output_type": "execute_result"
    },
    {
     "data": {
      "text/plain": [
       "'success: content added from https://governor.ohio.gov/wps/portal/gov/governor/media/news-and-media/governor-dewine-announces-plans-for-estimated-7.8-billion-investment-by-Amazon'"
      ]
     },
     "execution_count": 109,
     "metadata": {},
     "output_type": "execute_result"
    },
    {
     "data": {
      "text/plain": [
       "'success: content added from https://governor.ohio.gov/wps/portal/gov/governor/media/news-and-media/East-Palestine-Update-06132023'"
      ]
     },
     "execution_count": 109,
     "metadata": {},
     "output_type": "execute_result"
    },
    {
     "data": {
      "text/plain": [
       "'success: content added from https://governor.ohio.gov/wps/portal/gov/governor/media/news-and-media/East-Palestine-Update-06122023'"
      ]
     },
     "execution_count": 109,
     "metadata": {},
     "output_type": "execute_result"
    },
    {
     "data": {
      "text/plain": [
       "'success: content added from https://governor.ohio.gov/wps/portal/gov/governor/media/news-and-media/06162023'"
      ]
     },
     "execution_count": 109,
     "metadata": {},
     "output_type": "execute_result"
    },
    {
     "data": {
      "text/plain": [
       "'success: content added from https://governor.ohio.gov/wps/portal/gov/governor/media/news-and-media/06122023'"
      ]
     },
     "execution_count": 109,
     "metadata": {},
     "output_type": "execute_result"
    },
    {
     "data": {
      "text/plain": [
       "'success: content added from https://governor.ohio.gov/wps/portal/gov/governor/media/news-and-media/06062023'"
      ]
     },
     "execution_count": 109,
     "metadata": {},
     "output_type": "execute_result"
    },
    {
     "data": {
      "text/plain": [
       "'success: content added from https://governor.ohio.gov/wps/portal/gov/governor/media/news-and-media/060523'"
      ]
     },
     "execution_count": 109,
     "metadata": {},
     "output_type": "execute_result"
    },
    {
     "data": {
      "text/plain": [
       "'success: content added from https://governor.ohio.gov/wps/portal/gov/governor/media/news-and-media/060223'"
      ]
     },
     "execution_count": 109,
     "metadata": {},
     "output_type": "execute_result"
    },
    {
     "data": {
      "text/plain": [
       "'success: content added from https://governor.ohio.gov/wps/portal/gov/governor/media/news-and-media/0601230'"
      ]
     },
     "execution_count": 109,
     "metadata": {},
     "output_type": "execute_result"
    },
    {
     "data": {
      "text/plain": [
       "'success: content added from https://governor.ohio.gov/wps/portal/gov/governor/media/news-and-media/060123'"
      ]
     },
     "execution_count": 109,
     "metadata": {},
     "output_type": "execute_result"
    },
    {
     "data": {
      "text/plain": [
       "'success: content added from https://governor.ohio.gov/wps/portal/gov/governor/media/news-and-media/052323'"
      ]
     },
     "execution_count": 109,
     "metadata": {},
     "output_type": "execute_result"
    },
    {
     "data": {
      "text/plain": [
       "'success: content added from https://governor.ohio.gov/wps/portal/gov/governor/media/news-and-media/052223'"
      ]
     },
     "execution_count": 109,
     "metadata": {},
     "output_type": "execute_result"
    },
    {
     "data": {
      "text/plain": [
       "'success: content added from https://governor.ohio.gov/wps/portal/gov/governor/media/news-and-media/Governor+DeWine+Announces+23+Million+in+Grants+for+Arts+Organizations'"
      ]
     },
     "execution_count": 109,
     "metadata": {},
     "output_type": "execute_result"
    },
    {
     "data": {
      "text/plain": [
       "'success: content added from https://governor.ohio.gov/wps/portal/gov/governor/media/news-and-media/051023'"
      ]
     },
     "execution_count": 109,
     "metadata": {},
     "output_type": "execute_result"
    },
    {
     "data": {
      "text/plain": [
       "'success: content added from https://governor.ohio.gov/wps/portal/gov/governor/media/news-and-media/05082023'"
      ]
     },
     "execution_count": 109,
     "metadata": {},
     "output_type": "execute_result"
    },
    {
     "data": {
      "text/plain": [
       "'success: content added from https://governor.ohio.gov/wps/portal/gov/governor/media/news-and-media/050823'"
      ]
     },
     "execution_count": 109,
     "metadata": {},
     "output_type": "execute_result"
    },
    {
     "data": {
      "text/plain": [
       "'success: content added from https://governor.ohio.gov/wps/portal/gov/governor/media/news-and-media/Governor-DeWine-Unveils-Re-Imagined-Preble-County-Welcome-Center-and-Unveils-Ohio-Rest-Area-Plan-05012023'"
      ]
     },
     "execution_count": 109,
     "metadata": {},
     "output_type": "execute_result"
    },
    {
     "data": {
      "text/plain": [
       "'success: content added from https://governor.ohio.gov/wps/portal/gov/governor/media/news-and-media/Governor-DeWine-Announces-Safety-Grants-for-600-plus-K-12-Schools-04252023'"
      ]
     },
     "execution_count": 109,
     "metadata": {},
     "output_type": "execute_result"
    },
    {
     "data": {
      "text/plain": [
       "'success: content added from https://governor.ohio.gov/wps/portal/gov/governor/media/news-and-media/East-Palestine-Update-04202023'"
      ]
     },
     "execution_count": 109,
     "metadata": {},
     "output_type": "execute_result"
    },
    {
     "data": {
      "text/plain": [
       "'success: content added from https://governor.ohio.gov/wps/portal/gov/governor/media/news-and-media/Governor-DeWine-Announces-Nearly-50-Million-for-Local-Jail-Projects-04202023'"
      ]
     },
     "execution_count": 109,
     "metadata": {},
     "output_type": "execute_result"
    },
    {
     "data": {
      "text/plain": [
       "'success: content added from https://governor.ohio.gov/wps/portal/gov/governor/media/news-and-media/East-Palestine-Update-4-18-23-04182023'"
      ]
     },
     "execution_count": 109,
     "metadata": {},
     "output_type": "execute_result"
    },
    {
     "data": {
      "text/plain": [
       "'success: content added from https://governor.ohio.gov/wps/portal/gov/governor/media/news-and-media/Governor-Announces-95-percent-of-Ohio-Schools-Offer-Prevention-Focused-Services-04182023'"
      ]
     },
     "execution_count": 109,
     "metadata": {},
     "output_type": "execute_result"
    },
    {
     "data": {
      "text/plain": [
       "'success: content added from https://governor.ohio.gov/wps/portal/gov/governor/media/news-and-media/Governor-DeWine-Issues-Reprieves-04142023'"
      ]
     },
     "execution_count": 109,
     "metadata": {},
     "output_type": "execute_result"
    },
    {
     "data": {
      "text/plain": [
       "'success: content added from https://governor.ohio.gov/wps/portal/gov/governor/media/news-and-media/East+Palestine+Update-4-14-23-04142023'"
      ]
     },
     "execution_count": 109,
     "metadata": {},
     "output_type": "execute_result"
    },
    {
     "data": {
      "text/plain": [
       "'success: content added from https://governor.ohio.gov/wps/portal/gov/governor/media/news-and-media/Governor-DeWine-Awards-20-Million-for-Community-Based-Violence-Reduction-Programs-04142023'"
      ]
     },
     "execution_count": 109,
     "metadata": {},
     "output_type": "execute_result"
    },
    {
     "data": {
      "text/plain": [
       "'success: content added from https://governor.ohio.gov/wps/portal/gov/governor/media/news-and-media/East+Palestine+Update-4-12-23-04122023'"
      ]
     },
     "execution_count": 109,
     "metadata": {},
     "output_type": "execute_result"
    },
    {
     "data": {
      "text/plain": [
       "'success: content added from https://governor.ohio.gov/wps/portal/gov/governor/media/news-and-media/Governor-Announces-2.9-million-in-Federal-Funding-to-Strengthen-Emergency-Preparedness-Enhance-Behavioral-Health-Response-Following-Traumatic-Events-04112023'"
      ]
     },
     "execution_count": 109,
     "metadata": {},
     "output_type": "execute_result"
    },
    {
     "data": {
      "text/plain": [
       "'success: content added from https://governor.ohio.gov/wps/portal/gov/governor/media/news-and-media/East+Palestine+Update-4-10-23-04102023'"
      ]
     },
     "execution_count": 109,
     "metadata": {},
     "output_type": "execute_result"
    },
    {
     "data": {
      "text/plain": [
       "'success: content added from https://governor.ohio.gov/wps/portal/gov/governor/media/news-and-media/East+Palestine+Update+-4-7-23-04072023'"
      ]
     },
     "execution_count": 109,
     "metadata": {},
     "output_type": "execute_result"
    },
    {
     "data": {
      "text/plain": [
       "'success: content added from https://governor.ohio.gov/wps/portal/gov/governor/media/news-and-media/Governor-Signs-Executive-Order-to-Launch-Adoption-Grant-Program-04072023'"
      ]
     },
     "execution_count": 109,
     "metadata": {},
     "output_type": "execute_result"
    },
    {
     "data": {
      "text/plain": [
       "'success: content added from https://governor.ohio.gov/wps/portal/gov/governor/media/news-and-media/Governor-DeWine-Signs-Bill-Into-Law-04052023'"
      ]
     },
     "execution_count": 109,
     "metadata": {},
     "output_type": "execute_result"
    },
    {
     "data": {
      "text/plain": [
       "'success: content added from https://governor.ohio.gov/wps/portal/gov/governor/media/news-and-media/East-Palestine-Update+-4-5-23-04052023'"
      ]
     },
     "execution_count": 109,
     "metadata": {},
     "output_type": "execute_result"
    },
    {
     "data": {
      "text/plain": [
       "'success: content added from https://governor.ohio.gov/wps/portal/gov/governor/media/news-and-media/East+Palestine+Update-4-3-23-04032023'"
      ]
     },
     "execution_count": 109,
     "metadata": {},
     "output_type": "execute_result"
    },
    {
     "data": {
      "text/plain": [
       "'success: content added from https://governor.ohio.gov/wps/portal/gov/governor/media/news-and-media/Governor-DeWine-Marks-Beginning-of-Strengthened-Distracted-Driving-Law-Launches-Campaign-04032023'"
      ]
     },
     "execution_count": 109,
     "metadata": {},
     "output_type": "execute_result"
    },
    {
     "data": {
      "text/plain": [
       "'success: content added from https://governor.ohio.gov/wps/portal/gov/governor/media/news-and-media/Governor-DeWine-Signs-13.5-Billion-Transportation-Budget03312023'"
      ]
     },
     "execution_count": 109,
     "metadata": {},
     "output_type": "execute_result"
    },
    {
     "data": {
      "text/plain": [
       "'success: content added from https://governor.ohio.gov/wps/portal/gov/governor/media/news-and-media/East-Palestine-Update-3-29-23-03292023'"
      ]
     },
     "execution_count": 109,
     "metadata": {},
     "output_type": "execute_result"
    },
    {
     "data": {
      "text/plain": [
       "'success: content added from https://governor.ohio.gov/wps/portal/gov/governor/media/news-and-media/Governor-DeWine-Authorizes-Emergency-Classification-of-Xylazine-as-Schedule-III-Controlled-Substance'"
      ]
     },
     "execution_count": 109,
     "metadata": {},
     "output_type": "execute_result"
    },
    {
     "data": {
      "text/plain": [
       "'success: content added from https://governor.ohio.gov/wps/portal/gov/governor/media/news-and-media/Governor-DeWine-Orders-Flags-Lowered-in-Remembrance-of-the-Nashville-School-Shooting-Victims-03282023'"
      ]
     },
     "execution_count": 109,
     "metadata": {},
     "output_type": "execute_result"
    },
    {
     "data": {
      "text/plain": [
       "'success: content added from https://governor.ohio.gov/wps/portal/gov/governor/media/news-and-media/East-Palestine-Update-3-27-23-03272023'"
      ]
     },
     "execution_count": 109,
     "metadata": {},
     "output_type": "execute_result"
    },
    {
     "data": {
      "text/plain": [
       "'success: content added from https://governor.ohio.gov/wps/portal/gov/governor/media/news-and-media/New-Projects-Expected-to-Create-209-New-Jobs-13.4-Million-in-Payroll-03272023'"
      ]
     },
     "execution_count": 109,
     "metadata": {},
     "output_type": "execute_result"
    },
    {
     "data": {
      "text/plain": [
       "'success: content added from https://governor.ohio.gov/wps/portal/gov/governor/media/news-and-media/East-Palestine-Update-3-24-23-03242023'"
      ]
     },
     "execution_count": 109,
     "metadata": {},
     "output_type": "execute_result"
    },
    {
     "data": {
      "text/plain": [
       "'success: content added from https://governor.ohio.gov/wps/portal/gov/governor/media/news-and-media/East-Palestine-Update-3-23-23-03232023'"
      ]
     },
     "execution_count": 109,
     "metadata": {},
     "output_type": "execute_result"
    },
    {
     "data": {
      "text/plain": [
       "'success: content added from https://governor.ohio.gov/wps/portal/gov/governor/media/news-and-media/Governor-DeWine-Signs-Executive-Order-03232023'"
      ]
     },
     "execution_count": 109,
     "metadata": {},
     "output_type": "execute_result"
    },
    {
     "data": {
      "text/plain": [
       "'success: content added from https://governor.ohio.gov/wps/portal/gov/governor/media/news-and-media/East-Palestine-Update-3-22-23-03222023'"
      ]
     },
     "execution_count": 109,
     "metadata": {},
     "output_type": "execute_result"
    },
    {
     "data": {
      "text/plain": [
       "'success: content added from https://governor.ohio.gov/wps/portal/gov/governor/media/news-and-media/East-Palestine-Update-3-21-23-03212023'"
      ]
     },
     "execution_count": 109,
     "metadata": {},
     "output_type": "execute_result"
    },
    {
     "data": {
      "text/plain": [
       "'success: content added from https://governor.ohio.gov/wps/portal/gov/governor/media/news-and-media/Governor-DeWine-Lt-Governor-Husted-Call-on-Norfolk-Southern-President-and-CEO-Alan-Shaw-to-Support-Legislative-Efforts-to-Improve-Rail-Safety'"
      ]
     },
     "execution_count": 109,
     "metadata": {},
     "output_type": "execute_result"
    },
    {
     "data": {
      "text/plain": [
       "'success: content added from https://governor.ohio.gov/wps/portal/gov/governor/media/news-and-media/East-Palestine-Update-3-20-23-03022023'"
      ]
     },
     "execution_count": 109,
     "metadata": {},
     "output_type": "execute_result"
    },
    {
     "data": {
      "text/plain": [
       "'success: content added from https://governor.ohio.gov/wps/portal/gov/governor/media/news-and-media/Governor-DeWine-Lt-Governor-Husted-Announc-First-Projects-Funded-Through-New-Appalachian-Community-Grant-Program-03202023'"
      ]
     },
     "execution_count": 109,
     "metadata": {},
     "output_type": "execute_result"
    },
    {
     "data": {
      "text/plain": [
       "'success: content added from https://governor.ohio.gov/wps/portal/gov/governor/media/news-and-media/East-Palestine-Update-3-17-23-03172023'"
      ]
     },
     "execution_count": 109,
     "metadata": {},
     "output_type": "execute_result"
    },
    {
     "data": {
      "text/plain": [
       "'success: content added from https://governor.ohio.gov/wps/portal/gov/governor/media/news-and-media/East-Palestine-Update-3-16-23-03162023'"
      ]
     },
     "execution_count": 109,
     "metadata": {},
     "output_type": "execute_result"
    },
    {
     "data": {
      "text/plain": [
       "'success: content added from https://governor.ohio.gov/wps/portal/gov/governor/media/news-and-media/Governor-DeWine-Announces-Teen-Driver-Safety-Scholarship-Awards-03162023'"
      ]
     },
     "execution_count": 109,
     "metadata": {},
     "output_type": "execute_result"
    },
    {
     "data": {
      "text/plain": [
       "'success: content added from https://governor.ohio.gov/wps/portal/gov/governor/media/news-and-media/Governor-DeWine-Signs-Bill-Into-Law'"
      ]
     },
     "execution_count": 109,
     "metadata": {},
     "output_type": "execute_result"
    },
    {
     "data": {
      "text/plain": [
       "'success: content added from https://governor.ohio.gov/wps/portal/gov/governor/media/news-and-media/East+Palestine+Update-3-15-23'"
      ]
     },
     "execution_count": 109,
     "metadata": {},
     "output_type": "execute_result"
    },
    {
     "data": {
      "text/plain": [
       "'success: content added from https://governor.ohio.gov/wps/portal/gov/governor/media/news-and-media/Governor-DeWine-Increases-Wellness-Support-for-Ohios-First-Responders-by-%2420-Million-03152023'"
      ]
     },
     "execution_count": 109,
     "metadata": {},
     "output_type": "execute_result"
    },
    {
     "data": {
      "text/plain": [
       "'success: content added from https://governor.ohio.gov/wps/portal/gov/governor/media/news-and-media/East+Palestine+Update-3-14-23-03142023'"
      ]
     },
     "execution_count": 109,
     "metadata": {},
     "output_type": "execute_result"
    },
    {
     "data": {
      "text/plain": [
       "'success: content added from https://governor.ohio.gov/wps/portal/gov/governor/media/news-and-media/East-Palestine-Update-3-13-23-03122023'"
      ]
     },
     "execution_count": 109,
     "metadata": {},
     "output_type": "execute_result"
    },
    {
     "data": {
      "text/plain": [
       "'success: content added from https://governor.ohio.gov/wps/portal/gov/governor/media/news-and-media/East-Palestine-Update-3-10-23-03102023'"
      ]
     },
     "execution_count": 109,
     "metadata": {},
     "output_type": "execute_result"
    },
    {
     "data": {
      "text/plain": [
       "'success: content added from https://governor.ohio.gov/wps/portal/gov/governor/media/news-and-media/Governor+DeWine-Awards-12th-Round-of-Ohio-Violent-Crime-Reduction-Grant-Awards-3102023'"
      ]
     },
     "execution_count": 109,
     "metadata": {},
     "output_type": "execute_result"
    },
    {
     "data": {
      "text/plain": [
       "'success: content added from https://governor.ohio.gov/wps/portal/gov/governor/media/news-and-media/East+Palestine+Update-03-9-23-03092023'"
      ]
     },
     "execution_count": 109,
     "metadata": {},
     "output_type": "execute_result"
    },
    {
     "data": {
      "text/plain": [
       "'success: content added from https://governor.ohio.gov/wps/portal/gov/governor/media/news-and-media/East+Palestine+Update-3-8-23-03082023'"
      ]
     },
     "execution_count": 109,
     "metadata": {},
     "output_type": "execute_result"
    },
    {
     "data": {
      "text/plain": [
       "'success: content added from https://governor.ohio.gov/wps/portal/gov/governor/media/news-and-media/DeWine-Norfolk-Southern-Announce-First-Responders-Training-Center-to-be-Located-in-Ohio-03082023'"
      ]
     },
     "execution_count": 109,
     "metadata": {},
     "output_type": "execute_result"
    },
    {
     "data": {
      "text/plain": [
       "'success: content added from https://governor.ohio.gov/wps/portal/gov/governor/media/news-and-media/East-Palestine-Update+-3-7-23-03072023'"
      ]
     },
     "execution_count": 109,
     "metadata": {},
     "output_type": "execute_result"
    },
    {
     "data": {
      "text/plain": [
       "'success: content added from https://governor.ohio.gov/wps/portal/gov/governor/media/news-and-media/Ohio-Launches-New-Data-Dashboards-to-Report-Overdose-Substance-Use-Measures-03072023'"
      ]
     },
     "execution_count": 109,
     "metadata": {},
     "output_type": "execute_result"
    },
    {
     "data": {
      "text/plain": [
       "'success: content added from https://governor.ohio.gov/wps/portal/gov/governor/media/news-and-media/East+Palestine+Update-3-6-23-03062023'"
      ]
     },
     "execution_count": 109,
     "metadata": {},
     "output_type": "execute_result"
    },
    {
     "data": {
      "text/plain": [
       "'success: content added from https://governor.ohio.gov/wps/portal/gov/governor/media/news-and-media/East+Palestine+Update+-3-4-23-030423'"
      ]
     },
     "execution_count": 109,
     "metadata": {},
     "output_type": "execute_result"
    },
    {
     "data": {
      "text/plain": [
       "'success: content added from https://governor.ohio.gov/wps/portal/gov/governor/media/news-and-media/East+Palestine+Update-3-3-23-03032023'"
      ]
     },
     "execution_count": 109,
     "metadata": {},
     "output_type": "execute_result"
    },
    {
     "data": {
      "text/plain": [
       "'success: content added from https://governor.ohio.gov/wps/portal/gov/governor/media/news-and-media/East-Palestine-Update-3-2-23-03022023'"
      ]
     },
     "execution_count": 109,
     "metadata": {},
     "output_type": "execute_result"
    },
    {
     "data": {
      "text/plain": [
       "'success: content added from https://governor.ohio.gov/wps/portal/gov/governor/media/news-and-media/East-Palestine-Update-3-1-23-03012023'"
      ]
     },
     "execution_count": 109,
     "metadata": {},
     "output_type": "execute_result"
    },
    {
     "data": {
      "text/plain": [
       "'success: content added from https://governor.ohio.gov/wps/portal/gov/governor/media/news-and-media/East-Palestine-Update-2-28-23-02282023'"
      ]
     },
     "execution_count": 109,
     "metadata": {},
     "output_type": "execute_result"
    },
    {
     "data": {
      "text/plain": [
       "'success: content added from https://governor.ohio.gov/wps/portal/gov/governor/media/news-and-media/East-Palestine-Update-2-27-23-02272023'"
      ]
     },
     "execution_count": 109,
     "metadata": {},
     "output_type": "execute_result"
    },
    {
     "data": {
      "text/plain": [
       "'success: content added from https://governor.ohio.gov/wps/portal/gov/governor/media/news-and-media/Governor-DeWine-Lt-Governor-Husted-Announce-New-Projects-Expected-to-Create-223-New-Jobs-10-Million-in-Payroll-02272023'"
      ]
     },
     "execution_count": 109,
     "metadata": {},
     "output_type": "execute_result"
    },
    {
     "data": {
      "text/plain": [
       "'success: content added from https://governor.ohio.gov/wps/portal/gov/governor/media/news-and-media/East-Palestine-Update-2-26-23-022723'"
      ]
     },
     "execution_count": 109,
     "metadata": {},
     "output_type": "execute_result"
    },
    {
     "data": {
      "text/plain": [
       "'success: content added from https://governor.ohio.gov/wps/portal/gov/governor/media/news-and-media/East-Palestine-Update-2-25-23-02252023'"
      ]
     },
     "execution_count": 109,
     "metadata": {},
     "output_type": "execute_result"
    },
    {
     "data": {
      "text/plain": [
       "'success: content added from https://governor.ohio.gov/wps/portal/gov/governor/media/news-and-media/Governor-DeWine-Orders-Flags-Lowered-in-Remembrance-of-State-Representative-Kris-Jordan-02252023'"
      ]
     },
     "execution_count": 109,
     "metadata": {},
     "output_type": "execute_result"
    },
    {
     "data": {
      "text/plain": [
       "'success: content added from https://governor.ohio.gov/wps/portal/gov/governor/media/news-and-media/East-Palestine-Update+-2-24-23-022423'"
      ]
     },
     "execution_count": 109,
     "metadata": {},
     "output_type": "execute_result"
    },
    {
     "data": {
      "text/plain": [
       "'success: content added from https://governor.ohio.gov/wps/portal/gov/governor/media/news-and-media/Governor-DeWine-launches-Nursing-Home-Quality-and-Accountability-Task-Force-02242023'"
      ]
     },
     "execution_count": 109,
     "metadata": {},
     "output_type": "execute_result"
    },
    {
     "data": {
      "text/plain": [
       "'success: content added from https://governor.ohio.gov/wps/portal/gov/governor/media/news-and-media/Governor+DeWine-Recognizes-One-Year-Anniversary-of-Russias-Invasion-of-Ukraine-02242023'"
      ]
     },
     "execution_count": 109,
     "metadata": {},
     "output_type": "execute_result"
    },
    {
     "data": {
      "text/plain": [
       "'success: content added from https://governor.ohio.gov/wps/portal/gov/governor/media/news-and-media/East-Palestine-Update-022223'"
      ]
     },
     "execution_count": 109,
     "metadata": {},
     "output_type": "execute_result"
    },
    {
     "data": {
      "text/plain": [
       "'success: content added from https://governor.ohio.gov/wps/portal/gov/governor/media/news-and-media/Governor-DeWine-Appoints-Majer-to-Cleveland-Municipal-Court-02172023'"
      ]
     },
     "execution_count": 109,
     "metadata": {},
     "output_type": "execute_result"
    },
    {
     "data": {
      "text/plain": [
       "'success: content added from https://governor.ohio.gov/wps/portal/gov/governor/media/news-and-media/East-Palestine-Update-2-17-23-2-15-pm-02172023'"
      ]
     },
     "execution_count": 109,
     "metadata": {},
     "output_type": "execute_result"
    },
    {
     "data": {
      "text/plain": [
       "'success: content added from https://governor.ohio.gov/wps/portal/gov/governor/media/news-and-media/East-Palestine-Update-2-16-23+-1-15-pm-02162023'"
      ]
     },
     "execution_count": 109,
     "metadata": {},
     "output_type": "execute_result"
    },
    {
     "data": {
      "text/plain": [
       "'success: content added from https://governor.ohio.gov/wps/portal/gov/governor/media/news-and-media/East-Palestine-Update-2-16-23-11-00-am-02162023'"
      ]
     },
     "execution_count": 109,
     "metadata": {},
     "output_type": "execute_result"
    },
    {
     "data": {
      "text/plain": [
       "'success: content added from https://governor.ohio.gov/wps/portal/gov/governor/media/news-and-media/East-Palestine-Water-Quality-Update-2152023'"
      ]
     },
     "execution_count": 109,
     "metadata": {},
     "output_type": "execute_result"
    },
    {
     "data": {
      "text/plain": [
       "'success: content added from https://governor.ohio.gov/wps/portal/gov/governor/media/news-and-media/East-Palestine-Update-Residents-Can-Safely-Return-Home-02082023'"
      ]
     },
     "execution_count": 109,
     "metadata": {},
     "output_type": "execute_result"
    },
    {
     "data": {
      "text/plain": [
       "'success: content added from https://governor.ohio.gov/wps/portal/gov/governor/media/news-and-media/East-Palestine-Update-Evacuation-Area-Extended-Controlled-Release-of-Rail-Car-Contents-Planned-for-3-30-pm-02062023'"
      ]
     },
     "execution_count": 109,
     "metadata": {},
     "output_type": "execute_result"
    },
    {
     "data": {
      "text/plain": [
       "'success: content added from https://governor.ohio.gov/wps/portal/gov/governor/media/news-and-media/Governor+DeWine+Nominates-John-Williams-for-Seat-on-Public-Utilities-Commission-of-Ohio-2032023'"
      ]
     },
     "execution_count": 109,
     "metadata": {},
     "output_type": "execute_result"
    },
    {
     "data": {
      "text/plain": [
       "'success: content added from https://governor.ohio.gov/wps/portal/gov/governor/media/news-and-media/Governor+DeWine-Announces-School-Safety-Support-for-More-Than-900-Ohio-Schools-02022023'"
      ]
     },
     "execution_count": 109,
     "metadata": {},
     "output_type": "execute_result"
    },
    {
     "data": {
      "text/plain": [
       "'success: content added from https://governor.ohio.gov/wps/portal/gov/governor/media/news-and-media/Governor-DeWines-2023-State-of-the-State-Address-01312023'"
      ]
     },
     "execution_count": 109,
     "metadata": {},
     "output_type": "execute_result"
    },
    {
     "data": {
      "text/plain": [
       "'success: content added from https://governor.ohio.gov/wps/portal/gov/governor/media/news-and-media/Governor-DeWine-Lt-Governor-Husted-Announce-New-Projects-Expected-to-Create-More-Than-588-Million-in-Investments-01302023'"
      ]
     },
     "execution_count": 109,
     "metadata": {},
     "output_type": "execute_result"
    },
    {
     "data": {
      "text/plain": [
       "'success: content added from https://governor.ohio.gov/wps/portal/gov/governor/media/news-and-media/Governor-DeWine-Announces-State-Support-to-Demolish-Nearly-600-Blighted-Buildings-in-Ohio-01272023'"
      ]
     },
     "execution_count": 109,
     "metadata": {},
     "output_type": "execute_result"
    },
    {
     "data": {
      "text/plain": [
       "'success: content added from https://governor.ohio.gov/wps/portal/gov/governor/media/news-and-media/Governor-DeWine-Lt-Governor-Husted-Announce-Plan-to-Cut-One-Third-of-Ohio-Administrative-Code'"
      ]
     },
     "execution_count": 109,
     "metadata": {},
     "output_type": "execute_result"
    },
    {
     "data": {
      "text/plain": [
       "'success: content added from https://governor.ohio.gov/wps/portal/gov/governor/media/news-and-media/Governor-DeWine-Names-Patricia-Harris-as-Nominee-for-Commissioner-of-the-Ohio-Department-of-Taxation-1242023'"
      ]
     },
     "execution_count": 109,
     "metadata": {},
     "output_type": "execute_result"
    },
    {
     "data": {
      "text/plain": [
       "'success: content added from https://governor.ohio.gov/wps/portal/gov/governor/media/news-and-media/Governor-DeWine-Orders-Flags-Lowered-in-Remembrance-of-Victims-in-Monterey-Park-California-01232023'"
      ]
     },
     "execution_count": 109,
     "metadata": {},
     "output_type": "execute_result"
    },
    {
     "data": {
      "text/plain": [
       "'success: content added from https://governor.ohio.gov/wps/portal/gov/governor/media/news-and-media/Governor-Introduces-Program-to-Improve-Maternal-and-Infant-Health-Outcomes-01232023'"
      ]
     },
     "execution_count": 109,
     "metadata": {},
     "output_type": "execute_result"
    },
    {
     "data": {
      "text/plain": [
       "'success: content added from https://governor.ohio.gov/wps/portal/gov/governor/media/news-and-media/Governor-DeWine-Announces-Staff-Appointments-01182023'"
      ]
     },
     "execution_count": 109,
     "metadata": {},
     "output_type": "execute_result"
    },
    {
     "data": {
      "text/plain": [
       "'success: content added from https://governor.ohio.gov/wps/portal/gov/governor/media/news-and-media/Ohio-Awarded-48-Million-Grant-to-Ensure-Kindergarten-Readiness'"
      ]
     },
     "execution_count": 109,
     "metadata": {},
     "output_type": "execute_result"
    },
    {
     "data": {
      "text/plain": [
       "'success: content added from https://governor.ohio.gov/wps/portal/gov/governor/media/news-and-media/Governor-DeWine-Announces-Largest-Rainy-Day-Fund-in-Ohio-History-01172023'"
      ]
     },
     "execution_count": 109,
     "metadata": {},
     "output_type": "execute_result"
    },
    {
     "data": {
      "text/plain": [
       "'success: content added from https://governor.ohio.gov/wps/portal/gov/governor/media/news-and-media/Governor-DeWine-Approves-4-Million-Grant-for-Diversion-Program-Training-Technical-Assistance-at-NEOMED-01112023'"
      ]
     },
     "execution_count": 109,
     "metadata": {},
     "output_type": "execute_result"
    },
    {
     "data": {
      "text/plain": [
       "'success: content added from https://governor.ohio.gov/wps/portal/gov/governor/media/news-and-media/Governor-DeWines-Second-Inaugural-Address-As-Prepared-01092023'"
      ]
     },
     "execution_count": 109,
     "metadata": {},
     "output_type": "execute_result"
    },
    {
     "data": {
      "text/plain": [
       "'success: content added from https://governor.ohio.gov/wps/portal/gov/governor/media/news-and-media/Governor-Signs-Five-Executive-Orders-Within-Minutes-of-Taking-Oath-of-Office-01082023'"
      ]
     },
     "execution_count": 109,
     "metadata": {},
     "output_type": "execute_result"
    },
    {
     "data": {
      "text/plain": [
       "'success: content added from https://governor.ohio.gov/wps/portal/gov/governor/media/news-and-media/Governor-DeWine-Signs-Bills-Into-Law'"
      ]
     },
     "execution_count": 109,
     "metadata": {},
     "output_type": "execute_result"
    },
    {
     "data": {
      "text/plain": [
       "'success: content added from https://governor.ohio.gov/wps/portal/gov/governor/media/news-and-media/Governor-DeWine-Announces-Staff-Appointments-01062023'"
      ]
     },
     "execution_count": 109,
     "metadata": {},
     "output_type": "execute_result"
    },
    {
     "data": {
      "text/plain": [
       "'success: content added from https://governor.ohio.gov/wps/portal/gov/governor/media/news-and-media/Governor-DeWine-Signs-Bills-Into-Law-Vetoes-HB+513-01052023'"
      ]
     },
     "execution_count": 109,
     "metadata": {},
     "output_type": "execute_result"
    },
    {
     "data": {
      "text/plain": [
       "'success: content added from https://governor.ohio.gov/wps/portal/gov/governor/media/news-and-media/Governor-DeWine-Signs-Bills-Into-Law-Vetoes-HB-286-01032023'"
      ]
     },
     "execution_count": 109,
     "metadata": {},
     "output_type": "execute_result"
    },
    {
     "data": {
      "text/plain": [
       "'success: content added from https://governor.ohio.gov/wps/portal/gov/governor/media/news-and-media/Governor-DeWine-Signs-Bill-that-Strengthens-Distracted-Driving-Laws-in-Ohio-01032023'"
      ]
     },
     "execution_count": 109,
     "metadata": {},
     "output_type": "execute_result"
    },
    {
     "data": {
      "text/plain": [
       "'success: content added from https://governor.ohio.gov/wps/portal/gov/governor/media/news-and-media/Governor-DeWine-Signs-Bills-Into-Law-01032023'"
      ]
     },
     "execution_count": 109,
     "metadata": {},
     "output_type": "execute_result"
    }
   ],
   "source": [
    "for link in links_df.link:\n",
    "    get_ohio_content(link, links_df) "
   ]
  },
  {
   "cell_type": "markdown",
   "id": "58724c67",
   "metadata": {},
   "source": [
    "## Validate and Clean"
   ]
  },
  {
   "cell_type": "code",
   "execution_count": 111,
   "id": "4f02860d",
   "metadata": {},
   "outputs": [
    {
     "name": "stdout",
     "output_type": "stream",
     "text": [
      "<class 'pandas.core.frame.DataFrame'>\n",
      "Int64Index: 260 entries, 0 to 259\n",
      "Data columns (total 4 columns):\n",
      " #   Column   Non-Null Count  Dtype \n",
      "---  ------   --------------  ----- \n",
      " 0   link     260 non-null    object\n",
      " 1   content  258 non-null    object\n",
      " 2   title    258 non-null    object\n",
      " 3   date     258 non-null    object\n",
      "dtypes: object(4)\n",
      "memory usage: 10.2+ KB\n"
     ]
    }
   ],
   "source": [
    "links_df.info()"
   ]
  },
  {
   "cell_type": "code",
   "execution_count": 116,
   "id": "1654ce42",
   "metadata": {},
   "outputs": [
    {
     "data": {
      "text/html": [
       "<div>\n",
       "<style scoped>\n",
       "    .dataframe tbody tr th:only-of-type {\n",
       "        vertical-align: middle;\n",
       "    }\n",
       "\n",
       "    .dataframe tbody tr th {\n",
       "        vertical-align: top;\n",
       "    }\n",
       "\n",
       "    .dataframe thead th {\n",
       "        text-align: right;\n",
       "    }\n",
       "</style>\n",
       "<table border=\"1\" class=\"dataframe\">\n",
       "  <thead>\n",
       "    <tr style=\"text-align: right;\">\n",
       "      <th></th>\n",
       "      <th>link</th>\n",
       "      <th>content</th>\n",
       "      <th>title</th>\n",
       "      <th>date</th>\n",
       "    </tr>\n",
       "  </thead>\n",
       "  <tbody>\n",
       "    <tr>\n",
       "      <th>102</th>\n",
       "      <td>https://governor.ohio.gov/wps/portal/gov/gover...</td>\n",
       "      <td>NaN</td>\n",
       "      <td>NaN</td>\n",
       "      <td>NaN</td>\n",
       "    </tr>\n",
       "    <tr>\n",
       "      <th>163</th>\n",
       "      <td>https://governor.ohio.gov/wps/portal/gov/gover...</td>\n",
       "      <td>NaN</td>\n",
       "      <td>NaN</td>\n",
       "      <td>NaN</td>\n",
       "    </tr>\n",
       "  </tbody>\n",
       "</table>\n",
       "</div>"
      ],
      "text/plain": [
       "                                                  link content title date\n",
       "102  https://governor.ohio.gov/wps/portal/gov/gover...     NaN   NaN  NaN\n",
       "163  https://governor.ohio.gov/wps/portal/gov/gover...     NaN   NaN  NaN"
      ]
     },
     "execution_count": 116,
     "metadata": {},
     "output_type": "execute_result"
    }
   ],
   "source": [
    "# check null values\n",
    "missing = links_df[links_df.content.isna()]\n",
    "missing"
   ]
  },
  {
   "cell_type": "code",
   "execution_count": 117,
   "id": "04f37214",
   "metadata": {},
   "outputs": [
    {
     "data": {
      "text/plain": [
       "'success: content added from https://governor.ohio.gov/wps/portal/gov/governor/media/news-and-media/governor-dewine-lt-governor-husted-announce-new-projects-expected-to-create-more-than-900-jobs-58-million-in-payroll'"
      ]
     },
     "execution_count": 117,
     "metadata": {},
     "output_type": "execute_result"
    },
    {
     "data": {
      "text/plain": [
       "'success: content added from https://governor.ohio.gov/wps/portal/gov/governor/media/news-and-media/052523'"
      ]
     },
     "execution_count": 117,
     "metadata": {},
     "output_type": "execute_result"
    }
   ],
   "source": [
    "# try again \n",
    "for link in missing.link:\n",
    "    get_ohio_content(link, links_df) "
   ]
  },
  {
   "cell_type": "code",
   "execution_count": 118,
   "id": "187885b5",
   "metadata": {},
   "outputs": [
    {
     "name": "stdout",
     "output_type": "stream",
     "text": [
      "<class 'pandas.core.frame.DataFrame'>\n",
      "Int64Index: 260 entries, 0 to 259\n",
      "Data columns (total 4 columns):\n",
      " #   Column   Non-Null Count  Dtype \n",
      "---  ------   --------------  ----- \n",
      " 0   link     260 non-null    object\n",
      " 1   content  260 non-null    object\n",
      " 2   title    260 non-null    object\n",
      " 3   date     260 non-null    object\n",
      "dtypes: object(4)\n",
      "memory usage: 10.2+ KB\n"
     ]
    }
   ],
   "source": [
    "links_df.info()"
   ]
  },
  {
   "cell_type": "code",
   "execution_count": 119,
   "id": "e894624d",
   "metadata": {},
   "outputs": [
    {
     "name": "stdout",
     "output_type": "stream",
     "text": [
      "pulled 260 documents from ohio for 2023\n"
     ]
    }
   ],
   "source": [
    "print(f\"pulled {str(len(links_df))} documents from {state} for 2023\")"
   ]
  },
  {
   "cell_type": "code",
   "execution_count": 122,
   "id": "16480ec8",
   "metadata": {},
   "outputs": [],
   "source": [
    "# convert to date-time format\n",
    "links_df['date_clean'] = pd.to_datetime(links_df['date'])"
   ]
  },
  {
   "cell_type": "code",
   "execution_count": 123,
   "id": "dd6faae7",
   "metadata": {},
   "outputs": [],
   "source": [
    "links_cl = links_df.drop(columns=['date']).copy()"
   ]
  },
  {
   "cell_type": "code",
   "execution_count": 125,
   "id": "797a4a9b",
   "metadata": {},
   "outputs": [
    {
     "name": "stdout",
     "output_type": "stream",
     "text": [
      "<class 'pandas.core.frame.DataFrame'>\n",
      "Int64Index: 260 entries, 0 to 259\n",
      "Data columns (total 4 columns):\n",
      " #   Column      Non-Null Count  Dtype         \n",
      "---  ------      --------------  -----         \n",
      " 0   link        260 non-null    object        \n",
      " 1   content     260 non-null    object        \n",
      " 2   title       260 non-null    object        \n",
      " 3   date_clean  260 non-null    datetime64[ns]\n",
      "dtypes: datetime64[ns](1), object(3)\n",
      "memory usage: 10.2+ KB\n"
     ]
    }
   ],
   "source": [
    "links_cl.info()"
   ]
  },
  {
   "cell_type": "markdown",
   "id": "ec1e19fa",
   "metadata": {},
   "source": [
    "## Export"
   ]
  },
  {
   "cell_type": "code",
   "execution_count": 126,
   "id": "d675fc44",
   "metadata": {},
   "outputs": [],
   "source": [
    "# export\n",
    "links_cl.to_csv(f'{state}_2023.csv', index = False)"
   ]
  },
  {
   "cell_type": "code",
   "execution_count": 127,
   "id": "621c6b9b",
   "metadata": {},
   "outputs": [
    {
     "data": {
      "text/html": [
       "<div>\n",
       "<style scoped>\n",
       "    .dataframe tbody tr th:only-of-type {\n",
       "        vertical-align: middle;\n",
       "    }\n",
       "\n",
       "    .dataframe tbody tr th {\n",
       "        vertical-align: top;\n",
       "    }\n",
       "\n",
       "    .dataframe thead th {\n",
       "        text-align: right;\n",
       "    }\n",
       "</style>\n",
       "<table border=\"1\" class=\"dataframe\">\n",
       "  <thead>\n",
       "    <tr style=\"text-align: right;\">\n",
       "      <th></th>\n",
       "      <th>link</th>\n",
       "      <th>content</th>\n",
       "      <th>title</th>\n",
       "      <th>date_clean</th>\n",
       "    </tr>\n",
       "  </thead>\n",
       "  <tbody>\n",
       "    <tr>\n",
       "      <th>0</th>\n",
       "      <td>https://governor.ohio.gov/wps/portal/gov/gover...</td>\n",
       "      <td>(COLUMBUS, Ohio)— Ohio Governor Mike DeWine to...</td>\n",
       "      <td>Governor DeWine Vetoes House Bill 68</td>\n",
       "      <td>2023-12-29</td>\n",
       "    </tr>\n",
       "    <tr>\n",
       "      <th>1</th>\n",
       "      <td>https://governor.ohio.gov/wps/portal/gov/gover...</td>\n",
       "      <td>(COLUMBUS, Ohio)—Ohio Governor Mike DeWine sig...</td>\n",
       "      <td>Governor DeWine Signs Bills Into Law</td>\n",
       "      <td>2023-12-28</td>\n",
       "    </tr>\n",
       "    <tr>\n",
       "      <th>2</th>\n",
       "      <td>https://governor.ohio.gov/wps/portal/gov/gover...</td>\n",
       "      <td>(COLUMBUS, Ohio)—Ohio Governor Mike DeWine tod...</td>\n",
       "      <td>Governor DeWine Issues Statement on Death of F...</td>\n",
       "      <td>2023-12-28</td>\n",
       "    </tr>\n",
       "    <tr>\n",
       "      <th>3</th>\n",
       "      <td>https://governor.ohio.gov/wps/portal/gov/gover...</td>\n",
       "      <td>(EAST PALESTINE, Ohio)— Ohio Governor Mike DeW...</td>\n",
       "      <td>Governor DeWine Announces Financial Support fo...</td>\n",
       "      <td>2023-12-26</td>\n",
       "    </tr>\n",
       "    <tr>\n",
       "      <th>4</th>\n",
       "      <td>https://governor.ohio.gov/wps/portal/gov/gover...</td>\n",
       "      <td>(COLUMBUS, Ohio)— Ohio Governor Mike DeWine, L...</td>\n",
       "      <td>Governor DeWine Announces State Support of 46 ...</td>\n",
       "      <td>2023-12-21</td>\n",
       "    </tr>\n",
       "  </tbody>\n",
       "</table>\n",
       "</div>"
      ],
      "text/plain": [
       "                                                link  \\\n",
       "0  https://governor.ohio.gov/wps/portal/gov/gover...   \n",
       "1  https://governor.ohio.gov/wps/portal/gov/gover...   \n",
       "2  https://governor.ohio.gov/wps/portal/gov/gover...   \n",
       "3  https://governor.ohio.gov/wps/portal/gov/gover...   \n",
       "4  https://governor.ohio.gov/wps/portal/gov/gover...   \n",
       "\n",
       "                                             content  \\\n",
       "0  (COLUMBUS, Ohio)— Ohio Governor Mike DeWine to...   \n",
       "1  (COLUMBUS, Ohio)—Ohio Governor Mike DeWine sig...   \n",
       "2  (COLUMBUS, Ohio)—Ohio Governor Mike DeWine tod...   \n",
       "3  (EAST PALESTINE, Ohio)— Ohio Governor Mike DeW...   \n",
       "4  (COLUMBUS, Ohio)— Ohio Governor Mike DeWine, L...   \n",
       "\n",
       "                                               title  date_clean  \n",
       "0               Governor DeWine Vetoes House Bill 68  2023-12-29  \n",
       "1               Governor DeWine Signs Bills Into Law  2023-12-28  \n",
       "2  Governor DeWine Issues Statement on Death of F...  2023-12-28  \n",
       "3  Governor DeWine Announces Financial Support fo...  2023-12-26  \n",
       "4  Governor DeWine Announces State Support of 46 ...  2023-12-21  "
      ]
     },
     "execution_count": 127,
     "metadata": {},
     "output_type": "execute_result"
    }
   ],
   "source": [
    "test = pd.read_csv(f'{state}_2023.csv')\n",
    "test.head()"
   ]
  }
 ],
 "metadata": {
  "kernelspec": {
   "display_name": "Python 3 (ipykernel)",
   "language": "python",
   "name": "python3"
  },
  "language_info": {
   "codemirror_mode": {
    "name": "ipython",
    "version": 3
   },
   "file_extension": ".py",
   "mimetype": "text/x-python",
   "name": "python",
   "nbconvert_exporter": "python",
   "pygments_lexer": "ipython3",
   "version": "3.9.12"
  }
 },
 "nbformat": 4,
 "nbformat_minor": 5
}
