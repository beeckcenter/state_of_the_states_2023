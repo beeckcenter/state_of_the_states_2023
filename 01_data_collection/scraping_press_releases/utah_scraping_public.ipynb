{
 "cells": [
  {
   "cell_type": "markdown",
   "id": "f00d02a5",
   "metadata": {},
   "source": [
    "# Utah Scraping "
   ]
  },
  {
   "cell_type": "code",
   "execution_count": 1,
   "id": "2d2ca3c3",
   "metadata": {},
   "outputs": [
    {
     "name": "stdout",
     "output_type": "stream",
     "text": [
      "Exception reporting mode: Minimal\n"
     ]
    }
   ],
   "source": [
    "# set up \n",
    "import pandas as pd \n",
    "import requests \n",
    "import bs4\n",
    "import numpy as np\n",
    "import time \n",
    "import re\n",
    "from tika import parser\n",
    "from selenium import webdriver\n",
    "from selenium.webdriver.common.by import By\n",
    "from selenium.webdriver.support.ui import WebDriverWait\n",
    "from selenium.webdriver.support import expected_conditions as EC\n",
    "from selenium.webdriver.support.select import Select\n",
    "from selenium.webdriver.common.action_chains import ActionChains\n",
    "from selenium.common.exceptions import StaleElementReferenceException, TimeoutException\n",
    "from io import BytesIO\n",
    "from urllib.request import urlopen\n",
    "\n",
    "from IPython.core.interactiveshell import InteractiveShell \n",
    "InteractiveShell.ast_node_interactivity = \"all\"\n",
    "\n",
    "%xmode Minimal"
   ]
  },
  {
   "cell_type": "code",
   "execution_count": 1,
   "id": "4b8c25f3",
   "metadata": {},
   "outputs": [],
   "source": [
    "# # set headers\n",
    "# header_list = {'User-Agent': REDACTED,\n",
    "#               'Accept-Language': 'en-US,en;q=0.9'}"
   ]
  },
  {
   "cell_type": "code",
   "execution_count": 3,
   "id": "0b85368d",
   "metadata": {},
   "outputs": [],
   "source": [
    "# state - UPDATE EACH TIME\n",
    "state = 'utah'"
   ]
  },
  {
   "cell_type": "code",
   "execution_count": null,
   "id": "150c1170",
   "metadata": {},
   "outputs": [],
   "source": [
    "# review of robots.txt - no restrictions"
   ]
  },
  {
   "cell_type": "code",
   "execution_count": null,
   "id": "92379a17",
   "metadata": {},
   "outputs": [],
   "source": [
    "# test = pd.read_csv(f'{state}_2023.csv')\n",
    "# test.head()"
   ]
  },
  {
   "cell_type": "markdown",
   "id": "a41b45ff",
   "metadata": {},
   "source": [
    "## Scrape Links \n",
    "`Beautiful Soup`"
   ]
  },
  {
   "cell_type": "markdown",
   "id": "6c897406",
   "metadata": {},
   "source": [
    "### Test on one page"
   ]
  },
  {
   "cell_type": "code",
   "execution_count": 4,
   "id": "54353e0d",
   "metadata": {},
   "outputs": [
    {
     "data": {
      "text/plain": [
       "<Response [200]>"
      ]
     },
     "execution_count": 4,
     "metadata": {},
     "output_type": "execute_result"
    }
   ],
   "source": [
    "link = 'https://governor.utah.gov/news/page/2/'\n",
    "server_response = requests.get(link, header_list)\n",
    "server_response"
   ]
  },
  {
   "cell_type": "code",
   "execution_count": 13,
   "id": "e7afa6bb",
   "metadata": {},
   "outputs": [
    {
     "data": {
      "text/plain": [
       "['Gov. Spencer Cox signs six bills in the 2024 General Legislative Session',\n",
       " 'Gov. Cox, President Adams, Speaker Schultz issue statement on NHL',\n",
       " 'Gov. Spencer J. Cox and Lt. Gov. Deidre Henderson: Schedule for Jan. 29- Feb. 2, 2024',\n",
       " 'Gov. Spencer J. Cox and Lt. Gov. Deidre Henderson: Schedule for Jan. 22-26, 2024',\n",
       " 'Gov. Spencer Cox signs first bill of the 2024 General Legislative Session',\n",
       " 'Gov. Cox delivers his 2024 State of the State address',\n",
       " 'Gov. Spencer J. Cox and Lt. Gov. Deidre Henderson: Schedule for Jan. 15-19, 2024',\n",
       " 'Gov. Cox encourages educators to remove cell phones during class time',\n",
       " 'Gov. Spencer J. Cox and Lt. Gov. Deidre Henderson: Schedule for Jan. 8-12, 2024',\n",
       " 'Gov. Spencer J. Cox and Lt. Gov. Deidre Henderson: Schedule for Jan. 1-5, 2024']"
      ]
     },
     "execution_count": 13,
     "metadata": {},
     "output_type": "execute_result"
    },
    {
     "data": {
      "text/plain": [
       "['https://governor.utah.gov/2024/01/30/gov-spencer-cox-signs-six-bills-in-the-2024-general-legislative-session/',\n",
       " 'https://governor.utah.gov/2024/01/29/gov-cox-president-adams-speaker-schultz-issue-statement-on-nhl/',\n",
       " 'https://governor.utah.gov/2024/01/29/gov-spencer-j-cox-and-lt-gov-deidre-henderson-schedule-for-jan-29-feb-2-2024/',\n",
       " 'https://governor.utah.gov/2024/01/22/gov-spencer-j-cox-and-lt-gov-deidre-henderson-schedule-for-jan-22-26-2024/',\n",
       " 'https://governor.utah.gov/2024/01/19/gov-spencer-cox-signs-first-bill-of-the-2024-general-legislative-session/',\n",
       " 'https://governor.utah.gov/2024/01/18/gov-cox-delivers-his-2024-state-of-the-state-address/',\n",
       " 'https://governor.utah.gov/2024/01/15/gov-spencer-j-cox-and-lt-gov-deidre-henderson-schedule-for-jan-15-19-2024/',\n",
       " 'https://governor.utah.gov/2024/01/10/gov-cox-encourages-educators-to-remove-cell-phones-during-class-time/',\n",
       " 'https://governor.utah.gov/2024/01/08/gov-spencer-j-cox-and-lt-gov-deidre-henderson-schedule-for-jan-8-12-2024/',\n",
       " 'https://governor.utah.gov/2023/12/31/gov-spencer-j-cox-and-lt-gov-deidre-henderson-schedule-for-jan-1-5-2024/']"
      ]
     },
     "execution_count": 13,
     "metadata": {},
     "output_type": "execute_result"
    },
    {
     "data": {
      "text/plain": [
       "['January 30, 2024',\n",
       " 'January 29, 2024',\n",
       " 'January 29, 2024',\n",
       " 'January 22, 2024',\n",
       " 'January 19, 2024',\n",
       " 'January 18, 2024',\n",
       " 'January 15, 2024',\n",
       " 'January 10, 2024',\n",
       " 'January 8, 2024',\n",
       " 'December 31, 2023']"
      ]
     },
     "execution_count": 13,
     "metadata": {},
     "output_type": "execute_result"
    }
   ],
   "source": [
    "soup = bs4.BeautifulSoup(server_response.content, features=\"html.parser\")\n",
    "results = soup.find('div', class_ = 'posts newsPosts').find_all('div', class_='post newsPost')\n",
    "# results\n",
    "\n",
    "title = [i.find('h2').text for i in results]\n",
    "link = [i.find('a')['href'] for i in results]\n",
    "date = [i.find('span', class_='postDate').text for i in results]"
   ]
  },
  {
   "cell_type": "code",
   "execution_count": 14,
   "id": "27dccd40",
   "metadata": {},
   "outputs": [],
   "source": [
    "# define webpage scraping \n",
    "def scrape_utah_links(website, headers):\n",
    "    server_response = requests.get(website, headers)\n",
    "    soup = bs4.BeautifulSoup(server_response.content, features=\"html.parser\")\n",
    "    results = soup.find('div', class_ = 'posts newsPosts').find_all('div', class_='post newsPost')\n",
    "    results_list = [{'title': i.find('h2').text,\n",
    "                 'date': i.find('span', class_='postDate').text, \n",
    "                'link': i.find('a')['href']} for i in results]\n",
    "    df = pd.DataFrame.from_dict(results_list)\n",
    "    df['content'] = np.nan\n",
    "    return df"
   ]
  },
  {
   "cell_type": "markdown",
   "id": "aba7e935",
   "metadata": {},
   "source": [
    "### Scrape all links"
   ]
  },
  {
   "cell_type": "code",
   "execution_count": 15,
   "id": "cecea20e",
   "metadata": {},
   "outputs": [],
   "source": [
    "# try to scrape the first set of pages\n",
    "# manual review for 2023 - I want pages 2-16, give or take a few links on first and last pages\n",
    "df_list=[]\n",
    "\n",
    "for i in range(2,17):\n",
    "    try: \n",
    "        df = scrape_utah_links(f'https://governor.utah.gov/news/page/{i}/', \n",
    "                                  header_list)\n",
    "        df['page_scraped'] = i \n",
    "        df_list.append(df)\n",
    "    except Exception as e:\n",
    "        print(f'Error: {e} at page {i}')"
   ]
  },
  {
   "cell_type": "code",
   "execution_count": 18,
   "id": "ba642591",
   "metadata": {},
   "outputs": [
    {
     "data": {
      "text/html": [
       "<div>\n",
       "<style scoped>\n",
       "    .dataframe tbody tr th:only-of-type {\n",
       "        vertical-align: middle;\n",
       "    }\n",
       "\n",
       "    .dataframe tbody tr th {\n",
       "        vertical-align: top;\n",
       "    }\n",
       "\n",
       "    .dataframe thead th {\n",
       "        text-align: right;\n",
       "    }\n",
       "</style>\n",
       "<table border=\"1\" class=\"dataframe\">\n",
       "  <thead>\n",
       "    <tr style=\"text-align: right;\">\n",
       "      <th></th>\n",
       "      <th>title</th>\n",
       "      <th>date</th>\n",
       "      <th>link</th>\n",
       "      <th>content</th>\n",
       "      <th>page_scraped</th>\n",
       "    </tr>\n",
       "  </thead>\n",
       "  <tbody>\n",
       "    <tr>\n",
       "      <th>0</th>\n",
       "      <td>Gov. Spencer Cox signs six bills in the 2024 G...</td>\n",
       "      <td>January 30, 2024</td>\n",
       "      <td>https://governor.utah.gov/2024/01/30/gov-spenc...</td>\n",
       "      <td>NaN</td>\n",
       "      <td>2</td>\n",
       "    </tr>\n",
       "    <tr>\n",
       "      <th>1</th>\n",
       "      <td>Gov. Cox, President Adams, Speaker Schultz iss...</td>\n",
       "      <td>January 29, 2024</td>\n",
       "      <td>https://governor.utah.gov/2024/01/29/gov-cox-p...</td>\n",
       "      <td>NaN</td>\n",
       "      <td>2</td>\n",
       "    </tr>\n",
       "    <tr>\n",
       "      <th>2</th>\n",
       "      <td>Gov. Spencer J. Cox and Lt. Gov. Deidre Hender...</td>\n",
       "      <td>January 29, 2024</td>\n",
       "      <td>https://governor.utah.gov/2024/01/29/gov-spenc...</td>\n",
       "      <td>NaN</td>\n",
       "      <td>2</td>\n",
       "    </tr>\n",
       "    <tr>\n",
       "      <th>3</th>\n",
       "      <td>Gov. Spencer J. Cox and Lt. Gov. Deidre Hender...</td>\n",
       "      <td>January 22, 2024</td>\n",
       "      <td>https://governor.utah.gov/2024/01/22/gov-spenc...</td>\n",
       "      <td>NaN</td>\n",
       "      <td>2</td>\n",
       "    </tr>\n",
       "    <tr>\n",
       "      <th>4</th>\n",
       "      <td>Gov. Spencer Cox signs first bill of the 2024 ...</td>\n",
       "      <td>January 19, 2024</td>\n",
       "      <td>https://governor.utah.gov/2024/01/19/gov-spenc...</td>\n",
       "      <td>NaN</td>\n",
       "      <td>2</td>\n",
       "    </tr>\n",
       "  </tbody>\n",
       "</table>\n",
       "</div>"
      ],
      "text/plain": [
       "                                               title              date  \\\n",
       "0  Gov. Spencer Cox signs six bills in the 2024 G...  January 30, 2024   \n",
       "1  Gov. Cox, President Adams, Speaker Schultz iss...  January 29, 2024   \n",
       "2  Gov. Spencer J. Cox and Lt. Gov. Deidre Hender...  January 29, 2024   \n",
       "3  Gov. Spencer J. Cox and Lt. Gov. Deidre Hender...  January 22, 2024   \n",
       "4  Gov. Spencer Cox signs first bill of the 2024 ...  January 19, 2024   \n",
       "\n",
       "                                                link  content  page_scraped  \n",
       "0  https://governor.utah.gov/2024/01/30/gov-spenc...      NaN             2  \n",
       "1  https://governor.utah.gov/2024/01/29/gov-cox-p...      NaN             2  \n",
       "2  https://governor.utah.gov/2024/01/29/gov-spenc...      NaN             2  \n",
       "3  https://governor.utah.gov/2024/01/22/gov-spenc...      NaN             2  \n",
       "4  https://governor.utah.gov/2024/01/19/gov-spenc...      NaN             2  "
      ]
     },
     "execution_count": 18,
     "metadata": {},
     "output_type": "execute_result"
    },
    {
     "name": "stdout",
     "output_type": "stream",
     "text": [
      "<class 'pandas.core.frame.DataFrame'>\n",
      "RangeIndex: 150 entries, 0 to 149\n",
      "Data columns (total 5 columns):\n",
      " #   Column        Non-Null Count  Dtype  \n",
      "---  ------        --------------  -----  \n",
      " 0   title         150 non-null    object \n",
      " 1   date          150 non-null    object \n",
      " 2   link          150 non-null    object \n",
      " 3   content       0 non-null      float64\n",
      " 4   page_scraped  150 non-null    int64  \n",
      "dtypes: float64(1), int64(1), object(3)\n",
      "memory usage: 6.0+ KB\n"
     ]
    }
   ],
   "source": [
    "# combine into one df\n",
    "combined = pd.concat(df_list, ignore_index=True)\n",
    "combined.head()\n",
    "combined.info()"
   ]
  },
  {
   "cell_type": "code",
   "execution_count": 19,
   "id": "25884a3f",
   "metadata": {},
   "outputs": [],
   "source": [
    "# export\n",
    "combined.to_csv(f'{state}_links.csv', index = False)"
   ]
  },
  {
   "cell_type": "code",
   "execution_count": 20,
   "id": "1c19239d",
   "metadata": {},
   "outputs": [
    {
     "data": {
      "text/html": [
       "<div>\n",
       "<style scoped>\n",
       "    .dataframe tbody tr th:only-of-type {\n",
       "        vertical-align: middle;\n",
       "    }\n",
       "\n",
       "    .dataframe tbody tr th {\n",
       "        vertical-align: top;\n",
       "    }\n",
       "\n",
       "    .dataframe thead th {\n",
       "        text-align: right;\n",
       "    }\n",
       "</style>\n",
       "<table border=\"1\" class=\"dataframe\">\n",
       "  <thead>\n",
       "    <tr style=\"text-align: right;\">\n",
       "      <th></th>\n",
       "      <th>title</th>\n",
       "      <th>date</th>\n",
       "      <th>link</th>\n",
       "      <th>content</th>\n",
       "      <th>page_scraped</th>\n",
       "    </tr>\n",
       "  </thead>\n",
       "  <tbody>\n",
       "    <tr>\n",
       "      <th>0</th>\n",
       "      <td>Gov. Spencer Cox signs six bills in the 2024 G...</td>\n",
       "      <td>January 30, 2024</td>\n",
       "      <td>https://governor.utah.gov/2024/01/30/gov-spenc...</td>\n",
       "      <td>NaN</td>\n",
       "      <td>2</td>\n",
       "    </tr>\n",
       "    <tr>\n",
       "      <th>1</th>\n",
       "      <td>Gov. Cox, President Adams, Speaker Schultz iss...</td>\n",
       "      <td>January 29, 2024</td>\n",
       "      <td>https://governor.utah.gov/2024/01/29/gov-cox-p...</td>\n",
       "      <td>NaN</td>\n",
       "      <td>2</td>\n",
       "    </tr>\n",
       "    <tr>\n",
       "      <th>2</th>\n",
       "      <td>Gov. Spencer J. Cox and Lt. Gov. Deidre Hender...</td>\n",
       "      <td>January 29, 2024</td>\n",
       "      <td>https://governor.utah.gov/2024/01/29/gov-spenc...</td>\n",
       "      <td>NaN</td>\n",
       "      <td>2</td>\n",
       "    </tr>\n",
       "    <tr>\n",
       "      <th>3</th>\n",
       "      <td>Gov. Spencer J. Cox and Lt. Gov. Deidre Hender...</td>\n",
       "      <td>January 22, 2024</td>\n",
       "      <td>https://governor.utah.gov/2024/01/22/gov-spenc...</td>\n",
       "      <td>NaN</td>\n",
       "      <td>2</td>\n",
       "    </tr>\n",
       "    <tr>\n",
       "      <th>4</th>\n",
       "      <td>Gov. Spencer Cox signs first bill of the 2024 ...</td>\n",
       "      <td>January 19, 2024</td>\n",
       "      <td>https://governor.utah.gov/2024/01/19/gov-spenc...</td>\n",
       "      <td>NaN</td>\n",
       "      <td>2</td>\n",
       "    </tr>\n",
       "  </tbody>\n",
       "</table>\n",
       "</div>"
      ],
      "text/plain": [
       "                                               title              date  \\\n",
       "0  Gov. Spencer Cox signs six bills in the 2024 G...  January 30, 2024   \n",
       "1  Gov. Cox, President Adams, Speaker Schultz iss...  January 29, 2024   \n",
       "2  Gov. Spencer J. Cox and Lt. Gov. Deidre Hender...  January 29, 2024   \n",
       "3  Gov. Spencer J. Cox and Lt. Gov. Deidre Hender...  January 22, 2024   \n",
       "4  Gov. Spencer Cox signs first bill of the 2024 ...  January 19, 2024   \n",
       "\n",
       "                                                link  content  page_scraped  \n",
       "0  https://governor.utah.gov/2024/01/30/gov-spenc...      NaN             2  \n",
       "1  https://governor.utah.gov/2024/01/29/gov-cox-p...      NaN             2  \n",
       "2  https://governor.utah.gov/2024/01/29/gov-spenc...      NaN             2  \n",
       "3  https://governor.utah.gov/2024/01/22/gov-spenc...      NaN             2  \n",
       "4  https://governor.utah.gov/2024/01/19/gov-spenc...      NaN             2  "
      ]
     },
     "execution_count": 20,
     "metadata": {},
     "output_type": "execute_result"
    }
   ],
   "source": [
    "test = pd.read_csv(f'{state}_links.csv')\n",
    "test.head()"
   ]
  },
  {
   "cell_type": "markdown",
   "id": "92cf01bb",
   "metadata": {},
   "source": [
    "## Scrape content from links\n",
    "`Beautiful Soup`"
   ]
  },
  {
   "cell_type": "markdown",
   "id": "32ee43ac",
   "metadata": {},
   "source": [
    "### Test with one link"
   ]
  },
  {
   "cell_type": "code",
   "execution_count": 21,
   "id": "497843ea",
   "metadata": {},
   "outputs": [
    {
     "data": {
      "text/plain": [
       "<Response [200]>"
      ]
     },
     "execution_count": 21,
     "metadata": {},
     "output_type": "execute_result"
    }
   ],
   "source": [
    "# test with one\n",
    "link = 'https://governor.utah.gov/2023/01/17/news-release-gov-spencer-cox-appoints-jason-nelson-to-2nd-district-court/'\n",
    "server_response = requests.get(link, headers = header_list)\n",
    "server_response"
   ]
  },
  {
   "cell_type": "code",
   "execution_count": 23,
   "id": "30642e3a",
   "metadata": {},
   "outputs": [
    {
     "data": {
      "text/plain": [
       "'NEWS RELEASE Jan. 17, 2023 Contact: Emma Williams Office of the Governor (385) 303-4383, ewilliams@utah.gov Gov. Spencer Cox appoints Jason Nelson to 2nd District Court SALT LAKE CITY (Jan. 17, 2023) – Utah Gov. Spencer J. Cox has appointed Jason Nelson to Utah’s 2nd District Court, filling the vacancy left by Judge David Connors’ retirement. Judicial appointments are subject to confirmation by the Utah Senate. “I am pleased that Jason Nelson is willing to serve Utahns in this new capacity,” Gov. Cox said. “His professionalism and love of our state will serve the community well.” Nelson has served as the Deputy Davis County Attorney since 2008. He has also served as a prosecutor for West Bountiful City and North Salt Lake City. Prior to that, he served as a law clerk in the Utah Second Judicial District in Davis County as well as the Utah Attorney General’s Office Criminal Justice Division. “I am grateful for and humbled by the confidence Gov. Cox has placed in me with this appointment,” Nelson said. ”If confirmed by the Utah Senate, I will work diligently to serve the people of this great state with integrity, respect, fairness, and impartiality.” Nelson received a bachelor’s degree in history from Brigham Young University and a juris doctorate from the J. Reuben Clark Law School, Brigham Young University. Nelson coaches basketball, baseball and football for West Point recreation teams and is on the West Point Planning Commission. Photo can be viewed here.  ###'"
      ]
     },
     "execution_count": 23,
     "metadata": {},
     "output_type": "execute_result"
    }
   ],
   "source": [
    "# test with one contd \n",
    "soup_link = bs4.BeautifulSoup(server_response.content, features=\"html.parser\")\n",
    "result = soup_link.find('article', class_ = 'post wrapper').find_all('p')\n",
    "string_result = [str(i.text) for i in result]\n",
    "string_result_clean = [i.replace(u'\\xa0', u'') for i in string_result]\n",
    "string_result_clean = [i.replace(u'\\n', u'') for i in string_result_clean]\n",
    "result_merged = \" \".join(string_result_clean)\n",
    "result_merged"
   ]
  },
  {
   "cell_type": "code",
   "execution_count": null,
   "id": "d020d98b",
   "metadata": {},
   "outputs": [],
   "source": [
    "# define link scraping \n",
    "def get_utah_content(link, df, header_list): \n",
    "    try: \n",
    "        # check if content has already been pulled\n",
    "        result = df.loc[df.link == link, 'content'].notnull().all()\n",
    "        if result:\n",
    "            return f'content already existing for {link}' \n",
    "        else: \n",
    "            try: \n",
    "                server_response = requests.get(link, headers = header_list)\n",
    "                soup_link = bs4.BeautifulSoup(server_response.content, features=\"html.parser\")\n",
    "                result = soup_link.find('article', class_ = 'post wrapper').find_all('p')\n",
    "                string_result = [str(i.text) for i in result]\n",
    "                string_result_clean = [i.replace(u'\\xa0', u'') for i in string_result]\n",
    "                string_result_clean = [i.replace(u'\\n', u'') for i in string_result_clean]\n",
    "                result_merged = \" \".join(string_result_clean)\n",
    "                \n",
    "                df.loc[df.link == link, 'content'] = result_merged\n",
    "                return f\"success: content added from {link}\"\n",
    "            except: \n",
    "                pass\n",
    "    except Exception as e: \n",
    "        return f\"unable to gather content from {link} due to {e}\"\n",
    "    #return df_updated "
   ]
  },
  {
   "cell_type": "code",
   "execution_count": 25,
   "id": "60fbdc9f",
   "metadata": {},
   "outputs": [
    {
     "data": {
      "text/plain": [
       "'success: content added from https://governor.utah.gov/2024/01/30/gov-spencer-cox-signs-six-bills-in-the-2024-general-legislative-session/'"
      ]
     },
     "execution_count": 25,
     "metadata": {},
     "output_type": "execute_result"
    },
    {
     "data": {
      "text/plain": [
       "'success: content added from https://governor.utah.gov/2024/01/29/gov-cox-president-adams-speaker-schultz-issue-statement-on-nhl/'"
      ]
     },
     "execution_count": 25,
     "metadata": {},
     "output_type": "execute_result"
    },
    {
     "data": {
      "text/plain": [
       "'success: content added from https://governor.utah.gov/2024/01/29/gov-spencer-j-cox-and-lt-gov-deidre-henderson-schedule-for-jan-29-feb-2-2024/'"
      ]
     },
     "execution_count": 25,
     "metadata": {},
     "output_type": "execute_result"
    },
    {
     "data": {
      "text/plain": [
       "'success: content added from https://governor.utah.gov/2024/01/22/gov-spencer-j-cox-and-lt-gov-deidre-henderson-schedule-for-jan-22-26-2024/'"
      ]
     },
     "execution_count": 25,
     "metadata": {},
     "output_type": "execute_result"
    },
    {
     "data": {
      "text/plain": [
       "'success: content added from https://governor.utah.gov/2024/01/19/gov-spencer-cox-signs-first-bill-of-the-2024-general-legislative-session/'"
      ]
     },
     "execution_count": 25,
     "metadata": {},
     "output_type": "execute_result"
    },
    {
     "data": {
      "text/plain": [
       "'success: content added from https://governor.utah.gov/2024/01/18/gov-cox-delivers-his-2024-state-of-the-state-address/'"
      ]
     },
     "execution_count": 25,
     "metadata": {},
     "output_type": "execute_result"
    },
    {
     "data": {
      "text/html": [
       "<div>\n",
       "<style scoped>\n",
       "    .dataframe tbody tr th:only-of-type {\n",
       "        vertical-align: middle;\n",
       "    }\n",
       "\n",
       "    .dataframe tbody tr th {\n",
       "        vertical-align: top;\n",
       "    }\n",
       "\n",
       "    .dataframe thead th {\n",
       "        text-align: right;\n",
       "    }\n",
       "</style>\n",
       "<table border=\"1\" class=\"dataframe\">\n",
       "  <thead>\n",
       "    <tr style=\"text-align: right;\">\n",
       "      <th></th>\n",
       "      <th>title</th>\n",
       "      <th>date</th>\n",
       "      <th>link</th>\n",
       "      <th>content</th>\n",
       "      <th>page_scraped</th>\n",
       "    </tr>\n",
       "  </thead>\n",
       "  <tbody>\n",
       "    <tr>\n",
       "      <th>0</th>\n",
       "      <td>Gov. Spencer Cox signs six bills in the 2024 G...</td>\n",
       "      <td>January 30, 2024</td>\n",
       "      <td>https://governor.utah.gov/2024/01/30/gov-spenc...</td>\n",
       "      <td>NEWS RELEASE Jan. 30, 2024 Contact: Emma Willi...</td>\n",
       "      <td>2</td>\n",
       "    </tr>\n",
       "    <tr>\n",
       "      <th>1</th>\n",
       "      <td>Gov. Cox, President Adams, Speaker Schultz iss...</td>\n",
       "      <td>January 29, 2024</td>\n",
       "      <td>https://governor.utah.gov/2024/01/29/gov-cox-p...</td>\n",
       "      <td>NEWS RELEASE Jan. 29, 2024 Contacts: Emma Will...</td>\n",
       "      <td>2</td>\n",
       "    </tr>\n",
       "    <tr>\n",
       "      <th>2</th>\n",
       "      <td>Gov. Spencer J. Cox and Lt. Gov. Deidre Hender...</td>\n",
       "      <td>January 29, 2024</td>\n",
       "      <td>https://governor.utah.gov/2024/01/29/gov-spenc...</td>\n",
       "      <td>**Events labeled Media Access indicate that an...</td>\n",
       "      <td>2</td>\n",
       "    </tr>\n",
       "    <tr>\n",
       "      <th>3</th>\n",
       "      <td>Gov. Spencer J. Cox and Lt. Gov. Deidre Hender...</td>\n",
       "      <td>January 22, 2024</td>\n",
       "      <td>https://governor.utah.gov/2024/01/22/gov-spenc...</td>\n",
       "      <td>**Events labeled Media Access indicate that an...</td>\n",
       "      <td>2</td>\n",
       "    </tr>\n",
       "    <tr>\n",
       "      <th>4</th>\n",
       "      <td>Gov. Spencer Cox signs first bill of the 2024 ...</td>\n",
       "      <td>January 19, 2024</td>\n",
       "      <td>https://governor.utah.gov/2024/01/19/gov-spenc...</td>\n",
       "      <td>NEWS RELEASE Jan. 19, 2024 Contact: Emma Willi...</td>\n",
       "      <td>2</td>\n",
       "    </tr>\n",
       "  </tbody>\n",
       "</table>\n",
       "</div>"
      ],
      "text/plain": [
       "                                               title              date  \\\n",
       "0  Gov. Spencer Cox signs six bills in the 2024 G...  January 30, 2024   \n",
       "1  Gov. Cox, President Adams, Speaker Schultz iss...  January 29, 2024   \n",
       "2  Gov. Spencer J. Cox and Lt. Gov. Deidre Hender...  January 29, 2024   \n",
       "3  Gov. Spencer J. Cox and Lt. Gov. Deidre Hender...  January 22, 2024   \n",
       "4  Gov. Spencer Cox signs first bill of the 2024 ...  January 19, 2024   \n",
       "\n",
       "                                                link  \\\n",
       "0  https://governor.utah.gov/2024/01/30/gov-spenc...   \n",
       "1  https://governor.utah.gov/2024/01/29/gov-cox-p...   \n",
       "2  https://governor.utah.gov/2024/01/29/gov-spenc...   \n",
       "3  https://governor.utah.gov/2024/01/22/gov-spenc...   \n",
       "4  https://governor.utah.gov/2024/01/19/gov-spenc...   \n",
       "\n",
       "                                             content  page_scraped  \n",
       "0  NEWS RELEASE Jan. 30, 2024 Contact: Emma Willi...             2  \n",
       "1  NEWS RELEASE Jan. 29, 2024 Contacts: Emma Will...             2  \n",
       "2  **Events labeled Media Access indicate that an...             2  \n",
       "3  **Events labeled Media Access indicate that an...             2  \n",
       "4  NEWS RELEASE Jan. 19, 2024 Contact: Emma Willi...             2  "
      ]
     },
     "execution_count": 25,
     "metadata": {},
     "output_type": "execute_result"
    }
   ],
   "source": [
    "# test on 5 to see if it works\n",
    "# links_2023.content = np.nan\n",
    "\n",
    "for i in combined.link[0:6]:\n",
    "     get_utah_content(i, combined, header_list)\n",
    "    \n",
    "combined.head()"
   ]
  },
  {
   "cell_type": "markdown",
   "id": "63df0e03",
   "metadata": {},
   "source": [
    "### Scrape content from all links"
   ]
  },
  {
   "cell_type": "code",
   "execution_count": 26,
   "id": "4be4977e",
   "metadata": {},
   "outputs": [
    {
     "data": {
      "text/plain": [
       "'content already existing for https://governor.utah.gov/2024/01/30/gov-spencer-cox-signs-six-bills-in-the-2024-general-legislative-session/'"
      ]
     },
     "execution_count": 26,
     "metadata": {},
     "output_type": "execute_result"
    },
    {
     "data": {
      "text/plain": [
       "'content already existing for https://governor.utah.gov/2024/01/29/gov-cox-president-adams-speaker-schultz-issue-statement-on-nhl/'"
      ]
     },
     "execution_count": 26,
     "metadata": {},
     "output_type": "execute_result"
    },
    {
     "data": {
      "text/plain": [
       "'content already existing for https://governor.utah.gov/2024/01/29/gov-spencer-j-cox-and-lt-gov-deidre-henderson-schedule-for-jan-29-feb-2-2024/'"
      ]
     },
     "execution_count": 26,
     "metadata": {},
     "output_type": "execute_result"
    },
    {
     "data": {
      "text/plain": [
       "'content already existing for https://governor.utah.gov/2024/01/22/gov-spencer-j-cox-and-lt-gov-deidre-henderson-schedule-for-jan-22-26-2024/'"
      ]
     },
     "execution_count": 26,
     "metadata": {},
     "output_type": "execute_result"
    },
    {
     "data": {
      "text/plain": [
       "'content already existing for https://governor.utah.gov/2024/01/19/gov-spencer-cox-signs-first-bill-of-the-2024-general-legislative-session/'"
      ]
     },
     "execution_count": 26,
     "metadata": {},
     "output_type": "execute_result"
    },
    {
     "data": {
      "text/plain": [
       "'content already existing for https://governor.utah.gov/2024/01/18/gov-cox-delivers-his-2024-state-of-the-state-address/'"
      ]
     },
     "execution_count": 26,
     "metadata": {},
     "output_type": "execute_result"
    },
    {
     "data": {
      "text/plain": [
       "'success: content added from https://governor.utah.gov/2024/01/15/gov-spencer-j-cox-and-lt-gov-deidre-henderson-schedule-for-jan-15-19-2024/'"
      ]
     },
     "execution_count": 26,
     "metadata": {},
     "output_type": "execute_result"
    },
    {
     "data": {
      "text/plain": [
       "'success: content added from https://governor.utah.gov/2024/01/10/gov-cox-encourages-educators-to-remove-cell-phones-during-class-time/'"
      ]
     },
     "execution_count": 26,
     "metadata": {},
     "output_type": "execute_result"
    },
    {
     "data": {
      "text/plain": [
       "'success: content added from https://governor.utah.gov/2024/01/08/gov-spencer-j-cox-and-lt-gov-deidre-henderson-schedule-for-jan-8-12-2024/'"
      ]
     },
     "execution_count": 26,
     "metadata": {},
     "output_type": "execute_result"
    },
    {
     "data": {
      "text/plain": [
       "'success: content added from https://governor.utah.gov/2023/12/31/gov-spencer-j-cox-and-lt-gov-deidre-henderson-schedule-for-jan-1-5-2024/'"
      ]
     },
     "execution_count": 26,
     "metadata": {},
     "output_type": "execute_result"
    },
    {
     "data": {
      "text/plain": [
       "'success: content added from https://governor.utah.gov/2023/12/24/gov-spencer-j-cox-and-lt-gov-deidre-henderson-schedule-for-dec-25-29-2023/'"
      ]
     },
     "execution_count": 26,
     "metadata": {},
     "output_type": "execute_result"
    },
    {
     "data": {
      "text/plain": [
       "'success: content added from https://governor.utah.gov/2023/12/18/gov-cox-orders-flags-to-half-staff-in-recognition-of-the-passing-of-u-s-supreme-court-justice-sandra-day-oconnor/'"
      ]
     },
     "execution_count": 26,
     "metadata": {},
     "output_type": "execute_result"
    },
    {
     "data": {
      "text/plain": [
       "'success: content added from https://governor.utah.gov/2023/12/18/gov-cox-names-donna-law-as-new-head-of-department-of-cultural-and-community-engagement-2/'"
      ]
     },
     "execution_count": 26,
     "metadata": {},
     "output_type": "execute_result"
    },
    {
     "data": {
      "text/plain": [
       "'success: content added from https://governor.utah.gov/2023/12/18/gov-cox-names-donna-law-as-new-head-of-department-of-cultural-and-community-engagement/'"
      ]
     },
     "execution_count": 26,
     "metadata": {},
     "output_type": "execute_result"
    },
    {
     "data": {
      "text/plain": [
       "'success: content added from https://governor.utah.gov/2023/12/18/gov-spencer-j-cox-and-lt-gov-deidre-henderson-schedule-for-dec-18-22-2023/'"
      ]
     },
     "execution_count": 26,
     "metadata": {},
     "output_type": "execute_result"
    },
    {
     "data": {
      "text/plain": [
       "'success: content added from https://governor.utah.gov/2023/12/18/utah-public-service-commission-vacancy/'"
      ]
     },
     "execution_count": 26,
     "metadata": {},
     "output_type": "execute_result"
    },
    {
     "data": {
      "text/plain": [
       "'success: content added from https://governor.utah.gov/2023/12/11/gov-spencer-j-cox-and-lt-gov-deidre-henderson-schedule-for-dec-11-15-2023/'"
      ]
     },
     "execution_count": 26,
     "metadata": {},
     "output_type": "execute_result"
    },
    {
     "data": {
      "text/plain": [
       "'success: content added from https://governor.utah.gov/2023/12/06/gov-cox-orders-flags-to-half-staff-in-recognition-of-pearl-harbor-remembrance-day/'"
      ]
     },
     "execution_count": 26,
     "metadata": {},
     "output_type": "execute_result"
    },
    {
     "data": {
      "text/plain": [
       "'success: content added from https://governor.utah.gov/2023/12/05/gov-cox-meets-with-israel-bachar-consul-general-of-israel/'"
      ]
     },
     "execution_count": 26,
     "metadata": {},
     "output_type": "execute_result"
    },
    {
     "data": {
      "text/plain": [
       "'success: content added from https://governor.utah.gov/2023/12/05/gov-cox-appoints-steve-waldrip-as-new-senior-advisor-for-housing-strategy-and-innovation/'"
      ]
     },
     "execution_count": 26,
     "metadata": {},
     "output_type": "execute_result"
    },
    {
     "data": {
      "text/plain": [
       "'success: content added from https://governor.utah.gov/2023/12/05/gov-cox-and-lt-gov-henderson-announce-150-million-utah-first-homes-starter-home-program-in-budget-announcement/'"
      ]
     },
     "execution_count": 26,
     "metadata": {},
     "output_type": "execute_result"
    },
    {
     "data": {
      "text/plain": [
       "'success: content added from https://governor.utah.gov/2023/12/04/gov-cox-announces-agreement-with-local-governments-comprehensive-approach-to-homeless-services-as-key-part-of-fy25-budget/'"
      ]
     },
     "execution_count": 26,
     "metadata": {},
     "output_type": "execute_result"
    },
    {
     "data": {
      "text/plain": [
       "'success: content added from https://governor.utah.gov/2023/12/03/gov-spencer-j-cox-and-lt-gov-deidre-henderson-schedule-for-dec-4-8-2023/'"
      ]
     },
     "execution_count": 26,
     "metadata": {},
     "output_type": "execute_result"
    },
    {
     "data": {
      "text/plain": [
       "'success: content added from https://governor.utah.gov/2023/11/30/gov-cox-and-first-lady-cox-honor-utah-artists-at-governors-mansion-artist-awards-event-3/'"
      ]
     },
     "execution_count": 26,
     "metadata": {},
     "output_type": "execute_result"
    },
    {
     "data": {
      "text/plain": [
       "'success: content added from https://governor.utah.gov/2023/11/28/gov-cox-appoints-brian-bolinder-to-seventh-district-court/'"
      ]
     },
     "execution_count": 26,
     "metadata": {},
     "output_type": "execute_result"
    },
    {
     "data": {
      "text/plain": [
       "'success: content added from https://governor.utah.gov/2023/11/27/gov-spencer-j-cox-and-lt-gov-deidre-henderson-schedule-for-nov-27-dec-1-2023/'"
      ]
     },
     "execution_count": 26,
     "metadata": {},
     "output_type": "execute_result"
    },
    {
     "data": {
      "text/plain": [
       "'success: content added from https://governor.utah.gov/2023/11/20/gov-cox-appoints-stephen-nelson-to-third-district-court/'"
      ]
     },
     "execution_count": 26,
     "metadata": {},
     "output_type": "execute_result"
    },
    {
     "data": {
      "text/plain": [
       "'success: content added from https://governor.utah.gov/2023/11/20/gov-spencer-j-cox-and-lt-gov-deidre-henderson-schedule-for-nov-20-24-2023/'"
      ]
     },
     "execution_count": 26,
     "metadata": {},
     "output_type": "execute_result"
    },
    {
     "data": {
      "text/plain": [
       "'success: content added from https://governor.utah.gov/2023/11/15/great-salt-lake-airboat-named-in-honor-of-utah-speaker-of-the-house/'"
      ]
     },
     "execution_count": 26,
     "metadata": {},
     "output_type": "execute_result"
    },
    {
     "data": {
      "text/plain": [
       "'success: content added from https://governor.utah.gov/2023/11/14/govs-cox-and-polis-call-for-healthy-political-debate-at-colorado-nga-event/'"
      ]
     },
     "execution_count": 26,
     "metadata": {},
     "output_type": "execute_result"
    },
    {
     "data": {
      "text/plain": [
       "'success: content added from https://governor.utah.gov/2023/11/13/gov-spencer-j-cox-and-lt-gov-deidre-henderson-schedule-for-nov-13-17-2023/'"
      ]
     },
     "execution_count": 26,
     "metadata": {},
     "output_type": "execute_result"
    },
    {
     "data": {
      "text/plain": [
       "'success: content added from https://governor.utah.gov/2023/11/06/gov-spencer-j-cox-and-lt-gov-deidre-henderson-schedule-for-nov-6-10-2023/'"
      ]
     },
     "execution_count": 26,
     "metadata": {},
     "output_type": "execute_result"
    },
    {
     "data": {
      "text/plain": [
       "'success: content added from https://governor.utah.gov/2023/10/30/gov-spencer-j-cox-and-lt-gov-deidre-henderson-schedule-for-oct-30-nov-3-2023/'"
      ]
     },
     "execution_count": 26,
     "metadata": {},
     "output_type": "execute_result"
    },
    {
     "data": {
      "text/plain": [
       "'success: content added from https://governor.utah.gov/2023/10/26/gov-cox-orders-flags-to-half-staff/'"
      ]
     },
     "execution_count": 26,
     "metadata": {},
     "output_type": "execute_result"
    },
    {
     "data": {
      "text/plain": [
       "'success: content added from https://governor.utah.gov/2023/10/25/gov-cox-unveils-new-strategic-partnership-plan-with-mexico/'"
      ]
     },
     "execution_count": 26,
     "metadata": {},
     "output_type": "execute_result"
    },
    {
     "data": {
      "text/plain": [
       "'success: content added from https://governor.utah.gov/2023/10/24/utah-sues-meta-for-child-addiction-harm-and-deceiving-parents-about-dangers-of-facebook-and-instagram/'"
      ]
     },
     "execution_count": 26,
     "metadata": {},
     "output_type": "execute_result"
    },
    {
     "data": {
      "text/plain": [
       "'success: content added from https://governor.utah.gov/2023/10/19/guiding-our-growth-survey-shows-utahns-want-a-range-of-housing-options-more-water-conservation-transportation-options-and-open-spaces/'"
      ]
     },
     "execution_count": 26,
     "metadata": {},
     "output_type": "execute_result"
    },
    {
     "data": {
      "text/plain": [
       "'success: content added from https://governor.utah.gov/2023/10/17/gov-cox-announces-executive-orders-about-service-and-volunteerism/'"
      ]
     },
     "execution_count": 26,
     "metadata": {},
     "output_type": "execute_result"
    },
    {
     "data": {
      "text/plain": [
       "'success: content added from https://governor.utah.gov/2023/10/17/gov-cox-appoints-ryan-peters-to-fourth-district-juvenile-court/'"
      ]
     },
     "execution_count": 26,
     "metadata": {},
     "output_type": "execute_result"
    },
    {
     "data": {
      "text/plain": [
       "'success: content added from https://governor.utah.gov/2023/10/16/gov-spencer-j-cox-and-lt-gov-deidre-henderson-schedule-for-oct-16-20-2023/'"
      ]
     },
     "execution_count": 26,
     "metadata": {},
     "output_type": "execute_result"
    },
    {
     "data": {
      "text/plain": [
       "'success: content added from https://governor.utah.gov/2023/10/13/gov-spencer-cox-appoints-scott-stephenson-as-new-board-of-pardons-and-parole-chair/'"
      ]
     },
     "execution_count": 26,
     "metadata": {},
     "output_type": "execute_result"
    },
    {
     "data": {
      "text/plain": [
       "'success: content added from https://governor.utah.gov/2023/10/12/gov-spencer-cox-presents-governors-award-for-excellence-to-state-employees/'"
      ]
     },
     "execution_count": 26,
     "metadata": {},
     "output_type": "execute_result"
    },
    {
     "data": {
      "text/plain": [
       "'success: content added from https://governor.utah.gov/2023/10/11/gov-spencer-cox-condemns-violence-promotes-peace-at-utah-stands-with-israel-rally/'"
      ]
     },
     "execution_count": 26,
     "metadata": {},
     "output_type": "execute_result"
    },
    {
     "data": {
      "text/plain": [
       "'success: content added from https://governor.utah.gov/2023/10/10/utah-sues-tiktok-over-child-addiction-harm-targets-enmeshment-with-its-china-based-parent-company/'"
      ]
     },
     "execution_count": 26,
     "metadata": {},
     "output_type": "execute_result"
    },
    {
     "data": {
      "text/plain": [
       "'success: content added from https://governor.utah.gov/2023/10/09/gov-spencer-j-cox-and-lt-gov-deidre-henderson-schedule-for-oct-9-13-2023/'"
      ]
     },
     "execution_count": 26,
     "metadata": {},
     "output_type": "execute_result"
    },
    {
     "data": {
      "text/plain": [
       "'success: content added from https://governor.utah.gov/2023/10/09/gov-cox-orders-flags-to-be-lowered-to-half-staff-position/'"
      ]
     },
     "execution_count": 26,
     "metadata": {},
     "output_type": "execute_result"
    },
    {
     "data": {
      "text/plain": [
       "'success: content added from https://governor.utah.gov/2023/10/06/nominees-announced-for-3rd-district-court-vacancy-4/'"
      ]
     },
     "execution_count": 26,
     "metadata": {},
     "output_type": "execute_result"
    },
    {
     "data": {
      "text/plain": [
       "'success: content added from https://governor.utah.gov/2023/10/06/nominees-announced-for-7th-district-court-vacancy/'"
      ]
     },
     "execution_count": 26,
     "metadata": {},
     "output_type": "execute_result"
    },
    {
     "data": {
      "text/plain": [
       "'success: content added from https://governor.utah.gov/2023/10/06/utah-leaders-respond-to-ice-office-memo/'"
      ]
     },
     "execution_count": 26,
     "metadata": {},
     "output_type": "execute_result"
    },
    {
     "data": {
      "text/plain": [
       "'success: content added from https://governor.utah.gov/2023/10/05/office-of-the-governor-issues-quarterly-rural-affairs-report/'"
      ]
     },
     "execution_count": 26,
     "metadata": {},
     "output_type": "execute_result"
    },
    {
     "data": {
      "text/plain": [
       "'success: content added from https://governor.utah.gov/2023/10/02/gov-spencer-j-cox-and-lt-gov-deidre-henderson-schedule-for-oct-2-6-2023/'"
      ]
     },
     "execution_count": 26,
     "metadata": {},
     "output_type": "execute_result"
    },
    {
     "data": {
      "text/plain": [
       "'success: content added from https://governor.utah.gov/2023/09/29/gov-cox-names-scott-stephenson-to-board-of-pardons-and-parole/'"
      ]
     },
     "execution_count": 26,
     "metadata": {},
     "output_type": "execute_result"
    },
    {
     "data": {
      "text/plain": [
       "'success: content added from https://governor.utah.gov/2023/09/29/flags-to-be-lowered-in-remembrance-of-sen-dianne-feinstein/'"
      ]
     },
     "execution_count": 26,
     "metadata": {},
     "output_type": "execute_result"
    },
    {
     "data": {
      "text/plain": [
       "'success: content added from https://governor.utah.gov/2023/09/28/gov-spencer-cox-pledges-to-keep-wic-national-parks-open-if-federal-government-shuts-down/'"
      ]
     },
     "execution_count": 26,
     "metadata": {},
     "output_type": "execute_result"
    },
    {
     "data": {
      "text/plain": [
       "'success: content added from https://governor.utah.gov/2023/09/25/gov-spencer-j-cox-to-welcome-president-of-hungary-to-utah/'"
      ]
     },
     "execution_count": 26,
     "metadata": {},
     "output_type": "execute_result"
    },
    {
     "data": {
      "text/plain": [
       "'success: content added from https://governor.utah.gov/2023/09/25/gov-spencer-j-cox-and-lt-gov-deidre-henderson-schedule-for-sept-25-29-2023/'"
      ]
     },
     "execution_count": 26,
     "metadata": {},
     "output_type": "execute_result"
    },
    {
     "data": {
      "text/plain": [
       "'success: content added from https://governor.utah.gov/2023/09/21/gov-cox-and-first-lady-cox-honor-utah-artists-at-governors-mansion-artist-awards-event-2/'"
      ]
     },
     "execution_count": 26,
     "metadata": {},
     "output_type": "execute_result"
    },
    {
     "data": {
      "text/plain": [
       "'success: content added from https://governor.utah.gov/2023/09/18/gov-spencer-j-cox-and-lt-gov-deidre-henderson-schedule-for-sept-18-22-2023/'"
      ]
     },
     "execution_count": 26,
     "metadata": {},
     "output_type": "execute_result"
    },
    {
     "data": {
      "text/plain": [
       "'success: content added from https://governor.utah.gov/2023/09/12/govs-cox-and-sununu-urge-americans-to-disagree-better-at-new-hampshire-event/'"
      ]
     },
     "execution_count": 26,
     "metadata": {},
     "output_type": "execute_result"
    },
    {
     "data": {
      "text/plain": [
       "'success: content added from https://governor.utah.gov/2023/09/11/nominees-announced-for-fourth-district-juvenile-court-vacancy/'"
      ]
     },
     "execution_count": 26,
     "metadata": {},
     "output_type": "execute_result"
    },
    {
     "data": {
      "text/plain": [
       "'success: content added from https://governor.utah.gov/2023/09/11/gov-cox-orders-flags-to-be-lowered-in-remembrance-of-9-11/'"
      ]
     },
     "execution_count": 26,
     "metadata": {},
     "output_type": "execute_result"
    },
    {
     "data": {
      "text/plain": [
       "'success: content added from https://governor.utah.gov/2023/09/11/gov-spencer-j-cox-and-lt-gov-deidre-henderson-schedule-for-sept-11-15-2023/'"
      ]
     },
     "execution_count": 26,
     "metadata": {},
     "output_type": "execute_result"
    },
    {
     "data": {
      "text/plain": [
       "'success: content added from https://governor.utah.gov/2023/09/05/gov-spencer-j-cox-and-lt-gov-deidre-henderson-schedule-for-sept-4-8-2023/'"
      ]
     },
     "execution_count": 26,
     "metadata": {},
     "output_type": "execute_result"
    },
    {
     "data": {
      "text/plain": [
       "'success: content added from https://governor.utah.gov/2023/08/31/gov-cox-orders-flags-to-be-lowered-in-recognition-of-overdose-awareness-day/'"
      ]
     },
     "execution_count": 26,
     "metadata": {},
     "output_type": "execute_result"
    },
    {
     "data": {
      "text/plain": [
       "'success: content added from https://governor.utah.gov/2023/08/28/gov-spencer-j-cox-and-lt-gov-deidre-henderson-schedule-for-aug-28-sept-1-2023/'"
      ]
     },
     "execution_count": 26,
     "metadata": {},
     "output_type": "execute_result"
    },
    {
     "data": {
      "text/plain": [
       "'success: content added from https://governor.utah.gov/2023/08/21/gov-spencer-cox-names-brig-gen-daniel-boyack-as-adjutant-general-of-the-utah-national-guard/'"
      ]
     },
     "execution_count": 26,
     "metadata": {},
     "output_type": "execute_result"
    },
    {
     "data": {
      "text/plain": [
       "'success: content added from https://governor.utah.gov/2023/08/21/gov-spencer-j-cox-and-lt-gov-deidre-henderson-schedule-for-aug-21-25-2023/'"
      ]
     },
     "execution_count": 26,
     "metadata": {},
     "output_type": "execute_result"
    },
    {
     "data": {
      "text/plain": [
       "'success: content added from https://governor.utah.gov/2023/08/17/gov-spencer-cox-issues-statement-on-utah-national-guard-adjutant-general/'"
      ]
     },
     "execution_count": 26,
     "metadata": {},
     "output_type": "execute_result"
    },
    {
     "data": {
      "text/plain": [
       "'success: content added from https://governor.utah.gov/2023/08/14/gov-spencer-j-cox-and-lt-gov-deidre-henderson-schedule-for-aug-14-18-2023/'"
      ]
     },
     "execution_count": 26,
     "metadata": {},
     "output_type": "execute_result"
    },
    {
     "data": {
      "text/plain": [
       "'success: content added from https://governor.utah.gov/2023/08/11/gov-spencer-cox-issues-statement-on-national-monuments-ruling/'"
      ]
     },
     "execution_count": 26,
     "metadata": {},
     "output_type": "execute_result"
    },
    {
     "data": {
      "text/plain": [
       "'success: content added from https://governor.utah.gov/2023/08/08/gov-spencer-cox-expresses-frustration-about-new-grand-canyon-national-monument/'"
      ]
     },
     "execution_count": 26,
     "metadata": {},
     "output_type": "execute_result"
    },
    {
     "data": {
      "text/plain": [
       "'success: content added from https://governor.utah.gov/2023/08/07/gov-spencer-cox-and-lt-gov-deidre-hendersons-public-schedule-week-of-aug-7-11-2023/'"
      ]
     },
     "execution_count": 26,
     "metadata": {},
     "output_type": "execute_result"
    },
    {
     "data": {
      "text/plain": [
       "'success: content added from https://governor.utah.gov/2023/08/03/gov-cox-launches-new-harms-of-social-media-public-awareness-campaign/'"
      ]
     },
     "execution_count": 26,
     "metadata": {},
     "output_type": "execute_result"
    },
    {
     "data": {
      "text/plain": [
       "'success: content added from https://governor.utah.gov/2023/07/31/gov-spencer-j-cox-and-lt-gov-deidre-henderson-schedule-for-july-31-aug-4-2023/'"
      ]
     },
     "execution_count": 26,
     "metadata": {},
     "output_type": "execute_result"
    },
    {
     "data": {
      "text/plain": [
       "'success: content added from https://governor.utah.gov/2023/07/27/gov-spencer-cox-recognizes-recipients-of-second-annual-governors-spirit-of-service-award/'"
      ]
     },
     "execution_count": 26,
     "metadata": {},
     "output_type": "execute_result"
    },
    {
     "data": {
      "text/plain": [
       "'success: content added from https://governor.utah.gov/2023/07/25/news-release-gov-spencer-cox-and-attorney-general-sean-reyes-press-tiktok-to-respond-to-subpoenas/'"
      ]
     },
     "execution_count": 26,
     "metadata": {},
     "output_type": "execute_result"
    },
    {
     "data": {
      "text/plain": [
       "'success: content added from https://governor.utah.gov/2023/07/24/gov-spencer-j-cox-and-lt-gov-deidre-henderson-schedule-for-july-24-28-2023/'"
      ]
     },
     "execution_count": 26,
     "metadata": {},
     "output_type": "execute_result"
    },
    {
     "data": {
      "text/plain": [
       "'success: content added from https://governor.utah.gov/2023/07/17/gov-spencer-j-cox-and-lt-gov-deidre-henderson-schedule-for-july-17-21-2023/'"
      ]
     },
     "execution_count": 26,
     "metadata": {},
     "output_type": "execute_result"
    },
    {
     "data": {
      "text/plain": [
       "'success: content added from https://governor.utah.gov/2023/07/14/utah-gov-spencer-j-cox-elected-chair-of-national-governors-association-launches-disagree-better-initiative/'"
      ]
     },
     "execution_count": 26,
     "metadata": {},
     "output_type": "execute_result"
    },
    {
     "data": {
      "text/plain": [
       "'success: content added from https://governor.utah.gov/2023/07/12/gov-cox-appoints-eric-gentry-to-fifth-district-court/'"
      ]
     },
     "execution_count": 26,
     "metadata": {},
     "output_type": "execute_result"
    },
    {
     "data": {
      "text/plain": [
       "'success: content added from https://governor.utah.gov/2023/07/10/gov-spencer-j-cox-and-lt-gov-deidre-henderson-schedule-for-july-10-14-2023/'"
      ]
     },
     "execution_count": 26,
     "metadata": {},
     "output_type": "execute_result"
    },
    {
     "data": {
      "text/plain": [
       "'success: content added from https://governor.utah.gov/2023/07/03/gov-spencer-j-cox-and-lt-gov-deidre-henderson-schedule-for-july-3-7-2023/'"
      ]
     },
     "execution_count": 26,
     "metadata": {},
     "output_type": "execute_result"
    },
    {
     "data": {
      "text/plain": [
       "'success: content added from https://governor.utah.gov/2023/06/29/gov-cox-declares-july-2-as-a-day-of-prayer-and-thanksgiving/'"
      ]
     },
     "execution_count": 26,
     "metadata": {},
     "output_type": "execute_result"
    },
    {
     "data": {
      "text/plain": [
       "'success: content added from https://governor.utah.gov/2023/06/25/gov-spencer-j-cox-and-lt-gov-deidre-henderson-schedule-for-june-26-30-2023/'"
      ]
     },
     "execution_count": 26,
     "metadata": {},
     "output_type": "execute_result"
    },
    {
     "data": {
      "text/plain": [
       "'success: content added from https://governor.utah.gov/2023/06/22/gov-cox-signs-trade-pacts-with-uk-france-during-european-trade-mission/'"
      ]
     },
     "execution_count": 26,
     "metadata": {},
     "output_type": "execute_result"
    },
    {
     "data": {
      "text/plain": [
       "'success: content added from https://governor.utah.gov/2023/06/17/gov-cox-signs-bill-setting-2023-election-dates/'"
      ]
     },
     "execution_count": 26,
     "metadata": {},
     "output_type": "execute_result"
    },
    {
     "data": {
      "text/plain": [
       "'success: content added from https://governor.utah.gov/2023/06/14/gov-cox-appoints-charles-stormont-to-third-district-court/'"
      ]
     },
     "execution_count": 26,
     "metadata": {},
     "output_type": "execute_result"
    },
    {
     "data": {
      "text/plain": [
       "'success: content added from https://governor.utah.gov/2023/06/11/gov-spencer-j-cox-and-lt-gov-deidre-henderson-schedule-for-june-12-16-2023/'"
      ]
     },
     "execution_count": 26,
     "metadata": {},
     "output_type": "execute_result"
    },
    {
     "data": {
      "text/plain": [
       "'success: content added from https://governor.utah.gov/2023/06/07/executive-legislative-branches-set-new-election-schedule-to-fill-congressman-stewarts-vacancy/'"
      ]
     },
     "execution_count": 26,
     "metadata": {},
     "output_type": "execute_result"
    },
    {
     "data": {
      "text/plain": [
       "'success: content added from https://governor.utah.gov/2023/06/04/gov-spencer-j-cox-and-lt-gov-deidre-henderson-schedule-for-june-5-9-2023/'"
      ]
     },
     "execution_count": 26,
     "metadata": {},
     "output_type": "execute_result"
    },
    {
     "data": {
      "text/plain": [
       "'success: content added from https://governor.utah.gov/2023/05/28/gov-spencer-j-cox-and-lt-gov-deidre-henderson-schedule-for-may-29-june-2-2023/'"
      ]
     },
     "execution_count": 26,
     "metadata": {},
     "output_type": "execute_result"
    },
    {
     "data": {
      "text/plain": [
       "'success: content added from https://governor.utah.gov/2023/05/27/gov-cox-orders-flags-to-be-lowered-in-honor-of-memorial-day/'"
      ]
     },
     "execution_count": 26,
     "metadata": {},
     "output_type": "execute_result"
    },
    {
     "data": {
      "text/plain": [
       "'success: content added from https://governor.utah.gov/2023/05/25/nominees-announced-for-5th-district-court-vacancy-2/'"
      ]
     },
     "execution_count": 26,
     "metadata": {},
     "output_type": "execute_result"
    },
    {
     "data": {
      "text/plain": [
       "'success: content added from https://governor.utah.gov/2023/05/25/gov-cox-names-new-members-to-utah-board-of-higher-education/'"
      ]
     },
     "execution_count": 26,
     "metadata": {},
     "output_type": "execute_result"
    },
    {
     "data": {
      "text/plain": [
       "'success: content added from https://governor.utah.gov/2023/05/25/gov-cox-and-first-lady-cox-honor-utah-artists-at-governors-mansion-artist-awards-event/'"
      ]
     },
     "execution_count": 26,
     "metadata": {},
     "output_type": "execute_result"
    },
    {
     "data": {
      "text/plain": [
       "'success: content added from https://governor.utah.gov/2023/05/21/gov-spencer-j-cox-and-lt-gov-deidre-henderson-schedule-for-may-22-26-2023/'"
      ]
     },
     "execution_count": 26,
     "metadata": {},
     "output_type": "execute_result"
    },
    {
     "data": {
      "text/plain": [
       "'success: content added from https://governor.utah.gov/2023/05/19/nominees-announced-for-3rd-district-court-vacancy-3/'"
      ]
     },
     "execution_count": 26,
     "metadata": {},
     "output_type": "execute_result"
    },
    {
     "data": {
      "text/plain": [
       "'success: content added from https://governor.utah.gov/2023/05/18/gov-spencer-j-cox-signs-three-bills-from-special-session/'"
      ]
     },
     "execution_count": 26,
     "metadata": {},
     "output_type": "execute_result"
    },
    {
     "data": {
      "text/plain": [
       "'success: content added from https://governor.utah.gov/2023/05/15/gov-cox-appoints-brian-steed-as-new-great-salt-lake-commissioner/'"
      ]
     },
     "execution_count": 26,
     "metadata": {},
     "output_type": "execute_result"
    },
    {
     "data": {
      "text/plain": [
       "'success: content added from https://governor.utah.gov/2023/05/15/gov-cox-adds-two-additional-items-of-business-to-call-for-special-session/'"
      ]
     },
     "execution_count": 26,
     "metadata": {},
     "output_type": "execute_result"
    },
    {
     "data": {
      "text/plain": [
       "'success: content added from https://governor.utah.gov/2023/05/14/gov-spencer-j-cox-and-lt-gov-deidre-henderson-schedule-for-may-15-19-2023/'"
      ]
     },
     "execution_count": 26,
     "metadata": {},
     "output_type": "execute_result"
    },
    {
     "data": {
      "text/plain": [
       "'success: content added from https://governor.utah.gov/2023/05/11/news-release-gov-cox-issues-executive-order-to-require-water-conservation-at-state-facilities-and-increase-utahs-drought-resiliency/'"
      ]
     },
     "execution_count": 26,
     "metadata": {},
     "output_type": "execute_result"
    },
    {
     "data": {
      "text/plain": [
       "'success: content added from https://governor.utah.gov/2023/05/09/news-release-gov-cox-names-brian-redd-as-new-executive-director-of-the-department-of-corrections/'"
      ]
     },
     "execution_count": 26,
     "metadata": {},
     "output_type": "execute_result"
    },
    {
     "data": {
      "text/plain": [
       "'success: content added from https://governor.utah.gov/2023/05/08/news-release-gov-spencer-j-cox-and-lt-gov-deidre-henderson-schedule-for-may-8-12-2023/'"
      ]
     },
     "execution_count": 26,
     "metadata": {},
     "output_type": "execute_result"
    },
    {
     "data": {
      "text/plain": [
       "'success: content added from https://governor.utah.gov/2023/05/07/news-release-gov-cox-orders-flags-to-be-lowered/'"
      ]
     },
     "execution_count": 26,
     "metadata": {},
     "output_type": "execute_result"
    },
    {
     "data": {
      "text/plain": [
       "'success: content added from https://governor.utah.gov/2023/05/07/news-release-gov-cox-orders-flags-lowered-for-national-fallen-firefighters-memorial-service/'"
      ]
     },
     "execution_count": 26,
     "metadata": {},
     "output_type": "execute_result"
    },
    {
     "data": {
      "text/plain": [
       "'success: content added from https://governor.utah.gov/2023/05/03/gov-cox-ceremonially-signs-bills-focused-on-education/'"
      ]
     },
     "execution_count": 26,
     "metadata": {},
     "output_type": "execute_result"
    },
    {
     "data": {
      "text/plain": [
       "'success: content added from https://governor.utah.gov/2023/05/01/news-release-public-schedule-for-gov-spencer-cox-and-lt-gov-deidre-henderson-week-of-may-1-5-2023/'"
      ]
     },
     "execution_count": 26,
     "metadata": {},
     "output_type": "execute_result"
    },
    {
     "data": {
      "text/plain": [
       "'success: content added from https://governor.utah.gov/2023/04/25/gov-cox-ceremonially-signs-bills-focused-on-water/'"
      ]
     },
     "execution_count": 26,
     "metadata": {},
     "output_type": "execute_result"
    },
    {
     "data": {
      "text/plain": [
       "'success: content added from https://governor.utah.gov/2023/04/24/release-public-schedule-for-gov-cox-and-lt-gov-henderson-week-of-april-24-2023/'"
      ]
     },
     "execution_count": 26,
     "metadata": {},
     "output_type": "execute_result"
    },
    {
     "data": {
      "text/plain": [
       "'success: content added from https://governor.utah.gov/2023/04/21/release-gov-cox-orders-new-coordinated-effort-to-protect-personal-data/'"
      ]
     },
     "execution_count": 26,
     "metadata": {},
     "output_type": "execute_result"
    },
    {
     "data": {
      "text/plain": [
       "'success: content added from https://governor.utah.gov/2023/04/21/release-gov-cox-resumes-powers-and-duties-of-governor/'"
      ]
     },
     "execution_count": 26,
     "metadata": {},
     "output_type": "execute_result"
    },
    {
     "data": {
      "text/plain": [
       "'success: content added from https://governor.utah.gov/2023/04/21/release-gov-cox-designates-lt-gov-henderson-as-acting-governor-during-medical-procedure/'"
      ]
     },
     "execution_count": 26,
     "metadata": {},
     "output_type": "execute_result"
    },
    {
     "data": {
      "text/plain": [
       "'success: content added from https://governor.utah.gov/2023/04/18/advisory-gov-cox-declares-state-of-emergency-due-to-flooding-and-flood-risks/'"
      ]
     },
     "execution_count": 26,
     "metadata": {},
     "output_type": "execute_result"
    },
    {
     "data": {
      "text/plain": [
       "'success: content added from https://governor.utah.gov/2023/04/18/gov-cox-ceremonially-signs-bills-focused-on-smart-growth/'"
      ]
     },
     "execution_count": 26,
     "metadata": {},
     "output_type": "execute_result"
    },
    {
     "data": {
      "text/plain": [
       "'success: content added from https://governor.utah.gov/2023/04/18/release-gov-spencer-cox-and-lt-gov-hendersons-schedule-april-17-21-2023/'"
      ]
     },
     "execution_count": 26,
     "metadata": {},
     "output_type": "execute_result"
    },
    {
     "data": {
      "text/plain": [
       "'success: content added from https://governor.utah.gov/2023/04/14/news-release-gov-cox-names-marvin-dodge-as-new-executive-director-of-department-of-government-operations/'"
      ]
     },
     "execution_count": 26,
     "metadata": {},
     "output_type": "execute_result"
    },
    {
     "data": {
      "text/plain": [
       "'success: content added from https://governor.utah.gov/2023/04/14/news-release-utah-named-state-with-best-economic-outlook-for-16th-year-in-a-row/'"
      ]
     },
     "execution_count": 26,
     "metadata": {},
     "output_type": "execute_result"
    },
    {
     "data": {
      "text/plain": [
       "'success: content added from https://governor.utah.gov/2023/04/11/gov-cox-ceremonially-signs-bills-focused-on-families/'"
      ]
     },
     "execution_count": 26,
     "metadata": {},
     "output_type": "execute_result"
    },
    {
     "data": {
      "text/plain": [
       "'success: content added from https://governor.utah.gov/2023/04/10/gov-spencer-j-cox-and-lt-gov-deidre-henderson-schedule-for-april-10-14-2023/'"
      ]
     },
     "execution_count": 26,
     "metadata": {},
     "output_type": "execute_result"
    },
    {
     "data": {
      "text/plain": [
       "'success: content added from https://governor.utah.gov/2023/04/03/gov-spencer-j-cox-and-lt-gov-deidre-henderson-schedule-for-april-3-7-2023/'"
      ]
     },
     "execution_count": 26,
     "metadata": {},
     "output_type": "execute_result"
    },
    {
     "data": {
      "text/plain": [
       "'success: content added from https://governor.utah.gov/2023/03/27/gov-cox-orders-flags-to-be-lowered-in-honor-of-the-victims-in-nashville-tennessee/'"
      ]
     },
     "execution_count": 26,
     "metadata": {},
     "output_type": "execute_result"
    },
    {
     "data": {
      "text/plain": [
       "'success: content added from https://governor.utah.gov/2023/03/27/gov-spencer-j-cox-and-lt-gov-deidre-henderson-schedule-for-march-27-31-2023/'"
      ]
     },
     "execution_count": 26,
     "metadata": {},
     "output_type": "execute_result"
    },
    {
     "data": {
      "text/plain": [
       "'success: content added from https://governor.utah.gov/2023/03/23/gov-cox-signs-bills-focused-on-social-media-in-utah/'"
      ]
     },
     "execution_count": 26,
     "metadata": {},
     "output_type": "execute_result"
    },
    {
     "data": {
      "text/plain": [
       "'success: content added from https://governor.utah.gov/2023/03/21/gov-cox-issues-executive-order-outlining-how-to-display-the-historic-state-flag-and-new-state-flag/'"
      ]
     },
     "execution_count": 26,
     "metadata": {},
     "output_type": "execute_result"
    },
    {
     "data": {
      "text/plain": [
       "'success: content added from https://governor.utah.gov/2023/02/27/gov-spencer-j-cox-and-lt-gov-deidre-henderson-schedule-for-feb-27-march-3-2023/'"
      ]
     },
     "execution_count": 26,
     "metadata": {},
     "output_type": "execute_result"
    },
    {
     "data": {
      "text/plain": [
       "'success: content added from https://governor.utah.gov/2023/02/21/news-release-legislature-and-governors-office-release-updated-budget-estimates/'"
      ]
     },
     "execution_count": 26,
     "metadata": {},
     "output_type": "execute_result"
    },
    {
     "data": {
      "text/plain": [
       "'success: content added from https://governor.utah.gov/2023/02/21/media-release-gov-spencer-j-cox-and-lt-gov-deidre-henderson-schedule-for-feb-20-feb-24-2023/'"
      ]
     },
     "execution_count": 26,
     "metadata": {},
     "output_type": "execute_result"
    },
    {
     "data": {
      "text/plain": [
       "'success: content added from https://governor.utah.gov/2023/02/16/gov-cox-signs-three-bills-in-the-2023-general-legislative-session/'"
      ]
     },
     "execution_count": 26,
     "metadata": {},
     "output_type": "execute_result"
    },
    {
     "data": {
      "text/plain": [
       "'success: content added from https://governor.utah.gov/2023/02/15/media-release-texas-instruments-to-build-new-chip-factory-in-lehi-bringing-hundreds-of-jobs-to-the-state/'"
      ]
     },
     "execution_count": 26,
     "metadata": {},
     "output_type": "execute_result"
    },
    {
     "data": {
      "text/plain": [
       "'success: content added from https://governor.utah.gov/2023/02/13/public-schedule-for-gov-cox-and-lt-gov-henderson-feb-13-17-2023/'"
      ]
     },
     "execution_count": 26,
     "metadata": {},
     "output_type": "execute_result"
    },
    {
     "data": {
      "text/plain": [
       "'success: content added from https://governor.utah.gov/2023/02/06/gov-cox-issues-statement-on-gas-prices-resources-for-low-income-and-larger-families/'"
      ]
     },
     "execution_count": 26,
     "metadata": {},
     "output_type": "execute_result"
    },
    {
     "data": {
      "text/plain": [
       "'success: content added from https://governor.utah.gov/2023/02/06/gov-spencer-j-cox-and-lt-gov-deidre-henderson-schedule-for-feb-6-feb-10-2023/'"
      ]
     },
     "execution_count": 26,
     "metadata": {},
     "output_type": "execute_result"
    },
    {
     "data": {
      "text/plain": [
       "'success: content added from https://governor.utah.gov/2023/02/03/gov-cox-issues-executive-order-to-raise-the-great-salt-lake-causeway-berm/'"
      ]
     },
     "execution_count": 26,
     "metadata": {},
     "output_type": "execute_result"
    },
    {
     "data": {
      "text/plain": [
       "'success: content added from https://governor.utah.gov/2023/02/02/gov-cox-signs-eight-bills-in-the-2023-general-legislative-session/'"
      ]
     },
     "execution_count": 26,
     "metadata": {},
     "output_type": "execute_result"
    },
    {
     "data": {
      "text/plain": [
       "'success: content added from https://governor.utah.gov/2023/02/01/applications-open-to-serve-on-the-utah-public-service-commission/'"
      ]
     },
     "execution_count": 26,
     "metadata": {},
     "output_type": "execute_result"
    },
    {
     "data": {
      "text/plain": [
       "'success: content added from https://governor.utah.gov/2023/02/01/gov-cox-issues-executive-order-to-ensure-data-sharing-between-state-agencies/'"
      ]
     },
     "execution_count": 26,
     "metadata": {},
     "output_type": "execute_result"
    },
    {
     "data": {
      "text/plain": [
       "'success: content added from https://governor.utah.gov/2023/01/30/gov-spencer-j-cox-and-lt-gov-deidre-henderson-schedule-for-jan-30-feb-3-2023/'"
      ]
     },
     "execution_count": 26,
     "metadata": {},
     "output_type": "execute_result"
    },
    {
     "data": {
      "text/plain": [
       "'success: content added from https://governor.utah.gov/2023/01/28/gov-spencer-cox-signs-education-funding-transgender-medical-bills/'"
      ]
     },
     "execution_count": 26,
     "metadata": {},
     "output_type": "execute_result"
    },
    {
     "data": {
      "text/plain": [
       "'success: content added from https://governor.utah.gov/2023/01/25/utah-governors-spirit-of-service-award/'"
      ]
     },
     "execution_count": 26,
     "metadata": {},
     "output_type": "execute_result"
    },
    {
     "data": {
      "text/plain": [
       "'success: content added from https://governor.utah.gov/2023/01/23/gov-spencer-j-cox-and-lt-gov-deidre-henderson-schedule-for-jan-23-jan-27-2023/'"
      ]
     },
     "execution_count": 26,
     "metadata": {},
     "output_type": "execute_result"
    },
    {
     "data": {
      "text/plain": [
       "'success: content added from https://governor.utah.gov/2023/01/19/watch-gov-cox-speaks-to-the-future-of-utah-in-his-2023-state-of-the-state-address/'"
      ]
     },
     "execution_count": 26,
     "metadata": {},
     "output_type": "execute_result"
    },
    {
     "data": {
      "text/plain": [
       "'success: content added from https://governor.utah.gov/2023/01/17/news-release-gov-spencer-cox-appoints-jason-nelson-to-2nd-district-court/'"
      ]
     },
     "execution_count": 26,
     "metadata": {},
     "output_type": "execute_result"
    },
    {
     "data": {
      "text/plain": [
       "'success: content added from https://governor.utah.gov/2023/01/17/gov-spencer-j-cox-and-lt-gov-deidre-henderson-schedule-for-jan-16-jan-20-2023/'"
      ]
     },
     "execution_count": 26,
     "metadata": {},
     "output_type": "execute_result"
    },
    {
     "data": {
      "text/plain": [
       "'success: content added from https://governor.utah.gov/2023/01/12/news-release-gov-spencer-cox-names-ryan-starks-brad-bonham-to-leadership-roles-in-the-governors-office-of-economic-opportunity/'"
      ]
     },
     "execution_count": 26,
     "metadata": {},
     "output_type": "execute_result"
    },
    {
     "data": {
      "text/plain": [
       "'success: content added from https://governor.utah.gov/2023/01/11/gov-spencer-cox-appoints-judge-amy-j-oliver-to-utah-court-of-appeals/'"
      ]
     },
     "execution_count": 26,
     "metadata": {},
     "output_type": "execute_result"
    },
    {
     "data": {
      "text/plain": [
       "'success: content added from https://governor.utah.gov/2023/01/10/media-release-gov-cox-hosts-social-media-and-youth-mental-health-symposium/'"
      ]
     },
     "execution_count": 26,
     "metadata": {},
     "output_type": "execute_result"
    },
    {
     "data": {
      "text/plain": [
       "'success: content added from https://governor.utah.gov/2023/01/09/gov-spencer-j-cox-and-lt-gov-deidre-henderson-schedule-for-jan-9-jan-13-2023/'"
      ]
     },
     "execution_count": 26,
     "metadata": {},
     "output_type": "execute_result"
    },
    {
     "data": {
      "text/plain": [
       "'success: content added from https://governor.utah.gov/2023/01/05/icymi-what-does-it-mean-to-be-fiscally-responsible-in-utah/'"
      ]
     },
     "execution_count": 26,
     "metadata": {},
     "output_type": "execute_result"
    },
    {
     "data": {
      "text/plain": [
       "'success: content added from https://governor.utah.gov/2023/01/04/gov-spencer-j-cox-and-lt-gov-deidre-henderson-schedule-for-jan-2-jan-6-2023/'"
      ]
     },
     "execution_count": 26,
     "metadata": {},
     "output_type": "execute_result"
    }
   ],
   "source": [
    "for i in combined.link:\n",
    "     get_utah_content(i, combined, header_list)"
   ]
  },
  {
   "cell_type": "markdown",
   "id": "02752a5b",
   "metadata": {},
   "source": [
    "## Validate and Clean"
   ]
  },
  {
   "cell_type": "code",
   "execution_count": 27,
   "id": "06bca64d",
   "metadata": {},
   "outputs": [
    {
     "data": {
      "text/html": [
       "<div>\n",
       "<style scoped>\n",
       "    .dataframe tbody tr th:only-of-type {\n",
       "        vertical-align: middle;\n",
       "    }\n",
       "\n",
       "    .dataframe tbody tr th {\n",
       "        vertical-align: top;\n",
       "    }\n",
       "\n",
       "    .dataframe thead th {\n",
       "        text-align: right;\n",
       "    }\n",
       "</style>\n",
       "<table border=\"1\" class=\"dataframe\">\n",
       "  <thead>\n",
       "    <tr style=\"text-align: right;\">\n",
       "      <th></th>\n",
       "      <th>title</th>\n",
       "      <th>date</th>\n",
       "      <th>link</th>\n",
       "      <th>content</th>\n",
       "      <th>page_scraped</th>\n",
       "    </tr>\n",
       "  </thead>\n",
       "  <tbody>\n",
       "  </tbody>\n",
       "</table>\n",
       "</div>"
      ],
      "text/plain": [
       "Empty DataFrame\n",
       "Columns: [title, date, link, content, page_scraped]\n",
       "Index: []"
      ]
     },
     "execution_count": 27,
     "metadata": {},
     "output_type": "execute_result"
    }
   ],
   "source": [
    "#check that content was pulled accurately\n",
    "combined[combined.content.isna()]"
   ]
  },
  {
   "cell_type": "code",
   "execution_count": 28,
   "id": "dcea6850",
   "metadata": {},
   "outputs": [],
   "source": [
    "# convert to date-time format\n",
    "combined['date_clean'] = pd.to_datetime(combined['date'])\n",
    "\n",
    "combined_2023 = combined.drop(columns=['date']).copy()"
   ]
  },
  {
   "cell_type": "code",
   "execution_count": 29,
   "id": "0f3cb95d",
   "metadata": {},
   "outputs": [
    {
     "data": {
      "text/html": [
       "<div>\n",
       "<style scoped>\n",
       "    .dataframe tbody tr th:only-of-type {\n",
       "        vertical-align: middle;\n",
       "    }\n",
       "\n",
       "    .dataframe tbody tr th {\n",
       "        vertical-align: top;\n",
       "    }\n",
       "\n",
       "    .dataframe thead th {\n",
       "        text-align: right;\n",
       "    }\n",
       "</style>\n",
       "<table border=\"1\" class=\"dataframe\">\n",
       "  <thead>\n",
       "    <tr style=\"text-align: right;\">\n",
       "      <th></th>\n",
       "      <th>title</th>\n",
       "      <th>link</th>\n",
       "      <th>content</th>\n",
       "      <th>page_scraped</th>\n",
       "      <th>date_clean</th>\n",
       "    </tr>\n",
       "  </thead>\n",
       "  <tbody>\n",
       "    <tr>\n",
       "      <th>0</th>\n",
       "      <td>Gov. Spencer Cox signs six bills in the 2024 G...</td>\n",
       "      <td>https://governor.utah.gov/2024/01/30/gov-spenc...</td>\n",
       "      <td>NEWS RELEASE Jan. 30, 2024 Contact: Emma Willi...</td>\n",
       "      <td>2</td>\n",
       "      <td>2024-01-30</td>\n",
       "    </tr>\n",
       "    <tr>\n",
       "      <th>1</th>\n",
       "      <td>Gov. Cox, President Adams, Speaker Schultz iss...</td>\n",
       "      <td>https://governor.utah.gov/2024/01/29/gov-cox-p...</td>\n",
       "      <td>NEWS RELEASE Jan. 29, 2024 Contacts: Emma Will...</td>\n",
       "      <td>2</td>\n",
       "      <td>2024-01-29</td>\n",
       "    </tr>\n",
       "    <tr>\n",
       "      <th>2</th>\n",
       "      <td>Gov. Spencer J. Cox and Lt. Gov. Deidre Hender...</td>\n",
       "      <td>https://governor.utah.gov/2024/01/29/gov-spenc...</td>\n",
       "      <td>**Events labeled Media Access indicate that an...</td>\n",
       "      <td>2</td>\n",
       "      <td>2024-01-29</td>\n",
       "    </tr>\n",
       "    <tr>\n",
       "      <th>3</th>\n",
       "      <td>Gov. Spencer J. Cox and Lt. Gov. Deidre Hender...</td>\n",
       "      <td>https://governor.utah.gov/2024/01/22/gov-spenc...</td>\n",
       "      <td>**Events labeled Media Access indicate that an...</td>\n",
       "      <td>2</td>\n",
       "      <td>2024-01-22</td>\n",
       "    </tr>\n",
       "    <tr>\n",
       "      <th>4</th>\n",
       "      <td>Gov. Spencer Cox signs first bill of the 2024 ...</td>\n",
       "      <td>https://governor.utah.gov/2024/01/19/gov-spenc...</td>\n",
       "      <td>NEWS RELEASE Jan. 19, 2024 Contact: Emma Willi...</td>\n",
       "      <td>2</td>\n",
       "      <td>2024-01-19</td>\n",
       "    </tr>\n",
       "  </tbody>\n",
       "</table>\n",
       "</div>"
      ],
      "text/plain": [
       "                                               title  \\\n",
       "0  Gov. Spencer Cox signs six bills in the 2024 G...   \n",
       "1  Gov. Cox, President Adams, Speaker Schultz iss...   \n",
       "2  Gov. Spencer J. Cox and Lt. Gov. Deidre Hender...   \n",
       "3  Gov. Spencer J. Cox and Lt. Gov. Deidre Hender...   \n",
       "4  Gov. Spencer Cox signs first bill of the 2024 ...   \n",
       "\n",
       "                                                link  \\\n",
       "0  https://governor.utah.gov/2024/01/30/gov-spenc...   \n",
       "1  https://governor.utah.gov/2024/01/29/gov-cox-p...   \n",
       "2  https://governor.utah.gov/2024/01/29/gov-spenc...   \n",
       "3  https://governor.utah.gov/2024/01/22/gov-spenc...   \n",
       "4  https://governor.utah.gov/2024/01/19/gov-spenc...   \n",
       "\n",
       "                                             content  page_scraped date_clean  \n",
       "0  NEWS RELEASE Jan. 30, 2024 Contact: Emma Willi...             2 2024-01-30  \n",
       "1  NEWS RELEASE Jan. 29, 2024 Contacts: Emma Will...             2 2024-01-29  \n",
       "2  **Events labeled Media Access indicate that an...             2 2024-01-29  \n",
       "3  **Events labeled Media Access indicate that an...             2 2024-01-22  \n",
       "4  NEWS RELEASE Jan. 19, 2024 Contact: Emma Willi...             2 2024-01-19  "
      ]
     },
     "execution_count": 29,
     "metadata": {},
     "output_type": "execute_result"
    },
    {
     "name": "stdout",
     "output_type": "stream",
     "text": [
      "<class 'pandas.core.frame.DataFrame'>\n",
      "RangeIndex: 150 entries, 0 to 149\n",
      "Data columns (total 5 columns):\n",
      " #   Column        Non-Null Count  Dtype         \n",
      "---  ------        --------------  -----         \n",
      " 0   title         150 non-null    object        \n",
      " 1   link          150 non-null    object        \n",
      " 2   content       150 non-null    object        \n",
      " 3   page_scraped  150 non-null    int64         \n",
      " 4   date_clean    150 non-null    datetime64[ns]\n",
      "dtypes: datetime64[ns](1), int64(1), object(3)\n",
      "memory usage: 6.0+ KB\n"
     ]
    }
   ],
   "source": [
    "combined_2023.head()\n",
    "combined_2023.info()"
   ]
  },
  {
   "cell_type": "code",
   "execution_count": 30,
   "id": "e894624d",
   "metadata": {},
   "outputs": [
    {
     "name": "stdout",
     "output_type": "stream",
     "text": [
      "pulled 150 documents from utah for 2023\n"
     ]
    }
   ],
   "source": [
    "print(f\"pulled {str(len(combined_2023))} documents from {state} for 2023\")"
   ]
  },
  {
   "cell_type": "markdown",
   "id": "81ce9551",
   "metadata": {},
   "source": [
    "## Export"
   ]
  },
  {
   "cell_type": "code",
   "execution_count": 31,
   "id": "d675fc44",
   "metadata": {},
   "outputs": [],
   "source": [
    "combined_2023.to_csv(f'{state}_2023.csv', index = False)"
   ]
  },
  {
   "cell_type": "code",
   "execution_count": 32,
   "id": "621c6b9b",
   "metadata": {},
   "outputs": [
    {
     "data": {
      "text/html": [
       "<div>\n",
       "<style scoped>\n",
       "    .dataframe tbody tr th:only-of-type {\n",
       "        vertical-align: middle;\n",
       "    }\n",
       "\n",
       "    .dataframe tbody tr th {\n",
       "        vertical-align: top;\n",
       "    }\n",
       "\n",
       "    .dataframe thead th {\n",
       "        text-align: right;\n",
       "    }\n",
       "</style>\n",
       "<table border=\"1\" class=\"dataframe\">\n",
       "  <thead>\n",
       "    <tr style=\"text-align: right;\">\n",
       "      <th></th>\n",
       "      <th>title</th>\n",
       "      <th>link</th>\n",
       "      <th>content</th>\n",
       "      <th>page_scraped</th>\n",
       "      <th>date_clean</th>\n",
       "    </tr>\n",
       "  </thead>\n",
       "  <tbody>\n",
       "    <tr>\n",
       "      <th>0</th>\n",
       "      <td>Gov. Spencer Cox signs six bills in the 2024 G...</td>\n",
       "      <td>https://governor.utah.gov/2024/01/30/gov-spenc...</td>\n",
       "      <td>NEWS RELEASE Jan. 30, 2024 Contact: Emma Willi...</td>\n",
       "      <td>2</td>\n",
       "      <td>2024-01-30</td>\n",
       "    </tr>\n",
       "    <tr>\n",
       "      <th>1</th>\n",
       "      <td>Gov. Cox, President Adams, Speaker Schultz iss...</td>\n",
       "      <td>https://governor.utah.gov/2024/01/29/gov-cox-p...</td>\n",
       "      <td>NEWS RELEASE Jan. 29, 2024 Contacts: Emma Will...</td>\n",
       "      <td>2</td>\n",
       "      <td>2024-01-29</td>\n",
       "    </tr>\n",
       "    <tr>\n",
       "      <th>2</th>\n",
       "      <td>Gov. Spencer J. Cox and Lt. Gov. Deidre Hender...</td>\n",
       "      <td>https://governor.utah.gov/2024/01/29/gov-spenc...</td>\n",
       "      <td>**Events labeled Media Access indicate that an...</td>\n",
       "      <td>2</td>\n",
       "      <td>2024-01-29</td>\n",
       "    </tr>\n",
       "    <tr>\n",
       "      <th>3</th>\n",
       "      <td>Gov. Spencer J. Cox and Lt. Gov. Deidre Hender...</td>\n",
       "      <td>https://governor.utah.gov/2024/01/22/gov-spenc...</td>\n",
       "      <td>**Events labeled Media Access indicate that an...</td>\n",
       "      <td>2</td>\n",
       "      <td>2024-01-22</td>\n",
       "    </tr>\n",
       "    <tr>\n",
       "      <th>4</th>\n",
       "      <td>Gov. Spencer Cox signs first bill of the 2024 ...</td>\n",
       "      <td>https://governor.utah.gov/2024/01/19/gov-spenc...</td>\n",
       "      <td>NEWS RELEASE Jan. 19, 2024 Contact: Emma Willi...</td>\n",
       "      <td>2</td>\n",
       "      <td>2024-01-19</td>\n",
       "    </tr>\n",
       "  </tbody>\n",
       "</table>\n",
       "</div>"
      ],
      "text/plain": [
       "                                               title  \\\n",
       "0  Gov. Spencer Cox signs six bills in the 2024 G...   \n",
       "1  Gov. Cox, President Adams, Speaker Schultz iss...   \n",
       "2  Gov. Spencer J. Cox and Lt. Gov. Deidre Hender...   \n",
       "3  Gov. Spencer J. Cox and Lt. Gov. Deidre Hender...   \n",
       "4  Gov. Spencer Cox signs first bill of the 2024 ...   \n",
       "\n",
       "                                                link  \\\n",
       "0  https://governor.utah.gov/2024/01/30/gov-spenc...   \n",
       "1  https://governor.utah.gov/2024/01/29/gov-cox-p...   \n",
       "2  https://governor.utah.gov/2024/01/29/gov-spenc...   \n",
       "3  https://governor.utah.gov/2024/01/22/gov-spenc...   \n",
       "4  https://governor.utah.gov/2024/01/19/gov-spenc...   \n",
       "\n",
       "                                             content  page_scraped  date_clean  \n",
       "0  NEWS RELEASE Jan. 30, 2024 Contact: Emma Willi...             2  2024-01-30  \n",
       "1  NEWS RELEASE Jan. 29, 2024 Contacts: Emma Will...             2  2024-01-29  \n",
       "2  **Events labeled Media Access indicate that an...             2  2024-01-29  \n",
       "3  **Events labeled Media Access indicate that an...             2  2024-01-22  \n",
       "4  NEWS RELEASE Jan. 19, 2024 Contact: Emma Willi...             2  2024-01-19  "
      ]
     },
     "execution_count": 32,
     "metadata": {},
     "output_type": "execute_result"
    }
   ],
   "source": [
    "test = pd.read_csv(f'{state}_2023.csv')\n",
    "test.head()"
   ]
  }
 ],
 "metadata": {
  "kernelspec": {
   "display_name": "Python 3 (ipykernel)",
   "language": "python",
   "name": "python3"
  },
  "language_info": {
   "codemirror_mode": {
    "name": "ipython",
    "version": 3
   },
   "file_extension": ".py",
   "mimetype": "text/x-python",
   "name": "python",
   "nbconvert_exporter": "python",
   "pygments_lexer": "ipython3",
   "version": "3.9.12"
  }
 },
 "nbformat": 4,
 "nbformat_minor": 5
}
