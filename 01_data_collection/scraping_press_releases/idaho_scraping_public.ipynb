{
 "cells": [
  {
   "cell_type": "markdown",
   "id": "f00d02a5",
   "metadata": {},
   "source": [
    "# Idaho Scraping "
   ]
  },
  {
   "cell_type": "code",
   "execution_count": 1,
   "id": "2d2ca3c3",
   "metadata": {},
   "outputs": [
    {
     "name": "stdout",
     "output_type": "stream",
     "text": [
      "Exception reporting mode: Minimal\n"
     ]
    }
   ],
   "source": [
    "# set up \n",
    "import pandas as pd \n",
    "import requests \n",
    "import bs4\n",
    "import numpy as np\n",
    "import time \n",
    "import re\n",
    "from tika import parser\n",
    "from selenium import webdriver\n",
    "from selenium.webdriver.common.by import By\n",
    "from selenium.webdriver.support.ui import WebDriverWait\n",
    "from selenium.webdriver.support import expected_conditions as EC\n",
    "from io import BytesIO\n",
    "from urllib.request import urlopen\n",
    "\n",
    "from IPython.core.interactiveshell import InteractiveShell \n",
    "InteractiveShell.ast_node_interactivity = \"all\"\n",
    "\n",
    "%xmode Minimal"
   ]
  },
  {
   "cell_type": "code",
   "execution_count": 2,
   "id": "4b8c25f3",
   "metadata": {},
   "outputs": [],
   "source": [
    "# # set headers\n",
    "# header_list = {'User-Agent': REDACTED,\n",
    "#               'Accept-Language': 'en-US,en;q=0.9'}"
   ]
  },
  {
   "cell_type": "code",
   "execution_count": 3,
   "id": "0b85368d",
   "metadata": {},
   "outputs": [],
   "source": [
    "# state - UPDATE EACH TIME\n",
    "state = 'idaho'"
   ]
  },
  {
   "cell_type": "code",
   "execution_count": 33,
   "id": "150c1170",
   "metadata": {},
   "outputs": [],
   "source": [
    "# review of robots.txt - no restrictions"
   ]
  },
  {
   "cell_type": "code",
   "execution_count": 34,
   "id": "92379a17",
   "metadata": {},
   "outputs": [],
   "source": [
    "# test = pd.read_csv(f'{state}_2023.csv')\n",
    "# test.head()"
   ]
  },
  {
   "cell_type": "markdown",
   "id": "a41b45ff",
   "metadata": {},
   "source": [
    "## Scrape Links \n",
    "`Beautiful Soup`"
   ]
  },
  {
   "cell_type": "markdown",
   "id": "6f01a5cf",
   "metadata": {
    "heading_collapsed": true
   },
   "source": [
    "### Try with one link"
   ]
  },
  {
   "cell_type": "code",
   "execution_count": 4,
   "id": "54353e0d",
   "metadata": {
    "hidden": true
   },
   "outputs": [
    {
     "data": {
      "text/plain": [
       "<Response [200]>"
      ]
     },
     "execution_count": 4,
     "metadata": {},
     "output_type": "execute_result"
    }
   ],
   "source": [
    "# access webpage\n",
    "link = 'https://gov.idaho.gov/pressrelease/'\n",
    "server_response = requests.get(link, header_list)\n",
    "server_response"
   ]
  },
  {
   "cell_type": "code",
   "execution_count": 9,
   "id": "e7afa6bb",
   "metadata": {
    "hidden": true
   },
   "outputs": [
    {
     "data": {
      "text/plain": [
       "['February 9, 2024',\n",
       " 'February 9, 2024',\n",
       " 'February 7, 2024',\n",
       " 'February 3, 2024',\n",
       " 'February 1, 2024',\n",
       " 'January 29, 2024',\n",
       " 'January 26, 2024',\n",
       " 'January 25, 2024',\n",
       " 'January 12, 2024',\n",
       " 'January 10, 2024',\n",
       " 'January 8, 2024',\n",
       " 'January 5, 2024',\n",
       " 'January 4, 2024',\n",
       " 'January 2, 2024',\n",
       " 'December 28, 2023',\n",
       " 'December 18, 2023',\n",
       " 'December 15, 2023',\n",
       " 'December 14, 2023',\n",
       " 'December 1, 2023',\n",
       " 'November 29, 2023',\n",
       " 'November 17, 2023',\n",
       " 'November 17, 2023',\n",
       " 'November 15, 2023',\n",
       " 'November 6, 2023',\n",
       " 'November 1, 2023',\n",
       " 'October 3, 2023',\n",
       " 'September 27, 2023',\n",
       " 'September 25, 2023',\n",
       " 'September 22, 2023',\n",
       " 'September 21, 2023',\n",
       " 'September 20, 2023',\n",
       " 'September 7, 2023',\n",
       " 'September 6, 2023',\n",
       " 'August 18, 2023',\n",
       " 'August 16, 2023',\n",
       " 'August 11, 2023',\n",
       " 'August 11, 2023',\n",
       " 'August 10, 2023',\n",
       " 'August 10, 2023',\n",
       " 'August 1, 2023',\n",
       " 'July 19, 2023',\n",
       " 'July 18, 2023',\n",
       " 'July 18, 2023',\n",
       " 'July 6, 2023',\n",
       " 'June 15, 2023',\n",
       " 'June 15, 2023',\n",
       " 'June 8, 2023',\n",
       " 'June 5, 2023',\n",
       " 'May 25, 2023',\n",
       " 'May 19, 2023',\n",
       " 'May 10, 2023',\n",
       " 'May 9, 2023',\n",
       " 'April 28, 2023',\n",
       " 'April 28, 2023',\n",
       " 'April 18, 2023',\n",
       " 'April 11, 2023',\n",
       " 'April 6, 2023',\n",
       " 'March 31, 2023',\n",
       " 'March 30, 2023',\n",
       " 'March 29, 2023',\n",
       " 'March 27, 2023',\n",
       " 'March 22, 2023',\n",
       " 'March 21, 2023',\n",
       " 'March 20, 2023',\n",
       " 'March 16, 2023',\n",
       " 'March 15, 2023',\n",
       " 'March 15, 2023',\n",
       " 'March 14, 2023',\n",
       " 'March 14, 2023',\n",
       " 'March 13, 2023',\n",
       " 'March 8, 2023',\n",
       " 'March 7, 2023',\n",
       " 'March 7, 2023',\n",
       " 'March 4, 2023',\n",
       " 'February 28, 2023',\n",
       " 'February 23, 2023',\n",
       " 'February 16, 2023',\n",
       " 'February 15, 2023',\n",
       " 'February 13, 2023',\n",
       " 'February 8, 2023',\n",
       " 'February 6, 2023',\n",
       " 'February 2, 2023',\n",
       " 'January 31, 2023',\n",
       " 'January 30, 2023',\n",
       " 'January 20, 2023',\n",
       " 'January 19, 2023',\n",
       " 'January 13, 2023',\n",
       " 'January 11, 2023',\n",
       " 'January 10, 2023',\n",
       " 'January 9, 2023',\n",
       " 'January 6, 2023',\n",
       " 'January 3, 2023',\n",
       " 'December 29, 2022',\n",
       " 'December 28, 2022',\n",
       " 'December 16, 2022',\n",
       " 'December 14, 2022',\n",
       " 'November 30, 2022',\n",
       " 'November 22, 2022',\n",
       " 'November 9, 2022',\n",
       " 'November 7, 2022',\n",
       " 'November 2, 2022',\n",
       " 'October 24, 2022',\n",
       " 'October 18, 2022',\n",
       " 'October 12, 2022',\n",
       " 'October 7, 2022',\n",
       " 'September 28, 2022',\n",
       " 'September 20, 2022',\n",
       " 'September 19, 2022',\n",
       " 'September 8, 2022',\n",
       " 'September 6, 2022',\n",
       " 'September 1, 2022',\n",
       " 'August 23, 2022',\n",
       " 'August 17, 2022',\n",
       " 'August 12, 2022',\n",
       " 'August 9, 2022',\n",
       " 'August 5, 2022',\n",
       " 'August 4, 2022',\n",
       " 'August 3, 2022',\n",
       " 'August 2, 2022',\n",
       " 'July 28, 2022',\n",
       " 'July 22, 2022',\n",
       " 'July 22, 2022',\n",
       " 'July 22, 2022',\n",
       " 'July 21, 2022',\n",
       " 'July 19, 2022',\n",
       " 'July 13, 2022',\n",
       " 'July 12, 2022',\n",
       " 'July 6, 2022',\n",
       " 'June 30, 2022',\n",
       " 'June 24, 2022',\n",
       " 'June 17, 2022',\n",
       " 'June 10, 2022',\n",
       " 'June 9, 2022',\n",
       " 'June 1, 2022',\n",
       " 'May 31, 2022',\n",
       " 'May 31, 2022',\n",
       " 'May 20, 2022',\n",
       " 'May 18, 2022',\n",
       " 'May 16, 2022',\n",
       " 'May 13, 2022',\n",
       " 'May 10, 2022',\n",
       " 'May 6, 2022',\n",
       " 'May 5, 2022',\n",
       " 'May 4, 2022',\n",
       " 'April 19, 2022',\n",
       " 'April 12, 2022',\n",
       " 'April 12, 2022',\n",
       " 'April 7, 2022',\n",
       " 'April 5, 2022',\n",
       " 'April 5, 2022',\n",
       " 'April 4, 2022',\n",
       " 'March 31, 2022',\n",
       " 'March 28, 2022',\n",
       " 'March 25, 2022',\n",
       " 'March 22, 2022',\n",
       " 'March 21, 2022',\n",
       " 'March 17, 2022',\n",
       " 'March 15, 2022',\n",
       " 'March 10, 2022',\n",
       " 'March 10, 2022',\n",
       " 'March 8, 2022',\n",
       " 'March 4, 2022',\n",
       " 'March 4, 2022',\n",
       " 'March 3, 2022',\n",
       " 'March 1, 2022',\n",
       " 'March 1, 2022',\n",
       " 'February 18, 2022',\n",
       " 'February 18, 2022',\n",
       " 'February 11, 2022',\n",
       " 'February 9, 2022',\n",
       " 'February 8, 2022',\n",
       " 'February 4, 2022',\n",
       " 'February 3, 2022',\n",
       " 'January 31, 2022',\n",
       " 'January 28, 2022',\n",
       " 'January 26, 2022',\n",
       " 'January 21, 2022',\n",
       " 'January 19, 2022',\n",
       " 'January 18, 2022',\n",
       " 'January 13, 2022',\n",
       " 'January 11, 2022',\n",
       " 'January 10, 2022',\n",
       " 'January 6, 2022',\n",
       " 'December 31, 2021',\n",
       " 'December 28, 2021',\n",
       " 'December 23, 2021',\n",
       " 'December 22, 2021',\n",
       " 'December 21, 2021',\n",
       " 'December 20, 2021',\n",
       " 'December 17, 2021',\n",
       " 'December 8, 2021',\n",
       " 'December 7, 2021',\n",
       " 'December 3, 2021',\n",
       " 'December 1, 2021',\n",
       " 'November 30, 2021',\n",
       " 'November 23, 2021',\n",
       " 'November 19, 2021',\n",
       " 'November 17, 2021',\n",
       " 'November 17, 2021',\n",
       " 'November 16, 2021',\n",
       " 'November 12, 2021',\n",
       " 'November 10, 2021',\n",
       " 'November 5, 2021',\n",
       " 'November 4, 2021',\n",
       " 'November 4, 2021',\n",
       " 'October 29, 2021',\n",
       " 'October 26, 2021',\n",
       " 'October 21, 2021',\n",
       " 'October 13, 2021',\n",
       " 'October 6, 2021',\n",
       " 'October 4, 2021',\n",
       " 'September 29, 2021',\n",
       " 'September 24, 2021',\n",
       " 'September 21, 2021',\n",
       " 'September 21, 2021',\n",
       " 'September 17, 2021',\n",
       " 'September 13, 2021',\n",
       " 'September 13, 2021',\n",
       " 'September 10, 2021',\n",
       " 'September 10, 2021',\n",
       " 'September 9, 2021',\n",
       " 'September 8, 2021',\n",
       " 'August 31, 2021',\n",
       " 'August 26, 2021',\n",
       " 'August 25, 2021',\n",
       " 'August 24, 2021',\n",
       " 'August 23, 2021',\n",
       " 'August 20, 2021',\n",
       " 'August 20, 2021',\n",
       " 'August 19, 2021',\n",
       " 'August 19, 2021',\n",
       " 'August 13, 2021',\n",
       " 'August 12, 2021',\n",
       " 'August 11, 2021',\n",
       " 'August 6, 2021',\n",
       " 'August 5, 2021',\n",
       " 'July 30, 2021',\n",
       " 'July 29, 2021',\n",
       " 'July 27, 2021',\n",
       " 'July 20, 2021',\n",
       " 'July 14, 2021',\n",
       " 'July 14, 2021',\n",
       " 'July 14, 2021',\n",
       " 'July 13, 2021',\n",
       " 'July 13, 2021',\n",
       " 'July 9, 2021',\n",
       " 'July 9, 2021',\n",
       " 'July 8, 2021',\n",
       " 'July 7, 2021',\n",
       " 'July 1, 2021',\n",
       " 'June 30, 2021',\n",
       " 'June 29, 2021',\n",
       " 'June 28, 2021',\n",
       " 'June 24, 2021',\n",
       " 'June 21, 2021',\n",
       " 'June 17, 2021',\n",
       " 'June 17, 2021',\n",
       " 'June 16, 2021',\n",
       " 'June 14, 2021',\n",
       " 'June 9, 2021',\n",
       " 'June 8, 2021',\n",
       " 'June 4, 2021',\n",
       " 'June 1, 2021',\n",
       " 'May 28, 2021',\n",
       " 'May 26, 2021',\n",
       " 'May 24, 2021',\n",
       " 'May 24, 2021',\n",
       " 'May 19, 2021',\n",
       " 'May 18, 2021',\n",
       " 'May 18, 2021',\n",
       " 'May 17, 2021',\n",
       " 'May 14, 2021',\n",
       " 'May 13, 2021',\n",
       " 'May 13, 2021',\n",
       " 'May 12, 2021',\n",
       " 'May 12, 2021',\n",
       " 'May 11, 2021',\n",
       " 'May 10, 2021',\n",
       " 'May 4, 2021',\n",
       " 'May 3, 2021',\n",
       " 'April 30, 2021',\n",
       " 'April 29, 2021',\n",
       " 'April 27, 2021',\n",
       " 'April 22, 2021',\n",
       " 'April 19, 2021',\n",
       " 'April 16, 2021',\n",
       " 'April 8, 2021',\n",
       " 'April 7, 2021',\n",
       " 'March 26, 2021',\n",
       " 'March 24, 2021',\n",
       " 'March 24, 2021',\n",
       " 'March 22, 2021',\n",
       " 'March 18, 2021',\n",
       " 'March 17, 2021',\n",
       " 'March 16, 2021',\n",
       " 'March 15, 2021',\n",
       " 'March 10, 2021',\n",
       " 'March 9, 2021',\n",
       " 'March 5, 2021',\n",
       " 'March 4, 2021',\n",
       " 'March 2, 2021',\n",
       " 'March 1, 2021',\n",
       " 'February 19, 2021',\n",
       " 'February 18, 2021',\n",
       " 'February 12, 2021',\n",
       " 'February 8, 2021',\n",
       " 'February 5, 2021',\n",
       " 'February 5, 2021',\n",
       " 'February 3, 2021',\n",
       " 'February 2, 2021',\n",
       " 'January 29, 2021',\n",
       " 'January 28, 2021',\n",
       " 'January 22, 2021',\n",
       " 'January 20, 2021',\n",
       " 'January 19, 2021',\n",
       " 'January 12, 2021',\n",
       " 'January 11, 2021',\n",
       " 'December 30, 2020',\n",
       " 'December 22, 2020',\n",
       " 'December 16, 2020',\n",
       " 'December 11, 2020',\n",
       " 'December 11, 2020',\n",
       " 'December 10, 2020',\n",
       " 'December 10, 2020',\n",
       " 'December 7, 2020',\n",
       " 'December 4, 2020',\n",
       " 'November 25, 2020',\n",
       " 'November 19, 2020',\n",
       " 'November 13, 2020',\n",
       " 'November 9, 2020',\n",
       " 'October 30, 2020',\n",
       " 'October 28, 2020',\n",
       " 'October 27, 2020',\n",
       " 'October 26, 2020',\n",
       " 'October 21, 2020',\n",
       " 'October 19, 2020',\n",
       " 'October 15, 2020',\n",
       " 'October 9, 2020',\n",
       " 'October 5, 2020',\n",
       " 'October 2, 2020',\n",
       " 'October 1, 2020',\n",
       " 'September 30, 2020',\n",
       " 'September 23, 2020',\n",
       " 'September 23, 2020',\n",
       " 'September 21, 2020',\n",
       " 'September 21, 2020',\n",
       " 'September 18, 2020',\n",
       " 'September 11, 2020',\n",
       " 'September 8, 2020',\n",
       " 'September 3, 2020',\n",
       " 'September 3, 2020',\n",
       " 'September 1, 2020',\n",
       " 'August 31, 2020',\n",
       " 'August 31, 2020',\n",
       " 'August 28, 2020',\n",
       " 'August 27, 2020',\n",
       " 'August 21, 2020',\n",
       " 'August 19, 2020',\n",
       " 'August 17, 2020',\n",
       " 'August 14, 2020',\n",
       " 'August 6, 2020',\n",
       " 'August 6, 2020',\n",
       " 'August 5, 2020',\n",
       " 'July 31, 2020',\n",
       " 'July 30, 2020',\n",
       " 'July 24, 2020',\n",
       " 'July 24, 2020',\n",
       " 'July 23, 2020',\n",
       " 'July 20, 2020',\n",
       " 'July 20, 2020',\n",
       " 'July 16, 2020',\n",
       " 'July 15, 2020',\n",
       " 'July 13, 2020',\n",
       " 'July 13, 2020',\n",
       " 'July 9, 2020',\n",
       " 'June 29, 2020',\n",
       " 'June 25, 2020',\n",
       " 'June 24, 2020',\n",
       " 'June 22, 2020',\n",
       " 'June 17, 2020',\n",
       " 'June 17, 2020',\n",
       " 'June 17, 2020',\n",
       " 'June 11, 2020',\n",
       " 'June 11, 2020',\n",
       " 'June 11, 2020',\n",
       " 'June 9, 2020',\n",
       " 'June 9, 2020',\n",
       " 'June 9, 2020',\n",
       " 'June 8, 2020',\n",
       " 'June 5, 2020',\n",
       " 'June 3, 2020',\n",
       " 'May 28, 2020',\n",
       " 'May 28, 2020',\n",
       " 'May 27, 2020',\n",
       " 'May 22, 2020',\n",
       " 'May 21, 2020',\n",
       " 'May 21, 2020',\n",
       " 'May 18, 2020',\n",
       " 'May 18, 2020',\n",
       " 'May 14, 2020',\n",
       " 'May 11, 2020',\n",
       " 'May 7, 2020',\n",
       " 'May 6, 2020',\n",
       " 'May 6, 2020',\n",
       " 'May 5, 2020',\n",
       " 'May 4, 2020',\n",
       " 'May 1, 2020',\n",
       " 'April 30, 2020',\n",
       " 'April 24, 2020',\n",
       " 'April 24, 2020',\n",
       " 'April 23, 2020',\n",
       " 'April 17, 2020',\n",
       " 'April 16, 2020',\n",
       " 'April 15, 2020',\n",
       " 'April 14, 2020',\n",
       " 'April 14, 2020',\n",
       " 'April 10, 2020',\n",
       " 'April 7, 2020',\n",
       " 'April 7, 2020',\n",
       " 'April 2, 2020',\n",
       " 'March 30, 2020',\n",
       " 'March 27, 2020',\n",
       " 'March 25, 2020',\n",
       " 'March 23, 2020',\n",
       " 'March 23, 2020',\n",
       " 'March 19, 2020',\n",
       " 'March 18, 2020',\n",
       " 'March 18, 2020',\n",
       " 'March 18, 2020',\n",
       " 'March 17, 2020',\n",
       " 'March 16, 2020',\n",
       " 'March 13, 2020',\n",
       " 'March 13, 2020',\n",
       " 'March 6, 2020',\n",
       " 'March 4, 2020',\n",
       " 'February 20, 2020',\n",
       " 'February 19, 2020',\n",
       " 'February 19, 2020',\n",
       " 'February 19, 2020',\n",
       " 'February 11, 2020',\n",
       " 'February 11, 2020',\n",
       " 'February 6, 2020',\n",
       " 'February 6, 2020',\n",
       " 'February 4, 2020',\n",
       " 'January 29, 2020',\n",
       " 'January 27, 2020',\n",
       " 'January 22, 2020',\n",
       " 'January 22, 2020',\n",
       " 'January 21, 2020',\n",
       " 'January 16, 2020',\n",
       " 'January 9, 2020',\n",
       " 'January 6, 2020',\n",
       " 'December 30, 2019',\n",
       " 'December 23, 2019',\n",
       " 'December 17, 2019',\n",
       " 'December 16, 2019',\n",
       " 'December 13, 2019',\n",
       " 'December 11, 2019',\n",
       " 'December 5, 2019',\n",
       " 'December 4, 2019',\n",
       " 'November 22, 2019',\n",
       " 'November 21, 2019',\n",
       " 'November 20, 2019',\n",
       " 'November 19, 2019',\n",
       " 'November 18, 2019',\n",
       " 'November 15, 2019',\n",
       " 'November 14, 2019',\n",
       " 'November 7, 2019',\n",
       " 'November 1, 2019',\n",
       " 'November 1, 2019',\n",
       " 'October 29, 2019',\n",
       " 'October 18, 2019',\n",
       " 'October 17, 2019',\n",
       " 'October 15, 2019',\n",
       " 'October 11, 2019',\n",
       " 'October 10, 2019',\n",
       " 'October 9, 2019',\n",
       " 'October 7, 2019',\n",
       " 'October 3, 2019',\n",
       " 'September 26, 2019',\n",
       " 'September 24, 2019',\n",
       " 'September 23, 2019',\n",
       " 'September 12, 2019',\n",
       " 'September 11, 2019',\n",
       " 'September 9, 2019',\n",
       " 'September 5, 2019',\n",
       " 'September 3, 2019',\n",
       " 'August 30, 2019',\n",
       " 'August 29, 2019',\n",
       " 'August 26, 2019',\n",
       " 'August 23, 2019',\n",
       " 'August 21, 2019',\n",
       " 'August 16, 2019',\n",
       " 'August 15, 2019',\n",
       " 'August 13, 2019',\n",
       " 'August 6, 2019',\n",
       " 'July 25, 2019',\n",
       " 'July 19, 2019',\n",
       " 'July 16, 2019',\n",
       " 'July 12, 2019',\n",
       " 'July 11, 2019',\n",
       " 'July 11, 2019',\n",
       " 'July 1, 2019',\n",
       " 'June 24, 2019',\n",
       " 'June 19, 2019',\n",
       " 'June 19, 2019',\n",
       " 'June 19, 2019',\n",
       " 'June 19, 2019',\n",
       " 'June 14, 2019',\n",
       " 'June 13, 2019',\n",
       " 'June 13, 2019',\n",
       " 'June 12, 2019',\n",
       " 'June 7, 2019',\n",
       " 'May 31, 2019',\n",
       " 'May 23, 2019',\n",
       " 'May 22, 2019',\n",
       " 'May 21, 2019',\n",
       " 'May 16, 2019',\n",
       " 'May 16, 2019',\n",
       " 'May 15, 2019',\n",
       " 'May 10, 2019',\n",
       " 'May 10, 2019',\n",
       " 'May 3, 2019',\n",
       " 'May 1, 2019',\n",
       " 'May 1, 2019',\n",
       " 'April 26, 2019',\n",
       " 'April 25, 2019',\n",
       " 'April 24, 2019',\n",
       " 'April 23, 2019',\n",
       " 'April 22, 2019',\n",
       " 'April 19, 2019',\n",
       " 'April 17, 2019',\n",
       " 'April 15, 2019',\n",
       " 'March 25, 2019',\n",
       " 'March 20, 2019',\n",
       " 'March 20, 2019',\n",
       " 'March 11, 2019',\n",
       " 'March 4, 2019',\n",
       " 'March 1, 2019',\n",
       " 'February 25, 2019',\n",
       " 'February 14, 2019',\n",
       " 'February 13, 2019',\n",
       " 'February 8, 2019',\n",
       " 'February 5, 2019',\n",
       " 'January 31, 2019',\n",
       " 'January 28, 2019',\n",
       " 'January 21, 2019',\n",
       " 'January 16, 2019',\n",
       " 'January 16, 2019',\n",
       " 'January 9, 2019',\n",
       " 'January 7, 2019',\n",
       " 'January 4, 2019']"
      ]
     },
     "execution_count": 9,
     "metadata": {},
     "output_type": "execute_result"
    }
   ],
   "source": [
    "# Parse and isolate content\n",
    "soup = bs4.BeautifulSoup(server_response.content, features=\"html.parser\")\n",
    "# soup\n",
    "results = soup.find('main', class_ = 'site-main col-sm-12 col-md-9').find_all('li')\n",
    "# results\n",
    "\n",
    "title = [i.find('a').text for i in results]\n",
    "link = [i.find('a')['href'] for i in results]\n",
    "date = [i.find('em').text for i in results]"
   ]
  },
  {
   "cell_type": "markdown",
   "id": "cf054cea",
   "metadata": {
    "heading_collapsed": true
   },
   "source": [
    "### Scrape all links"
   ]
  },
  {
   "cell_type": "code",
   "execution_count": 11,
   "id": "27dccd40",
   "metadata": {
    "hidden": true
   },
   "outputs": [],
   "source": [
    "# define webpage scraping \n",
    "def scrape_idaho_links(website, headers):\n",
    "    server_response = requests.get(website, headers)\n",
    "    soup = bs4.BeautifulSoup(server_response.content, features=\"html.parser\")\n",
    "    results = soup.find('main', class_ = 'site-main col-sm-12 col-md-9').find_all('li')\n",
    "    results_list = [{'title': i.find('a').text,\n",
    "                 'date': i.find('em').text, \n",
    "                'link': i.find('a')['href']} for i in results]\n",
    "    df = pd.DataFrame.from_dict(results_list)\n",
    "    df['content'] = np.nan\n",
    "    return df"
   ]
  },
  {
   "cell_type": "code",
   "execution_count": 16,
   "id": "cecea20e",
   "metadata": {
    "hidden": true
   },
   "outputs": [],
   "source": [
    "link_df = scrape_idaho_links('https://gov.idaho.gov/pressrelease/', header_list)"
   ]
  },
  {
   "cell_type": "code",
   "execution_count": 17,
   "id": "ba642591",
   "metadata": {
    "hidden": true
   },
   "outputs": [
    {
     "name": "stdout",
     "output_type": "stream",
     "text": [
      "<class 'pandas.core.frame.DataFrame'>\n",
      "RangeIndex: 552 entries, 0 to 551\n",
      "Data columns (total 4 columns):\n",
      " #   Column   Non-Null Count  Dtype  \n",
      "---  ------   --------------  -----  \n",
      " 0   title    552 non-null    object \n",
      " 1   date     552 non-null    object \n",
      " 2   link     552 non-null    object \n",
      " 3   content  0 non-null      float64\n",
      "dtypes: float64(1), object(3)\n",
      "memory usage: 17.4+ KB\n"
     ]
    },
    {
     "data": {
      "text/html": [
       "<div>\n",
       "<style scoped>\n",
       "    .dataframe tbody tr th:only-of-type {\n",
       "        vertical-align: middle;\n",
       "    }\n",
       "\n",
       "    .dataframe tbody tr th {\n",
       "        vertical-align: top;\n",
       "    }\n",
       "\n",
       "    .dataframe thead th {\n",
       "        text-align: right;\n",
       "    }\n",
       "</style>\n",
       "<table border=\"1\" class=\"dataframe\">\n",
       "  <thead>\n",
       "    <tr style=\"text-align: right;\">\n",
       "      <th></th>\n",
       "      <th>title</th>\n",
       "      <th>date</th>\n",
       "      <th>link</th>\n",
       "      <th>content</th>\n",
       "    </tr>\n",
       "  </thead>\n",
       "  <tbody>\n",
       "    <tr>\n",
       "      <th>0</th>\n",
       "      <td>Gov. Little applauds introduction of school fa...</td>\n",
       "      <td>February 9, 2024</td>\n",
       "      <td>https://gov.idaho.gov/pressrelease/gov-little-...</td>\n",
       "      <td>NaN</td>\n",
       "    </tr>\n",
       "    <tr>\n",
       "      <th>1</th>\n",
       "      <td>Gov. Little orders lowering of flags to honor ...</td>\n",
       "      <td>February 9, 2024</td>\n",
       "      <td>https://gov.idaho.gov/pressrelease/gov-little-...</td>\n",
       "      <td>NaN</td>\n",
       "    </tr>\n",
       "    <tr>\n",
       "      <th>2</th>\n",
       "      <td>Gov. Little highlights recent trip to Texas-Me...</td>\n",
       "      <td>February 7, 2024</td>\n",
       "      <td>https://gov.idaho.gov/pressrelease/gov-little-...</td>\n",
       "      <td>NaN</td>\n",
       "    </tr>\n",
       "    <tr>\n",
       "      <th>3</th>\n",
       "      <td>WATCH: Governors’ press conference at Texas-Me...</td>\n",
       "      <td>February 3, 2024</td>\n",
       "      <td>https://gov.idaho.gov/pressrelease/watch-gover...</td>\n",
       "      <td>NaN</td>\n",
       "    </tr>\n",
       "    <tr>\n",
       "      <th>4</th>\n",
       "      <td>Gov. Little to visit border, join 14 governors...</td>\n",
       "      <td>February 1, 2024</td>\n",
       "      <td>https://gov.idaho.gov/pressrelease/gov-little-...</td>\n",
       "      <td>NaN</td>\n",
       "    </tr>\n",
       "  </tbody>\n",
       "</table>\n",
       "</div>"
      ],
      "text/plain": [
       "                                               title              date  \\\n",
       "0  Gov. Little applauds introduction of school fa...  February 9, 2024   \n",
       "1  Gov. Little orders lowering of flags to honor ...  February 9, 2024   \n",
       "2  Gov. Little highlights recent trip to Texas-Me...  February 7, 2024   \n",
       "3  WATCH: Governors’ press conference at Texas-Me...  February 3, 2024   \n",
       "4  Gov. Little to visit border, join 14 governors...  February 1, 2024   \n",
       "\n",
       "                                                link  content  \n",
       "0  https://gov.idaho.gov/pressrelease/gov-little-...      NaN  \n",
       "1  https://gov.idaho.gov/pressrelease/gov-little-...      NaN  \n",
       "2  https://gov.idaho.gov/pressrelease/gov-little-...      NaN  \n",
       "3  https://gov.idaho.gov/pressrelease/watch-gover...      NaN  \n",
       "4  https://gov.idaho.gov/pressrelease/gov-little-...      NaN  "
      ]
     },
     "execution_count": 17,
     "metadata": {},
     "output_type": "execute_result"
    }
   ],
   "source": [
    "link_df.info()\n",
    "link_df.head()"
   ]
  },
  {
   "cell_type": "code",
   "execution_count": 18,
   "id": "25884a3f",
   "metadata": {
    "hidden": true
   },
   "outputs": [],
   "source": [
    "link_df.to_csv(f'{state}_links.csv', index = False)"
   ]
  },
  {
   "cell_type": "code",
   "execution_count": 19,
   "id": "39315b53",
   "metadata": {
    "hidden": true
   },
   "outputs": [],
   "source": [
    "# subset to 2023 only since this has multiple years already \n",
    "link_df['date_clean'] = pd.to_datetime(link_df['date'])\n",
    "\n",
    "link_df = link_df.drop(columns=['date']).copy()\n",
    "\n",
    "links_2023 = link_df[(link_df['date_clean'] >= '2023-01-01')\n",
    "                     & (link_df['date_clean'] <= '2023-12-31')].copy()"
   ]
  },
  {
   "cell_type": "code",
   "execution_count": 22,
   "id": "ed1f0c9f",
   "metadata": {
    "hidden": true
   },
   "outputs": [
    {
     "name": "stdout",
     "output_type": "stream",
     "text": [
      "<class 'pandas.core.frame.DataFrame'>\n",
      "Int64Index: 78 entries, 14 to 91\n",
      "Data columns (total 4 columns):\n",
      " #   Column      Non-Null Count  Dtype         \n",
      "---  ------      --------------  -----         \n",
      " 0   title       78 non-null     object        \n",
      " 1   link        78 non-null     object        \n",
      " 2   content     0 non-null      float64       \n",
      " 3   date_clean  78 non-null     datetime64[ns]\n",
      "dtypes: datetime64[ns](1), float64(1), object(2)\n",
      "memory usage: 3.0+ KB\n"
     ]
    }
   ],
   "source": [
    "links_2023.info()"
   ]
  },
  {
   "cell_type": "markdown",
   "id": "92cf01bb",
   "metadata": {},
   "source": [
    "## Scrape content from links\n",
    "`Beautiful Soup`"
   ]
  },
  {
   "cell_type": "markdown",
   "id": "513fa311",
   "metadata": {},
   "source": [
    "### Test with one link"
   ]
  },
  {
   "cell_type": "code",
   "execution_count": 94,
   "id": "219060c0",
   "metadata": {},
   "outputs": [],
   "source": [
    "# define link scraping \n",
    "def get_idaho_content(link, df, header_list):\n",
    "    try: \n",
    "        # check if content has already been pulled\n",
    "        result = df.loc[df.link == link, 'content'].notnull().all()\n",
    "        if result:\n",
    "            return f'content already existing for {link}' \n",
    "        else: \n",
    "            try: \n",
    "                df['content']\n",
    "                server_response = requests.get(link, headers = header_list)\n",
    "                soup_link = bs4.BeautifulSoup(server_response.content, features=\"html.parser\")\n",
    "                result = soup_link.select('div.col-12:not([aria-label=\"social-media\"]):has(p)')\n",
    "            \n",
    "                string_result = [str(i.text) for i in result]\n",
    "                string_result_clean = [i.replace(u'\\xa0', u'') for i in string_result]\n",
    "                string_result_clean = [i.replace(u'\\n', u'') for i in string_result_clean]\n",
    "                result_merged = \" \".join(string_result_clean)\n",
    "                \n",
    "                df.loc[df.link == link, 'content'] = result_merged\n",
    "                return f\"success: content added from {link}\"\n",
    "            except: \n",
    "                pass\n",
    "    except Exception as e: \n",
    "        return f\"unable to gather content from {link} due to {e}\"\n",
    "    #return df_updated "
   ]
  },
  {
   "cell_type": "code",
   "execution_count": 1,
   "id": "497843ea",
   "metadata": {},
   "outputs": [
    {
     "ename": "NameError",
     "evalue": "name 'requests' is not defined",
     "output_type": "error",
     "traceback": [
      "\u001b[0;31m---------------------------------------------------------------------------\u001b[0m",
      "\u001b[0;31mNameError\u001b[0m                                 Traceback (most recent call last)",
      "Input \u001b[0;32mIn [1]\u001b[0m, in \u001b[0;36m<cell line: 3>\u001b[0;34m()\u001b[0m\n\u001b[1;32m      1\u001b[0m \u001b[38;5;66;03m# access content\u001b[39;00m\n\u001b[1;32m      2\u001b[0m link \u001b[38;5;241m=\u001b[39m \u001b[38;5;124m'\u001b[39m\u001b[38;5;124mhttps://gov.idaho.gov/pressrelease/gov-little-orders-lowering-of-flags-to-honor-capt-benjamin-moulton/\u001b[39m\u001b[38;5;124m'\u001b[39m\n\u001b[0;32m----> 3\u001b[0m server_response \u001b[38;5;241m=\u001b[39m \u001b[43mrequests\u001b[49m\u001b[38;5;241m.\u001b[39mget(link, headers \u001b[38;5;241m=\u001b[39m header_list)\n\u001b[1;32m      4\u001b[0m server_response\n",
      "\u001b[0;31mNameError\u001b[0m: name 'requests' is not defined"
     ]
    }
   ],
   "source": [
    "# access content\n",
    "link = 'https://gov.idaho.gov/pressrelease/gov-little-orders-lowering-of-flags-to-honor-capt-benjamin-moulton/'\n",
    "server_response = requests.get(link, headers = header_list)\n",
    "server_response"
   ]
  },
  {
   "cell_type": "code",
   "execution_count": 93,
   "id": "30642e3a",
   "metadata": {},
   "outputs": [
    {
     "data": {
      "text/plain": [
       "'Boise, Idaho - Governor Brad Little has ordered U.S. flags and State of Idaho flags to be lowered to half-staff to honor 27-year-old Capt. Benjamin Moulton of Emmett, one of the five U.S. Marines killed in a helicopter crash in southern California during a training exercise Tuesday.Flags will be lowered immediately until sunset on Tuesday, Feb. 13, 2024.The flags flown over the Capitol building in honor of Capt. Moulton will be presented to his parents.\"Capt. Benjamin Moulton and the four other U.S. Marines killed Tuesday gave everything for our country and our freedom. The tragic news of their deaths while they were training to fight our enemies weighs heavy on our hearts. Capt. Moulton was an Idaho native with roots dating back to the 1880s. Throughout his life, Capt. Moulton made his family, community, and state proud with his many achievements and his devotion to the U.S. Marine Corps and our great country. Idahoans, please pray for the loved ones of these heroes, and join me in honoring Capt. Benjamin Moulton, an \\'Idaho boy\\' who gave it all for us,\" Governor Little said.The full text of the Governor\\'s flag directive follows:Please be advised that flags should be lowered to half-staff immediately starting Friday, Feb. 9, 2024, at the state Capitol building and at other state and local government buildings, for the tragic loss of Capt. Benjamin Moulton of Emmett, U.S. Marine Corps.The flags will be at half-staff immediately Friday, Feb. 9, 2024, until sunset on Tuesday, Feb. 13, 2024.--To sign up to receive all the President’s and Governor’s flag directives, go to https://gov.idaho.gov/flag-status/.'"
      ]
     },
     "execution_count": 93,
     "metadata": {},
     "output_type": "execute_result"
    }
   ],
   "source": [
    "# parse and isolate content \n",
    "soup_link = bs4.BeautifulSoup(server_response.content, features=\"html.parser\")\n",
    "result = soup_link.select('div.col-12:not([aria-label=\"social-media\"]):has(p)')\n",
    "# result\n",
    "string_result = [str(i.text) for i in result]\n",
    "string_result_clean = [i.replace(u'\\xa0', u'') for i in string_result]\n",
    "string_result_clean = [i.replace(u'\\n', u'') for i in string_result_clean]\n",
    "result_merged = \" \".join(string_result_clean)\n",
    "result_merged\n",
    "# #p_results[3]\n",
    "# p_text = [str(i.text) for i in p_results[3]]\n",
    "# p_text\n",
    "# string_result = [str(i.text) for i in result]\n",
    "# string_result\n",
    "# string_result_clean = [i.replace(u'\\xa0', u'') for i in string_result]\n",
    "# string_result_clean = [i.replace(u'\\n', u'') for i in string_result_clean]\n",
    "# string_result_clean = [i.replace(u'\\r', u'') for i in string_result_clean]\n",
    "# result_merged = \" \".join(string_result_clean)\n",
    "# result_merged"
   ]
  },
  {
   "cell_type": "markdown",
   "id": "d6237d41",
   "metadata": {},
   "source": [
    "### Scrape content from all links"
   ]
  },
  {
   "cell_type": "code",
   "execution_count": 95,
   "id": "60fbdc9f",
   "metadata": {},
   "outputs": [
    {
     "data": {
      "text/plain": [
       "'success: content added from https://gov.idaho.gov/pressrelease/idaho-ranks-first-for-income-growth/'"
      ]
     },
     "execution_count": 95,
     "metadata": {},
     "output_type": "execute_result"
    },
    {
     "data": {
      "text/plain": [
       "'success: content added from https://gov.idaho.gov/pressrelease/gov-little-superintendent-critchfield-reflect-on-empowering-parents-success/'"
      ]
     },
     "execution_count": 95,
     "metadata": {},
     "output_type": "execute_result"
    },
    {
     "data": {
      "text/plain": [
       "'success: content added from https://gov.idaho.gov/pressrelease/opinion-ditch-the-secret-backroom-dam-breaching-deals-lets-focus-on-common-ground/'"
      ]
     },
     "execution_count": 95,
     "metadata": {},
     "output_type": "execute_result"
    },
    {
     "data": {
      "text/plain": [
       "'success: content added from https://gov.idaho.gov/pressrelease/100-million-for-local-roads-rolls-out-as-part-of-historic-transportation-funding-solution/'"
      ]
     },
     "execution_count": 95,
     "metadata": {},
     "output_type": "execute_result"
    },
    {
     "data": {
      "text/plain": [
       "'success: content added from https://gov.idaho.gov/pressrelease/gov-littles-mexico-trade-mission-strengthens-trade-opportunities-for-idaho-businesses/'"
      ]
     },
     "execution_count": 95,
     "metadata": {},
     "output_type": "execute_result"
    },
    {
     "data": {
      "text/plain": [
       "'success: content added from https://gov.idaho.gov/pressrelease/idaho-homeowners-receive-average-18-percent-property-tax-reduction/'"
      ]
     },
     "execution_count": 95,
     "metadata": {},
     "output_type": "execute_result"
    },
    {
     "data": {
      "text/html": [
       "<div>\n",
       "<style scoped>\n",
       "    .dataframe tbody tr th:only-of-type {\n",
       "        vertical-align: middle;\n",
       "    }\n",
       "\n",
       "    .dataframe tbody tr th {\n",
       "        vertical-align: top;\n",
       "    }\n",
       "\n",
       "    .dataframe thead th {\n",
       "        text-align: right;\n",
       "    }\n",
       "</style>\n",
       "<table border=\"1\" class=\"dataframe\">\n",
       "  <thead>\n",
       "    <tr style=\"text-align: right;\">\n",
       "      <th></th>\n",
       "      <th>title</th>\n",
       "      <th>link</th>\n",
       "      <th>content</th>\n",
       "      <th>date_clean</th>\n",
       "    </tr>\n",
       "  </thead>\n",
       "  <tbody>\n",
       "    <tr>\n",
       "      <th>14</th>\n",
       "      <td>Idaho ranks first for income growth</td>\n",
       "      <td>https://gov.idaho.gov/pressrelease/idaho-ranks...</td>\n",
       "      <td>Boise, Idaho – Governor Brad Little commented ...</td>\n",
       "      <td>2023-12-28</td>\n",
       "    </tr>\n",
       "    <tr>\n",
       "      <th>15</th>\n",
       "      <td>Gov. Little, Superintendent Critchfield reflec...</td>\n",
       "      <td>https://gov.idaho.gov/pressrelease/gov-little-...</td>\n",
       "      <td>Boise, Idaho – Governor Brad Little and Superi...</td>\n",
       "      <td>2023-12-18</td>\n",
       "    </tr>\n",
       "    <tr>\n",
       "      <th>16</th>\n",
       "      <td>OPINION: Ditch the secret backroom dam breachi...</td>\n",
       "      <td>https://gov.idaho.gov/pressrelease/opinion-dit...</td>\n",
       "      <td>By Governor Brad Little and Lt. Governor Scott...</td>\n",
       "      <td>2023-12-15</td>\n",
       "    </tr>\n",
       "    <tr>\n",
       "      <th>17</th>\n",
       "      <td>$100 million for local roads rolls out as part...</td>\n",
       "      <td>https://gov.idaho.gov/pressrelease/100-million...</td>\n",
       "      <td>Boise, Idaho – The historic transportation fun...</td>\n",
       "      <td>2023-12-14</td>\n",
       "    </tr>\n",
       "    <tr>\n",
       "      <th>18</th>\n",
       "      <td>Gov. Little’s Mexico trade mission strengthens...</td>\n",
       "      <td>https://gov.idaho.gov/pressrelease/gov-littles...</td>\n",
       "      <td>Boise, Idaho – Governor Brad Little completed ...</td>\n",
       "      <td>2023-12-01</td>\n",
       "    </tr>\n",
       "  </tbody>\n",
       "</table>\n",
       "</div>"
      ],
      "text/plain": [
       "                                                title  \\\n",
       "14                Idaho ranks first for income growth   \n",
       "15  Gov. Little, Superintendent Critchfield reflec...   \n",
       "16  OPINION: Ditch the secret backroom dam breachi...   \n",
       "17  $100 million for local roads rolls out as part...   \n",
       "18  Gov. Little’s Mexico trade mission strengthens...   \n",
       "\n",
       "                                                 link  \\\n",
       "14  https://gov.idaho.gov/pressrelease/idaho-ranks...   \n",
       "15  https://gov.idaho.gov/pressrelease/gov-little-...   \n",
       "16  https://gov.idaho.gov/pressrelease/opinion-dit...   \n",
       "17  https://gov.idaho.gov/pressrelease/100-million...   \n",
       "18  https://gov.idaho.gov/pressrelease/gov-littles...   \n",
       "\n",
       "                                              content date_clean  \n",
       "14  Boise, Idaho – Governor Brad Little commented ... 2023-12-28  \n",
       "15  Boise, Idaho – Governor Brad Little and Superi... 2023-12-18  \n",
       "16  By Governor Brad Little and Lt. Governor Scott... 2023-12-15  \n",
       "17  Boise, Idaho – The historic transportation fun... 2023-12-14  \n",
       "18  Boise, Idaho – Governor Brad Little completed ... 2023-12-01  "
      ]
     },
     "execution_count": 95,
     "metadata": {},
     "output_type": "execute_result"
    }
   ],
   "source": [
    "# test on 5 to see if it works\n",
    "# links_2023.content = np.nan\n",
    "\n",
    "for i in links_2023.link[0:6]:\n",
    "     get_idaho_content(i, links_2023, header_list)\n",
    "    \n",
    "links_2023.head()"
   ]
  },
  {
   "cell_type": "code",
   "execution_count": 96,
   "id": "4be4977e",
   "metadata": {},
   "outputs": [
    {
     "data": {
      "text/plain": [
       "'content already existing for https://gov.idaho.gov/pressrelease/idaho-ranks-first-for-income-growth/'"
      ]
     },
     "execution_count": 96,
     "metadata": {},
     "output_type": "execute_result"
    },
    {
     "data": {
      "text/plain": [
       "'content already existing for https://gov.idaho.gov/pressrelease/gov-little-superintendent-critchfield-reflect-on-empowering-parents-success/'"
      ]
     },
     "execution_count": 96,
     "metadata": {},
     "output_type": "execute_result"
    },
    {
     "data": {
      "text/plain": [
       "'content already existing for https://gov.idaho.gov/pressrelease/opinion-ditch-the-secret-backroom-dam-breaching-deals-lets-focus-on-common-ground/'"
      ]
     },
     "execution_count": 96,
     "metadata": {},
     "output_type": "execute_result"
    },
    {
     "data": {
      "text/plain": [
       "'content already existing for https://gov.idaho.gov/pressrelease/100-million-for-local-roads-rolls-out-as-part-of-historic-transportation-funding-solution/'"
      ]
     },
     "execution_count": 96,
     "metadata": {},
     "output_type": "execute_result"
    },
    {
     "data": {
      "text/plain": [
       "'content already existing for https://gov.idaho.gov/pressrelease/gov-littles-mexico-trade-mission-strengthens-trade-opportunities-for-idaho-businesses/'"
      ]
     },
     "execution_count": 96,
     "metadata": {},
     "output_type": "execute_result"
    },
    {
     "data": {
      "text/plain": [
       "'content already existing for https://gov.idaho.gov/pressrelease/idaho-homeowners-receive-average-18-percent-property-tax-reduction/'"
      ]
     },
     "execution_count": 96,
     "metadata": {},
     "output_type": "execute_result"
    },
    {
     "data": {
      "text/plain": [
       "'success: content added from https://gov.idaho.gov/pressrelease/idaho-capitol-christmas-tree-lighting-takes-place-nov-30/'"
      ]
     },
     "execution_count": 96,
     "metadata": {},
     "output_type": "execute_result"
    },
    {
     "data": {
      "text/plain": [
       "'success: content added from https://gov.idaho.gov/pressrelease/gov-little-to-answer-policy-questions-during-monday-tele-townhall/'"
      ]
     },
     "execution_count": 96,
     "metadata": {},
     "output_type": "execute_result"
    },
    {
     "data": {
      "text/plain": [
       "'success: content added from https://gov.idaho.gov/pressrelease/health-and-welfare-director-dave-jeppesen-to-retire-dean-cameron-named-interim-director/'"
      ]
     },
     "execution_count": 96,
     "metadata": {},
     "output_type": "execute_result"
    },
    {
     "data": {
      "text/plain": [
       "'success: content added from https://gov.idaho.gov/pressrelease/gov-little-appoints-district-judge-cynthia-meyer-to-the-idaho-supreme-court/'"
      ]
     },
     "execution_count": 96,
     "metadata": {},
     "output_type": "execute_result"
    },
    {
     "data": {
      "text/plain": [
       "'success: content added from https://gov.idaho.gov/pressrelease/gov-little-highlights-apprenticeships-and-launch-proclaims-november-idaho-apprenticeship-month/'"
      ]
     },
     "execution_count": 96,
     "metadata": {},
     "output_type": "execute_result"
    },
    {
     "data": {
      "text/plain": [
       "'success: content added from https://gov.idaho.gov/pressrelease/opinion-launch-is-live/'"
      ]
     },
     "execution_count": 96,
     "metadata": {},
     "output_type": "execute_result"
    },
    {
     "data": {
      "text/plain": [
       "'success: content added from https://gov.idaho.gov/pressrelease/gov-little-appoints-cody-brower-to-sixth-judicial-district/'"
      ]
     },
     "execution_count": 96,
     "metadata": {},
     "output_type": "execute_result"
    },
    {
     "data": {
      "text/plain": [
       "'success: content added from https://gov.idaho.gov/pressrelease/american-red-cross-blood-donations-needed-2/'"
      ]
     },
     "execution_count": 96,
     "metadata": {},
     "output_type": "execute_result"
    },
    {
     "data": {
      "text/plain": [
       "'success: content added from https://gov.idaho.gov/pressrelease/carmen-to-host-governor-littles-capital-for-a-day-event/'"
      ]
     },
     "execution_count": 96,
     "metadata": {},
     "output_type": "execute_result"
    },
    {
     "data": {
      "text/plain": [
       "'success: content added from https://gov.idaho.gov/pressrelease/launch-grants-go-live-oct-3-sign-up-now-for-alerts/'"
      ]
     },
     "execution_count": 96,
     "metadata": {},
     "output_type": "execute_result"
    },
    {
     "data": {
      "text/plain": [
       "'success: content added from https://gov.idaho.gov/pressrelease/eric-fredericksen-to-lead-new-office-of-the-state-public-defender/'"
      ]
     },
     "execution_count": 96,
     "metadata": {},
     "output_type": "execute_result"
    },
    {
     "data": {
      "text/plain": [
       "'success: content added from https://gov.idaho.gov/pressrelease/state-of-idaho-starts-to-deploy-property-tax-relief-with-funds-to-local-school-districts/'"
      ]
     },
     "execution_count": 96,
     "metadata": {},
     "output_type": "execute_result"
    },
    {
     "data": {
      "text/plain": [
       "'success: content added from https://gov.idaho.gov/pressrelease/steven-bailey-to-lead-idaho-department-of-administration/'"
      ]
     },
     "execution_count": 96,
     "metadata": {},
     "output_type": "execute_result"
    },
    {
     "data": {
      "text/plain": [
       "'success: content added from https://gov.idaho.gov/pressrelease/gov-little-announces-senior-level-staff-changes/'"
      ]
     },
     "execution_count": 96,
     "metadata": {},
     "output_type": "execute_result"
    },
    {
     "data": {
      "text/plain": [
       "'success: content added from https://gov.idaho.gov/pressrelease/gov-little-appoints-annie-mcdevitt-to-fourth-judicial-district/'"
      ]
     },
     "execution_count": 96,
     "metadata": {},
     "output_type": "execute_result"
    },
    {
     "data": {
      "text/plain": [
       "'success: content added from https://gov.idaho.gov/pressrelease/st-maries-to-host-governor-littles-capital-for-a-day-event/'"
      ]
     },
     "execution_count": 96,
     "metadata": {},
     "output_type": "execute_result"
    },
    {
     "data": {
      "text/plain": [
       "'success: content added from https://gov.idaho.gov/pressrelease/fentanyl-takes-all-campaign-improving-awareness-on-dangers-of-fentanyl/'"
      ]
     },
     "execution_count": 96,
     "metadata": {},
     "output_type": "execute_result"
    },
    {
     "data": {
      "text/plain": [
       "'success: content added from https://gov.idaho.gov/pressrelease/governors-water-summit-reveals-success-stories-challenges-in-looking-at-surface-and-ground-water-statewide/'"
      ]
     },
     "execution_count": 96,
     "metadata": {},
     "output_type": "execute_result"
    },
    {
     "data": {
      "text/plain": [
       "'success: content added from https://gov.idaho.gov/pressrelease/mathew-weaver-to-lead-idaho-department-of-water-resources/'"
      ]
     },
     "execution_count": 96,
     "metadata": {},
     "output_type": "execute_result"
    },
    {
     "data": {
      "text/plain": [
       "'success: content added from https://gov.idaho.gov/pressrelease/governors-water-summit-to-discuss-trends-investments-in-statewide-water-supply/'"
      ]
     },
     "execution_count": 96,
     "metadata": {},
     "output_type": "execute_result"
    },
    {
     "data": {
      "text/plain": [
       "'success: content added from https://gov.idaho.gov/pressrelease/idaho-ends-fiscal-year-with-budget-surplus-idahoans-to-receive-total-of-300-million-in-property-tax-relief/'"
      ]
     },
     "execution_count": 96,
     "metadata": {},
     "output_type": "execute_result"
    },
    {
     "data": {
      "text/plain": [
       "'success: content added from https://gov.idaho.gov/pressrelease/idaho-panel-accepting-applications-for-new-state-public-defender-position/'"
      ]
     },
     "execution_count": 96,
     "metadata": {},
     "output_type": "execute_result"
    },
    {
     "data": {
      "text/plain": [
       "'success: content added from https://gov.idaho.gov/pressrelease/gov-little-appoints-paul-woods-to-state-tax-commission/'"
      ]
     },
     "execution_count": 96,
     "metadata": {},
     "output_type": "execute_result"
    },
    {
     "data": {
      "text/plain": [
       "'success: content added from https://gov.idaho.gov/pressrelease/lawmaker-roundtable-focuses-on-lessons-learned-from-state-police-deployment-to-u-s-mexico-border/'"
      ]
     },
     "execution_count": 96,
     "metadata": {},
     "output_type": "execute_result"
    },
    {
     "data": {
      "text/plain": [
       "'success: content added from https://gov.idaho.gov/pressrelease/governors-cup-scholarship-recipients-announced/'"
      ]
     },
     "execution_count": 96,
     "metadata": {},
     "output_type": "execute_result"
    },
    {
     "data": {
      "text/plain": [
       "'success: content added from https://gov.idaho.gov/pressrelease/little-critchfield-roll-out-the-story-of-america-history-curriculum-for-idaho-schools/'"
      ]
     },
     "execution_count": 96,
     "metadata": {},
     "output_type": "execute_result"
    },
    {
     "data": {
      "text/plain": [
       "'success: content added from https://gov.idaho.gov/pressrelease/st-anthony-to-host-governor-littles-capital-for-a-day-event/'"
      ]
     },
     "execution_count": 96,
     "metadata": {},
     "output_type": "execute_result"
    },
    {
     "data": {
      "text/plain": [
       "'success: content added from https://gov.idaho.gov/pressrelease/gov-little-highlights-border-trip-commits-more-action-to-fight-fentanyl/'"
      ]
     },
     "execution_count": 96,
     "metadata": {},
     "output_type": "execute_result"
    },
    {
     "data": {
      "text/plain": [
       "'success: content added from https://gov.idaho.gov/pressrelease/parent-advisory-council-members-chosen-for-empowering-parents-grant-program/'"
      ]
     },
     "execution_count": 96,
     "metadata": {},
     "output_type": "execute_result"
    },
    {
     "data": {
      "text/plain": [
       "'success: content added from https://gov.idaho.gov/pressrelease/gov-little-details-idaho-state-police-deployment-to-support-texas-in-fight-against-fentanyl/'"
      ]
     },
     "execution_count": 96,
     "metadata": {},
     "output_type": "execute_result"
    },
    {
     "data": {
      "text/plain": [
       "'success: content added from https://gov.idaho.gov/pressrelease/idaho-sues-feds-on-grizzly-delisting/'"
      ]
     },
     "execution_count": 96,
     "metadata": {},
     "output_type": "execute_result"
    },
    {
     "data": {
      "text/plain": [
       "'success: content added from https://gov.idaho.gov/pressrelease/gov-little-marks-fentanyl-awareness-day-readies-for-texas-border-mission/'"
      ]
     },
     "execution_count": 96,
     "metadata": {},
     "output_type": "execute_result"
    },
    {
     "data": {
      "text/plain": [
       "'success: content added from https://gov.idaho.gov/pressrelease/idaho-stops-millions-in-tax-fraud/'"
      ]
     },
     "execution_count": 96,
     "metadata": {},
     "output_type": "execute_result"
    },
    {
     "data": {
      "text/plain": [
       "'success: content added from https://gov.idaho.gov/pressrelease/idaho-is-training-loggers-to-fight-forest-fires/'"
      ]
     },
     "execution_count": 96,
     "metadata": {},
     "output_type": "execute_result"
    },
    {
     "data": {
      "text/plain": [
       "'success: content added from https://gov.idaho.gov/pressrelease/gov-little-marks-100-days-of-achievement/'"
      ]
     },
     "execution_count": 96,
     "metadata": {},
     "output_type": "execute_result"
    },
    {
     "data": {
      "text/plain": [
       "'success: content added from https://gov.idaho.gov/pressrelease/malad-city-to-host-governor-littles-capital-for-a-day-event/'"
      ]
     },
     "execution_count": 96,
     "metadata": {},
     "output_type": "execute_result"
    },
    {
     "data": {
      "text/plain": [
       "'success: content added from https://gov.idaho.gov/pressrelease/gov-little-applauds-productive-legislative-session/'"
      ]
     },
     "execution_count": 96,
     "metadata": {},
     "output_type": "execute_result"
    },
    {
     "data": {
      "text/plain": [
       "'success: content added from https://gov.idaho.gov/pressrelease/opinion-working-together-we-got-simple-property-tax-relief-done-right/'"
      ]
     },
     "execution_count": 96,
     "metadata": {},
     "output_type": "execute_result"
    },
    {
     "data": {
      "text/plain": [
       "'success: content added from https://gov.idaho.gov/pressrelease/idaho-further-advances-education-freedom/'"
      ]
     },
     "execution_count": 96,
     "metadata": {},
     "output_type": "execute_result"
    },
    {
     "data": {
      "text/plain": [
       "'success: content added from https://gov.idaho.gov/pressrelease/gov-little-champions-simpler-property-tax-relief-for-idahoans/'"
      ]
     },
     "execution_count": 96,
     "metadata": {},
     "output_type": "execute_result"
    },
    {
     "data": {
      "text/plain": [
       "'success: content added from https://gov.idaho.gov/pressrelease/gov-little-lets-get-property-tax-relief-done-right/'"
      ]
     },
     "execution_count": 96,
     "metadata": {},
     "output_type": "execute_result"
    },
    {
     "data": {
      "text/plain": [
       "'success: content added from https://gov.idaho.gov/pressrelease/gov-little-applauds-senate-passage-of-launch-to-train-students-for-in-demand-careers/'"
      ]
     },
     "execution_count": 96,
     "metadata": {},
     "output_type": "execute_result"
    },
    {
     "data": {
      "text/plain": [
       "'success: content added from https://gov.idaho.gov/pressrelease/jfac-advances-governors-recommended-rainy-day-fund-transfers-new-reserve-funds-for-fire-suppression/'"
      ]
     },
     "execution_count": 96,
     "metadata": {},
     "output_type": "execute_result"
    },
    {
     "data": {
      "text/plain": [
       "'success: content added from https://gov.idaho.gov/pressrelease/gov-little-signs-idaho-first-broadband-investments-into-law/'"
      ]
     },
     "execution_count": 96,
     "metadata": {},
     "output_type": "execute_result"
    },
    {
     "data": {
      "text/plain": [
       "'success: content added from https://gov.idaho.gov/pressrelease/jfac-advances-governors-recommendation-for-improved-water-infrastructure/'"
      ]
     },
     "execution_count": 96,
     "metadata": {},
     "output_type": "execute_result"
    },
    {
     "data": {
      "text/plain": [
       "'success: content added from https://gov.idaho.gov/pressrelease/jfac-advances-governors-transportation-budget-recommendation/'"
      ]
     },
     "execution_count": 96,
     "metadata": {},
     "output_type": "execute_result"
    },
    {
     "data": {
      "text/plain": [
       "'success: content added from https://gov.idaho.gov/pressrelease/jfac-advances-governors-recommendation-for-outdoor-recreation/'"
      ]
     },
     "execution_count": 96,
     "metadata": {},
     "output_type": "execute_result"
    },
    {
     "data": {
      "text/plain": [
       "'success: content added from https://gov.idaho.gov/pressrelease/jfac-advances-governors-building-maintenance-budget-recommendation/'"
      ]
     },
     "execution_count": 96,
     "metadata": {},
     "output_type": "execute_result"
    },
    {
     "data": {
      "text/plain": [
       "'success: content added from https://gov.idaho.gov/pressrelease/jfac-advances-governors-public-schools-budget-recommendation/'"
      ]
     },
     "execution_count": 96,
     "metadata": {},
     "output_type": "execute_result"
    },
    {
     "data": {
      "text/plain": [
       "'success: content added from https://gov.idaho.gov/pressrelease/gov-little-speaks-at-cpac-on-restoring-americas-energy-dominance/'"
      ]
     },
     "execution_count": 96,
     "metadata": {},
     "output_type": "execute_result"
    },
    {
     "data": {
      "text/plain": [
       "'success: content added from https://gov.idaho.gov/pressrelease/gooding-to-host-governor-littles-capital-for-a-day-event/'"
      ]
     },
     "execution_count": 96,
     "metadata": {},
     "output_type": "execute_result"
    },
    {
     "data": {
      "text/plain": [
       "'success: content added from https://gov.idaho.gov/pressrelease/public-events-set-to-honor-the-life-of-governor-phil-batt/'"
      ]
     },
     "execution_count": 96,
     "metadata": {},
     "output_type": "execute_result"
    },
    {
     "data": {
      "text/plain": [
       "'success: content added from https://gov.idaho.gov/pressrelease/gov-little-announces-appointments-to-idaho-park-and-recreation-board/'"
      ]
     },
     "execution_count": 96,
     "metadata": {},
     "output_type": "execute_result"
    },
    {
     "data": {
      "text/plain": [
       "'success: content added from https://gov.idaho.gov/pressrelease/gov-little-orders-lowering-of-flags-to-honor-former-idaho-gov-phil-batt/'"
      ]
     },
     "execution_count": 96,
     "metadata": {},
     "output_type": "execute_result"
    },
    {
     "data": {
      "text/plain": [
       "'success: content added from https://gov.idaho.gov/pressrelease/idaho-leaders-announce-parent-advisory-council-for-empowering-parents-grant-program/'"
      ]
     },
     "execution_count": 96,
     "metadata": {},
     "output_type": "execute_result"
    },
    {
     "data": {
      "text/plain": [
       "'success: content added from https://gov.idaho.gov/pressrelease/opinion-defending-state-sovereignty-over-land-water-wildlife-is-in-idahos-dna/'"
      ]
     },
     "execution_count": 96,
     "metadata": {},
     "output_type": "execute_result"
    },
    {
     "data": {
      "text/plain": [
       "'success: content added from https://gov.idaho.gov/pressrelease/governors-president-biden-owes-the-american-people-answers/'"
      ]
     },
     "execution_count": 96,
     "metadata": {},
     "output_type": "execute_result"
    },
    {
     "data": {
      "text/plain": [
       "'success: content added from https://gov.idaho.gov/pressrelease/gov-little-to-visit-with-high-schoolers-about-proposed-launch-workforce-training-program/'"
      ]
     },
     "execution_count": 96,
     "metadata": {},
     "output_type": "execute_result"
    },
    {
     "data": {
      "text/plain": [
       "'success: content added from https://gov.idaho.gov/pressrelease/bruneau-to-host-governor-littles-capital-for-a-day-event/'"
      ]
     },
     "execution_count": 96,
     "metadata": {},
     "output_type": "execute_result"
    },
    {
     "data": {
      "text/plain": [
       "'success: content added from https://gov.idaho.gov/pressrelease/gov-little-republican-governors-praise-gov-sanders-solutions-based-message-to-nation/'"
      ]
     },
     "execution_count": 96,
     "metadata": {},
     "output_type": "execute_result"
    },
    {
     "data": {
      "text/plain": [
       "'success: content added from https://gov.idaho.gov/pressrelease/little-bedke-crapo-risch-simpson-raise-concerns-about-lava-ridge-wind-farm-proposal-on-federal-land/'"
      ]
     },
     "execution_count": 96,
     "metadata": {},
     "output_type": "execute_result"
    },
    {
     "data": {
      "text/plain": [
       "'success: content added from https://gov.idaho.gov/pressrelease/gov-little-notifies-biden-administration-of-idahos-intent-to-sue-on-grizzly-delisting/'"
      ]
     },
     "execution_count": 96,
     "metadata": {},
     "output_type": "execute_result"
    },
    {
     "data": {
      "text/plain": [
       "'success: content added from https://gov.idaho.gov/pressrelease/wall-street-journal-highlights-idahos-historic-tax-cuts/'"
      ]
     },
     "execution_count": 96,
     "metadata": {},
     "output_type": "execute_result"
    },
    {
     "data": {
      "text/plain": [
       "'success: content added from https://gov.idaho.gov/pressrelease/gov-little-leads-governors-in-opposing-bidens-epa-waters-rule/'"
      ]
     },
     "execution_count": 96,
     "metadata": {},
     "output_type": "execute_result"
    },
    {
     "data": {
      "text/plain": [
       "'success: content added from https://gov.idaho.gov/pressrelease/idaho-wins-lawsuit-protects-life-and-property-from-illegal-encampments/'"
      ]
     },
     "execution_count": 96,
     "metadata": {},
     "output_type": "execute_result"
    },
    {
     "data": {
      "text/plain": [
       "'success: content added from https://gov.idaho.gov/pressrelease/weiser-to-host-gov-littles-capital-for-a-day-event/'"
      ]
     },
     "execution_count": 96,
     "metadata": {},
     "output_type": "execute_result"
    },
    {
     "data": {
      "text/plain": [
       "'success: content added from https://gov.idaho.gov/pressrelease/gov-little-appoints-edward-lodge-to-public-utilities-commission/'"
      ]
     },
     "execution_count": 96,
     "metadata": {},
     "output_type": "execute_result"
    },
    {
     "data": {
      "text/plain": [
       "'success: content added from https://gov.idaho.gov/pressrelease/gov-little-announces-staff-changes-2/'"
      ]
     },
     "execution_count": 96,
     "metadata": {},
     "output_type": "execute_result"
    },
    {
     "data": {
      "text/plain": [
       "'success: content added from https://gov.idaho.gov/pressrelease/gov-little-appoints-new-agriculture-director-following-retirement-of-celia-gould/'"
      ]
     },
     "execution_count": 96,
     "metadata": {},
     "output_type": "execute_result"
    },
    {
     "data": {
      "text/plain": [
       "'success: content added from https://gov.idaho.gov/pressrelease/gov-little-rolls-out-idaho-first-plan-to-support-schools-provide-property-tax-relief-fight-fentanyl-in-2023-state-of-the-state-and-budget-address/'"
      ]
     },
     "execution_count": 96,
     "metadata": {},
     "output_type": "execute_result"
    },
    {
     "data": {
      "text/plain": [
       "'success: content added from https://gov.idaho.gov/pressrelease/gov-little-publicly-sworn-in-for-second-term-as-idahos-33rd-governor/'"
      ]
     },
     "execution_count": 96,
     "metadata": {},
     "output_type": "execute_result"
    },
    {
     "data": {
      "text/plain": [
       "'success: content added from https://gov.idaho.gov/pressrelease/idahoans-invited-to-watch-gov-little-inauguration-and-2023-state-of-the-state-address/'"
      ]
     },
     "execution_count": 96,
     "metadata": {},
     "output_type": "execute_result"
    }
   ],
   "source": [
    "# do for all\n",
    "for i in links_2023.link:\n",
    "     get_idaho_content(i, links_2023, header_list)"
   ]
  },
  {
   "cell_type": "markdown",
   "id": "ef031b38",
   "metadata": {},
   "source": [
    "## Validate and Clean"
   ]
  },
  {
   "cell_type": "code",
   "execution_count": 97,
   "id": "06bca64d",
   "metadata": {},
   "outputs": [
    {
     "data": {
      "text/html": [
       "<div>\n",
       "<style scoped>\n",
       "    .dataframe tbody tr th:only-of-type {\n",
       "        vertical-align: middle;\n",
       "    }\n",
       "\n",
       "    .dataframe tbody tr th {\n",
       "        vertical-align: top;\n",
       "    }\n",
       "\n",
       "    .dataframe thead th {\n",
       "        text-align: right;\n",
       "    }\n",
       "</style>\n",
       "<table border=\"1\" class=\"dataframe\">\n",
       "  <thead>\n",
       "    <tr style=\"text-align: right;\">\n",
       "      <th></th>\n",
       "      <th>title</th>\n",
       "      <th>link</th>\n",
       "      <th>content</th>\n",
       "      <th>date_clean</th>\n",
       "    </tr>\n",
       "  </thead>\n",
       "  <tbody>\n",
       "  </tbody>\n",
       "</table>\n",
       "</div>"
      ],
      "text/plain": [
       "Empty DataFrame\n",
       "Columns: [title, link, content, date_clean]\n",
       "Index: []"
      ]
     },
     "execution_count": 97,
     "metadata": {},
     "output_type": "execute_result"
    }
   ],
   "source": [
    "#check that content was pulled accurately\n",
    "links_2023[links_2023.content.isna()]"
   ]
  },
  {
   "cell_type": "code",
   "execution_count": 101,
   "id": "dcea6850",
   "metadata": {},
   "outputs": [
    {
     "data": {
      "text/html": [
       "<div>\n",
       "<style scoped>\n",
       "    .dataframe tbody tr th:only-of-type {\n",
       "        vertical-align: middle;\n",
       "    }\n",
       "\n",
       "    .dataframe tbody tr th {\n",
       "        vertical-align: top;\n",
       "    }\n",
       "\n",
       "    .dataframe thead th {\n",
       "        text-align: right;\n",
       "    }\n",
       "</style>\n",
       "<table border=\"1\" class=\"dataframe\">\n",
       "  <thead>\n",
       "    <tr style=\"text-align: right;\">\n",
       "      <th></th>\n",
       "      <th>title</th>\n",
       "      <th>link</th>\n",
       "      <th>content</th>\n",
       "      <th>date_clean</th>\n",
       "    </tr>\n",
       "  </thead>\n",
       "  <tbody>\n",
       "    <tr>\n",
       "      <th>14</th>\n",
       "      <td>Idaho ranks first for income growth</td>\n",
       "      <td>https://gov.idaho.gov/pressrelease/idaho-ranks...</td>\n",
       "      <td>Boise, Idaho – Governor Brad Little commented ...</td>\n",
       "      <td>2023-12-28</td>\n",
       "    </tr>\n",
       "    <tr>\n",
       "      <th>15</th>\n",
       "      <td>Gov. Little, Superintendent Critchfield reflec...</td>\n",
       "      <td>https://gov.idaho.gov/pressrelease/gov-little-...</td>\n",
       "      <td>Boise, Idaho – Governor Brad Little and Superi...</td>\n",
       "      <td>2023-12-18</td>\n",
       "    </tr>\n",
       "    <tr>\n",
       "      <th>16</th>\n",
       "      <td>OPINION: Ditch the secret backroom dam breachi...</td>\n",
       "      <td>https://gov.idaho.gov/pressrelease/opinion-dit...</td>\n",
       "      <td>By Governor Brad Little and Lt. Governor Scott...</td>\n",
       "      <td>2023-12-15</td>\n",
       "    </tr>\n",
       "    <tr>\n",
       "      <th>17</th>\n",
       "      <td>$100 million for local roads rolls out as part...</td>\n",
       "      <td>https://gov.idaho.gov/pressrelease/100-million...</td>\n",
       "      <td>Boise, Idaho – The historic transportation fun...</td>\n",
       "      <td>2023-12-14</td>\n",
       "    </tr>\n",
       "    <tr>\n",
       "      <th>18</th>\n",
       "      <td>Gov. Little’s Mexico trade mission strengthens...</td>\n",
       "      <td>https://gov.idaho.gov/pressrelease/gov-littles...</td>\n",
       "      <td>Boise, Idaho – Governor Brad Little completed ...</td>\n",
       "      <td>2023-12-01</td>\n",
       "    </tr>\n",
       "  </tbody>\n",
       "</table>\n",
       "</div>"
      ],
      "text/plain": [
       "                                                title  \\\n",
       "14                Idaho ranks first for income growth   \n",
       "15  Gov. Little, Superintendent Critchfield reflec...   \n",
       "16  OPINION: Ditch the secret backroom dam breachi...   \n",
       "17  $100 million for local roads rolls out as part...   \n",
       "18  Gov. Little’s Mexico trade mission strengthens...   \n",
       "\n",
       "                                                 link  \\\n",
       "14  https://gov.idaho.gov/pressrelease/idaho-ranks...   \n",
       "15  https://gov.idaho.gov/pressrelease/gov-little-...   \n",
       "16  https://gov.idaho.gov/pressrelease/opinion-dit...   \n",
       "17  https://gov.idaho.gov/pressrelease/100-million...   \n",
       "18  https://gov.idaho.gov/pressrelease/gov-littles...   \n",
       "\n",
       "                                              content date_clean  \n",
       "14  Boise, Idaho – Governor Brad Little commented ... 2023-12-28  \n",
       "15  Boise, Idaho – Governor Brad Little and Superi... 2023-12-18  \n",
       "16  By Governor Brad Little and Lt. Governor Scott... 2023-12-15  \n",
       "17  Boise, Idaho – The historic transportation fun... 2023-12-14  \n",
       "18  Boise, Idaho – Governor Brad Little completed ... 2023-12-01  "
      ]
     },
     "execution_count": 101,
     "metadata": {},
     "output_type": "execute_result"
    },
    {
     "data": {
      "text/html": [
       "<div>\n",
       "<style scoped>\n",
       "    .dataframe tbody tr th:only-of-type {\n",
       "        vertical-align: middle;\n",
       "    }\n",
       "\n",
       "    .dataframe tbody tr th {\n",
       "        vertical-align: top;\n",
       "    }\n",
       "\n",
       "    .dataframe thead th {\n",
       "        text-align: right;\n",
       "    }\n",
       "</style>\n",
       "<table border=\"1\" class=\"dataframe\">\n",
       "  <thead>\n",
       "    <tr style=\"text-align: right;\">\n",
       "      <th></th>\n",
       "      <th>title</th>\n",
       "      <th>link</th>\n",
       "      <th>content</th>\n",
       "      <th>date_clean</th>\n",
       "    </tr>\n",
       "  </thead>\n",
       "  <tbody>\n",
       "    <tr>\n",
       "      <th>87</th>\n",
       "      <td>Gov. Little announces staff changes</td>\n",
       "      <td>https://gov.idaho.gov/pressrelease/gov-little-...</td>\n",
       "      <td>Boise, Idaho – Governor Brad Little announced ...</td>\n",
       "      <td>2023-01-11</td>\n",
       "    </tr>\n",
       "    <tr>\n",
       "      <th>88</th>\n",
       "      <td>Gov. Little appoints new Agriculture Director ...</td>\n",
       "      <td>https://gov.idaho.gov/pressrelease/gov-little-...</td>\n",
       "      <td>Boise, Idaho – Governor Brad Little announced ...</td>\n",
       "      <td>2023-01-10</td>\n",
       "    </tr>\n",
       "    <tr>\n",
       "      <th>89</th>\n",
       "      <td>Gov. Little rolls out ‘Idaho First’ plan to su...</td>\n",
       "      <td>https://gov.idaho.gov/pressrelease/gov-little-...</td>\n",
       "      <td>Boise, Idaho – Governor Brad Little delivered ...</td>\n",
       "      <td>2023-01-09</td>\n",
       "    </tr>\n",
       "    <tr>\n",
       "      <th>90</th>\n",
       "      <td>Gov. Little publicly sworn in for second term ...</td>\n",
       "      <td>https://gov.idaho.gov/pressrelease/gov-little-...</td>\n",
       "      <td>Boise, Idaho – Governor Brad Little was public...</td>\n",
       "      <td>2023-01-06</td>\n",
       "    </tr>\n",
       "    <tr>\n",
       "      <th>91</th>\n",
       "      <td>Idahoans invited to watch Gov. Little Inaugura...</td>\n",
       "      <td>https://gov.idaho.gov/pressrelease/idahoans-in...</td>\n",
       "      <td>Boise, Idaho – Governor Little invites Idahoan...</td>\n",
       "      <td>2023-01-03</td>\n",
       "    </tr>\n",
       "  </tbody>\n",
       "</table>\n",
       "</div>"
      ],
      "text/plain": [
       "                                                title  \\\n",
       "87                Gov. Little announces staff changes   \n",
       "88  Gov. Little appoints new Agriculture Director ...   \n",
       "89  Gov. Little rolls out ‘Idaho First’ plan to su...   \n",
       "90  Gov. Little publicly sworn in for second term ...   \n",
       "91  Idahoans invited to watch Gov. Little Inaugura...   \n",
       "\n",
       "                                                 link  \\\n",
       "87  https://gov.idaho.gov/pressrelease/gov-little-...   \n",
       "88  https://gov.idaho.gov/pressrelease/gov-little-...   \n",
       "89  https://gov.idaho.gov/pressrelease/gov-little-...   \n",
       "90  https://gov.idaho.gov/pressrelease/gov-little-...   \n",
       "91  https://gov.idaho.gov/pressrelease/idahoans-in...   \n",
       "\n",
       "                                              content date_clean  \n",
       "87  Boise, Idaho – Governor Brad Little announced ... 2023-01-11  \n",
       "88  Boise, Idaho – Governor Brad Little announced ... 2023-01-10  \n",
       "89  Boise, Idaho – Governor Brad Little delivered ... 2023-01-09  \n",
       "90  Boise, Idaho – Governor Brad Little was public... 2023-01-06  \n",
       "91  Boise, Idaho – Governor Little invites Idahoan... 2023-01-03  "
      ]
     },
     "execution_count": 101,
     "metadata": {},
     "output_type": "execute_result"
    }
   ],
   "source": [
    "links_2023.head()\n",
    "links_2023.tail()"
   ]
  },
  {
   "cell_type": "code",
   "execution_count": 102,
   "id": "e894624d",
   "metadata": {},
   "outputs": [
    {
     "name": "stdout",
     "output_type": "stream",
     "text": [
      "pulled 78 documents from idaho for 2023\n"
     ]
    }
   ],
   "source": [
    "print(f\"pulled {str(len(links_2023))} documents from {state} for 2023\")"
   ]
  },
  {
   "cell_type": "markdown",
   "id": "a637dce3",
   "metadata": {},
   "source": [
    "## Export"
   ]
  },
  {
   "cell_type": "code",
   "execution_count": 103,
   "id": "d675fc44",
   "metadata": {},
   "outputs": [],
   "source": [
    "# export\n",
    "links_2023.to_csv(f'{state}_2023.csv', index = False)"
   ]
  },
  {
   "cell_type": "code",
   "execution_count": 104,
   "id": "621c6b9b",
   "metadata": {},
   "outputs": [
    {
     "data": {
      "text/html": [
       "<div>\n",
       "<style scoped>\n",
       "    .dataframe tbody tr th:only-of-type {\n",
       "        vertical-align: middle;\n",
       "    }\n",
       "\n",
       "    .dataframe tbody tr th {\n",
       "        vertical-align: top;\n",
       "    }\n",
       "\n",
       "    .dataframe thead th {\n",
       "        text-align: right;\n",
       "    }\n",
       "</style>\n",
       "<table border=\"1\" class=\"dataframe\">\n",
       "  <thead>\n",
       "    <tr style=\"text-align: right;\">\n",
       "      <th></th>\n",
       "      <th>title</th>\n",
       "      <th>link</th>\n",
       "      <th>content</th>\n",
       "      <th>date_clean</th>\n",
       "    </tr>\n",
       "  </thead>\n",
       "  <tbody>\n",
       "    <tr>\n",
       "      <th>0</th>\n",
       "      <td>Idaho ranks first for income growth</td>\n",
       "      <td>https://gov.idaho.gov/pressrelease/idaho-ranks...</td>\n",
       "      <td>Boise, Idaho – Governor Brad Little commented ...</td>\n",
       "      <td>2023-12-28</td>\n",
       "    </tr>\n",
       "    <tr>\n",
       "      <th>1</th>\n",
       "      <td>Gov. Little, Superintendent Critchfield reflec...</td>\n",
       "      <td>https://gov.idaho.gov/pressrelease/gov-little-...</td>\n",
       "      <td>Boise, Idaho – Governor Brad Little and Superi...</td>\n",
       "      <td>2023-12-18</td>\n",
       "    </tr>\n",
       "    <tr>\n",
       "      <th>2</th>\n",
       "      <td>OPINION: Ditch the secret backroom dam breachi...</td>\n",
       "      <td>https://gov.idaho.gov/pressrelease/opinion-dit...</td>\n",
       "      <td>By Governor Brad Little and Lt. Governor Scott...</td>\n",
       "      <td>2023-12-15</td>\n",
       "    </tr>\n",
       "    <tr>\n",
       "      <th>3</th>\n",
       "      <td>$100 million for local roads rolls out as part...</td>\n",
       "      <td>https://gov.idaho.gov/pressrelease/100-million...</td>\n",
       "      <td>Boise, Idaho – The historic transportation fun...</td>\n",
       "      <td>2023-12-14</td>\n",
       "    </tr>\n",
       "    <tr>\n",
       "      <th>4</th>\n",
       "      <td>Gov. Little’s Mexico trade mission strengthens...</td>\n",
       "      <td>https://gov.idaho.gov/pressrelease/gov-littles...</td>\n",
       "      <td>Boise, Idaho – Governor Brad Little completed ...</td>\n",
       "      <td>2023-12-01</td>\n",
       "    </tr>\n",
       "  </tbody>\n",
       "</table>\n",
       "</div>"
      ],
      "text/plain": [
       "                                               title  \\\n",
       "0                Idaho ranks first for income growth   \n",
       "1  Gov. Little, Superintendent Critchfield reflec...   \n",
       "2  OPINION: Ditch the secret backroom dam breachi...   \n",
       "3  $100 million for local roads rolls out as part...   \n",
       "4  Gov. Little’s Mexico trade mission strengthens...   \n",
       "\n",
       "                                                link  \\\n",
       "0  https://gov.idaho.gov/pressrelease/idaho-ranks...   \n",
       "1  https://gov.idaho.gov/pressrelease/gov-little-...   \n",
       "2  https://gov.idaho.gov/pressrelease/opinion-dit...   \n",
       "3  https://gov.idaho.gov/pressrelease/100-million...   \n",
       "4  https://gov.idaho.gov/pressrelease/gov-littles...   \n",
       "\n",
       "                                             content  date_clean  \n",
       "0  Boise, Idaho – Governor Brad Little commented ...  2023-12-28  \n",
       "1  Boise, Idaho – Governor Brad Little and Superi...  2023-12-18  \n",
       "2  By Governor Brad Little and Lt. Governor Scott...  2023-12-15  \n",
       "3  Boise, Idaho – The historic transportation fun...  2023-12-14  \n",
       "4  Boise, Idaho – Governor Brad Little completed ...  2023-12-01  "
      ]
     },
     "execution_count": 104,
     "metadata": {},
     "output_type": "execute_result"
    }
   ],
   "source": [
    "# test = pd.read_csv(f'{state}_2023.csv')\n",
    "# test.head()"
   ]
  }
 ],
 "metadata": {
  "kernelspec": {
   "display_name": "Python 3 (ipykernel)",
   "language": "python",
   "name": "python3"
  },
  "language_info": {
   "codemirror_mode": {
    "name": "ipython",
    "version": 3
   },
   "file_extension": ".py",
   "mimetype": "text/x-python",
   "name": "python",
   "nbconvert_exporter": "python",
   "pygments_lexer": "ipython3",
   "version": "3.9.12"
  }
 },
 "nbformat": 4,
 "nbformat_minor": 5
}
