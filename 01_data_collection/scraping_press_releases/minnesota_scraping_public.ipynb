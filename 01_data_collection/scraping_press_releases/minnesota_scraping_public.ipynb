{
 "cells": [
  {
   "cell_type": "markdown",
   "id": "f00d02a5",
   "metadata": {},
   "source": [
    "# Minnesota Scraping "
   ]
  },
  {
   "cell_type": "code",
   "execution_count": 5,
   "id": "2d2ca3c3",
   "metadata": {},
   "outputs": [
    {
     "name": "stdout",
     "output_type": "stream",
     "text": [
      "Exception reporting mode: Minimal\n"
     ]
    }
   ],
   "source": [
    "# set up \n",
    "import pandas as pd \n",
    "import requests \n",
    "import bs4\n",
    "import numpy as np\n",
    "import time \n",
    "import re\n",
    "from tika import parser\n",
    "from selenium import webdriver\n",
    "from selenium.webdriver.common.by import By\n",
    "from selenium.webdriver.support.ui import WebDriverWait\n",
    "from selenium.webdriver.support import expected_conditions as EC\n",
    "from selenium.webdriver.support.select import Select\n",
    "from selenium.webdriver.common.action_chains import ActionChains\n",
    "from selenium.common.exceptions import StaleElementReferenceException, TimeoutException\n",
    "from io import BytesIO\n",
    "from urllib.request import urlopen\n",
    "from selenium.webdriver.chrome.options import Options\n",
    "\n",
    "from IPython.core.interactiveshell import InteractiveShell \n",
    "InteractiveShell.ast_node_interactivity = \"all\"\n",
    "\n",
    "%xmode Minimal"
   ]
  },
  {
   "cell_type": "code",
   "execution_count": 15,
   "id": "4b8c25f3",
   "metadata": {},
   "outputs": [],
   "source": [
    "# # set headers\n",
    "# header_list = {'User-Agent': REDACTED,\n",
    "#               'Accept-Language': 'en-US,en;q=0.9'}"
   ]
  },
  {
   "cell_type": "code",
   "execution_count": 7,
   "id": "0b85368d",
   "metadata": {},
   "outputs": [],
   "source": [
    "# state - UPDATE EACH TIME\n",
    "state = 'minnesota'"
   ]
  },
  {
   "cell_type": "code",
   "execution_count": null,
   "id": "150c1170",
   "metadata": {},
   "outputs": [],
   "source": [
    "# review of robots.txt - Request-rate: 10"
   ]
  },
  {
   "cell_type": "code",
   "execution_count": null,
   "id": "92379a17",
   "metadata": {},
   "outputs": [],
   "source": [
    "# test = pd.read_csv(f'{state}_2023.csv')\n",
    "# test.head()"
   ]
  },
  {
   "cell_type": "markdown",
   "id": "a41b45ff",
   "metadata": {},
   "source": [
    "## Scrape Links\n",
    "`Selenium`"
   ]
  },
  {
   "cell_type": "markdown",
   "id": "ebc7f0b1",
   "metadata": {},
   "source": [
    "### Test with one link"
   ]
  },
  {
   "cell_type": "markdown",
   "id": "48ea8722",
   "metadata": {},
   "source": [
    "`Beautiful Soup` **Test**"
   ]
  },
  {
   "cell_type": "code",
   "execution_count": 8,
   "id": "54353e0d",
   "metadata": {},
   "outputs": [
    {
     "data": {
      "text/plain": [
       "<Response [200]>"
      ]
     },
     "execution_count": 8,
     "metadata": {},
     "output_type": "execute_result"
    }
   ],
   "source": [
    "# access webpage\n",
    "link = 'https://mn.gov/governor/newsroom/press-releases/#/list/appId/1/filterType//filterValue//page/5/sort//order/'\n",
    "server_response = requests.get(link, header_list)\n",
    "server_response"
   ]
  },
  {
   "cell_type": "code",
   "execution_count": 9,
   "id": "e7afa6bb",
   "metadata": {},
   "outputs": [],
   "source": [
    "# Parse and isolate content - DIDN'T WORK \n",
    "soup = bs4.BeautifulSoup(server_response.content, features=\"html.parser\")\n",
    "results = soup.find('div', class_ = 'row ng-scope')\n",
    "#find_all('li', class_='ng-scope')\n",
    "results\n",
    "\n",
    "# title = [i.find('h2').text for i in results]\n",
    "# link = [i.find('a')['href'] for i in results]\n",
    "# date = [i.find('span', class_='postDate').text for i in results]"
   ]
  },
  {
   "cell_type": "markdown",
   "id": "40a0e028",
   "metadata": {},
   "source": [
    "### Scrape all links"
   ]
  },
  {
   "cell_type": "code",
   "execution_count": null,
   "id": "9565ebeb",
   "metadata": {},
   "outputs": [],
   "source": [
    "# manual review of pages need 5-35 for 2023\n",
    "df_list = []\n",
    "\n",
    "for page in range(5, 36):\n",
    "    driver = webdriver.Chrome()\n",
    "    driver.get(f'https://mn.gov/governor/newsroom/press-releases/#/list/appId/1/filterType//filterValue//page/{page}/sort//order/')\n",
    "\n",
    "    wait = WebDriverWait(driver, 10)\n",
    "\n",
    "    wait.until(EC.presence_of_all_elements_located((By.XPATH, '//*[@id=\"dynamic-item-list-1\"]/div[1]/ul')))\n",
    "\n",
    "    section = driver.find_element(By.XPATH, '//*[@id=\"dynamic-item-list-1\"]/div[1]/ul')\n",
    "\n",
    "    results = section.find_elements(By.TAG_NAME, 'li')\n",
    "\n",
    "    results_list = [{'title': i.find_element(By.TAG_NAME, 'a').text,\n",
    "                    'date': i.find_element(By.CLASS_NAME, 'meta').text, \n",
    "                    'link': i.find_element(By.TAG_NAME, 'a').get_attribute('href')} for i in results]\n",
    "\n",
    "    df = pd.DataFrame.from_dict(results_list)\n",
    "    df_list.append(df)\n",
    "    driver.close()"
   ]
  },
  {
   "cell_type": "code",
   "execution_count": null,
   "id": "b7e209b1",
   "metadata": {},
   "outputs": [],
   "source": [
    "len(df_list)"
   ]
  },
  {
   "cell_type": "code",
   "execution_count": null,
   "id": "b3d0b8b6",
   "metadata": {},
   "outputs": [],
   "source": [
    "# combine df list into one df \n",
    "combined = pd.concat(df_list)\n",
    "combined"
   ]
  },
  {
   "cell_type": "code",
   "execution_count": null,
   "id": "1efed926",
   "metadata": {},
   "outputs": [],
   "source": [
    "# create blank column for use later \n",
    "combined['content'] = np.nan\n",
    "combined.head()"
   ]
  },
  {
   "cell_type": "code",
   "execution_count": null,
   "id": "4e15e0d0",
   "metadata": {},
   "outputs": [],
   "source": [
    "# safety save\n",
    "combined.to_csv(f'{state}_links.csv', index = False)"
   ]
  },
  {
   "cell_type": "markdown",
   "id": "92cf01bb",
   "metadata": {},
   "source": [
    "## Scrape content from  links \n",
    "`Selenium`"
   ]
  },
  {
   "cell_type": "markdown",
   "id": "4f59ac90",
   "metadata": {},
   "source": [
    "### Try with one link"
   ]
  },
  {
   "cell_type": "markdown",
   "id": "9833621d",
   "metadata": {},
   "source": [
    "`Beautiful Soup` **Test**"
   ]
  },
  {
   "cell_type": "code",
   "execution_count": 10,
   "id": "497843ea",
   "metadata": {},
   "outputs": [
    {
     "data": {
      "text/plain": [
       "<Response [200]>"
      ]
     },
     "execution_count": 10,
     "metadata": {},
     "output_type": "execute_result"
    }
   ],
   "source": [
    "# access webpage\n",
    "link = 'https://mn.gov/governor/newsroom/press-releases/#/detail/appId/1/id/559399'\n",
    "server_response = requests.get(link, headers = header_list)\n",
    "server_response"
   ]
  },
  {
   "cell_type": "code",
   "execution_count": 13,
   "id": "30642e3a",
   "metadata": {},
   "outputs": [],
   "source": [
    "# parse and access content - DIDN'T WORK\n",
    "soup_link = bs4.BeautifulSoup(server_response.content, features=\"html.parser\")\n",
    "result = soup_link.find('div', class_ = 'ng-binding')\n",
    "result"
   ]
  },
  {
   "cell_type": "code",
   "execution_count": 7,
   "id": "61681808",
   "metadata": {},
   "outputs": [],
   "source": [
    "# try selenium \n",
    "def get_minnesota_content(link, df): \n",
    "    try: \n",
    "        # check if content has already been pulled\n",
    "        result = df.loc[df.link == link, 'content'].notnull().all()\n",
    "        \n",
    "        if result:\n",
    "            return f'content already existing for {link}' \n",
    "        else: \n",
    "            try: \n",
    "                driver = webdriver.Chrome()\n",
    "                driver.get(link)\n",
    "                time.sleep(3)\n",
    "                \n",
    "                wait = WebDriverWait(driver, 10)\n",
    "\n",
    "                wait.until(EC.presence_of_all_elements_located((By.XPATH, '//*[@id=\"dynamic-item-list-1\"]/div[1]/div')))\n",
    "\n",
    "                results = driver.find_element(By.XPATH,'//*[@id=\"dynamic-item-list-1\"]/div[1]/div')\n",
    "\n",
    "                p_results = results.find_elements(By.TAG_NAME, 'p') \n",
    "\n",
    "                p_text = [i.text for i in p_results]\n",
    "\n",
    "                li_results = results.find_elements(By.TAG_NAME, 'li') \n",
    "\n",
    "                if li_results is not None: \n",
    "                    li_text = [\"--\" + i.text for i in li_results]\n",
    "                    p_text.extend(li_text)\n",
    "                else: \n",
    "                    pass\n",
    "\n",
    "                result_merged = \" \".join(p_text)\n",
    "                result_merged\n",
    "                driver.quit()\n",
    "                df.loc[df.link == link, 'content'] = result_merged\n",
    "                return f\"success: content added from {link}\"\n",
    "            except: \n",
    "                pass\n",
    "    except Exception as e: \n",
    "        return f\"unable to gather content from {link} due to {e}\""
   ]
  },
  {
   "cell_type": "code",
   "execution_count": 14,
   "id": "60fbdc9f",
   "metadata": {},
   "outputs": [],
   "source": [
    "# test on one link again \n",
    "driver = webdriver.Chrome()\n",
    "driver.get(combined.link[0])\n",
    "time.sleep(3)"
   ]
  },
  {
   "cell_type": "markdown",
   "id": "728e3d45",
   "metadata": {},
   "source": [
    "### Scrape content from all links (in chunks)"
   ]
  },
  {
   "cell_type": "code",
   "execution_count": null,
   "id": "5c2ddd4c",
   "metadata": {},
   "outputs": [],
   "source": [
    "# first chunk \n",
    "for i in combined.link[0:100]:\n",
    "     get_minnesota_content(i, combined) "
   ]
  },
  {
   "cell_type": "code",
   "execution_count": null,
   "id": "7ff462cd",
   "metadata": {},
   "outputs": [],
   "source": [
    "# safety save first chunk \n",
    "combined.to_csv('minnesota_0_100.csv', index = False)"
   ]
  },
  {
   "cell_type": "code",
   "execution_count": 9,
   "id": "117afa6c",
   "metadata": {},
   "outputs": [
    {
     "data": {
      "text/plain": [
       "'success: content added from https://mn.gov/governor/newsroom/press-releases/#/detail/appId/1/id/590741'"
      ]
     },
     "execution_count": 9,
     "metadata": {},
     "output_type": "execute_result"
    },
    {
     "data": {
      "text/plain": [
       "'success: content added from https://mn.gov/governor/newsroom/press-releases/#/detail/appId/1/id/590739'"
      ]
     },
     "execution_count": 9,
     "metadata": {},
     "output_type": "execute_result"
    },
    {
     "data": {
      "text/plain": [
       "'success: content added from https://mn.gov/governor/newsroom/press-releases/#/detail/appId/1/id/590738'"
      ]
     },
     "execution_count": 9,
     "metadata": {},
     "output_type": "execute_result"
    },
    {
     "data": {
      "text/plain": [
       "'success: content added from https://mn.gov/governor/newsroom/press-releases/#/detail/appId/1/id/589989'"
      ]
     },
     "execution_count": 9,
     "metadata": {},
     "output_type": "execute_result"
    },
    {
     "data": {
      "text/plain": [
       "'success: content added from https://mn.gov/governor/newsroom/press-releases/#/detail/appId/1/id/589902'"
      ]
     },
     "execution_count": 9,
     "metadata": {},
     "output_type": "execute_result"
    },
    {
     "data": {
      "text/plain": [
       "'success: content added from https://mn.gov/governor/newsroom/press-releases/#/detail/appId/1/id/589904'"
      ]
     },
     "execution_count": 9,
     "metadata": {},
     "output_type": "execute_result"
    },
    {
     "data": {
      "text/plain": [
       "'success: content added from https://mn.gov/governor/newsroom/press-releases/#/detail/appId/1/id/589903'"
      ]
     },
     "execution_count": 9,
     "metadata": {},
     "output_type": "execute_result"
    },
    {
     "data": {
      "text/plain": [
       "'success: content added from https://mn.gov/governor/newsroom/press-releases/#/detail/appId/1/id/589905'"
      ]
     },
     "execution_count": 9,
     "metadata": {},
     "output_type": "execute_result"
    },
    {
     "data": {
      "text/plain": [
       "'success: content added from https://mn.gov/governor/newsroom/press-releases/#/detail/appId/1/id/587743'"
      ]
     },
     "execution_count": 9,
     "metadata": {},
     "output_type": "execute_result"
    },
    {
     "data": {
      "text/plain": [
       "'success: content added from https://mn.gov/governor/newsroom/press-releases/#/detail/appId/1/id/587744'"
      ]
     },
     "execution_count": 9,
     "metadata": {},
     "output_type": "execute_result"
    },
    {
     "data": {
      "text/plain": [
       "'success: content added from https://mn.gov/governor/newsroom/press-releases/#/detail/appId/1/id/587192'"
      ]
     },
     "execution_count": 9,
     "metadata": {},
     "output_type": "execute_result"
    },
    {
     "data": {
      "text/plain": [
       "'success: content added from https://mn.gov/governor/newsroom/press-releases/#/detail/appId/1/id/587021'"
      ]
     },
     "execution_count": 9,
     "metadata": {},
     "output_type": "execute_result"
    },
    {
     "data": {
      "text/plain": [
       "'success: content added from https://mn.gov/governor/newsroom/press-releases/#/detail/appId/1/id/586876'"
      ]
     },
     "execution_count": 9,
     "metadata": {},
     "output_type": "execute_result"
    },
    {
     "data": {
      "text/plain": [
       "'success: content added from https://mn.gov/governor/newsroom/press-releases/#/detail/appId/1/id/587191'"
      ]
     },
     "execution_count": 9,
     "metadata": {},
     "output_type": "execute_result"
    },
    {
     "data": {
      "text/plain": [
       "'success: content added from https://mn.gov/governor/newsroom/press-releases/#/detail/appId/1/id/586649'"
      ]
     },
     "execution_count": 9,
     "metadata": {},
     "output_type": "execute_result"
    },
    {
     "data": {
      "text/plain": [
       "'success: content added from https://mn.gov/governor/newsroom/press-releases/#/detail/appId/1/id/586648'"
      ]
     },
     "execution_count": 9,
     "metadata": {},
     "output_type": "execute_result"
    },
    {
     "data": {
      "text/plain": [
       "'success: content added from https://mn.gov/governor/newsroom/press-releases/#/detail/appId/1/id/586647'"
      ]
     },
     "execution_count": 9,
     "metadata": {},
     "output_type": "execute_result"
    },
    {
     "data": {
      "text/plain": [
       "'success: content added from https://mn.gov/governor/newsroom/press-releases/#/detail/appId/1/id/586646'"
      ]
     },
     "execution_count": 9,
     "metadata": {},
     "output_type": "execute_result"
    },
    {
     "data": {
      "text/plain": [
       "'success: content added from https://mn.gov/governor/newsroom/press-releases/#/detail/appId/1/id/586645'"
      ]
     },
     "execution_count": 9,
     "metadata": {},
     "output_type": "execute_result"
    },
    {
     "data": {
      "text/plain": [
       "'success: content added from https://mn.gov/governor/newsroom/press-releases/#/detail/appId/1/id/586053'"
      ]
     },
     "execution_count": 9,
     "metadata": {},
     "output_type": "execute_result"
    },
    {
     "data": {
      "text/plain": [
       "'success: content added from https://mn.gov/governor/newsroom/press-releases/#/detail/appId/1/id/586050'"
      ]
     },
     "execution_count": 9,
     "metadata": {},
     "output_type": "execute_result"
    },
    {
     "data": {
      "text/plain": [
       "'success: content added from https://mn.gov/governor/newsroom/press-releases/#/detail/appId/1/id/586049'"
      ]
     },
     "execution_count": 9,
     "metadata": {},
     "output_type": "execute_result"
    },
    {
     "data": {
      "text/plain": [
       "'success: content added from https://mn.gov/governor/newsroom/press-releases/#/detail/appId/1/id/586048'"
      ]
     },
     "execution_count": 9,
     "metadata": {},
     "output_type": "execute_result"
    },
    {
     "data": {
      "text/plain": [
       "'success: content added from https://mn.gov/governor/newsroom/press-releases/#/detail/appId/1/id/585802'"
      ]
     },
     "execution_count": 9,
     "metadata": {},
     "output_type": "execute_result"
    },
    {
     "data": {
      "text/plain": [
       "'success: content added from https://mn.gov/governor/newsroom/press-releases/#/detail/appId/1/id/585411'"
      ]
     },
     "execution_count": 9,
     "metadata": {},
     "output_type": "execute_result"
    },
    {
     "data": {
      "text/plain": [
       "'success: content added from https://mn.gov/governor/newsroom/press-releases/#/detail/appId/1/id/585410'"
      ]
     },
     "execution_count": 9,
     "metadata": {},
     "output_type": "execute_result"
    },
    {
     "data": {
      "text/plain": [
       "'success: content added from https://mn.gov/governor/newsroom/press-releases/#/detail/appId/1/id/585409'"
      ]
     },
     "execution_count": 9,
     "metadata": {},
     "output_type": "execute_result"
    },
    {
     "data": {
      "text/plain": [
       "'success: content added from https://mn.gov/governor/newsroom/press-releases/#/detail/appId/1/id/585408'"
      ]
     },
     "execution_count": 9,
     "metadata": {},
     "output_type": "execute_result"
    },
    {
     "data": {
      "text/plain": [
       "'success: content added from https://mn.gov/governor/newsroom/press-releases/#/detail/appId/1/id/585405'"
      ]
     },
     "execution_count": 9,
     "metadata": {},
     "output_type": "execute_result"
    },
    {
     "data": {
      "text/plain": [
       "'success: content added from https://mn.gov/governor/newsroom/press-releases/#/detail/appId/1/id/585403'"
      ]
     },
     "execution_count": 9,
     "metadata": {},
     "output_type": "execute_result"
    },
    {
     "data": {
      "text/plain": [
       "'success: content added from https://mn.gov/governor/newsroom/press-releases/#/detail/appId/1/id/585402'"
      ]
     },
     "execution_count": 9,
     "metadata": {},
     "output_type": "execute_result"
    },
    {
     "data": {
      "text/plain": [
       "'success: content added from https://mn.gov/governor/newsroom/press-releases/#/detail/appId/1/id/585129'"
      ]
     },
     "execution_count": 9,
     "metadata": {},
     "output_type": "execute_result"
    },
    {
     "data": {
      "text/plain": [
       "'success: content added from https://mn.gov/governor/newsroom/press-releases/#/detail/appId/1/id/585130'"
      ]
     },
     "execution_count": 9,
     "metadata": {},
     "output_type": "execute_result"
    },
    {
     "data": {
      "text/plain": [
       "'success: content added from https://mn.gov/governor/newsroom/press-releases/#/detail/appId/1/id/584711'"
      ]
     },
     "execution_count": 9,
     "metadata": {},
     "output_type": "execute_result"
    },
    {
     "data": {
      "text/plain": [
       "'success: content added from https://mn.gov/governor/newsroom/press-releases/#/detail/appId/1/id/584710'"
      ]
     },
     "execution_count": 9,
     "metadata": {},
     "output_type": "execute_result"
    },
    {
     "data": {
      "text/plain": [
       "'success: content added from https://mn.gov/governor/newsroom/press-releases/#/detail/appId/1/id/584433'"
      ]
     },
     "execution_count": 9,
     "metadata": {},
     "output_type": "execute_result"
    },
    {
     "data": {
      "text/plain": [
       "'success: content added from https://mn.gov/governor/newsroom/press-releases/#/detail/appId/1/id/584432'"
      ]
     },
     "execution_count": 9,
     "metadata": {},
     "output_type": "execute_result"
    },
    {
     "data": {
      "text/plain": [
       "'success: content added from https://mn.gov/governor/newsroom/press-releases/#/detail/appId/1/id/584395'"
      ]
     },
     "execution_count": 9,
     "metadata": {},
     "output_type": "execute_result"
    },
    {
     "data": {
      "text/plain": [
       "'success: content added from https://mn.gov/governor/newsroom/press-releases/#/detail/appId/1/id/584392'"
      ]
     },
     "execution_count": 9,
     "metadata": {},
     "output_type": "execute_result"
    },
    {
     "data": {
      "text/plain": [
       "'success: content added from https://mn.gov/governor/newsroom/press-releases/#/detail/appId/1/id/584386'"
      ]
     },
     "execution_count": 9,
     "metadata": {},
     "output_type": "execute_result"
    },
    {
     "data": {
      "text/plain": [
       "'success: content added from https://mn.gov/governor/newsroom/press-releases/#/detail/appId/1/id/584394'"
      ]
     },
     "execution_count": 9,
     "metadata": {},
     "output_type": "execute_result"
    },
    {
     "data": {
      "text/plain": [
       "'success: content added from https://mn.gov/governor/newsroom/press-releases/#/detail/appId/1/id/584372'"
      ]
     },
     "execution_count": 9,
     "metadata": {},
     "output_type": "execute_result"
    },
    {
     "data": {
      "text/plain": [
       "'success: content added from https://mn.gov/governor/newsroom/press-releases/#/detail/appId/1/id/583830'"
      ]
     },
     "execution_count": 9,
     "metadata": {},
     "output_type": "execute_result"
    },
    {
     "data": {
      "text/plain": [
       "'success: content added from https://mn.gov/governor/newsroom/press-releases/#/detail/appId/1/id/583487'"
      ]
     },
     "execution_count": 9,
     "metadata": {},
     "output_type": "execute_result"
    },
    {
     "data": {
      "text/plain": [
       "'success: content added from https://mn.gov/governor/newsroom/press-releases/#/detail/appId/1/id/583406'"
      ]
     },
     "execution_count": 9,
     "metadata": {},
     "output_type": "execute_result"
    },
    {
     "data": {
      "text/plain": [
       "'success: content added from https://mn.gov/governor/newsroom/press-releases/#/detail/appId/1/id/583409'"
      ]
     },
     "execution_count": 9,
     "metadata": {},
     "output_type": "execute_result"
    },
    {
     "data": {
      "text/plain": [
       "'success: content added from https://mn.gov/governor/newsroom/press-releases/#/detail/appId/1/id/583402'"
      ]
     },
     "execution_count": 9,
     "metadata": {},
     "output_type": "execute_result"
    },
    {
     "data": {
      "text/plain": [
       "'success: content added from https://mn.gov/governor/newsroom/press-releases/#/detail/appId/1/id/583348'"
      ]
     },
     "execution_count": 9,
     "metadata": {},
     "output_type": "execute_result"
    },
    {
     "data": {
      "text/plain": [
       "'success: content added from https://mn.gov/governor/newsroom/press-releases/#/detail/appId/1/id/583176'"
      ]
     },
     "execution_count": 9,
     "metadata": {},
     "output_type": "execute_result"
    },
    {
     "data": {
      "text/plain": [
       "'success: content added from https://mn.gov/governor/newsroom/press-releases/#/detail/appId/1/id/583175'"
      ]
     },
     "execution_count": 9,
     "metadata": {},
     "output_type": "execute_result"
    },
    {
     "data": {
      "text/plain": [
       "'success: content added from https://mn.gov/governor/newsroom/press-releases/#/detail/appId/1/id/583174'"
      ]
     },
     "execution_count": 9,
     "metadata": {},
     "output_type": "execute_result"
    },
    {
     "data": {
      "text/plain": [
       "'success: content added from https://mn.gov/governor/newsroom/press-releases/#/detail/appId/1/id/583173'"
      ]
     },
     "execution_count": 9,
     "metadata": {},
     "output_type": "execute_result"
    },
    {
     "data": {
      "text/plain": [
       "'success: content added from https://mn.gov/governor/newsroom/press-releases/#/detail/appId/1/id/582242'"
      ]
     },
     "execution_count": 9,
     "metadata": {},
     "output_type": "execute_result"
    },
    {
     "data": {
      "text/plain": [
       "'success: content added from https://mn.gov/governor/newsroom/press-releases/#/detail/appId/1/id/582241'"
      ]
     },
     "execution_count": 9,
     "metadata": {},
     "output_type": "execute_result"
    },
    {
     "data": {
      "text/plain": [
       "'success: content added from https://mn.gov/governor/newsroom/press-releases/#/detail/appId/1/id/581580'"
      ]
     },
     "execution_count": 9,
     "metadata": {},
     "output_type": "execute_result"
    },
    {
     "data": {
      "text/plain": [
       "'success: content added from https://mn.gov/governor/newsroom/press-releases/#/detail/appId/1/id/581582'"
      ]
     },
     "execution_count": 9,
     "metadata": {},
     "output_type": "execute_result"
    },
    {
     "data": {
      "text/plain": [
       "'success: content added from https://mn.gov/governor/newsroom/press-releases/#/detail/appId/1/id/581584'"
      ]
     },
     "execution_count": 9,
     "metadata": {},
     "output_type": "execute_result"
    },
    {
     "data": {
      "text/plain": [
       "'success: content added from https://mn.gov/governor/newsroom/press-releases/#/detail/appId/1/id/581586'"
      ]
     },
     "execution_count": 9,
     "metadata": {},
     "output_type": "execute_result"
    },
    {
     "data": {
      "text/plain": [
       "'success: content added from https://mn.gov/governor/newsroom/press-releases/#/detail/appId/1/id/580680'"
      ]
     },
     "execution_count": 9,
     "metadata": {},
     "output_type": "execute_result"
    },
    {
     "data": {
      "text/plain": [
       "'success: content added from https://mn.gov/governor/newsroom/press-releases/#/detail/appId/1/id/580533'"
      ]
     },
     "execution_count": 9,
     "metadata": {},
     "output_type": "execute_result"
    },
    {
     "data": {
      "text/plain": [
       "'success: content added from https://mn.gov/governor/newsroom/press-releases/#/detail/appId/1/id/580532'"
      ]
     },
     "execution_count": 9,
     "metadata": {},
     "output_type": "execute_result"
    },
    {
     "data": {
      "text/plain": [
       "'success: content added from https://mn.gov/governor/newsroom/press-releases/#/detail/appId/1/id/580531'"
      ]
     },
     "execution_count": 9,
     "metadata": {},
     "output_type": "execute_result"
    },
    {
     "data": {
      "text/plain": [
       "'success: content added from https://mn.gov/governor/newsroom/press-releases/#/detail/appId/1/id/579790'"
      ]
     },
     "execution_count": 9,
     "metadata": {},
     "output_type": "execute_result"
    },
    {
     "data": {
      "text/plain": [
       "'success: content added from https://mn.gov/governor/newsroom/press-releases/#/detail/appId/1/id/579789'"
      ]
     },
     "execution_count": 9,
     "metadata": {},
     "output_type": "execute_result"
    },
    {
     "data": {
      "text/plain": [
       "'success: content added from https://mn.gov/governor/newsroom/press-releases/#/detail/appId/1/id/579572'"
      ]
     },
     "execution_count": 9,
     "metadata": {},
     "output_type": "execute_result"
    },
    {
     "data": {
      "text/plain": [
       "'success: content added from https://mn.gov/governor/newsroom/press-releases/#/detail/appId/1/id/579538'"
      ]
     },
     "execution_count": 9,
     "metadata": {},
     "output_type": "execute_result"
    },
    {
     "data": {
      "text/plain": [
       "'success: content added from https://mn.gov/governor/newsroom/press-releases/#/detail/appId/1/id/579413'"
      ]
     },
     "execution_count": 9,
     "metadata": {},
     "output_type": "execute_result"
    },
    {
     "data": {
      "text/plain": [
       "'success: content added from https://mn.gov/governor/newsroom/press-releases/#/detail/appId/1/id/579332'"
      ]
     },
     "execution_count": 9,
     "metadata": {},
     "output_type": "execute_result"
    },
    {
     "data": {
      "text/plain": [
       "'success: content added from https://mn.gov/governor/newsroom/press-releases/#/detail/appId/1/id/579333'"
      ]
     },
     "execution_count": 9,
     "metadata": {},
     "output_type": "execute_result"
    },
    {
     "data": {
      "text/plain": [
       "'success: content added from https://mn.gov/governor/newsroom/press-releases/#/detail/appId/1/id/579334'"
      ]
     },
     "execution_count": 9,
     "metadata": {},
     "output_type": "execute_result"
    },
    {
     "data": {
      "text/plain": [
       "'success: content added from https://mn.gov/governor/newsroom/press-releases/#/detail/appId/1/id/579304'"
      ]
     },
     "execution_count": 9,
     "metadata": {},
     "output_type": "execute_result"
    },
    {
     "data": {
      "text/plain": [
       "'success: content added from https://mn.gov/governor/newsroom/press-releases/#/detail/appId/1/id/579287'"
      ]
     },
     "execution_count": 9,
     "metadata": {},
     "output_type": "execute_result"
    },
    {
     "data": {
      "text/plain": [
       "'success: content added from https://mn.gov/governor/newsroom/press-releases/#/detail/appId/1/id/579303'"
      ]
     },
     "execution_count": 9,
     "metadata": {},
     "output_type": "execute_result"
    },
    {
     "data": {
      "text/plain": [
       "'success: content added from https://mn.gov/governor/newsroom/press-releases/#/detail/appId/1/id/579275'"
      ]
     },
     "execution_count": 9,
     "metadata": {},
     "output_type": "execute_result"
    },
    {
     "data": {
      "text/plain": [
       "'success: content added from https://mn.gov/governor/newsroom/press-releases/#/detail/appId/1/id/579302'"
      ]
     },
     "execution_count": 9,
     "metadata": {},
     "output_type": "execute_result"
    },
    {
     "data": {
      "text/plain": [
       "'success: content added from https://mn.gov/governor/newsroom/press-releases/#/detail/appId/1/id/579291'"
      ]
     },
     "execution_count": 9,
     "metadata": {},
     "output_type": "execute_result"
    },
    {
     "data": {
      "text/plain": [
       "'success: content added from https://mn.gov/governor/newsroom/press-releases/#/detail/appId/1/id/579296'"
      ]
     },
     "execution_count": 9,
     "metadata": {},
     "output_type": "execute_result"
    },
    {
     "data": {
      "text/plain": [
       "'success: content added from https://mn.gov/governor/newsroom/press-releases/#/detail/appId/1/id/579288'"
      ]
     },
     "execution_count": 9,
     "metadata": {},
     "output_type": "execute_result"
    },
    {
     "data": {
      "text/plain": [
       "'success: content added from https://mn.gov/governor/newsroom/press-releases/#/detail/appId/1/id/578396'"
      ]
     },
     "execution_count": 9,
     "metadata": {},
     "output_type": "execute_result"
    },
    {
     "data": {
      "text/plain": [
       "'success: content added from https://mn.gov/governor/newsroom/press-releases/#/detail/appId/1/id/578397'"
      ]
     },
     "execution_count": 9,
     "metadata": {},
     "output_type": "execute_result"
    },
    {
     "data": {
      "text/plain": [
       "'success: content added from https://mn.gov/governor/newsroom/press-releases/#/detail/appId/1/id/578333'"
      ]
     },
     "execution_count": 9,
     "metadata": {},
     "output_type": "execute_result"
    },
    {
     "data": {
      "text/plain": [
       "'success: content added from https://mn.gov/governor/newsroom/press-releases/#/detail/appId/1/id/578087'"
      ]
     },
     "execution_count": 9,
     "metadata": {},
     "output_type": "execute_result"
    },
    {
     "data": {
      "text/plain": [
       "'success: content added from https://mn.gov/governor/newsroom/press-releases/#/detail/appId/1/id/578078'"
      ]
     },
     "execution_count": 9,
     "metadata": {},
     "output_type": "execute_result"
    },
    {
     "data": {
      "text/plain": [
       "'success: content added from https://mn.gov/governor/newsroom/press-releases/#/detail/appId/1/id/577816'"
      ]
     },
     "execution_count": 9,
     "metadata": {},
     "output_type": "execute_result"
    },
    {
     "data": {
      "text/plain": [
       "'success: content added from https://mn.gov/governor/newsroom/press-releases/#/detail/appId/1/id/577802'"
      ]
     },
     "execution_count": 9,
     "metadata": {},
     "output_type": "execute_result"
    },
    {
     "data": {
      "text/plain": [
       "'success: content added from https://mn.gov/governor/newsroom/press-releases/#/detail/appId/1/id/577793'"
      ]
     },
     "execution_count": 9,
     "metadata": {},
     "output_type": "execute_result"
    },
    {
     "data": {
      "text/plain": [
       "'success: content added from https://mn.gov/governor/newsroom/press-releases/#/detail/appId/1/id/577792'"
      ]
     },
     "execution_count": 9,
     "metadata": {},
     "output_type": "execute_result"
    },
    {
     "data": {
      "text/plain": [
       "'success: content added from https://mn.gov/governor/newsroom/press-releases/#/detail/appId/1/id/577783'"
      ]
     },
     "execution_count": 9,
     "metadata": {},
     "output_type": "execute_result"
    },
    {
     "data": {
      "text/plain": [
       "'success: content added from https://mn.gov/governor/newsroom/press-releases/#/detail/appId/1/id/577642'"
      ]
     },
     "execution_count": 9,
     "metadata": {},
     "output_type": "execute_result"
    },
    {
     "data": {
      "text/plain": [
       "'success: content added from https://mn.gov/governor/newsroom/press-releases/#/detail/appId/1/id/577266'"
      ]
     },
     "execution_count": 9,
     "metadata": {},
     "output_type": "execute_result"
    },
    {
     "data": {
      "text/plain": [
       "'success: content added from https://mn.gov/governor/newsroom/press-releases/#/detail/appId/1/id/577568'"
      ]
     },
     "execution_count": 9,
     "metadata": {},
     "output_type": "execute_result"
    },
    {
     "data": {
      "text/plain": [
       "'success: content added from https://mn.gov/governor/newsroom/press-releases/#/detail/appId/1/id/576954'"
      ]
     },
     "execution_count": 9,
     "metadata": {},
     "output_type": "execute_result"
    },
    {
     "data": {
      "text/plain": [
       "'success: content added from https://mn.gov/governor/newsroom/press-releases/#/detail/appId/1/id/576675'"
      ]
     },
     "execution_count": 9,
     "metadata": {},
     "output_type": "execute_result"
    },
    {
     "data": {
      "text/plain": [
       "'success: content added from https://mn.gov/governor/newsroom/press-releases/#/detail/appId/1/id/576686'"
      ]
     },
     "execution_count": 9,
     "metadata": {},
     "output_type": "execute_result"
    },
    {
     "data": {
      "text/plain": [
       "'success: content added from https://mn.gov/governor/newsroom/press-releases/#/detail/appId/1/id/578586'"
      ]
     },
     "execution_count": 9,
     "metadata": {},
     "output_type": "execute_result"
    },
    {
     "data": {
      "text/plain": [
       "'success: content added from https://mn.gov/governor/newsroom/press-releases/#/detail/appId/1/id/576617'"
      ]
     },
     "execution_count": 9,
     "metadata": {},
     "output_type": "execute_result"
    },
    {
     "data": {
      "text/plain": [
       "'success: content added from https://mn.gov/governor/newsroom/press-releases/#/detail/appId/1/id/577225'"
      ]
     },
     "execution_count": 9,
     "metadata": {},
     "output_type": "execute_result"
    },
    {
     "data": {
      "text/plain": [
       "'success: content added from https://mn.gov/governor/newsroom/press-releases/#/detail/appId/1/id/576616'"
      ]
     },
     "execution_count": 9,
     "metadata": {},
     "output_type": "execute_result"
    }
   ],
   "source": [
    "# second chunk \n",
    "for i in combined.link[100:200]:\n",
    "     get_minnesota_content(i, combined) "
   ]
  },
  {
   "cell_type": "code",
   "execution_count": 12,
   "id": "67e7489c",
   "metadata": {},
   "outputs": [
    {
     "name": "stdout",
     "output_type": "stream",
     "text": [
      "<class 'pandas.core.frame.DataFrame'>\n",
      "RangeIndex: 310 entries, 0 to 309\n",
      "Data columns (total 4 columns):\n",
      " #   Column   Non-Null Count  Dtype \n",
      "---  ------   --------------  ----- \n",
      " 0   title    310 non-null    object\n",
      " 1   date     310 non-null    object\n",
      " 2   link     310 non-null    object\n",
      " 3   content  198 non-null    object\n",
      "dtypes: object(4)\n",
      "memory usage: 9.8+ KB\n"
     ]
    }
   ],
   "source": [
    "# safety save\n",
    "combined.to_csv('minnesota_100_200.csv', index = False)"
   ]
  },
  {
   "cell_type": "code",
   "execution_count": 13,
   "id": "e89abcfa",
   "metadata": {},
   "outputs": [
    {
     "data": {
      "text/html": [
       "<div>\n",
       "<style scoped>\n",
       "    .dataframe tbody tr th:only-of-type {\n",
       "        vertical-align: middle;\n",
       "    }\n",
       "\n",
       "    .dataframe tbody tr th {\n",
       "        vertical-align: top;\n",
       "    }\n",
       "\n",
       "    .dataframe thead th {\n",
       "        text-align: right;\n",
       "    }\n",
       "</style>\n",
       "<table border=\"1\" class=\"dataframe\">\n",
       "  <thead>\n",
       "    <tr style=\"text-align: right;\">\n",
       "      <th></th>\n",
       "      <th>title</th>\n",
       "      <th>date</th>\n",
       "      <th>link</th>\n",
       "      <th>content</th>\n",
       "    </tr>\n",
       "  </thead>\n",
       "  <tbody>\n",
       "    <tr>\n",
       "      <th>0</th>\n",
       "      <td>Governor Walz Announces New Preston Veterans H...</td>\n",
       "      <td>January 3, 2024</td>\n",
       "      <td>https://mn.gov/governor/newsroom/press-release...</td>\n",
       "      <td>[ST. PAUL, MN] – Governor Tim Walz announced t...</td>\n",
       "    </tr>\n",
       "    <tr>\n",
       "      <th>1</th>\n",
       "      <td>Governor Walz Announces Over $17 Million for T...</td>\n",
       "      <td>January 3, 2024</td>\n",
       "      <td>https://mn.gov/governor/newsroom/press-release...</td>\n",
       "      <td>[ST. PAUL, MN] – Governor Tim Walz and the Min...</td>\n",
       "    </tr>\n",
       "    <tr>\n",
       "      <th>2</th>\n",
       "      <td>Governor Walz, Lieutenant Governor Flanagan An...</td>\n",
       "      <td>January 3, 2024</td>\n",
       "      <td>https://mn.gov/governor/newsroom/press-release...</td>\n",
       "      <td>[ST. PAUL, MN] – Governor Tim Walz and Lieuten...</td>\n",
       "    </tr>\n",
       "    <tr>\n",
       "      <th>3</th>\n",
       "      <td>Governor Walz Announces $300 Million in Public...</td>\n",
       "      <td>December 21, 2023</td>\n",
       "      <td>https://mn.gov/governor/newsroom/press-release...</td>\n",
       "      <td>[ST. PAUL, MN] – Governor Tim Walz announced t...</td>\n",
       "    </tr>\n",
       "    <tr>\n",
       "      <th>4</th>\n",
       "      <td>Governor Walz Selects Brad Lindsay to Serve as...</td>\n",
       "      <td>December 20, 2023</td>\n",
       "      <td>https://mn.gov/governor/newsroom/press-release...</td>\n",
       "      <td>[ST. PAUL, MN] – Governor Tim Walz today annou...</td>\n",
       "    </tr>\n",
       "  </tbody>\n",
       "</table>\n",
       "</div>"
      ],
      "text/plain": [
       "                                               title               date  \\\n",
       "0  Governor Walz Announces New Preston Veterans H...    January 3, 2024   \n",
       "1  Governor Walz Announces Over $17 Million for T...    January 3, 2024   \n",
       "2  Governor Walz, Lieutenant Governor Flanagan An...    January 3, 2024   \n",
       "3  Governor Walz Announces $300 Million in Public...  December 21, 2023   \n",
       "4  Governor Walz Selects Brad Lindsay to Serve as...  December 20, 2023   \n",
       "\n",
       "                                                link  \\\n",
       "0  https://mn.gov/governor/newsroom/press-release...   \n",
       "1  https://mn.gov/governor/newsroom/press-release...   \n",
       "2  https://mn.gov/governor/newsroom/press-release...   \n",
       "3  https://mn.gov/governor/newsroom/press-release...   \n",
       "4  https://mn.gov/governor/newsroom/press-release...   \n",
       "\n",
       "                                             content  \n",
       "0  [ST. PAUL, MN] – Governor Tim Walz announced t...  \n",
       "1  [ST. PAUL, MN] – Governor Tim Walz and the Min...  \n",
       "2  [ST. PAUL, MN] – Governor Tim Walz and Lieuten...  \n",
       "3  [ST. PAUL, MN] – Governor Tim Walz announced t...  \n",
       "4  [ST. PAUL, MN] – Governor Tim Walz today annou...  "
      ]
     },
     "execution_count": 13,
     "metadata": {},
     "output_type": "execute_result"
    }
   ],
   "source": [
    "# combined = pd.read_csv('minnesota_100_200.csv')\n",
    "# combined.head()"
   ]
  },
  {
   "cell_type": "code",
   "execution_count": 15,
   "id": "e8f70825",
   "metadata": {},
   "outputs": [
    {
     "data": {
      "text/plain": [
       "'success: content added from https://mn.gov/governor/newsroom/press-releases/#/detail/appId/1/id/576638'"
      ]
     },
     "execution_count": 15,
     "metadata": {},
     "output_type": "execute_result"
    },
    {
     "data": {
      "text/plain": [
       "'success: content added from https://mn.gov/governor/newsroom/press-releases/#/detail/appId/1/id/577489'"
      ]
     },
     "execution_count": 15,
     "metadata": {},
     "output_type": "execute_result"
    },
    {
     "data": {
      "text/plain": [
       "'success: content added from https://mn.gov/governor/newsroom/press-releases/#/detail/appId/1/id/576642'"
      ]
     },
     "execution_count": 15,
     "metadata": {},
     "output_type": "execute_result"
    },
    {
     "data": {
      "text/plain": [
       "'success: content added from https://mn.gov/governor/newsroom/press-releases/#/detail/appId/1/id/575303'"
      ]
     },
     "execution_count": 15,
     "metadata": {},
     "output_type": "execute_result"
    },
    {
     "data": {
      "text/plain": [
       "'success: content added from https://mn.gov/governor/newsroom/press-releases/#/detail/appId/1/id/575270'"
      ]
     },
     "execution_count": 15,
     "metadata": {},
     "output_type": "execute_result"
    },
    {
     "data": {
      "text/plain": [
       "'success: content added from https://mn.gov/governor/newsroom/press-releases/#/detail/appId/1/id/575189'"
      ]
     },
     "execution_count": 15,
     "metadata": {},
     "output_type": "execute_result"
    },
    {
     "data": {
      "text/plain": [
       "'success: content added from https://mn.gov/governor/newsroom/press-releases/#/detail/appId/1/id/575185'"
      ]
     },
     "execution_count": 15,
     "metadata": {},
     "output_type": "execute_result"
    },
    {
     "data": {
      "text/plain": [
       "'success: content added from https://mn.gov/governor/newsroom/press-releases/#/detail/appId/1/id/575115'"
      ]
     },
     "execution_count": 15,
     "metadata": {},
     "output_type": "execute_result"
    },
    {
     "data": {
      "text/plain": [
       "'success: content added from https://mn.gov/governor/newsroom/press-releases/#/detail/appId/1/id/575125'"
      ]
     },
     "execution_count": 15,
     "metadata": {},
     "output_type": "execute_result"
    },
    {
     "data": {
      "text/plain": [
       "'success: content added from https://mn.gov/governor/newsroom/press-releases/#/detail/appId/1/id/575123'"
      ]
     },
     "execution_count": 15,
     "metadata": {},
     "output_type": "execute_result"
    },
    {
     "data": {
      "text/plain": [
       "'success: content added from https://mn.gov/governor/newsroom/press-releases/#/detail/appId/1/id/574367'"
      ]
     },
     "execution_count": 15,
     "metadata": {},
     "output_type": "execute_result"
    },
    {
     "data": {
      "text/plain": [
       "'success: content added from https://mn.gov/governor/newsroom/press-releases/#/detail/appId/1/id/574369'"
      ]
     },
     "execution_count": 15,
     "metadata": {},
     "output_type": "execute_result"
    },
    {
     "data": {
      "text/plain": [
       "'success: content added from https://mn.gov/governor/newsroom/press-releases/#/detail/appId/1/id/573986'"
      ]
     },
     "execution_count": 15,
     "metadata": {},
     "output_type": "execute_result"
    },
    {
     "data": {
      "text/plain": [
       "'success: content added from https://mn.gov/governor/newsroom/press-releases/#/detail/appId/1/id/574041'"
      ]
     },
     "execution_count": 15,
     "metadata": {},
     "output_type": "execute_result"
    },
    {
     "data": {
      "text/plain": [
       "'success: content added from https://mn.gov/governor/newsroom/press-releases/#/detail/appId/1/id/574046'"
      ]
     },
     "execution_count": 15,
     "metadata": {},
     "output_type": "execute_result"
    },
    {
     "data": {
      "text/plain": [
       "'success: content added from https://mn.gov/governor/newsroom/press-releases/#/detail/appId/1/id/573983'"
      ]
     },
     "execution_count": 15,
     "metadata": {},
     "output_type": "execute_result"
    },
    {
     "data": {
      "text/plain": [
       "'success: content added from https://mn.gov/governor/newsroom/press-releases/#/detail/appId/1/id/573779'"
      ]
     },
     "execution_count": 15,
     "metadata": {},
     "output_type": "execute_result"
    },
    {
     "data": {
      "text/plain": [
       "'success: content added from https://mn.gov/governor/newsroom/press-releases/#/detail/appId/1/id/573669'"
      ]
     },
     "execution_count": 15,
     "metadata": {},
     "output_type": "execute_result"
    },
    {
     "data": {
      "text/plain": [
       "'success: content added from https://mn.gov/governor/newsroom/press-releases/#/detail/appId/1/id/573670'"
      ]
     },
     "execution_count": 15,
     "metadata": {},
     "output_type": "execute_result"
    },
    {
     "data": {
      "text/plain": [
       "'success: content added from https://mn.gov/governor/newsroom/press-releases/#/detail/appId/1/id/573210'"
      ]
     },
     "execution_count": 15,
     "metadata": {},
     "output_type": "execute_result"
    },
    {
     "data": {
      "text/plain": [
       "'success: content added from https://mn.gov/governor/newsroom/press-releases/#/detail/appId/1/id/573494'"
      ]
     },
     "execution_count": 15,
     "metadata": {},
     "output_type": "execute_result"
    },
    {
     "data": {
      "text/plain": [
       "'success: content added from https://mn.gov/governor/newsroom/press-releases/#/detail/appId/1/id/573201'"
      ]
     },
     "execution_count": 15,
     "metadata": {},
     "output_type": "execute_result"
    },
    {
     "data": {
      "text/plain": [
       "'success: content added from https://mn.gov/governor/newsroom/press-releases/#/detail/appId/1/id/573084'"
      ]
     },
     "execution_count": 15,
     "metadata": {},
     "output_type": "execute_result"
    },
    {
     "data": {
      "text/plain": [
       "'success: content added from https://mn.gov/governor/newsroom/press-releases/#/detail/appId/1/id/572826'"
      ]
     },
     "execution_count": 15,
     "metadata": {},
     "output_type": "execute_result"
    },
    {
     "data": {
      "text/plain": [
       "'success: content added from https://mn.gov/governor/newsroom/press-releases/#/detail/appId/1/id/572824'"
      ]
     },
     "execution_count": 15,
     "metadata": {},
     "output_type": "execute_result"
    },
    {
     "data": {
      "text/plain": [
       "'success: content added from https://mn.gov/governor/newsroom/press-releases/#/detail/appId/1/id/570260'"
      ]
     },
     "execution_count": 15,
     "metadata": {},
     "output_type": "execute_result"
    },
    {
     "data": {
      "text/plain": [
       "'success: content added from https://mn.gov/governor/newsroom/press-releases/#/detail/appId/1/id/570081'"
      ]
     },
     "execution_count": 15,
     "metadata": {},
     "output_type": "execute_result"
    },
    {
     "data": {
      "text/plain": [
       "'success: content added from https://mn.gov/governor/newsroom/press-releases/#/detail/appId/1/id/572022'"
      ]
     },
     "execution_count": 15,
     "metadata": {},
     "output_type": "execute_result"
    },
    {
     "data": {
      "text/plain": [
       "'success: content added from https://mn.gov/governor/newsroom/press-releases/#/detail/appId/1/id/572012'"
      ]
     },
     "execution_count": 15,
     "metadata": {},
     "output_type": "execute_result"
    },
    {
     "data": {
      "text/plain": [
       "'success: content added from https://mn.gov/governor/newsroom/press-releases/#/detail/appId/1/id/572007'"
      ]
     },
     "execution_count": 15,
     "metadata": {},
     "output_type": "execute_result"
    },
    {
     "data": {
      "text/plain": [
       "'success: content added from https://mn.gov/governor/newsroom/press-releases/#/detail/appId/1/id/572042'"
      ]
     },
     "execution_count": 15,
     "metadata": {},
     "output_type": "execute_result"
    },
    {
     "data": {
      "text/plain": [
       "'success: content added from https://mn.gov/governor/newsroom/press-releases/#/detail/appId/1/id/572041'"
      ]
     },
     "execution_count": 15,
     "metadata": {},
     "output_type": "execute_result"
    },
    {
     "data": {
      "text/plain": [
       "'success: content added from https://mn.gov/governor/newsroom/press-releases/#/detail/appId/1/id/571965'"
      ]
     },
     "execution_count": 15,
     "metadata": {},
     "output_type": "execute_result"
    },
    {
     "data": {
      "text/plain": [
       "'success: content added from https://mn.gov/governor/newsroom/press-releases/#/detail/appId/1/id/571666'"
      ]
     },
     "execution_count": 15,
     "metadata": {},
     "output_type": "execute_result"
    },
    {
     "data": {
      "text/plain": [
       "'success: content added from https://mn.gov/governor/newsroom/press-releases/#/detail/appId/1/id/571649'"
      ]
     },
     "execution_count": 15,
     "metadata": {},
     "output_type": "execute_result"
    },
    {
     "data": {
      "text/plain": [
       "'success: content added from https://mn.gov/governor/newsroom/press-releases/#/detail/appId/1/id/571642'"
      ]
     },
     "execution_count": 15,
     "metadata": {},
     "output_type": "execute_result"
    },
    {
     "data": {
      "text/plain": [
       "'success: content added from https://mn.gov/governor/newsroom/press-releases/#/detail/appId/1/id/571979'"
      ]
     },
     "execution_count": 15,
     "metadata": {},
     "output_type": "execute_result"
    },
    {
     "data": {
      "text/plain": [
       "'success: content added from https://mn.gov/governor/newsroom/press-releases/#/detail/appId/1/id/571053'"
      ]
     },
     "execution_count": 15,
     "metadata": {},
     "output_type": "execute_result"
    },
    {
     "data": {
      "text/plain": [
       "'success: content added from https://mn.gov/governor/newsroom/press-releases/#/detail/appId/1/id/570926'"
      ]
     },
     "execution_count": 15,
     "metadata": {},
     "output_type": "execute_result"
    },
    {
     "data": {
      "text/plain": [
       "'success: content added from https://mn.gov/governor/newsroom/press-releases/#/detail/appId/1/id/570924'"
      ]
     },
     "execution_count": 15,
     "metadata": {},
     "output_type": "execute_result"
    },
    {
     "data": {
      "text/plain": [
       "'success: content added from https://mn.gov/governor/newsroom/press-releases/#/detail/appId/1/id/570911'"
      ]
     },
     "execution_count": 15,
     "metadata": {},
     "output_type": "execute_result"
    },
    {
     "data": {
      "text/plain": [
       "'success: content added from https://mn.gov/governor/newsroom/press-releases/#/detail/appId/1/id/570583'"
      ]
     },
     "execution_count": 15,
     "metadata": {},
     "output_type": "execute_result"
    },
    {
     "data": {
      "text/plain": [
       "'success: content added from https://mn.gov/governor/newsroom/press-releases/#/detail/appId/1/id/570249'"
      ]
     },
     "execution_count": 15,
     "metadata": {},
     "output_type": "execute_result"
    },
    {
     "data": {
      "text/plain": [
       "'success: content added from https://mn.gov/governor/newsroom/press-releases/#/detail/appId/1/id/570080'"
      ]
     },
     "execution_count": 15,
     "metadata": {},
     "output_type": "execute_result"
    },
    {
     "data": {
      "text/plain": [
       "'success: content added from https://mn.gov/governor/newsroom/press-releases/#/detail/appId/1/id/570082'"
      ]
     },
     "execution_count": 15,
     "metadata": {},
     "output_type": "execute_result"
    },
    {
     "data": {
      "text/plain": [
       "'success: content added from https://mn.gov/governor/newsroom/press-releases/#/detail/appId/1/id/569987'"
      ]
     },
     "execution_count": 15,
     "metadata": {},
     "output_type": "execute_result"
    },
    {
     "data": {
      "text/plain": [
       "'success: content added from https://mn.gov/governor/newsroom/press-releases/#/detail/appId/1/id/569962'"
      ]
     },
     "execution_count": 15,
     "metadata": {},
     "output_type": "execute_result"
    },
    {
     "data": {
      "text/plain": [
       "'success: content added from https://mn.gov/governor/newsroom/press-releases/#/detail/appId/1/id/569951'"
      ]
     },
     "execution_count": 15,
     "metadata": {},
     "output_type": "execute_result"
    },
    {
     "data": {
      "text/plain": [
       "'success: content added from https://mn.gov/governor/newsroom/press-releases/#/detail/appId/1/id/569108'"
      ]
     },
     "execution_count": 15,
     "metadata": {},
     "output_type": "execute_result"
    },
    {
     "data": {
      "text/plain": [
       "'success: content added from https://mn.gov/governor/newsroom/press-releases/#/detail/appId/1/id/569995'"
      ]
     },
     "execution_count": 15,
     "metadata": {},
     "output_type": "execute_result"
    }
   ],
   "source": [
    "# chunk 3 \n",
    "for i in combined.link[200:250]:\n",
    "     get_minnesota_content(i, combined) "
   ]
  },
  {
   "cell_type": "code",
   "execution_count": 16,
   "id": "8664e62a",
   "metadata": {},
   "outputs": [
    {
     "data": {
      "text/plain": [
       "'success: content added from https://mn.gov/governor/newsroom/press-releases/#/detail/appId/1/id/569998'"
      ]
     },
     "execution_count": 16,
     "metadata": {},
     "output_type": "execute_result"
    },
    {
     "data": {
      "text/plain": [
       "'success: content added from https://mn.gov/governor/newsroom/press-releases/#/detail/appId/1/id/568998'"
      ]
     },
     "execution_count": 16,
     "metadata": {},
     "output_type": "execute_result"
    },
    {
     "data": {
      "text/plain": [
       "'success: content added from https://mn.gov/governor/newsroom/press-releases/#/detail/appId/1/id/568986'"
      ]
     },
     "execution_count": 16,
     "metadata": {},
     "output_type": "execute_result"
    },
    {
     "data": {
      "text/plain": [
       "'success: content added from https://mn.gov/governor/newsroom/press-releases/#/detail/appId/1/id/568965'"
      ]
     },
     "execution_count": 16,
     "metadata": {},
     "output_type": "execute_result"
    },
    {
     "data": {
      "text/plain": [
       "'success: content added from https://mn.gov/governor/newsroom/press-releases/#/detail/appId/1/id/568209'"
      ]
     },
     "execution_count": 16,
     "metadata": {},
     "output_type": "execute_result"
    },
    {
     "data": {
      "text/plain": [
       "'success: content added from https://mn.gov/governor/newsroom/press-releases/#/detail/appId/1/id/567891'"
      ]
     },
     "execution_count": 16,
     "metadata": {},
     "output_type": "execute_result"
    },
    {
     "data": {
      "text/plain": [
       "'success: content added from https://mn.gov/governor/newsroom/press-releases/#/detail/appId/1/id/568961'"
      ]
     },
     "execution_count": 16,
     "metadata": {},
     "output_type": "execute_result"
    },
    {
     "data": {
      "text/plain": [
       "'success: content added from https://mn.gov/governor/newsroom/press-releases/#/detail/appId/1/id/567631'"
      ]
     },
     "execution_count": 16,
     "metadata": {},
     "output_type": "execute_result"
    },
    {
     "data": {
      "text/plain": [
       "'success: content added from https://mn.gov/governor/newsroom/press-releases/#/detail/appId/1/id/567763'"
      ]
     },
     "execution_count": 16,
     "metadata": {},
     "output_type": "execute_result"
    },
    {
     "data": {
      "text/plain": [
       "'success: content added from https://mn.gov/governor/newsroom/press-releases/#/detail/appId/1/id/567606'"
      ]
     },
     "execution_count": 16,
     "metadata": {},
     "output_type": "execute_result"
    },
    {
     "data": {
      "text/plain": [
       "'success: content added from https://mn.gov/governor/newsroom/press-releases/#/detail/appId/1/id/567624'"
      ]
     },
     "execution_count": 16,
     "metadata": {},
     "output_type": "execute_result"
    },
    {
     "data": {
      "text/plain": [
       "'success: content added from https://mn.gov/governor/newsroom/press-releases/#/detail/appId/1/id/566470'"
      ]
     },
     "execution_count": 16,
     "metadata": {},
     "output_type": "execute_result"
    },
    {
     "data": {
      "text/plain": [
       "'success: content added from https://mn.gov/governor/newsroom/press-releases/#/detail/appId/1/id/566469'"
      ]
     },
     "execution_count": 16,
     "metadata": {},
     "output_type": "execute_result"
    },
    {
     "data": {
      "text/plain": [
       "'success: content added from https://mn.gov/governor/newsroom/press-releases/#/detail/appId/1/id/566063'"
      ]
     },
     "execution_count": 16,
     "metadata": {},
     "output_type": "execute_result"
    },
    {
     "data": {
      "text/plain": [
       "'success: content added from https://mn.gov/governor/newsroom/press-releases/#/detail/appId/1/id/566466'"
      ]
     },
     "execution_count": 16,
     "metadata": {},
     "output_type": "execute_result"
    },
    {
     "data": {
      "text/plain": [
       "'success: content added from https://mn.gov/governor/newsroom/press-releases/#/detail/appId/1/id/565817'"
      ]
     },
     "execution_count": 16,
     "metadata": {},
     "output_type": "execute_result"
    },
    {
     "data": {
      "text/plain": [
       "'success: content added from https://mn.gov/governor/newsroom/press-releases/#/detail/appId/1/id/565700'"
      ]
     },
     "execution_count": 16,
     "metadata": {},
     "output_type": "execute_result"
    },
    {
     "data": {
      "text/plain": [
       "'success: content added from https://mn.gov/governor/newsroom/press-releases/#/detail/appId/1/id/565173'"
      ]
     },
     "execution_count": 16,
     "metadata": {},
     "output_type": "execute_result"
    },
    {
     "data": {
      "text/plain": [
       "'success: content added from https://mn.gov/governor/newsroom/press-releases/#/detail/appId/1/id/565410'"
      ]
     },
     "execution_count": 16,
     "metadata": {},
     "output_type": "execute_result"
    },
    {
     "data": {
      "text/plain": [
       "'success: content added from https://mn.gov/governor/newsroom/press-releases/#/detail/appId/1/id/541394'"
      ]
     },
     "execution_count": 16,
     "metadata": {},
     "output_type": "execute_result"
    },
    {
     "data": {
      "text/plain": [
       "'success: content added from https://mn.gov/governor/newsroom/press-releases/#/detail/appId/1/id/565327'"
      ]
     },
     "execution_count": 16,
     "metadata": {},
     "output_type": "execute_result"
    },
    {
     "data": {
      "text/plain": [
       "'success: content added from https://mn.gov/governor/newsroom/press-releases/#/detail/appId/1/id/564997'"
      ]
     },
     "execution_count": 16,
     "metadata": {},
     "output_type": "execute_result"
    },
    {
     "data": {
      "text/plain": [
       "'success: content added from https://mn.gov/governor/newsroom/press-releases/#/detail/appId/1/id/563453'"
      ]
     },
     "execution_count": 16,
     "metadata": {},
     "output_type": "execute_result"
    },
    {
     "data": {
      "text/plain": [
       "'success: content added from https://mn.gov/governor/newsroom/press-releases/#/detail/appId/1/id/563448'"
      ]
     },
     "execution_count": 16,
     "metadata": {},
     "output_type": "execute_result"
    },
    {
     "data": {
      "text/plain": [
       "'success: content added from https://mn.gov/governor/newsroom/press-releases/#/detail/appId/1/id/563445'"
      ]
     },
     "execution_count": 16,
     "metadata": {},
     "output_type": "execute_result"
    },
    {
     "data": {
      "text/plain": [
       "'success: content added from https://mn.gov/governor/newsroom/press-releases/#/detail/appId/1/id/563196'"
      ]
     },
     "execution_count": 16,
     "metadata": {},
     "output_type": "execute_result"
    },
    {
     "data": {
      "text/plain": [
       "'success: content added from https://mn.gov/governor/newsroom/press-releases/#/detail/appId/1/id/563187'"
      ]
     },
     "execution_count": 16,
     "metadata": {},
     "output_type": "execute_result"
    },
    {
     "data": {
      "text/plain": [
       "'success: content added from https://mn.gov/governor/newsroom/press-releases/#/detail/appId/1/id/565055'"
      ]
     },
     "execution_count": 16,
     "metadata": {},
     "output_type": "execute_result"
    },
    {
     "data": {
      "text/plain": [
       "'success: content added from https://mn.gov/governor/newsroom/press-releases/#/detail/appId/1/id/562954'"
      ]
     },
     "execution_count": 16,
     "metadata": {},
     "output_type": "execute_result"
    },
    {
     "data": {
      "text/plain": [
       "'success: content added from https://mn.gov/governor/newsroom/press-releases/#/detail/appId/1/id/562955'"
      ]
     },
     "execution_count": 16,
     "metadata": {},
     "output_type": "execute_result"
    },
    {
     "data": {
      "text/plain": [
       "'success: content added from https://mn.gov/governor/newsroom/press-releases/#/detail/appId/1/id/567627'"
      ]
     },
     "execution_count": 16,
     "metadata": {},
     "output_type": "execute_result"
    },
    {
     "data": {
      "text/plain": [
       "'success: content added from https://mn.gov/governor/newsroom/press-releases/#/detail/appId/1/id/562854'"
      ]
     },
     "execution_count": 16,
     "metadata": {},
     "output_type": "execute_result"
    },
    {
     "data": {
      "text/plain": [
       "'success: content added from https://mn.gov/governor/newsroom/press-releases/#/detail/appId/1/id/562847'"
      ]
     },
     "execution_count": 16,
     "metadata": {},
     "output_type": "execute_result"
    },
    {
     "data": {
      "text/plain": [
       "'success: content added from https://mn.gov/governor/newsroom/press-releases/#/detail/appId/1/id/562822'"
      ]
     },
     "execution_count": 16,
     "metadata": {},
     "output_type": "execute_result"
    },
    {
     "data": {
      "text/plain": [
       "'success: content added from https://mn.gov/governor/newsroom/press-releases/#/detail/appId/1/id/562799'"
      ]
     },
     "execution_count": 16,
     "metadata": {},
     "output_type": "execute_result"
    },
    {
     "data": {
      "text/plain": [
       "'success: content added from https://mn.gov/governor/newsroom/press-releases/#/detail/appId/1/id/562864'"
      ]
     },
     "execution_count": 16,
     "metadata": {},
     "output_type": "execute_result"
    },
    {
     "data": {
      "text/plain": [
       "'success: content added from https://mn.gov/governor/newsroom/press-releases/#/detail/appId/1/id/562506'"
      ]
     },
     "execution_count": 16,
     "metadata": {},
     "output_type": "execute_result"
    },
    {
     "data": {
      "text/plain": [
       "'success: content added from https://mn.gov/governor/newsroom/press-releases/#/detail/appId/1/id/562504'"
      ]
     },
     "execution_count": 16,
     "metadata": {},
     "output_type": "execute_result"
    },
    {
     "data": {
      "text/plain": [
       "'success: content added from https://mn.gov/governor/newsroom/press-releases/#/detail/appId/1/id/562476'"
      ]
     },
     "execution_count": 16,
     "metadata": {},
     "output_type": "execute_result"
    },
    {
     "data": {
      "text/plain": [
       "'success: content added from https://mn.gov/governor/newsroom/press-releases/#/detail/appId/1/id/561786'"
      ]
     },
     "execution_count": 16,
     "metadata": {},
     "output_type": "execute_result"
    },
    {
     "data": {
      "text/plain": [
       "'success: content added from https://mn.gov/governor/newsroom/press-releases/#/detail/appId/1/id/561860'"
      ]
     },
     "execution_count": 16,
     "metadata": {},
     "output_type": "execute_result"
    },
    {
     "data": {
      "text/plain": [
       "'success: content added from https://mn.gov/governor/newsroom/press-releases/#/detail/appId/1/id/561500'"
      ]
     },
     "execution_count": 16,
     "metadata": {},
     "output_type": "execute_result"
    },
    {
     "data": {
      "text/plain": [
       "'success: content added from https://mn.gov/governor/newsroom/press-releases/#/detail/appId/1/id/561484'"
      ]
     },
     "execution_count": 16,
     "metadata": {},
     "output_type": "execute_result"
    },
    {
     "data": {
      "text/plain": [
       "'success: content added from https://mn.gov/governor/newsroom/press-releases/#/detail/appId/1/id/560832'"
      ]
     },
     "execution_count": 16,
     "metadata": {},
     "output_type": "execute_result"
    },
    {
     "data": {
      "text/plain": [
       "'success: content added from https://mn.gov/governor/newsroom/press-releases/#/detail/appId/1/id/560959'"
      ]
     },
     "execution_count": 16,
     "metadata": {},
     "output_type": "execute_result"
    },
    {
     "data": {
      "text/plain": [
       "'success: content added from https://mn.gov/governor/newsroom/press-releases/#/detail/appId/1/id/560905'"
      ]
     },
     "execution_count": 16,
     "metadata": {},
     "output_type": "execute_result"
    },
    {
     "data": {
      "text/plain": [
       "'success: content added from https://mn.gov/governor/newsroom/press-releases/#/detail/appId/1/id/560964'"
      ]
     },
     "execution_count": 16,
     "metadata": {},
     "output_type": "execute_result"
    },
    {
     "data": {
      "text/plain": [
       "'success: content added from https://mn.gov/governor/newsroom/press-releases/#/detail/appId/1/id/560468'"
      ]
     },
     "execution_count": 16,
     "metadata": {},
     "output_type": "execute_result"
    },
    {
     "data": {
      "text/plain": [
       "'success: content added from https://mn.gov/governor/newsroom/press-releases/#/detail/appId/1/id/560144'"
      ]
     },
     "execution_count": 16,
     "metadata": {},
     "output_type": "execute_result"
    },
    {
     "data": {
      "text/plain": [
       "'success: content added from https://mn.gov/governor/newsroom/press-releases/#/detail/appId/1/id/560142'"
      ]
     },
     "execution_count": 16,
     "metadata": {},
     "output_type": "execute_result"
    },
    {
     "data": {
      "text/plain": [
       "'success: content added from https://mn.gov/governor/newsroom/press-releases/#/detail/appId/1/id/559978'"
      ]
     },
     "execution_count": 16,
     "metadata": {},
     "output_type": "execute_result"
    },
    {
     "data": {
      "text/plain": [
       "'success: content added from https://mn.gov/governor/newsroom/press-releases/#/detail/appId/1/id/559982'"
      ]
     },
     "execution_count": 16,
     "metadata": {},
     "output_type": "execute_result"
    },
    {
     "data": {
      "text/plain": [
       "'success: content added from https://mn.gov/governor/newsroom/press-releases/#/detail/appId/1/id/559354'"
      ]
     },
     "execution_count": 16,
     "metadata": {},
     "output_type": "execute_result"
    },
    {
     "data": {
      "text/plain": [
       "'success: content added from https://mn.gov/governor/newsroom/press-releases/#/detail/appId/1/id/559353'"
      ]
     },
     "execution_count": 16,
     "metadata": {},
     "output_type": "execute_result"
    },
    {
     "data": {
      "text/plain": [
       "'success: content added from https://mn.gov/governor/newsroom/press-releases/#/detail/appId/1/id/590818'"
      ]
     },
     "execution_count": 16,
     "metadata": {},
     "output_type": "execute_result"
    },
    {
     "data": {
      "text/plain": [
       "'success: content added from https://mn.gov/governor/newsroom/press-releases/#/detail/appId/1/id/559399'"
      ]
     },
     "execution_count": 16,
     "metadata": {},
     "output_type": "execute_result"
    },
    {
     "data": {
      "text/plain": [
       "'success: content added from https://mn.gov/governor/newsroom/press-releases/#/detail/appId/1/id/559351'"
      ]
     },
     "execution_count": 16,
     "metadata": {},
     "output_type": "execute_result"
    },
    {
     "data": {
      "text/plain": [
       "'success: content added from https://mn.gov/governor/newsroom/press-releases/#/detail/appId/1/id/557820'"
      ]
     },
     "execution_count": 16,
     "metadata": {},
     "output_type": "execute_result"
    },
    {
     "data": {
      "text/plain": [
       "'success: content added from https://mn.gov/governor/newsroom/press-releases/#/detail/appId/1/id/557499'"
      ]
     },
     "execution_count": 16,
     "metadata": {},
     "output_type": "execute_result"
    },
    {
     "data": {
      "text/plain": [
       "'success: content added from https://mn.gov/governor/newsroom/press-releases/#/detail/appId/1/id/556844'"
      ]
     },
     "execution_count": 16,
     "metadata": {},
     "output_type": "execute_result"
    }
   ],
   "source": [
    "# chunk 4\n",
    "for i in combined.link[250:]:\n",
    "     get_minnesota_content(i, combined) "
   ]
  },
  {
   "cell_type": "code",
   "execution_count": null,
   "id": "8f7edf9e",
   "metadata": {},
   "outputs": [],
   "source": [
    "combined.info()"
   ]
  },
  {
   "cell_type": "code",
   "execution_count": 23,
   "id": "4056bda1",
   "metadata": {},
   "outputs": [
    {
     "name": "stdout",
     "output_type": "stream",
     "text": [
      "<class 'pandas.core.frame.DataFrame'>\n",
      "RangeIndex: 310 entries, 0 to 309\n",
      "Data columns (total 4 columns):\n",
      " #   Column   Non-Null Count  Dtype \n",
      "---  ------   --------------  ----- \n",
      " 0   title    310 non-null    object\n",
      " 1   date     310 non-null    object\n",
      " 2   link     310 non-null    object\n",
      " 3   content  310 non-null    object\n",
      "dtypes: object(4)\n",
      "memory usage: 9.8+ KB\n"
     ]
    }
   ],
   "source": [
    "# safety save \n",
    "combined.to_csv('minnesota_full_pull.csv', index = False)"
   ]
  },
  {
   "cell_type": "markdown",
   "id": "9b8446f2",
   "metadata": {
    "heading_collapsed": true
   },
   "source": [
    "## Validate and Clean"
   ]
  },
  {
   "cell_type": "code",
   "execution_count": 22,
   "id": "06bca64d",
   "metadata": {
    "hidden": true
   },
   "outputs": [
    {
     "data": {
      "text/html": [
       "<div>\n",
       "<style scoped>\n",
       "    .dataframe tbody tr th:only-of-type {\n",
       "        vertical-align: middle;\n",
       "    }\n",
       "\n",
       "    .dataframe tbody tr th {\n",
       "        vertical-align: top;\n",
       "    }\n",
       "\n",
       "    .dataframe thead th {\n",
       "        text-align: right;\n",
       "    }\n",
       "</style>\n",
       "<table border=\"1\" class=\"dataframe\">\n",
       "  <thead>\n",
       "    <tr style=\"text-align: right;\">\n",
       "      <th></th>\n",
       "      <th>title</th>\n",
       "      <th>date</th>\n",
       "      <th>link</th>\n",
       "      <th>content</th>\n",
       "    </tr>\n",
       "  </thead>\n",
       "  <tbody>\n",
       "  </tbody>\n",
       "</table>\n",
       "</div>"
      ],
      "text/plain": [
       "Empty DataFrame\n",
       "Columns: [title, date, link, content]\n",
       "Index: []"
      ]
     },
     "execution_count": 22,
     "metadata": {},
     "output_type": "execute_result"
    }
   ],
   "source": [
    "#check that content was pulled accurately\n",
    "combined[combined.content.isna()]"
   ]
  },
  {
   "cell_type": "code",
   "execution_count": 19,
   "id": "0f742bd3",
   "metadata": {
    "hidden": true
   },
   "outputs": [
    {
     "data": {
      "text/plain": [
       "'success: content added from https://mn.gov/governor/newsroom/press-releases/#/detail/appId/1/id/583181'"
      ]
     },
     "execution_count": 19,
     "metadata": {},
     "output_type": "execute_result"
    }
   ],
   "source": [
    "# retry\n",
    "get_minnesota_content(combined.link[152], combined)"
   ]
  },
  {
   "cell_type": "code",
   "execution_count": 21,
   "id": "e227bf69",
   "metadata": {
    "hidden": true
   },
   "outputs": [
    {
     "data": {
      "text/plain": [
       "'success: content added from https://mn.gov/governor/newsroom/press-releases/#/detail/appId/1/id/578081'"
      ]
     },
     "execution_count": 21,
     "metadata": {},
     "output_type": "execute_result"
    }
   ],
   "source": [
    "# retry\n",
    "get_minnesota_content(combined.link[183], combined)"
   ]
  },
  {
   "cell_type": "code",
   "execution_count": 29,
   "id": "9d7b5bf0",
   "metadata": {
    "hidden": true
   },
   "outputs": [],
   "source": [
    "# reset \n",
    "combined.at[225, 'content'] = np.nan "
   ]
  },
  {
   "cell_type": "code",
   "execution_count": 32,
   "id": "e82c88be",
   "metadata": {
    "hidden": true
   },
   "outputs": [
    {
     "data": {
      "text/plain": [
       "'success: content added from https://mn.gov/governor/newsroom/press-releases/#/detail/appId/1/id/570260'"
      ]
     },
     "execution_count": 32,
     "metadata": {},
     "output_type": "execute_result"
    }
   ],
   "source": [
    "# retry\n",
    "get_minnesota_content(combined.link[225], combined)"
   ]
  },
  {
   "cell_type": "code",
   "execution_count": 8,
   "id": "5c987a15",
   "metadata": {
    "hidden": true
   },
   "outputs": [
    {
     "data": {
      "text/html": [
       "<div>\n",
       "<style scoped>\n",
       "    .dataframe tbody tr th:only-of-type {\n",
       "        vertical-align: middle;\n",
       "    }\n",
       "\n",
       "    .dataframe tbody tr th {\n",
       "        vertical-align: top;\n",
       "    }\n",
       "\n",
       "    .dataframe thead th {\n",
       "        text-align: right;\n",
       "    }\n",
       "</style>\n",
       "<table border=\"1\" class=\"dataframe\">\n",
       "  <thead>\n",
       "    <tr style=\"text-align: right;\">\n",
       "      <th></th>\n",
       "      <th>title</th>\n",
       "      <th>link</th>\n",
       "      <th>content</th>\n",
       "      <th>date_clean</th>\n",
       "    </tr>\n",
       "  </thead>\n",
       "  <tbody>\n",
       "    <tr>\n",
       "      <th>222</th>\n",
       "      <td>Governor Walz Signs Bill Providing Funding for...</td>\n",
       "      <td>https://mn.gov/governor/newsroom/press-release...</td>\n",
       "      <td>NaN</td>\n",
       "      <td>2023-04-05</td>\n",
       "    </tr>\n",
       "  </tbody>\n",
       "</table>\n",
       "</div>"
      ],
      "text/plain": [
       "                                                 title  \\\n",
       "222  Governor Walz Signs Bill Providing Funding for...   \n",
       "\n",
       "                                                  link content  date_clean  \n",
       "222  https://mn.gov/governor/newsroom/press-release...     NaN  2023-04-05  "
      ]
     },
     "execution_count": 8,
     "metadata": {},
     "output_type": "execute_result"
    }
   ],
   "source": [
    "combined[combined.content.isna()]"
   ]
  },
  {
   "cell_type": "code",
   "execution_count": 9,
   "id": "9809de09",
   "metadata": {
    "hidden": true
   },
   "outputs": [
    {
     "data": {
      "text/plain": [
       "'success: content added from https://mn.gov/governor/newsroom/press-releases/#/detail/appId/1/id/570260'"
      ]
     },
     "execution_count": 9,
     "metadata": {},
     "output_type": "execute_result"
    }
   ],
   "source": [
    "# retry\n",
    "get_minnesota_content(combined.link[222], combined)"
   ]
  },
  {
   "cell_type": "code",
   "execution_count": 10,
   "id": "6d8aae90",
   "metadata": {
    "hidden": true
   },
   "outputs": [
    {
     "data": {
      "text/plain": [
       "''"
      ]
     },
     "execution_count": 10,
     "metadata": {},
     "output_type": "execute_result"
    }
   ],
   "source": [
    "# retry \n",
    "combined.content.iloc[222] # didn't work so let's just manually do this one `"
   ]
  },
  {
   "cell_type": "code",
   "execution_count": 12,
   "id": "3c625907",
   "metadata": {
    "hidden": true
   },
   "outputs": [],
   "source": [
    "# didn't work so let's just manually do this one by copying from the webpage\n",
    "combined.content.iloc[222] = '[ST. PAUL, MN] – Governor Tim Walz today signed a bill into law providing deficiency funding for the Office of Administrative Hearings (OAH) to continue providing hearings for campaign and data practice matters. Chapter 23, Senate File 1816 provides $196,000 in fiscal year 2023 for the Office of Administrative Hearings. The funds will be used to maintain fair, timely, and impartial hearings in campaign and data practices matters. The purpose of these funds is to accommodate an increase in data practices and campaign cases received by the OAH.'"
   ]
  },
  {
   "cell_type": "code",
   "execution_count": 13,
   "id": "1c2aa5ea",
   "metadata": {
    "hidden": true
   },
   "outputs": [
    {
     "data": {
      "text/plain": [
       "'[ST. PAUL, MN] – Governor Tim Walz today signed a bill into law providing deficiency funding for the Office of Administrative Hearings (OAH) to continue providing hearings for campaign and data practice matters. Chapter 23, Senate File 1816 provides $196,000 in fiscal year 2023 for the Office of Administrative Hearings. The funds will be used to maintain fair, timely, and impartial hearings in campaign and data practices matters. The purpose of these funds is to accommodate an increase in data practices and campaign cases received by the OAH.'"
      ]
     },
     "execution_count": 13,
     "metadata": {},
     "output_type": "execute_result"
    }
   ],
   "source": [
    "combined.content.iloc[222]"
   ]
  },
  {
   "cell_type": "code",
   "execution_count": 14,
   "id": "dcea6850",
   "metadata": {
    "hidden": true
   },
   "outputs": [],
   "source": [
    "# subset to only 2023 dates\n",
    "combined['date_clean'] = pd.to_datetime(combined['date'])\n",
    "\n",
    "combined_2023 = combined[(combined['date_clean'] >= '2023-01-01')\n",
    "                     & (combined['date_clean'] <= '2023-12-31')].copy()\n",
    "\n",
    "combined_2023 = combined.drop(columns=['date']).copy()"
   ]
  },
  {
   "cell_type": "code",
   "execution_count": 15,
   "id": "0f3cb95d",
   "metadata": {
    "hidden": true
   },
   "outputs": [
    {
     "data": {
      "text/html": [
       "<div>\n",
       "<style scoped>\n",
       "    .dataframe tbody tr th:only-of-type {\n",
       "        vertical-align: middle;\n",
       "    }\n",
       "\n",
       "    .dataframe tbody tr th {\n",
       "        vertical-align: top;\n",
       "    }\n",
       "\n",
       "    .dataframe thead th {\n",
       "        text-align: right;\n",
       "    }\n",
       "</style>\n",
       "<table border=\"1\" class=\"dataframe\">\n",
       "  <thead>\n",
       "    <tr style=\"text-align: right;\">\n",
       "      <th></th>\n",
       "      <th>title</th>\n",
       "      <th>link</th>\n",
       "      <th>content</th>\n",
       "      <th>date_clean</th>\n",
       "    </tr>\n",
       "  </thead>\n",
       "  <tbody>\n",
       "    <tr>\n",
       "      <th>0</th>\n",
       "      <td>Governor Walz Announces $300 Million in Public...</td>\n",
       "      <td>https://mn.gov/governor/newsroom/press-release...</td>\n",
       "      <td>[ST. PAUL, MN] – Governor Tim Walz announced t...</td>\n",
       "      <td>2023-12-21</td>\n",
       "    </tr>\n",
       "    <tr>\n",
       "      <th>1</th>\n",
       "      <td>Governor Walz Selects Brad Lindsay to Serve as...</td>\n",
       "      <td>https://mn.gov/governor/newsroom/press-release...</td>\n",
       "      <td>[ST. PAUL, MN] – Governor Tim Walz today annou...</td>\n",
       "      <td>2023-12-20</td>\n",
       "    </tr>\n",
       "    <tr>\n",
       "      <th>2</th>\n",
       "      <td>Governor Walz Orders Flags at Half-Staff in Ho...</td>\n",
       "      <td>https://mn.gov/governor/newsroom/press-release...</td>\n",
       "      <td>[ST. PAUL, MN] – In accordance with a proclama...</td>\n",
       "      <td>2023-12-18</td>\n",
       "    </tr>\n",
       "    <tr>\n",
       "      <th>3</th>\n",
       "      <td>Governor’s Merit Selection Panel Recommends Co...</td>\n",
       "      <td>https://mn.gov/governor/newsroom/press-release...</td>\n",
       "      <td>[ST. PAUL, MN] – Earlier this year, Governor W...</td>\n",
       "      <td>2023-12-18</td>\n",
       "    </tr>\n",
       "    <tr>\n",
       "      <th>4</th>\n",
       "      <td>Governor Walz Appoints Krista Marks to Fill Fi...</td>\n",
       "      <td>https://mn.gov/governor/newsroom/press-release...</td>\n",
       "      <td>[ST. PAUL, MN] – Governor Tim Walz and Lieuten...</td>\n",
       "      <td>2023-12-15</td>\n",
       "    </tr>\n",
       "  </tbody>\n",
       "</table>\n",
       "</div>"
      ],
      "text/plain": [
       "                                               title  \\\n",
       "0  Governor Walz Announces $300 Million in Public...   \n",
       "1  Governor Walz Selects Brad Lindsay to Serve as...   \n",
       "2  Governor Walz Orders Flags at Half-Staff in Ho...   \n",
       "3  Governor’s Merit Selection Panel Recommends Co...   \n",
       "4  Governor Walz Appoints Krista Marks to Fill Fi...   \n",
       "\n",
       "                                                link  \\\n",
       "0  https://mn.gov/governor/newsroom/press-release...   \n",
       "1  https://mn.gov/governor/newsroom/press-release...   \n",
       "2  https://mn.gov/governor/newsroom/press-release...   \n",
       "3  https://mn.gov/governor/newsroom/press-release...   \n",
       "4  https://mn.gov/governor/newsroom/press-release...   \n",
       "\n",
       "                                             content  date_clean  \n",
       "0  [ST. PAUL, MN] – Governor Tim Walz announced t...  2023-12-21  \n",
       "1  [ST. PAUL, MN] – Governor Tim Walz today annou...  2023-12-20  \n",
       "2  [ST. PAUL, MN] – In accordance with a proclama...  2023-12-18  \n",
       "3  [ST. PAUL, MN] – Earlier this year, Governor W...  2023-12-18  \n",
       "4  [ST. PAUL, MN] – Governor Tim Walz and Lieuten...  2023-12-15  "
      ]
     },
     "execution_count": 15,
     "metadata": {},
     "output_type": "execute_result"
    },
    {
     "name": "stdout",
     "output_type": "stream",
     "text": [
      "<class 'pandas.core.frame.DataFrame'>\n",
      "Int64Index: 306 entries, 0 to 305\n",
      "Data columns (total 4 columns):\n",
      " #   Column      Non-Null Count  Dtype \n",
      "---  ------      --------------  ----- \n",
      " 0   title       306 non-null    object\n",
      " 1   link        306 non-null    object\n",
      " 2   content     306 non-null    object\n",
      " 3   date_clean  306 non-null    object\n",
      "dtypes: object(4)\n",
      "memory usage: 12.0+ KB\n"
     ]
    }
   ],
   "source": [
    "combined_2023.head()\n",
    "combined_2023.info()"
   ]
  },
  {
   "cell_type": "code",
   "execution_count": 16,
   "id": "e894624d",
   "metadata": {
    "hidden": true
   },
   "outputs": [
    {
     "name": "stdout",
     "output_type": "stream",
     "text": [
      "pulled 306 documents from minnesota for 2023\n"
     ]
    }
   ],
   "source": [
    "print(f\"pulled {str(len(combined_2023))} documents from {state} for 2023\")"
   ]
  },
  {
   "cell_type": "markdown",
   "id": "973d5160",
   "metadata": {},
   "source": [
    "## Export"
   ]
  },
  {
   "cell_type": "code",
   "execution_count": 17,
   "id": "d675fc44",
   "metadata": {},
   "outputs": [],
   "source": [
    "# export\n",
    "combined_2023.to_csv(f'{state}_2023.csv', index = False)"
   ]
  },
  {
   "cell_type": "code",
   "execution_count": 18,
   "id": "621c6b9b",
   "metadata": {},
   "outputs": [
    {
     "data": {
      "text/html": [
       "<div>\n",
       "<style scoped>\n",
       "    .dataframe tbody tr th:only-of-type {\n",
       "        vertical-align: middle;\n",
       "    }\n",
       "\n",
       "    .dataframe tbody tr th {\n",
       "        vertical-align: top;\n",
       "    }\n",
       "\n",
       "    .dataframe thead th {\n",
       "        text-align: right;\n",
       "    }\n",
       "</style>\n",
       "<table border=\"1\" class=\"dataframe\">\n",
       "  <thead>\n",
       "    <tr style=\"text-align: right;\">\n",
       "      <th></th>\n",
       "      <th>title</th>\n",
       "      <th>link</th>\n",
       "      <th>content</th>\n",
       "      <th>date_clean</th>\n",
       "    </tr>\n",
       "  </thead>\n",
       "  <tbody>\n",
       "    <tr>\n",
       "      <th>0</th>\n",
       "      <td>Governor Walz Announces $300 Million in Public...</td>\n",
       "      <td>https://mn.gov/governor/newsroom/press-release...</td>\n",
       "      <td>[ST. PAUL, MN] – Governor Tim Walz announced t...</td>\n",
       "      <td>2023-12-21</td>\n",
       "    </tr>\n",
       "    <tr>\n",
       "      <th>1</th>\n",
       "      <td>Governor Walz Selects Brad Lindsay to Serve as...</td>\n",
       "      <td>https://mn.gov/governor/newsroom/press-release...</td>\n",
       "      <td>[ST. PAUL, MN] – Governor Tim Walz today annou...</td>\n",
       "      <td>2023-12-20</td>\n",
       "    </tr>\n",
       "    <tr>\n",
       "      <th>2</th>\n",
       "      <td>Governor Walz Orders Flags at Half-Staff in Ho...</td>\n",
       "      <td>https://mn.gov/governor/newsroom/press-release...</td>\n",
       "      <td>[ST. PAUL, MN] – In accordance with a proclama...</td>\n",
       "      <td>2023-12-18</td>\n",
       "    </tr>\n",
       "    <tr>\n",
       "      <th>3</th>\n",
       "      <td>Governor’s Merit Selection Panel Recommends Co...</td>\n",
       "      <td>https://mn.gov/governor/newsroom/press-release...</td>\n",
       "      <td>[ST. PAUL, MN] – Earlier this year, Governor W...</td>\n",
       "      <td>2023-12-18</td>\n",
       "    </tr>\n",
       "    <tr>\n",
       "      <th>4</th>\n",
       "      <td>Governor Walz Appoints Krista Marks to Fill Fi...</td>\n",
       "      <td>https://mn.gov/governor/newsroom/press-release...</td>\n",
       "      <td>[ST. PAUL, MN] – Governor Tim Walz and Lieuten...</td>\n",
       "      <td>2023-12-15</td>\n",
       "    </tr>\n",
       "  </tbody>\n",
       "</table>\n",
       "</div>"
      ],
      "text/plain": [
       "                                               title  \\\n",
       "0  Governor Walz Announces $300 Million in Public...   \n",
       "1  Governor Walz Selects Brad Lindsay to Serve as...   \n",
       "2  Governor Walz Orders Flags at Half-Staff in Ho...   \n",
       "3  Governor’s Merit Selection Panel Recommends Co...   \n",
       "4  Governor Walz Appoints Krista Marks to Fill Fi...   \n",
       "\n",
       "                                                link  \\\n",
       "0  https://mn.gov/governor/newsroom/press-release...   \n",
       "1  https://mn.gov/governor/newsroom/press-release...   \n",
       "2  https://mn.gov/governor/newsroom/press-release...   \n",
       "3  https://mn.gov/governor/newsroom/press-release...   \n",
       "4  https://mn.gov/governor/newsroom/press-release...   \n",
       "\n",
       "                                             content  date_clean  \n",
       "0  [ST. PAUL, MN] – Governor Tim Walz announced t...  2023-12-21  \n",
       "1  [ST. PAUL, MN] – Governor Tim Walz today annou...  2023-12-20  \n",
       "2  [ST. PAUL, MN] – In accordance with a proclama...  2023-12-18  \n",
       "3  [ST. PAUL, MN] – Earlier this year, Governor W...  2023-12-18  \n",
       "4  [ST. PAUL, MN] – Governor Tim Walz and Lieuten...  2023-12-15  "
      ]
     },
     "execution_count": 18,
     "metadata": {},
     "output_type": "execute_result"
    }
   ],
   "source": [
    "test = pd.read_csv(f'{state}_2023.csv')\n",
    "test.head()"
   ]
  }
 ],
 "metadata": {
  "kernelspec": {
   "display_name": "Python 3 (ipykernel)",
   "language": "python",
   "name": "python3"
  },
  "language_info": {
   "codemirror_mode": {
    "name": "ipython",
    "version": 3
   },
   "file_extension": ".py",
   "mimetype": "text/x-python",
   "name": "python",
   "nbconvert_exporter": "python",
   "pygments_lexer": "ipython3",
   "version": "3.9.12"
  }
 },
 "nbformat": 4,
 "nbformat_minor": 5
}
