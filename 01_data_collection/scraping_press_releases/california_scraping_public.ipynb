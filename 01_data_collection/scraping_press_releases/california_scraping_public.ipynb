{
 "cells": [
  {
   "cell_type": "markdown",
   "id": "f00d02a5",
   "metadata": {},
   "source": [
    "# California Scraping "
   ]
  },
  {
   "cell_type": "code",
   "execution_count": 1,
   "id": "2d2ca3c3",
   "metadata": {},
   "outputs": [
    {
     "name": "stdout",
     "output_type": "stream",
     "text": [
      "Exception reporting mode: Minimal\n"
     ]
    }
   ],
   "source": [
    "# set up \n",
    "import pandas as pd \n",
    "import requests \n",
    "import bs4\n",
    "import numpy as np\n",
    "import time \n",
    "import re\n",
    "from tika import parser\n",
    "from selenium import webdriver\n",
    "from selenium.webdriver.common.by import By\n",
    "from selenium.webdriver.support.ui import WebDriverWait\n",
    "from selenium.webdriver.support import expected_conditions as EC\n",
    "from io import BytesIO\n",
    "from urllib.request import urlopen\n",
    "\n",
    "from IPython.core.interactiveshell import InteractiveShell \n",
    "InteractiveShell.ast_node_interactivity = \"all\"\n",
    "\n",
    "%xmode Minimal"
   ]
  },
  {
   "cell_type": "code",
   "execution_count": 1,
   "id": "4b8c25f3",
   "metadata": {},
   "outputs": [],
   "source": [
    "# # set headers\n",
    "# header_list = {'User-Agent': REDACTED,\n",
    "#               'Accept-Language': 'en-US,en;q=0.9'}"
   ]
  },
  {
   "cell_type": "code",
   "execution_count": null,
   "id": "150c1170",
   "metadata": {},
   "outputs": [],
   "source": [
    "# review of robots.txt - no restrictions"
   ]
  },
  {
   "cell_type": "markdown",
   "id": "a41b45ff",
   "metadata": {},
   "source": [
    "## Scrape Links\n",
    "`Selenium`"
   ]
  },
  {
   "cell_type": "markdown",
   "id": "977474e6",
   "metadata": {
    "heading_collapsed": true
   },
   "source": [
    "### Try for one link"
   ]
  },
  {
   "cell_type": "code",
   "execution_count": 8,
   "id": "54353e0d",
   "metadata": {
    "hidden": true
   },
   "outputs": [
    {
     "data": {
      "text/plain": [
       "<Response [403]>"
      ]
     },
     "execution_count": 8,
     "metadata": {},
     "output_type": "execute_result"
    }
   ],
   "source": [
    "# Access webpage\n",
    "link = 'https://www.gov.ca.gov/2023/12/'\n",
    "server_response = requests.get(link, header_list)\n",
    "server_response\n",
    "# response 403 \n",
    "# Beautiful Soup doesn't seem to work"
   ]
  },
  {
   "cell_type": "code",
   "execution_count": 11,
   "id": "e7afa6bb",
   "metadata": {
    "hidden": true
   },
   "outputs": [],
   "source": [
    "# try selenium \n",
    "driver = webdriver.Chrome()\n",
    "driver.get('https://www.gov.ca.gov/2023/12/')\n",
    "\n",
    "#wait = WebDriverWait(driver, 3)\n",
    "results = driver.find_elements(By.TAG_NAME, 'article')\n",
    "results_list = [{'title': i.find_element(By.TAG_NAME, 'a').text,\n",
    "                 'date': i.find_element(By.XPATH, \".//span[@class='published']\").text, \n",
    "                 'link': i.find_element(By.TAG_NAME, 'a').get_attribute('href')} for i in results]\n",
    "\n",
    "df = pd.DataFrame.from_dict(results_list)\n",
    "    \n",
    "driver.close()"
   ]
  },
  {
   "cell_type": "code",
   "execution_count": 13,
   "id": "6d6ac20a",
   "metadata": {
    "hidden": true
   },
   "outputs": [
    {
     "data": {
      "text/html": [
       "<div>\n",
       "<style scoped>\n",
       "    .dataframe tbody tr th:only-of-type {\n",
       "        vertical-align: middle;\n",
       "    }\n",
       "\n",
       "    .dataframe tbody tr th {\n",
       "        vertical-align: top;\n",
       "    }\n",
       "\n",
       "    .dataframe thead th {\n",
       "        text-align: right;\n",
       "    }\n",
       "</style>\n",
       "<table border=\"1\" class=\"dataframe\">\n",
       "  <thead>\n",
       "    <tr style=\"text-align: right;\">\n",
       "      <th></th>\n",
       "      <th>title</th>\n",
       "      <th>date</th>\n",
       "      <th>link</th>\n",
       "      <th>content</th>\n",
       "    </tr>\n",
       "  </thead>\n",
       "  <tbody>\n",
       "    <tr>\n",
       "      <th>0</th>\n",
       "      <td>Read more about New Laws Going Into Effect On ...</td>\n",
       "      <td>Dec 29, 2023</td>\n",
       "      <td>https://www.gov.ca.gov/2023/12/29/new-laws-goi...</td>\n",
       "      <td>NaN</td>\n",
       "    </tr>\n",
       "    <tr>\n",
       "      <th>1</th>\n",
       "      <td>Read more about California Expands Outdoor Acc...</td>\n",
       "      <td>Dec 28, 2023</td>\n",
       "      <td>https://www.gov.ca.gov/2023/12/28/california-e...</td>\n",
       "      <td>NaN</td>\n",
       "    </tr>\n",
       "    <tr>\n",
       "      <th>2</th>\n",
       "      <td>Read more about Here’s What California Accompl...</td>\n",
       "      <td>Dec 28, 2023</td>\n",
       "      <td>https://www.gov.ca.gov/2023/12/28/2023-recap/</td>\n",
       "      <td>NaN</td>\n",
       "    </tr>\n",
       "    <tr>\n",
       "      <th>3</th>\n",
       "      <td>Read more about Supporting Access to Healthy F...</td>\n",
       "      <td>Dec 22, 2023</td>\n",
       "      <td>https://www.gov.ca.gov/2023/12/22/supporting-a...</td>\n",
       "      <td>NaN</td>\n",
       "    </tr>\n",
       "    <tr>\n",
       "      <th>4</th>\n",
       "      <td>Read more about Making San Francisco Safer: St...</td>\n",
       "      <td>Dec 22, 2023</td>\n",
       "      <td>https://www.gov.ca.gov/2023/12/22/sf-operation...</td>\n",
       "      <td>NaN</td>\n",
       "    </tr>\n",
       "  </tbody>\n",
       "</table>\n",
       "</div>"
      ],
      "text/plain": [
       "                                               title          date  \\\n",
       "0  Read more about New Laws Going Into Effect On ...  Dec 29, 2023   \n",
       "1  Read more about California Expands Outdoor Acc...  Dec 28, 2023   \n",
       "2  Read more about Here’s What California Accompl...  Dec 28, 2023   \n",
       "3  Read more about Supporting Access to Healthy F...  Dec 22, 2023   \n",
       "4  Read more about Making San Francisco Safer: St...  Dec 22, 2023   \n",
       "\n",
       "                                                link  content  \n",
       "0  https://www.gov.ca.gov/2023/12/29/new-laws-goi...      NaN  \n",
       "1  https://www.gov.ca.gov/2023/12/28/california-e...      NaN  \n",
       "2      https://www.gov.ca.gov/2023/12/28/2023-recap/      NaN  \n",
       "3  https://www.gov.ca.gov/2023/12/22/supporting-a...      NaN  \n",
       "4  https://www.gov.ca.gov/2023/12/22/sf-operation...      NaN  "
      ]
     },
     "execution_count": 13,
     "metadata": {},
     "output_type": "execute_result"
    }
   ],
   "source": [
    "# add blank content column for later use\n",
    "df['content'] = np.nan\n",
    "df"
   ]
  },
  {
   "cell_type": "markdown",
   "id": "3653afd7",
   "metadata": {
    "heading_collapsed": true
   },
   "source": [
    "### Scrape all links"
   ]
  },
  {
   "cell_type": "code",
   "execution_count": 14,
   "id": "27dccd40",
   "metadata": {
    "hidden": true
   },
   "outputs": [],
   "source": [
    "# define webpage scraping \n",
    "def scrape_california_links(website):\n",
    "    driver = webdriver.Chrome()\n",
    "    driver.get(website)\n",
    "\n",
    "    #wait = WebDriverWait(driver, 3)\n",
    "    results = driver.find_elements(By.TAG_NAME, 'article')\n",
    "    results_list = [{'title': i.find_element(By.TAG_NAME, 'a').text,\n",
    "                 'date': i.find_element(By.XPATH, \".//span[@class='published']\").text, \n",
    "                 'link': i.find_element(By.TAG_NAME, 'a').get_attribute('href')} for i in results]\n",
    "\n",
    "    df = pd.DataFrame.from_dict(results_list)\n",
    "    df['content'] = np.nan\n",
    "    \n",
    "    driver.close()\n",
    "    \n",
    "    return df"
   ]
  },
  {
   "cell_type": "code",
   "execution_count": 15,
   "id": "cecea20e",
   "metadata": {
    "hidden": true
   },
   "outputs": [
    {
     "data": {
      "text/html": [
       "<div>\n",
       "<style scoped>\n",
       "    .dataframe tbody tr th:only-of-type {\n",
       "        vertical-align: middle;\n",
       "    }\n",
       "\n",
       "    .dataframe tbody tr th {\n",
       "        vertical-align: top;\n",
       "    }\n",
       "\n",
       "    .dataframe thead th {\n",
       "        text-align: right;\n",
       "    }\n",
       "</style>\n",
       "<table border=\"1\" class=\"dataframe\">\n",
       "  <thead>\n",
       "    <tr style=\"text-align: right;\">\n",
       "      <th></th>\n",
       "      <th>title</th>\n",
       "      <th>date</th>\n",
       "      <th>link</th>\n",
       "      <th>content</th>\n",
       "    </tr>\n",
       "  </thead>\n",
       "  <tbody>\n",
       "    <tr>\n",
       "      <th>0</th>\n",
       "      <td>Read more about California Launches Reproducti...</td>\n",
       "      <td>Nov 29, 2023</td>\n",
       "      <td>https://www.gov.ca.gov/2023/11/29/launches-rep...</td>\n",
       "      <td>NaN</td>\n",
       "    </tr>\n",
       "    <tr>\n",
       "      <th>1</th>\n",
       "      <td>Read more about New Report Highlights the Prom...</td>\n",
       "      <td>Nov 28, 2023</td>\n",
       "      <td>https://www.gov.ca.gov/2023/11/28/new-report-h...</td>\n",
       "      <td>NaN</td>\n",
       "    </tr>\n",
       "    <tr>\n",
       "      <th>2</th>\n",
       "      <td>Read more about Governor Newsom Appoints New B...</td>\n",
       "      <td>Nov 28, 2023</td>\n",
       "      <td>https://www.gov.ca.gov/2023/11/28/governor-new...</td>\n",
       "      <td>NaN</td>\n",
       "    </tr>\n",
       "    <tr>\n",
       "      <th>3</th>\n",
       "      <td>Read more about Governor Newsom Announces New ...</td>\n",
       "      <td>Nov 28, 2023</td>\n",
       "      <td>https://www.gov.ca.gov/2023/11/28/governor-new...</td>\n",
       "      <td>NaN</td>\n",
       "    </tr>\n",
       "    <tr>\n",
       "      <th>4</th>\n",
       "      <td>Read more about California Has Removed 5,679 E...</td>\n",
       "      <td>Nov 27, 2023</td>\n",
       "      <td>https://www.gov.ca.gov/2023/11/27/california-h...</td>\n",
       "      <td>NaN</td>\n",
       "    </tr>\n",
       "  </tbody>\n",
       "</table>\n",
       "</div>"
      ],
      "text/plain": [
       "                                               title          date  \\\n",
       "0  Read more about California Launches Reproducti...  Nov 29, 2023   \n",
       "1  Read more about New Report Highlights the Prom...  Nov 28, 2023   \n",
       "2  Read more about Governor Newsom Appoints New B...  Nov 28, 2023   \n",
       "3  Read more about Governor Newsom Announces New ...  Nov 28, 2023   \n",
       "4  Read more about California Has Removed 5,679 E...  Nov 27, 2023   \n",
       "\n",
       "                                                link  content  \n",
       "0  https://www.gov.ca.gov/2023/11/29/launches-rep...      NaN  \n",
       "1  https://www.gov.ca.gov/2023/11/28/new-report-h...      NaN  \n",
       "2  https://www.gov.ca.gov/2023/11/28/governor-new...      NaN  \n",
       "3  https://www.gov.ca.gov/2023/11/28/governor-new...      NaN  \n",
       "4  https://www.gov.ca.gov/2023/11/27/california-h...      NaN  "
      ]
     },
     "execution_count": 15,
     "metadata": {},
     "output_type": "execute_result"
    }
   ],
   "source": [
    "scrape_california_links('https://www.gov.ca.gov/2023/11/')"
   ]
  },
  {
   "cell_type": "code",
   "execution_count": 17,
   "id": "a7749d45",
   "metadata": {
    "hidden": true
   },
   "outputs": [
    {
     "name": "stdout",
     "output_type": "stream",
     "text": [
      "Error: Message: no such element: Unable to locate element: {\"method\":\"xpath\",\"selector\":\".//span[@class='published']\"}\n",
      "  (Session info: chrome=121.0.6167.160); For documentation on this error, please visit: https://www.selenium.dev/documentation/webdriver/troubleshooting/errors#no-such-element-exception\n",
      "Stacktrace:\n",
      "0   chromedriver                        0x0000000104f267dc chromedriver + 4040668\n",
      "1   chromedriver                        0x0000000104f1e9e0 chromedriver + 4008416\n",
      "2   chromedriver                        0x0000000104b91870 chromedriver + 284784\n",
      "3   chromedriver                        0x0000000104bd5080 chromedriver + 561280\n",
      "4   chromedriver                        0x0000000104bcaee8 chromedriver + 519912\n",
      "5   chromedriver                        0x0000000104c0f048 chromedriver + 798792\n",
      "6   chromedriver                        0x0000000104bc974c chromedriver + 513868\n",
      "7   chromedriver                        0x0000000104bca044 chromedriver + 516164\n",
      "8   chromedriver                        0x0000000104eeba04 chromedriver + 3799556\n",
      "9   chromedriver                        0x0000000104eefee4 chromedriver + 3817188\n",
      "10  chromedriver                        0x0000000104ed4260 chromedriver + 3703392\n",
      "11  chromedriver                        0x0000000104ef0a2c chromedriver + 3820076\n",
      "12  chromedriver                        0x0000000104ec701c chromedriver + 3649564\n",
      "13  chromedriver                        0x0000000104f0de3c chromedriver + 3939900\n",
      "14  chromedriver                        0x0000000104f0dfb4 chromedriver + 3940276\n",
      "15  chromedriver                        0x0000000104f1e660 chromedriver + 4007520\n",
      "16  libsystem_pthread.dylib             0x0000000181c7e034 _pthread_start + 136\n",
      "17  libsystem_pthread.dylib             0x0000000181c78e3c thread_start + 8\n",
      " at page 1, x=11\n",
      "Error: Message: no such element: Unable to locate element: {\"method\":\"xpath\",\"selector\":\".//span[@class='published']\"}\n",
      "  (Session info: chrome=121.0.6167.160); For documentation on this error, please visit: https://www.selenium.dev/documentation/webdriver/troubleshooting/errors#no-such-element-exception\n",
      "Stacktrace:\n",
      "0   chromedriver                        0x0000000104b6a7dc chromedriver + 4040668\n",
      "1   chromedriver                        0x0000000104b629e0 chromedriver + 4008416\n",
      "2   chromedriver                        0x00000001047d5870 chromedriver + 284784\n",
      "3   chromedriver                        0x0000000104819080 chromedriver + 561280\n",
      "4   chromedriver                        0x000000010480eee8 chromedriver + 519912\n",
      "5   chromedriver                        0x0000000104853048 chromedriver + 798792\n",
      "6   chromedriver                        0x000000010480d74c chromedriver + 513868\n",
      "7   chromedriver                        0x000000010480e044 chromedriver + 516164\n",
      "8   chromedriver                        0x0000000104b2fa04 chromedriver + 3799556\n",
      "9   chromedriver                        0x0000000104b33ee4 chromedriver + 3817188\n",
      "10  chromedriver                        0x0000000104b18260 chromedriver + 3703392\n",
      "11  chromedriver                        0x0000000104b34a2c chromedriver + 3820076\n",
      "12  chromedriver                        0x0000000104b0b01c chromedriver + 3649564\n",
      "13  chromedriver                        0x0000000104b51e3c chromedriver + 3939900\n",
      "14  chromedriver                        0x0000000104b51fb4 chromedriver + 3940276\n",
      "15  chromedriver                        0x0000000104b62660 chromedriver + 4007520\n",
      "16  libsystem_pthread.dylib             0x0000000181c7e034 _pthread_start + 136\n",
      "17  libsystem_pthread.dylib             0x0000000181c78e3c thread_start + 8\n",
      " at page 2, x=11\n",
      "Error: Message: no such element: Unable to locate element: {\"method\":\"xpath\",\"selector\":\".//span[@class='published']\"}\n",
      "  (Session info: chrome=121.0.6167.160); For documentation on this error, please visit: https://www.selenium.dev/documentation/webdriver/troubleshooting/errors#no-such-element-exception\n",
      "Stacktrace:\n",
      "0   chromedriver                        0x0000000104ca27dc chromedriver + 4040668\n",
      "1   chromedriver                        0x0000000104c9a9e0 chromedriver + 4008416\n",
      "2   chromedriver                        0x000000010490d870 chromedriver + 284784\n",
      "3   chromedriver                        0x0000000104951080 chromedriver + 561280\n",
      "4   chromedriver                        0x0000000104946ee8 chromedriver + 519912\n",
      "5   chromedriver                        0x000000010498b048 chromedriver + 798792\n",
      "6   chromedriver                        0x000000010494574c chromedriver + 513868\n",
      "7   chromedriver                        0x0000000104946044 chromedriver + 516164\n",
      "8   chromedriver                        0x0000000104c67a04 chromedriver + 3799556\n",
      "9   chromedriver                        0x0000000104c6bee4 chromedriver + 3817188\n",
      "10  chromedriver                        0x0000000104c50260 chromedriver + 3703392\n",
      "11  chromedriver                        0x0000000104c6ca2c chromedriver + 3820076\n",
      "12  chromedriver                        0x0000000104c4301c chromedriver + 3649564\n",
      "13  chromedriver                        0x0000000104c89e3c chromedriver + 3939900\n",
      "14  chromedriver                        0x0000000104c89fb4 chromedriver + 3940276\n",
      "15  chromedriver                        0x0000000104c9a660 chromedriver + 4007520\n",
      "16  libsystem_pthread.dylib             0x0000000181c7e034 _pthread_start + 136\n",
      "17  libsystem_pthread.dylib             0x0000000181c78e3c thread_start + 8\n",
      " at page 3, x=15\n",
      "Error: Message: no such element: Unable to locate element: {\"method\":\"xpath\",\"selector\":\".//span[@class='published']\"}\n",
      "  (Session info: chrome=121.0.6167.160); For documentation on this error, please visit: https://www.selenium.dev/documentation/webdriver/troubleshooting/errors#no-such-element-exception\n",
      "Stacktrace:\n",
      "0   chromedriver                        0x000000010062e7dc chromedriver + 4040668\n",
      "1   chromedriver                        0x00000001006269e0 chromedriver + 4008416\n",
      "2   chromedriver                        0x0000000100299870 chromedriver + 284784\n",
      "3   chromedriver                        0x00000001002dd080 chromedriver + 561280\n",
      "4   chromedriver                        0x00000001002d2ee8 chromedriver + 519912\n",
      "5   chromedriver                        0x0000000100317048 chromedriver + 798792\n",
      "6   chromedriver                        0x00000001002d174c chromedriver + 513868\n",
      "7   chromedriver                        0x00000001002d2044 chromedriver + 516164\n",
      "8   chromedriver                        0x00000001005f3a04 chromedriver + 3799556\n",
      "9   chromedriver                        0x00000001005f7ee4 chromedriver + 3817188\n",
      "10  chromedriver                        0x00000001005dc260 chromedriver + 3703392\n",
      "11  chromedriver                        0x00000001005f8a2c chromedriver + 3820076\n",
      "12  chromedriver                        0x00000001005cf01c chromedriver + 3649564\n",
      "13  chromedriver                        0x0000000100615e3c chromedriver + 3939900\n",
      "14  chromedriver                        0x0000000100615fb4 chromedriver + 3940276\n",
      "15  chromedriver                        0x0000000100626660 chromedriver + 4007520\n",
      "16  libsystem_pthread.dylib             0x0000000181c7e034 _pthread_start + 136\n",
      "17  libsystem_pthread.dylib             0x0000000181c78e3c thread_start + 8\n",
      " at page 4, x=10\n",
      "Error: Message: no such element: Unable to locate element: {\"method\":\"xpath\",\"selector\":\".//span[@class='published']\"}\n",
      "  (Session info: chrome=121.0.6167.160); For documentation on this error, please visit: https://www.selenium.dev/documentation/webdriver/troubleshooting/errors#no-such-element-exception\n",
      "Stacktrace:\n",
      "0   chromedriver                        0x0000000100f127dc chromedriver + 4040668\n",
      "1   chromedriver                        0x0000000100f0a9e0 chromedriver + 4008416\n",
      "2   chromedriver                        0x0000000100b7d870 chromedriver + 284784\n",
      "3   chromedriver                        0x0000000100bc1080 chromedriver + 561280\n",
      "4   chromedriver                        0x0000000100bb6ee8 chromedriver + 519912\n",
      "5   chromedriver                        0x0000000100bfb048 chromedriver + 798792\n",
      "6   chromedriver                        0x0000000100bb574c chromedriver + 513868\n",
      "7   chromedriver                        0x0000000100bb6044 chromedriver + 516164\n",
      "8   chromedriver                        0x0000000100ed7a04 chromedriver + 3799556\n",
      "9   chromedriver                        0x0000000100edbee4 chromedriver + 3817188\n",
      "10  chromedriver                        0x0000000100ec0260 chromedriver + 3703392\n",
      "11  chromedriver                        0x0000000100edca2c chromedriver + 3820076\n",
      "12  chromedriver                        0x0000000100eb301c chromedriver + 3649564\n",
      "13  chromedriver                        0x0000000100ef9e3c chromedriver + 3939900\n",
      "14  chromedriver                        0x0000000100ef9fb4 chromedriver + 3940276\n",
      "15  chromedriver                        0x0000000100f0a660 chromedriver + 4007520\n",
      "16  libsystem_pthread.dylib             0x0000000181c7e034 _pthread_start + 136\n",
      "17  libsystem_pthread.dylib             0x0000000181c78e3c thread_start + 8\n",
      " at page 5, x=12\n"
     ]
    },
    {
     "name": "stdout",
     "output_type": "stream",
     "text": [
      "Error: Message: no such element: Unable to locate element: {\"method\":\"xpath\",\"selector\":\".//span[@class='published']\"}\n",
      "  (Session info: chrome=121.0.6167.160); For documentation on this error, please visit: https://www.selenium.dev/documentation/webdriver/troubleshooting/errors#no-such-element-exception\n",
      "Stacktrace:\n",
      "0   chromedriver                        0x0000000100c3e7dc chromedriver + 4040668\n",
      "1   chromedriver                        0x0000000100c369e0 chromedriver + 4008416\n",
      "2   chromedriver                        0x00000001008a9870 chromedriver + 284784\n",
      "3   chromedriver                        0x00000001008ed080 chromedriver + 561280\n",
      "4   chromedriver                        0x00000001008e2ee8 chromedriver + 519912\n",
      "5   chromedriver                        0x0000000100927048 chromedriver + 798792\n",
      "6   chromedriver                        0x00000001008e174c chromedriver + 513868\n",
      "7   chromedriver                        0x00000001008e2044 chromedriver + 516164\n",
      "8   chromedriver                        0x0000000100c03a04 chromedriver + 3799556\n",
      "9   chromedriver                        0x0000000100c07ee4 chromedriver + 3817188\n",
      "10  chromedriver                        0x0000000100bec260 chromedriver + 3703392\n",
      "11  chromedriver                        0x0000000100c08a2c chromedriver + 3820076\n",
      "12  chromedriver                        0x0000000100bdf01c chromedriver + 3649564\n",
      "13  chromedriver                        0x0000000100c25e3c chromedriver + 3939900\n",
      "14  chromedriver                        0x0000000100c25fb4 chromedriver + 3940276\n",
      "15  chromedriver                        0x0000000100c36660 chromedriver + 4007520\n",
      "16  libsystem_pthread.dylib             0x0000000181c7e034 _pthread_start + 136\n",
      "17  libsystem_pthread.dylib             0x0000000181c78e3c thread_start + 8\n",
      " at page 6, x=12\n",
      "Error: Message: no such element: Unable to locate element: {\"method\":\"xpath\",\"selector\":\".//span[@class='published']\"}\n",
      "  (Session info: chrome=121.0.6167.160); For documentation on this error, please visit: https://www.selenium.dev/documentation/webdriver/troubleshooting/errors#no-such-element-exception\n",
      "Stacktrace:\n",
      "0   chromedriver                        0x0000000104f4a7dc chromedriver + 4040668\n",
      "1   chromedriver                        0x0000000104f429e0 chromedriver + 4008416\n",
      "2   chromedriver                        0x0000000104bb5870 chromedriver + 284784\n",
      "3   chromedriver                        0x0000000104bf9080 chromedriver + 561280\n",
      "4   chromedriver                        0x0000000104beeee8 chromedriver + 519912\n",
      "5   chromedriver                        0x0000000104c33048 chromedriver + 798792\n",
      "6   chromedriver                        0x0000000104bed74c chromedriver + 513868\n",
      "7   chromedriver                        0x0000000104bee044 chromedriver + 516164\n",
      "8   chromedriver                        0x0000000104f0fa04 chromedriver + 3799556\n",
      "9   chromedriver                        0x0000000104f13ee4 chromedriver + 3817188\n",
      "10  chromedriver                        0x0000000104ef8260 chromedriver + 3703392\n",
      "11  chromedriver                        0x0000000104f14a2c chromedriver + 3820076\n",
      "12  chromedriver                        0x0000000104eeb01c chromedriver + 3649564\n",
      "13  chromedriver                        0x0000000104f31e3c chromedriver + 3939900\n",
      "14  chromedriver                        0x0000000104f31fb4 chromedriver + 3940276\n",
      "15  chromedriver                        0x0000000104f42660 chromedriver + 4007520\n",
      "16  libsystem_pthread.dylib             0x0000000181c7e034 _pthread_start + 136\n",
      "17  libsystem_pthread.dylib             0x0000000181c78e3c thread_start + 8\n",
      " at page 7, x=9\n",
      "Error: Message: no such element: Unable to locate element: {\"method\":\"xpath\",\"selector\":\".//span[@class='published']\"}\n",
      "  (Session info: chrome=121.0.6167.160); For documentation on this error, please visit: https://www.selenium.dev/documentation/webdriver/troubleshooting/errors#no-such-element-exception\n",
      "Stacktrace:\n",
      "0   chromedriver                        0x000000010520a7dc chromedriver + 4040668\n",
      "1   chromedriver                        0x00000001052029e0 chromedriver + 4008416\n",
      "2   chromedriver                        0x0000000104e75870 chromedriver + 284784\n",
      "3   chromedriver                        0x0000000104eb9080 chromedriver + 561280\n",
      "4   chromedriver                        0x0000000104eaeee8 chromedriver + 519912\n",
      "5   chromedriver                        0x0000000104ef3048 chromedriver + 798792\n",
      "6   chromedriver                        0x0000000104ead74c chromedriver + 513868\n",
      "7   chromedriver                        0x0000000104eae044 chromedriver + 516164\n",
      "8   chromedriver                        0x00000001051cfa04 chromedriver + 3799556\n",
      "9   chromedriver                        0x00000001051d3ee4 chromedriver + 3817188\n",
      "10  chromedriver                        0x00000001051b8260 chromedriver + 3703392\n",
      "11  chromedriver                        0x00000001051d4a2c chromedriver + 3820076\n",
      "12  chromedriver                        0x00000001051ab01c chromedriver + 3649564\n",
      "13  chromedriver                        0x00000001051f1e3c chromedriver + 3939900\n",
      "14  chromedriver                        0x00000001051f1fb4 chromedriver + 3940276\n",
      "15  chromedriver                        0x0000000105202660 chromedriver + 4007520\n",
      "16  libsystem_pthread.dylib             0x0000000181c7e034 _pthread_start + 136\n",
      "17  libsystem_pthread.dylib             0x0000000181c78e3c thread_start + 8\n",
      " at page 8, x=12\n",
      "Error: Message: no such element: Unable to locate element: {\"method\":\"xpath\",\"selector\":\".//span[@class='published']\"}\n",
      "  (Session info: chrome=121.0.6167.160); For documentation on this error, please visit: https://www.selenium.dev/documentation/webdriver/troubleshooting/errors#no-such-element-exception\n",
      "Stacktrace:\n",
      "0   chromedriver                        0x0000000100fa67dc chromedriver + 4040668\n",
      "1   chromedriver                        0x0000000100f9e9e0 chromedriver + 4008416\n",
      "2   chromedriver                        0x0000000100c11870 chromedriver + 284784\n",
      "3   chromedriver                        0x0000000100c55080 chromedriver + 561280\n",
      "4   chromedriver                        0x0000000100c4aee8 chromedriver + 519912\n",
      "5   chromedriver                        0x0000000100c8f048 chromedriver + 798792\n",
      "6   chromedriver                        0x0000000100c4974c chromedriver + 513868\n",
      "7   chromedriver                        0x0000000100c4a044 chromedriver + 516164\n",
      "8   chromedriver                        0x0000000100f6ba04 chromedriver + 3799556\n",
      "9   chromedriver                        0x0000000100f6fee4 chromedriver + 3817188\n",
      "10  chromedriver                        0x0000000100f54260 chromedriver + 3703392\n",
      "11  chromedriver                        0x0000000100f70a2c chromedriver + 3820076\n",
      "12  chromedriver                        0x0000000100f4701c chromedriver + 3649564\n",
      "13  chromedriver                        0x0000000100f8de3c chromedriver + 3939900\n",
      "14  chromedriver                        0x0000000100f8dfb4 chromedriver + 3940276\n",
      "15  chromedriver                        0x0000000100f9e660 chromedriver + 4007520\n",
      "16  libsystem_pthread.dylib             0x0000000181c7e034 _pthread_start + 136\n",
      "17  libsystem_pthread.dylib             0x0000000181c78e3c thread_start + 8\n",
      " at page 9, x=15\n",
      "Error: Message: no such element: Unable to locate element: {\"method\":\"xpath\",\"selector\":\".//span[@class='published']\"}\n",
      "  (Session info: chrome=121.0.6167.160); For documentation on this error, please visit: https://www.selenium.dev/documentation/webdriver/troubleshooting/errors#no-such-element-exception\n",
      "Stacktrace:\n",
      "0   chromedriver                        0x0000000102a2e7dc chromedriver + 4040668\n",
      "1   chromedriver                        0x0000000102a269e0 chromedriver + 4008416\n",
      "2   chromedriver                        0x0000000102699870 chromedriver + 284784\n",
      "3   chromedriver                        0x00000001026dd080 chromedriver + 561280\n",
      "4   chromedriver                        0x00000001026d2ee8 chromedriver + 519912\n",
      "5   chromedriver                        0x0000000102717048 chromedriver + 798792\n",
      "6   chromedriver                        0x00000001026d174c chromedriver + 513868\n",
      "7   chromedriver                        0x00000001026d2044 chromedriver + 516164\n",
      "8   chromedriver                        0x00000001029f3a04 chromedriver + 3799556\n",
      "9   chromedriver                        0x00000001029f7ee4 chromedriver + 3817188\n",
      "10  chromedriver                        0x00000001029dc260 chromedriver + 3703392\n",
      "11  chromedriver                        0x00000001029f8a2c chromedriver + 3820076\n",
      "12  chromedriver                        0x00000001029cf01c chromedriver + 3649564\n",
      "13  chromedriver                        0x0000000102a15e3c chromedriver + 3939900\n",
      "14  chromedriver                        0x0000000102a15fb4 chromedriver + 3940276\n",
      "15  chromedriver                        0x0000000102a26660 chromedriver + 4007520\n",
      "16  libsystem_pthread.dylib             0x0000000181c7e034 _pthread_start + 136\n",
      "17  libsystem_pthread.dylib             0x0000000181c78e3c thread_start + 8\n",
      " at page 10, x=13\n"
     ]
    },
    {
     "name": "stdout",
     "output_type": "stream",
     "text": [
      "Error: Message: no such element: Unable to locate element: {\"method\":\"xpath\",\"selector\":\".//span[@class='published']\"}\n",
      "  (Session info: chrome=121.0.6167.160); For documentation on this error, please visit: https://www.selenium.dev/documentation/webdriver/troubleshooting/errors#no-such-element-exception\n",
      "Stacktrace:\n",
      "0   chromedriver                        0x000000010261e7dc chromedriver + 4040668\n",
      "1   chromedriver                        0x00000001026169e0 chromedriver + 4008416\n",
      "2   chromedriver                        0x0000000102289870 chromedriver + 284784\n",
      "3   chromedriver                        0x00000001022cd080 chromedriver + 561280\n",
      "4   chromedriver                        0x00000001022c2ee8 chromedriver + 519912\n",
      "5   chromedriver                        0x0000000102307048 chromedriver + 798792\n",
      "6   chromedriver                        0x00000001022c174c chromedriver + 513868\n",
      "7   chromedriver                        0x00000001022c2044 chromedriver + 516164\n",
      "8   chromedriver                        0x00000001025e3a04 chromedriver + 3799556\n",
      "9   chromedriver                        0x00000001025e7ee4 chromedriver + 3817188\n",
      "10  chromedriver                        0x00000001025cc260 chromedriver + 3703392\n",
      "11  chromedriver                        0x00000001025e8a2c chromedriver + 3820076\n",
      "12  chromedriver                        0x00000001025bf01c chromedriver + 3649564\n",
      "13  chromedriver                        0x0000000102605e3c chromedriver + 3939900\n",
      "14  chromedriver                        0x0000000102605fb4 chromedriver + 3940276\n",
      "15  chromedriver                        0x0000000102616660 chromedriver + 4007520\n",
      "16  libsystem_pthread.dylib             0x0000000181c7e034 _pthread_start + 136\n",
      "17  libsystem_pthread.dylib             0x0000000181c78e3c thread_start + 8\n",
      " at page 11, x=11\n",
      "Error: Message: no such element: Unable to locate element: {\"method\":\"xpath\",\"selector\":\".//span[@class='published']\"}\n",
      "  (Session info: chrome=121.0.6167.160); For documentation on this error, please visit: https://www.selenium.dev/documentation/webdriver/troubleshooting/errors#no-such-element-exception\n",
      "Stacktrace:\n",
      "0   chromedriver                        0x00000001052ee7dc chromedriver + 4040668\n",
      "1   chromedriver                        0x00000001052e69e0 chromedriver + 4008416\n",
      "2   chromedriver                        0x0000000104f59870 chromedriver + 284784\n",
      "3   chromedriver                        0x0000000104f9d080 chromedriver + 561280\n",
      "4   chromedriver                        0x0000000104f92ee8 chromedriver + 519912\n",
      "5   chromedriver                        0x0000000104fd7048 chromedriver + 798792\n",
      "6   chromedriver                        0x0000000104f9174c chromedriver + 513868\n",
      "7   chromedriver                        0x0000000104f92044 chromedriver + 516164\n",
      "8   chromedriver                        0x00000001052b3a04 chromedriver + 3799556\n",
      "9   chromedriver                        0x00000001052b7ee4 chromedriver + 3817188\n",
      "10  chromedriver                        0x000000010529c260 chromedriver + 3703392\n",
      "11  chromedriver                        0x00000001052b8a2c chromedriver + 3820076\n",
      "12  chromedriver                        0x000000010528f01c chromedriver + 3649564\n",
      "13  chromedriver                        0x00000001052d5e3c chromedriver + 3939900\n",
      "14  chromedriver                        0x00000001052d5fb4 chromedriver + 3940276\n",
      "15  chromedriver                        0x00000001052e6660 chromedriver + 4007520\n",
      "16  libsystem_pthread.dylib             0x0000000181c7e034 _pthread_start + 136\n",
      "17  libsystem_pthread.dylib             0x0000000181c78e3c thread_start + 8\n",
      " at page 12, x=8\n"
     ]
    }
   ],
   "source": [
    "df_list = []\n",
    "\n",
    "# Outer loop for 'i' (range 1 to 11)\n",
    "for i in range(1, 13):  # Loop through 12 pages for 'i'\n",
    "    \n",
    "    # Inner loop for 'x'\n",
    "    x = 1  # Initialize 'x' to 1\n",
    "    \n",
    "    while True:  \n",
    "        try: \n",
    "            # Scrape data for the current page\n",
    "            df = scrape_california_links(f'https://www.gov.ca.gov/2023/{i}/page/{x}/')\n",
    "            df['page_scraped'] = i \n",
    "            df_list.append(df)\n",
    "            \n",
    "            # Increment 'x' for the next page\n",
    "            x += 1\n",
    "            \n",
    "        except Exception as e:\n",
    "            print(f'Error: {e} at page {i}, x={x}')\n",
    "            break"
   ]
  },
  {
   "cell_type": "code",
   "execution_count": 20,
   "id": "2d48afe6",
   "metadata": {
    "hidden": true
   },
   "outputs": [
    {
     "name": "stdout",
     "output_type": "stream",
     "text": [
      "<class 'pandas.core.frame.DataFrame'>\n",
      "RangeIndex: 608 entries, 0 to 607\n",
      "Data columns (total 5 columns):\n",
      " #   Column        Non-Null Count  Dtype  \n",
      "---  ------        --------------  -----  \n",
      " 0   title         608 non-null    object \n",
      " 1   date          608 non-null    object \n",
      " 2   link          608 non-null    object \n",
      " 3   content       0 non-null      float64\n",
      " 4   page_scraped  608 non-null    int64  \n",
      "dtypes: float64(1), int64(1), object(3)\n",
      "memory usage: 23.9+ KB\n"
     ]
    },
    {
     "data": {
      "text/html": [
       "<div>\n",
       "<style scoped>\n",
       "    .dataframe tbody tr th:only-of-type {\n",
       "        vertical-align: middle;\n",
       "    }\n",
       "\n",
       "    .dataframe tbody tr th {\n",
       "        vertical-align: top;\n",
       "    }\n",
       "\n",
       "    .dataframe thead th {\n",
       "        text-align: right;\n",
       "    }\n",
       "</style>\n",
       "<table border=\"1\" class=\"dataframe\">\n",
       "  <thead>\n",
       "    <tr style=\"text-align: right;\">\n",
       "      <th></th>\n",
       "      <th>title</th>\n",
       "      <th>date</th>\n",
       "      <th>link</th>\n",
       "      <th>content</th>\n",
       "      <th>page_scraped</th>\n",
       "    </tr>\n",
       "  </thead>\n",
       "  <tbody>\n",
       "    <tr>\n",
       "      <th>0</th>\n",
       "      <td>Read more about Governor Newsom Signs Executiv...</td>\n",
       "      <td>Jan 31, 2023</td>\n",
       "      <td>https://www.gov.ca.gov/2023/01/31/governor-new...</td>\n",
       "      <td>NaN</td>\n",
       "      <td>1</td>\n",
       "    </tr>\n",
       "    <tr>\n",
       "      <th>1</th>\n",
       "      <td>Read more about Governor Newsom Ends Multiple ...</td>\n",
       "      <td>Jan 31, 2023</td>\n",
       "      <td>https://www.gov.ca.gov/2023/01/31/governor-new...</td>\n",
       "      <td>NaN</td>\n",
       "      <td>1</td>\n",
       "    </tr>\n",
       "    <tr>\n",
       "      <th>2</th>\n",
       "      <td>Read more about Governor Newsom Announces Awar...</td>\n",
       "      <td>Jan 31, 2023</td>\n",
       "      <td>https://www.gov.ca.gov/2023/01/31/governor-new...</td>\n",
       "      <td>NaN</td>\n",
       "      <td>1</td>\n",
       "    </tr>\n",
       "    <tr>\n",
       "      <th>3</th>\n",
       "      <td>Read more about Governor Newsom Announces Judi...</td>\n",
       "      <td>Jan 31, 2023</td>\n",
       "      <td>https://www.gov.ca.gov/2023/01/31/governor-new...</td>\n",
       "      <td>NaN</td>\n",
       "      <td>1</td>\n",
       "    </tr>\n",
       "    <tr>\n",
       "      <th>4</th>\n",
       "      <td>Read more about Governor Newsom Announces Thre...</td>\n",
       "      <td>Jan 31, 2023</td>\n",
       "      <td>https://www.gov.ca.gov/2023/01/31/governor-new...</td>\n",
       "      <td>NaN</td>\n",
       "      <td>1</td>\n",
       "    </tr>\n",
       "  </tbody>\n",
       "</table>\n",
       "</div>"
      ],
      "text/plain": [
       "                                               title          date  \\\n",
       "0  Read more about Governor Newsom Signs Executiv...  Jan 31, 2023   \n",
       "1  Read more about Governor Newsom Ends Multiple ...  Jan 31, 2023   \n",
       "2  Read more about Governor Newsom Announces Awar...  Jan 31, 2023   \n",
       "3  Read more about Governor Newsom Announces Judi...  Jan 31, 2023   \n",
       "4  Read more about Governor Newsom Announces Thre...  Jan 31, 2023   \n",
       "\n",
       "                                                link  content  page_scraped  \n",
       "0  https://www.gov.ca.gov/2023/01/31/governor-new...      NaN             1  \n",
       "1  https://www.gov.ca.gov/2023/01/31/governor-new...      NaN             1  \n",
       "2  https://www.gov.ca.gov/2023/01/31/governor-new...      NaN             1  \n",
       "3  https://www.gov.ca.gov/2023/01/31/governor-new...      NaN             1  \n",
       "4  https://www.gov.ca.gov/2023/01/31/governor-new...      NaN             1  "
      ]
     },
     "execution_count": 20,
     "metadata": {},
     "output_type": "execute_result"
    }
   ],
   "source": [
    "# combine into one df\n",
    "combined = pd.concat(df_list, ignore_index=True)\n",
    "combined.info()\n",
    "combined.head()"
   ]
  },
  {
   "cell_type": "code",
   "execution_count": 19,
   "id": "25884a3f",
   "metadata": {
    "hidden": true
   },
   "outputs": [],
   "source": [
    "# save a copy just in case\n",
    "combined.to_csv('california_links.csv', index = False)"
   ]
  },
  {
   "cell_type": "code",
   "execution_count": null,
   "id": "39315b53",
   "metadata": {
    "hidden": true
   },
   "outputs": [],
   "source": [
    "# combined = pd.read_csv('california_links.csv')\n",
    "# combined.head()"
   ]
  },
  {
   "cell_type": "markdown",
   "id": "92cf01bb",
   "metadata": {},
   "source": [
    "## Scrape content from links\n",
    "`Beautiful Soup`"
   ]
  },
  {
   "cell_type": "markdown",
   "id": "856d9c5e",
   "metadata": {
    "heading_collapsed": true
   },
   "source": [
    "### Test on one link"
   ]
  },
  {
   "cell_type": "code",
   "execution_count": 23,
   "id": "219060c0",
   "metadata": {
    "hidden": true
   },
   "outputs": [],
   "source": [
    "# define link scraping \n",
    "def get_california_content(link, df, header_list):\n",
    "    try: \n",
    "        # check if content has already been pulled\n",
    "        result = df.loc[df.link == link, 'content'].notnull().all()\n",
    "        if result:\n",
    "            return f'content already existing for {link}' \n",
    "        else: \n",
    "            try: \n",
    "                df['content']\n",
    "                server_response = requests.get(link, headers = header_list)\n",
    "                soup_link = bs4.BeautifulSoup(server_response.content, features=\"html.parser\")\n",
    "                result = soup_link.find('article').find_all('p')\n",
    "                string_result = [str(i.text) for i in result]\n",
    "                string_result_clean = [i.replace(u'\\xa0', u' ') for i in string_result]\n",
    "                result_merged = \" \".join(string_result_clean)\n",
    "                df.loc[df.link == link, 'content'] = result_merged\n",
    "                return f\"success: content added from {link}\"\n",
    "            except: \n",
    "                pass\n",
    "    except Exception as e: \n",
    "        return f\"unable to gather content from {link} due to {e}\"\n",
    "    #return df_updated "
   ]
  },
  {
   "cell_type": "code",
   "execution_count": 21,
   "id": "497843ea",
   "metadata": {
    "hidden": true
   },
   "outputs": [
    {
     "data": {
      "text/plain": [
       "<Response [200]>"
      ]
     },
     "execution_count": 21,
     "metadata": {},
     "output_type": "execute_result"
    }
   ],
   "source": [
    "# access webpage\n",
    "link = 'https://www.gov.ca.gov/2023/12/04/rfa-joint-otc-letter-to-hhs/'\n",
    "server_response = requests.get(link, headers = header_list)\n",
    "server_response"
   ]
  },
  {
   "cell_type": "code",
   "execution_count": 22,
   "id": "30642e3a",
   "metadata": {
    "hidden": true
   },
   "outputs": [
    {
     "data": {
      "text/plain": [
       "'Published: Dec 04, 2023 SACRAMENTO – Today, Governor Gavin Newsom called on U.S. Health and Human Services Secretary Xavier Becerra to take additional steps to ensure that all forms of contraception are affordable and accessible.  “Accessibility and affordability are essential when it comes to reproductive health care,” said Governor Newsom. “As some parts of the country look to roll back rights, we are standing together with the Biden-Harris administration to protect women and ensure their freedom.”  WHY THIS MATTERS: The non-prescription daily birth control pill could revolutionize access to contraception in the United States — if it is affordable. These governors are joining forces with the Biden Administration in support of affordability by advocating for steps to be taken to require most health plans to cover the cost of the medication. Governor Newsom, joined by the other Executive Committee governors of the Reproductive Freedom Alliance; Illinois Governor JB Pritzker, Massachusetts Governor Maura Healey, New Mexico Governor Michelle Lujan Grisham, and North Carolina Governor Roy Cooper – along with Pennsylvania Governor Josh Shapiro, issued the letter to express their support for the federal government expanding contraceptive access across the country. HOW WE GOT HERE: Earlier this year, the Federal Drug Administration (FDA) approved the first over-the-counter (OTC) daily birth control pill, a development that could revolutionize access to contraception in the United States. The pill is expected to be available to the people across the country in the coming months. ABOUT THE LETTER: The governors urge the federal government to clarify that non-prescription contraception will be covered without cost-sharing under private health insurance plans subject to Affordable Care Act (ACA) regulations, Medicare, and Medicaid. They wrote: “As Governors, we see firsthand the need for affordable and accessible reproductive health coverage in our communities. In forming the Reproductive Freedom Alliance, we vowed to safeguard and improve reproductive healthcare access in the face of an unprecedented assault on the right to primary healthcare. We urge your departments to promptly disseminate new guidance on coverage of [over-the-counter] contraception and join us in expanding access to reproductive healthcare for the most vulnerable populations in our country.” A full copy of the letter can be found here. BIGGER PICTURE: Earlier this year, Governor Newsom launched the Reproductive Freedom Alliance, a nonpartisan coalition of 22 governors, which works to protect and expand reproductive freedom in states across the country. Learn more about California’s leadership as well as rights and resources available to people accessing abortion care, regardless of what state they live in, at Abortion.CA.Gov.  ###'"
      ]
     },
     "execution_count": 22,
     "metadata": {},
     "output_type": "execute_result"
    }
   ],
   "source": [
    "# parse and isolate content\n",
    "soup_link = bs4.BeautifulSoup(server_response.content, features=\"html.parser\")\n",
    "result = soup_link.find('article').find_all('p')\n",
    "string_result = [str(i.text) for i in result]\n",
    "string_result_clean = [i.replace(u'\\xa0', u' ') for i in string_result]\n",
    "result_merged = \" \".join(string_result_clean)\n",
    "result_merged"
   ]
  },
  {
   "cell_type": "markdown",
   "id": "b6f6b800",
   "metadata": {
    "heading_collapsed": true
   },
   "source": [
    "### Scrape content from all links"
   ]
  },
  {
   "cell_type": "code",
   "execution_count": 24,
   "id": "60fbdc9f",
   "metadata": {
    "hidden": true
   },
   "outputs": [
    {
     "data": {
      "text/plain": [
       "'success: content added from https://www.gov.ca.gov/2023/01/31/governor-newsom-signs-executive-order-to-support-storm-response-and-recovery-efforts-1-31-23/'"
      ]
     },
     "execution_count": 24,
     "metadata": {},
     "output_type": "execute_result"
    },
    {
     "data": {
      "text/plain": [
       "'success: content added from https://www.gov.ca.gov/2023/01/31/governor-newsom-ends-multiple-open-states-of-emergency/'"
      ]
     },
     "execution_count": 24,
     "metadata": {},
     "output_type": "execute_result"
    },
    {
     "data": {
      "text/plain": [
       "'success: content added from https://www.gov.ca.gov/2023/01/31/governor-newsom-announces-awards-of-2-5-billion-for-public-transportation-projects-throughout-california/'"
      ]
     },
     "execution_count": 24,
     "metadata": {},
     "output_type": "execute_result"
    },
    {
     "data": {
      "text/plain": [
       "'success: content added from https://www.gov.ca.gov/2023/01/31/governor-newsom-announces-judicial-appointments-1-31-23/'"
      ]
     },
     "execution_count": 24,
     "metadata": {},
     "output_type": "execute_result"
    },
    {
     "data": {
      "text/plain": [
       "'success: content added from https://www.gov.ca.gov/2023/01/31/governor-newsom-announces-three-state-sites-identified-for-affordable-transit-oriented-housing-in-sacramento/'"
      ]
     },
     "execution_count": 24,
     "metadata": {},
     "output_type": "execute_result"
    }
   ],
   "source": [
    "# test on 5 to see if it works\n",
    "for i in combined.link[0:5]:\n",
    "     get_california_content(i, combined, header_list)\n",
    "        \n",
    "# combined"
   ]
  },
  {
   "cell_type": "code",
   "execution_count": 25,
   "id": "4be4977e",
   "metadata": {
    "hidden": true
   },
   "outputs": [
    {
     "data": {
      "text/plain": [
       "'content already existing for https://www.gov.ca.gov/2023/01/31/governor-newsom-signs-executive-order-to-support-storm-response-and-recovery-efforts-1-31-23/'"
      ]
     },
     "execution_count": 25,
     "metadata": {},
     "output_type": "execute_result"
    },
    {
     "data": {
      "text/plain": [
       "'content already existing for https://www.gov.ca.gov/2023/01/31/governor-newsom-ends-multiple-open-states-of-emergency/'"
      ]
     },
     "execution_count": 25,
     "metadata": {},
     "output_type": "execute_result"
    },
    {
     "data": {
      "text/plain": [
       "'content already existing for https://www.gov.ca.gov/2023/01/31/governor-newsom-announces-awards-of-2-5-billion-for-public-transportation-projects-throughout-california/'"
      ]
     },
     "execution_count": 25,
     "metadata": {},
     "output_type": "execute_result"
    },
    {
     "data": {
      "text/plain": [
       "'content already existing for https://www.gov.ca.gov/2023/01/31/governor-newsom-announces-judicial-appointments-1-31-23/'"
      ]
     },
     "execution_count": 25,
     "metadata": {},
     "output_type": "execute_result"
    },
    {
     "data": {
      "text/plain": [
       "'content already existing for https://www.gov.ca.gov/2023/01/31/governor-newsom-announces-three-state-sites-identified-for-affordable-transit-oriented-housing-in-sacramento/'"
      ]
     },
     "execution_count": 25,
     "metadata": {},
     "output_type": "execute_result"
    },
    {
     "data": {
      "text/plain": [
       "'success: content added from https://www.gov.ca.gov/2023/01/31/tomorrow-in-sacramento-governor-newsom-attorney-general-bonta-and-senator-portantino-announce-new-gun-safety-legislation/'"
      ]
     },
     "execution_count": 25,
     "metadata": {},
     "output_type": "execute_result"
    },
    {
     "data": {
      "text/plain": [
       "'success: content added from https://www.gov.ca.gov/2023/01/31/big-oil-made-record-2022-profits-while-fleecing-california-families/'"
      ]
     },
     "execution_count": 25,
     "metadata": {},
     "output_type": "execute_result"
    },
    {
     "data": {
      "text/plain": [
       "'success: content added from https://www.gov.ca.gov/2023/01/30/governor-newsom-announces-appointments-1-30-23/'"
      ]
     },
     "execution_count": 25,
     "metadata": {},
     "output_type": "execute_result"
    },
    {
     "data": {
      "text/plain": [
       "'success: content added from https://www.gov.ca.gov/2023/01/30/governor-newsom-proclaims-fred-korematsu-day-2023/'"
      ]
     },
     "execution_count": 25,
     "metadata": {},
     "output_type": "execute_result"
    },
    {
     "data": {
      "text/plain": [
       "'success: content added from https://www.gov.ca.gov/2023/01/27/governor-newsom-statement-on-tyre-nichols/'"
      ]
     },
     "execution_count": 25,
     "metadata": {},
     "output_type": "execute_result"
    },
    {
     "data": {
      "text/plain": [
       "'success: content added from https://www.gov.ca.gov/2023/01/26/state-water-project-to-increase-expected-2023-deliveries/'"
      ]
     },
     "execution_count": 25,
     "metadata": {},
     "output_type": "execute_result"
    },
    {
     "data": {
      "text/plain": [
       "'success: content added from https://www.gov.ca.gov/2023/01/24/today-governor-newsom-to-travel-to-half-moon-bay/'"
      ]
     },
     "execution_count": 25,
     "metadata": {},
     "output_type": "execute_result"
    },
    {
     "data": {
      "text/plain": [
       "'success: content added from https://www.gov.ca.gov/2023/01/23/tomorrow-governor-newsom-first-partner-siebel-newsom-in-los-angeles-county-for-national-governors-association/'"
      ]
     },
     "execution_count": 25,
     "metadata": {},
     "output_type": "execute_result"
    },
    {
     "data": {
      "text/plain": [
       "'success: content added from https://www.gov.ca.gov/2023/01/22/governor-newsom-proclaims-lunar-new-year-orders-flags-to-be-flown-at-half-staff/'"
      ]
     },
     "execution_count": 25,
     "metadata": {},
     "output_type": "execute_result"
    },
    {
     "data": {
      "text/plain": [
       "'success: content added from https://www.gov.ca.gov/2023/01/22/marking-the-50th-anniversary-of-roe-v-wade/'"
      ]
     },
     "execution_count": 25,
     "metadata": {},
     "output_type": "execute_result"
    },
    {
     "data": {
      "text/plain": [
       "'success: content added from https://www.gov.ca.gov/2023/01/20/governor-newsom-announces-appointments-1-20-23/'"
      ]
     },
     "execution_count": 25,
     "metadata": {},
     "output_type": "execute_result"
    },
    {
     "data": {
      "text/plain": [
       "'success: content added from https://www.gov.ca.gov/2023/01/20/california-zev-sales-near-19-of-all-new-car-sales-in-2022/'"
      ]
     },
     "execution_count": 25,
     "metadata": {},
     "output_type": "execute_result"
    },
    {
     "data": {
      "text/plain": [
       "'success: content added from https://www.gov.ca.gov/2023/01/20/december-2022-closes-out-a-year-of-consecutive-monthly-job-growth-in-california/'"
      ]
     },
     "execution_count": 25,
     "metadata": {},
     "output_type": "execute_result"
    },
    {
     "data": {
      "text/plain": [
       "'success: content added from https://www.gov.ca.gov/2023/01/19/governor-newsom-and-president-biden-visit-communities-impacted-by-winter-storms/'"
      ]
     },
     "execution_count": 25,
     "metadata": {},
     "output_type": "execute_result"
    },
    {
     "data": {
      "text/plain": [
       "'success: content added from https://www.gov.ca.gov/2023/01/19/5-ways-california-is-storing-water-from-winter-storms/'"
      ]
     },
     "execution_count": 25,
     "metadata": {},
     "output_type": "execute_result"
    },
    {
     "data": {
      "text/plain": [
       "'success: content added from https://www.gov.ca.gov/2023/01/18/presidential-major-disaster-declaration-expanded-to-three-additional-storm-impacted-counties/'"
      ]
     },
     "execution_count": 25,
     "metadata": {},
     "output_type": "execute_result"
    },
    {
     "data": {
      "text/plain": [
       "'success: content added from https://www.gov.ca.gov/2023/01/18/governor-newsom-honors-fallen-los-angeles-county-sheriffs-detective-1-18-23/'"
      ]
     },
     "execution_count": 25,
     "metadata": {},
     "output_type": "execute_result"
    },
    {
     "data": {
      "text/plain": [
       "'success: content added from https://www.gov.ca.gov/2023/01/18/businesses-impacted-by-storms-now-eligible-for-emergency-tax-relief/'"
      ]
     },
     "execution_count": 25,
     "metadata": {},
     "output_type": "execute_result"
    },
    {
     "data": {
      "text/plain": [
       "'success: content added from https://www.gov.ca.gov/2023/01/16/governor-newsom-signs-executive-order-to-support-communities-impacted-by-winter-storms-1-16-23/'"
      ]
     },
     "execution_count": 25,
     "metadata": {},
     "output_type": "execute_result"
    },
    {
     "data": {
      "text/plain": [
       "'success: content added from https://www.gov.ca.gov/2023/01/15/governor-newsom-proclaims-dr-martin-luther-king-jr-day-2023/'"
      ]
     },
     "execution_count": 25,
     "metadata": {},
     "output_type": "execute_result"
    },
    {
     "data": {
      "text/plain": [
       "'success: content added from https://www.gov.ca.gov/2023/01/14/california-secures-presidential-major-disaster-declaration-to-support-winter-storm-response-and-recovery/'"
      ]
     },
     "execution_count": 25,
     "metadata": {},
     "output_type": "execute_result"
    },
    {
     "data": {
      "text/plain": [
       "'success: content added from https://www.gov.ca.gov/2023/01/14/today-in-merced-county-governor-newsom-to-visit-residents-impacted-by-ongoing-storms-and-highlight-the-states-preparedness-efforts/'"
      ]
     },
     "execution_count": 25,
     "metadata": {},
     "output_type": "execute_result"
    },
    {
     "data": {
      "text/plain": [
       "'success: content added from https://www.gov.ca.gov/2023/01/14/governor-newsom-honors-fallen-riverside-county-sheriffs-deputy-1-14-23/'"
      ]
     },
     "execution_count": 25,
     "metadata": {},
     "output_type": "execute_result"
    },
    {
     "data": {
      "text/plain": [
       "'success: content added from https://www.gov.ca.gov/2023/01/13/in-santa-barbara-governor-newsom-joins-storm-preparedness-work-alongside-local-and-cal-guard-crews/'"
      ]
     },
     "execution_count": 25,
     "metadata": {},
     "output_type": "execute_result"
    },
    {
     "data": {
      "text/plain": [
       "'success: content added from https://www.gov.ca.gov/2023/01/13/los-angeles-county-accelerates-care-court-implementation-to-support-californians-with-untreated-severe-mental-illness/'"
      ]
     },
     "execution_count": 25,
     "metadata": {},
     "output_type": "execute_result"
    },
    {
     "data": {
      "text/plain": [
       "'success: content added from https://www.gov.ca.gov/2023/01/13/tax-relief-for-californians-impacted-by-storms/'"
      ]
     },
     "execution_count": 25,
     "metadata": {},
     "output_type": "execute_result"
    },
    {
     "data": {
      "text/plain": [
       "'success: content added from https://www.gov.ca.gov/2023/01/13/what-theyre-saying-governor-newsoms-budget-prioritizes-californias-values/'"
      ]
     },
     "execution_count": 25,
     "metadata": {},
     "output_type": "execute_result"
    },
    {
     "data": {
      "text/plain": [
       "'success: content added from https://www.gov.ca.gov/2023/01/13/today-in-santa-barbara-county-governor-newsom-to-support-storm-preparedness-efforts/'"
      ]
     },
     "execution_count": 25,
     "metadata": {},
     "output_type": "execute_result"
    },
    {
     "data": {
      "text/plain": [
       "'success: content added from https://www.gov.ca.gov/2023/01/11/governor-newsom-announces-appointments-1-11-23/'"
      ]
     },
     "execution_count": 25,
     "metadata": {},
     "output_type": "execute_result"
    },
    {
     "data": {
      "text/plain": [
       "'success: content added from https://www.gov.ca.gov/2023/01/11/california-invests-52-million-in-opioid-prevention-and-treatment/'"
      ]
     },
     "execution_count": 25,
     "metadata": {},
     "output_type": "execute_result"
    },
    {
     "data": {
      "text/plain": [
       "'success: content added from https://www.gov.ca.gov/2023/01/11/in-capitola-governor-newsom-surveys-storm-damage/'"
      ]
     },
     "execution_count": 25,
     "metadata": {},
     "output_type": "execute_result"
    },
    {
     "data": {
      "text/plain": [
       "'success: content added from https://www.gov.ca.gov/2023/01/10/today-in-santa-cruz-county-governor-newsom-to-survey-storm-damage/'"
      ]
     },
     "execution_count": 25,
     "metadata": {},
     "output_type": "execute_result"
    },
    {
     "data": {
      "text/plain": [
       "'success: content added from https://www.gov.ca.gov/2023/01/10/2023-24-state-budget-invests-in-californians-while-safeguarding-states-future/'"
      ]
     },
     "execution_count": 25,
     "metadata": {},
     "output_type": "execute_result"
    },
    {
     "data": {
      "text/plain": [
       "'success: content added from https://www.gov.ca.gov/2023/01/09/governor-newsom-to-californians-be-hyper-vigilant/'"
      ]
     },
     "execution_count": 25,
     "metadata": {},
     "output_type": "execute_result"
    },
    {
     "data": {
      "text/plain": [
       "'success: content added from https://www.gov.ca.gov/2023/01/09/tomorrow-governor-newsom-to-present-california-state-budget-proposal/'"
      ]
     },
     "execution_count": 25,
     "metadata": {},
     "output_type": "execute_result"
    },
    {
     "data": {
      "text/plain": [
       "'success: content added from https://www.gov.ca.gov/2023/01/08/governor-newsom-requests-presidential-emergency-declaration-to-support-californias-response-to-deadly-storms/'"
      ]
     },
     "execution_count": 25,
     "metadata": {},
     "output_type": "execute_result"
    },
    {
     "data": {
      "text/plain": [
       "'success: content added from https://www.gov.ca.gov/2023/01/08/today-in-sacramento-county-governor-newsom-and-state-officials-to-provide-update-on-winter-storms/'"
      ]
     },
     "execution_count": 25,
     "metadata": {},
     "output_type": "execute_result"
    },
    {
     "data": {
      "text/plain": [
       "'success: content added from https://www.gov.ca.gov/2023/01/06/governor-newsom-inaugurated-to-second-term-in-celebration-of-californias-values-diverse-communities/'"
      ]
     },
     "execution_count": 25,
     "metadata": {},
     "output_type": "execute_result"
    },
    {
     "data": {
      "text/plain": [
       "'success: content added from https://www.gov.ca.gov/2023/01/06/governor-newsom-announces-appointments-1-6-23/'"
      ]
     },
     "execution_count": 25,
     "metadata": {},
     "output_type": "execute_result"
    },
    {
     "data": {
      "text/plain": [
       "'success: content added from https://www.gov.ca.gov/2023/01/05/governor-newsom-announces-appointments-1-5-23/'"
      ]
     },
     "execution_count": 25,
     "metadata": {},
     "output_type": "execute_result"
    },
    {
     "data": {
      "text/plain": [
       "'success: content added from https://www.gov.ca.gov/2023/01/04/governor-newsom-proclaims-state-of-emergency-and-mobilizes-state-government-ahead-of-winter-storms/'"
      ]
     },
     "execution_count": 25,
     "metadata": {},
     "output_type": "execute_result"
    },
    {
     "data": {
      "text/plain": [
       "'success: content added from https://www.gov.ca.gov/2023/02/28/governor-newsom-announces-appointments-2-28-23/'"
      ]
     },
     "execution_count": 25,
     "metadata": {},
     "output_type": "execute_result"
    },
    {
     "data": {
      "text/plain": [
       "'success: content added from https://www.gov.ca.gov/2023/02/28/governor-newsom-marks-end-of-californias-covid-19-state-of-emergency/'"
      ]
     },
     "execution_count": 25,
     "metadata": {},
     "output_type": "execute_result"
    },
    {
     "data": {
      "text/plain": [
       "'success: content added from https://www.gov.ca.gov/2023/02/28/governor-newsom-attorney-general-bonta-and-cppa-file-letter-opposing-federal-privacy-preemption/'"
      ]
     },
     "execution_count": 25,
     "metadata": {},
     "output_type": "execute_result"
    },
    {
     "data": {
      "text/plain": [
       "'success: content added from https://www.gov.ca.gov/2023/02/24/governor-newsom-announces-appointments-2-24-23/'"
      ]
     },
     "execution_count": 25,
     "metadata": {},
     "output_type": "execute_result"
    },
    {
     "data": {
      "text/plain": [
       "'success: content added from https://www.gov.ca.gov/2023/02/24/6-ways-california-is-capturing-storing-water-from-storms/'"
      ]
     },
     "execution_count": 25,
     "metadata": {},
     "output_type": "execute_result"
    },
    {
     "data": {
      "text/plain": [
       "'success: content added from https://www.gov.ca.gov/2023/02/24/video-key-moments-from-the-gas-price-gouging-penalty-hearing/'"
      ]
     },
     "execution_count": 25,
     "metadata": {},
     "output_type": "execute_result"
    },
    {
     "data": {
      "text/plain": [
       "'success: content added from https://www.gov.ca.gov/2023/02/23/governor-newsom-announces-appointments-2-23-23/'"
      ]
     },
     "execution_count": 25,
     "metadata": {},
     "output_type": "execute_result"
    },
    {
     "data": {
      "text/plain": [
       "'success: content added from https://www.gov.ca.gov/2023/02/22/top-5-takeaways-from-todays-hearing-on-big-oils-price-gouging/'"
      ]
     },
     "execution_count": 25,
     "metadata": {},
     "output_type": "execute_result"
    },
    {
     "data": {
      "text/plain": [
       "'success: content added from https://www.gov.ca.gov/2023/02/22/governor-newsom-announces-appointments-2-22-23/'"
      ]
     },
     "execution_count": 25,
     "metadata": {},
     "output_type": "execute_result"
    },
    {
     "data": {
      "text/plain": [
       "'success: content added from https://www.gov.ca.gov/2023/02/22/governor-newsom-welcomes-new-tesla-global-engineering-and-ai-hq-in-california/'"
      ]
     },
     "execution_count": 25,
     "metadata": {},
     "output_type": "execute_result"
    },
    {
     "data": {
      "text/plain": [
       "'success: content added from https://www.gov.ca.gov/2023/02/22/icymi-groups-lobby-california-legislature-to-pass-bill-on-fuel-price-gouging/'"
      ]
     },
     "execution_count": 25,
     "metadata": {},
     "output_type": "execute_result"
    },
    {
     "data": {
      "text/plain": [
       "'success: content added from https://www.gov.ca.gov/2023/02/22/california-joins-white-house-partnership-on-offshore-wind-energy/'"
      ]
     },
     "execution_count": 25,
     "metadata": {},
     "output_type": "execute_result"
    },
    {
     "data": {
      "text/plain": [
       "'success: content added from https://www.gov.ca.gov/2023/02/22/nearly-1-billion-in-grants-for-homeless-housing-behavioral-health-needs/'"
      ]
     },
     "execution_count": 25,
     "metadata": {},
     "output_type": "execute_result"
    },
    {
     "data": {
      "text/plain": [
       "'success: content added from https://www.gov.ca.gov/2023/02/21/governor-newsom-announces-appointments-2-21-23/'"
      ]
     },
     "execution_count": 25,
     "metadata": {},
     "output_type": "execute_result"
    },
    {
     "data": {
      "text/plain": [
       "'success: content added from https://www.gov.ca.gov/2023/02/21/governor-newsom-statement-on-challenge-to-californias-child-online-privacy-law/'"
      ]
     },
     "execution_count": 25,
     "metadata": {},
     "output_type": "execute_result"
    },
    {
     "data": {
      "text/plain": [
       "'success: content added from https://www.gov.ca.gov/2023/02/21/twenty-states-announce-historic-governor-led-reproductive-freedom-alliance/'"
      ]
     },
     "execution_count": 25,
     "metadata": {},
     "output_type": "execute_result"
    },
    {
     "data": {
      "text/plain": [
       "'success: content added from https://www.gov.ca.gov/2023/02/19/governor-newsom-proclaims-a-day-of-remembrance-japanese-american-evacuation-2-19-23/'"
      ]
     },
     "execution_count": 25,
     "metadata": {},
     "output_type": "execute_result"
    },
    {
     "data": {
      "text/plain": [
       "'success: content added from https://www.gov.ca.gov/2023/02/17/governor-newsom-announces-appointments-2-17-23/'"
      ]
     },
     "execution_count": 25,
     "metadata": {},
     "output_type": "execute_result"
    },
    {
     "data": {
      "text/plain": [
       "'success: content added from https://www.gov.ca.gov/2023/02/17/governor-newsom-announces-judicial-appointments-2-17-23/'"
      ]
     },
     "execution_count": 25,
     "metadata": {},
     "output_type": "execute_result"
    },
    {
     "data": {
      "text/plain": [
       "'success: content added from https://www.gov.ca.gov/2023/02/16/california-is-transforming-education-through-community-schools/'"
      ]
     },
     "execution_count": 25,
     "metadata": {},
     "output_type": "execute_result"
    },
    {
     "data": {
      "text/plain": [
       "'success: content added from https://www.gov.ca.gov/2023/02/15/tomorrow-in-sacramento-county-governor-newsom-and-first-partner-siebel-newsom-to-highlight-investments-in-education-transformation/'"
      ]
     },
     "execution_count": 25,
     "metadata": {},
     "output_type": "execute_result"
    },
    {
     "data": {
      "text/plain": [
       "'success: content added from https://www.gov.ca.gov/2023/02/15/governor-newsom-joins-council-on-holocaust-and-genocide-education-for-inaugural-convening/'"
      ]
     },
     "execution_count": 25,
     "metadata": {},
     "output_type": "execute_result"
    },
    {
     "data": {
      "text/plain": [
       "'success: content added from https://www.gov.ca.gov/2023/02/15/governor-newsom-doubles-down-on-clean-california-projects-with-100-million-in-new-grants/'"
      ]
     },
     "execution_count": 25,
     "metadata": {},
     "output_type": "execute_result"
    },
    {
     "data": {
      "text/plain": [
       "'success: content added from https://www.gov.ca.gov/2023/02/14/governor-newsom-statement-on-constitutional-amendment-to-repeal-prop-8/'"
      ]
     },
     "execution_count": 25,
     "metadata": {},
     "output_type": "execute_result"
    },
    {
     "data": {
      "text/plain": [
       "'success: content added from https://www.gov.ca.gov/2023/02/14/governor-newsom-statement-on-announcement-by-senator-feinstein/'"
      ]
     },
     "execution_count": 25,
     "metadata": {},
     "output_type": "execute_result"
    },
    {
     "data": {
      "text/plain": [
       "'success: content added from https://www.gov.ca.gov/2023/02/13/governor-newsom-signs-order-to-build-water-resilience-amid-climate-driven-extreme-weather/'"
      ]
     },
     "execution_count": 25,
     "metadata": {},
     "output_type": "execute_result"
    },
    {
     "data": {
      "text/plain": [
       "'success: content added from https://www.gov.ca.gov/2023/02/12/recap-governor-gavin-newsom-and-first-partner-jennifer-siebel-newsom-visit-washington-d-c/'"
      ]
     },
     "execution_count": 25,
     "metadata": {},
     "output_type": "execute_result"
    },
    {
     "data": {
      "text/plain": [
       "'success: content added from https://www.gov.ca.gov/2023/02/10/icymi-big-oil-misleading-californians-again-fact-check-finds/'"
      ]
     },
     "execution_count": 25,
     "metadata": {},
     "output_type": "execute_result"
    },
    {
     "data": {
      "text/plain": [
       "'success: content added from https://www.gov.ca.gov/2023/02/09/california-takes-down-coordinated-multi-state-retail-theft-crime-ring/'"
      ]
     },
     "execution_count": 25,
     "metadata": {},
     "output_type": "execute_result"
    },
    {
     "data": {
      "text/plain": [
       "'success: content added from https://www.gov.ca.gov/2023/02/09/governor-newsom-announces-awards-of-more-than-825-million-to-build-affordable-housing-through-accelerated-approval-process/'"
      ]
     },
     "execution_count": 25,
     "metadata": {},
     "output_type": "execute_result"
    },
    {
     "data": {
      "text/plain": [
       "'success: content added from https://www.gov.ca.gov/2023/02/08/gofundme-and-classy-become-latest-companies-to-sign-equal-pay-pledge-championed-by-california-first-partner-jennifer-siebel-newsom/'"
      ]
     },
     "execution_count": 25,
     "metadata": {},
     "output_type": "execute_result"
    },
    {
     "data": {
      "text/plain": [
       "'success: content added from https://www.gov.ca.gov/2023/02/07/governor-newsom-proclaims-black-history-month-2023/'"
      ]
     },
     "execution_count": 25,
     "metadata": {},
     "output_type": "execute_result"
    },
    {
     "data": {
      "text/plain": [
       "'success: content added from https://www.gov.ca.gov/2023/02/06/governor-newsom-announces-appointments-2-6-23/'"
      ]
     },
     "execution_count": 25,
     "metadata": {},
     "output_type": "execute_result"
    },
    {
     "data": {
      "text/plain": [
       "'success: content added from https://www.gov.ca.gov/2023/02/06/governor-newsom-calls-for-federal-investigation-of-high-natural-gas-prices-as-california-provides-relief/'"
      ]
     },
     "execution_count": 25,
     "metadata": {},
     "output_type": "execute_result"
    },
    {
     "data": {
      "text/plain": [
       "'success: content added from https://www.gov.ca.gov/2023/02/05/icymi-california-announced-400-million-in-grants-to-invest-in-health-care-workforce-infrastructure/'"
      ]
     },
     "execution_count": 25,
     "metadata": {},
     "output_type": "execute_result"
    },
    {
     "data": {
      "text/plain": [
       "'success: content added from https://www.gov.ca.gov/2023/02/04/governor-newsom-statement-on-the-passing-of-allan-zaremberg/'"
      ]
     },
     "execution_count": 25,
     "metadata": {},
     "output_type": "execute_result"
    },
    {
     "data": {
      "text/plain": [
       "'success: content added from https://www.gov.ca.gov/2023/02/03/governor-newsom-honors-two-chp-officers-with-medal-of-valor/'"
      ]
     },
     "execution_count": 25,
     "metadata": {},
     "output_type": "execute_result"
    },
    {
     "data": {
      "text/plain": [
       "'success: content added from https://www.gov.ca.gov/2023/02/03/governor-newsom-names-sean-duryee-chp-commissioner/'"
      ]
     },
     "execution_count": 25,
     "metadata": {},
     "output_type": "execute_result"
    },
    {
     "data": {
      "text/plain": [
       "'success: content added from https://www.gov.ca.gov/2023/02/03/governor-newsom-calls-out-big-oil-on-continued-push-for-drilling-in-neighborhoods/'"
      ]
     },
     "execution_count": 25,
     "metadata": {},
     "output_type": "execute_result"
    },
    {
     "data": {
      "text/plain": [
       "'success: content added from https://www.gov.ca.gov/2023/02/03/governor-newsom-announces-designation-of-three-more-california-jurisdictions-as-prohousing-for-strides-made-to-accelerate-housing-production/'"
      ]
     },
     "execution_count": 25,
     "metadata": {},
     "output_type": "execute_result"
    },
    {
     "data": {
      "text/plain": [
       "'success: content added from https://www.gov.ca.gov/2023/02/02/governor-newsom-announces-appointments-2-2-23/'"
      ]
     },
     "execution_count": 25,
     "metadata": {},
     "output_type": "execute_result"
    },
    {
     "data": {
      "text/plain": [
       "'success: content added from https://www.gov.ca.gov/2023/02/02/governor-newsom-on-fifth-circuit-court-ruling-allowing-domestic-violence-abusers-to-possess-guns/'"
      ]
     },
     "execution_count": 25,
     "metadata": {},
     "output_type": "execute_result"
    },
    {
     "data": {
      "text/plain": [
       "'success: content added from https://www.gov.ca.gov/2023/02/01/governor-newsom-announces-appointments-2-1-23/'"
      ]
     },
     "execution_count": 25,
     "metadata": {},
     "output_type": "execute_result"
    },
    {
     "data": {
      "text/plain": [
       "'success: content added from https://www.gov.ca.gov/2023/02/01/governor-newsom-takes-action-to-strengthen-californias-gun-safety-laws/'"
      ]
     },
     "execution_count": 25,
     "metadata": {},
     "output_type": "execute_result"
    },
    {
     "data": {
      "text/plain": [
       "'success: content added from https://www.gov.ca.gov/2023/02/01/governor-newsom-announces-certification-of-san-franciscos-plan-for-82000-homes-in-the-next-eight-years/'"
      ]
     },
     "execution_count": 25,
     "metadata": {},
     "output_type": "execute_result"
    },
    {
     "data": {
      "text/plain": [
       "'success: content added from https://www.gov.ca.gov/2023/02/01/governor-newsom-honors-fallen-selma-police-officer/'"
      ]
     },
     "execution_count": 25,
     "metadata": {},
     "output_type": "execute_result"
    },
    {
     "data": {
      "text/plain": [
       "'success: content added from https://www.gov.ca.gov/2023/03/31/with-biden-administration-approval-california-ushers-in-new-era-of-clean-trucks/'"
      ]
     },
     "execution_count": 25,
     "metadata": {},
     "output_type": "execute_result"
    },
    {
     "data": {
      "text/plain": [
       "'success: content added from https://www.gov.ca.gov/2023/03/31/governor-newsom-signs-executive-order-to-support-tulare-lake-basin-flood-response/'"
      ]
     },
     "execution_count": 25,
     "metadata": {},
     "output_type": "execute_result"
    },
    {
     "data": {
      "text/plain": [
       "'success: content added from https://www.gov.ca.gov/2023/03/31/governor-newsom-proclaims-cesar-chavez-day-2023/'"
      ]
     },
     "execution_count": 25,
     "metadata": {},
     "output_type": "execute_result"
    },
    {
     "data": {
      "text/plain": [
       "'success: content added from https://www.gov.ca.gov/2023/03/30/governor-newsom-announces-appointments-3-30-23/'"
      ]
     },
     "execution_count": 25,
     "metadata": {},
     "output_type": "execute_result"
    },
    {
     "data": {
      "text/plain": [
       "'success: content added from https://www.gov.ca.gov/2023/03/30/governor-newsom-signs-tribal-state-gaming-compacts-3-30-23/'"
      ]
     },
     "execution_count": 25,
     "metadata": {},
     "output_type": "execute_result"
    },
    {
     "data": {
      "text/plain": [
       "'success: content added from https://www.gov.ca.gov/2023/03/30/governor-newsom-announces-judicial-appointments-3-30-23/'"
      ]
     },
     "execution_count": 25,
     "metadata": {},
     "output_type": "execute_result"
    },
    {
     "data": {
      "text/plain": [
       "'success: content added from https://www.gov.ca.gov/2023/03/30/california-awards-150-million-in-grants-to-bolster-health-care-workforce/'"
      ]
     },
     "execution_count": 25,
     "metadata": {},
     "output_type": "execute_result"
    },
    {
     "data": {
      "text/plain": [
       "'success: content added from https://www.gov.ca.gov/2023/03/30/governor-newsom-proclaims-welcome-home-vietnam-veterans-day-3-30-32/'"
      ]
     },
     "execution_count": 25,
     "metadata": {},
     "output_type": "execute_result"
    },
    {
     "data": {
      "text/plain": [
       "'success: content added from https://www.gov.ca.gov/2023/03/29/governor-newsom-announces-appointments-3-29-23/'"
      ]
     },
     "execution_count": 25,
     "metadata": {},
     "output_type": "execute_result"
    },
    {
     "data": {
      "text/plain": [
       "'success: content added from https://www.gov.ca.gov/2023/03/29/governor-newsom-announces-736-million-in-homekey-funds-now-available-to-address-housing-and-homelessness/'"
      ]
     },
     "execution_count": 25,
     "metadata": {},
     "output_type": "execute_result"
    },
    {
     "data": {
      "text/plain": [
       "'success: content added from https://www.gov.ca.gov/2023/03/28/governor-newsom-signs-gas-price-gouging-law-california-took-on-big-oil-and-won/'"
      ]
     },
     "execution_count": 25,
     "metadata": {},
     "output_type": "execute_result"
    },
    {
     "data": {
      "text/plain": [
       "'success: content added from https://www.gov.ca.gov/2023/03/28/governor-newsom-expands-storm-state-of-emergency-requests-presidential-major-disaster-declaration-to-support-ongoing-response-and-recovery/'"
      ]
     },
     "execution_count": 25,
     "metadata": {},
     "output_type": "execute_result"
    },
    {
     "data": {
      "text/plain": [
       "'success: content added from https://www.gov.ca.gov/2023/03/28/today-in-sacramento-governor-newsom-to-take-action-to-hold-big-oil-accountable/'"
      ]
     },
     "execution_count": 25,
     "metadata": {},
     "output_type": "execute_result"
    },
    {
     "data": {
      "text/plain": [
       "'success: content added from https://www.gov.ca.gov/2023/03/24/governor-newsom-announces-appointments-3-24-23/'"
      ]
     },
     "execution_count": 25,
     "metadata": {},
     "output_type": "execute_result"
    },
    {
     "data": {
      "text/plain": [
       "'success: content added from https://www.gov.ca.gov/2023/03/24/california-continues-creating-jobs/'"
      ]
     },
     "execution_count": 25,
     "metadata": {},
     "output_type": "execute_result"
    },
    {
     "data": {
      "text/plain": [
       "'success: content added from https://www.gov.ca.gov/2023/03/24/governor-newsom-eases-drought-restrictions/'"
      ]
     },
     "execution_count": 25,
     "metadata": {},
     "output_type": "execute_result"
    },
    {
     "data": {
      "text/plain": [
       "'success: content added from https://www.gov.ca.gov/2023/03/23/governor-newsom-announces-appointments-3-23-23/'"
      ]
     },
     "execution_count": 25,
     "metadata": {},
     "output_type": "execute_result"
    },
    {
     "data": {
      "text/plain": [
       "'success: content added from https://www.gov.ca.gov/2023/03/23/what-theyre-saying-governor-newsoms-proposal-to-hold-big-oil-accountable/'"
      ]
     },
     "execution_count": 25,
     "metadata": {},
     "output_type": "execute_result"
    },
    {
     "data": {
      "text/plain": [
       "'success: content added from https://www.gov.ca.gov/2023/03/23/governor-newsom-signs-legislation-3-23-23/'"
      ]
     },
     "execution_count": 25,
     "metadata": {},
     "output_type": "execute_result"
    },
    {
     "data": {
      "text/plain": [
       "'success: content added from https://www.gov.ca.gov/2023/03/23/governor-newsoms-gas-price-gouging-proposal-gains-momentum-clears-senate/'"
      ]
     },
     "execution_count": 25,
     "metadata": {},
     "output_type": "execute_result"
    },
    {
     "data": {
      "text/plain": [
       "'success: content added from https://www.gov.ca.gov/2023/03/22/governor-newsom-announces-appointments-3-22-23/'"
      ]
     },
     "execution_count": 25,
     "metadata": {},
     "output_type": "execute_result"
    },
    {
     "data": {
      "text/plain": [
       "'success: content added from https://www.gov.ca.gov/2023/03/22/delivers-state-of-the-state-2023/'"
      ]
     },
     "execution_count": 25,
     "metadata": {},
     "output_type": "execute_result"
    },
    {
     "data": {
      "text/plain": [
       "'success: content added from https://www.gov.ca.gov/2023/03/22/california-storm-response-and-recovery-update/'"
      ]
     },
     "execution_count": 25,
     "metadata": {},
     "output_type": "execute_result"
    },
    {
     "data": {
      "text/plain": [
       "'success: content added from https://www.gov.ca.gov/2023/03/21/governor-newsom-announces-appointments-3-21-23/'"
      ]
     },
     "execution_count": 25,
     "metadata": {},
     "output_type": "execute_result"
    },
    {
     "data": {
      "text/plain": [
       "'success: content added from https://www.gov.ca.gov/2023/03/20/governor-newsom-visits-lithium-valley-to-highlight-momentum-on-becoming-global-source-for-battery-production/'"
      ]
     },
     "execution_count": 25,
     "metadata": {},
     "output_type": "execute_result"
    },
    {
     "data": {
      "text/plain": [
       "'success: content added from https://www.gov.ca.gov/2023/03/20/governor-newsom-and-legislative-leaders-strike-deal-on-proposal-to-hold-big-oil-accountable/'"
      ]
     },
     "execution_count": 25,
     "metadata": {},
     "output_type": "execute_result"
    },
    {
     "data": {
      "text/plain": [
       "'success: content added from https://www.gov.ca.gov/2023/03/20/master-plan-for-tackling-the-fentanyl-and-opioid-crisis/'"
      ]
     },
     "execution_count": 25,
     "metadata": {},
     "output_type": "execute_result"
    },
    {
     "data": {
      "text/plain": [
       "'success: content added from https://www.gov.ca.gov/2023/03/19/governor-newsom-proposes-modernization-of-californias-behavioral-health-system-and-more-mental-health-housing/'"
      ]
     },
     "execution_count": 25,
     "metadata": {},
     "output_type": "execute_result"
    },
    {
     "data": {
      "text/plain": [
       "'success: content added from https://www.gov.ca.gov/2023/03/18/governor-newsom-announces-30-insulin-through-calrx/'"
      ]
     },
     "execution_count": 25,
     "metadata": {},
     "output_type": "execute_result"
    },
    {
     "data": {
      "text/plain": [
       "'success: content added from https://www.gov.ca.gov/2023/03/17/san-quentin-transformation/'"
      ]
     },
     "execution_count": 25,
     "metadata": {},
     "output_type": "execute_result"
    },
    {
     "data": {
      "text/plain": [
       "'success: content added from https://www.gov.ca.gov/2023/03/16/governor-newsom-announces-1-billion-in-homelessness-funding-launches-states-largest-mobilization-of-small-homes/'"
      ]
     },
     "execution_count": 25,
     "metadata": {},
     "output_type": "execute_result"
    },
    {
     "data": {
      "text/plain": [
       "'success: content added from https://www.gov.ca.gov/2023/03/16/governor-newsom-unveils-stronger-proposal-to-hold-big-oil-accountable/'"
      ]
     },
     "execution_count": 25,
     "metadata": {},
     "output_type": "execute_result"
    },
    {
     "data": {
      "text/plain": [
       "'success: content added from https://www.gov.ca.gov/2023/03/15/photos-in-pajaro-governor-newsom-meets-with-first-responders-and-state-and-local-leaders/'"
      ]
     },
     "execution_count": 25,
     "metadata": {},
     "output_type": "execute_result"
    },
    {
     "data": {
      "text/plain": [
       "'success: content added from https://www.gov.ca.gov/2023/03/15/governor-newsom-announces-appointments-3-15-23/'"
      ]
     },
     "execution_count": 25,
     "metadata": {},
     "output_type": "execute_result"
    },
    {
     "data": {
      "text/plain": [
       "'success: content added from https://www.gov.ca.gov/2023/03/14/governor-newsom-expands-storm-state-of-emergency-to-three-additional-counties/'"
      ]
     },
     "execution_count": 25,
     "metadata": {},
     "output_type": "execute_result"
    },
    {
     "data": {
      "text/plain": [
       "'success: content added from https://www.gov.ca.gov/2023/03/14/california-first-partner-jennifer-siebel-newsom-announces-cities-of-oakland-san-francisco-los-angeles-san-diego-long-beach-and-fresno-become-first-cities-to-sign-equal-pay-pledge/'"
      ]
     },
     "execution_count": 25,
     "metadata": {},
     "output_type": "execute_result"
    },
    {
     "data": {
      "text/plain": [
       "'success: content added from https://www.gov.ca.gov/2023/03/14/governor-newsom-announces-appointments-3-14-23/'"
      ]
     },
     "execution_count": 25,
     "metadata": {},
     "output_type": "execute_result"
    },
    {
     "data": {
      "text/plain": [
       "'success: content added from https://www.gov.ca.gov/2023/03/14/14-governors-call-on-major-pharmacies-to-clarify-plans-on-medication-abortion/'"
      ]
     },
     "execution_count": 25,
     "metadata": {},
     "output_type": "execute_result"
    },
    {
     "data": {
      "text/plain": [
       "'success: content added from https://www.gov.ca.gov/2023/03/14/governor-newsom-applauds-president-bidens-new-actions-to-reduce-gun-violence/'"
      ]
     },
     "execution_count": 25,
     "metadata": {},
     "output_type": "execute_result"
    },
    {
     "data": {
      "text/plain": [
       "'success: content added from https://www.gov.ca.gov/2023/03/13/this-week-governor-newsom-to-join-lawmakers-and-leaders-across-california-to-outline-transformative-policy-proposals/'"
      ]
     },
     "execution_count": 25,
     "metadata": {},
     "output_type": "execute_result"
    },
    {
     "data": {
      "text/plain": [
       "'success: content added from https://www.gov.ca.gov/2023/03/13/tomorrow-first-partner-jennifer-siebel-newsom-and-partners-to-make-california-equal-pay-pledge-announcement-on-national-equal-pay-day/'"
      ]
     },
     "execution_count": 25,
     "metadata": {},
     "output_type": "execute_result"
    },
    {
     "data": {
      "text/plain": [
       "'success: content added from https://www.gov.ca.gov/2023/03/13/icymi-flush-with-rain-california-plans-to-replenish-drought-depleted-groundwater-with-floodwaters/'"
      ]
     },
     "execution_count": 25,
     "metadata": {},
     "output_type": "execute_result"
    },
    {
     "data": {
      "text/plain": [
       "'success: content added from https://www.gov.ca.gov/2023/03/12/governor-newsom-issues-statement-on-biden-administrations-action-on-silicon-valley-bank/'"
      ]
     },
     "execution_count": 25,
     "metadata": {},
     "output_type": "execute_result"
    },
    {
     "data": {
      "text/plain": [
       "'success: content added from https://www.gov.ca.gov/2023/03/12/governor-newsom-expands-storm-state-of-emergency-to-six-additional-counties/'"
      ]
     },
     "execution_count": 25,
     "metadata": {},
     "output_type": "execute_result"
    },
    {
     "data": {
      "text/plain": [
       "'success: content added from https://www.gov.ca.gov/2023/03/11/governor-newsom-issues-statement-on-silicon-valley-bank/'"
      ]
     },
     "execution_count": 25,
     "metadata": {},
     "output_type": "execute_result"
    },
    {
     "data": {
      "text/plain": [
       "'success: content added from https://www.gov.ca.gov/2023/03/10/governor-newsom-issues-executive-order-to-use-floodwater-to-recharge-and-store-groundwater/'"
      ]
     },
     "execution_count": 25,
     "metadata": {},
     "output_type": "execute_result"
    },
    {
     "data": {
      "text/plain": [
       "'success: content added from https://www.gov.ca.gov/2023/03/10/california-secures-federal-assistance-to-support-storm-response-and-recovery/'"
      ]
     },
     "execution_count": 25,
     "metadata": {},
     "output_type": "execute_result"
    },
    {
     "data": {
      "text/plain": [
       "'success: content added from https://www.gov.ca.gov/2023/03/10/governor-newsom-announces-los-angeles-as-the-newest-prohousing-city-in-california/'"
      ]
     },
     "execution_count": 25,
     "metadata": {},
     "output_type": "execute_result"
    },
    {
     "data": {
      "text/plain": [
       "'success: content added from https://www.gov.ca.gov/2023/03/10/california-created-more-than-18-of-the-nations-new-jobs-in-january/'"
      ]
     },
     "execution_count": 25,
     "metadata": {},
     "output_type": "execute_result"
    },
    {
     "data": {
      "text/plain": [
       "'success: content added from https://www.gov.ca.gov/2023/03/09/governor-newsom-requests-presidential-emergency-declaration-to-support-storm-response/'"
      ]
     },
     "execution_count": 25,
     "metadata": {},
     "output_type": "execute_result"
    },
    {
     "data": {
      "text/plain": [
       "'success: content added from https://www.gov.ca.gov/2023/03/09/governor-newsom-signs-tribal-state-gaming-compact-3-9-23/'"
      ]
     },
     "execution_count": 25,
     "metadata": {},
     "output_type": "execute_result"
    },
    {
     "data": {
      "text/plain": [
       "'success: content added from https://www.gov.ca.gov/2023/03/09/california-sues-huntington-beach-for-violating-state-housing-laws/'"
      ]
     },
     "execution_count": 25,
     "metadata": {},
     "output_type": "execute_result"
    },
    {
     "data": {
      "text/plain": [
       "'success: content added from https://www.gov.ca.gov/2023/03/08/governor-newsom-proclaims-storm-state-of-emergency-supporting-21-additional-counties/'"
      ]
     },
     "execution_count": 25,
     "metadata": {},
     "output_type": "execute_result"
    },
    {
     "data": {
      "text/plain": [
       "'success: content added from https://www.gov.ca.gov/2023/03/08/tomorrow-governor-newsom-attorney-general-bonta-and-state-leaders-to-make-major-announcement/'"
      ]
     },
     "execution_count": 25,
     "metadata": {},
     "output_type": "execute_result"
    },
    {
     "data": {
      "text/plain": [
       "'success: content added from https://www.gov.ca.gov/2023/03/08/tuesday-first-partner-jennifer-siebel-newsom-and-partners-to-make-california-equal-pay-pledge-announcement-on-national-equal-pay-day/'"
      ]
     },
     "execution_count": 25,
     "metadata": {},
     "output_type": "execute_result"
    },
    {
     "data": {
      "text/plain": [
       "'success: content added from https://www.gov.ca.gov/2023/03/08/governor-newsom-california-pulls-back-renewal-of-walgreens-contract/'"
      ]
     },
     "execution_count": 25,
     "metadata": {},
     "output_type": "execute_result"
    },
    {
     "data": {
      "text/plain": [
       "'success: content added from https://www.gov.ca.gov/2023/03/07/governor-newsom-announces-appointments-3-7-23/'"
      ]
     },
     "execution_count": 25,
     "metadata": {},
     "output_type": "execute_result"
    },
    {
     "data": {
      "text/plain": [
       "'success: content added from https://www.gov.ca.gov/2023/03/06/governor-newsom-announces-appointments-3-6-23/'"
      ]
     },
     "execution_count": 25,
     "metadata": {},
     "output_type": "execute_result"
    },
    {
     "data": {
      "text/plain": [
       "'success: content added from https://www.gov.ca.gov/2023/03/05/governor-newsom-meets-with-emergency-response-officials-receives-update-on-winter-storms/'"
      ]
     },
     "execution_count": 25,
     "metadata": {},
     "output_type": "execute_result"
    },
    {
     "data": {
      "text/plain": [
       "'success: content added from https://www.gov.ca.gov/2023/03/02/acting-governor-eleni-kounalakis-signs-legislation-to-support-states-covid-19-preparedness/'"
      ]
     },
     "execution_count": 25,
     "metadata": {},
     "output_type": "execute_result"
    },
    {
     "data": {
      "text/plain": [
       "'success: content added from https://www.gov.ca.gov/2023/03/02/photos-governor-newsom-visits-diablo-canyon-power-plant/'"
      ]
     },
     "execution_count": 25,
     "metadata": {},
     "output_type": "execute_result"
    },
    {
     "data": {
      "text/plain": [
       "'success: content added from https://www.gov.ca.gov/2023/03/02/more-time-to-file-state-taxes-for-californians-impacted-by-december-and-january-winter-storms/'"
      ]
     },
     "execution_count": 25,
     "metadata": {},
     "output_type": "execute_result"
    },
    {
     "data": {
      "text/plain": [
       "'success: content added from https://www.gov.ca.gov/2023/03/02/read-across-america-day/'"
      ]
     },
     "execution_count": 25,
     "metadata": {},
     "output_type": "execute_result"
    },
    {
     "data": {
      "text/plain": [
       "'success: content added from https://www.gov.ca.gov/2023/03/01/governor-newsom-proclaims-state-of-emergency-in-13-counties-due-to-winter-storms-activates-california-guard/'"
      ]
     },
     "execution_count": 25,
     "metadata": {},
     "output_type": "execute_result"
    },
    {
     "data": {
      "text/plain": [
       "'success: content added from https://www.gov.ca.gov/2023/03/01/governor-newsom-releases-2022-judicial-appointment-data/'"
      ]
     },
     "execution_count": 25,
     "metadata": {},
     "output_type": "execute_result"
    },
    {
     "data": {
      "text/plain": [
       "'success: content added from https://www.gov.ca.gov/2023/03/01/governor-newsom-announces-appointments-3-1-23/'"
      ]
     },
     "execution_count": 25,
     "metadata": {},
     "output_type": "execute_result"
    },
    {
     "data": {
      "text/plain": [
       "'success: content added from https://www.gov.ca.gov/2023/04/30/tomorrow-in-los-angeles-county-governor-newsom-to-highlight-californias-climate-progress/'"
      ]
     },
     "execution_count": 25,
     "metadata": {},
     "output_type": "execute_result"
    },
    {
     "data": {
      "text/plain": [
       "'success: content added from https://www.gov.ca.gov/2023/04/30/governor-newsom-proclaims-childrens-mental-health-awareness-week-2023/'"
      ]
     },
     "execution_count": 25,
     "metadata": {},
     "output_type": "execute_result"
    },
    {
     "data": {
      "text/plain": [
       "'success: content added from https://www.gov.ca.gov/2023/04/30/governor-newsom-proclaims-wildfire-preparedness-week-2023/'"
      ]
     },
     "execution_count": 25,
     "metadata": {},
     "output_type": "execute_result"
    },
    {
     "data": {
      "text/plain": [
       "'success: content added from https://www.gov.ca.gov/2023/04/29/librarian-love-letter/'"
      ]
     },
     "execution_count": 25,
     "metadata": {},
     "output_type": "execute_result"
    },
    {
     "data": {
      "text/plain": [
       "'success: content added from https://www.gov.ca.gov/2023/04/28/california-approves-worlds-first-regulation-to-phase-out-dirty-combustion-trucks-and-protect-public-health/'"
      ]
     },
     "execution_count": 25,
     "metadata": {},
     "output_type": "execute_result"
    },
    {
     "data": {
      "text/plain": [
       "'success: content added from https://www.gov.ca.gov/2023/04/28/governor-newsom-proclaims-arab-american-heritage-month-2023/'"
      ]
     },
     "execution_count": 25,
     "metadata": {},
     "output_type": "execute_result"
    },
    {
     "data": {
      "text/plain": [
       "'success: content added from https://www.gov.ca.gov/2023/04/28/sf-fentanyl-operation/'"
      ]
     },
     "execution_count": 25,
     "metadata": {},
     "output_type": "execute_result"
    },
    {
     "data": {
      "text/plain": [
       "'success: content added from https://www.gov.ca.gov/2023/04/27/california-announces-funding-for-projects-to-conserve-agricultural-land-and-fight-climate-change/'"
      ]
     },
     "execution_count": 25,
     "metadata": {},
     "output_type": "execute_result"
    },
    {
     "data": {
      "text/plain": [
       "'success: content added from https://www.gov.ca.gov/2023/04/27/governor-newsom-proclaims-workers-memorial-day-2023/'"
      ]
     },
     "execution_count": 25,
     "metadata": {},
     "output_type": "execute_result"
    },
    {
     "data": {
      "text/plain": [
       "'success: content added from https://www.gov.ca.gov/2023/04/26/governor-newsom-announces-appointments-4-26-23/'"
      ]
     },
     "execution_count": 25,
     "metadata": {},
     "output_type": "execute_result"
    },
    {
     "data": {
      "text/plain": [
       "'success: content added from https://www.gov.ca.gov/2023/04/25/governor-newsom-surveys-tulare-basin-flooding-highlights-state-support-for-ongoing-planning-and-response/'"
      ]
     },
     "execution_count": 25,
     "metadata": {},
     "output_type": "execute_result"
    },
    {
     "data": {
      "text/plain": [
       "'success: content added from https://www.gov.ca.gov/2023/04/25/governor-newsom-announces-appointments-4-25-23/'"
      ]
     },
     "execution_count": 25,
     "metadata": {},
     "output_type": "execute_result"
    },
    {
     "data": {
      "text/plain": [
       "'success: content added from https://www.gov.ca.gov/2023/04/25/today-governor-newsom-and-state-officials-provide-update-on-tulare-basin-flood-response/'"
      ]
     },
     "execution_count": 25,
     "metadata": {},
     "output_type": "execute_result"
    },
    {
     "data": {
      "text/plain": [
       "'success: content added from https://www.gov.ca.gov/2023/04/25/california-awards-millions-to-support-next-generation-of-behavioral-health-care-workers/'"
      ]
     },
     "execution_count": 25,
     "metadata": {},
     "output_type": "execute_result"
    },
    {
     "data": {
      "text/plain": [
       "'success: content added from https://www.gov.ca.gov/2023/04/24/governor-newsom-announces-690-million-for-public-transportation-projects/'"
      ]
     },
     "execution_count": 25,
     "metadata": {},
     "output_type": "execute_result"
    },
    {
     "data": {
      "text/plain": [
       "'success: content added from https://www.gov.ca.gov/2023/04/24/governor-newsom-proclaims-california-library-week/'"
      ]
     },
     "execution_count": 25,
     "metadata": {},
     "output_type": "execute_result"
    },
    {
     "data": {
      "text/plain": [
       "'success: content added from https://www.gov.ca.gov/2023/04/24/governor-newsom-proclaims-day-of-remembrance-of-the-armenian-genocide/'"
      ]
     },
     "execution_count": 25,
     "metadata": {},
     "output_type": "execute_result"
    },
    {
     "data": {
      "text/plain": [
       "'success: content added from https://www.gov.ca.gov/2023/04/23/recap-california-celebrates-earth-week/'"
      ]
     },
     "execution_count": 25,
     "metadata": {},
     "output_type": "execute_result"
    },
    {
     "data": {
      "text/plain": [
       "'success: content added from https://www.gov.ca.gov/2023/04/22/on-earth-day-first-partner-jennifer-siebel-newsom-works-to-grow-impact-of-californias-farm-to-school-program/'"
      ]
     },
     "execution_count": 25,
     "metadata": {},
     "output_type": "execute_result"
    },
    {
     "data": {
      "text/plain": [
       "'success: content added from https://www.gov.ca.gov/2023/04/21/governor-newsom-on-supreme-courts-stay-of-extreme-medication-abortion-ruling/'"
      ]
     },
     "execution_count": 25,
     "metadata": {},
     "output_type": "execute_result"
    },
    {
     "data": {
      "text/plain": [
       "'success: content added from https://www.gov.ca.gov/2023/04/21/public-safety-partnership-sf/'"
      ]
     },
     "execution_count": 25,
     "metadata": {},
     "output_type": "execute_result"
    },
    {
     "data": {
      "text/plain": [
       "'success: content added from https://www.gov.ca.gov/2023/04/21/heres-how-californians-can-save-money-and-fight-climate-change/'"
      ]
     },
     "execution_count": 25,
     "metadata": {},
     "output_type": "execute_result"
    },
    {
     "data": {
      "text/plain": [
       "'success: content added from https://www.gov.ca.gov/2023/04/21/california-surpasses-1-5-million-zevs-goal-two-years-ahead-of-schedule/'"
      ]
     },
     "execution_count": 25,
     "metadata": {},
     "output_type": "execute_result"
    },
    {
     "data": {
      "text/plain": [
       "'success: content added from https://www.gov.ca.gov/2023/04/20/governor-newsom-expands-storm-state-of-emergency-to-four-additional-counties/'"
      ]
     },
     "execution_count": 25,
     "metadata": {},
     "output_type": "execute_result"
    },
    {
     "data": {
      "text/plain": [
       "'success: content added from https://www.gov.ca.gov/2023/04/20/california-to-deliver-100-water-supply-allocation/'"
      ]
     },
     "execution_count": 25,
     "metadata": {},
     "output_type": "execute_result"
    },
    {
     "data": {
      "text/plain": [
       "'success: content added from https://www.gov.ca.gov/2023/04/19/california-invests-in-desalination-projects-to-expand-water-supplies/'"
      ]
     },
     "execution_count": 25,
     "metadata": {},
     "output_type": "execute_result"
    },
    {
     "data": {
      "text/plain": [
       "'success: content added from https://www.gov.ca.gov/2023/04/18/ahead-of-likely-u-s-supreme-court-decision-governor-newsom-announces-new-efforts-to-protect-medication-abortion-access-in-california/'"
      ]
     },
     "execution_count": 25,
     "metadata": {},
     "output_type": "execute_result"
    },
    {
     "data": {
      "text/plain": [
       "'success: content added from https://www.gov.ca.gov/2023/04/18/california-invested-1-3-billion-in-nearly-19500-climate-projects-in-2022/'"
      ]
     },
     "execution_count": 25,
     "metadata": {},
     "output_type": "execute_result"
    },
    {
     "data": {
      "text/plain": [
       "'success: content added from https://www.gov.ca.gov/2023/04/18/today-in-sacramento-governor-newsom-and-legislative-and-reproductive-rights-leaders-highlight-efforts-to-protect-access-to-reproductive-freedom/'"
      ]
     },
     "execution_count": 25,
     "metadata": {},
     "output_type": "execute_result"
    },
    {
     "data": {
      "text/plain": [
       "'success: content added from https://www.gov.ca.gov/2023/04/13/governor-newsom-on-biden-administration-announcement-expanding-health-care-access-to-daca-recipients/'"
      ]
     },
     "execution_count": 25,
     "metadata": {},
     "output_type": "execute_result"
    },
    {
     "data": {
      "text/plain": [
       "'success: content added from https://www.gov.ca.gov/2023/04/12/governor-newsom-statement-on-biden-administrations-new-proposed-emissions-standards/'"
      ]
     },
     "execution_count": 25,
     "metadata": {},
     "output_type": "execute_result"
    },
    {
     "data": {
      "text/plain": [
       "'success: content added from https://www.gov.ca.gov/2023/04/11/icymi-a-california-law-limiting-gas-price-gouging-is-popular-with-democrats-and-republicans/'"
      ]
     },
     "execution_count": 25,
     "metadata": {},
     "output_type": "execute_result"
    },
    {
     "data": {
      "text/plain": [
       "'success: content added from https://www.gov.ca.gov/2023/04/10/california-sues-huntington-beach-for-violating-state-housing-element-law/'"
      ]
     },
     "execution_count": 25,
     "metadata": {},
     "output_type": "execute_result"
    },
    {
     "data": {
      "text/plain": [
       "'success: content added from https://www.gov.ca.gov/2023/04/10/california-announces-emergency-stockpile-of-abortion-medication-defending-against-extreme-texas-court-ruling/'"
      ]
     },
     "execution_count": 25,
     "metadata": {},
     "output_type": "execute_result"
    },
    {
     "data": {
      "text/plain": [
       "'success: content added from https://www.gov.ca.gov/2023/04/10/acting-governor-eleni-kounalakis-proclaims-dolores-huerta-day-2023/'"
      ]
     },
     "execution_count": 25,
     "metadata": {},
     "output_type": "execute_result"
    },
    {
     "data": {
      "text/plain": [
       "'success: content added from https://www.gov.ca.gov/2023/04/07/governor-newsom-statement-on-texas-judge-restricting-access-to-medication-abortion/'"
      ]
     },
     "execution_count": 25,
     "metadata": {},
     "output_type": "execute_result"
    },
    {
     "data": {
      "text/plain": [
       "'success: content added from https://www.gov.ca.gov/2023/04/06/newsom-administration-requests-federal-fishery-disaster-ahead-of-salmon-season-closure/'"
      ]
     },
     "execution_count": 25,
     "metadata": {},
     "output_type": "execute_result"
    },
    {
     "data": {
      "text/plain": [
       "'success: content added from https://www.gov.ca.gov/2023/04/05/governor-newsom-announces-11-new-jurisdictions-to-receive-a-prohousing-designation-for-accelerating-housing-production/'"
      ]
     },
     "execution_count": 25,
     "metadata": {},
     "output_type": "execute_result"
    },
    {
     "data": {
      "text/plain": [
       "'success: content added from https://www.gov.ca.gov/2023/04/05/californias-progress-on-protecting-communities-from-climate-change/'"
      ]
     },
     "execution_count": 25,
     "metadata": {},
     "output_type": "execute_result"
    },
    {
     "data": {
      "text/plain": [
       "'success: content added from https://www.gov.ca.gov/2023/04/03/california-secures-presidential-major-disaster-declaration-to-support-storm-response-and-recovery/'"
      ]
     },
     "execution_count": 25,
     "metadata": {},
     "output_type": "execute_result"
    },
    {
     "data": {
      "text/plain": [
       "'success: content added from https://www.gov.ca.gov/2023/04/03/icymi-in-two-weeks-california-beat-big-oil-and-doubled-down-on-zev-future/'"
      ]
     },
     "execution_count": 25,
     "metadata": {},
     "output_type": "execute_result"
    },
    {
     "data": {
      "text/plain": [
       "'success: content added from https://www.gov.ca.gov/2023/05/30/governor-newsom-grants-executive-clemency/'"
      ]
     },
     "execution_count": 25,
     "metadata": {},
     "output_type": "execute_result"
    },
    {
     "data": {
      "text/plain": [
       "'success: content added from https://www.gov.ca.gov/2023/05/29/governor-newsom-proclaims-memorial-day-2023/'"
      ]
     },
     "execution_count": 25,
     "metadata": {},
     "output_type": "execute_result"
    },
    {
     "data": {
      "text/plain": [
       "'success: content added from https://www.gov.ca.gov/2023/05/26/governor-newsom-announces-new-calvet-secretary/'"
      ]
     },
     "execution_count": 25,
     "metadata": {},
     "output_type": "execute_result"
    },
    {
     "data": {
      "text/plain": [
       "'success: content added from https://www.gov.ca.gov/2023/05/26/governor-and-first-partner-visit-va-campus-meet-with-california-veterans/'"
      ]
     },
     "execution_count": 25,
     "metadata": {},
     "output_type": "execute_result"
    },
    {
     "data": {
      "text/plain": [
       "'success: content added from https://www.gov.ca.gov/2023/05/26/california-announces-nearly-200-million-to-build-resilience-centers-to-protect-communities-from-extreme-heat-other-climate-impacts/'"
      ]
     },
     "execution_count": 25,
     "metadata": {},
     "output_type": "execute_result"
    },
    {
     "data": {
      "text/plain": [
       "'success: content added from https://www.gov.ca.gov/2023/05/25/governor-newsom-signs-tribal-state-gaming-compacts/'"
      ]
     },
     "execution_count": 25,
     "metadata": {},
     "output_type": "execute_result"
    },
    {
     "data": {
      "text/plain": [
       "'success: content added from https://www.gov.ca.gov/2023/05/25/governor-newsom-updates-the-roadmap-to-californias-clean-energy-future/'"
      ]
     },
     "execution_count": 25,
     "metadata": {},
     "output_type": "execute_result"
    },
    {
     "data": {
      "text/plain": [
       "'success: content added from https://www.gov.ca.gov/2023/05/25/governor-newsom-statement-on-us-supreme-court-decision-to-roll-back-protections-for-waterways-and-wetlands/'"
      ]
     },
     "execution_count": 25,
     "metadata": {},
     "output_type": "execute_result"
    },
    {
     "data": {
      "text/plain": [
       "'success: content added from https://www.gov.ca.gov/2023/05/24/tomorrow-in-contra-costa-county-governor-newsom-to-outline-states-clean-energy-plan/'"
      ]
     },
     "execution_count": 25,
     "metadata": {},
     "output_type": "execute_result"
    },
    {
     "data": {
      "text/plain": [
       "'success: content added from https://www.gov.ca.gov/2023/05/24/california-awards-nearly-40-million-for-communities-to-build-industries-of-the-future/'"
      ]
     },
     "execution_count": 25,
     "metadata": {},
     "output_type": "execute_result"
    },
    {
     "data": {
      "text/plain": [
       "'success: content added from https://www.gov.ca.gov/2023/05/23/governor-newsom-announces-appointments-23/'"
      ]
     },
     "execution_count": 25,
     "metadata": {},
     "output_type": "execute_result"
    },
    {
     "data": {
      "text/plain": [
       "'success: content added from https://www.gov.ca.gov/2023/05/23/governor-newsom-statement-on-super-bowl-returning-to-california-in-2026/'"
      ]
     },
     "execution_count": 25,
     "metadata": {},
     "output_type": "execute_result"
    },
    {
     "data": {
      "text/plain": [
       "'success: content added from https://www.gov.ca.gov/2023/05/22/governor-newsom-announces-appointments-22/'"
      ]
     },
     "execution_count": 25,
     "metadata": {},
     "output_type": "execute_result"
    },
    {
     "data": {
      "text/plain": [
       "'success: content added from https://www.gov.ca.gov/2023/05/22/governor-newsom-signs-legislation-8/'"
      ]
     },
     "execution_count": 25,
     "metadata": {},
     "output_type": "execute_result"
    },
    {
     "data": {
      "text/plain": [
       "'success: content added from https://www.gov.ca.gov/2023/05/22/governor-newsom-proclaims-harvey-milk-day/'"
      ]
     },
     "execution_count": 25,
     "metadata": {},
     "output_type": "execute_result"
    },
    {
     "data": {
      "text/plain": [
       "'success: content added from https://www.gov.ca.gov/2023/05/22/arizona-california-and-nevada-governors-announce-lower-basin-plan-to-protect-colorado-river/'"
      ]
     },
     "execution_count": 25,
     "metadata": {},
     "output_type": "execute_result"
    },
    {
     "data": {
      "text/plain": [
       "'success: content added from https://www.gov.ca.gov/2023/05/19/governor-newsom-announces-appointments-5-19-23/'"
      ]
     },
     "execution_count": 25,
     "metadata": {},
     "output_type": "execute_result"
    },
    {
     "data": {
      "text/plain": [
       "'success: content added from https://www.gov.ca.gov/2023/05/19/governor-newsom-announces-judicial-appointments-5-19-23/'"
      ]
     },
     "execution_count": 25,
     "metadata": {},
     "output_type": "execute_result"
    },
    {
     "data": {
      "text/plain": [
       "'success: content added from https://www.gov.ca.gov/2023/05/19/governor-newsom-announces-567-million-for-new-affordable-housing/'"
      ]
     },
     "execution_count": 25,
     "metadata": {},
     "output_type": "execute_result"
    },
    {
     "data": {
      "text/plain": [
       "'success: content added from https://www.gov.ca.gov/2023/05/19/governor-newsom-unveils-new-proposals-to-build-californias-clean-future-faster/'"
      ]
     },
     "execution_count": 25,
     "metadata": {},
     "output_type": "execute_result"
    },
    {
     "data": {
      "text/plain": [
       "'success: content added from https://www.gov.ca.gov/2023/05/18/governor-newsom-announces-californias-approval-of-750-5-million-in-grants-for-community-schools/'"
      ]
     },
     "execution_count": 25,
     "metadata": {},
     "output_type": "execute_result"
    },
    {
     "data": {
      "text/plain": [
       "'success: content added from https://www.gov.ca.gov/2023/05/18/governor-newsom-welcomes-back-thousands-of-good-paying-disney-jobs-after-company-pulls-plug-on-1-billion-development-in-florida/'"
      ]
     },
     "execution_count": 25,
     "metadata": {},
     "output_type": "execute_result"
    },
    {
     "data": {
      "text/plain": [
       "'success: content added from https://www.gov.ca.gov/2023/05/18/california-adds-nearly-1000-square-miles-of-conserved-land-in-one-year-making-significant-progress-toward-30-goal/'"
      ]
     },
     "execution_count": 25,
     "metadata": {},
     "output_type": "execute_result"
    },
    {
     "data": {
      "text/plain": [
       "'success: content added from https://www.gov.ca.gov/2023/05/18/governor-newsom-announces-appointments-5-18-23/'"
      ]
     },
     "execution_count": 25,
     "metadata": {},
     "output_type": "execute_result"
    },
    {
     "data": {
      "text/plain": [
       "'success: content added from https://www.gov.ca.gov/2023/05/17/governor-newsom-signs-executive-order-to-support-ongoing-central-valley-flood-response/'"
      ]
     },
     "execution_count": 25,
     "metadata": {},
     "output_type": "execute_result"
    },
    {
     "data": {
      "text/plain": [
       "'success: content added from https://www.gov.ca.gov/2023/05/17/california-awards-23-3-million-for-students-to-become-substance-use-disorder-counselors/'"
      ]
     },
     "execution_count": 25,
     "metadata": {},
     "output_type": "execute_result"
    },
    {
     "data": {
      "text/plain": [
       "'success: content added from https://www.gov.ca.gov/2023/05/16/governor-newsom-announces-agreement-to-reopen-yuba-river-to-salmon-and-launch-river-restoration/'"
      ]
     },
     "execution_count": 25,
     "metadata": {},
     "output_type": "execute_result"
    },
    {
     "data": {
      "text/plain": [
       "'success: content added from https://www.gov.ca.gov/2023/05/15/governor-newsom-takes-action-to-support-solano-county-storm-recovery/'"
      ]
     },
     "execution_count": 25,
     "metadata": {},
     "output_type": "execute_result"
    },
    {
     "data": {
      "text/plain": [
       "'success: content added from https://www.gov.ca.gov/2023/05/15/governor-newsom-statement-on-passing-of-gloria-molina/'"
      ]
     },
     "execution_count": 25,
     "metadata": {},
     "output_type": "execute_result"
    },
    {
     "data": {
      "text/plain": [
       "'success: content added from https://www.gov.ca.gov/2023/05/15/governor-newsom-signs-early-action-bills-including-support-for-california-hospitals/'"
      ]
     },
     "execution_count": 25,
     "metadata": {},
     "output_type": "execute_result"
    },
    {
     "data": {
      "text/plain": [
       "'success: content added from https://www.gov.ca.gov/2023/05/15/governor-newsom-honors-fallen-riverside-county-sheriffs-deputy-brett-harris/'"
      ]
     },
     "execution_count": 25,
     "metadata": {},
     "output_type": "execute_result"
    },
    {
     "data": {
      "text/plain": [
       "'success: content added from https://www.gov.ca.gov/2023/05/12/governor-newsom-releases-balanced-revised-budget-plan/'"
      ]
     },
     "execution_count": 25,
     "metadata": {},
     "output_type": "execute_result"
    },
    {
     "data": {
      "text/plain": [
       "'success: content added from https://www.gov.ca.gov/2023/05/11/governor-newsom-announces-new-flood-investment-proposals/'"
      ]
     },
     "execution_count": 25,
     "metadata": {},
     "output_type": "execute_result"
    },
    {
     "data": {
      "text/plain": [
       "'success: content added from https://www.gov.ca.gov/2023/05/11/california-launches-new-lifesaving-tools-and-resources-for-substance-use-prevention-treatment-and-recovery/'"
      ]
     },
     "execution_count": 25,
     "metadata": {},
     "output_type": "execute_result"
    },
    {
     "data": {
      "text/plain": [
       "'success: content added from https://www.gov.ca.gov/2023/05/09/what-theyre-saying-state-and-community-leaders-praise-launch-of-new-hotline-and-resource-network-to-combat-hate-across-california/'"
      ]
     },
     "execution_count": 25,
     "metadata": {},
     "output_type": "execute_result"
    },
    {
     "data": {
      "text/plain": [
       "'success: content added from https://www.gov.ca.gov/2023/05/09/friday-governor-newsom-to-release-revised-budget-plan-in-sacramento-2/'"
      ]
     },
     "execution_count": 25,
     "metadata": {},
     "output_type": "execute_result"
    },
    {
     "data": {
      "text/plain": [
       "'success: content added from https://www.gov.ca.gov/2023/05/08/california-awards-millions-to-enhance-security-for-reproductive-health-facilities/'"
      ]
     },
     "execution_count": 25,
     "metadata": {},
     "output_type": "execute_result"
    },
    {
     "data": {
      "text/plain": [
       "'success: content added from https://www.gov.ca.gov/2023/05/06/governor-newsom-proclaims-jewish-american-heritage-month/'"
      ]
     },
     "execution_count": 25,
     "metadata": {},
     "output_type": "execute_result"
    },
    {
     "data": {
      "text/plain": [
       "'success: content added from https://www.gov.ca.gov/2023/05/05/chp-150-million-operation/'"
      ]
     },
     "execution_count": 25,
     "metadata": {},
     "output_type": "execute_result"
    },
    {
     "data": {
      "text/plain": [
       "'success: content added from https://www.gov.ca.gov/2023/05/05/san-quentin-transformation-advisory-council/'"
      ]
     },
     "execution_count": 25,
     "metadata": {},
     "output_type": "execute_result"
    },
    {
     "data": {
      "text/plain": [
       "'success: content added from https://www.gov.ca.gov/2023/05/05/governor-newsom-proclaims-asian-american-and-pacific-islander-heritage-month-2023/'"
      ]
     },
     "execution_count": 25,
     "metadata": {},
     "output_type": "execute_result"
    },
    {
     "data": {
      "text/plain": [
       "'success: content added from https://www.gov.ca.gov/2023/05/04/governor-newsom-announces-the-launch-of-ca-vs-hate-a-new-statewide-hotline-to-report-hate-acts-in-california/'"
      ]
     },
     "execution_count": 25,
     "metadata": {},
     "output_type": "execute_result"
    },
    {
     "data": {
      "text/plain": [
       "'success: content added from https://www.gov.ca.gov/2023/05/04/governor-newsom-proclaims-day-of-prayer-2023/'"
      ]
     },
     "execution_count": 25,
     "metadata": {},
     "output_type": "execute_result"
    },
    {
     "data": {
      "text/plain": [
       "'success: content added from https://www.gov.ca.gov/2023/05/03/top-6-ways-california-is-preparing-for-wildfires/'"
      ]
     },
     "execution_count": 25,
     "metadata": {},
     "output_type": "execute_result"
    },
    {
     "data": {
      "text/plain": [
       "'success: content added from https://www.gov.ca.gov/2023/05/02/nation-leading-calenviroscreen-marks-a-decade-of-prioritizing-vulnerable-communities/'"
      ]
     },
     "execution_count": 25,
     "metadata": {},
     "output_type": "execute_result"
    },
    {
     "data": {
      "text/plain": [
       "'success: content added from https://www.gov.ca.gov/2023/05/02/california-awards-nearly-17-million-for-youth-substance-use-prevention/'"
      ]
     },
     "execution_count": 25,
     "metadata": {},
     "output_type": "execute_result"
    },
    {
     "data": {
      "text/plain": [
       "'success: content added from https://www.gov.ca.gov/2023/05/02/governor-newsom-announces-appointments-5-2-23/'"
      ]
     },
     "execution_count": 25,
     "metadata": {},
     "output_type": "execute_result"
    },
    {
     "data": {
      "text/plain": [
       "'success: content added from https://www.gov.ca.gov/2023/05/01/at-former-petroleum-refinery-governor-newsom-showcases-californias-clean-fuels-and-clean-energy-jobs-revolution/'"
      ]
     },
     "execution_count": 25,
     "metadata": {},
     "output_type": "execute_result"
    },
    {
     "data": {
      "text/plain": [
       "'success: content added from https://www.gov.ca.gov/2023/05/01/governor-newsom-proclaims-small-business-month-2023/'"
      ]
     },
     "execution_count": 25,
     "metadata": {},
     "output_type": "execute_result"
    },
    {
     "data": {
      "text/plain": [
       "'success: content added from https://www.gov.ca.gov/2023/05/01/governor-newsom-and-attorney-general-bonta-announce-a-lawsuit-against-the-city-of-elk-grove-for-violating-state-fair-housing-laws/'"
      ]
     },
     "execution_count": 25,
     "metadata": {},
     "output_type": "execute_result"
    },
    {
     "data": {
      "text/plain": [
       "'success: content added from https://www.gov.ca.gov/2023/05/01/governor-newsom-proclaims-older-californians-month-2023/'"
      ]
     },
     "execution_count": 25,
     "metadata": {},
     "output_type": "execute_result"
    },
    {
     "data": {
      "text/plain": [
       "'success: content added from https://www.gov.ca.gov/2023/05/01/governor-newsom-statement-on-first-republic-bank/'"
      ]
     },
     "execution_count": 25,
     "metadata": {},
     "output_type": "execute_result"
    },
    {
     "data": {
      "text/plain": [
       "'success: content added from https://www.gov.ca.gov/2023/06/30/governor-newsom-announces-appointments-6-30-23/'"
      ]
     },
     "execution_count": 25,
     "metadata": {},
     "output_type": "execute_result"
    },
    {
     "data": {
      "text/plain": [
       "'success: content added from https://www.gov.ca.gov/2023/06/30/what-theyre-saying-governor-newsom-signs-budget-deal-providing-5-1-billion-for-local-transportation/'"
      ]
     },
     "execution_count": 25,
     "metadata": {},
     "output_type": "execute_result"
    },
    {
     "data": {
      "text/plain": [
       "'success: content added from https://www.gov.ca.gov/2023/06/30/ahead-of-fourth-of-july-weekend-heres-how-california-is-working-to-keep-people-safe-from-extreme-heat/'"
      ]
     },
     "execution_count": 25,
     "metadata": {},
     "output_type": "execute_result"
    },
    {
     "data": {
      "text/plain": [
       "'success: content added from https://www.gov.ca.gov/2023/06/30/100-new-officers/'"
      ]
     },
     "execution_count": 25,
     "metadata": {},
     "output_type": "execute_result"
    },
    {
     "data": {
      "text/plain": [
       "'success: content added from https://www.gov.ca.gov/2023/06/30/governor-newsom-signs-legislation-6-30-23/'"
      ]
     },
     "execution_count": 25,
     "metadata": {},
     "output_type": "execute_result"
    },
    {
     "data": {
      "text/plain": [
       "'success: content added from https://www.gov.ca.gov/2023/06/30/governor-newsom-issues-statement-on-supreme-courts-decision-on-anti-discrimination-case/'"
      ]
     },
     "execution_count": 25,
     "metadata": {},
     "output_type": "execute_result"
    },
    {
     "data": {
      "text/plain": [
       "'success: content added from https://www.gov.ca.gov/2023/06/29/governor-newsom-announces-higher-education-appointments-6-29-23/'"
      ]
     },
     "execution_count": 25,
     "metadata": {},
     "output_type": "execute_result"
    },
    {
     "data": {
      "text/plain": [
       "'success: content added from https://www.gov.ca.gov/2023/06/29/governor-newsom-signs-legislation-6-29-23/'"
      ]
     },
     "execution_count": 25,
     "metadata": {},
     "output_type": "execute_result"
    },
    {
     "data": {
      "text/plain": [
       "'success: content added from https://www.gov.ca.gov/2023/06/29/governor-newsom-highlights-new-ai-satellites-tech-and-aircraft-keeping-californians-safer-this-wildfire-season/'"
      ]
     },
     "execution_count": 25,
     "metadata": {},
     "output_type": "execute_result"
    },
    {
     "data": {
      "text/plain": [
       "'success: content added from https://www.gov.ca.gov/2023/06/29/scotus-affirmative-action/'"
      ]
     },
     "execution_count": 25,
     "metadata": {},
     "output_type": "execute_result"
    },
    {
     "data": {
      "text/plain": [
       "'success: content added from https://www.gov.ca.gov/2023/06/29/chp-expansion/'"
      ]
     },
     "execution_count": 25,
     "metadata": {},
     "output_type": "execute_result"
    },
    {
     "data": {
      "text/plain": [
       "'success: content added from https://www.gov.ca.gov/2023/06/28/governor-newsom-announces-appointments-6-28-23/'"
      ]
     },
     "execution_count": 25,
     "metadata": {},
     "output_type": "execute_result"
    },
    {
     "data": {
      "text/plain": [
       "'success: content added from https://www.gov.ca.gov/2023/06/28/tulare-lake-receding-due-to-coordinated-action-favorable-weather/'"
      ]
     },
     "execution_count": 25,
     "metadata": {},
     "output_type": "execute_result"
    },
    {
     "data": {
      "text/plain": [
       "'success: content added from https://www.gov.ca.gov/2023/06/28/governor-newsom-attorney-general-bonta-and-carb-lead-coalition-in-defense-of-californias-truck-emissions-regulations/'"
      ]
     },
     "execution_count": 25,
     "metadata": {},
     "output_type": "execute_result"
    },
    {
     "data": {
      "text/plain": [
       "'success: content added from https://www.gov.ca.gov/2023/06/27/governor-newsom-signs-budget-legislation-6-27-23/'"
      ]
     },
     "execution_count": 25,
     "metadata": {},
     "output_type": "execute_result"
    },
    {
     "data": {
      "text/plain": [
       "'success: content added from https://www.gov.ca.gov/2023/06/27/governor-newsom-announces-judicial-appointments-6-27-23/'"
      ]
     },
     "execution_count": 25,
     "metadata": {},
     "output_type": "execute_result"
    },
    {
     "data": {
      "text/plain": [
       "'success: content added from https://www.gov.ca.gov/2023/06/26/budget-agreement-2023-24/'"
      ]
     },
     "execution_count": 25,
     "metadata": {},
     "output_type": "execute_result"
    },
    {
     "data": {
      "text/plain": [
       "'success: content added from https://www.gov.ca.gov/2023/06/26/california-gets-nearly-2-billion-in-federal-funding-to-boost-high-speed-internet-access/'"
      ]
     },
     "execution_count": 25,
     "metadata": {},
     "output_type": "execute_result"
    },
    {
     "data": {
      "text/plain": [
       "'success: content added from https://www.gov.ca.gov/2023/06/26/nations-first-gas-price-gouging-law-in-effect/'"
      ]
     },
     "execution_count": 25,
     "metadata": {},
     "output_type": "execute_result"
    },
    {
     "data": {
      "text/plain": [
       "'success: content added from https://www.gov.ca.gov/2023/06/24/governor-newsom-and-first-partner-siebel-newsom-release-statements-one-year-after-the-extreme-supreme-court-overturned-roe-v-wade/'"
      ]
     },
     "execution_count": 25,
     "metadata": {},
     "output_type": "execute_result"
    },
    {
     "data": {
      "text/plain": [
       "'success: content added from https://www.gov.ca.gov/2023/06/23/governor-newsom-signs-legislation-6-23-23/'"
      ]
     },
     "execution_count": 25,
     "metadata": {},
     "output_type": "execute_result"
    },
    {
     "data": {
      "text/plain": [
       "'success: content added from https://www.gov.ca.gov/2023/06/23/governor-newsom-announces-appointments-6-23-23/'"
      ]
     },
     "execution_count": 25,
     "metadata": {},
     "output_type": "execute_result"
    },
    {
     "data": {
      "text/plain": [
       "'success: content added from https://www.gov.ca.gov/2023/06/23/california-delivers-1-49-billion-in-behavioral-health-community-housing-grants/'"
      ]
     },
     "execution_count": 25,
     "metadata": {},
     "output_type": "execute_result"
    },
    {
     "data": {
      "text/plain": [
       "'success: content added from https://www.gov.ca.gov/2023/06/20/governor-newsom-legislative-partners-unveil-transformation-of-californias-mental-health-services-act/'"
      ]
     },
     "execution_count": 25,
     "metadata": {},
     "output_type": "execute_result"
    },
    {
     "data": {
      "text/plain": [
       "'success: content added from https://www.gov.ca.gov/2023/06/19/governor-newsom-welcomes-president-biden-back-to-california-highlights-new-investments-in-climate-action-and-clean-energy/'"
      ]
     },
     "execution_count": 25,
     "metadata": {},
     "output_type": "execute_result"
    },
    {
     "data": {
      "text/plain": [
       "'success: content added from https://www.gov.ca.gov/2023/06/17/governor-newsom-proclaims-juneteenth-day-of-observance-2/'"
      ]
     },
     "execution_count": 25,
     "metadata": {},
     "output_type": "execute_result"
    },
    {
     "data": {
      "text/plain": [
       "'success: content added from https://www.gov.ca.gov/2023/06/16/governor-newsom-signs-legislation-6-16-23/'"
      ]
     },
     "execution_count": 25,
     "metadata": {},
     "output_type": "execute_result"
    },
    {
     "data": {
      "text/plain": [
       "'success: content added from https://www.gov.ca.gov/2023/06/16/sf-operation-overdrive/'"
      ]
     },
     "execution_count": 25,
     "metadata": {},
     "output_type": "execute_result"
    },
    {
     "data": {
      "text/plain": [
       "'success: content added from https://www.gov.ca.gov/2023/06/16/governor-newsom-takes-action-to-support-ongoing-storm-recovery-6-16-23/'"
      ]
     },
     "execution_count": 25,
     "metadata": {},
     "output_type": "execute_result"
    },
    {
     "data": {
      "text/plain": [
       "'success: content added from https://www.gov.ca.gov/2023/06/16/california-awards-14-4-million-to-boost-the-states-behavioral-health-workforce/'"
      ]
     },
     "execution_count": 25,
     "metadata": {},
     "output_type": "execute_result"
    },
    {
     "data": {
      "text/plain": [
       "'success: content added from https://www.gov.ca.gov/2023/06/15/uc-berkeley-chancellor-carol-christ/'"
      ]
     },
     "execution_count": 25,
     "metadata": {},
     "output_type": "execute_result"
    },
    {
     "data": {
      "text/plain": [
       "'success: content added from https://www.gov.ca.gov/2023/06/15/governor-newsom-proclaims-california-state-parks-week-2023/'"
      ]
     },
     "execution_count": 25,
     "metadata": {},
     "output_type": "execute_result"
    },
    {
     "data": {
      "text/plain": [
       "'success: content added from https://www.gov.ca.gov/2023/06/15/june-sf-operation-update/'"
      ]
     },
     "execution_count": 25,
     "metadata": {},
     "output_type": "execute_result"
    },
    {
     "data": {
      "text/plain": [
       "'success: content added from https://www.gov.ca.gov/2023/06/14/california-awards-nearly-200-million-to-move-7300-people-out-of-encampments-and-into-housing/'"
      ]
     },
     "execution_count": 25,
     "metadata": {},
     "output_type": "execute_result"
    },
    {
     "data": {
      "text/plain": [
       "'success: content added from https://www.gov.ca.gov/2023/06/14/governor-newsom-celebrates-pride-highlights-disneyland-resorts-investments-in-anaheim/'"
      ]
     },
     "execution_count": 25,
     "metadata": {},
     "output_type": "execute_result"
    },
    {
     "data": {
      "text/plain": [
       "'success: content added from https://www.gov.ca.gov/2023/06/13/governor-newsom-announces-appointments-6-13-23/'"
      ]
     },
     "execution_count": 25,
     "metadata": {},
     "output_type": "execute_result"
    },
    {
     "data": {
      "text/plain": [
       "'success: content added from https://www.gov.ca.gov/2023/06/12/governor-newsom-announces-appointments-6-12-23/'"
      ]
     },
     "execution_count": 25,
     "metadata": {},
     "output_type": "execute_result"
    },
    {
     "data": {
      "text/plain": [
       "'success: content added from https://www.gov.ca.gov/2023/06/12/28th-wtas/'"
      ]
     },
     "execution_count": 25,
     "metadata": {},
     "output_type": "execute_result"
    },
    {
     "data": {
      "text/plain": [
       "'success: content added from https://www.gov.ca.gov/2023/06/09/top-4-takeaways-governor-newsoms-proposals-to-build-more-faster-heard-in-the-legislature/'"
      ]
     },
     "execution_count": 25,
     "metadata": {},
     "output_type": "execute_result"
    },
    {
     "data": {
      "text/plain": [
       "'success: content added from https://www.gov.ca.gov/2023/06/09/governor-newsom-announces-appointments-6-9-23/'"
      ]
     },
     "execution_count": 25,
     "metadata": {},
     "output_type": "execute_result"
    },
    {
     "data": {
      "text/plain": [
       "'success: content added from https://www.gov.ca.gov/2023/06/08/governor-newsom-signs-tribal-state-gaming-compact-6-8-23/'"
      ]
     },
     "execution_count": 25,
     "metadata": {},
     "output_type": "execute_result"
    },
    {
     "data": {
      "text/plain": [
       "'success: content added from https://www.gov.ca.gov/2023/06/08/california-announces-288-million-for-drought-and-flood-projects/'"
      ]
     },
     "execution_count": 25,
     "metadata": {},
     "output_type": "execute_result"
    },
    {
     "data": {
      "text/plain": [
       "'success: content added from https://www.gov.ca.gov/2023/06/08/28th-amendment/'"
      ]
     },
     "execution_count": 25,
     "metadata": {},
     "output_type": "execute_result"
    },
    {
     "data": {
      "text/plain": [
       "'success: content added from https://www.gov.ca.gov/2023/06/07/temecula-school-board/'"
      ]
     },
     "execution_count": 25,
     "metadata": {},
     "output_type": "execute_result"
    },
    {
     "data": {
      "text/plain": [
       "'success: content added from https://www.gov.ca.gov/2023/06/07/governor-newsom-issues-statement-on-violence-at-glendale-school-board-meeting/'"
      ]
     },
     "execution_count": 25,
     "metadata": {},
     "output_type": "execute_result"
    },
    {
     "data": {
      "text/plain": [
       "'success: content added from https://www.gov.ca.gov/2023/06/07/as-other-states-ban-books-first-partner-siebel-newsoms-summer-book-club-encourages-california-youth-to-read-a-variety-of-diverse-stories/'"
      ]
     },
     "execution_count": 25,
     "metadata": {},
     "output_type": "execute_result"
    },
    {
     "data": {
      "text/plain": [
       "'success: content added from https://www.gov.ca.gov/2023/06/06/governor-newsom-announces-statewide-expansion-of-dolly-partons-imagination-library-to-provide-universal-access-to-free-books-for-young-children/'"
      ]
     },
     "execution_count": 25,
     "metadata": {},
     "output_type": "execute_result"
    },
    {
     "data": {
      "text/plain": [
       "'success: content added from https://www.gov.ca.gov/2023/06/06/governor-newsom-proclaims-immigrant-heritage-month-2023/'"
      ]
     },
     "execution_count": 25,
     "metadata": {},
     "output_type": "execute_result"
    },
    {
     "data": {
      "text/plain": [
       "'success: content added from https://www.gov.ca.gov/2023/06/05/during-national-gun-violence-awareness-month-governor-newsom-launches-gunsafety-ca-gov/'"
      ]
     },
     "execution_count": 25,
     "metadata": {},
     "output_type": "execute_result"
    },
    {
     "data": {
      "text/plain": [
       "'success: content added from https://www.gov.ca.gov/2023/06/05/free-job-training-and-incentives-now-available-for-california-caregivers/'"
      ]
     },
     "execution_count": 25,
     "metadata": {},
     "output_type": "execute_result"
    },
    {
     "data": {
      "text/plain": [
       "'success: content added from https://www.gov.ca.gov/2023/06/03/governor-newsom-statement-on-migrant-arrivals-in-california/'"
      ]
     },
     "execution_count": 25,
     "metadata": {},
     "output_type": "execute_result"
    },
    {
     "data": {
      "text/plain": [
       "'success: content added from https://www.gov.ca.gov/2023/06/01/what-theyre-saying-governor-newsoms-proposals-to-build-more-faster/'"
      ]
     },
     "execution_count": 25,
     "metadata": {},
     "output_type": "execute_result"
    },
    {
     "data": {
      "text/plain": [
       "'success: content added from https://www.gov.ca.gov/2023/06/01/governor-newsom-announces-16-million-to-support-farmworker-homeownership/'"
      ]
     },
     "execution_count": 25,
     "metadata": {},
     "output_type": "execute_result"
    },
    {
     "data": {
      "text/plain": [
       "'success: content added from https://www.gov.ca.gov/2023/06/01/governor-newsom-proclaims-lgbtq-pride-month-2023/'"
      ]
     },
     "execution_count": 25,
     "metadata": {},
     "output_type": "execute_result"
    },
    {
     "data": {
      "text/plain": [
       "'success: content added from https://www.gov.ca.gov/2023/06/01/illegal-book-bans-governor-newsom-attorney-general-bonta-and-state-superintendent-thurmond-warn-against-book-bans-statewide/'"
      ]
     },
     "execution_count": 25,
     "metadata": {},
     "output_type": "execute_result"
    },
    {
     "data": {
      "text/plain": [
       "'success: content added from https://www.gov.ca.gov/2023/07/30/recruit-martinez/'"
      ]
     },
     "execution_count": 25,
     "metadata": {},
     "output_type": "execute_result"
    },
    {
     "data": {
      "text/plain": [
       "'success: content added from https://www.gov.ca.gov/2023/07/28/governor-newsom-announces-appointments-7-28-23/'"
      ]
     },
     "execution_count": 25,
     "metadata": {},
     "output_type": "execute_result"
    },
    {
     "data": {
      "text/plain": [
       "'success: content added from https://www.gov.ca.gov/2023/07/28/governor-newsom-announces-judicial-appointments-7-28-23/'"
      ]
     },
     "execution_count": 25,
     "metadata": {},
     "output_type": "execute_result"
    },
    {
     "data": {
      "text/plain": [
       "'success: content added from https://www.gov.ca.gov/2023/07/27/governor-newsom-appoints-leaders-to-racial-equity-commission/'"
      ]
     },
     "execution_count": 25,
     "metadata": {},
     "output_type": "execute_result"
    },
    {
     "data": {
      "text/plain": [
       "'success: content added from https://www.gov.ca.gov/2023/07/27/governor-newsom-issues-legislative-update-7-27-23/'"
      ]
     },
     "execution_count": 25,
     "metadata": {},
     "output_type": "execute_result"
    },
    {
     "data": {
      "text/plain": [
       "'success: content added from https://www.gov.ca.gov/2023/07/27/california-ramps-up-wildfire-prevention-work/'"
      ]
     },
     "execution_count": 25,
     "metadata": {},
     "output_type": "execute_result"
    },
    {
     "data": {
      "text/plain": [
       "'success: content added from https://www.gov.ca.gov/2023/07/26/governor-newsom-announces-appointments-7-26-23/'"
      ]
     },
     "execution_count": 25,
     "metadata": {},
     "output_type": "execute_result"
    },
    {
     "data": {
      "text/plain": [
       "'success: content added from https://www.gov.ca.gov/2023/07/26/governor-newsom-proclaims-americans-with-disabilities-act-awareness-day-7-26-23/'"
      ]
     },
     "execution_count": 25,
     "metadata": {},
     "output_type": "execute_result"
    },
    {
     "data": {
      "text/plain": [
       "'success: content added from https://www.gov.ca.gov/2023/07/25/governor-newsom-announces-appointments-7-25-23/'"
      ]
     },
     "execution_count": 25,
     "metadata": {},
     "output_type": "execute_result"
    },
    {
     "data": {
      "text/plain": [
       "'success: content added from https://www.gov.ca.gov/2023/07/25/governor-newsom-statement-on-president-bidens-establishment-of-emmett-till-and-mamie-till-mobley-national-monument/'"
      ]
     },
     "execution_count": 25,
     "metadata": {},
     "output_type": "execute_result"
    },
    {
     "data": {
      "text/plain": [
       "'success: content added from https://www.gov.ca.gov/2023/07/24/icymi-governors-hold-inaugural-convening-of-the-reproductive-freedom-alliance-vow-to-continue-to-strengthen-and-expand-abortion-care/'"
      ]
     },
     "execution_count": 25,
     "metadata": {},
     "output_type": "execute_result"
    },
    {
     "data": {
      "text/plain": [
       "'success: content added from https://www.gov.ca.gov/2023/07/21/temecula-curriculum-adoption/'"
      ]
     },
     "execution_count": 25,
     "metadata": {},
     "output_type": "execute_result"
    },
    {
     "data": {
      "text/plain": [
       "'success: content added from https://www.gov.ca.gov/2023/07/21/governor-newsom-issues-legislative-update-7-21-23/'"
      ]
     },
     "execution_count": 25,
     "metadata": {},
     "output_type": "execute_result"
    },
    {
     "data": {
      "text/plain": [
       "'success: content added from https://www.gov.ca.gov/2023/07/19/temecula-contract/'"
      ]
     },
     "execution_count": 25,
     "metadata": {},
     "output_type": "execute_result"
    },
    {
     "data": {
      "text/plain": [
       "'success: content added from https://www.gov.ca.gov/2023/07/19/california-providing-free-legal-services-for-undocumented-farmworkers/'"
      ]
     },
     "execution_count": 25,
     "metadata": {},
     "output_type": "execute_result"
    },
    {
     "data": {
      "text/plain": [
       "'success: content added from https://www.gov.ca.gov/2023/07/14/california-accelerates-housing-production-in-five-cities-and-counties/'"
      ]
     },
     "execution_count": 25,
     "metadata": {},
     "output_type": "execute_result"
    },
    {
     "data": {
      "text/plain": [
       "'success: content added from https://www.gov.ca.gov/2023/07/14/top-5-ways-california-is-protecting-people-from-extreme-heat/'"
      ]
     },
     "execution_count": 25,
     "metadata": {},
     "output_type": "execute_result"
    },
    {
     "data": {
      "text/plain": [
       "'success: content added from https://www.gov.ca.gov/2023/07/13/governor-newsom-issues-legislative-update-7-13-23/'"
      ]
     },
     "execution_count": 25,
     "metadata": {},
     "output_type": "execute_result"
    },
    {
     "data": {
      "text/plain": [
       "'success: content added from https://www.gov.ca.gov/2023/07/13/icymi-californians-overwhelmingly-support-governor-newsoms-climate-agenda/'"
      ]
     },
     "execution_count": 25,
     "metadata": {},
     "output_type": "execute_result"
    },
    {
     "data": {
      "text/plain": [
       "'success: content added from https://www.gov.ca.gov/2023/07/13/temecula-do-your-job/'"
      ]
     },
     "execution_count": 25,
     "metadata": {},
     "output_type": "execute_result"
    },
    {
     "data": {
      "text/plain": [
       "'success: content added from https://www.gov.ca.gov/2023/07/13/california-schools-to-get-more-shade-and-nature-to-protect-kids-from-extreme-heat/'"
      ]
     },
     "execution_count": 25,
     "metadata": {},
     "output_type": "execute_result"
    },
    {
     "data": {
      "text/plain": [
       "'success: content added from https://www.gov.ca.gov/2023/07/12/behavioral-health-reform-leaders-meet-as-momentum-builds-for-governor-newsoms-historic-proposal-to-fund-10000-community-beds-housing-units/'"
      ]
     },
     "execution_count": 25,
     "metadata": {},
     "output_type": "execute_result"
    },
    {
     "data": {
      "text/plain": [
       "'success: content added from https://www.gov.ca.gov/2023/07/12/icymi-california-grid-reaches-5600-mw-of-battery-storage-capacity-a-1020-increase-since-2020/'"
      ]
     },
     "execution_count": 25,
     "metadata": {},
     "output_type": "execute_result"
    },
    {
     "data": {
      "text/plain": [
       "'success: content added from https://www.gov.ca.gov/2023/07/12/governor-newsom-announces-appointments-7-11-23/'"
      ]
     },
     "execution_count": 25,
     "metadata": {},
     "output_type": "execute_result"
    },
    {
     "data": {
      "text/plain": [
       "'success: content added from https://www.gov.ca.gov/2023/07/11/heat-ready-ca-will-help-californians-stay-safer-from-extreme-heat/'"
      ]
     },
     "execution_count": 25,
     "metadata": {},
     "output_type": "execute_result"
    },
    {
     "data": {
      "text/plain": [
       "'success: content added from https://www.gov.ca.gov/2023/07/10/governor-newsom-signs-infrastructure-budget-legislation-to-build-more-faster/'"
      ]
     },
     "execution_count": 25,
     "metadata": {},
     "output_type": "execute_result"
    },
    {
     "data": {
      "text/plain": [
       "'success: content added from https://www.gov.ca.gov/2023/07/07/what-they-are-saying-governor-newsoms-historic-transformation-of-californias-behavioral-health-care-system/'"
      ]
     },
     "execution_count": 25,
     "metadata": {},
     "output_type": "execute_result"
    },
    {
     "data": {
      "text/plain": [
       "'success: content added from https://www.gov.ca.gov/2023/07/07/governor-newsom-announces-159-9-million-to-preserve-638-affordable-homes/'"
      ]
     },
     "execution_count": 25,
     "metadata": {},
     "output_type": "execute_result"
    },
    {
     "data": {
      "text/plain": [
       "'success: content added from https://www.gov.ca.gov/2023/07/07/coming-soon-more-electric-school-buses/'"
      ]
     },
     "execution_count": 25,
     "metadata": {},
     "output_type": "execute_result"
    },
    {
     "data": {
      "text/plain": [
       "'success: content added from https://www.gov.ca.gov/2023/07/06/california-takes-first-step-in-creating-its-own-naloxone-supply/'"
      ]
     },
     "execution_count": 25,
     "metadata": {},
     "output_type": "execute_result"
    },
    {
     "data": {
      "text/plain": [
       "'success: content added from https://www.gov.ca.gov/2023/07/06/acting-governor-toni-atkins-signs-legislation-in-historic-first/'"
      ]
     },
     "execution_count": 25,
     "metadata": {},
     "output_type": "execute_result"
    },
    {
     "data": {
      "text/plain": [
       "'success: content added from https://www.gov.ca.gov/2023/07/06/governor-newsom-announces-1-5-billion-in-port-infrastructure-upgrades-to-power-nation-leading-supply-chain/'"
      ]
     },
     "execution_count": 25,
     "metadata": {},
     "output_type": "execute_result"
    },
    {
     "data": {
      "text/plain": [
       "'success: content added from https://www.gov.ca.gov/2023/07/06/california-awards-30-5-million-for-kids-mental-health-and-support-for-parents-and-family-caregivers/'"
      ]
     },
     "execution_count": 25,
     "metadata": {},
     "output_type": "execute_result"
    },
    {
     "data": {
      "text/plain": [
       "'success: content added from https://www.gov.ca.gov/2023/07/06/california-truck-manufacturers-strike-agreement-on-zero-emission-transition/'"
      ]
     },
     "execution_count": 25,
     "metadata": {},
     "output_type": "execute_result"
    },
    {
     "data": {
      "text/plain": [
       "'success: content added from https://www.gov.ca.gov/2023/07/05/governor-newsom-announces-352-million-for-transit-oriented-climate-friendly-housing-in-underserved-communities/'"
      ]
     },
     "execution_count": 25,
     "metadata": {},
     "output_type": "execute_result"
    },
    {
     "data": {
      "text/plain": [
       "'success: content added from https://www.gov.ca.gov/2023/07/05/legislature-passes-governor-newsoms-infrastructure-package-to-build-more-faster/'"
      ]
     },
     "execution_count": 25,
     "metadata": {},
     "output_type": "execute_result"
    },
    {
     "data": {
      "text/plain": [
       "'success: content added from https://www.gov.ca.gov/2023/07/03/california-awards-5-7-million-for-opioid-use-education-and-outreach-in-2s-lgbtq-communities/'"
      ]
     },
     "execution_count": 25,
     "metadata": {},
     "output_type": "execute_result"
    },
    {
     "data": {
      "text/plain": [
       "'success: content added from https://www.gov.ca.gov/2023/08/31/governor-newsom-and-legislative-leaders-announce-agreement-to-fast-track-a-cleaner-more-reliable-grid/'"
      ]
     },
     "execution_count": 25,
     "metadata": {},
     "output_type": "execute_result"
    },
    {
     "data": {
      "text/plain": [
       "'success: content added from https://www.gov.ca.gov/2023/08/31/freedom-to-succeed/'"
      ]
     },
     "execution_count": 25,
     "metadata": {},
     "output_type": "execute_result"
    },
    {
     "data": {
      "text/plain": [
       "'success: content added from https://www.gov.ca.gov/2023/08/30/california-invests-757-million-to-create-affordable-housing-and-clean-transportation/'"
      ]
     },
     "execution_count": 25,
     "metadata": {},
     "output_type": "execute_result"
    },
    {
     "data": {
      "text/plain": [
       "'success: content added from https://www.gov.ca.gov/2023/08/30/tomorrow-in-yolo-county-governor-newsom-to-sign-executive-order-to-prepare-students-and-adults-for-high-paying-careers-expand-access-to-employment/'"
      ]
     },
     "execution_count": 25,
     "metadata": {},
     "output_type": "execute_result"
    },
    {
     "data": {
      "text/plain": [
       "'success: content added from https://www.gov.ca.gov/2023/08/30/california-mobilizes-firefighting-resources-ahead-of-red-flag-weather/'"
      ]
     },
     "execution_count": 25,
     "metadata": {},
     "output_type": "execute_result"
    },
    {
     "data": {
      "text/plain": [
       "'success: content added from https://www.gov.ca.gov/2023/08/29/governor-newsom-proclaims-state-of-emergency-in-del-norte-and-siskiyou-counties-due-to-fires/'"
      ]
     },
     "execution_count": 25,
     "metadata": {},
     "output_type": "execute_result"
    },
    {
     "data": {
      "text/plain": [
       "'success: content added from https://www.gov.ca.gov/2023/08/29/fact-sheet-new-findings-continue-to-show-californias-gun-safety-laws-work/'"
      ]
     },
     "execution_count": 25,
     "metadata": {},
     "output_type": "execute_result"
    },
    {
     "data": {
      "text/plain": [
       "'success: content added from https://www.gov.ca.gov/2023/08/29/california-sends-support-to-gulf-states-ahead-of-hurricane-idalia/'"
      ]
     },
     "execution_count": 25,
     "metadata": {},
     "output_type": "execute_result"
    },
    {
     "data": {
      "text/plain": [
       "'success: content added from https://www.gov.ca.gov/2023/08/29/san-bernardino-agrees-to-build-more-housing/'"
      ]
     },
     "execution_count": 25,
     "metadata": {},
     "output_type": "execute_result"
    },
    {
     "data": {
      "text/plain": [
       "'success: content added from https://www.gov.ca.gov/2023/08/28/governor-newsom-statement-on-senate-leader-agreement/'"
      ]
     },
     "execution_count": 25,
     "metadata": {},
     "output_type": "execute_result"
    },
    {
     "data": {
      "text/plain": [
       "'success: content added from https://www.gov.ca.gov/2023/08/28/advisory-governor-newsom-joins-politico-in-conversation/'"
      ]
     },
     "execution_count": 25,
     "metadata": {},
     "output_type": "execute_result"
    },
    {
     "data": {
      "text/plain": [
       "'success: content added from https://www.gov.ca.gov/2023/08/25/california-delivers-239-million-to-pave-the-way-for-over-5400-new-climate-friendly-homes/'"
      ]
     },
     "execution_count": 25,
     "metadata": {},
     "output_type": "execute_result"
    },
    {
     "data": {
      "text/plain": [
       "'success: content added from https://www.gov.ca.gov/2023/08/24/icymi-as-california-fires-worsen-can-ai-come-to-the-rescue/'"
      ]
     },
     "execution_count": 25,
     "metadata": {},
     "output_type": "execute_result"
    },
    {
     "data": {
      "text/plain": [
       "'success: content added from https://www.gov.ca.gov/2023/08/24/cooks-corner-shooting/'"
      ]
     },
     "execution_count": 25,
     "metadata": {},
     "output_type": "execute_result"
    },
    {
     "data": {
      "text/plain": [
       "'success: content added from https://www.gov.ca.gov/2023/08/24/financial-support-coming-for-distressed-community-hospitals-across-california/'"
      ]
     },
     "execution_count": 25,
     "metadata": {},
     "output_type": "execute_result"
    },
    {
     "data": {
      "text/plain": [
       "'success: content added from https://www.gov.ca.gov/2023/08/23/california-continues-work-to-move-people-from-encampments-into-housing/'"
      ]
     },
     "execution_count": 25,
     "metadata": {},
     "output_type": "execute_result"
    },
    {
     "data": {
      "text/plain": [
       "'success: content added from https://www.gov.ca.gov/2023/08/23/governor-newsom-first-partner-siebel-newsom-and-the-california-museum-induct-the-16th-class-of-the-california-hall-of-fame/'"
      ]
     },
     "execution_count": 25,
     "metadata": {},
     "output_type": "execute_result"
    },
    {
     "data": {
      "text/plain": [
       "'success: content added from https://www.gov.ca.gov/2023/08/23/california-announces-new-efforts-to-fight-hate-discrimination/'"
      ]
     },
     "execution_count": 25,
     "metadata": {},
     "output_type": "execute_result"
    },
    {
     "data": {
      "text/plain": [
       "'success: content added from https://www.gov.ca.gov/2023/08/22/governor-newsom-announces-appointments-8-22-23/'"
      ]
     },
     "execution_count": 25,
     "metadata": {},
     "output_type": "execute_result"
    },
    {
     "data": {
      "text/plain": [
       "'success: content added from https://www.gov.ca.gov/2023/08/22/governor-newsoms-mental-health-services-act-reform-passes-key-committee/'"
      ]
     },
     "execution_count": 25,
     "metadata": {},
     "output_type": "execute_result"
    },
    {
     "data": {
      "text/plain": [
       "'success: content added from https://www.gov.ca.gov/2023/08/22/rahimi-amicus/'"
      ]
     },
     "execution_count": 25,
     "metadata": {},
     "output_type": "execute_result"
    },
    {
     "data": {
      "text/plain": [
       "'success: content added from https://www.gov.ca.gov/2023/08/20/governor-newsom-meets-with-local-leaders-surveys-preparations-as-tropical-storm-hilary-makes-landfall/'"
      ]
     },
     "execution_count": 25,
     "metadata": {},
     "output_type": "execute_result"
    },
    {
     "data": {
      "text/plain": [
       "'success: content added from https://www.gov.ca.gov/2023/08/19/governor-newsom-proclaims-state-of-emergency-as-hurricane-hilary-approaches-california/'"
      ]
     },
     "execution_count": 25,
     "metadata": {},
     "output_type": "execute_result"
    },
    {
     "data": {
      "text/plain": [
       "'success: content added from https://www.gov.ca.gov/2023/08/18/california-mobilizes-ahead-of-hurricane-hilary-urges-people-in-southern-california-to-prepare/'"
      ]
     },
     "execution_count": 25,
     "metadata": {},
     "output_type": "execute_result"
    },
    {
     "data": {
      "text/plain": [
       "'success: content added from https://www.gov.ca.gov/2023/08/18/governor-newsom-announces-appointments-8-18-23/'"
      ]
     },
     "execution_count": 25,
     "metadata": {},
     "output_type": "execute_result"
    },
    {
     "data": {
      "text/plain": [
       "'success: content added from https://www.gov.ca.gov/2023/08/18/governor-newsom-announces-judicial-appointments-8-18-23/'"
      ]
     },
     "execution_count": 25,
     "metadata": {},
     "output_type": "execute_result"
    },
    {
     "data": {
      "text/plain": [
       "'success: content added from https://www.gov.ca.gov/2023/08/17/getting-local-protecting-people-from-wildfires-disasters/'"
      ]
     },
     "execution_count": 25,
     "metadata": {},
     "output_type": "execute_result"
    },
    {
     "data": {
      "text/plain": [
       "'success: content added from https://www.gov.ca.gov/2023/08/17/what-they-are-saying-kids-groups-counties-more-respond-positively-to-progress-on-governor-newsoms-proposed-mental-health-reform/'"
      ]
     },
     "execution_count": 25,
     "metadata": {},
     "output_type": "execute_result"
    },
    {
     "data": {
      "text/plain": [
       "'success: content added from https://www.gov.ca.gov/2023/08/17/chp-la-crime-crackdown/'"
      ]
     },
     "execution_count": 25,
     "metadata": {},
     "output_type": "execute_result"
    },
    {
     "data": {
      "text/plain": [
       "'success: content added from https://www.gov.ca.gov/2023/08/16/more-trees-less-asphalt-at-school/'"
      ]
     },
     "execution_count": 25,
     "metadata": {},
     "output_type": "execute_result"
    },
    {
     "data": {
      "text/plain": [
       "'success: content added from https://www.gov.ca.gov/2023/08/16/governor-newsom-announces-appointments-8-16-23/'"
      ]
     },
     "execution_count": 25,
     "metadata": {},
     "output_type": "execute_result"
    },
    {
     "data": {
      "text/plain": [
       "'success: content added from https://www.gov.ca.gov/2023/08/15/governor-newsom-announces-new-climate-partnership-with-australia/'"
      ]
     },
     "execution_count": 25,
     "metadata": {},
     "output_type": "execute_result"
    },
    {
     "data": {
      "text/plain": [
       "'success: content added from https://www.gov.ca.gov/2023/08/15/california-sends-wildfire-response-and-recovery-teams-to-hawaii-and-oregon/'"
      ]
     },
     "execution_count": 25,
     "metadata": {},
     "output_type": "execute_result"
    },
    {
     "data": {
      "text/plain": [
       "'success: content added from https://www.gov.ca.gov/2023/08/14/governor-newsom-statement-on-passing-of-clarence-avant/'"
      ]
     },
     "execution_count": 25,
     "metadata": {},
     "output_type": "execute_result"
    },
    {
     "data": {
      "text/plain": [
       "'success: content added from https://www.gov.ca.gov/2023/08/14/tomorrow-governor-newsom-joins-australian-ambassador-to-the-u-s-for-climate-announcement/'"
      ]
     },
     "execution_count": 25,
     "metadata": {},
     "output_type": "execute_result"
    },
    {
     "data": {
      "text/plain": [
       "'success: content added from https://www.gov.ca.gov/2023/08/14/governor-newsoms-right-to-safety-resolution-calling-for-a-constitutional-amendment-introduced-in-california-legislature/'"
      ]
     },
     "execution_count": 25,
     "metadata": {},
     "output_type": "execute_result"
    },
    {
     "data": {
      "text/plain": [
       "'success: content added from https://www.gov.ca.gov/2023/08/14/californias-family-agenda-promotes-educational-freedom/'"
      ]
     },
     "execution_count": 25,
     "metadata": {},
     "output_type": "execute_result"
    },
    {
     "data": {
      "text/plain": [
       "'success: content added from https://www.gov.ca.gov/2023/08/14/governor-newsom-first-partner-siebel-newsom-and-the-california-museum-announce-the-16th-class-of-the-california-hall-of-fame-2/'"
      ]
     },
     "execution_count": 25,
     "metadata": {},
     "output_type": "execute_result"
    },
    {
     "data": {
      "text/plain": [
       "'success: content added from https://www.gov.ca.gov/2023/08/13/tomorrow-in-sacramento-county-governor-newsom-and-first-partner-siebel-newsom-to-highlight-californias-education-transformation/'"
      ]
     },
     "execution_count": 25,
     "metadata": {},
     "output_type": "execute_result"
    },
    {
     "data": {
      "text/plain": [
       "'success: content added from https://www.gov.ca.gov/2023/08/11/governor-newsom-announces-appointments-8-11-23/'"
      ]
     },
     "execution_count": 25,
     "metadata": {},
     "output_type": "execute_result"
    },
    {
     "data": {
      "text/plain": [
       "'success: content added from https://www.gov.ca.gov/2023/08/10/governor-newsom-deploys-urban-search-rescue-team-to-hawaii-to-support-wildfire-response/'"
      ]
     },
     "execution_count": 25,
     "metadata": {},
     "output_type": "execute_result"
    },
    {
     "data": {
      "text/plain": [
       "'success: content added from https://www.gov.ca.gov/2023/08/09/conversion-of-vacant-office-buildings-to-affordable-housing-moves-forward/'"
      ]
     },
     "execution_count": 25,
     "metadata": {},
     "output_type": "execute_result"
    },
    {
     "data": {
      "text/plain": [
       "'success: content added from https://www.gov.ca.gov/2023/08/08/77690/'"
      ]
     },
     "execution_count": 25,
     "metadata": {},
     "output_type": "execute_result"
    },
    {
     "data": {
      "text/plain": [
       "'success: content added from https://www.gov.ca.gov/2023/08/08/governor-newsom-announces-new-strategy-to-develop-a-hydrogen-economy-of-the-future/'"
      ]
     },
     "execution_count": 25,
     "metadata": {},
     "output_type": "execute_result"
    },
    {
     "data": {
      "text/plain": [
       "'success: content added from https://www.gov.ca.gov/2023/08/07/icymi-new-analysis-highlights-crucial-need-for-governor-newsoms-proposed-mhsa-reform-bond/'"
      ]
     },
     "execution_count": 25,
     "metadata": {},
     "output_type": "execute_result"
    },
    {
     "data": {
      "text/plain": [
       "'success: content added from https://www.gov.ca.gov/2023/08/07/governor-newsom-statement-on-fallen-firefighters-and-pilot-in-riverside-county-helicopter-collision/'"
      ]
     },
     "execution_count": 25,
     "metadata": {},
     "output_type": "execute_result"
    },
    {
     "data": {
      "text/plain": [
       "'success: content added from https://www.gov.ca.gov/2023/08/04/california-designates-three-more-communities-as-prohousing-for-strides-made-to-accelerate-housing-production/'"
      ]
     },
     "execution_count": 25,
     "metadata": {},
     "output_type": "execute_result"
    },
    {
     "data": {
      "text/plain": [
       "'success: content added from https://www.gov.ca.gov/2023/08/04/governor-newsom-signs-executive-order-to-prepare-for-the-next-wet-season/'"
      ]
     },
     "execution_count": 25,
     "metadata": {},
     "output_type": "execute_result"
    },
    {
     "data": {
      "text/plain": [
       "'success: content added from https://www.gov.ca.gov/2023/08/03/california-and-chinese-province-of-hainan-partner-to-fight-climate-change/'"
      ]
     },
     "execution_count": 25,
     "metadata": {},
     "output_type": "execute_result"
    },
    {
     "data": {
      "text/plain": [
       "'success: content added from https://www.gov.ca.gov/2023/08/03/virtual-event-governor-newsom-and-first-partner-siebel-newsom-to-induct-the-16th-class-of-the-california-hall-of-fame/'"
      ]
     },
     "execution_count": 25,
     "metadata": {},
     "output_type": "execute_result"
    },
    {
     "data": {
      "text/plain": [
       "'success: content added from https://www.gov.ca.gov/2023/08/03/new-report-finds-more-californians-benefitting-from-expanded-medi-cal-services/'"
      ]
     },
     "execution_count": 25,
     "metadata": {},
     "output_type": "execute_result"
    },
    {
     "data": {
      "text/plain": [
       "'success: content added from https://www.gov.ca.gov/2023/08/02/governor-newsom-announces-appointments-8-2-23/'"
      ]
     },
     "execution_count": 25,
     "metadata": {},
     "output_type": "execute_result"
    },
    {
     "data": {
      "text/plain": [
       "'success: content added from https://www.gov.ca.gov/2023/08/02/governor-newsom-signs-tribal-state-gaming-compact-8-2-23/'"
      ]
     },
     "execution_count": 25,
     "metadata": {},
     "output_type": "execute_result"
    },
    {
     "data": {
      "text/plain": [
       "'success: content added from https://www.gov.ca.gov/2023/08/02/milestone-1-in-4-new-cars-sold-in-california-were-zero-emission/'"
      ]
     },
     "execution_count": 25,
     "metadata": {},
     "output_type": "execute_result"
    },
    {
     "data": {
      "text/plain": [
       "'success: content added from https://www.gov.ca.gov/2023/08/01/governor-newsom-appoints-the-first-director-of-new-oil-watchdog/'"
      ]
     },
     "execution_count": 25,
     "metadata": {},
     "output_type": "execute_result"
    },
    {
     "data": {
      "text/plain": [
       "'success: content added from https://www.gov.ca.gov/2023/09/30/governor-newsom-issues-legislative-update-9-30-23/'"
      ]
     },
     "execution_count": 25,
     "metadata": {},
     "output_type": "execute_result"
    },
    {
     "data": {
      "text/plain": [
       "'success: content added from https://www.gov.ca.gov/2023/09/29/governor-newsom-on-the-passing-of-u-s-senator-dianne-feinstein/'"
      ]
     },
     "execution_count": 25,
     "metadata": {},
     "output_type": "execute_result"
    },
    {
     "data": {
      "text/plain": [
       "'success: content added from https://www.gov.ca.gov/2023/09/28/california-increases-minimum-wage-protections-for-fast-food-workers/'"
      ]
     },
     "execution_count": 25,
     "metadata": {},
     "output_type": "execute_result"
    },
    {
     "data": {
      "text/plain": [
       "'success: content added from https://www.gov.ca.gov/2023/09/27/governor-newsom-announces-appointments-9-27-23/'"
      ]
     },
     "execution_count": 25,
     "metadata": {},
     "output_type": "execute_result"
    },
    {
     "data": {
      "text/plain": [
       "'success: content added from https://www.gov.ca.gov/2023/09/27/tomorrow-in-los-angeles-county-governor-newsom-to-sign-legislation-boosting-wages-supporting-workers/'"
      ]
     },
     "execution_count": 25,
     "metadata": {},
     "output_type": "execute_result"
    },
    {
     "data": {
      "text/plain": [
       "'success: content added from https://www.gov.ca.gov/2023/09/27/california-expands-access-and-protections-for-reproductive-health-care/'"
      ]
     },
     "execution_count": 25,
     "metadata": {},
     "output_type": "execute_result"
    },
    {
     "data": {
      "text/plain": [
       "'success: content added from https://www.gov.ca.gov/2023/09/26/governor-newsom-strengthens-californias-nation-leading-gun-safety-laws/'"
      ]
     },
     "execution_count": 25,
     "metadata": {},
     "output_type": "execute_result"
    },
    {
     "data": {
      "text/plain": [
       "'success: content added from https://www.gov.ca.gov/2023/09/25/tomorrow-in-sacramento-county-governor-newsom-to-sign-legislation-to-further-strengthen-californias-gun-safety-laws/'"
      ]
     },
     "execution_count": 25,
     "metadata": {},
     "output_type": "execute_result"
    },
    {
     "data": {
      "text/plain": [
       "'success: content added from https://www.gov.ca.gov/2023/09/25/california-bans-book-bans-and-textbook-censorship-in-schools/'"
      ]
     },
     "execution_count": 25,
     "metadata": {},
     "output_type": "execute_result"
    },
    {
     "data": {
      "text/plain": [
       "'success: content added from https://www.gov.ca.gov/2023/09/25/sb-14/'"
      ]
     },
     "execution_count": 25,
     "metadata": {},
     "output_type": "execute_result"
    },
    {
     "data": {
      "text/plain": [
       "'success: content added from https://www.gov.ca.gov/2023/09/24/governor-newsom-issues-statement-on-the-tentative-agreement-between-wga-and-amptp/'"
      ]
     },
     "execution_count": 25,
     "metadata": {},
     "output_type": "execute_result"
    },
    {
     "data": {
      "text/plain": [
       "'success: content added from https://www.gov.ca.gov/2023/09/23/governor-newsom-signs-legislation-supporting-lgbtq-californians/'"
      ]
     },
     "execution_count": 25,
     "metadata": {},
     "output_type": "execute_result"
    },
    {
     "data": {
      "text/plain": [
       "'success: content added from https://www.gov.ca.gov/2023/09/22/governor-newsom-issues-legislative-update-3/'"
      ]
     },
     "execution_count": 25,
     "metadata": {},
     "output_type": "execute_result"
    },
    {
     "data": {
      "text/plain": [
       "'success: content added from https://www.gov.ca.gov/2023/09/22/benitez-duncan/'"
      ]
     },
     "execution_count": 25,
     "metadata": {},
     "output_type": "execute_result"
    },
    {
     "data": {
      "text/plain": [
       "'success: content added from https://www.gov.ca.gov/2023/09/22/governor-newsom-statement-on-amicus-brief-filed-with-the-united-states-supreme-court/'"
      ]
     },
     "execution_count": 25,
     "metadata": {},
     "output_type": "execute_result"
    },
    {
     "data": {
      "text/plain": [
       "'success: content added from https://www.gov.ca.gov/2023/09/22/governor-newsom-statement-on-oil-watchdog-update/'"
      ]
     },
     "execution_count": 25,
     "metadata": {},
     "output_type": "execute_result"
    },
    {
     "data": {
      "text/plain": [
       "'success: content added from https://www.gov.ca.gov/2023/09/22/first-of-their-kind-grants-support-tribal-led-wildfire-resilience-projects/'"
      ]
     },
     "execution_count": 25,
     "metadata": {},
     "output_type": "execute_result"
    },
    {
     "data": {
      "text/plain": [
       "'success: content added from https://www.gov.ca.gov/2023/09/22/20-million-for-tribal-homelessness-and-housing-projects/'"
      ]
     },
     "execution_count": 25,
     "metadata": {},
     "output_type": "execute_result"
    },
    {
     "data": {
      "text/plain": [
       "'success: content added from https://www.gov.ca.gov/2023/09/22/california-invests-additional-33-million-to-train-next-generation-of-health-care-workforce/'"
      ]
     },
     "execution_count": 25,
     "metadata": {},
     "output_type": "execute_result"
    },
    {
     "data": {
      "text/plain": [
       "'success: content added from https://www.gov.ca.gov/2023/09/22/governor-newsom-proclaims-native-american-day/'"
      ]
     },
     "execution_count": 25,
     "metadata": {},
     "output_type": "execute_result"
    },
    {
     "data": {
      "text/plain": [
       "'success: content added from https://www.gov.ca.gov/2023/09/21/governor-newsom-signs-executive-order-to-strengthen-property-insurance-market/'"
      ]
     },
     "execution_count": 25,
     "metadata": {},
     "output_type": "execute_result"
    },
    {
     "data": {
      "text/plain": [
       "'success: content added from https://www.gov.ca.gov/2023/09/21/recap-governor-newsom-highlights-californias-climate-action-on-world-stage-at-climate-week/'"
      ]
     },
     "execution_count": 25,
     "metadata": {},
     "output_type": "execute_result"
    },
    {
     "data": {
      "text/plain": [
       "'success: content added from https://www.gov.ca.gov/2023/09/20/california-enlists-governments-around-the-world-to-fight-methane-pollution/'"
      ]
     },
     "execution_count": 25,
     "metadata": {},
     "output_type": "execute_result"
    },
    {
     "data": {
      "text/plain": [
       "'success: content added from https://www.gov.ca.gov/2023/09/20/governor-newsom-calls-out-oil-industry-at-un-this-is-a-fossil-fuel-crisis/'"
      ]
     },
     "execution_count": 25,
     "metadata": {},
     "output_type": "execute_result"
    },
    {
     "data": {
      "text/plain": [
       "'success: content added from https://www.gov.ca.gov/2023/09/20/five-states-just-joined-california-in-launching-their-own-climate-action-corps/'"
      ]
     },
     "execution_count": 25,
     "metadata": {},
     "output_type": "execute_result"
    },
    {
     "data": {
      "text/plain": [
       "'success: content added from https://www.gov.ca.gov/2023/09/19/tomorrow-governor-newsom-to-address-the-united-nations-climate-ambition-summit/'"
      ]
     },
     "execution_count": 25,
     "metadata": {},
     "output_type": "execute_result"
    },
    {
     "data": {
      "text/plain": [
       "'success: content added from https://www.gov.ca.gov/2023/09/19/governor-newsom-doubles-down-on-building-californias-future-to-achieve-world-leading-climate-goals/'"
      ]
     },
     "execution_count": 25,
     "metadata": {},
     "output_type": "execute_result"
    },
    {
     "data": {
      "text/plain": [
       "'success: content added from https://www.gov.ca.gov/2023/09/18/charging-ahead-california-achieves-yet-another-ev-goal-ahead-of-schedule-as-more-dollars-go-to-communities-to-support-transition/'"
      ]
     },
     "execution_count": 25,
     "metadata": {},
     "output_type": "execute_result"
    },
    {
     "data": {
      "text/plain": [
       "'success: content added from https://www.gov.ca.gov/2023/09/18/this-is-a-big-big-deal-climate-leaders-praise-californias-lawsuit-to-hold-big-oil-accountable/'"
      ]
     },
     "execution_count": 25,
     "metadata": {},
     "output_type": "execute_result"
    },
    {
     "data": {
      "text/plain": [
       "'success: content added from https://www.gov.ca.gov/2023/09/18/today-in-new-york-governor-newsom-to-highlight-californias-nation-leading-care-economy-with-secretary-clinton/'"
      ]
     },
     "execution_count": 25,
     "metadata": {},
     "output_type": "execute_result"
    },
    {
     "data": {
      "text/plain": [
       "'success: content added from https://www.gov.ca.gov/2023/09/17/fallen-deputy-clinkunbroomer/'"
      ]
     },
     "execution_count": 25,
     "metadata": {},
     "output_type": "execute_result"
    },
    {
     "data": {
      "text/plain": [
       "'success: content added from https://www.gov.ca.gov/2023/09/16/tomorrow-governor-newsom-and-attorney-general-bonta-to-highlight-californias-lawsuit-to-hold-big-oil-accountable/'"
      ]
     },
     "execution_count": 25,
     "metadata": {},
     "output_type": "execute_result"
    },
    {
     "data": {
      "text/plain": [
       "'success: content added from https://www.gov.ca.gov/2023/09/16/people-of-the-state-of-california-v-big-oil/'"
      ]
     },
     "execution_count": 25,
     "metadata": {},
     "output_type": "execute_result"
    },
    {
     "data": {
      "text/plain": [
       "'success: content added from https://www.gov.ca.gov/2023/09/15/california-defends-right-to-fight-pollution/'"
      ]
     },
     "execution_count": 25,
     "metadata": {},
     "output_type": "execute_result"
    },
    {
     "data": {
      "text/plain": [
       "'success: content added from https://www.gov.ca.gov/2023/09/15/california-announces-new-investments-in-youth-suicide-prevention/'"
      ]
     },
     "execution_count": 25,
     "metadata": {},
     "output_type": "execute_result"
    },
    {
     "data": {
      "text/plain": [
       "'success: content added from https://www.gov.ca.gov/2023/09/15/california-becomes-first-state-in-america-to-call-for-constitutional-convention-on-right-to-safety/'"
      ]
     },
     "execution_count": 25,
     "metadata": {},
     "output_type": "execute_result"
    },
    {
     "data": {
      "text/plain": [
       "'success: content added from https://www.gov.ca.gov/2023/09/14/mhsa-reform-passes-legislature/'"
      ]
     },
     "execution_count": 25,
     "metadata": {},
     "output_type": "execute_result"
    },
    {
     "data": {
      "text/plain": [
       "'success: content added from https://www.gov.ca.gov/2023/09/14/california-makes-largest-ever-investment-to-combat-smash-and-grabs/'"
      ]
     },
     "execution_count": 25,
     "metadata": {},
     "output_type": "execute_result"
    },
    {
     "data": {
      "text/plain": [
       "'success: content added from https://www.gov.ca.gov/2023/09/14/governor-newsom-proclaims-latino-heritage-month-2023/'"
      ]
     },
     "execution_count": 25,
     "metadata": {},
     "output_type": "execute_result"
    },
    {
     "data": {
      "text/plain": [
       "'success: content added from https://www.gov.ca.gov/2023/09/14/sunday-governor-newsom-to-make-climate-announcement-at-opening-ceremony-of-climate-week-nyc/'"
      ]
     },
     "execution_count": 25,
     "metadata": {},
     "output_type": "execute_result"
    },
    {
     "data": {
      "text/plain": [
       "'success: content added from https://www.gov.ca.gov/2023/09/14/governor-newsom-proclaims-pow-mia-recognition-day-2023/'"
      ]
     },
     "execution_count": 25,
     "metadata": {},
     "output_type": "execute_result"
    },
    {
     "data": {
      "text/plain": [
       "'success: content added from https://www.gov.ca.gov/2023/09/13/junior-sports-magazines-inc-v-bonta/'"
      ]
     },
     "execution_count": 25,
     "metadata": {},
     "output_type": "execute_result"
    },
    {
     "data": {
      "text/plain": [
       "'success: content added from https://www.gov.ca.gov/2023/09/13/now-is-the-time-to-move-forward-families-impacted-by-gun-violence-support-right-to-safety/'"
      ]
     },
     "execution_count": 25,
     "metadata": {},
     "output_type": "execute_result"
    },
    {
     "data": {
      "text/plain": [
       "'success: content added from https://www.gov.ca.gov/2023/09/13/governor-newsom-signs-legislation-9-13-23/'"
      ]
     },
     "execution_count": 25,
     "metadata": {},
     "output_type": "execute_result"
    },
    {
     "data": {
      "text/plain": [
       "'success: content added from https://www.gov.ca.gov/2023/09/12/governor-newsom-announces-appointments-9-12-23/'"
      ]
     },
     "execution_count": 25,
     "metadata": {},
     "output_type": "execute_result"
    },
    {
     "data": {
      "text/plain": [
       "'success: content added from https://www.gov.ca.gov/2023/09/12/ort-grants/'"
      ]
     },
     "execution_count": 25,
     "metadata": {},
     "output_type": "execute_result"
    },
    {
     "data": {
      "text/plain": [
       "'success: content added from https://www.gov.ca.gov/2023/09/12/new-funding-to-help-more-than-2600-californians-move-from-encampments-into-housing/'"
      ]
     },
     "execution_count": 25,
     "metadata": {},
     "output_type": "execute_result"
    },
    {
     "data": {
      "text/plain": [
       "'success: content added from https://www.gov.ca.gov/2023/09/12/governor-newsom-highlights-nearly-300-million-for-sustainable-water-farming-projects/'"
      ]
     },
     "execution_count": 25,
     "metadata": {},
     "output_type": "execute_result"
    },
    {
     "data": {
      "text/plain": [
       "'success: content added from https://www.gov.ca.gov/2023/09/12/governor-newsom-expands-state-of-emergency-due-to-tropical-storm-hilary-impacts-in-siskiyou-county/'"
      ]
     },
     "execution_count": 25,
     "metadata": {},
     "output_type": "execute_result"
    },
    {
     "data": {
      "text/plain": [
       "'success: content added from https://www.gov.ca.gov/2023/09/11/yet-another-way-california-is-keeping-people-safer-from-gun-violence/'"
      ]
     },
     "execution_count": 25,
     "metadata": {},
     "output_type": "execute_result"
    },
    {
     "data": {
      "text/plain": [
       "'success: content added from https://www.gov.ca.gov/2023/09/11/top-4-ways-california-is-keeping-people-safer-from-gun-violence/'"
      ]
     },
     "execution_count": 25,
     "metadata": {},
     "output_type": "execute_result"
    },
    {
     "data": {
      "text/plain": [
       "'success: content added from https://www.gov.ca.gov/2023/09/11/wednesday-governor-newsom-to-speak-at-dreamforce/'"
      ]
     },
     "execution_count": 25,
     "metadata": {},
     "output_type": "execute_result"
    },
    {
     "data": {
      "text/plain": [
       "'success: content added from https://www.gov.ca.gov/2023/09/11/governor-newsom-proclaims-patriot-day-2023/'"
      ]
     },
     "execution_count": 25,
     "metadata": {},
     "output_type": "execute_result"
    },
    {
     "data": {
      "text/plain": [
       "'success: content added from https://www.gov.ca.gov/2023/09/08/governor-newsom-signs-legislation-9-8-23/'"
      ]
     },
     "execution_count": 25,
     "metadata": {},
     "output_type": "execute_result"
    },
    {
     "data": {
      "text/plain": [
       "'success: content added from https://www.gov.ca.gov/2023/09/08/governor-newsom-announces-appointments-9-8-23/'"
      ]
     },
     "execution_count": 25,
     "metadata": {},
     "output_type": "execute_result"
    },
    {
     "data": {
      "text/plain": [
       "'success: content added from https://www.gov.ca.gov/2023/09/07/california-tackles-roadblocks-to-housing-construction/'"
      ]
     },
     "execution_count": 25,
     "metadata": {},
     "output_type": "execute_result"
    },
    {
     "data": {
      "text/plain": [
       "'success: content added from https://www.gov.ca.gov/2023/09/07/governor-newsom-announces-appointments-9-7-23/'"
      ]
     },
     "execution_count": 25,
     "metadata": {},
     "output_type": "execute_result"
    },
    {
     "data": {
      "text/plain": [
       "'success: content added from https://www.gov.ca.gov/2023/09/07/governor-newsom-increases-calguard-at-border/'"
      ]
     },
     "execution_count": 25,
     "metadata": {},
     "output_type": "execute_result"
    },
    {
     "data": {
      "text/plain": [
       "'success: content added from https://www.gov.ca.gov/2023/09/06/governor-newsom-announces-appointments-9-6-23/'"
      ]
     },
     "execution_count": 25,
     "metadata": {},
     "output_type": "execute_result"
    },
    {
     "data": {
      "text/plain": [
       "'success: content added from https://www.gov.ca.gov/2023/09/06/what-they-are-saying-governor-newsoms-package-to-build-more-clean-energy-strengthen-grid/'"
      ]
     },
     "execution_count": 25,
     "metadata": {},
     "output_type": "execute_result"
    },
    {
     "data": {
      "text/plain": [
       "'success: content added from https://www.gov.ca.gov/2023/09/06/governor-newsom-statement-on-california-state-senate-passing-right-to-safety-resolution/'"
      ]
     },
     "execution_count": 25,
     "metadata": {},
     "output_type": "execute_result"
    },
    {
     "data": {
      "text/plain": [
       "'success: content added from https://www.gov.ca.gov/2023/09/06/governor-newsom-signs-executive-order-to-prepare-california-for-the-progress-of-artificial-intelligence/'"
      ]
     },
     "execution_count": 25,
     "metadata": {},
     "output_type": "execute_result"
    },
    {
     "data": {
      "text/plain": [
       "'success: content added from https://www.gov.ca.gov/2023/09/05/what-they-are-saying-business-labor-leaders-support-governor-newsoms-modernization-of-the-mental-health-services-act/'"
      ]
     },
     "execution_count": 25,
     "metadata": {},
     "output_type": "execute_result"
    },
    {
     "data": {
      "text/plain": [
       "'success: content added from https://www.gov.ca.gov/2023/09/04/governor-newsom-proclaims-labor-day-2023/'"
      ]
     },
     "execution_count": 25,
     "metadata": {},
     "output_type": "execute_result"
    },
    {
     "data": {
      "text/plain": [
       "'success: content added from https://www.gov.ca.gov/2023/09/01/governor-newsom-signs-legislation-9-1-23/'"
      ]
     },
     "execution_count": 25,
     "metadata": {},
     "output_type": "execute_result"
    },
    {
     "data": {
      "text/plain": [
       "'success: content added from https://www.gov.ca.gov/2023/09/01/governor-newsom-announces-appointments-9-1-23/'"
      ]
     },
     "execution_count": 25,
     "metadata": {},
     "output_type": "execute_result"
    },
    {
     "data": {
      "text/plain": [
       "'success: content added from https://www.gov.ca.gov/2023/09/01/112-new-chp-officers/'"
      ]
     },
     "execution_count": 25,
     "metadata": {},
     "output_type": "execute_result"
    },
    {
     "data": {
      "text/plain": [
       "'success: content added from https://www.gov.ca.gov/2023/09/01/governor-newsoms-mental-health-package-moves-through-the-legislature/'"
      ]
     },
     "execution_count": 25,
     "metadata": {},
     "output_type": "execute_result"
    },
    {
     "data": {
      "text/plain": [
       "'success: content added from https://www.gov.ca.gov/2023/09/01/federal-government-commits-to-fixing-tijuana-river-sewage-crisis-in-san-diego-county/'"
      ]
     },
     "execution_count": 25,
     "metadata": {},
     "output_type": "execute_result"
    },
    {
     "data": {
      "text/plain": [
       "'success: content added from https://www.gov.ca.gov/2023/10/31/new-investments-will-increase-access-to-health-care-for-low-income-californians/'"
      ]
     },
     "execution_count": 25,
     "metadata": {},
     "output_type": "execute_result"
    },
    {
     "data": {
      "text/plain": [
       "'success: content added from https://www.gov.ca.gov/2023/10/30/what-governor-newsoms-trip-to-china-accomplished/'"
      ]
     },
     "execution_count": 25,
     "metadata": {},
     "output_type": "execute_result"
    },
    {
     "data": {
      "text/plain": [
       "'success: content added from https://www.gov.ca.gov/2023/10/30/governor-newsom-statement-on-president-bidens-ai-eo/'"
      ]
     },
     "execution_count": 25,
     "metadata": {},
     "output_type": "execute_result"
    },
    {
     "data": {
      "text/plain": [
       "'success: content added from https://www.gov.ca.gov/2023/10/29/governor-newsoms-last-day-in-china-advances-new-climate-partnership-with-shanghai/'"
      ]
     },
     "execution_count": 25,
     "metadata": {},
     "output_type": "execute_result"
    },
    {
     "data": {
      "text/plain": [
       "'success: content added from https://www.gov.ca.gov/2023/10/28/saturday-in-china-offshore-wind-wetlands-high-speed-rail/'"
      ]
     },
     "execution_count": 25,
     "metadata": {},
     "output_type": "execute_result"
    },
    {
     "data": {
      "text/plain": [
       "'success: content added from https://www.gov.ca.gov/2023/10/27/california-distributes-192-million-for-more-clean-transit/'"
      ]
     },
     "execution_count": 25,
     "metadata": {},
     "output_type": "execute_result"
    },
    {
     "data": {
      "text/plain": [
       "'success: content added from https://www.gov.ca.gov/2023/10/27/in-china-a-california-welcome-at-the-u-s-embassy/'"
      ]
     },
     "execution_count": 25,
     "metadata": {},
     "output_type": "execute_result"
    },
    {
     "data": {
      "text/plain": [
       "'success: content added from https://www.gov.ca.gov/2023/10/27/sf-opioid-task-force/'"
      ]
     },
     "execution_count": 25,
     "metadata": {},
     "output_type": "execute_result"
    },
    {
     "data": {
      "text/plain": [
       "'success: content added from https://www.gov.ca.gov/2023/10/26/california-set-to-distribute-40-million-to-build-ev-fast-chargers/'"
      ]
     },
     "execution_count": 25,
     "metadata": {},
     "output_type": "execute_result"
    },
    {
     "data": {
      "text/plain": [
       "'success: content added from https://www.gov.ca.gov/2023/10/26/at-chinas-great-wall-momentum-builds-for-climate-action/'"
      ]
     },
     "execution_count": 25,
     "metadata": {},
     "output_type": "execute_result"
    },
    {
     "data": {
      "text/plain": [
       "'success: content added from https://www.gov.ca.gov/2023/10/25/governor-newsom-statement-on-president-bidens-310-million-emergency-request-to-address-tijuana-river-sewage-crisis/'"
      ]
     },
     "execution_count": 25,
     "metadata": {},
     "output_type": "execute_result"
    },
    {
     "data": {
      "text/plain": [
       "'success: content added from https://www.gov.ca.gov/2023/10/25/acting-governor-eleni-kounalakis-proclaims-larry-itliong-day/'"
      ]
     },
     "execution_count": 25,
     "metadata": {},
     "output_type": "execute_result"
    },
    {
     "data": {
      "text/plain": [
       "'success: content added from https://www.gov.ca.gov/2023/10/25/california-takes-action-to-prepare-for-the-upcoming-wet-season/'"
      ]
     },
     "execution_count": 25,
     "metadata": {},
     "output_type": "execute_result"
    },
    {
     "data": {
      "text/plain": [
       "'success: content added from https://www.gov.ca.gov/2023/10/25/state-releases-accountability-report-on-san-franciscos-housing-policies-and-practices/'"
      ]
     },
     "execution_count": 25,
     "metadata": {},
     "output_type": "execute_result"
    },
    {
     "data": {
      "text/plain": [
       "'success: content added from https://www.gov.ca.gov/2023/10/25/governor-newsom-meets-with-chinese-president-xi-jinping/'"
      ]
     },
     "execution_count": 25,
     "metadata": {},
     "output_type": "execute_result"
    },
    {
     "data": {
      "text/plain": [
       "'success: content added from https://www.gov.ca.gov/2023/10/24/time-recognizes-cal-fire-ai-alertcalifornia-as-a-best-invention-of-2023/'"
      ]
     },
     "execution_count": 25,
     "metadata": {},
     "output_type": "execute_result"
    },
    {
     "data": {
      "text/plain": [
       "'success: content added from https://www.gov.ca.gov/2023/10/24/california-reaches-energy-storage-milestone/'"
      ]
     },
     "execution_count": 25,
     "metadata": {},
     "output_type": "execute_result"
    },
    {
     "data": {
      "text/plain": [
       "'success: content added from https://www.gov.ca.gov/2023/10/24/governor-newsom-visits-chinas-greater-bay-area/'"
      ]
     },
     "execution_count": 25,
     "metadata": {},
     "output_type": "execute_result"
    },
    {
     "data": {
      "text/plain": [
       "'success: content added from https://www.gov.ca.gov/2023/10/23/california-hit-zev-truck-sales-goal-two-years-ahead-of-schedule/'"
      ]
     },
     "execution_count": 25,
     "metadata": {},
     "output_type": "execute_result"
    },
    {
     "data": {
      "text/plain": [
       "'success: content added from https://www.gov.ca.gov/2023/10/23/governor-newsom-starts-weeklong-international-trip/'"
      ]
     },
     "execution_count": 25,
     "metadata": {},
     "output_type": "execute_result"
    },
    {
     "data": {
      "text/plain": [
       "'success: content added from https://www.gov.ca.gov/2023/10/20/governor-newsom-travels-to-israel/'"
      ]
     },
     "execution_count": 25,
     "metadata": {},
     "output_type": "execute_result"
    },
    {
     "data": {
      "text/plain": [
       "'success: content added from https://www.gov.ca.gov/2023/10/20/governor-newsom-submits-1115-waiver-application/'"
      ]
     },
     "execution_count": 25,
     "metadata": {},
     "output_type": "execute_result"
    },
    {
     "data": {
      "text/plain": [
       "'success: content added from https://www.gov.ca.gov/2023/10/20/coronado-agrees-to-build-more-housing/'"
      ]
     },
     "execution_count": 25,
     "metadata": {},
     "output_type": "execute_result"
    },
    {
     "data": {
      "text/plain": [
       "'success: content added from https://www.gov.ca.gov/2023/10/19/governor-newsom-statement-on-u-s-district-court-decision-invalidating-californias-assault-weapons-ban/'"
      ]
     },
     "execution_count": 25,
     "metadata": {},
     "output_type": "execute_result"
    },
    {
     "data": {
      "text/plain": [
       "'success: content added from https://www.gov.ca.gov/2023/10/18/governor-newsom-announces-appointments-10-18-23/'"
      ]
     },
     "execution_count": 25,
     "metadata": {},
     "output_type": "execute_result"
    },
    {
     "data": {
      "text/plain": [
       "'success: content added from https://www.gov.ca.gov/2023/10/18/faith-security-funding/'"
      ]
     },
     "execution_count": 25,
     "metadata": {},
     "output_type": "execute_result"
    },
    {
     "data": {
      "text/plain": [
       "'success: content added from https://www.gov.ca.gov/2023/10/18/governor-newsom-announces-judicial-appointments-10-18-23/'"
      ]
     },
     "execution_count": 25,
     "metadata": {},
     "output_type": "execute_result"
    },
    {
     "data": {
      "text/plain": [
       "'success: content added from https://www.gov.ca.gov/2023/10/18/governor-newsom-goes-to-china-next-week/'"
      ]
     },
     "execution_count": 25,
     "metadata": {},
     "output_type": "execute_result"
    },
    {
     "data": {
      "text/plain": [
       "'success: content added from https://www.gov.ca.gov/2023/10/17/governor-newsom-announces-appointments-10-17-23/'"
      ]
     },
     "execution_count": 25,
     "metadata": {},
     "output_type": "execute_result"
    },
    {
     "data": {
      "text/plain": [
       "'success: content added from https://www.gov.ca.gov/2023/10/16/california-continues-progress-to-boost-water-supplies-and-build-resilience-amid-extreme-weather/'"
      ]
     },
     "execution_count": 25,
     "metadata": {},
     "output_type": "execute_result"
    },
    {
     "data": {
      "text/plain": [
       "'success: content added from https://www.gov.ca.gov/2023/10/13/governor-newsom-issues-legislative-update-10-13-23/'"
      ]
     },
     "execution_count": 25,
     "metadata": {},
     "output_type": "execute_result"
    },
    {
     "data": {
      "text/plain": [
       "'success: content added from https://www.gov.ca.gov/2023/10/13/governor-newsom-announces-appointments-10-13-23/'"
      ]
     },
     "execution_count": 25,
     "metadata": {},
     "output_type": "execute_result"
    },
    {
     "data": {
      "text/plain": [
       "'success: content added from https://www.gov.ca.gov/2023/10/13/california-selected-as-a-national-hydrogen-hub/'"
      ]
     },
     "execution_count": 25,
     "metadata": {},
     "output_type": "execute_result"
    },
    {
     "data": {
      "text/plain": [
       "'success: content added from https://www.gov.ca.gov/2023/10/12/governor-newsom-announces-appointments-10-12-23/'"
      ]
     },
     "execution_count": 25,
     "metadata": {},
     "output_type": "execute_result"
    },
    {
     "data": {
      "text/plain": [
       "'success: content added from https://www.gov.ca.gov/2023/10/12/governor-newsom-statement-on-kaiser-mental-health-settlement/'"
      ]
     },
     "execution_count": 25,
     "metadata": {},
     "output_type": "execute_result"
    },
    {
     "data": {
      "text/plain": [
       "'success: content added from https://www.gov.ca.gov/2023/10/12/governor-newsom-puts-historic-mental-health-transformation-on-march-2024-ballot/'"
      ]
     },
     "execution_count": 25,
     "metadata": {},
     "output_type": "execute_result"
    },
    {
     "data": {
      "text/plain": [
       "'success: content added from https://www.gov.ca.gov/2023/10/11/tomorrow-in-los-angeles-county-governor-newsom-to-sign-historic-mental-health-transformation-legislative-package/'"
      ]
     },
     "execution_count": 25,
     "metadata": {},
     "output_type": "execute_result"
    },
    {
     "data": {
      "text/plain": [
       "'success: content added from https://www.gov.ca.gov/2023/10/11/governor-newsom-signs-package-to-streamline-housing-and-expand-tenant-protections-in-california/'"
      ]
     },
     "execution_count": 25,
     "metadata": {},
     "output_type": "execute_result"
    },
    {
     "data": {
      "text/plain": [
       "'success: content added from https://www.gov.ca.gov/2023/10/11/governor-newsom-announces-appointments-10-11-23/'"
      ]
     },
     "execution_count": 25,
     "metadata": {},
     "output_type": "execute_result"
    },
    {
     "data": {
      "text/plain": [
       "'success: content added from https://www.gov.ca.gov/2023/10/10/california-takes-action-to-tackle-homelessness/'"
      ]
     },
     "execution_count": 25,
     "metadata": {},
     "output_type": "execute_result"
    },
    {
     "data": {
      "text/plain": [
       "'success: content added from https://www.gov.ca.gov/2023/10/10/governor-newsom-announces-appointments-10-10-23/'"
      ]
     },
     "execution_count": 25,
     "metadata": {},
     "output_type": "execute_result"
    },
    {
     "data": {
      "text/plain": [
       "'success: content added from https://www.gov.ca.gov/2023/10/10/governor-newsom-signs-legislation-10-10-23/'"
      ]
     },
     "execution_count": 25,
     "metadata": {},
     "output_type": "execute_result"
    },
    {
     "data": {
      "text/plain": [
       "'success: content added from https://www.gov.ca.gov/2023/10/10/modernizing-conservatorship-law-sb43/'"
      ]
     },
     "execution_count": 25,
     "metadata": {},
     "output_type": "execute_result"
    },
    {
     "data": {
      "text/plain": [
       "'success: content added from https://www.gov.ca.gov/2023/10/09/state-announces-114-5-million-in-clean-california-grants/'"
      ]
     },
     "execution_count": 25,
     "metadata": {},
     "output_type": "execute_result"
    },
    {
     "data": {
      "text/plain": [
       "'success: content added from https://www.gov.ca.gov/2023/10/09/governor-newsom-proclaims-indigenous-peoples-day-2023/'"
      ]
     },
     "execution_count": 25,
     "metadata": {},
     "output_type": "execute_result"
    },
    {
     "data": {
      "text/plain": [
       "'success: content added from https://www.gov.ca.gov/2023/10/08/governor-newsom-issues-legislative-update-10-8-23-2/'"
      ]
     },
     "execution_count": 25,
     "metadata": {},
     "output_type": "execute_result"
    },
    {
     "data": {
      "text/plain": [
       "'success: content added from https://www.gov.ca.gov/2023/10/08/governor-newsom-issues-legislative-update-10-8-23/'"
      ]
     },
     "execution_count": 25,
     "metadata": {},
     "output_type": "execute_result"
    },
    {
     "data": {
      "text/plain": [
       "'success: content added from https://www.gov.ca.gov/2023/10/07/governor-newsom-issues-legislative-update-10-7-23/'"
      ]
     },
     "execution_count": 25,
     "metadata": {},
     "output_type": "execute_result"
    },
    {
     "data": {
      "text/plain": [
       "'success: content added from https://www.gov.ca.gov/2023/10/06/governor-newsom-sets-statewide-presidential-primary-election/'"
      ]
     },
     "execution_count": 25,
     "metadata": {},
     "output_type": "execute_result"
    },
    {
     "data": {
      "text/plain": [
       "'success: content added from https://www.gov.ca.gov/2023/10/06/governor-newsom-announces-appointments-10-6-23/'"
      ]
     },
     "execution_count": 25,
     "metadata": {},
     "output_type": "execute_result"
    },
    {
     "data": {
      "text/plain": [
       "'success: content added from https://www.gov.ca.gov/2023/10/06/governor-newsom-proclaims-disability-employment-awareness-month-2023/'"
      ]
     },
     "execution_count": 25,
     "metadata": {},
     "output_type": "execute_result"
    },
    {
     "data": {
      "text/plain": [
       "'success: content added from https://www.gov.ca.gov/2023/10/05/governor-newsom-announces-appointments-10-5-23/'"
      ]
     },
     "execution_count": 25,
     "metadata": {},
     "output_type": "execute_result"
    },
    {
     "data": {
      "text/plain": [
       "'success: content added from https://www.gov.ca.gov/2023/10/05/governor-newsom-announces-judicial-appointments-10-5-23/'"
      ]
     },
     "execution_count": 25,
     "metadata": {},
     "output_type": "execute_result"
    },
    {
     "data": {
      "text/plain": [
       "'success: content added from https://www.gov.ca.gov/2023/10/05/governor-newsom-honors-fallen-manhattan-beach-police-officer-chad-swanson/'"
      ]
     },
     "execution_count": 25,
     "metadata": {},
     "output_type": "execute_result"
    },
    {
     "data": {
      "text/plain": [
       "'success: content added from https://www.gov.ca.gov/2023/10/04/workers-just-got-more-paid-sick-days/'"
      ]
     },
     "execution_count": 25,
     "metadata": {},
     "output_type": "execute_result"
    },
    {
     "data": {
      "text/plain": [
       "'success: content added from https://www.gov.ca.gov/2023/10/02/leaders-praise-governor-newsoms-decision-to-appoint-laphonza-butler-to-u-s-senate/'"
      ]
     },
     "execution_count": 25,
     "metadata": {},
     "output_type": "execute_result"
    },
    {
     "data": {
      "text/plain": [
       "'success: content added from https://www.gov.ca.gov/2023/10/01/governor-gavin-newsom-appoints-laphonza-butler-senate/'"
      ]
     },
     "execution_count": 25,
     "metadata": {},
     "output_type": "execute_result"
    },
    {
     "data": {
      "text/plain": [
       "'success: content added from https://www.gov.ca.gov/2023/11/29/launches-reproductive-health-services-corps/'"
      ]
     },
     "execution_count": 25,
     "metadata": {},
     "output_type": "execute_result"
    },
    {
     "data": {
      "text/plain": [
       "'success: content added from https://www.gov.ca.gov/2023/11/28/new-report-highlights-the-promise-of-lithium-valley/'"
      ]
     },
     "execution_count": 25,
     "metadata": {},
     "output_type": "execute_result"
    },
    {
     "data": {
      "text/plain": [
       "'success: content added from https://www.gov.ca.gov/2023/11/28/governor-newsom-appoints-new-business-consumer-services-and-housing-agency-secretary/'"
      ]
     },
     "execution_count": 25,
     "metadata": {},
     "output_type": "execute_result"
    },
    {
     "data": {
      "text/plain": [
       "'success: content added from https://www.gov.ca.gov/2023/11/28/governor-newsom-announces-new-legislation-to-prevent-illicit-use-and-trafficking-of-xylazine/'"
      ]
     },
     "execution_count": 25,
     "metadata": {},
     "output_type": "execute_result"
    },
    {
     "data": {
      "text/plain": [
       "'success: content added from https://www.gov.ca.gov/2023/11/27/california-has-removed-5679-encampments-announces-300-million-in-new-funding-to-move-people-out-of-encampments/'"
      ]
     },
     "execution_count": 25,
     "metadata": {},
     "output_type": "execute_result"
    },
    {
     "data": {
      "text/plain": [
       "'success: content added from https://www.gov.ca.gov/2023/11/23/acting-governor-eleni-kounalakis-proclaims-thanksgiving-day-2/'"
      ]
     },
     "execution_count": 25,
     "metadata": {},
     "output_type": "execute_result"
    },
    {
     "data": {
      "text/plain": [
       "'success: content added from https://www.gov.ca.gov/2023/11/22/orc-holiday-blitz/'"
      ]
     },
     "execution_count": 25,
     "metadata": {},
     "output_type": "execute_result"
    },
    {
     "data": {
      "text/plain": [
       "'success: content added from https://www.gov.ca.gov/2023/11/22/california-secures-presidential-major-disaster-declaration-to-support-tropical-storm-hilary-recovery-efforts/'"
      ]
     },
     "execution_count": 25,
     "metadata": {},
     "output_type": "execute_result"
    },
    {
     "data": {
      "text/plain": [
       "'success: content added from https://www.gov.ca.gov/2023/11/21/79261/'"
      ]
     },
     "execution_count": 25,
     "metadata": {},
     "output_type": "execute_result"
    },
    {
     "data": {
      "text/plain": [
       "'success: content added from https://www.gov.ca.gov/2023/11/21/newsom-administration-releases-genai-report/'"
      ]
     },
     "execution_count": 25,
     "metadata": {},
     "output_type": "execute_result"
    },
    {
     "data": {
      "text/plain": [
       "'success: content added from https://www.gov.ca.gov/2023/11/20/acting-governor-eleni-kounalakis-proclaims-transgender-remembrance-day-2023/'"
      ]
     },
     "execution_count": 25,
     "metadata": {},
     "output_type": "execute_result"
    },
    {
     "data": {
      "text/plain": [
       "'success: content added from https://www.gov.ca.gov/2023/11/19/10-reopen/'"
      ]
     },
     "execution_count": 25,
     "metadata": {},
     "output_type": "execute_result"
    },
    {
     "data": {
      "text/plain": [
       "'success: content added from https://www.gov.ca.gov/2023/11/19/the-10-reopening/'"
      ]
     },
     "execution_count": 25,
     "metadata": {},
     "output_type": "execute_result"
    },
    {
     "data": {
      "text/plain": [
       "'success: content added from https://www.gov.ca.gov/2023/11/18/tomorrow-in-los-angeles-county-governor-newsom-vice-president-harris-and-mayor-bass-to-provide-update-on-i-10-freeway-incident/'"
      ]
     },
     "execution_count": 25,
     "metadata": {},
     "output_type": "execute_result"
    },
    {
     "data": {
      "text/plain": [
       "'success: content added from https://www.gov.ca.gov/2023/11/18/governor-newsom-proclaims-native-american-heritage-month-2023/'"
      ]
     },
     "execution_count": 25,
     "metadata": {},
     "output_type": "execute_result"
    },
    {
     "data": {
      "text/plain": [
       "'success: content added from https://www.gov.ca.gov/2023/11/17/fix-the-10-progress/'"
      ]
     },
     "execution_count": 25,
     "metadata": {},
     "output_type": "execute_result"
    },
    {
     "data": {
      "text/plain": [
       "'success: content added from https://www.gov.ca.gov/2023/11/17/california-invests-149-million-in-cutting-edge-companies-creating-nearly-6000-jobs/'"
      ]
     },
     "execution_count": 25,
     "metadata": {},
     "output_type": "execute_result"
    },
    {
     "data": {
      "text/plain": [
       "'success: content added from https://www.gov.ca.gov/2023/11/16/fix-the-10-governor-newsom-announces-the-10-will-re-open-next-tuesday/'"
      ]
     },
     "execution_count": 25,
     "metadata": {},
     "output_type": "execute_result"
    },
    {
     "data": {
      "text/plain": [
       "'success: content added from https://www.gov.ca.gov/2023/11/16/governor-newsom-announces-appointments-11-16-23/'"
      ]
     },
     "execution_count": 25,
     "metadata": {},
     "output_type": "execute_result"
    },
    {
     "data": {
      "text/plain": [
       "'success: content added from https://www.gov.ca.gov/2023/11/16/at-apec-governor-newsom-highlights-californias-low-carbon-green-growth-economy/'"
      ]
     },
     "execution_count": 25,
     "metadata": {},
     "output_type": "execute_result"
    },
    {
     "data": {
      "text/plain": [
       "'success: content added from https://www.gov.ca.gov/2023/11/16/governor-newsom-applauds-u-s-china-agreements/'"
      ]
     },
     "execution_count": 25,
     "metadata": {},
     "output_type": "execute_result"
    },
    {
     "data": {
      "text/plain": [
       "'success: content added from https://www.gov.ca.gov/2023/11/15/governor-newsom-announces-appointments-11-15-23/'"
      ]
     },
     "execution_count": 25,
     "metadata": {},
     "output_type": "execute_result"
    },
    {
     "data": {
      "text/plain": [
       "'success: content added from https://www.gov.ca.gov/2023/11/15/fix-the-10-california-secures-quick-release-funding-from-biden-harris-administration/'"
      ]
     },
     "execution_count": 25,
     "metadata": {},
     "output_type": "execute_result"
    },
    {
     "data": {
      "text/plain": [
       "'success: content added from https://www.gov.ca.gov/2023/11/15/fix-the-10/'"
      ]
     },
     "execution_count": 25,
     "metadata": {},
     "output_type": "execute_result"
    },
    {
     "data": {
      "text/plain": [
       "'success: content added from https://www.gov.ca.gov/2023/11/14/governor-newsom-statement-on-u-s-district-court-decision-dismissing-lawsuit-filed-by-huntington-beach/'"
      ]
     },
     "execution_count": 25,
     "metadata": {},
     "output_type": "execute_result"
    },
    {
     "data": {
      "text/plain": [
       "'success: content added from https://www.gov.ca.gov/2023/11/14/governor-newsom-announces-appointments-11-14-23/'"
      ]
     },
     "execution_count": 25,
     "metadata": {},
     "output_type": "execute_result"
    },
    {
     "data": {
      "text/plain": [
       "'success: content added from https://www.gov.ca.gov/2023/11/14/fix-the-10-governor-newsom-announces-the-10-freeway-on-track-to-reopen-to-traffic-in-3-to-5-weeks/'"
      ]
     },
     "execution_count": 25,
     "metadata": {},
     "output_type": "execute_result"
    },
    {
     "data": {
      "text/plain": [
       "'success: content added from https://www.gov.ca.gov/2023/11/14/advsory-la-freeway-incident/'"
      ]
     },
     "execution_count": 25,
     "metadata": {},
     "output_type": "execute_result"
    },
    {
     "data": {
      "text/plain": [
       "'success: content added from https://www.gov.ca.gov/2023/11/13/fix-the-10-governor-newsom-highlights-efforts-underway-to-repair-major-la-freeway/'"
      ]
     },
     "execution_count": 25,
     "metadata": {},
     "output_type": "execute_result"
    },
    {
     "data": {
      "text/plain": [
       "'success: content added from https://www.gov.ca.gov/2023/11/13/governor-newsom-proclaims-national-apprenticeship-week/'"
      ]
     },
     "execution_count": 25,
     "metadata": {},
     "output_type": "execute_result"
    },
    {
     "data": {
      "text/plain": [
       "'success: content added from https://www.gov.ca.gov/2023/11/13/today-in-los-angeles-county-governor-newsom-and-mayor-bass-to-provide-update-on-10-freeway-incident/'"
      ]
     },
     "execution_count": 25,
     "metadata": {},
     "output_type": "execute_result"
    },
    {
     "data": {
      "text/plain": [
       "'success: content added from https://www.gov.ca.gov/2023/11/12/availability-of-state-resources-for-re-opening-i-10-freeway/'"
      ]
     },
     "execution_count": 25,
     "metadata": {},
     "output_type": "execute_result"
    },
    {
     "data": {
      "text/plain": [
       "'success: content added from https://www.gov.ca.gov/2023/11/12/advisory-los-angeles-county-i-10-highway-incident/'"
      ]
     },
     "execution_count": 25,
     "metadata": {},
     "output_type": "execute_result"
    },
    {
     "data": {
      "text/plain": [
       "'success: content added from https://www.gov.ca.gov/2023/11/11/governor-newsom-proclaims-state-of-emergency-in-los-angeles-county-due-to-i-10-freeway-fire/'"
      ]
     },
     "execution_count": 25,
     "metadata": {},
     "output_type": "execute_result"
    },
    {
     "data": {
      "text/plain": [
       "'success: content added from https://www.gov.ca.gov/2023/11/11/governor-newsom-proclaims-veterans-day-2023/'"
      ]
     },
     "execution_count": 25,
     "metadata": {},
     "output_type": "execute_result"
    },
    {
     "data": {
      "text/plain": [
       "'success: content added from https://www.gov.ca.gov/2023/11/09/clean-california-transforms-blighted-vacant-lot-into-nursery-and-education-center-in-the-heart-of-san-francisco/'"
      ]
     },
     "execution_count": 25,
     "metadata": {},
     "output_type": "execute_result"
    },
    {
     "data": {
      "text/plain": [
       "'success: content added from https://www.gov.ca.gov/2023/11/08/governor-newsom-issues-statement-on-the-tentative-agreement-between-sag-aftra-and-film-and-tv-studios/'"
      ]
     },
     "execution_count": 25,
     "metadata": {},
     "output_type": "execute_result"
    },
    {
     "data": {
      "text/plain": [
       "'success: content added from https://www.gov.ca.gov/2023/11/08/big-oil-hiked-gas-prices-in-q3-and-made-huge-profits/'"
      ]
     },
     "execution_count": 25,
     "metadata": {},
     "output_type": "execute_result"
    },
    {
     "data": {
      "text/plain": [
       "'success: content added from https://www.gov.ca.gov/2023/11/07/homekey-awards-156-4-million-to-expand-homeless-housing/'"
      ]
     },
     "execution_count": 25,
     "metadata": {},
     "output_type": "execute_result"
    },
    {
     "data": {
      "text/plain": [
       "'success: content added from https://www.gov.ca.gov/2023/11/07/rahimi/'"
      ]
     },
     "execution_count": 25,
     "metadata": {},
     "output_type": "execute_result"
    },
    {
     "data": {
      "text/plain": [
       "'success: content added from https://www.gov.ca.gov/2023/11/06/governor-newsom-streamlines-major-water-storage-project/'"
      ]
     },
     "execution_count": 25,
     "metadata": {},
     "output_type": "execute_result"
    },
    {
     "data": {
      "text/plain": [
       "'success: content added from https://www.gov.ca.gov/2023/11/03/launch-of-first-state-funded-guaranteed-income-pilot-programs/'"
      ]
     },
     "execution_count": 25,
     "metadata": {},
     "output_type": "execute_result"
    },
    {
     "data": {
      "text/plain": [
       "'success: content added from https://www.gov.ca.gov/2023/11/02/governor-newsom-announces-appointments-11-2-23/'"
      ]
     },
     "execution_count": 25,
     "metadata": {},
     "output_type": "execute_result"
    },
    {
     "data": {
      "text/plain": [
       "'success: content added from https://www.gov.ca.gov/2023/11/02/governor-newsom-proclaims-alzheimers-disease-awareness-month/'"
      ]
     },
     "execution_count": 25,
     "metadata": {},
     "output_type": "execute_result"
    },
    {
     "data": {
      "text/plain": [
       "'success: content added from https://www.gov.ca.gov/2023/11/02/governor-newsom-signs-tribal-state-gaming-compact-11-2-23/'"
      ]
     },
     "execution_count": 25,
     "metadata": {},
     "output_type": "execute_result"
    },
    {
     "data": {
      "text/plain": [
       "'success: content added from https://www.gov.ca.gov/2023/11/02/more-jobs-better-careers-california-distributes-72-5-million-to-create-regional-education-to-career-pipelines/'"
      ]
     },
     "execution_count": 25,
     "metadata": {},
     "output_type": "execute_result"
    },
    {
     "data": {
      "text/plain": [
       "'success: content added from https://www.gov.ca.gov/2023/11/02/26-7-of-all-new-cars-sold-in-california-were-zero-emission/'"
      ]
     },
     "execution_count": 25,
     "metadata": {},
     "output_type": "execute_result"
    },
    {
     "data": {
      "text/plain": [
       "'success: content added from https://www.gov.ca.gov/2023/11/01/watch-governor-newsoms-trip-to-china-in-1-minute/'"
      ]
     },
     "execution_count": 25,
     "metadata": {},
     "output_type": "execute_result"
    },
    {
     "data": {
      "text/plain": [
       "'success: content added from https://www.gov.ca.gov/2023/11/01/cradle-to-career-milestone/'"
      ]
     },
     "execution_count": 25,
     "metadata": {},
     "output_type": "execute_result"
    },
    {
     "data": {
      "text/plain": [
       "'success: content added from https://www.gov.ca.gov/2023/12/29/new-laws-going-into-effect-on-january-1st/'"
      ]
     },
     "execution_count": 25,
     "metadata": {},
     "output_type": "execute_result"
    },
    {
     "data": {
      "text/plain": [
       "'success: content added from https://www.gov.ca.gov/2023/12/28/california-expands-outdoor-access-across-the-state/'"
      ]
     },
     "execution_count": 25,
     "metadata": {},
     "output_type": "execute_result"
    },
    {
     "data": {
      "text/plain": [
       "'success: content added from https://www.gov.ca.gov/2023/12/28/2023-recap/'"
      ]
     },
     "execution_count": 25,
     "metadata": {},
     "output_type": "execute_result"
    },
    {
     "data": {
      "text/plain": [
       "'success: content added from https://www.gov.ca.gov/2023/12/22/supporting-access-to-healthy-foods-and-resilient-food-systems/'"
      ]
     },
     "execution_count": 25,
     "metadata": {},
     "output_type": "execute_result"
    },
    {
     "data": {
      "text/plain": [
       "'success: content added from https://www.gov.ca.gov/2023/12/22/sf-operation-2023-update/'"
      ]
     },
     "execution_count": 25,
     "metadata": {},
     "output_type": "execute_result"
    },
    {
     "data": {
      "text/plain": [
       "'success: content added from https://www.gov.ca.gov/2023/12/21/california-awards-150-million-to-support-mental-health-programs-for-youth-and-young-adults/'"
      ]
     },
     "execution_count": 25,
     "metadata": {},
     "output_type": "execute_result"
    },
    {
     "data": {
      "text/plain": [
       "'success: content added from https://www.gov.ca.gov/2023/12/20/homekey-funds-another-613-homes-helping-californians-at-risk-for-homelessness/'"
      ]
     },
     "execution_count": 25,
     "metadata": {},
     "output_type": "execute_result"
    },
    {
     "data": {
      "text/plain": [
       "'success: content added from https://www.gov.ca.gov/2023/12/19/storm-season-preparations-ongoing-across-the-state/'"
      ]
     },
     "execution_count": 25,
     "metadata": {},
     "output_type": "execute_result"
    },
    {
     "data": {
      "text/plain": [
       "'success: content added from https://www.gov.ca.gov/2023/12/19/orc-efforts-2023/'"
      ]
     },
     "execution_count": 25,
     "metadata": {},
     "output_type": "execute_result"
    },
    {
     "data": {
      "text/plain": [
       "'success: content added from https://www.gov.ca.gov/2023/12/18/california-advances-projects-to-build-climate-resilient-communities-conserve-agricultural-land/'"
      ]
     },
     "execution_count": 25,
     "metadata": {},
     "output_type": "execute_result"
    },
    {
     "data": {
      "text/plain": [
       "'success: content added from https://www.gov.ca.gov/2023/12/15/governor-newsom-announces-appointments-12-15-23/'"
      ]
     },
     "execution_count": 25,
     "metadata": {},
     "output_type": "execute_result"
    },
    {
     "data": {
      "text/plain": [
       "'success: content added from https://www.gov.ca.gov/2023/12/14/tomorrow-governor-newsom-to-host-virtual-media-briefing-on-care-court-and-the-states-transformative-behavioral-health-investments/'"
      ]
     },
     "execution_count": 25,
     "metadata": {},
     "output_type": "execute_result"
    },
    {
     "data": {
      "text/plain": [
       "'success: content added from https://www.gov.ca.gov/2023/12/14/newsom-administration-on-track-to-secure-seven-c-130s-to-fight-wildfires/'"
      ]
     },
     "execution_count": 25,
     "metadata": {},
     "output_type": "execute_result"
    },
    {
     "data": {
      "text/plain": [
       "'success: content added from https://www.gov.ca.gov/2023/12/14/governor-newsom-announces-appointments-12-14-23/'"
      ]
     },
     "execution_count": 25,
     "metadata": {},
     "output_type": "execute_result"
    },
    {
     "data": {
      "text/plain": [
       "'success: content added from https://www.gov.ca.gov/2023/12/14/california-launches-opioids-ca-gov/'"
      ]
     },
     "execution_count": 25,
     "metadata": {},
     "output_type": "execute_result"
    },
    {
     "data": {
      "text/plain": [
       "'success: content added from https://www.gov.ca.gov/2023/12/13/california-releases-beavers-into-the-wild-for-first-time-in-nearly-75-years/'"
      ]
     },
     "execution_count": 25,
     "metadata": {},
     "output_type": "execute_result"
    },
    {
     "data": {
      "text/plain": [
       "'success: content added from https://www.gov.ca.gov/2023/12/12/governor-newsom-attorney-general-bonta-take-legal-action-against-la-canada-flintridge-to-enforce-californias-housing-laws/'"
      ]
     },
     "execution_count": 25,
     "metadata": {},
     "output_type": "execute_result"
    },
    {
     "data": {
      "text/plain": [
       "'success: content added from https://www.gov.ca.gov/2023/12/12/what-theyre-saying-water-labor-business-and-equity-leaders-support-proposed-delta-conveyance-project/'"
      ]
     },
     "execution_count": 25,
     "metadata": {},
     "output_type": "execute_result"
    },
    {
     "data": {
      "text/plain": [
       "'success: content added from https://www.gov.ca.gov/2023/12/08/governor-newsom-highlights-funding-for-climate-change-resiliency-projects-across-california/'"
      ]
     },
     "execution_count": 25,
     "metadata": {},
     "output_type": "execute_result"
    },
    {
     "data": {
      "text/plain": [
       "'success: content added from https://www.gov.ca.gov/2023/12/08/california-gets-70-million-in-federal-funding-to-accelerate-salton-sea-restoration/'"
      ]
     },
     "execution_count": 25,
     "metadata": {},
     "output_type": "execute_result"
    },
    {
     "data": {
      "text/plain": [
       "'success: content added from https://www.gov.ca.gov/2023/12/08/governor-newsom-announces-appointments-12-8-23/'"
      ]
     },
     "execution_count": 25,
     "metadata": {},
     "output_type": "execute_result"
    },
    {
     "data": {
      "text/plain": [
       "'success: content added from https://www.gov.ca.gov/2023/12/08/governor-newsom-reaffirms-support-for-updated-delta-conveyance-proposal/'"
      ]
     },
     "execution_count": 25,
     "metadata": {},
     "output_type": "execute_result"
    },
    {
     "data": {
      "text/plain": [
       "'success: content added from https://www.gov.ca.gov/2023/12/07/governor-newsom-announces-appointments-12-7-23/'"
      ]
     },
     "execution_count": 25,
     "metadata": {},
     "output_type": "execute_result"
    },
    {
     "data": {
      "text/plain": [
       "'success: content added from https://www.gov.ca.gov/2023/12/07/state-marks-100-water-system-consolidations-providing-safe-drinking-water-for-90000-californians/'"
      ]
     },
     "execution_count": 25,
     "metadata": {},
     "output_type": "execute_result"
    },
    {
     "data": {
      "text/plain": [
       "'success: content added from https://www.gov.ca.gov/2023/12/07/governor-newsom-announces-judicial-appointments-12-7-23/'"
      ]
     },
     "execution_count": 25,
     "metadata": {},
     "output_type": "execute_result"
    },
    {
     "data": {
      "text/plain": [
       "'success: content added from https://www.gov.ca.gov/2023/12/07/what-california-accomplished-at-cop28/'"
      ]
     },
     "execution_count": 25,
     "metadata": {},
     "output_type": "execute_result"
    },
    {
     "data": {
      "text/plain": [
       "'success: content added from https://www.gov.ca.gov/2023/12/07/israel-gaza-humanitarian-aid/'"
      ]
     },
     "execution_count": 25,
     "metadata": {},
     "output_type": "execute_result"
    },
    {
     "data": {
      "text/plain": [
       "'success: content added from https://www.gov.ca.gov/2023/12/07/governor-newsom-proclaims-pearl-harbor-remembrance-day-2023/'"
      ]
     },
     "execution_count": 25,
     "metadata": {},
     "output_type": "execute_result"
    },
    {
     "data": {
      "text/plain": [
       "'success: content added from https://www.gov.ca.gov/2023/12/06/92nd-annual-california-state-capitol-tree-lighting-ceremony/'"
      ]
     },
     "execution_count": 25,
     "metadata": {},
     "output_type": "execute_result"
    },
    {
     "data": {
      "text/plain": [
       "'success: content added from https://www.gov.ca.gov/2023/12/05/california-to-receive-6-billion-federal-investment-for-high-speed-rail/'"
      ]
     },
     "execution_count": 25,
     "metadata": {},
     "output_type": "execute_result"
    },
    {
     "data": {
      "text/plain": [
       "'success: content added from https://www.gov.ca.gov/2023/12/05/governor-and-first-partner-honor-fallen-airmen-12-5-23/'"
      ]
     },
     "execution_count": 25,
     "metadata": {},
     "output_type": "execute_result"
    },
    {
     "data": {
      "text/plain": [
       "'success: content added from https://www.gov.ca.gov/2023/12/05/governor-newsom-and-first-partner-siebel-newsom-to-host-the-92nd-annual-california-state-capitol-virtual-tree-lighting-ceremony/'"
      ]
     },
     "execution_count": 25,
     "metadata": {},
     "output_type": "execute_result"
    },
    {
     "data": {
      "text/plain": [
       "'success: content added from https://www.gov.ca.gov/2023/12/04/rfa-joint-otc-letter-to-hhs/'"
      ]
     },
     "execution_count": 25,
     "metadata": {},
     "output_type": "execute_result"
    },
    {
     "data": {
      "text/plain": [
       "'success: content added from https://www.gov.ca.gov/2023/12/01/over-40-acres-of-ancestral-land-returned-to-native-american-tribe/'"
      ]
     },
     "execution_count": 25,
     "metadata": {},
     "output_type": "execute_result"
    },
    {
     "data": {
      "text/plain": [
       "'success: content added from https://www.gov.ca.gov/2023/12/01/governor-newsom-statement-on-passing-of-u-s-supreme-court-justice-sandra-day-oconnor/'"
      ]
     },
     "execution_count": 25,
     "metadata": {},
     "output_type": "execute_result"
    }
   ],
   "source": [
    "# do for all\n",
    "for i in combined.link:\n",
    "     get_california_content(i, combined, header_list)"
   ]
  },
  {
   "cell_type": "markdown",
   "id": "996610cb",
   "metadata": {
    "heading_collapsed": true
   },
   "source": [
    "## Validate and Clean "
   ]
  },
  {
   "cell_type": "code",
   "execution_count": 26,
   "id": "06bca64d",
   "metadata": {
    "hidden": true
   },
   "outputs": [
    {
     "data": {
      "text/html": [
       "<div>\n",
       "<style scoped>\n",
       "    .dataframe tbody tr th:only-of-type {\n",
       "        vertical-align: middle;\n",
       "    }\n",
       "\n",
       "    .dataframe tbody tr th {\n",
       "        vertical-align: top;\n",
       "    }\n",
       "\n",
       "    .dataframe thead th {\n",
       "        text-align: right;\n",
       "    }\n",
       "</style>\n",
       "<table border=\"1\" class=\"dataframe\">\n",
       "  <thead>\n",
       "    <tr style=\"text-align: right;\">\n",
       "      <th></th>\n",
       "      <th>title</th>\n",
       "      <th>date</th>\n",
       "      <th>link</th>\n",
       "      <th>content</th>\n",
       "      <th>page_scraped</th>\n",
       "    </tr>\n",
       "  </thead>\n",
       "  <tbody>\n",
       "  </tbody>\n",
       "</table>\n",
       "</div>"
      ],
      "text/plain": [
       "Empty DataFrame\n",
       "Columns: [title, date, link, content, page_scraped]\n",
       "Index: []"
      ]
     },
     "execution_count": 26,
     "metadata": {},
     "output_type": "execute_result"
    }
   ],
   "source": [
    "#check that content was pulled accurately\n",
    "combined[combined.content.isna()]"
   ]
  },
  {
   "cell_type": "code",
   "execution_count": 27,
   "id": "6615a069",
   "metadata": {
    "hidden": true
   },
   "outputs": [],
   "source": [
    "# convert date to date-time object to subset\n",
    "combined['date_clean'] = pd.to_datetime(combined['date'])"
   ]
  },
  {
   "cell_type": "code",
   "execution_count": 28,
   "id": "2f31557a",
   "metadata": {
    "hidden": true
   },
   "outputs": [],
   "source": [
    "# drop original date column \n",
    "california = combined.drop(columns=['date']).copy()"
   ]
  },
  {
   "cell_type": "code",
   "execution_count": 29,
   "id": "c51e53c4",
   "metadata": {
    "hidden": true
   },
   "outputs": [],
   "source": [
    "# subset to 2023 only \n",
    "california_2023 = california[(california['date_clean'] >= '2023-01-01')\n",
    "                     & (california['date_clean'] <= '2023-12-31')].copy()"
   ]
  },
  {
   "cell_type": "code",
   "execution_count": 30,
   "id": "e894624d",
   "metadata": {
    "hidden": true
   },
   "outputs": [
    {
     "name": "stdout",
     "output_type": "stream",
     "text": [
      "pulled 608 documents from california for 2023\n"
     ]
    }
   ],
   "source": [
    "print(f\"pulled {str(len(california_2023))} documents from california for 2023\")"
   ]
  },
  {
   "cell_type": "code",
   "execution_count": 34,
   "id": "c305606b",
   "metadata": {
    "hidden": true
   },
   "outputs": [
    {
     "data": {
      "text/html": [
       "<div>\n",
       "<style scoped>\n",
       "    .dataframe tbody tr th:only-of-type {\n",
       "        vertical-align: middle;\n",
       "    }\n",
       "\n",
       "    .dataframe tbody tr th {\n",
       "        vertical-align: top;\n",
       "    }\n",
       "\n",
       "    .dataframe thead th {\n",
       "        text-align: right;\n",
       "    }\n",
       "</style>\n",
       "<table border=\"1\" class=\"dataframe\">\n",
       "  <thead>\n",
       "    <tr style=\"text-align: right;\">\n",
       "      <th></th>\n",
       "      <th>title</th>\n",
       "      <th>link</th>\n",
       "      <th>content</th>\n",
       "      <th>page_scraped</th>\n",
       "      <th>date_clean</th>\n",
       "    </tr>\n",
       "  </thead>\n",
       "  <tbody>\n",
       "    <tr>\n",
       "      <th>0</th>\n",
       "      <td>Read more about Governor Newsom Signs Executiv...</td>\n",
       "      <td>https://www.gov.ca.gov/2023/01/31/governor-new...</td>\n",
       "      <td>Published: Jan 31, 2023 SACRAMENTO – Governor ...</td>\n",
       "      <td>1</td>\n",
       "      <td>2023-01-31</td>\n",
       "    </tr>\n",
       "    <tr>\n",
       "      <th>1</th>\n",
       "      <td>Read more about Governor Newsom Ends Multiple ...</td>\n",
       "      <td>https://www.gov.ca.gov/2023/01/31/governor-new...</td>\n",
       "      <td>Published: Jan 31, 2023 The text of today’s pr...</td>\n",
       "      <td>1</td>\n",
       "      <td>2023-01-31</td>\n",
       "    </tr>\n",
       "    <tr>\n",
       "      <th>2</th>\n",
       "      <td>Read more about Governor Newsom Announces Awar...</td>\n",
       "      <td>https://www.gov.ca.gov/2023/01/31/governor-new...</td>\n",
       "      <td>Published: Jan 31, 2023 Funding is part of a h...</td>\n",
       "      <td>1</td>\n",
       "      <td>2023-01-31</td>\n",
       "    </tr>\n",
       "    <tr>\n",
       "      <th>3</th>\n",
       "      <td>Read more about Governor Newsom Announces Judi...</td>\n",
       "      <td>https://www.gov.ca.gov/2023/01/31/governor-new...</td>\n",
       "      <td>Published: Jan 31, 2023 SACRAMENTO – Governor ...</td>\n",
       "      <td>1</td>\n",
       "      <td>2023-01-31</td>\n",
       "    </tr>\n",
       "    <tr>\n",
       "      <th>4</th>\n",
       "      <td>Read more about Governor Newsom Announces Thre...</td>\n",
       "      <td>https://www.gov.ca.gov/2023/01/31/governor-new...</td>\n",
       "      <td>Published: Jan 31, 2023 SACRAMENTO – Governor ...</td>\n",
       "      <td>1</td>\n",
       "      <td>2023-01-31</td>\n",
       "    </tr>\n",
       "  </tbody>\n",
       "</table>\n",
       "</div>"
      ],
      "text/plain": [
       "                                               title  \\\n",
       "0  Read more about Governor Newsom Signs Executiv...   \n",
       "1  Read more about Governor Newsom Ends Multiple ...   \n",
       "2  Read more about Governor Newsom Announces Awar...   \n",
       "3  Read more about Governor Newsom Announces Judi...   \n",
       "4  Read more about Governor Newsom Announces Thre...   \n",
       "\n",
       "                                                link  \\\n",
       "0  https://www.gov.ca.gov/2023/01/31/governor-new...   \n",
       "1  https://www.gov.ca.gov/2023/01/31/governor-new...   \n",
       "2  https://www.gov.ca.gov/2023/01/31/governor-new...   \n",
       "3  https://www.gov.ca.gov/2023/01/31/governor-new...   \n",
       "4  https://www.gov.ca.gov/2023/01/31/governor-new...   \n",
       "\n",
       "                                             content  page_scraped date_clean  \n",
       "0  Published: Jan 31, 2023 SACRAMENTO – Governor ...             1 2023-01-31  \n",
       "1  Published: Jan 31, 2023 The text of today’s pr...             1 2023-01-31  \n",
       "2  Published: Jan 31, 2023 Funding is part of a h...             1 2023-01-31  \n",
       "3  Published: Jan 31, 2023 SACRAMENTO – Governor ...             1 2023-01-31  \n",
       "4  Published: Jan 31, 2023 SACRAMENTO – Governor ...             1 2023-01-31  "
      ]
     },
     "execution_count": 34,
     "metadata": {},
     "output_type": "execute_result"
    }
   ],
   "source": [
    "california_2023.head()"
   ]
  },
  {
   "cell_type": "markdown",
   "id": "7c55eaae",
   "metadata": {},
   "source": [
    "## Export"
   ]
  },
  {
   "cell_type": "code",
   "execution_count": 31,
   "id": "d675fc44",
   "metadata": {},
   "outputs": [],
   "source": [
    "# export\n",
    "california_2023.to_csv('california_2023.csv', index = False)"
   ]
  },
  {
   "cell_type": "code",
   "execution_count": null,
   "id": "621c6b9b",
   "metadata": {},
   "outputs": [],
   "source": [
    "# test = pd.read_csv('alabama_2023.csv')\n",
    "# test.head()"
   ]
  }
 ],
 "metadata": {
  "kernelspec": {
   "display_name": "Python 3 (ipykernel)",
   "language": "python",
   "name": "python3"
  },
  "language_info": {
   "codemirror_mode": {
    "name": "ipython",
    "version": 3
   },
   "file_extension": ".py",
   "mimetype": "text/x-python",
   "name": "python",
   "nbconvert_exporter": "python",
   "pygments_lexer": "ipython3",
   "version": "3.9.12"
  }
 },
 "nbformat": 4,
 "nbformat_minor": 5
}
