{
 "cells": [
  {
   "cell_type": "markdown",
   "id": "f00d02a5",
   "metadata": {},
   "source": [
    "# Nevada Scraping "
   ]
  },
  {
   "cell_type": "code",
   "execution_count": 1,
   "id": "2d2ca3c3",
   "metadata": {},
   "outputs": [
    {
     "name": "stdout",
     "output_type": "stream",
     "text": [
      "Exception reporting mode: Minimal\n"
     ]
    }
   ],
   "source": [
    "# set up \n",
    "import pandas as pd \n",
    "import requests \n",
    "import bs4\n",
    "import numpy as np\n",
    "import time \n",
    "import re\n",
    "from tika import parser\n",
    "from selenium import webdriver\n",
    "from selenium.webdriver.common.by import By\n",
    "from selenium.webdriver.support.ui import WebDriverWait\n",
    "from selenium.webdriver.support import expected_conditions as EC\n",
    "from selenium.webdriver.support.select import Select\n",
    "from selenium.webdriver.common.action_chains import ActionChains\n",
    "from selenium.common.exceptions import StaleElementReferenceException, TimeoutException\n",
    "from io import BytesIO\n",
    "from urllib.request import urlopen\n",
    "from selenium.webdriver.chrome.options import Options\n",
    "\n",
    "from IPython.core.interactiveshell import InteractiveShell \n",
    "InteractiveShell.ast_node_interactivity = \"all\"\n",
    "\n",
    "%xmode Minimal"
   ]
  },
  {
   "cell_type": "code",
   "execution_count": 2,
   "id": "4b8c25f3",
   "metadata": {},
   "outputs": [],
   "source": [
    "# # set headers\n",
    "# header_list = {'User-Agent': REDACTED,\n",
    "#               'Accept-Language': 'en-US,en;q=0.9'}"
   ]
  },
  {
   "cell_type": "code",
   "execution_count": 3,
   "id": "0b85368d",
   "metadata": {},
   "outputs": [],
   "source": [
    "# state - UPDATE EACH TIME\n",
    "state = 'nevada' "
   ]
  },
  {
   "cell_type": "code",
   "execution_count": null,
   "id": "150c1170",
   "metadata": {},
   "outputs": [],
   "source": [
    "# review of robots.txt - no restrictions"
   ]
  },
  {
   "cell_type": "code",
   "execution_count": null,
   "id": "92379a17",
   "metadata": {},
   "outputs": [],
   "source": [
    "# test = pd.read_csv(f'{state}_2023.csv')\n",
    "# test.head()"
   ]
  },
  {
   "cell_type": "markdown",
   "id": "40a0e028",
   "metadata": {},
   "source": [
    "## Scrape links \n",
    "`Selenium`"
   ]
  },
  {
   "cell_type": "code",
   "execution_count": 14,
   "id": "c3542160",
   "metadata": {},
   "outputs": [
    {
     "data": {
      "text/plain": [
       "[<selenium.webdriver.remote.webelement.WebElement (session=\"d6905d71177e8e9848cf47468fdb793c\", element=\"02D0067DADC2D9E33D32035E24C72495_element_13\")>,\n",
       " <selenium.webdriver.remote.webelement.WebElement (session=\"d6905d71177e8e9848cf47468fdb793c\", element=\"02D0067DADC2D9E33D32035E24C72495_element_14\")>,\n",
       " <selenium.webdriver.remote.webelement.WebElement (session=\"d6905d71177e8e9848cf47468fdb793c\", element=\"02D0067DADC2D9E33D32035E24C72495_element_15\")>,\n",
       " <selenium.webdriver.remote.webelement.WebElement (session=\"d6905d71177e8e9848cf47468fdb793c\", element=\"02D0067DADC2D9E33D32035E24C72495_element_16\")>,\n",
       " <selenium.webdriver.remote.webelement.WebElement (session=\"d6905d71177e8e9848cf47468fdb793c\", element=\"02D0067DADC2D9E33D32035E24C72495_element_17\")>,\n",
       " <selenium.webdriver.remote.webelement.WebElement (session=\"d6905d71177e8e9848cf47468fdb793c\", element=\"02D0067DADC2D9E33D32035E24C72495_element_18\")>,\n",
       " <selenium.webdriver.remote.webelement.WebElement (session=\"d6905d71177e8e9848cf47468fdb793c\", element=\"02D0067DADC2D9E33D32035E24C72495_element_19\")>,\n",
       " <selenium.webdriver.remote.webelement.WebElement (session=\"d6905d71177e8e9848cf47468fdb793c\", element=\"02D0067DADC2D9E33D32035E24C72495_element_20\")>,\n",
       " <selenium.webdriver.remote.webelement.WebElement (session=\"d6905d71177e8e9848cf47468fdb793c\", element=\"02D0067DADC2D9E33D32035E24C72495_element_21\")>,\n",
       " <selenium.webdriver.remote.webelement.WebElement (session=\"d6905d71177e8e9848cf47468fdb793c\", element=\"02D0067DADC2D9E33D32035E24C72495_element_22\")>,\n",
       " <selenium.webdriver.remote.webelement.WebElement (session=\"d6905d71177e8e9848cf47468fdb793c\", element=\"02D0067DADC2D9E33D32035E24C72495_element_23\")>,\n",
       " <selenium.webdriver.remote.webelement.WebElement (session=\"d6905d71177e8e9848cf47468fdb793c\", element=\"02D0067DADC2D9E33D32035E24C72495_element_24\")>,\n",
       " <selenium.webdriver.remote.webelement.WebElement (session=\"d6905d71177e8e9848cf47468fdb793c\", element=\"02D0067DADC2D9E33D32035E24C72495_element_25\")>,\n",
       " <selenium.webdriver.remote.webelement.WebElement (session=\"d6905d71177e8e9848cf47468fdb793c\", element=\"02D0067DADC2D9E33D32035E24C72495_element_26\")>,\n",
       " <selenium.webdriver.remote.webelement.WebElement (session=\"d6905d71177e8e9848cf47468fdb793c\", element=\"02D0067DADC2D9E33D32035E24C72495_element_27\")>,\n",
       " <selenium.webdriver.remote.webelement.WebElement (session=\"d6905d71177e8e9848cf47468fdb793c\", element=\"02D0067DADC2D9E33D32035E24C72495_element_28\")>,\n",
       " <selenium.webdriver.remote.webelement.WebElement (session=\"d6905d71177e8e9848cf47468fdb793c\", element=\"02D0067DADC2D9E33D32035E24C72495_element_29\")>,\n",
       " <selenium.webdriver.remote.webelement.WebElement (session=\"d6905d71177e8e9848cf47468fdb793c\", element=\"02D0067DADC2D9E33D32035E24C72495_element_30\")>,\n",
       " <selenium.webdriver.remote.webelement.WebElement (session=\"d6905d71177e8e9848cf47468fdb793c\", element=\"02D0067DADC2D9E33D32035E24C72495_element_31\")>,\n",
       " <selenium.webdriver.remote.webelement.WebElement (session=\"d6905d71177e8e9848cf47468fdb793c\", element=\"02D0067DADC2D9E33D32035E24C72495_element_32\")>,\n",
       " <selenium.webdriver.remote.webelement.WebElement (session=\"d6905d71177e8e9848cf47468fdb793c\", element=\"02D0067DADC2D9E33D32035E24C72495_element_33\")>,\n",
       " <selenium.webdriver.remote.webelement.WebElement (session=\"d6905d71177e8e9848cf47468fdb793c\", element=\"02D0067DADC2D9E33D32035E24C72495_element_34\")>,\n",
       " <selenium.webdriver.remote.webelement.WebElement (session=\"d6905d71177e8e9848cf47468fdb793c\", element=\"02D0067DADC2D9E33D32035E24C72495_element_35\")>,\n",
       " <selenium.webdriver.remote.webelement.WebElement (session=\"d6905d71177e8e9848cf47468fdb793c\", element=\"02D0067DADC2D9E33D32035E24C72495_element_36\")>,\n",
       " <selenium.webdriver.remote.webelement.WebElement (session=\"d6905d71177e8e9848cf47468fdb793c\", element=\"02D0067DADC2D9E33D32035E24C72495_element_37\")>,\n",
       " <selenium.webdriver.remote.webelement.WebElement (session=\"d6905d71177e8e9848cf47468fdb793c\", element=\"02D0067DADC2D9E33D32035E24C72495_element_38\")>,\n",
       " <selenium.webdriver.remote.webelement.WebElement (session=\"d6905d71177e8e9848cf47468fdb793c\", element=\"02D0067DADC2D9E33D32035E24C72495_element_39\")>,\n",
       " <selenium.webdriver.remote.webelement.WebElement (session=\"d6905d71177e8e9848cf47468fdb793c\", element=\"02D0067DADC2D9E33D32035E24C72495_element_40\")>,\n",
       " <selenium.webdriver.remote.webelement.WebElement (session=\"d6905d71177e8e9848cf47468fdb793c\", element=\"02D0067DADC2D9E33D32035E24C72495_element_41\")>,\n",
       " <selenium.webdriver.remote.webelement.WebElement (session=\"d6905d71177e8e9848cf47468fdb793c\", element=\"02D0067DADC2D9E33D32035E24C72495_element_42\")>,\n",
       " <selenium.webdriver.remote.webelement.WebElement (session=\"d6905d71177e8e9848cf47468fdb793c\", element=\"02D0067DADC2D9E33D32035E24C72495_element_43\")>,\n",
       " <selenium.webdriver.remote.webelement.WebElement (session=\"d6905d71177e8e9848cf47468fdb793c\", element=\"02D0067DADC2D9E33D32035E24C72495_element_44\")>,\n",
       " <selenium.webdriver.remote.webelement.WebElement (session=\"d6905d71177e8e9848cf47468fdb793c\", element=\"02D0067DADC2D9E33D32035E24C72495_element_45\")>,\n",
       " <selenium.webdriver.remote.webelement.WebElement (session=\"d6905d71177e8e9848cf47468fdb793c\", element=\"02D0067DADC2D9E33D32035E24C72495_element_46\")>,\n",
       " <selenium.webdriver.remote.webelement.WebElement (session=\"d6905d71177e8e9848cf47468fdb793c\", element=\"02D0067DADC2D9E33D32035E24C72495_element_47\")>,\n",
       " <selenium.webdriver.remote.webelement.WebElement (session=\"d6905d71177e8e9848cf47468fdb793c\", element=\"02D0067DADC2D9E33D32035E24C72495_element_48\")>,\n",
       " <selenium.webdriver.remote.webelement.WebElement (session=\"d6905d71177e8e9848cf47468fdb793c\", element=\"02D0067DADC2D9E33D32035E24C72495_element_49\")>,\n",
       " <selenium.webdriver.remote.webelement.WebElement (session=\"d6905d71177e8e9848cf47468fdb793c\", element=\"02D0067DADC2D9E33D32035E24C72495_element_50\")>,\n",
       " <selenium.webdriver.remote.webelement.WebElement (session=\"d6905d71177e8e9848cf47468fdb793c\", element=\"02D0067DADC2D9E33D32035E24C72495_element_51\")>,\n",
       " <selenium.webdriver.remote.webelement.WebElement (session=\"d6905d71177e8e9848cf47468fdb793c\", element=\"02D0067DADC2D9E33D32035E24C72495_element_52\")>,\n",
       " <selenium.webdriver.remote.webelement.WebElement (session=\"d6905d71177e8e9848cf47468fdb793c\", element=\"02D0067DADC2D9E33D32035E24C72495_element_53\")>,\n",
       " <selenium.webdriver.remote.webelement.WebElement (session=\"d6905d71177e8e9848cf47468fdb793c\", element=\"02D0067DADC2D9E33D32035E24C72495_element_54\")>,\n",
       " <selenium.webdriver.remote.webelement.WebElement (session=\"d6905d71177e8e9848cf47468fdb793c\", element=\"02D0067DADC2D9E33D32035E24C72495_element_55\")>,\n",
       " <selenium.webdriver.remote.webelement.WebElement (session=\"d6905d71177e8e9848cf47468fdb793c\", element=\"02D0067DADC2D9E33D32035E24C72495_element_56\")>,\n",
       " <selenium.webdriver.remote.webelement.WebElement (session=\"d6905d71177e8e9848cf47468fdb793c\", element=\"02D0067DADC2D9E33D32035E24C72495_element_57\")>,\n",
       " <selenium.webdriver.remote.webelement.WebElement (session=\"d6905d71177e8e9848cf47468fdb793c\", element=\"02D0067DADC2D9E33D32035E24C72495_element_58\")>,\n",
       " <selenium.webdriver.remote.webelement.WebElement (session=\"d6905d71177e8e9848cf47468fdb793c\", element=\"02D0067DADC2D9E33D32035E24C72495_element_59\")>,\n",
       " <selenium.webdriver.remote.webelement.WebElement (session=\"d6905d71177e8e9848cf47468fdb793c\", element=\"02D0067DADC2D9E33D32035E24C72495_element_60\")>,\n",
       " <selenium.webdriver.remote.webelement.WebElement (session=\"d6905d71177e8e9848cf47468fdb793c\", element=\"02D0067DADC2D9E33D32035E24C72495_element_61\")>,\n",
       " <selenium.webdriver.remote.webelement.WebElement (session=\"d6905d71177e8e9848cf47468fdb793c\", element=\"02D0067DADC2D9E33D32035E24C72495_element_62\")>,\n",
       " <selenium.webdriver.remote.webelement.WebElement (session=\"d6905d71177e8e9848cf47468fdb793c\", element=\"02D0067DADC2D9E33D32035E24C72495_element_63\")>,\n",
       " <selenium.webdriver.remote.webelement.WebElement (session=\"d6905d71177e8e9848cf47468fdb793c\", element=\"02D0067DADC2D9E33D32035E24C72495_element_64\")>,\n",
       " <selenium.webdriver.remote.webelement.WebElement (session=\"d6905d71177e8e9848cf47468fdb793c\", element=\"02D0067DADC2D9E33D32035E24C72495_element_65\")>,\n",
       " <selenium.webdriver.remote.webelement.WebElement (session=\"d6905d71177e8e9848cf47468fdb793c\", element=\"02D0067DADC2D9E33D32035E24C72495_element_66\")>,\n",
       " <selenium.webdriver.remote.webelement.WebElement (session=\"d6905d71177e8e9848cf47468fdb793c\", element=\"02D0067DADC2D9E33D32035E24C72495_element_67\")>,\n",
       " <selenium.webdriver.remote.webelement.WebElement (session=\"d6905d71177e8e9848cf47468fdb793c\", element=\"02D0067DADC2D9E33D32035E24C72495_element_68\")>,\n",
       " <selenium.webdriver.remote.webelement.WebElement (session=\"d6905d71177e8e9848cf47468fdb793c\", element=\"02D0067DADC2D9E33D32035E24C72495_element_69\")>,\n",
       " <selenium.webdriver.remote.webelement.WebElement (session=\"d6905d71177e8e9848cf47468fdb793c\", element=\"02D0067DADC2D9E33D32035E24C72495_element_70\")>,\n",
       " <selenium.webdriver.remote.webelement.WebElement (session=\"d6905d71177e8e9848cf47468fdb793c\", element=\"02D0067DADC2D9E33D32035E24C72495_element_71\")>,\n",
       " <selenium.webdriver.remote.webelement.WebElement (session=\"d6905d71177e8e9848cf47468fdb793c\", element=\"02D0067DADC2D9E33D32035E24C72495_element_72\")>,\n",
       " <selenium.webdriver.remote.webelement.WebElement (session=\"d6905d71177e8e9848cf47468fdb793c\", element=\"02D0067DADC2D9E33D32035E24C72495_element_73\")>,\n",
       " <selenium.webdriver.remote.webelement.WebElement (session=\"d6905d71177e8e9848cf47468fdb793c\", element=\"02D0067DADC2D9E33D32035E24C72495_element_74\")>,\n",
       " <selenium.webdriver.remote.webelement.WebElement (session=\"d6905d71177e8e9848cf47468fdb793c\", element=\"02D0067DADC2D9E33D32035E24C72495_element_75\")>,\n",
       " <selenium.webdriver.remote.webelement.WebElement (session=\"d6905d71177e8e9848cf47468fdb793c\", element=\"02D0067DADC2D9E33D32035E24C72495_element_76\")>,\n",
       " <selenium.webdriver.remote.webelement.WebElement (session=\"d6905d71177e8e9848cf47468fdb793c\", element=\"02D0067DADC2D9E33D32035E24C72495_element_77\")>,\n",
       " <selenium.webdriver.remote.webelement.WebElement (session=\"d6905d71177e8e9848cf47468fdb793c\", element=\"02D0067DADC2D9E33D32035E24C72495_element_78\")>,\n",
       " <selenium.webdriver.remote.webelement.WebElement (session=\"d6905d71177e8e9848cf47468fdb793c\", element=\"02D0067DADC2D9E33D32035E24C72495_element_79\")>,\n",
       " <selenium.webdriver.remote.webelement.WebElement (session=\"d6905d71177e8e9848cf47468fdb793c\", element=\"02D0067DADC2D9E33D32035E24C72495_element_80\")>,\n",
       " <selenium.webdriver.remote.webelement.WebElement (session=\"d6905d71177e8e9848cf47468fdb793c\", element=\"02D0067DADC2D9E33D32035E24C72495_element_81\")>,\n",
       " <selenium.webdriver.remote.webelement.WebElement (session=\"d6905d71177e8e9848cf47468fdb793c\", element=\"02D0067DADC2D9E33D32035E24C72495_element_82\")>,\n",
       " <selenium.webdriver.remote.webelement.WebElement (session=\"d6905d71177e8e9848cf47468fdb793c\", element=\"02D0067DADC2D9E33D32035E24C72495_element_83\")>,\n",
       " <selenium.webdriver.remote.webelement.WebElement (session=\"d6905d71177e8e9848cf47468fdb793c\", element=\"02D0067DADC2D9E33D32035E24C72495_element_84\")>,\n",
       " <selenium.webdriver.remote.webelement.WebElement (session=\"d6905d71177e8e9848cf47468fdb793c\", element=\"02D0067DADC2D9E33D32035E24C72495_element_85\")>,\n",
       " <selenium.webdriver.remote.webelement.WebElement (session=\"d6905d71177e8e9848cf47468fdb793c\", element=\"02D0067DADC2D9E33D32035E24C72495_element_86\")>,\n",
       " <selenium.webdriver.remote.webelement.WebElement (session=\"d6905d71177e8e9848cf47468fdb793c\", element=\"02D0067DADC2D9E33D32035E24C72495_element_87\")>,\n",
       " <selenium.webdriver.remote.webelement.WebElement (session=\"d6905d71177e8e9848cf47468fdb793c\", element=\"02D0067DADC2D9E33D32035E24C72495_element_88\")>,\n",
       " <selenium.webdriver.remote.webelement.WebElement (session=\"d6905d71177e8e9848cf47468fdb793c\", element=\"02D0067DADC2D9E33D32035E24C72495_element_89\")>,\n",
       " <selenium.webdriver.remote.webelement.WebElement (session=\"d6905d71177e8e9848cf47468fdb793c\", element=\"02D0067DADC2D9E33D32035E24C72495_element_90\")>,\n",
       " <selenium.webdriver.remote.webelement.WebElement (session=\"d6905d71177e8e9848cf47468fdb793c\", element=\"02D0067DADC2D9E33D32035E24C72495_element_91\")>,\n",
       " <selenium.webdriver.remote.webelement.WebElement (session=\"d6905d71177e8e9848cf47468fdb793c\", element=\"02D0067DADC2D9E33D32035E24C72495_element_92\")>,\n",
       " <selenium.webdriver.remote.webelement.WebElement (session=\"d6905d71177e8e9848cf47468fdb793c\", element=\"02D0067DADC2D9E33D32035E24C72495_element_93\")>,\n",
       " <selenium.webdriver.remote.webelement.WebElement (session=\"d6905d71177e8e9848cf47468fdb793c\", element=\"02D0067DADC2D9E33D32035E24C72495_element_94\")>,\n",
       " <selenium.webdriver.remote.webelement.WebElement (session=\"d6905d71177e8e9848cf47468fdb793c\", element=\"02D0067DADC2D9E33D32035E24C72495_element_95\")>,\n",
       " <selenium.webdriver.remote.webelement.WebElement (session=\"d6905d71177e8e9848cf47468fdb793c\", element=\"02D0067DADC2D9E33D32035E24C72495_element_96\")>,\n",
       " <selenium.webdriver.remote.webelement.WebElement (session=\"d6905d71177e8e9848cf47468fdb793c\", element=\"02D0067DADC2D9E33D32035E24C72495_element_97\")>,\n",
       " <selenium.webdriver.remote.webelement.WebElement (session=\"d6905d71177e8e9848cf47468fdb793c\", element=\"02D0067DADC2D9E33D32035E24C72495_element_98\")>,\n",
       " <selenium.webdriver.remote.webelement.WebElement (session=\"d6905d71177e8e9848cf47468fdb793c\", element=\"02D0067DADC2D9E33D32035E24C72495_element_99\")>,\n",
       " <selenium.webdriver.remote.webelement.WebElement (session=\"d6905d71177e8e9848cf47468fdb793c\", element=\"02D0067DADC2D9E33D32035E24C72495_element_100\")>,\n",
       " <selenium.webdriver.remote.webelement.WebElement (session=\"d6905d71177e8e9848cf47468fdb793c\", element=\"02D0067DADC2D9E33D32035E24C72495_element_101\")>,\n",
       " <selenium.webdriver.remote.webelement.WebElement (session=\"d6905d71177e8e9848cf47468fdb793c\", element=\"02D0067DADC2D9E33D32035E24C72495_element_102\")>,\n",
       " <selenium.webdriver.remote.webelement.WebElement (session=\"d6905d71177e8e9848cf47468fdb793c\", element=\"02D0067DADC2D9E33D32035E24C72495_element_103\")>,\n",
       " <selenium.webdriver.remote.webelement.WebElement (session=\"d6905d71177e8e9848cf47468fdb793c\", element=\"02D0067DADC2D9E33D32035E24C72495_element_104\")>]"
      ]
     },
     "execution_count": 14,
     "metadata": {},
     "output_type": "execute_result"
    }
   ],
   "source": [
    "driver = webdriver.Chrome()\n",
    "driver.get('https://gov.nv.gov/Newsroom/PRs/news-releases/')\n",
    "\n",
    "wait = WebDriverWait(driver, 3)\n",
    "wait.until(EC.presence_of_all_elements_located((By.CLASS_NAME, 'm-4')))\n",
    "\n",
    "section = driver.find_element(By.XPATH, '//*[@id=\"content_main\"]')\n",
    "results = section.find_elements(By.CLASS_NAME, 'm-4')\n",
    "# results\n",
    "\n",
    "results_list = []\n",
    "\n",
    "for i in results:\n",
    "    try: \n",
    "        results_dic = {'title': i.find_element(By.TAG_NAME, 'a').text,\n",
    "                       'date': i.find_element(By.TAG_NAME, 'p').text,\n",
    "                       'link': i.find_element(By.TAG_NAME, 'a').get_attribute('href')}\n",
    "        results_list.append(results_dic)\n",
    "    except:\n",
    "        pass\n",
    "          \n",
    "df = pd.DataFrame(results_list)\n",
    "\n",
    "driver.close()"
   ]
  },
  {
   "cell_type": "code",
   "execution_count": 16,
   "id": "3d68ebe4",
   "metadata": {},
   "outputs": [
    {
     "name": "stdout",
     "output_type": "stream",
     "text": [
      "<class 'pandas.core.frame.DataFrame'>\n",
      "RangeIndex: 91 entries, 0 to 90\n",
      "Data columns (total 3 columns):\n",
      " #   Column  Non-Null Count  Dtype \n",
      "---  ------  --------------  ----- \n",
      " 0   title   91 non-null     object\n",
      " 1   date    91 non-null     object\n",
      " 2   link    91 non-null     object\n",
      "dtypes: object(3)\n",
      "memory usage: 2.3+ KB\n"
     ]
    },
    {
     "data": {
      "text/html": [
       "<div>\n",
       "<style scoped>\n",
       "    .dataframe tbody tr th:only-of-type {\n",
       "        vertical-align: middle;\n",
       "    }\n",
       "\n",
       "    .dataframe tbody tr th {\n",
       "        vertical-align: top;\n",
       "    }\n",
       "\n",
       "    .dataframe thead th {\n",
       "        text-align: right;\n",
       "    }\n",
       "</style>\n",
       "<table border=\"1\" class=\"dataframe\">\n",
       "  <thead>\n",
       "    <tr style=\"text-align: right;\">\n",
       "      <th></th>\n",
       "      <th>title</th>\n",
       "      <th>date</th>\n",
       "      <th>link</th>\n",
       "    </tr>\n",
       "  </thead>\n",
       "  <tbody>\n",
       "    <tr>\n",
       "      <th>0</th>\n",
       "      <td>Governor Joe Lombardo Appoints Dr. Vicki Mazzo...</td>\n",
       "      <td>February 14, 2024</td>\n",
       "      <td>https://gov.nv.gov/Newsroom/PRs/2024/2024-14-0...</td>\n",
       "    </tr>\n",
       "    <tr>\n",
       "      <th>1</th>\n",
       "      <td>press@gov.nv.gov</td>\n",
       "      <td>Communications Director\\nElizabeth Ray\\npress@...</td>\n",
       "      <td>mailto:press@gov.nv.gov</td>\n",
       "    </tr>\n",
       "    <tr>\n",
       "      <th>2</th>\n",
       "      <td>Governor Joe Lombardo and Controller Andy Matt...</td>\n",
       "      <td>February 13, 2024</td>\n",
       "      <td>https://gov.nv.gov/Newsroom/PRs/2024/2024-02-1...</td>\n",
       "    </tr>\n",
       "    <tr>\n",
       "      <th>3</th>\n",
       "      <td>Media Advisory: Controller Andy Matthews To An...</td>\n",
       "      <td>February 9th, 2024</td>\n",
       "      <td>https://gov.nv.gov/Newsroom/PRs/2024/2024-02-0...</td>\n",
       "    </tr>\n",
       "    <tr>\n",
       "      <th>4</th>\n",
       "      <td>DMV Director Announces Retirement</td>\n",
       "      <td>February 9th, 2024</td>\n",
       "      <td>https://gov.nv.gov/Newsroom/PRs/2024/2024-02-0...</td>\n",
       "    </tr>\n",
       "  </tbody>\n",
       "</table>\n",
       "</div>"
      ],
      "text/plain": [
       "                                               title  \\\n",
       "0  Governor Joe Lombardo Appoints Dr. Vicki Mazzo...   \n",
       "1                                   press@gov.nv.gov   \n",
       "2  Governor Joe Lombardo and Controller Andy Matt...   \n",
       "3  Media Advisory: Controller Andy Matthews To An...   \n",
       "4                  DMV Director Announces Retirement   \n",
       "\n",
       "                                                date  \\\n",
       "0                                  February 14, 2024   \n",
       "1  Communications Director\\nElizabeth Ray\\npress@...   \n",
       "2                                  February 13, 2024   \n",
       "3                                 February 9th, 2024   \n",
       "4                                 February 9th, 2024   \n",
       "\n",
       "                                                link  \n",
       "0  https://gov.nv.gov/Newsroom/PRs/2024/2024-14-0...  \n",
       "1                            mailto:press@gov.nv.gov  \n",
       "2  https://gov.nv.gov/Newsroom/PRs/2024/2024-02-1...  \n",
       "3  https://gov.nv.gov/Newsroom/PRs/2024/2024-02-0...  \n",
       "4  https://gov.nv.gov/Newsroom/PRs/2024/2024-02-0...  "
      ]
     },
     "execution_count": 16,
     "metadata": {},
     "output_type": "execute_result"
    }
   ],
   "source": [
    "df.info()\n",
    "df.head()"
   ]
  },
  {
   "cell_type": "code",
   "execution_count": 17,
   "id": "839ebf8b",
   "metadata": {},
   "outputs": [
    {
     "data": {
      "text/html": [
       "<div>\n",
       "<style scoped>\n",
       "    .dataframe tbody tr th:only-of-type {\n",
       "        vertical-align: middle;\n",
       "    }\n",
       "\n",
       "    .dataframe tbody tr th {\n",
       "        vertical-align: top;\n",
       "    }\n",
       "\n",
       "    .dataframe thead th {\n",
       "        text-align: right;\n",
       "    }\n",
       "</style>\n",
       "<table border=\"1\" class=\"dataframe\">\n",
       "  <thead>\n",
       "    <tr style=\"text-align: right;\">\n",
       "      <th></th>\n",
       "      <th>title</th>\n",
       "      <th>date</th>\n",
       "      <th>link</th>\n",
       "    </tr>\n",
       "  </thead>\n",
       "  <tbody>\n",
       "    <tr>\n",
       "      <th>0</th>\n",
       "      <td>Governor Joe Lombardo Appoints Dr. Vicki Mazzo...</td>\n",
       "      <td>February 14, 2024</td>\n",
       "      <td>https://gov.nv.gov/Newsroom/PRs/2024/2024-14-0...</td>\n",
       "    </tr>\n",
       "    <tr>\n",
       "      <th>2</th>\n",
       "      <td>Governor Joe Lombardo and Controller Andy Matt...</td>\n",
       "      <td>February 13, 2024</td>\n",
       "      <td>https://gov.nv.gov/Newsroom/PRs/2024/2024-02-1...</td>\n",
       "    </tr>\n",
       "    <tr>\n",
       "      <th>3</th>\n",
       "      <td>Media Advisory: Controller Andy Matthews To An...</td>\n",
       "      <td>February 9th, 2024</td>\n",
       "      <td>https://gov.nv.gov/Newsroom/PRs/2024/2024-02-0...</td>\n",
       "    </tr>\n",
       "    <tr>\n",
       "      <th>4</th>\n",
       "      <td>DMV Director Announces Retirement</td>\n",
       "      <td>February 9th, 2024</td>\n",
       "      <td>https://gov.nv.gov/Newsroom/PRs/2024/2024-02-0...</td>\n",
       "    </tr>\n",
       "    <tr>\n",
       "      <th>5</th>\n",
       "      <td>ICYMI: Governor Joe Lombardo Announces Over 14...</td>\n",
       "      <td>January 25th, 2024</td>\n",
       "      <td>https://gov.nv.gov/Newsroom/PRs/2024/2024-01-2...</td>\n",
       "    </tr>\n",
       "  </tbody>\n",
       "</table>\n",
       "</div>"
      ],
      "text/plain": [
       "                                               title                date  \\\n",
       "0  Governor Joe Lombardo Appoints Dr. Vicki Mazzo...   February 14, 2024   \n",
       "2  Governor Joe Lombardo and Controller Andy Matt...   February 13, 2024   \n",
       "3  Media Advisory: Controller Andy Matthews To An...  February 9th, 2024   \n",
       "4                  DMV Director Announces Retirement  February 9th, 2024   \n",
       "5  ICYMI: Governor Joe Lombardo Announces Over 14...  January 25th, 2024   \n",
       "\n",
       "                                                link  \n",
       "0  https://gov.nv.gov/Newsroom/PRs/2024/2024-14-0...  \n",
       "2  https://gov.nv.gov/Newsroom/PRs/2024/2024-02-1...  \n",
       "3  https://gov.nv.gov/Newsroom/PRs/2024/2024-02-0...  \n",
       "4  https://gov.nv.gov/Newsroom/PRs/2024/2024-02-0...  \n",
       "5  https://gov.nv.gov/Newsroom/PRs/2024/2024-01-2...  "
      ]
     },
     "execution_count": 17,
     "metadata": {},
     "output_type": "execute_result"
    }
   ],
   "source": [
    "# drop the non-article\n",
    "df = df.drop([1])\n",
    "df.head()"
   ]
  },
  {
   "cell_type": "code",
   "execution_count": 19,
   "id": "1efed926",
   "metadata": {},
   "outputs": [
    {
     "data": {
      "text/html": [
       "<div>\n",
       "<style scoped>\n",
       "    .dataframe tbody tr th:only-of-type {\n",
       "        vertical-align: middle;\n",
       "    }\n",
       "\n",
       "    .dataframe tbody tr th {\n",
       "        vertical-align: top;\n",
       "    }\n",
       "\n",
       "    .dataframe thead th {\n",
       "        text-align: right;\n",
       "    }\n",
       "</style>\n",
       "<table border=\"1\" class=\"dataframe\">\n",
       "  <thead>\n",
       "    <tr style=\"text-align: right;\">\n",
       "      <th></th>\n",
       "      <th>title</th>\n",
       "      <th>date</th>\n",
       "      <th>link</th>\n",
       "      <th>content</th>\n",
       "    </tr>\n",
       "  </thead>\n",
       "  <tbody>\n",
       "    <tr>\n",
       "      <th>0</th>\n",
       "      <td>Governor Joe Lombardo Appoints Dr. Vicki Mazzo...</td>\n",
       "      <td>February 14, 2024</td>\n",
       "      <td>https://gov.nv.gov/Newsroom/PRs/2024/2024-14-0...</td>\n",
       "      <td>NaN</td>\n",
       "    </tr>\n",
       "    <tr>\n",
       "      <th>2</th>\n",
       "      <td>Governor Joe Lombardo and Controller Andy Matt...</td>\n",
       "      <td>February 13, 2024</td>\n",
       "      <td>https://gov.nv.gov/Newsroom/PRs/2024/2024-02-1...</td>\n",
       "      <td>NaN</td>\n",
       "    </tr>\n",
       "    <tr>\n",
       "      <th>3</th>\n",
       "      <td>Media Advisory: Controller Andy Matthews To An...</td>\n",
       "      <td>February 9th, 2024</td>\n",
       "      <td>https://gov.nv.gov/Newsroom/PRs/2024/2024-02-0...</td>\n",
       "      <td>NaN</td>\n",
       "    </tr>\n",
       "    <tr>\n",
       "      <th>4</th>\n",
       "      <td>DMV Director Announces Retirement</td>\n",
       "      <td>February 9th, 2024</td>\n",
       "      <td>https://gov.nv.gov/Newsroom/PRs/2024/2024-02-0...</td>\n",
       "      <td>NaN</td>\n",
       "    </tr>\n",
       "    <tr>\n",
       "      <th>5</th>\n",
       "      <td>ICYMI: Governor Joe Lombardo Announces Over 14...</td>\n",
       "      <td>January 25th, 2024</td>\n",
       "      <td>https://gov.nv.gov/Newsroom/PRs/2024/2024-01-2...</td>\n",
       "      <td>NaN</td>\n",
       "    </tr>\n",
       "  </tbody>\n",
       "</table>\n",
       "</div>"
      ],
      "text/plain": [
       "                                               title                date  \\\n",
       "0  Governor Joe Lombardo Appoints Dr. Vicki Mazzo...   February 14, 2024   \n",
       "2  Governor Joe Lombardo and Controller Andy Matt...   February 13, 2024   \n",
       "3  Media Advisory: Controller Andy Matthews To An...  February 9th, 2024   \n",
       "4                  DMV Director Announces Retirement  February 9th, 2024   \n",
       "5  ICYMI: Governor Joe Lombardo Announces Over 14...  January 25th, 2024   \n",
       "\n",
       "                                                link  content  \n",
       "0  https://gov.nv.gov/Newsroom/PRs/2024/2024-14-0...      NaN  \n",
       "2  https://gov.nv.gov/Newsroom/PRs/2024/2024-02-1...      NaN  \n",
       "3  https://gov.nv.gov/Newsroom/PRs/2024/2024-02-0...      NaN  \n",
       "4  https://gov.nv.gov/Newsroom/PRs/2024/2024-02-0...      NaN  \n",
       "5  https://gov.nv.gov/Newsroom/PRs/2024/2024-01-2...      NaN  "
      ]
     },
     "execution_count": 19,
     "metadata": {},
     "output_type": "execute_result"
    }
   ],
   "source": [
    "# add an empty content column\n",
    "df['content'] = np.nan\n",
    "df.head()"
   ]
  },
  {
   "cell_type": "code",
   "execution_count": 20,
   "id": "4e15e0d0",
   "metadata": {},
   "outputs": [],
   "source": [
    "# save\n",
    "df.to_csv(f'{state}_links.csv', index = False)"
   ]
  },
  {
   "cell_type": "code",
   "execution_count": 21,
   "id": "8e4b5d44",
   "metadata": {},
   "outputs": [
    {
     "data": {
      "text/html": [
       "<div>\n",
       "<style scoped>\n",
       "    .dataframe tbody tr th:only-of-type {\n",
       "        vertical-align: middle;\n",
       "    }\n",
       "\n",
       "    .dataframe tbody tr th {\n",
       "        vertical-align: top;\n",
       "    }\n",
       "\n",
       "    .dataframe thead th {\n",
       "        text-align: right;\n",
       "    }\n",
       "</style>\n",
       "<table border=\"1\" class=\"dataframe\">\n",
       "  <thead>\n",
       "    <tr style=\"text-align: right;\">\n",
       "      <th></th>\n",
       "      <th>title</th>\n",
       "      <th>date</th>\n",
       "      <th>link</th>\n",
       "      <th>content</th>\n",
       "    </tr>\n",
       "  </thead>\n",
       "  <tbody>\n",
       "    <tr>\n",
       "      <th>0</th>\n",
       "      <td>Governor Joe Lombardo Appoints Dr. Vicki Mazzo...</td>\n",
       "      <td>February 14, 2024</td>\n",
       "      <td>https://gov.nv.gov/Newsroom/PRs/2024/2024-14-0...</td>\n",
       "      <td>NaN</td>\n",
       "    </tr>\n",
       "    <tr>\n",
       "      <th>1</th>\n",
       "      <td>Governor Joe Lombardo and Controller Andy Matt...</td>\n",
       "      <td>February 13, 2024</td>\n",
       "      <td>https://gov.nv.gov/Newsroom/PRs/2024/2024-02-1...</td>\n",
       "      <td>NaN</td>\n",
       "    </tr>\n",
       "    <tr>\n",
       "      <th>2</th>\n",
       "      <td>Media Advisory: Controller Andy Matthews To An...</td>\n",
       "      <td>February 9th, 2024</td>\n",
       "      <td>https://gov.nv.gov/Newsroom/PRs/2024/2024-02-0...</td>\n",
       "      <td>NaN</td>\n",
       "    </tr>\n",
       "    <tr>\n",
       "      <th>3</th>\n",
       "      <td>DMV Director Announces Retirement</td>\n",
       "      <td>February 9th, 2024</td>\n",
       "      <td>https://gov.nv.gov/Newsroom/PRs/2024/2024-02-0...</td>\n",
       "      <td>NaN</td>\n",
       "    </tr>\n",
       "    <tr>\n",
       "      <th>4</th>\n",
       "      <td>ICYMI: Governor Joe Lombardo Announces Over 14...</td>\n",
       "      <td>January 25th, 2024</td>\n",
       "      <td>https://gov.nv.gov/Newsroom/PRs/2024/2024-01-2...</td>\n",
       "      <td>NaN</td>\n",
       "    </tr>\n",
       "  </tbody>\n",
       "</table>\n",
       "</div>"
      ],
      "text/plain": [
       "                                               title                date  \\\n",
       "0  Governor Joe Lombardo Appoints Dr. Vicki Mazzo...   February 14, 2024   \n",
       "1  Governor Joe Lombardo and Controller Andy Matt...   February 13, 2024   \n",
       "2  Media Advisory: Controller Andy Matthews To An...  February 9th, 2024   \n",
       "3                  DMV Director Announces Retirement  February 9th, 2024   \n",
       "4  ICYMI: Governor Joe Lombardo Announces Over 14...  January 25th, 2024   \n",
       "\n",
       "                                                link  content  \n",
       "0  https://gov.nv.gov/Newsroom/PRs/2024/2024-14-0...      NaN  \n",
       "1  https://gov.nv.gov/Newsroom/PRs/2024/2024-02-1...      NaN  \n",
       "2  https://gov.nv.gov/Newsroom/PRs/2024/2024-02-0...      NaN  \n",
       "3  https://gov.nv.gov/Newsroom/PRs/2024/2024-02-0...      NaN  \n",
       "4  https://gov.nv.gov/Newsroom/PRs/2024/2024-01-2...      NaN  "
      ]
     },
     "execution_count": 21,
     "metadata": {},
     "output_type": "execute_result"
    }
   ],
   "source": [
    "test = pd.read_csv(f'{state}_links.csv')\n",
    "test.head()"
   ]
  },
  {
   "cell_type": "markdown",
   "id": "92cf01bb",
   "metadata": {},
   "source": [
    "## Scrape content from links \n",
    "`Beautiful Soup`"
   ]
  },
  {
   "cell_type": "markdown",
   "id": "b0414b66",
   "metadata": {},
   "source": [
    "### Test with one link"
   ]
  },
  {
   "cell_type": "code",
   "execution_count": 22,
   "id": "497843ea",
   "metadata": {},
   "outputs": [
    {
     "data": {
      "text/plain": [
       "<Response [200]>"
      ]
     },
     "execution_count": 22,
     "metadata": {},
     "output_type": "execute_result"
    }
   ],
   "source": [
    "# test with one\n",
    "link = 'https://gov.nv.gov/Newsroom/PRs/2024/2024-01-25_newjobs/'\n",
    "server_response = requests.get(link, headers = header_list)\n",
    "server_response"
   ]
  },
  {
   "cell_type": "code",
   "execution_count": 27,
   "id": "30642e3a",
   "metadata": {},
   "outputs": [
    {
     "data": {
      "text/plain": [
       "'Today, Governor Joe Lombardo and the Nevada Governor’s Office of Economic Development (GOED) approved three companies that will receive $14,520,823 in tax abatements. In return, these companies are projected to create 148 jobs in the next two years at an average weighted hourly wage of $37.49. That figure is expected to grow to 219 jobs in five years. Additionally, these companies will make a capital equipment investment of $120,717,140 and generate $37,536,026 in new tax revenues over the 10-year abatement period. “These companies are making a major investment and creating exceptional jobs for our state,” said Governor Joe Lombardo. “These three companies alone will invest more than $120 million in Nevada, paying an average wage of $37.49. Since I took office, 28 companies have been assisted and are projected to create 5, 427 jobs in their first five years of operation. They have invested more than $4.1 billion in capital equipment and will generate more than $1 billion in new tax revenues,” Two of the companies receiving abatements are in Clark County. The other one is in Storey County. The companies approved for abatements today include:Aqua Metals Reno, Inc. is looking to expand its operation in the Tahoe Reno Industrial Center (TRIC) in Storey County. It recently acquired a 21,000 square foot building in TRIC. Aqua Metals Reno, Inc. recovers minerals from recycled lithium-ion batteries. It was approved for $2,213,944 in tax abatements. It is projected to create 39 jobs in the first two years of operation at an average weighted hourly wage of $41.30. It is expected to grow to 50 jobs in five years. This company will make $17,067,140 in capital equipment investment in the first two years of operation and generate $4,625,743 in new tax revenues over the 10-year abatement period.Edgewood Renewables, LLC plans to establish a biorefinery, manufacturing and distribution facility in Clark County. Edgewood is in the process of constructing a biorefinery on the site that will produce more than 120 million gallons of Renewable Diesel and Sustainable Aviation Fuel (SAF) each year. It was approved for $11,720,431 in tax abatements. It is projected to create 60 jobs in the first two years of operation at an average weighted hourly wage of $40.71. This company will make $96,509,000 capital equipment investment in the first two years of operation and generate $21,613,752 in new tax revenues over the 10-year abatement period.Hard Eight Nutrition, LLC plans to expand its existing Clark County manufacturing facility from 45,500 square feet to 137,000 square feet within the next few months. Hard Eight Nutrition supplies more than 500 pure nutritional supplement ingredients to hundreds of thousands of consumers and manufacturers. It was approved for $586,448 in tax abatements. It is projected to create 49 jobs in the first two years of operation at an average weighted hourly wage of $30.52. It is expected to grow to 109 jobs in five years. This company will make $7,141,000 in capital equipment investment in the first two years of operation and generate $11,296,531 in new tax revenues over the 10-year abatement period. Two of the companies receiving abatements are in Clark County. The other one is in Storey County. The companies approved for abatements today include:   ### ###'"
      ]
     },
     "execution_count": 27,
     "metadata": {},
     "output_type": "execute_result"
    }
   ],
   "source": [
    "# test with one contd \n",
    "soup_link = bs4.BeautifulSoup(server_response.content, features=\"html.parser\")\n",
    "result = soup_link.find('div', class_ = 'col-md-9').find_all('p')\n",
    "# result\n",
    "string_result = [str(i.text) for i in result]\n",
    "# string_result\n",
    "string_result_clean = [i.replace(u'\\xa0', u'') for i in string_result]\n",
    "string_result_clean = [i.replace(u'\\n', u'') for i in string_result_clean]\n",
    "result_merged = \" \".join(string_result_clean)\n",
    "result_merged\n",
    "\n",
    "# #p_results[3]\n",
    "# p_text = [str(i.text) for i in p_results[3]]\n",
    "# p_text\n",
    "# string_result = [str(i.text) for i in result]\n",
    "# string_result\n",
    "# string_result_clean = [i.replace(u'\\xa0', u'') for i in string_result]\n",
    "# string_result_clean = [i.replace(u'\\n', u'') for i in string_result_clean]\n",
    "# string_result_clean = [i.replace(u'\\r', u'') for i in string_result_clean]\n",
    "# result_merged = \" \".join(string_result_clean)\n",
    "# result_merged"
   ]
  },
  {
   "cell_type": "code",
   "execution_count": null,
   "id": "e7c83e64",
   "metadata": {},
   "outputs": [],
   "source": [
    "# define link scraping \n",
    "def get_nevada_content(link, df, header_list): \n",
    "    try: \n",
    "        # check if content has already been pulled\n",
    "        result = df.loc[df.link == link, 'content'].notnull().all()\n",
    "        if result:\n",
    "            return f'content already existing for {link}' \n",
    "        else: \n",
    "            try: \n",
    "                server_response = requests.get(link, headers = header_list)\n",
    "                soup_link = bs4.BeautifulSoup(server_response.content, features=\"html.parser\")\n",
    "                result = soup_link.find('div', class_ = 'col-md-9').find_all('p')\n",
    "                string_result = [str(i.text) for i in result]\n",
    "                string_result_clean = [i.replace(u'\\xa0', u'') for i in string_result]\n",
    "                string_result_clean = [i.replace(u'\\n', u'') for i in string_result_clean]\n",
    "                result_merged = \" \".join(string_result_clean)\n",
    "                \n",
    "                df.loc[df.link == link, 'content'] = result_merged\n",
    "                return f\"success: content added from {link}\"\n",
    "            except: \n",
    "                pass\n",
    "    except Exception as e: \n",
    "        return f\"unable to gather content from {link} due to {e}\"\n",
    "    #return df_updated "
   ]
  },
  {
   "cell_type": "code",
   "execution_count": 40,
   "id": "86c2c3ff",
   "metadata": {},
   "outputs": [
    {
     "data": {
      "text/plain": [
       "'content already existing for https://gov.nv.gov/Newsroom/PRs/2024/2024-14-02_cannabis-compliance-board-appointment/'"
      ]
     },
     "execution_count": 40,
     "metadata": {},
     "output_type": "execute_result"
    },
    {
     "data": {
      "text/plain": [
       "'Today, Governor Joe Lombardo announced his appointment of Dr. Vicki Mazzorana to the Cannabis Compliance Board. “I’m honored to be appointed to the Cannabis Compliance Board,” said Dr. Vicki Mazzorana. “I believe in responsible and reasonable cannabis regulation, and I look forward to utilizing my unique background in emergency medicine to benefit the evolving cannabis industry in Nevada.” Mazzorana earned her undergraduate degree in biology from the University of Illinois, her M.D. from Rush Medical College, and her M.B.A. from Louisiana State University. She received training at UC Davis in General Surgery and Emergency Medicine at the Medical College of Wisconsin. Mazzorana has served as an emergency physician for nearly three decades, and she has served as a ringside physician for the Nevada State Athletic Commission since 2008. Additionally, Mazzorana serves on both the National Disaster Medical Team, as well as on Nevada’s Search and Rescue Team. The Cannabis Compliance Board was established through Assembly Bill 533 during the 2019 legislative session and consists of five board members appointed by the governor. Board members must have expertise in a range of fields, including finance and accounting, law enforcement, medicine, regulatory and legal compliance, and cannabis. ### ###'"
      ]
     },
     "execution_count": 40,
     "metadata": {},
     "output_type": "execute_result"
    }
   ],
   "source": [
    "get_nevada_content(combined.link[0], combined, header_list) \n",
    "combined.content[0]"
   ]
  },
  {
   "cell_type": "markdown",
   "id": "d939c114",
   "metadata": {},
   "source": [
    "### Scrape content from all links"
   ]
  },
  {
   "cell_type": "code",
   "execution_count": 41,
   "id": "4be4977e",
   "metadata": {},
   "outputs": [
    {
     "data": {
      "text/plain": [
       "'content already existing for https://gov.nv.gov/Newsroom/PRs/2024/2024-14-02_cannabis-compliance-board-appointment/'"
      ]
     },
     "execution_count": 41,
     "metadata": {},
     "output_type": "execute_result"
    },
    {
     "data": {
      "text/plain": [
       "'success: content added from https://gov.nv.gov/Newsroom/PRs/2024/2024-02-13_new-open-finance-portal/'"
      ]
     },
     "execution_count": 41,
     "metadata": {},
     "output_type": "execute_result"
    },
    {
     "data": {
      "text/plain": [
       "'success: content added from https://gov.nv.gov/Newsroom/PRs/2024/2024-02-09_open-finance-portal/'"
      ]
     },
     "execution_count": 41,
     "metadata": {},
     "output_type": "execute_result"
    },
    {
     "data": {
      "text/plain": [
       "'success: content added from https://gov.nv.gov/Newsroom/PRs/2024/2024-02-09_dmv-director-retirement/'"
      ]
     },
     "execution_count": 41,
     "metadata": {},
     "output_type": "execute_result"
    },
    {
     "data": {
      "text/plain": [
       "'success: content added from https://gov.nv.gov/Newsroom/PRs/2024/2024-01-25_newjobs/'"
      ]
     },
     "execution_count": 41,
     "metadata": {},
     "output_type": "execute_result"
    },
    {
     "data": {
      "text/plain": [
       "'success: content added from https://gov.nv.gov/Newsroom/PRs/2024/2024-01-12_state-office-closure/'"
      ]
     },
     "execution_count": 41,
     "metadata": {},
     "output_type": "execute_result"
    },
    {
     "data": {
      "text/plain": [
       "'success: content added from https://gov.nv.gov/Newsroom/PRs/2024/2024-01-11_StateOffceClosure/'"
      ]
     },
     "execution_count": 41,
     "metadata": {},
     "output_type": "execute_result"
    },
    {
     "data": {
      "text/plain": [
       "'success: content added from https://gov.nv.gov/Newsroom/PRs/2023/2023-12-27_Governor_Lombardo_Announces_Chief_of_Staff_Transition/'"
      ]
     },
     "execution_count": 41,
     "metadata": {},
     "output_type": "execute_result"
    },
    {
     "data": {
      "text/plain": [
       "'success: content added from https://gov.nv.gov/Newsroom/PRs/2023/2023-12-05_lv-stadium-authority-appts/'"
      ]
     },
     "execution_count": 41,
     "metadata": {},
     "output_type": "execute_result"
    },
    {
     "data": {
      "text/plain": [
       "'success: content added from https://gov.nv.gov/Newsroom/PRs/2023/2023-12-05_ccb/'"
      ]
     },
     "execution_count": 41,
     "metadata": {},
     "output_type": "execute_result"
    },
    {
     "data": {
      "text/plain": [
       "'success: content added from https://gov.nv.gov/Newsroom/PRs/2023/2023-11-30_half-staff/'"
      ]
     },
     "execution_count": 41,
     "metadata": {},
     "output_type": "execute_result"
    },
    {
     "data": {
      "text/plain": [
       "'success: content added from https://gov.nv.gov/Newsroom/PRs/2023/2023-11-30_nv-state-trooper-deaths/'"
      ]
     },
     "execution_count": 41,
     "metadata": {},
     "output_type": "execute_result"
    },
    {
     "data": {
      "text/plain": [
       "'success: content added from https://gov.nv.gov/Newsroom/PRs/2023/2023-11-20_jobs-new-capital-investments/'"
      ]
     },
     "execution_count": 41,
     "metadata": {},
     "output_type": "execute_result"
    },
    {
     "data": {
      "text/plain": [
       "'success: content added from https://gov.nv.gov/Newsroom/PRs/2023/2023-11-17_ppc-commission-members/'"
      ]
     },
     "execution_count": 41,
     "metadata": {},
     "output_type": "execute_result"
    },
    {
     "data": {
      "text/plain": [
       "'success: content added from https://gov.nv.gov/Newsroom/PRs/2023/2023-11-16_athletics-relocation/'"
      ]
     },
     "execution_count": 41,
     "metadata": {},
     "output_type": "execute_result"
    },
    {
     "data": {
      "text/plain": [
       "'success: content added from https://gov.nv.gov/Newsroom/PRs/2023/2023-11-13_kris-sanchez/'"
      ]
     },
     "execution_count": 41,
     "metadata": {},
     "output_type": "execute_result"
    },
    {
     "data": {
      "text/plain": [
       "'success: content added from https://gov.nv.gov/Newsroom/PRs/2023/2023-11-02_scott-scherer/'"
      ]
     },
     "execution_count": 41,
     "metadata": {},
     "output_type": "execute_result"
    },
    {
     "data": {
      "text/plain": [
       "'success: content added from https://gov.nv.gov/Newsroom/PRs/2023/2023-10-31_Scott_Hammond_Director_of_Workforce_Innovation/'"
      ]
     },
     "execution_count": 41,
     "metadata": {},
     "output_type": "execute_result"
    },
    {
     "data": {
      "text/plain": [
       "'success: content added from https://gov.nv.gov/Newsroom/PRs/2023/2023-10-30_sib/'"
      ]
     },
     "execution_count": 41,
     "metadata": {},
     "output_type": "execute_result"
    },
    {
     "data": {
      "text/plain": [
       "'content already existing for https://gov.nv.gov/Newsroom/PRs/2023/2023-10-31_Scott_Hammond_Director_of_Workforce_Innovation/'"
      ]
     },
     "execution_count": 41,
     "metadata": {},
     "output_type": "execute_result"
    },
    {
     "data": {
      "text/plain": [
       "'success: content added from https://gov.nv.gov/Newsroom/PRs/2023/2023-10-20_key-education-posts/'"
      ]
     },
     "execution_count": 41,
     "metadata": {},
     "output_type": "execute_result"
    },
    {
     "data": {
      "text/plain": [
       "'success: content added from https://gov.nv.gov/Newsroom/PRs/2023/2023-10-11_nv-public-option/'"
      ]
     },
     "execution_count": 41,
     "metadata": {},
     "output_type": "execute_result"
    },
    {
     "data": {
      "text/plain": [
       "'success: content added from https://gov.nv.gov/Newsroom/PRs/2023/2023-10-09_honor-victims-of-terror-attachs-Israel/'"
      ]
     },
     "execution_count": 41,
     "metadata": {},
     "output_type": "execute_result"
    },
    {
     "data": {
      "text/plain": [
       "'success: content added from https://gov.nv.gov/Newsroom/PRs/2023/2023-09-27_randyy-brown-puc/'"
      ]
     },
     "execution_count": 41,
     "metadata": {},
     "output_type": "execute_result"
    },
    {
     "data": {
      "text/plain": [
       "'success: content added from https://gov.nv.gov/Newsroom/PRs/2023/2023-09-26_raising-concerns/'"
      ]
     },
     "execution_count": 41,
     "metadata": {},
     "output_type": "execute_result"
    },
    {
     "data": {
      "text/plain": [
       "'success: content added from https://gov.nv.gov/Newsroom/PRs/2023/2023-09-21_education/'"
      ]
     },
     "execution_count": 41,
     "metadata": {},
     "output_type": "execute_result"
    },
    {
     "data": {
      "text/plain": [
       "'success: content added from https://gov.nv.gov/Newsroom/PRs/2023/2023-09-18_iris-ramos-jones-appt/'"
      ]
     },
     "execution_count": 41,
     "metadata": {},
     "output_type": "execute_result"
    },
    {
     "data": {
      "text/plain": [
       "'success: content added from https://gov.nv.gov/Newsroom/PRs/2023/2023-09-08_updates-on-hurricane/'"
      ]
     },
     "execution_count": 41,
     "metadata": {},
     "output_type": "execute_result"
    },
    {
     "data": {
      "text/plain": [
       "'success: content added from https://gov.nv.gov/Newsroom/PRs/2023/2023-08-20_declaration-of-emergency/'"
      ]
     },
     "execution_count": 41,
     "metadata": {},
     "output_type": "execute_result"
    },
    {
     "data": {
      "text/plain": [
       "'success: content added from https://gov.nv.gov/Newsroom/PRs/2023/2023-08-19_gov-urges-nv-to-prepare-for-severe-weather/'"
      ]
     },
     "execution_count": 41,
     "metadata": {},
     "output_type": "execute_result"
    },
    {
     "data": {
      "text/plain": [
       "'success: content added from https://gov.nv.gov/Newsroom/PRs/2023/2023-08-18_hurrican-hilary-emergency-guidance/'"
      ]
     },
     "execution_count": 41,
     "metadata": {},
     "output_type": "execute_result"
    },
    {
     "data": {
      "text/plain": [
       "'success: content added from https://gov.nv.gov/Newsroom/PRs/2023/2023-08-17_adriana-guzman-fralick/'"
      ]
     },
     "execution_count": 41,
     "metadata": {},
     "output_type": "execute_result"
    },
    {
     "data": {
      "text/plain": [
       "'success: content added from https://gov.nv.gov/Newsroom/PRs/2023/2023-08-11_0pportunity-scholarship-students/'"
      ]
     },
     "execution_count": 41,
     "metadata": {},
     "output_type": "execute_result"
    },
    {
     "data": {
      "text/plain": [
       "'success: content added from https://gov.nv.gov/Newsroom/PRs/2023/2023-08-09_IFCvoteOpportunityScholarships/'"
      ]
     },
     "execution_count": 41,
     "metadata": {},
     "output_type": "execute_result"
    },
    {
     "data": {
      "text/plain": [
       "'success: content added from https://gov.nv.gov/Newsroom/PRs/2023/2023-07-28_scholarship_-funding/'"
      ]
     },
     "execution_count": 41,
     "metadata": {},
     "output_type": "execute_result"
    },
    {
     "data": {
      "text/plain": [
       "'success: content added from https://gov.nv.gov/Newsroom/PRs/2023/2023-07-19_appointments/'"
      ]
     },
     "execution_count": 41,
     "metadata": {},
     "output_type": "execute_result"
    },
    {
     "data": {
      "text/plain": [
       "'success: content added from https://gov.nv.gov/Newsroom/PRs/2023/2023-07-12_funding-early-childhood-ed/'"
      ]
     },
     "execution_count": 41,
     "metadata": {},
     "output_type": "execute_result"
    },
    {
     "data": {
      "text/plain": [
       "'success: content added from https://gov.nv.gov/Newsroom/PRs/2023/2023-06-30_charter-school-transportation/'"
      ]
     },
     "execution_count": 41,
     "metadata": {},
     "output_type": "execute_result"
    },
    {
     "data": {
      "text/plain": [
       "'success: content added from https://gov.nv.gov/Newsroom/PRs/2023/2023-06-16_First_Legislative/'"
      ]
     },
     "execution_count": 41,
     "metadata": {},
     "output_type": "execute_result"
    },
    {
     "data": {
      "text/plain": [
       "'success: content added from https://gov.nv.gov/Newsroom/PRs/2023/2023-06-15_Senate_Bill_1/'"
      ]
     },
     "execution_count": 41,
     "metadata": {},
     "output_type": "execute_result"
    },
    {
     "data": {
      "text/plain": [
       "'success: content added from https://gov.nv.gov/Newsroom/PRs/2023/20230606_specialsession(1)/'"
      ]
     },
     "execution_count": 41,
     "metadata": {},
     "output_type": "execute_result"
    },
    {
     "data": {
      "text/plain": [
       "'success: content added from https://gov.nv.gov/Newsroom/PRs/2023/20230606_specialsession/'"
      ]
     },
     "execution_count": 41,
     "metadata": {},
     "output_type": "execute_result"
    },
    {
     "data": {
      "text/plain": [
       "'success: content added from https://gov.nv.gov/Newsroom/PRs/2023/2023-06-06_endof-legislative-session/'"
      ]
     },
     "execution_count": 41,
     "metadata": {},
     "output_type": "execute_result"
    },
    {
     "data": {
      "text/plain": [
       "'success: content added from https://gov.nv.gov/Newsroom/PRs/2023/2023-06-02_ab520/'"
      ]
     },
     "execution_count": 41,
     "metadata": {},
     "output_type": "execute_result"
    },
    {
     "data": {
      "text/plain": [
       "'success: content added from https://gov.nv.gov/Newsroom/PRs/2023/2023-06-01_educationbudget-schoolsafety/'"
      ]
     },
     "execution_count": 41,
     "metadata": {},
     "output_type": "execute_result"
    },
    {
     "data": {
      "text/plain": [
       "'success: content added from https://gov.nv.gov/Newsroom/PRs/2023/2023-05-29_flood-emergency/'"
      ]
     },
     "execution_count": 41,
     "metadata": {},
     "output_type": "execute_result"
    },
    {
     "data": {
      "text/plain": [
       "'success: content added from https://gov.nv.gov/Newsroom/PRs/2023/2023-05-25_ab73/'"
      ]
     },
     "execution_count": 41,
     "metadata": {},
     "output_type": "execute_result"
    },
    {
     "data": {
      "text/plain": [
       "'success: content added from https://gov.nv.gov/Newsroom/PRs/2023/2023-05-25_budgetbills/'"
      ]
     },
     "execution_count": 41,
     "metadata": {},
     "output_type": "execute_result"
    },
    {
     "data": {
      "text/plain": [
       "'success: content added from https://gov.nv.gov/Newsroom/PRs/2023/2023-05-24_MLB/'"
      ]
     },
     "execution_count": 41,
     "metadata": {},
     "output_type": "execute_result"
    },
    {
     "data": {
      "text/plain": [
       "'success: content added from https://gov.nv.gov/Newsroom/PRs/2023/2023-05-22_ProtectColoradoRiver/'"
      ]
     },
     "execution_count": 41,
     "metadata": {},
     "output_type": "execute_result"
    },
    {
     "data": {
      "text/plain": [
       "'success: content added from https://gov.nv.gov/Newsroom/PRs/2023/2023-05-19_SchoolSafeyLegislation/'"
      ]
     },
     "execution_count": 41,
     "metadata": {},
     "output_type": "execute_result"
    },
    {
     "data": {
      "text/plain": [
       "'success: content added from https://gov.nv.gov/Newsroom/PRs/2023/2023-05-17_Vetos/'"
      ]
     },
     "execution_count": 41,
     "metadata": {},
     "output_type": "execute_result"
    },
    {
     "data": {
      "text/plain": [
       "'success: content added from https://gov.nv.gov/Newsroom/PRs/2023/2023-05-09_NVStateEmployeeAppreciation/'"
      ]
     },
     "execution_count": 41,
     "metadata": {},
     "output_type": "execute_result"
    },
    {
     "data": {
      "text/plain": [
       "'success: content added from https://gov.nv.gov/Newsroom/PRs/2023/2023-05-01_Economic_Forum/'"
      ]
     },
     "execution_count": 41,
     "metadata": {},
     "output_type": "execute_result"
    },
    {
     "data": {
      "text/plain": [
       "'success: content added from https://gov.nv.gov/Newsroom/PRs/2023/2023-04-27_AppointsGeorgeMarkantonis_GamingCommission/'"
      ]
     },
     "execution_count": 41,
     "metadata": {},
     "output_type": "execute_result"
    },
    {
     "data": {
      "text/plain": [
       "'success: content added from https://gov.nv.gov/Newsroom/PRs/2023/2023-04-27_ModernizationEfficiencyAct/'"
      ]
     },
     "execution_count": 41,
     "metadata": {},
     "output_type": "execute_result"
    },
    {
     "data": {
      "text/plain": [
       "'success: content added from https://gov.nv.gov/Newsroom/PRs/2023/2023-04-18_CityCharterLegislation/'"
      ]
     },
     "execution_count": 41,
     "metadata": {},
     "output_type": "execute_result"
    },
    {
     "data": {
      "text/plain": [
       "'success: content added from https://gov.nv.gov/Newsroom/PRs/2023/2023-04-06_CPM/'"
      ]
     },
     "execution_count": 41,
     "metadata": {},
     "output_type": "execute_result"
    },
    {
     "data": {
      "text/plain": [
       "'success: content added from https://gov.nv.gov/Newsroom/PRs/2023/2023-04-05_WashoeCountyCommission/'"
      ]
     },
     "execution_count": 41,
     "metadata": {},
     "output_type": "execute_result"
    },
    {
     "data": {
      "text/plain": [
       "'success: content added from https://gov.nv.gov/Newsroom/PRs/2023/2023-03-31_HighSpeedNVInternetOutreachTour/'"
      ]
     },
     "execution_count": 41,
     "metadata": {},
     "output_type": "execute_result"
    },
    {
     "data": {
      "text/plain": [
       "'success: content added from https://gov.nv.gov/Newsroom/PRs/2023/2023-03-27_EO2023-007/'"
      ]
     },
     "execution_count": 41,
     "metadata": {},
     "output_type": "execute_result"
    },
    {
     "data": {
      "text/plain": [
       "'success: content added from https://gov.nv.gov/Newsroom/PRs/2023/2023-03-16_AmendsEmergencyDeclarationAsFloodingContinues/'"
      ]
     },
     "execution_count": 41,
     "metadata": {},
     "output_type": "execute_result"
    },
    {
     "data": {
      "text/plain": [
       "'success: content added from https://gov.nv.gov/Newsroom/PRs/2023/2023-03-14_NTA_appt/'"
      ]
     },
     "execution_count": 41,
     "metadata": {},
     "output_type": "execute_result"
    },
    {
     "data": {
      "text/plain": [
       "'success: content added from https://gov.nv.gov/Newsroom/PRs/2023/2023-03-14_WeatherUpdate/'"
      ]
     },
     "execution_count": 41,
     "metadata": {},
     "output_type": "execute_result"
    },
    {
     "data": {
      "text/plain": [
       "'success: content added from https://gov.nv.gov/Newsroom/PRs/2023/2023-03-10_EmergencyDueToSevereWeatherNN/'"
      ]
     },
     "execution_count": 41,
     "metadata": {},
     "output_type": "execute_result"
    },
    {
     "data": {
      "text/plain": [
       "'success: content added from https://gov.nv.gov/Newsroom/PRs/2023/2023-03-09_flags-return-to-full-staff/'"
      ]
     },
     "execution_count": 41,
     "metadata": {},
     "output_type": "execute_result"
    },
    {
     "data": {
      "text/plain": [
       "'success: content added from https://gov.nv.gov/Newsroom/PRs/2023/2023-03-09_JudicialAppts/'"
      ]
     },
     "execution_count": 41,
     "metadata": {},
     "output_type": "execute_result"
    },
    {
     "data": {
      "text/plain": [
       "'success: content added from https://gov.nv.gov/Newsroom/PRs/2023/2023-02-28_appointments/'"
      ]
     },
     "execution_count": 41,
     "metadata": {},
     "output_type": "execute_result"
    },
    {
     "data": {
      "text/plain": [
       "'success: content added from https://gov.nv.gov/Newsroom/PRs/2023/2023-02-28_stateofficeclosures/'"
      ]
     },
     "execution_count": 41,
     "metadata": {},
     "output_type": "execute_result"
    },
    {
     "data": {
      "text/plain": [
       "'success: content added from https://gov.nv.gov/Newsroom/PRs/2023/2023-02-27_SenateBill124/'"
      ]
     },
     "execution_count": 41,
     "metadata": {},
     "output_type": "execute_result"
    },
    {
     "data": {
      "text/plain": [
       "'success: content added from https://gov.nv.gov/Newsroom/PRs/2023/2023-02-27_StateOfficeClosure/'"
      ]
     },
     "execution_count": 41,
     "metadata": {},
     "output_type": "execute_result"
    },
    {
     "data": {
      "text/plain": [
       "'success: content added from https://gov.nv.gov/Newsroom/PRs/2023/2023-02-24_Offices_Closures/'"
      ]
     },
     "execution_count": 41,
     "metadata": {},
     "output_type": "execute_result"
    },
    {
     "data": {
      "text/plain": [
       "'success: content added from https://gov.nv.gov/Newsroom/PRs/2023/2023-02-14_EndOfStateOfEmergencyGasPipeline/'"
      ]
     },
     "execution_count": 41,
     "metadata": {},
     "output_type": "execute_result"
    },
    {
     "data": {
      "text/plain": [
       "'success: content added from https://gov.nv.gov/Newsroom/PRs/2023/2023-02-11_GasPipelineResumingNormalOperations/'"
      ]
     },
     "execution_count": 41,
     "metadata": {},
     "output_type": "execute_result"
    },
    {
     "data": {
      "text/plain": [
       "'success: content added from https://gov.nv.gov/Newsroom/PRs/2023/2023-02-11_GasPipelineDisruptionUpdate/'"
      ]
     },
     "execution_count": 41,
     "metadata": {},
     "output_type": "execute_result"
    },
    {
     "data": {
      "text/plain": [
       "'success: content added from https://gov.nv.gov/Newsroom/PRs/2023/2023-02-10_GasPipelineDisruption/'"
      ]
     },
     "execution_count": 41,
     "metadata": {},
     "output_type": "execute_result"
    },
    {
     "data": {
      "text/plain": [
       "'success: content added from https://gov.nv.gov/Newsroom/PRs/2023/2023-02-06_AuditOfNVPublicSchools/'"
      ]
     },
     "execution_count": 41,
     "metadata": {},
     "output_type": "execute_result"
    },
    {
     "data": {
      "text/plain": [
       "'success: content added from https://gov.nv.gov/Newsroom/PRs/2023/2023-02-02_OfficeOfEnergy/'"
      ]
     },
     "execution_count": 41,
     "metadata": {},
     "output_type": "execute_result"
    },
    {
     "data": {
      "text/plain": [
       "'success: content added from https://gov.nv.gov/Newsroom/PRs/2023/2023-01-30_ColoradoRiverProposal/'"
      ]
     },
     "execution_count": 41,
     "metadata": {},
     "output_type": "execute_result"
    },
    {
     "data": {
      "text/plain": [
       "'success: content added from https://gov.nv.gov/Newsroom/PRs/2023/2023-01-27_TyreNichols/'"
      ]
     },
     "execution_count": 41,
     "metadata": {},
     "output_type": "execute_result"
    },
    {
     "data": {
      "text/plain": [
       "'success: content added from https://gov.nv.gov/Newsroom/PRs/2023/2023-01-27_Appointments/'"
      ]
     },
     "execution_count": 41,
     "metadata": {},
     "output_type": "execute_result"
    },
    {
     "data": {
      "text/plain": [
       "'content already existing for https://gov.nv.gov/Newsroom/PRs/2023/2023-01-27_Appointments/'"
      ]
     },
     "execution_count": 41,
     "metadata": {},
     "output_type": "execute_result"
    },
    {
     "data": {
      "text/plain": [
       "'success: content added from https://gov.nv.gov/Newsroom/PRs/2023/2023-01-23_StateOfTheStateAddress/'"
      ]
     },
     "execution_count": 41,
     "metadata": {},
     "output_type": "execute_result"
    },
    {
     "data": {
      "text/plain": [
       "'success: content added from https://gov.nv.gov/Newsroom/PRs/2023/2023-01-12_Executive_Orders/'"
      ]
     },
     "execution_count": 41,
     "metadata": {},
     "output_type": "execute_result"
    },
    {
     "data": {
      "text/plain": [
       "'success: content added from https://gov.nv.gov/Newsroom/PRs/2023/2023-01-11_Kirk_Hendrick/'"
      ]
     },
     "execution_count": 41,
     "metadata": {},
     "output_type": "execute_result"
    },
    {
     "data": {
      "text/plain": [
       "'success: content added from https://gov.nv.gov/Newsroom/PRs/2023/2023-01-10_StateOffceClosure/'"
      ]
     },
     "execution_count": 41,
     "metadata": {},
     "output_type": "execute_result"
    },
    {
     "data": {
      "text/plain": [
       "'success: content added from https://gov.nv.gov/Newsroom/PRs/2023/2023-01-06_PropaneProclamation/'"
      ]
     },
     "execution_count": 41,
     "metadata": {},
     "output_type": "execute_result"
    }
   ],
   "source": [
    "for i in combined.link:\n",
    "     get_nevada_content(i, combined, header_list) "
   ]
  },
  {
   "cell_type": "code",
   "execution_count": 42,
   "id": "5c2ddd4c",
   "metadata": {},
   "outputs": [
    {
     "data": {
      "text/html": [
       "<div>\n",
       "<style scoped>\n",
       "    .dataframe tbody tr th:only-of-type {\n",
       "        vertical-align: middle;\n",
       "    }\n",
       "\n",
       "    .dataframe tbody tr th {\n",
       "        vertical-align: top;\n",
       "    }\n",
       "\n",
       "    .dataframe thead th {\n",
       "        text-align: right;\n",
       "    }\n",
       "</style>\n",
       "<table border=\"1\" class=\"dataframe\">\n",
       "  <thead>\n",
       "    <tr style=\"text-align: right;\">\n",
       "      <th></th>\n",
       "      <th>title</th>\n",
       "      <th>date</th>\n",
       "      <th>link</th>\n",
       "      <th>content</th>\n",
       "    </tr>\n",
       "  </thead>\n",
       "  <tbody>\n",
       "    <tr>\n",
       "      <th>0</th>\n",
       "      <td>Governor Joe Lombardo Appoints Dr. Vicki Mazzo...</td>\n",
       "      <td>February 14, 2024</td>\n",
       "      <td>https://gov.nv.gov/Newsroom/PRs/2024/2024-14-0...</td>\n",
       "      <td>Today, Governor Joe Lombardo announced his app...</td>\n",
       "    </tr>\n",
       "    <tr>\n",
       "      <th>1</th>\n",
       "      <td>Governor Joe Lombardo and Controller Andy Matt...</td>\n",
       "      <td>February 13, 2024</td>\n",
       "      <td>https://gov.nv.gov/Newsroom/PRs/2024/2024-02-1...</td>\n",
       "      <td>Today, Governor Joe Lombardo and Controller An...</td>\n",
       "    </tr>\n",
       "    <tr>\n",
       "      <th>2</th>\n",
       "      <td>Media Advisory: Controller Andy Matthews To An...</td>\n",
       "      <td>February 9th, 2024</td>\n",
       "      <td>https://gov.nv.gov/Newsroom/PRs/2024/2024-02-0...</td>\n",
       "      <td>FOR PLANNING PURPOSES ONLY FOR PLANNING PURPOS...</td>\n",
       "    </tr>\n",
       "    <tr>\n",
       "      <th>3</th>\n",
       "      <td>DMV Director Announces Retirement</td>\n",
       "      <td>February 9th, 2024</td>\n",
       "      <td>https://gov.nv.gov/Newsroom/PRs/2024/2024-02-0...</td>\n",
       "      <td>After 30 years of public service to the State ...</td>\n",
       "    </tr>\n",
       "    <tr>\n",
       "      <th>4</th>\n",
       "      <td>ICYMI: Governor Joe Lombardo Announces Over 14...</td>\n",
       "      <td>January 25th, 2024</td>\n",
       "      <td>https://gov.nv.gov/Newsroom/PRs/2024/2024-01-2...</td>\n",
       "      <td>Today, Governor Joe Lombardo and the Nevada Go...</td>\n",
       "    </tr>\n",
       "  </tbody>\n",
       "</table>\n",
       "</div>"
      ],
      "text/plain": [
       "                                               title                date  \\\n",
       "0  Governor Joe Lombardo Appoints Dr. Vicki Mazzo...   February 14, 2024   \n",
       "1  Governor Joe Lombardo and Controller Andy Matt...   February 13, 2024   \n",
       "2  Media Advisory: Controller Andy Matthews To An...  February 9th, 2024   \n",
       "3                  DMV Director Announces Retirement  February 9th, 2024   \n",
       "4  ICYMI: Governor Joe Lombardo Announces Over 14...  January 25th, 2024   \n",
       "\n",
       "                                                link  \\\n",
       "0  https://gov.nv.gov/Newsroom/PRs/2024/2024-14-0...   \n",
       "1  https://gov.nv.gov/Newsroom/PRs/2024/2024-02-1...   \n",
       "2  https://gov.nv.gov/Newsroom/PRs/2024/2024-02-0...   \n",
       "3  https://gov.nv.gov/Newsroom/PRs/2024/2024-02-0...   \n",
       "4  https://gov.nv.gov/Newsroom/PRs/2024/2024-01-2...   \n",
       "\n",
       "                                             content  \n",
       "0  Today, Governor Joe Lombardo announced his app...  \n",
       "1  Today, Governor Joe Lombardo and Controller An...  \n",
       "2  FOR PLANNING PURPOSES ONLY FOR PLANNING PURPOS...  \n",
       "3  After 30 years of public service to the State ...  \n",
       "4  Today, Governor Joe Lombardo and the Nevada Go...  "
      ]
     },
     "execution_count": 42,
     "metadata": {},
     "output_type": "execute_result"
    }
   ],
   "source": [
    "combined.head()"
   ]
  },
  {
   "cell_type": "markdown",
   "id": "fcfe9034",
   "metadata": {},
   "source": [
    "## Validate and Clean"
   ]
  },
  {
   "cell_type": "code",
   "execution_count": 43,
   "id": "06bca64d",
   "metadata": {},
   "outputs": [
    {
     "data": {
      "text/html": [
       "<div>\n",
       "<style scoped>\n",
       "    .dataframe tbody tr th:only-of-type {\n",
       "        vertical-align: middle;\n",
       "    }\n",
       "\n",
       "    .dataframe tbody tr th {\n",
       "        vertical-align: top;\n",
       "    }\n",
       "\n",
       "    .dataframe thead th {\n",
       "        text-align: right;\n",
       "    }\n",
       "</style>\n",
       "<table border=\"1\" class=\"dataframe\">\n",
       "  <thead>\n",
       "    <tr style=\"text-align: right;\">\n",
       "      <th></th>\n",
       "      <th>title</th>\n",
       "      <th>date</th>\n",
       "      <th>link</th>\n",
       "      <th>content</th>\n",
       "    </tr>\n",
       "  </thead>\n",
       "  <tbody>\n",
       "    <tr>\n",
       "      <th>64</th>\n",
       "      <td>Governor Lombardo Amends Emergency Declaration...</td>\n",
       "      <td>March 11, 2023</td>\n",
       "      <td>https://gov.nv.gov/xxx</td>\n",
       "      <td>NaN</td>\n",
       "    </tr>\n",
       "    <tr>\n",
       "      <th>80</th>\n",
       "      <td>Governor Lombardo Appoints George Assad to Nev...</td>\n",
       "      <td>January 30, 2023</td>\n",
       "      <td>https://gov.nv.gov/xxx</td>\n",
       "      <td>NaN</td>\n",
       "    </tr>\n",
       "    <tr>\n",
       "      <th>89</th>\n",
       "      <td>Governor Lombardo Issues Winter Weather Update...</td>\n",
       "      <td>January 4, 2023</td>\n",
       "      <td>https://gov.nv.gov/xxx</td>\n",
       "      <td>NaN</td>\n",
       "    </tr>\n",
       "  </tbody>\n",
       "</table>\n",
       "</div>"
      ],
      "text/plain": [
       "                                                title              date  \\\n",
       "64  Governor Lombardo Amends Emergency Declaration...    March 11, 2023   \n",
       "80  Governor Lombardo Appoints George Assad to Nev...  January 30, 2023   \n",
       "89  Governor Lombardo Issues Winter Weather Update...   January 4, 2023   \n",
       "\n",
       "                      link content  \n",
       "64  https://gov.nv.gov/xxx     NaN  \n",
       "80  https://gov.nv.gov/xxx     NaN  \n",
       "89  https://gov.nv.gov/xxx     NaN  "
      ]
     },
     "execution_count": 43,
     "metadata": {},
     "output_type": "execute_result"
    }
   ],
   "source": [
    "#check that content was pulled accurately\n",
    "combined[combined.content.isna()]"
   ]
  },
  {
   "cell_type": "code",
   "execution_count": 44,
   "id": "b7baf720",
   "metadata": {},
   "outputs": [
    {
     "data": {
      "text/html": [
       "<div>\n",
       "<style scoped>\n",
       "    .dataframe tbody tr th:only-of-type {\n",
       "        vertical-align: middle;\n",
       "    }\n",
       "\n",
       "    .dataframe tbody tr th {\n",
       "        vertical-align: top;\n",
       "    }\n",
       "\n",
       "    .dataframe thead th {\n",
       "        text-align: right;\n",
       "    }\n",
       "</style>\n",
       "<table border=\"1\" class=\"dataframe\">\n",
       "  <thead>\n",
       "    <tr style=\"text-align: right;\">\n",
       "      <th></th>\n",
       "      <th>title</th>\n",
       "      <th>date</th>\n",
       "      <th>link</th>\n",
       "      <th>content</th>\n",
       "    </tr>\n",
       "  </thead>\n",
       "  <tbody>\n",
       "  </tbody>\n",
       "</table>\n",
       "</div>"
      ],
      "text/plain": [
       "Empty DataFrame\n",
       "Columns: [title, date, link, content]\n",
       "Index: []"
      ]
     },
     "execution_count": 44,
     "metadata": {},
     "output_type": "execute_result"
    }
   ],
   "source": [
    "# manual review shows that links are broken/not available so we'll drop these\n",
    "combined = combined.drop([64,80,89])\n",
    "combined[combined.content.isna()]"
   ]
  },
  {
   "cell_type": "code",
   "execution_count": 48,
   "id": "dcea6850",
   "metadata": {},
   "outputs": [],
   "source": [
    "# subset to only 2023 dates\n",
    "combined['date_clean'] = pd.to_datetime(combined['date'])\n",
    "\n",
    "combined_2023 = combined[(combined['date_clean'] >= '2023-01-01')\n",
    "                     & (combined['date_clean'] <= '2023-12-31')].copy()\n",
    "\n",
    "combined_2023 = combined_2023.drop(columns=['date']).copy()"
   ]
  },
  {
   "cell_type": "code",
   "execution_count": 49,
   "id": "0f3cb95d",
   "metadata": {},
   "outputs": [
    {
     "data": {
      "text/html": [
       "<div>\n",
       "<style scoped>\n",
       "    .dataframe tbody tr th:only-of-type {\n",
       "        vertical-align: middle;\n",
       "    }\n",
       "\n",
       "    .dataframe tbody tr th {\n",
       "        vertical-align: top;\n",
       "    }\n",
       "\n",
       "    .dataframe thead th {\n",
       "        text-align: right;\n",
       "    }\n",
       "</style>\n",
       "<table border=\"1\" class=\"dataframe\">\n",
       "  <thead>\n",
       "    <tr style=\"text-align: right;\">\n",
       "      <th></th>\n",
       "      <th>title</th>\n",
       "      <th>link</th>\n",
       "      <th>content</th>\n",
       "      <th>date_clean</th>\n",
       "    </tr>\n",
       "  </thead>\n",
       "  <tbody>\n",
       "    <tr>\n",
       "      <th>7</th>\n",
       "      <td>Governor Lombardo Announces Chief of Staff Tra...</td>\n",
       "      <td>https://gov.nv.gov/Newsroom/PRs/2023/2023-12-2...</td>\n",
       "      <td>CARSON CITY, NV – Governor Joe Lombardo today ...</td>\n",
       "      <td>2023-12-27</td>\n",
       "    </tr>\n",
       "    <tr>\n",
       "      <th>8</th>\n",
       "      <td>Governor Lombardo Announces Las Vegas Stadium ...</td>\n",
       "      <td>https://gov.nv.gov/Newsroom/PRs/2023/2023-12-0...</td>\n",
       "      <td>Today, Governor Joe Lombardo announced his app...</td>\n",
       "      <td>2023-12-05</td>\n",
       "    </tr>\n",
       "    <tr>\n",
       "      <th>9</th>\n",
       "      <td>Governor Lombardo Announces James Humm as Exec...</td>\n",
       "      <td>https://gov.nv.gov/Newsroom/PRs/2023/2023-12-0...</td>\n",
       "      <td>Today, Governor Joe Lombardo announced James “...</td>\n",
       "      <td>2023-12-05</td>\n",
       "    </tr>\n",
       "    <tr>\n",
       "      <th>10</th>\n",
       "      <td>Governor Lombardo Lowers Flags to Half-Staff i...</td>\n",
       "      <td>https://gov.nv.gov/Newsroom/PRs/2023/2023-11-3...</td>\n",
       "      <td>Today, Governor Joe Lombardo announced that th...</td>\n",
       "      <td>2023-11-30</td>\n",
       "    </tr>\n",
       "    <tr>\n",
       "      <th>11</th>\n",
       "      <td>Governor Lombardo Statement on Nevada State Tr...</td>\n",
       "      <td>https://gov.nv.gov/Newsroom/PRs/2023/2023-11-3...</td>\n",
       "      <td>Following the tragic report from Nevada State ...</td>\n",
       "      <td>2023-11-30</td>\n",
       "    </tr>\n",
       "  </tbody>\n",
       "</table>\n",
       "</div>"
      ],
      "text/plain": [
       "                                                title  \\\n",
       "7   Governor Lombardo Announces Chief of Staff Tra...   \n",
       "8   Governor Lombardo Announces Las Vegas Stadium ...   \n",
       "9   Governor Lombardo Announces James Humm as Exec...   \n",
       "10  Governor Lombardo Lowers Flags to Half-Staff i...   \n",
       "11  Governor Lombardo Statement on Nevada State Tr...   \n",
       "\n",
       "                                                 link  \\\n",
       "7   https://gov.nv.gov/Newsroom/PRs/2023/2023-12-2...   \n",
       "8   https://gov.nv.gov/Newsroom/PRs/2023/2023-12-0...   \n",
       "9   https://gov.nv.gov/Newsroom/PRs/2023/2023-12-0...   \n",
       "10  https://gov.nv.gov/Newsroom/PRs/2023/2023-11-3...   \n",
       "11  https://gov.nv.gov/Newsroom/PRs/2023/2023-11-3...   \n",
       "\n",
       "                                              content date_clean  \n",
       "7   CARSON CITY, NV – Governor Joe Lombardo today ... 2023-12-27  \n",
       "8   Today, Governor Joe Lombardo announced his app... 2023-12-05  \n",
       "9   Today, Governor Joe Lombardo announced James “... 2023-12-05  \n",
       "10  Today, Governor Joe Lombardo announced that th... 2023-11-30  \n",
       "11  Following the tragic report from Nevada State ... 2023-11-30  "
      ]
     },
     "execution_count": 49,
     "metadata": {},
     "output_type": "execute_result"
    },
    {
     "name": "stdout",
     "output_type": "stream",
     "text": [
      "<class 'pandas.core.frame.DataFrame'>\n",
      "Int64Index: 80 entries, 7 to 88\n",
      "Data columns (total 4 columns):\n",
      " #   Column      Non-Null Count  Dtype         \n",
      "---  ------      --------------  -----         \n",
      " 0   title       80 non-null     object        \n",
      " 1   link        80 non-null     object        \n",
      " 2   content     80 non-null     object        \n",
      " 3   date_clean  80 non-null     datetime64[ns]\n",
      "dtypes: datetime64[ns](1), object(3)\n",
      "memory usage: 3.1+ KB\n"
     ]
    }
   ],
   "source": [
    "combined_2023.head()\n",
    "combined_2023.info()"
   ]
  },
  {
   "cell_type": "code",
   "execution_count": 50,
   "id": "e894624d",
   "metadata": {},
   "outputs": [
    {
     "name": "stdout",
     "output_type": "stream",
     "text": [
      "pulled 80 documents from nevada for 2023\n"
     ]
    }
   ],
   "source": [
    "print(f\"pulled {str(len(combined_2023))} documents from {state} for 2023\")"
   ]
  },
  {
   "cell_type": "markdown",
   "id": "b85d3835",
   "metadata": {},
   "source": [
    "## Export"
   ]
  },
  {
   "cell_type": "code",
   "execution_count": 51,
   "id": "d675fc44",
   "metadata": {},
   "outputs": [],
   "source": [
    "combined_2023.to_csv(f'{state}_2023.csv', index = False)"
   ]
  },
  {
   "cell_type": "code",
   "execution_count": 52,
   "id": "621c6b9b",
   "metadata": {},
   "outputs": [
    {
     "data": {
      "text/html": [
       "<div>\n",
       "<style scoped>\n",
       "    .dataframe tbody tr th:only-of-type {\n",
       "        vertical-align: middle;\n",
       "    }\n",
       "\n",
       "    .dataframe tbody tr th {\n",
       "        vertical-align: top;\n",
       "    }\n",
       "\n",
       "    .dataframe thead th {\n",
       "        text-align: right;\n",
       "    }\n",
       "</style>\n",
       "<table border=\"1\" class=\"dataframe\">\n",
       "  <thead>\n",
       "    <tr style=\"text-align: right;\">\n",
       "      <th></th>\n",
       "      <th>title</th>\n",
       "      <th>link</th>\n",
       "      <th>content</th>\n",
       "      <th>date_clean</th>\n",
       "    </tr>\n",
       "  </thead>\n",
       "  <tbody>\n",
       "    <tr>\n",
       "      <th>0</th>\n",
       "      <td>Governor Lombardo Announces Chief of Staff Tra...</td>\n",
       "      <td>https://gov.nv.gov/Newsroom/PRs/2023/2023-12-2...</td>\n",
       "      <td>CARSON CITY, NV – Governor Joe Lombardo today ...</td>\n",
       "      <td>2023-12-27</td>\n",
       "    </tr>\n",
       "    <tr>\n",
       "      <th>1</th>\n",
       "      <td>Governor Lombardo Announces Las Vegas Stadium ...</td>\n",
       "      <td>https://gov.nv.gov/Newsroom/PRs/2023/2023-12-0...</td>\n",
       "      <td>Today, Governor Joe Lombardo announced his app...</td>\n",
       "      <td>2023-12-05</td>\n",
       "    </tr>\n",
       "    <tr>\n",
       "      <th>2</th>\n",
       "      <td>Governor Lombardo Announces James Humm as Exec...</td>\n",
       "      <td>https://gov.nv.gov/Newsroom/PRs/2023/2023-12-0...</td>\n",
       "      <td>Today, Governor Joe Lombardo announced James “...</td>\n",
       "      <td>2023-12-05</td>\n",
       "    </tr>\n",
       "    <tr>\n",
       "      <th>3</th>\n",
       "      <td>Governor Lombardo Lowers Flags to Half-Staff i...</td>\n",
       "      <td>https://gov.nv.gov/Newsroom/PRs/2023/2023-11-3...</td>\n",
       "      <td>Today, Governor Joe Lombardo announced that th...</td>\n",
       "      <td>2023-11-30</td>\n",
       "    </tr>\n",
       "    <tr>\n",
       "      <th>4</th>\n",
       "      <td>Governor Lombardo Statement on Nevada State Tr...</td>\n",
       "      <td>https://gov.nv.gov/Newsroom/PRs/2023/2023-11-3...</td>\n",
       "      <td>Following the tragic report from Nevada State ...</td>\n",
       "      <td>2023-11-30</td>\n",
       "    </tr>\n",
       "  </tbody>\n",
       "</table>\n",
       "</div>"
      ],
      "text/plain": [
       "                                               title  \\\n",
       "0  Governor Lombardo Announces Chief of Staff Tra...   \n",
       "1  Governor Lombardo Announces Las Vegas Stadium ...   \n",
       "2  Governor Lombardo Announces James Humm as Exec...   \n",
       "3  Governor Lombardo Lowers Flags to Half-Staff i...   \n",
       "4  Governor Lombardo Statement on Nevada State Tr...   \n",
       "\n",
       "                                                link  \\\n",
       "0  https://gov.nv.gov/Newsroom/PRs/2023/2023-12-2...   \n",
       "1  https://gov.nv.gov/Newsroom/PRs/2023/2023-12-0...   \n",
       "2  https://gov.nv.gov/Newsroom/PRs/2023/2023-12-0...   \n",
       "3  https://gov.nv.gov/Newsroom/PRs/2023/2023-11-3...   \n",
       "4  https://gov.nv.gov/Newsroom/PRs/2023/2023-11-3...   \n",
       "\n",
       "                                             content  date_clean  \n",
       "0  CARSON CITY, NV – Governor Joe Lombardo today ...  2023-12-27  \n",
       "1  Today, Governor Joe Lombardo announced his app...  2023-12-05  \n",
       "2  Today, Governor Joe Lombardo announced James “...  2023-12-05  \n",
       "3  Today, Governor Joe Lombardo announced that th...  2023-11-30  \n",
       "4  Following the tragic report from Nevada State ...  2023-11-30  "
      ]
     },
     "execution_count": 52,
     "metadata": {},
     "output_type": "execute_result"
    }
   ],
   "source": [
    "test = pd.read_csv(f'{state}_2023.csv')\n",
    "test.head()"
   ]
  }
 ],
 "metadata": {
  "kernelspec": {
   "display_name": "Python 3 (ipykernel)",
   "language": "python",
   "name": "python3"
  },
  "language_info": {
   "codemirror_mode": {
    "name": "ipython",
    "version": 3
   },
   "file_extension": ".py",
   "mimetype": "text/x-python",
   "name": "python",
   "nbconvert_exporter": "python",
   "pygments_lexer": "ipython3",
   "version": "3.9.12"
  }
 },
 "nbformat": 4,
 "nbformat_minor": 5
}
