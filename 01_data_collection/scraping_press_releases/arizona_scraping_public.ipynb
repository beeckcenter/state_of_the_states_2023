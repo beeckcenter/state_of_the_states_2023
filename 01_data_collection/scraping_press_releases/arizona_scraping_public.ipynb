{
 "cells": [
  {
   "cell_type": "markdown",
   "id": "a2a652ae",
   "metadata": {},
   "source": [
    "# Arizona Scraping "
   ]
  },
  {
   "cell_type": "code",
   "execution_count": 21,
   "id": "309c410f",
   "metadata": {},
   "outputs": [
    {
     "name": "stdout",
     "output_type": "stream",
     "text": [
      "Exception reporting mode: Minimal\n"
     ]
    }
   ],
   "source": [
    "# set up \n",
    "import pandas as pd \n",
    "import requests \n",
    "import bs4\n",
    "import numpy as np\n",
    "import time \n",
    "import re\n",
    "from tika import parser\n",
    "from selenium import webdriver\n",
    "from selenium.webdriver.common.by import By\n",
    "from selenium.webdriver.support.ui import WebDriverWait\n",
    "from selenium.webdriver.support import expected_conditions as EC\n",
    "from selenium.common.exceptions import StaleElementReferenceException\n",
    "from io import BytesIO\n",
    "from urllib.request import urlopen\n",
    "\n",
    "from IPython.core.interactiveshell import InteractiveShell \n",
    "InteractiveShell.ast_node_interactivity = \"all\"\n",
    "\n",
    "%xmode Minimal"
   ]
  },
  {
   "cell_type": "code",
   "execution_count": 2,
   "id": "08604dc7",
   "metadata": {},
   "outputs": [],
   "source": [
    "# # set headers\n",
    "# header_list = {'User-Agent': REDACTED,\n",
    "#               'Accept-Language': 'en-US,en;q=0.9'}"
   ]
  },
  {
   "cell_type": "code",
   "execution_count": 3,
   "id": "08091be6",
   "metadata": {},
   "outputs": [],
   "source": [
    "# review of robots.txt - 10 second crawl delay"
   ]
  },
  {
   "cell_type": "markdown",
   "id": "4c543ebb",
   "metadata": {},
   "source": [
    "## Scrape Links\n",
    "`Selenium`"
   ]
  },
  {
   "cell_type": "markdown",
   "id": "58aa6366",
   "metadata": {
    "heading_collapsed": true
   },
   "source": [
    "### Test on one link"
   ]
  },
  {
   "cell_type": "code",
   "execution_count": 17,
   "id": "f754ac09",
   "metadata": {
    "hidden": true
   },
   "outputs": [
    {
     "data": {
      "text/plain": [
       "<Response [200]>"
      ]
     },
     "execution_count": 17,
     "metadata": {},
     "output_type": "execute_result"
    }
   ],
   "source": [
    "# access webpage\n",
    "link = 'https://azgovernor.gov/news-releases'\n",
    "server_response = requests.get(link, header_list)\n",
    "server_response"
   ]
  },
  {
   "cell_type": "code",
   "execution_count": 20,
   "id": "b0ebf65e",
   "metadata": {
    "hidden": true
   },
   "outputs": [
    {
     "data": {
      "text/plain": [
       "['Governor Katie Hobbs and Secretary of State Adrian Fontes Call for Clean Fix to Election Timeline',\n",
       " 'Governor Hobbs Announces Appointment of Joshua Steinlage to Coconino County Superior Court',\n",
       " 'ICYMI: Governor Katie Hobbs Unveils Plan That Will “Help Everyday Families and Arizonans Save on Prescription Drugs”',\n",
       " 'Governor Katie Hobbs Joins Reproductive Freedom Alliance in Amicus Brief to Defend Arizonans’ Access to Safe Reproductive Healthcare',\n",
       " 'Governor Hobbs Appoints Members to the Commission of African American Affairs',\n",
       " 'Governor Katie Hobbs Joins Senate Democratic Leader Epstein, House Democratic Leader Contreras in Introducing ESA Accountability Legislation',\n",
       " 'Governor Katie Hobbs Joins Rep. Hamilton, Sen. Sundareshan Introducing Legislation to Protect Reproductive Healthcare']"
      ]
     },
     "execution_count": 20,
     "metadata": {},
     "output_type": "execute_result"
    },
    {
     "data": {
      "text/plain": [
       "['February 5, 2024',\n",
       " 'February 1, 2024',\n",
       " 'February 1, 2024',\n",
       " 'January 30, 2024',\n",
       " 'January 30, 2024',\n",
       " 'January 29, 2024',\n",
       " 'January 24, 2024']"
      ]
     },
     "execution_count": 20,
     "metadata": {},
     "output_type": "execute_result"
    },
    {
     "data": {
      "text/plain": [
       "['https://azgovernor.gov/office-arizona-governor/news/2024/02/governor-katie-hobbs-and-secretary-state-adrian-fontes-call',\n",
       " 'https://azgovernor.gov/office-arizona-governor/news/2024/02/governor-hobbs-announces-appointment-joshua-steinlage-coconino',\n",
       " 'https://azgovernor.gov/office-arizona-governor/news/2024/02/icymi-governor-katie-hobbs-unveils-plan-will-help-everyday',\n",
       " 'https://azgovernor.gov/office-arizona-governor/news/2024/01/governor-katie-hobbs-joins-reproductive-freedom-alliance-amicus',\n",
       " 'https://azgovernor.gov/office-arizona-governor/news/2024/01/governor-hobbs-appoints-members-commission-african-american',\n",
       " 'https://azgovernor.gov/office-arizona-governor/news/2024/01/governor-katie-hobbs-joins-senate-democratic-leader-epstein',\n",
       " 'https://azgovernor.gov/office-arizona-governor/news/2024/01/governor-katie-hobbs-joins-rep-hamilton-sen-sundareshan']"
      ]
     },
     "execution_count": 20,
     "metadata": {},
     "output_type": "execute_result"
    }
   ],
   "source": [
    "# parse and isolate content\n",
    "soup = bs4.BeautifulSoup(server_response.content, features=\"html.parser\")\n",
    "#soup\n",
    "results = soup.find_all('div', class_ = 'item-box-desc') \n",
    "# results\n",
    "title = [i.find('a')['title'] for i in results]\n",
    "# title\n",
    "# title = [i.replace(u'\\ufeff', u'') for i in title]\n",
    "# title \n",
    "date = [i.find('div', class_ = 'date col-xs-12 padding6').text for i in results]\n",
    "# date\n",
    "link = [i.find('a')['href'] for i in results]\n",
    "# link"
   ]
  },
  {
   "cell_type": "markdown",
   "id": "2e08638c",
   "metadata": {
    "heading_collapsed": true
   },
   "source": [
    "### Scrape all link"
   ]
  },
  {
   "cell_type": "code",
   "execution_count": 59,
   "id": "741c5562",
   "metadata": {
    "hidden": true
   },
   "outputs": [],
   "source": [
    "# try selenium for scraping since it has a continuous scroll\n",
    "driver = webdriver.Chrome()\n",
    "driver.get(\"https://azgovernor.gov/news-releases\")\n",
    "\n",
    "def scroll_down():\n",
    "    # Scroll down to the bottom of the page\n",
    "    driver.execute_script(\"window.scrollTo(0, document.body.scrollHeight);\")\n",
    "    # Wait for to load more content (if any)\n",
    "    driver.implicitly_wait(20)\n",
    "\n",
    "# Scroll down multiple times to load more content\n",
    "for _ in range(25):  \n",
    "    scroll_down()\n",
    "    \n",
    "#     wait = WebDriverWait(driver, 10)\n",
    "    results = driver.find_elements(By.CLASS_NAME,'item-box-desc')\n",
    "    results_list = [{'title': i.find_element(By.TAG_NAME, 'a').get_attribute('title'),\n",
    "                 'date': i.find_element(By.TAG_NAME, 'div').text, \n",
    "                'link': i.find_element(By.TAG_NAME, 'a').get_attribute('href')} for i in results]\n",
    "    df = pd.DataFrame.from_dict(results_list)\n",
    "    \n",
    "driver.close()"
   ]
  },
  {
   "cell_type": "code",
   "execution_count": 60,
   "id": "e07122ab",
   "metadata": {
    "hidden": true
   },
   "outputs": [
    {
     "data": {
      "text/html": [
       "<div>\n",
       "<style scoped>\n",
       "    .dataframe tbody tr th:only-of-type {\n",
       "        vertical-align: middle;\n",
       "    }\n",
       "\n",
       "    .dataframe tbody tr th {\n",
       "        vertical-align: top;\n",
       "    }\n",
       "\n",
       "    .dataframe thead th {\n",
       "        text-align: right;\n",
       "    }\n",
       "</style>\n",
       "<table border=\"1\" class=\"dataframe\">\n",
       "  <thead>\n",
       "    <tr style=\"text-align: right;\">\n",
       "      <th></th>\n",
       "      <th>title</th>\n",
       "      <th>date</th>\n",
       "      <th>link</th>\n",
       "      <th>content</th>\n",
       "    </tr>\n",
       "  </thead>\n",
       "  <tbody>\n",
       "    <tr>\n",
       "      <th>0</th>\n",
       "      <td>Governor Katie Hobbs and Secretary of State Ad...</td>\n",
       "      <td>February 5, 2024</td>\n",
       "      <td>https://azgovernor.gov/office-arizona-governor...</td>\n",
       "      <td>NaN</td>\n",
       "    </tr>\n",
       "    <tr>\n",
       "      <th>1</th>\n",
       "      <td>Governor Hobbs Announces Appointment of Joshua...</td>\n",
       "      <td>February 1, 2024</td>\n",
       "      <td>https://azgovernor.gov/office-arizona-governor...</td>\n",
       "      <td>NaN</td>\n",
       "    </tr>\n",
       "    <tr>\n",
       "      <th>2</th>\n",
       "      <td>ICYMI: Governor Katie Hobbs Unveils Plan That ...</td>\n",
       "      <td>February 1, 2024</td>\n",
       "      <td>https://azgovernor.gov/office-arizona-governor...</td>\n",
       "      <td>NaN</td>\n",
       "    </tr>\n",
       "    <tr>\n",
       "      <th>3</th>\n",
       "      <td>Governor Katie Hobbs Joins Reproductive Freedo...</td>\n",
       "      <td>January 30, 2024</td>\n",
       "      <td>https://azgovernor.gov/office-arizona-governor...</td>\n",
       "      <td>NaN</td>\n",
       "    </tr>\n",
       "    <tr>\n",
       "      <th>4</th>\n",
       "      <td>Governor Hobbs Appoints Members to the Commiss...</td>\n",
       "      <td>January 30, 2024</td>\n",
       "      <td>https://azgovernor.gov/office-arizona-governor...</td>\n",
       "      <td>NaN</td>\n",
       "    </tr>\n",
       "    <tr>\n",
       "      <th>...</th>\n",
       "      <td>...</td>\n",
       "      <td>...</td>\n",
       "      <td>...</td>\n",
       "      <td>...</td>\n",
       "    </tr>\n",
       "    <tr>\n",
       "      <th>163</th>\n",
       "      <td>Katie Hobbs Sworn In As Arizona’s 24th Governor</td>\n",
       "      <td>January 2, 2023</td>\n",
       "      <td>https://azgovernor.gov/office-arizona-governor...</td>\n",
       "      <td>NaN</td>\n",
       "    </tr>\n",
       "    <tr>\n",
       "      <th>164</th>\n",
       "      <td>Governor-Elect Katie Hobbs Announces Public Sa...</td>\n",
       "      <td>December 29, 2022</td>\n",
       "      <td>https://azgovernor.gov/office-arizona-governor...</td>\n",
       "      <td>NaN</td>\n",
       "    </tr>\n",
       "    <tr>\n",
       "      <th>165</th>\n",
       "      <td>Governor-Elect Katie Hobbs Announces Environme...</td>\n",
       "      <td>December 28, 2022</td>\n",
       "      <td>https://azgovernor.gov/office-arizona-governor...</td>\n",
       "      <td>NaN</td>\n",
       "    </tr>\n",
       "    <tr>\n",
       "      <th>166</th>\n",
       "      <td>Governor-Elect Katie Hobbs Announces Health an...</td>\n",
       "      <td>December 27, 2022</td>\n",
       "      <td>https://azgovernor.gov/office-arizona-governor...</td>\n",
       "      <td>NaN</td>\n",
       "    </tr>\n",
       "    <tr>\n",
       "      <th>167</th>\n",
       "      <td>Governor-Elect Katie Hobbs Announces Additiona...</td>\n",
       "      <td>December 23, 2022</td>\n",
       "      <td>https://azgovernor.gov/office-arizona-governor...</td>\n",
       "      <td>NaN</td>\n",
       "    </tr>\n",
       "  </tbody>\n",
       "</table>\n",
       "<p>168 rows × 4 columns</p>\n",
       "</div>"
      ],
      "text/plain": [
       "                                                 title               date  \\\n",
       "0    Governor Katie Hobbs and Secretary of State Ad...   February 5, 2024   \n",
       "1    Governor Hobbs Announces Appointment of Joshua...   February 1, 2024   \n",
       "2    ICYMI: Governor Katie Hobbs Unveils Plan That ...   February 1, 2024   \n",
       "3    Governor Katie Hobbs Joins Reproductive Freedo...   January 30, 2024   \n",
       "4    Governor Hobbs Appoints Members to the Commiss...   January 30, 2024   \n",
       "..                                                 ...                ...   \n",
       "163    Katie Hobbs Sworn In As Arizona’s 24th Governor    January 2, 2023   \n",
       "164  Governor-Elect Katie Hobbs Announces Public Sa...  December 29, 2022   \n",
       "165  Governor-Elect Katie Hobbs Announces Environme...  December 28, 2022   \n",
       "166  Governor-Elect Katie Hobbs Announces Health an...  December 27, 2022   \n",
       "167  Governor-Elect Katie Hobbs Announces Additiona...  December 23, 2022   \n",
       "\n",
       "                                                  link  content  \n",
       "0    https://azgovernor.gov/office-arizona-governor...      NaN  \n",
       "1    https://azgovernor.gov/office-arizona-governor...      NaN  \n",
       "2    https://azgovernor.gov/office-arizona-governor...      NaN  \n",
       "3    https://azgovernor.gov/office-arizona-governor...      NaN  \n",
       "4    https://azgovernor.gov/office-arizona-governor...      NaN  \n",
       "..                                                 ...      ...  \n",
       "163  https://azgovernor.gov/office-arizona-governor...      NaN  \n",
       "164  https://azgovernor.gov/office-arizona-governor...      NaN  \n",
       "165  https://azgovernor.gov/office-arizona-governor...      NaN  \n",
       "166  https://azgovernor.gov/office-arizona-governor...      NaN  \n",
       "167  https://azgovernor.gov/office-arizona-governor...      NaN  \n",
       "\n",
       "[168 rows x 4 columns]"
      ]
     },
     "execution_count": 60,
     "metadata": {},
     "output_type": "execute_result"
    }
   ],
   "source": [
    "# add blank content column for later\n",
    "df['content'] = np.nan\n",
    "df.head()"
   ]
  },
  {
   "cell_type": "code",
   "execution_count": 61,
   "id": "56c2ae7d",
   "metadata": {
    "hidden": true
   },
   "outputs": [],
   "source": [
    "df.to_csv('arizona_links.csv', index = False)"
   ]
  },
  {
   "cell_type": "markdown",
   "id": "88a7ef43",
   "metadata": {
    "heading_collapsed": true
   },
   "source": [
    "## Scrape content from links\n",
    "`Beautiful Soup`"
   ]
  },
  {
   "cell_type": "code",
   "execution_count": 62,
   "id": "6b192bca",
   "metadata": {
    "hidden": true
   },
   "outputs": [],
   "source": [
    "# define link scraping \n",
    "def get_arizona_content(link, df, header_list):\n",
    "    try: \n",
    "        # check if content has already been pulled\n",
    "        result = df.loc[df.link == link, 'content'].notnull().all()\n",
    "        if result:\n",
    "            return f'content already existing for {link}' \n",
    "        else: \n",
    "            try: \n",
    "                df['content']\n",
    "                server_response = requests.get(link, headers = header_list)\n",
    "                soup_link = bs4.BeautifulSoup(server_response.content, features=\"html.parser\")\n",
    "                result = soup_link.find('div', class_ = 'margin-top20 clearfix field-name-body margin-bottom20').find_all('p')\n",
    "                string_result = [str(i.text) for i in result]\n",
    "                string_result_clean = [i.replace(u'\\xa0', u' ') for i in string_result]\n",
    "                result_merged = \" \".join(string_result_clean)\n",
    "                df.loc[df.link == link, 'content'] = result_merged\n",
    "                return f\"success: content added from {link}\"\n",
    "            except: \n",
    "                pass\n",
    "    except Exception as e: \n",
    "        return f\"unable to gather content from {link} due to {e}\"\n",
    "    #return df_updated "
   ]
  },
  {
   "cell_type": "markdown",
   "id": "e63d2874",
   "metadata": {
    "hidden": true
   },
   "source": [
    "### Test for one link"
   ]
  },
  {
   "cell_type": "code",
   "execution_count": 48,
   "id": "3c6f4749",
   "metadata": {
    "hidden": true
   },
   "outputs": [
    {
     "data": {
      "text/plain": [
       "<Response [200]>"
      ]
     },
     "execution_count": 48,
     "metadata": {},
     "output_type": "execute_result"
    }
   ],
   "source": [
    "# test for one link \n",
    "link = 'https://gov.alaska.gov/governor-dunleavy-creates-alaska-energy-security-task-force-to-create-comprehensive-statewide-energy-plan/'\n",
    "server_response = requests.get(link, headers = header_list)\n",
    "server_response"
   ]
  },
  {
   "cell_type": "code",
   "execution_count": 49,
   "id": "0fd41968",
   "metadata": {
    "hidden": true
   },
   "outputs": [
    {
     "data": {
      "text/plain": [
       "'Today Governor Mike Dunleavy issued Administrative Order 344, establishing the Alaska Energy Security Task Force. The purpose of the task force is to develop a comprehensive statewide energy plan that will evaluate the energy generation, distribution, and transmission for the State of Alaska and its communities. The development of the plan will include collaborating with both the public and private stakeholders. The statewide energy plan, including proposed timelines and milestones, will be presented to the Governor upon completion. “Despite Alaska’s position as a leading producer of energy, the cost of energy in Alaska, especially in our rural communities, is extremely high,” said Governor Mike Dunleavy. “As everyone has been reminded by the war in Ukraine, access to and cost of energy are influenced by global events. I’m establishing this task force to create a plan that will reduce Alaska’s vulnerability to fluctuating energy markets by securing dependable and affordable energy for Alaskan residents.” On September 30th, 2022, Governor Dunleavy established the Office of Energy Innovation to provide a central point of focus for Alaska’s efforts to reduce the cost of energy for residents. The Task Force will provide recommendations on overall energy policy for the State of Alaska, as well as strategies and tactics to achieve its goal of reducing the cost of energy for Alaskans. The task force’s initial report to the Governor shall be delivered by May 19, 2023. Once the report is received, further clarification and deliverables may be identified that would require additional work by the task force. The Alaska Energy Security Task Force will consist of thirteen voting members and five ex officio members appointed by the Governor. The voting members are as follows: The five ex officio members of the task force are as follows: Alaskans interested in serving on the Alaska Energy Security Task Force may apply here: gov.alaska.gov/apply.  '"
      ]
     },
     "execution_count": 49,
     "metadata": {},
     "output_type": "execute_result"
    }
   ],
   "source": [
    "# Parse and isolate content\n",
    "soup_link = bs4.BeautifulSoup(server_response.content, features=\"html.parser\")\n",
    "result = soup_link.find('div', class_ = 'et_pb_module et_pb_post_content et_pb_post_content_0_tb_body').find_all('p')\n",
    "string_result = [str(i.text) for i in result]\n",
    "string_result_clean = [i.replace(u'\\xa0', u' ') for i in string_result]\n",
    "result_merged = \" \".join(string_result_clean)\n",
    "result_merged"
   ]
  },
  {
   "cell_type": "markdown",
   "id": "1f13b25f",
   "metadata": {
    "heading_collapsed": true
   },
   "source": [
    "## Scrape content for all links"
   ]
  },
  {
   "cell_type": "code",
   "execution_count": 63,
   "id": "cdc497c9",
   "metadata": {
    "hidden": true
   },
   "outputs": [
    {
     "data": {
      "text/plain": [
       "'success: content added from https://azgovernor.gov/office-arizona-governor/news/2024/02/governor-katie-hobbs-and-secretary-state-adrian-fontes-call'"
      ]
     },
     "execution_count": 63,
     "metadata": {},
     "output_type": "execute_result"
    },
    {
     "data": {
      "text/plain": [
       "'success: content added from https://azgovernor.gov/office-arizona-governor/news/2024/02/governor-hobbs-announces-appointment-joshua-steinlage-coconino'"
      ]
     },
     "execution_count": 63,
     "metadata": {},
     "output_type": "execute_result"
    },
    {
     "data": {
      "text/plain": [
       "'success: content added from https://azgovernor.gov/office-arizona-governor/news/2024/02/icymi-governor-katie-hobbs-unveils-plan-will-help-everyday'"
      ]
     },
     "execution_count": 63,
     "metadata": {},
     "output_type": "execute_result"
    },
    {
     "data": {
      "text/plain": [
       "'success: content added from https://azgovernor.gov/office-arizona-governor/news/2024/01/governor-katie-hobbs-joins-reproductive-freedom-alliance-amicus'"
      ]
     },
     "execution_count": 63,
     "metadata": {},
     "output_type": "execute_result"
    },
    {
     "data": {
      "text/plain": [
       "'success: content added from https://azgovernor.gov/office-arizona-governor/news/2024/01/governor-hobbs-appoints-members-commission-african-american'"
      ]
     },
     "execution_count": 63,
     "metadata": {},
     "output_type": "execute_result"
    },
    {
     "data": {
      "text/plain": [
       "'success: content added from https://azgovernor.gov/office-arizona-governor/news/2024/01/governor-katie-hobbs-joins-senate-democratic-leader-epstein'"
      ]
     },
     "execution_count": 63,
     "metadata": {},
     "output_type": "execute_result"
    },
    {
     "ename": "AttributeError",
     "evalue": "'DataFrame' object has no attribute 'header'",
     "output_type": "error",
     "traceback": [
      "\u001b[0;31mAttributeError\u001b[0m\u001b[0;31m:\u001b[0m 'DataFrame' object has no attribute 'header'\n"
     ]
    }
   ],
   "source": [
    "# test on 5 to see if it works\n",
    "for i in df.link[0:6]:\n",
    "     get_arizona_content(i, df, header_list)\n",
    "        \n",
    "df.head()"
   ]
  },
  {
   "cell_type": "code",
   "execution_count": 65,
   "id": "90755d39",
   "metadata": {
    "hidden": true
   },
   "outputs": [
    {
     "data": {
      "text/plain": [
       "'content already existing for https://azgovernor.gov/office-arizona-governor/news/2024/02/governor-katie-hobbs-and-secretary-state-adrian-fontes-call'"
      ]
     },
     "execution_count": 65,
     "metadata": {},
     "output_type": "execute_result"
    },
    {
     "data": {
      "text/plain": [
       "'content already existing for https://azgovernor.gov/office-arizona-governor/news/2024/02/governor-hobbs-announces-appointment-joshua-steinlage-coconino'"
      ]
     },
     "execution_count": 65,
     "metadata": {},
     "output_type": "execute_result"
    },
    {
     "data": {
      "text/plain": [
       "'content already existing for https://azgovernor.gov/office-arizona-governor/news/2024/02/icymi-governor-katie-hobbs-unveils-plan-will-help-everyday'"
      ]
     },
     "execution_count": 65,
     "metadata": {},
     "output_type": "execute_result"
    },
    {
     "data": {
      "text/plain": [
       "'content already existing for https://azgovernor.gov/office-arizona-governor/news/2024/01/governor-katie-hobbs-joins-reproductive-freedom-alliance-amicus'"
      ]
     },
     "execution_count": 65,
     "metadata": {},
     "output_type": "execute_result"
    },
    {
     "data": {
      "text/plain": [
       "'content already existing for https://azgovernor.gov/office-arizona-governor/news/2024/01/governor-hobbs-appoints-members-commission-african-american'"
      ]
     },
     "execution_count": 65,
     "metadata": {},
     "output_type": "execute_result"
    },
    {
     "data": {
      "text/plain": [
       "'content already existing for https://azgovernor.gov/office-arizona-governor/news/2024/01/governor-katie-hobbs-joins-senate-democratic-leader-epstein'"
      ]
     },
     "execution_count": 65,
     "metadata": {},
     "output_type": "execute_result"
    },
    {
     "data": {
      "text/plain": [
       "'success: content added from https://azgovernor.gov/office-arizona-governor/news/2024/01/governor-katie-hobbs-joins-rep-hamilton-sen-sundareshan'"
      ]
     },
     "execution_count": 65,
     "metadata": {},
     "output_type": "execute_result"
    },
    {
     "data": {
      "text/plain": [
       "'success: content added from https://azgovernor.gov/office-arizona-governor/news/2024/01/governor-katie-hobbs-announces-95-million-federal-grant-i-10'"
      ]
     },
     "execution_count": 65,
     "metadata": {},
     "output_type": "execute_result"
    },
    {
     "data": {
      "text/plain": [
       "'success: content added from https://azgovernor.gov/office-arizona-governor/news/2024/01/governor-hobbs-nominates-james-e-goughnour-arizona-game-and'"
      ]
     },
     "execution_count": 65,
     "metadata": {},
     "output_type": "execute_result"
    },
    {
     "data": {
      "text/plain": [
       "'success: content added from https://azgovernor.gov/office-arizona-governor/news/2024/01/governor-katie-hobbs-releases-prop-123-plan-invest-public'"
      ]
     },
     "execution_count": 65,
     "metadata": {},
     "output_type": "execute_result"
    },
    {
     "data": {
      "text/plain": [
       "'success: content added from https://azgovernor.gov/office-arizona-governor/news/2024/01/governor-katie-hobbs-releases-fy2025-executive-budget-proposal'"
      ]
     },
     "execution_count": 65,
     "metadata": {},
     "output_type": "execute_result"
    },
    {
     "data": {
      "text/plain": [
       "'success: content added from https://azgovernor.gov/office-arizona-governor/news/2024/01/governor-katie-hobbs-announces-89-million-new-affordable'"
      ]
     },
     "execution_count": 65,
     "metadata": {},
     "output_type": "execute_result"
    },
    {
     "data": {
      "text/plain": [
       "'success: content added from https://azgovernor.gov/office-arizona-governor/news/2024/01/transcript-governor-hobbs-2024-state-state-address'"
      ]
     },
     "execution_count": 65,
     "metadata": {},
     "output_type": "execute_result"
    },
    {
     "data": {
      "text/plain": [
       "'success: content added from https://azgovernor.gov/office-arizona-governor/news/2024/01/governor-katie-hobbs-announces-plan-esa-accountability-and'"
      ]
     },
     "execution_count": 65,
     "metadata": {},
     "output_type": "execute_result"
    },
    {
     "data": {
      "text/plain": [
       "'success: content added from https://azgovernor.gov/office-arizona-governor/news/2023/12/governors-office-demands-esa-transparency-and-accountability'"
      ]
     },
     "execution_count": 65,
     "metadata": {},
     "output_type": "execute_result"
    },
    {
     "data": {
      "text/plain": [
       "'success: content added from https://azgovernor.gov/office-arizona-governor/news/2023/12/governor-katie-hobbs-signs-executive-order-sending-arizona'"
      ]
     },
     "execution_count": 65,
     "metadata": {},
     "output_type": "execute_result"
    },
    {
     "data": {
      "text/plain": [
       "'success: content added from https://azgovernor.gov/office-arizona-governor/news/2023/12/governor-katie-hobbs-announces-federal-grant-study-potential'"
      ]
     },
     "execution_count": 65,
     "metadata": {},
     "output_type": "execute_result"
    },
    {
     "data": {
      "text/plain": [
       "'success: content added from https://azgovernor.gov/office-arizona-governor/news/2023/12/governor-katie-hobbs-launches-operation-secure-offers-national'"
      ]
     },
     "execution_count": 65,
     "metadata": {},
     "output_type": "execute_result"
    },
    {
     "data": {
      "text/plain": [
       "'success: content added from https://azgovernor.gov/office-arizona-governor/news/2023/12/sinema-kelly-hobbs-statement-lukeville-poe-closure'"
      ]
     },
     "execution_count": 65,
     "metadata": {},
     "output_type": "execute_result"
    },
    {
     "data": {
      "text/plain": [
       "'success: content added from https://azgovernor.gov/office-arizona-governor/news/2023/12/governor-katie-hobbs-releases-statement-honoring-life-and'"
      ]
     },
     "execution_count": 65,
     "metadata": {},
     "output_type": "execute_result"
    },
    {
     "data": {
      "text/plain": [
       "'success: content added from https://azgovernor.gov/office-arizona-governor/news/2023/11/governor-hobbs-bipartisan-water-policy-council-delivers'"
      ]
     },
     "execution_count": 65,
     "metadata": {},
     "output_type": "execute_result"
    },
    {
     "data": {
      "text/plain": [
       "'success: content added from https://azgovernor.gov/office-arizona-governor/news/2023/11/adcrr-save-15-million-ending-private-prison-contract-marana'"
      ]
     },
     "execution_count": 65,
     "metadata": {},
     "output_type": "execute_result"
    },
    {
     "data": {
      "text/plain": [
       "'success: content added from https://azgovernor.gov/office-arizona-governor/news/2023/11/arizona-governor-katie-hobbs-releases-maguire-report'"
      ]
     },
     "execution_count": 65,
     "metadata": {},
     "output_type": "execute_result"
    },
    {
     "data": {
      "text/plain": [
       "'success: content added from https://azgovernor.gov/office-arizona-governor/news/2023/11/governor-katie-hobbs-announces-first-ever-semiconductor'"
      ]
     },
     "execution_count": 65,
     "metadata": {},
     "output_type": "execute_result"
    },
    {
     "data": {
      "text/plain": [
       "'success: content added from https://azgovernor.gov/office-arizona-governor/news/2023/11/bridging-digital-divide-governor-katie-hobbs-wecom-fiber-break'"
      ]
     },
     "execution_count": 65,
     "metadata": {},
     "output_type": "execute_result"
    },
    {
     "data": {
      "text/plain": [
       "'success: content added from https://azgovernor.gov/office-arizona-governor/news/2023/11/governor-katie-hobbs-kicks-apprenticeship-week-new-efforts'"
      ]
     },
     "execution_count": 65,
     "metadata": {},
     "output_type": "execute_result"
    },
    {
     "data": {
      "text/plain": [
       "'success: content added from https://azgovernor.gov/office-arizona-governor/news/2023/11/governor-hobbs-announces-appointment-internationally-renowned'"
      ]
     },
     "execution_count": 65,
     "metadata": {},
     "output_type": "execute_result"
    },
    {
     "data": {
      "text/plain": [
       "'success: content added from https://azgovernor.gov/office-arizona-governor/news/2023/11/office-governor-katie-hobbs-releases-broadband-equity-access'"
      ]
     },
     "execution_count": 65,
     "metadata": {},
     "output_type": "execute_result"
    },
    {
     "data": {
      "text/plain": [
       "'success: content added from https://azgovernor.gov/office-arizona-governor/news/2023/11/application-posted-anticipated-opening-division-5-yavapai'"
      ]
     },
     "execution_count": 65,
     "metadata": {},
     "output_type": "execute_result"
    },
    {
     "data": {
      "text/plain": [
       "'success: content added from https://azgovernor.gov/office-arizona-governor/news/2023/11/governor-katie-hobbs-announces-executive-orders-and-funding'"
      ]
     },
     "execution_count": 65,
     "metadata": {},
     "output_type": "execute_result"
    },
    {
     "data": {
      "text/plain": [
       "'success: content added from https://azgovernor.gov/office-arizona-governor/news/2023/10/governor-katie-hobbs-puts-money-back-arizonans-pockets'"
      ]
     },
     "execution_count": 65,
     "metadata": {},
     "output_type": "execute_result"
    },
    {
     "data": {
      "text/plain": [
       "'success: content added from https://azgovernor.gov/office-arizona-governor/news/2023/10/governor-hobbs-directs-dhs-and-aps-investigate-heritage-village'"
      ]
     },
     "execution_count": 65,
     "metadata": {},
     "output_type": "execute_result"
    },
    {
     "data": {
      "text/plain": [
       "'success: content added from https://azgovernor.gov/office-arizona-governor/news/2023/10/governor-katie-hobbs-appoints-anna-tovar-state-board-education'"
      ]
     },
     "execution_count": 65,
     "metadata": {},
     "output_type": "execute_result"
    },
    {
     "data": {
      "text/plain": [
       "'success: content added from https://azgovernor.gov/office-arizona-governor/news/2023/10/governor-katie-hobbs-announces-new-first-its-kind-program-0'"
      ]
     },
     "execution_count": 65,
     "metadata": {},
     "output_type": "execute_result"
    },
    {
     "data": {
      "text/plain": [
       "'success: content added from https://azgovernor.gov/office-arizona-governor/news/2023/10/governor-katie-hobbs-appoints-board-directors-rio-nuevo'"
      ]
     },
     "execution_count": 65,
     "metadata": {},
     "output_type": "execute_result"
    },
    {
     "data": {
      "text/plain": [
       "'success: content added from https://azgovernor.gov/office-arizona-governor/news/2023/10/governor-katie-hobbs-announces-new-first-its-kind-program-make'"
      ]
     },
     "execution_count": 65,
     "metadata": {},
     "output_type": "execute_result"
    },
    {
     "data": {
      "text/plain": [
       "'success: content added from https://azgovernor.gov/office-arizona-governor/news/2023/10/governor-katie-hobbs-appoints-board-directors-rio-nuevo-0'"
      ]
     },
     "execution_count": 65,
     "metadata": {},
     "output_type": "execute_result"
    },
    {
     "data": {
      "text/plain": [
       "'success: content added from https://azgovernor.gov/office-arizona-governor/news/2023/10/governor-katie-hobbs-statement-unaccountable-school-voucher'"
      ]
     },
     "execution_count": 65,
     "metadata": {},
     "output_type": "execute_result"
    },
    {
     "data": {
      "text/plain": [
       "'success: content added from https://azgovernor.gov/office-arizona-governor/news/2023/10/governor-hobbs-week-review-hobbs-cancels-fondomonte-lease'"
      ]
     },
     "execution_count": 65,
     "metadata": {},
     "output_type": "execute_result"
    },
    {
     "data": {
      "text/plain": [
       "'success: content added from https://azgovernor.gov/office-arizona-governor/news/2023/10/governors-office-looks-fill-vacant-positions-african-american'"
      ]
     },
     "execution_count": 65,
     "metadata": {},
     "output_type": "execute_result"
    },
    {
     "data": {
      "text/plain": [
       "'success: content added from https://azgovernor.gov/office-arizona-governor/news/2023/10/governor-katie-hobbs-files-amicus-brief-support-planned'"
      ]
     },
     "execution_count": 65,
     "metadata": {},
     "output_type": "execute_result"
    },
    {
     "data": {
      "text/plain": [
       "'success: content added from https://azgovernor.gov/office-arizona-governor/news/2023/10/social-worker-governor-katie-hobbs-signs-executive-order'"
      ]
     },
     "execution_count": 65,
     "metadata": {},
     "output_type": "execute_result"
    },
    {
     "data": {
      "text/plain": [
       "'success: content added from https://azgovernor.gov/office-arizona-governor/news/2023/10/governor-katie-hobbs-terminates-fondomonte-lease-announces'"
      ]
     },
     "execution_count": 65,
     "metadata": {},
     "output_type": "execute_result"
    },
    {
     "data": {
      "text/plain": [
       "'success: content added from https://azgovernor.gov/office-arizona-governor/news/2023/09/governor-katie-hobbs-announces-11-million-az-healthy-tomorrow'"
      ]
     },
     "execution_count": 65,
     "metadata": {},
     "output_type": "execute_result"
    },
    {
     "data": {
      "text/plain": [
       "'success: content added from https://azgovernor.gov/office-arizona-governor/news/2023/09/hobbs-administration-replies-treasurer-yees-partisan-illegal'"
      ]
     },
     "execution_count": 65,
     "metadata": {},
     "output_type": "execute_result"
    },
    {
     "data": {
      "text/plain": [
       "'success: content added from https://azgovernor.gov/office-arizona-governor/news/2023/09/governor-katie-hobbs-joins-announcement-construction-john-s'"
      ]
     },
     "execution_count": 65,
     "metadata": {},
     "output_type": "execute_result"
    },
    {
     "data": {
      "text/plain": [
       "'success: content added from https://azgovernor.gov/office-arizona-governor/news/2023/09/governor-katie-hobbs-pulls-nominees-partisan-political-circus'"
      ]
     },
     "execution_count": 65,
     "metadata": {},
     "output_type": "execute_result"
    },
    {
     "data": {
      "text/plain": [
       "'success: content added from https://azgovernor.gov/office-arizona-governor/news/2023/09/governor-katie-hobbs-meets-taiwan-president-and-other-leaders'"
      ]
     },
     "execution_count": 65,
     "metadata": {},
     "output_type": "execute_result"
    },
    {
     "data": {
      "text/plain": [
       "'success: content added from https://azgovernor.gov/office-arizona-governor/news/2023/09/governor-hobbs-discusses-jobs-sustainable-economic-growth-and'"
      ]
     },
     "execution_count": 65,
     "metadata": {},
     "output_type": "execute_result"
    },
    {
     "data": {
      "text/plain": [
       "'success: content added from https://azgovernor.gov/office-arizona-governor/news/2023/09/governor-katie-hobbs-border-community-leaders-call-federal'"
      ]
     },
     "execution_count": 65,
     "metadata": {},
     "output_type": "execute_result"
    },
    {
     "data": {
      "text/plain": [
       "'success: content added from https://azgovernor.gov/office-arizona-governor/news/2023/09/governor-katie-hobbs-statement-record-setting-job-numbers'"
      ]
     },
     "execution_count": 65,
     "metadata": {},
     "output_type": "execute_result"
    },
    {
     "data": {
      "text/plain": [
       "'success: content added from https://azgovernor.gov/office-arizona-governor/news/2023/09/governor-hobbs-announces-appointment-karen-palmer-pinal-county'"
      ]
     },
     "execution_count": 65,
     "metadata": {},
     "output_type": "execute_result"
    },
    {
     "data": {
      "text/plain": [
       "'success: content added from https://azgovernor.gov/office-arizona-governor/news/2023/09/governor-katie-hobbs-co-hosts-first-state-tribal-summit-focus'"
      ]
     },
     "execution_count": 65,
     "metadata": {},
     "output_type": "execute_result"
    },
    {
     "data": {
      "text/plain": [
       "'success: content added from https://azgovernor.gov/office-arizona-governor/news/2023/09/governors-office-opens-arizona-game-and-fish-commission'"
      ]
     },
     "execution_count": 65,
     "metadata": {},
     "output_type": "execute_result"
    },
    {
     "data": {
      "text/plain": [
       "'success: content added from https://azgovernor.gov/office-arizona-governor/news/2023/09/governor-katie-hobbs-statement-supt-horne-holding-school'"
      ]
     },
     "execution_count": 65,
     "metadata": {},
     "output_type": "execute_result"
    },
    {
     "data": {
      "text/plain": [
       "'success: content added from https://azgovernor.gov/office-arizona-governor/news/2023/09/governor-katie-hobbs-celebrates-jobs-strong-workforce-and'"
      ]
     },
     "execution_count": 65,
     "metadata": {},
     "output_type": "execute_result"
    },
    {
     "data": {
      "text/plain": [
       "'success: content added from https://azgovernor.gov/office-arizona-governor/news/2023/08/dcs-director-david-lujan-takes-action-right-errors-child'"
      ]
     },
     "execution_count": 65,
     "metadata": {},
     "output_type": "execute_result"
    },
    {
     "data": {
      "text/plain": [
       "'success: content added from https://azgovernor.gov/office-arizona-governor/news/2023/08/national-fentanyl-prevention-and-awareness-day-governor-katie'"
      ]
     },
     "execution_count": 65,
     "metadata": {},
     "output_type": "execute_result"
    },
    {
     "data": {
      "text/plain": [
       "'success: content added from https://azgovernor.gov/office-arizona-governor/news/2023/08/governor-katie-hobbs-appoints-board-directors-arizona-mexico'"
      ]
     },
     "execution_count": 65,
     "metadata": {},
     "output_type": "execute_result"
    },
    {
     "data": {
      "text/plain": [
       "'success: content added from https://azgovernor.gov/office-arizona-governor/news/2023/08/governor-katie-hobbs-declares-heat-state-emergency'"
      ]
     },
     "execution_count": 65,
     "metadata": {},
     "output_type": "execute_result"
    },
    {
     "data": {
      "text/plain": [
       "'success: content added from https://azgovernor.gov/office-arizona-governor/news/2023/08/governor-katie-hobbs-elected-officials-businesses-and-community'"
      ]
     },
     "execution_count": 65,
     "metadata": {},
     "output_type": "execute_result"
    },
    {
     "data": {
      "text/plain": [
       "'success: content added from https://azgovernor.gov/office-arizona-governor/news/2023/08/governor-katie-hobbs-joined-adosh-and-tsmc-arizona-announce'"
      ]
     },
     "execution_count": 65,
     "metadata": {},
     "output_type": "execute_result"
    },
    {
     "data": {
      "text/plain": [
       "'success: content added from https://azgovernor.gov/office-arizona-governor/news/2023/08/governor-katie-hobbs-celebrates-passage-prop-400-will-create-0'"
      ]
     },
     "execution_count": 65,
     "metadata": {},
     "output_type": "execute_result"
    },
    {
     "data": {
      "text/plain": [
       "'success: content added from https://azgovernor.gov/office-arizona-governor/news/2023/08/governor-katie-hobbs-celebrates-passage-prop-400-will-create'"
      ]
     },
     "execution_count": 65,
     "metadata": {},
     "output_type": "execute_result"
    },
    {
     "data": {
      "text/plain": [
       "'success: content added from https://azgovernor.gov/office-arizona-governor/news/2023/08/governor-katie-hobbs-celebrates-grand-canyon-national-monument'"
      ]
     },
     "execution_count": 65,
     "metadata": {},
     "output_type": "execute_result"
    },
    {
     "data": {
      "text/plain": [
       "'success: content added from https://azgovernor.gov/office-arizona-governor/news/2023/08/governor-katie-hobbs-schedules-meeting-arizona-utility'"
      ]
     },
     "execution_count": 65,
     "metadata": {},
     "output_type": "execute_result"
    },
    {
     "data": {
      "text/plain": [
       "'success: content added from https://azgovernor.gov/office-arizona-governor/news/2023/07/governor-katie-hobbs-sends-letter-superintendent-tom-horne'"
      ]
     },
     "execution_count": 65,
     "metadata": {},
     "output_type": "execute_result"
    },
    {
     "data": {
      "text/plain": [
       "'success: content added from https://azgovernor.gov/office-arizona-governor/news/2023/07/governor-katie-hobbs-statement-new-school-voucher-cost'"
      ]
     },
     "execution_count": 65,
     "metadata": {},
     "output_type": "execute_result"
    },
    {
     "data": {
      "text/plain": [
       "'success: content added from https://azgovernor.gov/office-arizona-governor/news/2023/07/governor-katie-hobbs-writes-utility-companies-demanding-written'"
      ]
     },
     "execution_count": 65,
     "metadata": {},
     "output_type": "execute_result"
    },
    {
     "data": {
      "text/plain": [
       "'success: content added from https://azgovernor.gov/office-arizona-governor/news/2023/07/governor-katie-hobbs-appoints-new-members-finance-authority'"
      ]
     },
     "execution_count": 65,
     "metadata": {},
     "output_type": "execute_result"
    },
    {
     "data": {
      "text/plain": [
       "'success: content added from https://azgovernor.gov/office-arizona-governor/news/2023/07/governor-katie-hobbs-stands-order-protecting-arizona-women-and'"
      ]
     },
     "execution_count": 65,
     "metadata": {},
     "output_type": "execute_result"
    },
    {
     "data": {
      "text/plain": [
       "'success: content added from https://azgovernor.gov/office-arizona-governor/news/2023/07/governor-katie-hobbs-announces-expanded-access-over-counter'"
      ]
     },
     "execution_count": 65,
     "metadata": {},
     "output_type": "execute_result"
    },
    {
     "data": {
      "text/plain": [
       "'success: content added from https://azgovernor.gov/office-arizona-governor/news/2023/06/governor-hobbs-announces-appointment-debra-phelan-yavapai'"
      ]
     },
     "execution_count": 65,
     "metadata": {},
     "output_type": "execute_result"
    },
    {
     "data": {
      "text/plain": [
       "'success: content added from https://azgovernor.gov/office-arizona-governor/news/2023/06/governor-katie-hobbs-announces-over-15-million-yavapai-county'"
      ]
     },
     "execution_count": 65,
     "metadata": {},
     "output_type": "execute_result"
    },
    {
     "data": {
      "text/plain": [
       "'success: content added from https://azgovernor.gov/office-arizona-governor/news/2023/06/governor-katie-hobbs-signs-executive-orders-addressing-safety'"
      ]
     },
     "execution_count": 65,
     "metadata": {},
     "output_type": "execute_result"
    },
    {
     "data": {
      "text/plain": [
       "'success: content added from https://azgovernor.gov/office-arizona-governor/news/2023/06/governor-hobbs-signs-executive-orders-ending-unjust-practices'"
      ]
     },
     "execution_count": 65,
     "metadata": {},
     "output_type": "execute_result"
    },
    {
     "data": {
      "text/plain": [
       "'success: content added from https://azgovernor.gov/office-arizona-governor/news/2023/06/governor-katie-hobbs-celebrates-nearly-1-billion-support'"
      ]
     },
     "execution_count": 65,
     "metadata": {},
     "output_type": "execute_result"
    },
    {
     "data": {
      "text/plain": [
       "'success: content added from https://azgovernor.gov/office-arizona-governor/news/2023/06/icymi-governor-katie-hobbs-safeguards-abortion-seekers-and'"
      ]
     },
     "execution_count": 65,
     "metadata": {},
     "output_type": "execute_result"
    },
    {
     "data": {
      "text/plain": [
       "'success: content added from https://azgovernor.gov/office-arizona-governor/news/2023/06/governor-hobbs-announces-appointment-tribal-leaders-governors'"
      ]
     },
     "execution_count": 65,
     "metadata": {},
     "output_type": "execute_result"
    },
    {
     "data": {
      "text/plain": [
       "'success: content added from https://azgovernor.gov/office-arizona-governor/news/2023/06/governor-katie-hobbs-signs-executive-order-protecting'"
      ]
     },
     "execution_count": 65,
     "metadata": {},
     "output_type": "execute_result"
    },
    {
     "data": {
      "text/plain": [
       "'success: content added from https://azgovernor.gov/office-arizona-governor/news/2023/06/governor-katie-hobbs-announces-members-governors-interagency'"
      ]
     },
     "execution_count": 65,
     "metadata": {},
     "output_type": "execute_result"
    },
    {
     "data": {
      "text/plain": [
       "'success: content added from https://azgovernor.gov/office-arizona-governor/news/2023/06/june-20th-governor-katie-hobbs-legislative-action-update'"
      ]
     },
     "execution_count": 65,
     "metadata": {},
     "output_type": "execute_result"
    },
    {
     "data": {
      "text/plain": [
       "'success: content added from https://azgovernor.gov/office-arizona-governor/news/2023/06/governor-katie-hobbs-vetoes-partisan-sb-1246-encourages'"
      ]
     },
     "execution_count": 65,
     "metadata": {},
     "output_type": "execute_result"
    },
    {
     "data": {
      "text/plain": [
       "'success: content added from https://azgovernor.gov/office-arizona-governor/news/2023/06/governor-katie-hobbs-legislative-action-update-0'"
      ]
     },
     "execution_count": 65,
     "metadata": {},
     "output_type": "execute_result"
    },
    {
     "data": {
      "text/plain": [
       "'success: content added from https://azgovernor.gov/office-arizona-governor/news/2023/06/governor-katie-hobbs-signs-bipartisan-bill-providing-relief-rio'"
      ]
     },
     "execution_count": 65,
     "metadata": {},
     "output_type": "execute_result"
    },
    {
     "data": {
      "text/plain": [
       "'success: content added from https://azgovernor.gov/office-arizona-governor/news/2023/06/governor-katie-hobbs-appoints-two-maricopa-county-superior'"
      ]
     },
     "execution_count": 65,
     "metadata": {},
     "output_type": "execute_result"
    },
    {
     "data": {
      "text/plain": [
       "'success: content added from https://azgovernor.gov/office-arizona-governor/news/2023/06/governors-office-hold-judicial-interviews-yavapai-county'"
      ]
     },
     "execution_count": 65,
     "metadata": {},
     "output_type": "execute_result"
    },
    {
     "data": {
      "text/plain": [
       "'success: content added from https://azgovernor.gov/office-arizona-governor/news/2023/06/governor-katie-hobbs-calls-republican-leadership-stop-holding'"
      ]
     },
     "execution_count": 65,
     "metadata": {},
     "output_type": "execute_result"
    },
    {
     "data": {
      "text/plain": [
       "'success: content added from https://azgovernor.gov/office-arizona-governor/news/2023/06/governor-hobbs-celebrates-180-new-jobs-grand-opening-moov'"
      ]
     },
     "execution_count": 65,
     "metadata": {},
     "output_type": "execute_result"
    },
    {
     "data": {
      "text/plain": [
       "'success: content added from https://azgovernor.gov/office-arizona-governor/news/2023/06/governor-hobbs-legislative-action-update-0'"
      ]
     },
     "execution_count": 65,
     "metadata": {},
     "output_type": "execute_result"
    },
    {
     "data": {
      "text/plain": [
       "'success: content added from https://azgovernor.gov/office-arizona-governor/news/2023/06/governor-katie-hobbs-legislative-action-update'"
      ]
     },
     "execution_count": 65,
     "metadata": {},
     "output_type": "execute_result"
    },
    {
     "data": {
      "text/plain": [
       "'success: content added from https://azgovernor.gov/office-arizona-governor/news/2023/06/governor-hobbs-unveils-100-year-study-protect-valley'"
      ]
     },
     "execution_count": 65,
     "metadata": {},
     "output_type": "execute_result"
    },
    {
     "data": {
      "text/plain": [
       "'success: content added from https://azgovernor.gov/office-arizona-governor/news/2023/06/governor-katie-hobbs-celebrates-start-pride-month-unveiling'"
      ]
     },
     "execution_count": 65,
     "metadata": {},
     "output_type": "execute_result"
    },
    {
     "data": {
      "text/plain": [
       "'success: content added from https://azgovernor.gov/office-arizona-governor/news/2023/06/governor-hobbs-legislative-action-update'"
      ]
     },
     "execution_count": 65,
     "metadata": {},
     "output_type": "execute_result"
    },
    {
     "data": {
      "text/plain": [
       "'success: content added from https://azgovernor.gov/office-arizona-governor/news/2023/05/governor-hobbs-announces-determination-ducey-era-grant-esas'"
      ]
     },
     "execution_count": 65,
     "metadata": {},
     "output_type": "execute_result"
    },
    {
     "data": {
      "text/plain": [
       "'success: content added from https://azgovernor.gov/office-arizona-governor/news/2023/05/governor-hobbs-legislative-action-update-1'"
      ]
     },
     "execution_count": 65,
     "metadata": {},
     "output_type": "execute_result"
    },
    {
     "data": {
      "text/plain": [
       "'success: content added from https://azgovernor.gov/office-arizona-governor/news/2023/05/arizona-california-and-nevada-governors-announce-lower-basin'"
      ]
     },
     "execution_count": 65,
     "metadata": {},
     "output_type": "execute_result"
    },
    {
     "data": {
      "text/plain": [
       "'success: content added from https://azgovernor.gov/office-arizona-governor/news/2023/05/governor-hobbs-announces-title-42-coordinator'"
      ]
     },
     "execution_count": 65,
     "metadata": {},
     "output_type": "execute_result"
    },
    {
     "data": {
      "text/plain": [
       "'success: content added from https://azgovernor.gov/office-arizona-governor/news/2023/05/governor-katie-hobbs-signs-bipartisan-budget-law'"
      ]
     },
     "execution_count": 65,
     "metadata": {},
     "output_type": "execute_result"
    },
    {
     "data": {
      "text/plain": [
       "'success: content added from https://azgovernor.gov/office-arizona-governor/news/2023/05/governor-hobbs-announces-actions-against-fraudulent-medicaid'"
      ]
     },
     "execution_count": 65,
     "metadata": {},
     "output_type": "execute_result"
    },
    {
     "data": {
      "text/plain": [
       "'success: content added from https://azgovernor.gov/office-arizona-governor/news/2023/05/governor-hobbs-legislative-action-update-0'"
      ]
     },
     "execution_count": 65,
     "metadata": {},
     "output_type": "execute_result"
    },
    {
     "data": {
      "text/plain": [
       "'success: content added from https://azgovernor.gov/office-arizona-governor/news/2023/05/governor-hobbs-legislative-action-update'"
      ]
     },
     "execution_count": 65,
     "metadata": {},
     "output_type": "execute_result"
    },
    {
     "data": {
      "text/plain": [
       "'success: content added from https://azgovernor.gov/office-arizona-governor/news/2023/05/governor-hobbs-announces-arizonas-title-42-preparedness'"
      ]
     },
     "execution_count": 65,
     "metadata": {},
     "output_type": "execute_result"
    },
    {
     "data": {
      "text/plain": [
       "'success: content added from https://azgovernor.gov/office-arizona-governor/news/2023/05/governor-hobbs-announces-members-and-first-meeting-missing-and'"
      ]
     },
     "execution_count": 65,
     "metadata": {},
     "output_type": "execute_result"
    },
    {
     "data": {
      "text/plain": [
       "'success: content added from https://azgovernor.gov/office-arizona-governor/news/2023/05/governor-hobbs-expands-child-care-options-arizona-families'"
      ]
     },
     "execution_count": 65,
     "metadata": {},
     "output_type": "execute_result"
    },
    {
     "data": {
      "text/plain": [
       "'success: content added from https://azgovernor.gov/office-arizona-governor/news/2023/05/governor-hobbs-announces-members-governors-water-policy-council'"
      ]
     },
     "execution_count": 65,
     "metadata": {},
     "output_type": "execute_result"
    },
    {
     "data": {
      "text/plain": [
       "'success: content added from https://azgovernor.gov/office-arizona-governor/news/2023/05/governor-katie-hobbs-legislative-action-update'"
      ]
     },
     "execution_count": 65,
     "metadata": {},
     "output_type": "execute_result"
    },
    {
     "data": {
      "text/plain": [
       "'success: content added from https://azgovernor.gov/office-arizona-governor/news/2023/04/governor-hobbs-appoints-pima-county-superior-court-judge-and'"
      ]
     },
     "execution_count": 65,
     "metadata": {},
     "output_type": "execute_result"
    },
    {
     "data": {
      "text/plain": [
       "'success: content added from https://azgovernor.gov/office-arizona-governor/news/2023/04/govenor-katie-hobbs-announces-first-its-kind-cross-border'"
      ]
     },
     "execution_count": 65,
     "metadata": {},
     "output_type": "execute_result"
    },
    {
     "data": {
      "text/plain": [
       "'success: content added from https://azgovernor.gov/office-arizona-governor/news/2023/04/application-posted-anticipated-yavapai-county-superior-court'"
      ]
     },
     "execution_count": 65,
     "metadata": {},
     "output_type": "execute_result"
    },
    {
     "data": {
      "text/plain": [
       "'success: content added from https://azgovernor.gov/office-arizona-governor/news/2023/04/governor-hobbs-signals-strong-commitment-making-arizona'"
      ]
     },
     "execution_count": 65,
     "metadata": {},
     "output_type": "execute_result"
    },
    {
     "data": {
      "text/plain": [
       "'success: content added from https://azgovernor.gov/office-arizona-governor/news/2023/04/governor-announces-key-appointments-industrial-commission'"
      ]
     },
     "execution_count": 65,
     "metadata": {},
     "output_type": "execute_result"
    },
    {
     "data": {
      "text/plain": [
       "'success: content added from https://azgovernor.gov/office-arizona-governor/news/2023/04/governor-katie-hobbs-legislative-action-update-4'"
      ]
     },
     "execution_count": 65,
     "metadata": {},
     "output_type": "execute_result"
    },
    {
     "data": {
      "text/plain": [
       "'success: content added from https://azgovernor.gov/office-arizona-governor/news/2023/04/governor-katie-hobbs-legislative-action-update-3'"
      ]
     },
     "execution_count": 65,
     "metadata": {},
     "output_type": "execute_result"
    },
    {
     "data": {
      "text/plain": [
       "'success: content added from https://azgovernor.gov/office-arizona-governor/news/2023/04/governor-hobbs-issues-declaration-emergency-repair-damages'"
      ]
     },
     "execution_count": 65,
     "metadata": {},
     "output_type": "execute_result"
    },
    {
     "data": {
      "text/plain": [
       "'success: content added from https://azgovernor.gov/office-arizona-governor/news/2023/04/governor-katie-hobbs-legislative-action-update-2'"
      ]
     },
     "execution_count": 65,
     "metadata": {},
     "output_type": "execute_result"
    },
    {
     "data": {
      "text/plain": [
       "'success: content added from https://azgovernor.gov/office-arizona-governor/news/2023/04/governor-katie-hobbs-legislative-action-update-1'"
      ]
     },
     "execution_count": 65,
     "metadata": {},
     "output_type": "execute_result"
    },
    {
     "data": {
      "text/plain": [
       "'success: content added from https://azgovernor.gov/office-arizona-governor/news/2023/04/arizona-responds-us-bureau-reclamations-draft-seis'"
      ]
     },
     "execution_count": 65,
     "metadata": {},
     "output_type": "execute_result"
    },
    {
     "data": {
      "text/plain": [
       "'success: content added from https://azgovernor.gov/office-arizona-governor/news/2023/04/governor-katie-hobbs-legislative-action-update-0'"
      ]
     },
     "execution_count": 65,
     "metadata": {},
     "output_type": "execute_result"
    },
    {
     "data": {
      "text/plain": [
       "'success: content added from https://azgovernor.gov/office-arizona-governor/news/2023/04/governor-katie-hobbs-announces-new-communications-director'"
      ]
     },
     "execution_count": 65,
     "metadata": {},
     "output_type": "execute_result"
    },
    {
     "data": {
      "text/plain": [
       "'success: content added from https://azgovernor.gov/office-arizona-governor/news/2023/04/governor-katie-hobbs-legislative-action-update'"
      ]
     },
     "execution_count": 65,
     "metadata": {},
     "output_type": "execute_result"
    },
    {
     "data": {
      "text/plain": [
       "'success: content added from https://azgovernor.gov/office-arizona-governor/news/2023/03/governor-hobbs-announces-reorganization-leadership-roles'"
      ]
     },
     "execution_count": 65,
     "metadata": {},
     "output_type": "execute_result"
    },
    {
     "data": {
      "text/plain": [
       "'success: content added from https://azgovernor.gov/office-arizona-governor/news/2023/03/governor-hobbs-announces-appointment-seven-maricopa-county'"
      ]
     },
     "execution_count": 65,
     "metadata": {},
     "output_type": "execute_result"
    },
    {
     "data": {
      "text/plain": [
       "'success: content added from https://azgovernor.gov/office-arizona-governor/news/2023/03/governor-hobbs-announces-members-educator-retention-task-force'"
      ]
     },
     "execution_count": 65,
     "metadata": {},
     "output_type": "execute_result"
    },
    {
     "data": {
      "text/plain": [
       "'success: content added from https://azgovernor.gov/office-arizona-governor/news/2023/03/governor-katie-hobbs-legislative-action-update-1'"
      ]
     },
     "execution_count": 65,
     "metadata": {},
     "output_type": "execute_result"
    },
    {
     "data": {
      "text/plain": [
       "'success: content added from https://azgovernor.gov/office-arizona-governor/news/2023/03/statement-office-governor-hobbs'"
      ]
     },
     "execution_count": 65,
     "metadata": {},
     "output_type": "execute_result"
    },
    {
     "data": {
      "text/plain": [
       "'success: content added from https://azgovernor.gov/office-arizona-governor/news/2023/03/governor-katie-hobbs-legislative-action-update-0'"
      ]
     },
     "execution_count": 65,
     "metadata": {},
     "output_type": "execute_result"
    },
    {
     "data": {
      "text/plain": [
       "'success: content added from https://azgovernor.gov/office-arizona-governor/news/2023/03/governor-hobbs-announces-new-director-arizona-lottery'"
      ]
     },
     "execution_count": 65,
     "metadata": {},
     "output_type": "execute_result"
    },
    {
     "data": {
      "text/plain": [
       "'success: content added from https://azgovernor.gov/office-arizona-governor/news/2023/03/governor-hobbs-joins-homeland-security-secretary-mayorkas-third'"
      ]
     },
     "execution_count": 65,
     "metadata": {},
     "output_type": "execute_result"
    },
    {
     "data": {
      "text/plain": [
       "'success: content added from https://azgovernor.gov/office-arizona-governor/news/2023/03/governor-hobbs-nominees-reaffirm-their-qualifications-lead'"
      ]
     },
     "execution_count": 65,
     "metadata": {},
     "output_type": "execute_result"
    },
    {
     "data": {
      "text/plain": [
       "'success: content added from https://azgovernor.gov/office-arizona-governor/news/2023/03/governor-katie-hobbs-office-holds-border-community-listening'"
      ]
     },
     "execution_count": 65,
     "metadata": {},
     "output_type": "execute_result"
    },
    {
     "data": {
      "text/plain": [
       "'success: content added from https://azgovernor.gov/office-arizona-governor/news/2023/03/governor-katie-hobbs-signs-executive-order-prohibiting-race'"
      ]
     },
     "execution_count": 65,
     "metadata": {},
     "output_type": "execute_result"
    },
    {
     "data": {
      "text/plain": [
       "'success: content added from https://azgovernor.gov/office-arizona-governor/news/2023/03/governor-katie-hobbs-arizona-national-guard-establish-historic'"
      ]
     },
     "execution_count": 65,
     "metadata": {},
     "output_type": "execute_result"
    },
    {
     "data": {
      "text/plain": [
       "'success: content added from https://azgovernor.gov/office-arizona-governor/news/2023/03/governor-hobbs-announces-1875m-grant-funding-opportunities'"
      ]
     },
     "execution_count": 65,
     "metadata": {},
     "output_type": "execute_result"
    },
    {
     "data": {
      "text/plain": [
       "'success: content added from https://azgovernor.gov/office-arizona-governor/news/2023/03/governor-katie-hobbs-legislative-action-update'"
      ]
     },
     "execution_count": 65,
     "metadata": {},
     "output_type": "execute_result"
    },
    {
     "data": {
      "text/plain": [
       "'success: content added from https://azgovernor.gov/office-arizona-governor/news/2023/03/governor-katie-hobbs-announces-members-bipartisan-elections-0'"
      ]
     },
     "execution_count": 65,
     "metadata": {},
     "output_type": "execute_result"
    },
    {
     "data": {
      "text/plain": [
       "'success: content added from https://azgovernor.gov/office-arizona-governor/news/2023/03/governor-hobbs-names-david-lujan-director-department-child'"
      ]
     },
     "execution_count": 65,
     "metadata": {},
     "output_type": "execute_result"
    },
    {
     "data": {
      "text/plain": [
       "'success: content added from https://azgovernor.gov/office-arizona-governor/news/2023/03/governor-hobbs-visits-arizona-border-second-time-first-100-days'"
      ]
     },
     "execution_count": 65,
     "metadata": {},
     "output_type": "execute_result"
    },
    {
     "data": {
      "text/plain": [
       "'success: content added from https://azgovernor.gov/office-arizona-governor/news/2023/03/governor-hobbs-discusses-cross-border-infrastructure-and-trade'"
      ]
     },
     "execution_count": 65,
     "metadata": {},
     "output_type": "execute_result"
    },
    {
     "data": {
      "text/plain": [
       "'success: content added from https://azgovernor.gov/office-arizona-governor/news/2023/03/governor-katie-hobbs-appoints-andrew-m-jacobs-court-appeals'"
      ]
     },
     "execution_count": 65,
     "metadata": {},
     "output_type": "execute_result"
    },
    {
     "data": {
      "text/plain": [
       "'success: content added from https://azgovernor.gov/office-arizona-governor/news/2023/03/governor-hobbs-congratulates-jennifer-toth-her-confirmation'"
      ]
     },
     "execution_count": 65,
     "metadata": {},
     "output_type": "execute_result"
    },
    {
     "data": {
      "text/plain": [
       "'success: content added from https://azgovernor.gov/office-arizona-governor/news/2023/03/governor-hobbs-announces-cabinet-members-focused-arizonas'"
      ]
     },
     "execution_count": 65,
     "metadata": {},
     "output_type": "execute_result"
    },
    {
     "data": {
      "text/plain": [
       "'success: content added from https://azgovernor.gov/office-arizona-governor/news/2023/02/governor-hobbs-announces-new-operations-and-policy-staff'"
      ]
     },
     "execution_count": 65,
     "metadata": {},
     "output_type": "execute_result"
    },
    {
     "data": {
      "text/plain": [
       "'success: content added from https://azgovernor.gov/office-arizona-governor/news/2023/02/governor-hobbs-appoints-judge-david-duncan-death-penalty'"
      ]
     },
     "execution_count": 65,
     "metadata": {},
     "output_type": "execute_result"
    },
    {
     "data": {
      "text/plain": [
       "'success: content added from https://azgovernor.gov/office-arizona-governor/news/2023/02/governor-katie-hobbs-appoints-andrew-m-jacobs-court-appeals'"
      ]
     },
     "execution_count": 65,
     "metadata": {},
     "output_type": "execute_result"
    },
    {
     "data": {
      "text/plain": [
       "'success: content added from https://azgovernor.gov/office-arizona-governor/news/2023/02/governor-hobbs-vetoes-tax-cut-bill-landlords'"
      ]
     },
     "execution_count": 65,
     "metadata": {},
     "output_type": "execute_result"
    },
    {
     "data": {
      "text/plain": [
       "'success: content added from https://azgovernor.gov/office-arizona-governor/news/2023/02/governor-hobbs-vetoes-partisan-budget-proposal'"
      ]
     },
     "execution_count": 65,
     "metadata": {},
     "output_type": "execute_result"
    },
    {
     "data": {
      "text/plain": [
       "'success: content added from https://azgovernor.gov/office-arizona-governor/news/2023/02/governor-hobbs-issues-statement-withdrawing-nomination-dr'"
      ]
     },
     "execution_count": 65,
     "metadata": {},
     "output_type": "execute_result"
    },
    {
     "data": {
      "text/plain": [
       "'success: content added from https://azgovernor.gov/office-arizona-governor/news/2023/02/governor-hobbs-commends-legislatures-move-override-school'"
      ]
     },
     "execution_count": 65,
     "metadata": {},
     "output_type": "execute_result"
    },
    {
     "data": {
      "text/plain": [
       "'success: content added from https://azgovernor.gov/office-arizona-governor/news/2023/02/governor-katie-hobbs-establishes-educator-retention-task-force'"
      ]
     },
     "execution_count": 65,
     "metadata": {},
     "output_type": "execute_result"
    },
    {
     "data": {
      "text/plain": [
       "'success: content added from https://azgovernor.gov/office-arizona-governor/news/2023/01/governor-katie-hobbs-unveils-executive-action-establishing'"
      ]
     },
     "execution_count": 65,
     "metadata": {},
     "output_type": "execute_result"
    },
    {
     "data": {
      "text/plain": [
       "'success: content added from https://azgovernor.gov/office-arizona-governor/news/2023/01/governor-katie-hobbs-unveils-executive-action-improving'"
      ]
     },
     "execution_count": 65,
     "metadata": {},
     "output_type": "execute_result"
    },
    {
     "data": {
      "text/plain": [
       "'success: content added from https://azgovernor.gov/office-arizona-governor/news/2023/01/governor-katie-hobbs-announces-policy-team-focused-tackling'"
      ]
     },
     "execution_count": 65,
     "metadata": {},
     "output_type": "execute_result"
    },
    {
     "data": {
      "text/plain": [
       "'success: content added from https://azgovernor.gov/office-arizona-governor/news/2023/01/governor-hobbs-announces-cabinet-members-focused-improving'"
      ]
     },
     "execution_count": 65,
     "metadata": {},
     "output_type": "execute_result"
    },
    {
     "data": {
      "text/plain": [
       "'success: content added from https://azgovernor.gov/office-arizona-governor/news/2023/01/governor-hobbs-plans-major-investments-build-resilient'"
      ]
     },
     "execution_count": 65,
     "metadata": {},
     "output_type": "execute_result"
    },
    {
     "data": {
      "text/plain": [
       "'success: content added from https://azgovernor.gov/office-arizona-governor/news/2023/01/governor-hobbs-statement-federal-court-order-against-arizona'"
      ]
     },
     "execution_count": 65,
     "metadata": {},
     "output_type": "execute_result"
    },
    {
     "data": {
      "text/plain": [
       "'success: content added from https://azgovernor.gov/office-arizona-governor/news/2023/01/governor-katie-hobbs-first-state-state-address-draws-applause'"
      ]
     },
     "execution_count": 65,
     "metadata": {},
     "output_type": "execute_result"
    },
    {
     "data": {
      "text/plain": [
       "'success: content added from https://azgovernor.gov/office-arizona-governor/news/2023/01/transcript-governor-hobbs-2023-state-state-address'"
      ]
     },
     "execution_count": 65,
     "metadata": {},
     "output_type": "execute_result"
    },
    {
     "data": {
      "text/plain": [
       "'success: content added from https://azgovernor.gov/office-arizona-governor/news/2023/01/inaugural-state-state-address-governor-hobbs-commits-building'"
      ]
     },
     "execution_count": 65,
     "metadata": {},
     "output_type": "execute_result"
    },
    {
     "data": {
      "text/plain": [
       "'success: content added from https://azgovernor.gov/office-arizona-governor/news/2023/01/governor-hobbs-announces-actions-modernize-arizonas-groundwater'"
      ]
     },
     "execution_count": 65,
     "metadata": {},
     "output_type": "execute_result"
    },
    {
     "data": {
      "text/plain": [
       "'success: content added from https://azgovernor.gov/office-arizona-governor/news/2023/01/governor-katie-hobbs-announces-cabinet-members-focused'"
      ]
     },
     "execution_count": 65,
     "metadata": {},
     "output_type": "execute_result"
    },
    {
     "data": {
      "text/plain": [
       "'success: content added from https://azgovernor.gov/office-arizona-governor/news/2023/01/governor-katie-hobbs-announces-additional-staff-hires'"
      ]
     },
     "execution_count": 65,
     "metadata": {},
     "output_type": "execute_result"
    },
    {
     "data": {
      "text/plain": [
       "'success: content added from https://azgovernor.gov/office-arizona-governor/news/2023/01/governor-katie-hobbs-launches-first-100-days-initiative'"
      ]
     },
     "execution_count": 65,
     "metadata": {},
     "output_type": "execute_result"
    },
    {
     "data": {
      "text/plain": [
       "'success: content added from https://azgovernor.gov/office-arizona-governor/news/2023/01/katie-hobbs-sworn-arizonas-24th-governor'"
      ]
     },
     "execution_count": 65,
     "metadata": {},
     "output_type": "execute_result"
    },
    {
     "data": {
      "text/plain": [
       "'success: content added from https://azgovernor.gov/office-arizona-governor/news/2022/12/governor-elect-katie-hobbs-announces-public-safety-cabinet'"
      ]
     },
     "execution_count": 65,
     "metadata": {},
     "output_type": "execute_result"
    },
    {
     "data": {
      "text/plain": [
       "'success: content added from https://azgovernor.gov/office-arizona-governor/news/2022/12/governor-elect-katie-hobbs-announces-environmental-and-natural'"
      ]
     },
     "execution_count": 65,
     "metadata": {},
     "output_type": "execute_result"
    },
    {
     "data": {
      "text/plain": [
       "'success: content added from https://azgovernor.gov/office-arizona-governor/news/2022/12/governor-elect-katie-hobbs-announces-health-and-human-services'"
      ]
     },
     "execution_count": 65,
     "metadata": {},
     "output_type": "execute_result"
    },
    {
     "data": {
      "text/plain": [
       "'success: content added from https://azgovernor.gov/office-arizona-governor/news/2022/12/governor-elect-katie-hobbs-announces-additional-key-roles'"
      ]
     },
     "execution_count": 65,
     "metadata": {},
     "output_type": "execute_result"
    }
   ],
   "source": [
    "# run for all\n",
    "for i in df.link:\n",
    "     get_arizona_content(i, df, header_list)"
   ]
  },
  {
   "cell_type": "markdown",
   "id": "fad6a973",
   "metadata": {
    "heading_collapsed": true
   },
   "source": [
    "## Validate and Clean"
   ]
  },
  {
   "cell_type": "code",
   "execution_count": 67,
   "id": "514eb644",
   "metadata": {
    "hidden": true
   },
   "outputs": [
    {
     "data": {
      "text/html": [
       "<div>\n",
       "<style scoped>\n",
       "    .dataframe tbody tr th:only-of-type {\n",
       "        vertical-align: middle;\n",
       "    }\n",
       "\n",
       "    .dataframe tbody tr th {\n",
       "        vertical-align: top;\n",
       "    }\n",
       "\n",
       "    .dataframe thead th {\n",
       "        text-align: right;\n",
       "    }\n",
       "</style>\n",
       "<table border=\"1\" class=\"dataframe\">\n",
       "  <thead>\n",
       "    <tr style=\"text-align: right;\">\n",
       "      <th></th>\n",
       "      <th>title</th>\n",
       "      <th>date</th>\n",
       "      <th>link</th>\n",
       "      <th>content</th>\n",
       "    </tr>\n",
       "  </thead>\n",
       "  <tbody>\n",
       "  </tbody>\n",
       "</table>\n",
       "</div>"
      ],
      "text/plain": [
       "Empty DataFrame\n",
       "Columns: [title, date, link, content]\n",
       "Index: []"
      ]
     },
     "execution_count": 67,
     "metadata": {},
     "output_type": "execute_result"
    }
   ],
   "source": [
    "#check that content was pulled accurately\n",
    "missing = df[df.content.isna()]\n",
    "missing "
   ]
  },
  {
   "cell_type": "code",
   "execution_count": 69,
   "id": "935650d8",
   "metadata": {
    "hidden": true
   },
   "outputs": [],
   "source": [
    "# clean data column\n",
    "df['date_clean'] = pd.to_datetime(df['date'])\n",
    "df_clean = df.drop(columns='date')"
   ]
  },
  {
   "cell_type": "code",
   "execution_count": 71,
   "id": "4671778b",
   "metadata": {
    "hidden": true
   },
   "outputs": [],
   "source": [
    "# subset to only 2023 dates\n",
    "arizona_2023 = df_clean[(df_clean['date_clean'] >= '2023-01-01')\n",
    "                     & (df_clean['date_clean'] <= '2023-12-31')].copy()"
   ]
  },
  {
   "cell_type": "code",
   "execution_count": 72,
   "id": "887d1ef6",
   "metadata": {
    "hidden": true
   },
   "outputs": [
    {
     "name": "stdout",
     "output_type": "stream",
     "text": [
      "pulled 150 documents from arizona for 2023\n"
     ]
    }
   ],
   "source": [
    "print(f\"pulled {str(len(arizona_2023))} documents from arizona for 2023\")"
   ]
  },
  {
   "cell_type": "markdown",
   "id": "75b0215c",
   "metadata": {},
   "source": [
    "## Export"
   ]
  },
  {
   "cell_type": "code",
   "execution_count": 73,
   "id": "4b5494e3",
   "metadata": {},
   "outputs": [],
   "source": [
    "# export\n",
    "arizona_2023.to_csv('arizona_2023.csv', index = False)"
   ]
  },
  {
   "cell_type": "code",
   "execution_count": 75,
   "id": "6a2d474c",
   "metadata": {},
   "outputs": [
    {
     "data": {
      "text/html": [
       "<div>\n",
       "<style scoped>\n",
       "    .dataframe tbody tr th:only-of-type {\n",
       "        vertical-align: middle;\n",
       "    }\n",
       "\n",
       "    .dataframe tbody tr th {\n",
       "        vertical-align: top;\n",
       "    }\n",
       "\n",
       "    .dataframe thead th {\n",
       "        text-align: right;\n",
       "    }\n",
       "</style>\n",
       "<table border=\"1\" class=\"dataframe\">\n",
       "  <thead>\n",
       "    <tr style=\"text-align: right;\">\n",
       "      <th></th>\n",
       "      <th>title</th>\n",
       "      <th>link</th>\n",
       "      <th>content</th>\n",
       "      <th>date_clean</th>\n",
       "    </tr>\n",
       "  </thead>\n",
       "  <tbody>\n",
       "    <tr>\n",
       "      <th>14</th>\n",
       "      <td>Governor’s Office Demands ESA Transparency and...</td>\n",
       "      <td>https://azgovernor.gov/office-arizona-governor...</td>\n",
       "      <td>ESA program has surpassed expected budget esti...</td>\n",
       "      <td>2023-12-21</td>\n",
       "    </tr>\n",
       "    <tr>\n",
       "      <th>15</th>\n",
       "      <td>Governor Katie Hobbs Signs Executive Order Sen...</td>\n",
       "      <td>https://azgovernor.gov/office-arizona-governor...</td>\n",
       "      <td>Guard to Assist DPS and Local Law Enforcement ...</td>\n",
       "      <td>2023-12-15</td>\n",
       "    </tr>\n",
       "    <tr>\n",
       "      <th>16</th>\n",
       "      <td>Governor Katie Hobbs Announces Federal Grant t...</td>\n",
       "      <td>https://azgovernor.gov/office-arizona-governor...</td>\n",
       "      <td>Phoenix, AZ – Today, Governor Katie Hobbs anno...</td>\n",
       "      <td>2023-12-08</td>\n",
       "    </tr>\n",
       "    <tr>\n",
       "      <th>17</th>\n",
       "      <td>Governor Katie Hobbs Launches Operation SECURE...</td>\n",
       "      <td>https://azgovernor.gov/office-arizona-governor...</td>\n",
       "      <td>State Charges Federal Government for Costs of ...</td>\n",
       "      <td>2023-12-08</td>\n",
       "    </tr>\n",
       "    <tr>\n",
       "      <th>18</th>\n",
       "      <td>Sinema, Kelly, Hobbs Statement on Lukeville PO...</td>\n",
       "      <td>https://azgovernor.gov/office-arizona-governor...</td>\n",
       "      <td>ARIZONA – Arizona Senators Kyrsten Sinema and ...</td>\n",
       "      <td>2023-12-01</td>\n",
       "    </tr>\n",
       "  </tbody>\n",
       "</table>\n",
       "</div>"
      ],
      "text/plain": [
       "                                                title  \\\n",
       "14  Governor’s Office Demands ESA Transparency and...   \n",
       "15  Governor Katie Hobbs Signs Executive Order Sen...   \n",
       "16  Governor Katie Hobbs Announces Federal Grant t...   \n",
       "17  Governor Katie Hobbs Launches Operation SECURE...   \n",
       "18  Sinema, Kelly, Hobbs Statement on Lukeville PO...   \n",
       "\n",
       "                                                 link  \\\n",
       "14  https://azgovernor.gov/office-arizona-governor...   \n",
       "15  https://azgovernor.gov/office-arizona-governor...   \n",
       "16  https://azgovernor.gov/office-arizona-governor...   \n",
       "17  https://azgovernor.gov/office-arizona-governor...   \n",
       "18  https://azgovernor.gov/office-arizona-governor...   \n",
       "\n",
       "                                              content date_clean  \n",
       "14  ESA program has surpassed expected budget esti... 2023-12-21  \n",
       "15  Guard to Assist DPS and Local Law Enforcement ... 2023-12-15  \n",
       "16  Phoenix, AZ – Today, Governor Katie Hobbs anno... 2023-12-08  \n",
       "17  State Charges Federal Government for Costs of ... 2023-12-08  \n",
       "18  ARIZONA – Arizona Senators Kyrsten Sinema and ... 2023-12-01  "
      ]
     },
     "execution_count": 75,
     "metadata": {},
     "output_type": "execute_result"
    }
   ],
   "source": [
    "arizona_2023.head()"
   ]
  }
 ],
 "metadata": {
  "kernelspec": {
   "display_name": "Python 3 (ipykernel)",
   "language": "python",
   "name": "python3"
  },
  "language_info": {
   "codemirror_mode": {
    "name": "ipython",
    "version": 3
   },
   "file_extension": ".py",
   "mimetype": "text/x-python",
   "name": "python",
   "nbconvert_exporter": "python",
   "pygments_lexer": "ipython3",
   "version": "3.9.12"
  }
 },
 "nbformat": 4,
 "nbformat_minor": 5
}
