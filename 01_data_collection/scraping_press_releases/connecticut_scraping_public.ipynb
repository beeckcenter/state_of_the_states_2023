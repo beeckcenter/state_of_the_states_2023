{
 "cells": [
  {
   "cell_type": "markdown",
   "id": "f00d02a5",
   "metadata": {},
   "source": [
    "# Connecticut Scraping "
   ]
  },
  {
   "cell_type": "code",
   "execution_count": 1,
   "id": "2d2ca3c3",
   "metadata": {},
   "outputs": [
    {
     "name": "stdout",
     "output_type": "stream",
     "text": [
      "Exception reporting mode: Minimal\n"
     ]
    }
   ],
   "source": [
    "# set up \n",
    "import pandas as pd \n",
    "import requests \n",
    "import bs4\n",
    "import numpy as np\n",
    "import time \n",
    "import re\n",
    "from tika import parser\n",
    "from selenium import webdriver\n",
    "from selenium.webdriver.common.by import By\n",
    "from selenium.webdriver.support.ui import WebDriverWait\n",
    "from selenium.webdriver.support import expected_conditions as EC\n",
    "from io import BytesIO\n",
    "from urllib.request import urlopen\n",
    "\n",
    "from IPython.core.interactiveshell import InteractiveShell \n",
    "InteractiveShell.ast_node_interactivity = \"all\"\n",
    "\n",
    "%xmode Minimal"
   ]
  },
  {
   "cell_type": "code",
   "execution_count": 1,
   "id": "4b8c25f3",
   "metadata": {},
   "outputs": [],
   "source": [
    "# # set headers\n",
    "# header_list = {'User-Agent': REDACTED,\n",
    "#               'Accept-Language': 'en-US,en;q=0.9'}"
   ]
  },
  {
   "cell_type": "code",
   "execution_count": 32,
   "id": "0b85368d",
   "metadata": {},
   "outputs": [],
   "source": [
    "# state - UPDATE EACH TIME\n",
    "state = 'connecticut'"
   ]
  },
  {
   "cell_type": "code",
   "execution_count": 33,
   "id": "150c1170",
   "metadata": {},
   "outputs": [],
   "source": [
    "# review of robots.txt - no restrictions"
   ]
  },
  {
   "cell_type": "code",
   "execution_count": 34,
   "id": "92379a17",
   "metadata": {},
   "outputs": [],
   "source": [
    "# test = pd.read_csv('colorado_2023.csv')\n",
    "# test.head()"
   ]
  },
  {
   "cell_type": "markdown",
   "id": "a41b45ff",
   "metadata": {},
   "source": [
    "## Scrape Links \n",
    "`Beautiful Soup`"
   ]
  },
  {
   "cell_type": "markdown",
   "id": "aca1c5ea",
   "metadata": {
    "heading_collapsed": true
   },
   "source": [
    "### Test on one link"
   ]
  },
  {
   "cell_type": "code",
   "execution_count": 35,
   "id": "54353e0d",
   "metadata": {
    "hidden": true
   },
   "outputs": [
    {
     "data": {
      "text/plain": [
       "<Response [200]>"
      ]
     },
     "execution_count": 35,
     "metadata": {},
     "output_type": "execute_result"
    }
   ],
   "source": [
    "# access webpage\n",
    "link = 'https://portal.ct.gov/Office-of-the-Governor/News?SearchKeyword=&Month=by+Month&Year=2023&page=2'\n",
    "server_response = requests.get(link, header_list)\n",
    "server_response"
   ]
  },
  {
   "cell_type": "code",
   "execution_count": 36,
   "id": "e7afa6bb",
   "metadata": {
    "hidden": true
   },
   "outputs": [
    {
     "data": {
      "text/plain": [
       "['11/22/2023',\n",
       " '11/21/2023',\n",
       " '11/21/2023',\n",
       " '11/16/2023',\n",
       " '11/15/2023',\n",
       " '11/14/2023',\n",
       " '11/13/2023',\n",
       " '11/13/2023',\n",
       " '11/10/2023',\n",
       " '11/9/2023',\n",
       " '11/9/2023',\n",
       " '11/8/2023',\n",
       " '11/6/2023',\n",
       " '11/6/2023',\n",
       " '11/2/2023']"
      ]
     },
     "execution_count": 36,
     "metadata": {},
     "output_type": "execute_result"
    }
   ],
   "source": [
    "# Parse and isolate content\n",
    "soup = bs4.BeautifulSoup(server_response.content, features=\"html.parser\")\n",
    "# soup\n",
    "results = soup.find('ul', class_ = 'list--desc').find_all('li')\n",
    "# results\n",
    "\n",
    "# title = [i.find('a').text for i in results]\n",
    "# title_clean = [i.replace(u'\\n', u'') for i in title]\n",
    "# title_clean = [i.replace(u'\\r', u'') for i in title_clean]\n",
    "# title_clean = [i.strip() for i in title_clean]\n",
    "# title_clean\n",
    "# title_clean\n",
    "date = [i.find('span', class_ = 'date').text for i in results]\n",
    "# date"
   ]
  },
  {
   "cell_type": "markdown",
   "id": "2775967f",
   "metadata": {
    "heading_collapsed": true
   },
   "source": [
    "### Scrape all links"
   ]
  },
  {
   "cell_type": "code",
   "execution_count": 37,
   "id": "27dccd40",
   "metadata": {
    "hidden": true
   },
   "outputs": [],
   "source": [
    "# define webpage scraping \n",
    "def scrape_connecticut_links(website, headers):\n",
    "    server_response = requests.get(website, headers)\n",
    "    soup = bs4.BeautifulSoup(server_response.content, features=\"html.parser\")\n",
    "    results = soup.find('ul', class_ = 'list--desc').find_all('li')\n",
    "    results_list = [{'title': i.find('a').text,\n",
    "                 'date': i.find('span', class_ = 'date').text, \n",
    "                'link': i.find('a')['href']} for i in results]\n",
    "    df = pd.DataFrame.from_dict(results_list)\n",
    "    df.title = [i.replace(u'\\n', u'') for i in df.title]\n",
    "    df.title = [i.replace(u'\\r', u'') for i in df.title]\n",
    "    df.title = [i.strip() for i in df.title]\n",
    "    df['content'] = np.nan\n",
    "    return df"
   ]
  },
  {
   "cell_type": "code",
   "execution_count": 38,
   "id": "cecea20e",
   "metadata": {
    "hidden": true
   },
   "outputs": [
    {
     "data": {
      "text/html": [
       "<div>\n",
       "<style scoped>\n",
       "    .dataframe tbody tr th:only-of-type {\n",
       "        vertical-align: middle;\n",
       "    }\n",
       "\n",
       "    .dataframe tbody tr th {\n",
       "        vertical-align: top;\n",
       "    }\n",
       "\n",
       "    .dataframe thead th {\n",
       "        text-align: right;\n",
       "    }\n",
       "</style>\n",
       "<table border=\"1\" class=\"dataframe\">\n",
       "  <thead>\n",
       "    <tr style=\"text-align: right;\">\n",
       "      <th></th>\n",
       "      <th>title</th>\n",
       "      <th>date</th>\n",
       "      <th>link</th>\n",
       "      <th>content</th>\n",
       "    </tr>\n",
       "  </thead>\n",
       "  <tbody>\n",
       "    <tr>\n",
       "      <th>0</th>\n",
       "      <td>Governor Lamont’s 2023 Thanksgiving Message</td>\n",
       "      <td>11/22/2023</td>\n",
       "      <td>/Office-of-the-Governor/News/Press-Releases/20...</td>\n",
       "      <td>NaN</td>\n",
       "    </tr>\n",
       "    <tr>\n",
       "      <th>1</th>\n",
       "      <td>Governor Lamont: Flags Lowered To Half-Staff i...</td>\n",
       "      <td>11/21/2023</td>\n",
       "      <td>/Office-of-the-Governor/News/Press-Releases/20...</td>\n",
       "      <td>NaN</td>\n",
       "    </tr>\n",
       "    <tr>\n",
       "      <th>2</th>\n",
       "      <td>Governor Lamont Announces New Eligibility Leve...</td>\n",
       "      <td>11/21/2023</td>\n",
       "      <td>/Office-of-the-Governor/News/Press-Releases/20...</td>\n",
       "      <td>NaN</td>\n",
       "    </tr>\n",
       "    <tr>\n",
       "      <th>3</th>\n",
       "      <td>Governor Lamont Urges Connecticut's Semiconduc...</td>\n",
       "      <td>11/16/2023</td>\n",
       "      <td>/Office-of-the-Governor/News/Press-Releases/20...</td>\n",
       "      <td>NaN</td>\n",
       "    </tr>\n",
       "    <tr>\n",
       "      <th>4</th>\n",
       "      <td>Governor Lamont Announces Connecticut Business...</td>\n",
       "      <td>11/15/2023</td>\n",
       "      <td>/Office-of-the-Governor/News/Press-Releases/20...</td>\n",
       "      <td>NaN</td>\n",
       "    </tr>\n",
       "    <tr>\n",
       "      <th>5</th>\n",
       "      <td>Governor Lamont Announces Plans To Nominate Da...</td>\n",
       "      <td>11/14/2023</td>\n",
       "      <td>/Office-of-the-Governor/News/Press-Releases/20...</td>\n",
       "      <td>NaN</td>\n",
       "    </tr>\n",
       "    <tr>\n",
       "      <th>6</th>\n",
       "      <td>Governor Lamont and Secretary Beckham Statemen...</td>\n",
       "      <td>11/13/2023</td>\n",
       "      <td>/Office-of-the-Governor/News/Press-Releases/20...</td>\n",
       "      <td>NaN</td>\n",
       "    </tr>\n",
       "    <tr>\n",
       "      <th>7</th>\n",
       "      <td>Governor Lamont Announces Launch of Microtrans...</td>\n",
       "      <td>11/13/2023</td>\n",
       "      <td>/Office-of-the-Governor/News/Press-Releases/20...</td>\n",
       "      <td>NaN</td>\n",
       "    </tr>\n",
       "    <tr>\n",
       "      <th>8</th>\n",
       "      <td>Governor Lamont Announces Q Bridge Will Be Ill...</td>\n",
       "      <td>11/10/2023</td>\n",
       "      <td>/Office-of-the-Governor/News/Press-Releases/20...</td>\n",
       "      <td>NaN</td>\n",
       "    </tr>\n",
       "    <tr>\n",
       "      <th>9</th>\n",
       "      <td>Governor Lamont Debuts 'Maker's Manifesto: Did...</td>\n",
       "      <td>11/9/2023</td>\n",
       "      <td>/Office-of-the-Governor/News/Press-Releases/20...</td>\n",
       "      <td>NaN</td>\n",
       "    </tr>\n",
       "    <tr>\n",
       "      <th>10</th>\n",
       "      <td>Governor Lamont Announces $11.7 Million in Sta...</td>\n",
       "      <td>11/9/2023</td>\n",
       "      <td>/Office-of-the-Governor/News/Press-Releases/20...</td>\n",
       "      <td>NaN</td>\n",
       "    </tr>\n",
       "    <tr>\n",
       "      <th>11</th>\n",
       "      <td>Governor Lamont Announces Trust Fund Investmen...</td>\n",
       "      <td>11/8/2023</td>\n",
       "      <td>/Office-of-the-Governor/News/Press-Releases/20...</td>\n",
       "      <td>NaN</td>\n",
       "    </tr>\n",
       "    <tr>\n",
       "      <th>12</th>\n",
       "      <td>Governor Lamont, Connecticut Congressional Del...</td>\n",
       "      <td>11/6/2023</td>\n",
       "      <td>/Office-of-the-Governor/News/Press-Releases/20...</td>\n",
       "      <td>NaN</td>\n",
       "    </tr>\n",
       "    <tr>\n",
       "      <th>13</th>\n",
       "      <td>Governor Lamont and CTDOT Highlight Successful...</td>\n",
       "      <td>11/6/2023</td>\n",
       "      <td>/Office-of-the-Governor/News/Press-Releases/20...</td>\n",
       "      <td>NaN</td>\n",
       "    </tr>\n",
       "    <tr>\n",
       "      <th>14</th>\n",
       "      <td>Governor Lamont Announces Federal Approval of ...</td>\n",
       "      <td>11/2/2023</td>\n",
       "      <td>/Office-of-the-Governor/News/Press-Releases/20...</td>\n",
       "      <td>NaN</td>\n",
       "    </tr>\n",
       "  </tbody>\n",
       "</table>\n",
       "</div>"
      ],
      "text/plain": [
       "                                                title        date  \\\n",
       "0         Governor Lamont’s 2023 Thanksgiving Message  11/22/2023   \n",
       "1   Governor Lamont: Flags Lowered To Half-Staff i...  11/21/2023   \n",
       "2   Governor Lamont Announces New Eligibility Leve...  11/21/2023   \n",
       "3   Governor Lamont Urges Connecticut's Semiconduc...  11/16/2023   \n",
       "4   Governor Lamont Announces Connecticut Business...  11/15/2023   \n",
       "5   Governor Lamont Announces Plans To Nominate Da...  11/14/2023   \n",
       "6   Governor Lamont and Secretary Beckham Statemen...  11/13/2023   \n",
       "7   Governor Lamont Announces Launch of Microtrans...  11/13/2023   \n",
       "8   Governor Lamont Announces Q Bridge Will Be Ill...  11/10/2023   \n",
       "9   Governor Lamont Debuts 'Maker's Manifesto: Did...   11/9/2023   \n",
       "10  Governor Lamont Announces $11.7 Million in Sta...   11/9/2023   \n",
       "11  Governor Lamont Announces Trust Fund Investmen...   11/8/2023   \n",
       "12  Governor Lamont, Connecticut Congressional Del...   11/6/2023   \n",
       "13  Governor Lamont and CTDOT Highlight Successful...   11/6/2023   \n",
       "14  Governor Lamont Announces Federal Approval of ...   11/2/2023   \n",
       "\n",
       "                                                 link  content  \n",
       "0   /Office-of-the-Governor/News/Press-Releases/20...      NaN  \n",
       "1   /Office-of-the-Governor/News/Press-Releases/20...      NaN  \n",
       "2   /Office-of-the-Governor/News/Press-Releases/20...      NaN  \n",
       "3   /Office-of-the-Governor/News/Press-Releases/20...      NaN  \n",
       "4   /Office-of-the-Governor/News/Press-Releases/20...      NaN  \n",
       "5   /Office-of-the-Governor/News/Press-Releases/20...      NaN  \n",
       "6   /Office-of-the-Governor/News/Press-Releases/20...      NaN  \n",
       "7   /Office-of-the-Governor/News/Press-Releases/20...      NaN  \n",
       "8   /Office-of-the-Governor/News/Press-Releases/20...      NaN  \n",
       "9   /Office-of-the-Governor/News/Press-Releases/20...      NaN  \n",
       "10  /Office-of-the-Governor/News/Press-Releases/20...      NaN  \n",
       "11  /Office-of-the-Governor/News/Press-Releases/20...      NaN  \n",
       "12  /Office-of-the-Governor/News/Press-Releases/20...      NaN  \n",
       "13  /Office-of-the-Governor/News/Press-Releases/20...      NaN  \n",
       "14  /Office-of-the-Governor/News/Press-Releases/20...      NaN  "
      ]
     },
     "execution_count": 38,
     "metadata": {},
     "output_type": "execute_result"
    }
   ],
   "source": [
    "scrape_connecticut_links('https://portal.ct.gov/Office-of-the-Governor/News?SearchKeyword=&Month=by+Month&Year=2023&page=2', header_list)"
   ]
  },
  {
   "cell_type": "code",
   "execution_count": 39,
   "id": "a7749d45",
   "metadata": {
    "hidden": true
   },
   "outputs": [],
   "source": [
    "# try to scrape the first set of pages\n",
    "# manual review for 2023 - I want pages 1-19, give or take a few links on first and last pages\n",
    "df_list=[]\n",
    "\n",
    "for i in range(1,20):\n",
    "    try: \n",
    "        df = scrape_connecticut_links(f'https://portal.ct.gov/Office-of-the-Governor/News?SearchKeyword=&Month=by+Month&Year=2023&page={i}', \n",
    "                                  header_list)\n",
    "        df['page_scraped'] = i \n",
    "        df_list.append(df)\n",
    "    except Exception as e:\n",
    "        print(f'Error: {e} at page {i}')"
   ]
  },
  {
   "cell_type": "code",
   "execution_count": 40,
   "id": "2d48afe6",
   "metadata": {
    "hidden": true
   },
   "outputs": [
    {
     "name": "stdout",
     "output_type": "stream",
     "text": [
      "<class 'pandas.core.frame.DataFrame'>\n",
      "RangeIndex: 283 entries, 0 to 282\n",
      "Data columns (total 5 columns):\n",
      " #   Column        Non-Null Count  Dtype  \n",
      "---  ------        --------------  -----  \n",
      " 0   title         283 non-null    object \n",
      " 1   date          283 non-null    object \n",
      " 2   link          283 non-null    object \n",
      " 3   content       0 non-null      float64\n",
      " 4   page_scraped  283 non-null    int64  \n",
      "dtypes: float64(1), int64(1), object(3)\n",
      "memory usage: 11.2+ KB\n"
     ]
    }
   ],
   "source": [
    "# combine into one df\n",
    "combined = pd.concat(df_list, ignore_index=True)\n",
    "combined.info()"
   ]
  },
  {
   "cell_type": "code",
   "execution_count": 41,
   "id": "ba642591",
   "metadata": {
    "hidden": true
   },
   "outputs": [
    {
     "data": {
      "text/html": [
       "<div>\n",
       "<style scoped>\n",
       "    .dataframe tbody tr th:only-of-type {\n",
       "        vertical-align: middle;\n",
       "    }\n",
       "\n",
       "    .dataframe tbody tr th {\n",
       "        vertical-align: top;\n",
       "    }\n",
       "\n",
       "    .dataframe thead th {\n",
       "        text-align: right;\n",
       "    }\n",
       "</style>\n",
       "<table border=\"1\" class=\"dataframe\">\n",
       "  <thead>\n",
       "    <tr style=\"text-align: right;\">\n",
       "      <th></th>\n",
       "      <th>title</th>\n",
       "      <th>date</th>\n",
       "      <th>link</th>\n",
       "      <th>content</th>\n",
       "      <th>page_scraped</th>\n",
       "    </tr>\n",
       "  </thead>\n",
       "  <tbody>\n",
       "    <tr>\n",
       "      <th>0</th>\n",
       "      <td>Governor Lamont Releases Draft State Digital E...</td>\n",
       "      <td>12/22/2023</td>\n",
       "      <td>/Office-of-the-Governor/News/Press-Releases/20...</td>\n",
       "      <td>NaN</td>\n",
       "      <td>1</td>\n",
       "    </tr>\n",
       "    <tr>\n",
       "      <th>1</th>\n",
       "      <td>Governor Lamont Announces Connecticut Income T...</td>\n",
       "      <td>12/20/2023</td>\n",
       "      <td>/Office-of-the-Governor/News/Press-Releases/20...</td>\n",
       "      <td>NaN</td>\n",
       "      <td>1</td>\n",
       "    </tr>\n",
       "    <tr>\n",
       "      <th>2</th>\n",
       "      <td>Governor Lamont Directs $10.7 Million in Ameri...</td>\n",
       "      <td>12/19/2023</td>\n",
       "      <td>/Office-of-the-Governor/News/Press-Releases/20...</td>\n",
       "      <td>NaN</td>\n",
       "      <td>1</td>\n",
       "    </tr>\n",
       "    <tr>\n",
       "      <th>3</th>\n",
       "      <td>Governor Lamont Encourages High School Seniors...</td>\n",
       "      <td>12/19/2023</td>\n",
       "      <td>/Office-of-the-Governor/News/Press-Releases/20...</td>\n",
       "      <td>NaN</td>\n",
       "      <td>1</td>\n",
       "    </tr>\n",
       "    <tr>\n",
       "      <th>4</th>\n",
       "      <td>Governor Lamont Announces $7.2 Million in Stat...</td>\n",
       "      <td>12/18/2023</td>\n",
       "      <td>/Office-of-the-Governor/News/Press-Releases/20...</td>\n",
       "      <td>NaN</td>\n",
       "      <td>1</td>\n",
       "    </tr>\n",
       "  </tbody>\n",
       "</table>\n",
       "</div>"
      ],
      "text/plain": [
       "                                               title        date  \\\n",
       "0  Governor Lamont Releases Draft State Digital E...  12/22/2023   \n",
       "1  Governor Lamont Announces Connecticut Income T...  12/20/2023   \n",
       "2  Governor Lamont Directs $10.7 Million in Ameri...  12/19/2023   \n",
       "3  Governor Lamont Encourages High School Seniors...  12/19/2023   \n",
       "4  Governor Lamont Announces $7.2 Million in Stat...  12/18/2023   \n",
       "\n",
       "                                                link  content  page_scraped  \n",
       "0  /Office-of-the-Governor/News/Press-Releases/20...      NaN             1  \n",
       "1  /Office-of-the-Governor/News/Press-Releases/20...      NaN             1  \n",
       "2  /Office-of-the-Governor/News/Press-Releases/20...      NaN             1  \n",
       "3  /Office-of-the-Governor/News/Press-Releases/20...      NaN             1  \n",
       "4  /Office-of-the-Governor/News/Press-Releases/20...      NaN             1  "
      ]
     },
     "execution_count": 41,
     "metadata": {},
     "output_type": "execute_result"
    }
   ],
   "source": [
    "combined.head()"
   ]
  },
  {
   "cell_type": "code",
   "execution_count": 42,
   "id": "fbc4c945",
   "metadata": {
    "hidden": true
   },
   "outputs": [
    {
     "data": {
      "text/html": [
       "<div>\n",
       "<style scoped>\n",
       "    .dataframe tbody tr th:only-of-type {\n",
       "        vertical-align: middle;\n",
       "    }\n",
       "\n",
       "    .dataframe tbody tr th {\n",
       "        vertical-align: top;\n",
       "    }\n",
       "\n",
       "    .dataframe thead th {\n",
       "        text-align: right;\n",
       "    }\n",
       "</style>\n",
       "<table border=\"1\" class=\"dataframe\">\n",
       "  <thead>\n",
       "    <tr style=\"text-align: right;\">\n",
       "      <th></th>\n",
       "      <th>title</th>\n",
       "      <th>date</th>\n",
       "      <th>link</th>\n",
       "      <th>content</th>\n",
       "      <th>page_scraped</th>\n",
       "    </tr>\n",
       "  </thead>\n",
       "  <tbody>\n",
       "    <tr>\n",
       "      <th>0</th>\n",
       "      <td>Governor Lamont Releases Draft State Digital E...</td>\n",
       "      <td>12/22/2023</td>\n",
       "      <td>https://portal.ct.gov//Office-of-the-Governor/...</td>\n",
       "      <td>NaN</td>\n",
       "      <td>1</td>\n",
       "    </tr>\n",
       "    <tr>\n",
       "      <th>1</th>\n",
       "      <td>Governor Lamont Announces Connecticut Income T...</td>\n",
       "      <td>12/20/2023</td>\n",
       "      <td>https://portal.ct.gov//Office-of-the-Governor/...</td>\n",
       "      <td>NaN</td>\n",
       "      <td>1</td>\n",
       "    </tr>\n",
       "    <tr>\n",
       "      <th>2</th>\n",
       "      <td>Governor Lamont Directs $10.7 Million in Ameri...</td>\n",
       "      <td>12/19/2023</td>\n",
       "      <td>https://portal.ct.gov//Office-of-the-Governor/...</td>\n",
       "      <td>NaN</td>\n",
       "      <td>1</td>\n",
       "    </tr>\n",
       "    <tr>\n",
       "      <th>3</th>\n",
       "      <td>Governor Lamont Encourages High School Seniors...</td>\n",
       "      <td>12/19/2023</td>\n",
       "      <td>https://portal.ct.gov//Office-of-the-Governor/...</td>\n",
       "      <td>NaN</td>\n",
       "      <td>1</td>\n",
       "    </tr>\n",
       "    <tr>\n",
       "      <th>4</th>\n",
       "      <td>Governor Lamont Announces $7.2 Million in Stat...</td>\n",
       "      <td>12/18/2023</td>\n",
       "      <td>https://portal.ct.gov//Office-of-the-Governor/...</td>\n",
       "      <td>NaN</td>\n",
       "      <td>1</td>\n",
       "    </tr>\n",
       "  </tbody>\n",
       "</table>\n",
       "</div>"
      ],
      "text/plain": [
       "                                               title        date  \\\n",
       "0  Governor Lamont Releases Draft State Digital E...  12/22/2023   \n",
       "1  Governor Lamont Announces Connecticut Income T...  12/20/2023   \n",
       "2  Governor Lamont Directs $10.7 Million in Ameri...  12/19/2023   \n",
       "3  Governor Lamont Encourages High School Seniors...  12/19/2023   \n",
       "4  Governor Lamont Announces $7.2 Million in Stat...  12/18/2023   \n",
       "\n",
       "                                                link  content  page_scraped  \n",
       "0  https://portal.ct.gov//Office-of-the-Governor/...      NaN             1  \n",
       "1  https://portal.ct.gov//Office-of-the-Governor/...      NaN             1  \n",
       "2  https://portal.ct.gov//Office-of-the-Governor/...      NaN             1  \n",
       "3  https://portal.ct.gov//Office-of-the-Governor/...      NaN             1  \n",
       "4  https://portal.ct.gov//Office-of-the-Governor/...      NaN             1  "
      ]
     },
     "execution_count": 42,
     "metadata": {},
     "output_type": "execute_result"
    }
   ],
   "source": [
    "# URL prefix was missing so let's add this to the links \n",
    "combined.link = ['https://portal.ct.gov/' + i for i in combined.link]\n",
    "combined.head()"
   ]
  },
  {
   "cell_type": "code",
   "execution_count": 43,
   "id": "25884a3f",
   "metadata": {
    "hidden": true
   },
   "outputs": [],
   "source": [
    "# save just in case\n",
    "combined.to_csv(f'{state}_links.csv', index = False)"
   ]
  },
  {
   "cell_type": "code",
   "execution_count": 44,
   "id": "39315b53",
   "metadata": {
    "hidden": true
   },
   "outputs": [
    {
     "data": {
      "text/html": [
       "<div>\n",
       "<style scoped>\n",
       "    .dataframe tbody tr th:only-of-type {\n",
       "        vertical-align: middle;\n",
       "    }\n",
       "\n",
       "    .dataframe tbody tr th {\n",
       "        vertical-align: top;\n",
       "    }\n",
       "\n",
       "    .dataframe thead th {\n",
       "        text-align: right;\n",
       "    }\n",
       "</style>\n",
       "<table border=\"1\" class=\"dataframe\">\n",
       "  <thead>\n",
       "    <tr style=\"text-align: right;\">\n",
       "      <th></th>\n",
       "      <th>title</th>\n",
       "      <th>date</th>\n",
       "      <th>link</th>\n",
       "      <th>content</th>\n",
       "      <th>page_scraped</th>\n",
       "    </tr>\n",
       "  </thead>\n",
       "  <tbody>\n",
       "    <tr>\n",
       "      <th>0</th>\n",
       "      <td>Governor Lamont Releases Draft State Digital E...</td>\n",
       "      <td>12/22/2023</td>\n",
       "      <td>https://portal.ct.gov//Office-of-the-Governor/...</td>\n",
       "      <td>NaN</td>\n",
       "      <td>1</td>\n",
       "    </tr>\n",
       "    <tr>\n",
       "      <th>1</th>\n",
       "      <td>Governor Lamont Announces Connecticut Income T...</td>\n",
       "      <td>12/20/2023</td>\n",
       "      <td>https://portal.ct.gov//Office-of-the-Governor/...</td>\n",
       "      <td>NaN</td>\n",
       "      <td>1</td>\n",
       "    </tr>\n",
       "    <tr>\n",
       "      <th>2</th>\n",
       "      <td>Governor Lamont Directs $10.7 Million in Ameri...</td>\n",
       "      <td>12/19/2023</td>\n",
       "      <td>https://portal.ct.gov//Office-of-the-Governor/...</td>\n",
       "      <td>NaN</td>\n",
       "      <td>1</td>\n",
       "    </tr>\n",
       "    <tr>\n",
       "      <th>3</th>\n",
       "      <td>Governor Lamont Encourages High School Seniors...</td>\n",
       "      <td>12/19/2023</td>\n",
       "      <td>https://portal.ct.gov//Office-of-the-Governor/...</td>\n",
       "      <td>NaN</td>\n",
       "      <td>1</td>\n",
       "    </tr>\n",
       "    <tr>\n",
       "      <th>4</th>\n",
       "      <td>Governor Lamont Announces $7.2 Million in Stat...</td>\n",
       "      <td>12/18/2023</td>\n",
       "      <td>https://portal.ct.gov//Office-of-the-Governor/...</td>\n",
       "      <td>NaN</td>\n",
       "      <td>1</td>\n",
       "    </tr>\n",
       "  </tbody>\n",
       "</table>\n",
       "</div>"
      ],
      "text/plain": [
       "                                               title        date  \\\n",
       "0  Governor Lamont Releases Draft State Digital E...  12/22/2023   \n",
       "1  Governor Lamont Announces Connecticut Income T...  12/20/2023   \n",
       "2  Governor Lamont Directs $10.7 Million in Ameri...  12/19/2023   \n",
       "3  Governor Lamont Encourages High School Seniors...  12/19/2023   \n",
       "4  Governor Lamont Announces $7.2 Million in Stat...  12/18/2023   \n",
       "\n",
       "                                                link  content  page_scraped  \n",
       "0  https://portal.ct.gov//Office-of-the-Governor/...      NaN             1  \n",
       "1  https://portal.ct.gov//Office-of-the-Governor/...      NaN             1  \n",
       "2  https://portal.ct.gov//Office-of-the-Governor/...      NaN             1  \n",
       "3  https://portal.ct.gov//Office-of-the-Governor/...      NaN             1  \n",
       "4  https://portal.ct.gov//Office-of-the-Governor/...      NaN             1  "
      ]
     },
     "execution_count": 44,
     "metadata": {},
     "output_type": "execute_result"
    }
   ],
   "source": [
    "combined = pd.read_csv(f'{state}_links.csv')\n",
    "combined.head()"
   ]
  },
  {
   "cell_type": "markdown",
   "id": "92cf01bb",
   "metadata": {},
   "source": [
    "## Scrape content from links\n",
    "`Beautiful Soup`"
   ]
  },
  {
   "cell_type": "markdown",
   "id": "a470c290",
   "metadata": {
    "heading_collapsed": true
   },
   "source": [
    "### Test with one link"
   ]
  },
  {
   "cell_type": "code",
   "execution_count": 45,
   "id": "219060c0",
   "metadata": {
    "hidden": true
   },
   "outputs": [],
   "source": [
    "# define link scraping \n",
    "def get_connecticut_content(link, df, header_list):\n",
    "    try: \n",
    "        # check if content has already been pulled\n",
    "        result = df.loc[df.link == link, 'content'].notnull().all()\n",
    "        if result:\n",
    "            return f'content already existing for {link}' \n",
    "        else: \n",
    "            try: \n",
    "                df['content']\n",
    "                server_response = requests.get(link, headers = header_list)\n",
    "                soup_link = bs4.BeautifulSoup(server_response.content, features=\"html.parser\")\n",
    "                result = soup_link.find('div', class_ = 'content').find_all('p')\n",
    "                string_result = [str(i.text) for i in result]\n",
    "                string_result_clean = [i.replace(u'\\xa0', u'') for i in string_result]\n",
    "                string_result_clean = [i.replace(u'\\n', u'') for i in string_result_clean]\n",
    "                string_result_clean = [i.replace(u'\\r', u'') for i in string_result_clean]\n",
    "                result_merged = \" \".join(string_result_clean)\n",
    "                df.loc[df.link == link, 'content'] = result_merged\n",
    "                return f\"success: content added from {link}\"\n",
    "            except: \n",
    "                pass\n",
    "    except Exception as e: \n",
    "        return f\"unable to gather content from {link} due to {e}\"\n",
    "    #return df_updated "
   ]
  },
  {
   "cell_type": "code",
   "execution_count": 46,
   "id": "497843ea",
   "metadata": {
    "hidden": true
   },
   "outputs": [
    {
     "data": {
      "text/plain": [
       "<Response [200]>"
      ]
     },
     "execution_count": 46,
     "metadata": {},
     "output_type": "execute_result"
    }
   ],
   "source": [
    "# access webpage\n",
    "link = 'https://portal.ct.gov/Office-of-the-Governor/News/Press-Releases/2023/12-2023/Governor-Lamont-Announces-Income-Tax-Rates-Go-Down-at-the-Start-of-2024'\n",
    "server_response = requests.get(link, headers = header_list)\n",
    "server_response"
   ]
  },
  {
   "cell_type": "code",
   "execution_count": 47,
   "id": "30642e3a",
   "metadata": {
    "hidden": true
   },
   "outputs": [
    {
     "data": {
      "text/plain": [
       "'12/20/2023             (HARTFORD, CT) – Governor Ned Lamont today announced that three significant tax relief measures will take effect in Connecticut at the start of 2024, and among them are the largest income tax reduction ever enacted in state history, an increase in a tax credit targeting the lowest-income workers, and an expansion of exemptions on certain pension and annuity earnings to benefit seniors. They are the result of the fiscal year 2024-2025 state budget that the Connecticut General Assembly approved and Governor Lamont signed into law this summer (Public Act 23-204). In total, the three measures will reduce taxes for Connecticut taxpayers by approximately $460.3 million. Due to the fiscal guardrails and smart management of the state budget, nonpartisan analysts anticipate that revenue growth will exceed growth in fixed costs for the next several years. For example, General Fund revenue is expected to increase by $393.4 million from fiscal year 2025 to 2026 and fixed costs by $254.6 million for the same period. “We enacted these tax relief measures to provide broad-based tax relief to those who need it, specifically middle-income workers, low-income workers, and seniors,” Governor Lamont said. “These tax cuts are possible due to the fiscal discipline that we’ve implemented over the last five years, which has stabilized the state’s fiscal house and ended a trend of too many years of deficits and uncertainty.” One million tax filers to benefit from income tax cuts Beginning on January 1, 2024, a reduction in Connecticut’s income tax rates will take effect, making this the first time that rates have been reduced in the state since the mid-1990s. It is also the largest income tax cut enacted in state history. Connecticut has a progressive income tax rate structure, meaning that the tax rate increases with income at varying rates as income grows in each bracket. The changes enacted in 2024 will see a decrease in the two lowest rates: The relief is targeted toward middle-class tax filers and is capped at $150,000 for single filers and $300,000 for joint filers. The reduction is estimated to benefit more than one million tax filers. CHART: Income tax rate reduction effective January 1, 2024   Single Filer   Joint Filer   Connecticut’s Earned Income Tax Credit for low-income workers becomes one of the largest in the U.S. Connecticut’s new Earned Income Tax Credit (EITC) change – which took effect retroactively for 2023 and will become available when recipients file their personal income tax returns in early 2024 – places the state among the top five in the nation with the largest rates on this popular tax credit program. Under the change, the Connecticut EITC is increasing from 30.5% to 40% of the federal EITC. This will provide an additional $44.6 million in state tax credits to the approximately 211,000 low-income filers who receive the credit. The Connecticut EITC is a refundable state income tax credit for the lowest-income working individuals and families that mirrors the federal EITC. Typically, more than 95% of filers who receive this credit are families with children. CHART: Connecticut’s Earned Income Tax Credit over the last decade Income Year Credit Level 2012 30.0% 2013 25.0% 2014 27.5% 2015 27.5% 2016 27.5% 2017 23.0% 2018 23.0% 2019 23.0% 2020 23.0% 2021 30.5% 2022 30.5% 2023 (and thereafter) 40.0% Expanding certain deductions for IRA distributions and pension and annuity earnings for seniors Also effective in 2024 is an expansion of the state’s existing deductions for certain IRA distributions and pension and annuity earnings to benefit seniors. Specifically, the state budget eliminates the retirement income tax cliff by adding a phase-out for allowable pension and annuity and IRA distribution deductions against the personal income tax. Approximately 200,000 filers benefit from the currently enacted retiree exemption limits. It is estimated that with these changes, an additional 100,000 filers could benefit from the elimination of the retirement cliff via the exemption phase-out. CHART: Pension and Annuities Exemption Phase-Out Schedule Single, HOH, MFS Filers   Federal AGI     From To Pension Deduction 1. - $74,999 100.0% 2. $75,000 $77,499 $85.0% 3. $77,500 $79,999 70.0% 4. $80,000 $82,499 55.0% 5. $82,500 $84,999 40.0% 6. $85,000 $87,499 25.0% 7. $87,500 $89,999 10.0% 8. $90,000 $94,999 5.0% 9. $95,000 $99,999 2.5% 10. $100,000 and over 0.0%             Joint Filers   Federal AGI     From To Pension Deduction 1. - $99,999 100.0% 2. $100,000 $104,999 85.0% 3. $105,000 $109,999 70.0% 4. $110,000 $114,999 55.0% 5. $115,000 $119,999 40.0% 6. $120,000 $124,999 25.0% 7. $125,000 $129,999 10.0% 8. $130,000 $139,999 5.0% 9. $140,000 $149,999 2.5% 10. $150,000 and over 0.0%  '"
      ]
     },
     "execution_count": 47,
     "metadata": {},
     "output_type": "execute_result"
    }
   ],
   "source": [
    "# parse and isolate content \n",
    "soup_link = bs4.BeautifulSoup(server_response.content, features=\"html.parser\")\n",
    "result = soup_link.find('div', class_ = 'content').find_all('p')\n",
    "string_result = [str(i.text) for i in result]\n",
    "string_result_clean = [i.replace(u'\\xa0', u'') for i in string_result]\n",
    "string_result_clean = [i.replace(u'\\n', u'') for i in string_result_clean]\n",
    "string_result_clean = [i.replace(u'\\r', u'') for i in string_result_clean]\n",
    "result_merged = \" \".join(string_result_clean)\n",
    "result_merged"
   ]
  },
  {
   "cell_type": "markdown",
   "id": "13add814",
   "metadata": {
    "heading_collapsed": true
   },
   "source": [
    "### Scrape content from all links"
   ]
  },
  {
   "cell_type": "code",
   "execution_count": 48,
   "id": "60fbdc9f",
   "metadata": {
    "hidden": true
   },
   "outputs": [
    {
     "data": {
      "text/plain": [
       "'success: content added from https://portal.ct.gov//Office-of-the-Governor/News/Press-Releases/2023/12-2023/Governor-Lamont-Releases-Draft-State-Digital-Equity-Plan'"
      ]
     },
     "execution_count": 48,
     "metadata": {},
     "output_type": "execute_result"
    },
    {
     "data": {
      "text/plain": [
       "'success: content added from https://portal.ct.gov//Office-of-the-Governor/News/Press-Releases/2023/12-2023/Governor-Lamont-Announces-Income-Tax-Rates-Go-Down-at-the-Start-of-2024'"
      ]
     },
     "execution_count": 48,
     "metadata": {},
     "output_type": "execute_result"
    },
    {
     "data": {
      "text/plain": [
       "'success: content added from https://portal.ct.gov//Office-of-the-Governor/News/Press-Releases/2023/12-2023/Governor-Lamont-Directs-ARPA-and-RGGI-Funds-To-Help-Low-Income-Residents-Lower-Energy-Bills'"
      ]
     },
     "execution_count": 48,
     "metadata": {},
     "output_type": "execute_result"
    },
    {
     "data": {
      "text/plain": [
       "'success: content added from https://portal.ct.gov//Office-of-the-Governor/News/Press-Releases/2023/12-2023/Governor-Lamont-Encourages-High-School-Seniors-to-Apply-for-Automatic-College-Admission-Program'"
      ]
     },
     "execution_count": 48,
     "metadata": {},
     "output_type": "execute_result"
    },
    {
     "data": {
      "text/plain": [
       "'success: content added from https://portal.ct.gov//Office-of-the-Governor/News/Press-Releases/2023/12-2023/Governor-Lamont-Announces-State-Grants-To-Support-the-Remediation-of-Blighted-Properties'"
      ]
     },
     "execution_count": 48,
     "metadata": {},
     "output_type": "execute_result"
    },
    {
     "data": {
      "text/plain": [
       "'success: content added from https://portal.ct.gov//Office-of-the-Governor/News/Press-Releases/2023/12-2023/Governor-Lamont-Announces-Thousands-of-Low-Level-Convictions-Set-To-Be-Erased-Over-the-Next-Month'"
      ]
     },
     "execution_count": 48,
     "metadata": {},
     "output_type": "execute_result"
    },
    {
     "data": {
      "text/html": [
       "<div>\n",
       "<style scoped>\n",
       "    .dataframe tbody tr th:only-of-type {\n",
       "        vertical-align: middle;\n",
       "    }\n",
       "\n",
       "    .dataframe tbody tr th {\n",
       "        vertical-align: top;\n",
       "    }\n",
       "\n",
       "    .dataframe thead th {\n",
       "        text-align: right;\n",
       "    }\n",
       "</style>\n",
       "<table border=\"1\" class=\"dataframe\">\n",
       "  <thead>\n",
       "    <tr style=\"text-align: right;\">\n",
       "      <th></th>\n",
       "      <th>title</th>\n",
       "      <th>date</th>\n",
       "      <th>link</th>\n",
       "      <th>content</th>\n",
       "      <th>page_scraped</th>\n",
       "    </tr>\n",
       "  </thead>\n",
       "  <tbody>\n",
       "    <tr>\n",
       "      <th>0</th>\n",
       "      <td>Governor Lamont Releases Draft State Digital E...</td>\n",
       "      <td>12/22/2023</td>\n",
       "      <td>https://portal.ct.gov//Office-of-the-Governor/...</td>\n",
       "      <td>12/22/2023             (HARTFORD, CT) – Govern...</td>\n",
       "      <td>1</td>\n",
       "    </tr>\n",
       "    <tr>\n",
       "      <th>1</th>\n",
       "      <td>Governor Lamont Announces Connecticut Income T...</td>\n",
       "      <td>12/20/2023</td>\n",
       "      <td>https://portal.ct.gov//Office-of-the-Governor/...</td>\n",
       "      <td>12/20/2023             (HARTFORD, CT) – Govern...</td>\n",
       "      <td>1</td>\n",
       "    </tr>\n",
       "    <tr>\n",
       "      <th>2</th>\n",
       "      <td>Governor Lamont Directs $10.7 Million in Ameri...</td>\n",
       "      <td>12/19/2023</td>\n",
       "      <td>https://portal.ct.gov//Office-of-the-Governor/...</td>\n",
       "      <td>12/19/2023             (HARTFORD, CT) – Govern...</td>\n",
       "      <td>1</td>\n",
       "    </tr>\n",
       "    <tr>\n",
       "      <th>3</th>\n",
       "      <td>Governor Lamont Encourages High School Seniors...</td>\n",
       "      <td>12/19/2023</td>\n",
       "      <td>https://portal.ct.gov//Office-of-the-Governor/...</td>\n",
       "      <td>12/19/2023             (NEW BRITAIN, CT) – Gov...</td>\n",
       "      <td>1</td>\n",
       "    </tr>\n",
       "    <tr>\n",
       "      <th>4</th>\n",
       "      <td>Governor Lamont Announces $7.2 Million in Stat...</td>\n",
       "      <td>12/18/2023</td>\n",
       "      <td>https://portal.ct.gov//Office-of-the-Governor/...</td>\n",
       "      <td>12/18/2023             (HARTFORD, CT) – Govern...</td>\n",
       "      <td>1</td>\n",
       "    </tr>\n",
       "  </tbody>\n",
       "</table>\n",
       "</div>"
      ],
      "text/plain": [
       "                                               title        date  \\\n",
       "0  Governor Lamont Releases Draft State Digital E...  12/22/2023   \n",
       "1  Governor Lamont Announces Connecticut Income T...  12/20/2023   \n",
       "2  Governor Lamont Directs $10.7 Million in Ameri...  12/19/2023   \n",
       "3  Governor Lamont Encourages High School Seniors...  12/19/2023   \n",
       "4  Governor Lamont Announces $7.2 Million in Stat...  12/18/2023   \n",
       "\n",
       "                                                link  \\\n",
       "0  https://portal.ct.gov//Office-of-the-Governor/...   \n",
       "1  https://portal.ct.gov//Office-of-the-Governor/...   \n",
       "2  https://portal.ct.gov//Office-of-the-Governor/...   \n",
       "3  https://portal.ct.gov//Office-of-the-Governor/...   \n",
       "4  https://portal.ct.gov//Office-of-the-Governor/...   \n",
       "\n",
       "                                             content  page_scraped  \n",
       "0  12/22/2023             (HARTFORD, CT) – Govern...             1  \n",
       "1  12/20/2023             (HARTFORD, CT) – Govern...             1  \n",
       "2  12/19/2023             (HARTFORD, CT) – Govern...             1  \n",
       "3  12/19/2023             (NEW BRITAIN, CT) – Gov...             1  \n",
       "4  12/18/2023             (HARTFORD, CT) – Govern...             1  "
      ]
     },
     "execution_count": 48,
     "metadata": {},
     "output_type": "execute_result"
    }
   ],
   "source": [
    "# test on 5 to see if it works\n",
    "combined.content = np.nan\n",
    "\n",
    "for i in combined.link[0:6]:\n",
    "     get_connecticut_content(i, combined, header_list)\n",
    "    \n",
    "combined.head()"
   ]
  },
  {
   "cell_type": "code",
   "execution_count": 49,
   "id": "4be4977e",
   "metadata": {
    "hidden": true
   },
   "outputs": [
    {
     "data": {
      "text/plain": [
       "'content already existing for https://portal.ct.gov//Office-of-the-Governor/News/Press-Releases/2023/12-2023/Governor-Lamont-Releases-Draft-State-Digital-Equity-Plan'"
      ]
     },
     "execution_count": 49,
     "metadata": {},
     "output_type": "execute_result"
    },
    {
     "data": {
      "text/plain": [
       "'content already existing for https://portal.ct.gov//Office-of-the-Governor/News/Press-Releases/2023/12-2023/Governor-Lamont-Announces-Income-Tax-Rates-Go-Down-at-the-Start-of-2024'"
      ]
     },
     "execution_count": 49,
     "metadata": {},
     "output_type": "execute_result"
    },
    {
     "data": {
      "text/plain": [
       "'content already existing for https://portal.ct.gov//Office-of-the-Governor/News/Press-Releases/2023/12-2023/Governor-Lamont-Directs-ARPA-and-RGGI-Funds-To-Help-Low-Income-Residents-Lower-Energy-Bills'"
      ]
     },
     "execution_count": 49,
     "metadata": {},
     "output_type": "execute_result"
    },
    {
     "data": {
      "text/plain": [
       "'content already existing for https://portal.ct.gov//Office-of-the-Governor/News/Press-Releases/2023/12-2023/Governor-Lamont-Encourages-High-School-Seniors-to-Apply-for-Automatic-College-Admission-Program'"
      ]
     },
     "execution_count": 49,
     "metadata": {},
     "output_type": "execute_result"
    },
    {
     "data": {
      "text/plain": [
       "'content already existing for https://portal.ct.gov//Office-of-the-Governor/News/Press-Releases/2023/12-2023/Governor-Lamont-Announces-State-Grants-To-Support-the-Remediation-of-Blighted-Properties'"
      ]
     },
     "execution_count": 49,
     "metadata": {},
     "output_type": "execute_result"
    },
    {
     "data": {
      "text/plain": [
       "'content already existing for https://portal.ct.gov//Office-of-the-Governor/News/Press-Releases/2023/12-2023/Governor-Lamont-Announces-Thousands-of-Low-Level-Convictions-Set-To-Be-Erased-Over-the-Next-Month'"
      ]
     },
     "execution_count": 49,
     "metadata": {},
     "output_type": "execute_result"
    },
    {
     "data": {
      "text/plain": [
       "'success: content added from https://portal.ct.gov//Office-of-the-Governor/News/Press-Releases/2023/12-2023/Governor-Lamont-Orders-Flags-To-Half-Staff-Tuesday-in-Honor-of-Justice-OConnor'"
      ]
     },
     "execution_count": 49,
     "metadata": {},
     "output_type": "execute_result"
    },
    {
     "data": {
      "text/plain": [
       "'success: content added from https://portal.ct.gov//Office-of-the-Governor/News/Press-Releases/2023/12-2023/Governor-Lamont-Reassures-Residents-That-Medication-Abortion-Remains-Legal-in-Connecticut'"
      ]
     },
     "execution_count": 49,
     "metadata": {},
     "output_type": "execute_result"
    },
    {
     "data": {
      "text/plain": [
       "'success: content added from https://portal.ct.gov//Office-of-the-Governor/News/Press-Releases/2023/12-2023/Governor-Lamont-Nominates-Jodi-Hill-Lilly-as-Commissioner-of-the-Department-of-Children-and-Families'"
      ]
     },
     "execution_count": 49,
     "metadata": {},
     "output_type": "execute_result"
    },
    {
     "data": {
      "text/plain": [
       "'success: content added from https://portal.ct.gov//Office-of-the-Governor/News/Press-Releases/2023/12-2023/Governor-Lamont-Directs-Flags-To-Half-Staff-Thursday-for-the-Anniversary-of-Sandy-Hook'"
      ]
     },
     "execution_count": 49,
     "metadata": {},
     "output_type": "execute_result"
    },
    {
     "data": {
      "text/plain": [
       "'success: content added from https://portal.ct.gov//Office-of-the-Governor/News/Press-Releases/2023/12-2023/Governor-Lamont-Schedules-Special-Election-on-January-23-for-State-Representative-Seat-in-West-Haven'"
      ]
     },
     "execution_count": 49,
     "metadata": {},
     "output_type": "execute_result"
    },
    {
     "data": {
      "text/plain": [
       "'success: content added from https://portal.ct.gov//Office-of-the-Governor/News/Press-Releases/2023/12-2023/Governor-Lamont-President-Maric-Announce-Partnership-To-Develop-Vision-for-UConn-Health'"
      ]
     },
     "execution_count": 49,
     "metadata": {},
     "output_type": "execute_result"
    },
    {
     "data": {
      "text/plain": [
       "'success: content added from https://portal.ct.gov//Office-of-the-Governor/News/Press-Releases/2023/12-2023/Governor-Lamont-Directs-Flags-To-Half-Staff-Thursday-for-Pearl-Harbor-Remembrance-Day'"
      ]
     },
     "execution_count": 49,
     "metadata": {},
     "output_type": "execute_result"
    },
    {
     "data": {
      "text/plain": [
       "'success: content added from https://portal.ct.gov//Office-of-the-Governor/News/Press-Releases/2023/12-2023/Governor-Lamont-Announces-Registered-Apprenticeship-Program-To-Train-Workers-for-Child-Care-Jobs'"
      ]
     },
     "execution_count": 49,
     "metadata": {},
     "output_type": "execute_result"
    },
    {
     "data": {
      "text/plain": [
       "'success: content added from https://portal.ct.gov//Office-of-the-Governor/News/Press-Releases/2023/11-2023/Governor-and-Mrs-Lamont-Invite-Public-to-Tour-the-Governors-Residence'"
      ]
     },
     "execution_count": 49,
     "metadata": {},
     "output_type": "execute_result"
    },
    {
     "data": {
      "text/plain": [
       "'success: content added from https://portal.ct.gov//Office-of-the-Governor/News/Press-Releases/2023/11-2023/Governor-Lamonts-2023-Thanksgiving-Message'"
      ]
     },
     "execution_count": 49,
     "metadata": {},
     "output_type": "execute_result"
    },
    {
     "data": {
      "text/plain": [
       "'success: content added from https://portal.ct.gov//Office-of-the-Governor/News/Press-Releases/2023/11-2023/Governor-Lamont-Flags-Lowered-To-Half-Staff-in-Honor-of-Rosalynn-Carter'"
      ]
     },
     "execution_count": 49,
     "metadata": {},
     "output_type": "execute_result"
    },
    {
     "data": {
      "text/plain": [
       "'success: content added from https://portal.ct.gov//Office-of-the-Governor/News/Press-Releases/2023/11-2023/Governor-Lamont-Announces-New-Eligibility-Levels-Allowed-10000-Additional-People-To-Receive-SNAP'"
      ]
     },
     "execution_count": 49,
     "metadata": {},
     "output_type": "execute_result"
    },
    {
     "data": {
      "text/plain": [
       "'success: content added from https://portal.ct.gov//Office-of-the-Governor/News/Press-Releases/2023/11-2023/Governor-Lamont-Urges-Semiconductor-Industry-To-Take-Advantage-of-Chips-Manufacturing-Incentive'"
      ]
     },
     "execution_count": 49,
     "metadata": {},
     "output_type": "execute_result"
    },
    {
     "data": {
      "text/plain": [
       "'success: content added from https://portal.ct.gov//Office-of-the-Governor/News/Press-Releases/2023/11-2023/Governor-Lamont-Announces-Connecticut-Businesses-Will-Receive-a-10-Percent-Decrease-in-Workers-Comp'"
      ]
     },
     "execution_count": 49,
     "metadata": {},
     "output_type": "execute_result"
    },
    {
     "data": {
      "text/plain": [
       "'success: content added from https://portal.ct.gov//Office-of-the-Governor/News/Press-Releases/2023/11-2023/Governor-Lamont-Announces-Plans-To-Nominate-Daniel-OKeefe-as-Commissioner-of-DECD'"
      ]
     },
     "execution_count": 49,
     "metadata": {},
     "output_type": "execute_result"
    },
    {
     "data": {
      "text/plain": [
       "'success: content added from https://portal.ct.gov//Office-of-the-Governor/News/Press-Releases/2023/11-2023/Governor-Lamont-and-Secretary-Beckham-Statements-on-November-2023-Consensus-Revenue-Forecast'"
      ]
     },
     "execution_count": 49,
     "metadata": {},
     "output_type": "execute_result"
    },
    {
     "data": {
      "text/plain": [
       "'success: content added from https://portal.ct.gov//Office-of-the-Governor/News/Press-Releases/2023/11-2023/Governor-Lamont-Announces-Launch-of-Microtransit-Pilot-Program'"
      ]
     },
     "execution_count": 49,
     "metadata": {},
     "output_type": "execute_result"
    },
    {
     "data": {
      "text/plain": [
       "'success: content added from https://portal.ct.gov//Office-of-the-Governor/News/Press-Releases/2023/11-2023/Governor-Lamont-Announces-Q-Bridge-Will-Be-Illuminated-in-Honor-of-Veterans-Day'"
      ]
     },
     "execution_count": 49,
     "metadata": {},
     "output_type": "execute_result"
    },
    {
     "data": {
      "text/plain": [
       "'success: content added from https://portal.ct.gov//Office-of-the-Governor/News/Press-Releases/2023/11-2023/Governor-Lamont-Debuts-Makers-Manifesto-Did-You-Know-Edition'"
      ]
     },
     "execution_count": 49,
     "metadata": {},
     "output_type": "execute_result"
    },
    {
     "data": {
      "text/plain": [
       "'success: content added from https://portal.ct.gov//Office-of-the-Governor/News/Press-Releases/2023/11-2023/Governor-Lamont-Announces-Grants-To-Improve-Transportation-Safety-and-Accessibility-in-17-Towns'"
      ]
     },
     "execution_count": 49,
     "metadata": {},
     "output_type": "execute_result"
    },
    {
     "data": {
      "text/plain": [
       "'success: content added from https://portal.ct.gov//Office-of-the-Governor/News/Press-Releases/2023/11-2023/Governor-Lamont-Announces-Trust-Fund-Investments-Spare-Connecticut-Employers-From-Tax-Increases'"
      ]
     },
     "execution_count": 49,
     "metadata": {},
     "output_type": "execute_result"
    },
    {
     "data": {
      "text/plain": [
       "'success: content added from https://portal.ct.gov//Office-of-the-Governor/News/Press-Releases/2023/11-2023/Governor-Lamont-Congressional-Delegation-Announce-Nearly-2-Billion-for-Rail-Projects'"
      ]
     },
     "execution_count": 49,
     "metadata": {},
     "output_type": "execute_result"
    },
    {
     "data": {
      "text/plain": [
       "'success: content added from https://portal.ct.gov//Office-of-the-Governor/News/Press-Releases/2023/11-2023/Governor-Lamont-and-CTDOT-Highlight-Successful-Bridge-Replacement-Project-on-Interstate-95'"
      ]
     },
     "execution_count": 49,
     "metadata": {},
     "output_type": "execute_result"
    },
    {
     "data": {
      "text/plain": [
       "'success: content added from https://portal.ct.gov//Office-of-the-Governor/News/Press-Releases/2023/11-2023/Governor-Lamont-Announces-Federal-Approval-of-CT-Education-Network-Broadband-Infrastructure-Plan'"
      ]
     },
     "execution_count": 49,
     "metadata": {},
     "output_type": "execute_result"
    },
    {
     "data": {
      "text/plain": [
       "'success: content added from https://portal.ct.gov//Office-of-the-Governor/News/Press-Releases/2023/11-2023/Governor-Lamont-Applauds-Orsted-and-Eversource-Final-Investment-Decision'"
      ]
     },
     "execution_count": 49,
     "metadata": {},
     "output_type": "execute_result"
    },
    {
     "data": {
      "text/plain": [
       "'success: content added from https://portal.ct.gov//Office-of-the-Governor/News/Press-Releases/2023/11-2023/Governor-Lamont-on-the-Passing-of-Former-First-Lady-Mary-Frey-Dempsey'"
      ]
     },
     "execution_count": 49,
     "metadata": {},
     "output_type": "execute_result"
    },
    {
     "data": {
      "text/plain": [
       "'success: content added from https://portal.ct.gov//Office-of-the-Governor/News/Press-Releases/2023/10-2023/Governor-Lamont-Convening-Meeting-of-Higher-Education-Security-Officials'"
      ]
     },
     "execution_count": 49,
     "metadata": {},
     "output_type": "execute_result"
    },
    {
     "data": {
      "text/plain": [
       "'success: content added from https://portal.ct.gov//Office-of-the-Governor/News/Press-Releases/2023/10-2023/Governor-Lamont-Treasurer-Russell-President-Maric-Announce-UConn-2000-Bonds-Receive-Upgrade'"
      ]
     },
     "execution_count": 49,
     "metadata": {},
     "output_type": "execute_result"
    },
    {
     "data": {
      "text/plain": [
       "'success: content added from https://portal.ct.gov//Office-of-the-Governor/News/Press-Releases/2023/10-2023/Governor-Lamont-Flags-Lowered-To-Half-Staff-in-Honor-of-the-Victims-of-the-Mass-Shootings-in-Maine'"
      ]
     },
     "execution_count": 49,
     "metadata": {},
     "output_type": "execute_result"
    },
    {
     "data": {
      "text/plain": [
       "'success: content added from https://portal.ct.gov//Office-of-the-Governor/News/Press-Releases/2023/10-2023/Governor-Lamont-Announces-Kiana-Foster-Mauro-Is-2024-Teacher-of-the-Year'"
      ]
     },
     "execution_count": 49,
     "metadata": {},
     "output_type": "execute_result"
    },
    {
     "data": {
      "text/plain": [
       "'success: content added from https://portal.ct.gov//Office-of-the-Governor/News/Press-Releases/2023/10-2023/Governor-Lamont-Announces-Advancement-of-the-Greater-Hartford-Mobility-Study'"
      ]
     },
     "execution_count": 49,
     "metadata": {},
     "output_type": "execute_result"
    },
    {
     "data": {
      "text/plain": [
       "'success: content added from https://portal.ct.gov//Office-of-the-Governor/News/Press-Releases/2023/10-2023/Governor-Lamont-and-Public-Health-Officials-Encourage-Breast-Cancer-Screenings'"
      ]
     },
     "execution_count": 49,
     "metadata": {},
     "output_type": "execute_result"
    },
    {
     "data": {
      "text/plain": [
       "'success: content added from https://portal.ct.gov//Office-of-the-Governor/News/Press-Releases/2023/10-2023/Governor-Lamont-and-Commissioner-Russell-Tucker-Announce-Release-of-Grants-for-High-Dosage-Tutoring'"
      ]
     },
     "execution_count": 49,
     "metadata": {},
     "output_type": "execute_result"
    },
    {
     "data": {
      "text/plain": [
       "'success: content added from https://portal.ct.gov//Office-of-the-Governor/News/Press-Releases/2023/10-2023/Governor-Lamont-and-Commissioner-Russell-Tucker-Announce-the-LEAP-Effect'"
      ]
     },
     "execution_count": 49,
     "metadata": {},
     "output_type": "execute_result"
    },
    {
     "data": {
      "text/plain": [
       "'success: content added from https://portal.ct.gov//Office-of-the-Governor/News/Press-Releases/2023/10-2023/Governor-Lamont-Unveils-New-Connecticut-Branding-and-Marketing-Campaign'"
      ]
     },
     "execution_count": 49,
     "metadata": {},
     "output_type": "execute_result"
    },
    {
     "data": {
      "text/plain": [
       "'success: content added from https://portal.ct.gov//Office-of-the-Governor/News/Press-Releases/2023/10-2023/Governor-Lamont-Statement-on-Release-of-Crime-Statistics-Report-for-2022'"
      ]
     },
     "execution_count": 49,
     "metadata": {},
     "output_type": "execute_result"
    },
    {
     "data": {
      "text/plain": [
       "'success: content added from https://portal.ct.gov//Office-of-the-Governor/News/Press-Releases/2023/10-2023/Governor-Lamont-Announces-Dawn-Dickau-Is-Paraeducator-of-the-Year'"
      ]
     },
     "execution_count": 49,
     "metadata": {},
     "output_type": "execute_result"
    },
    {
     "data": {
      "text/plain": [
       "'success: content added from https://portal.ct.gov//Office-of-the-Governor/News/Press-Releases/2023/10-2023/Governor-Lamont-Nominates-Judge-Dawne-Westbrook-to-the-Appellate-Court'"
      ]
     },
     "execution_count": 49,
     "metadata": {},
     "output_type": "execute_result"
    },
    {
     "data": {
      "text/plain": [
       "'success: content added from https://portal.ct.gov//Office-of-the-Governor/News/Press-Releases/2023/10-2023/Governor-Lamont-Proclaims-October-as-Disability-Employment-Awareness-Month'"
      ]
     },
     "execution_count": 49,
     "metadata": {},
     "output_type": "execute_result"
    },
    {
     "data": {
      "text/plain": [
       "'success: content added from https://portal.ct.gov//Office-of-the-Governor/News/Press-Releases/2023/10-2023/Governor-Lamont-Directs-Flags-To-Half-Staff-to-Honor-the-Lives-Lost-in-Israel'"
      ]
     },
     "execution_count": 49,
     "metadata": {},
     "output_type": "execute_result"
    },
    {
     "data": {
      "text/plain": [
       "'success: content added from https://portal.ct.gov//Office-of-the-Governor/News/Press-Releases/2023/10-2023/Governor-Lamont-Statement-on-Violent-Attacks-in-Israel'"
      ]
     },
     "execution_count": 49,
     "metadata": {},
     "output_type": "execute_result"
    },
    {
     "data": {
      "text/plain": [
       "'success: content added from https://portal.ct.gov//Office-of-the-Governor/News/Press-Releases/2023/10-2023/Governor-Lamont-Announces-1-Billion-in-Funding-Approved-for-Improvements-to-Transportation-System'"
      ]
     },
     "execution_count": 49,
     "metadata": {},
     "output_type": "execute_result"
    },
    {
     "data": {
      "text/plain": [
       "'success: content added from https://portal.ct.gov//Office-of-the-Governor/News/Press-Releases/2023/10-2023/Governor-Lamont-Announces-Launch-of-health-ct-gov'"
      ]
     },
     "execution_count": 49,
     "metadata": {},
     "output_type": "execute_result"
    },
    {
     "data": {
      "text/plain": [
       "'success: content added from https://portal.ct.gov//Office-of-the-Governor/News/Press-Releases/2023/10-2023/Governor-Lamont-Directs-Flags-To-Return-to-Full-Staff-Thursday-Evening'"
      ]
     },
     "execution_count": 49,
     "metadata": {},
     "output_type": "execute_result"
    },
    {
     "data": {
      "text/plain": [
       "'success: content added from https://portal.ct.gov//Office-of-the-Governor/News/Press-Releases/2023/10-2023/Governor-Lamont-Announces-DESPP-Commissioner-James-Rovella-Retiring-From-State-Service'"
      ]
     },
     "execution_count": 49,
     "metadata": {},
     "output_type": "execute_result"
    },
    {
     "data": {
      "text/plain": [
       "'success: content added from https://portal.ct.gov//Office-of-the-Governor/News/Press-Releases/2023/10-2023/Governor-Lamont-Announces-Strategic-Roadmap-for-Offshore-Wind'"
      ]
     },
     "execution_count": 49,
     "metadata": {},
     "output_type": "execute_result"
    },
    {
     "data": {
      "text/plain": [
       "'success: content added from https://portal.ct.gov//Office-of-the-Governor/News/Press-Releases/2023/10-2023/Connecticut-Massachusetts-and-Rhode-Island-Sign-First-Time-Agreement-on-Offshore-Wind'"
      ]
     },
     "execution_count": 49,
     "metadata": {},
     "output_type": "execute_result"
    },
    {
     "data": {
      "text/plain": [
       "'success: content added from https://portal.ct.gov//Office-of-the-Governor/News/Press-Releases/2023/10-2023/Governor-Lamont-and-Treasurer-Russell-Announce-Transportation-Bonds-Upgraded-To-AAA'"
      ]
     },
     "execution_count": 49,
     "metadata": {},
     "output_type": "execute_result"
    },
    {
     "data": {
      "text/plain": [
       "'success: content added from https://portal.ct.gov//Office-of-the-Governor/News/Press-Releases/2023/10-2023/Governor-Lamont-and-Comptroller-Scanlon-Announce-Residents-Can-Now-Sign-Up-for-Prescription'"
      ]
     },
     "execution_count": 49,
     "metadata": {},
     "output_type": "execute_result"
    },
    {
     "data": {
      "text/plain": [
       "'success: content added from https://portal.ct.gov//Office-of-the-Governor/News/Press-Releases/2023/09-2023/Governor-Lamont-Flags-Lowered-Nationwide-in-Honor-of-Dianne-Feinstein'"
      ]
     },
     "execution_count": 49,
     "metadata": {},
     "output_type": "execute_result"
    },
    {
     "data": {
      "text/plain": [
       "'success: content added from https://portal.ct.gov//Office-of-the-Governor/News/Press-Releases/2023/09-2023/Governor-Lamont-Announces-Connecticut-Awarded-2M-Grant-To-Improve-Energy-Efficiency-Manufacturing'"
      ]
     },
     "execution_count": 49,
     "metadata": {},
     "output_type": "execute_result"
    },
    {
     "data": {
      "text/plain": [
       "'success: content added from https://portal.ct.gov//Office-of-the-Governor/News/Press-Releases/2023/09-2023/Governor-Lamont-Releases-State-Grants-to-60-Small-Towns'"
      ]
     },
     "execution_count": 49,
     "metadata": {},
     "output_type": "execute_result"
    },
    {
     "data": {
      "text/plain": [
       "'success: content added from https://portal.ct.gov//Office-of-the-Governor/News/Press-Releases/2023/09-2023/Governor-Lamont-Announces-Bond-Commission-Set-To-Approve-25-Million-for-New-Voting-Machines'"
      ]
     },
     "execution_count": 49,
     "metadata": {},
     "output_type": "execute_result"
    },
    {
     "data": {
      "text/plain": [
       "'success: content added from https://portal.ct.gov//Office-of-the-Governor/News/Press-Releases/2023/09-2023/Governor-Lamont-and-Commissioner-Russell-Tucker-Announce-Investment-To-Expand-Dual-Credit'"
      ]
     },
     "execution_count": 49,
     "metadata": {},
     "output_type": "execute_result"
    },
    {
     "data": {
      "text/plain": [
       "'success: content added from https://portal.ct.gov//Office-of-the-Governor/News/Press-Releases/2023/09-2023/Governor-Lamont-Announces-Transfer-To-Pay-Down-Pension-Debt'"
      ]
     },
     "execution_count": 49,
     "metadata": {},
     "output_type": "execute_result"
    },
    {
     "data": {
      "text/plain": [
       "'success: content added from https://portal.ct.gov//Office-of-the-Governor/News/Press-Releases/2023/09-2023/Governor-Lamont-Calls-Legislature-Into-Special-Session-To-Change-the-Date-of-Presidential-Primary'"
      ]
     },
     "execution_count": 49,
     "metadata": {},
     "output_type": "execute_result"
    },
    {
     "data": {
      "text/plain": [
       "'success: content added from https://portal.ct.gov//Office-of-the-Governor/News/Press-Releases/2023/09-2023/Governor-Lamont-Says-Tourism-in-Connecticut-Experiencing-Surge'"
      ]
     },
     "execution_count": 49,
     "metadata": {},
     "output_type": "execute_result"
    },
    {
     "data": {
      "text/plain": [
       "'success: content added from https://portal.ct.gov//Office-of-the-Governor/News/Press-Releases/2023/09-2023/Governor-Lamont-Announces-Launch-of-CTParks-Website'"
      ]
     },
     "execution_count": 49,
     "metadata": {},
     "output_type": "execute_result"
    },
    {
     "data": {
      "text/plain": [
       "'success: content added from https://portal.ct.gov//Office-of-the-Governor/News/Press-Releases/2023/09-2023/Governor-Lamont-and-Commissioner-Russell-Tucker-Congratulate-Four-Connecticut-Public-Schools'"
      ]
     },
     "execution_count": 49,
     "metadata": {},
     "output_type": "execute_result"
    },
    {
     "data": {
      "text/plain": [
       "'success: content added from https://portal.ct.gov//Office-of-the-Governor/News/Press-Releases/2023/09-2023/Governor-Lamont-Announces-Minimum-Wage-Will-Increase-in-January'"
      ]
     },
     "execution_count": 49,
     "metadata": {},
     "output_type": "execute_result"
    },
    {
     "data": {
      "text/plain": [
       "'success: content added from https://portal.ct.gov//Office-of-the-Governor/News/Press-Releases/2023/09-2023/Governor-Lamont-Calls-Legislature-Into-Special-Session-To-Consider-Nomination-of-Nora-Dannehy'"
      ]
     },
     "execution_count": 49,
     "metadata": {},
     "output_type": "execute_result"
    },
    {
     "data": {
      "text/plain": [
       "'success: content added from https://portal.ct.gov//Office-of-the-Governor/News/Press-Releases/2023/09-2023/Governor-Lamont-Directs-Flags-To-Return-to-Full-Staff-Saturday-Evening'"
      ]
     },
     "execution_count": 49,
     "metadata": {},
     "output_type": "execute_result"
    },
    {
     "data": {
      "text/plain": [
       "'success: content added from https://portal.ct.gov//Office-of-the-Governor/News/Press-Releases/2023/09-2023/Governor-Lamont-and-Comptroller-Scanlon-Announce-Connecticut-Prescription-Drug-Discount-Card-Program'"
      ]
     },
     "execution_count": 49,
     "metadata": {},
     "output_type": "execute_result"
    },
    {
     "data": {
      "text/plain": [
       "'success: content added from https://portal.ct.gov//Office-of-the-Governor/News/Press-Releases/2023/09-2023/Governor-Lamont-Forms-Kids-Cabinet'"
      ]
     },
     "execution_count": 49,
     "metadata": {},
     "output_type": "execute_result"
    },
    {
     "data": {
      "text/plain": [
       "'success: content added from https://portal.ct.gov//Office-of-the-Governor/News/Press-Releases/2023/09-2023/Governor-Lamont-Directs-Flags-To-Remain-Lowered-Monday-in-Observance-of-9-11-Anniversary'"
      ]
     },
     "execution_count": 49,
     "metadata": {},
     "output_type": "execute_result"
    },
    {
     "data": {
      "text/plain": [
       "'success: content added from https://portal.ct.gov//Office-of-the-Governor/News/Press-Releases/2023/09-2023/Governor-Lamont-Directs-Flags-To-Half-Staff-in-Honor-of-Hartford-Police-Officer-Bobby-Garten'"
      ]
     },
     "execution_count": 49,
     "metadata": {},
     "output_type": "execute_result"
    },
    {
     "data": {
      "text/plain": [
       "'success: content added from https://portal.ct.gov//Office-of-the-Governor/News/Press-Releases/2023/09-2023/Governor-Lamont-Announces-Connecticut-Receives-Agriculture-Disaster-Declaration-Due-To-Heavy-Rains'"
      ]
     },
     "execution_count": 49,
     "metadata": {},
     "output_type": "execute_result"
    },
    {
     "data": {
      "text/plain": [
       "'success: content added from https://portal.ct.gov//Office-of-the-Governor/News/Press-Releases/2023/09-2023/Governor-Lamont-Extends-Extreme-Hot-Weather-Protocol-Through-Friday-Evening'"
      ]
     },
     "execution_count": 49,
     "metadata": {},
     "output_type": "execute_result"
    },
    {
     "data": {
      "text/plain": [
       "'success: content added from https://portal.ct.gov//Office-of-the-Governor/News/Press-Releases/2023/09-2023/Governor-Lamont-and-Connecticut-Emergency-Management-Officials-Kick-off-National-Preparedness-Month'"
      ]
     },
     "execution_count": 49,
     "metadata": {},
     "output_type": "execute_result"
    },
    {
     "data": {
      "text/plain": [
       "'success: content added from https://portal.ct.gov//Office-of-the-Governor/News/Press-Releases/2023/09-2023/Governor-Lamont-Activates-Extreme-Hot-Weather-Protocol-From-Tuesday-to-Thursday'"
      ]
     },
     "execution_count": 49,
     "metadata": {},
     "output_type": "execute_result"
    },
    {
     "data": {
      "text/plain": [
       "'success: content added from https://portal.ct.gov//Office-of-the-Governor/News/Press-Releases/2023/09-2023/Governor-Lamont-Announces-Special-SNAP-Benefits-To-Be-Distributed-on-Monday'"
      ]
     },
     "execution_count": 49,
     "metadata": {},
     "output_type": "execute_result"
    },
    {
     "data": {
      "text/plain": [
       "'success: content added from https://portal.ct.gov//Office-of-the-Governor/News/Press-Releases/2023/09-2023/Governor-Lamont-Nominates-Nora-Dannehy-to-the-Connecticut-Supreme-Court'"
      ]
     },
     "execution_count": 49,
     "metadata": {},
     "output_type": "execute_result"
    },
    {
     "data": {
      "text/plain": [
       "'success: content added from https://portal.ct.gov//Office-of-the-Governor/News/Press-Releases/2023/08-2023/Governor-Lamont-Announces-Application-Period-for-2023-2024-Winter-Season-of-the-CEAP-Begins-Sept-1'"
      ]
     },
     "execution_count": 49,
     "metadata": {},
     "output_type": "execute_result"
    },
    {
     "data": {
      "text/plain": [
       "'success: content added from https://portal.ct.gov//Office-of-the-Governor/News/Press-Releases/2023/08-2023/Governor-Lamont-and-Lt-Governor-Bysiewicz-Invite-Public-To-Attend-Annual-9-11-Memorial-Ceremony'"
      ]
     },
     "execution_count": 49,
     "metadata": {},
     "output_type": "execute_result"
    },
    {
     "data": {
      "text/plain": [
       "'success: content added from https://portal.ct.gov//Office-of-the-Governor/News/Press-Releases/2023/08-2023/Governor-Lamont-Announces-New-State-Law-Improving-Access-to-Workers-Comp-Benefits-for-Firefighters'"
      ]
     },
     "execution_count": 49,
     "metadata": {},
     "output_type": "execute_result"
    },
    {
     "data": {
      "text/plain": [
       "'success: content added from https://portal.ct.gov//Office-of-the-Governor/News/Press-Releases/2023/08-2023/Governor-Lamont-and-Comptroller-Scanlon-Applaud-Announcement-on-First-Drugs-Selected'"
      ]
     },
     "execution_count": 49,
     "metadata": {},
     "output_type": "execute_result"
    },
    {
     "data": {
      "text/plain": [
       "'success: content added from https://portal.ct.gov//Office-of-the-Governor/News/Press-Releases/2023/08-2023/Governor-Lamont-Announces-Conference-in-October-for-Local-Musicians'"
      ]
     },
     "execution_count": 49,
     "metadata": {},
     "output_type": "execute_result"
    },
    {
     "data": {
      "text/plain": [
       "'success: content added from https://portal.ct.gov//Office-of-the-Governor/News/Press-Releases/2023/08-2023/Governor-Lamont-and-Commissioner-Russell-Tucker-Announce-Recipients-of-Summer-Mental-Health-Grants'"
      ]
     },
     "execution_count": 49,
     "metadata": {},
     "output_type": "execute_result"
    },
    {
     "data": {
      "text/plain": [
       "'success: content added from https://portal.ct.gov//Office-of-the-Governor/News/Press-Releases/2023/08-2023/Governor-Lamont-Announces-2023-Sales-Tax-Free-Week-Runs-From-August-20-to-26'"
      ]
     },
     "execution_count": 49,
     "metadata": {},
     "output_type": "execute_result"
    },
    {
     "data": {
      "text/plain": [
       "'success: content added from https://portal.ct.gov//Office-of-the-Governor/News/Press-Releases/2023/08-2023/Governor-Lamont-Announces-Appointment-of-Michael-Walsh-as-Chair-of-State-Contracting-Standards-Board'"
      ]
     },
     "execution_count": 49,
     "metadata": {},
     "output_type": "execute_result"
    },
    {
     "data": {
      "text/plain": [
       "'success: content added from https://portal.ct.gov//Office-of-the-Governor/News/Press-Releases/2023/08-2023/Governor-Lamont-Announces-State-Grants-for-Eight-Projects-That-Boost-Community-Vibrancy'"
      ]
     },
     "execution_count": 49,
     "metadata": {},
     "output_type": "execute_result"
    },
    {
     "data": {
      "text/plain": [
       "'success: content added from https://portal.ct.gov//Office-of-the-Governor/News/Press-Releases/2023/08-2023/Governor-Lamont-Announces-Purchase-of-60-New-Rail-Cars-To-Modernize-Commuter-Rail-Lines'"
      ]
     },
     "execution_count": 49,
     "metadata": {},
     "output_type": "execute_result"
    },
    {
     "data": {
      "text/plain": [
       "'success: content added from https://portal.ct.gov//Office-of-the-Governor/News/Press-Releases/2023/08-2023/Governor-Lamont-Signs-Legislation-Banning-the-Harvesting-of-Horseshoe-Crabs'"
      ]
     },
     "execution_count": 49,
     "metadata": {},
     "output_type": "execute_result"
    },
    {
     "data": {
      "text/plain": [
       "'success: content added from https://portal.ct.gov//Office-of-the-Governor/News/Press-Releases/2023/08-2023/Governor-Lamont-Announces-Connecticut-Interstate-Fire-Crew-Deploys-To-Fight-Wildfires-in-Montana'"
      ]
     },
     "execution_count": 49,
     "metadata": {},
     "output_type": "execute_result"
    },
    {
     "data": {
      "text/plain": [
       "'success: content added from https://portal.ct.gov//Office-of-the-Governor/News/Press-Releases/2023/08-2023/Governor-Lamont-and-Commissioner-Russell-Tucker-Announce-Expansion-of-Free-School-Meals-Program'"
      ]
     },
     "execution_count": 49,
     "metadata": {},
     "output_type": "execute_result"
    },
    {
     "data": {
      "text/plain": [
       "'success: content added from https://portal.ct.gov//Office-of-the-Governor/News/Press-Releases/2023/08-2023/Governor-Lamont-and-Commissioner-Russell-Tucker-Announce-School-Mental-Health-Specialist-Grants'"
      ]
     },
     "execution_count": 49,
     "metadata": {},
     "output_type": "execute_result"
    },
    {
     "data": {
      "text/plain": [
       "'success: content added from https://portal.ct.gov//Office-of-the-Governor/News/Press-Releases/2023/08-2023/Governor-Lamont-and-Connecticut-Officials-Recognize-Black-Owned-Business-Month'"
      ]
     },
     "execution_count": 49,
     "metadata": {},
     "output_type": "execute_result"
    },
    {
     "data": {
      "text/plain": [
       "'success: content added from https://portal.ct.gov//Office-of-the-Governor/News/Press-Releases/2023/08-2023/Governor-Lamont-Signs-Legislation-Protecting-Seniors-From-Financial-Exploitation'"
      ]
     },
     "execution_count": 49,
     "metadata": {},
     "output_type": "execute_result"
    },
    {
     "data": {
      "text/plain": [
       "'success: content added from https://portal.ct.gov//Office-of-the-Governor/News/Press-Releases/2023/08-2023/Governor-Lamont-and-Commissioner-Dorantes-Announce-Opening-of-Four-Childrens-Urgent-Crisis-Centers'"
      ]
     },
     "execution_count": 49,
     "metadata": {},
     "output_type": "execute_result"
    },
    {
     "data": {
      "text/plain": [
       "'success: content added from https://portal.ct.gov//Office-of-the-Governor/News/Press-Releases/2023/07-2023/Governor-Lamont-and-Commissioner-Daum-Highlight-Small-Business-Boost-Fund'"
      ]
     },
     "execution_count": 49,
     "metadata": {},
     "output_type": "execute_result"
    },
    {
     "data": {
      "text/plain": [
       "'success: content added from https://portal.ct.gov//Office-of-the-Governor/News/Press-Releases/2023/07-2023/Governor-Lamont-Announces-Connecticut-Adopting-Clean-Air-Car-and-Truck-Emission-Standards'"
      ]
     },
     "execution_count": 49,
     "metadata": {},
     "output_type": "execute_result"
    },
    {
     "data": {
      "text/plain": [
       "'success: content added from https://portal.ct.gov//Office-of-the-Governor/News/Press-Releases/2023/07-2023/Governor-Lamont-Activates-Extreme-Hot-Weather-Protocol-Beginning-Wednesday-Morning'"
      ]
     },
     "execution_count": 49,
     "metadata": {},
     "output_type": "execute_result"
    },
    {
     "data": {
      "text/plain": [
       "'success: content added from https://portal.ct.gov//Office-of-the-Governor/News/Press-Releases/2023/07-2023/Governor-Lamont-Encourages-Industry-Advocates-To-Enroll-in-Manufacturing-Ambassador-Program'"
      ]
     },
     "execution_count": 49,
     "metadata": {},
     "output_type": "execute_result"
    },
    {
     "data": {
      "text/plain": [
       "'success: content added from https://portal.ct.gov//Office-of-the-Governor/News/Press-Releases/2023/07-2023/Governor-Lamont-Commissions-Independent-Review-of-Falsified-Reporting-of-Traffic-Records'"
      ]
     },
     "execution_count": 49,
     "metadata": {},
     "output_type": "execute_result"
    },
    {
     "data": {
      "text/plain": [
       "'success: content added from https://portal.ct.gov//Office-of-the-Governor/News/Press-Releases/2023/07-2023/Governor-Lamont-Signs-Legislation-Licensing-Free-Standing-Birth-Centers'"
      ]
     },
     "execution_count": 49,
     "metadata": {},
     "output_type": "execute_result"
    },
    {
     "data": {
      "text/plain": [
       "'success: content added from https://portal.ct.gov//Office-of-the-Governor/News/Press-Releases/2023/07-2023/Governor-Lamont-Submits-Request-for-Federal-Agriculture-Disaster-Declaration-Due-To-Severe-Flooding'"
      ]
     },
     "execution_count": 49,
     "metadata": {},
     "output_type": "execute_result"
    },
    {
     "data": {
      "text/plain": [
       "'success: content added from https://portal.ct.gov//Office-of-the-Governor/News/Press-Releases/2023/07-2023/Governor-Lamont-Signs-Legislation-Requiring-Completion-of-Personal-Financial-Management-Course'"
      ]
     },
     "execution_count": 49,
     "metadata": {},
     "output_type": "execute_result"
    },
    {
     "data": {
      "text/plain": [
       "'success: content added from https://portal.ct.gov//Office-of-the-Governor/News/Press-Releases/2023/07-2023/Governor-Lamont-Signs-Series-of-New-Laws-Protecting-Reproductive-Rights-in-Connecticut'"
      ]
     },
     "execution_count": 49,
     "metadata": {},
     "output_type": "execute_result"
    },
    {
     "data": {
      "text/plain": [
       "'success: content added from https://portal.ct.gov//Office-of-the-Governor/News/Press-Releases/2023/07-2023/Governor-Lamont-Directs-Flags-To-Return-to-Full-Staff-Monday-Evening'"
      ]
     },
     "execution_count": 49,
     "metadata": {},
     "output_type": "execute_result"
    },
    {
     "data": {
      "text/plain": [
       "'success: content added from https://portal.ct.gov//Office-of-the-Governor/News/Press-Releases/2023/07-2023/Governor-Lamont-Announces-Connecticut-Receives-Federal-Agriculture-Disaster-Declaration'"
      ]
     },
     "execution_count": 49,
     "metadata": {},
     "output_type": "execute_result"
    },
    {
     "data": {
      "text/plain": [
       "'success: content added from https://portal.ct.gov//Office-of-the-Governor/News/Press-Releases/2023/07-2023/Governor-Lamont-Announces-Another-Deployment-of-Connecticut-Firefighters-To-Fight-Canadian-Wildfires'"
      ]
     },
     "execution_count": 49,
     "metadata": {},
     "output_type": "execute_result"
    },
    {
     "data": {
      "text/plain": [
       "'success: content added from https://portal.ct.gov//Office-of-the-Governor/News/Press-Releases/2023/07-2023/Governor-Lamont-Activates-Extreme-Hot-Weather-Protocol-Wednesday'"
      ]
     },
     "execution_count": 49,
     "metadata": {},
     "output_type": "execute_result"
    },
    {
     "data": {
      "text/plain": [
       "'success: content added from https://portal.ct.gov//Office-of-the-Governor/News/Press-Releases/2023/07-2023/Governor-Lamont-Announces-Launch-of-Recruitment-Initiative-for-the-Connecticut-National-Guard'"
      ]
     },
     "execution_count": 49,
     "metadata": {},
     "output_type": "execute_result"
    },
    {
     "data": {
      "text/plain": [
       "'success: content added from https://portal.ct.gov//Office-of-the-Governor/News/Press-Releases/2023/06-2023/Governor-Lamont-Announces-Tax-Cut-on-Beer-Takes-Effect-July-1'"
      ]
     },
     "execution_count": 49,
     "metadata": {},
     "output_type": "execute_result"
    },
    {
     "data": {
      "text/plain": [
       "'success: content added from https://portal.ct.gov//Office-of-the-Governor/News/Press-Releases/2023/06-2023/Governor-Lamont-Statement-on-Supreme-Court-Decision-on-Student-Loan-Forgiveness'"
      ]
     },
     "execution_count": 49,
     "metadata": {},
     "output_type": "execute_result"
    },
    {
     "data": {
      "text/plain": [
       "'success: content added from https://portal.ct.gov//Office-of-the-Governor/News/Press-Releases/2023/06-2023/Governor-Lamont-Announces-Federal-Grant-for-New-Bus-Rapid-Transit-System-in-New-Haven'"
      ]
     },
     "execution_count": 49,
     "metadata": {},
     "output_type": "execute_result"
    },
    {
     "data": {
      "text/plain": [
       "'success: content added from https://portal.ct.gov//Office-of-the-Governor/News/Press-Releases/2023/06-2023/Governor-Lamont-Statement-on-US-Supreme-Court-Decision-on-Admissions'"
      ]
     },
     "execution_count": 49,
     "metadata": {},
     "output_type": "execute_result"
    },
    {
     "data": {
      "text/plain": [
       "'success: content added from https://portal.ct.gov//Office-of-the-Governor/News/Press-Releases/2023/06-2023/Governor-Lamont-Announces-Return-of-Program-Allowing-Children-To-Receive-Free-Admission'"
      ]
     },
     "execution_count": 49,
     "metadata": {},
     "output_type": "execute_result"
    },
    {
     "data": {
      "text/plain": [
       "'success: content added from https://portal.ct.gov//Office-of-the-Governor/News/Press-Releases/2023/06-2023/Governor-Lamont-and-Treasurer-Russell-Build-Awareness-for-Connecticut-Baby-Bonds'"
      ]
     },
     "execution_count": 49,
     "metadata": {},
     "output_type": "execute_result"
    },
    {
     "data": {
      "text/plain": [
       "'success: content added from https://portal.ct.gov//Office-of-the-Governor/News/Press-Releases/2023/06-2023/Governor-Lamont-Directs-Flags-To-Half-Staff-in-Honor-of-Former-Governor-Lowell-Weicker'"
      ]
     },
     "execution_count": 49,
     "metadata": {},
     "output_type": "execute_result"
    },
    {
     "data": {
      "text/plain": [
       "'success: content added from https://portal.ct.gov//Office-of-the-Governor/News/Press-Releases/2023/06-2023/Governor-Lamont-Announces-Release-Volkswagen-Settlement-Funds'"
      ]
     },
     "execution_count": 49,
     "metadata": {},
     "output_type": "execute_result"
    },
    {
     "data": {
      "text/plain": [
       "'success: content added from https://portal.ct.gov//Office-of-the-Governor/News/Press-Releases/2023/06-2023/Governor-Lamont-Signs-Legislation-on-Health-Care-Affordability'"
      ]
     },
     "execution_count": 49,
     "metadata": {},
     "output_type": "execute_result"
    },
    {
     "data": {
      "text/plain": [
       "'success: content added from https://portal.ct.gov//Office-of-the-Governor/News/Press-Releases/2023/06-2023/Governor-Lamont-and-Commissioner-Dykes-on-President-Biden-Announcement-To-Improve-Broadband'"
      ]
     },
     "execution_count": 49,
     "metadata": {},
     "output_type": "execute_result"
    },
    {
     "data": {
      "text/plain": [
       "'success: content added from https://portal.ct.gov//Office-of-the-Governor/News/Press-Releases/2023/06-2023/Governor-Lamont-Announces-Connecticut-Receives-Federal-Grant-to-Purchase-20-Battery-Electric-Buses'"
      ]
     },
     "execution_count": 49,
     "metadata": {},
     "output_type": "execute_result"
    },
    {
     "data": {
      "text/plain": [
       "'success: content added from https://portal.ct.gov//Office-of-the-Governor/News/Press-Releases/2023/06-2023/Governor-Lamont-Commits-State-Funding-To-Address-Flooding-Mitigation-in-North-Hartford'"
      ]
     },
     "execution_count": 49,
     "metadata": {},
     "output_type": "execute_result"
    },
    {
     "data": {
      "text/plain": [
       "'success: content added from https://portal.ct.gov//Office-of-the-Governor/News/Press-Releases/2023/06-2023/Lt-Governor-Bysiewicz-Signs-Legislation-Banning-Marriage-Licenses-for-Minors'"
      ]
     },
     "execution_count": 49,
     "metadata": {},
     "output_type": "execute_result"
    },
    {
     "data": {
      "text/plain": [
       "'success: content added from https://portal.ct.gov//Office-of-the-Governor/News/Press-Releases/2023/06-2023/Governor-Lamont-Approves-State-Funding-to-Remediate-22-Blighted-Properties'"
      ]
     },
     "execution_count": 49,
     "metadata": {},
     "output_type": "execute_result"
    },
    {
     "data": {
      "text/plain": [
       "'success: content added from https://portal.ct.gov//Office-of-the-Governor/News/Press-Releases/2023/06-2023/Governor-Lamont-Announces-Grant-for-Connecticut-Fire-Academy'"
      ]
     },
     "execution_count": 49,
     "metadata": {},
     "output_type": "execute_result"
    },
    {
     "data": {
      "text/plain": [
       "'success: content added from https://portal.ct.gov//Office-of-the-Governor/News/Press-Releases/2023/06-2023/Governor-Lamont-Announces-State-Grants-for-Upgrades-at-34-Cultural-and-Historic-Sites'"
      ]
     },
     "execution_count": 49,
     "metadata": {},
     "output_type": "execute_result"
    },
    {
     "data": {
      "text/plain": [
       "'success: content added from https://portal.ct.gov//Office-of-the-Governor/News/Press-Releases/2023/06-2023/Governor-Lamont-Statement-on-Labor-Agreements-Reached-Between-SEIU-1199-and-Private-Nonprofits'"
      ]
     },
     "execution_count": 49,
     "metadata": {},
     "output_type": "execute_result"
    },
    {
     "data": {
      "text/plain": [
       "'success: content added from https://portal.ct.gov//Office-of-the-Governor/News/Press-Releases/2023/06-2023/Governor-Lamont-Launches-a-Modernized-2023-Summer-Reading-Challenge'"
      ]
     },
     "execution_count": 49,
     "metadata": {},
     "output_type": "execute_result"
    },
    {
     "data": {
      "text/plain": [
       "'success: content added from https://portal.ct.gov//Office-of-the-Governor/News/Press-Releases/2023/06-2023/Governor-Lamont-Announces-Connecticut-Will-Observe-Juneteenth-as-a-Legal-State-Holiday'"
      ]
     },
     "execution_count": 49,
     "metadata": {},
     "output_type": "execute_result"
    },
    {
     "data": {
      "text/plain": [
       "'success: content added from https://portal.ct.gov//Office-of-the-Governor/News/Press-Releases/2023/06-2023/Governor-Lamont-Announces-Connecticut-Sending-Delegation-on-Recruitment-Mission-to-Paris-Air-Show'"
      ]
     },
     "execution_count": 49,
     "metadata": {},
     "output_type": "execute_result"
    },
    {
     "data": {
      "text/plain": [
       "'success: content added from https://portal.ct.gov//Office-of-the-Governor/News/Press-Releases/2023/06-2023/Governor-Lamont-Announces-State-Funding-To-Support-21-Climate-Resilience'"
      ]
     },
     "execution_count": 49,
     "metadata": {},
     "output_type": "execute_result"
    },
    {
     "data": {
      "text/plain": [
       "'success: content added from https://portal.ct.gov//Office-of-the-Governor/News/Press-Releases/2023/06-2023/Governor-Lamont-Signs-Legislation-Allowing-Pharmacists-To-Prescribe-Birth-Control'"
      ]
     },
     "execution_count": 49,
     "metadata": {},
     "output_type": "execute_result"
    },
    {
     "data": {
      "text/plain": [
       "'success: content added from https://portal.ct.gov//Office-of-the-Governor/News/Press-Releases/2023/06-2023/Governor-Lamont-Signs-Legislation-Expanding-the-Use-of-Wrong-Way-Driving-Alert-Systems'"
      ]
     },
     "execution_count": 49,
     "metadata": {},
     "output_type": "execute_result"
    },
    {
     "data": {
      "text/plain": [
       "'success: content added from https://portal.ct.gov//Office-of-the-Governor/News/Press-Releases/2023/06-2023/List-of-Tax-Cuts-Approved-by-Governor-Lamont-Since-Taking-Office'"
      ]
     },
     "execution_count": 49,
     "metadata": {},
     "output_type": "execute_result"
    },
    {
     "data": {
      "text/plain": [
       "'success: content added from https://portal.ct.gov//Office-of-the-Governor/News/Press-Releases/2023/06-2023/Governor-Lamont-Signs-Largest-Income-Tax-Cut-in-Connecticut-History'"
      ]
     },
     "execution_count": 49,
     "metadata": {},
     "output_type": "execute_result"
    },
    {
     "data": {
      "text/plain": [
       "'success: content added from https://portal.ct.gov//Office-of-the-Governor/News/Press-Releases/2023/06-2023/Governor-Lamont-Statement-on-Hate-Filled-Graffiti-Found-in-Hartford'"
      ]
     },
     "execution_count": 49,
     "metadata": {},
     "output_type": "execute_result"
    },
    {
     "data": {
      "text/plain": [
       "'success: content added from https://portal.ct.gov//Office-of-the-Governor/News/Press-Releases/2023/06-2023/Governor-Lamont-Signs-Legislation-Establishing-Early-Voting'"
      ]
     },
     "execution_count": 49,
     "metadata": {},
     "output_type": "execute_result"
    },
    {
     "data": {
      "text/plain": [
       "'success: content added from https://portal.ct.gov//Office-of-the-Governor/News/Press-Releases/2023/06-2023/Governor-Lamont-Commends-Lawmakers-for-Approving-State-Budget-Containing-Historic-Level-of-Tax-Cuts'"
      ]
     },
     "execution_count": 49,
     "metadata": {},
     "output_type": "execute_result"
    },
    {
     "data": {
      "text/plain": [
       "'success: content added from https://portal.ct.gov//Office-of-the-Governor/News/Press-Releases/2023/06-2023/Governor-Lamont-Signs-Legislation-Strengthening-Gun-Violence-Prevention-Laws'"
      ]
     },
     "execution_count": 49,
     "metadata": {},
     "output_type": "execute_result"
    },
    {
     "data": {
      "text/plain": [
       "'success: content added from https://portal.ct.gov//Office-of-the-Governor/News/Press-Releases/2023/06-2023/Governor-Lamont-Reaches-Budget-Agreement-With-Legislative-Leaders'"
      ]
     },
     "execution_count": 49,
     "metadata": {},
     "output_type": "execute_result"
    },
    {
     "data": {
      "text/plain": [
       "'success: content added from https://portal.ct.gov//Office-of-the-Governor/News/Press-Releases/2023/06-2023/Governor-Lamont-and-Connecticut-Hospital-Association-Announce-Agreement-on-Health-Related-Policies'"
      ]
     },
     "execution_count": 49,
     "metadata": {},
     "output_type": "execute_result"
    },
    {
     "data": {
      "text/plain": [
       "'success: content added from https://portal.ct.gov//Office-of-the-Governor/News/Press-Releases/2023/06-2023/Governor-Lamont-Announces-Rental-Assistance-Available-for-Participants-of-CareerConneCT'"
      ]
     },
     "execution_count": 49,
     "metadata": {},
     "output_type": "execute_result"
    },
    {
     "data": {
      "text/plain": [
       "'success: content added from https://portal.ct.gov//Office-of-the-Governor/News/Press-Releases/2023/06-2023/Governor-Lamont-Applauds-Senate-for-Giving-Final-Approval-to-Legislation-on-Gun-Violence-Prevention'"
      ]
     },
     "execution_count": 49,
     "metadata": {},
     "output_type": "execute_result"
    },
    {
     "data": {
      "text/plain": [
       "'success: content added from https://portal.ct.gov//Office-of-the-Governor/News/Press-Releases/2023/06-2023/Governor-Lamont-Commemorates-30th-Anniversary-of-Assault-Weapons-Ban'"
      ]
     },
     "execution_count": 49,
     "metadata": {},
     "output_type": "execute_result"
    },
    {
     "data": {
      "text/plain": [
       "'success: content added from https://portal.ct.gov//Office-of-the-Governor/News/Press-Releases/2023/05-2023/Governor-Lamont-Plans-to-Sign-Legislation-Implementing-Early-Voting'"
      ]
     },
     "execution_count": 49,
     "metadata": {},
     "output_type": "execute_result"
    },
    {
     "data": {
      "text/plain": [
       "'success: content added from https://portal.ct.gov//Office-of-the-Governor/News/Press-Releases/2023/05-2023/Governor-Lamont-Announces-70-Million-Distributed-for-Bonus-Payments-to-Child-Care-Workers'"
      ]
     },
     "execution_count": 49,
     "metadata": {},
     "output_type": "execute_result"
    },
    {
     "data": {
      "text/plain": [
       "'success: content added from https://portal.ct.gov//Office-of-the-Governor/News/Press-Releases/2023/05-2023/Governor-Lamont-Announces-10-Million-To-Support-Upgrades-for-Senior-Centers'"
      ]
     },
     "execution_count": 49,
     "metadata": {},
     "output_type": "execute_result"
    },
    {
     "data": {
      "text/plain": [
       "'success: content added from https://portal.ct.gov//Office-of-the-Governor/News/Press-Releases/2023/05-2023/Governor-Lamont-Requests-Federal-Agriculture-Disaster-Declaration'"
      ]
     },
     "execution_count": 49,
     "metadata": {},
     "output_type": "execute_result"
    },
    {
     "data": {
      "text/plain": [
       "'success: content added from https://portal.ct.gov//Office-of-the-Governor/News/Press-Releases/2023/05-2023/Governor-Lamont-Announces-Summer-Season-Kicks-off-at-Connecticut-State-Parks'"
      ]
     },
     "execution_count": 49,
     "metadata": {},
     "output_type": "execute_result"
    },
    {
     "data": {
      "text/plain": [
       "'success: content added from https://portal.ct.gov//Office-of-the-Governor/News/Press-Releases/2023/05-2023/Governor-Lamont-Announces-Connecticut-Tourism-Attracting-Record-Revenues'"
      ]
     },
     "execution_count": 49,
     "metadata": {},
     "output_type": "execute_result"
    },
    {
     "data": {
      "text/plain": [
       "'success: content added from https://portal.ct.gov//Office-of-the-Governor/News/Press-Releases/2023/05-2023/Governor-Lamont-Directs-Flags-To-Half-Staff-Monday-in-Observance-of-Memorial-Day'"
      ]
     },
     "execution_count": 49,
     "metadata": {},
     "output_type": "execute_result"
    },
    {
     "data": {
      "text/plain": [
       "'success: content added from https://portal.ct.gov//Office-of-the-Governor/News/Press-Releases/2023/05-2023/Governor-Lamont-Praises-House-Approval-of-Comprehensive-Legislation-Addressing-Gun-Violence'"
      ]
     },
     "execution_count": 49,
     "metadata": {},
     "output_type": "execute_result"
    },
    {
     "data": {
      "text/plain": [
       "'success: content added from https://portal.ct.gov//Office-of-the-Governor/News/Press-Releases/2023/05-2023/Governor-Lamont-Reminds-Residents-That-Minimum-Wage-Is-Scheduled-To-Increase-on-June-1'"
      ]
     },
     "execution_count": 49,
     "metadata": {},
     "output_type": "execute_result"
    },
    {
     "data": {
      "text/plain": [
       "'success: content added from https://portal.ct.gov//Office-of-the-Governor/News/Press-Releases/2023/05-2023/Governor-Lamont-Highlights-Connecticut-Youth-Employment-Program'"
      ]
     },
     "execution_count": 49,
     "metadata": {},
     "output_type": "execute_result"
    },
    {
     "data": {
      "text/plain": [
       "'success: content added from https://portal.ct.gov//Office-of-the-Governor/News/Press-Releases/2023/05-2023/Governor-Lamont-Announces-Recipients-of-2023-and-2024-Summer-Enrichment-Grants'"
      ]
     },
     "execution_count": 49,
     "metadata": {},
     "output_type": "execute_result"
    },
    {
     "data": {
      "text/plain": [
       "'success: content added from https://portal.ct.gov//Office-of-the-Governor/News/Press-Releases/2023/05-2023/Governor-Lamont-Statement-on-Connecticut-Supreme-Court-Nomination'"
      ]
     },
     "execution_count": 49,
     "metadata": {},
     "output_type": "execute_result"
    },
    {
     "data": {
      "text/plain": [
       "'success: content added from https://portal.ct.gov//Office-of-the-Governor/News/Press-Releases/2023/05-2023/Governor-Lamont-and-Treasurer-Russell-Announce-Connecticut-Receives-Credit-Rating-Upgrade-From-Kroll'"
      ]
     },
     "execution_count": 49,
     "metadata": {},
     "output_type": "execute_result"
    },
    {
     "data": {
      "text/plain": [
       "'success: content added from https://portal.ct.gov//Office-of-the-Governor/News/Press-Releases/2023/05-2023/Governor-Lamont-Statement-on-the-Retirement-of-ECSU-President-Dr-Elsa-Nunez'"
      ]
     },
     "execution_count": 49,
     "metadata": {},
     "output_type": "execute_result"
    },
    {
     "data": {
      "text/plain": [
       "'success: content added from https://portal.ct.gov//Office-of-the-Governor/News/Press-Releases/2023/05-2023/Governor-Lamont-Treasurer-Russell-Legislative-Leaders-Announce-Legislation-Funding-CT-Baby-Bonds'"
      ]
     },
     "execution_count": 49,
     "metadata": {},
     "output_type": "execute_result"
    },
    {
     "data": {
      "text/plain": [
       "'success: content added from https://portal.ct.gov//Office-of-the-Governor/News/Press-Releases/2023/05-2023/Governor-Lamont-Announces-Targeted-State-Investments-To-Increase-School-Staffing'"
      ]
     },
     "execution_count": 49,
     "metadata": {},
     "output_type": "execute_result"
    },
    {
     "data": {
      "text/plain": [
       "'success: content added from https://portal.ct.gov//Office-of-the-Governor/News/Press-Releases/2023/05-2023/Governor-Lamont-Announces-State-Grants-For-50-Recreational-Trails'"
      ]
     },
     "execution_count": 49,
     "metadata": {},
     "output_type": "execute_result"
    },
    {
     "data": {
      "text/plain": [
       "'success: content added from https://portal.ct.gov//Office-of-the-Governor/News/Press-Releases/2023/05-2023/Governor-Lamont-Directs-Flags-To-Half-Staff-Monday-in-Recognition-of-Peace-Officers-Memorial-Day'"
      ]
     },
     "execution_count": 49,
     "metadata": {},
     "output_type": "execute_result"
    },
    {
     "data": {
      "text/plain": [
       "'success: content added from https://portal.ct.gov//Office-of-the-Governor/News/Press-Releases/2023/05-2023/Governor-Lamont-Announces-Start-of-Construction-on-the-Walk-Bridge-Replacement-Project-in-Norwalk'"
      ]
     },
     "execution_count": 49,
     "metadata": {},
     "output_type": "execute_result"
    },
    {
     "data": {
      "text/plain": [
       "'success: content added from https://portal.ct.gov//Office-of-the-Governor/News/Press-Releases/2023/05-2023/Governor-Lamont-Coronavirus-Update-May-11'"
      ]
     },
     "execution_count": 49,
     "metadata": {},
     "output_type": "execute_result"
    },
    {
     "data": {
      "text/plain": [
       "'success: content added from https://portal.ct.gov//Office-of-the-Governor/News/Press-Releases/2023/05-2023/Governor-Lamont-Announces-State-Grants-To-Preserve-Open-Space'"
      ]
     },
     "execution_count": 49,
     "metadata": {},
     "output_type": "execute_result"
    },
    {
     "data": {
      "text/plain": [
       "'success: content added from https://portal.ct.gov//Office-of-the-Governor/News/Press-Releases/2023/05-2023/Governor-Lamont-Congratulates-Two-Connecticut-Students-Named-2023-US-Presidential-Scholars'"
      ]
     },
     "execution_count": 49,
     "metadata": {},
     "output_type": "execute_result"
    },
    {
     "data": {
      "text/plain": [
       "'success: content added from https://portal.ct.gov//Office-of-the-Governor/News/Press-Releases/2023/05-2023/Governor-Lamont-Announces-COVID-19-Public-Health-Emergency-Declaration-Will-End-on-May-11'"
      ]
     },
     "execution_count": 49,
     "metadata": {},
     "output_type": "execute_result"
    },
    {
     "data": {
      "text/plain": [
       "'success: content added from https://portal.ct.gov//Office-of-the-Governor/News/Press-Releases/2023/05-2023/Governor-Lamont-Nominates-Ronald-Welch-as-Commissioner-of-Veterans-Affairs'"
      ]
     },
     "execution_count": 49,
     "metadata": {},
     "output_type": "execute_result"
    },
    {
     "data": {
      "text/plain": [
       "'success: content added from https://portal.ct.gov//Office-of-the-Governor/News/Press-Releases/2023/05-2023/Governor-Lamont-Directs-Flags-To-Half-Staff-Sunday-for-National-Fallen-Firefighters-Memorial-Service'"
      ]
     },
     "execution_count": 49,
     "metadata": {},
     "output_type": "execute_result"
    },
    {
     "data": {
      "text/plain": [
       "'success: content added from https://portal.ct.gov//Office-of-the-Governor/News/Press-Releases/2023/05-2023/Governor-Lamont-Coronavirus-Update-May-4'"
      ]
     },
     "execution_count": 49,
     "metadata": {},
     "output_type": "execute_result"
    },
    {
     "data": {
      "text/plain": [
       "'success: content added from https://portal.ct.gov//Office-of-the-Governor/News/Press-Releases/2023/05-2023/Governor-Lamont-and-Secretary-Beckham-Statements-on-May-2023-Consensus-Revenue-Forecast'"
      ]
     },
     "execution_count": 49,
     "metadata": {},
     "output_type": "execute_result"
    },
    {
     "data": {
      "text/plain": [
       "'success: content added from https://portal.ct.gov//Office-of-the-Governor/News/Press-Releases/2023/04-2023/Governor-Lamont-Coronavirus-Update-April-27'"
      ]
     },
     "execution_count": 49,
     "metadata": {},
     "output_type": "execute_result"
    },
    {
     "data": {
      "text/plain": [
       "'success: content added from https://portal.ct.gov//Office-of-the-Governor/News/Press-Releases/2023/04-2023/Governor-Lamont-Announces-Milestone-Reached-at-DMV'"
      ]
     },
     "execution_count": 49,
     "metadata": {},
     "output_type": "execute_result"
    },
    {
     "data": {
      "text/plain": [
       "'success: content added from https://portal.ct.gov//Office-of-the-Governor/News/Press-Releases/2023/04-2023/Governor-Lamont-Applauds-PURA-Approval-of-Performance-Based-Regulation-System'"
      ]
     },
     "execution_count": 49,
     "metadata": {},
     "output_type": "execute_result"
    },
    {
     "data": {
      "text/plain": [
       "'success: content added from https://portal.ct.gov//Office-of-the-Governor/News/Press-Releases/2023/04-2023/Governor-Lamont-Announces-Start-of-Construction-on-I-95-Exit-74-Project-in-East-Lyme'"
      ]
     },
     "execution_count": 49,
     "metadata": {},
     "output_type": "execute_result"
    },
    {
     "data": {
      "text/plain": [
       "'success: content added from https://portal.ct.gov//Office-of-the-Governor/News/Press-Releases/2023/04-2023/Governor-Lamont-Nominates-Sandra-Slack-Glover-to-the-Connecticut-Supreme-Court'"
      ]
     },
     "execution_count": 49,
     "metadata": {},
     "output_type": "execute_result"
    },
    {
     "data": {
      "text/plain": [
       "'success: content added from https://portal.ct.gov//Office-of-the-Governor/News/Press-Releases/2023/04-2023/Governor-Lamont-and-Lt-Governor-Bysiewicz-on-Supreme-Court-Stay'"
      ]
     },
     "execution_count": 49,
     "metadata": {},
     "output_type": "execute_result"
    },
    {
     "data": {
      "text/plain": [
       "'success: content added from https://portal.ct.gov//Office-of-the-Governor/News/Press-Releases/2023/04-2023/Statement-From-Governor-Lamonts-Office-on-the-Board-of-Pardons-and-Paroles'"
      ]
     },
     "execution_count": 49,
     "metadata": {},
     "output_type": "execute_result"
    },
    {
     "data": {
      "text/plain": [
       "'success: content added from https://portal.ct.gov//Office-of-the-Governor/News/Press-Releases/2023/04-2023/Governor-Lamont-Coronavirus-Update-April-20'"
      ]
     },
     "execution_count": 49,
     "metadata": {},
     "output_type": "execute_result"
    },
    {
     "data": {
      "text/plain": [
       "'success: content added from https://portal.ct.gov//Office-of-the-Governor/News/Press-Releases/2023/04-2023/Governor-Lamont-Statement-on-the-Appropriations-Committee-Spending-Proposal'"
      ]
     },
     "execution_count": 49,
     "metadata": {},
     "output_type": "execute_result"
    },
    {
     "data": {
      "text/plain": [
       "'success: content added from https://portal.ct.gov//Office-of-the-Governor/News/Press-Releases/2023/04-2023/Governor-Lamont-Coronavirus-Update-April-13'"
      ]
     },
     "execution_count": 49,
     "metadata": {},
     "output_type": "execute_result"
    },
    {
     "data": {
      "text/plain": [
       "'success: content added from https://portal.ct.gov//Office-of-the-Governor/News/Press-Releases/2023/04-2023/Governor-Lamont-Appoints-Karen-Pascale-as-Director-of-Head-Start'"
      ]
     },
     "execution_count": 49,
     "metadata": {},
     "output_type": "execute_result"
    },
    {
     "data": {
      "text/plain": [
       "'success: content added from https://portal.ct.gov//Office-of-the-Governor/News/Press-Releases/2023/04-2023/Governor-Lamont-Announces-Project-Removing-Stop-Sign-From-Route-17-On-Ramp-to-Route-9'"
      ]
     },
     "execution_count": 49,
     "metadata": {},
     "output_type": "execute_result"
    },
    {
     "data": {
      "text/plain": [
       "'success: content added from https://portal.ct.gov//Office-of-the-Governor/News/Press-Releases/2023/04-2023/Governor-Lamont-Appoints-Jennifer-Medina-Zaccagnini-as-Chair'"
      ]
     },
     "execution_count": 49,
     "metadata": {},
     "output_type": "execute_result"
    },
    {
     "data": {
      "text/plain": [
       "'success: content added from https://portal.ct.gov//Office-of-the-Governor/News/Press-Releases/2023/04-2023/Governor-Lamont-Statement-on-Federal-Court-Decision-That-Further-Seeks-To-Restrict-Abortion'"
      ]
     },
     "execution_count": 49,
     "metadata": {},
     "output_type": "execute_result"
    },
    {
     "data": {
      "text/plain": [
       "'success: content added from https://portal.ct.gov//Office-of-the-Governor/News/Press-Releases/2023/04-2023/Seven-States-in-Northeast-Regional-Clean-Hydrogen-Hub-Announce-Submission-of-Proposal'"
      ]
     },
     "execution_count": 49,
     "metadata": {},
     "output_type": "execute_result"
    },
    {
     "data": {
      "text/plain": [
       "'success: content added from https://portal.ct.gov//Office-of-the-Governor/News/Press-Releases/2023/04-2023/Governor-Lamont-Statement-on-Sikorsky-FLRAA-Bid-Protest-Decision'"
      ]
     },
     "execution_count": 49,
     "metadata": {},
     "output_type": "execute_result"
    },
    {
     "data": {
      "text/plain": [
       "'success: content added from https://portal.ct.gov//Office-of-the-Governor/News/Press-Releases/2023/04-2023/Governor-Lamont-Coronavirus-Update-April-6'"
      ]
     },
     "execution_count": 49,
     "metadata": {},
     "output_type": "execute_result"
    },
    {
     "data": {
      "text/plain": [
       "'success: content added from https://portal.ct.gov//Office-of-the-Governor/News/Press-Releases/2023/04-2023/Governor-Lamont-and-Commissioner-Russell-Tucker-Announce-Investment-To-Grow-Dual-Credit-Offerings'"
      ]
     },
     "execution_count": 49,
     "metadata": {},
     "output_type": "execute_result"
    },
    {
     "data": {
      "text/plain": [
       "'success: content added from https://portal.ct.gov//Office-of-the-Governor/News/Press-Releases/2023/04-2023/Governor-Lamont-Senate-President-Looney-Speaker-Ritter-Announce-99-Million-in-State-Grants'"
      ]
     },
     "execution_count": 49,
     "metadata": {},
     "output_type": "execute_result"
    },
    {
     "data": {
      "text/plain": [
       "'success: content added from https://portal.ct.gov//Office-of-the-Governor/News/Press-Releases/2023/04-2023/Governor-Lamont-Releases-56-Million-in-Grants-to-Public-Schools-for-Air-Filtration-System-Upgrades'"
      ]
     },
     "execution_count": 49,
     "metadata": {},
     "output_type": "execute_result"
    },
    {
     "data": {
      "text/plain": [
       "'success: content added from https://portal.ct.gov//Office-of-the-Governor/News/Press-Releases/2023/04-2023/Governor-Lamont-Announces-Victory-Parade-and-Rally-Honoring-UConn'"
      ]
     },
     "execution_count": 49,
     "metadata": {},
     "output_type": "execute_result"
    },
    {
     "data": {
      "text/plain": [
       "'success: content added from https://portal.ct.gov//Office-of-the-Governor/News/Press-Releases/2023/04-2023/Lamont-Administration-Officials-Meet-With-Secretary-Janet-Yellen'"
      ]
     },
     "execution_count": 49,
     "metadata": {},
     "output_type": "execute_result"
    },
    {
     "data": {
      "text/plain": [
       "'success: content added from https://portal.ct.gov//Office-of-the-Governor/News/Press-Releases/2023/04-2023/Governor-Lamont-Announces-Funding-To-Support-Housing-Partners'"
      ]
     },
     "execution_count": 49,
     "metadata": {},
     "output_type": "execute_result"
    },
    {
     "data": {
      "text/plain": [
       "'success: content added from https://portal.ct.gov//Office-of-the-Governor/News/Press-Releases/2023/04-2023/Governor-Lamont-and-Governor-Newsom-Place-Friendly-Wager'"
      ]
     },
     "execution_count": 49,
     "metadata": {},
     "output_type": "execute_result"
    },
    {
     "data": {
      "text/plain": [
       "'success: content added from https://portal.ct.gov//Office-of-the-Governor/News/Press-Releases/2023/04-2023/Governor-Lamont-Announces-Closure-of-the-Willard-Correctional-Institution'"
      ]
     },
     "execution_count": 49,
     "metadata": {},
     "output_type": "execute_result"
    },
    {
     "data": {
      "text/plain": [
       "'success: content added from https://portal.ct.gov//Office-of-the-Governor/News/Press-Releases/2023/03-2023/Governor-Lamont-Announces-Appointments-to-the-Public-Defender-Services-Commission'"
      ]
     },
     "execution_count": 49,
     "metadata": {},
     "output_type": "execute_result"
    },
    {
     "data": {
      "text/plain": [
       "'success: content added from https://portal.ct.gov//Office-of-the-Governor/News/Press-Releases/2023/03-2023/Governor-Lamont-Proclaims-Husky-Weekend'"
      ]
     },
     "execution_count": 49,
     "metadata": {},
     "output_type": "execute_result"
    },
    {
     "data": {
      "text/plain": [
       "'success: content added from https://portal.ct.gov//Office-of-the-Governor/News/Press-Releases/2023/03-2023/Governor-Lamont-Coronavirus-Update-March-30'"
      ]
     },
     "execution_count": 49,
     "metadata": {},
     "output_type": "execute_result"
    },
    {
     "data": {
      "text/plain": [
       "'success: content added from https://portal.ct.gov//Office-of-the-Governor/News/Press-Releases/2023/03-2023/Governor-Lamont-Announces-State-Grants-to-Municipalities-for-Maintenance-of-Neglected-Cemeteries'"
      ]
     },
     "execution_count": 49,
     "metadata": {},
     "output_type": "execute_result"
    },
    {
     "data": {
      "text/plain": [
       "'success: content added from https://portal.ct.gov//Office-of-the-Governor/News/Press-Releases/2023/03-2023/Governor-Lamont-Nominates-20-Jurists-To-Serve-as-Judges-of-the-Connecticut-Superior-Court'"
      ]
     },
     "execution_count": 49,
     "metadata": {},
     "output_type": "execute_result"
    },
    {
     "data": {
      "text/plain": [
       "'success: content added from https://portal.ct.gov//Office-of-the-Governor/News/Press-Releases/2023/03-2023/Governor-Lamont-Statement-on-the-50th-Anniversary-of-the-End-of-the-Vietnam-War'"
      ]
     },
     "execution_count": 49,
     "metadata": {},
     "output_type": "execute_result"
    },
    {
     "data": {
      "text/plain": [
       "'success: content added from https://portal.ct.gov//Office-of-the-Governor/News/Press-Releases/2023/03-2023/Governor-Lamont-Applauds-Committee-Approval-of-Comprehensive-Gun-Violence-Prevention-Legislation'"
      ]
     },
     "execution_count": 49,
     "metadata": {},
     "output_type": "execute_result"
    },
    {
     "data": {
      "text/plain": [
       "'success: content added from https://portal.ct.gov//Office-of-the-Governor/News/Press-Releases/2023/03-2023/Governor-Lamont-Flags-Lowered-in-Honor-of-Nashville'"
      ]
     },
     "execution_count": 49,
     "metadata": {},
     "output_type": "execute_result"
    },
    {
     "data": {
      "text/plain": [
       "'success: content added from https://portal.ct.gov//Office-of-the-Governor/News/Press-Releases/2023/03-2023/Governor-Lamont-First-Healthcare-Cost-Growth-Benchmark-Report-Confirms-the-Need-for-Reforms'"
      ]
     },
     "execution_count": 49,
     "metadata": {},
     "output_type": "execute_result"
    },
    {
     "data": {
      "text/plain": [
       "'success: content added from https://portal.ct.gov//Office-of-the-Governor/News/Press-Releases/2023/03-2023/Governor-Lamont-Coronavirus-Update-March-23'"
      ]
     },
     "execution_count": 49,
     "metadata": {},
     "output_type": "execute_result"
    },
    {
     "data": {
      "text/plain": [
       "'success: content added from https://portal.ct.gov//Office-of-the-Governor/News/Press-Releases/2023/03-2023/Governor-Lamont-Statement-on-Mayor-OLeary-Announcement'"
      ]
     },
     "execution_count": 49,
     "metadata": {},
     "output_type": "execute_result"
    },
    {
     "data": {
      "text/plain": [
       "'success: content added from https://portal.ct.gov//Office-of-the-Governor/News/Press-Releases/2023/03-2023/Governor-Lamont-and-Education-Commissioner-Announce-Initiative-To-Strengthen-Teacher-Recruitment'"
      ]
     },
     "execution_count": 49,
     "metadata": {},
     "output_type": "execute_result"
    },
    {
     "data": {
      "text/plain": [
       "'success: content added from https://portal.ct.gov//Office-of-the-Governor/News/Press-Releases/2023/03-2023/Governor-Lamont-Announces-Plans-to-Launch-Intensive-Mathematics-Tutoring-Program'"
      ]
     },
     "execution_count": 49,
     "metadata": {},
     "output_type": "execute_result"
    },
    {
     "data": {
      "text/plain": [
       "'success: content added from https://portal.ct.gov//Office-of-the-Governor/News/Press-Releases/2023/03-2023/Governor-Lamont-Highlights-Partnerships-Providing-Connecticut-Grown-Food'"
      ]
     },
     "execution_count": 49,
     "metadata": {},
     "output_type": "execute_result"
    },
    {
     "data": {
      "text/plain": [
       "'success: content added from https://portal.ct.gov//Office-of-the-Governor/News/Press-Releases/2023/03-2023/Governor-Lamont-and-Delegation-Announce-Federal-Grant-To-Develop-a-Public-Transit-Information-System'"
      ]
     },
     "execution_count": 49,
     "metadata": {},
     "output_type": "execute_result"
    },
    {
     "data": {
      "text/plain": [
       "'success: content added from https://portal.ct.gov//Office-of-the-Governor/News/Press-Releases/2023/03-2023/Governor-Lamont-Signs-Executive-Order-Directing-the-Development-of-a-Strategic-Plan-On-Child-Care'"
      ]
     },
     "execution_count": 49,
     "metadata": {},
     "output_type": "execute_result"
    },
    {
     "data": {
      "text/plain": [
       "'success: content added from https://portal.ct.gov//Office-of-the-Governor/News/Press-Releases/2023/03-2023/Governor-Lamont-Coronavirus-Update-March-16'"
      ]
     },
     "execution_count": 49,
     "metadata": {},
     "output_type": "execute_result"
    },
    {
     "data": {
      "text/plain": [
       "'success: content added from https://portal.ct.gov//Office-of-the-Governor/News/Press-Releases/2023/03-2023/Governor-Lamont-Announces-Agreement-To-Expand-Access-to-Health-Coverage-for-Personal-Care-Attendants'"
      ]
     },
     "execution_count": 49,
     "metadata": {},
     "output_type": "execute_result"
    },
    {
     "data": {
      "text/plain": [
       "'success: content added from https://portal.ct.gov//Office-of-the-Governor/News/Press-Releases/2023/03-2023/Governor-Lamont-Statement-on-the-Passing-of-Former-Hartford-Mayor-Ann-Uccello'"
      ]
     },
     "execution_count": 49,
     "metadata": {},
     "output_type": "execute_result"
    },
    {
     "data": {
      "text/plain": [
       "'success: content added from https://portal.ct.gov//Office-of-the-Governor/News/Press-Releases/2023/03-2023/Governor-Lamont-Announces-Tandem-and-Empty-Tractor-Trailer-Travel-Ban-on-I84-Will-Be-Lifted'"
      ]
     },
     "execution_count": 49,
     "metadata": {},
     "output_type": "execute_result"
    },
    {
     "data": {
      "text/plain": [
       "'success: content added from https://portal.ct.gov//Office-of-the-Governor/News/Press-Releases/2023/03-2023/Governor-Lamont-Orders-Executive-Branch-State-Office-Buildings-Closed-to-the-Public-Tuesday'"
      ]
     },
     "execution_count": 49,
     "metadata": {},
     "output_type": "execute_result"
    },
    {
     "data": {
      "text/plain": [
       "'success: content added from https://portal.ct.gov//Office-of-the-Governor/News/Press-Releases/2023/03-2023/Governor-Lamont-Implements-Ban-on-All-Tandem-and-Empty-Tractor-Trailers-on-I84'"
      ]
     },
     "execution_count": 49,
     "metadata": {},
     "output_type": "execute_result"
    },
    {
     "data": {
      "text/plain": [
       "'success: content added from https://portal.ct.gov//Office-of-the-Governor/News/Press-Releases/2023/03-2023/Governor-Lamont-Orders-Partial-Activation-of-State-Emergency-Operations-Center'"
      ]
     },
     "execution_count": 49,
     "metadata": {},
     "output_type": "execute_result"
    },
    {
     "data": {
      "text/plain": [
       "'success: content added from https://portal.ct.gov//Office-of-the-Governor/News/Press-Releases/2023/03-2023/Governor-Lamont-Announces-Continuation-of-Summer-Enrichment-Program-in-2023-and-2024'"
      ]
     },
     "execution_count": 49,
     "metadata": {},
     "output_type": "execute_result"
    },
    {
     "data": {
      "text/plain": [
       "'success: content added from https://portal.ct.gov//Office-of-the-Governor/News/Press-Releases/2023/03-2023/Governor-Lamont-Proposes-Legislation-Expanding-Access-To-Maternal-Health'"
      ]
     },
     "execution_count": 49,
     "metadata": {},
     "output_type": "execute_result"
    },
    {
     "data": {
      "text/plain": [
       "'success: content added from https://portal.ct.gov//Office-of-the-Governor/News/Press-Releases/2023/03-2023/Governor-Lamont-Extends-Coverage-Period-for-Deliverable-Fuel-Assistance'"
      ]
     },
     "execution_count": 49,
     "metadata": {},
     "output_type": "execute_result"
    },
    {
     "data": {
      "text/plain": [
       "'success: content added from https://portal.ct.gov//Office-of-the-Governor/News/Press-Releases/2023/03-2023/Governor-Lamont-Announces-Launch-of-Wrong-Way-Driving-Public-Awareness-Campaign'"
      ]
     },
     "execution_count": 49,
     "metadata": {},
     "output_type": "execute_result"
    },
    {
     "data": {
      "text/plain": [
       "'success: content added from https://portal.ct.gov//Office-of-the-Governor/News/Press-Releases/2023/03-2023/Governor-Lamont-Statement-on-Senate-Vote-Confirming-Justice-Kahn'"
      ]
     },
     "execution_count": 49,
     "metadata": {},
     "output_type": "execute_result"
    },
    {
     "data": {
      "text/plain": [
       "'success: content added from https://portal.ct.gov//Office-of-the-Governor/News/Press-Releases/2023/03-2023/Governor-Lamont-Coronavirus-Update-March-9'"
      ]
     },
     "execution_count": 49,
     "metadata": {},
     "output_type": "execute_result"
    },
    {
     "data": {
      "text/plain": [
       "'success: content added from https://portal.ct.gov//Office-of-the-Governor/News/Press-Releases/2023/03-2023/Governor-Lamont-Nominates-Robert-Shea-As-Claims-Commissioner'"
      ]
     },
     "execution_count": 49,
     "metadata": {},
     "output_type": "execute_result"
    },
    {
     "data": {
      "text/plain": [
       "'success: content added from https://portal.ct.gov//Office-of-the-Governor/News/Press-Releases/2023/03-2023/Governor-Lamont-Statement-on-the-Passing-of-Common-Cause-President-Karen-Hobert-Flynn'"
      ]
     },
     "execution_count": 49,
     "metadata": {},
     "output_type": "execute_result"
    },
    {
     "data": {
      "text/plain": [
       "'success: content added from https://portal.ct.gov//Office-of-the-Governor/News/Press-Releases/2023/03-2023/Governor-Lamont-Commemorates-International-Open-Data-Day-2023'"
      ]
     },
     "execution_count": 49,
     "metadata": {},
     "output_type": "execute_result"
    },
    {
     "data": {
      "text/plain": [
       "'success: content added from https://portal.ct.gov//Office-of-the-Governor/News/Press-Releases/2023/03-2023/Governor-Lamont-Announces-Connecticut-Program-on-Reducing-Student-Absenteeism-Featured'"
      ]
     },
     "execution_count": 49,
     "metadata": {},
     "output_type": "execute_result"
    },
    {
     "data": {
      "text/plain": [
       "'success: content added from https://portal.ct.gov//Office-of-the-Governor/News/Press-Releases/2023/03-2023/Governor-Lamont-Coronavirus-Update-March-2'"
      ]
     },
     "execution_count": 49,
     "metadata": {},
     "output_type": "execute_result"
    },
    {
     "data": {
      "text/plain": [
       "'success: content added from https://portal.ct.gov//Office-of-the-Governor/News/Press-Releases/2023/02-2023/Governor-Lamont-Directs-State-Office-Buildings-Closed-to-the-Public-Tuesday-Due-to-Winter-Storm'"
      ]
     },
     "execution_count": 49,
     "metadata": {},
     "output_type": "execute_result"
    },
    {
     "data": {
      "text/plain": [
       "'success: content added from https://portal.ct.gov//Office-of-the-Governor/News/Press-Releases/2023/02-2023/Governor-Lamont-Nominates-Bryan-Cafferelli-as-Consumer-Protection-Commissioner'"
      ]
     },
     "execution_count": 49,
     "metadata": {},
     "output_type": "execute_result"
    },
    {
     "data": {
      "text/plain": [
       "'success: content added from https://portal.ct.gov//Office-of-the-Governor/News/Press-Releases/2023/02-2023/Governor-Lamont-Proposes-Establishing-the-English-Learners-Bill-of-Rights'"
      ]
     },
     "execution_count": 49,
     "metadata": {},
     "output_type": "execute_result"
    },
    {
     "data": {
      "text/plain": [
       "'success: content added from https://portal.ct.gov//Office-of-the-Governor/News/Press-Releases/2023/02-2023/Governor-Lamont-Coronavirus-Update-February-23'"
      ]
     },
     "execution_count": 49,
     "metadata": {},
     "output_type": "execute_result"
    },
    {
     "data": {
      "text/plain": [
       "'success: content added from https://portal.ct.gov//Office-of-the-Governor/News/Press-Releases/2023/02-2023/Governor-Lamont-and-Small-Business-Administration-Announce-Expansion-of-HUBZone'"
      ]
     },
     "execution_count": 49,
     "metadata": {},
     "output_type": "execute_result"
    },
    {
     "data": {
      "text/plain": [
       "'success: content added from https://portal.ct.gov//Office-of-the-Governor/News/Press-Releases/2023/02-2023/Governor-Lamont-Statement-on-Ukraine-Invasion-Anniversary'"
      ]
     },
     "execution_count": 49,
     "metadata": {},
     "output_type": "execute_result"
    },
    {
     "data": {
      "text/plain": [
       "'success: content added from https://portal.ct.gov//Office-of-the-Governor/News/Press-Releases/2023/02-2023/Governor-Lamont-Announces-FORGE-Establishes-Operations-in-Connecticut'"
      ]
     },
     "execution_count": 49,
     "metadata": {},
     "output_type": "execute_result"
    },
    {
     "data": {
      "text/plain": [
       "'success: content added from https://portal.ct.gov//Office-of-the-Governor/News/Press-Releases/2023/02-2023/Governor-Lamont-Announces-Participation-in-Reproductive-Freedom-Alliance'"
      ]
     },
     "execution_count": 49,
     "metadata": {},
     "output_type": "execute_result"
    },
    {
     "data": {
      "text/plain": [
       "'success: content added from https://portal.ct.gov//Office-of-the-Governor/News/Press-Releases/2023/02-2023/Governor-Lamont-Proposes-Legislation-To-Reduce-Health-Care-Costs'"
      ]
     },
     "execution_count": 49,
     "metadata": {},
     "output_type": "execute_result"
    },
    {
     "data": {
      "text/plain": [
       "'success: content added from https://portal.ct.gov//Office-of-the-Governor/News/Press-Releases/2023/02-2023/Governor-Lamont-Coronavirus-Update-February-16'"
      ]
     },
     "execution_count": 49,
     "metadata": {},
     "output_type": "execute_result"
    },
    {
     "data": {
      "text/plain": [
       "'success: content added from https://portal.ct.gov//Office-of-the-Governor/News/Press-Releases/2023/02-2023/Governor-Lamont-Announces-Budget-and-Policy-Proposals-Include-Support-To-Expand-Access-to-Housing'"
      ]
     },
     "execution_count": 49,
     "metadata": {},
     "output_type": "execute_result"
    },
    {
     "data": {
      "text/plain": [
       "'success: content added from https://portal.ct.gov//Office-of-the-Governor/News/Press-Releases/2023/02-2023/Governor-Lamont-Statement-on-the-Historic-Level-of-State-Funding-for-UConn-in-His-Budget-Proposal'"
      ]
     },
     "execution_count": 49,
     "metadata": {},
     "output_type": "execute_result"
    },
    {
     "data": {
      "text/plain": [
       "'success: content added from https://portal.ct.gov//Office-of-the-Governor/News/Press-Releases/2023/02-2023/Governor-Lamont-Announces-Budget-Proposal-Includes-Funding-To-Expand-Access-to-Childcare'"
      ]
     },
     "execution_count": 49,
     "metadata": {},
     "output_type": "execute_result"
    },
    {
     "data": {
      "text/plain": [
       "'success: content added from https://portal.ct.gov//Office-of-the-Governor/News/Press-Releases/2023/02-2023/Governor-Lamont-Signs-Legislation-Extending-Free-School-Meals'"
      ]
     },
     "execution_count": 49,
     "metadata": {},
     "output_type": "execute_result"
    },
    {
     "data": {
      "text/plain": [
       "'success: content added from https://portal.ct.gov//Office-of-the-Governor/News/Press-Releases/2023/02-2023/Governor-Lamont-Applauds-General-Assembly-for-Approving-Legislation-Extending-Free-School-Meals'"
      ]
     },
     "execution_count": 49,
     "metadata": {},
     "output_type": "execute_result"
    },
    {
     "data": {
      "text/plain": [
       "'success: content added from https://portal.ct.gov//Office-of-the-Governor/News/Press-Releases/2023/02-2023/Governor-Lamont-Coronavirus-Update-February-9'"
      ]
     },
     "execution_count": 49,
     "metadata": {},
     "output_type": "execute_result"
    },
    {
     "data": {
      "text/plain": [
       "'success: content added from https://portal.ct.gov//Office-of-the-Governor/News/Press-Releases/2023/02-2023/Governor-Lamont-Statement-on-President-Biden-State-of-the-Union-Address'"
      ]
     },
     "execution_count": 49,
     "metadata": {},
     "output_type": "execute_result"
    },
    {
     "data": {
      "text/plain": [
       "'success: content added from https://portal.ct.gov//Office-of-the-Governor/News/Press-Releases/2023/02-2023/Governor-Lamont-Announces-2023-Legislative-Proposal-Cut-Income-Tax-Rates'"
      ]
     },
     "execution_count": 49,
     "metadata": {},
     "output_type": "execute_result"
    },
    {
     "data": {
      "text/plain": [
       "'success: content added from https://portal.ct.gov//Office-of-the-Governor/News/Press-Releases/2023/02-2023/Governor-Lamont-Announces-18-Million-Federal-Grant-To-Address-Homelessness'"
      ]
     },
     "execution_count": 49,
     "metadata": {},
     "output_type": "execute_result"
    },
    {
     "data": {
      "text/plain": [
       "'success: content added from https://portal.ct.gov//Office-of-the-Governor/News/Press-Releases/2023/02-2023/Governor-Lamont-Coronavirus-Update-February-2'"
      ]
     },
     "execution_count": 49,
     "metadata": {},
     "output_type": "execute_result"
    },
    {
     "data": {
      "text/plain": [
       "'success: content added from https://portal.ct.gov//Office-of-the-Governor/News/Press-Releases/2023/02-2023/Governor-Lamont-Announces-Recipients-of-School-Mental-Health-Workers-Grants'"
      ]
     },
     "execution_count": 49,
     "metadata": {},
     "output_type": "execute_result"
    },
    {
     "data": {
      "text/plain": [
       "'success: content added from https://portal.ct.gov//Office-of-the-Governor/News/Press-Releases/2023/02-2023/Governor-Lamont-Announces-2023-Legislative-Proposal-Cancel-Medical-Debt'"
      ]
     },
     "execution_count": 49,
     "metadata": {},
     "output_type": "execute_result"
    },
    {
     "data": {
      "text/plain": [
       "'success: content added from https://portal.ct.gov//Office-of-the-Governor/News/Press-Releases/2023/02-2023/Governor-Lamont-Announces-Launch-of-New-Online-Platform-Connecting-All-Connecticut-Manufacturers'"
      ]
     },
     "execution_count": 49,
     "metadata": {},
     "output_type": "execute_result"
    },
    {
     "data": {
      "text/plain": [
       "'success: content added from https://portal.ct.gov//Office-of-the-Governor/News/Press-Releases/2023/02-2023/Governor-Lamont-Announces-2023-Legislative-Proposal-Improve-Gun-Safety-Laws-Suicides-DV'"
      ]
     },
     "execution_count": 49,
     "metadata": {},
     "output_type": "execute_result"
    },
    {
     "data": {
      "text/plain": [
       "'success: content added from https://portal.ct.gov//Office-of-the-Governor/News/Press-Releases/2023/02-2023/Governor-Lamont-Launches-New-Round-of-School-Security-Grants'"
      ]
     },
     "execution_count": 49,
     "metadata": {},
     "output_type": "execute_result"
    },
    {
     "data": {
      "text/plain": [
       "'success: content added from https://portal.ct.gov//Office-of-the-Governor/News/Press-Releases/2023/01-2023/Governor-Lamont-Activates-Severe-Cold-Weather-Protocol-Effective-Thursday-Afternoon'"
      ]
     },
     "execution_count": 49,
     "metadata": {},
     "output_type": "execute_result"
    },
    {
     "data": {
      "text/plain": [
       "'success: content added from https://portal.ct.gov//Office-of-the-Governor/News/Press-Releases/2023/01-2023/Governor-Lamont-Announces-2023-Legislative-Proposal-on-EITC'"
      ]
     },
     "execution_count": 49,
     "metadata": {},
     "output_type": "execute_result"
    },
    {
     "data": {
      "text/plain": [
       "'success: content added from https://portal.ct.gov//Office-of-the-Governor/News/Press-Releases/2023/01-2023/Governor-Lamont-Statement-on-the-Death-of-Tyre-Nichols'"
      ]
     },
     "execution_count": 49,
     "metadata": {},
     "output_type": "execute_result"
    },
    {
     "data": {
      "text/plain": [
       "'success: content added from https://portal.ct.gov//Office-of-the-Governor/News/Press-Releases/2023/01-2023/Governor-Lamont-Coronavirus-Update-January-26'"
      ]
     },
     "execution_count": 49,
     "metadata": {},
     "output_type": "execute_result"
    },
    {
     "data": {
      "text/plain": [
       "'success: content added from https://portal.ct.gov//Office-of-the-Governor/News/Press-Releases/2023/01-2023/Governor-Lamont-Announces-2023-Legislative-Proposal-on-Mass-Shootings'"
      ]
     },
     "execution_count": 49,
     "metadata": {},
     "output_type": "execute_result"
    },
    {
     "data": {
      "text/plain": [
       "'success: content added from https://portal.ct.gov//Office-of-the-Governor/News/Press-Releases/2023/01-2023/Governor-Lamont-Statement-on-Final-Legislative-Approval-of-State-Police-Contract'"
      ]
     },
     "execution_count": 49,
     "metadata": {},
     "output_type": "execute_result"
    },
    {
     "data": {
      "text/plain": [
       "'success: content added from https://portal.ct.gov//Office-of-the-Governor/News/Press-Releases/2023/01-2023/Governor-Lamont-Announces-Launch-of-Fund-to-Assist-Renters-From-Being-Evicted'"
      ]
     },
     "execution_count": 49,
     "metadata": {},
     "output_type": "execute_result"
    },
    {
     "data": {
      "text/plain": [
       "'success: content added from https://portal.ct.gov//Office-of-the-Governor/News/Press-Releases/2023/01-2023/Governor-Lamont-Announces-Connecticut-Educator-Carolyn-Kielma-Named-Finalist-for-National-Teacher'"
      ]
     },
     "execution_count": 49,
     "metadata": {},
     "output_type": "execute_result"
    },
    {
     "data": {
      "text/plain": [
       "'success: content added from https://portal.ct.gov//Office-of-the-Governor/News/Press-Releases/2023/01-2023/Governor-Lamont-Announces-Plans-to-Close-the-Willard-Correctional-Institution'"
      ]
     },
     "execution_count": 49,
     "metadata": {},
     "output_type": "execute_result"
    },
    {
     "data": {
      "text/plain": [
       "'success: content added from https://portal.ct.gov//Office-of-the-Governor/News/Press-Releases/2023/01-2023/Governor-Lamont-Statement-on-Announcement-From-the-LEGO-Group'"
      ]
     },
     "execution_count": 49,
     "metadata": {},
     "output_type": "execute_result"
    },
    {
     "data": {
      "text/plain": [
       "'success: content added from https://portal.ct.gov//Office-of-the-Governor/News/Press-Releases/2023/01-2023/Governor-Lamont-Announces-2023-Legislative-Proposal-Materials-and-Waste-Management'"
      ]
     },
     "execution_count": 49,
     "metadata": {},
     "output_type": "execute_result"
    },
    {
     "data": {
      "text/plain": [
       "'success: content added from https://portal.ct.gov//Office-of-the-Governor/News/Press-Releases/2023/01-2023/Governor-Lamont-Announces-2023-Legislative-Proposal-on-Gun-Violence'"
      ]
     },
     "execution_count": 49,
     "metadata": {},
     "output_type": "execute_result"
    },
    {
     "data": {
      "text/plain": [
       "'success: content added from https://portal.ct.gov//Office-of-the-Governor/News/Press-Releases/2023/01-2023/Governor-Lamont-Flags-Lowered-To-Half-Staff-in-Honor-of-the-Victims-in-Monterey-Park'"
      ]
     },
     "execution_count": 49,
     "metadata": {},
     "output_type": "execute_result"
    },
    {
     "data": {
      "text/plain": [
       "'success: content added from https://portal.ct.gov//Office-of-the-Governor/News/Press-Releases/2023/01-2023/Governor-Lamont-Appoints-Matthew-Brokman-To-Serve-as-Senior-Advisor'"
      ]
     },
     "execution_count": 49,
     "metadata": {},
     "output_type": "execute_result"
    },
    {
     "data": {
      "text/plain": [
       "'success: content added from https://portal.ct.gov//Office-of-the-Governor/News/Press-Releases/2023/01-2023/Governor-Lamont-and-Lt-Governor-Bysiewicz-on-the-50th-Anniversary-of-Roe-v-Wade'"
      ]
     },
     "execution_count": 49,
     "metadata": {},
     "output_type": "execute_result"
    },
    {
     "data": {
      "text/plain": [
       "'success: content added from https://portal.ct.gov//Office-of-the-Governor/News/Press-Releases/2023/01-2023/Governor-Lamont-Coronavirus-Update-January-19'"
      ]
     },
     "execution_count": 49,
     "metadata": {},
     "output_type": "execute_result"
    },
    {
     "data": {
      "text/plain": [
       "'success: content added from https://portal.ct.gov//Office-of-the-Governor/News/Press-Releases/2023/01-2023/Governor-Lamont-Announces-2023-Legislative-Proposal-Restoring-Pass-Through-Entity-Tax-Credit'"
      ]
     },
     "execution_count": 49,
     "metadata": {},
     "output_type": "execute_result"
    },
    {
     "data": {
      "text/plain": [
       "'success: content added from https://portal.ct.gov//Office-of-the-Governor/News/Press-Releases/2023/01-2023/Governor-Lamont-and-Secretary-Beckham-Statements-on-January-Consensus-Revenue-Forecast'"
      ]
     },
     "execution_count": 49,
     "metadata": {},
     "output_type": "execute_result"
    },
    {
     "data": {
      "text/plain": [
       "'success: content added from https://portal.ct.gov//Office-of-the-Governor/News/Press-Releases/2023/01-2023/Governor-Lamont-Schedules-Special-Elections-on-February-28'"
      ]
     },
     "execution_count": 49,
     "metadata": {},
     "output_type": "execute_result"
    },
    {
     "data": {
      "text/plain": [
       "'success: content added from https://portal.ct.gov//Office-of-the-Governor/News/Press-Releases/2023/01-2023/Governor-Lamont-Directs-Flags-to-Return-to-Full-Staff-Saturday-Evening'"
      ]
     },
     "execution_count": 49,
     "metadata": {},
     "output_type": "execute_result"
    },
    {
     "data": {
      "text/plain": [
       "'success: content added from https://portal.ct.gov//Office-of-the-Governor/News/Press-Releases/2023/01-2023/Governor-Lamont-Coronavirus-Update-January-12'"
      ]
     },
     "execution_count": 49,
     "metadata": {},
     "output_type": "execute_result"
    },
    {
     "data": {
      "text/plain": [
       "'success: content added from https://portal.ct.gov//Office-of-the-Governor/News/Press-Releases/2023/01-2023/Governor-Lamont-Introduces-Energy-Action-Plan-Highlighting-Help-With-Energy-Affordability'"
      ]
     },
     "execution_count": 49,
     "metadata": {},
     "output_type": "execute_result"
    },
    {
     "data": {
      "text/plain": [
       "'success: content added from https://portal.ct.gov//Office-of-the-Governor/News/Press-Releases/2023/01-2023/Governor-Lamont-Announces-Start-of-Adult-Use-Cannabis-Sales'"
      ]
     },
     "execution_count": 49,
     "metadata": {},
     "output_type": "execute_result"
    },
    {
     "data": {
      "text/plain": [
       "'success: content added from https://portal.ct.gov//Office-of-the-Governor/News/Press-Releases/2023/01-2023/Governor-Lamont-Announces-Global-Atlantic-Financial-Group-Is-Expanding'"
      ]
     },
     "execution_count": 49,
     "metadata": {},
     "output_type": "execute_result"
    },
    {
     "data": {
      "text/plain": [
       "'success: content added from https://portal.ct.gov//Office-of-the-Governor/News/Press-Releases/2023/01-2023/Governor-Lamont-Coronavirus-Update-January-5'"
      ]
     },
     "execution_count": 49,
     "metadata": {},
     "output_type": "execute_result"
    },
    {
     "data": {
      "text/plain": [
       "'success: content added from https://portal.ct.gov//Office-of-the-Governor/News/Press-Releases/2023/01-2023/Governor-Lamont-Directs-State-Flags-To-Half-Staff-in-Honor-of-Q'"
      ]
     },
     "execution_count": 49,
     "metadata": {},
     "output_type": "execute_result"
    },
    {
     "data": {
      "text/plain": [
       "'success: content added from https://portal.ct.gov//Office-of-the-Governor/News/Press-Releases/2023/01-2023/Governor-Lamont-Health-and-Safety-Guidance-for-Those-Attending-the-Inauguration'"
      ]
     },
     "execution_count": 49,
     "metadata": {},
     "output_type": "execute_result"
    },
    {
     "data": {
      "text/plain": [
       "'success: content added from https://portal.ct.gov//Office-of-the-Governor/News/Press-Releases/2023/01-2023/Governor-Lamont-Directs-Flags-to-Return-to-Full-Staff-Tuesday-Evening'"
      ]
     },
     "execution_count": 49,
     "metadata": {},
     "output_type": "execute_result"
    }
   ],
   "source": [
    "# do for all\n",
    "for i in combined.link:\n",
    "     get_connecticut_content(i, combined, header_list)"
   ]
  },
  {
   "cell_type": "markdown",
   "id": "e47888a7",
   "metadata": {},
   "source": [
    "## Validate and Clean"
   ]
  },
  {
   "cell_type": "code",
   "execution_count": 50,
   "id": "06bca64d",
   "metadata": {},
   "outputs": [
    {
     "data": {
      "text/html": [
       "<div>\n",
       "<style scoped>\n",
       "    .dataframe tbody tr th:only-of-type {\n",
       "        vertical-align: middle;\n",
       "    }\n",
       "\n",
       "    .dataframe tbody tr th {\n",
       "        vertical-align: top;\n",
       "    }\n",
       "\n",
       "    .dataframe thead th {\n",
       "        text-align: right;\n",
       "    }\n",
       "</style>\n",
       "<table border=\"1\" class=\"dataframe\">\n",
       "  <thead>\n",
       "    <tr style=\"text-align: right;\">\n",
       "      <th></th>\n",
       "      <th>title</th>\n",
       "      <th>date</th>\n",
       "      <th>link</th>\n",
       "      <th>content</th>\n",
       "      <th>page_scraped</th>\n",
       "    </tr>\n",
       "  </thead>\n",
       "  <tbody>\n",
       "    <tr>\n",
       "      <th>166</th>\n",
       "      <td>Governor Lamont: Flags Lowered To Half-Staff i...</td>\n",
       "      <td>5/7/2023</td>\n",
       "      <td>https://portal.ct.gov//Office-of-the-Governor/...</td>\n",
       "      <td>NaN</td>\n",
       "      <td>12</td>\n",
       "    </tr>\n",
       "  </tbody>\n",
       "</table>\n",
       "</div>"
      ],
      "text/plain": [
       "                                                 title      date  \\\n",
       "166  Governor Lamont: Flags Lowered To Half-Staff i...  5/7/2023   \n",
       "\n",
       "                                                  link content  page_scraped  \n",
       "166  https://portal.ct.gov//Office-of-the-Governor/...     NaN            12  "
      ]
     },
     "execution_count": 50,
     "metadata": {},
     "output_type": "execute_result"
    }
   ],
   "source": [
    "#check that content was pulled accurately\n",
    "combined[combined.content.isna()]"
   ]
  },
  {
   "cell_type": "code",
   "execution_count": 55,
   "id": "991ea18a",
   "metadata": {},
   "outputs": [
    {
     "data": {
      "text/plain": [
       "'https://portal.ct.gov//Office-of-the-Governor/News/Press-Releases/2023/05-2023/Governor-Lamont-Flags-Lowered-To-Half-Staff-in-Honor-of-the-Victims-in-Texas'"
      ]
     },
     "execution_count": 55,
     "metadata": {},
     "output_type": "execute_result"
    },
    {
     "data": {
      "text/plain": [
       "'https://portal.ct.gov/Office-of-the-Governor/News/Press-Releases/2023/05-2023/Governor-Lamont-Flags-Lowered-To-Half-Staff-in-Honor-of-the-Victims-in-Texas'"
      ]
     },
     "execution_count": 55,
     "metadata": {},
     "output_type": "execute_result"
    }
   ],
   "source": [
    "# retry 166 - looks like link has extra slash \n",
    "combined.link[166]\n",
    "combined.iloc[166,2] = 'https://portal.ct.gov/Office-of-the-Governor/News/Press-Releases/2023/05-2023/Governor-Lamont-Flags-Lowered-To-Half-Staff-in-Honor-of-the-Victims-in-Texas'\n",
    "combined.link[166]"
   ]
  },
  {
   "cell_type": "code",
   "execution_count": 56,
   "id": "c2e59de7",
   "metadata": {},
   "outputs": [
    {
     "data": {
      "text/plain": [
       "'success: content added from https://portal.ct.gov/Office-of-the-Governor/News/Press-Releases/2023/05-2023/Governor-Lamont-Flags-Lowered-To-Half-Staff-in-Honor-of-the-Victims-in-Texas'"
      ]
     },
     "execution_count": 56,
     "metadata": {},
     "output_type": "execute_result"
    }
   ],
   "source": [
    "get_connecticut_content(combined.link[166], combined, header_list)"
   ]
  },
  {
   "cell_type": "code",
   "execution_count": 57,
   "id": "8e8765ee",
   "metadata": {},
   "outputs": [
    {
     "data": {
      "text/html": [
       "<div>\n",
       "<style scoped>\n",
       "    .dataframe tbody tr th:only-of-type {\n",
       "        vertical-align: middle;\n",
       "    }\n",
       "\n",
       "    .dataframe tbody tr th {\n",
       "        vertical-align: top;\n",
       "    }\n",
       "\n",
       "    .dataframe thead th {\n",
       "        text-align: right;\n",
       "    }\n",
       "</style>\n",
       "<table border=\"1\" class=\"dataframe\">\n",
       "  <thead>\n",
       "    <tr style=\"text-align: right;\">\n",
       "      <th></th>\n",
       "      <th>title</th>\n",
       "      <th>date</th>\n",
       "      <th>link</th>\n",
       "      <th>content</th>\n",
       "      <th>page_scraped</th>\n",
       "      <th>date_clean</th>\n",
       "    </tr>\n",
       "  </thead>\n",
       "  <tbody>\n",
       "  </tbody>\n",
       "</table>\n",
       "</div>"
      ],
      "text/plain": [
       "Empty DataFrame\n",
       "Columns: [title, date, link, content, page_scraped, date_clean]\n",
       "Index: []"
      ]
     },
     "execution_count": 57,
     "metadata": {},
     "output_type": "execute_result"
    }
   ],
   "source": [
    "# check this worked\n",
    "combined[combined.content.isna()]"
   ]
  },
  {
   "cell_type": "code",
   "execution_count": 58,
   "id": "6615a069",
   "metadata": {},
   "outputs": [],
   "source": [
    "# convert date to date-time object to subset\n",
    "combined['date_clean'] = pd.to_datetime(combined['date'])"
   ]
  },
  {
   "cell_type": "code",
   "execution_count": 59,
   "id": "2f31557a",
   "metadata": {},
   "outputs": [],
   "source": [
    "# drop original date column \n",
    "combined_cl = combined.drop(columns=['date']).copy()"
   ]
  },
  {
   "cell_type": "code",
   "execution_count": 60,
   "id": "c51e53c4",
   "metadata": {},
   "outputs": [],
   "source": [
    "# subset to 2023 only \n",
    "combined_2023 = combined_cl[(combined_cl['date_clean'] >= '2023-01-01')\n",
    "                     & (combined_cl['date_clean'] <= '2023-12-31')].copy()"
   ]
  },
  {
   "cell_type": "code",
   "execution_count": 61,
   "id": "e894624d",
   "metadata": {},
   "outputs": [
    {
     "name": "stdout",
     "output_type": "stream",
     "text": [
      "pulled 283 documents from connecticut for 2023\n"
     ]
    }
   ],
   "source": [
    "print(f\"pulled {str(len(combined_2023))} documents from {state} for 2023\")"
   ]
  },
  {
   "cell_type": "markdown",
   "id": "4d12eae5",
   "metadata": {},
   "source": [
    "## Export "
   ]
  },
  {
   "cell_type": "code",
   "execution_count": 62,
   "id": "d675fc44",
   "metadata": {},
   "outputs": [],
   "source": [
    "# export\n",
    "combined_2023.to_csv(f'{state}_2023.csv', index = False)"
   ]
  },
  {
   "cell_type": "code",
   "execution_count": 63,
   "id": "621c6b9b",
   "metadata": {},
   "outputs": [
    {
     "data": {
      "text/html": [
       "<div>\n",
       "<style scoped>\n",
       "    .dataframe tbody tr th:only-of-type {\n",
       "        vertical-align: middle;\n",
       "    }\n",
       "\n",
       "    .dataframe tbody tr th {\n",
       "        vertical-align: top;\n",
       "    }\n",
       "\n",
       "    .dataframe thead th {\n",
       "        text-align: right;\n",
       "    }\n",
       "</style>\n",
       "<table border=\"1\" class=\"dataframe\">\n",
       "  <thead>\n",
       "    <tr style=\"text-align: right;\">\n",
       "      <th></th>\n",
       "      <th>title</th>\n",
       "      <th>link</th>\n",
       "      <th>content</th>\n",
       "      <th>page_scraped</th>\n",
       "      <th>date_clean</th>\n",
       "    </tr>\n",
       "  </thead>\n",
       "  <tbody>\n",
       "    <tr>\n",
       "      <th>0</th>\n",
       "      <td>Governor Lamont Releases Draft State Digital E...</td>\n",
       "      <td>https://portal.ct.gov//Office-of-the-Governor/...</td>\n",
       "      <td>12/22/2023             (HARTFORD, CT) – Govern...</td>\n",
       "      <td>1</td>\n",
       "      <td>2023-12-22</td>\n",
       "    </tr>\n",
       "    <tr>\n",
       "      <th>1</th>\n",
       "      <td>Governor Lamont Announces Connecticut Income T...</td>\n",
       "      <td>https://portal.ct.gov//Office-of-the-Governor/...</td>\n",
       "      <td>12/20/2023             (HARTFORD, CT) – Govern...</td>\n",
       "      <td>1</td>\n",
       "      <td>2023-12-20</td>\n",
       "    </tr>\n",
       "    <tr>\n",
       "      <th>2</th>\n",
       "      <td>Governor Lamont Directs $10.7 Million in Ameri...</td>\n",
       "      <td>https://portal.ct.gov//Office-of-the-Governor/...</td>\n",
       "      <td>12/19/2023             (HARTFORD, CT) – Govern...</td>\n",
       "      <td>1</td>\n",
       "      <td>2023-12-19</td>\n",
       "    </tr>\n",
       "    <tr>\n",
       "      <th>3</th>\n",
       "      <td>Governor Lamont Encourages High School Seniors...</td>\n",
       "      <td>https://portal.ct.gov//Office-of-the-Governor/...</td>\n",
       "      <td>12/19/2023             (NEW BRITAIN, CT) – Gov...</td>\n",
       "      <td>1</td>\n",
       "      <td>2023-12-19</td>\n",
       "    </tr>\n",
       "    <tr>\n",
       "      <th>4</th>\n",
       "      <td>Governor Lamont Announces $7.2 Million in Stat...</td>\n",
       "      <td>https://portal.ct.gov//Office-of-the-Governor/...</td>\n",
       "      <td>12/18/2023             (HARTFORD, CT) – Govern...</td>\n",
       "      <td>1</td>\n",
       "      <td>2023-12-18</td>\n",
       "    </tr>\n",
       "  </tbody>\n",
       "</table>\n",
       "</div>"
      ],
      "text/plain": [
       "                                               title  \\\n",
       "0  Governor Lamont Releases Draft State Digital E...   \n",
       "1  Governor Lamont Announces Connecticut Income T...   \n",
       "2  Governor Lamont Directs $10.7 Million in Ameri...   \n",
       "3  Governor Lamont Encourages High School Seniors...   \n",
       "4  Governor Lamont Announces $7.2 Million in Stat...   \n",
       "\n",
       "                                                link  \\\n",
       "0  https://portal.ct.gov//Office-of-the-Governor/...   \n",
       "1  https://portal.ct.gov//Office-of-the-Governor/...   \n",
       "2  https://portal.ct.gov//Office-of-the-Governor/...   \n",
       "3  https://portal.ct.gov//Office-of-the-Governor/...   \n",
       "4  https://portal.ct.gov//Office-of-the-Governor/...   \n",
       "\n",
       "                                             content  page_scraped  date_clean  \n",
       "0  12/22/2023             (HARTFORD, CT) – Govern...             1  2023-12-22  \n",
       "1  12/20/2023             (HARTFORD, CT) – Govern...             1  2023-12-20  \n",
       "2  12/19/2023             (HARTFORD, CT) – Govern...             1  2023-12-19  \n",
       "3  12/19/2023             (NEW BRITAIN, CT) – Gov...             1  2023-12-19  \n",
       "4  12/18/2023             (HARTFORD, CT) – Govern...             1  2023-12-18  "
      ]
     },
     "execution_count": 63,
     "metadata": {},
     "output_type": "execute_result"
    }
   ],
   "source": [
    "# test = pd.read_csv(f'{state}_2023.csv')\n",
    "# test.head()"
   ]
  }
 ],
 "metadata": {
  "kernelspec": {
   "display_name": "Python 3 (ipykernel)",
   "language": "python",
   "name": "python3"
  },
  "language_info": {
   "codemirror_mode": {
    "name": "ipython",
    "version": 3
   },
   "file_extension": ".py",
   "mimetype": "text/x-python",
   "name": "python",
   "nbconvert_exporter": "python",
   "pygments_lexer": "ipython3",
   "version": "3.9.12"
  }
 },
 "nbformat": 4,
 "nbformat_minor": 5
}
