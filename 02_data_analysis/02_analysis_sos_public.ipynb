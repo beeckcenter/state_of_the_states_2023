{
 "cells": [
  {
   "cell_type": "markdown",
   "id": "2ae81da4",
   "metadata": {},
   "source": [
    "# Analysis of State of the State (SoS) Addresses"
   ]
  },
  {
   "cell_type": "code",
   "execution_count": 1,
   "id": "4d236265",
   "metadata": {},
   "outputs": [
    {
     "name": "stdout",
     "output_type": "stream",
     "text": [
      "Exception reporting mode: Minimal\n"
     ]
    }
   ],
   "source": [
    "# set up \n",
    "import csv\n",
    "import numpy as np\n",
    "import pandas as pd\n",
    "import nltk\n",
    "import matplotlib.pyplot as plt\n",
    "from sklearn.feature_extraction.text import CountVectorizer, TfidfTransformer \n",
    "from sklearn.feature_extraction.text import TfidfVectorizer\n",
    "import random\n",
    "import re \n",
    "from sklearn.decomposition import PCA\n",
    "import nltk\n",
    "from nltk import word_tokenize          \n",
    "from nltk.stem import WordNetLemmatizer \n",
    "\n",
    "from IPython.core.interactiveshell import InteractiveShell \n",
    "InteractiveShell.ast_node_interactivity = \"all\"\n",
    "\n",
    "%xmode Minimal"
   ]
  },
  {
   "cell_type": "code",
   "execution_count": 103,
   "id": "c9c6a7e0",
   "metadata": {},
   "outputs": [],
   "source": [
    "# read in data \n",
    "sos = pd.read_csv('../../sos_df_23_revised.csv')"
   ]
  },
  {
   "cell_type": "code",
   "execution_count": 104,
   "id": "58233cac",
   "metadata": {},
   "outputs": [
    {
     "name": "stdout",
     "output_type": "stream",
     "text": [
      "<class 'pandas.core.frame.DataFrame'>\n",
      "RangeIndex: 50 entries, 0 to 49\n",
      "Data columns (total 5 columns):\n",
      " #   Column    Non-Null Count  Dtype \n",
      "---  ------    --------------  ----- \n",
      " 0   state     50 non-null     object\n",
      " 1   gov_name  50 non-null     object\n",
      " 2   party     50 non-null     object\n",
      " 3   type      50 non-null     object\n",
      " 4   text      50 non-null     object\n",
      "dtypes: object(5)\n",
      "memory usage: 2.1+ KB\n"
     ]
    },
    {
     "data": {
      "text/html": [
       "<div>\n",
       "<style scoped>\n",
       "    .dataframe tbody tr th:only-of-type {\n",
       "        vertical-align: middle;\n",
       "    }\n",
       "\n",
       "    .dataframe tbody tr th {\n",
       "        vertical-align: top;\n",
       "    }\n",
       "\n",
       "    .dataframe thead th {\n",
       "        text-align: right;\n",
       "    }\n",
       "</style>\n",
       "<table border=\"1\" class=\"dataframe\">\n",
       "  <thead>\n",
       "    <tr style=\"text-align: right;\">\n",
       "      <th></th>\n",
       "      <th>state</th>\n",
       "      <th>gov_name</th>\n",
       "      <th>party</th>\n",
       "      <th>type</th>\n",
       "      <th>text</th>\n",
       "    </tr>\n",
       "  </thead>\n",
       "  <tbody>\n",
       "    <tr>\n",
       "      <th>0</th>\n",
       "      <td>alabama</td>\n",
       "      <td>kay ivey</td>\n",
       "      <td>republican</td>\n",
       "      <td>sos</td>\n",
       "      <td>Page 1 of 8     2023 STATE OF THE STATE ADDRES...</td>\n",
       "    </tr>\n",
       "    <tr>\n",
       "      <th>1</th>\n",
       "      <td>alaska</td>\n",
       "      <td>mike dunleavy</td>\n",
       "      <td>republican</td>\n",
       "      <td>sos</td>\n",
       "      <td>Governor Dunleavy’s 2023 State of the State Ad...</td>\n",
       "    </tr>\n",
       "    <tr>\n",
       "      <th>2</th>\n",
       "      <td>arizona</td>\n",
       "      <td>katie hobbs</td>\n",
       "      <td>democratic</td>\n",
       "      <td>sos</td>\n",
       "      <td>Good afternoon, Chief Justice Brutinel, Secret...</td>\n",
       "    </tr>\n",
       "    <tr>\n",
       "      <th>3</th>\n",
       "      <td>arkansas</td>\n",
       "      <td>sarah huckabee sanders</td>\n",
       "      <td>republican</td>\n",
       "      <td>inaug</td>\n",
       "      <td>LITTLE ROCK, Ark.— Today, Governor Sarah Hucka...</td>\n",
       "    </tr>\n",
       "    <tr>\n",
       "      <th>4</th>\n",
       "      <td>california</td>\n",
       "      <td>gavin newsom</td>\n",
       "      <td>democratic</td>\n",
       "      <td>inaug</td>\n",
       "      <td>Watch Governor Newsom’s swearing-in and inaugu...</td>\n",
       "    </tr>\n",
       "  </tbody>\n",
       "</table>\n",
       "</div>"
      ],
      "text/plain": [
       "        state                gov_name       party   type  \\\n",
       "0     alabama                kay ivey  republican    sos   \n",
       "1      alaska           mike dunleavy  republican    sos   \n",
       "2     arizona             katie hobbs  democratic    sos   \n",
       "3    arkansas  sarah huckabee sanders  republican  inaug   \n",
       "4  california            gavin newsom  democratic  inaug   \n",
       "\n",
       "                                                text  \n",
       "0  Page 1 of 8     2023 STATE OF THE STATE ADDRES...  \n",
       "1  Governor Dunleavy’s 2023 State of the State Ad...  \n",
       "2  Good afternoon, Chief Justice Brutinel, Secret...  \n",
       "3  LITTLE ROCK, Ark.— Today, Governor Sarah Hucka...  \n",
       "4  Watch Governor Newsom’s swearing-in and inaugu...  "
      ]
     },
     "execution_count": 104,
     "metadata": {},
     "output_type": "execute_result"
    }
   ],
   "source": [
    "# explore data\n",
    "sos.info()\n",
    "sos.head()"
   ]
  },
  {
   "cell_type": "markdown",
   "id": "d894f212",
   "metadata": {},
   "source": [
    "## Explore all State of the State addresses"
   ]
  },
  {
   "cell_type": "markdown",
   "id": "aeb52df7",
   "metadata": {},
   "source": [
    "### Create Term Frequency - Inverse Document Frequency (TF-IDF) matrix"
   ]
  },
  {
   "cell_type": "code",
   "execution_count": 105,
   "id": "7db1de49",
   "metadata": {},
   "outputs": [],
   "source": [
    "# add estimated word count columm \n",
    "sos['word_count'] = [len(i.split()) for i in sos.text]"
   ]
  },
  {
   "cell_type": "code",
   "execution_count": 106,
   "id": "185505f7",
   "metadata": {},
   "outputs": [
    {
     "data": {
      "text/html": [
       "<div>\n",
       "<style scoped>\n",
       "    .dataframe tbody tr th:only-of-type {\n",
       "        vertical-align: middle;\n",
       "    }\n",
       "\n",
       "    .dataframe tbody tr th {\n",
       "        vertical-align: top;\n",
       "    }\n",
       "\n",
       "    .dataframe thead th {\n",
       "        text-align: right;\n",
       "    }\n",
       "</style>\n",
       "<table border=\"1\" class=\"dataframe\">\n",
       "  <thead>\n",
       "    <tr style=\"text-align: right;\">\n",
       "      <th></th>\n",
       "      <th>state</th>\n",
       "      <th>gov_name</th>\n",
       "      <th>party</th>\n",
       "      <th>type</th>\n",
       "      <th>text</th>\n",
       "      <th>word_count</th>\n",
       "    </tr>\n",
       "  </thead>\n",
       "  <tbody>\n",
       "    <tr>\n",
       "      <th>0</th>\n",
       "      <td>alabama</td>\n",
       "      <td>kay ivey</td>\n",
       "      <td>republican</td>\n",
       "      <td>sos</td>\n",
       "      <td>Page 1 of 8     2023 STATE OF THE STATE ADDRES...</td>\n",
       "      <td>2980</td>\n",
       "    </tr>\n",
       "    <tr>\n",
       "      <th>1</th>\n",
       "      <td>alaska</td>\n",
       "      <td>mike dunleavy</td>\n",
       "      <td>republican</td>\n",
       "      <td>sos</td>\n",
       "      <td>Governor Dunleavy’s 2023 State of the State Ad...</td>\n",
       "      <td>6469</td>\n",
       "    </tr>\n",
       "    <tr>\n",
       "      <th>2</th>\n",
       "      <td>arizona</td>\n",
       "      <td>katie hobbs</td>\n",
       "      <td>democratic</td>\n",
       "      <td>sos</td>\n",
       "      <td>Good afternoon, Chief Justice Brutinel, Secret...</td>\n",
       "      <td>4882</td>\n",
       "    </tr>\n",
       "    <tr>\n",
       "      <th>3</th>\n",
       "      <td>arkansas</td>\n",
       "      <td>sarah huckabee sanders</td>\n",
       "      <td>republican</td>\n",
       "      <td>inaug</td>\n",
       "      <td>LITTLE ROCK, Ark.— Today, Governor Sarah Hucka...</td>\n",
       "      <td>2250</td>\n",
       "    </tr>\n",
       "    <tr>\n",
       "      <th>4</th>\n",
       "      <td>california</td>\n",
       "      <td>gavin newsom</td>\n",
       "      <td>democratic</td>\n",
       "      <td>inaug</td>\n",
       "      <td>Watch Governor Newsom’s swearing-in and inaugu...</td>\n",
       "      <td>2456</td>\n",
       "    </tr>\n",
       "    <tr>\n",
       "      <th>5</th>\n",
       "      <td>colorado</td>\n",
       "      <td>jared polis</td>\n",
       "      <td>democratic</td>\n",
       "      <td>sos</td>\n",
       "      <td>ForMedia-2023-StateOfState-GovernorPolis-AsPre...</td>\n",
       "      <td>7859</td>\n",
       "    </tr>\n",
       "    <tr>\n",
       "      <th>6</th>\n",
       "      <td>connecticut</td>\n",
       "      <td>ned lamont</td>\n",
       "      <td>democratic</td>\n",
       "      <td>sos</td>\n",
       "      <td>\\r\\n01/03/2023              2023 State of the ...</td>\n",
       "      <td>1878</td>\n",
       "    </tr>\n",
       "    <tr>\n",
       "      <th>7</th>\n",
       "      <td>delaware</td>\n",
       "      <td>john carney</td>\n",
       "      <td>democratic</td>\n",
       "      <td>sos</td>\n",
       "      <td>January 19, 2023 As prepared for delivery #DE...</td>\n",
       "      <td>4157</td>\n",
       "    </tr>\n",
       "    <tr>\n",
       "      <th>8</th>\n",
       "      <td>florida</td>\n",
       "      <td>ron desantis</td>\n",
       "      <td>republican</td>\n",
       "      <td>sos</td>\n",
       "      <td>From the Space Coast to the Suncoast, from St....</td>\n",
       "      <td>1658</td>\n",
       "    </tr>\n",
       "    <tr>\n",
       "      <th>9</th>\n",
       "      <td>georgia</td>\n",
       "      <td>brian kemp</td>\n",
       "      <td>republican</td>\n",
       "      <td>sos</td>\n",
       "      <td>Lt. Governor Jones, Speaker Burns, President P...</td>\n",
       "      <td>3315</td>\n",
       "    </tr>\n",
       "    <tr>\n",
       "      <th>10</th>\n",
       "      <td>hawaii</td>\n",
       "      <td>josh green</td>\n",
       "      <td>democratic</td>\n",
       "      <td>sos</td>\n",
       "      <td>1 of 17   1 of 17   “ACTION ROOTED IN VALUES”...</td>\n",
       "      <td>5374</td>\n",
       "    </tr>\n",
       "    <tr>\n",
       "      <th>11</th>\n",
       "      <td>idaho</td>\n",
       "      <td>brad little</td>\n",
       "      <td>republican</td>\n",
       "      <td>sos</td>\n",
       "      <td>Page 1 of 11    2 0 23  ST ATE OF  THE  ST ATE...</td>\n",
       "      <td>4148</td>\n",
       "    </tr>\n",
       "    <tr>\n",
       "      <th>12</th>\n",
       "      <td>illinois</td>\n",
       "      <td>jb pritzker</td>\n",
       "      <td>democratic</td>\n",
       "      <td>sos</td>\n",
       "      <td>Gov. Pritzker Proposes Transformative, Gener...</td>\n",
       "      <td>18781</td>\n",
       "    </tr>\n",
       "    <tr>\n",
       "      <th>13</th>\n",
       "      <td>indiana</td>\n",
       "      <td>eric holcomb</td>\n",
       "      <td>republican</td>\n",
       "      <td>sos</td>\n",
       "      <td>Governor Eric J. Holcomb2023 State of the Stat...</td>\n",
       "      <td>2919</td>\n",
       "    </tr>\n",
       "    <tr>\n",
       "      <th>14</th>\n",
       "      <td>iowa</td>\n",
       "      <td>kim reynolds</td>\n",
       "      <td>republican</td>\n",
       "      <td>sos</td>\n",
       "      <td>Tonight, Gov. Reynolds delivered her 2023 Cond...</td>\n",
       "      <td>4805</td>\n",
       "    </tr>\n",
       "    <tr>\n",
       "      <th>15</th>\n",
       "      <td>kansas</td>\n",
       "      <td>laura kelly</td>\n",
       "      <td>democratic</td>\n",
       "      <td>sos</td>\n",
       "      <td>Governor Kelly Delivers Her 2023 State of the ...</td>\n",
       "      <td>4494</td>\n",
       "    </tr>\n",
       "    <tr>\n",
       "      <th>16</th>\n",
       "      <td>kentucky</td>\n",
       "      <td>andy beshear</td>\n",
       "      <td>democratic</td>\n",
       "      <td>sos</td>\n",
       "      <td>Microsoft Word - 20230104_Gov-Beshear_State-of...</td>\n",
       "      <td>4585</td>\n",
       "    </tr>\n",
       "    <tr>\n",
       "      <th>17</th>\n",
       "      <td>louisiana</td>\n",
       "      <td>john bel edwards</td>\n",
       "      <td>democratic</td>\n",
       "      <td>sos</td>\n",
       "      <td>As prepared for delivery: Mr. Speaker, Mr. Pre...</td>\n",
       "      <td>3996</td>\n",
       "    </tr>\n",
       "    <tr>\n",
       "      <th>18</th>\n",
       "      <td>maine</td>\n",
       "      <td>janet mills</td>\n",
       "      <td>democratic</td>\n",
       "      <td>inaug</td>\n",
       "      <td>1  Governor Janet T. Mills Second Inaugural Ad...</td>\n",
       "      <td>3737</td>\n",
       "    </tr>\n",
       "    <tr>\n",
       "      <th>19</th>\n",
       "      <td>maryland</td>\n",
       "      <td>wes moore</td>\n",
       "      <td>democratic</td>\n",
       "      <td>sos</td>\n",
       "      <td>ANNAPOLIS, MD— Today, Governor Wes Moore deli...</td>\n",
       "      <td>4005</td>\n",
       "    </tr>\n",
       "    <tr>\n",
       "      <th>20</th>\n",
       "      <td>massachusetts</td>\n",
       "      <td>maura healey</td>\n",
       "      <td>democratic</td>\n",
       "      <td>inaug</td>\n",
       "      <td>Gov. Maura Healey, the first woman elected gov...</td>\n",
       "      <td>3286</td>\n",
       "    </tr>\n",
       "    <tr>\n",
       "      <th>21</th>\n",
       "      <td>michigan</td>\n",
       "      <td>gretchen whitmer</td>\n",
       "      <td>democratic</td>\n",
       "      <td>sos</td>\n",
       "      <td>FOR IMMEDIATE RELEASE  January 25, 2023   Cont...</td>\n",
       "      <td>4228</td>\n",
       "    </tr>\n",
       "    <tr>\n",
       "      <th>22</th>\n",
       "      <td>minnesota</td>\n",
       "      <td>tim walz</td>\n",
       "      <td>democratic</td>\n",
       "      <td>sos</td>\n",
       "      <td>Governor Walz State of the State Remarks as Pr...</td>\n",
       "      <td>2795</td>\n",
       "    </tr>\n",
       "    <tr>\n",
       "      <th>23</th>\n",
       "      <td>mississippi</td>\n",
       "      <td>tate reeves</td>\n",
       "      <td>republican</td>\n",
       "      <td>sos</td>\n",
       "      <td>Gov. Tate Reeves, a first-term Republican, del...</td>\n",
       "      <td>4734</td>\n",
       "    </tr>\n",
       "    <tr>\n",
       "      <th>24</th>\n",
       "      <td>missouri</td>\n",
       "      <td>mike parson</td>\n",
       "      <td>republican</td>\n",
       "      <td>sos</td>\n",
       "      <td>1  Missouri Governor — Michael L. Parson Offic...</td>\n",
       "      <td>4909</td>\n",
       "    </tr>\n",
       "    <tr>\n",
       "      <th>25</th>\n",
       "      <td>montana</td>\n",
       "      <td>greg gianforte</td>\n",
       "      <td>republican</td>\n",
       "      <td>sos</td>\n",
       "      <td>HELENA, Mont. – Governor Greg Gianforte tonigh...</td>\n",
       "      <td>6765</td>\n",
       "    </tr>\n",
       "    <tr>\n",
       "      <th>26</th>\n",
       "      <td>nebraska</td>\n",
       "      <td>jim pillen</td>\n",
       "      <td>republican</td>\n",
       "      <td>sos</td>\n",
       "      <td>Governor Jim Pillen                          ...</td>\n",
       "      <td>3158</td>\n",
       "    </tr>\n",
       "    <tr>\n",
       "      <th>27</th>\n",
       "      <td>nevada</td>\n",
       "      <td>joe lombardo</td>\n",
       "      <td>republican</td>\n",
       "      <td>sos</td>\n",
       "      <td>Governor Joe Lombardo 2023 State of the State ...</td>\n",
       "      <td>6258</td>\n",
       "    </tr>\n",
       "    <tr>\n",
       "      <th>28</th>\n",
       "      <td>new hampshire</td>\n",
       "      <td>chris sununu</td>\n",
       "      <td>republican</td>\n",
       "      <td>inaug</td>\n",
       "      <td>Concord, NH – Please find below Governor Chris...</td>\n",
       "      <td>3348</td>\n",
       "    </tr>\n",
       "    <tr>\n",
       "      <th>29</th>\n",
       "      <td>new jersey</td>\n",
       "      <td>phil murphy</td>\n",
       "      <td>democratic</td>\n",
       "      <td>sos</td>\n",
       "      <td>Governor Murphy Delivers 2023 State of the Sta...</td>\n",
       "      <td>5926</td>\n",
       "    </tr>\n",
       "    <tr>\n",
       "      <th>30</th>\n",
       "      <td>new mexico</td>\n",
       "      <td>michelle lujan grisham</td>\n",
       "      <td>democratic</td>\n",
       "      <td>sos</td>\n",
       "      <td>FROM THE OFFICE OF THE GOVERNOR Editor’s note:...</td>\n",
       "      <td>4422</td>\n",
       "    </tr>\n",
       "    <tr>\n",
       "      <th>31</th>\n",
       "      <td>new york</td>\n",
       "      <td>kathy hochul</td>\n",
       "      <td>democratic</td>\n",
       "      <td>sos</td>\n",
       "      <td>Governor Kathy Hochul today delivered her 2023...</td>\n",
       "      <td>4670</td>\n",
       "    </tr>\n",
       "    <tr>\n",
       "      <th>32</th>\n",
       "      <td>north carolina</td>\n",
       "      <td>roy cooper</td>\n",
       "      <td>democratic</td>\n",
       "      <td>sos</td>\n",
       "      <td>Governor Roy Cooper Follow 1   Mr. President P...</td>\n",
       "      <td>3287</td>\n",
       "    </tr>\n",
       "    <tr>\n",
       "      <th>33</th>\n",
       "      <td>north dakota</td>\n",
       "      <td>doug burgum</td>\n",
       "      <td>republican</td>\n",
       "      <td>sos</td>\n",
       "      <td>1     State of the State Address January 3, 20...</td>\n",
       "      <td>7590</td>\n",
       "    </tr>\n",
       "    <tr>\n",
       "      <th>34</th>\n",
       "      <td>ohio</td>\n",
       "      <td>mike dewine</td>\n",
       "      <td>republican</td>\n",
       "      <td>sos</td>\n",
       "      <td>(COLUMBUS, Ohio)—Ohio Governor Mike DeWine tod...</td>\n",
       "      <td>5670</td>\n",
       "    </tr>\n",
       "    <tr>\n",
       "      <th>35</th>\n",
       "      <td>oklahoma</td>\n",
       "      <td>kevin stitt</td>\n",
       "      <td>republican</td>\n",
       "      <td>sos</td>\n",
       "      <td>Governor Kevin Stitt delivered the first State...</td>\n",
       "      <td>3050</td>\n",
       "    </tr>\n",
       "    <tr>\n",
       "      <th>36</th>\n",
       "      <td>oregon</td>\n",
       "      <td>tina kotek</td>\n",
       "      <td>democratic</td>\n",
       "      <td>inaug</td>\n",
       "      <td>Inaugural Address (Spanish) January 9, 2023 Go...</td>\n",
       "      <td>4389</td>\n",
       "    </tr>\n",
       "    <tr>\n",
       "      <th>37</th>\n",
       "      <td>pennsylvania</td>\n",
       "      <td>josh shapiro</td>\n",
       "      <td>democratic</td>\n",
       "      <td>inaug</td>\n",
       "      <td>January 17, 2023 Harrisburg, PA – Today, follo...</td>\n",
       "      <td>2592</td>\n",
       "    </tr>\n",
       "    <tr>\n",
       "      <th>38</th>\n",
       "      <td>rhode island</td>\n",
       "      <td>dan mckee</td>\n",
       "      <td>democratic</td>\n",
       "      <td>sos</td>\n",
       "      <td>Published on Tuesday, January 17, 2023 January...</td>\n",
       "      <td>3359</td>\n",
       "    </tr>\n",
       "    <tr>\n",
       "      <th>39</th>\n",
       "      <td>south carolina</td>\n",
       "      <td>henry mcmaster</td>\n",
       "      <td>republican</td>\n",
       "      <td>sos</td>\n",
       "      <td>Mr. Speaker, Mr. President, ladies and gentlem...</td>\n",
       "      <td>6674</td>\n",
       "    </tr>\n",
       "    <tr>\n",
       "      <th>40</th>\n",
       "      <td>south dakota</td>\n",
       "      <td>kristi noem</td>\n",
       "      <td>republican</td>\n",
       "      <td>sos</td>\n",
       "      <td>2023 State of the State Address   By: Governor...</td>\n",
       "      <td>4418</td>\n",
       "    </tr>\n",
       "    <tr>\n",
       "      <th>41</th>\n",
       "      <td>tennessee</td>\n",
       "      <td>bill lee</td>\n",
       "      <td>republican</td>\n",
       "      <td>sos</td>\n",
       "      <td>Thank you very much. Lieutenant Governor McNal...</td>\n",
       "      <td>4991</td>\n",
       "    </tr>\n",
       "    <tr>\n",
       "      <th>42</th>\n",
       "      <td>texas</td>\n",
       "      <td>greg abbott</td>\n",
       "      <td>republican</td>\n",
       "      <td>inaug</td>\n",
       "      <td>January 17, 2023 | Austin, Texas        |     ...</td>\n",
       "      <td>1858</td>\n",
       "    </tr>\n",
       "    <tr>\n",
       "      <th>43</th>\n",
       "      <td>utah</td>\n",
       "      <td>spencer cox</td>\n",
       "      <td>republican</td>\n",
       "      <td>sos</td>\n",
       "      <td>2023 State of the State Address U...</td>\n",
       "      <td>4056</td>\n",
       "    </tr>\n",
       "    <tr>\n",
       "      <th>44</th>\n",
       "      <td>vermont</td>\n",
       "      <td>phil scott</td>\n",
       "      <td>republican</td>\n",
       "      <td>inaug</td>\n",
       "      <td>Montpelier, Vt. - Governor Phil Scott today wa...</td>\n",
       "      <td>4785</td>\n",
       "    </tr>\n",
       "    <tr>\n",
       "      <th>45</th>\n",
       "      <td>virginia</td>\n",
       "      <td>glenn youngkin</td>\n",
       "      <td>republican</td>\n",
       "      <td>sos</td>\n",
       "      <td>RICHMOND, VA - Governor Youngkin today deliver...</td>\n",
       "      <td>5987</td>\n",
       "    </tr>\n",
       "    <tr>\n",
       "      <th>46</th>\n",
       "      <td>washington</td>\n",
       "      <td>jay inslee</td>\n",
       "      <td>democratic</td>\n",
       "      <td>sos</td>\n",
       "      <td>Sign up Sign in Sign up Sign in Governor Jay I...</td>\n",
       "      <td>3430</td>\n",
       "    </tr>\n",
       "    <tr>\n",
       "      <th>47</th>\n",
       "      <td>west virginia</td>\n",
       "      <td>jim justice</td>\n",
       "      <td>republican</td>\n",
       "      <td>sos</td>\n",
       "      <td>VIEW PHOTO ALBUM     ...</td>\n",
       "      <td>36640</td>\n",
       "    </tr>\n",
       "    <tr>\n",
       "      <th>48</th>\n",
       "      <td>wisconsin</td>\n",
       "      <td>tony evers</td>\n",
       "      <td>democratic</td>\n",
       "      <td>inaug</td>\n",
       "      <td>Good evening, Wisconsin! Honorable Supreme Cou...</td>\n",
       "      <td>4275</td>\n",
       "    </tr>\n",
       "    <tr>\n",
       "      <th>49</th>\n",
       "      <td>wyoming</td>\n",
       "      <td>mark gordon</td>\n",
       "      <td>republican</td>\n",
       "      <td>sos</td>\n",
       "      <td>CHEYENNE, Wyo. –  Governor Mark Gordon’s State...</td>\n",
       "      <td>531</td>\n",
       "    </tr>\n",
       "  </tbody>\n",
       "</table>\n",
       "</div>"
      ],
      "text/plain": [
       "             state                gov_name       party   type  \\\n",
       "0          alabama                kay ivey  republican    sos   \n",
       "1           alaska           mike dunleavy  republican    sos   \n",
       "2          arizona             katie hobbs  democratic    sos   \n",
       "3         arkansas  sarah huckabee sanders  republican  inaug   \n",
       "4       california            gavin newsom  democratic  inaug   \n",
       "5         colorado             jared polis  democratic    sos   \n",
       "6      connecticut              ned lamont  democratic    sos   \n",
       "7         delaware             john carney  democratic    sos   \n",
       "8          florida            ron desantis  republican    sos   \n",
       "9          georgia              brian kemp  republican    sos   \n",
       "10          hawaii              josh green  democratic    sos   \n",
       "11           idaho             brad little  republican    sos   \n",
       "12        illinois             jb pritzker  democratic    sos   \n",
       "13         indiana            eric holcomb  republican    sos   \n",
       "14            iowa            kim reynolds  republican    sos   \n",
       "15          kansas             laura kelly  democratic    sos   \n",
       "16        kentucky            andy beshear  democratic    sos   \n",
       "17       louisiana        john bel edwards  democratic    sos   \n",
       "18           maine             janet mills  democratic  inaug   \n",
       "19        maryland               wes moore  democratic    sos   \n",
       "20   massachusetts            maura healey  democratic  inaug   \n",
       "21        michigan        gretchen whitmer  democratic    sos   \n",
       "22       minnesota                tim walz  democratic    sos   \n",
       "23     mississippi             tate reeves  republican    sos   \n",
       "24        missouri             mike parson  republican    sos   \n",
       "25         montana          greg gianforte  republican    sos   \n",
       "26        nebraska              jim pillen  republican    sos   \n",
       "27          nevada            joe lombardo  republican    sos   \n",
       "28   new hampshire            chris sununu  republican  inaug   \n",
       "29      new jersey             phil murphy  democratic    sos   \n",
       "30      new mexico  michelle lujan grisham  democratic    sos   \n",
       "31        new york            kathy hochul  democratic    sos   \n",
       "32  north carolina              roy cooper  democratic    sos   \n",
       "33    north dakota             doug burgum  republican    sos   \n",
       "34            ohio             mike dewine  republican    sos   \n",
       "35        oklahoma             kevin stitt  republican    sos   \n",
       "36          oregon              tina kotek  democratic  inaug   \n",
       "37    pennsylvania            josh shapiro  democratic  inaug   \n",
       "38    rhode island               dan mckee  democratic    sos   \n",
       "39  south carolina          henry mcmaster  republican    sos   \n",
       "40    south dakota             kristi noem  republican    sos   \n",
       "41       tennessee                bill lee  republican    sos   \n",
       "42           texas             greg abbott  republican  inaug   \n",
       "43            utah             spencer cox  republican    sos   \n",
       "44         vermont              phil scott  republican  inaug   \n",
       "45        virginia          glenn youngkin  republican    sos   \n",
       "46      washington              jay inslee  democratic    sos   \n",
       "47   west virginia             jim justice  republican    sos   \n",
       "48       wisconsin              tony evers  democratic  inaug   \n",
       "49         wyoming             mark gordon  republican    sos   \n",
       "\n",
       "                                                 text  word_count  \n",
       "0   Page 1 of 8     2023 STATE OF THE STATE ADDRES...        2980  \n",
       "1   Governor Dunleavy’s 2023 State of the State Ad...        6469  \n",
       "2   Good afternoon, Chief Justice Brutinel, Secret...        4882  \n",
       "3   LITTLE ROCK, Ark.— Today, Governor Sarah Hucka...        2250  \n",
       "4   Watch Governor Newsom’s swearing-in and inaugu...        2456  \n",
       "5   ForMedia-2023-StateOfState-GovernorPolis-AsPre...        7859  \n",
       "6   \\r\\n01/03/2023              2023 State of the ...        1878  \n",
       "7    January 19, 2023 As prepared for delivery #DE...        4157  \n",
       "8   From the Space Coast to the Suncoast, from St....        1658  \n",
       "9   Lt. Governor Jones, Speaker Burns, President P...        3315  \n",
       "10   1 of 17   1 of 17   “ACTION ROOTED IN VALUES”...        5374  \n",
       "11  Page 1 of 11    2 0 23  ST ATE OF  THE  ST ATE...        4148  \n",
       "12    Gov. Pritzker Proposes Transformative, Gener...       18781  \n",
       "13  Governor Eric J. Holcomb2023 State of the Stat...        2919  \n",
       "14  Tonight, Gov. Reynolds delivered her 2023 Cond...        4805  \n",
       "15  Governor Kelly Delivers Her 2023 State of the ...        4494  \n",
       "16  Microsoft Word - 20230104_Gov-Beshear_State-of...        4585  \n",
       "17  As prepared for delivery: Mr. Speaker, Mr. Pre...        3996  \n",
       "18  1  Governor Janet T. Mills Second Inaugural Ad...        3737  \n",
       "19   ANNAPOLIS, MD— Today, Governor Wes Moore deli...        4005  \n",
       "20  Gov. Maura Healey, the first woman elected gov...        3286  \n",
       "21  FOR IMMEDIATE RELEASE  January 25, 2023   Cont...        4228  \n",
       "22  Governor Walz State of the State Remarks as Pr...        2795  \n",
       "23  Gov. Tate Reeves, a first-term Republican, del...        4734  \n",
       "24  1  Missouri Governor — Michael L. Parson Offic...        4909  \n",
       "25  HELENA, Mont. – Governor Greg Gianforte tonigh...        6765  \n",
       "26   Governor Jim Pillen                          ...        3158  \n",
       "27  Governor Joe Lombardo 2023 State of the State ...        6258  \n",
       "28  Concord, NH – Please find below Governor Chris...        3348  \n",
       "29  Governor Murphy Delivers 2023 State of the Sta...        5926  \n",
       "30  FROM THE OFFICE OF THE GOVERNOR Editor’s note:...        4422  \n",
       "31  Governor Kathy Hochul today delivered her 2023...        4670  \n",
       "32  Governor Roy Cooper Follow 1   Mr. President P...        3287  \n",
       "33  1     State of the State Address January 3, 20...        7590  \n",
       "34  (COLUMBUS, Ohio)—Ohio Governor Mike DeWine tod...        5670  \n",
       "35  Governor Kevin Stitt delivered the first State...        3050  \n",
       "36  Inaugural Address (Spanish) January 9, 2023 Go...        4389  \n",
       "37  January 17, 2023 Harrisburg, PA – Today, follo...        2592  \n",
       "38  Published on Tuesday, January 17, 2023 January...        3359  \n",
       "39  Mr. Speaker, Mr. President, ladies and gentlem...        6674  \n",
       "40  2023 State of the State Address   By: Governor...        4418  \n",
       "41  Thank you very much. Lieutenant Governor McNal...        4991  \n",
       "42  January 17, 2023 | Austin, Texas        |     ...        1858  \n",
       "43               2023 State of the State Address U...        4056  \n",
       "44  Montpelier, Vt. - Governor Phil Scott today wa...        4785  \n",
       "45  RICHMOND, VA - Governor Youngkin today deliver...        5987  \n",
       "46  Sign up Sign in Sign up Sign in Governor Jay I...        3430  \n",
       "47                           VIEW PHOTO ALBUM     ...       36640  \n",
       "48  Good evening, Wisconsin! Honorable Supreme Cou...        4275  \n",
       "49  CHEYENNE, Wyo. –  Governor Mark Gordon’s State...         531  "
      ]
     },
     "execution_count": 106,
     "metadata": {},
     "output_type": "execute_result"
    }
   ],
   "source": [
    "# check that this worked\n",
    "sos "
   ]
  },
  {
   "cell_type": "markdown",
   "id": "8d98eae6",
   "metadata": {},
   "source": [
    "#### Examine distribution of word count and outiers"
   ]
  },
  {
   "cell_type": "code",
   "execution_count": 107,
   "id": "0a124331",
   "metadata": {},
   "outputs": [
    {
     "data": {
      "text/plain": [
       "count       50.000000\n",
       "mean      5136.580000\n",
       "std       5216.723446\n",
       "min        531.000000\n",
       "25%       3286.250000\n",
       "50%       4251.500000\n",
       "75%       4970.500000\n",
       "max      36640.000000\n",
       "Name: word_count, dtype: float64"
      ]
     },
     "execution_count": 107,
     "metadata": {},
     "output_type": "execute_result"
    }
   ],
   "source": [
    "sos.word_count.describe()"
   ]
  },
  {
   "cell_type": "code",
   "execution_count": 108,
   "id": "3bd1dda7",
   "metadata": {},
   "outputs": [
    {
     "data": {
      "text/plain": [
       "(array([ 1.,  3.,  3., 10.,  5., 13.,  4.,  4.,  3.,  1.,  1.,  0.,  0.,\n",
       "         0.,  0.,  0.,  0.,  0.,  0.,  0.,  0.,  0.,  0.,  0.,  0.,  1.,\n",
       "         0.,  0.,  0.,  0.,  0.,  0.,  0.,  0.,  0.,  0.,  0.,  0.,  0.,\n",
       "         0.,  0.,  0.,  0.,  0.,  0.,  0.,  0.,  0.,  0.,  1.]),\n",
       " array([  531.  ,  1253.18,  1975.36,  2697.54,  3419.72,  4141.9 ,\n",
       "         4864.08,  5586.26,  6308.44,  7030.62,  7752.8 ,  8474.98,\n",
       "         9197.16,  9919.34, 10641.52, 11363.7 , 12085.88, 12808.06,\n",
       "        13530.24, 14252.42, 14974.6 , 15696.78, 16418.96, 17141.14,\n",
       "        17863.32, 18585.5 , 19307.68, 20029.86, 20752.04, 21474.22,\n",
       "        22196.4 , 22918.58, 23640.76, 24362.94, 25085.12, 25807.3 ,\n",
       "        26529.48, 27251.66, 27973.84, 28696.02, 29418.2 , 30140.38,\n",
       "        30862.56, 31584.74, 32306.92, 33029.1 , 33751.28, 34473.46,\n",
       "        35195.64, 35917.82, 36640.  ]),\n",
       " <BarContainer object of 50 artists>)"
      ]
     },
     "execution_count": 108,
     "metadata": {},
     "output_type": "execute_result"
    },
    {
     "data": {
      "text/plain": [
       "Text(6100, 5, 'Mean length: 5136 words')"
      ]
     },
     "execution_count": 108,
     "metadata": {},
     "output_type": "execute_result"
    },
    {
     "data": {
      "text/plain": [
       "<matplotlib.lines.Line2D at 0x7f8ae2574fa0>"
      ]
     },
     "execution_count": 108,
     "metadata": {},
     "output_type": "execute_result"
    },
    {
     "data": {
      "text/plain": [
       "Text(6100, 7, 'Median length: 4251 words')"
      ]
     },
     "execution_count": 108,
     "metadata": {},
     "output_type": "execute_result"
    },
    {
     "data": {
      "text/plain": [
       "<matplotlib.lines.Line2D at 0x7f8ae2565550>"
      ]
     },
     "execution_count": 108,
     "metadata": {},
     "output_type": "execute_result"
    },
    {
     "data": {
      "text/plain": [
       "Text(0.5, 1.0, 'From 50 State of the State Addresses for 2023')"
      ]
     },
     "execution_count": 108,
     "metadata": {},
     "output_type": "execute_result"
    },
    {
     "data": {
      "text/plain": [
       "Text(0.5, 0.98, 'Distribution of Document Length - SOS')"
      ]
     },
     "execution_count": 108,
     "metadata": {},
     "output_type": "execute_result"
    },
    {
     "data": {
      "text/plain": [
       "Text(0.5, 0, 'Document Word Count')"
      ]
     },
     "execution_count": 108,
     "metadata": {},
     "output_type": "execute_result"
    },
    {
     "data": {
      "text/plain": [
       "Text(0, 0.5, 'Number of Documents')"
      ]
     },
     "execution_count": 108,
     "metadata": {},
     "output_type": "execute_result"
    },
    {
     "data": {
      "image/png": "[encoded data removed]",
      "text/plain": [
       "<Figure size 648x360 with 1 Axes>"
      ]
     },
     "metadata": {
      "needs_background": "light"
     },
     "output_type": "display_data"
    }
   ],
   "source": [
    "# plot the distribution \n",
    "fig, ax = plt.subplots(figsize=(9,5))\n",
    "ax.hist(sos.word_count, bins = 50, color = 'darkred')\n",
    "ax.text(6100, 5, 'Mean length: 5136 words')\n",
    "plt.axvline(x = 5136, color = 'dimgrey',ls = 'dashed')\n",
    "ax.text(6100, 7, 'Median length: 4251 words')\n",
    "plt.axvline(x = 4251, color = 'dimgrey',ls = 'dashed')\n",
    "plt.title('From 50 State of the State Addresses for 2023', size = 10)\n",
    "plt.suptitle('Distribution of Document Length - SOS', size = 20)\n",
    "plt.xlabel('Document Word Count')\n",
    "plt.ylabel('Number of Documents')"
   ]
  },
  {
   "cell_type": "code",
   "execution_count": 109,
   "id": "3dfc4d0c",
   "metadata": {},
   "outputs": [
    {
     "data": {
      "text/html": [
       "<div>\n",
       "<style scoped>\n",
       "    .dataframe tbody tr th:only-of-type {\n",
       "        vertical-align: middle;\n",
       "    }\n",
       "\n",
       "    .dataframe tbody tr th {\n",
       "        vertical-align: top;\n",
       "    }\n",
       "\n",
       "    .dataframe thead th {\n",
       "        text-align: right;\n",
       "    }\n",
       "</style>\n",
       "<table border=\"1\" class=\"dataframe\">\n",
       "  <thead>\n",
       "    <tr style=\"text-align: right;\">\n",
       "      <th></th>\n",
       "      <th>state</th>\n",
       "      <th>gov_name</th>\n",
       "      <th>party</th>\n",
       "      <th>type</th>\n",
       "      <th>text</th>\n",
       "      <th>word_count</th>\n",
       "    </tr>\n",
       "  </thead>\n",
       "  <tbody>\n",
       "    <tr>\n",
       "      <th>0</th>\n",
       "      <td>illinois</td>\n",
       "      <td>jb pritzker</td>\n",
       "      <td>democratic</td>\n",
       "      <td>sos</td>\n",
       "      <td>Gov. Pritzker Proposes Transformative, Gener...</td>\n",
       "      <td>18781</td>\n",
       "    </tr>\n",
       "    <tr>\n",
       "      <th>1</th>\n",
       "      <td>west virginia</td>\n",
       "      <td>jim justice</td>\n",
       "      <td>republican</td>\n",
       "      <td>sos</td>\n",
       "      <td>VIEW PHOTO ALBUM     ...</td>\n",
       "      <td>36640</td>\n",
       "    </tr>\n",
       "  </tbody>\n",
       "</table>\n",
       "</div>"
      ],
      "text/plain": [
       "           state     gov_name       party type  \\\n",
       "0       illinois  jb pritzker  democratic  sos   \n",
       "1  west virginia  jim justice  republican  sos   \n",
       "\n",
       "                                                text  word_count  \n",
       "0    Gov. Pritzker Proposes Transformative, Gener...       18781  \n",
       "1                           VIEW PHOTO ALBUM     ...       36640  "
      ]
     },
     "execution_count": 109,
     "metadata": {},
     "output_type": "execute_result"
    }
   ],
   "source": [
    "# check the outliers\n",
    "outliers = sos[sos.word_count > 15000].reset_index(drop = True)\n",
    "outliers"
   ]
  },
  {
   "cell_type": "code",
   "execution_count": 112,
   "id": "a72f3606",
   "metadata": {},
   "outputs": [],
   "source": [
    "# duplicates \n",
    "# looks like text is repeated so let's clean\n",
    "# outliers.text[0]"
   ]
  },
  {
   "cell_type": "code",
   "execution_count": 110,
   "id": "9c383bf4",
   "metadata": {},
   "outputs": [],
   "source": [
    "# test cleaning method\n",
    "pattern = r'God bless the great state of Illinois'\n",
    "input_string = outliers.text[0]\n",
    "match = re.search(pattern, input_string)\n",
    "clean_string = input_string[:match.end()]\n",
    "\n",
    "# clean_string"
   ]
  },
  {
   "cell_type": "code",
   "execution_count": 11,
   "id": "811ba271",
   "metadata": {},
   "outputs": [],
   "source": [
    "# same issue of repeated text\n",
    "# outliers.text[1]"
   ]
  },
  {
   "cell_type": "code",
   "execution_count": 12,
   "id": "a4559c7b",
   "metadata": {},
   "outputs": [],
   "source": [
    "# test cleaning method for second example\n",
    "pattern2 = r'Thank you so much for having me. And God bless all of you.'\n",
    "\n",
    "input_string2 = outliers.text[1]\n",
    "\n",
    "match2 = re.search(pattern2, input_string2)\n",
    "\n",
    "clean_string2 = input_string2[:match2.end()]\n",
    "\n",
    "# clean_string2 "
   ]
  },
  {
   "cell_type": "code",
   "execution_count": 114,
   "id": "8e3c4231",
   "metadata": {},
   "outputs": [],
   "source": [
    "# do in main df \n",
    "def replace_text(state, pattern):\n",
    "    input_string = sos.loc[sos.state == state, 'text'].values[0]\n",
    "    match = re.search(pattern, input_string)\n",
    "    clean_string = input_string[:match.end()]\n",
    "    sos.loc[sos.state == state, 'text'] = clean_string\n",
    "    return f'successfully added cleaned text for {state}'"
   ]
  },
  {
   "cell_type": "code",
   "execution_count": 115,
   "id": "1bbd5fe2",
   "metadata": {},
   "outputs": [
    {
     "data": {
      "text/plain": [
       "'successfully added cleaned text for illinois'"
      ]
     },
     "execution_count": 115,
     "metadata": {},
     "output_type": "execute_result"
    }
   ],
   "source": [
    "replace_text('illinois', r'God bless the great state of Illinois')"
   ]
  },
  {
   "cell_type": "code",
   "execution_count": 116,
   "id": "f54529cf",
   "metadata": {},
   "outputs": [
    {
     "data": {
      "text/plain": [
       "'successfully added cleaned text for west virginia'"
      ]
     },
     "execution_count": 116,
     "metadata": {},
     "output_type": "execute_result"
    }
   ],
   "source": [
    "replace_text('west virginia', r'Thank you so much for having me. And God bless all of you.')"
   ]
  },
  {
   "cell_type": "code",
   "execution_count": 117,
   "id": "18556d94",
   "metadata": {},
   "outputs": [],
   "source": [
    "# redo word count \n",
    "sos['new_word_count'] = [len(i.split()) for i in sos.text]"
   ]
  },
  {
   "cell_type": "code",
   "execution_count": 118,
   "id": "9acfa74f",
   "metadata": {},
   "outputs": [
    {
     "data": {
      "text/plain": [
       "count       50.000000\n",
       "mean      5136.580000\n",
       "std       5216.723446\n",
       "min        531.000000\n",
       "25%       3286.250000\n",
       "50%       4251.500000\n",
       "75%       4970.500000\n",
       "max      36640.000000\n",
       "Name: word_count, dtype: float64"
      ]
     },
     "execution_count": 118,
     "metadata": {},
     "output_type": "execute_result"
    },
    {
     "data": {
      "text/plain": [
       "count      50.000000\n",
       "mean     4337.100000\n",
       "std      1692.697669\n",
       "min       531.000000\n",
       "25%      3286.250000\n",
       "50%      4251.500000\n",
       "75%      4970.500000\n",
       "max      9157.000000\n",
       "Name: new_word_count, dtype: float64"
      ]
     },
     "execution_count": 118,
     "metadata": {},
     "output_type": "execute_result"
    }
   ],
   "source": [
    "sos.word_count.describe()\n",
    "sos.new_word_count.describe() "
   ]
  },
  {
   "cell_type": "code",
   "execution_count": 119,
   "id": "47907bba",
   "metadata": {},
   "outputs": [
    {
     "data": {
      "text/plain": [
       "(array([ 1.,  1.,  3.,  3.,  9.,  2., 11.,  8.,  2.,  3.,  4.,  0.,  2.,\n",
       "         0.,  1.]),\n",
       " array([ 531.        , 1106.06666667, 1681.13333333, 2256.2       ,\n",
       "        2831.26666667, 3406.33333333, 3981.4       , 4556.46666667,\n",
       "        5131.53333333, 5706.6       , 6281.66666667, 6856.73333333,\n",
       "        7431.8       , 8006.86666667, 8581.93333333, 9157.        ]),\n",
       " <BarContainer object of 15 artists>)"
      ]
     },
     "execution_count": 119,
     "metadata": {},
     "output_type": "execute_result"
    },
    {
     "data": {
      "text/plain": [
       "Text(6000, 6, 'Mean length: 4337 words')"
      ]
     },
     "execution_count": 119,
     "metadata": {},
     "output_type": "execute_result"
    },
    {
     "data": {
      "text/plain": [
       "<matplotlib.lines.Line2D at 0x7f8af3467f10>"
      ]
     },
     "execution_count": 119,
     "metadata": {},
     "output_type": "execute_result"
    },
    {
     "data": {
      "text/plain": [
       "Text(0.5, 1.0, 'From 50 State of the State Addresses for 2023')"
      ]
     },
     "execution_count": 119,
     "metadata": {},
     "output_type": "execute_result"
    },
    {
     "data": {
      "text/plain": [
       "Text(0.5, 0.98, 'Distribution of Document Length - SOS')"
      ]
     },
     "execution_count": 119,
     "metadata": {},
     "output_type": "execute_result"
    },
    {
     "data": {
      "text/plain": [
       "Text(0.5, 0, 'Document Word Count')"
      ]
     },
     "execution_count": 119,
     "metadata": {},
     "output_type": "execute_result"
    },
    {
     "data": {
      "text/plain": [
       "Text(0, 0.5, 'Number of Documents')"
      ]
     },
     "execution_count": 119,
     "metadata": {},
     "output_type": "execute_result"
    },
    {
     "data": {
      "image/png": "[encoded data removed]",
      "text/plain": [
       "<Figure size 648x360 with 1 Axes>"
      ]
     },
     "metadata": {
      "needs_background": "light"
     },
     "output_type": "display_data"
    }
   ],
   "source": [
    "fig, ax = plt.subplots(figsize=(9,5))\n",
    "ax.hist(sos.new_word_count, bins = 15, color = 'lightblue')\n",
    "ax.text(6000, 6, 'Mean length: 4337 words')\n",
    "plt.axvline(x = 4337, color = 'dimgrey',ls = 'dashed')\n",
    "plt.title('From 50 State of the State Addresses for 2023', size = 10)\n",
    "plt.suptitle('Distribution of Document Length - SOS', size = 20)\n",
    "plt.xlabel('Document Word Count')\n",
    "plt.ylabel('Number of Documents') "
   ]
  },
  {
   "cell_type": "markdown",
   "id": "71bfb20e",
   "metadata": {},
   "source": [
    "#### Min doc frequency "
   ]
  },
  {
   "cell_type": "code",
   "execution_count": 120,
   "id": "d8f27577",
   "metadata": {},
   "outputs": [],
   "source": [
    "# explore minimum document frequency options of 1-30\n",
    "term_count = []\n",
    "\n",
    "for i in range(1, 31):\n",
    "    vectorizer = CountVectorizer(stop_words='english', min_df=i)\n",
    "    dtm = vectorizer.fit_transform(sos.text)\n",
    "    length = dtm.shape[1]\n",
    "    term_count.append(length)\n",
    "\n",
    "min_df = pd.DataFrame(data = {'Min Doc': range(1,31),\n",
    "                              'Term Count': term_count})"
   ]
  },
  {
   "cell_type": "code",
   "execution_count": 121,
   "id": "a5aeb823",
   "metadata": {},
   "outputs": [
    {
     "data": {
      "text/plain": [
       "<matplotlib.collections.PathCollection at 0x7f8af06b3820>"
      ]
     },
     "execution_count": 121,
     "metadata": {},
     "output_type": "execute_result"
    },
    {
     "data": {
      "text/plain": [
       "Text(0.5, 1.0, 'From 50 State of the State Addresses in 2023')"
      ]
     },
     "execution_count": 121,
     "metadata": {},
     "output_type": "execute_result"
    },
    {
     "data": {
      "text/plain": [
       "Text(0.5, 0.98, 'Minimum Document Frequency and Resulting Term Count')"
      ]
     },
     "execution_count": 121,
     "metadata": {},
     "output_type": "execute_result"
    },
    {
     "data": {
      "text/plain": [
       "Text(0, 0.5, 'Term Count')"
      ]
     },
     "execution_count": 121,
     "metadata": {},
     "output_type": "execute_result"
    },
    {
     "data": {
      "text/plain": [
       "Text(0.5, 0, 'Minimum Document Frequency')"
      ]
     },
     "execution_count": 121,
     "metadata": {},
     "output_type": "execute_result"
    },
    {
     "data": {
      "text/plain": [
       "([<matplotlib.axis.XTick at 0x7f8b136dca60>,\n",
       "  <matplotlib.axis.XTick at 0x7f8b136dca30>,\n",
       "  <matplotlib.axis.XTick at 0x7f8b136dc520>,\n",
       "  <matplotlib.axis.XTick at 0x7f8aa0f3dc70>,\n",
       "  <matplotlib.axis.XTick at 0x7f8b0088ea30>,\n",
       "  <matplotlib.axis.XTick at 0x7f8b0088e8b0>,\n",
       "  <matplotlib.axis.XTick at 0x7f8b0088e8e0>,\n",
       "  <matplotlib.axis.XTick at 0x7f8b00892ac0>,\n",
       "  <matplotlib.axis.XTick at 0x7f8b0088d2e0>,\n",
       "  <matplotlib.axis.XTick at 0x7f8b0088dac0>,\n",
       "  <matplotlib.axis.XTick at 0x7f8b0088d880>,\n",
       "  <matplotlib.axis.XTick at 0x7f8b00892160>,\n",
       "  <matplotlib.axis.XTick at 0x7f8af3491640>,\n",
       "  <matplotlib.axis.XTick at 0x7f8af3491e20>,\n",
       "  <matplotlib.axis.XTick at 0x7f8af34c2640>,\n",
       "  <matplotlib.axis.XTick at 0x7f8af34c2e20>,\n",
       "  <matplotlib.axis.XTick at 0x7f8af3491190>,\n",
       "  <matplotlib.axis.XTick at 0x7f8b00892df0>,\n",
       "  <matplotlib.axis.XTick at 0x7f8af34a99a0>,\n",
       "  <matplotlib.axis.XTick at 0x7f8af34a9100>,\n",
       "  <matplotlib.axis.XTick at 0x7f8af349e9a0>,\n",
       "  <matplotlib.axis.XTick at 0x7f8af34a9040>,\n",
       "  <matplotlib.axis.XTick at 0x7f8af349e550>,\n",
       "  <matplotlib.axis.XTick at 0x7f8ab01b8370>,\n",
       "  <matplotlib.axis.XTick at 0x7f8ab01b8b50>,\n",
       "  <matplotlib.axis.XTick at 0x7f8ab01c3370>,\n",
       "  <matplotlib.axis.XTick at 0x7f8ab01b8700>,\n",
       "  <matplotlib.axis.XTick at 0x7f8af34a9f40>,\n",
       "  <matplotlib.axis.XTick at 0x7f8ab01c3e20>,\n",
       "  <matplotlib.axis.XTick at 0x7f8ab01bc640>],\n",
       " [Text(1, 0, '1'),\n",
       "  Text(2, 0, '2'),\n",
       "  Text(3, 0, '3'),\n",
       "  Text(4, 0, '4'),\n",
       "  Text(5, 0, '5'),\n",
       "  Text(6, 0, '6'),\n",
       "  Text(7, 0, '7'),\n",
       "  Text(8, 0, '8'),\n",
       "  Text(9, 0, '9'),\n",
       "  Text(10, 0, '10'),\n",
       "  Text(11, 0, '11'),\n",
       "  Text(12, 0, '12'),\n",
       "  Text(13, 0, '13'),\n",
       "  Text(14, 0, '14'),\n",
       "  Text(15, 0, '15'),\n",
       "  Text(16, 0, '16'),\n",
       "  Text(17, 0, '17'),\n",
       "  Text(18, 0, '18'),\n",
       "  Text(19, 0, '19'),\n",
       "  Text(20, 0, '20'),\n",
       "  Text(21, 0, '21'),\n",
       "  Text(22, 0, '22'),\n",
       "  Text(23, 0, '23'),\n",
       "  Text(24, 0, '24'),\n",
       "  Text(25, 0, '25'),\n",
       "  Text(26, 0, '26'),\n",
       "  Text(27, 0, '27'),\n",
       "  Text(28, 0, '28'),\n",
       "  Text(29, 0, '29'),\n",
       "  Text(30, 0, '30')])"
      ]
     },
     "execution_count": 121,
     "metadata": {},
     "output_type": "execute_result"
    },
    {
     "data": {
      "image/png": "[encoded data removed]",
      "text/plain": [
       "<Figure size 864x468 with 1 Axes>"
      ]
     },
     "metadata": {
      "needs_background": "light"
     },
     "output_type": "display_data"
    }
   ],
   "source": [
    "fig, ax = plt.subplots(figsize=(12,6.5))\n",
    "# ax.plot(range(1,26), min_df['Term Count'], linewidth = 2.5, color = 'green')\n",
    "ax.scatter(x = min_df['Min Doc'], y = min_df['Term Count'])\n",
    "plt.title('From 50 State of the State Addresses in 2023')\n",
    "plt.suptitle('Minimum Document Frequency and Resulting Term Count', size = 20)\n",
    "plt.ylabel('Term Count')\n",
    "plt.xlabel('Minimum Document Frequency')\n",
    "plt.xticks(range(1,31))\n",
    "#plt.savefig('min_doc_freq.png')"
   ]
  },
  {
   "cell_type": "code",
   "execution_count": 122,
   "id": "7b1f6d81",
   "metadata": {},
   "outputs": [],
   "source": [
    "# Let's use 6 to reduce the words but still keep a high term count. Plus our overall sample size (50) is low."
   ]
  },
  {
   "cell_type": "markdown",
   "id": "e8da3a90",
   "metadata": {},
   "source": [
    "#### + custom stopwords"
   ]
  },
  {
   "cell_type": "code",
   "execution_count": 123,
   "id": "9728448e",
   "metadata": {},
   "outputs": [],
   "source": [
    "# define functions for testing hyper parameter easily\n",
    "def convert_to_term_df(dtm_input, tfidf_vectorizer_input):\n",
    "    content_index = pd.DataFrame(dtm_input.toarray()).head()\n",
    "    term_indices = {index: term for term, index in tfidf_vectorizer_input.vocabulary_.items()}\n",
    "    colterms = [term_indices[i] for i in range(dtm_input.shape[1])]\n",
    "    final_df = pd.DataFrame(dtm_input.toarray(), columns=colterms)\n",
    "\n",
    "    return final_df"
   ]
  },
  {
   "cell_type": "code",
   "execution_count": 23,
   "id": "15971ffe",
   "metadata": {},
   "outputs": [],
   "source": [
    "# define function to print the top most frequent terms in the tf-idf\n",
    "# https://stackoverflow.com/questions/34232190/scikit-learn-tfidfvectorizer-how-to-get-top-n-terms-with-highest-tf-idf-score\n",
    "def get_top_terms(dtm_input, tfidf_vectorizer_input, num):\n",
    "    importance = np.argsort(np.asarray(dtm_input.sum(axis=0)).ravel())[::-1]\n",
    "    tfidf_feature_names = np.array(tfidf_vectorizer_input.get_feature_names_out())\n",
    "    return tfidf_feature_names[importance[: num]]"
   ]
  },
  {
   "cell_type": "code",
   "execution_count": 140,
   "id": "cb6b050a",
   "metadata": {},
   "outputs": [
    {
     "data": {
      "text/plain": [
       "(50, 2267)"
      ]
     },
     "execution_count": 140,
     "metadata": {},
     "output_type": "execute_result"
    }
   ],
   "source": [
    "# vectorize with stop words only \n",
    "tfidf_vectorizer = TfidfVectorizer(stop_words='english', min_df=6)\n",
    "dtm = tfidf_vectorizer.fit_transform(sos.text)\n",
    "dtm.shape #(50, 2267)"
   ]
  },
  {
   "cell_type": "code",
   "execution_count": 125,
   "id": "6bbaff0f",
   "metadata": {},
   "outputs": [
    {
     "data": {
      "text/html": [
       "<div>\n",
       "<style scoped>\n",
       "    .dataframe tbody tr th:only-of-type {\n",
       "        vertical-align: middle;\n",
       "    }\n",
       "\n",
       "    .dataframe tbody tr th {\n",
       "        vertical-align: top;\n",
       "    }\n",
       "\n",
       "    .dataframe thead th {\n",
       "        text-align: right;\n",
       "    }\n",
       "</style>\n",
       "<table border=\"1\" class=\"dataframe\">\n",
       "  <thead>\n",
       "    <tr style=\"text-align: right;\">\n",
       "      <th></th>\n",
       "      <th>000</th>\n",
       "      <th>10</th>\n",
       "      <th>100</th>\n",
       "      <th>11</th>\n",
       "      <th>12</th>\n",
       "      <th>120</th>\n",
       "      <th>13</th>\n",
       "      <th>14</th>\n",
       "      <th>15</th>\n",
       "      <th>150</th>\n",
       "      <th>...</th>\n",
       "      <th>years</th>\n",
       "      <th>yes</th>\n",
       "      <th>yesterday</th>\n",
       "      <th>york</th>\n",
       "      <th>young</th>\n",
       "      <th>youngest</th>\n",
       "      <th>youth</th>\n",
       "      <th>zero</th>\n",
       "      <th>zip</th>\n",
       "      <th>zoning</th>\n",
       "    </tr>\n",
       "  </thead>\n",
       "  <tbody>\n",
       "    <tr>\n",
       "      <th>0</th>\n",
       "      <td>0.011607</td>\n",
       "      <td>0.000000</td>\n",
       "      <td>0.000000</td>\n",
       "      <td>0.000000</td>\n",
       "      <td>0.000000</td>\n",
       "      <td>0.0</td>\n",
       "      <td>0.000000</td>\n",
       "      <td>0.000000</td>\n",
       "      <td>0.000000</td>\n",
       "      <td>0.000000</td>\n",
       "      <td>...</td>\n",
       "      <td>0.060672</td>\n",
       "      <td>0.000000</td>\n",
       "      <td>0.0</td>\n",
       "      <td>0.0</td>\n",
       "      <td>0.040108</td>\n",
       "      <td>0.027115</td>\n",
       "      <td>0.0</td>\n",
       "      <td>0.000000</td>\n",
       "      <td>0.026071</td>\n",
       "      <td>0.000000</td>\n",
       "    </tr>\n",
       "    <tr>\n",
       "      <th>1</th>\n",
       "      <td>0.006296</td>\n",
       "      <td>0.014209</td>\n",
       "      <td>0.015771</td>\n",
       "      <td>0.010980</td>\n",
       "      <td>0.018004</td>\n",
       "      <td>0.0</td>\n",
       "      <td>0.035882</td>\n",
       "      <td>0.011961</td>\n",
       "      <td>0.009662</td>\n",
       "      <td>0.000000</td>\n",
       "      <td>...</td>\n",
       "      <td>0.170035</td>\n",
       "      <td>0.024663</td>\n",
       "      <td>0.0</td>\n",
       "      <td>0.0</td>\n",
       "      <td>0.021756</td>\n",
       "      <td>0.000000</td>\n",
       "      <td>0.0</td>\n",
       "      <td>0.013629</td>\n",
       "      <td>0.000000</td>\n",
       "      <td>0.000000</td>\n",
       "    </tr>\n",
       "    <tr>\n",
       "      <th>2</th>\n",
       "      <td>0.031431</td>\n",
       "      <td>0.017733</td>\n",
       "      <td>0.009841</td>\n",
       "      <td>0.000000</td>\n",
       "      <td>0.033704</td>\n",
       "      <td>0.0</td>\n",
       "      <td>0.000000</td>\n",
       "      <td>0.000000</td>\n",
       "      <td>0.012058</td>\n",
       "      <td>0.013703</td>\n",
       "      <td>...</td>\n",
       "      <td>0.061608</td>\n",
       "      <td>0.000000</td>\n",
       "      <td>0.0</td>\n",
       "      <td>0.0</td>\n",
       "      <td>0.009050</td>\n",
       "      <td>0.000000</td>\n",
       "      <td>0.0</td>\n",
       "      <td>0.000000</td>\n",
       "      <td>0.000000</td>\n",
       "      <td>0.000000</td>\n",
       "    </tr>\n",
       "    <tr>\n",
       "      <th>3</th>\n",
       "      <td>0.016376</td>\n",
       "      <td>0.000000</td>\n",
       "      <td>0.000000</td>\n",
       "      <td>0.028558</td>\n",
       "      <td>0.000000</td>\n",
       "      <td>0.0</td>\n",
       "      <td>0.000000</td>\n",
       "      <td>0.000000</td>\n",
       "      <td>0.000000</td>\n",
       "      <td>0.000000</td>\n",
       "      <td>...</td>\n",
       "      <td>0.085597</td>\n",
       "      <td>0.000000</td>\n",
       "      <td>0.0</td>\n",
       "      <td>0.0</td>\n",
       "      <td>0.018862</td>\n",
       "      <td>0.076509</td>\n",
       "      <td>0.0</td>\n",
       "      <td>0.000000</td>\n",
       "      <td>0.036781</td>\n",
       "      <td>0.000000</td>\n",
       "    </tr>\n",
       "    <tr>\n",
       "      <th>4</th>\n",
       "      <td>0.011601</td>\n",
       "      <td>0.013090</td>\n",
       "      <td>0.014529</td>\n",
       "      <td>0.020231</td>\n",
       "      <td>0.000000</td>\n",
       "      <td>0.0</td>\n",
       "      <td>0.000000</td>\n",
       "      <td>0.000000</td>\n",
       "      <td>0.000000</td>\n",
       "      <td>0.020231</td>\n",
       "      <td>...</td>\n",
       "      <td>0.080850</td>\n",
       "      <td>0.045443</td>\n",
       "      <td>0.0</td>\n",
       "      <td>0.0</td>\n",
       "      <td>0.000000</td>\n",
       "      <td>0.000000</td>\n",
       "      <td>0.0</td>\n",
       "      <td>0.000000</td>\n",
       "      <td>0.000000</td>\n",
       "      <td>0.028267</td>\n",
       "    </tr>\n",
       "  </tbody>\n",
       "</table>\n",
       "<p>5 rows × 2267 columns</p>\n",
       "</div>"
      ],
      "text/plain": [
       "        000        10       100        11        12  120        13        14  \\\n",
       "0  0.011607  0.000000  0.000000  0.000000  0.000000  0.0  0.000000  0.000000   \n",
       "1  0.006296  0.014209  0.015771  0.010980  0.018004  0.0  0.035882  0.011961   \n",
       "2  0.031431  0.017733  0.009841  0.000000  0.033704  0.0  0.000000  0.000000   \n",
       "3  0.016376  0.000000  0.000000  0.028558  0.000000  0.0  0.000000  0.000000   \n",
       "4  0.011601  0.013090  0.014529  0.020231  0.000000  0.0  0.000000  0.000000   \n",
       "\n",
       "         15       150  ...     years       yes  yesterday  york     young  \\\n",
       "0  0.000000  0.000000  ...  0.060672  0.000000        0.0   0.0  0.040108   \n",
       "1  0.009662  0.000000  ...  0.170035  0.024663        0.0   0.0  0.021756   \n",
       "2  0.012058  0.013703  ...  0.061608  0.000000        0.0   0.0  0.009050   \n",
       "3  0.000000  0.000000  ...  0.085597  0.000000        0.0   0.0  0.018862   \n",
       "4  0.000000  0.020231  ...  0.080850  0.045443        0.0   0.0  0.000000   \n",
       "\n",
       "   youngest  youth      zero       zip    zoning  \n",
       "0  0.027115    0.0  0.000000  0.026071  0.000000  \n",
       "1  0.000000    0.0  0.013629  0.000000  0.000000  \n",
       "2  0.000000    0.0  0.000000  0.000000  0.000000  \n",
       "3  0.076509    0.0  0.000000  0.036781  0.000000  \n",
       "4  0.000000    0.0  0.000000  0.000000  0.028267  \n",
       "\n",
       "[5 rows x 2267 columns]"
      ]
     },
     "execution_count": 125,
     "metadata": {},
     "output_type": "execute_result"
    }
   ],
   "source": [
    "# create df\n",
    "df = convert_to_term_df(dtm, tfidf_vectorizer)\n",
    "df.head()"
   ]
  },
  {
   "cell_type": "code",
   "execution_count": 141,
   "id": "3431ef63",
   "metadata": {},
   "outputs": [],
   "source": [
    "# add custom stop words - (tweaked throughout the process based on later parts of this notebook)\n",
    "# https://aparnamishra144.medium.com/how-to-add-custom-stopwords-and-remove-them-from-text-in-nlp-50d342cfafff\n",
    "\n",
    "stop_list = ['four','absolutely','tonight','state', 'governor', 'year', 'alabama', 'new', 'north', 'south', 'west', 'alaska', 'arizona', 'arkansas', 'california', 'colorado',\n",
    "             'connecticut','delaware','florida','georgia','hawaii','idaho','illinois','indiana','iowa',\n",
    "             'kansas','kentucky','louisiana','maine','maryland','massachusetts','michigan','minnesota',\n",
    "             'mississippi','missouri','montana','nebraska','nevada', 'hampshire', 'jersey', 'mexico','york',\n",
    "             'carolina', 'dakota','ohio','oklahoma','oregon','pennsylvania','rhode','island','tennessee','texas',\n",
    "             'utah','vermont','virginia','washington','west virginia', 'wisconsin','wyoming', \n",
    "             'could', 'doe', 'ha', 'kansa', 'might', 'must', 'need', 'sha', 'wa', 'would']\n",
    "\n",
    "stpwrd = nltk.corpus.stopwords.words('english')\n",
    "stpwrd.extend(stop_list)\n",
    "#stpwrd"
   ]
  },
  {
   "cell_type": "code",
   "execution_count": 142,
   "id": "21d04372",
   "metadata": {},
   "outputs": [
    {
     "data": {
      "text/plain": [
       "(50, 2348)"
      ]
     },
     "execution_count": 142,
     "metadata": {},
     "output_type": "execute_result"
    }
   ],
   "source": [
    "# vectorize with custom stop words only \n",
    "tfidf_vectorizer1 = TfidfVectorizer(stop_words=stpwrd, min_df=6)\n",
    "dtm1 = tfidf_vectorizer1.fit_transform(sos.text)\n",
    "dtm1.shape # (50, 2348) # increased word count "
   ]
  },
  {
   "cell_type": "code",
   "execution_count": 128,
   "id": "b887a0c9",
   "metadata": {},
   "outputs": [
    {
     "data": {
      "text/plain": [
       "array(['people', 'us', 'years', 'one', 'every', 'work', 'make', 'also',\n",
       "       'today', 'first'], dtype=object)"
      ]
     },
     "execution_count": 128,
     "metadata": {},
     "output_type": "execute_result"
    },
    {
     "data": {
      "text/html": [
       "<div>\n",
       "<style scoped>\n",
       "    .dataframe tbody tr th:only-of-type {\n",
       "        vertical-align: middle;\n",
       "    }\n",
       "\n",
       "    .dataframe tbody tr th {\n",
       "        vertical-align: top;\n",
       "    }\n",
       "\n",
       "    .dataframe thead th {\n",
       "        text-align: right;\n",
       "    }\n",
       "</style>\n",
       "<table border=\"1\" class=\"dataframe\">\n",
       "  <thead>\n",
       "    <tr style=\"text-align: right;\">\n",
       "      <th></th>\n",
       "      <th>000</th>\n",
       "      <th>10</th>\n",
       "      <th>100</th>\n",
       "      <th>11</th>\n",
       "      <th>12</th>\n",
       "      <th>120</th>\n",
       "      <th>13</th>\n",
       "      <th>14</th>\n",
       "      <th>15</th>\n",
       "      <th>150</th>\n",
       "      <th>...</th>\n",
       "      <th>years</th>\n",
       "      <th>yes</th>\n",
       "      <th>yesterday</th>\n",
       "      <th>yet</th>\n",
       "      <th>young</th>\n",
       "      <th>youngest</th>\n",
       "      <th>youth</th>\n",
       "      <th>zero</th>\n",
       "      <th>zip</th>\n",
       "      <th>zoning</th>\n",
       "    </tr>\n",
       "  </thead>\n",
       "  <tbody>\n",
       "    <tr>\n",
       "      <th>0</th>\n",
       "      <td>0.011574</td>\n",
       "      <td>0.000000</td>\n",
       "      <td>0.000000</td>\n",
       "      <td>0.000000</td>\n",
       "      <td>0.000000</td>\n",
       "      <td>0.0</td>\n",
       "      <td>0.000000</td>\n",
       "      <td>0.000000</td>\n",
       "      <td>0.000000</td>\n",
       "      <td>0.000000</td>\n",
       "      <td>...</td>\n",
       "      <td>0.060497</td>\n",
       "      <td>0.000000</td>\n",
       "      <td>0.0</td>\n",
       "      <td>0.000000</td>\n",
       "      <td>0.039992</td>\n",
       "      <td>0.027037</td>\n",
       "      <td>0.0</td>\n",
       "      <td>0.000000</td>\n",
       "      <td>0.025996</td>\n",
       "      <td>0.000000</td>\n",
       "    </tr>\n",
       "    <tr>\n",
       "      <th>1</th>\n",
       "      <td>0.006947</td>\n",
       "      <td>0.015677</td>\n",
       "      <td>0.017400</td>\n",
       "      <td>0.012115</td>\n",
       "      <td>0.019865</td>\n",
       "      <td>0.0</td>\n",
       "      <td>0.039589</td>\n",
       "      <td>0.013196</td>\n",
       "      <td>0.010660</td>\n",
       "      <td>0.000000</td>\n",
       "      <td>...</td>\n",
       "      <td>0.187605</td>\n",
       "      <td>0.027212</td>\n",
       "      <td>0.0</td>\n",
       "      <td>0.000000</td>\n",
       "      <td>0.024004</td>\n",
       "      <td>0.000000</td>\n",
       "      <td>0.0</td>\n",
       "      <td>0.015037</td>\n",
       "      <td>0.000000</td>\n",
       "      <td>0.000000</td>\n",
       "    </tr>\n",
       "    <tr>\n",
       "      <th>2</th>\n",
       "      <td>0.032102</td>\n",
       "      <td>0.018112</td>\n",
       "      <td>0.010051</td>\n",
       "      <td>0.000000</td>\n",
       "      <td>0.034424</td>\n",
       "      <td>0.0</td>\n",
       "      <td>0.000000</td>\n",
       "      <td>0.000000</td>\n",
       "      <td>0.012315</td>\n",
       "      <td>0.013996</td>\n",
       "      <td>...</td>\n",
       "      <td>0.062924</td>\n",
       "      <td>0.000000</td>\n",
       "      <td>0.0</td>\n",
       "      <td>0.000000</td>\n",
       "      <td>0.009244</td>\n",
       "      <td>0.000000</td>\n",
       "      <td>0.0</td>\n",
       "      <td>0.000000</td>\n",
       "      <td>0.000000</td>\n",
       "      <td>0.000000</td>\n",
       "    </tr>\n",
       "    <tr>\n",
       "      <th>3</th>\n",
       "      <td>0.015874</td>\n",
       "      <td>0.000000</td>\n",
       "      <td>0.000000</td>\n",
       "      <td>0.027682</td>\n",
       "      <td>0.000000</td>\n",
       "      <td>0.0</td>\n",
       "      <td>0.000000</td>\n",
       "      <td>0.000000</td>\n",
       "      <td>0.000000</td>\n",
       "      <td>0.000000</td>\n",
       "      <td>...</td>\n",
       "      <td>0.082972</td>\n",
       "      <td>0.000000</td>\n",
       "      <td>0.0</td>\n",
       "      <td>0.041511</td>\n",
       "      <td>0.018283</td>\n",
       "      <td>0.074163</td>\n",
       "      <td>0.0</td>\n",
       "      <td>0.000000</td>\n",
       "      <td>0.035653</td>\n",
       "      <td>0.000000</td>\n",
       "    </tr>\n",
       "    <tr>\n",
       "      <th>4</th>\n",
       "      <td>0.015362</td>\n",
       "      <td>0.017334</td>\n",
       "      <td>0.019239</td>\n",
       "      <td>0.026789</td>\n",
       "      <td>0.000000</td>\n",
       "      <td>0.0</td>\n",
       "      <td>0.000000</td>\n",
       "      <td>0.000000</td>\n",
       "      <td>0.000000</td>\n",
       "      <td>0.026789</td>\n",
       "      <td>...</td>\n",
       "      <td>0.107061</td>\n",
       "      <td>0.060175</td>\n",
       "      <td>0.0</td>\n",
       "      <td>0.040172</td>\n",
       "      <td>0.000000</td>\n",
       "      <td>0.000000</td>\n",
       "      <td>0.0</td>\n",
       "      <td>0.000000</td>\n",
       "      <td>0.000000</td>\n",
       "      <td>0.037431</td>\n",
       "    </tr>\n",
       "  </tbody>\n",
       "</table>\n",
       "<p>5 rows × 2348 columns</p>\n",
       "</div>"
      ],
      "text/plain": [
       "        000        10       100        11        12  120        13        14  \\\n",
       "0  0.011574  0.000000  0.000000  0.000000  0.000000  0.0  0.000000  0.000000   \n",
       "1  0.006947  0.015677  0.017400  0.012115  0.019865  0.0  0.039589  0.013196   \n",
       "2  0.032102  0.018112  0.010051  0.000000  0.034424  0.0  0.000000  0.000000   \n",
       "3  0.015874  0.000000  0.000000  0.027682  0.000000  0.0  0.000000  0.000000   \n",
       "4  0.015362  0.017334  0.019239  0.026789  0.000000  0.0  0.000000  0.000000   \n",
       "\n",
       "         15       150  ...     years       yes  yesterday       yet     young  \\\n",
       "0  0.000000  0.000000  ...  0.060497  0.000000        0.0  0.000000  0.039992   \n",
       "1  0.010660  0.000000  ...  0.187605  0.027212        0.0  0.000000  0.024004   \n",
       "2  0.012315  0.013996  ...  0.062924  0.000000        0.0  0.000000  0.009244   \n",
       "3  0.000000  0.000000  ...  0.082972  0.000000        0.0  0.041511  0.018283   \n",
       "4  0.000000  0.026789  ...  0.107061  0.060175        0.0  0.040172  0.000000   \n",
       "\n",
       "   youngest  youth      zero       zip    zoning  \n",
       "0  0.027037    0.0  0.000000  0.025996  0.000000  \n",
       "1  0.000000    0.0  0.015037  0.000000  0.000000  \n",
       "2  0.000000    0.0  0.000000  0.000000  0.000000  \n",
       "3  0.074163    0.0  0.000000  0.035653  0.000000  \n",
       "4  0.000000    0.0  0.000000  0.000000  0.037431  \n",
       "\n",
       "[5 rows x 2348 columns]"
      ]
     },
     "execution_count": 128,
     "metadata": {},
     "output_type": "execute_result"
    }
   ],
   "source": [
    "# get frequent terms \n",
    "get_top_terms(dtm1, tfidf_vectorizer1, 10)\n",
    "\n",
    "# create df\n",
    "df1 = convert_to_term_df(dtm1, tfidf_vectorizer1)\n",
    "df1.head()"
   ]
  },
  {
   "cell_type": "markdown",
   "id": "2fe1a4ff",
   "metadata": {},
   "source": [
    "#### + words only"
   ]
  },
  {
   "cell_type": "code",
   "execution_count": 129,
   "id": "ada4949a",
   "metadata": {},
   "outputs": [
    {
     "data": {
      "text/plain": [
       "(50, 2281)"
      ]
     },
     "execution_count": 129,
     "metadata": {},
     "output_type": "execute_result"
    }
   ],
   "source": [
    "# vectorize with stop words and words only (remove numbers and must be 3 letters minimum)\n",
    "tfidf_vectorizer2 = TfidfVectorizer(stop_words=stpwrd, min_df=6, token_pattern= r'\\b[a-zA-Z]{3,}\\b')\n",
    "dtm2 = tfidf_vectorizer2.fit_transform(sos.text)\n",
    "dtm2.shape #(50, 2281) # reduced term count again "
   ]
  },
  {
   "cell_type": "code",
   "execution_count": 130,
   "id": "71f6bfa9",
   "metadata": {},
   "outputs": [
    {
     "data": {
      "text/plain": [
       "array(['people', 'years', 'one', 'every', 'work', 'make', 'also', 'first',\n",
       "       'today', 'let'], dtype=object)"
      ]
     },
     "execution_count": 130,
     "metadata": {},
     "output_type": "execute_result"
    },
    {
     "data": {
      "text/html": [
       "<div>\n",
       "<style scoped>\n",
       "    .dataframe tbody tr th:only-of-type {\n",
       "        vertical-align: middle;\n",
       "    }\n",
       "\n",
       "    .dataframe tbody tr th {\n",
       "        vertical-align: top;\n",
       "    }\n",
       "\n",
       "    .dataframe thead th {\n",
       "        text-align: right;\n",
       "    }\n",
       "</style>\n",
       "<table border=\"1\" class=\"dataframe\">\n",
       "  <thead>\n",
       "    <tr style=\"text-align: right;\">\n",
       "      <th></th>\n",
       "      <th>ability</th>\n",
       "      <th>able</th>\n",
       "      <th>abortion</th>\n",
       "      <th>abroad</th>\n",
       "      <th>abundance</th>\n",
       "      <th>abundant</th>\n",
       "      <th>abuse</th>\n",
       "      <th>academy</th>\n",
       "      <th>accelerate</th>\n",
       "      <th>accept</th>\n",
       "      <th>...</th>\n",
       "      <th>years</th>\n",
       "      <th>yes</th>\n",
       "      <th>yesterday</th>\n",
       "      <th>yet</th>\n",
       "      <th>young</th>\n",
       "      <th>youngest</th>\n",
       "      <th>youth</th>\n",
       "      <th>zero</th>\n",
       "      <th>zip</th>\n",
       "      <th>zoning</th>\n",
       "    </tr>\n",
       "  </thead>\n",
       "  <tbody>\n",
       "    <tr>\n",
       "      <th>0</th>\n",
       "      <td>0.037428</td>\n",
       "      <td>0.013649</td>\n",
       "      <td>0.000000</td>\n",
       "      <td>0.029607</td>\n",
       "      <td>0.029607</td>\n",
       "      <td>0.000000</td>\n",
       "      <td>0.0</td>\n",
       "      <td>0.0</td>\n",
       "      <td>0.025125</td>\n",
       "      <td>0.023469</td>\n",
       "      <td>...</td>\n",
       "      <td>0.060672</td>\n",
       "      <td>0.000000</td>\n",
       "      <td>0.0</td>\n",
       "      <td>0.000000</td>\n",
       "      <td>0.040108</td>\n",
       "      <td>0.027115</td>\n",
       "      <td>0.0</td>\n",
       "      <td>0.000000</td>\n",
       "      <td>0.026071</td>\n",
       "      <td>0.000000</td>\n",
       "    </tr>\n",
       "    <tr>\n",
       "      <th>1</th>\n",
       "      <td>0.023001</td>\n",
       "      <td>0.008388</td>\n",
       "      <td>0.000000</td>\n",
       "      <td>0.000000</td>\n",
       "      <td>0.000000</td>\n",
       "      <td>0.000000</td>\n",
       "      <td>0.0</td>\n",
       "      <td>0.0</td>\n",
       "      <td>0.000000</td>\n",
       "      <td>0.100959</td>\n",
       "      <td>...</td>\n",
       "      <td>0.192641</td>\n",
       "      <td>0.027942</td>\n",
       "      <td>0.0</td>\n",
       "      <td>0.000000</td>\n",
       "      <td>0.024648</td>\n",
       "      <td>0.000000</td>\n",
       "      <td>0.0</td>\n",
       "      <td>0.015441</td>\n",
       "      <td>0.000000</td>\n",
       "      <td>0.000000</td>\n",
       "    </tr>\n",
       "    <tr>\n",
       "      <th>2</th>\n",
       "      <td>0.000000</td>\n",
       "      <td>0.000000</td>\n",
       "      <td>0.015866</td>\n",
       "      <td>0.000000</td>\n",
       "      <td>0.000000</td>\n",
       "      <td>0.019739</td>\n",
       "      <td>0.0</td>\n",
       "      <td>0.0</td>\n",
       "      <td>0.000000</td>\n",
       "      <td>0.000000</td>\n",
       "      <td>...</td>\n",
       "      <td>0.063514</td>\n",
       "      <td>0.000000</td>\n",
       "      <td>0.0</td>\n",
       "      <td>0.000000</td>\n",
       "      <td>0.009330</td>\n",
       "      <td>0.000000</td>\n",
       "      <td>0.0</td>\n",
       "      <td>0.000000</td>\n",
       "      <td>0.000000</td>\n",
       "      <td>0.000000</td>\n",
       "    </tr>\n",
       "    <tr>\n",
       "      <th>3</th>\n",
       "      <td>0.025868</td>\n",
       "      <td>0.000000</td>\n",
       "      <td>0.000000</td>\n",
       "      <td>0.000000</td>\n",
       "      <td>0.000000</td>\n",
       "      <td>0.039096</td>\n",
       "      <td>0.0</td>\n",
       "      <td>0.0</td>\n",
       "      <td>0.000000</td>\n",
       "      <td>0.032441</td>\n",
       "      <td>...</td>\n",
       "      <td>0.083867</td>\n",
       "      <td>0.000000</td>\n",
       "      <td>0.0</td>\n",
       "      <td>0.041959</td>\n",
       "      <td>0.018480</td>\n",
       "      <td>0.074963</td>\n",
       "      <td>0.0</td>\n",
       "      <td>0.000000</td>\n",
       "      <td>0.036037</td>\n",
       "      <td>0.000000</td>\n",
       "    </tr>\n",
       "    <tr>\n",
       "      <th>4</th>\n",
       "      <td>0.000000</td>\n",
       "      <td>0.000000</td>\n",
       "      <td>0.030270</td>\n",
       "      <td>0.000000</td>\n",
       "      <td>0.000000</td>\n",
       "      <td>0.000000</td>\n",
       "      <td>0.0</td>\n",
       "      <td>0.0</td>\n",
       "      <td>0.000000</td>\n",
       "      <td>0.000000</td>\n",
       "      <td>...</td>\n",
       "      <td>0.107710</td>\n",
       "      <td>0.060539</td>\n",
       "      <td>0.0</td>\n",
       "      <td>0.040416</td>\n",
       "      <td>0.000000</td>\n",
       "      <td>0.000000</td>\n",
       "      <td>0.0</td>\n",
       "      <td>0.000000</td>\n",
       "      <td>0.000000</td>\n",
       "      <td>0.037658</td>\n",
       "    </tr>\n",
       "  </tbody>\n",
       "</table>\n",
       "<p>5 rows × 2281 columns</p>\n",
       "</div>"
      ],
      "text/plain": [
       "    ability      able  abortion    abroad  abundance  abundant  abuse  \\\n",
       "0  0.037428  0.013649  0.000000  0.029607   0.029607  0.000000    0.0   \n",
       "1  0.023001  0.008388  0.000000  0.000000   0.000000  0.000000    0.0   \n",
       "2  0.000000  0.000000  0.015866  0.000000   0.000000  0.019739    0.0   \n",
       "3  0.025868  0.000000  0.000000  0.000000   0.000000  0.039096    0.0   \n",
       "4  0.000000  0.000000  0.030270  0.000000   0.000000  0.000000    0.0   \n",
       "\n",
       "   academy  accelerate    accept  ...     years       yes  yesterday  \\\n",
       "0      0.0    0.025125  0.023469  ...  0.060672  0.000000        0.0   \n",
       "1      0.0    0.000000  0.100959  ...  0.192641  0.027942        0.0   \n",
       "2      0.0    0.000000  0.000000  ...  0.063514  0.000000        0.0   \n",
       "3      0.0    0.000000  0.032441  ...  0.083867  0.000000        0.0   \n",
       "4      0.0    0.000000  0.000000  ...  0.107710  0.060539        0.0   \n",
       "\n",
       "        yet     young  youngest  youth      zero       zip    zoning  \n",
       "0  0.000000  0.040108  0.027115    0.0  0.000000  0.026071  0.000000  \n",
       "1  0.000000  0.024648  0.000000    0.0  0.015441  0.000000  0.000000  \n",
       "2  0.000000  0.009330  0.000000    0.0  0.000000  0.000000  0.000000  \n",
       "3  0.041959  0.018480  0.074963    0.0  0.000000  0.036037  0.000000  \n",
       "4  0.040416  0.000000  0.000000    0.0  0.000000  0.000000  0.037658  \n",
       "\n",
       "[5 rows x 2281 columns]"
      ]
     },
     "execution_count": 130,
     "metadata": {},
     "output_type": "execute_result"
    }
   ],
   "source": [
    "# get most frequent terms\n",
    "get_top_terms(dtm2, tfidf_vectorizer2, 10)\n",
    "\n",
    "# create df\n",
    "df2 = convert_to_term_df(dtm2, tfidf_vectorizer2)\n",
    "df2.head()"
   ]
  },
  {
   "cell_type": "markdown",
   "id": "89fcae4d",
   "metadata": {},
   "source": [
    "#### + bigrams"
   ]
  },
  {
   "cell_type": "code",
   "execution_count": 131,
   "id": "3fc95ea8",
   "metadata": {},
   "outputs": [
    {
     "data": {
      "text/plain": [
       "(50, 2826)"
      ]
     },
     "execution_count": 131,
     "metadata": {},
     "output_type": "execute_result"
    }
   ],
   "source": [
    "# vectorize with bigrams (two word pairs)\n",
    "tfidf_vectorizer3 = TfidfVectorizer(stop_words=stpwrd, min_df=6, ngram_range=(1,2), \n",
    "                                    token_pattern= r'\\b[a-zA-Z]{3,}\\b')\n",
    "dtm3 = tfidf_vectorizer3.fit_transform(sos.text)\n",
    "dtm3.shape  # (50, 2826) # bigger increase in term count "
   ]
  },
  {
   "cell_type": "code",
   "execution_count": 132,
   "id": "216972b2",
   "metadata": {},
   "outputs": [
    {
     "data": {
      "text/plain": [
       "array(['people', 'years', 'one', 'every', 'work', 'make', 'first', 'also',\n",
       "       'today', 'let'], dtype=object)"
      ]
     },
     "execution_count": 132,
     "metadata": {},
     "output_type": "execute_result"
    },
    {
     "data": {
      "text/html": [
       "<div>\n",
       "<style scoped>\n",
       "    .dataframe tbody tr th:only-of-type {\n",
       "        vertical-align: middle;\n",
       "    }\n",
       "\n",
       "    .dataframe tbody tr th {\n",
       "        vertical-align: top;\n",
       "    }\n",
       "\n",
       "    .dataframe thead th {\n",
       "        text-align: right;\n",
       "    }\n",
       "</style>\n",
       "<table border=\"1\" class=\"dataframe\">\n",
       "  <thead>\n",
       "    <tr style=\"text-align: right;\">\n",
       "      <th></th>\n",
       "      <th>ability</th>\n",
       "      <th>able</th>\n",
       "      <th>able get</th>\n",
       "      <th>abortion</th>\n",
       "      <th>abroad</th>\n",
       "      <th>abundance</th>\n",
       "      <th>abundant</th>\n",
       "      <th>abuse</th>\n",
       "      <th>academy</th>\n",
       "      <th>accelerate</th>\n",
       "      <th>...</th>\n",
       "      <th>yesterday</th>\n",
       "      <th>yet</th>\n",
       "      <th>young</th>\n",
       "      <th>young people</th>\n",
       "      <th>youngest</th>\n",
       "      <th>youth</th>\n",
       "      <th>zero</th>\n",
       "      <th>zip</th>\n",
       "      <th>zip code</th>\n",
       "      <th>zoning</th>\n",
       "    </tr>\n",
       "  </thead>\n",
       "  <tbody>\n",
       "    <tr>\n",
       "      <th>0</th>\n",
       "      <td>0.035203</td>\n",
       "      <td>0.012837</td>\n",
       "      <td>0.027848</td>\n",
       "      <td>0.000000</td>\n",
       "      <td>0.027848</td>\n",
       "      <td>0.027848</td>\n",
       "      <td>0.000000</td>\n",
       "      <td>0.0</td>\n",
       "      <td>0.0</td>\n",
       "      <td>0.023632</td>\n",
       "      <td>...</td>\n",
       "      <td>0.0</td>\n",
       "      <td>0.000000</td>\n",
       "      <td>0.037724</td>\n",
       "      <td>0.055605</td>\n",
       "      <td>0.025504</td>\n",
       "      <td>0.0</td>\n",
       "      <td>0.000000</td>\n",
       "      <td>0.024521</td>\n",
       "      <td>0.025504</td>\n",
       "      <td>0.000000</td>\n",
       "    </tr>\n",
       "    <tr>\n",
       "      <th>1</th>\n",
       "      <td>0.021873</td>\n",
       "      <td>0.007976</td>\n",
       "      <td>0.000000</td>\n",
       "      <td>0.000000</td>\n",
       "      <td>0.000000</td>\n",
       "      <td>0.000000</td>\n",
       "      <td>0.000000</td>\n",
       "      <td>0.0</td>\n",
       "      <td>0.0</td>\n",
       "      <td>0.000000</td>\n",
       "      <td>...</td>\n",
       "      <td>0.0</td>\n",
       "      <td>0.000000</td>\n",
       "      <td>0.023439</td>\n",
       "      <td>0.011516</td>\n",
       "      <td>0.000000</td>\n",
       "      <td>0.0</td>\n",
       "      <td>0.014683</td>\n",
       "      <td>0.000000</td>\n",
       "      <td>0.000000</td>\n",
       "      <td>0.000000</td>\n",
       "    </tr>\n",
       "    <tr>\n",
       "      <th>2</th>\n",
       "      <td>0.000000</td>\n",
       "      <td>0.000000</td>\n",
       "      <td>0.000000</td>\n",
       "      <td>0.015112</td>\n",
       "      <td>0.000000</td>\n",
       "      <td>0.000000</td>\n",
       "      <td>0.018800</td>\n",
       "      <td>0.0</td>\n",
       "      <td>0.0</td>\n",
       "      <td>0.000000</td>\n",
       "      <td>...</td>\n",
       "      <td>0.0</td>\n",
       "      <td>0.000000</td>\n",
       "      <td>0.008887</td>\n",
       "      <td>0.000000</td>\n",
       "      <td>0.000000</td>\n",
       "      <td>0.0</td>\n",
       "      <td>0.000000</td>\n",
       "      <td>0.000000</td>\n",
       "      <td>0.000000</td>\n",
       "      <td>0.000000</td>\n",
       "    </tr>\n",
       "    <tr>\n",
       "      <th>3</th>\n",
       "      <td>0.024841</td>\n",
       "      <td>0.000000</td>\n",
       "      <td>0.000000</td>\n",
       "      <td>0.000000</td>\n",
       "      <td>0.000000</td>\n",
       "      <td>0.000000</td>\n",
       "      <td>0.037544</td>\n",
       "      <td>0.0</td>\n",
       "      <td>0.0</td>\n",
       "      <td>0.000000</td>\n",
       "      <td>...</td>\n",
       "      <td>0.0</td>\n",
       "      <td>0.040293</td>\n",
       "      <td>0.017747</td>\n",
       "      <td>0.000000</td>\n",
       "      <td>0.071987</td>\n",
       "      <td>0.0</td>\n",
       "      <td>0.000000</td>\n",
       "      <td>0.034607</td>\n",
       "      <td>0.035993</td>\n",
       "      <td>0.000000</td>\n",
       "    </tr>\n",
       "    <tr>\n",
       "      <th>4</th>\n",
       "      <td>0.000000</td>\n",
       "      <td>0.000000</td>\n",
       "      <td>0.000000</td>\n",
       "      <td>0.029520</td>\n",
       "      <td>0.000000</td>\n",
       "      <td>0.000000</td>\n",
       "      <td>0.000000</td>\n",
       "      <td>0.0</td>\n",
       "      <td>0.0</td>\n",
       "      <td>0.000000</td>\n",
       "      <td>...</td>\n",
       "      <td>0.0</td>\n",
       "      <td>0.039414</td>\n",
       "      <td>0.000000</td>\n",
       "      <td>0.000000</td>\n",
       "      <td>0.000000</td>\n",
       "      <td>0.0</td>\n",
       "      <td>0.000000</td>\n",
       "      <td>0.000000</td>\n",
       "      <td>0.000000</td>\n",
       "      <td>0.036725</td>\n",
       "    </tr>\n",
       "  </tbody>\n",
       "</table>\n",
       "<p>5 rows × 2826 columns</p>\n",
       "</div>"
      ],
      "text/plain": [
       "    ability      able  able get  abortion    abroad  abundance  abundant  \\\n",
       "0  0.035203  0.012837  0.027848  0.000000  0.027848   0.027848  0.000000   \n",
       "1  0.021873  0.007976  0.000000  0.000000  0.000000   0.000000  0.000000   \n",
       "2  0.000000  0.000000  0.000000  0.015112  0.000000   0.000000  0.018800   \n",
       "3  0.024841  0.000000  0.000000  0.000000  0.000000   0.000000  0.037544   \n",
       "4  0.000000  0.000000  0.000000  0.029520  0.000000   0.000000  0.000000   \n",
       "\n",
       "   abuse  academy  accelerate  ...  yesterday       yet     young  \\\n",
       "0    0.0      0.0    0.023632  ...        0.0  0.000000  0.037724   \n",
       "1    0.0      0.0    0.000000  ...        0.0  0.000000  0.023439   \n",
       "2    0.0      0.0    0.000000  ...        0.0  0.000000  0.008887   \n",
       "3    0.0      0.0    0.000000  ...        0.0  0.040293  0.017747   \n",
       "4    0.0      0.0    0.000000  ...        0.0  0.039414  0.000000   \n",
       "\n",
       "   young people  youngest  youth      zero       zip  zip code    zoning  \n",
       "0      0.055605  0.025504    0.0  0.000000  0.024521  0.025504  0.000000  \n",
       "1      0.011516  0.000000    0.0  0.014683  0.000000  0.000000  0.000000  \n",
       "2      0.000000  0.000000    0.0  0.000000  0.000000  0.000000  0.000000  \n",
       "3      0.000000  0.071987    0.0  0.000000  0.034607  0.035993  0.000000  \n",
       "4      0.000000  0.000000    0.0  0.000000  0.000000  0.000000  0.036725  \n",
       "\n",
       "[5 rows x 2826 columns]"
      ]
     },
     "execution_count": 132,
     "metadata": {},
     "output_type": "execute_result"
    }
   ],
   "source": [
    "# get most frequent terms\n",
    "get_top_terms(dtm3, tfidf_vectorizer3, 10)\n",
    "\n",
    "# create df\n",
    "df3 = convert_to_term_df(dtm3, tfidf_vectorizer3)\n",
    "df3.head()"
   ]
  },
  {
   "cell_type": "markdown",
   "id": "1ce41056",
   "metadata": {},
   "source": [
    "#### + maxdf "
   ]
  },
  {
   "cell_type": "code",
   "execution_count": 133,
   "id": "e507ffec",
   "metadata": {},
   "outputs": [
    {
     "data": {
      "text/plain": [
       "(50, 2722)"
      ]
     },
     "execution_count": 133,
     "metadata": {},
     "output_type": "execute_result"
    }
   ],
   "source": [
    "tfidf_vectorizer4 = TfidfVectorizer(stop_words=stpwrd, min_df=6, max_df=0.80, ngram_range=(1,2), \n",
    "                                    token_pattern= r'\\b[a-zA-Z]{3,}\\b')\n",
    "dtm4 = tfidf_vectorizer4.fit_transform(sos.text)\n",
    "dtm4.shape  # (50, 2722) # removed words"
   ]
  },
  {
   "cell_type": "code",
   "execution_count": 134,
   "id": "49042f92",
   "metadata": {},
   "outputs": [
    {
     "data": {
      "text/plain": [
       "array(['housing', 'schools', 'kids', 'program', 'energy', 'funding',\n",
       "       'workforce', 'going', 'freedom', 'dollars', 'water', 'teachers',\n",
       "       'plan', 'legislature', 'system', 'investments', 'investment',\n",
       "       'local', 'billion', 'mental'], dtype=object)"
      ]
     },
     "execution_count": 134,
     "metadata": {},
     "output_type": "execute_result"
    },
    {
     "data": {
      "text/html": [
       "<div>\n",
       "<style scoped>\n",
       "    .dataframe tbody tr th:only-of-type {\n",
       "        vertical-align: middle;\n",
       "    }\n",
       "\n",
       "    .dataframe tbody tr th {\n",
       "        vertical-align: top;\n",
       "    }\n",
       "\n",
       "    .dataframe thead th {\n",
       "        text-align: right;\n",
       "    }\n",
       "</style>\n",
       "<table border=\"1\" class=\"dataframe\">\n",
       "  <thead>\n",
       "    <tr style=\"text-align: right;\">\n",
       "      <th></th>\n",
       "      <th>ability</th>\n",
       "      <th>able</th>\n",
       "      <th>able get</th>\n",
       "      <th>abortion</th>\n",
       "      <th>abroad</th>\n",
       "      <th>abundance</th>\n",
       "      <th>abundant</th>\n",
       "      <th>abuse</th>\n",
       "      <th>academy</th>\n",
       "      <th>accelerate</th>\n",
       "      <th>...</th>\n",
       "      <th>yesterday</th>\n",
       "      <th>yet</th>\n",
       "      <th>young</th>\n",
       "      <th>young people</th>\n",
       "      <th>youngest</th>\n",
       "      <th>youth</th>\n",
       "      <th>zero</th>\n",
       "      <th>zip</th>\n",
       "      <th>zip code</th>\n",
       "      <th>zoning</th>\n",
       "    </tr>\n",
       "  </thead>\n",
       "  <tbody>\n",
       "    <tr>\n",
       "      <th>0</th>\n",
       "      <td>0.040926</td>\n",
       "      <td>0.014925</td>\n",
       "      <td>0.032375</td>\n",
       "      <td>0.000000</td>\n",
       "      <td>0.032375</td>\n",
       "      <td>0.032375</td>\n",
       "      <td>0.000000</td>\n",
       "      <td>0.0</td>\n",
       "      <td>0.0</td>\n",
       "      <td>0.027474</td>\n",
       "      <td>...</td>\n",
       "      <td>0.0</td>\n",
       "      <td>0.000000</td>\n",
       "      <td>0.043857</td>\n",
       "      <td>0.064645</td>\n",
       "      <td>0.029650</td>\n",
       "      <td>0.0</td>\n",
       "      <td>0.000000</td>\n",
       "      <td>0.028508</td>\n",
       "      <td>0.029650</td>\n",
       "      <td>0.000000</td>\n",
       "    </tr>\n",
       "    <tr>\n",
       "      <th>1</th>\n",
       "      <td>0.026632</td>\n",
       "      <td>0.009712</td>\n",
       "      <td>0.000000</td>\n",
       "      <td>0.000000</td>\n",
       "      <td>0.000000</td>\n",
       "      <td>0.000000</td>\n",
       "      <td>0.000000</td>\n",
       "      <td>0.0</td>\n",
       "      <td>0.0</td>\n",
       "      <td>0.000000</td>\n",
       "      <td>...</td>\n",
       "      <td>0.0</td>\n",
       "      <td>0.000000</td>\n",
       "      <td>0.028539</td>\n",
       "      <td>0.014022</td>\n",
       "      <td>0.000000</td>\n",
       "      <td>0.0</td>\n",
       "      <td>0.017878</td>\n",
       "      <td>0.000000</td>\n",
       "      <td>0.000000</td>\n",
       "      <td>0.000000</td>\n",
       "    </tr>\n",
       "    <tr>\n",
       "      <th>2</th>\n",
       "      <td>0.000000</td>\n",
       "      <td>0.000000</td>\n",
       "      <td>0.000000</td>\n",
       "      <td>0.017865</td>\n",
       "      <td>0.000000</td>\n",
       "      <td>0.000000</td>\n",
       "      <td>0.022225</td>\n",
       "      <td>0.0</td>\n",
       "      <td>0.0</td>\n",
       "      <td>0.000000</td>\n",
       "      <td>...</td>\n",
       "      <td>0.0</td>\n",
       "      <td>0.000000</td>\n",
       "      <td>0.010506</td>\n",
       "      <td>0.000000</td>\n",
       "      <td>0.000000</td>\n",
       "      <td>0.0</td>\n",
       "      <td>0.000000</td>\n",
       "      <td>0.000000</td>\n",
       "      <td>0.000000</td>\n",
       "      <td>0.000000</td>\n",
       "    </tr>\n",
       "    <tr>\n",
       "      <th>3</th>\n",
       "      <td>0.029293</td>\n",
       "      <td>0.000000</td>\n",
       "      <td>0.000000</td>\n",
       "      <td>0.000000</td>\n",
       "      <td>0.000000</td>\n",
       "      <td>0.000000</td>\n",
       "      <td>0.044273</td>\n",
       "      <td>0.0</td>\n",
       "      <td>0.0</td>\n",
       "      <td>0.000000</td>\n",
       "      <td>...</td>\n",
       "      <td>0.0</td>\n",
       "      <td>0.047515</td>\n",
       "      <td>0.020928</td>\n",
       "      <td>0.000000</td>\n",
       "      <td>0.084889</td>\n",
       "      <td>0.0</td>\n",
       "      <td>0.000000</td>\n",
       "      <td>0.040809</td>\n",
       "      <td>0.042445</td>\n",
       "      <td>0.000000</td>\n",
       "    </tr>\n",
       "    <tr>\n",
       "      <th>4</th>\n",
       "      <td>0.000000</td>\n",
       "      <td>0.000000</td>\n",
       "      <td>0.000000</td>\n",
       "      <td>0.032720</td>\n",
       "      <td>0.000000</td>\n",
       "      <td>0.000000</td>\n",
       "      <td>0.000000</td>\n",
       "      <td>0.0</td>\n",
       "      <td>0.0</td>\n",
       "      <td>0.000000</td>\n",
       "      <td>...</td>\n",
       "      <td>0.0</td>\n",
       "      <td>0.043687</td>\n",
       "      <td>0.000000</td>\n",
       "      <td>0.000000</td>\n",
       "      <td>0.000000</td>\n",
       "      <td>0.0</td>\n",
       "      <td>0.000000</td>\n",
       "      <td>0.000000</td>\n",
       "      <td>0.000000</td>\n",
       "      <td>0.040706</td>\n",
       "    </tr>\n",
       "  </tbody>\n",
       "</table>\n",
       "<p>5 rows × 2722 columns</p>\n",
       "</div>"
      ],
      "text/plain": [
       "    ability      able  able get  abortion    abroad  abundance  abundant  \\\n",
       "0  0.040926  0.014925  0.032375  0.000000  0.032375   0.032375  0.000000   \n",
       "1  0.026632  0.009712  0.000000  0.000000  0.000000   0.000000  0.000000   \n",
       "2  0.000000  0.000000  0.000000  0.017865  0.000000   0.000000  0.022225   \n",
       "3  0.029293  0.000000  0.000000  0.000000  0.000000   0.000000  0.044273   \n",
       "4  0.000000  0.000000  0.000000  0.032720  0.000000   0.000000  0.000000   \n",
       "\n",
       "   abuse  academy  accelerate  ...  yesterday       yet     young  \\\n",
       "0    0.0      0.0    0.027474  ...        0.0  0.000000  0.043857   \n",
       "1    0.0      0.0    0.000000  ...        0.0  0.000000  0.028539   \n",
       "2    0.0      0.0    0.000000  ...        0.0  0.000000  0.010506   \n",
       "3    0.0      0.0    0.000000  ...        0.0  0.047515  0.020928   \n",
       "4    0.0      0.0    0.000000  ...        0.0  0.043687  0.000000   \n",
       "\n",
       "   young people  youngest  youth      zero       zip  zip code    zoning  \n",
       "0      0.064645  0.029650    0.0  0.000000  0.028508  0.029650  0.000000  \n",
       "1      0.014022  0.000000    0.0  0.017878  0.000000  0.000000  0.000000  \n",
       "2      0.000000  0.000000    0.0  0.000000  0.000000  0.000000  0.000000  \n",
       "3      0.000000  0.084889    0.0  0.000000  0.040809  0.042445  0.000000  \n",
       "4      0.000000  0.000000    0.0  0.000000  0.000000  0.000000  0.040706  \n",
       "\n",
       "[5 rows x 2722 columns]"
      ]
     },
     "execution_count": 134,
     "metadata": {},
     "output_type": "execute_result"
    }
   ],
   "source": [
    "# get most frequent terms\n",
    "get_top_terms(dtm4, tfidf_vectorizer4, 20)  # a lot more meaningful\n",
    "\n",
    "# create df\n",
    "df4 = convert_to_term_df(dtm4, tfidf_vectorizer4)\n",
    "df4.head() "
   ]
  },
  {
   "cell_type": "code",
   "execution_count": 35,
   "id": "8c0844c3",
   "metadata": {},
   "outputs": [],
   "source": [
    "# df4.to_csv('sos_2023_dtm.csv', index = False)"
   ]
  },
  {
   "cell_type": "markdown",
   "id": "26cbac21",
   "metadata": {},
   "source": [
    "#### + sublinear tf"
   ]
  },
  {
   "cell_type": "code",
   "execution_count": 135,
   "id": "306d1957",
   "metadata": {},
   "outputs": [
    {
     "data": {
      "text/plain": [
       "(50, 2722)"
      ]
     },
     "execution_count": 135,
     "metadata": {},
     "output_type": "execute_result"
    }
   ],
   "source": [
    "tfidf_vectorizer5 = TfidfVectorizer(stop_words=stpwrd, min_df=6, max_df=0.80, ngram_range=(1,2), \n",
    "                                    token_pattern= r'\\b[a-zA-Z]{3,}\\b', sublinear_tf=True)\n",
    "dtm5 = tfidf_vectorizer5.fit_transform(sos.text)\n",
    "dtm5.shape  # (50, 2722) # no effect on term count"
   ]
  },
  {
   "cell_type": "code",
   "execution_count": 136,
   "id": "acefff58",
   "metadata": {},
   "outputs": [
    {
     "data": {
      "text/plain": [
       "array(['schools', 'housing', 'kids', 'energy', 'funding', 'program',\n",
       "       'workforce', 'investment', 'billion', 'teachers', 'legislature',\n",
       "       'investments', 'local', 'lives', 'forward', 'ever', 'system',\n",
       "       'hard', 'plan', 'going'], dtype=object)"
      ]
     },
     "execution_count": 136,
     "metadata": {},
     "output_type": "execute_result"
    },
    {
     "data": {
      "text/html": [
       "<div>\n",
       "<style scoped>\n",
       "    .dataframe tbody tr th:only-of-type {\n",
       "        vertical-align: middle;\n",
       "    }\n",
       "\n",
       "    .dataframe tbody tr th {\n",
       "        vertical-align: top;\n",
       "    }\n",
       "\n",
       "    .dataframe thead th {\n",
       "        text-align: right;\n",
       "    }\n",
       "</style>\n",
       "<table border=\"1\" class=\"dataframe\">\n",
       "  <thead>\n",
       "    <tr style=\"text-align: right;\">\n",
       "      <th></th>\n",
       "      <th>ability</th>\n",
       "      <th>able</th>\n",
       "      <th>able get</th>\n",
       "      <th>abortion</th>\n",
       "      <th>abroad</th>\n",
       "      <th>abundance</th>\n",
       "      <th>abundant</th>\n",
       "      <th>abuse</th>\n",
       "      <th>academy</th>\n",
       "      <th>accelerate</th>\n",
       "      <th>...</th>\n",
       "      <th>yesterday</th>\n",
       "      <th>yet</th>\n",
       "      <th>young</th>\n",
       "      <th>young people</th>\n",
       "      <th>youngest</th>\n",
       "      <th>youth</th>\n",
       "      <th>zero</th>\n",
       "      <th>zip</th>\n",
       "      <th>zip code</th>\n",
       "      <th>zoning</th>\n",
       "    </tr>\n",
       "  </thead>\n",
       "  <tbody>\n",
       "    <tr>\n",
       "      <th>0</th>\n",
       "      <td>0.045719</td>\n",
       "      <td>0.019694</td>\n",
       "      <td>0.042721</td>\n",
       "      <td>0.000000</td>\n",
       "      <td>0.042721</td>\n",
       "      <td>0.042721</td>\n",
       "      <td>0.000000</td>\n",
       "      <td>0.0</td>\n",
       "      <td>0.0</td>\n",
       "      <td>0.036254</td>\n",
       "      <td>...</td>\n",
       "      <td>0.0</td>\n",
       "      <td>0.000000</td>\n",
       "      <td>0.040484</td>\n",
       "      <td>0.059673</td>\n",
       "      <td>0.039125</td>\n",
       "      <td>0.0</td>\n",
       "      <td>0.000000</td>\n",
       "      <td>0.037618</td>\n",
       "      <td>0.039125</td>\n",
       "      <td>0.000000</td>\n",
       "    </tr>\n",
       "    <tr>\n",
       "      <th>1</th>\n",
       "      <td>0.033308</td>\n",
       "      <td>0.014348</td>\n",
       "      <td>0.000000</td>\n",
       "      <td>0.000000</td>\n",
       "      <td>0.000000</td>\n",
       "      <td>0.000000</td>\n",
       "      <td>0.000000</td>\n",
       "      <td>0.0</td>\n",
       "      <td>0.0</td>\n",
       "      <td>0.000000</td>\n",
       "      <td>...</td>\n",
       "      <td>0.0</td>\n",
       "      <td>0.000000</td>\n",
       "      <td>0.029494</td>\n",
       "      <td>0.020715</td>\n",
       "      <td>0.000000</td>\n",
       "      <td>0.0</td>\n",
       "      <td>0.026412</td>\n",
       "      <td>0.000000</td>\n",
       "      <td>0.000000</td>\n",
       "      <td>0.000000</td>\n",
       "    </tr>\n",
       "    <tr>\n",
       "      <th>2</th>\n",
       "      <td>0.000000</td>\n",
       "      <td>0.000000</td>\n",
       "      <td>0.000000</td>\n",
       "      <td>0.026119</td>\n",
       "      <td>0.000000</td>\n",
       "      <td>0.000000</td>\n",
       "      <td>0.032495</td>\n",
       "      <td>0.0</td>\n",
       "      <td>0.0</td>\n",
       "      <td>0.000000</td>\n",
       "      <td>...</td>\n",
       "      <td>0.0</td>\n",
       "      <td>0.000000</td>\n",
       "      <td>0.015360</td>\n",
       "      <td>0.000000</td>\n",
       "      <td>0.000000</td>\n",
       "      <td>0.0</td>\n",
       "      <td>0.000000</td>\n",
       "      <td>0.000000</td>\n",
       "      <td>0.000000</td>\n",
       "      <td>0.000000</td>\n",
       "    </tr>\n",
       "    <tr>\n",
       "      <th>3</th>\n",
       "      <td>0.034975</td>\n",
       "      <td>0.000000</td>\n",
       "      <td>0.000000</td>\n",
       "      <td>0.000000</td>\n",
       "      <td>0.000000</td>\n",
       "      <td>0.000000</td>\n",
       "      <td>0.052859</td>\n",
       "      <td>0.0</td>\n",
       "      <td>0.0</td>\n",
       "      <td>0.000000</td>\n",
       "      <td>...</td>\n",
       "      <td>0.0</td>\n",
       "      <td>0.048026</td>\n",
       "      <td>0.024986</td>\n",
       "      <td>0.000000</td>\n",
       "      <td>0.085802</td>\n",
       "      <td>0.0</td>\n",
       "      <td>0.000000</td>\n",
       "      <td>0.048724</td>\n",
       "      <td>0.050676</td>\n",
       "      <td>0.000000</td>\n",
       "    </tr>\n",
       "    <tr>\n",
       "      <th>4</th>\n",
       "      <td>0.000000</td>\n",
       "      <td>0.000000</td>\n",
       "      <td>0.000000</td>\n",
       "      <td>0.041635</td>\n",
       "      <td>0.000000</td>\n",
       "      <td>0.000000</td>\n",
       "      <td>0.000000</td>\n",
       "      <td>0.0</td>\n",
       "      <td>0.0</td>\n",
       "      <td>0.000000</td>\n",
       "      <td>...</td>\n",
       "      <td>0.0</td>\n",
       "      <td>0.047061</td>\n",
       "      <td>0.000000</td>\n",
       "      <td>0.000000</td>\n",
       "      <td>0.000000</td>\n",
       "      <td>0.0</td>\n",
       "      <td>0.000000</td>\n",
       "      <td>0.000000</td>\n",
       "      <td>0.000000</td>\n",
       "      <td>0.051797</td>\n",
       "    </tr>\n",
       "  </tbody>\n",
       "</table>\n",
       "<p>5 rows × 2722 columns</p>\n",
       "</div>"
      ],
      "text/plain": [
       "    ability      able  able get  abortion    abroad  abundance  abundant  \\\n",
       "0  0.045719  0.019694  0.042721  0.000000  0.042721   0.042721  0.000000   \n",
       "1  0.033308  0.014348  0.000000  0.000000  0.000000   0.000000  0.000000   \n",
       "2  0.000000  0.000000  0.000000  0.026119  0.000000   0.000000  0.032495   \n",
       "3  0.034975  0.000000  0.000000  0.000000  0.000000   0.000000  0.052859   \n",
       "4  0.000000  0.000000  0.000000  0.041635  0.000000   0.000000  0.000000   \n",
       "\n",
       "   abuse  academy  accelerate  ...  yesterday       yet     young  \\\n",
       "0    0.0      0.0    0.036254  ...        0.0  0.000000  0.040484   \n",
       "1    0.0      0.0    0.000000  ...        0.0  0.000000  0.029494   \n",
       "2    0.0      0.0    0.000000  ...        0.0  0.000000  0.015360   \n",
       "3    0.0      0.0    0.000000  ...        0.0  0.048026  0.024986   \n",
       "4    0.0      0.0    0.000000  ...        0.0  0.047061  0.000000   \n",
       "\n",
       "   young people  youngest  youth      zero       zip  zip code    zoning  \n",
       "0      0.059673  0.039125    0.0  0.000000  0.037618  0.039125  0.000000  \n",
       "1      0.020715  0.000000    0.0  0.026412  0.000000  0.000000  0.000000  \n",
       "2      0.000000  0.000000    0.0  0.000000  0.000000  0.000000  0.000000  \n",
       "3      0.000000  0.085802    0.0  0.000000  0.048724  0.050676  0.000000  \n",
       "4      0.000000  0.000000    0.0  0.000000  0.000000  0.000000  0.051797  \n",
       "\n",
       "[5 rows x 2722 columns]"
      ]
     },
     "execution_count": 136,
     "metadata": {},
     "output_type": "execute_result"
    }
   ],
   "source": [
    "# get most frequent terms\n",
    "get_top_terms(dtm5, tfidf_vectorizer5, 20)  \n",
    "\n",
    "# create df\n",
    "df5 = convert_to_term_df(dtm5, tfidf_vectorizer5) # very little impact \n",
    "df5.head() "
   ]
  },
  {
   "cell_type": "markdown",
   "id": "16d31100",
   "metadata": {},
   "source": [
    "#### + lemmonization"
   ]
  },
  {
   "cell_type": "code",
   "execution_count": 137,
   "id": "0f913d93",
   "metadata": {},
   "outputs": [
    {
     "name": "stderr",
     "output_type": "stream",
     "text": [
      "[nltk_data] Downloading package wordnet to\n",
      "[nltk_data]     /Users/maggiesullivan/nltk_data...\n",
      "[nltk_data]   Package wordnet is already up-to-date!\n"
     ]
    },
    {
     "data": {
      "text/plain": [
       "True"
      ]
     },
     "execution_count": 137,
     "metadata": {},
     "output_type": "execute_result"
    },
    {
     "name": "stderr",
     "output_type": "stream",
     "text": [
      "[nltk_data] Downloading package omw-1.4 to\n",
      "[nltk_data]     /Users/maggiesullivan/nltk_data...\n",
      "[nltk_data]   Package omw-1.4 is already up-to-date!\n"
     ]
    },
    {
     "data": {
      "text/plain": [
       "True"
      ]
     },
     "execution_count": 137,
     "metadata": {},
     "output_type": "execute_result"
    }
   ],
   "source": [
    "nltk.download('wordnet')\n",
    "nltk.download('omw-1.4')"
   ]
  },
  {
   "cell_type": "code",
   "execution_count": 138,
   "id": "d2ecb5c8",
   "metadata": {},
   "outputs": [],
   "source": [
    "# https://stackoverflow.com/questions/47423854/sklearn-adding-lemmatizer-to-countvectorizer\n",
    "\n",
    "class LemmaTokenizer:\n",
    "    def __init__(self):\n",
    "        self.wnl = WordNetLemmatizer()\n",
    "    def __call__(self, doc):\n",
    "        regex_num_ponctuation = '(\\d+)|([^\\w\\s])'\n",
    "        regex_little_words = r'(\\b\\w{1,2}\\b)'\n",
    "        return [self.wnl.lemmatize(t) for t in word_tokenize(doc) \n",
    "                if not re.search(regex_num_ponctuation, t) and not re.search(regex_little_words, t)]"
   ]
  },
  {
   "cell_type": "code",
   "execution_count": 139,
   "id": "3e248e2e",
   "metadata": {},
   "outputs": [
    {
     "data": {
      "text/plain": [
       "(50, 2499)"
      ]
     },
     "execution_count": 139,
     "metadata": {},
     "output_type": "execute_result"
    }
   ],
   "source": [
    "tfidf_vectorizer6 = TfidfVectorizer(stop_words=stpwrd, min_df=6, max_df=0.80, ngram_range=(1,2), \n",
    "                                    token_pattern= r'\\b[a-zA-Z]{3,}\\b', sublinear_tf=True, tokenizer=LemmaTokenizer())\n",
    "dtm6 = tfidf_vectorizer6.fit_transform(sos.text)\n",
    "dtm6.shape  # (50, 2499) # shrunk term count"
   ]
  },
  {
   "cell_type": "code",
   "execution_count": 41,
   "id": "885b9702",
   "metadata": {},
   "outputs": [
    {
     "data": {
      "text/plain": [
       "array(['program', 'teacher', 'kid', 'energy', 'fund', 'housing',\n",
       "       'funding', 'dollar', 'workforce', 'legislature', 'plan', 'local',\n",
       "       'county', 'freedom', 'ever', 'going', 'may', 'safe', 'water',\n",
       "       'effort'], dtype=object)"
      ]
     },
     "execution_count": 41,
     "metadata": {},
     "output_type": "execute_result"
    },
    {
     "data": {
      "text/html": [
       "<div>\n",
       "<style scoped>\n",
       "    .dataframe tbody tr th:only-of-type {\n",
       "        vertical-align: middle;\n",
       "    }\n",
       "\n",
       "    .dataframe tbody tr th {\n",
       "        vertical-align: top;\n",
       "    }\n",
       "\n",
       "    .dataframe thead th {\n",
       "        text-align: right;\n",
       "    }\n",
       "</style>\n",
       "<table border=\"1\" class=\"dataframe\">\n",
       "  <thead>\n",
       "    <tr style=\"text-align: right;\">\n",
       "      <th></th>\n",
       "      <th>ability</th>\n",
       "      <th>able</th>\n",
       "      <th>able get</th>\n",
       "      <th>abortion</th>\n",
       "      <th>abroad</th>\n",
       "      <th>abundance</th>\n",
       "      <th>abundant</th>\n",
       "      <th>abuse</th>\n",
       "      <th>academic</th>\n",
       "      <th>academy</th>\n",
       "      <th>...</th>\n",
       "      <th>yes</th>\n",
       "      <th>yesterday</th>\n",
       "      <th>yet</th>\n",
       "      <th>young</th>\n",
       "      <th>young people</th>\n",
       "      <th>youngest</th>\n",
       "      <th>youth</th>\n",
       "      <th>zip</th>\n",
       "      <th>zip code</th>\n",
       "      <th>zoning</th>\n",
       "    </tr>\n",
       "  </thead>\n",
       "  <tbody>\n",
       "    <tr>\n",
       "      <th>0</th>\n",
       "      <td>0.044430</td>\n",
       "      <td>0.020108</td>\n",
       "      <td>0.043618</td>\n",
       "      <td>0.000000</td>\n",
       "      <td>0.043618</td>\n",
       "      <td>0.043618</td>\n",
       "      <td>0.000000</td>\n",
       "      <td>0.0</td>\n",
       "      <td>0.0</td>\n",
       "      <td>0.0</td>\n",
       "      <td>...</td>\n",
       "      <td>0.000000</td>\n",
       "      <td>0.0</td>\n",
       "      <td>0.000000</td>\n",
       "      <td>0.041335</td>\n",
       "      <td>0.060927</td>\n",
       "      <td>0.039947</td>\n",
       "      <td>0.000000</td>\n",
       "      <td>0.038408</td>\n",
       "      <td>0.038408</td>\n",
       "      <td>0.000000</td>\n",
       "    </tr>\n",
       "    <tr>\n",
       "      <th>1</th>\n",
       "      <td>0.032668</td>\n",
       "      <td>0.014784</td>\n",
       "      <td>0.000000</td>\n",
       "      <td>0.000000</td>\n",
       "      <td>0.000000</td>\n",
       "      <td>0.000000</td>\n",
       "      <td>0.000000</td>\n",
       "      <td>0.0</td>\n",
       "      <td>0.0</td>\n",
       "      <td>0.0</td>\n",
       "      <td>...</td>\n",
       "      <td>0.041696</td>\n",
       "      <td>0.0</td>\n",
       "      <td>0.000000</td>\n",
       "      <td>0.030392</td>\n",
       "      <td>0.021346</td>\n",
       "      <td>0.000000</td>\n",
       "      <td>0.020795</td>\n",
       "      <td>0.000000</td>\n",
       "      <td>0.000000</td>\n",
       "      <td>0.000000</td>\n",
       "    </tr>\n",
       "    <tr>\n",
       "      <th>2</th>\n",
       "      <td>0.000000</td>\n",
       "      <td>0.000000</td>\n",
       "      <td>0.000000</td>\n",
       "      <td>0.027177</td>\n",
       "      <td>0.000000</td>\n",
       "      <td>0.000000</td>\n",
       "      <td>0.033811</td>\n",
       "      <td>0.0</td>\n",
       "      <td>0.0</td>\n",
       "      <td>0.0</td>\n",
       "      <td>...</td>\n",
       "      <td>0.000000</td>\n",
       "      <td>0.0</td>\n",
       "      <td>0.000000</td>\n",
       "      <td>0.015982</td>\n",
       "      <td>0.000000</td>\n",
       "      <td>0.000000</td>\n",
       "      <td>0.000000</td>\n",
       "      <td>0.000000</td>\n",
       "      <td>0.000000</td>\n",
       "      <td>0.000000</td>\n",
       "    </tr>\n",
       "    <tr>\n",
       "      <th>3</th>\n",
       "      <td>0.034231</td>\n",
       "      <td>0.000000</td>\n",
       "      <td>0.000000</td>\n",
       "      <td>0.000000</td>\n",
       "      <td>0.000000</td>\n",
       "      <td>0.000000</td>\n",
       "      <td>0.054355</td>\n",
       "      <td>0.0</td>\n",
       "      <td>0.0</td>\n",
       "      <td>0.0</td>\n",
       "      <td>...</td>\n",
       "      <td>0.000000</td>\n",
       "      <td>0.0</td>\n",
       "      <td>0.049385</td>\n",
       "      <td>0.025693</td>\n",
       "      <td>0.000000</td>\n",
       "      <td>0.088231</td>\n",
       "      <td>0.000000</td>\n",
       "      <td>0.050103</td>\n",
       "      <td>0.050103</td>\n",
       "      <td>0.000000</td>\n",
       "    </tr>\n",
       "    <tr>\n",
       "      <th>4</th>\n",
       "      <td>0.000000</td>\n",
       "      <td>0.000000</td>\n",
       "      <td>0.000000</td>\n",
       "      <td>0.042699</td>\n",
       "      <td>0.000000</td>\n",
       "      <td>0.000000</td>\n",
       "      <td>0.000000</td>\n",
       "      <td>0.0</td>\n",
       "      <td>0.0</td>\n",
       "      <td>0.0</td>\n",
       "      <td>...</td>\n",
       "      <td>0.072296</td>\n",
       "      <td>0.0</td>\n",
       "      <td>0.048264</td>\n",
       "      <td>0.000000</td>\n",
       "      <td>0.000000</td>\n",
       "      <td>0.000000</td>\n",
       "      <td>0.000000</td>\n",
       "      <td>0.000000</td>\n",
       "      <td>0.000000</td>\n",
       "      <td>0.053121</td>\n",
       "    </tr>\n",
       "  </tbody>\n",
       "</table>\n",
       "<p>5 rows × 2499 columns</p>\n",
       "</div>"
      ],
      "text/plain": [
       "    ability      able  able get  abortion    abroad  abundance  abundant  \\\n",
       "0  0.044430  0.020108  0.043618  0.000000  0.043618   0.043618  0.000000   \n",
       "1  0.032668  0.014784  0.000000  0.000000  0.000000   0.000000  0.000000   \n",
       "2  0.000000  0.000000  0.000000  0.027177  0.000000   0.000000  0.033811   \n",
       "3  0.034231  0.000000  0.000000  0.000000  0.000000   0.000000  0.054355   \n",
       "4  0.000000  0.000000  0.000000  0.042699  0.000000   0.000000  0.000000   \n",
       "\n",
       "   abuse  academic  academy  ...       yes  yesterday       yet     young  \\\n",
       "0    0.0       0.0      0.0  ...  0.000000        0.0  0.000000  0.041335   \n",
       "1    0.0       0.0      0.0  ...  0.041696        0.0  0.000000  0.030392   \n",
       "2    0.0       0.0      0.0  ...  0.000000        0.0  0.000000  0.015982   \n",
       "3    0.0       0.0      0.0  ...  0.000000        0.0  0.049385  0.025693   \n",
       "4    0.0       0.0      0.0  ...  0.072296        0.0  0.048264  0.000000   \n",
       "\n",
       "   young people  youngest     youth       zip  zip code    zoning  \n",
       "0      0.060927  0.039947  0.000000  0.038408  0.038408  0.000000  \n",
       "1      0.021346  0.000000  0.020795  0.000000  0.000000  0.000000  \n",
       "2      0.000000  0.000000  0.000000  0.000000  0.000000  0.000000  \n",
       "3      0.000000  0.088231  0.000000  0.050103  0.050103  0.000000  \n",
       "4      0.000000  0.000000  0.000000  0.000000  0.000000  0.053121  \n",
       "\n",
       "[5 rows x 2499 columns]"
      ]
     },
     "execution_count": 41,
     "metadata": {},
     "output_type": "execute_result"
    }
   ],
   "source": [
    "# get most frequent terms\n",
    "get_top_terms(dtm6, tfidf_vectorizer6, 20) \n",
    "\n",
    "# create df\n",
    "df6 = convert_to_term_df(dtm6, tfidf_vectorizer6)\n",
    "df6.head() "
   ]
  },
  {
   "cell_type": "markdown",
   "id": "bc2d1ef8",
   "metadata": {},
   "source": [
    "### Conduct PCA "
   ]
  },
  {
   "cell_type": "markdown",
   "id": "d438fc0e",
   "metadata": {},
   "source": [
    "#### For All 50 States"
   ]
  },
  {
   "cell_type": "code",
   "execution_count": 42,
   "id": "7d72d74f",
   "metadata": {},
   "outputs": [],
   "source": [
    "# df4 is most interpretable based on the frequent terms output \n",
    "x = df4.copy()"
   ]
  },
  {
   "cell_type": "code",
   "execution_count": 43,
   "id": "fbc1707c",
   "metadata": {},
   "outputs": [
    {
     "data": {
      "text/plain": [
       "PCA()"
      ]
     },
     "execution_count": 43,
     "metadata": {},
     "output_type": "execute_result"
    }
   ],
   "source": [
    "# generate principle components\n",
    "pca = PCA()\n",
    "pca.fit(x)\n",
    "# pca.explained_variance_ratio_"
   ]
  },
  {
   "cell_type": "code",
   "execution_count": 143,
   "id": "c38f30a0",
   "metadata": {},
   "outputs": [
    {
     "name": "stdout",
     "output_type": "stream",
     "text": [
      "First 5 PC explain 0.1798 of variance in full dataset\n"
     ]
    }
   ],
   "source": [
    "# identify variance \n",
    "pc_variance = list(pca.explained_variance_ratio_)\n",
    "pc_variance_top5 = sum(pc_variance[:5])\n",
    "print('First 5 PC explain '+ str(round(pc_variance_top5, 4)) + \n",
    "      ' of variance in full dataset')"
   ]
  },
  {
   "cell_type": "code",
   "execution_count": 144,
   "id": "6b75568b",
   "metadata": {},
   "outputs": [
    {
     "name": "stdout",
     "output_type": "stream",
     "text": [
      "PC 1 explains 0.0475 of variance in full dataset\n",
      "PC 2 explains 0.0417 of variance in full dataset\n",
      "PC 3 explains 0.0325 of variance in full dataset\n",
      "PC 4 explains 0.0305 of variance in full dataset\n",
      "PC 5 explains 0.0277 of variance in full dataset\n"
     ]
    }
   ],
   "source": [
    "# explore variance explained of first 5 PCs\n",
    "pc1_var = sum(pc_variance[0:1])\n",
    "print('PC 1 explains '+ str(round(pc1_var, 4)) + ' of variance in full dataset')\n",
    "pc2_var = sum(pc_variance[1:2])\n",
    "print('PC 2 explains '+ str(round(pc2_var, 4)) + ' of variance in full dataset')\n",
    "pc3_var = sum(pc_variance[2:3])\n",
    "print('PC 3 explains '+ str(round(pc3_var, 4)) + ' of variance in full dataset')\n",
    "pc4_var = sum(pc_variance[3:4])\n",
    "print('PC 4 explains '+ str(round(pc4_var, 4)) + ' of variance in full dataset')\n",
    "pc5_var = sum(pc_variance[4:5])\n",
    "print('PC 5 explains '+ str(round(pc5_var, 4)) + ' of variance in full dataset')"
   ]
  },
  {
   "cell_type": "code",
   "execution_count": 145,
   "id": "eb51f116",
   "metadata": {},
   "outputs": [
    {
     "data": {
      "text/html": [
       "<div>\n",
       "<style scoped>\n",
       "    .dataframe tbody tr th:only-of-type {\n",
       "        vertical-align: middle;\n",
       "    }\n",
       "\n",
       "    .dataframe tbody tr th {\n",
       "        vertical-align: top;\n",
       "    }\n",
       "\n",
       "    .dataframe thead th {\n",
       "        text-align: right;\n",
       "    }\n",
       "</style>\n",
       "<table border=\"1\" class=\"dataframe\">\n",
       "  <thead>\n",
       "    <tr style=\"text-align: right;\">\n",
       "      <th></th>\n",
       "      <th>PC1</th>\n",
       "      <th>PC2</th>\n",
       "      <th>PC3</th>\n",
       "      <th>PC4</th>\n",
       "      <th>PC5</th>\n",
       "    </tr>\n",
       "  </thead>\n",
       "  <tbody>\n",
       "    <tr>\n",
       "      <th>ability</th>\n",
       "      <td>-0.026801</td>\n",
       "      <td>0.000721</td>\n",
       "      <td>0.005500</td>\n",
       "      <td>-0.000518</td>\n",
       "      <td>-0.014354</td>\n",
       "    </tr>\n",
       "    <tr>\n",
       "      <th>able</th>\n",
       "      <td>-0.023513</td>\n",
       "      <td>-0.007388</td>\n",
       "      <td>-0.026435</td>\n",
       "      <td>-0.001484</td>\n",
       "      <td>0.023722</td>\n",
       "    </tr>\n",
       "    <tr>\n",
       "      <th>able get</th>\n",
       "      <td>-0.006550</td>\n",
       "      <td>-0.002947</td>\n",
       "      <td>-0.008858</td>\n",
       "      <td>0.009204</td>\n",
       "      <td>0.003576</td>\n",
       "    </tr>\n",
       "    <tr>\n",
       "      <th>abortion</th>\n",
       "      <td>0.004134</td>\n",
       "      <td>-0.000225</td>\n",
       "      <td>-0.006897</td>\n",
       "      <td>-0.007378</td>\n",
       "      <td>-0.016084</td>\n",
       "    </tr>\n",
       "    <tr>\n",
       "      <th>abroad</th>\n",
       "      <td>0.014172</td>\n",
       "      <td>-0.001136</td>\n",
       "      <td>-0.011116</td>\n",
       "      <td>-0.008323</td>\n",
       "      <td>-0.011590</td>\n",
       "    </tr>\n",
       "  </tbody>\n",
       "</table>\n",
       "</div>"
      ],
      "text/plain": [
       "               PC1       PC2       PC3       PC4       PC5\n",
       "ability  -0.026801  0.000721  0.005500 -0.000518 -0.014354\n",
       "able     -0.023513 -0.007388 -0.026435 -0.001484  0.023722\n",
       "able get -0.006550 -0.002947 -0.008858  0.009204  0.003576\n",
       "abortion  0.004134 -0.000225 -0.006897 -0.007378 -0.016084\n",
       "abroad    0.014172 -0.001136 -0.011116 -0.008323 -0.011590"
      ]
     },
     "execution_count": 145,
     "metadata": {},
     "output_type": "execute_result"
    }
   ],
   "source": [
    "# create df of top 5 PCs\n",
    "factor_loadings = pca.components_  #extract the component loadings\n",
    "matrix = np.transpose(factor_loadings) #flip the rows and cols \n",
    "fl = pd.DataFrame(data = matrix, index = x.columns)\n",
    "top_5 = fl.iloc[:,0:5]\n",
    "top_5.columns = ['PC1', 'PC2', 'PC3', 'PC4', 'PC5']\n",
    "top_5.head()"
   ]
  },
  {
   "cell_type": "code",
   "execution_count": 146,
   "id": "085dbbac",
   "metadata": {},
   "outputs": [],
   "source": [
    "# Isolate the top 20 terms for each PC\n",
    "PC1_20 = top_5.sort_values(by = 'PC1', ascending = False).head(20)\n",
    "PC2_20 = top_5.sort_values(by = 'PC2', ascending = False).head(20)\n",
    "PC3_20 = top_5.sort_values(by = 'PC3', ascending = False).head(20)\n",
    "PC4_20 = top_5.sort_values(by = 'PC4', ascending = False).head(20)\n",
    "PC5_20 = top_5.sort_values(by = 'PC5', ascending = False).head(20)"
   ]
  },
  {
   "cell_type": "code",
   "execution_count": 147,
   "id": "64a0db87",
   "metadata": {},
   "outputs": [
    {
     "data": {
      "text/plain": [
       "['freedom',\n",
       " 'democracy',\n",
       " 'liberty',\n",
       " 'america',\n",
       " 'free',\n",
       " 'citizens',\n",
       " 'power',\n",
       " 'delivered',\n",
       " 'god',\n",
       " 'politicians',\n",
       " 'love',\n",
       " 'got',\n",
       " 'lives',\n",
       " 'fire',\n",
       " 'story',\n",
       " 'promised',\n",
       " 'inaugural address',\n",
       " 'reject',\n",
       " 'inaugural',\n",
       " 'voices']"
      ]
     },
     "execution_count": 147,
     "metadata": {},
     "output_type": "execute_result"
    },
    {
     "data": {
      "text/plain": [
       "['housing',\n",
       " 'climate',\n",
       " 'crisis',\n",
       " 'costs',\n",
       " 'gun',\n",
       " 'homelessness',\n",
       " 'affordable',\n",
       " 'homes',\n",
       " 'climate change',\n",
       " 'clean',\n",
       " 'mental',\n",
       " 'housing crisis',\n",
       " 'units',\n",
       " 'beds',\n",
       " 'action',\n",
       " 'homeless',\n",
       " 'energy',\n",
       " 'affordable housing',\n",
       " 'towns',\n",
       " 'shared']"
      ]
     },
     "execution_count": 147,
     "metadata": {},
     "output_type": "execute_result"
    },
    {
     "data": {
      "text/plain": [
       "['energy',\n",
       " 'oil',\n",
       " 'biden administration',\n",
       " 'innovation',\n",
       " 'policies',\n",
       " 'carbon',\n",
       " 'industries',\n",
       " 'housing',\n",
       " 'delivered',\n",
       " 'security',\n",
       " 'advanced',\n",
       " 'agriculture',\n",
       " 'biden',\n",
       " 'critical',\n",
       " 'markets',\n",
       " 'federal government',\n",
       " 'efforts',\n",
       " 'opportunities',\n",
       " 'meant',\n",
       " 'winter']"
      ]
     },
     "execution_count": 147,
     "metadata": {},
     "output_type": "execute_result"
    },
    {
     "data": {
      "text/plain": [
       "['property',\n",
       " 'kids',\n",
       " 'taxes',\n",
       " 'property tax',\n",
       " 'property taxes',\n",
       " 'relief',\n",
       " 'tax relief',\n",
       " 'page',\n",
       " 'dollars',\n",
       " 'million dollars',\n",
       " 'legislature',\n",
       " 'income',\n",
       " 'fentanyl',\n",
       " 'cuts',\n",
       " 'going',\n",
       " 'water',\n",
       " 'schools',\n",
       " 'costs',\n",
       " 'percent',\n",
       " 'local']"
      ]
     },
     "execution_count": 147,
     "metadata": {},
     "output_type": "execute_result"
    },
    {
     "data": {
      "text/plain": [
       "['energy',\n",
       " 'got',\n",
       " 'going',\n",
       " 'really',\n",
       " 'industries',\n",
       " 'think',\n",
       " 'tell',\n",
       " 'carbon',\n",
       " 'something',\n",
       " 'lot',\n",
       " 'talk',\n",
       " 'literally',\n",
       " 'oil',\n",
       " 'innovation',\n",
       " 'biden administration',\n",
       " 'agriculture',\n",
       " 'advanced',\n",
       " 'secretary',\n",
       " 'projects',\n",
       " 'saying']"
      ]
     },
     "execution_count": 147,
     "metadata": {},
     "output_type": "execute_result"
    }
   ],
   "source": [
    "# Explore the top terms \n",
    "\n",
    "PC1_20_terms = list(PC1_20.index)\n",
    "PC1_20_terms\n",
    "#religious and patriotic terms (america, god etc) - not meaningful in for policy priorities \n",
    "\n",
    "PC2_20_terms = list(PC2_20.index)\n",
    "PC2_20_terms\n",
    "# primarily affordable housing and homelessness \n",
    "\n",
    "PC3_20_terms = list(PC3_20.index)\n",
    "PC3_20_terms\n",
    "# energy policy \n",
    "\n",
    "PC4_20_terms = list(PC4_20.index)\n",
    "PC4_20_terms\n",
    "# taxes \n",
    "\n",
    "PC5_20_terms = list(PC5_20.index)\n",
    "PC5_20_terms\n",
    "# not very interpretable"
   ]
  },
  {
   "cell_type": "markdown",
   "id": "ed0b9200",
   "metadata": {},
   "source": [
    "#### Create Function"
   ]
  },
  {
   "cell_type": "code",
   "execution_count": 149,
   "id": "7c2bdd15",
   "metadata": {},
   "outputs": [],
   "source": [
    "def print_pca(df, min_df_value):\n",
    "    tfidf_vectorizer = TfidfVectorizer(stop_words=new_stpwrd, min_df=min_df_value, max_df=0.80, ngram_range=(1,2), \n",
    "                                    token_pattern= r'\\b[a-zA-Z]{3,}\\b')\n",
    "    dtm = tfidf_vectorizer.fit_transform(df.text)\n",
    "    x = convert_to_term_df(dtm, tfidf_vectorizer)\n",
    "    pca = PCA()\n",
    "    pca.fit(x)\n",
    "    pc_variance = list(pca.explained_variance_ratio_)\n",
    "    pc_variance_top5 = sum(pc_variance[:5])\n",
    "    print('First 5 PC explain '+ str(round(pc_variance_top5, 4)) + \n",
    "      f' of variance in full dataset')\n",
    "    pc_variance_top10 = sum(pc_variance[:10])\n",
    "    print('First 10 PC explain '+ str(round(pc_variance_top10, 4)) + \n",
    "      f' of variance in full dataset')\n",
    "    factor_loadings = pca.components_  #extract the component loadings\n",
    "    matrix = np.transpose(factor_loadings) #flip the rows and cols \n",
    "    fl = pd.DataFrame(data = matrix, index = x.columns)\n",
    "    top_5 = fl.iloc[:,0:5]\n",
    "    top_5.columns = ['PC1', 'PC2', 'PC3', 'PC4', 'PC5']\n",
    "    PC1_20 = top_5.sort_values(by = 'PC1', ascending = False).head(20)\n",
    "    PC2_20 = top_5.sort_values(by = 'PC2', ascending = False).head(20)\n",
    "    PC3_20 = top_5.sort_values(by = 'PC3', ascending = False).head(20)\n",
    "    PC4_20 = top_5.sort_values(by = 'PC4', ascending = False).head(20)\n",
    "    PC5_20 = top_5.sort_values(by = 'PC5', ascending = False).head(20)\n",
    "    \n",
    "    # individual variance of PC \n",
    "    pc1_var = round(sum(pc_variance[0:1]), 4)\n",
    "    pc2_var = round(sum(pc_variance[1:2]), 4)\n",
    "    pc3_var = round(sum(pc_variance[2:3]), 4)\n",
    "    pc4_var = round(sum(pc_variance[3:4]), 4)\n",
    "    pc5_var = round(sum(pc_variance[4:5]), 4)\n",
    "\n",
    "    # terms \n",
    "    PC1_20_terms = list(PC1_20.index)\n",
    "    PC2_20_terms = list(PC2_20.index)\n",
    "    PC3_20_terms = list(PC3_20.index)\n",
    "    PC4_20_terms = list(PC4_20.index)\n",
    "    PC5_20_terms = list(PC5_20.index)\n",
    "    \n",
    "    return (f'PC1: {pc1_var} -- {PC1_20_terms}', '', \n",
    "            f'PC2: {pc2_var} -- {PC2_20_terms}', '', \n",
    "            f'PC3: {pc3_var} -- {PC3_20_terms}', '', \n",
    "            f'PC4: {pc4_var} -- {PC4_20_terms}', '', \n",
    "            f'PC5: {pc5_var} -- {PC5_20_terms}', '') "
   ]
  },
  {
   "cell_type": "markdown",
   "id": "95dd19f2",
   "metadata": {},
   "source": [
    "## Analyze Republicans and Democrats separately"
   ]
  },
  {
   "cell_type": "code",
   "execution_count": 150,
   "id": "bd0b71bc",
   "metadata": {},
   "outputs": [],
   "source": [
    "# create subset dfs based on gov party\n",
    "rep = sos[sos.party == 'republican'].copy().reset_index(drop = True)\n",
    "dem = sos[sos.party == 'democratic'].copy().reset_index(drop = True)"
   ]
  },
  {
   "cell_type": "code",
   "execution_count": 151,
   "id": "f503889c",
   "metadata": {},
   "outputs": [
    {
     "name": "stdout",
     "output_type": "stream",
     "text": [
      "<class 'pandas.core.frame.DataFrame'>\n",
      "RangeIndex: 26 entries, 0 to 25\n",
      "Data columns (total 7 columns):\n",
      " #   Column          Non-Null Count  Dtype \n",
      "---  ------          --------------  ----- \n",
      " 0   state           26 non-null     object\n",
      " 1   gov_name        26 non-null     object\n",
      " 2   party           26 non-null     object\n",
      " 3   type            26 non-null     object\n",
      " 4   text            26 non-null     object\n",
      " 5   word_count      26 non-null     int64 \n",
      " 6   new_word_count  26 non-null     int64 \n",
      "dtypes: int64(2), object(5)\n",
      "memory usage: 1.5+ KB\n",
      "<class 'pandas.core.frame.DataFrame'>\n",
      "RangeIndex: 24 entries, 0 to 23\n",
      "Data columns (total 7 columns):\n",
      " #   Column          Non-Null Count  Dtype \n",
      "---  ------          --------------  ----- \n",
      " 0   state           24 non-null     object\n",
      " 1   gov_name        24 non-null     object\n",
      " 2   party           24 non-null     object\n",
      " 3   type            24 non-null     object\n",
      " 4   text            24 non-null     object\n",
      " 5   word_count      24 non-null     int64 \n",
      " 6   new_word_count  24 non-null     int64 \n",
      "dtypes: int64(2), object(5)\n",
      "memory usage: 1.4+ KB\n"
     ]
    }
   ],
   "source": [
    "# explore both \n",
    "rep.info()\n",
    "dem.info()"
   ]
  },
  {
   "cell_type": "markdown",
   "id": "c63c69f0",
   "metadata": {},
   "source": [
    "#### Republicans"
   ]
  },
  {
   "cell_type": "code",
   "execution_count": 152,
   "id": "99fca148",
   "metadata": {},
   "outputs": [
    {
     "data": {
      "text/plain": [
       "(26, 1379)"
      ]
     },
     "execution_count": 152,
     "metadata": {},
     "output_type": "execute_result"
    }
   ],
   "source": [
    "# use tfidf_vectorizer4 - most interpretable from full df analysis \n",
    "\n",
    "# create custom stop list\n",
    "# note I adjusted this throughout the process to get rid of non-policy related terms that were most frequent\n",
    "new_stp_list = ['her', 'them', 'million','four','absolutely','tonight','state', 'governor', 'year', 'alabama', 'new', 'north', 'south', 'west', 'alaska', 'arizona', 'arkansas', 'california', 'colorado',\n",
    "             'connecticut','delaware','florida','georgia','hawaii','idaho','illinois','indiana','iowa',\n",
    "             'kansas','kentucky','louisiana','maine','maryland','massachusetts','michigan','minnesota',\n",
    "             'mississippi','missouri','montana','nebraska','nevada', 'hampshire', 'jersey', 'mexico','york',\n",
    "             'carolina', 'dakota','ohio','oklahoma','oregon','pennsylvania','rhode','island','tennessee','texas',\n",
    "             'utah','vermont','virginia','washington','west virginia', 'wisconsin','wyoming', \n",
    "             'could', 'doe', 'ha', 'kansa', 'might', 'must', 'need', 'sha', 'wa', 'would', 'freedom', 'america',\n",
    "             'delivered', 'lives', 'promised', 'citizens', 'liberty', 'policies', 'free', 'reject', 'biden', \n",
    "             'top', 'number','one', 'got', 'wants', 'american', 'going','really', 'yes', 'mission', 'dreams', \n",
    "             'inaugural','address', 'led', 'bold', 'seek', 'americans', 'ever']\n",
    "\n",
    "new_stpwrd = nltk.corpus.stopwords.words('english')\n",
    "new_stpwrd.extend(new_stp_list)\n",
    "\n",
    "# initialize tfidf\n",
    "tfidf_vectorizer4 = TfidfVectorizer(stop_words=new_stpwrd, min_df=6, max_df=0.80, ngram_range=(1,2), \n",
    "                                    token_pattern= r'\\b[a-zA-Z]{3,}\\b')\n",
    "\n",
    "# create dtm\n",
    "rep_dtm4 = tfidf_vectorizer4.fit_transform(rep.text)\n",
    "rep_dtm4.shape  # (26, 1380)"
   ]
  },
  {
   "cell_type": "code",
   "execution_count": 153,
   "id": "33789a1f",
   "metadata": {},
   "outputs": [
    {
     "data": {
      "text/plain": [
       "array(['schools', 'kids', 'program', 'energy', 'teachers', 'workforce',\n",
       "       'system', 'investment', 'general', 'needs', 'legislature',\n",
       "       'percent', 'property', 'taxes', 'session', 'teacher', 'fund',\n",
       "       'community', 'may', 'made'], dtype=object)"
      ]
     },
     "execution_count": 153,
     "metadata": {},
     "output_type": "execute_result"
    }
   ],
   "source": [
    "# get most frequent terms\n",
    "rep_top_terms = get_top_terms(rep_dtm4, tfidf_vectorizer4, 20)  \n",
    "rep_top_terms\n",
    "\n",
    "# convert to df\n",
    "rep_df4 = convert_to_term_df(rep_dtm4, tfidf_vectorizer4)\n",
    "# rep_df4.head() "
   ]
  },
  {
   "cell_type": "markdown",
   "id": "0a16ef26",
   "metadata": {},
   "source": [
    "###### Hyperparameter tuning"
   ]
  },
  {
   "cell_type": "code",
   "execution_count": 154,
   "id": "08b6bbd1",
   "metadata": {},
   "outputs": [],
   "source": [
    "# explore min_doc frequency options of 1-10\n",
    "def get_min_doc_image(df, party):\n",
    "    term_count = []\n",
    "\n",
    "    for i in range(1, 10):\n",
    "        vectorizer = CountVectorizer(stop_words='english', min_df=i)\n",
    "        dtm = vectorizer.fit_transform(dem.text)\n",
    "        length = dtm.shape[1]\n",
    "        term_count.append(length)\n",
    "\n",
    "    min_df = pd.DataFrame(data = {'Min Doc': range(1,10),\n",
    "                                  'Term Count': term_count})\n",
    "    fig, ax = plt.subplots(figsize=(12,6.5))\n",
    "    # ax.plot(range(1,26), min_df['Term Count'], linewidth = 2.5, color = 'green')\n",
    "    ax.scatter(x = min_df['Min Doc'], y = min_df['Term Count'])\n",
    "    plt.title(f'From {str(df.shape[0])} State of the State Addresses for {party} in 2023')\n",
    "    plt.suptitle('Minimum Document Frequency and Resulting Term Count', size = 20)\n",
    "    plt.ylabel('Term Count')\n",
    "    plt.xlabel('Minimum Document Frequency')"
   ]
  },
  {
   "cell_type": "code",
   "execution_count": 155,
   "id": "c6c203f7",
   "metadata": {},
   "outputs": [
    {
     "data": {
      "image/png": "[encoded data removed]",
      "text/plain": [
       "<Figure size 864x468 with 1 Axes>"
      ]
     },
     "metadata": {
      "needs_background": "light"
     },
     "output_type": "display_data"
    }
   ],
   "source": [
    "get_min_doc_image(rep, 'Republicans')"
   ]
  },
  {
   "cell_type": "markdown",
   "id": "4495be5e",
   "metadata": {},
   "source": [
    "##### PCA - Republicans"
   ]
  },
  {
   "cell_type": "code",
   "execution_count": 156,
   "id": "943a5dc9",
   "metadata": {},
   "outputs": [
    {
     "name": "stdout",
     "output_type": "stream",
     "text": [
      "First 5 PC explain 0.2764 of variance in full dataset\n",
      "First 10 PC explain 0.4968 of variance in full dataset\n"
     ]
    },
    {
     "data": {
      "text/plain": [
       "(\"PC1: 0.0674 -- ['energy', 'fire', 'power', 'meant', 'enact', 'carbon', 'security', 'innovation', 'produced', 'industries', 'advanced', 'oil', 'mandates', 'land', 'principles', 'fear', 'inflation', 'die', 'national security', 'mind']\",\n",
       " '',\n",
       " \"PC2: 0.0575 -- ['energy', 'carbon', 'industries', 'oil', 'innovation', 'advanced', 'security', 'financial', 'agriculture', 'federal', 'winter', 'youth', 'resiliency', 'private', 'markets', 'areas', 'industry', 'proposed', 'grit', 'federal government']\",\n",
       " '',\n",
       " \"PC3: 0.0535 -- ['property', 'property tax', 'property taxes', 'relief', 'taxes', 'recommending', 'tax relief', 'percent', 'kids', 'cuts', 'fentanyl', 'tax cuts', 'border', 'michael', 'investments', 'investment', 'local', 'dollar', 'school districts', 'districts']\",\n",
       " '',\n",
       " \"PC4: 0.0499 -- ['grid', 'fire', 'border', 'criminals', 'general', 'strong', 'pioneers', 'illegal', 'general assembly', 'schools', 'owners', 'assembly', 'generation', 'pathways', 'hardworking', 'deserve', 'order', 'public safety', 'land', 'men']\",\n",
       " '',\n",
       " \"PC5: 0.0481 -- ['fire', 'dream', 'record', 'apprenticeship', 'mandates', 'enact', 'freedoms', 'industry', 'employees', 'kids', 'ten', 'land', 'fastest', 'production', 'stronger families', 'saw', 'unemployment', 'protecting', 'companies', 'oil']\",\n",
       " '')"
      ]
     },
     "execution_count": 156,
     "metadata": {},
     "output_type": "execute_result"
    }
   ],
   "source": [
    "# not very meaningful or interpretable \n",
    "print_pca(rep, 4)"
   ]
  },
  {
   "cell_type": "markdown",
   "id": "7b736276",
   "metadata": {},
   "source": [
    "#### Democrats"
   ]
  },
  {
   "cell_type": "code",
   "execution_count": 157,
   "id": "8b980563",
   "metadata": {},
   "outputs": [
    {
     "data": {
      "text/plain": [
       "(24, 1202)"
      ]
     },
     "execution_count": 157,
     "metadata": {},
     "output_type": "execute_result"
    }
   ],
   "source": [
    "# use dtf4 - most interpretable from full ds\n",
    "dem_dtm4 = tfidf_vectorizer4.fit_transform(dem.text)\n",
    "dem_dtm4.shape # (24, 1202)"
   ]
  },
  {
   "cell_type": "code",
   "execution_count": 158,
   "id": "1bed1dd8",
   "metadata": {},
   "outputs": [
    {
     "data": {
      "text/plain": [
       "array(['housing', 'tax', 'water', 'funding', 'plan', 'nation',\n",
       "       'investments', 'mental', 'local', 'workforce', 'kids', 'county',\n",
       "       'program', 'services', 'legislature', 'costs', 'crisis', 'hard',\n",
       "       'mental health', 'billion'], dtype=object)"
      ]
     },
     "execution_count": 158,
     "metadata": {},
     "output_type": "execute_result"
    },
    {
     "data": {
      "text/html": [
       "<div>\n",
       "<style scoped>\n",
       "    .dataframe tbody tr th:only-of-type {\n",
       "        vertical-align: middle;\n",
       "    }\n",
       "\n",
       "    .dataframe tbody tr th {\n",
       "        vertical-align: top;\n",
       "    }\n",
       "\n",
       "    .dataframe thead th {\n",
       "        text-align: right;\n",
       "    }\n",
       "</style>\n",
       "<table border=\"1\" class=\"dataframe\">\n",
       "  <thead>\n",
       "    <tr style=\"text-align: right;\">\n",
       "      <th></th>\n",
       "      <th>ability</th>\n",
       "      <th>able</th>\n",
       "      <th>abortion</th>\n",
       "      <th>access</th>\n",
       "      <th>accessible</th>\n",
       "      <th>accomplish</th>\n",
       "      <th>achieve</th>\n",
       "      <th>across country</th>\n",
       "      <th>act</th>\n",
       "      <th>action</th>\n",
       "      <th>...</th>\n",
       "      <th>write</th>\n",
       "      <th>years ago</th>\n",
       "      <th>years ahead</th>\n",
       "      <th>years come</th>\n",
       "      <th>yet</th>\n",
       "      <th>young</th>\n",
       "      <th>young people</th>\n",
       "      <th>youth</th>\n",
       "      <th>zero</th>\n",
       "      <th>zoning</th>\n",
       "    </tr>\n",
       "  </thead>\n",
       "  <tbody>\n",
       "    <tr>\n",
       "      <th>0</th>\n",
       "      <td>0.000000</td>\n",
       "      <td>0.000000</td>\n",
       "      <td>0.018422</td>\n",
       "      <td>0.024503</td>\n",
       "      <td>0.000000</td>\n",
       "      <td>0.00000</td>\n",
       "      <td>0.026641</td>\n",
       "      <td>0.00000</td>\n",
       "      <td>0.076626</td>\n",
       "      <td>0.051084</td>\n",
       "      <td>...</td>\n",
       "      <td>0.02185</td>\n",
       "      <td>0.000000</td>\n",
       "      <td>0.043701</td>\n",
       "      <td>0.02185</td>\n",
       "      <td>0.000000</td>\n",
       "      <td>0.013903</td>\n",
       "      <td>0.000000</td>\n",
       "      <td>0.000000</td>\n",
       "      <td>0.000000</td>\n",
       "      <td>0.000000</td>\n",
       "    </tr>\n",
       "    <tr>\n",
       "      <th>1</th>\n",
       "      <td>0.000000</td>\n",
       "      <td>0.000000</td>\n",
       "      <td>0.041631</td>\n",
       "      <td>0.055374</td>\n",
       "      <td>0.000000</td>\n",
       "      <td>0.04938</td>\n",
       "      <td>0.000000</td>\n",
       "      <td>0.04392</td>\n",
       "      <td>0.028862</td>\n",
       "      <td>0.000000</td>\n",
       "      <td>...</td>\n",
       "      <td>0.00000</td>\n",
       "      <td>0.057723</td>\n",
       "      <td>0.000000</td>\n",
       "      <td>0.00000</td>\n",
       "      <td>0.079121</td>\n",
       "      <td>0.000000</td>\n",
       "      <td>0.000000</td>\n",
       "      <td>0.000000</td>\n",
       "      <td>0.000000</td>\n",
       "      <td>0.049380</td>\n",
       "    </tr>\n",
       "    <tr>\n",
       "      <th>2</th>\n",
       "      <td>0.021693</td>\n",
       "      <td>0.008615</td>\n",
       "      <td>0.000000</td>\n",
       "      <td>0.068320</td>\n",
       "      <td>0.000000</td>\n",
       "      <td>0.00000</td>\n",
       "      <td>0.008254</td>\n",
       "      <td>0.00000</td>\n",
       "      <td>0.047479</td>\n",
       "      <td>0.039566</td>\n",
       "      <td>...</td>\n",
       "      <td>0.00000</td>\n",
       "      <td>0.015826</td>\n",
       "      <td>0.013539</td>\n",
       "      <td>0.00000</td>\n",
       "      <td>0.010847</td>\n",
       "      <td>0.008615</td>\n",
       "      <td>0.000000</td>\n",
       "      <td>0.011414</td>\n",
       "      <td>0.027078</td>\n",
       "      <td>0.013539</td>\n",
       "    </tr>\n",
       "    <tr>\n",
       "      <th>3</th>\n",
       "      <td>0.000000</td>\n",
       "      <td>0.000000</td>\n",
       "      <td>0.000000</td>\n",
       "      <td>0.025172</td>\n",
       "      <td>0.042257</td>\n",
       "      <td>0.00000</td>\n",
       "      <td>0.000000</td>\n",
       "      <td>0.00000</td>\n",
       "      <td>0.000000</td>\n",
       "      <td>0.000000</td>\n",
       "      <td>...</td>\n",
       "      <td>0.00000</td>\n",
       "      <td>0.052480</td>\n",
       "      <td>0.000000</td>\n",
       "      <td>0.00000</td>\n",
       "      <td>0.000000</td>\n",
       "      <td>0.000000</td>\n",
       "      <td>0.000000</td>\n",
       "      <td>0.000000</td>\n",
       "      <td>0.000000</td>\n",
       "      <td>0.000000</td>\n",
       "    </tr>\n",
       "    <tr>\n",
       "      <th>4</th>\n",
       "      <td>0.021047</td>\n",
       "      <td>0.016716</td>\n",
       "      <td>0.000000</td>\n",
       "      <td>0.029460</td>\n",
       "      <td>0.000000</td>\n",
       "      <td>0.00000</td>\n",
       "      <td>0.016016</td>\n",
       "      <td>0.00000</td>\n",
       "      <td>0.000000</td>\n",
       "      <td>0.030710</td>\n",
       "      <td>...</td>\n",
       "      <td>0.00000</td>\n",
       "      <td>0.046065</td>\n",
       "      <td>0.026271</td>\n",
       "      <td>0.00000</td>\n",
       "      <td>0.000000</td>\n",
       "      <td>0.033432</td>\n",
       "      <td>0.022149</td>\n",
       "      <td>0.022149</td>\n",
       "      <td>0.000000</td>\n",
       "      <td>0.000000</td>\n",
       "    </tr>\n",
       "  </tbody>\n",
       "</table>\n",
       "<p>5 rows × 1202 columns</p>\n",
       "</div>"
      ],
      "text/plain": [
       "    ability      able  abortion    access  accessible  accomplish   achieve  \\\n",
       "0  0.000000  0.000000  0.018422  0.024503    0.000000     0.00000  0.026641   \n",
       "1  0.000000  0.000000  0.041631  0.055374    0.000000     0.04938  0.000000   \n",
       "2  0.021693  0.008615  0.000000  0.068320    0.000000     0.00000  0.008254   \n",
       "3  0.000000  0.000000  0.000000  0.025172    0.042257     0.00000  0.000000   \n",
       "4  0.021047  0.016716  0.000000  0.029460    0.000000     0.00000  0.016016   \n",
       "\n",
       "   across country       act    action  ...    write  years ago  years ahead  \\\n",
       "0         0.00000  0.076626  0.051084  ...  0.02185   0.000000     0.043701   \n",
       "1         0.04392  0.028862  0.000000  ...  0.00000   0.057723     0.000000   \n",
       "2         0.00000  0.047479  0.039566  ...  0.00000   0.015826     0.013539   \n",
       "3         0.00000  0.000000  0.000000  ...  0.00000   0.052480     0.000000   \n",
       "4         0.00000  0.000000  0.030710  ...  0.00000   0.046065     0.026271   \n",
       "\n",
       "   years come       yet     young  young people     youth      zero    zoning  \n",
       "0     0.02185  0.000000  0.013903      0.000000  0.000000  0.000000  0.000000  \n",
       "1     0.00000  0.079121  0.000000      0.000000  0.000000  0.000000  0.049380  \n",
       "2     0.00000  0.010847  0.008615      0.000000  0.011414  0.027078  0.013539  \n",
       "3     0.00000  0.000000  0.000000      0.000000  0.000000  0.000000  0.000000  \n",
       "4     0.00000  0.000000  0.033432      0.022149  0.022149  0.000000  0.000000  \n",
       "\n",
       "[5 rows x 1202 columns]"
      ]
     },
     "execution_count": 158,
     "metadata": {},
     "output_type": "execute_result"
    }
   ],
   "source": [
    "# isolate the most frequent terms \n",
    "dem_top_terms = get_top_terms(dem_dtm4, tfidf_vectorizer4, 20)  \n",
    "dem_top_terms\n",
    "\n",
    "# convert to df\n",
    "dem_df4 = convert_to_term_df(dem_dtm4, tfidf_vectorizer4)\n",
    "dem_df4.head() "
   ]
  },
  {
   "cell_type": "markdown",
   "id": "d851a67a",
   "metadata": {},
   "source": [
    "##### Hyperparameter Tuning"
   ]
  },
  {
   "cell_type": "code",
   "execution_count": 159,
   "id": "feaeee18",
   "metadata": {},
   "outputs": [
    {
     "data": {
      "image/png": "[encoded data removed]",
      "text/plain": [
       "<Figure size 864x468 with 1 Axes>"
      ]
     },
     "metadata": {
      "needs_background": "light"
     },
     "output_type": "display_data"
    }
   ],
   "source": [
    "get_min_doc_image(dem, 'Democrats')"
   ]
  },
  {
   "cell_type": "markdown",
   "id": "5e285453",
   "metadata": {},
   "source": [
    "##### PCA - Dem"
   ]
  },
  {
   "cell_type": "code",
   "execution_count": 160,
   "id": "c12b7aa7",
   "metadata": {},
   "outputs": [
    {
     "name": "stdout",
     "output_type": "stream",
     "text": [
      "First 5 PC explain 0.2987 of variance in full dataset\n",
      "First 10 PC explain 0.5321 of variance in full dataset\n"
     ]
    },
    {
     "data": {
      "text/plain": [
       "(\"PC1: 0.072 -- ['democracy', 'stories', 'story', 'voices', 'love', 'rights', 'real', 'honor', 'vote', 'oath', 'took', 'came', 'nation', 'serve', 'trying', 'journey', 'father', 'watch', 'stage', 'banning']\",\n",
       " '',\n",
       " \"PC2: 0.0676 -- ['housing', 'crisis', 'homelessness', 'legislature', 'idea', 'housing crisis', 'climate', 'units', 'beds', 'listen', 'cost', 'actions', 'homeless', 'within', 'values', 'things', 'affordable', 'difficult', 'hope', 'affordable housing']\",\n",
       " '',\n",
       " \"PC3: 0.0539 -- ['creating jobs', 'general assembly', 'assembly', 'county', 'less', 'taxpayers', 'team', 'party', 'rescue', 'growth', 'tax', 'company', 'creating', 'economic growth', 'general', 'fiscal', 'announced', 'worry', 'serving', 'along']\",\n",
       " '',\n",
       " \"PC4: 0.0531 -- ['fiscal', 'taxpayers', 'costs', 'less', 'starting', 'growth', 'senator', 'worry', 'easier', 'labor', 'control', 'party', 'election', 'economic growth', 'citizen', 'assistance', 'plan', 'covid', 'rescue', 'room']\",\n",
       " '',\n",
       " \"PC5: 0.0521 -- ['costs', 'water', 'tax', 'solutions', 'kids', 'get done', 'work together', 'ensure', 'issue', 'young people', 'preschool', 'talk', 'funding', 'idea', 'however', 'skills', 'succeed', 'grow', 'believe', 'administration']\",\n",
       " '')"
      ]
     },
     "execution_count": 160,
     "metadata": {},
     "output_type": "execute_result"
    }
   ],
   "source": [
    "print_pca(dem, 4) # not very interpretative or meaningful "
   ]
  },
  {
   "cell_type": "markdown",
   "id": "71b887c0",
   "metadata": {},
   "source": [
    "#### Compare Top Terms\n",
    "Since the Principal Components for each party were not very interpretable, let's examine the most frequent terms for each instead."
   ]
  },
  {
   "cell_type": "code",
   "execution_count": 161,
   "id": "ae2b76d2",
   "metadata": {},
   "outputs": [
    {
     "name": "stdout",
     "output_type": "stream",
     "text": [
      "BOTH\n"
     ]
    },
    {
     "data": {
      "text/plain": [
       "['workforce', 'kids', 'program', 'legislature']"
      ]
     },
     "execution_count": 161,
     "metadata": {},
     "output_type": "execute_result"
    }
   ],
   "source": [
    "# print shared top terms \n",
    "print('BOTH')\n",
    "[i for i in dem_top_terms if i in rep_top_terms]\n",
    "\n",
    "# note: both also focus on taxes based on the individual print outs below (D - 'tax' and R - 'taxes')"
   ]
  },
  {
   "cell_type": "code",
   "execution_count": 162,
   "id": "0ee6fde2",
   "metadata": {},
   "outputs": [
    {
     "name": "stdout",
     "output_type": "stream",
     "text": [
      "DEMOCRATS\n"
     ]
    },
    {
     "data": {
      "text/plain": [
       "['housing',\n",
       " 'tax',\n",
       " 'water',\n",
       " 'funding',\n",
       " 'plan',\n",
       " 'nation',\n",
       " 'investments',\n",
       " 'mental',\n",
       " 'local',\n",
       " 'county',\n",
       " 'services',\n",
       " 'costs',\n",
       " 'crisis',\n",
       " 'hard',\n",
       " 'mental health',\n",
       " 'billion']"
      ]
     },
     "execution_count": 162,
     "metadata": {},
     "output_type": "execute_result"
    }
   ],
   "source": [
    "# print unique top terms for Democrats \n",
    "print('DEMOCRATS')\n",
    "[i for i in dem_top_terms if i not in rep_top_terms]\n",
    "\n",
    "# housing, mental health, and water are most directly related to policy priorities "
   ]
  },
  {
   "cell_type": "code",
   "execution_count": 163,
   "id": "47006629",
   "metadata": {},
   "outputs": [
    {
     "name": "stdout",
     "output_type": "stream",
     "text": [
      "REPUBLICANS\n"
     ]
    },
    {
     "data": {
      "text/plain": [
       "['schools',\n",
       " 'energy',\n",
       " 'teachers',\n",
       " 'system',\n",
       " 'investment',\n",
       " 'general',\n",
       " 'needs',\n",
       " 'percent',\n",
       " 'property',\n",
       " 'taxes',\n",
       " 'session',\n",
       " 'teacher',\n",
       " 'fund',\n",
       " 'community',\n",
       " 'may',\n",
       " 'made']"
      ]
     },
     "execution_count": 163,
     "metadata": {},
     "output_type": "execute_result"
    }
   ],
   "source": [
    "# print unique top terms for Republicans\n",
    "print('REPUBLICANS')\n",
    "[i for i in rep_top_terms if i not in dem_top_terms] \n",
    "\n",
    "# schools, teacher/s, energy, and property (particularly when considering the PCA results above) are most relevant\n",
    "# terms related to policy priorities "
   ]
  }
 ],
 "metadata": {
  "kernelspec": {
   "display_name": "Python 3 (ipykernel)",
   "language": "python",
   "name": "python3"
  },
  "language_info": {
   "codemirror_mode": {
    "name": "ipython",
    "version": 3
   },
   "file_extension": ".py",
   "mimetype": "text/x-python",
   "name": "python",
   "nbconvert_exporter": "python",
   "pygments_lexer": "ipython3",
   "version": "3.9.12"
  }
 },
 "nbformat": 4,
 "nbformat_minor": 5
}
