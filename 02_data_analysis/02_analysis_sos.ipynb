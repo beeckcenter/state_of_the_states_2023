{
 "cells": [
  {
   "cell_type": "markdown",
   "id": "2ae81da4",
   "metadata": {},
   "source": [
    "# Analysis of SoS Addresses"
   ]
  },
  {
   "cell_type": "code",
   "execution_count": 117,
   "id": "4d236265",
   "metadata": {},
   "outputs": [
    {
     "name": "stdout",
     "output_type": "stream",
     "text": [
      "Exception reporting mode: Minimal\n"
     ]
    }
   ],
   "source": [
    "import csv\n",
    "import numpy as np\n",
    "import pandas as pd\n",
    "import nltk\n",
    "import matplotlib.pyplot as plt\n",
    "from sklearn.feature_extraction.text import CountVectorizer, TfidfTransformer \n",
    "from sklearn.feature_extraction.text import TfidfVectorizer\n",
    "import random\n",
    "import re \n",
    "from sklearn.decomposition import PCA\n",
    "import nltk\n",
    "from nltk import word_tokenize          \n",
    "from nltk.stem import WordNetLemmatizer \n",
    "\n",
    "from IPython.core.interactiveshell import InteractiveShell \n",
    "InteractiveShell.ast_node_interactivity = \"all\"\n",
    "\n",
    "%xmode Minimal"
   ]
  },
  {
   "cell_type": "code",
   "execution_count": 27,
   "id": "c9c6a7e0",
   "metadata": {},
   "outputs": [],
   "source": [
    "# read in data \n",
    "sos = pd.read_csv('sos_df_23.csv')"
   ]
  },
  {
   "cell_type": "code",
   "execution_count": 28,
   "id": "58233cac",
   "metadata": {},
   "outputs": [
    {
     "name": "stdout",
     "output_type": "stream",
     "text": [
      "<class 'pandas.core.frame.DataFrame'>\n",
      "RangeIndex: 50 entries, 0 to 49\n",
      "Data columns (total 5 columns):\n",
      " #   Column    Non-Null Count  Dtype \n",
      "---  ------    --------------  ----- \n",
      " 0   state     50 non-null     object\n",
      " 1   gov_name  50 non-null     object\n",
      " 2   party     50 non-null     object\n",
      " 3   type      50 non-null     object\n",
      " 4   text      50 non-null     object\n",
      "dtypes: object(5)\n",
      "memory usage: 2.1+ KB\n"
     ]
    },
    {
     "data": {
      "text/html": [
       "<div>\n",
       "<style scoped>\n",
       "    .dataframe tbody tr th:only-of-type {\n",
       "        vertical-align: middle;\n",
       "    }\n",
       "\n",
       "    .dataframe tbody tr th {\n",
       "        vertical-align: top;\n",
       "    }\n",
       "\n",
       "    .dataframe thead th {\n",
       "        text-align: right;\n",
       "    }\n",
       "</style>\n",
       "<table border=\"1\" class=\"dataframe\">\n",
       "  <thead>\n",
       "    <tr style=\"text-align: right;\">\n",
       "      <th></th>\n",
       "      <th>state</th>\n",
       "      <th>gov_name</th>\n",
       "      <th>party</th>\n",
       "      <th>type</th>\n",
       "      <th>text</th>\n",
       "    </tr>\n",
       "  </thead>\n",
       "  <tbody>\n",
       "    <tr>\n",
       "      <th>0</th>\n",
       "      <td>alabama</td>\n",
       "      <td>kay ivey</td>\n",
       "      <td>republican</td>\n",
       "      <td>sos</td>\n",
       "      <td>Page 1 of 8     2023 STATE OF THE STATE ADDRES...</td>\n",
       "    </tr>\n",
       "    <tr>\n",
       "      <th>1</th>\n",
       "      <td>alaska</td>\n",
       "      <td>mike dunleavy</td>\n",
       "      <td>republican</td>\n",
       "      <td>sos</td>\n",
       "      <td>Governor Dunleavy’s 2023 State of the State Ad...</td>\n",
       "    </tr>\n",
       "    <tr>\n",
       "      <th>2</th>\n",
       "      <td>arizona</td>\n",
       "      <td>katie hobbs</td>\n",
       "      <td>democratic</td>\n",
       "      <td>sos</td>\n",
       "      <td>Good afternoon, Chief Justice Brutinel, Secret...</td>\n",
       "    </tr>\n",
       "    <tr>\n",
       "      <th>3</th>\n",
       "      <td>arkansas</td>\n",
       "      <td>sarah huckabee sanders</td>\n",
       "      <td>republican</td>\n",
       "      <td>inaug</td>\n",
       "      <td>LITTLE ROCK, Ark.— Today, Governor Sarah Hucka...</td>\n",
       "    </tr>\n",
       "    <tr>\n",
       "      <th>4</th>\n",
       "      <td>california</td>\n",
       "      <td>gavin newsom</td>\n",
       "      <td>democratic</td>\n",
       "      <td>inaug</td>\n",
       "      <td>Watch Governor Newsom’s swearing-in and inaugu...</td>\n",
       "    </tr>\n",
       "  </tbody>\n",
       "</table>\n",
       "</div>"
      ],
      "text/plain": [
       "        state                gov_name       party   type  \\\n",
       "0     alabama                kay ivey  republican    sos   \n",
       "1      alaska           mike dunleavy  republican    sos   \n",
       "2     arizona             katie hobbs  democratic    sos   \n",
       "3    arkansas  sarah huckabee sanders  republican  inaug   \n",
       "4  california            gavin newsom  democratic  inaug   \n",
       "\n",
       "                                                text  \n",
       "0  Page 1 of 8     2023 STATE OF THE STATE ADDRES...  \n",
       "1  Governor Dunleavy’s 2023 State of the State Ad...  \n",
       "2  Good afternoon, Chief Justice Brutinel, Secret...  \n",
       "3  LITTLE ROCK, Ark.— Today, Governor Sarah Hucka...  \n",
       "4  Watch Governor Newsom’s swearing-in and inaugu...  "
      ]
     },
     "execution_count": 28,
     "metadata": {},
     "output_type": "execute_result"
    }
   ],
   "source": [
    "# explore data\n",
    "sos.info()\n",
    "sos.head()"
   ]
  },
  {
   "cell_type": "markdown",
   "id": "d894f212",
   "metadata": {
    "heading_collapsed": true
   },
   "source": [
    "## Explore full sos"
   ]
  },
  {
   "cell_type": "code",
   "execution_count": 29,
   "id": "7db1de49",
   "metadata": {
    "hidden": true
   },
   "outputs": [],
   "source": [
    "# add word count columm\n",
    "sos['word_count'] = [len(i.split()) for i in sos.text]"
   ]
  },
  {
   "cell_type": "code",
   "execution_count": 30,
   "id": "185505f7",
   "metadata": {
    "hidden": true
   },
   "outputs": [
    {
     "data": {
      "text/html": [
       "<div>\n",
       "<style scoped>\n",
       "    .dataframe tbody tr th:only-of-type {\n",
       "        vertical-align: middle;\n",
       "    }\n",
       "\n",
       "    .dataframe tbody tr th {\n",
       "        vertical-align: top;\n",
       "    }\n",
       "\n",
       "    .dataframe thead th {\n",
       "        text-align: right;\n",
       "    }\n",
       "</style>\n",
       "<table border=\"1\" class=\"dataframe\">\n",
       "  <thead>\n",
       "    <tr style=\"text-align: right;\">\n",
       "      <th></th>\n",
       "      <th>state</th>\n",
       "      <th>gov_name</th>\n",
       "      <th>party</th>\n",
       "      <th>type</th>\n",
       "      <th>text</th>\n",
       "      <th>word_count</th>\n",
       "    </tr>\n",
       "  </thead>\n",
       "  <tbody>\n",
       "    <tr>\n",
       "      <th>0</th>\n",
       "      <td>alabama</td>\n",
       "      <td>kay ivey</td>\n",
       "      <td>republican</td>\n",
       "      <td>sos</td>\n",
       "      <td>Page 1 of 8     2023 STATE OF THE STATE ADDRES...</td>\n",
       "      <td>2980</td>\n",
       "    </tr>\n",
       "    <tr>\n",
       "      <th>1</th>\n",
       "      <td>alaska</td>\n",
       "      <td>mike dunleavy</td>\n",
       "      <td>republican</td>\n",
       "      <td>sos</td>\n",
       "      <td>Governor Dunleavy’s 2023 State of the State Ad...</td>\n",
       "      <td>6469</td>\n",
       "    </tr>\n",
       "    <tr>\n",
       "      <th>2</th>\n",
       "      <td>arizona</td>\n",
       "      <td>katie hobbs</td>\n",
       "      <td>democratic</td>\n",
       "      <td>sos</td>\n",
       "      <td>Good afternoon, Chief Justice Brutinel, Secret...</td>\n",
       "      <td>4882</td>\n",
       "    </tr>\n",
       "    <tr>\n",
       "      <th>3</th>\n",
       "      <td>arkansas</td>\n",
       "      <td>sarah huckabee sanders</td>\n",
       "      <td>republican</td>\n",
       "      <td>inaug</td>\n",
       "      <td>LITTLE ROCK, Ark.— Today, Governor Sarah Hucka...</td>\n",
       "      <td>2250</td>\n",
       "    </tr>\n",
       "    <tr>\n",
       "      <th>4</th>\n",
       "      <td>california</td>\n",
       "      <td>gavin newsom</td>\n",
       "      <td>democratic</td>\n",
       "      <td>inaug</td>\n",
       "      <td>Watch Governor Newsom’s swearing-in and inaugu...</td>\n",
       "      <td>2456</td>\n",
       "    </tr>\n",
       "    <tr>\n",
       "      <th>5</th>\n",
       "      <td>colorado</td>\n",
       "      <td>jared polis</td>\n",
       "      <td>democratic</td>\n",
       "      <td>sos</td>\n",
       "      <td>ForMedia-2023-StateOfState-GovernorPolis-AsPre...</td>\n",
       "      <td>7859</td>\n",
       "    </tr>\n",
       "    <tr>\n",
       "      <th>6</th>\n",
       "      <td>connecticut</td>\n",
       "      <td>ned lamont</td>\n",
       "      <td>democratic</td>\n",
       "      <td>sos</td>\n",
       "      <td>\\r\\n01/03/2023              2023 State of the ...</td>\n",
       "      <td>1878</td>\n",
       "    </tr>\n",
       "    <tr>\n",
       "      <th>7</th>\n",
       "      <td>delaware</td>\n",
       "      <td>john carney</td>\n",
       "      <td>democratic</td>\n",
       "      <td>sos</td>\n",
       "      <td>January 19, 2023 As prepared for delivery #DE...</td>\n",
       "      <td>4157</td>\n",
       "    </tr>\n",
       "    <tr>\n",
       "      <th>8</th>\n",
       "      <td>florida</td>\n",
       "      <td>ron desantis</td>\n",
       "      <td>republican</td>\n",
       "      <td>sos</td>\n",
       "      <td>From the Space Coast to the Suncoast, from St....</td>\n",
       "      <td>1658</td>\n",
       "    </tr>\n",
       "    <tr>\n",
       "      <th>9</th>\n",
       "      <td>georgia</td>\n",
       "      <td>brian kemp</td>\n",
       "      <td>republican</td>\n",
       "      <td>sos</td>\n",
       "      <td>Lt. Governor Jones, Speaker Burns, President P...</td>\n",
       "      <td>3315</td>\n",
       "    </tr>\n",
       "    <tr>\n",
       "      <th>10</th>\n",
       "      <td>hawaii</td>\n",
       "      <td>josh green</td>\n",
       "      <td>democratic</td>\n",
       "      <td>sos</td>\n",
       "      <td>1 of 17   1 of 17   “ACTION ROOTED IN VALUES”...</td>\n",
       "      <td>5374</td>\n",
       "    </tr>\n",
       "    <tr>\n",
       "      <th>11</th>\n",
       "      <td>idaho</td>\n",
       "      <td>brad little</td>\n",
       "      <td>republican</td>\n",
       "      <td>sos</td>\n",
       "      <td>Page 1 of 11    2 0 23  ST ATE OF  THE  ST ATE...</td>\n",
       "      <td>4148</td>\n",
       "    </tr>\n",
       "    <tr>\n",
       "      <th>12</th>\n",
       "      <td>illinois</td>\n",
       "      <td>jb pritzker</td>\n",
       "      <td>democratic</td>\n",
       "      <td>sos</td>\n",
       "      <td>Gov. Pritzker Proposes Transformative, Gener...</td>\n",
       "      <td>18781</td>\n",
       "    </tr>\n",
       "    <tr>\n",
       "      <th>13</th>\n",
       "      <td>indiana</td>\n",
       "      <td>eric holcomb</td>\n",
       "      <td>republican</td>\n",
       "      <td>sos</td>\n",
       "      <td>Governor Eric J. Holcomb2023 State of the Stat...</td>\n",
       "      <td>2919</td>\n",
       "    </tr>\n",
       "    <tr>\n",
       "      <th>14</th>\n",
       "      <td>iowa</td>\n",
       "      <td>kim reynolds</td>\n",
       "      <td>republican</td>\n",
       "      <td>sos</td>\n",
       "      <td>Tonight, Gov. Reynolds delivered her 2023 Cond...</td>\n",
       "      <td>4805</td>\n",
       "    </tr>\n",
       "    <tr>\n",
       "      <th>15</th>\n",
       "      <td>kansas</td>\n",
       "      <td>laura kelly</td>\n",
       "      <td>democratic</td>\n",
       "      <td>sos</td>\n",
       "      <td>Governor Kelly Delivers Her 2023 State of the ...</td>\n",
       "      <td>4494</td>\n",
       "    </tr>\n",
       "    <tr>\n",
       "      <th>16</th>\n",
       "      <td>kentucky</td>\n",
       "      <td>andy beshear</td>\n",
       "      <td>democratic</td>\n",
       "      <td>sos</td>\n",
       "      <td>Microsoft Word - 20230104_Gov-Beshear_State-of...</td>\n",
       "      <td>4585</td>\n",
       "    </tr>\n",
       "    <tr>\n",
       "      <th>17</th>\n",
       "      <td>louisiana</td>\n",
       "      <td>john bel edwards</td>\n",
       "      <td>democratic</td>\n",
       "      <td>sos</td>\n",
       "      <td>As prepared for delivery: Mr. Speaker, Mr. Pre...</td>\n",
       "      <td>3996</td>\n",
       "    </tr>\n",
       "    <tr>\n",
       "      <th>18</th>\n",
       "      <td>maine</td>\n",
       "      <td>janet mills</td>\n",
       "      <td>democratic</td>\n",
       "      <td>inaug</td>\n",
       "      <td>1  Governor Janet T. Mills Second Inaugural Ad...</td>\n",
       "      <td>3737</td>\n",
       "    </tr>\n",
       "    <tr>\n",
       "      <th>19</th>\n",
       "      <td>maryland</td>\n",
       "      <td>wes moore</td>\n",
       "      <td>democratic</td>\n",
       "      <td>sos</td>\n",
       "      <td>ANNAPOLIS, MD— Today, Governor Wes Moore deli...</td>\n",
       "      <td>4005</td>\n",
       "    </tr>\n",
       "    <tr>\n",
       "      <th>20</th>\n",
       "      <td>massachusetts</td>\n",
       "      <td>maura healey</td>\n",
       "      <td>democratic</td>\n",
       "      <td>inaug</td>\n",
       "      <td>Gov. Maura Healey, the first woman elected gov...</td>\n",
       "      <td>3286</td>\n",
       "    </tr>\n",
       "    <tr>\n",
       "      <th>21</th>\n",
       "      <td>michigan</td>\n",
       "      <td>gretchen whitmer</td>\n",
       "      <td>democratic</td>\n",
       "      <td>sos</td>\n",
       "      <td>FOR IMMEDIATE RELEASE  January 25, 2023   Cont...</td>\n",
       "      <td>4228</td>\n",
       "    </tr>\n",
       "    <tr>\n",
       "      <th>22</th>\n",
       "      <td>minnesota</td>\n",
       "      <td>tim walz</td>\n",
       "      <td>democratic</td>\n",
       "      <td>sos</td>\n",
       "      <td>Governor Walz State of the State Remarks as Pr...</td>\n",
       "      <td>2795</td>\n",
       "    </tr>\n",
       "    <tr>\n",
       "      <th>23</th>\n",
       "      <td>mississippi</td>\n",
       "      <td>tate reeves</td>\n",
       "      <td>republican</td>\n",
       "      <td>sos</td>\n",
       "      <td>Gov. Tate Reeves, a first-term Republican, del...</td>\n",
       "      <td>4734</td>\n",
       "    </tr>\n",
       "    <tr>\n",
       "      <th>24</th>\n",
       "      <td>missouri</td>\n",
       "      <td>mike parson</td>\n",
       "      <td>republican</td>\n",
       "      <td>sos</td>\n",
       "      <td>1  Missouri Governor — Michael L. Parson Offic...</td>\n",
       "      <td>4909</td>\n",
       "    </tr>\n",
       "    <tr>\n",
       "      <th>25</th>\n",
       "      <td>montana</td>\n",
       "      <td>greg gianforte</td>\n",
       "      <td>republican</td>\n",
       "      <td>sos</td>\n",
       "      <td>HELENA, Mont. – Governor Greg Gianforte tonigh...</td>\n",
       "      <td>6765</td>\n",
       "    </tr>\n",
       "    <tr>\n",
       "      <th>26</th>\n",
       "      <td>nebraska</td>\n",
       "      <td>jim pillen</td>\n",
       "      <td>republican</td>\n",
       "      <td>sos</td>\n",
       "      <td>Governor Jim Pillen                          ...</td>\n",
       "      <td>3158</td>\n",
       "    </tr>\n",
       "    <tr>\n",
       "      <th>27</th>\n",
       "      <td>nevada</td>\n",
       "      <td>joe lombardo</td>\n",
       "      <td>republican</td>\n",
       "      <td>sos</td>\n",
       "      <td>Governor Joe Lombardo 2023 State of the State ...</td>\n",
       "      <td>6258</td>\n",
       "    </tr>\n",
       "    <tr>\n",
       "      <th>28</th>\n",
       "      <td>new hampshire</td>\n",
       "      <td>chris sununu</td>\n",
       "      <td>republican</td>\n",
       "      <td>inaug</td>\n",
       "      <td>Concord, NH – Please find below Governor Chris...</td>\n",
       "      <td>3348</td>\n",
       "    </tr>\n",
       "    <tr>\n",
       "      <th>29</th>\n",
       "      <td>new jersey</td>\n",
       "      <td>phil murphy</td>\n",
       "      <td>democratic</td>\n",
       "      <td>sos</td>\n",
       "      <td>Governor Murphy Delivers 2023 State of the Sta...</td>\n",
       "      <td>5926</td>\n",
       "    </tr>\n",
       "    <tr>\n",
       "      <th>30</th>\n",
       "      <td>new mexico</td>\n",
       "      <td>michelle lujan grisham</td>\n",
       "      <td>democratic</td>\n",
       "      <td>sos</td>\n",
       "      <td>FROM THE OFFICE OF THE GOVERNOR Editor’s note:...</td>\n",
       "      <td>4422</td>\n",
       "    </tr>\n",
       "    <tr>\n",
       "      <th>31</th>\n",
       "      <td>new york</td>\n",
       "      <td>kathy hochul</td>\n",
       "      <td>democratic</td>\n",
       "      <td>sos</td>\n",
       "      <td>Governor Kathy Hochul today delivered her 2023...</td>\n",
       "      <td>4670</td>\n",
       "    </tr>\n",
       "    <tr>\n",
       "      <th>32</th>\n",
       "      <td>north carolina</td>\n",
       "      <td>roy cooper</td>\n",
       "      <td>democratic</td>\n",
       "      <td>sos</td>\n",
       "      <td>Governor Roy Cooper Follow 1   Mr. President P...</td>\n",
       "      <td>3287</td>\n",
       "    </tr>\n",
       "    <tr>\n",
       "      <th>33</th>\n",
       "      <td>north dakota</td>\n",
       "      <td>doug burgum</td>\n",
       "      <td>republican</td>\n",
       "      <td>sos</td>\n",
       "      <td>1     State of the State Address January 3, 20...</td>\n",
       "      <td>7590</td>\n",
       "    </tr>\n",
       "    <tr>\n",
       "      <th>34</th>\n",
       "      <td>ohio</td>\n",
       "      <td>mike dewine</td>\n",
       "      <td>republican</td>\n",
       "      <td>sos</td>\n",
       "      <td>(COLUMBUS, Ohio)—Ohio Governor Mike DeWine tod...</td>\n",
       "      <td>5670</td>\n",
       "    </tr>\n",
       "    <tr>\n",
       "      <th>35</th>\n",
       "      <td>oklahoma</td>\n",
       "      <td>kevin stitt</td>\n",
       "      <td>republican</td>\n",
       "      <td>sos</td>\n",
       "      <td>Governor Kevin Stitt delivered the first State...</td>\n",
       "      <td>3050</td>\n",
       "    </tr>\n",
       "    <tr>\n",
       "      <th>36</th>\n",
       "      <td>oregon</td>\n",
       "      <td>tina kotek</td>\n",
       "      <td>democratic</td>\n",
       "      <td>inaug</td>\n",
       "      <td>Inaugural Address (Spanish) January 9, 2023 Go...</td>\n",
       "      <td>4389</td>\n",
       "    </tr>\n",
       "    <tr>\n",
       "      <th>37</th>\n",
       "      <td>pennsylvania</td>\n",
       "      <td>josh shapiro</td>\n",
       "      <td>democratic</td>\n",
       "      <td>budget</td>\n",
       "      <td>February 06, 2024 Governor Shapiro’s budget pr...</td>\n",
       "      <td>2867</td>\n",
       "    </tr>\n",
       "    <tr>\n",
       "      <th>38</th>\n",
       "      <td>rhode island</td>\n",
       "      <td>dan mckee</td>\n",
       "      <td>democratic</td>\n",
       "      <td>sos</td>\n",
       "      <td>Published on Tuesday, January 17, 2023 January...</td>\n",
       "      <td>3359</td>\n",
       "    </tr>\n",
       "    <tr>\n",
       "      <th>39</th>\n",
       "      <td>south carolina</td>\n",
       "      <td>henry mcmaster</td>\n",
       "      <td>republican</td>\n",
       "      <td>sos</td>\n",
       "      <td>Mr. Speaker, Mr. President, ladies and gentlem...</td>\n",
       "      <td>6674</td>\n",
       "    </tr>\n",
       "    <tr>\n",
       "      <th>40</th>\n",
       "      <td>south dakota</td>\n",
       "      <td>kristi noem</td>\n",
       "      <td>republican</td>\n",
       "      <td>sos</td>\n",
       "      <td>2023 State of the State Address   By: Governor...</td>\n",
       "      <td>4418</td>\n",
       "    </tr>\n",
       "    <tr>\n",
       "      <th>41</th>\n",
       "      <td>tennessee</td>\n",
       "      <td>bill lee</td>\n",
       "      <td>republican</td>\n",
       "      <td>sos</td>\n",
       "      <td>Thank you very much. Lieutenant Governor McNal...</td>\n",
       "      <td>4991</td>\n",
       "    </tr>\n",
       "    <tr>\n",
       "      <th>42</th>\n",
       "      <td>texas</td>\n",
       "      <td>greg abbott</td>\n",
       "      <td>republican</td>\n",
       "      <td>inaug</td>\n",
       "      <td>January 17, 2023 | Austin, Texas        |     ...</td>\n",
       "      <td>1858</td>\n",
       "    </tr>\n",
       "    <tr>\n",
       "      <th>43</th>\n",
       "      <td>utah</td>\n",
       "      <td>spencer cox</td>\n",
       "      <td>republican</td>\n",
       "      <td>sos</td>\n",
       "      <td>2023 State of the State Address U...</td>\n",
       "      <td>4056</td>\n",
       "    </tr>\n",
       "    <tr>\n",
       "      <th>44</th>\n",
       "      <td>vermont</td>\n",
       "      <td>phil scott</td>\n",
       "      <td>republican</td>\n",
       "      <td>inaug</td>\n",
       "      <td>Montpelier, Vt. - Governor Phil Scott today wa...</td>\n",
       "      <td>4785</td>\n",
       "    </tr>\n",
       "    <tr>\n",
       "      <th>45</th>\n",
       "      <td>virginia</td>\n",
       "      <td>glenn youngkin</td>\n",
       "      <td>republican</td>\n",
       "      <td>sos</td>\n",
       "      <td>RICHMOND, VA - Governor Youngkin today deliver...</td>\n",
       "      <td>5987</td>\n",
       "    </tr>\n",
       "    <tr>\n",
       "      <th>46</th>\n",
       "      <td>washington</td>\n",
       "      <td>jay inslee</td>\n",
       "      <td>democratic</td>\n",
       "      <td>sos</td>\n",
       "      <td>Sign up Sign in Sign up Sign in Governor Jay I...</td>\n",
       "      <td>3430</td>\n",
       "    </tr>\n",
       "    <tr>\n",
       "      <th>47</th>\n",
       "      <td>west virginia</td>\n",
       "      <td>jim justice</td>\n",
       "      <td>republican</td>\n",
       "      <td>sos</td>\n",
       "      <td>VIEW PHOTO ALBUM     ...</td>\n",
       "      <td>36640</td>\n",
       "    </tr>\n",
       "    <tr>\n",
       "      <th>48</th>\n",
       "      <td>wisconsin</td>\n",
       "      <td>tony evers</td>\n",
       "      <td>democratic</td>\n",
       "      <td>inaug</td>\n",
       "      <td>Good evening, Wisconsin! Honorable Supreme Cou...</td>\n",
       "      <td>4275</td>\n",
       "    </tr>\n",
       "    <tr>\n",
       "      <th>49</th>\n",
       "      <td>wyoming</td>\n",
       "      <td>mark gordon</td>\n",
       "      <td>republican</td>\n",
       "      <td>sos</td>\n",
       "      <td>CHEYENNE, Wyo. –  Governor Mark Gordon’s State...</td>\n",
       "      <td>531</td>\n",
       "    </tr>\n",
       "  </tbody>\n",
       "</table>\n",
       "</div>"
      ],
      "text/plain": [
       "             state                gov_name       party    type  \\\n",
       "0          alabama                kay ivey  republican     sos   \n",
       "1           alaska           mike dunleavy  republican     sos   \n",
       "2          arizona             katie hobbs  democratic     sos   \n",
       "3         arkansas  sarah huckabee sanders  republican   inaug   \n",
       "4       california            gavin newsom  democratic   inaug   \n",
       "5         colorado             jared polis  democratic     sos   \n",
       "6      connecticut              ned lamont  democratic     sos   \n",
       "7         delaware             john carney  democratic     sos   \n",
       "8          florida            ron desantis  republican     sos   \n",
       "9          georgia              brian kemp  republican     sos   \n",
       "10          hawaii              josh green  democratic     sos   \n",
       "11           idaho             brad little  republican     sos   \n",
       "12        illinois             jb pritzker  democratic     sos   \n",
       "13         indiana            eric holcomb  republican     sos   \n",
       "14            iowa            kim reynolds  republican     sos   \n",
       "15          kansas             laura kelly  democratic     sos   \n",
       "16        kentucky            andy beshear  democratic     sos   \n",
       "17       louisiana        john bel edwards  democratic     sos   \n",
       "18           maine             janet mills  democratic   inaug   \n",
       "19        maryland               wes moore  democratic     sos   \n",
       "20   massachusetts            maura healey  democratic   inaug   \n",
       "21        michigan        gretchen whitmer  democratic     sos   \n",
       "22       minnesota                tim walz  democratic     sos   \n",
       "23     mississippi             tate reeves  republican     sos   \n",
       "24        missouri             mike parson  republican     sos   \n",
       "25         montana          greg gianforte  republican     sos   \n",
       "26        nebraska              jim pillen  republican     sos   \n",
       "27          nevada            joe lombardo  republican     sos   \n",
       "28   new hampshire            chris sununu  republican   inaug   \n",
       "29      new jersey             phil murphy  democratic     sos   \n",
       "30      new mexico  michelle lujan grisham  democratic     sos   \n",
       "31        new york            kathy hochul  democratic     sos   \n",
       "32  north carolina              roy cooper  democratic     sos   \n",
       "33    north dakota             doug burgum  republican     sos   \n",
       "34            ohio             mike dewine  republican     sos   \n",
       "35        oklahoma             kevin stitt  republican     sos   \n",
       "36          oregon              tina kotek  democratic   inaug   \n",
       "37    pennsylvania            josh shapiro  democratic  budget   \n",
       "38    rhode island               dan mckee  democratic     sos   \n",
       "39  south carolina          henry mcmaster  republican     sos   \n",
       "40    south dakota             kristi noem  republican     sos   \n",
       "41       tennessee                bill lee  republican     sos   \n",
       "42           texas             greg abbott  republican   inaug   \n",
       "43            utah             spencer cox  republican     sos   \n",
       "44         vermont              phil scott  republican   inaug   \n",
       "45        virginia          glenn youngkin  republican     sos   \n",
       "46      washington              jay inslee  democratic     sos   \n",
       "47   west virginia             jim justice  republican     sos   \n",
       "48       wisconsin              tony evers  democratic   inaug   \n",
       "49         wyoming             mark gordon  republican     sos   \n",
       "\n",
       "                                                 text  word_count  \n",
       "0   Page 1 of 8     2023 STATE OF THE STATE ADDRES...        2980  \n",
       "1   Governor Dunleavy’s 2023 State of the State Ad...        6469  \n",
       "2   Good afternoon, Chief Justice Brutinel, Secret...        4882  \n",
       "3   LITTLE ROCK, Ark.— Today, Governor Sarah Hucka...        2250  \n",
       "4   Watch Governor Newsom’s swearing-in and inaugu...        2456  \n",
       "5   ForMedia-2023-StateOfState-GovernorPolis-AsPre...        7859  \n",
       "6   \\r\\n01/03/2023              2023 State of the ...        1878  \n",
       "7    January 19, 2023 As prepared for delivery #DE...        4157  \n",
       "8   From the Space Coast to the Suncoast, from St....        1658  \n",
       "9   Lt. Governor Jones, Speaker Burns, President P...        3315  \n",
       "10   1 of 17   1 of 17   “ACTION ROOTED IN VALUES”...        5374  \n",
       "11  Page 1 of 11    2 0 23  ST ATE OF  THE  ST ATE...        4148  \n",
       "12    Gov. Pritzker Proposes Transformative, Gener...       18781  \n",
       "13  Governor Eric J. Holcomb2023 State of the Stat...        2919  \n",
       "14  Tonight, Gov. Reynolds delivered her 2023 Cond...        4805  \n",
       "15  Governor Kelly Delivers Her 2023 State of the ...        4494  \n",
       "16  Microsoft Word - 20230104_Gov-Beshear_State-of...        4585  \n",
       "17  As prepared for delivery: Mr. Speaker, Mr. Pre...        3996  \n",
       "18  1  Governor Janet T. Mills Second Inaugural Ad...        3737  \n",
       "19   ANNAPOLIS, MD— Today, Governor Wes Moore deli...        4005  \n",
       "20  Gov. Maura Healey, the first woman elected gov...        3286  \n",
       "21  FOR IMMEDIATE RELEASE  January 25, 2023   Cont...        4228  \n",
       "22  Governor Walz State of the State Remarks as Pr...        2795  \n",
       "23  Gov. Tate Reeves, a first-term Republican, del...        4734  \n",
       "24  1  Missouri Governor — Michael L. Parson Offic...        4909  \n",
       "25  HELENA, Mont. – Governor Greg Gianforte tonigh...        6765  \n",
       "26   Governor Jim Pillen                          ...        3158  \n",
       "27  Governor Joe Lombardo 2023 State of the State ...        6258  \n",
       "28  Concord, NH – Please find below Governor Chris...        3348  \n",
       "29  Governor Murphy Delivers 2023 State of the Sta...        5926  \n",
       "30  FROM THE OFFICE OF THE GOVERNOR Editor’s note:...        4422  \n",
       "31  Governor Kathy Hochul today delivered her 2023...        4670  \n",
       "32  Governor Roy Cooper Follow 1   Mr. President P...        3287  \n",
       "33  1     State of the State Address January 3, 20...        7590  \n",
       "34  (COLUMBUS, Ohio)—Ohio Governor Mike DeWine tod...        5670  \n",
       "35  Governor Kevin Stitt delivered the first State...        3050  \n",
       "36  Inaugural Address (Spanish) January 9, 2023 Go...        4389  \n",
       "37  February 06, 2024 Governor Shapiro’s budget pr...        2867  \n",
       "38  Published on Tuesday, January 17, 2023 January...        3359  \n",
       "39  Mr. Speaker, Mr. President, ladies and gentlem...        6674  \n",
       "40  2023 State of the State Address   By: Governor...        4418  \n",
       "41  Thank you very much. Lieutenant Governor McNal...        4991  \n",
       "42  January 17, 2023 | Austin, Texas        |     ...        1858  \n",
       "43               2023 State of the State Address U...        4056  \n",
       "44  Montpelier, Vt. - Governor Phil Scott today wa...        4785  \n",
       "45  RICHMOND, VA - Governor Youngkin today deliver...        5987  \n",
       "46  Sign up Sign in Sign up Sign in Governor Jay I...        3430  \n",
       "47                           VIEW PHOTO ALBUM     ...       36640  \n",
       "48  Good evening, Wisconsin! Honorable Supreme Cou...        4275  \n",
       "49  CHEYENNE, Wyo. –  Governor Mark Gordon’s State...         531  "
      ]
     },
     "execution_count": 30,
     "metadata": {},
     "output_type": "execute_result"
    }
   ],
   "source": [
    "# check that this worked\n",
    "sos "
   ]
  },
  {
   "cell_type": "markdown",
   "id": "8d98eae6",
   "metadata": {
    "heading_collapsed": true,
    "hidden": true
   },
   "source": [
    "#### Examine distribution of word count and outiers"
   ]
  },
  {
   "cell_type": "code",
   "execution_count": 31,
   "id": "0a124331",
   "metadata": {
    "hidden": true
   },
   "outputs": [
    {
     "data": {
      "text/plain": [
       "count       50.000000\n",
       "mean      5142.080000\n",
       "std       5214.130263\n",
       "min        531.000000\n",
       "25%       3286.250000\n",
       "50%       4251.500000\n",
       "75%       4970.500000\n",
       "max      36640.000000\n",
       "Name: word_count, dtype: float64"
      ]
     },
     "execution_count": 31,
     "metadata": {},
     "output_type": "execute_result"
    }
   ],
   "source": [
    "sos.word_count.describe()"
   ]
  },
  {
   "cell_type": "code",
   "execution_count": 32,
   "id": "3bd1dda7",
   "metadata": {
    "hidden": true
   },
   "outputs": [
    {
     "data": {
      "text/plain": [
       "(array([ 1.,  3.,  2., 11.,  5., 13.,  4.,  4.,  3.,  1.,  1.,  0.,  0.,\n",
       "         0.,  0.,  0.,  0.,  0.,  0.,  0.,  0.,  0.,  0.,  0.,  0.,  1.,\n",
       "         0.,  0.,  0.,  0.,  0.,  0.,  0.,  0.,  0.,  0.,  0.,  0.,  0.,\n",
       "         0.,  0.,  0.,  0.,  0.,  0.,  0.,  0.,  0.,  0.,  1.]),\n",
       " array([  531.  ,  1253.18,  1975.36,  2697.54,  3419.72,  4141.9 ,\n",
       "         4864.08,  5586.26,  6308.44,  7030.62,  7752.8 ,  8474.98,\n",
       "         9197.16,  9919.34, 10641.52, 11363.7 , 12085.88, 12808.06,\n",
       "        13530.24, 14252.42, 14974.6 , 15696.78, 16418.96, 17141.14,\n",
       "        17863.32, 18585.5 , 19307.68, 20029.86, 20752.04, 21474.22,\n",
       "        22196.4 , 22918.58, 23640.76, 24362.94, 25085.12, 25807.3 ,\n",
       "        26529.48, 27251.66, 27973.84, 28696.02, 29418.2 , 30140.38,\n",
       "        30862.56, 31584.74, 32306.92, 33029.1 , 33751.28, 34473.46,\n",
       "        35195.64, 35917.82, 36640.  ]),\n",
       " <BarContainer object of 50 artists>)"
      ]
     },
     "execution_count": 32,
     "metadata": {},
     "output_type": "execute_result"
    },
    {
     "data": {
      "text/plain": [
       "Text(6000, 4, 'Mean length: 5142 words')"
      ]
     },
     "execution_count": 32,
     "metadata": {},
     "output_type": "execute_result"
    },
    {
     "data": {
      "text/plain": [
       "<matplotlib.lines.Line2D at 0x7fc480d9eee0>"
      ]
     },
     "execution_count": 32,
     "metadata": {},
     "output_type": "execute_result"
    },
    {
     "data": {
      "text/plain": [
       "Text(6000, 7, 'Median length: 4251 words')"
      ]
     },
     "execution_count": 32,
     "metadata": {},
     "output_type": "execute_result"
    },
    {
     "data": {
      "text/plain": [
       "<matplotlib.lines.Line2D at 0x7fc470ccb880>"
      ]
     },
     "execution_count": 32,
     "metadata": {},
     "output_type": "execute_result"
    },
    {
     "data": {
      "text/plain": [
       "Text(0.5, 1.0, 'From 50 State of the State Addresses for 2023')"
      ]
     },
     "execution_count": 32,
     "metadata": {},
     "output_type": "execute_result"
    },
    {
     "data": {
      "text/plain": [
       "Text(0.5, 0.98, 'Distribution of Document Length - SOS')"
      ]
     },
     "execution_count": 32,
     "metadata": {},
     "output_type": "execute_result"
    },
    {
     "data": {
      "text/plain": [
       "Text(0.5, 0, 'Document Word Count')"
      ]
     },
     "execution_count": 32,
     "metadata": {},
     "output_type": "execute_result"
    },
    {
     "data": {
      "text/plain": [
       "Text(0, 0.5, 'Number of Documents')"
      ]
     },
     "execution_count": 32,
     "metadata": {},
     "output_type": "execute_result"
    },
    {
     "data": {
      "image/png": "[encoded data removed]",
      "text/plain": [
       "<Figure size 648x360 with 1 Axes>"
      ]
     },
     "metadata": {
      "needs_background": "light"
     },
     "output_type": "display_data"
    }
   ],
   "source": [
    "fig, ax = plt.subplots(figsize=(9,5))\n",
    "ax.hist(sos.word_count, bins = 50, color = 'darkred')\n",
    "ax.text(6000, 4, 'Mean length: 5142 words')\n",
    "plt.axvline(x = 5142, color = 'dimgrey',ls = 'dashed')\n",
    "ax.text(6000, 7, 'Median length: 4251 words')\n",
    "plt.axvline(x = 4251, color = 'dimgrey',ls = 'dashed')\n",
    "plt.title('From 50 State of the State Addresses for 2023', size = 10)\n",
    "plt.suptitle('Distribution of Document Length - SOS', size = 20)\n",
    "plt.xlabel('Document Word Count')\n",
    "plt.ylabel('Number of Documents')\n",
    "# fig.savefig('pompeo2020_hist.png')"
   ]
  },
  {
   "cell_type": "code",
   "execution_count": 33,
   "id": "3dfc4d0c",
   "metadata": {
    "hidden": true
   },
   "outputs": [
    {
     "data": {
      "text/html": [
       "<div>\n",
       "<style scoped>\n",
       "    .dataframe tbody tr th:only-of-type {\n",
       "        vertical-align: middle;\n",
       "    }\n",
       "\n",
       "    .dataframe tbody tr th {\n",
       "        vertical-align: top;\n",
       "    }\n",
       "\n",
       "    .dataframe thead th {\n",
       "        text-align: right;\n",
       "    }\n",
       "</style>\n",
       "<table border=\"1\" class=\"dataframe\">\n",
       "  <thead>\n",
       "    <tr style=\"text-align: right;\">\n",
       "      <th></th>\n",
       "      <th>state</th>\n",
       "      <th>gov_name</th>\n",
       "      <th>party</th>\n",
       "      <th>type</th>\n",
       "      <th>text</th>\n",
       "      <th>word_count</th>\n",
       "    </tr>\n",
       "  </thead>\n",
       "  <tbody>\n",
       "    <tr>\n",
       "      <th>0</th>\n",
       "      <td>illinois</td>\n",
       "      <td>jb pritzker</td>\n",
       "      <td>democratic</td>\n",
       "      <td>sos</td>\n",
       "      <td>Gov. Pritzker Proposes Transformative, Gener...</td>\n",
       "      <td>18781</td>\n",
       "    </tr>\n",
       "    <tr>\n",
       "      <th>1</th>\n",
       "      <td>west virginia</td>\n",
       "      <td>jim justice</td>\n",
       "      <td>republican</td>\n",
       "      <td>sos</td>\n",
       "      <td>VIEW PHOTO ALBUM     ...</td>\n",
       "      <td>36640</td>\n",
       "    </tr>\n",
       "  </tbody>\n",
       "</table>\n",
       "</div>"
      ],
      "text/plain": [
       "           state     gov_name       party type  \\\n",
       "0       illinois  jb pritzker  democratic  sos   \n",
       "1  west virginia  jim justice  republican  sos   \n",
       "\n",
       "                                                text  word_count  \n",
       "0    Gov. Pritzker Proposes Transformative, Gener...       18781  \n",
       "1                           VIEW PHOTO ALBUM     ...       36640  "
      ]
     },
     "execution_count": 33,
     "metadata": {},
     "output_type": "execute_result"
    }
   ],
   "source": [
    "# check the outliers\n",
    "outliers = sos[sos.word_count > 15000].reset_index(drop = True)\n",
    "outliers"
   ]
  },
  {
   "cell_type": "code",
   "execution_count": 34,
   "id": "a72f3606",
   "metadata": {
    "hidden": true
   },
   "outputs": [],
   "source": [
    "# duplicates \n",
    "# looks like text is repeated so let's clean\n",
    "# outliers.text[0]"
   ]
  },
  {
   "cell_type": "code",
   "execution_count": 35,
   "id": "9c383bf4",
   "metadata": {
    "hidden": true
   },
   "outputs": [],
   "source": [
    "# test cleaning method\n",
    "pattern = r'God bless the great state of Illinois'\n",
    "input_string = outliers.text[0]\n",
    "match = re.search(pattern, input_string)\n",
    "clean_string = input_string[:match.end()]\n",
    "\n",
    "# clean_string"
   ]
  },
  {
   "cell_type": "code",
   "execution_count": 36,
   "id": "811ba271",
   "metadata": {
    "hidden": true
   },
   "outputs": [],
   "source": [
    "# same issue \n",
    "# outliers.text[1]"
   ]
  },
  {
   "cell_type": "code",
   "execution_count": 37,
   "id": "a4559c7b",
   "metadata": {
    "hidden": true
   },
   "outputs": [],
   "source": [
    "# test cleaning method for second example\n",
    "pattern2 = r'Thank you so much for having me. And God bless all of you.'\n",
    "\n",
    "input_string2 = outliers.text[1]\n",
    "\n",
    "match2 = re.search(pattern2, input_string2)\n",
    "\n",
    "clean_string2 = input_string2[:match2.end()]\n",
    "\n",
    "# clean_string2 "
   ]
  },
  {
   "cell_type": "code",
   "execution_count": 38,
   "id": "8e3c4231",
   "metadata": {
    "hidden": true
   },
   "outputs": [],
   "source": [
    "# do in main df \n",
    "def replace_text(state, pattern):\n",
    "    input_string = sos.loc[sos.state == state, 'text'].values[0]\n",
    "    match = re.search(pattern, input_string)\n",
    "    clean_string = input_string[:match.end()]\n",
    "    sos.loc[sos.state == state, 'text'] = clean_string\n",
    "    return f'successfully added cleaned text for {state}'"
   ]
  },
  {
   "cell_type": "code",
   "execution_count": 39,
   "id": "1bbd5fe2",
   "metadata": {
    "hidden": true
   },
   "outputs": [
    {
     "data": {
      "text/plain": [
       "'successfully added cleaned text for illinois'"
      ]
     },
     "execution_count": 39,
     "metadata": {},
     "output_type": "execute_result"
    }
   ],
   "source": [
    "replace_text('illinois', r'God bless the great state of Illinois')"
   ]
  },
  {
   "cell_type": "code",
   "execution_count": 40,
   "id": "f54529cf",
   "metadata": {
    "hidden": true
   },
   "outputs": [
    {
     "data": {
      "text/plain": [
       "'successfully added cleaned text for west virginia'"
      ]
     },
     "execution_count": 40,
     "metadata": {},
     "output_type": "execute_result"
    }
   ],
   "source": [
    "replace_text('west virginia', r'Thank you so much for having me. And God bless all of you.')"
   ]
  },
  {
   "cell_type": "code",
   "execution_count": 41,
   "id": "18556d94",
   "metadata": {
    "hidden": true
   },
   "outputs": [],
   "source": [
    "# redo word count \n",
    "sos['new_word_count'] = [len(i.split()) for i in sos.text]"
   ]
  },
  {
   "cell_type": "code",
   "execution_count": 42,
   "id": "9acfa74f",
   "metadata": {
    "hidden": true
   },
   "outputs": [
    {
     "data": {
      "text/plain": [
       "count       50.000000\n",
       "mean      5142.080000\n",
       "std       5214.130263\n",
       "min        531.000000\n",
       "25%       3286.250000\n",
       "50%       4251.500000\n",
       "75%       4970.500000\n",
       "max      36640.000000\n",
       "Name: word_count, dtype: float64"
      ]
     },
     "execution_count": 42,
     "metadata": {},
     "output_type": "execute_result"
    },
    {
     "data": {
      "text/plain": [
       "count      50.000000\n",
       "mean     4342.600000\n",
       "std      1687.350005\n",
       "min       531.000000\n",
       "25%      3286.250000\n",
       "50%      4251.500000\n",
       "75%      4970.500000\n",
       "max      9157.000000\n",
       "Name: new_word_count, dtype: float64"
      ]
     },
     "execution_count": 42,
     "metadata": {},
     "output_type": "execute_result"
    }
   ],
   "source": [
    "sos.word_count.describe()\n",
    "sos.new_word_count.describe() "
   ]
  },
  {
   "cell_type": "code",
   "execution_count": 43,
   "id": "47907bba",
   "metadata": {
    "hidden": true
   },
   "outputs": [
    {
     "data": {
      "text/plain": [
       "(array([ 1.,  1.,  3.,  2., 10.,  2., 11.,  8.,  2.,  3.,  4.,  0.,  2.,\n",
       "         0.,  1.]),\n",
       " array([ 531.        , 1106.06666667, 1681.13333333, 2256.2       ,\n",
       "        2831.26666667, 3406.33333333, 3981.4       , 4556.46666667,\n",
       "        5131.53333333, 5706.6       , 6281.66666667, 6856.73333333,\n",
       "        7431.8       , 8006.86666667, 8581.93333333, 9157.        ]),\n",
       " <BarContainer object of 15 artists>)"
      ]
     },
     "execution_count": 43,
     "metadata": {},
     "output_type": "execute_result"
    },
    {
     "data": {
      "text/plain": [
       "Text(6000, 6, 'Mean length: 4342 words')"
      ]
     },
     "execution_count": 43,
     "metadata": {},
     "output_type": "execute_result"
    },
    {
     "data": {
      "text/plain": [
       "<matplotlib.lines.Line2D at 0x7fc4608c2400>"
      ]
     },
     "execution_count": 43,
     "metadata": {},
     "output_type": "execute_result"
    },
    {
     "data": {
      "text/plain": [
       "Text(0.5, 1.0, 'From 50 State of the State Addresses for 2023')"
      ]
     },
     "execution_count": 43,
     "metadata": {},
     "output_type": "execute_result"
    },
    {
     "data": {
      "text/plain": [
       "Text(0.5, 0.98, 'Distribution of Document Length - SOS')"
      ]
     },
     "execution_count": 43,
     "metadata": {},
     "output_type": "execute_result"
    },
    {
     "data": {
      "text/plain": [
       "Text(0.5, 0, 'Document Word Count')"
      ]
     },
     "execution_count": 43,
     "metadata": {},
     "output_type": "execute_result"
    },
    {
     "data": {
      "text/plain": [
       "Text(0, 0.5, 'Number of Documents')"
      ]
     },
     "execution_count": 43,
     "metadata": {},
     "output_type": "execute_result"
    },
    {
     "data": {
      "image/png": "[encoded data removed]",
      "text/plain": [
       "<Figure size 648x360 with 1 Axes>"
      ]
     },
     "metadata": {
      "needs_background": "light"
     },
     "output_type": "display_data"
    }
   ],
   "source": [
    "fig, ax = plt.subplots(figsize=(9,5))\n",
    "ax.hist(sos.new_word_count, bins = 15, color = 'lightblue')\n",
    "ax.text(6000, 6, 'Mean length: 4342 words')\n",
    "plt.axvline(x = 4342, color = 'dimgrey',ls = 'dashed')\n",
    "plt.title('From 50 State of the State Addresses for 2023', size = 10)\n",
    "plt.suptitle('Distribution of Document Length - SOS', size = 20)\n",
    "plt.xlabel('Document Word Count')\n",
    "plt.ylabel('Number of Documents') \n",
    "# fig.savefig('pompeo2020_hist.png')"
   ]
  },
  {
   "cell_type": "markdown",
   "id": "71bfb20e",
   "metadata": {
    "heading_collapsed": true,
    "hidden": true
   },
   "source": [
    "#### Min doc frequency "
   ]
  },
  {
   "cell_type": "code",
   "execution_count": 82,
   "id": "d8f27577",
   "metadata": {
    "hidden": true
   },
   "outputs": [],
   "source": [
    "# explore min_doc frequency options of 1-30\n",
    "term_count = []\n",
    "\n",
    "for i in range(1, 31):\n",
    "    vectorizer = CountVectorizer(stop_words='english', min_df=i)\n",
    "    dtm = vectorizer.fit_transform(sos.text)\n",
    "    length = dtm.shape[1]\n",
    "    term_count.append(length)\n",
    "\n",
    "min_df = pd.DataFrame(data = {'Min Doc': range(1,31),\n",
    "                              'Term Count': term_count})"
   ]
  },
  {
   "cell_type": "code",
   "execution_count": 83,
   "id": "a5aeb823",
   "metadata": {
    "hidden": true
   },
   "outputs": [
    {
     "data": {
      "text/plain": [
       "<matplotlib.collections.PathCollection at 0x7fc460961be0>"
      ]
     },
     "execution_count": 83,
     "metadata": {},
     "output_type": "execute_result"
    },
    {
     "data": {
      "text/plain": [
       "Text(0.5, 1.0, 'From 50 State of the State Addresses in 2023')"
      ]
     },
     "execution_count": 83,
     "metadata": {},
     "output_type": "execute_result"
    },
    {
     "data": {
      "text/plain": [
       "Text(0.5, 0.98, 'Minimum Document Frequency and Resulting Term Count')"
      ]
     },
     "execution_count": 83,
     "metadata": {},
     "output_type": "execute_result"
    },
    {
     "data": {
      "text/plain": [
       "Text(0, 0.5, 'Term Count')"
      ]
     },
     "execution_count": 83,
     "metadata": {},
     "output_type": "execute_result"
    },
    {
     "data": {
      "text/plain": [
       "Text(0.5, 0, 'Minimum Document Frequency')"
      ]
     },
     "execution_count": 83,
     "metadata": {},
     "output_type": "execute_result"
    },
    {
     "data": {
      "text/plain": [
       "([<matplotlib.axis.XTick at 0x7fc481288e50>,\n",
       "  <matplotlib.axis.XTick at 0x7fc4812883a0>,\n",
       "  <matplotlib.axis.XTick at 0x7fc460961190>,\n",
       "  <matplotlib.axis.XTick at 0x7fc460b3ad00>,\n",
       "  <matplotlib.axis.XTick at 0x7fc460d68970>,\n",
       "  <matplotlib.axis.XTick at 0x7fc48129ba00>,\n",
       "  <matplotlib.axis.XTick at 0x7fc460d7c4c0>,\n",
       "  <matplotlib.axis.XTick at 0x7fc460d72f70>,\n",
       "  <matplotlib.axis.XTick at 0x7fc480cec340>,\n",
       "  <matplotlib.axis.XTick at 0x7fc46029d790>,\n",
       "  <matplotlib.axis.XTick at 0x7fc478bdea00>,\n",
       "  <matplotlib.axis.XTick at 0x7fc460d7d400>,\n",
       "  <matplotlib.axis.XTick at 0x7fc441354a60>,\n",
       "  <matplotlib.axis.XTick at 0x7fc470e33c40>,\n",
       "  <matplotlib.axis.XTick at 0x7fc470e34370>,\n",
       "  <matplotlib.axis.XTick at 0x7fc470d72640>,\n",
       "  <matplotlib.axis.XTick at 0x7fc470e1ed00>,\n",
       "  <matplotlib.axis.XTick at 0x7fc47899e7f0>,\n",
       "  <matplotlib.axis.XTick at 0x7fc480fc6280>,\n",
       "  <matplotlib.axis.XTick at 0x7fc480da3190>,\n",
       "  <matplotlib.axis.XTick at 0x7fc478c15250>,\n",
       "  <matplotlib.axis.XTick at 0x7fc4788582b0>,\n",
       "  <matplotlib.axis.XTick at 0x7fc491639fd0>,\n",
       "  <matplotlib.axis.XTick at 0x7fc470e95460>,\n",
       "  <matplotlib.axis.XTick at 0x7fc470e958b0>,\n",
       "  <matplotlib.axis.XTick at 0x7fc4811509a0>,\n",
       "  <matplotlib.axis.XTick at 0x7fc4602f48b0>,\n",
       "  <matplotlib.axis.XTick at 0x7fc4717ffdc0>,\n",
       "  <matplotlib.axis.XTick at 0x7fc478943370>,\n",
       "  <matplotlib.axis.XTick at 0x7fc4602b39d0>],\n",
       " [Text(1, 0, '1'),\n",
       "  Text(2, 0, '2'),\n",
       "  Text(3, 0, '3'),\n",
       "  Text(4, 0, '4'),\n",
       "  Text(5, 0, '5'),\n",
       "  Text(6, 0, '6'),\n",
       "  Text(7, 0, '7'),\n",
       "  Text(8, 0, '8'),\n",
       "  Text(9, 0, '9'),\n",
       "  Text(10, 0, '10'),\n",
       "  Text(11, 0, '11'),\n",
       "  Text(12, 0, '12'),\n",
       "  Text(13, 0, '13'),\n",
       "  Text(14, 0, '14'),\n",
       "  Text(15, 0, '15'),\n",
       "  Text(16, 0, '16'),\n",
       "  Text(17, 0, '17'),\n",
       "  Text(18, 0, '18'),\n",
       "  Text(19, 0, '19'),\n",
       "  Text(20, 0, '20'),\n",
       "  Text(21, 0, '21'),\n",
       "  Text(22, 0, '22'),\n",
       "  Text(23, 0, '23'),\n",
       "  Text(24, 0, '24'),\n",
       "  Text(25, 0, '25'),\n",
       "  Text(26, 0, '26'),\n",
       "  Text(27, 0, '27'),\n",
       "  Text(28, 0, '28'),\n",
       "  Text(29, 0, '29'),\n",
       "  Text(30, 0, '30')])"
      ]
     },
     "execution_count": 83,
     "metadata": {},
     "output_type": "execute_result"
    },
    {
     "data": {
      "image/png": "[encoded data removed]",
      "text/plain": [
       "<Figure size 864x468 with 1 Axes>"
      ]
     },
     "metadata": {
      "needs_background": "light"
     },
     "output_type": "display_data"
    }
   ],
   "source": [
    "fig, ax = plt.subplots(figsize=(12,6.5))\n",
    "# ax.plot(range(1,26), min_df['Term Count'], linewidth = 2.5, color = 'green')\n",
    "ax.scatter(x = min_df['Min Doc'], y = min_df['Term Count'])\n",
    "plt.title('From 50 State of the State Addresses in 2023')\n",
    "plt.suptitle('Minimum Document Frequency and Resulting Term Count', size = 20)\n",
    "plt.ylabel('Term Count')\n",
    "plt.xlabel('Minimum Document Frequency')\n",
    "plt.xticks(range(1,31))\n",
    "#plt.savefig('min_doc_freq.png')"
   ]
  },
  {
   "cell_type": "code",
   "execution_count": 88,
   "id": "7b1f6d81",
   "metadata": {
    "hidden": true
   },
   "outputs": [],
   "source": [
    "# Let's use 6 to reduce the words but still keep a high term count. Plus our overall sample size (50) is low."
   ]
  },
  {
   "cell_type": "markdown",
   "id": "e8da3a90",
   "metadata": {
    "heading_collapsed": true,
    "hidden": true
   },
   "source": [
    "#### + custom stopwords"
   ]
  },
  {
   "cell_type": "code",
   "execution_count": 89,
   "id": "9728448e",
   "metadata": {
    "hidden": true
   },
   "outputs": [],
   "source": [
    "# define functions for testing hyper parameter easily\n",
    "def convert_to_term_df(dtm_input, tfidf_vectorizer_input):\n",
    "    content_index = pd.DataFrame(dtm_input.toarray()).head()\n",
    "    term_indices = {index: term for term, index in tfidf_vectorizer_input.vocabulary_.items()}\n",
    "    colterms = [term_indices[i] for i in range(dtm_input.shape[1])]\n",
    "    final_df = pd.DataFrame(dtm_input.toarray(), columns=colterms)\n",
    "\n",
    "    return final_df"
   ]
  },
  {
   "cell_type": "code",
   "execution_count": 90,
   "id": "15971ffe",
   "metadata": {
    "hidden": true
   },
   "outputs": [],
   "source": [
    "# https://stackoverflow.com/questions/34232190/scikit-learn-tfidfvectorizer-how-to-get-top-n-terms-with-highest-tf-idf-score\n",
    "def get_top_terms(dtm_input, tfidf_vectorizer_input, num):\n",
    "    importance = np.argsort(np.asarray(dtm_input.sum(axis=0)).ravel())[::-1]\n",
    "    tfidf_feature_names = np.array(tfidf_vectorizer_input.get_feature_names_out())\n",
    "    return tfidf_feature_names[importance[: num]]"
   ]
  },
  {
   "cell_type": "code",
   "execution_count": 91,
   "id": "cb6b050a",
   "metadata": {
    "hidden": true
   },
   "outputs": [
    {
     "data": {
      "text/plain": [
       "(50, 2265)"
      ]
     },
     "execution_count": 91,
     "metadata": {},
     "output_type": "execute_result"
    }
   ],
   "source": [
    "# vectorize with stop words only \n",
    "tfidf_vectorizer = TfidfVectorizer(stop_words='english', min_df=6)\n",
    "dtm = tfidf_vectorizer.fit_transform(sos.text)\n",
    "dtm.shape #(50, 2265)"
   ]
  },
  {
   "cell_type": "code",
   "execution_count": 93,
   "id": "6bbaff0f",
   "metadata": {
    "hidden": true
   },
   "outputs": [
    {
     "data": {
      "text/html": [
       "<div>\n",
       "<style scoped>\n",
       "    .dataframe tbody tr th:only-of-type {\n",
       "        vertical-align: middle;\n",
       "    }\n",
       "\n",
       "    .dataframe tbody tr th {\n",
       "        vertical-align: top;\n",
       "    }\n",
       "\n",
       "    .dataframe thead th {\n",
       "        text-align: right;\n",
       "    }\n",
       "</style>\n",
       "<table border=\"1\" class=\"dataframe\">\n",
       "  <thead>\n",
       "    <tr style=\"text-align: right;\">\n",
       "      <th></th>\n",
       "      <th>000</th>\n",
       "      <th>10</th>\n",
       "      <th>100</th>\n",
       "      <th>11</th>\n",
       "      <th>12</th>\n",
       "      <th>120</th>\n",
       "      <th>13</th>\n",
       "      <th>14</th>\n",
       "      <th>15</th>\n",
       "      <th>150</th>\n",
       "      <th>...</th>\n",
       "      <th>years</th>\n",
       "      <th>yes</th>\n",
       "      <th>yesterday</th>\n",
       "      <th>york</th>\n",
       "      <th>young</th>\n",
       "      <th>youngest</th>\n",
       "      <th>youth</th>\n",
       "      <th>zero</th>\n",
       "      <th>zip</th>\n",
       "      <th>zoning</th>\n",
       "    </tr>\n",
       "  </thead>\n",
       "  <tbody>\n",
       "    <tr>\n",
       "      <th>0</th>\n",
       "      <td>0.011396</td>\n",
       "      <td>0.000000</td>\n",
       "      <td>0.000000</td>\n",
       "      <td>0.000000</td>\n",
       "      <td>0.000000</td>\n",
       "      <td>0.0</td>\n",
       "      <td>0.00000</td>\n",
       "      <td>0.000000</td>\n",
       "      <td>0.000000</td>\n",
       "      <td>0.000000</td>\n",
       "      <td>...</td>\n",
       "      <td>0.060761</td>\n",
       "      <td>0.000000</td>\n",
       "      <td>0.0</td>\n",
       "      <td>0.0</td>\n",
       "      <td>0.041006</td>\n",
       "      <td>0.027155</td>\n",
       "      <td>0.0</td>\n",
       "      <td>0.00000</td>\n",
       "      <td>0.027155</td>\n",
       "      <td>0.000000</td>\n",
       "    </tr>\n",
       "    <tr>\n",
       "      <th>1</th>\n",
       "      <td>0.006169</td>\n",
       "      <td>0.013914</td>\n",
       "      <td>0.015430</td>\n",
       "      <td>0.010683</td>\n",
       "      <td>0.017588</td>\n",
       "      <td>0.0</td>\n",
       "      <td>0.03586</td>\n",
       "      <td>0.011953</td>\n",
       "      <td>0.009656</td>\n",
       "      <td>0.000000</td>\n",
       "      <td>...</td>\n",
       "      <td>0.169932</td>\n",
       "      <td>0.024648</td>\n",
       "      <td>0.0</td>\n",
       "      <td>0.0</td>\n",
       "      <td>0.022197</td>\n",
       "      <td>0.000000</td>\n",
       "      <td>0.0</td>\n",
       "      <td>0.01362</td>\n",
       "      <td>0.000000</td>\n",
       "      <td>0.000000</td>\n",
       "    </tr>\n",
       "    <tr>\n",
       "      <th>2</th>\n",
       "      <td>0.030822</td>\n",
       "      <td>0.017380</td>\n",
       "      <td>0.009637</td>\n",
       "      <td>0.000000</td>\n",
       "      <td>0.032953</td>\n",
       "      <td>0.0</td>\n",
       "      <td>0.00000</td>\n",
       "      <td>0.000000</td>\n",
       "      <td>0.012061</td>\n",
       "      <td>0.013707</td>\n",
       "      <td>...</td>\n",
       "      <td>0.061624</td>\n",
       "      <td>0.000000</td>\n",
       "      <td>0.0</td>\n",
       "      <td>0.0</td>\n",
       "      <td>0.009242</td>\n",
       "      <td>0.000000</td>\n",
       "      <td>0.0</td>\n",
       "      <td>0.00000</td>\n",
       "      <td>0.000000</td>\n",
       "      <td>0.000000</td>\n",
       "    </tr>\n",
       "    <tr>\n",
       "      <th>3</th>\n",
       "      <td>0.015949</td>\n",
       "      <td>0.000000</td>\n",
       "      <td>0.000000</td>\n",
       "      <td>0.027620</td>\n",
       "      <td>0.000000</td>\n",
       "      <td>0.0</td>\n",
       "      <td>0.00000</td>\n",
       "      <td>0.000000</td>\n",
       "      <td>0.000000</td>\n",
       "      <td>0.000000</td>\n",
       "      <td>...</td>\n",
       "      <td>0.085037</td>\n",
       "      <td>0.000000</td>\n",
       "      <td>0.0</td>\n",
       "      <td>0.0</td>\n",
       "      <td>0.019130</td>\n",
       "      <td>0.076009</td>\n",
       "      <td>0.0</td>\n",
       "      <td>0.00000</td>\n",
       "      <td>0.038004</td>\n",
       "      <td>0.000000</td>\n",
       "    </tr>\n",
       "    <tr>\n",
       "      <th>4</th>\n",
       "      <td>0.011349</td>\n",
       "      <td>0.012799</td>\n",
       "      <td>0.014194</td>\n",
       "      <td>0.019654</td>\n",
       "      <td>0.000000</td>\n",
       "      <td>0.0</td>\n",
       "      <td>0.00000</td>\n",
       "      <td>0.000000</td>\n",
       "      <td>0.000000</td>\n",
       "      <td>0.020189</td>\n",
       "      <td>...</td>\n",
       "      <td>0.080681</td>\n",
       "      <td>0.045348</td>\n",
       "      <td>0.0</td>\n",
       "      <td>0.0</td>\n",
       "      <td>0.000000</td>\n",
       "      <td>0.000000</td>\n",
       "      <td>0.0</td>\n",
       "      <td>0.00000</td>\n",
       "      <td>0.000000</td>\n",
       "      <td>0.028208</td>\n",
       "    </tr>\n",
       "  </tbody>\n",
       "</table>\n",
       "<p>5 rows × 2265 columns</p>\n",
       "</div>"
      ],
      "text/plain": [
       "        000        10       100        11        12  120       13        14  \\\n",
       "0  0.011396  0.000000  0.000000  0.000000  0.000000  0.0  0.00000  0.000000   \n",
       "1  0.006169  0.013914  0.015430  0.010683  0.017588  0.0  0.03586  0.011953   \n",
       "2  0.030822  0.017380  0.009637  0.000000  0.032953  0.0  0.00000  0.000000   \n",
       "3  0.015949  0.000000  0.000000  0.027620  0.000000  0.0  0.00000  0.000000   \n",
       "4  0.011349  0.012799  0.014194  0.019654  0.000000  0.0  0.00000  0.000000   \n",
       "\n",
       "         15       150  ...     years       yes  yesterday  york     young  \\\n",
       "0  0.000000  0.000000  ...  0.060761  0.000000        0.0   0.0  0.041006   \n",
       "1  0.009656  0.000000  ...  0.169932  0.024648        0.0   0.0  0.022197   \n",
       "2  0.012061  0.013707  ...  0.061624  0.000000        0.0   0.0  0.009242   \n",
       "3  0.000000  0.000000  ...  0.085037  0.000000        0.0   0.0  0.019130   \n",
       "4  0.000000  0.020189  ...  0.080681  0.045348        0.0   0.0  0.000000   \n",
       "\n",
       "   youngest  youth     zero       zip    zoning  \n",
       "0  0.027155    0.0  0.00000  0.027155  0.000000  \n",
       "1  0.000000    0.0  0.01362  0.000000  0.000000  \n",
       "2  0.000000    0.0  0.00000  0.000000  0.000000  \n",
       "3  0.076009    0.0  0.00000  0.038004  0.000000  \n",
       "4  0.000000    0.0  0.00000  0.000000  0.028208  \n",
       "\n",
       "[5 rows x 2265 columns]"
      ]
     },
     "execution_count": 93,
     "metadata": {},
     "output_type": "execute_result"
    }
   ],
   "source": [
    "# create df\n",
    "df = convert_to_term_df(dtm, tfidf_vectorizer)\n",
    "df.head()"
   ]
  },
  {
   "cell_type": "code",
   "execution_count": 134,
   "id": "3431ef63",
   "metadata": {
    "hidden": true
   },
   "outputs": [],
   "source": [
    "# add custom stop words - (tweaked throughout the process based on later parts of this notebook)\n",
    "# https://aparnamishra144.medium.com/how-to-add-custom-stopwords-and-remove-them-from-text-in-nlp-50d342cfafff\n",
    "\n",
    "stop_list = ['four','absolutely','tonight','state', 'governor', 'year', 'alabama', 'new', 'north', 'south', 'west', 'alaska', 'arizona', 'arkansas', 'california', 'colorado',\n",
    "             'connecticut','delaware','florida','georgia','hawaii','idaho','illinois','indiana','iowa',\n",
    "             'kansas','kentucky','louisiana','maine','maryland','massachusetts','michigan','minnesota',\n",
    "             'mississippi','missouri','montana','nebraska','nevada', 'hampshire', 'jersey', 'mexico','york',\n",
    "             'carolina', 'dakota','ohio','oklahoma','oregon','pennsylvania','rhode','island','tennessee','texas',\n",
    "             'utah','vermont','virginia','washington','west virginia', 'wisconsin','wyoming', \n",
    "             'could', 'doe', 'ha', 'kansa', 'might', 'must', 'need', 'sha', 'wa', 'would']\n",
    "\n",
    "stpwrd = nltk.corpus.stopwords.words('english')\n",
    "stpwrd.extend(stop_list)\n",
    "#stpwrd"
   ]
  },
  {
   "cell_type": "code",
   "execution_count": 94,
   "id": "21d04372",
   "metadata": {
    "hidden": true
   },
   "outputs": [
    {
     "data": {
      "text/plain": [
       "(50, 2347)"
      ]
     },
     "execution_count": 94,
     "metadata": {},
     "output_type": "execute_result"
    }
   ],
   "source": [
    "# vectorize with custom stop words only \n",
    "tfidf_vectorizer1 = TfidfVectorizer(stop_words=stpwrd, min_df=6)\n",
    "dtm1 = tfidf_vectorizer1.fit_transform(sos.text)\n",
    "dtm1.shape # (50, 2347)"
   ]
  },
  {
   "cell_type": "code",
   "execution_count": 97,
   "id": "b887a0c9",
   "metadata": {
    "hidden": true
   },
   "outputs": [
    {
     "data": {
      "text/plain": [
       "array(['people', 'us', 'years', 'one', 'every', 'work', 'make', 'also',\n",
       "       'first', 'today'], dtype=object)"
      ]
     },
     "execution_count": 97,
     "metadata": {},
     "output_type": "execute_result"
    },
    {
     "data": {
      "text/html": [
       "<div>\n",
       "<style scoped>\n",
       "    .dataframe tbody tr th:only-of-type {\n",
       "        vertical-align: middle;\n",
       "    }\n",
       "\n",
       "    .dataframe tbody tr th {\n",
       "        vertical-align: top;\n",
       "    }\n",
       "\n",
       "    .dataframe thead th {\n",
       "        text-align: right;\n",
       "    }\n",
       "</style>\n",
       "<table border=\"1\" class=\"dataframe\">\n",
       "  <thead>\n",
       "    <tr style=\"text-align: right;\">\n",
       "      <th></th>\n",
       "      <th>000</th>\n",
       "      <th>10</th>\n",
       "      <th>100</th>\n",
       "      <th>11</th>\n",
       "      <th>12</th>\n",
       "      <th>120</th>\n",
       "      <th>13</th>\n",
       "      <th>14</th>\n",
       "      <th>15</th>\n",
       "      <th>150</th>\n",
       "      <th>...</th>\n",
       "      <th>years</th>\n",
       "      <th>yes</th>\n",
       "      <th>yesterday</th>\n",
       "      <th>yet</th>\n",
       "      <th>young</th>\n",
       "      <th>youngest</th>\n",
       "      <th>youth</th>\n",
       "      <th>zero</th>\n",
       "      <th>zip</th>\n",
       "      <th>zoning</th>\n",
       "    </tr>\n",
       "  </thead>\n",
       "  <tbody>\n",
       "    <tr>\n",
       "      <th>0</th>\n",
       "      <td>0.011365</td>\n",
       "      <td>0.000000</td>\n",
       "      <td>0.000000</td>\n",
       "      <td>0.000000</td>\n",
       "      <td>0.000000</td>\n",
       "      <td>0.0</td>\n",
       "      <td>0.000000</td>\n",
       "      <td>0.000000</td>\n",
       "      <td>0.000000</td>\n",
       "      <td>0.000000</td>\n",
       "      <td>...</td>\n",
       "      <td>0.060593</td>\n",
       "      <td>0.000000</td>\n",
       "      <td>0.0</td>\n",
       "      <td>0.000000</td>\n",
       "      <td>0.040893</td>\n",
       "      <td>0.027080</td>\n",
       "      <td>0.0</td>\n",
       "      <td>0.000000</td>\n",
       "      <td>0.027080</td>\n",
       "      <td>0.000000</td>\n",
       "    </tr>\n",
       "    <tr>\n",
       "      <th>1</th>\n",
       "      <td>0.006811</td>\n",
       "      <td>0.015362</td>\n",
       "      <td>0.017037</td>\n",
       "      <td>0.011795</td>\n",
       "      <td>0.019418</td>\n",
       "      <td>0.0</td>\n",
       "      <td>0.039593</td>\n",
       "      <td>0.013198</td>\n",
       "      <td>0.010661</td>\n",
       "      <td>0.000000</td>\n",
       "      <td>...</td>\n",
       "      <td>0.187621</td>\n",
       "      <td>0.027214</td>\n",
       "      <td>0.0</td>\n",
       "      <td>0.000000</td>\n",
       "      <td>0.024507</td>\n",
       "      <td>0.000000</td>\n",
       "      <td>0.0</td>\n",
       "      <td>0.015038</td>\n",
       "      <td>0.000000</td>\n",
       "      <td>0.000000</td>\n",
       "    </tr>\n",
       "    <tr>\n",
       "      <th>2</th>\n",
       "      <td>0.031461</td>\n",
       "      <td>0.017740</td>\n",
       "      <td>0.009837</td>\n",
       "      <td>0.000000</td>\n",
       "      <td>0.033636</td>\n",
       "      <td>0.0</td>\n",
       "      <td>0.000000</td>\n",
       "      <td>0.000000</td>\n",
       "      <td>0.012311</td>\n",
       "      <td>0.013991</td>\n",
       "      <td>...</td>\n",
       "      <td>0.062902</td>\n",
       "      <td>0.000000</td>\n",
       "      <td>0.0</td>\n",
       "      <td>0.000000</td>\n",
       "      <td>0.009434</td>\n",
       "      <td>0.000000</td>\n",
       "      <td>0.0</td>\n",
       "      <td>0.000000</td>\n",
       "      <td>0.000000</td>\n",
       "      <td>0.000000</td>\n",
       "    </tr>\n",
       "    <tr>\n",
       "      <th>3</th>\n",
       "      <td>0.015460</td>\n",
       "      <td>0.000000</td>\n",
       "      <td>0.000000</td>\n",
       "      <td>0.026772</td>\n",
       "      <td>0.000000</td>\n",
       "      <td>0.0</td>\n",
       "      <td>0.000000</td>\n",
       "      <td>0.000000</td>\n",
       "      <td>0.000000</td>\n",
       "      <td>0.000000</td>\n",
       "      <td>...</td>\n",
       "      <td>0.082427</td>\n",
       "      <td>0.000000</td>\n",
       "      <td>0.0</td>\n",
       "      <td>0.041238</td>\n",
       "      <td>0.018543</td>\n",
       "      <td>0.073676</td>\n",
       "      <td>0.0</td>\n",
       "      <td>0.000000</td>\n",
       "      <td>0.036838</td>\n",
       "      <td>0.000000</td>\n",
       "    </tr>\n",
       "    <tr>\n",
       "      <th>4</th>\n",
       "      <td>0.015002</td>\n",
       "      <td>0.016918</td>\n",
       "      <td>0.018762</td>\n",
       "      <td>0.025979</td>\n",
       "      <td>0.000000</td>\n",
       "      <td>0.0</td>\n",
       "      <td>0.000000</td>\n",
       "      <td>0.000000</td>\n",
       "      <td>0.000000</td>\n",
       "      <td>0.026686</td>\n",
       "      <td>...</td>\n",
       "      <td>0.106646</td>\n",
       "      <td>0.059942</td>\n",
       "      <td>0.0</td>\n",
       "      <td>0.040016</td>\n",
       "      <td>0.000000</td>\n",
       "      <td>0.000000</td>\n",
       "      <td>0.0</td>\n",
       "      <td>0.000000</td>\n",
       "      <td>0.000000</td>\n",
       "      <td>0.037286</td>\n",
       "    </tr>\n",
       "  </tbody>\n",
       "</table>\n",
       "<p>5 rows × 2347 columns</p>\n",
       "</div>"
      ],
      "text/plain": [
       "        000        10       100        11        12  120        13        14  \\\n",
       "0  0.011365  0.000000  0.000000  0.000000  0.000000  0.0  0.000000  0.000000   \n",
       "1  0.006811  0.015362  0.017037  0.011795  0.019418  0.0  0.039593  0.013198   \n",
       "2  0.031461  0.017740  0.009837  0.000000  0.033636  0.0  0.000000  0.000000   \n",
       "3  0.015460  0.000000  0.000000  0.026772  0.000000  0.0  0.000000  0.000000   \n",
       "4  0.015002  0.016918  0.018762  0.025979  0.000000  0.0  0.000000  0.000000   \n",
       "\n",
       "         15       150  ...     years       yes  yesterday       yet     young  \\\n",
       "0  0.000000  0.000000  ...  0.060593  0.000000        0.0  0.000000  0.040893   \n",
       "1  0.010661  0.000000  ...  0.187621  0.027214        0.0  0.000000  0.024507   \n",
       "2  0.012311  0.013991  ...  0.062902  0.000000        0.0  0.000000  0.009434   \n",
       "3  0.000000  0.000000  ...  0.082427  0.000000        0.0  0.041238  0.018543   \n",
       "4  0.000000  0.026686  ...  0.106646  0.059942        0.0  0.040016  0.000000   \n",
       "\n",
       "   youngest  youth      zero       zip    zoning  \n",
       "0  0.027080    0.0  0.000000  0.027080  0.000000  \n",
       "1  0.000000    0.0  0.015038  0.000000  0.000000  \n",
       "2  0.000000    0.0  0.000000  0.000000  0.000000  \n",
       "3  0.073676    0.0  0.000000  0.036838  0.000000  \n",
       "4  0.000000    0.0  0.000000  0.000000  0.037286  \n",
       "\n",
       "[5 rows x 2347 columns]"
      ]
     },
     "execution_count": 97,
     "metadata": {},
     "output_type": "execute_result"
    }
   ],
   "source": [
    "# get frequent terms \n",
    "get_top_terms(dtm1, tfidf_vectorizer1, 10)\n",
    "\n",
    "# create df\n",
    "df1 = convert_to_term_df(dtm1, tfidf_vectorizer1)\n",
    "df1.head()"
   ]
  },
  {
   "cell_type": "markdown",
   "id": "2fe1a4ff",
   "metadata": {
    "heading_collapsed": true,
    "hidden": true
   },
   "source": [
    "#### + words only"
   ]
  },
  {
   "cell_type": "code",
   "execution_count": 98,
   "id": "ada4949a",
   "metadata": {
    "hidden": true
   },
   "outputs": [
    {
     "data": {
      "text/plain": [
       "(50, 2279)"
      ]
     },
     "execution_count": 98,
     "metadata": {},
     "output_type": "execute_result"
    }
   ],
   "source": [
    "# vectorize with stop words and words only (remove numbers and must be 3 letters minimum)\n",
    "tfidf_vectorizer2 = TfidfVectorizer(stop_words=stpwrd, min_df=6, token_pattern= r'\\b[a-zA-Z]{3,}\\b')\n",
    "dtm2 = tfidf_vectorizer2.fit_transform(sos.text)\n",
    "dtm2.shape #(50, 2279)"
   ]
  },
  {
   "cell_type": "code",
   "execution_count": 99,
   "id": "71f6bfa9",
   "metadata": {
    "hidden": true
   },
   "outputs": [
    {
     "data": {
      "text/plain": [
       "array(['people', 'years', 'one', 'every', 'work', 'make', 'first', 'also',\n",
       "       'today', 'let'], dtype=object)"
      ]
     },
     "execution_count": 99,
     "metadata": {},
     "output_type": "execute_result"
    },
    {
     "data": {
      "text/html": [
       "<div>\n",
       "<style scoped>\n",
       "    .dataframe tbody tr th:only-of-type {\n",
       "        vertical-align: middle;\n",
       "    }\n",
       "\n",
       "    .dataframe tbody tr th {\n",
       "        vertical-align: top;\n",
       "    }\n",
       "\n",
       "    .dataframe thead th {\n",
       "        text-align: right;\n",
       "    }\n",
       "</style>\n",
       "<table border=\"1\" class=\"dataframe\">\n",
       "  <thead>\n",
       "    <tr style=\"text-align: right;\">\n",
       "      <th></th>\n",
       "      <th>abandoned</th>\n",
       "      <th>ability</th>\n",
       "      <th>able</th>\n",
       "      <th>abortion</th>\n",
       "      <th>abundance</th>\n",
       "      <th>abundant</th>\n",
       "      <th>abuse</th>\n",
       "      <th>academy</th>\n",
       "      <th>accelerate</th>\n",
       "      <th>accept</th>\n",
       "      <th>...</th>\n",
       "      <th>years</th>\n",
       "      <th>yes</th>\n",
       "      <th>yesterday</th>\n",
       "      <th>yet</th>\n",
       "      <th>young</th>\n",
       "      <th>youngest</th>\n",
       "      <th>youth</th>\n",
       "      <th>zero</th>\n",
       "      <th>zip</th>\n",
       "      <th>zoning</th>\n",
       "    </tr>\n",
       "  </thead>\n",
       "  <tbody>\n",
       "    <tr>\n",
       "      <th>0</th>\n",
       "      <td>0.0</td>\n",
       "      <td>0.036563</td>\n",
       "      <td>0.013391</td>\n",
       "      <td>0.000000</td>\n",
       "      <td>0.029654</td>\n",
       "      <td>0.000000</td>\n",
       "      <td>0.0</td>\n",
       "      <td>0.0</td>\n",
       "      <td>0.025166</td>\n",
       "      <td>0.024301</td>\n",
       "      <td>...</td>\n",
       "      <td>0.060769</td>\n",
       "      <td>0.000000</td>\n",
       "      <td>0.0</td>\n",
       "      <td>0.000000</td>\n",
       "      <td>0.041011</td>\n",
       "      <td>0.027159</td>\n",
       "      <td>0.0</td>\n",
       "      <td>0.000000</td>\n",
       "      <td>0.027159</td>\n",
       "      <td>0.000000</td>\n",
       "    </tr>\n",
       "    <tr>\n",
       "      <th>1</th>\n",
       "      <td>0.0</td>\n",
       "      <td>0.022441</td>\n",
       "      <td>0.008218</td>\n",
       "      <td>0.000000</td>\n",
       "      <td>0.000000</td>\n",
       "      <td>0.000000</td>\n",
       "      <td>0.0</td>\n",
       "      <td>0.0</td>\n",
       "      <td>0.000000</td>\n",
       "      <td>0.104404</td>\n",
       "      <td>...</td>\n",
       "      <td>0.192699</td>\n",
       "      <td>0.027951</td>\n",
       "      <td>0.0</td>\n",
       "      <td>0.000000</td>\n",
       "      <td>0.025170</td>\n",
       "      <td>0.000000</td>\n",
       "      <td>0.0</td>\n",
       "      <td>0.015445</td>\n",
       "      <td>0.000000</td>\n",
       "      <td>0.000000</td>\n",
       "    </tr>\n",
       "    <tr>\n",
       "      <th>2</th>\n",
       "      <td>0.0</td>\n",
       "      <td>0.000000</td>\n",
       "      <td>0.000000</td>\n",
       "      <td>0.016376</td>\n",
       "      <td>0.000000</td>\n",
       "      <td>0.019735</td>\n",
       "      <td>0.0</td>\n",
       "      <td>0.0</td>\n",
       "      <td>0.000000</td>\n",
       "      <td>0.000000</td>\n",
       "      <td>...</td>\n",
       "      <td>0.063503</td>\n",
       "      <td>0.000000</td>\n",
       "      <td>0.0</td>\n",
       "      <td>0.000000</td>\n",
       "      <td>0.009524</td>\n",
       "      <td>0.000000</td>\n",
       "      <td>0.0</td>\n",
       "      <td>0.000000</td>\n",
       "      <td>0.000000</td>\n",
       "      <td>0.000000</td>\n",
       "    </tr>\n",
       "    <tr>\n",
       "      <th>3</th>\n",
       "      <td>0.0</td>\n",
       "      <td>0.025070</td>\n",
       "      <td>0.000000</td>\n",
       "      <td>0.000000</td>\n",
       "      <td>0.000000</td>\n",
       "      <td>0.038847</td>\n",
       "      <td>0.0</td>\n",
       "      <td>0.0</td>\n",
       "      <td>0.000000</td>\n",
       "      <td>0.033325</td>\n",
       "      <td>...</td>\n",
       "      <td>0.083333</td>\n",
       "      <td>0.000000</td>\n",
       "      <td>0.0</td>\n",
       "      <td>0.041691</td>\n",
       "      <td>0.018746</td>\n",
       "      <td>0.074485</td>\n",
       "      <td>0.0</td>\n",
       "      <td>0.000000</td>\n",
       "      <td>0.037243</td>\n",
       "      <td>0.000000</td>\n",
       "    </tr>\n",
       "    <tr>\n",
       "      <th>4</th>\n",
       "      <td>0.0</td>\n",
       "      <td>0.000000</td>\n",
       "      <td>0.000000</td>\n",
       "      <td>0.031127</td>\n",
       "      <td>0.000000</td>\n",
       "      <td>0.000000</td>\n",
       "      <td>0.0</td>\n",
       "      <td>0.0</td>\n",
       "      <td>0.000000</td>\n",
       "      <td>0.000000</td>\n",
       "      <td>...</td>\n",
       "      <td>0.107292</td>\n",
       "      <td>0.060305</td>\n",
       "      <td>0.0</td>\n",
       "      <td>0.040259</td>\n",
       "      <td>0.000000</td>\n",
       "      <td>0.000000</td>\n",
       "      <td>0.0</td>\n",
       "      <td>0.000000</td>\n",
       "      <td>0.000000</td>\n",
       "      <td>0.037512</td>\n",
       "    </tr>\n",
       "  </tbody>\n",
       "</table>\n",
       "<p>5 rows × 2279 columns</p>\n",
       "</div>"
      ],
      "text/plain": [
       "   abandoned   ability      able  abortion  abundance  abundant  abuse  \\\n",
       "0        0.0  0.036563  0.013391  0.000000   0.029654  0.000000    0.0   \n",
       "1        0.0  0.022441  0.008218  0.000000   0.000000  0.000000    0.0   \n",
       "2        0.0  0.000000  0.000000  0.016376   0.000000  0.019735    0.0   \n",
       "3        0.0  0.025070  0.000000  0.000000   0.000000  0.038847    0.0   \n",
       "4        0.0  0.000000  0.000000  0.031127   0.000000  0.000000    0.0   \n",
       "\n",
       "   academy  accelerate    accept  ...     years       yes  yesterday  \\\n",
       "0      0.0    0.025166  0.024301  ...  0.060769  0.000000        0.0   \n",
       "1      0.0    0.000000  0.104404  ...  0.192699  0.027951        0.0   \n",
       "2      0.0    0.000000  0.000000  ...  0.063503  0.000000        0.0   \n",
       "3      0.0    0.000000  0.033325  ...  0.083333  0.000000        0.0   \n",
       "4      0.0    0.000000  0.000000  ...  0.107292  0.060305        0.0   \n",
       "\n",
       "        yet     young  youngest  youth      zero       zip    zoning  \n",
       "0  0.000000  0.041011  0.027159    0.0  0.000000  0.027159  0.000000  \n",
       "1  0.000000  0.025170  0.000000    0.0  0.015445  0.000000  0.000000  \n",
       "2  0.000000  0.009524  0.000000    0.0  0.000000  0.000000  0.000000  \n",
       "3  0.041691  0.018746  0.074485    0.0  0.000000  0.037243  0.000000  \n",
       "4  0.040259  0.000000  0.000000    0.0  0.000000  0.000000  0.037512  \n",
       "\n",
       "[5 rows x 2279 columns]"
      ]
     },
     "execution_count": 99,
     "metadata": {},
     "output_type": "execute_result"
    }
   ],
   "source": [
    "# get most frequent terms\n",
    "get_top_terms(dtm2, tfidf_vectorizer2, 10)\n",
    "\n",
    "# create df\n",
    "df2 = convert_to_term_df(dtm2, tfidf_vectorizer2)\n",
    "df2.head()"
   ]
  },
  {
   "cell_type": "markdown",
   "id": "89fcae4d",
   "metadata": {
    "heading_collapsed": true,
    "hidden": true
   },
   "source": [
    "#### + bigrams"
   ]
  },
  {
   "cell_type": "code",
   "execution_count": 101,
   "id": "3fc95ea8",
   "metadata": {
    "hidden": true
   },
   "outputs": [
    {
     "data": {
      "text/plain": [
       "(50, 2831)"
      ]
     },
     "execution_count": 101,
     "metadata": {},
     "output_type": "execute_result"
    }
   ],
   "source": [
    "# vectorize with bigrams\n",
    "tfidf_vectorizer3 = TfidfVectorizer(stop_words=stpwrd, min_df=6, ngram_range=(1,2), \n",
    "                                    token_pattern= r'\\b[a-zA-Z]{3,}\\b')\n",
    "dtm3 = tfidf_vectorizer3.fit_transform(sos.text)\n",
    "dtm3.shape  # (50, 2831)\n",
    "# larger number"
   ]
  },
  {
   "cell_type": "code",
   "execution_count": 102,
   "id": "216972b2",
   "metadata": {
    "hidden": true
   },
   "outputs": [
    {
     "data": {
      "text/plain": [
       "array(['people', 'years', 'one', 'every', 'work', 'make', 'first', 'also',\n",
       "       'today', 'let'], dtype=object)"
      ]
     },
     "execution_count": 102,
     "metadata": {},
     "output_type": "execute_result"
    },
    {
     "data": {
      "text/html": [
       "<div>\n",
       "<style scoped>\n",
       "    .dataframe tbody tr th:only-of-type {\n",
       "        vertical-align: middle;\n",
       "    }\n",
       "\n",
       "    .dataframe tbody tr th {\n",
       "        vertical-align: top;\n",
       "    }\n",
       "\n",
       "    .dataframe thead th {\n",
       "        text-align: right;\n",
       "    }\n",
       "</style>\n",
       "<table border=\"1\" class=\"dataframe\">\n",
       "  <thead>\n",
       "    <tr style=\"text-align: right;\">\n",
       "      <th></th>\n",
       "      <th>abandoned</th>\n",
       "      <th>ability</th>\n",
       "      <th>able</th>\n",
       "      <th>able get</th>\n",
       "      <th>abortion</th>\n",
       "      <th>abundance</th>\n",
       "      <th>abundant</th>\n",
       "      <th>abuse</th>\n",
       "      <th>academy</th>\n",
       "      <th>accelerate</th>\n",
       "      <th>...</th>\n",
       "      <th>yesterday</th>\n",
       "      <th>yet</th>\n",
       "      <th>young</th>\n",
       "      <th>young people</th>\n",
       "      <th>youngest</th>\n",
       "      <th>youth</th>\n",
       "      <th>zero</th>\n",
       "      <th>zip</th>\n",
       "      <th>zip code</th>\n",
       "      <th>zoning</th>\n",
       "    </tr>\n",
       "  </thead>\n",
       "  <tbody>\n",
       "    <tr>\n",
       "      <th>0</th>\n",
       "      <td>0.0</td>\n",
       "      <td>0.034371</td>\n",
       "      <td>0.012588</td>\n",
       "      <td>0.027876</td>\n",
       "      <td>0.000000</td>\n",
       "      <td>0.027876</td>\n",
       "      <td>0.000000</td>\n",
       "      <td>0.0</td>\n",
       "      <td>0.0</td>\n",
       "      <td>0.023656</td>\n",
       "      <td>...</td>\n",
       "      <td>0.0</td>\n",
       "      <td>0.000000</td>\n",
       "      <td>0.038552</td>\n",
       "      <td>0.055662</td>\n",
       "      <td>0.025530</td>\n",
       "      <td>0.0</td>\n",
       "      <td>0.000000</td>\n",
       "      <td>0.025530</td>\n",
       "      <td>0.025530</td>\n",
       "      <td>0.000000</td>\n",
       "    </tr>\n",
       "    <tr>\n",
       "      <th>1</th>\n",
       "      <td>0.0</td>\n",
       "      <td>0.021348</td>\n",
       "      <td>0.007818</td>\n",
       "      <td>0.000000</td>\n",
       "      <td>0.000000</td>\n",
       "      <td>0.000000</td>\n",
       "      <td>0.000000</td>\n",
       "      <td>0.0</td>\n",
       "      <td>0.0</td>\n",
       "      <td>0.000000</td>\n",
       "      <td>...</td>\n",
       "      <td>0.0</td>\n",
       "      <td>0.000000</td>\n",
       "      <td>0.023945</td>\n",
       "      <td>0.011524</td>\n",
       "      <td>0.000000</td>\n",
       "      <td>0.0</td>\n",
       "      <td>0.014693</td>\n",
       "      <td>0.000000</td>\n",
       "      <td>0.000000</td>\n",
       "      <td>0.000000</td>\n",
       "    </tr>\n",
       "    <tr>\n",
       "      <th>2</th>\n",
       "      <td>0.0</td>\n",
       "      <td>0.000000</td>\n",
       "      <td>0.000000</td>\n",
       "      <td>0.000000</td>\n",
       "      <td>0.015608</td>\n",
       "      <td>0.000000</td>\n",
       "      <td>0.018810</td>\n",
       "      <td>0.0</td>\n",
       "      <td>0.0</td>\n",
       "      <td>0.000000</td>\n",
       "      <td>...</td>\n",
       "      <td>0.0</td>\n",
       "      <td>0.000000</td>\n",
       "      <td>0.009077</td>\n",
       "      <td>0.000000</td>\n",
       "      <td>0.000000</td>\n",
       "      <td>0.0</td>\n",
       "      <td>0.000000</td>\n",
       "      <td>0.000000</td>\n",
       "      <td>0.000000</td>\n",
       "      <td>0.000000</td>\n",
       "    </tr>\n",
       "    <tr>\n",
       "      <th>3</th>\n",
       "      <td>0.0</td>\n",
       "      <td>0.024083</td>\n",
       "      <td>0.000000</td>\n",
       "      <td>0.000000</td>\n",
       "      <td>0.000000</td>\n",
       "      <td>0.000000</td>\n",
       "      <td>0.037318</td>\n",
       "      <td>0.0</td>\n",
       "      <td>0.0</td>\n",
       "      <td>0.000000</td>\n",
       "      <td>...</td>\n",
       "      <td>0.0</td>\n",
       "      <td>0.040051</td>\n",
       "      <td>0.018009</td>\n",
       "      <td>0.000000</td>\n",
       "      <td>0.071554</td>\n",
       "      <td>0.0</td>\n",
       "      <td>0.000000</td>\n",
       "      <td>0.035777</td>\n",
       "      <td>0.035777</td>\n",
       "      <td>0.000000</td>\n",
       "    </tr>\n",
       "    <tr>\n",
       "      <th>4</th>\n",
       "      <td>0.0</td>\n",
       "      <td>0.000000</td>\n",
       "      <td>0.000000</td>\n",
       "      <td>0.000000</td>\n",
       "      <td>0.030347</td>\n",
       "      <td>0.000000</td>\n",
       "      <td>0.000000</td>\n",
       "      <td>0.0</td>\n",
       "      <td>0.0</td>\n",
       "      <td>0.000000</td>\n",
       "      <td>...</td>\n",
       "      <td>0.0</td>\n",
       "      <td>0.039250</td>\n",
       "      <td>0.000000</td>\n",
       "      <td>0.000000</td>\n",
       "      <td>0.000000</td>\n",
       "      <td>0.0</td>\n",
       "      <td>0.000000</td>\n",
       "      <td>0.000000</td>\n",
       "      <td>0.000000</td>\n",
       "      <td>0.036572</td>\n",
       "    </tr>\n",
       "  </tbody>\n",
       "</table>\n",
       "<p>5 rows × 2831 columns</p>\n",
       "</div>"
      ],
      "text/plain": [
       "   abandoned   ability      able  able get  abortion  abundance  abundant  \\\n",
       "0        0.0  0.034371  0.012588  0.027876  0.000000   0.027876  0.000000   \n",
       "1        0.0  0.021348  0.007818  0.000000  0.000000   0.000000  0.000000   \n",
       "2        0.0  0.000000  0.000000  0.000000  0.015608   0.000000  0.018810   \n",
       "3        0.0  0.024083  0.000000  0.000000  0.000000   0.000000  0.037318   \n",
       "4        0.0  0.000000  0.000000  0.000000  0.030347   0.000000  0.000000   \n",
       "\n",
       "   abuse  academy  accelerate  ...  yesterday       yet     young  \\\n",
       "0    0.0      0.0    0.023656  ...        0.0  0.000000  0.038552   \n",
       "1    0.0      0.0    0.000000  ...        0.0  0.000000  0.023945   \n",
       "2    0.0      0.0    0.000000  ...        0.0  0.000000  0.009077   \n",
       "3    0.0      0.0    0.000000  ...        0.0  0.040051  0.018009   \n",
       "4    0.0      0.0    0.000000  ...        0.0  0.039250  0.000000   \n",
       "\n",
       "   young people  youngest  youth      zero       zip  zip code    zoning  \n",
       "0      0.055662  0.025530    0.0  0.000000  0.025530  0.025530  0.000000  \n",
       "1      0.011524  0.000000    0.0  0.014693  0.000000  0.000000  0.000000  \n",
       "2      0.000000  0.000000    0.0  0.000000  0.000000  0.000000  0.000000  \n",
       "3      0.000000  0.071554    0.0  0.000000  0.035777  0.035777  0.000000  \n",
       "4      0.000000  0.000000    0.0  0.000000  0.000000  0.000000  0.036572  \n",
       "\n",
       "[5 rows x 2831 columns]"
      ]
     },
     "execution_count": 102,
     "metadata": {},
     "output_type": "execute_result"
    }
   ],
   "source": [
    "# get most frequent terms\n",
    "get_top_terms(dtm3, tfidf_vectorizer3, 10)\n",
    "\n",
    "# create df\n",
    "df3 = convert_to_term_df(dtm3, tfidf_vectorizer3)\n",
    "df3.head()"
   ]
  },
  {
   "cell_type": "markdown",
   "id": "1ce41056",
   "metadata": {
    "heading_collapsed": true,
    "hidden": true
   },
   "source": [
    "#### + maxdf "
   ]
  },
  {
   "cell_type": "code",
   "execution_count": 108,
   "id": "e507ffec",
   "metadata": {
    "hidden": true
   },
   "outputs": [
    {
     "data": {
      "text/plain": [
       "(50, 2725)"
      ]
     },
     "execution_count": 108,
     "metadata": {},
     "output_type": "execute_result"
    }
   ],
   "source": [
    "tfidf_vectorizer4 = TfidfVectorizer(stop_words=stpwrd, min_df=6, max_df=0.80, ngram_range=(1,2), \n",
    "                                    token_pattern= r'\\b[a-zA-Z]{3,}\\b')\n",
    "dtm4 = tfidf_vectorizer4.fit_transform(sos.text)\n",
    "dtm4.shape  # (50, 2725) # removed words"
   ]
  },
  {
   "cell_type": "code",
   "execution_count": 105,
   "id": "49042f92",
   "metadata": {
    "hidden": true
   },
   "outputs": [
    {
     "data": {
      "text/plain": [
       "array(['housing', 'schools', 'kids', 'program', 'funding', 'energy',\n",
       "       'workforce', 'investments', 'going', 'system', 'water', 'dollars',\n",
       "       'billion', 'plan', 'teachers', 'legislature', 'local', 'mental',\n",
       "       'services', 'freedom'], dtype=object)"
      ]
     },
     "execution_count": 105,
     "metadata": {},
     "output_type": "execute_result"
    },
    {
     "data": {
      "text/html": [
       "<div>\n",
       "<style scoped>\n",
       "    .dataframe tbody tr th:only-of-type {\n",
       "        vertical-align: middle;\n",
       "    }\n",
       "\n",
       "    .dataframe tbody tr th {\n",
       "        vertical-align: top;\n",
       "    }\n",
       "\n",
       "    .dataframe thead th {\n",
       "        text-align: right;\n",
       "    }\n",
       "</style>\n",
       "<table border=\"1\" class=\"dataframe\">\n",
       "  <thead>\n",
       "    <tr style=\"text-align: right;\">\n",
       "      <th></th>\n",
       "      <th>abandoned</th>\n",
       "      <th>ability</th>\n",
       "      <th>able</th>\n",
       "      <th>able get</th>\n",
       "      <th>abortion</th>\n",
       "      <th>abundance</th>\n",
       "      <th>abundant</th>\n",
       "      <th>abuse</th>\n",
       "      <th>academy</th>\n",
       "      <th>accelerate</th>\n",
       "      <th>...</th>\n",
       "      <th>yesterday</th>\n",
       "      <th>yet</th>\n",
       "      <th>young</th>\n",
       "      <th>young people</th>\n",
       "      <th>youngest</th>\n",
       "      <th>youth</th>\n",
       "      <th>zero</th>\n",
       "      <th>zip</th>\n",
       "      <th>zip code</th>\n",
       "      <th>zoning</th>\n",
       "    </tr>\n",
       "  </thead>\n",
       "  <tbody>\n",
       "    <tr>\n",
       "      <th>0</th>\n",
       "      <td>0.0</td>\n",
       "      <td>0.039964</td>\n",
       "      <td>0.014636</td>\n",
       "      <td>0.032412</td>\n",
       "      <td>0.000000</td>\n",
       "      <td>0.032412</td>\n",
       "      <td>0.000000</td>\n",
       "      <td>0.0</td>\n",
       "      <td>0.0</td>\n",
       "      <td>0.027506</td>\n",
       "      <td>...</td>\n",
       "      <td>0.0</td>\n",
       "      <td>0.000000</td>\n",
       "      <td>0.044825</td>\n",
       "      <td>0.064720</td>\n",
       "      <td>0.029684</td>\n",
       "      <td>0.0</td>\n",
       "      <td>0.000000</td>\n",
       "      <td>0.029684</td>\n",
       "      <td>0.029684</td>\n",
       "      <td>0.000000</td>\n",
       "    </tr>\n",
       "    <tr>\n",
       "      <th>1</th>\n",
       "      <td>0.0</td>\n",
       "      <td>0.026071</td>\n",
       "      <td>0.009548</td>\n",
       "      <td>0.000000</td>\n",
       "      <td>0.000000</td>\n",
       "      <td>0.000000</td>\n",
       "      <td>0.000000</td>\n",
       "      <td>0.0</td>\n",
       "      <td>0.0</td>\n",
       "      <td>0.000000</td>\n",
       "      <td>...</td>\n",
       "      <td>0.0</td>\n",
       "      <td>0.000000</td>\n",
       "      <td>0.029242</td>\n",
       "      <td>0.014074</td>\n",
       "      <td>0.000000</td>\n",
       "      <td>0.0</td>\n",
       "      <td>0.017944</td>\n",
       "      <td>0.000000</td>\n",
       "      <td>0.000000</td>\n",
       "      <td>0.000000</td>\n",
       "    </tr>\n",
       "    <tr>\n",
       "      <th>2</th>\n",
       "      <td>0.0</td>\n",
       "      <td>0.000000</td>\n",
       "      <td>0.000000</td>\n",
       "      <td>0.000000</td>\n",
       "      <td>0.018467</td>\n",
       "      <td>0.000000</td>\n",
       "      <td>0.022255</td>\n",
       "      <td>0.0</td>\n",
       "      <td>0.0</td>\n",
       "      <td>0.000000</td>\n",
       "      <td>...</td>\n",
       "      <td>0.0</td>\n",
       "      <td>0.000000</td>\n",
       "      <td>0.010739</td>\n",
       "      <td>0.000000</td>\n",
       "      <td>0.000000</td>\n",
       "      <td>0.0</td>\n",
       "      <td>0.000000</td>\n",
       "      <td>0.000000</td>\n",
       "      <td>0.000000</td>\n",
       "      <td>0.000000</td>\n",
       "    </tr>\n",
       "    <tr>\n",
       "      <th>3</th>\n",
       "      <td>0.0</td>\n",
       "      <td>0.028343</td>\n",
       "      <td>0.000000</td>\n",
       "      <td>0.000000</td>\n",
       "      <td>0.000000</td>\n",
       "      <td>0.000000</td>\n",
       "      <td>0.043918</td>\n",
       "      <td>0.0</td>\n",
       "      <td>0.0</td>\n",
       "      <td>0.000000</td>\n",
       "      <td>...</td>\n",
       "      <td>0.0</td>\n",
       "      <td>0.047134</td>\n",
       "      <td>0.021194</td>\n",
       "      <td>0.000000</td>\n",
       "      <td>0.084209</td>\n",
       "      <td>0.0</td>\n",
       "      <td>0.000000</td>\n",
       "      <td>0.042105</td>\n",
       "      <td>0.042105</td>\n",
       "      <td>0.000000</td>\n",
       "    </tr>\n",
       "    <tr>\n",
       "      <th>4</th>\n",
       "      <td>0.0</td>\n",
       "      <td>0.000000</td>\n",
       "      <td>0.000000</td>\n",
       "      <td>0.000000</td>\n",
       "      <td>0.033629</td>\n",
       "      <td>0.000000</td>\n",
       "      <td>0.000000</td>\n",
       "      <td>0.0</td>\n",
       "      <td>0.0</td>\n",
       "      <td>0.000000</td>\n",
       "      <td>...</td>\n",
       "      <td>0.0</td>\n",
       "      <td>0.043495</td>\n",
       "      <td>0.000000</td>\n",
       "      <td>0.000000</td>\n",
       "      <td>0.000000</td>\n",
       "      <td>0.0</td>\n",
       "      <td>0.000000</td>\n",
       "      <td>0.000000</td>\n",
       "      <td>0.000000</td>\n",
       "      <td>0.040528</td>\n",
       "    </tr>\n",
       "  </tbody>\n",
       "</table>\n",
       "<p>5 rows × 2725 columns</p>\n",
       "</div>"
      ],
      "text/plain": [
       "   abandoned   ability      able  able get  abortion  abundance  abundant  \\\n",
       "0        0.0  0.039964  0.014636  0.032412  0.000000   0.032412  0.000000   \n",
       "1        0.0  0.026071  0.009548  0.000000  0.000000   0.000000  0.000000   \n",
       "2        0.0  0.000000  0.000000  0.000000  0.018467   0.000000  0.022255   \n",
       "3        0.0  0.028343  0.000000  0.000000  0.000000   0.000000  0.043918   \n",
       "4        0.0  0.000000  0.000000  0.000000  0.033629   0.000000  0.000000   \n",
       "\n",
       "   abuse  academy  accelerate  ...  yesterday       yet     young  \\\n",
       "0    0.0      0.0    0.027506  ...        0.0  0.000000  0.044825   \n",
       "1    0.0      0.0    0.000000  ...        0.0  0.000000  0.029242   \n",
       "2    0.0      0.0    0.000000  ...        0.0  0.000000  0.010739   \n",
       "3    0.0      0.0    0.000000  ...        0.0  0.047134  0.021194   \n",
       "4    0.0      0.0    0.000000  ...        0.0  0.043495  0.000000   \n",
       "\n",
       "   young people  youngest  youth      zero       zip  zip code    zoning  \n",
       "0      0.064720  0.029684    0.0  0.000000  0.029684  0.029684  0.000000  \n",
       "1      0.014074  0.000000    0.0  0.017944  0.000000  0.000000  0.000000  \n",
       "2      0.000000  0.000000    0.0  0.000000  0.000000  0.000000  0.000000  \n",
       "3      0.000000  0.084209    0.0  0.000000  0.042105  0.042105  0.000000  \n",
       "4      0.000000  0.000000    0.0  0.000000  0.000000  0.000000  0.040528  \n",
       "\n",
       "[5 rows x 2725 columns]"
      ]
     },
     "execution_count": 105,
     "metadata": {},
     "output_type": "execute_result"
    }
   ],
   "source": [
    "# get most frequent terms\n",
    "get_top_terms(dtm4, tfidf_vectorizer4, 20)  # a lot more meaningful\n",
    "\n",
    "# create df\n",
    "df4 = convert_to_term_df(dtm4, tfidf_vectorizer4)\n",
    "df4.head() "
   ]
  },
  {
   "cell_type": "code",
   "execution_count": 112,
   "id": "8c0844c3",
   "metadata": {
    "hidden": true
   },
   "outputs": [],
   "source": [
    "# df4.to_csv('sos_2023_dtm.csv', index = False)"
   ]
  },
  {
   "cell_type": "markdown",
   "id": "26cbac21",
   "metadata": {
    "heading_collapsed": true,
    "hidden": true
   },
   "source": [
    "#### + sublinear tf"
   ]
  },
  {
   "cell_type": "code",
   "execution_count": 111,
   "id": "306d1957",
   "metadata": {
    "hidden": true
   },
   "outputs": [
    {
     "data": {
      "text/plain": [
       "(50, 2725)"
      ]
     },
     "execution_count": 111,
     "metadata": {},
     "output_type": "execute_result"
    }
   ],
   "source": [
    "tfidf_vectorizer5 = TfidfVectorizer(stop_words=stpwrd, min_df=6, max_df=0.80, ngram_range=(1,2), \n",
    "                                    token_pattern= r'\\b[a-zA-Z]{3,}\\b', sublinear_tf=True)\n",
    "dtm5 = tfidf_vectorizer5.fit_transform(sos.text)\n",
    "dtm5.shape  # (50, 2725) # no effect on term count"
   ]
  },
  {
   "cell_type": "code",
   "execution_count": 118,
   "id": "acefff58",
   "metadata": {
    "hidden": true
   },
   "outputs": [
    {
     "data": {
      "text/plain": [
       "array(['schools', 'funding', 'kids', 'housing', 'energy', 'workforce',\n",
       "       'program', 'billion', 'investments', 'system', 'legislature',\n",
       "       'lives', 'local', 'teachers', 'plan', 'ever', 'going', 'forward',\n",
       "       'dollars', 'hard'], dtype=object)"
      ]
     },
     "execution_count": 118,
     "metadata": {},
     "output_type": "execute_result"
    },
    {
     "data": {
      "text/html": [
       "<div>\n",
       "<style scoped>\n",
       "    .dataframe tbody tr th:only-of-type {\n",
       "        vertical-align: middle;\n",
       "    }\n",
       "\n",
       "    .dataframe tbody tr th {\n",
       "        vertical-align: top;\n",
       "    }\n",
       "\n",
       "    .dataframe thead th {\n",
       "        text-align: right;\n",
       "    }\n",
       "</style>\n",
       "<table border=\"1\" class=\"dataframe\">\n",
       "  <thead>\n",
       "    <tr style=\"text-align: right;\">\n",
       "      <th></th>\n",
       "      <th>abandoned</th>\n",
       "      <th>ability</th>\n",
       "      <th>able</th>\n",
       "      <th>able get</th>\n",
       "      <th>abortion</th>\n",
       "      <th>abundance</th>\n",
       "      <th>abundant</th>\n",
       "      <th>abuse</th>\n",
       "      <th>academy</th>\n",
       "      <th>accelerate</th>\n",
       "      <th>...</th>\n",
       "      <th>yesterday</th>\n",
       "      <th>yet</th>\n",
       "      <th>young</th>\n",
       "      <th>young people</th>\n",
       "      <th>youngest</th>\n",
       "      <th>youth</th>\n",
       "      <th>zero</th>\n",
       "      <th>zip</th>\n",
       "      <th>zip code</th>\n",
       "      <th>zoning</th>\n",
       "    </tr>\n",
       "  </thead>\n",
       "  <tbody>\n",
       "    <tr>\n",
       "      <th>0</th>\n",
       "      <td>0.0</td>\n",
       "      <td>0.044638</td>\n",
       "      <td>0.019311</td>\n",
       "      <td>0.042764</td>\n",
       "      <td>0.000000</td>\n",
       "      <td>0.042764</td>\n",
       "      <td>0.000000</td>\n",
       "      <td>0.0</td>\n",
       "      <td>0.0</td>\n",
       "      <td>0.036291</td>\n",
       "      <td>...</td>\n",
       "      <td>0.0</td>\n",
       "      <td>0.00000</td>\n",
       "      <td>0.041372</td>\n",
       "      <td>0.059734</td>\n",
       "      <td>0.039165</td>\n",
       "      <td>0.0</td>\n",
       "      <td>0.000000</td>\n",
       "      <td>0.039165</td>\n",
       "      <td>0.039165</td>\n",
       "      <td>0.000000</td>\n",
       "    </tr>\n",
       "    <tr>\n",
       "      <th>1</th>\n",
       "      <td>0.0</td>\n",
       "      <td>0.032614</td>\n",
       "      <td>0.014109</td>\n",
       "      <td>0.000000</td>\n",
       "      <td>0.000000</td>\n",
       "      <td>0.000000</td>\n",
       "      <td>0.000000</td>\n",
       "      <td>0.0</td>\n",
       "      <td>0.0</td>\n",
       "      <td>0.000000</td>\n",
       "      <td>...</td>\n",
       "      <td>0.0</td>\n",
       "      <td>0.00000</td>\n",
       "      <td>0.030228</td>\n",
       "      <td>0.020796</td>\n",
       "      <td>0.000000</td>\n",
       "      <td>0.0</td>\n",
       "      <td>0.026515</td>\n",
       "      <td>0.000000</td>\n",
       "      <td>0.000000</td>\n",
       "      <td>0.000000</td>\n",
       "    </tr>\n",
       "    <tr>\n",
       "      <th>2</th>\n",
       "      <td>0.0</td>\n",
       "      <td>0.000000</td>\n",
       "      <td>0.000000</td>\n",
       "      <td>0.000000</td>\n",
       "      <td>0.026999</td>\n",
       "      <td>0.000000</td>\n",
       "      <td>0.032537</td>\n",
       "      <td>0.0</td>\n",
       "      <td>0.0</td>\n",
       "      <td>0.000000</td>\n",
       "      <td>...</td>\n",
       "      <td>0.0</td>\n",
       "      <td>0.00000</td>\n",
       "      <td>0.015701</td>\n",
       "      <td>0.000000</td>\n",
       "      <td>0.000000</td>\n",
       "      <td>0.0</td>\n",
       "      <td>0.000000</td>\n",
       "      <td>0.000000</td>\n",
       "      <td>0.000000</td>\n",
       "      <td>0.000000</td>\n",
       "    </tr>\n",
       "    <tr>\n",
       "      <th>3</th>\n",
       "      <td>0.0</td>\n",
       "      <td>0.033845</td>\n",
       "      <td>0.000000</td>\n",
       "      <td>0.000000</td>\n",
       "      <td>0.000000</td>\n",
       "      <td>0.000000</td>\n",
       "      <td>0.052445</td>\n",
       "      <td>0.0</td>\n",
       "      <td>0.0</td>\n",
       "      <td>0.000000</td>\n",
       "      <td>...</td>\n",
       "      <td>0.0</td>\n",
       "      <td>0.04765</td>\n",
       "      <td>0.025308</td>\n",
       "      <td>0.000000</td>\n",
       "      <td>0.085131</td>\n",
       "      <td>0.0</td>\n",
       "      <td>0.000000</td>\n",
       "      <td>0.050280</td>\n",
       "      <td>0.050280</td>\n",
       "      <td>0.000000</td>\n",
       "    </tr>\n",
       "    <tr>\n",
       "      <th>4</th>\n",
       "      <td>0.0</td>\n",
       "      <td>0.000000</td>\n",
       "      <td>0.000000</td>\n",
       "      <td>0.000000</td>\n",
       "      <td>0.042852</td>\n",
       "      <td>0.000000</td>\n",
       "      <td>0.000000</td>\n",
       "      <td>0.0</td>\n",
       "      <td>0.0</td>\n",
       "      <td>0.000000</td>\n",
       "      <td>...</td>\n",
       "      <td>0.0</td>\n",
       "      <td>0.04692</td>\n",
       "      <td>0.000000</td>\n",
       "      <td>0.000000</td>\n",
       "      <td>0.000000</td>\n",
       "      <td>0.0</td>\n",
       "      <td>0.000000</td>\n",
       "      <td>0.000000</td>\n",
       "      <td>0.000000</td>\n",
       "      <td>0.051642</td>\n",
       "    </tr>\n",
       "  </tbody>\n",
       "</table>\n",
       "<p>5 rows × 2725 columns</p>\n",
       "</div>"
      ],
      "text/plain": [
       "   abandoned   ability      able  able get  abortion  abundance  abundant  \\\n",
       "0        0.0  0.044638  0.019311  0.042764  0.000000   0.042764  0.000000   \n",
       "1        0.0  0.032614  0.014109  0.000000  0.000000   0.000000  0.000000   \n",
       "2        0.0  0.000000  0.000000  0.000000  0.026999   0.000000  0.032537   \n",
       "3        0.0  0.033845  0.000000  0.000000  0.000000   0.000000  0.052445   \n",
       "4        0.0  0.000000  0.000000  0.000000  0.042852   0.000000  0.000000   \n",
       "\n",
       "   abuse  academy  accelerate  ...  yesterday      yet     young  \\\n",
       "0    0.0      0.0    0.036291  ...        0.0  0.00000  0.041372   \n",
       "1    0.0      0.0    0.000000  ...        0.0  0.00000  0.030228   \n",
       "2    0.0      0.0    0.000000  ...        0.0  0.00000  0.015701   \n",
       "3    0.0      0.0    0.000000  ...        0.0  0.04765  0.025308   \n",
       "4    0.0      0.0    0.000000  ...        0.0  0.04692  0.000000   \n",
       "\n",
       "   young people  youngest  youth      zero       zip  zip code    zoning  \n",
       "0      0.059734  0.039165    0.0  0.000000  0.039165  0.039165  0.000000  \n",
       "1      0.020796  0.000000    0.0  0.026515  0.000000  0.000000  0.000000  \n",
       "2      0.000000  0.000000    0.0  0.000000  0.000000  0.000000  0.000000  \n",
       "3      0.000000  0.085131    0.0  0.000000  0.050280  0.050280  0.000000  \n",
       "4      0.000000  0.000000    0.0  0.000000  0.000000  0.000000  0.051642  \n",
       "\n",
       "[5 rows x 2725 columns]"
      ]
     },
     "execution_count": 118,
     "metadata": {},
     "output_type": "execute_result"
    }
   ],
   "source": [
    "# get most frequent terms\n",
    "get_top_terms(dtm5, tfidf_vectorizer5, 20)  \n",
    "\n",
    "# create df\n",
    "df5 = convert_to_term_df(dtm5, tfidf_vectorizer5) # very little impact \n",
    "df5.head() "
   ]
  },
  {
   "cell_type": "markdown",
   "id": "16d31100",
   "metadata": {
    "heading_collapsed": true,
    "hidden": true
   },
   "source": [
    "#### + lemmonization"
   ]
  },
  {
   "cell_type": "code",
   "execution_count": 119,
   "id": "0f913d93",
   "metadata": {
    "hidden": true
   },
   "outputs": [
    {
     "name": "stderr",
     "output_type": "stream",
     "text": [
      "[nltk_data] Downloading package wordnet to\n",
      "[nltk_data]     /Users/maggiesullivan/nltk_data...\n",
      "[nltk_data]   Package wordnet is already up-to-date!\n"
     ]
    },
    {
     "data": {
      "text/plain": [
       "True"
      ]
     },
     "execution_count": 119,
     "metadata": {},
     "output_type": "execute_result"
    },
    {
     "name": "stderr",
     "output_type": "stream",
     "text": [
      "[nltk_data] Downloading package omw-1.4 to\n",
      "[nltk_data]     /Users/maggiesullivan/nltk_data...\n",
      "[nltk_data]   Package omw-1.4 is already up-to-date!\n"
     ]
    },
    {
     "data": {
      "text/plain": [
       "True"
      ]
     },
     "execution_count": 119,
     "metadata": {},
     "output_type": "execute_result"
    }
   ],
   "source": [
    "nltk.download('wordnet')\n",
    "nltk.download('omw-1.4')"
   ]
  },
  {
   "cell_type": "code",
   "execution_count": 120,
   "id": "d2ecb5c8",
   "metadata": {
    "hidden": true
   },
   "outputs": [],
   "source": [
    "# https://stackoverflow.com/questions/47423854/sklearn-adding-lemmatizer-to-countvectorizer\n",
    "\n",
    "class LemmaTokenizer:\n",
    "    def __init__(self):\n",
    "        self.wnl = WordNetLemmatizer()\n",
    "    def __call__(self, doc):\n",
    "        regex_num_ponctuation = '(\\d+)|([^\\w\\s])'\n",
    "        regex_little_words = r'(\\b\\w{1,2}\\b)'\n",
    "        return [self.wnl.lemmatize(t) for t in word_tokenize(doc) \n",
    "                if not re.search(regex_num_ponctuation, t) and not re.search(regex_little_words, t)]"
   ]
  },
  {
   "cell_type": "code",
   "execution_count": 122,
   "id": "3e248e2e",
   "metadata": {
    "hidden": true
   },
   "outputs": [
    {
     "data": {
      "text/plain": [
       "(50, 2511)"
      ]
     },
     "execution_count": 122,
     "metadata": {},
     "output_type": "execute_result"
    }
   ],
   "source": [
    "tfidf_vectorizer6 = TfidfVectorizer(stop_words=stpwrd, min_df=6, max_df=0.80, ngram_range=(1,2), \n",
    "                                    token_pattern= r'\\b[a-zA-Z]{3,}\\b', sublinear_tf=True, tokenizer=LemmaTokenizer())\n",
    "dtm6 = tfidf_vectorizer6.fit_transform(sos.text)\n",
    "dtm6.shape  # (50, 2511) # shrunk term count"
   ]
  },
  {
   "cell_type": "code",
   "execution_count": 124,
   "id": "885b9702",
   "metadata": {
    "hidden": true
   },
   "outputs": [
    {
     "data": {
      "text/plain": [
       "array(['program', 'kid', 'funding', 'energy', 'housing', 'workforce',\n",
       "       'dollar', 'plan', 'legislature', 'local', 'county', 'going',\n",
       "       'cost', 'access', 'ever', 'ensure', 'create', 'high', 'water',\n",
       "       'effort'], dtype=object)"
      ]
     },
     "execution_count": 124,
     "metadata": {},
     "output_type": "execute_result"
    },
    {
     "data": {
      "text/html": [
       "<div>\n",
       "<style scoped>\n",
       "    .dataframe tbody tr th:only-of-type {\n",
       "        vertical-align: middle;\n",
       "    }\n",
       "\n",
       "    .dataframe tbody tr th {\n",
       "        vertical-align: top;\n",
       "    }\n",
       "\n",
       "    .dataframe thead th {\n",
       "        text-align: right;\n",
       "    }\n",
       "</style>\n",
       "<table border=\"1\" class=\"dataframe\">\n",
       "  <thead>\n",
       "    <tr style=\"text-align: right;\">\n",
       "      <th></th>\n",
       "      <th>ability</th>\n",
       "      <th>able</th>\n",
       "      <th>able get</th>\n",
       "      <th>abortion</th>\n",
       "      <th>abundance</th>\n",
       "      <th>abundant</th>\n",
       "      <th>abuse</th>\n",
       "      <th>academic</th>\n",
       "      <th>academy</th>\n",
       "      <th>accelerate</th>\n",
       "      <th>...</th>\n",
       "      <th>yes</th>\n",
       "      <th>yesterday</th>\n",
       "      <th>yet</th>\n",
       "      <th>young</th>\n",
       "      <th>young people</th>\n",
       "      <th>youngest</th>\n",
       "      <th>youth</th>\n",
       "      <th>zip</th>\n",
       "      <th>zip code</th>\n",
       "      <th>zoning</th>\n",
       "    </tr>\n",
       "  </thead>\n",
       "  <tbody>\n",
       "    <tr>\n",
       "      <th>0</th>\n",
       "      <td>0.043522</td>\n",
       "      <td>0.019762</td>\n",
       "      <td>0.043764</td>\n",
       "      <td>0.000000</td>\n",
       "      <td>0.043764</td>\n",
       "      <td>0.000000</td>\n",
       "      <td>0.0</td>\n",
       "      <td>0.0</td>\n",
       "      <td>0.0</td>\n",
       "      <td>0.037139</td>\n",
       "      <td>...</td>\n",
       "      <td>0.000000</td>\n",
       "      <td>0.0</td>\n",
       "      <td>0.000000</td>\n",
       "      <td>0.042339</td>\n",
       "      <td>0.061130</td>\n",
       "      <td>0.040081</td>\n",
       "      <td>0.000000</td>\n",
       "      <td>0.040081</td>\n",
       "      <td>0.040081</td>\n",
       "      <td>0.000000</td>\n",
       "    </tr>\n",
       "    <tr>\n",
       "      <th>1</th>\n",
       "      <td>0.031896</td>\n",
       "      <td>0.014483</td>\n",
       "      <td>0.000000</td>\n",
       "      <td>0.000000</td>\n",
       "      <td>0.000000</td>\n",
       "      <td>0.000000</td>\n",
       "      <td>0.0</td>\n",
       "      <td>0.0</td>\n",
       "      <td>0.0</td>\n",
       "      <td>0.000000</td>\n",
       "      <td>...</td>\n",
       "      <td>0.041699</td>\n",
       "      <td>0.0</td>\n",
       "      <td>0.000000</td>\n",
       "      <td>0.031029</td>\n",
       "      <td>0.021348</td>\n",
       "      <td>0.000000</td>\n",
       "      <td>0.020797</td>\n",
       "      <td>0.000000</td>\n",
       "      <td>0.000000</td>\n",
       "      <td>0.000000</td>\n",
       "    </tr>\n",
       "    <tr>\n",
       "      <th>2</th>\n",
       "      <td>0.000000</td>\n",
       "      <td>0.000000</td>\n",
       "      <td>0.000000</td>\n",
       "      <td>0.027994</td>\n",
       "      <td>0.000000</td>\n",
       "      <td>0.033736</td>\n",
       "      <td>0.0</td>\n",
       "      <td>0.0</td>\n",
       "      <td>0.0</td>\n",
       "      <td>0.000000</td>\n",
       "      <td>...</td>\n",
       "      <td>0.000000</td>\n",
       "      <td>0.0</td>\n",
       "      <td>0.000000</td>\n",
       "      <td>0.016280</td>\n",
       "      <td>0.000000</td>\n",
       "      <td>0.000000</td>\n",
       "      <td>0.000000</td>\n",
       "      <td>0.000000</td>\n",
       "      <td>0.000000</td>\n",
       "      <td>0.000000</td>\n",
       "    </tr>\n",
       "    <tr>\n",
       "      <th>3</th>\n",
       "      <td>0.033147</td>\n",
       "      <td>0.000000</td>\n",
       "      <td>0.000000</td>\n",
       "      <td>0.000000</td>\n",
       "      <td>0.000000</td>\n",
       "      <td>0.053911</td>\n",
       "      <td>0.0</td>\n",
       "      <td>0.0</td>\n",
       "      <td>0.0</td>\n",
       "      <td>0.000000</td>\n",
       "      <td>...</td>\n",
       "      <td>0.000000</td>\n",
       "      <td>0.0</td>\n",
       "      <td>0.048982</td>\n",
       "      <td>0.026016</td>\n",
       "      <td>0.000000</td>\n",
       "      <td>0.087511</td>\n",
       "      <td>0.000000</td>\n",
       "      <td>0.051685</td>\n",
       "      <td>0.051685</td>\n",
       "      <td>0.000000</td>\n",
       "    </tr>\n",
       "    <tr>\n",
       "      <th>4</th>\n",
       "      <td>0.000000</td>\n",
       "      <td>0.000000</td>\n",
       "      <td>0.000000</td>\n",
       "      <td>0.043944</td>\n",
       "      <td>0.000000</td>\n",
       "      <td>0.000000</td>\n",
       "      <td>0.0</td>\n",
       "      <td>0.0</td>\n",
       "      <td>0.0</td>\n",
       "      <td>0.000000</td>\n",
       "      <td>...</td>\n",
       "      <td>0.072073</td>\n",
       "      <td>0.0</td>\n",
       "      <td>0.048115</td>\n",
       "      <td>0.000000</td>\n",
       "      <td>0.000000</td>\n",
       "      <td>0.000000</td>\n",
       "      <td>0.000000</td>\n",
       "      <td>0.000000</td>\n",
       "      <td>0.000000</td>\n",
       "      <td>0.052957</td>\n",
       "    </tr>\n",
       "  </tbody>\n",
       "</table>\n",
       "<p>5 rows × 2511 columns</p>\n",
       "</div>"
      ],
      "text/plain": [
       "    ability      able  able get  abortion  abundance  abundant  abuse  \\\n",
       "0  0.043522  0.019762  0.043764  0.000000   0.043764  0.000000    0.0   \n",
       "1  0.031896  0.014483  0.000000  0.000000   0.000000  0.000000    0.0   \n",
       "2  0.000000  0.000000  0.000000  0.027994   0.000000  0.033736    0.0   \n",
       "3  0.033147  0.000000  0.000000  0.000000   0.000000  0.053911    0.0   \n",
       "4  0.000000  0.000000  0.000000  0.043944   0.000000  0.000000    0.0   \n",
       "\n",
       "   academic  academy  accelerate  ...       yes  yesterday       yet  \\\n",
       "0       0.0      0.0    0.037139  ...  0.000000        0.0  0.000000   \n",
       "1       0.0      0.0    0.000000  ...  0.041699        0.0  0.000000   \n",
       "2       0.0      0.0    0.000000  ...  0.000000        0.0  0.000000   \n",
       "3       0.0      0.0    0.000000  ...  0.000000        0.0  0.048982   \n",
       "4       0.0      0.0    0.000000  ...  0.072073        0.0  0.048115   \n",
       "\n",
       "      young  young people  youngest     youth       zip  zip code    zoning  \n",
       "0  0.042339      0.061130  0.040081  0.000000  0.040081  0.040081  0.000000  \n",
       "1  0.031029      0.021348  0.000000  0.020797  0.000000  0.000000  0.000000  \n",
       "2  0.016280      0.000000  0.000000  0.000000  0.000000  0.000000  0.000000  \n",
       "3  0.026016      0.000000  0.087511  0.000000  0.051685  0.051685  0.000000  \n",
       "4  0.000000      0.000000  0.000000  0.000000  0.000000  0.000000  0.052957  \n",
       "\n",
       "[5 rows x 2511 columns]"
      ]
     },
     "execution_count": 124,
     "metadata": {},
     "output_type": "execute_result"
    }
   ],
   "source": [
    "# get most frequent terms\n",
    "get_top_terms(dtm6, tfidf_vectorizer6, 20) \n",
    "\n",
    "# create df\n",
    "df6 = convert_to_term_df(dtm6, tfidf_vectorizer6)\n",
    "df6.head() "
   ]
  },
  {
   "cell_type": "markdown",
   "id": "bc2d1ef8",
   "metadata": {},
   "source": [
    "## PCA "
   ]
  },
  {
   "cell_type": "markdown",
   "id": "d438fc0e",
   "metadata": {
    "heading_collapsed": true
   },
   "source": [
    "### For All 50 States"
   ]
  },
  {
   "cell_type": "code",
   "execution_count": null,
   "id": "b5520124",
   "metadata": {
    "hidden": true
   },
   "outputs": [],
   "source": []
  },
  {
   "cell_type": "code",
   "execution_count": 139,
   "id": "7d72d74f",
   "metadata": {
    "hidden": true
   },
   "outputs": [],
   "source": [
    "# df4 is most interpretable based on the frequent terms output \n",
    "x = df4.copy()"
   ]
  },
  {
   "cell_type": "code",
   "execution_count": 142,
   "id": "fbc1707c",
   "metadata": {
    "hidden": true
   },
   "outputs": [
    {
     "data": {
      "text/plain": [
       "PCA()"
      ]
     },
     "execution_count": 142,
     "metadata": {},
     "output_type": "execute_result"
    }
   ],
   "source": [
    "# generate principle components\n",
    "pca = PCA()\n",
    "pca.fit(x)\n",
    "# pca.explained_variance_ratio_"
   ]
  },
  {
   "cell_type": "code",
   "execution_count": 143,
   "id": "c38f30a0",
   "metadata": {
    "hidden": true
   },
   "outputs": [
    {
     "name": "stdout",
     "output_type": "stream",
     "text": [
      "First 5 PC explain 0.178 of variance in full dataset\n"
     ]
    }
   ],
   "source": [
    "# identify variance \n",
    "pc_variance = list(pca.explained_variance_ratio_)\n",
    "pc_variance_top5 = sum(pc_variance[:5])\n",
    "print('First 5 PC explain '+ str(round(pc_variance_top5, 4)) + \n",
    "      ' of variance in full dataset')"
   ]
  },
  {
   "cell_type": "code",
   "execution_count": 144,
   "id": "6b75568b",
   "metadata": {
    "hidden": true
   },
   "outputs": [
    {
     "name": "stdout",
     "output_type": "stream",
     "text": [
      "PC 1 explains 0.0454 of variance in full dataset\n",
      "PC 2 explains 0.0415 of variance in full dataset\n",
      "PC 3 explains 0.0326 of variance in full dataset\n",
      "PC 4 explains 0.0301 of variance in full dataset\n",
      "PC 5 explains 0.0284 of variance in full dataset\n"
     ]
    }
   ],
   "source": [
    "# explore variance explained of first 5 PCs\n",
    "pc1_var = sum(pc_variance[0:1])\n",
    "print('PC 1 explains '+ str(round(pc1_var, 4)) + ' of variance in full dataset')\n",
    "pc2_var = sum(pc_variance[1:2])\n",
    "print('PC 2 explains '+ str(round(pc2_var, 4)) + ' of variance in full dataset')\n",
    "pc3_var = sum(pc_variance[2:3])\n",
    "print('PC 3 explains '+ str(round(pc3_var, 4)) + ' of variance in full dataset')\n",
    "pc4_var = sum(pc_variance[3:4])\n",
    "print('PC 4 explains '+ str(round(pc4_var, 4)) + ' of variance in full dataset')\n",
    "pc5_var = sum(pc_variance[4:5])\n",
    "print('PC 5 explains '+ str(round(pc5_var, 4)) + ' of variance in full dataset')"
   ]
  },
  {
   "cell_type": "code",
   "execution_count": 145,
   "id": "eb51f116",
   "metadata": {
    "hidden": true
   },
   "outputs": [
    {
     "data": {
      "text/html": [
       "<div>\n",
       "<style scoped>\n",
       "    .dataframe tbody tr th:only-of-type {\n",
       "        vertical-align: middle;\n",
       "    }\n",
       "\n",
       "    .dataframe tbody tr th {\n",
       "        vertical-align: top;\n",
       "    }\n",
       "\n",
       "    .dataframe thead th {\n",
       "        text-align: right;\n",
       "    }\n",
       "</style>\n",
       "<table border=\"1\" class=\"dataframe\">\n",
       "  <thead>\n",
       "    <tr style=\"text-align: right;\">\n",
       "      <th></th>\n",
       "      <th>PC1</th>\n",
       "      <th>PC2</th>\n",
       "      <th>PC3</th>\n",
       "      <th>PC4</th>\n",
       "      <th>PC5</th>\n",
       "    </tr>\n",
       "  </thead>\n",
       "  <tbody>\n",
       "    <tr>\n",
       "      <th>abandoned</th>\n",
       "      <td>-0.008747</td>\n",
       "      <td>0.003246</td>\n",
       "      <td>-0.000436</td>\n",
       "      <td>-0.000132</td>\n",
       "      <td>0.004973</td>\n",
       "    </tr>\n",
       "    <tr>\n",
       "      <th>ability</th>\n",
       "      <td>-0.025835</td>\n",
       "      <td>-0.002644</td>\n",
       "      <td>0.005020</td>\n",
       "      <td>-0.001831</td>\n",
       "      <td>-0.013152</td>\n",
       "    </tr>\n",
       "    <tr>\n",
       "      <th>able</th>\n",
       "      <td>-0.021897</td>\n",
       "      <td>-0.009755</td>\n",
       "      <td>-0.023857</td>\n",
       "      <td>-0.002123</td>\n",
       "      <td>0.024621</td>\n",
       "    </tr>\n",
       "    <tr>\n",
       "      <th>able get</th>\n",
       "      <td>-0.005550</td>\n",
       "      <td>-0.003673</td>\n",
       "      <td>-0.009755</td>\n",
       "      <td>0.008312</td>\n",
       "      <td>0.007050</td>\n",
       "    </tr>\n",
       "    <tr>\n",
       "      <th>abortion</th>\n",
       "      <td>-0.000270</td>\n",
       "      <td>-0.001350</td>\n",
       "      <td>-0.003607</td>\n",
       "      <td>-0.002278</td>\n",
       "      <td>0.008468</td>\n",
       "    </tr>\n",
       "  </tbody>\n",
       "</table>\n",
       "</div>"
      ],
      "text/plain": [
       "                PC1       PC2       PC3       PC4       PC5\n",
       "abandoned -0.008747  0.003246 -0.000436 -0.000132  0.004973\n",
       "ability   -0.025835 -0.002644  0.005020 -0.001831 -0.013152\n",
       "able      -0.021897 -0.009755 -0.023857 -0.002123  0.024621\n",
       "able get  -0.005550 -0.003673 -0.009755  0.008312  0.007050\n",
       "abortion  -0.000270 -0.001350 -0.003607 -0.002278  0.008468"
      ]
     },
     "execution_count": 145,
     "metadata": {},
     "output_type": "execute_result"
    }
   ],
   "source": [
    "# create df of top 5 PCs\n",
    "factor_loadings = pca.components_  #extract the component loadings\n",
    "matrix = np.transpose(factor_loadings) #flip the rows and cols \n",
    "fl = pd.DataFrame(data = matrix, index = x.columns)\n",
    "top_5 = fl.iloc[:,0:5]\n",
    "top_5.columns = ['PC1', 'PC2', 'PC3', 'PC4', 'PC5']\n",
    "top_5.head()"
   ]
  },
  {
   "cell_type": "code",
   "execution_count": 148,
   "id": "085dbbac",
   "metadata": {
    "hidden": true
   },
   "outputs": [],
   "source": [
    "# Isolate the top 20 terms for each PC\n",
    "PC1_20 = top_5.sort_values(by = 'PC1', ascending = False).head(20)\n",
    "PC2_20 = top_5.sort_values(by = 'PC2', ascending = False).head(20)\n",
    "PC3_20 = top_5.sort_values(by = 'PC3', ascending = False).head(20)\n",
    "PC4_20 = top_5.sort_values(by = 'PC4', ascending = False).head(20)\n",
    "PC5_20 = top_5.sort_values(by = 'PC5', ascending = False).head(20)"
   ]
  },
  {
   "cell_type": "code",
   "execution_count": 149,
   "id": "64a0db87",
   "metadata": {
    "hidden": true
   },
   "outputs": [
    {
     "data": {
      "text/plain": [
       "['freedom',\n",
       " 'america',\n",
       " 'liberty',\n",
       " 'citizens',\n",
       " 'god',\n",
       " 'power',\n",
       " 'delivered',\n",
       " 'free',\n",
       " 'politicians',\n",
       " 'fire',\n",
       " 'love',\n",
       " 'promised',\n",
       " 'lives',\n",
       " 'got',\n",
       " 'reject',\n",
       " 'fear',\n",
       " 'father',\n",
       " 'inaugural',\n",
       " 'earth',\n",
       " 'democracy']"
      ]
     },
     "execution_count": 149,
     "metadata": {},
     "output_type": "execute_result"
    },
    {
     "data": {
      "text/plain": [
       "['housing',\n",
       " 'climate',\n",
       " 'crisis',\n",
       " 'costs',\n",
       " 'homelessness',\n",
       " 'gun',\n",
       " 'affordable',\n",
       " 'homes',\n",
       " 'climate change',\n",
       " 'housing crisis',\n",
       " 'clean',\n",
       " 'energy',\n",
       " 'units',\n",
       " 'beds',\n",
       " 'homeless',\n",
       " 'action',\n",
       " 'mental',\n",
       " 'affordable housing',\n",
       " 'towns',\n",
       " 'shared']"
      ]
     },
     "execution_count": 149,
     "metadata": {},
     "output_type": "execute_result"
    },
    {
     "data": {
      "text/plain": [
       "['energy',\n",
       " 'biden administration',\n",
       " 'oil',\n",
       " 'innovation',\n",
       " 'freedom',\n",
       " 'policies',\n",
       " 'carbon',\n",
       " 'industries',\n",
       " 'delivered',\n",
       " 'security',\n",
       " 'critical',\n",
       " 'agriculture',\n",
       " 'advanced',\n",
       " 'biden',\n",
       " 'fire',\n",
       " 'federal government',\n",
       " 'meant',\n",
       " 'markets',\n",
       " 'winter',\n",
       " 'lead nation']"
      ]
     },
     "execution_count": 149,
     "metadata": {},
     "output_type": "execute_result"
    },
    {
     "data": {
      "text/plain": [
       "['property',\n",
       " 'kids',\n",
       " 'taxes',\n",
       " 'property taxes',\n",
       " 'property tax',\n",
       " 'relief',\n",
       " 'tax relief',\n",
       " 'million dollars',\n",
       " 'page',\n",
       " 'dollars',\n",
       " 'percent',\n",
       " 'cuts',\n",
       " 'water',\n",
       " 'energy',\n",
       " 'income',\n",
       " 'legislature',\n",
       " 'fentanyl',\n",
       " 'american dream',\n",
       " 'tax cuts',\n",
       " 'plan']"
      ]
     },
     "execution_count": 149,
     "metadata": {},
     "output_type": "execute_result"
    },
    {
     "data": {
      "text/plain": [
       "['freedom',\n",
       " 'child care',\n",
       " 'gun',\n",
       " 'lives',\n",
       " 'clean',\n",
       " 'invests',\n",
       " 'mental',\n",
       " 'mental health',\n",
       " 'investments',\n",
       " 'access',\n",
       " 'health care',\n",
       " 'guns',\n",
       " 'gun violence',\n",
       " 'america',\n",
       " 'easier',\n",
       " 'services',\n",
       " 'clean energy',\n",
       " 'universal',\n",
       " 'responders',\n",
       " 'first responders']"
      ]
     },
     "execution_count": 149,
     "metadata": {},
     "output_type": "execute_result"
    }
   ],
   "source": [
    "# Explore the top terms \n",
    "PC1_20_terms = list(PC1_20.index)\n",
    "PC1_20_terms\n",
    "#religious and patriotic terms (america, god etc)\n",
    "\n",
    "PC2_20_terms = list(PC2_20.index)\n",
    "PC2_20_terms\n",
    "# affordable housing and homelessness \n",
    "\n",
    "PC3_20_terms = list(PC3_20.index)\n",
    "PC3_20_terms\n",
    "# energy policy \n",
    "\n",
    "PC4_20_terms = list(PC4_20.index)\n",
    "PC4_20_terms\n",
    "# taxes \n",
    "\n",
    "PC5_20_terms = list(PC5_20.index)\n",
    "PC5_20_terms\n",
    "# mental health and gun violence "
   ]
  },
  {
   "cell_type": "markdown",
   "id": "ed0b9200",
   "metadata": {
    "heading_collapsed": true
   },
   "source": [
    "### Create Function"
   ]
  },
  {
   "cell_type": "code",
   "execution_count": 163,
   "id": "7c2bdd15",
   "metadata": {
    "hidden": true
   },
   "outputs": [],
   "source": [
    "def print_pca(df, min_df_value):\n",
    "    tfidf_vectorizer = TfidfVectorizer(stop_words=new_stpwrd, min_df=min_df_value, max_df=0.80, ngram_range=(1,2), \n",
    "                                    token_pattern= r'\\b[a-zA-Z]{3,}\\b')\n",
    "    dtm = tfidf_vectorizer.fit_transform(df.text)\n",
    "    x = convert_to_term_df(dtm, tfidf_vectorizer)\n",
    "    pca = PCA()\n",
    "    pca.fit(x)\n",
    "    pc_variance = list(pca.explained_variance_ratio_)\n",
    "    pc_variance_top5 = sum(pc_variance[:5])\n",
    "    print('First 5 PC explain '+ str(round(pc_variance_top5, 4)) + \n",
    "      f' of variance in full dataset')\n",
    "    pc_variance_top10 = sum(pc_variance[:10])\n",
    "    print('First 10 PC explain '+ str(round(pc_variance_top10, 4)) + \n",
    "      f' of variance in full dataset')\n",
    "    factor_loadings = pca.components_  #extract the component loadings\n",
    "    matrix = np.transpose(factor_loadings) #flip the rows and cols \n",
    "    fl = pd.DataFrame(data = matrix, index = x.columns)\n",
    "    top_10 = fl.iloc[:,0:10]\n",
    "    top_10.columns = ['PC1', 'PC2', 'PC3', 'PC4', 'PC5', 'PC6', 'PC7', 'PC8', 'PC9', 'PC10']\n",
    "    PC1_20 = top_10.sort_values(by = 'PC1', ascending = False).head(20)\n",
    "    PC2_20 = top_10.sort_values(by = 'PC2', ascending = False).head(20)\n",
    "    PC3_20 = top_10.sort_values(by = 'PC3', ascending = False).head(20)\n",
    "    PC4_20 = top_10.sort_values(by = 'PC4', ascending = False).head(20)\n",
    "    PC5_20 = top_10.sort_values(by = 'PC5', ascending = False).head(20)\n",
    "    PC6_20 = top_10.sort_values(by = 'PC6', ascending = False).head(20)\n",
    "    PC7_20 = top_10.sort_values(by = 'PC7', ascending = False).head(20)\n",
    "    PC8_20 = top_10.sort_values(by = 'PC8', ascending = False).head(20)\n",
    "    PC9_20 = top_10.sort_values(by = 'PC9', ascending = False).head(20)\n",
    "    PC10_20 = top_10.sort_values(by = 'PC10', ascending = False).head(20)\n",
    "    \n",
    "    # individual variance of PC \n",
    "    pc1_var = round(sum(pc_variance[0:1]), 4)\n",
    "    pc2_var = round(sum(pc_variance[1:2]), 4)\n",
    "    pc3_var = round(sum(pc_variance[2:3]), 4)\n",
    "    pc4_var = round(sum(pc_variance[3:4]), 4)\n",
    "    pc5_var = round(sum(pc_variance[4:5]), 4)\n",
    "    pc6_var = round(sum(pc_variance[5:6]), 4)\n",
    "    pc7_var = round(sum(pc_variance[6:7]), 4)\n",
    "    pc8_var = round(sum(pc_variance[7:8]), 4)\n",
    "    pc9_var = round(sum(pc_variance[8:9]), 4)\n",
    "    pc10_var = round(sum(pc_variance[9:10]), 4)\n",
    "\n",
    "    # terms \n",
    "    PC1_20_terms = list(PC1_20.index)\n",
    "    PC2_20_terms = list(PC2_20.index)\n",
    "    PC3_20_terms = list(PC3_20.index)\n",
    "    PC4_20_terms = list(PC4_20.index)\n",
    "    PC5_20_terms = list(PC5_20.index)\n",
    "    PC6_20_terms = list(PC6_20.index)\n",
    "    PC7_20_terms = list(PC7_20.index)\n",
    "    PC8_20_terms = list(PC8_20.index)\n",
    "    PC9_20_terms = list(PC9_20.index)\n",
    "    PC10_20_terms = list(PC10_20.index)\n",
    "    \n",
    "    return (f'PC1: {pc1_var} -- {PC1_20_terms}', '', \n",
    "            f'PC2: {pc2_var} -- {PC2_20_terms}', '', \n",
    "            f'PC3: {pc3_var} -- {PC3_20_terms}', '', \n",
    "            f'PC4: {pc4_var} -- {PC4_20_terms}', '', \n",
    "            f'PC5: {pc5_var} -- {PC5_20_terms}', '', \n",
    "            f'PC6: {pc6_var} -- {PC6_20_terms}', '', \n",
    "            f'PC7: {pc7_var} -- {PC7_20_terms}', '', \n",
    "            f'PC8: {pc8_var} -- {PC8_20_terms}', '', \n",
    "            f'PC9: {pc9_var} -- {PC9_20_terms}', '', \n",
    "            f'PC10: {pc10_var} -- {PC10_20_terms}') "
   ]
  },
  {
   "cell_type": "markdown",
   "id": "95dd19f2",
   "metadata": {},
   "source": [
    "### PCA - Rep/Dem"
   ]
  },
  {
   "cell_type": "code",
   "execution_count": 164,
   "id": "bd0b71bc",
   "metadata": {},
   "outputs": [],
   "source": [
    "# create subset dfs based on gov party\n",
    "rep = sos[sos.party == 'republican'].copy().reset_index(drop = True)\n",
    "dem = sos[sos.party == 'democratic'].copy().reset_index(drop = True)"
   ]
  },
  {
   "cell_type": "code",
   "execution_count": 165,
   "id": "f503889c",
   "metadata": {},
   "outputs": [
    {
     "name": "stdout",
     "output_type": "stream",
     "text": [
      "<class 'pandas.core.frame.DataFrame'>\n",
      "RangeIndex: 26 entries, 0 to 25\n",
      "Data columns (total 7 columns):\n",
      " #   Column          Non-Null Count  Dtype \n",
      "---  ------          --------------  ----- \n",
      " 0   state           26 non-null     object\n",
      " 1   gov_name        26 non-null     object\n",
      " 2   party           26 non-null     object\n",
      " 3   type            26 non-null     object\n",
      " 4   text            26 non-null     object\n",
      " 5   word_count      26 non-null     int64 \n",
      " 6   new_word_count  26 non-null     int64 \n",
      "dtypes: int64(2), object(5)\n",
      "memory usage: 1.5+ KB\n",
      "<class 'pandas.core.frame.DataFrame'>\n",
      "RangeIndex: 24 entries, 0 to 23\n",
      "Data columns (total 7 columns):\n",
      " #   Column          Non-Null Count  Dtype \n",
      "---  ------          --------------  ----- \n",
      " 0   state           24 non-null     object\n",
      " 1   gov_name        24 non-null     object\n",
      " 2   party           24 non-null     object\n",
      " 3   type            24 non-null     object\n",
      " 4   text            24 non-null     object\n",
      " 5   word_count      24 non-null     int64 \n",
      " 6   new_word_count  24 non-null     int64 \n",
      "dtypes: int64(2), object(5)\n",
      "memory usage: 1.4+ KB\n"
     ]
    }
   ],
   "source": [
    "# explore both \n",
    "rep.info()\n",
    "dem.info()"
   ]
  },
  {
   "cell_type": "markdown",
   "id": "c63c69f0",
   "metadata": {
    "heading_collapsed": true
   },
   "source": [
    "#### Republicans"
   ]
  },
  {
   "cell_type": "code",
   "execution_count": 166,
   "id": "99fca148",
   "metadata": {
    "hidden": true
   },
   "outputs": [
    {
     "data": {
      "text/plain": [
       "(26, 1379)"
      ]
     },
     "execution_count": 166,
     "metadata": {},
     "output_type": "execute_result"
    }
   ],
   "source": [
    "# use tfidf_vectorizer4 - most interpretable from full df analysis \n",
    "\n",
    "# create custom stop list \n",
    "new_stp_list = ['her', 'them', 'million','four','absolutely','tonight','state', 'governor', 'year', 'alabama', 'new', 'north', 'south', 'west', 'alaska', 'arizona', 'arkansas', 'california', 'colorado',\n",
    "             'connecticut','delaware','florida','georgia','hawaii','idaho','illinois','indiana','iowa',\n",
    "             'kansas','kentucky','louisiana','maine','maryland','massachusetts','michigan','minnesota',\n",
    "             'mississippi','missouri','montana','nebraska','nevada', 'hampshire', 'jersey', 'mexico','york',\n",
    "             'carolina', 'dakota','ohio','oklahoma','oregon','pennsylvania','rhode','island','tennessee','texas',\n",
    "             'utah','vermont','virginia','washington','west virginia', 'wisconsin','wyoming', \n",
    "             'could', 'doe', 'ha', 'kansa', 'might', 'must', 'need', 'sha', 'wa', 'would', 'freedom', 'america',\n",
    "             'delivered', 'lives', 'promised', 'citizens', 'liberty', 'policies', 'free', 'reject', 'biden', \n",
    "             'top', 'number','one', 'got', 'wants', 'american', 'going','really', 'yes', 'mission', 'dreams', \n",
    "             'inaugural','address', 'led', 'bold', 'seek', 'americans', 'ever']\n",
    "\n",
    "new_stpwrd = nltk.corpus.stopwords.words('english')\n",
    "new_stpwrd.extend(new_stp_list)\n",
    "\n",
    "# initialize tfidf\n",
    "tfidf_vectorizer4 = TfidfVectorizer(stop_words=new_stpwrd, min_df=6, max_df=0.80, ngram_range=(1,2), \n",
    "                                    token_pattern= r'\\b[a-zA-Z]{3,}\\b')\n",
    "\n",
    "# create dtm\n",
    "rep_dtm4 = tfidf_vectorizer4.fit_transform(rep.text)\n",
    "rep_dtm4.shape  # (26, 1380)"
   ]
  },
  {
   "cell_type": "code",
   "execution_count": 167,
   "id": "33789a1f",
   "metadata": {
    "hidden": true
   },
   "outputs": [
    {
     "data": {
      "text/plain": [
       "array(['schools', 'kids', 'program', 'energy', 'teachers', 'workforce',\n",
       "       'system', 'investment', 'general', 'needs', 'legislature',\n",
       "       'percent', 'property', 'taxes', 'session', 'teacher', 'fund',\n",
       "       'community', 'may', 'made'], dtype=object)"
      ]
     },
     "execution_count": 167,
     "metadata": {},
     "output_type": "execute_result"
    }
   ],
   "source": [
    "# get most frequent terms\n",
    "rep_top_terms = get_top_terms(rep_dtm4, tfidf_vectorizer4, 20)  \n",
    "rep_top_terms\n",
    "\n",
    "# convert to df\n",
    "rep_df4 = convert_to_term_df(rep_dtm4, tfidf_vectorizer4)\n",
    "# rep_df4.head() "
   ]
  },
  {
   "cell_type": "markdown",
   "id": "0a16ef26",
   "metadata": {
    "heading_collapsed": true,
    "hidden": true
   },
   "source": [
    "###### Hyperparameter tuning"
   ]
  },
  {
   "cell_type": "code",
   "execution_count": 171,
   "id": "08b6bbd1",
   "metadata": {
    "hidden": true
   },
   "outputs": [],
   "source": [
    "# explore min_doc frequency options of 1-10\n",
    "def get_min_doc_image(df, party):\n",
    "    term_count = []\n",
    "\n",
    "    for i in range(1, 10):\n",
    "        vectorizer = CountVectorizer(stop_words='english', min_df=i)\n",
    "        dtm = vectorizer.fit_transform(dem.text)\n",
    "        length = dtm.shape[1]\n",
    "        term_count.append(length)\n",
    "\n",
    "    min_df = pd.DataFrame(data = {'Min Doc': range(1,10),\n",
    "                                  'Term Count': term_count})\n",
    "    fig, ax = plt.subplots(figsize=(12,6.5))\n",
    "    # ax.plot(range(1,26), min_df['Term Count'], linewidth = 2.5, color = 'green')\n",
    "    ax.scatter(x = min_df['Min Doc'], y = min_df['Term Count'])\n",
    "    plt.title(f'From {str(df.shape[0])} State of the State Addresses for {party} in 2023')\n",
    "    plt.suptitle('Minimum Document Frequency and Resulting Term Count', size = 20)\n",
    "    plt.ylabel('Term Count')\n",
    "    plt.xlabel('Minimum Document Frequency')\n",
    "    #plt.xticks(range(10,31))\n",
    "    #plt.savefig('min_doc_freq.png')"
   ]
  },
  {
   "cell_type": "code",
   "execution_count": 162,
   "id": "c6c203f7",
   "metadata": {
    "hidden": true
   },
   "outputs": [
    {
     "data": {
      "image/png": "[encoded data removed]",
      "text/plain": [
       "<Figure size 864x468 with 1 Axes>"
      ]
     },
     "metadata": {
      "needs_background": "light"
     },
     "output_type": "display_data"
    }
   ],
   "source": [
    "get_min_doc_image(rep, 'Republicans')"
   ]
  },
  {
   "cell_type": "markdown",
   "id": "4495be5e",
   "metadata": {
    "heading_collapsed": true,
    "hidden": true
   },
   "source": [
    "##### PCA - Republicans"
   ]
  },
  {
   "cell_type": "code",
   "execution_count": 170,
   "id": "943a5dc9",
   "metadata": {
    "hidden": true
   },
   "outputs": [
    {
     "name": "stdout",
     "output_type": "stream",
     "text": [
      "First 5 PC explain 0.2764 of variance in full dataset\n",
      "First 10 PC explain 0.4968 of variance in full dataset\n"
     ]
    },
    {
     "data": {
      "text/plain": [
       "(\"PC1: 0.0674 -- ['energy', 'fire', 'power', 'meant', 'enact', 'carbon', 'security', 'innovation', 'produced', 'industries', 'advanced', 'oil', 'mandates', 'land', 'principles', 'fear', 'inflation', 'die', 'national security', 'mind']\",\n",
       " '',\n",
       " \"PC2: 0.0575 -- ['energy', 'carbon', 'industries', 'oil', 'innovation', 'advanced', 'security', 'financial', 'agriculture', 'federal', 'winter', 'youth', 'resiliency', 'private', 'markets', 'areas', 'industry', 'proposed', 'grit', 'federal government']\",\n",
       " '',\n",
       " \"PC3: 0.0535 -- ['property', 'property tax', 'property taxes', 'relief', 'taxes', 'recommending', 'tax relief', 'percent', 'kids', 'cuts', 'fentanyl', 'tax cuts', 'border', 'michael', 'investments', 'investment', 'local', 'dollar', 'school districts', 'districts']\",\n",
       " '',\n",
       " \"PC4: 0.0499 -- ['grid', 'fire', 'border', 'criminals', 'general', 'strong', 'pioneers', 'illegal', 'general assembly', 'schools', 'owners', 'assembly', 'generation', 'pathways', 'hardworking', 'deserve', 'order', 'public safety', 'land', 'men']\",\n",
       " '',\n",
       " \"PC5: 0.0481 -- ['fire', 'dream', 'record', 'apprenticeship', 'mandates', 'enact', 'freedoms', 'industry', 'employees', 'kids', 'ten', 'land', 'fastest', 'production', 'stronger families', 'saw', 'unemployment', 'protecting', 'companies', 'oil']\",\n",
       " '',\n",
       " \"PC6: 0.0468 -- ['schools', 'ten', 'choice', 'sarah', 'quality education', 'pro', 'legislature', 'school choice', 'improving', 'energy', 'charter', 'tomorrow', 'session', 'priority', 'border', 'term', 'needs', 'grid', 'calling', 'means']\",\n",
       " '',\n",
       " \"PC7: 0.045 -- ['voters', 'primary', 'secretary', 'general', 'schools', 'party', 'tell', 'individual', 'system', 'think', 'politics', 'assembly', 'percent', 'power', 'elected', 'executive', 'joining', 'six years', 'services', 'general assembly']\",\n",
       " '',\n",
       " \"PC8: 0.0445 -- ['literally', 'think', 'tell', 'oil', 'wonderful', 'program', 'proposing', 'secretary', 'try', 'lot', 'applause', 'thing', 'tourism', 'round', 'agriculture', 'sergeant', 'kids', 'staff', 'worked', 'benefits']\",\n",
       " '',\n",
       " \"PC9: 0.0425 -- ['grid', 'border', 'oil', 'pioneers', 'use', 'owners', 'uniform', 'housing', 'carbon', 'power', 'largest', 'wave', 'tools', 'anyone', 'spirit', 'bipartisan', 'line', 'action', 'recovery', 'books']\",\n",
       " '',\n",
       " \"PC10: 0.0415 -- ['generation', 'oil', 'sarah', 'mom', 'rock', 'sergeant', 'income tax', 'ten', 'love', 'vision', 'executive', 'forward', 'leadership', 'amazing', 'faith', 'confidence', 'industry', 'freedoms', 'spirit', 'oath']\")"
      ]
     },
     "execution_count": 170,
     "metadata": {},
     "output_type": "execute_result"
    }
   ],
   "source": [
    "# not very meaningful or interpretable \n",
    "print_pca(rep, 4)"
   ]
  },
  {
   "cell_type": "markdown",
   "id": "7b736276",
   "metadata": {},
   "source": [
    "#### Democrats"
   ]
  },
  {
   "cell_type": "code",
   "execution_count": 172,
   "id": "8b980563",
   "metadata": {},
   "outputs": [
    {
     "data": {
      "text/plain": [
       "(24, 1204)"
      ]
     },
     "execution_count": 172,
     "metadata": {},
     "output_type": "execute_result"
    }
   ],
   "source": [
    "# use dtf4 - most interpretable from full ds\n",
    "dem_dtm4 = tfidf_vectorizer4.fit_transform(dem.text)\n",
    "dem_dtm4.shape # (24, 1204)"
   ]
  },
  {
   "cell_type": "code",
   "execution_count": 174,
   "id": "1bed1dd8",
   "metadata": {},
   "outputs": [
    {
     "data": {
      "text/plain": [
       "array(['housing', 'water', 'funding', 'investments', 'workforce',\n",
       "       'mental', 'nation', 'services', 'kids', 'program', 'legislature',\n",
       "       'costs', 'county', 'billion', 'access', 'sure', 'system',\n",
       "       'mental health', 'crisis', 'climate'], dtype=object)"
      ]
     },
     "execution_count": 174,
     "metadata": {},
     "output_type": "execute_result"
    },
    {
     "data": {
      "text/html": [
       "<div>\n",
       "<style scoped>\n",
       "    .dataframe tbody tr th:only-of-type {\n",
       "        vertical-align: middle;\n",
       "    }\n",
       "\n",
       "    .dataframe tbody tr th {\n",
       "        vertical-align: top;\n",
       "    }\n",
       "\n",
       "    .dataframe thead th {\n",
       "        text-align: right;\n",
       "    }\n",
       "</style>\n",
       "<table border=\"1\" class=\"dataframe\">\n",
       "  <thead>\n",
       "    <tr style=\"text-align: right;\">\n",
       "      <th></th>\n",
       "      <th>ability</th>\n",
       "      <th>able</th>\n",
       "      <th>abortion</th>\n",
       "      <th>access</th>\n",
       "      <th>accessible</th>\n",
       "      <th>accomplish</th>\n",
       "      <th>accomplished</th>\n",
       "      <th>achieve</th>\n",
       "      <th>across country</th>\n",
       "      <th>act</th>\n",
       "      <th>...</th>\n",
       "      <th>worth</th>\n",
       "      <th>years ago</th>\n",
       "      <th>years ahead</th>\n",
       "      <th>years come</th>\n",
       "      <th>yet</th>\n",
       "      <th>young</th>\n",
       "      <th>young people</th>\n",
       "      <th>youth</th>\n",
       "      <th>zero</th>\n",
       "      <th>zoning</th>\n",
       "    </tr>\n",
       "  </thead>\n",
       "  <tbody>\n",
       "    <tr>\n",
       "      <th>0</th>\n",
       "      <td>0.000000</td>\n",
       "      <td>0.000000</td>\n",
       "      <td>0.019616</td>\n",
       "      <td>0.023737</td>\n",
       "      <td>0.000000</td>\n",
       "      <td>0.00000</td>\n",
       "      <td>0.0</td>\n",
       "      <td>0.026891</td>\n",
       "      <td>0.000000</td>\n",
       "      <td>0.080672</td>\n",
       "      <td>...</td>\n",
       "      <td>0.000000</td>\n",
       "      <td>0.000000</td>\n",
       "      <td>0.044110</td>\n",
       "      <td>0.022055</td>\n",
       "      <td>0.000000</td>\n",
       "      <td>0.014660</td>\n",
       "      <td>0.000000</td>\n",
       "      <td>0.000000</td>\n",
       "      <td>0.000000</td>\n",
       "      <td>0.000000</td>\n",
       "    </tr>\n",
       "    <tr>\n",
       "      <th>1</th>\n",
       "      <td>0.000000</td>\n",
       "      <td>0.000000</td>\n",
       "      <td>0.042586</td>\n",
       "      <td>0.051531</td>\n",
       "      <td>0.000000</td>\n",
       "      <td>0.04788</td>\n",
       "      <td>0.0</td>\n",
       "      <td>0.000000</td>\n",
       "      <td>0.042586</td>\n",
       "      <td>0.029189</td>\n",
       "      <td>...</td>\n",
       "      <td>0.000000</td>\n",
       "      <td>0.058378</td>\n",
       "      <td>0.000000</td>\n",
       "      <td>0.000000</td>\n",
       "      <td>0.076718</td>\n",
       "      <td>0.000000</td>\n",
       "      <td>0.000000</td>\n",
       "      <td>0.000000</td>\n",
       "      <td>0.000000</td>\n",
       "      <td>0.047880</td>\n",
       "    </tr>\n",
       "    <tr>\n",
       "      <th>2</th>\n",
       "      <td>0.021247</td>\n",
       "      <td>0.008489</td>\n",
       "      <td>0.000000</td>\n",
       "      <td>0.067444</td>\n",
       "      <td>0.000000</td>\n",
       "      <td>0.00000</td>\n",
       "      <td>0.0</td>\n",
       "      <td>0.008489</td>\n",
       "      <td>0.000000</td>\n",
       "      <td>0.050937</td>\n",
       "      <td>...</td>\n",
       "      <td>0.013108</td>\n",
       "      <td>0.016979</td>\n",
       "      <td>0.013926</td>\n",
       "      <td>0.000000</td>\n",
       "      <td>0.011157</td>\n",
       "      <td>0.009256</td>\n",
       "      <td>0.000000</td>\n",
       "      <td>0.011740</td>\n",
       "      <td>0.027851</td>\n",
       "      <td>0.013926</td>\n",
       "    </tr>\n",
       "    <tr>\n",
       "      <th>3</th>\n",
       "      <td>0.000000</td>\n",
       "      <td>0.000000</td>\n",
       "      <td>0.000000</td>\n",
       "      <td>0.024620</td>\n",
       "      <td>0.040693</td>\n",
       "      <td>0.00000</td>\n",
       "      <td>0.0</td>\n",
       "      <td>0.000000</td>\n",
       "      <td>0.000000</td>\n",
       "      <td>0.000000</td>\n",
       "      <td>...</td>\n",
       "      <td>0.000000</td>\n",
       "      <td>0.055783</td>\n",
       "      <td>0.000000</td>\n",
       "      <td>0.000000</td>\n",
       "      <td>0.000000</td>\n",
       "      <td>0.000000</td>\n",
       "      <td>0.000000</td>\n",
       "      <td>0.000000</td>\n",
       "      <td>0.000000</td>\n",
       "      <td>0.000000</td>\n",
       "    </tr>\n",
       "    <tr>\n",
       "      <th>4</th>\n",
       "      <td>0.020050</td>\n",
       "      <td>0.016022</td>\n",
       "      <td>0.000000</td>\n",
       "      <td>0.028286</td>\n",
       "      <td>0.000000</td>\n",
       "      <td>0.00000</td>\n",
       "      <td>0.0</td>\n",
       "      <td>0.016022</td>\n",
       "      <td>0.000000</td>\n",
       "      <td>0.000000</td>\n",
       "      <td>...</td>\n",
       "      <td>0.000000</td>\n",
       "      <td>0.048067</td>\n",
       "      <td>0.026282</td>\n",
       "      <td>0.000000</td>\n",
       "      <td>0.000000</td>\n",
       "      <td>0.034939</td>\n",
       "      <td>0.022158</td>\n",
       "      <td>0.022158</td>\n",
       "      <td>0.000000</td>\n",
       "      <td>0.000000</td>\n",
       "    </tr>\n",
       "  </tbody>\n",
       "</table>\n",
       "<p>5 rows × 1204 columns</p>\n",
       "</div>"
      ],
      "text/plain": [
       "    ability      able  abortion    access  accessible  accomplish  \\\n",
       "0  0.000000  0.000000  0.019616  0.023737    0.000000     0.00000   \n",
       "1  0.000000  0.000000  0.042586  0.051531    0.000000     0.04788   \n",
       "2  0.021247  0.008489  0.000000  0.067444    0.000000     0.00000   \n",
       "3  0.000000  0.000000  0.000000  0.024620    0.040693     0.00000   \n",
       "4  0.020050  0.016022  0.000000  0.028286    0.000000     0.00000   \n",
       "\n",
       "   accomplished   achieve  across country       act  ...     worth  years ago  \\\n",
       "0           0.0  0.026891        0.000000  0.080672  ...  0.000000   0.000000   \n",
       "1           0.0  0.000000        0.042586  0.029189  ...  0.000000   0.058378   \n",
       "2           0.0  0.008489        0.000000  0.050937  ...  0.013108   0.016979   \n",
       "3           0.0  0.000000        0.000000  0.000000  ...  0.000000   0.055783   \n",
       "4           0.0  0.016022        0.000000  0.000000  ...  0.000000   0.048067   \n",
       "\n",
       "   years ahead  years come       yet     young  young people     youth  \\\n",
       "0     0.044110    0.022055  0.000000  0.014660      0.000000  0.000000   \n",
       "1     0.000000    0.000000  0.076718  0.000000      0.000000  0.000000   \n",
       "2     0.013926    0.000000  0.011157  0.009256      0.000000  0.011740   \n",
       "3     0.000000    0.000000  0.000000  0.000000      0.000000  0.000000   \n",
       "4     0.026282    0.000000  0.000000  0.034939      0.022158  0.022158   \n",
       "\n",
       "       zero    zoning  \n",
       "0  0.000000  0.000000  \n",
       "1  0.000000  0.047880  \n",
       "2  0.027851  0.013926  \n",
       "3  0.000000  0.000000  \n",
       "4  0.000000  0.000000  \n",
       "\n",
       "[5 rows x 1204 columns]"
      ]
     },
     "execution_count": 174,
     "metadata": {},
     "output_type": "execute_result"
    }
   ],
   "source": [
    "dem_top_terms = get_top_terms(dem_dtm4, tfidf_vectorizer4, 20)  \n",
    "dem_top_terms\n",
    "dem_df4 = convert_to_term_df(dem_dtm4, tfidf_vectorizer4)\n",
    "dem_df4.head() "
   ]
  },
  {
   "cell_type": "markdown",
   "id": "d851a67a",
   "metadata": {
    "heading_collapsed": true
   },
   "source": [
    "##### Hyperparameter Tuning"
   ]
  },
  {
   "cell_type": "code",
   "execution_count": 180,
   "id": "feaeee18",
   "metadata": {
    "hidden": true
   },
   "outputs": [
    {
     "data": {
      "image/png": "[encoded data removed]",
      "text/plain": [
       "<Figure size 864x468 with 1 Axes>"
      ]
     },
     "metadata": {
      "needs_background": "light"
     },
     "output_type": "display_data"
    }
   ],
   "source": [
    "get_min_doc_image(dem, 'Democrats')"
   ]
  },
  {
   "cell_type": "markdown",
   "id": "5e285453",
   "metadata": {
    "heading_collapsed": true
   },
   "source": [
    "##### PCA - Dem"
   ]
  },
  {
   "cell_type": "code",
   "execution_count": 183,
   "id": "c12b7aa7",
   "metadata": {
    "hidden": true
   },
   "outputs": [
    {
     "name": "stdout",
     "output_type": "stream",
     "text": [
      "First 5 PC explain 0.2951 of variance in full dataset\n",
      "First 10 PC explain 0.5295 of variance in full dataset\n"
     ]
    },
    {
     "data": {
      "text/plain": [
       "(\"PC1: 0.0697 -- ['housing', 'idea', 'homelessness', 'crisis', 'legislature', 'hope', 'listen', 'democracy', 'climate', 'housing crisis', 'things', 'rights', 'actions', 'homeless', 'values', 'within', 'red', 'father', 'sell', 'housing homelessness']\",\n",
       " '',\n",
       " \"PC2: 0.065 -- ['love', 'easier', 'trying', 'nation', 'world', 'banning', 'else', 'vote', 'anyone', 'something', 'teachers', 'rights', 'story', 'politicians', 'lot', 'river', 'journey', 'second', 'looking', 'father']\",\n",
       " '',\n",
       " \"PC3: 0.0552 -- ['kids', 'safety', 'gun', 'easier', 'child care', 'mental', 'public safety', 'clean', 'services', 'guns', 'mental health', 'clean energy', 'anyone', 'access', 'program', 'nation', 'assistance', 'system', 'talk', 'else']\",\n",
       " '',\n",
       " \"PC4: 0.0538 -- ['fiscal', 'taxpayers', 'growth', 'less', 'starting', 'senator', 'costs', 'worry', 'control', 'labor', 'covid', 'citizen', 'rescue', 'party', 'economic growth', 'election', 'assistance', 'hit', 'gun', 'tell']\",\n",
       " '',\n",
       " \"PC5: 0.0515 -- ['took', 'hope', 'insurance', 'yet', 'medicaid', 'asked', 'father', 'hundred', 'rivers', 'everything', 'times', 'remember', 'became', 'nation', 'past', 'billion', 'services', 'eyes', 'pandemic', 'politicians']\",\n",
       " '',\n",
       " \"PC6: 0.0502 -- ['water', 'costs', 'less', 'taxpayers', 'healthcare', 'fiscal', 'party', 'perhaps', 'secretary', 'workforce', 'legislature', 'rural', 'growth', 'worry', 'medicaid', 'common', 'fix', 'citizen', 'cannot', 'teachers']\",\n",
       " '',\n",
       " \"PC7: 0.0492 -- ['idea', 'listen', 'investing', 'serving', 'listening', 'services', 'things', 'debt', 'party', 'budget proposal', 'cannabis', 'election', 'possibility', 'taxpayers', 'higher education', 'brown', 'creating', 'county', 'access', 'economic growth']\",\n",
       " '',\n",
       " \"PC8: 0.0462 -- ['poverty', 'serve', 'stepped', 'please', 'young', 'please stand', 'young people', 'oath', 'someone', 'military', 'fiscal', 'minimum', 'raised', 'served', 'wage', 'behavioral health', 'insurance', 'minimum wage', 'behavioral', 'civic']\",\n",
       " '',\n",
       " \"PC9: 0.0448 -- ['hope', 'hundred', 'hopeful', 'asked', 'welcoming', 'actions', 'everything', 'signs', 'years ago', 'asking', 'times', 'recognizing', 'western', 'senator', 'woman', 'county', 'oath', 'towns', 'learned', 'kids']\",\n",
       " '',\n",
       " \"PC10: 0.0439 -- ['else', 'medicaid', 'lot', 'easier', 'idea', 'things', 'issue', 'listen', 'session', 'pay', 'thing', 'facing', 'insurance', 'water', 'minimum', 'anyone', 'fiscal', 'role', 'talk', 'result']\")"
      ]
     },
     "execution_count": 183,
     "metadata": {},
     "output_type": "execute_result"
    }
   ],
   "source": [
    "print_pca(dem, 4) # not very interpretative "
   ]
  },
  {
   "cell_type": "markdown",
   "id": "71b887c0",
   "metadata": {},
   "source": [
    "#### Compare Top Terms"
   ]
  },
  {
   "cell_type": "code",
   "execution_count": 175,
   "id": "ae2b76d2",
   "metadata": {},
   "outputs": [
    {
     "name": "stdout",
     "output_type": "stream",
     "text": [
      "BOTH\n"
     ]
    },
    {
     "data": {
      "text/plain": [
       "['workforce', 'kids', 'program', 'legislature', 'system']"
      ]
     },
     "execution_count": 175,
     "metadata": {},
     "output_type": "execute_result"
    }
   ],
   "source": [
    "print('BOTH')\n",
    "[i for i in dem_top_terms if i in rep_top_terms]"
   ]
  },
  {
   "cell_type": "code",
   "execution_count": 178,
   "id": "0ee6fde2",
   "metadata": {},
   "outputs": [
    {
     "name": "stdout",
     "output_type": "stream",
     "text": [
      "DEMOCRATS\n"
     ]
    },
    {
     "data": {
      "text/plain": [
       "['housing',\n",
       " 'water',\n",
       " 'funding',\n",
       " 'investments',\n",
       " 'mental',\n",
       " 'nation',\n",
       " 'services',\n",
       " 'costs',\n",
       " 'county',\n",
       " 'billion',\n",
       " 'access',\n",
       " 'sure',\n",
       " 'mental health',\n",
       " 'crisis',\n",
       " 'climate']"
      ]
     },
     "execution_count": 178,
     "metadata": {},
     "output_type": "execute_result"
    }
   ],
   "source": [
    "print('DEMOCRATS')\n",
    "[i for i in dem_top_terms if i not in rep_top_terms]"
   ]
  },
  {
   "cell_type": "code",
   "execution_count": 179,
   "id": "47006629",
   "metadata": {},
   "outputs": [
    {
     "name": "stdout",
     "output_type": "stream",
     "text": [
      "REPUBLICANS\n"
     ]
    },
    {
     "data": {
      "text/plain": [
       "['schools',\n",
       " 'energy',\n",
       " 'teachers',\n",
       " 'investment',\n",
       " 'general',\n",
       " 'needs',\n",
       " 'percent',\n",
       " 'property',\n",
       " 'taxes',\n",
       " 'session',\n",
       " 'teacher',\n",
       " 'fund',\n",
       " 'community',\n",
       " 'may',\n",
       " 'made']"
      ]
     },
     "execution_count": 179,
     "metadata": {},
     "output_type": "execute_result"
    }
   ],
   "source": [
    "print('REPUBLICANS')\n",
    "[i for i in rep_top_terms if i not in dem_top_terms] "
   ]
  },
  {
   "cell_type": "markdown",
   "id": "b839ebcf",
   "metadata": {},
   "source": [
    "#### PCA"
   ]
  },
  {
   "cell_type": "markdown",
   "id": "96a2c1f7",
   "metadata": {},
   "source": [
    "## Regex  - Key Word Exploration"
   ]
  },
  {
   "cell_type": "code",
   "execution_count": 184,
   "id": "cf321504",
   "metadata": {},
   "outputs": [
    {
     "data": {
      "text/html": [
       "<div>\n",
       "<style scoped>\n",
       "    .dataframe tbody tr th:only-of-type {\n",
       "        vertical-align: middle;\n",
       "    }\n",
       "\n",
       "    .dataframe tbody tr th {\n",
       "        vertical-align: top;\n",
       "    }\n",
       "\n",
       "    .dataframe thead th {\n",
       "        text-align: right;\n",
       "    }\n",
       "</style>\n",
       "<table border=\"1\" class=\"dataframe\">\n",
       "  <thead>\n",
       "    <tr style=\"text-align: right;\">\n",
       "      <th></th>\n",
       "      <th>state</th>\n",
       "      <th>gov_name</th>\n",
       "      <th>party</th>\n",
       "      <th>type</th>\n",
       "      <th>text</th>\n",
       "      <th>word_count</th>\n",
       "      <th>new_word_count</th>\n",
       "    </tr>\n",
       "  </thead>\n",
       "  <tbody>\n",
       "    <tr>\n",
       "      <th>4</th>\n",
       "      <td>california</td>\n",
       "      <td>gavin newsom</td>\n",
       "      <td>democratic</td>\n",
       "      <td>inaug</td>\n",
       "      <td>Watch Governor Newsom’s swearing-in and inaugu...</td>\n",
       "      <td>2456</td>\n",
       "      <td>2456</td>\n",
       "    </tr>\n",
       "    <tr>\n",
       "      <th>5</th>\n",
       "      <td>colorado</td>\n",
       "      <td>jared polis</td>\n",
       "      <td>democratic</td>\n",
       "      <td>sos</td>\n",
       "      <td>ForMedia-2023-StateOfState-GovernorPolis-AsPre...</td>\n",
       "      <td>7859</td>\n",
       "      <td>7859</td>\n",
       "    </tr>\n",
       "    <tr>\n",
       "      <th>7</th>\n",
       "      <td>delaware</td>\n",
       "      <td>john carney</td>\n",
       "      <td>democratic</td>\n",
       "      <td>sos</td>\n",
       "      <td>January 19, 2023 As prepared for delivery #DE...</td>\n",
       "      <td>4157</td>\n",
       "      <td>4157</td>\n",
       "    </tr>\n",
       "    <tr>\n",
       "      <th>10</th>\n",
       "      <td>hawaii</td>\n",
       "      <td>josh green</td>\n",
       "      <td>democratic</td>\n",
       "      <td>sos</td>\n",
       "      <td>1 of 17   1 of 17   “ACTION ROOTED IN VALUES”...</td>\n",
       "      <td>5374</td>\n",
       "      <td>5374</td>\n",
       "    </tr>\n",
       "    <tr>\n",
       "      <th>19</th>\n",
       "      <td>maryland</td>\n",
       "      <td>wes moore</td>\n",
       "      <td>democratic</td>\n",
       "      <td>sos</td>\n",
       "      <td>ANNAPOLIS, MD— Today, Governor Wes Moore deli...</td>\n",
       "      <td>4005</td>\n",
       "      <td>4005</td>\n",
       "    </tr>\n",
       "    <tr>\n",
       "      <th>21</th>\n",
       "      <td>michigan</td>\n",
       "      <td>gretchen whitmer</td>\n",
       "      <td>democratic</td>\n",
       "      <td>sos</td>\n",
       "      <td>FOR IMMEDIATE RELEASE  January 25, 2023   Cont...</td>\n",
       "      <td>4228</td>\n",
       "      <td>4228</td>\n",
       "    </tr>\n",
       "    <tr>\n",
       "      <th>22</th>\n",
       "      <td>minnesota</td>\n",
       "      <td>tim walz</td>\n",
       "      <td>democratic</td>\n",
       "      <td>sos</td>\n",
       "      <td>Governor Walz State of the State Remarks as Pr...</td>\n",
       "      <td>2795</td>\n",
       "      <td>2795</td>\n",
       "    </tr>\n",
       "    <tr>\n",
       "      <th>26</th>\n",
       "      <td>nebraska</td>\n",
       "      <td>jim pillen</td>\n",
       "      <td>republican</td>\n",
       "      <td>sos</td>\n",
       "      <td>Governor Jim Pillen                          ...</td>\n",
       "      <td>3158</td>\n",
       "      <td>3158</td>\n",
       "    </tr>\n",
       "    <tr>\n",
       "      <th>29</th>\n",
       "      <td>new jersey</td>\n",
       "      <td>phil murphy</td>\n",
       "      <td>democratic</td>\n",
       "      <td>sos</td>\n",
       "      <td>Governor Murphy Delivers 2023 State of the Sta...</td>\n",
       "      <td>5926</td>\n",
       "      <td>5926</td>\n",
       "    </tr>\n",
       "    <tr>\n",
       "      <th>30</th>\n",
       "      <td>new mexico</td>\n",
       "      <td>michelle lujan grisham</td>\n",
       "      <td>democratic</td>\n",
       "      <td>sos</td>\n",
       "      <td>FROM THE OFFICE OF THE GOVERNOR Editor’s note:...</td>\n",
       "      <td>4422</td>\n",
       "      <td>4422</td>\n",
       "    </tr>\n",
       "    <tr>\n",
       "      <th>31</th>\n",
       "      <td>new york</td>\n",
       "      <td>kathy hochul</td>\n",
       "      <td>democratic</td>\n",
       "      <td>sos</td>\n",
       "      <td>Governor Kathy Hochul today delivered her 2023...</td>\n",
       "      <td>4670</td>\n",
       "      <td>4670</td>\n",
       "    </tr>\n",
       "    <tr>\n",
       "      <th>32</th>\n",
       "      <td>north carolina</td>\n",
       "      <td>roy cooper</td>\n",
       "      <td>democratic</td>\n",
       "      <td>sos</td>\n",
       "      <td>Governor Roy Cooper Follow 1   Mr. President P...</td>\n",
       "      <td>3287</td>\n",
       "      <td>3287</td>\n",
       "    </tr>\n",
       "    <tr>\n",
       "      <th>34</th>\n",
       "      <td>ohio</td>\n",
       "      <td>mike dewine</td>\n",
       "      <td>republican</td>\n",
       "      <td>sos</td>\n",
       "      <td>(COLUMBUS, Ohio)—Ohio Governor Mike DeWine tod...</td>\n",
       "      <td>5670</td>\n",
       "      <td>5670</td>\n",
       "    </tr>\n",
       "    <tr>\n",
       "      <th>36</th>\n",
       "      <td>oregon</td>\n",
       "      <td>tina kotek</td>\n",
       "      <td>democratic</td>\n",
       "      <td>inaug</td>\n",
       "      <td>Inaugural Address (Spanish) January 9, 2023 Go...</td>\n",
       "      <td>4389</td>\n",
       "      <td>4389</td>\n",
       "    </tr>\n",
       "    <tr>\n",
       "      <th>37</th>\n",
       "      <td>pennsylvania</td>\n",
       "      <td>josh shapiro</td>\n",
       "      <td>democratic</td>\n",
       "      <td>budget</td>\n",
       "      <td>February 06, 2024 Governor Shapiro’s budget pr...</td>\n",
       "      <td>2867</td>\n",
       "      <td>2867</td>\n",
       "    </tr>\n",
       "    <tr>\n",
       "      <th>38</th>\n",
       "      <td>rhode island</td>\n",
       "      <td>dan mckee</td>\n",
       "      <td>democratic</td>\n",
       "      <td>sos</td>\n",
       "      <td>Published on Tuesday, January 17, 2023 January...</td>\n",
       "      <td>3359</td>\n",
       "      <td>3359</td>\n",
       "    </tr>\n",
       "    <tr>\n",
       "      <th>39</th>\n",
       "      <td>south carolina</td>\n",
       "      <td>henry mcmaster</td>\n",
       "      <td>republican</td>\n",
       "      <td>sos</td>\n",
       "      <td>Mr. Speaker, Mr. President, ladies and gentlem...</td>\n",
       "      <td>6674</td>\n",
       "      <td>6674</td>\n",
       "    </tr>\n",
       "    <tr>\n",
       "      <th>42</th>\n",
       "      <td>texas</td>\n",
       "      <td>greg abbott</td>\n",
       "      <td>republican</td>\n",
       "      <td>inaug</td>\n",
       "      <td>January 17, 2023 | Austin, Texas        |     ...</td>\n",
       "      <td>1858</td>\n",
       "      <td>1858</td>\n",
       "    </tr>\n",
       "    <tr>\n",
       "      <th>44</th>\n",
       "      <td>vermont</td>\n",
       "      <td>phil scott</td>\n",
       "      <td>republican</td>\n",
       "      <td>inaug</td>\n",
       "      <td>Montpelier, Vt. - Governor Phil Scott today wa...</td>\n",
       "      <td>4785</td>\n",
       "      <td>4785</td>\n",
       "    </tr>\n",
       "    <tr>\n",
       "      <th>45</th>\n",
       "      <td>virginia</td>\n",
       "      <td>glenn youngkin</td>\n",
       "      <td>republican</td>\n",
       "      <td>sos</td>\n",
       "      <td>RICHMOND, VA - Governor Youngkin today deliver...</td>\n",
       "      <td>5987</td>\n",
       "      <td>5987</td>\n",
       "    </tr>\n",
       "    <tr>\n",
       "      <th>46</th>\n",
       "      <td>washington</td>\n",
       "      <td>jay inslee</td>\n",
       "      <td>democratic</td>\n",
       "      <td>sos</td>\n",
       "      <td>Sign up Sign in Sign up Sign in Governor Jay I...</td>\n",
       "      <td>3430</td>\n",
       "      <td>3430</td>\n",
       "    </tr>\n",
       "  </tbody>\n",
       "</table>\n",
       "</div>"
      ],
      "text/plain": [
       "             state                gov_name       party    type  \\\n",
       "4       california            gavin newsom  democratic   inaug   \n",
       "5         colorado             jared polis  democratic     sos   \n",
       "7         delaware             john carney  democratic     sos   \n",
       "10          hawaii              josh green  democratic     sos   \n",
       "19        maryland               wes moore  democratic     sos   \n",
       "21        michigan        gretchen whitmer  democratic     sos   \n",
       "22       minnesota                tim walz  democratic     sos   \n",
       "26        nebraska              jim pillen  republican     sos   \n",
       "29      new jersey             phil murphy  democratic     sos   \n",
       "30      new mexico  michelle lujan grisham  democratic     sos   \n",
       "31        new york            kathy hochul  democratic     sos   \n",
       "32  north carolina              roy cooper  democratic     sos   \n",
       "34            ohio             mike dewine  republican     sos   \n",
       "36          oregon              tina kotek  democratic   inaug   \n",
       "37    pennsylvania            josh shapiro  democratic  budget   \n",
       "38    rhode island               dan mckee  democratic     sos   \n",
       "39  south carolina          henry mcmaster  republican     sos   \n",
       "42           texas             greg abbott  republican   inaug   \n",
       "44         vermont              phil scott  republican   inaug   \n",
       "45        virginia          glenn youngkin  republican     sos   \n",
       "46      washington              jay inslee  democratic     sos   \n",
       "\n",
       "                                                 text  word_count  \\\n",
       "4   Watch Governor Newsom’s swearing-in and inaugu...        2456   \n",
       "5   ForMedia-2023-StateOfState-GovernorPolis-AsPre...        7859   \n",
       "7    January 19, 2023 As prepared for delivery #DE...        4157   \n",
       "10   1 of 17   1 of 17   “ACTION ROOTED IN VALUES”...        5374   \n",
       "19   ANNAPOLIS, MD— Today, Governor Wes Moore deli...        4005   \n",
       "21  FOR IMMEDIATE RELEASE  January 25, 2023   Cont...        4228   \n",
       "22  Governor Walz State of the State Remarks as Pr...        2795   \n",
       "26   Governor Jim Pillen                          ...        3158   \n",
       "29  Governor Murphy Delivers 2023 State of the Sta...        5926   \n",
       "30  FROM THE OFFICE OF THE GOVERNOR Editor’s note:...        4422   \n",
       "31  Governor Kathy Hochul today delivered her 2023...        4670   \n",
       "32  Governor Roy Cooper Follow 1   Mr. President P...        3287   \n",
       "34  (COLUMBUS, Ohio)—Ohio Governor Mike DeWine tod...        5670   \n",
       "36  Inaugural Address (Spanish) January 9, 2023 Go...        4389   \n",
       "37  February 06, 2024 Governor Shapiro’s budget pr...        2867   \n",
       "38  Published on Tuesday, January 17, 2023 January...        3359   \n",
       "39  Mr. Speaker, Mr. President, ladies and gentlem...        6674   \n",
       "42  January 17, 2023 | Austin, Texas        |     ...        1858   \n",
       "44  Montpelier, Vt. - Governor Phil Scott today wa...        4785   \n",
       "45  RICHMOND, VA - Governor Youngkin today deliver...        5987   \n",
       "46  Sign up Sign in Sign up Sign in Governor Jay I...        3430   \n",
       "\n",
       "    new_word_count  \n",
       "4             2456  \n",
       "5             7859  \n",
       "7             4157  \n",
       "10            5374  \n",
       "19            4005  \n",
       "21            4228  \n",
       "22            2795  \n",
       "26            3158  \n",
       "29            5926  \n",
       "30            4422  \n",
       "31            4670  \n",
       "32            3287  \n",
       "34            5670  \n",
       "36            4389  \n",
       "37            2867  \n",
       "38            3359  \n",
       "39            6674  \n",
       "42            1858  \n",
       "44            4785  \n",
       "45            5987  \n",
       "46            3430  "
      ]
     },
     "execution_count": 184,
     "metadata": {},
     "output_type": "execute_result"
    }
   ],
   "source": [
    "guns = sos[sos['text'].str.contains('gun')]\n",
    "guns"
   ]
  },
  {
   "cell_type": "code",
   "execution_count": 121,
   "id": "583b2d58",
   "metadata": {},
   "outputs": [
    {
     "data": {
      "text/plain": [
       "16"
      ]
     },
     "execution_count": 121,
     "metadata": {},
     "output_type": "execute_result"
    },
    {
     "data": {
      "text/html": [
       "<div>\n",
       "<style scoped>\n",
       "    .dataframe tbody tr th:only-of-type {\n",
       "        vertical-align: middle;\n",
       "    }\n",
       "\n",
       "    .dataframe tbody tr th {\n",
       "        vertical-align: top;\n",
       "    }\n",
       "\n",
       "    .dataframe thead th {\n",
       "        text-align: right;\n",
       "    }\n",
       "</style>\n",
       "<table border=\"1\" class=\"dataframe\">\n",
       "  <thead>\n",
       "    <tr style=\"text-align: right;\">\n",
       "      <th></th>\n",
       "      <th>state</th>\n",
       "      <th>gov_name</th>\n",
       "      <th>party</th>\n",
       "      <th>type</th>\n",
       "      <th>text</th>\n",
       "      <th>word_count</th>\n",
       "      <th>new_word_count</th>\n",
       "      <th>digital_regex</th>\n",
       "      <th>climate_regex</th>\n",
       "    </tr>\n",
       "  </thead>\n",
       "  <tbody>\n",
       "    <tr>\n",
       "      <th>1</th>\n",
       "      <td>alaska</td>\n",
       "      <td>mike dunleavy</td>\n",
       "      <td>republican</td>\n",
       "      <td>sos</td>\n",
       "      <td>Governor Dunleavy’s 2023 State of the State Ad...</td>\n",
       "      <td>6469</td>\n",
       "      <td>6469</td>\n",
       "      <td>1</td>\n",
       "      <td>1</td>\n",
       "    </tr>\n",
       "    <tr>\n",
       "      <th>8</th>\n",
       "      <td>florida</td>\n",
       "      <td>ron desantis</td>\n",
       "      <td>republican</td>\n",
       "      <td>sos</td>\n",
       "      <td>From the Space Coast to the Suncoast, from St....</td>\n",
       "      <td>1658</td>\n",
       "      <td>1658</td>\n",
       "      <td>1</td>\n",
       "      <td>1</td>\n",
       "    </tr>\n",
       "    <tr>\n",
       "      <th>12</th>\n",
       "      <td>illinois</td>\n",
       "      <td>jb pritzker</td>\n",
       "      <td>democratic</td>\n",
       "      <td>sos</td>\n",
       "      <td>Gov. Pritzker Proposes Transformative, Gener...</td>\n",
       "      <td>18781</td>\n",
       "      <td>6290</td>\n",
       "      <td>1</td>\n",
       "      <td>1</td>\n",
       "    </tr>\n",
       "    <tr>\n",
       "      <th>13</th>\n",
       "      <td>indiana</td>\n",
       "      <td>eric holcomb</td>\n",
       "      <td>republican</td>\n",
       "      <td>sos</td>\n",
       "      <td>Governor Eric J. Holcomb2023 State of the Stat...</td>\n",
       "      <td>2919</td>\n",
       "      <td>2919</td>\n",
       "      <td>1</td>\n",
       "      <td>1</td>\n",
       "    </tr>\n",
       "    <tr>\n",
       "      <th>15</th>\n",
       "      <td>kansas</td>\n",
       "      <td>laura kelly</td>\n",
       "      <td>democratic</td>\n",
       "      <td>sos</td>\n",
       "      <td>Governor Kelly Delivers Her 2023 State of the ...</td>\n",
       "      <td>4494</td>\n",
       "      <td>4494</td>\n",
       "      <td>1</td>\n",
       "      <td>1</td>\n",
       "    </tr>\n",
       "    <tr>\n",
       "      <th>18</th>\n",
       "      <td>maine</td>\n",
       "      <td>janet mills</td>\n",
       "      <td>democratic</td>\n",
       "      <td>inaug</td>\n",
       "      <td>1  Governor Janet T. Mills Second Inaugural Ad...</td>\n",
       "      <td>3737</td>\n",
       "      <td>3737</td>\n",
       "      <td>1</td>\n",
       "      <td>1</td>\n",
       "    </tr>\n",
       "    <tr>\n",
       "      <th>28</th>\n",
       "      <td>new hampshire</td>\n",
       "      <td>chris sununu</td>\n",
       "      <td>republican</td>\n",
       "      <td>inaug</td>\n",
       "      <td>Concord, NH – Please find below Governor Chris...</td>\n",
       "      <td>3348</td>\n",
       "      <td>3348</td>\n",
       "      <td>1</td>\n",
       "      <td>0</td>\n",
       "    </tr>\n",
       "    <tr>\n",
       "      <th>29</th>\n",
       "      <td>new jersey</td>\n",
       "      <td>phil murphy</td>\n",
       "      <td>democratic</td>\n",
       "      <td>sos</td>\n",
       "      <td>Governor Murphy Delivers 2023 State of the Sta...</td>\n",
       "      <td>5926</td>\n",
       "      <td>5926</td>\n",
       "      <td>1</td>\n",
       "      <td>1</td>\n",
       "    </tr>\n",
       "    <tr>\n",
       "      <th>30</th>\n",
       "      <td>new mexico</td>\n",
       "      <td>michelle lujan grisham</td>\n",
       "      <td>democratic</td>\n",
       "      <td>sos</td>\n",
       "      <td>FROM THE OFFICE OF THE GOVERNOR Editor’s note:...</td>\n",
       "      <td>4422</td>\n",
       "      <td>4422</td>\n",
       "      <td>1</td>\n",
       "      <td>1</td>\n",
       "    </tr>\n",
       "    <tr>\n",
       "      <th>34</th>\n",
       "      <td>ohio</td>\n",
       "      <td>mike dewine</td>\n",
       "      <td>republican</td>\n",
       "      <td>sos</td>\n",
       "      <td>(COLUMBUS, Ohio)—Ohio Governor Mike DeWine tod...</td>\n",
       "      <td>5670</td>\n",
       "      <td>5670</td>\n",
       "      <td>1</td>\n",
       "      <td>1</td>\n",
       "    </tr>\n",
       "    <tr>\n",
       "      <th>35</th>\n",
       "      <td>oklahoma</td>\n",
       "      <td>kevin stitt</td>\n",
       "      <td>republican</td>\n",
       "      <td>sos</td>\n",
       "      <td>Governor Kevin Stitt delivered the first State...</td>\n",
       "      <td>3050</td>\n",
       "      <td>3050</td>\n",
       "      <td>1</td>\n",
       "      <td>0</td>\n",
       "    </tr>\n",
       "    <tr>\n",
       "      <th>40</th>\n",
       "      <td>south dakota</td>\n",
       "      <td>kristi noem</td>\n",
       "      <td>republican</td>\n",
       "      <td>sos</td>\n",
       "      <td>2023 State of the State Address   By: Governor...</td>\n",
       "      <td>4418</td>\n",
       "      <td>4418</td>\n",
       "      <td>1</td>\n",
       "      <td>1</td>\n",
       "    </tr>\n",
       "    <tr>\n",
       "      <th>43</th>\n",
       "      <td>utah</td>\n",
       "      <td>spencer cox</td>\n",
       "      <td>republican</td>\n",
       "      <td>sos</td>\n",
       "      <td>2023 State of the State Address U...</td>\n",
       "      <td>4056</td>\n",
       "      <td>4056</td>\n",
       "      <td>1</td>\n",
       "      <td>1</td>\n",
       "    </tr>\n",
       "    <tr>\n",
       "      <th>44</th>\n",
       "      <td>vermont</td>\n",
       "      <td>phil scott</td>\n",
       "      <td>republican</td>\n",
       "      <td>inaug</td>\n",
       "      <td>Montpelier, Vt. - Governor Phil Scott today wa...</td>\n",
       "      <td>4785</td>\n",
       "      <td>4785</td>\n",
       "      <td>1</td>\n",
       "      <td>1</td>\n",
       "    </tr>\n",
       "    <tr>\n",
       "      <th>45</th>\n",
       "      <td>virginia</td>\n",
       "      <td>glenn youngkin</td>\n",
       "      <td>republican</td>\n",
       "      <td>sos</td>\n",
       "      <td>RICHMOND, VA - Governor Youngkin today deliver...</td>\n",
       "      <td>5987</td>\n",
       "      <td>5987</td>\n",
       "      <td>1</td>\n",
       "      <td>1</td>\n",
       "    </tr>\n",
       "    <tr>\n",
       "      <th>46</th>\n",
       "      <td>washington</td>\n",
       "      <td>jay inslee</td>\n",
       "      <td>democratic</td>\n",
       "      <td>sos</td>\n",
       "      <td>Sign up Sign in Sign up Sign in Governor Jay I...</td>\n",
       "      <td>3430</td>\n",
       "      <td>3430</td>\n",
       "      <td>1</td>\n",
       "      <td>1</td>\n",
       "    </tr>\n",
       "  </tbody>\n",
       "</table>\n",
       "</div>"
      ],
      "text/plain": [
       "            state                gov_name       party   type  \\\n",
       "1          alaska           mike dunleavy  republican    sos   \n",
       "8         florida            ron desantis  republican    sos   \n",
       "12       illinois             jb pritzker  democratic    sos   \n",
       "13        indiana            eric holcomb  republican    sos   \n",
       "15         kansas             laura kelly  democratic    sos   \n",
       "18          maine             janet mills  democratic  inaug   \n",
       "28  new hampshire            chris sununu  republican  inaug   \n",
       "29     new jersey             phil murphy  democratic    sos   \n",
       "30     new mexico  michelle lujan grisham  democratic    sos   \n",
       "34           ohio             mike dewine  republican    sos   \n",
       "35       oklahoma             kevin stitt  republican    sos   \n",
       "40   south dakota             kristi noem  republican    sos   \n",
       "43           utah             spencer cox  republican    sos   \n",
       "44        vermont              phil scott  republican  inaug   \n",
       "45       virginia          glenn youngkin  republican    sos   \n",
       "46     washington              jay inslee  democratic    sos   \n",
       "\n",
       "                                                 text  word_count  \\\n",
       "1   Governor Dunleavy’s 2023 State of the State Ad...        6469   \n",
       "8   From the Space Coast to the Suncoast, from St....        1658   \n",
       "12    Gov. Pritzker Proposes Transformative, Gener...       18781   \n",
       "13  Governor Eric J. Holcomb2023 State of the Stat...        2919   \n",
       "15  Governor Kelly Delivers Her 2023 State of the ...        4494   \n",
       "18  1  Governor Janet T. Mills Second Inaugural Ad...        3737   \n",
       "28  Concord, NH – Please find below Governor Chris...        3348   \n",
       "29  Governor Murphy Delivers 2023 State of the Sta...        5926   \n",
       "30  FROM THE OFFICE OF THE GOVERNOR Editor’s note:...        4422   \n",
       "34  (COLUMBUS, Ohio)—Ohio Governor Mike DeWine tod...        5670   \n",
       "35  Governor Kevin Stitt delivered the first State...        3050   \n",
       "40  2023 State of the State Address   By: Governor...        4418   \n",
       "43               2023 State of the State Address U...        4056   \n",
       "44  Montpelier, Vt. - Governor Phil Scott today wa...        4785   \n",
       "45  RICHMOND, VA - Governor Youngkin today deliver...        5987   \n",
       "46  Sign up Sign in Sign up Sign in Governor Jay I...        3430   \n",
       "\n",
       "    new_word_count  digital_regex  climate_regex  \n",
       "1             6469              1              1  \n",
       "8             1658              1              1  \n",
       "12            6290              1              1  \n",
       "13            2919              1              1  \n",
       "15            4494              1              1  \n",
       "18            3737              1              1  \n",
       "28            3348              1              0  \n",
       "29            5926              1              1  \n",
       "30            4422              1              1  \n",
       "34            5670              1              1  \n",
       "35            3050              1              0  \n",
       "40            4418              1              1  \n",
       "43            4056              1              1  \n",
       "44            4785              1              1  \n",
       "45            5987              1              1  \n",
       "46            3430              1              1  "
      ]
     },
     "execution_count": 121,
     "metadata": {},
     "output_type": "execute_result"
    },
    {
     "data": {
      "text/html": [
       "<div>\n",
       "<style scoped>\n",
       "    .dataframe tbody tr th:only-of-type {\n",
       "        vertical-align: middle;\n",
       "    }\n",
       "\n",
       "    .dataframe tbody tr th {\n",
       "        vertical-align: top;\n",
       "    }\n",
       "\n",
       "    .dataframe thead th {\n",
       "        text-align: right;\n",
       "    }\n",
       "</style>\n",
       "<table border=\"1\" class=\"dataframe\">\n",
       "  <thead>\n",
       "    <tr style=\"text-align: right;\">\n",
       "      <th></th>\n",
       "      <th>state</th>\n",
       "      <th>gov_name</th>\n",
       "      <th>party</th>\n",
       "      <th>type</th>\n",
       "      <th>text</th>\n",
       "      <th>word_count</th>\n",
       "      <th>new_word_count</th>\n",
       "      <th>digital_regex</th>\n",
       "      <th>climate_regex</th>\n",
       "    </tr>\n",
       "  </thead>\n",
       "  <tbody>\n",
       "    <tr>\n",
       "      <th>17</th>\n",
       "      <td>louisiana</td>\n",
       "      <td>john bel edwards</td>\n",
       "      <td>democratic</td>\n",
       "      <td>sos</td>\n",
       "      <td>As prepared for delivery: Mr. Speaker, Mr. Pre...</td>\n",
       "      <td>3996</td>\n",
       "      <td>3996</td>\n",
       "      <td>1</td>\n",
       "      <td>1</td>\n",
       "    </tr>\n",
       "    <tr>\n",
       "      <th>34</th>\n",
       "      <td>ohio</td>\n",
       "      <td>mike dewine</td>\n",
       "      <td>republican</td>\n",
       "      <td>sos</td>\n",
       "      <td>(COLUMBUS, Ohio)—Ohio Governor Mike DeWine tod...</td>\n",
       "      <td>5670</td>\n",
       "      <td>5670</td>\n",
       "      <td>1</td>\n",
       "      <td>1</td>\n",
       "    </tr>\n",
       "  </tbody>\n",
       "</table>\n",
       "</div>"
      ],
      "text/plain": [
       "        state          gov_name       party type  \\\n",
       "17  louisiana  john bel edwards  democratic  sos   \n",
       "34       ohio       mike dewine  republican  sos   \n",
       "\n",
       "                                                 text  word_count  \\\n",
       "17  As prepared for delivery: Mr. Speaker, Mr. Pre...        3996   \n",
       "34  (COLUMBUS, Ohio)—Ohio Governor Mike DeWine tod...        5670   \n",
       "\n",
       "    new_word_count  digital_regex  climate_regex  \n",
       "17            3996              1              1  \n",
       "34            5670              1              1  "
      ]
     },
     "execution_count": 121,
     "metadata": {},
     "output_type": "execute_result"
    }
   ],
   "source": [
    "len(sos[sos['text'].str.contains('data')])\n",
    "sos[sos['text'].str.contains('data')]\n",
    "sos[sos['text'].str.contains('digital')]"
   ]
  },
  {
   "cell_type": "markdown",
   "id": "891945e3",
   "metadata": {},
   "source": [
    "### Digital "
   ]
  },
  {
   "cell_type": "code",
   "execution_count": 114,
   "id": "5972e3b6",
   "metadata": {},
   "outputs": [],
   "source": [
    "digital_terms = ['data', 'digital', 'technology']"
   ]
  },
  {
   "cell_type": "code",
   "execution_count": 115,
   "id": "17bd53f4",
   "metadata": {},
   "outputs": [],
   "source": [
    "def search_for_terms(text, search_terms):\n",
    "    result = 0\n",
    "    for term in search_terms:\n",
    "        if re.search(term, text, re.IGNORECASE):\n",
    "            result = 1 \n",
    "            break       \n",
    "    return result"
   ]
  },
  {
   "cell_type": "code",
   "execution_count": 116,
   "id": "f38cbae7",
   "metadata": {},
   "outputs": [],
   "source": [
    "sos['digital_regex'] = [search_for_terms(i, digital_terms) for i in sos.text]"
   ]
  },
  {
   "cell_type": "code",
   "execution_count": 117,
   "id": "95696625",
   "metadata": {},
   "outputs": [],
   "source": [
    "data_y = sos[sos.digital_regex == 1]"
   ]
  },
  {
   "cell_type": "code",
   "execution_count": 118,
   "id": "c1e50354",
   "metadata": {},
   "outputs": [
    {
     "data": {
      "text/plain": [
       "32"
      ]
     },
     "execution_count": 118,
     "metadata": {},
     "output_type": "execute_result"
    }
   ],
   "source": [
    "data_y.shape[0]"
   ]
  },
  {
   "cell_type": "code",
   "execution_count": 119,
   "id": "ec89fd64",
   "metadata": {},
   "outputs": [],
   "source": [
    "def extract_sentences_with_context(text, terms):\n",
    "    sentences = re.split(r'(?<!\\w\\.\\w.)(?<![A-Z][a-z]\\.)(?<=\\.|\\?)\\s', text)\n",
    "    relevant_comments = []\n",
    "    for i, sentence in enumerate(sentences):\n",
    "        for term in terms:\n",
    "            if term.lower() in sentence.lower():\n",
    "                start_index = max(0, i - 2)\n",
    "                end_index = min(len(sentences), i + 3)\n",
    "                relevant_sentences = sentences[start_index:end_index]\n",
    "                relevant_comment = ' '.join(relevant_sentences)\n",
    "                relevant_comments.append(relevant_comment)\n",
    "                break\n",
    "    return relevant_comments"
   ]
  },
  {
   "cell_type": "code",
   "execution_count": 123,
   "id": "414c6906",
   "metadata": {},
   "outputs": [
    {
     "name": "stderr",
     "output_type": "stream",
     "text": [
      "/var/folders/5_/9k6tj5157bx2n0nwswpfzhhw0000gn/T/ipykernel_45190/2319154711.py:1: SettingWithCopyWarning: \n",
      "A value is trying to be set on a copy of a slice from a DataFrame.\n",
      "Try using .loc[row_indexer,col_indexer] = value instead\n",
      "\n",
      "See the caveats in the documentation: https://pandas.pydata.org/pandas-docs/stable/user_guide/indexing.html#returning-a-view-versus-a-copy\n",
      "  data_y['digital_comments'] = [extract_sentences_with_context(i, digital_terms) for i in data_y.text]\n"
     ]
    }
   ],
   "source": [
    "data_y['digital_comments'] = [extract_sentences_with_context(i, digital_terms) for i in data_y.text]"
   ]
  },
  {
   "cell_type": "code",
   "execution_count": 124,
   "id": "b17e328f",
   "metadata": {},
   "outputs": [
    {
     "data": {
      "text/plain": [
       "array(['alabama', 'alaska', 'colorado', 'delaware', 'florida', 'hawaii',\n",
       "       'illinois', 'indiana', 'kansas', 'louisiana', 'maine', 'maryland',\n",
       "       'massachusetts', 'michigan', 'mississippi', 'montana', 'nevada',\n",
       "       'new hampshire', 'new jersey', 'new mexico', 'new york',\n",
       "       'north carolina', 'north dakota', 'ohio', 'oklahoma',\n",
       "       'south carolina', 'south dakota', 'tennessee', 'utah', 'vermont',\n",
       "       'virginia', 'washington'], dtype=object)"
      ]
     },
     "execution_count": 124,
     "metadata": {},
     "output_type": "execute_result"
    }
   ],
   "source": [
    "data_y.state.values"
   ]
  },
  {
   "cell_type": "code",
   "execution_count": 125,
   "id": "f7d555ab",
   "metadata": {},
   "outputs": [
    {
     "name": "stdout",
     "output_type": "stream",
     "text": [
      "ALABAMA\n",
      "['That must begin with improving the school choice we already have: Our charter school options and the Alabama Accountability Act. I am proposing we provide startup funds for Charter Schools and make needed reforms to the governance of the Charter School Commission in order to create better accountability.  Page 6 of 8   These actions will allow more charter schools to form and to ensure high quality education and ultimately…create more choices for parents!  Alabama also continues to support destination magnet schools including the Alabama School of Cyber Technology and Engineering, the Alabama School of Fine Arts and the Alabama School of Math and Science. All are excellent options, and they are most certainly a part of what school choice means in Alabama.   In order for Alabama to be innovative tomorrow, we must be innovative in how we teach our students to learn today.', '  In order for Alabama to be innovative tomorrow, we must be innovative in how we teach our students to learn today. It’s schools like these that immerse them into subject areas like computer science or writing or even ballet.   I announced the creation of the Alabama School of Cyber Technology and Engineering during my first state of the state address in 2018.   Now, tonight, I am proposing we establish the Alabama School of Healthcare Sciences to address the growing healthcare worker shortage we are predicted to experience in the coming years.  This new healthcare high school, to be located in Demopolis, will offer an innovative curriculum for 9th through 12th graders, exposing them to a diversity of STEM and healthcare opportunities, as well as hands-on clinical training experiences.'] \n",
      "\n",
      "ALASKA\n",
      "[' For that reason, my Statehood Defense budget goes beyond additional funding for our legal efforts. It has to.  Governor Dunleavy’s 2023 State of the State Address 10 We need legal resources, but we also need to fund research to defend ourselves against these Outside actions that threaten to close down areas as large as Texas or California based upon flawed, contrived, or incomplete data and assumptions.  However, we can’t just play defense. We must also go on the offense as well.'] \n",
      "\n",
      "COLORADO\n",
      "['Todaywe’re joined by Sheriff Tyler Brown, who actually came straight to the Capitol from a swearing inceremony for new officers who were recruited with support from the funding that you passed lastyear.172023 State of State Address As Prepared for Delivery for Colorado Governor Jared Polis -January 17, 2023Join me in welcoming Sheriff Tyler Brown and thanking him for all his incredible work! (UPPERGALLERY - DIRECT RIGHT)We’re also joined by Summit County Sheriff Jaime Fitzsimons, Estes Park Chief of Police DavidHayes, Pueblo Police Chief Chris Noeller, Chief of Auraria Campus Police Mike Phibbs, andChief Matt Packard of the Colorado of the State Patrol.Thank you for the commitment of all of our men and women in blue for keeping our communitiessafe!Equally important is the work of our community organizations who are helping kids achievefuture success.Thanks to legislation passed last year with the leadership of Representative Daugherty,Representative Gonzales Gutierrez, Senator Coleman and Senator Hinrichsen, Boys and GirlsClubs in Colorado received funding to launch a pilot across 21 club sites in 15 counties toprovide meaningful enrichment opportunities outside of school to help youth reach their fullpotential and avoid entering the justice system.These services will reach thousands of kids across our state. Today we are joined by the 2022Youth of the Year Winner, Ameya (UH-MY-UH) Garcia, her parents, and Boys & Girls Clubleaders from around the state, including Executive Director Kaycee Headrick. Please join me inthanking them for all their work! (UPPER GALLERY MIDDLE RIGHT)To build on this work, I’m proposing an additional package that will provide even more resourcesfor local law enforcement officers and community organizations doing work on the ground.This funding will also help us crack down on auto theft with stronger tools like technology to helpus locate and return stolen vehicles, an auto-theft task force, and greater support for DistrictAttorneys in communities with high rates of auto theft to help them successfully prosecute thecriminals responsible. Last fall I called on the Commission on Criminal and Juvenile Justice toget tough on auto theft sentencing, and just last week the Commission’s Sentencing Task Forcemoved that recommendation forward overwhelmingly. I look forward to seeing the GeneralAssembly take up this important recommendation.This is an issue that has affected some of you in this room and so many of our fellowColoradans, and I look forward to working with all of you to find an effective solution.We’re also investing in proven crime prevention strategies; expanding the capacity of theColorado Bureau of Investigation; and improving school safety by helping our schools makenecessary security improvements, expanding threat assessment training, and creating aone-stop shop to help schools and parents get the resources they need.182023 State of State Address As Prepared for Delivery for Colorado Governor Jared Polis -January 17, 2023I want to recognize a dedicated partner in our efforts to make Colorado safer, Attorney GeneralPhil Weiser.Partnership with our local leaders is also critical to making Colorado safer, and I want to thankColorado Springs Mayor John Suthers, Aurora Mayor Mike Coffman, and Denver Mayor MichaelHancock, who is represented today by Acting Mayor Laura Aldrete (ALL-DRETTI), for theirleadership.'] \n",
      "\n",
      "DELAWARE\n",
      "['Von is also an assistant professor at Delaware State University. They use software to analyze muscle and joint activity. Their cutting-edge technology allows sports teams to monitor athletes, reduce injuries, and improve performance. Von and Nicole are with us today in the gallery. Please join me in recognizing them for their hard work and their innovative company.', 'Please join me in recognizing Mayor Branner for his long and successful service to his hometown.   Another $500 million transformation is underway at the Chestnut Run Innovation & Science Park along Route 141. This will be a science and technology campus anchored by DuPont, Prelude Therapeutics, and Solenis.  Together, we’re building Delaware’s future economy. And DPP, led by Kurt Foreman and his talented team, is leading the way.', ' And it was critical in bringing WuXi STA to Middletown.   Our Lieutenant Governor serves as the State’s representative on NIIMBL. And I want to thank her for her work in promoting science and technology in our state.  At Delaware State University, President Allen and his team recently received the largest research grant in the university’s history. The $18.3 million grant from the NIH will fund research into health disparities in minority communities.'] \n",
      "\n",
      "FLORIDA\n",
      "['But fight we must. We embrace our founding creed that our rights are not granted by the courtesy of the State, but are endowed by the hand of the Almighty. We reject the idea that self-government can be subcontracted out to technocratic elites who reduce human beings to mere data points. We insist on the restoration of time-tested constitutional principles so that government of, by and for the people shall not perish from this earth. Florida has led the way in preserving what the father of our country called the “sacred fire of liberty.” It is the fire that burned in Independence Hall when 56 men pledged their lives, their fortunes and their sacred honor to establish a new nation conceived in liberty.'] \n",
      "\n",
      "HAWAII\n",
      "['By advocating for our local interests and through dialogue with our partners, we can create more opportunities for Hawai‘i’s people.  12 of 17   12 of 17   I am pleased to share that we are working on an initiative with federal, community, and international partners to pursue investments in cutting-edge hydrogen technologies for Hawai‘i. Through cooperation with partners in Japan, Australia, New Zealand, and the United States Congress, this technology can help stabilize the Pacific’s energy resilience, promote our defense infrastructure, and reduce our reliance on fossil fuels.  To that end, we are preparing a historic application to potentially bring in over a billion dollars in federal and private sector investments to our state through a regional Hydrogen Hub. The integration of hydrogen technology into our grid, along with the continued expansion of traditional renewable energy infrastructure, will give utilities, businesses, and local talent an international advantage, with the potential to turn our state into a regional energy exporter.', 'Through cooperation with partners in Japan, Australia, New Zealand, and the United States Congress, this technology can help stabilize the Pacific’s energy resilience, promote our defense infrastructure, and reduce our reliance on fossil fuels.  To that end, we are preparing a historic application to potentially bring in over a billion dollars in federal and private sector investments to our state through a regional Hydrogen Hub. The integration of hydrogen technology into our grid, along with the continued expansion of traditional renewable energy infrastructure, will give utilities, businesses, and local talent an international advantage, with the potential to turn our state into a regional energy exporter. Through proactive efforts like these, Hawai‘i is leading our Pacific neighbors into the future. Not just through defense initiatives, but through greater economic, energy, and cultural integration.'] \n",
      "\n",
      "ILLINOIS\n",
      "[\"This is our moment to take it all to the next level.Economic GrowthJust a few weeks ago, Illinois was named the number one state in our region for workforce development. That's because we're making the necessary investments in job training. Let's hold onto that title by investing another $25 million into Illinois Works for diverse hiring in the trades, $10 million for high school vocational training for the electric vehicle workforce, $1 million for data center operator training, and $20 million in grants to recruit, train, and rapidly upskill workers for job openings at Illinois companies. And we're going to need every one of those skilled workers and many more, because as of today, we have more than 81,000 more job openings in Illinois than we have skilled workers to fill them. And our economy and our industries are continuing to grow.\", 'And our economy and our industries are continuing to grow. Capital investments in Illinois through EDGE agreements nearly tripled since before the pandemic — from $348 million in 2019 to $1 billion in 2022. And the number of new jobs created by EDGE has jumped nearly 60 percent.The data center industry is booming in Illinois — creating more than 8,000 jobs just since the passage of our bipartisan Data Center Tax Credit in 2019. Since then, Illinois has become the second largest data center market in the United States, and the fifth largest in the world. And our expansion of clean energy production under CEJA is expected to feed our data center growth for years to come.', \"Capital investments in Illinois through EDGE agreements nearly tripled since before the pandemic — from $348 million in 2019 to $1 billion in 2022. And the number of new jobs created by EDGE has jumped nearly 60 percent.The data center industry is booming in Illinois — creating more than 8,000 jobs just since the passage of our bipartisan Data Center Tax Credit in 2019. Since then, Illinois has become the second largest data center market in the United States, and the fifth largest in the world. And our expansion of clean energy production under CEJA is expected to feed our data center growth for years to come. Thanks to our Film Tax Credit, TV and film production revenue in Illinois reached a record high last year of almost $700 million, including $400 million in wages paid and more than 15,400 jobs.Cannabis legalization has created more than 30,000 jobs since 2020, and Illinois is home to the country's most diverse cannabis industry and some of the largest companies.From Kellogg and 4Front to Ferrero and Tyson to Rivian and Lion Electric, large businesses are moving to and expanding in Illinois.So too are small businesses.\", \"And the number of new jobs created by EDGE has jumped nearly 60 percent.The data center industry is booming in Illinois — creating more than 8,000 jobs just since the passage of our bipartisan Data Center Tax Credit in 2019. Since then, Illinois has become the second largest data center market in the United States, and the fifth largest in the world. And our expansion of clean energy production under CEJA is expected to feed our data center growth for years to come. Thanks to our Film Tax Credit, TV and film production revenue in Illinois reached a record high last year of almost $700 million, including $400 million in wages paid and more than 15,400 jobs.Cannabis legalization has created more than 30,000 jobs since 2020, and Illinois is home to the country's most diverse cannabis industry and some of the largest companies.From Kellogg and 4Front to Ferrero and Tyson to Rivian and Lion Electric, large businesses are moving to and expanding in Illinois.So too are small businesses. After a successful first round of grants, we are adding an additional $20 million to our Rebuild Illinois Downtowns and Main Streets Capital Program to spruce up and modernize central business districts all across Illinois so small businesses will thrive.\", \"So we've beefed up support for law enforcement to reduce crime. In 2022, Illinois State Police's Metropolitan Enforcement Groups and Drug Task Forces across the state seized 679 firearms and over 13 tons of drugs including multiple major interdictions of deadly fentanyl, and 1,942 individuals involved in crimes were arrested. With increased patrols and technology, ISP cut the number of homicides on Chicago area expressways by 88% and shootings dropped nearly in half. That's real progress, and this year's budget continues funding the hiring of additional troopers and upgrading the tools to catch perpetrators.Rebuilding our Social ServicesHand in hand with public safety are the human services necessary for people most in need. Over the last decade, human services in Illinois were challenged in two ways: first, by massive budget cuts, and then, by the pandemic.\", \"This initiative recognizes that while DCFS and DHS are on the frontlines of caring for our most vulnerable children, it will take a whole of government, inter-agency approach to truly provide the care our children deserve. In alignment with the initiative's recommendations, we are investing another $10 million towards a two-year expansion of the Comprehensive Community Based Youth Services program focused on youth aged 11 to 17 who are at risk of involvement in the child welfare system or the juvenile justice system. This funding will expand 24/7 services to youth — including assessments, crisis stabilization, and housing.This fiscal year, for the first time in a decade, DHS began selecting children from the PUNS waiting list, a database that registers individuals with developmental disabilities, to receive home and community-based care. This work must continue. Over the next fiscal year, DHS plans to offer services to an additional 500 children on the list.\"] \n",
      "\n",
      "INDIANA\n",
      "['In fact, this initiative will come from the willing counties, to design and propose ways to leverage their own funds in an 80-20 state and local mix. Our health and wellbeing challenges of course extend to addressing mental health problems, helping Hoosiers defeat addiction, maternal and infant mortality, and assisting our veterans who face double the risk of dying by suicide than other groups. So, our localized pathways to improvement must include programs to attack these issues, close to home, by building sustainable systems that prevent and respond to a crisis – like our 988 system is doing today – and investing in data-driven, evidence-based community programs with the opioid settlement funds we’re now receiving. We don’t have a day or a dollar or a life to waste, so taking the next four months to get it right: nothing could be more important. Just as we craft our new state public health system, we already have a great example of a tailor-made community development program.', 'And there is no more essential service than public safety. That’s why my budget calls for major investments in school safety, law enforcement and our firefighters across the state. Specifically, I am asking the General Assembly to join me by increasing school safety grants by 30%, fully funding our courts’ request to upgrade technology and make greater use of our problem-solving courts, making investments to finally realize a true statewide firefighter training system, and to buy the necessary protective equipment for our volunteer forces. And let’s raise the starting pay for Indiana’s State Police to $70,000 a year! Ladies and gentlemen, in closing, I hope you will take away a few things from tonight. Number one, I’m proud of our stewardship of state government.'] \n",
      "\n",
      "KANSAS\n",
      "['  That includes Ron and Marsha Schilling, respectively fourth- and fifth-generation family farmers, whom I met on my trip to Edson, a town near Goodland – along with their granddaughter, Kaelyn.   In the early 2000s, water tables indicated that there were very few years left to continue irrigated agriculture in the Goodland area. Instead of throwing up their hands, Ron and Marsha literally threw down their plows, implementing water conservation practices like strip-till and water-saving irrigation technology.  Now, 20 years later, it turns out that their work has more than paid off. The Schillings are growing more bushel with less water, increasing the life of the Ogallala Aquifer in their region.', '   Every single other state surrounding us has expanded Medicaid – including Republican-led states like Iowa, Oklahoma, Missouri, Nebraska, and South Dakota. In many cases, it was because the issue was taken directly to the people – who, not surprisingly, voted in favor of jobs and healthcare.   The data show Kansans are aligned with our neighbors. The Docking Institute at Fort Hays State University has long tracked this issue, and now finds that more than 7 in 10 – over 70% of – Kansans support expanding Medicaid.   It’s clear that blocking Medicaid Expansion means working directly against the interests and preferences of the people of Kansas.', 'Let’s get a bill passed this session that decriminalizes these strips and prevents exposure to fentanyl in the first place – long before it kills more Kansans.  Much of tonight has been about the next four months.   And to be clear, as evidenced in my budget, there’s much more I am focused on: Expanding high-speed internet…building and rehabbing middle-income and affordable housing…keeping higher education accessible…and shoring up our state’s technology and cybersecurity.  But now, I want to talk about the next four years, and the decades after that.  During my swearing in, I said our North Star is making Kansas the best place in America to raise a family.'] \n",
      "\n",
      "LOUISIANA\n",
      "['Simply put, we have actively fought for and received every dollar available to us and then some. Another way we can improve our workforce is by ensuring that every person in Louisiana has access to high speed internet. We committed to close the digital divide by 2029, and we are well on our way to accomplishing that goal. We’ve put $177 million of federal funding to work and partnered with private internet providers to invest more than $300 million to expand broadband to 80,000 unserved addresses. We are leading America in broadband expansion, and will get more than $1 billion from the Bipartisan Infrastructure Law to fund more GUMBO grants to complete the work.'] \n",
      "\n",
      "MAINE\n",
      "[' Will they appreciate that, for their sake and ours, we began to rid our farms and waters of the forever chemicals known as “PFAS”? Will they see how we promoted health and education; celebrated arts and literature; preserved our precious right to vote and conducted free and fair elections? How we adjusted to technology and innovation? How we adapted and evolved through tumultuous times, exploring new sources of energy, electricity, new modes of communication and travel?  I hope so.', 'You, the Maine Legislature, have provided hope.  Hope is about finding new and innovative ways to solve our problems, using the ingenuity and courage we rediscovered within ourselves these last few years.  And I see hope all across this state today:  —  There is hope in the work of University of Maine students devising new uses for wood, and ways to harness the power of the raw winds of the Atlantic, and methods to build homes with bio-based materials from a giant printer;  8  — There is hope in the aspirations of innovators at the Roux Institute, using artificial intelligence and data analytics to solve complex problems;  — Hope in cities like Waterville, Biddeford and Westbrook, evolving from their industrial past, reinventing their downtowns and attracting new families and businesses every day;  — Hope in the faces of the women shopkeepers in Lewiston and Portland who are selling fabrics, foods and spices from other countries, these industrious mothers of soccer champions, daughters of another continent;  — Hope in the vision of enterprising artists, poets, musicians, architects, writers and makers of crafts in every corner of this state;  — Hope in the far reaches of the County, Downeast, and in the shadows of our western mountains where farmers, foresters, fishermen, hunters, storekeepers, and tourists co-exist;  — There is hope too in the eyes of those who have forded raging rivers, thick forests, steep mountains and rough seas to seek refuge and work in our country and in our state.  There is hope for the future, just as it was hope that saw us through troubled times in the past.  The charge, the responsibility we take up today is to choose action over acquiescence and apathy, to make decisions grounded in experience with an eye to the future, and always to be a part of something larger than ourselves.'] \n",
      "\n",
      "MARYLAND\n",
      "[\" But today, we can make a decision, that we will refuse to accept that, and Maryland will lead the way. Today, we have someone here today who shines a light on the possibilities before us if we achieve this goal. Ryan Hemminger, is the Chief Financial Officer of one of Maryland's most successful, and impactful, technology companies. He also co-founded a social enterprise organization that brings young people facing the most significant opportunity and achievement gaps across the divide. Many of you know Ryan as an accomplished business leader, a dedicated mentor, and strong partner with our communities.\"] \n",
      "\n",
      "MASSACHUSETTS\n",
      "['In me, you will have a partner every step of the way. That begins with making sure you have the work force you need. Tens of thousands of jobs in health care, transportation, and technology are going unfilled because the skills of our workers don’t match the demands of our economy. Let’s work with our community colleges and vocational schools, and make sure the training we offer meets the needs of our companies in every region. In my first budget, I will create and fund a new program called MassReconnect.'] \n",
      "\n",
      "MICHIGAN\n",
      "['The Working Families Tax Credit benefits all kinds of families, and it directly impacts nearly 1 million children—almost half the kids in Michigan. It will put hundreds of millions back in family budgets to help with rent, school supplies, and food on the table.      Data shows boosting the Working Families Tax Credit also closes health and wealth gaps. Children who grow up with this support have better test scores, graduation rates, and earnings as adults.      The credit especially benefits single moms and working class families of every race in all 83 counties—from city centers to small towns.', 'Representative Andrews, I hope you’re enjoying some well-deserved time with your baby. Congratulations to you and especially to your wife, Lora, another strong Michigan woman who is already an incredible mom.      Data shows that children who go to preschool are: more likely to graduate, earn a certificate or degree, and get a good-paying job. Preschool helps employers too, which is why so many business groups support it.      Unfortunately, affordable preschool is hard to find right now.', '     Right now, there is a flood of illegal guns on our streets. There’s been a rise of break-ins at gun dealerships and straw purchases, where one person illegally buys a firearm for another. Firearms are getting more dangerous too, thanks to 3D printed technology called Glock switches that turn semi-automatic weapons fully automatic.      That’s why we launched Operation Safe Neighborhoods, taking hundreds of illegal firearms off the street before they could be used in the commission of a crime. But we must do more so the world our kids inherit is not more violent than the one we inhabit now.', 'Throughout my second term, I will continue finding ways to keep fixing the damn roads. And as we fix them, let’s build the most innovative transportation systems in the country. With new smart road technology, we can avert hundreds of crashes and get the next-generation of made-in-Michigan vehicles on the road.     We also have billions in federal resources from the Bipartisan Infrastructure Law headed our way. To invest them as efficiently as possible, I established the Michigan Infrastructure Office.'] \n",
      "\n",
      "MISSISSIPPI\n",
      "['That’s why I was proud to sign legislation giving Mississippi teachers the largest pay raise in state history. We elevated teacher salaries above not only the Southeastern average, but even above the national average! Mississippi’s teachers earned those raises, and I was proud to sign them into law. But regardless of the technology or textbooks we put in front of our kids, nothing is more influential to a child’s educational development than parents. And when it comes to education, Mississippi should protect parents’ voices and their right to be involved in the classroom. Because at the end of the day, the state doesn’t run a child’s life – parents do.', 'Because, at the end of the day, the real answers to our problems are not contained in the same old proposals that only serve to delay the inevitable at the expense of taxpayers. The real answer to our problems lies in innovation. Technology is changing, and the way healthcare is delivered is changing. Our policies must adapt with the times and facilitate care that focuses not on institutions but on the patients we seek to support. Throughout modern history we’ve witnessed innovation disrupt industries such as manufacturing, transportation, food, and entertainment.', 'Today, they can watch them at home and on an airplane. On cable TV, Netflix, and every streaming service in between. The fact of the matter is that technology and innovation lead to new opportunities. The same can be said of our healthcare system. There was a time when if you needed medical services, you had to go to a large brick and mortar hospital – that was your only choice.'] \n",
      "\n",
      "MONTANA\n",
      "[' Geographic boundaries are no longer a constraint. We must modernize our way of thinking about education beyond traditional geographic barriers. We can do that through Representative Llew Jones’ bill to transform the Montana Digital Academy. I ask you to pass this bill and get it to my desk. Let’s double the cap on the Big Sky Scholarship to expand parental choice in K-12 education.'] \n",
      "\n",
      "NEVADA\n",
      "[' Unfortunately, we’ve lost ground in this area and it’s our job to inform the world Nevada has re-opened for business.  Our best opportunities for economic growth are providing, a pro-business environment for the 350,000 businesses that currently call Nevada home and offering a pro-development invitation for the expansion of new business. Whether it’s closing the lithium loop, unlocking innovation and investment in logistics, entertainment, science and technology, or embracing entrepreneurship, the message is, that Nevada is ready to partner. Case in point… I am looking forward to joining Elon Musk and the team at Tesla tomorrow when they unveil plans to build a brand new $3.5 Billion-dollar advanced manufacturing facility in northern Nevada for the company’s all-electric semi-trucks. Economic development matters.'] \n",
      "\n",
      "NEW HAMPSHIRE\n",
      "[\"When other states closed–down businesses, we kept their lights on – and invested in their success. When other states used the pandemic as an excuse to raise taxes or permanently alter government's influence, it was NH that cut taxes, it was NH that said NO to mandates, and it was NH became the fastest growing state in the region. We threw politics out the window, followed the data, and we chartered a new course. As a result, NOT only is our economy the strongest in the region –– But we were ranked as one of the Safest States in the country during COVID: Simply put – New Hampshire IS the envy of the nation, the gold standard of states, and #1 place in America to live, work, and raise a family. Today in New Hampshire, we are recognized as having America's best Return on Taxpayer Investment We are ranked The Number One State for Personal Freedoms The Number One State for Economic Opportunity The Number One State for Public Safety With the Lowest Poverty Rate in America These rankings are nice and all – but they don't tell the full story: That of The New Hampshire Advantage Now I admit – It is not a fair fight to compare us to the 49 other states.\"] \n",
      "\n",
      "NEW JERSEY\n",
      "['  First, our state has regained and grown new jobs for 31 consecutive months.   Our unemployment rate stands at 3.4 percent – lower than the national rate and the lowest since right before the pandemic.   Moreover, in the 3rd quarter of 2022, the most recent quarter for which we have data, New Jersey’s GDP grew 3.9 percent above the level of the 2nd quarter – the tenth biggest jump in the nation, and the highest growth rate of any state in our entire northeastern neighborhood.   And more than half-a-point above the national average.   And we outpaced many of the so-called “business friendly” states – states that some claim we have to emulate.', '  We are growing an entirely new and broad-based adult-use cannabis industry – an industry that is making room for women and minority small business owners, folks like Darrin Chandler Jr., who is with us today.   We remain a leader in all aspects of online gaming and sports wagering.   We are a leader in the financial services technology sector, as evidenced by Fiserv’s opening of its new office in Berkeley Heights, in Union County, where roughly 3,000 jobs will be centered.   We are taking full advantage of our location to be a global trading hub, as evidenced by the clothing retailer Uniqlo’s decision to put their major logistics operations in Phillipsburg, in Warren County.   And we are reclaiming our historic standing as the Medicine Chest to the World, welcoming tomorrow’s leaders in the life sciences while keeping companies that have proudly called New Jersey home right here – companies like Roche, which is expanding its manufacturing footprint and creating new jobs in Branchburg, in Somerset County.'] \n",
      "\n",
      "NEW MEXICO\n",
      "['We’re calling the program Kids’ Kitchens—and wherever kids are, there ought to be a kitchen working to keep them healthy, strong, and ready to learn. With this program, New Mexico is literally providing food for thought. I’m also proposing that we revamp special education with extended learning time, data-driven services and extra support for special ed teachers—because every student deserves a world-class education. I think we need to do more in order to show our appreciation for the amazing people who work in our schools. I am proposing that New Mexico cover all healthcare premiums for school personnel—and that we give them an additional four percent raise.'] \n",
      "\n",
      "NEW YORK\n",
      "['That’s why we will do more, working with federal and local partners, to stop the flow of illicit drugs into our communities and address new deadly additives like xylazine. We’ll send resources to localities that are working to shut down fentanyl suppliers. We will keep expanding access to technology that can detect deadly additives before they are used, and that can reverse overdoses. And we will create a new interagency task force that examines every possible solution. Because we must meet this crisis with the urgency it demands.'] \n",
      "\n",
      "NORTH CAROLINA\n",
      "['And they worked collaboratively to do something about it. Today, we know their work as the Research Triangle Park. Thirty-nine years ago, spotting yet another shift in industry, our leaders gathered strength from our word-class universities, medical schools and researchers to launch the North Carolina Biotechnology Center which has helped to spark a surging life sciences sector in our economy. Time and again, overcoming adversity, our leaders had the foresight and the resolve to invest in new ideas that have revolutionized our state, impacting the generations that followed. And while we stand on their shoulders, we also stand at an altogether new crossroads.', 'And we’re taking action to reach those goals, because progress is never passive. And it’s not just clean energy that’s thriving in our state. Technology, aerospace, biotechnology, advanced manufacturing, and many more industries are building for growth in North Carolina. In 2022, we broke records yet again, with tens of thousands of new jobs last year alone. From the cities of Charlotte and Greensboro to the counties of Halifax and Scotland, in urban and rural areas far and wide, North Carolina continues to be the best place for people to live, learn, work and raise a family.', 'And thanks to the generational investments of the American Rescue Plan and the Bipartisan Infrastructure Law we’re investing more than $2 billion to do what once seemed a faraway dream. We’re going to ensure that every home in North Carolina has access to high-speed internet. And our Office of Digital Equity and Literacy — the first in the nation — is working to ensure that everyone can get online with affordable devices and good training. Getting more people online means healthier communities. That’s something Phyllis Pillmon knows well.'] \n",
      "\n",
      "NORTH DAKOTA\n",
      "['  Our farmers and ranchers battle every day to provide food security for our state, country and world. They fight through challenging weather, through droughts and fires, blizzards and floods.   They innovate and expand the use of technology to boost yields and are implementing resilient and regenerative farming and grazing practices. They work through burdensome red tape pushed down from the federal government.   These farm and ranch families are the backbone of our rural state, and the work they do is feeding the growing world, and for that, we all should be grateful.', \"I’m excited to announce that last week, the Federal Aviation Administration granted initial approval to allow one of our private sector partners to fly a drone, beyond visual line of sight, using Vantis, our first-of-its-kind air traffic control network for UAS operations.   This approval is a critical step that validates the state's investment and years of work to bring drones to commercial sectors in a safe and economic way. Other states are reaching out to us as a leader in this technology. To build on this momentum, our budget proposes a $30 million investment in Vantis and $7 million for the Grand Sky UAS business and aviation park in Grand Forks.   #####  Just as we compete with other states in business sectors like ag, energy and tourism, our communities also must compete with other cities across the country for capital and talent.\", '  As national and state enrollment trends decrease, it’s vital we provide our institutions the resources to respond to workforce needs more rapidly. We urge the legislature to 17  advance the proposed $10 million innovation workforce grant to provide the resources necessary to quickly create programs that respond to those needs.   Our research universities also are teaming up with 11 universities in five states (ND, SD, WY, MT and ID) on the Regional Technology and Innovation Alliance. Our administration will work with this alliance and our regional governors to ensure we succeed in our pursuit of federal research grants to advance the next generation of technology and reduce our nation’s reliance on foreign adversaries for critical technology such as microchips.   #####  Through the First Lady’s courageous leadership in openly sharing her own story of her long battle with the disease of addiction, and of her nearly 21 years of recovery, she has inspired thousands of others still trapped in the disease of addiction, and their loved ones, that the dream and hope of recovery exists for all that act.', 'We urge the legislature to 17  advance the proposed $10 million innovation workforce grant to provide the resources necessary to quickly create programs that respond to those needs.   Our research universities also are teaming up with 11 universities in five states (ND, SD, WY, MT and ID) on the Regional Technology and Innovation Alliance. Our administration will work with this alliance and our regional governors to ensure we succeed in our pursuit of federal research grants to advance the next generation of technology and reduce our nation’s reliance on foreign adversaries for critical technology such as microchips.   #####  Through the First Lady’s courageous leadership in openly sharing her own story of her long battle with the disease of addiction, and of her nearly 21 years of recovery, she has inspired thousands of others still trapped in the disease of addiction, and their loved ones, that the dream and hope of recovery exists for all that act.   Since 2017, with passion and dedication she has focused the mission of Recovery Reinvented around ending the shame and stigma that surrounds this chronic brain disease – thus removing the social barriers that prevent people from reaching out for help and accessing vital treatment and recovery resources.', 'Let’s keep that momentum going and do the same for our active-duty men and women in uniform.    #####  In May of 1974, a shaggy-haired high school senior in Arthur, North Dakota, was writing his high school graduation speech and was listing the world’s problems: inflation, political scandal, pollution, overpopulation, the energy crisis, wars, and seemingly endless shortages. It was rather ironic, he mused, that in this world of “space age technology” and automation, that all the problems he listed were man-made.   Looking back now, it’s incredible how many of those problems we’re still facing today. But as 18-year-old me said then, and still believes today, I prefer not to think of them as problems, but as challenges.'] \n",
      "\n",
      "OHIO\n",
      "[' With the development of these sites, every single Ohio citizen will be within commuting distance of at least one of these sites. Innovation is in our blood!  And with your help, we now have thriving Innovation Districts in Cincinnati, Columbus, and Cleveland.  They partner businesses with our colleges and universities to develop new STEM education talent, create tens of thousands of jobs, and bring about new research, extraordinary technology, and life-saving medical advancements. In our budget, we will invest an additional $150 million to create new Innovation Hubs in regions throughout the State.  These hubs will bring together each community’s strengths to encourage more economic development and attract the very best talent.', ' Through your support of our Violent Crime Reduction Grant Program, we are helping communities better fight and prevent crime.  For example, in Westlake, the Police Department came to us because of a significant spike in domestic violence, aggravated assault, and gun crimes.  With our grant funding, they purchased technology that helps predict where crime will occur.  As a result, Westlake has reduced their gun-related crimes by 77 percent! We have also created the Ohio Narcotics Intelligence Center or O-NIC, whose focus all day, every day is helping local authorities with drug trafficking investigations.  Many law enforcement agencies don’t have the capacity to process large amounts of data from computers and cell phones.', ' With our grant funding, they purchased technology that helps predict where crime will occur.  As a result, Westlake has reduced their gun-related crimes by 77 percent! We have also created the Ohio Narcotics Intelligence Center or O-NIC, whose focus all day, every day is helping local authorities with drug trafficking investigations.  Many law enforcement agencies don’t have the capacity to process large amounts of data from computers and cell phones.  O-NIC can help.  So far, they have assisted in nearly 3,200 criminal investigations and analyzed more than 7,500 digital devices.', ' Many law enforcement agencies don’t have the capacity to process large amounts of data from computers and cell phones.  O-NIC can help.  So far, they have assisted in nearly 3,200 criminal investigations and analyzed more than 7,500 digital devices. Now, I would like to talk about the “Next Generation 9-1-1 System.”  You might be surprised to learn that under most current 9-1-1 systems, when you call on your cell phone, it doesn’t necessarily go directly to your local dispatch center.  However, the Next Generation 9-1-1 System routes calls directly to local dispatchers and uses your cell phone’s GPS to more quickly get first responders to your exact location.'] \n",
      "\n",
      "OKLAHOMA\n",
      "['Since 2019, over 23,000 new jobs have been created and today, Oklahoma now has the third fastest-growing economy in the nation. Companies from all over the country – and the world – are moving to our state to build and expand. Google’s second largest data center in the world is right here in Oklahoma - USA Rare Earth, the nation’s first critical mineral-to-magnet manufacturing facility, is right here in Oklahoma - American Airlines, Dell, Amazon, Boeing…  These companies could be located anywhere in the world, but they choose to be right here in Oklahoma. This year, we must capitalize on the progress we’ve made. That means continuing to focus on key areas: energy, infrastructure, workforce development, and tax policy.'] \n",
      "\n",
      "SOUTH CAROLINA\n",
      "['In Berkeley County, Redwood Materials will invest $3.5 billion – the single largest announcement in the history of South Carolina – and create 1,500 jobs for a new battery materials recycling facility. In the Upstate, BMW will invest $1.7 billion – the second largest investment in state history: $1 billion of which will prepare Plant Spartanburg to produce electric vehicles and $700 million to build a new, high-voltage battery assembly facility in Woodruff, which will create 300 new jobs. Envision AESC will invest $810 million in Florence to build a new, state-of-the-art battery cell gigafactory and employ over 1,000 residents to supply technology-leading battery cells to power the next generation of electric vehicles. In Colleton County, Kontrolmatik Pomega will build a 3 gigawatt-hour capacity lithium-ion battery factory that will produce grid-scale energy storage. The company’s $279 million investment will create approximately 575 new jobs.', 'The company’s $279 million investment will create approximately 575 new jobs. Bosch made two announcements in 2022 that continue to develop the company’s nearly 50 year history in the State of South Carolina. In Anderson County, Bosch plans to invest $200 million and create up to 350 new jobs to expand operations to become the company’s first production operation of fuel cell technology in the United States. And in Dorchester County, Bosch launched the production of electric motors to support the U.S. market demand for electrified vehicles, with plans for future growth. Bosch plans to invest $260 million and create 350 jobs at its site in North Charleston.', 'Miss Blankenship was a Teaching Fellow at Francis Marion University where she completed her bachelor’s degree. She is the daughter of Ms. Jennifer Blankenship, also a teacher in the Darlington County School District. She teaches English and the Teacher Cadet Program at the Mayo High School for Math, Science and Technology. The Teacher Cadet Program is a high school course which encourages academically talented high school students to consider teaching as a career. MyKenna always wanted to be a teacher.', 'Manufacturers in particular view the availability of skilled labor as critical to their decision to invest here. To address the critical labor shortage affecting key sectors of our economy, I am asking the General Assembly to invest an additional $78 million in lottery funds to expand Workforce Scholarships for the Future through the South Carolina Technical College System. In the last two years, this highly successful program has empowered over 10,000 South Carolinians to earn an industry credential in high-demand careers like manufacturing, healthcare, computer science, information technology, transportation, logistics, or construction.  Geena Rocanella, a graduate of Airport High School in Lexington School District Two, is pursuing an Associate Degree in Early Childhood and Elementary Education from Midlands Technical College.  In the afternoons, she works in an after-school program, caring for preschool and elementary-age students.', 'She is part of the Gamecock Guarantee Program, which provides financial and academic support to first-generation college students. And she will graduate having no student loan debt. Before entering USC, Miss Guerrero attended the Academy for the Arts, Science and Technology, a public magnet high school in Myrtle Beach. Jazmine, please stand and be recognized. We must continue to address the repairs needed at the aging, state-owned buildings, and infrastructure on the campuses of our four-year colleges, technical colleges, and universities.'] \n",
      "\n",
      "SOUTH DAKOTA\n",
      "['In 2020, we broke the record for most visitors to South Dakota’s state parks. In 2021, we shattered that record – and broke the record for visitor spending, too.   We don’t have final data yet, but it looks like South Dakota set another record for visitor spending in 2022. Our airport arrivals increased by about 10% over last year. Even with nationwide inflation and increases in gas prices, visitors continue to choose South Dakota.', 'We’ve been working closely with childcare providers to rewrite these rules in a way that makes sense – while prioritizing the safety of our kids.   We will have also be releasing nearly $40M in federal grants for childcare providers. We held several meetings with providers so that these grants will target exactly what they need – from new technology to startup funds to quality initiatives.   We also heard about their workforce challenges. We are going to help tackle this by making it more attractive to work in the childcare field.', 'Truman famously said, “America was not built on fear. America was built on courage, on imagination, and an unbeatable determination to do the job at hand.”   Perhaps the greatest external challenge facing the United States is the Chinese Communist Party. They are using a popular app called TikTok to gather data on the American people. It’s possible they could be using the app to gather users’ keystrokes – which means the Chinese Communist Party could have access to the financial information of tens of millions of Americans. This is an unacceptable security threat coming from a nation that hates America.'] \n",
      "\n",
      "TENNESSEE\n",
      "[\" Now, our workforce pipeline must keep up. Pathways to success don’t look the same for every Tennessean, nor should they. For many, a certification from one of our Tennessee Colleges of Applied Technology will open the right doors. Since 2019, we've prioritized TCAT construction across this state, so more Tennesseans can kickstart a great career close to home. Today, nearly 9 out of 10 graduates get a job in the field they studied.\"] \n",
      "\n",
      "UTAH\n",
      "['You have proven your resilience time and time again despite the unprecedented challenges you’ve had to face.   And you weren’t alone. The data is clear. The largest variable in student outcomes is the quality of the teacher. I have said this many times, and I will say it again: If we ran an experiment with two identical students, and you let me pick the teacher, and I let you pick everything else: the school, the curriculum, the books, the software and electronics, the administration, I will win every time.', 'For young women, the number more than doubled — and that was before the pandemic.  If these types of numbers were associated with any other disease, we would be focusing every resource and effort to fix what is broken. But somehow because it is technology related, we have done almost nothing as a country.  This is unacceptable. In Utah, we’re done waiting for someone else to solve the problem.', 'If you insist on fighting us, be assured that we are more than ready for a fight and we will win. Or you can join us and be part of the solution.  With this in mind, I am pleased to announce that we are working closely with Tanner Teuscher’s dad, Kapri Cullimore’s dad and yes, even Landon McKell’s dad on legislation that will prevent social media companies from collecting data from our kids, limit the use of cell phones in the classroom, and empower parents to reduce this toxic technology in our homes.  Family    And speaking of our homes, it’s been said that “good homes are still the best source of good humans,” and I agree. Getting upstream of our biggest social issues and costs, inevitably starts with stronger families.', '  In Utah, we haven’t forgotten the simple truth that when families win, we all win — economically as well as socially.   There is no guesswork here. The data shows that married, family-connected Utahns earn more, produce more, save more, and contribute more than their counterparts. And young people who get at least a high school degree, get a job, marry and have kids — in that order — are far less likely to experience poverty than those who don’t.  And yet, not every home is perfect.'] \n",
      "\n",
      "VERMONT\n",
      "['At every stop and the drive in between, you see, Vermont: independence and community; struggle and resilience; progress and opportunity. It also becomes very clear that the distance between Burlington and Rutland, Manchester and Readsboro, Middlebury and Craftsbury, St. Albans and Richford, can be measured in more than just miles. Consider the data. Whether it’s housing burden, income, property value, poverty levels, labor force, or access to broadband – it’s clear some places are consistently doing better than others. And when you are driving 500 miles in one day, you see this data reflects real communities.', 'Consider the data. Whether it’s housing burden, income, property value, poverty levels, labor force, or access to broadband – it’s clear some places are consistently doing better than others. And when you are driving 500 miles in one day, you see this data reflects real communities. In an instant, the view goes from vibrant downtowns, healthy neighborhoods and bustling offices, to tarped rooves, abandoned homes and shuttered businesses. My friends, it is up to us to close this gap.', 'And now, we’re building on it with lessons learned from our nation-leading pandemic response to address overdoses, suicides, homelessness, crime rates and more. This approach means agencies and departments are working as one team, shoulder to shoulder with local leaders, federal partners, and community organizations. And using real-time data to focus on the people and neighborhoods that need our attention most. We are prioritizing prevention, giving kids a healthier start through home visiting and partnering with pediatricians, so we can identify risks earlier and prevent problems down the road. And we’re doing more with our mobile mental health response when those problems do arise.', 'But the last two years put the number of people leaving the workforce on steroids. In 2019, we were moving in the right direction, but still had about 3,300 fewer workers than we did in 2009. Unfortunately, our most recent data shows a gap of 22,500. That’s right. The gap is nearly seven times what it was in 2019.'] \n",
      "\n",
      "VIRGINIA\n",
      "[' But we still have 125,000 fewer Virginians working than before the pandemic.  And those states that we compete with most directly --- North Carolina, South Carolina, Tennessee, Georgia, Florida and Texas --- have not only recovered all of the jobs lost during the pandemic, but they’ve actually added a collective 1.3 million jobs.  That data tells an undeniable story. Virginians are moving to states with lower taxes and lower cost of living and as those Virginians pack up and move away so go the jobs, investments, and tax revenue they drive.  Across the United States in the last fiscal year alone, economic development projects were announced representing over 600,000 jobs and nearly $400 billion in capital investment.', 'We’ve proven this by making investments in roads, rail and broadband to help Virginians stay connected. We can also choose commonsense when it comes to social media, and the ever-growing threat that the Chinese Communist Party poses to our national security, our privacy and our way of life in Virginia.  We know that our children use technology at an unthinkable, breakneck pace. But the data of our teenagers should not be used and manipulated by big tech companies.  I’m asking you to pass a bill that prohibits tech companies from selling the data of children under the age of 18.', 'We can also choose commonsense when it comes to social media, and the ever-growing threat that the Chinese Communist Party poses to our national security, our privacy and our way of life in Virginia.  We know that our children use technology at an unthinkable, breakneck pace. But the data of our teenagers should not be used and manipulated by big tech companies.  I’m asking you to pass a bill that prohibits tech companies from selling the data of children under the age of 18.  Last month, I signed an Executive Order banning TikTok and WeChat on state-owned devices.', ' We know that our children use technology at an unthinkable, breakneck pace. But the data of our teenagers should not be used and manipulated by big tech companies.  I’m asking you to pass a bill that prohibits tech companies from selling the data of children under the age of 18.  Last month, I signed an Executive Order banning TikTok and WeChat on state-owned devices. Everyone knows that TikTok is a tool of the Chinese Communist Party, a dictatorial political party that only has one goal: global dominance at the expense of the United States.', ' Last month, I signed an Executive Order banning TikTok and WeChat on state-owned devices. Everyone knows that TikTok is a tool of the Chinese Communist Party, a dictatorial political party that only has one goal: global dominance at the expense of the United States. While the national security concerns and personal privacy implications of CCP technology are well-known, I believe Virginians should also be wary of Chinese Communist intrusion into Virginia’s economy.  We welcome and encourage economic cooperation with international companies. I’ve said before that I want “Made in America” to mean “Made in Virginia.” But let me be clear, “Made in Virginia” cannot be a front for the Chinese Communist Party.'] \n",
      "\n",
      "WASHINGTON\n",
      "['And the new Republican majority in Congress this weekend made further abortion restrictions one of their top priorities. So, in Washington state, we are fighting to make sure that right remains protected. We must protect patient data and privacy. We must protect access from the threat of health care consolidation and cost barriers. We must protect patients and providers from persecution by vigilantes and activist politicians in anti-choice states.'] \n",
      "\n"
     ]
    }
   ],
   "source": [
    "for index, row in data_y.iterrows():\n",
    "    print(row['state'].upper())\n",
    "    print(row['digital_comments'], '\\n')"
   ]
  },
  {
   "cell_type": "markdown",
   "id": "2b2832b1",
   "metadata": {},
   "source": [
    "### Climate"
   ]
  },
  {
   "cell_type": "code",
   "execution_count": 131,
   "id": "84977c44",
   "metadata": {},
   "outputs": [],
   "source": [
    "climate_terms = ['climate']"
   ]
  },
  {
   "cell_type": "code",
   "execution_count": 185,
   "id": "df66dc14",
   "metadata": {},
   "outputs": [],
   "source": [
    "weather_terms = ['flood', 'fire', 'hurricane','earthquake', 'tornado', 'weather', 'blizzard', 'drought', 'wildfire']"
   ]
  },
  {
   "cell_type": "code",
   "execution_count": 186,
   "id": "b297b6c9",
   "metadata": {},
   "outputs": [],
   "source": [
    "sos['weather_regex'] = [search_for_terms(i, weather_terms) for i in sos.text]"
   ]
  },
  {
   "cell_type": "code",
   "execution_count": 178,
   "id": "9f8bc4ba",
   "metadata": {},
   "outputs": [],
   "source": [
    "sos['climate_regex'] = [search_for_terms(i, climate_terms) for i in sos.text]"
   ]
  },
  {
   "cell_type": "code",
   "execution_count": 179,
   "id": "c3cef33d",
   "metadata": {},
   "outputs": [
    {
     "data": {
      "text/plain": [
       "(23, 10)"
      ]
     },
     "execution_count": 179,
     "metadata": {},
     "output_type": "execute_result"
    }
   ],
   "source": [
    "climate_y = sos[sos.climate_regex == 1]\n",
    "climate_y.shape\n",
    "climate = climate_y.state.values"
   ]
  },
  {
   "cell_type": "code",
   "execution_count": 187,
   "id": "c4159e6e",
   "metadata": {},
   "outputs": [
    {
     "data": {
      "text/plain": [
       "(36, 10)"
      ]
     },
     "execution_count": 187,
     "metadata": {},
     "output_type": "execute_result"
    }
   ],
   "source": [
    "weather_y = sos[sos.weather_regex == 1]\n",
    "weather_y.shape\n",
    "weather = weather_y.state.values"
   ]
  },
  {
   "cell_type": "code",
   "execution_count": 188,
   "id": "98e62563",
   "metadata": {},
   "outputs": [
    {
     "name": "stdout",
     "output_type": "stream",
     "text": [
      "climate only: 9 ['alabama', 'delaware', 'hawaii', 'maryland', 'massachusetts', 'new york', 'rhode island', 'washington', 'wyoming']\n",
      "\n",
      "weather only: 22 ['alaska', 'arizona', 'arkansas', 'california', 'florida', 'georgia', 'illinois', 'iowa', 'kansas', 'kentucky', 'mississippi', 'montana', 'nebraska', 'nevada', 'north dakota', 'ohio', 'oklahoma', 'pennsylvania', 'south carolina', 'tennessee', 'texas', 'west virginia']\n",
      "\n",
      "Both: 14 ['colorado', 'idaho', 'indiana', 'louisiana', 'maine', 'michigan', 'new jersey', 'new mexico', 'north carolina', 'south dakota', 'utah', 'vermont', 'virginia', 'wisconsin']\n",
      "\n"
     ]
    }
   ],
   "source": [
    "climate_only = [i for i in climate_y.state.values if i not in weather_y.state.values]\n",
    "print('climate only: ' + str(len(climate_only)) + \" \" + str(climate_only) + '\\n')\n",
    "\n",
    "weather_only = [i for i in weather_y.state.values if i not in climate_y.state.values]\n",
    "print('weather only: ' + str(len(weather_only)) + \" \" + str(weather_only)+ '\\n')\n",
    "\n",
    "both = [i for i in climate_y.state.values if i in weather_y.state.values]\n",
    "print('Both: ' + str(len(both)) + \" \" + str(both) + '\\n')"
   ]
  },
  {
   "cell_type": "code",
   "execution_count": 192,
   "id": "381cd77b",
   "metadata": {},
   "outputs": [
    {
     "name": "stderr",
     "output_type": "stream",
     "text": [
      "/var/folders/5_/9k6tj5157bx2n0nwswpfzhhw0000gn/T/ipykernel_45190/4027931946.py:1: SettingWithCopyWarning: \n",
      "A value is trying to be set on a copy of a slice from a DataFrame.\n",
      "Try using .loc[row_indexer,col_indexer] = value instead\n",
      "\n",
      "See the caveats in the documentation: https://pandas.pydata.org/pandas-docs/stable/user_guide/indexing.html#returning-a-view-versus-a-copy\n",
      "  climate_y['climate_comments'] = [extract_sentences_with_context(i, climate_terms) for i in climate_y.text]\n",
      "/var/folders/5_/9k6tj5157bx2n0nwswpfzhhw0000gn/T/ipykernel_45190/4027931946.py:2: SettingWithCopyWarning: \n",
      "A value is trying to be set on a copy of a slice from a DataFrame.\n",
      "Try using .loc[row_indexer,col_indexer] = value instead\n",
      "\n",
      "See the caveats in the documentation: https://pandas.pydata.org/pandas-docs/stable/user_guide/indexing.html#returning-a-view-versus-a-copy\n",
      "  weather_y['weather_comments'] = [extract_sentences_with_context(i, weather_terms) for i in weather_y.text]\n"
     ]
    }
   ],
   "source": [
    "climate_y['climate_comments'] = [extract_sentences_with_context(i, climate_terms) for i in climate_y.text] \n",
    "weather_y['weather_comments'] = [extract_sentences_with_context(i, weather_terms) for i in weather_y.text] "
   ]
  },
  {
   "cell_type": "code",
   "execution_count": null,
   "id": "5cf5241a",
   "metadata": {},
   "outputs": [],
   "source": [
    "# export for manual review and validation \n",
    "climate_y.to_"
   ]
  },
  {
   "cell_type": "code",
   "execution_count": 189,
   "id": "7c18dcf3",
   "metadata": {},
   "outputs": [
    {
     "name": "stdout",
     "output_type": "stream",
     "text": [
      "ALABAMA\n",
      "['Members…I urge you to completely pay off the Alabama Trust Fund this year. That was the promise made to the people of Alabama, and we should make it a priority. Unlike D.C., we pay our debts!  Alabama’s financial footing compared to other states across the country is solid, and on top of that, Alabama has one of the lowest overall tax burdens in the nation and one of best business climates.  I urge each of you – especially our new members – to continue being wise and responsible with our people’s hard-earned money.   We are, once again, tasked with allocating our taxpayers’ dollars that are part of the second round of the American Rescue Plan Act from Congress.', 'Page 3 of 8    That is why I am calling on you to put nearly a billion dollars back into the hands of hardworking, taxpaying Alabamians through one-time rebates of $400. That means $800 for our working families, and it couldn’t come at a better time!  Folks, this is the people’s money, and it’s only right, while still acknowledging we are recording revenues far exceeding normal and sustainable levels, we give a fair share of this money directly back to the people of Alabama.  While there is still uncertainty in our national economic climate, we must create stability here at home.  Our stability begins and ends with our small businesses – the backbone of our state’s economy. We will reduce the financial load shouldered by our small businesses by lowering their monthly prepaid sales tax burden.'] \n",
      "\n",
      "COLORADO\n",
      "['Make the ropeslonger and stakes stronger, because you will spread out to the right and to the left, and yourchildren will live again in cities that were once abandoned.Let us heed the words of Isaiah in our times. It’s time to legalize more housing choices for everyColoradan and give homeowners more freedom, revitalize our cities and towns, while protectingthe character of our state.Colorado can be a place where people live where they want to live – close to their jobs, theirkids’ schools and efficient, low-cost transit. We can save Coloradans money on housing and wecan do it while meeting our climate goals!Building smart, efficient housing statewide, especially in urban communities and job centers,won’t just reduce costs, it will save energy, conserve our water, and protect the lands andwildlife that are so important to our Colorado way of life.It will also support our vision for public transit, which is to create lower-cost ways to travel thatgives Coloradans more choices and leads to more breathable air and less traffic.Together we have laid the foundation for a statewide road and transit system that meets theneeds of Coloradans. First, with investments from the historic Senate Bill 260, and then with thecreation of the Front Range Rail District, which is scheduled to deliver a draft service plan by2024. Thank you to President Fenberg, Senator Winter and Senator Zenzinger, for yourleadership on those bills.', 'Over the next few years we will continue working toward that vision,and I am asking CDOT to work with local transit partners to identify and take the next stepstowards better lower cost transit options.More housing now is for people, for planet, and for prosperity. It’s for people who need a roofover their head and who want to recognize the dream of home ownership and wealth building.It’s for the planet to reduce our emissions and conserve water. And it’s for our prosperity as astate to ensure that businesses can hire people to power our economy.Let me be clear - Housing policy is climate policy.Housing policy is economic policy.Housing policy is transportation policy.Housing Policy is water policy.52023 State of State Address As Prepared for Delivery for Colorado Governor Jared Polis -January 17, 2023Housing policy is public health and equity policy.It impacts EVERY part of our lives, which is why it’s so critical that we get this right. We needeveryone to come to the table and work toward a real solution.Now I know this won’t be easy. Nothing worth fighting for ever is.', 'There are many approaches thathave worked in other states, and we hope to see those proven models replicated here.This is going to be a lot of work, and it’s going to take all of us in this chamber to get it done. Weare here to solve the big problems, and the cost of housing tops that list.82023 State of State Address As Prepared for Delivery for Colorado Governor Jared Polis -January 17, 2023This is what Coloradans are calling for, and it’s up to us to take action to protect our sharedfuture.Just as the future of our state is tied to housing, it’s also tied to water.Water is life in Colorado and the west, it’s as simple as that. But we’re at a crossroads.Increased demand, chronic and extreme drought, conflicts with other states, and devastatingclimate events are threatening this critical lifesource – and we’ve all seen the impacts.Wildfires have destroyed hundreds of thousands of acres, and devastated entire communities.Farmers and ranchers across the state fear that Colorado won’t have the water resources tosustain the next generation of agricultural jobs.When Colorado is 150, I want our state to have the water resources necessary for our farms,communities, and industries to thrive, and the tools in place to protect our state’s waterways anddefend our rights.Your work around housing will truly go a long way to protect water -  our most preciousresource. But we must also continue investing in water projects around the state.We don’t want to see a single dollar left on the table.For every dollar the state invested in Water Plan grants last year, we got four dollars back. In thelast fiscal year, we awarded more than $23 million in grants that supported nearly $100 million inprojects, and we’re hoping to once again position Colorado to punch above our weight and pulldown major investments from the federal government.This includes funding for water infrastructure and water quality projects like the Arkansas ValleyConduit.', 'In thelast fiscal year, we awarded more than $23 million in grants that supported nearly $100 million inprojects, and we’re hoping to once again position Colorado to punch above our weight and pulldown major investments from the federal government.This includes funding for water infrastructure and water quality projects like the Arkansas ValleyConduit. This project has been years in the making, and the combination of state and federalfunding will help get it off the ground, delivering clean drinking water to dozens of communitiesthroughout Southern Colorado.These dollars also translate to restoration of critical streams and waterways, greater access towater for our producers and ranchers, and water security for our communities.But the most important thing we can do for water security is protect our waterways and rights.Hotter, drier conditions have strained our resources in a time when demand continues to grow.Our rivers and streams aren’t just life sources for Colorado, but for the entire American West.We must continue to fight for our rights and lead the way to a sustainable future.92023 State of State Address As Prepared for Delivery for Colorado Governor Jared Polis -January 17, 2023The road ahead will be paved with challenges, but we aren’t leaving anything to chance. We aregearing up, and bringing in the expertise we need to defend what is ours.This is about water, but it’s also about our future, our livelihoods, and the very foundation of whowe are as Coloradans.The same goes for our approach to climate.We have already secured more than 80% renewable energy by 2030. By the time Colorado is150 years old, we look forward to having a clear path to 100% renewable energy by 2040.And from there, we will work to make progress towards our statewide climate goals.Our work around housing and more sustainable development is a critically important part of thisprogress.But we also remain focused on investing in clean transportation, accelerating the use ofrenewables, reducing oil and gas emissions, and holding polluters accountable.And I’m proud to propose $120 million annually in new, clean energy tax credits.With this tax relief and incentives, we can improve our air quality, accelerate innovation, andmake more rapid progress towards our goals, while saving people money at the pump and ontheir utility bills, and increasing access to clean, low-cost transportation options.We’ve made a lot of progress on electric vehicles, with 10% of vehicles sold now electric -making us 5th in the nation, and these tax credits will help us continue pushing toward morezero emission cars and trucks sooner rather than later.This builds on the work of the legislature to expand the Earned Income Tax Credit andColorado’s Child Tax Credit, putting more money back into the pockets of Coloradans. Thankyou to Representatives Emily Sirota and Mike Weissman, Senator Chris Hansen and MajorityLeader Dominick Moreno for bringing those bills across the finish line.We are also focused on continued development of clean energy technologies of the future likegeothermal and hydrogen.As Chair of the bipartisan Western Governors Association I am championing geothermal energythrough our ”Heat Beneath our Feet” initiative.', 'This project has been years in the making, and the combination of state and federalfunding will help get it off the ground, delivering clean drinking water to dozens of communitiesthroughout Southern Colorado.These dollars also translate to restoration of critical streams and waterways, greater access towater for our producers and ranchers, and water security for our communities.But the most important thing we can do for water security is protect our waterways and rights.Hotter, drier conditions have strained our resources in a time when demand continues to grow.Our rivers and streams aren’t just life sources for Colorado, but for the entire American West.We must continue to fight for our rights and lead the way to a sustainable future.92023 State of State Address As Prepared for Delivery for Colorado Governor Jared Polis -January 17, 2023The road ahead will be paved with challenges, but we aren’t leaving anything to chance. We aregearing up, and bringing in the expertise we need to defend what is ours.This is about water, but it’s also about our future, our livelihoods, and the very foundation of whowe are as Coloradans.The same goes for our approach to climate.We have already secured more than 80% renewable energy by 2030. By the time Colorado is150 years old, we look forward to having a clear path to 100% renewable energy by 2040.And from there, we will work to make progress towards our statewide climate goals.Our work around housing and more sustainable development is a critically important part of thisprogress.But we also remain focused on investing in clean transportation, accelerating the use ofrenewables, reducing oil and gas emissions, and holding polluters accountable.And I’m proud to propose $120 million annually in new, clean energy tax credits.With this tax relief and incentives, we can improve our air quality, accelerate innovation, andmake more rapid progress towards our goals, while saving people money at the pump and ontheir utility bills, and increasing access to clean, low-cost transportation options.We’ve made a lot of progress on electric vehicles, with 10% of vehicles sold now electric -making us 5th in the nation, and these tax credits will help us continue pushing toward morezero emission cars and trucks sooner rather than later.This builds on the work of the legislature to expand the Earned Income Tax Credit andColorado’s Child Tax Credit, putting more money back into the pockets of Coloradans. Thankyou to Representatives Emily Sirota and Mike Weissman, Senator Chris Hansen and MajorityLeader Dominick Moreno for bringing those bills across the finish line.We are also focused on continued development of clean energy technologies of the future likegeothermal and hydrogen.As Chair of the bipartisan Western Governors Association I am championing geothermal energythrough our ”Heat Beneath our Feet” initiative. And I’m excited that my budget request providesfunding for Colorado Mesa University to expand campus-wide geothermal systems, with a goalto become the first university in America to be fully powered by geothermal.102023 State of State Address As Prepared for Delivery for Colorado Governor Jared Polis -January 17, 2023And under the leadership of Will Toor at the Energy Office, our administration is also leading amulti-state consortium with Utah, Wyoming, and New Mexico to gain additional federalinvestment as a hydrogen hub.These efforts will help us capitalize on these untapped resources, close the 20% gap to achieve100% renewable energy by 2040, reduce emissions, clean our air, and do our part on climate.They would also help us prevent the kind of spikes in utility bills that Coloradans areexperiencing due to high costs of natural gas.The Texas storm in 2021 showed us just how vulnerable we are to commodity price swings, andthe Suncor shutdown has done the same.I’m committed to doing everything in my power to alleviate the impacts of the temporary Suncordisaster on Coloradans and their families who are already struggling with inflation and highcosts.', 'By the time Colorado is150 years old, we look forward to having a clear path to 100% renewable energy by 2040.And from there, we will work to make progress towards our statewide climate goals.Our work around housing and more sustainable development is a critically important part of thisprogress.But we also remain focused on investing in clean transportation, accelerating the use ofrenewables, reducing oil and gas emissions, and holding polluters accountable.And I’m proud to propose $120 million annually in new, clean energy tax credits.With this tax relief and incentives, we can improve our air quality, accelerate innovation, andmake more rapid progress towards our goals, while saving people money at the pump and ontheir utility bills, and increasing access to clean, low-cost transportation options.We’ve made a lot of progress on electric vehicles, with 10% of vehicles sold now electric -making us 5th in the nation, and these tax credits will help us continue pushing toward morezero emission cars and trucks sooner rather than later.This builds on the work of the legislature to expand the Earned Income Tax Credit andColorado’s Child Tax Credit, putting more money back into the pockets of Coloradans. Thankyou to Representatives Emily Sirota and Mike Weissman, Senator Chris Hansen and MajorityLeader Dominick Moreno for bringing those bills across the finish line.We are also focused on continued development of clean energy technologies of the future likegeothermal and hydrogen.As Chair of the bipartisan Western Governors Association I am championing geothermal energythrough our ”Heat Beneath our Feet” initiative. And I’m excited that my budget request providesfunding for Colorado Mesa University to expand campus-wide geothermal systems, with a goalto become the first university in America to be fully powered by geothermal.102023 State of State Address As Prepared for Delivery for Colorado Governor Jared Polis -January 17, 2023And under the leadership of Will Toor at the Energy Office, our administration is also leading amulti-state consortium with Utah, Wyoming, and New Mexico to gain additional federalinvestment as a hydrogen hub.These efforts will help us capitalize on these untapped resources, close the 20% gap to achieve100% renewable energy by 2040, reduce emissions, clean our air, and do our part on climate.They would also help us prevent the kind of spikes in utility bills that Coloradans areexperiencing due to high costs of natural gas.The Texas storm in 2021 showed us just how vulnerable we are to commodity price swings, andthe Suncor shutdown has done the same.I’m committed to doing everything in my power to alleviate the impacts of the temporary Suncordisaster on Coloradans and their families who are already struggling with inflation and highcosts. I’ve already lifted regulatory burdens around trucking hours, truck weight limits, anddirected agencies to ease-up on pipeline transporting requirements during the Suncorshutdown. My administration has also been working to secure outside supply to minimizedisruption.But the only long-term solution is to continue pursuing low-cost, reliable, renewable energy.', \"My administration has also been working to secure outside supply to minimizedisruption.But the only long-term solution is to continue pursuing low-cost, reliable, renewable energy. Wesimply must end our reliance on costly fossil fuels, improve energy security, and save peoplemoney.This is why the Electric vehicle and ebike tax credits I'm proposing are so important, and whywe’ve focussed on increasing access to electric vehicles and transit options since day one. Thistax relief amplifies the work of the Front Range Rail District, free bus fare months, and the needfor greater transit options.I look forward to working with the General Assembly to make Colorado a place wheregeothermal, hydrogen, and carbon capture technologies can and will succeed.While we do our part to improve air quality and reduce pollution, we are also preparing our statefor the hotter, drier climate that we are experiencing.Since 2019, Colorado has supported response efforts for more than 2,000 wildfires, includingthe three largest in history AND the most devastating. It was only a few weeks ago that wemarked the one-year anniversary of the Marshall Fire in Boulder County, a reminder that thethreat of wildfire is no longer seasonal. It’s year round, and we need to be ready.Colorado has invested in some of the most effective fire prevention and response measures outthere - from our state’s first Firehawk helicopter to forest restoration and other proven mitigationefforts.\", \"It was only a few weeks ago that wemarked the one-year anniversary of the Marshall Fire in Boulder County, a reminder that thethreat of wildfire is no longer seasonal. It’s year round, and we need to be ready.Colorado has invested in some of the most effective fire prevention and response measures outthere - from our state’s first Firehawk helicopter to forest restoration and other proven mitigationefforts. I want to thank President Fenberg and the Joint Budget Committee for leading the wayon these resources.112023 State of State Address As Prepared for Delivery for Colorado Governor Jared Polis -January 17, 2023But we know there is more work ahead.We must continue strengthening our aerial capabilities, supporting our professional andvolunteer firefighters, and preparing for a hotter, drier climate.We must also expand our fire prevention efforts, including building fire defense in communitiesthat are at risk, and elevating the work of the Colorado Strategic Wildfire Action Program.Getting this right is critical for the health of our communities and the future of our state.But it's not about just the health of our environment, it's also the health of our people.Unfortunately, after housing expenses, healthcare costs are some of the highest that familiesface.Too many Coloradans are forced to choose between the care they desperately need, payingtheir rent or mortgage, or putting food on the table.Our own Lt. Governor Dianne Primavera knows this story all too well.Dianne was diagnosed with breast cancer, and told she had five years to live. With two youngdaughters to raise, her life was turned upside down and she was forced to wrestle with thequestions that many other Coloradans have faced.Can I support my family and pay for my treatments? Will this devastate us financially?\"] \n",
      "\n",
      "DELAWARE\n",
      "['  In the Oath of Office, we all take as elected officials, we pledge to “respect the right of future generations to share the rich historic and natural heritage of Delaware.”   But, that natural heritage is under threat. We’re the lowest-lying state in the nation. And the effects of climate change and sea level rise on Delaware communities are real. We’re seeing them every day. That’s why we need to take action.'] \n",
      "\n",
      "HAWAII\n",
      "['We wrestled with a housing crisis that forced too many of our people out of our state in search of economic opportunity and more affordable homes. We witnessed the risks and consequences of an economy too heavily dependent on tourism alone. And we suffered environmental threats both from pollution and from the effects of global climate change.  2 of 17   2 of 17   But even in our darkest and most painful moments, Hawai‘i’s values shone through, the character and soul of our people prevailed, and we found a new dawn of hope. Through these difficult times, we showed that when we stand together, when we put our values into action, we can meet any challenge and overcome any problem, no matter how large or difficult it seems.', '• We’ve announced a new Educator Tax Credit, so that our teachers can receive a $500 credit to support our students. • We released $50 million in Grants-in-Aid to directly support our non-profit and service providers for the critical work they do in our communities. • We’ve proposed a Climate Impact Fund of $100 million to fight climate change. • We’ve announced the return of over 363 acres to the Hawaiian Homes Commission on Molokai for beneficiaries. • We’ve signed an agreement with Haneda Airport to streamline travel and promote made in Hawaiʻi products and even improve our Daniel K.', ' BUDGET AND LEGISLATIVE PRIORITIES I take to heart the priorities the legislature advanced on opening day. Our budget will reflect those priorities.  5 of 17   5 of 17   We are adding and emphasizing several high priority items related to housing, homelessness, the cost of living, climate, environment, and mental health. Some important specific items in the financial plan include: • Additional ‘Ohana zones funds, which put homeless individuals into permanent housing to give them a chance to thrive. • More resources for the Hawai‘i State Loan Repayment Program to help pay off educational loans for primary care and behavioral health providers, so that Hawai‘i remains the health state for generations to come — this investment will address our statewide healthcare provider shortage once-and-for-all.', 'A future where residents are not one paycheck away from crisis. A future where our priorities reflect our values, and we can all rise together as one ‘ohana.  OUR CLIMATE CRISIS Tax relief provides immediate support to families across our state, but we also need to take action to protect our environment and our planet, which will have direct and long-term effects on our economy now and into the future. This is why addressing climate change today is so important. The impact of climate change is wide-ranging.', 'A future where our priorities reflect our values, and we can all rise together as one ‘ohana.  OUR CLIMATE CRISIS Tax relief provides immediate support to families across our state, but we also need to take action to protect our environment and our planet, which will have direct and long-term effects on our economy now and into the future. This is why addressing climate change today is so important. The impact of climate change is wide-ranging. As an island state, climate change threatens our economy, culture, environment, and the sustainability of our way of life.', ' OUR CLIMATE CRISIS Tax relief provides immediate support to families across our state, but we also need to take action to protect our environment and our planet, which will have direct and long-term effects on our economy now and into the future. This is why addressing climate change today is so important. The impact of climate change is wide-ranging. As an island state, climate change threatens our economy, culture, environment, and the sustainability of our way of life. That’s why I announced our commitment to providing 100 million dollars for a climate impact fund steered by the Climate Change Mitigation and Adaption Commission.', 'This is why addressing climate change today is so important. The impact of climate change is wide-ranging. As an island state, climate change threatens our economy, culture, environment, and the sustainability of our way of life. That’s why I announced our commitment to providing 100 million dollars for a climate impact fund steered by the Climate Change Mitigation and Adaption Commission. We are committed to pursuing climate change strategies that are equitable, culturally responsive and resilient.', 'The impact of climate change is wide-ranging. As an island state, climate change threatens our economy, culture, environment, and the sustainability of our way of life. That’s why I announced our commitment to providing 100 million dollars for a climate impact fund steered by the Climate Change Mitigation and Adaption Commission. We are committed to pursuing climate change strategies that are equitable, culturally responsive and resilient. This includes looking at the resiliency of the power grid, renewable energy, sustainable transportation, land use planning, sea level rise, health, natural and cultural resource impacts, and much more.', 'As an island state, climate change threatens our economy, culture, environment, and the sustainability of our way of life. That’s why I announced our commitment to providing 100 million dollars for a climate impact fund steered by the Climate Change Mitigation and Adaption Commission. We are committed to pursuing climate change strategies that are equitable, culturally responsive and resilient. This includes looking at the resiliency of the power grid, renewable energy, sustainable transportation, land use planning, sea level rise, health, natural and cultural resource impacts, and much more. We have taken action and dedicated resources for these vital efforts — but we can’t do it alone.', 'We have taken action and dedicated resources for these vital efforts — but we can’t do it alone. This fund will be open to contributions from anyone, whether locally or around the globe. The revenues generated from visitor impact fees will fortify our efforts to protect Hawai‘i’s people and our way of life, and we will continue to take the impacts of climate change seriously.  ECONOMIC DEVELOPMENT Our administration will work to ensure that our economy: • Fosters prosperity for our people • Creates opportunities for our keiki • Protects the unique character of Hawaiʻi, and  11 of 17   11 of 17   • Strengthens and supports our shared values. We will not sit passively on the sidelines any longer when it comes to our economic development.', 'Through proactive efforts like these, Hawai‘i is leading our Pacific neighbors into the future. Not just through defense initiatives, but through greater economic, energy, and cultural integration. And by leveraging our climate investments, our renewable enregy and environmental expertise, and our unique geographic location, we can achieve even greater economic diversification.  MAJOR PROJECTS We also need to address two major projects — the stadium and a new correctional facility. We all want a stadium, a place where we can be proud of our sports teams.', 'Thousands of families are voting with their feet, choosing to leave our islands in search of affordable housing and economic opportunity. Thousands more live in our streets, suffering without help, without hope, despairing for a better tomorrow. Climate change and industrial pollution threaten to permanently degrade our land and our water. These are tragedies we must not stand by and witness idly without doing everything in our power to change. Ultimately, we will not be judged by our words or our rhetoric — we will be judged by our actions and accomplishments.'] \n",
      "\n",
      "IDAHO\n",
      "['We took the income tax from six brackets down to one and created a fair, predictable, and lower flat income tax once and for all.  Folks, what we’re doing is working.   Consider this: the Tax Foundation ranks states on their business tax climate. It is a useful barometer of a state’s competitiveness to attract and retain businesses. In just four years we’ve risen six spots, and that’s even before accounting for the income tax reductions adopted during last year’s special session.', 'It is a useful barometer of a state’s competitiveness to attract and retain businesses. In just four years we’ve risen six spots, and that’s even before accounting for the income tax reductions adopted during last year’s special session.  Cutting taxes keeps our business climate competitive, allows Idahoans to keep more of what they earn, and it is just the right thing to do.  One area where we really shine may surprise you. The Tax Foundation ranks Idaho as having the third lowest PROPERTY TAXES in the country.'] \n",
      "\n",
      "INDIANA\n",
      "['Our taxes and debt decreased; we’re now among the top five lowest debt states per capita in the nation. We even returned $1.5 billion to Hoosier taxpayers in the form of a refund. And Forbes just ranked Indiana as “the best state to start a business in 2023,” saying, we have “a business-friendly climate with a low flat tax rate, an above-average business survival rate, and a healthy amount of funding opportunities.” Please join me in thanking the legislature for the partnership that helped make all this possible! Yes, my friends, whether you are an employee or an employer, Indiana’s reputation for the career opportunities available – and the kind of balance sheet we oversee – means all eyes are on our state, and for good reasons, like for the sheer amount that career creators are choosing to invest in our state. I know, I’m a broken record on these broken records, but it bears repeating. The over $22 billion in committed capital invested in 2022 is an all-time record many times over, over half of which will take place in rural and mixed rural areas throughout our state, with hourly wages nearly 40% higher than the state’s average.'] \n",
      "\n",
      "LOUISIANA\n",
      "['During this administration, CPRA has completed projects that have been envisioned for decades. We have more projects in the works than ever before, including many of the largest and most important in the Coastal Master Plan. But the work we are putting into restoring our coast will not be nearly as impactful if we ignore climate change. Like many of you, I grew up hunting and fishing. I spent much of my time down in the Manchac Swamp.', 'Storms are getting stronger and more frequent. I don’t think anyone in this room can deny that. That is why we established the Climate Initiatives Task Force to achieve net zero carbon emissions by 2050. I spoke earlier about diversifying our economy. Our “all-of-the-above” strategy has driven new energy investment, while continuing to support companies meeting the current market demand for oil & gas.'] \n",
      "\n",
      "MAINE\n",
      "['And we listened to small businesses drowning in health insurance costs and lowered their premiums for the first time in decades.  You asked us to pay attention to what the United Nations scientists have called a “Code Red for Humanity” and the violent storms across the nation damaging homes, towns, fisheries, wildlife, everything our nation holds dear. So, with renewable energy, weatherization, efficiency, alternative heating sources, and a focus on resiliency, we have put Maine on a path towards carbon neutrality, with a plan to protect our precious farms, shorelands and towns from the ravages of climate change.   You asked us to expand broadband, recognizing that it is the communications highway of the future and that high speed Internet is as necessary to everything we do as water is to life. So, we created the Maine Connectivity Authority.', ' There is hope for the future, just as it was hope that saw us through troubled times in the past.  The charge, the responsibility we take up today is to choose action over acquiescence and apathy, to make decisions grounded in experience with an eye to the future, and always to be a part of something larger than ourselves.   So, on this solemn occasion, let us recommit to working together and acknowledging:  - that healthcare is a human right and we will fight to preserve it;  - that education is essential and we will provide it; - that climate change is real and we will combat it;  - that a decent home is essential and we will build it.   And when the people of the future look back on us through their own James Webb Telescope – they will see that we worked together, during difficult times and good, that we settled our differences with civility, commonsense and compassion, that we took care of one another, that we protected the air, water and land around us, and we built a state that survived and thrived long into the future.  And perhaps they too will see those things I believe will never change:  – the way the surf of the mighty Atlantic pounds the granite shores of our state;  – the way Katahdin rises up in all its majesty in the western sky;   – the way the Basilica in Lewiston inspires the people of the mighty Androscoggin;   9  – the way so many institutions of higher learning enrich and grace our towns and cities across the state;  – the way Moxie tickles the throat as it goes down and the way the wild blueberry finds a place in every tasty meal.'] \n",
      "\n",
      "MARYLAND\n",
      "[\"While our young people give back, they also lay the foundation for their future success through job training and mentorship programs, and create a lifelong habit of service to our state. Something we so desperately need.  Whether they're preparing our state for climate change, tutoring our students, or caring for the sick, young people should have the option to perform important service today and build a foundation for our shared future.  This is the first effort of its kind in the nation, and Maryland will lead the way. Some may ask, “Why is this important?\"] \n",
      "\n",
      "MASSACHUSETTS\n",
      "['Because that’s who we are. I’ve talked about our shared history, the pride of this state and every citizen. Now we must devote ourselves to cherishing and protecting our shared future — and meeting the climate crisis. Let me be clear about this. Where others may see hopelessness and resignation, I seeunparalleled opportunity.', 'Let me be clear about this. Where others may see hopelessness and resignation, I seeunparalleled opportunity. We can protect our climate and create jobs. It’s not too late to do either. It’s urgent that we do both.', 'In transportation, we will electrify our public fleet, and put a million electric vehicles on the road by 2030. Meeting these goals will take unprecedented focus, and a leader who can get the job done. Tomorrow, I am submitting an executive order to create the country’s first Cabinet-level climate chief — reporting directly to me. She will work across government and with every city and town to meet our climate goals and achieve our economic potential. We will match our ambitions with our investments.', 'Meeting these goals will take unprecedented focus, and a leader who can get the job done. Tomorrow, I am submitting an executive order to create the country’s first Cabinet-level climate chief — reporting directly to me. She will work across government and with every city and town to meet our climate goals and achieve our economic potential. We will match our ambitions with our investments. For the first time in our state’s history, we will commit at least 1% of the state budget to environmental and energy agencies.', 'Over a decade ago, Governor Patrick and the legislature made a bet on life sciences in this state — offering funding and support and leadership to make Massachusetts a leader in biotech. Now, the results are nothing short of remarkable. Let’s commit to making climate innovation our next big investment, our next first, our next frontier. Let’s build a Climate Corridor that stretches from the Berkshires to Barnstable harnessing research, innovation and manufacturing. We’ll create thousands of new jobs in clean tech and blue tech, coastal resiliency, and environmental justice.', 'Now, the results are nothing short of remarkable. Let’s commit to making climate innovation our next big investment, our next first, our next frontier. Let’s build a Climate Corridor that stretches from the Berkshires to Barnstable harnessing research, innovation and manufacturing. We’ll create thousands of new jobs in clean tech and blue tech, coastal resiliency, and environmental justice. And I believe 10 years from now, we will look back and see the undeniable benefits for our workers, our economy, and our planet.'] \n",
      "\n",
      "MICHIGAN\n",
      "['I proposed that we Lower MI Costs, Make it in Michigan, and fund public safety and education.      There are many more priorities I will share in my budget proposal. But I want to highlight 2 more tonight that impact us all: infrastructure and climate.      If you haven’t heard, roads are pretty important to me and every Michigander—our state flower might as well be an orange barrel! Since I took office, we’ve fixed 16,000 lane miles and 1,200 bridges, supporting 89,000 jobs. Throughout my second term, I will continue finding ways to keep fixing the damn roads.', 'To invest them as efficiently as possible, I established the Michigan Infrastructure Office. This year, it will redouble its efforts, helping to build up every kind of infrastructure—roads, high-speed internet, clean energy, and lead-free pipes.      Last, but certainly not least, it is our shared duty to face climate change head-on and protect our land and water. We must pursue climate action while creating jobs, lowering costs, and becoming a hub of clean energy production. Last year, we unveiled the MI Healthy Climate Plan, and this year, we should make bold investments in climate action to deliver on its targets.', 'This year, it will redouble its efforts, helping to build up every kind of infrastructure—roads, high-speed internet, clean energy, and lead-free pipes.      Last, but certainly not least, it is our shared duty to face climate change head-on and protect our land and water. We must pursue climate action while creating jobs, lowering costs, and becoming a hub of clean energy production. Last year, we unveiled the MI Healthy Climate Plan, and this year, we should make bold investments in climate action to deliver on its targets. Let’s get it done.', '     Last, but certainly not least, it is our shared duty to face climate change head-on and protect our land and water. We must pursue climate action while creating jobs, lowering costs, and becoming a hub of clean energy production. Last year, we unveiled the MI Healthy Climate Plan, and this year, we should make bold investments in climate action to deliver on its targets. Let’s get it done.     I am honored to be standing here tonight as your governor.'] \n",
      "\n",
      "NEW JERSEY\n",
      "['  Leading in building a modern economy that doesn’t just create good jobs today but has the staying power to keep creating good jobs well into our future.   Leading by centering our economic future around our best-in-the-nation public-education system so every child, in every community, is given the skills they will need to compete and win.   Leading by leaning into the clean energy economy to not just power our future, but to fight back against climate change.   Leading in prioritizing youth mental health through comprehensive means that don’t just connect kids with resources but empower parents and educators to identify negative signs and provide positive support.   Leading in maintaining and preserving every woman’s right to personal reproductive freedom and trusting them with the ability to make the most intimate of healthcare decisions for themselves.'] \n",
      "\n",
      "NEW MEXICO\n",
      "['New Mexico has already led by making sure this horrific event does not occur in other states, and my administration is committed to using our full strength to make New Mexicans whole. We will be delivering $100 million for communities affected by the Hermit’s Peak/Calf Canyon fire to begin rebuilding their infrastructure without waiting for the federal government’s investments to be distributed—but make no mistake, we will not rest until the Federal Emergency Management Agency—FEMA—does right by us, and we will not stop until there is a program in place to administer the $2.5 billion fund for victims and their families that Congress approved and that our residents and their families deserve. We know that these fires were intensified by extreme weather brought on by climate change, and since the beginning of my administration, we have taken that threat seriously—embracing science in order to mitigate climate change’s devastating impact, protect our environment and ramp up clean energy production. Through our 30×30 initiative, we are guarding New Mexico’s natural resources, increasing access for outdoor recreation and building climate change resilience. We’ve more than doubled our wind energy capacity and authorized community solar projects—creating exciting clean energy opportunities and jobs that are powering our state.', 'We will be delivering $100 million for communities affected by the Hermit’s Peak/Calf Canyon fire to begin rebuilding their infrastructure without waiting for the federal government’s investments to be distributed—but make no mistake, we will not rest until the Federal Emergency Management Agency—FEMA—does right by us, and we will not stop until there is a program in place to administer the $2.5 billion fund for victims and their families that Congress approved and that our residents and their families deserve. We know that these fires were intensified by extreme weather brought on by climate change, and since the beginning of my administration, we have taken that threat seriously—embracing science in order to mitigate climate change’s devastating impact, protect our environment and ramp up clean energy production. Through our 30×30 initiative, we are guarding New Mexico’s natural resources, increasing access for outdoor recreation and building climate change resilience. We’ve more than doubled our wind energy capacity and authorized community solar projects—creating exciting clean energy opportunities and jobs that are powering our state. In the days to come, we will redouble our commitment by launching a $75 million Land of Enchantment Legacy Fund to create sustained funding for state programs that protect our environment, combat issues like drought and water scarcity, and address the roots of climate change.', 'Through our 30×30 initiative, we are guarding New Mexico’s natural resources, increasing access for outdoor recreation and building climate change resilience. We’ve more than doubled our wind energy capacity and authorized community solar projects—creating exciting clean energy opportunities and jobs that are powering our state. In the days to come, we will redouble our commitment by launching a $75 million Land of Enchantment Legacy Fund to create sustained funding for state programs that protect our environment, combat issues like drought and water scarcity, and address the roots of climate change. This fund will bolster initiatives like the River Stewardship Program, which safeguards our waterways so New Mexicans can continue to hunt, fish and access clean water—offering economic benefits for this generation and those to follow while strengthening our fragile ecosystems. It will support work like the Healthy Soils Program, which promotes resilient farming, ranching and other agricultural management so that the fruits of our land can continue to feed our people.'] \n",
      "\n",
      "NEW YORK\n",
      "['As I said in my Inaugural Address: When we are united, there is no stopping us. And when it comes to the mountains yet to be climbed we are ready to scale them this year because of the peaks we already summitted in the past. In 2022, we made historic investments to strengthen and upgrade our infrastructure; build a world-class public transit system; create strong public education; confront climate change; fortify our healthcare system; help our small businesses recover from Covid; and spur economic development across the State. We landed the largest investments in state history, including $20 billion from IBM and $100 billion from Micron, creating 50,000 new jobs. We expedited tax cuts for the middle class, gave property tax rebates, and suspended the gas tax when prices at the pump hit record levels.', 'To set us on that path, I’m proposing a plan to end the sale of any new fossil-fuel-powered heating equipment by 2030. And I’m calling for all new construction to be zero-emission, starting in 2025 for small buildings and 2028 for large buildings. We are taking these actions because climate change remains the greatest threat to our planet, and to our children and grandchildren. In 2019, this legislature instituted aggressive mandates and deadlines for reducing emissions. And now, we are executing on that plan.', 'Big emitters will have to purchase permits to sell polluting fuels. The dirtier the fuel – the bigger the price tag. And the “invest” part of the program will accelerate the clean energy transition and include a universal Climate Action rebate that will provide $1 billion in revenues that we’ll allocate to help cover utility bills, transportation costs, and de-carbonization efforts. And what’s great about Cap-and-Invest is that it offers us flexibility, so we can focus our efforts on the biggest polluters and ensure families, farms and small businesses aren’t crushed by costs. As we help families with energy costs and transitioning to the future, we know that future belongs to our children.'] \n",
      "\n",
      "NORTH CAROLINA\n",
      "['North Carolina has a claim to every link and every job in this fast-growing, lucrative supply chain. The private sector electric vehicle market is about to take the world by storm and North Carolina is riding the first wave. And that means more money in the pockets of North Carolinians even as we do our part to fight climate change. Through bipartisan cooperation here in the General Assembly, we became just the second state in the southeast to put carbon reduction requirements into law. And through my executive orders, we’ve brought people together to plot our course to a lower cost, net-zero carbon future, to cleaner transportation, and toward more renewable energy like wind and solar power.', 'Through bipartisan cooperation here in the General Assembly, we became just the second state in the southeast to put carbon reduction requirements into law. And through my executive orders, we’ve brought people together to plot our course to a lower cost, net-zero carbon future, to cleaner transportation, and toward more renewable energy like wind and solar power. With challenges like jobs and climate change, you can only make progress when you set ambitious goals. And we’re taking action to reach those goals, because progress is never passive. And it’s not just clean energy that’s thriving in our state.'] \n",
      "\n",
      "RHODE ISLAND\n",
      "['And to get us started, our Administration did what we pledged to do from day one: we brought people together. We engaged in conversations with residents, municipal leaders, members of the General Assembly, nonprofits, and community groups to create Rhode Island 2030 – our state’s master plan. This is your plan, an interactive working document, and I encourage you to visit RI2030.com to take a look at our goals for the issues that matter most to Rhode Island families – housing, education, health, climate change, jobs, and much more. These recommendations helped guide our budget last year and how we invested our $1.2 billion in American Rescue Plan funds. Whenever I talk about this federal funding, I have to take a moment to thank our Congressional Delegation.', 'The budget that this General Assembly passed was truly historic – but passing that budget was just one of the many successes we had in the last session. I want to again thank the Speaker and Senate President for their incredible partnership during my first two years in office. We worked together to pass and sign legislation to tackle climate change and put Rhode Island on a path to 100 percent renewable energy by 2033. We worked together to pass and sign common sense gun safety legislation. Our work in this area is not done – let’s follow the lead of other states and send a bill to my desk that bans the sale of assault style weapons.', \"Fourth, did you know that businesses across our state are required to pay a so-called litter tax? Here’s the kicker – the fees collected from this tax don’t even go towards cleaning up litter, and paying this tax is a big nuisance for small businesses. We need to improve our small business climate by doing away with fees like this. Let’s not only eliminate this tax, but let's also fund an initiative to tackle the litter on our streets, beaches and recreational areas. In place of the litter tax, we’re going to create a dedicated line item in the budget to Keep Rhody Litter Free – this is a priority for our First Lady Susan McKee, and I encourage Rhode Islanders to join our effort to get rid of litter by visiting: LitterFree.RI.gov and take the pledge.\"] \n",
      "\n",
      "SOUTH DAKOTA\n",
      "['  But here’s what I love about South Dakota – we never settle. We never sit back and say, “good enough.”   We turn the challenges we face into opportunities.   Together, I want all of us to take on the challenge of making South Dakota number one in: growth, tax climate, work ethic, and building – and supporting – strong families.   Our nation was built on Freedom – but our constitutional freedoms are under assault from Washington D.C.   America needs South Dakota’s example of how conservative policies and values make people’s lives better. These policies bring success and hope.'] \n",
      "\n",
      "UTAH\n",
      "['  That’s why I am excited to work with Niko Fillmore’s dad and Ruthie Whyte’s dad, the League of Cities and Towns and other stakeholders on significant legislation to ensure that we increase supply and reduce the cost of housing.   Water  Of course, even good jobs and good homes won’t mean much if we are not good stewards of this beautiful place we get to call home. And any discussion of stewardship in a desert climate must start with water.   We find ourselves in the greatest drought in the western United States in over 1,200 years. Earlier this month, a report predicted that in just five short years the Great Salt Lake will completely disappear.'] \n",
      "\n",
      "VERMONT\n",
      "['“The work done in this building is felt differently across counties and communities because they all have different assets and attributes – and sometimes not enough of either. That’s why ‘one-size’ rarely fits all. This session, if we pay more attention to the individual needs of each community, we can close the gap between regions to give all our towns and villages a brighter future.” Governor Scott also highlighted the importance of following through on the historic investments he and lawmakers made in housing, climate change mitigation, water, sewer and stormwater infrastructure, broadband, economic revitalization and more.    Throughout the address, Governor Scott put a spotlight on challenges facing many regions across the state and emphasized the once-in-a-lifetime opportunity to help address these issues and help underserved communities get ahead. “My fellow Vermonters: these are big challenges.', '*** This isn’t just high-flying rhetoric and here’s why: Before the pandemic, we shored up our foundation by passing responsible budgets and focused on longstanding challenges, like workforce and housing. This work – and the course we have set – has put us in an incredible position to make the most of this once-in-a-lifetime opportunity offered by historic federal aid and record state surpluses. With pandemic recovery funds, we are investing in fundamentals like broadband, water, sewer and stormwater systems, climate change resiliency, housing and economic revitalization. In St. Johnsbury, this means cleaning up brownfields and fixing up vacant rental units for more housing, and water projects to improve health and support economic growth. Around Brattleboro, this means adding space for small businesses, expanding healthcare services, and converting college dorms into homes for refugee families.', 'Whether that’s expunging records that could lead to a violent offender getting a gun; policy that has made youth the target of drug traffickers; or divisive rhetoric that makes it difficult to retain and recruit good public servants. With a more unified approach to health and safety on the ground, we can divert more people off the path to drugs and crime, and solidify our position as the safest, healthiest state to live and raise a family.  *** Addressing climate change is part of this work as well. This is an area where we share goals but may disagree on how to get there. Still, we’ve proven we can work together, devoting nearly a quarter-billion-dollars over the last two years.', 'We have made great strides, but we need to make sure we are investing in the fastest chargers available. And with all the new EVs and electric heating and cooling systems coming online, we have some serious work to do to make sure our electric grid can accommodate it. So, let’s continue to build the foundation that will make it possible and practical for Vermonters to make this transition, so we can meet our climate goals. *** And we need to do the same when it comes to housing. We have invested almost a half a billion dollars in this area over the last two years, and we are seeing some progress.'] \n",
      "\n",
      "VIRGINIA\n",
      "['Make no mistake, this trend started before the pandemic. Virginia has seen out migration for nine straight years. 2013 was when the states we compete with for people, talent, and jobs started lowering tax rates for businesses or for families, or both and started moving aggressively to make their business climates more competitive.  Virginia fell behind.  When I took office, Virginia was 47th in the nation for job recovery from the pandemic.'] \n",
      "\n",
      "WASHINGTON\n",
      "['This is the first in-person session since 2020, and is among the most diverse legislatures in state history, including a “younger and more diverse” class of legislators and record number of women. Though several difficult issues are on deck for the 105-day session, the mood among legislators and visitors has been palpably upbeat and hopeful following renewed activity at the Capitol. In his speech, Inslee reflected on several significant actions passed by the legislature in recent years that will allow leaders to respond boldly to current crises in housing, behavioral health, climate change and salmon recovery. Additional student-centered investments such as special education, and policies related to public safety and protect reproductive freedom are also top priorities for the session. The program included an opening prayer by Father Andriy Matlak of Seattle’s Ukrainian Orthodox Church.', 'Two years ago, we funded a new type of rapid acquisition housing program. It is speeding up our ability to create supportive housing in a matter of weeks and months, instead of years and decades. The climate policies we passed in recent sessions are now going into effect. Not only are these policies driving down polluting emissions, they are also creating thousands of clean energy jobs across the state. Two years ago, we passed a Working Families Tax Credit that starts next month.', 'We know that circumstances have been difficult for students, educators, paraeducators, school bus drivers and others who work in our schools. Please join me in a moment of recognition for all those people who have been so instrumental in helping students navigate the challenges of COVID-19 and beyond. On another positive note, one effort we’ve made tremendous progress on is climate. When we see the tremendous damage climate change is causing in our state, it’s understandable to feel some despair. But I think we’re also entitled to feel deep pride in what we’re accomplishing together.', 'Please join me in a moment of recognition for all those people who have been so instrumental in helping students navigate the challenges of COVID-19 and beyond. On another positive note, one effort we’ve made tremendous progress on is climate. When we see the tremendous damage climate change is causing in our state, it’s understandable to feel some despair. But I think we’re also entitled to feel deep pride in what we’re accomplishing together. The tremendous pace of innovation, together with the policies we’ve adopted, ought to give us a significant dose of hope.', 'It was fantastic to join Senators Joe Nguyen and Matt Boehnke in Tri-Cities last month to talk about the potential for a new Institute for Northwest Energy Futures at Washington State University. This institute will put the region at the global forefront of clean tech innovation. On the investment side, the Climate Commitment Act (CCA) we passed in 2021 is now live. Our state’s new cap-and-invest program will allow us, this year, to transform how we invest in transportation and our communities. Heat pumps for low-income families, charging stations across the state, hybrid-electric ferries, free transit for youth, grants to clean up air pollution — the list goes on.', 'Salmon are iconic to our state, and to tribes’ cultures and way of life. This will also fund a new voluntary riparian grant program that offers landowners assistance to protect and recover these habitats statewide. Unfortunately, climate change will continue increasing the temperatures of our waters and killing salmon. Providing shade that helps cool rivers and streams is even more critical for the years to come. As legislators, when future generations look back at your efforts 40–50 years from now, I know they will be proud you took action that gave their generation a chance.', 'As legislators, when future generations look back at your efforts 40–50 years from now, I know they will be proud you took action that gave their generation a chance. So, let’s do just that. Let’s boldly continue our fight against climate change and salmon extinction this year. I know the list of things to accomplish during this session is long, but there are a couple more I want to touch on. The first is public safety.'] \n",
      "\n",
      "WISCONSIN\n",
      "['Our school rankings dropped to 18th in the country at one point. Support for our university system had been cut by hundreds of millions of dollars. And our state was not actively working to address climate change or invest in clean energy. Well, I’m proud to say that the state of our state is much different today. We’ve gotten to work fixing the darn roads—I even helped fill some of those potholes myself, by the way.', 'And together we will.  We also created the Council on Health Equity and charged them with preparing a blueprint for reducing and eliminating health disparities across our state. We created the state’s first-ever plan to respond to and mitigate the effects of climate change. And I signed an executive order creating the first-ever Office of Environmental Justice to develop strategies that will help us address disparate impacts of climate change in communities across the state. Our state now has a Clean Energy Plan with strategies to help lower energy bills for working families, reduce our reliance on out-of-state energy sources, invest in job training and apprenticeship programs in innovative industries and technologies, and create an estimated more than 40,000 jobs by 2030.', ' We also created the Council on Health Equity and charged them with preparing a blueprint for reducing and eliminating health disparities across our state. We created the state’s first-ever plan to respond to and mitigate the effects of climate change. And I signed an executive order creating the first-ever Office of Environmental Justice to develop strategies that will help us address disparate impacts of climate change in communities across the state. Our state now has a Clean Energy Plan with strategies to help lower energy bills for working families, reduce our reliance on out-of-state energy sources, invest in job training and apprenticeship programs in innovative industries and technologies, and create an estimated more than 40,000 jobs by 2030. I also kept my promises: I vetoed every bill that restricted reproductive freedom; we delivered a 10 percent tax cut for working families; we increased investments in public transit and our university system and technical colleges; we convened a Blue Ribbon Commission to help develop solutions and create opportunities for Wisconsin’s veterans.'] \n",
      "\n",
      "WYOMING\n",
      "['Instead of giving first bumps to OPEC leaders, the Biden Administration should be extending a handshake to Wyoming energy producers.”  The Governor called for support for increasing funding to the Energy Matching Fund, which is meant to spur innovation and transformative projects. Governor Gordon praised the efforts of state and private partners. “Wyoming is becoming recognized for being forward-thinking on climate and energy. When I talk to people in Washington, DC, I proudly point to what we have done to establish Wyoming’s energy and environmental leadership. Our expertise in resource management, advanced carbon innovation, energy security, value-added agriculture, and fiscal prudence makes us a leader in all these areas.”   Governor Gordon recognizes that to keep Wyoming competitive in a rapidly changing economy means, we need to be unified.'] \n",
      "\n"
     ]
    }
   ],
   "source": [
    "for index, row in climate_y.iterrows():\n",
    "    print(row['state'].upper())\n",
    "    print(row['climate_comments'], '\\n')"
   ]
  },
  {
   "cell_type": "code",
   "execution_count": 193,
   "id": "3c937ab0",
   "metadata": {},
   "outputs": [
    {
     "name": "stdout",
     "output_type": "stream",
     "text": [
      "ALASKA\n",
      "[' Thank you, Heidi, for working so hard to change Alaska for the better.  Alaskans are a people that show their poise under pressure.  Over the past four years, we’ve overcome a historic earthquake, wildfires, landslides, and yes, a once-in-a-century pandemic. Nearly everything has been thrown at us but locusts.  Just this past September, hundreds of miles of our Western coasts and dozens of our communities were inundated with a powerful storm surge that upended homes, roads, boats, vehicles, and fish camps.', ' Together, homes were reset and repaired, and roads and seawalls were rebuilt.   As I traveled the region to monitor the recovery efforts, I met people who embody the toughness, the tenacity, and the leadership that became familiar to me when I lived and worked in rural Alaska.  One of our stops was in the town of Stebbins after the weather cleared enough for us to land.  We’d heard the town’s seawall had been damaged, and I wanted to see what kind of assistance we could provide.  Upon landing, I met Daisy Lockwood Katcheak, who is the city administrator of Stebbins.'] \n",
      "\n",
      "ARIZONA\n",
      "[' We have some of the best K-12 schools in the country – but the state has long failed to live up to its obligation to adequately invest fairly in public education in every community, and we see the results of that failure with high teacher vacancy rates and some districts with crumbling infrastructure.  Arizona has stunning landscapes and unrivaled natural beauty. However, we must do more to protect our forests and watersheds from the devastating effects of fire and drought. Our state has a dedicated public sector workforce. But we can do better in reflecting the diversity of our state to better serve our communities.', 'I urge members of the legislature to put bills on my desk that will protect women, support families, and create a future for Arizona where anyone regardless of gender can succeed.  Finally, none of the solutions – or even the future – I have spoken about today will be possible without our state’s most precious resource – water. We must talk about the challenge of our time: Arizona’s decades-long drought, over usage of the Colorado River, and the combined ramifications on our water supply, our forests, and our communities.  We are in a critical moment where we must be unified, where we must form new and stronger partnerships, and where we must find bipartisan solutions at a local, statewide, and national level.  This issue does not stop at state or international borders.', 'We will all thrive together in the future or we will all be left with the catastrophic results of our failures.  From the work our current Senators Sinema and Kelly are leading, to the accomplishments of former Senator Jon Kyl and former Governor Bruce Babbitt, to decades of efforts by Arizonans before them, our state’s leaders are at their best when they reach across the aisle for pragmatic solutions on this issue.   We should follow in their footsteps as we collectively face a drought unlike anything in modern times.  On January 1, the Colorado River Tier 2 mandatory water cuts went into effect – meaning Arizona will lose 21 percent of our water that comes from the most important river in the country. This equates to reducing our usage by 592,000 acre-feet just this year.'] \n",
      "\n",
      "ARKANSAS\n",
      "['This ceremony reminds us of a simple yet profound truth: that here in Arkansas, power belongs to no single individual. In Arkansas, power belongs to the people. For many years, Arkansas has weathered storms under the leadership of strong Governors. I’m glad to be joined by Governor Asa Hutchinson and First Lady Susan Hutchinson, who have led admirably the last 8 years, as well as former Governor Mike Beebe and his wife Ginger, and former First Lady Gay White. As I take the oath today, I draw strength from my family, knowing that on this journey, they will be at my side every step of the way.', 'Arkansas is going to fight for every job – and let me be clear, Arkansas is going to win.  We will leverage our state’s unmatched natural beauty to promote tourism and grow our outdoor economy – marketing the Natural State to the world, and finally becoming the leader in outdoor recreation that we deserve to be. Floating the clear free flowing waters of the Buffalo River or watching a sunrise on a duck hunt in flooded timber is a glimpse of heaven. I want the world to discover what we already know: Arkansas is God’s Country. And if you are a small business owner or one of our state’s 50,000 family farmers, I make you this promise: as long as I am your governor, the meddling hand of big government creeping down from Washington DC will be stopped cold at the Mississippi River.'] \n",
      "\n",
      "CALIFORNIA\n",
      "['Four years, disaster and plague, they bend the clock in strange ways. It feels like both a flash, and an eternity. In the longest hours of my first term, trying to plot a course through pandemic, wildfire, mass shootings, and social unrest … I found myself looking backward, as much as I was looking forward. I recalled the late-1970s, when I was 10 or 11 years old, a child of divorce and dyslexia, trying to find my bearings. I was a kid, traveling back and forth across the Golden Gate Bridge, between the two very different lives of my mother and father.', 'They’re promoting grievance and victimhood, in an attempt to erase so much of the progress you and I have witnessed in our lifetimes. They make it harder to vote and easier to buy illegal guns. They silence speech, fire teachers, kidnap migrants, subjugate women, attack the Special Olympics, and even demonize Mickey Mouse. All camouflaged under a hijacking of the word “freedom.” But what they really want is more control – intrusive government, command over your most intimate decisions – when to have a family, how you raise your kids, how you love. While they cry freedom, they dictate the choices people are allowed to make.', 'Just as they were last year, when I found myself with the leaders of California’s most populous tribe, the Yurok. Floating down another great river, the Klamath, in a traditional dugout canoe. We stopped for dinner on the riverbank and prepared salmon smoked on redwood, over a traditional firepit. The bark infused flavor into the fish, imparting a taste familiar to the Yurok people stretching back to their earliest ancestors. Just a few weeks ago, I returned to the Klamath and met with Yurok, Karuk, and Klamath tribal leaders.'] \n",
      "\n",
      "COLORADO\n",
      "['COVID-19. Shootings. Devastatingwildfires. Record inflation. Spiraling hate speech.But Coloradans should know that no matter what comes our way, I’ll continue to fight everydayto protect our state.Colorado is unique, we always have been.', 'There are many approaches thathave worked in other states, and we hope to see those proven models replicated here.This is going to be a lot of work, and it’s going to take all of us in this chamber to get it done. Weare here to solve the big problems, and the cost of housing tops that list.82023 State of State Address As Prepared for Delivery for Colorado Governor Jared Polis -January 17, 2023This is what Coloradans are calling for, and it’s up to us to take action to protect our sharedfuture.Just as the future of our state is tied to housing, it’s also tied to water.Water is life in Colorado and the west, it’s as simple as that. But we’re at a crossroads.Increased demand, chronic and extreme drought, conflicts with other states, and devastatingclimate events are threatening this critical lifesource – and we’ve all seen the impacts.Wildfires have destroyed hundreds of thousands of acres, and devastated entire communities.Farmers and ranchers across the state fear that Colorado won’t have the water resources tosustain the next generation of agricultural jobs.When Colorado is 150, I want our state to have the water resources necessary for our farms,communities, and industries to thrive, and the tools in place to protect our state’s waterways anddefend our rights.Your work around housing will truly go a long way to protect water -  our most preciousresource. But we must also continue investing in water projects around the state.We don’t want to see a single dollar left on the table.For every dollar the state invested in Water Plan grants last year, we got four dollars back. In thelast fiscal year, we awarded more than $23 million in grants that supported nearly $100 million inprojects, and we’re hoping to once again position Colorado to punch above our weight and pulldown major investments from the federal government.This includes funding for water infrastructure and water quality projects like the Arkansas ValleyConduit.', \"My administration has also been working to secure outside supply to minimizedisruption.But the only long-term solution is to continue pursuing low-cost, reliable, renewable energy. Wesimply must end our reliance on costly fossil fuels, improve energy security, and save peoplemoney.This is why the Electric vehicle and ebike tax credits I'm proposing are so important, and whywe’ve focussed on increasing access to electric vehicles and transit options since day one. Thistax relief amplifies the work of the Front Range Rail District, free bus fare months, and the needfor greater transit options.I look forward to working with the General Assembly to make Colorado a place wheregeothermal, hydrogen, and carbon capture technologies can and will succeed.While we do our part to improve air quality and reduce pollution, we are also preparing our statefor the hotter, drier climate that we are experiencing.Since 2019, Colorado has supported response efforts for more than 2,000 wildfires, includingthe three largest in history AND the most devastating. It was only a few weeks ago that wemarked the one-year anniversary of the Marshall Fire in Boulder County, a reminder that thethreat of wildfire is no longer seasonal. It’s year round, and we need to be ready.Colorado has invested in some of the most effective fire prevention and response measures outthere - from our state’s first Firehawk helicopter to forest restoration and other proven mitigationefforts.\", \"Wesimply must end our reliance on costly fossil fuels, improve energy security, and save peoplemoney.This is why the Electric vehicle and ebike tax credits I'm proposing are so important, and whywe’ve focussed on increasing access to electric vehicles and transit options since day one. Thistax relief amplifies the work of the Front Range Rail District, free bus fare months, and the needfor greater transit options.I look forward to working with the General Assembly to make Colorado a place wheregeothermal, hydrogen, and carbon capture technologies can and will succeed.While we do our part to improve air quality and reduce pollution, we are also preparing our statefor the hotter, drier climate that we are experiencing.Since 2019, Colorado has supported response efforts for more than 2,000 wildfires, includingthe three largest in history AND the most devastating. It was only a few weeks ago that wemarked the one-year anniversary of the Marshall Fire in Boulder County, a reminder that thethreat of wildfire is no longer seasonal. It’s year round, and we need to be ready.Colorado has invested in some of the most effective fire prevention and response measures outthere - from our state’s first Firehawk helicopter to forest restoration and other proven mitigationefforts. I want to thank President Fenberg and the Joint Budget Committee for leading the wayon these resources.112023 State of State Address As Prepared for Delivery for Colorado Governor Jared Polis -January 17, 2023But we know there is more work ahead.We must continue strengthening our aerial capabilities, supporting our professional andvolunteer firefighters, and preparing for a hotter, drier climate.We must also expand our fire prevention efforts, including building fire defense in communitiesthat are at risk, and elevating the work of the Colorado Strategic Wildfire Action Program.Getting this right is critical for the health of our communities and the future of our state.But it's not about just the health of our environment, it's also the health of our people.Unfortunately, after housing expenses, healthcare costs are some of the highest that familiesface.Too many Coloradans are forced to choose between the care they desperately need, payingtheir rent or mortgage, or putting food on the table.Our own Lt. Governor Dianne Primavera knows this story all too well.Dianne was diagnosed with breast cancer, and told she had five years to live.\", \"Thistax relief amplifies the work of the Front Range Rail District, free bus fare months, and the needfor greater transit options.I look forward to working with the General Assembly to make Colorado a place wheregeothermal, hydrogen, and carbon capture technologies can and will succeed.While we do our part to improve air quality and reduce pollution, we are also preparing our statefor the hotter, drier climate that we are experiencing.Since 2019, Colorado has supported response efforts for more than 2,000 wildfires, includingthe three largest in history AND the most devastating. It was only a few weeks ago that wemarked the one-year anniversary of the Marshall Fire in Boulder County, a reminder that thethreat of wildfire is no longer seasonal. It’s year round, and we need to be ready.Colorado has invested in some of the most effective fire prevention and response measures outthere - from our state’s first Firehawk helicopter to forest restoration and other proven mitigationefforts. I want to thank President Fenberg and the Joint Budget Committee for leading the wayon these resources.112023 State of State Address As Prepared for Delivery for Colorado Governor Jared Polis -January 17, 2023But we know there is more work ahead.We must continue strengthening our aerial capabilities, supporting our professional andvolunteer firefighters, and preparing for a hotter, drier climate.We must also expand our fire prevention efforts, including building fire defense in communitiesthat are at risk, and elevating the work of the Colorado Strategic Wildfire Action Program.Getting this right is critical for the health of our communities and the future of our state.But it's not about just the health of our environment, it's also the health of our people.Unfortunately, after housing expenses, healthcare costs are some of the highest that familiesface.Too many Coloradans are forced to choose between the care they desperately need, payingtheir rent or mortgage, or putting food on the table.Our own Lt. Governor Dianne Primavera knows this story all too well.Dianne was diagnosed with breast cancer, and told she had five years to live. With two youngdaughters to raise, her life was turned upside down and she was forced to wrestle with thequestions that many other Coloradans have faced.Can I support my family and pay for my treatments?\", \"It was only a few weeks ago that wemarked the one-year anniversary of the Marshall Fire in Boulder County, a reminder that thethreat of wildfire is no longer seasonal. It’s year round, and we need to be ready.Colorado has invested in some of the most effective fire prevention and response measures outthere - from our state’s first Firehawk helicopter to forest restoration and other proven mitigationefforts. I want to thank President Fenberg and the Joint Budget Committee for leading the wayon these resources.112023 State of State Address As Prepared for Delivery for Colorado Governor Jared Polis -January 17, 2023But we know there is more work ahead.We must continue strengthening our aerial capabilities, supporting our professional andvolunteer firefighters, and preparing for a hotter, drier climate.We must also expand our fire prevention efforts, including building fire defense in communitiesthat are at risk, and elevating the work of the Colorado Strategic Wildfire Action Program.Getting this right is critical for the health of our communities and the future of our state.But it's not about just the health of our environment, it's also the health of our people.Unfortunately, after housing expenses, healthcare costs are some of the highest that familiesface.Too many Coloradans are forced to choose between the care they desperately need, payingtheir rent or mortgage, or putting food on the table.Our own Lt. Governor Dianne Primavera knows this story all too well.Dianne was diagnosed with breast cancer, and told she had five years to live. With two youngdaughters to raise, her life was turned upside down and she was forced to wrestle with thequestions that many other Coloradans have faced.Can I support my family and pay for my treatments? Will this devastate us financially?\", 'Coloradans have to be able toafford to live in our communities where they can earn a good living and companies must be ableto find the workers they need to thrive.We’ve already made historic investments in Colorado’s workforce. We’re creating regionaltraining opportunities, supporting our local workforce centers, increasing disability employmentopportunities, and adopting skills-based hiring practices and apprenticeship opportunities.I want to thank some of the legislators who worked on these critical bills, including SpeakerMcCluskie, Senator Rich, Senator Lundeen and Senator Bridges.Last year we created Care Forward Colorado, which makes it completely free for Coloradostudents to pursue careers in health care at any community or technical colleges, and guesswhat, demand and enrollment increased. But we want to go beyond just healthcare and intoother areas where we are experiencing shortages.I’m proposing we expand Care Forward Colorado to include free training for other in-demandfields in the public and private sector like construction, firefighting, law enforcement, nursing,and early childhood education.In addition, we know that the number of Coloradans pursuing postsecondary education ortraining right out of high school has been declining.162023 State of State Address As Prepared for Delivery for Colorado Governor Jared Polis -January 17, 2023To address this challenge, I am proposing a new scholarship for graduating high school seniorsin the class of 2024 who pursue postsecondary education, training, or certifications.The reality is that today’s economy demands access to quick skill acquisition, whether that is aone, two or four year degree, professional training, an apprenticeship, or on-the job training. Weare going to jumpstart access to training to help more Coloradans be career ready, earn more,and power our economyThis work must be done in collaboration with all of those involved – from education, to labor andunions, to training providers, and of course the business community.We also want to continue investing in the hardworking state employees that drive Coloradoforward, who plow our interstates, staff our state hospital in Pueblo, manage our prisons andmore. Our state workers deserve our respect, fair, competitive wages, and good benefits.'] \n",
      "\n",
      "FLORIDA\n",
      "['When the world lost its mind – when common sense suddenly became an uncommon virtue – Florida was a refuge of sanity, a citadel of freedom for our fellow Americans and even for people around the world. In captaining the ship of state, we choose to navigate the boisterous sea of liberty rather than cower in the calm docks of despotism. We face attacks, we take hits, but we weather the storms, we stand our ground, and we do what is right. As the Book of Psalms reminds us, “I will not fear though tens of thousands assail me on every side.” We have refused to use polls and to put our finger in the wind – leaders do not follow, they lead. We have articulated a vision for a free and prosperous state.', 'We said we would stand for law and order and support the men and women of law enforcement – and we delivered. We promised to remedy deficiencies in Florida’s election administration and to hold wayward officials accountable – and we delivered. We said we would support the areas in Northwest Florida stricken by Hurricane Michael – and we delivered. And when Hurricane Ian came last year, the state coordinated a massive mobilization of response personnel, facilitated the fastest power restoration on record, and even quickly rebuilt key bridges that had been wiped out by the storm. We have stood by the people of Southwest Florida and we will continue to do so in the weeks, months and years ahead.', 'We promised to remedy deficiencies in Florida’s election administration and to hold wayward officials accountable – and we delivered. We said we would support the areas in Northwest Florida stricken by Hurricane Michael – and we delivered. And when Hurricane Ian came last year, the state coordinated a massive mobilization of response personnel, facilitated the fastest power restoration on record, and even quickly rebuilt key bridges that had been wiped out by the storm. We have stood by the people of Southwest Florida and we will continue to do so in the weeks, months and years ahead. Because of these efforts and others, Florida is leading the nation: We are #1 in these United States in net in-migration Florida is the #1 fastest growing state We are #1 in new business formations Florida is #1 in tourism We are #1 in economic freedom Florida is #1 in education freedom And we rank #1 in parental involvement in education Florida also ranks #1 in public higher education This is a record we can all be proud of.', 'We reject the idea that self-government can be subcontracted out to technocratic elites who reduce human beings to mere data points. We insist on the restoration of time-tested constitutional principles so that government of, by and for the people shall not perish from this earth. Florida has led the way in preserving what the father of our country called the “sacred fire of liberty.” It is the fire that burned in Independence Hall when 56 men pledged their lives, their fortunes and their sacred honor to establish a new nation conceived in liberty. It is the fire that burned at a cemetery at Gettysburg when the nation’s first Republican president pledged to this nation a “new birth of freedom.” It is the fire that burned among the boys who stormed the beaches of Normandy to liberate a continent and to preserve freedom for the world. It is the fire that infused a young preacher’s dream, relayed at the steps of the Lincoln Memorial, that the Declaration of Independence said what it meant and meant what it said: all men are created equal.', 'We insist on the restoration of time-tested constitutional principles so that government of, by and for the people shall not perish from this earth. Florida has led the way in preserving what the father of our country called the “sacred fire of liberty.” It is the fire that burned in Independence Hall when 56 men pledged their lives, their fortunes and their sacred honor to establish a new nation conceived in liberty. It is the fire that burned at a cemetery at Gettysburg when the nation’s first Republican president pledged to this nation a “new birth of freedom.” It is the fire that burned among the boys who stormed the beaches of Normandy to liberate a continent and to preserve freedom for the world. It is the fire that infused a young preacher’s dream, relayed at the steps of the Lincoln Memorial, that the Declaration of Independence said what it meant and meant what it said: all men are created equal. It is the fire that led a resolute president to stand in Berlin and declare “tear down this wall,” staring down the communists and winning the Cold War.', 'Florida has led the way in preserving what the father of our country called the “sacred fire of liberty.” It is the fire that burned in Independence Hall when 56 men pledged their lives, their fortunes and their sacred honor to establish a new nation conceived in liberty. It is the fire that burned at a cemetery at Gettysburg when the nation’s first Republican president pledged to this nation a “new birth of freedom.” It is the fire that burned among the boys who stormed the beaches of Normandy to liberate a continent and to preserve freedom for the world. It is the fire that infused a young preacher’s dream, relayed at the steps of the Lincoln Memorial, that the Declaration of Independence said what it meant and meant what it said: all men are created equal. It is the fire that led a resolute president to stand in Berlin and declare “tear down this wall,” staring down the communists and winning the Cold War. It is our responsibility here in Florida to carry this torch.', 'It is the fire that burned at a cemetery at Gettysburg when the nation’s first Republican president pledged to this nation a “new birth of freedom.” It is the fire that burned among the boys who stormed the beaches of Normandy to liberate a continent and to preserve freedom for the world. It is the fire that infused a young preacher’s dream, relayed at the steps of the Lincoln Memorial, that the Declaration of Independence said what it meant and meant what it said: all men are created equal. It is the fire that led a resolute president to stand in Berlin and declare “tear down this wall,” staring down the communists and winning the Cold War. It is our responsibility here in Florida to carry this torch. We do not run from this responsibility; we welcome it.'] \n",
      "\n",
      "GEORGIA\n",
      "['Sergeant Harrison, please stand and allow us to thank you for your great work and honored service. These and other public safety officers on both the state and local levels are the unsung heroes we don’t always hear about because their acts of service are given without expectation or reservation. In light of this past weekend’s events, when men and women in uniform are putting themselves in harm’s way and literally in the line of fire, you can imagine their frustration when one of these criminals ends up right back out on the street in a matter of hours just to terrorize those streets further. I appreciate that a Fulton County judge denied bond for four of the six rioters arrested last Saturday, and gave the other two bonds of over $355,000, along with a 24-hour curfew and ankle monitors. Unfortunately, this approach is not universal across the judicial system.'] \n",
      "\n",
      "IDAHO\n",
      "['  Throughout these turbulent few years, we never lost our direction because we always put IDAHO FIRST.   And now, Idaho IS first (or near first) in just about every national ranking of economic strength, budget stability, and good government.  We didn’t just weather the storm, we thrived.  Folks, our success did not happen by accident.  What we’re doing is working, and I am prepared to work with all of you to accelerate our pace, continue leading the country, and keep putting IDAHO FIRST.'] \n",
      "\n",
      "ILLINOIS\n",
      "[\"There's more to do, but we're ensuring that Illinois is open for business.Public Safety and Violence PreventionBut we need to be safe in our businesses and our homes. So we've beefed up support for law enforcement to reduce crime. In 2022, Illinois State Police's Metropolitan Enforcement Groups and Drug Task Forces across the state seized 679 firearms and over 13 tons of drugs including multiple major interdictions of deadly fentanyl, and 1,942 individuals involved in crimes were arrested. With increased patrols and technology, ISP cut the number of homicides on Chicago area expressways by 88% and shootings dropped nearly in half. That's real progress, and this year's budget continues funding the hiring of additional troopers and upgrading the tools to catch perpetrators.Rebuilding our Social ServicesHand in hand with public safety are the human services necessary for people most in need.\"] \n",
      "\n",
      "INDIANA\n",
      "['Yet, I’m mindful as public servants, we must maintain the strength of our essential good government services that Hoosiers rely on each day to grow. And there is no more essential service than public safety. That’s why my budget calls for major investments in school safety, law enforcement and our firefighters across the state. Specifically, I am asking the General Assembly to join me by increasing school safety grants by 30%, fully funding our courts’ request to upgrade technology and make greater use of our problem-solving courts, making investments to finally realize a true statewide firefighter training system, and to buy the necessary protective equipment for our volunteer forces. And let’s raise the starting pay for Indiana’s State Police to $70,000 a year! Ladies and gentlemen, in closing, I hope you will take away a few things from tonight.', 'And there is no more essential service than public safety. That’s why my budget calls for major investments in school safety, law enforcement and our firefighters across the state. Specifically, I am asking the General Assembly to join me by increasing school safety grants by 30%, fully funding our courts’ request to upgrade technology and make greater use of our problem-solving courts, making investments to finally realize a true statewide firefighter training system, and to buy the necessary protective equipment for our volunteer forces. And let’s raise the starting pay for Indiana’s State Police to $70,000 a year! Ladies and gentlemen, in closing, I hope you will take away a few things from tonight. Number one, I’m proud of our stewardship of state government.'] \n",
      "\n",
      "IOWA\n",
      "[' The law enforcement heroes who patrol our streets at great personal risk and sacrifice. The medical responders who bring healing to the injured. The firefighters who run towards the flames, rather than away. The soldiers who serve our nation at home and abroad.   They’re the best among us, and those who sometimes give the ultimate sacrifice.'] \n",
      "\n",
      "KANSAS\n",
      "['My budget expands Mental Health Intervention Teams in our schools to have an even greater reach. It also provides funding for adult psychiatric services in the Wichita area, and funding to address the shortage of mental health workers across the state  We also need to pass legislation to guarantee mental health care for our first responders. Right now, our police officers, our firefighters, our EMTs and paramedics are not eligible for workers compensation for PTSD – even if they experienced the traumatic event on the job. That is unacceptable. We say we value our first responders.'] \n",
      "\n",
      "KENTUCKY\n",
      "['Microsoft Word - 20230104_Gov-Beshear_State-of-the-Commonwealth-Address.docx\\xa0State of the Commonwealth Address Governor Andy Beshear January 4, 2023  President Stivers, Speaker Osborne, Members of the General Assembly, Lieutenant Governor Coleman, constitutional officers, justices of the Kentucky Supreme Court, General Lamberton, former Governor Steve Beshear and former First Lady Jane Beshear, First Lady Britainy Beshear, Will, Lila, – and to all the Kentuckians watching from home – good evening. Tonight, I’m proud to report that, despite everything we have been through – including a pandemic, tornadoes, flooding, ice storms, a polar plunge, temporary but tough inflation and even a war in Europe – the state of the commonwealth is still strong, and our future is bright. We enter 2023 with hope and optimism, after setting record highs in economic development and record lows in unemployment. That means that 2023 provides us a special opportunity for this state and for this legislative session to change everything for the better; to be the generation that puts aside partisanship and ushers Kentucky into a new era of prosperity.', 'Scripture tells us that we are to love our neighbor as ourselves. And that’s exactly what folks across this commonwealth have been doing. Last year, I delivered this address just weeks after the deadliest tornado outbreak in our history hit our western region. We lost 81 Kentuckians. This year, historic flooding devastated communities in our eastern region, taking 44 more lives.', 'Last year, I delivered this address just weeks after the deadliest tornado outbreak in our history hit our western region. We lost 81 Kentuckians. This year, historic flooding devastated communities in our eastern region, taking 44 more lives. And just around 10 days ago, a polar plunge hit the entire state, killing four people. That’s on top of the nearly 17,700 Kentuckians we’ve lost in the pandemic.', 'Joining us tonight are rescue helicopter pilots Sergeant Zach Lusk and Captain Brad Austin, from KSP, and Sergeant First Class Jeremy Lowe and Tech Sergeant Cole Kyser from the Kentucky National Guard.  We also have Lieutenant Robbie Spears, of Pikeville, and Conservation Officer Bobby Owens, of Hindman, from Fish & Wildlife, who led boat rescues throughout the region. I am convinced that the emergency rescue efforts during the flooding were the best the nation has ever seen, with more than 1,300 Kentuckians rescued. That’s 1,300 Kentucky lives saved!  So, to each of you and to your colleagues: The commonwealth loves you and thanks you. Along with these great individuals, first responders throughout the state and across the country came to help.', 'Along with these great individuals, first responders throughout the state and across the country came to help. And some of those first responders join us this evening. Battalion Chief Adam Sorrell and Captain Ryan Hogsten are here with us from the Lexington Fire Department. They were originally dispatched to Hazard, but when they got to Breathitt County, they knew that is where they were needed most. 3\\xa0\\xa0Adam and Ryan and the entire Lexington Fire Department Swift Water Rescue Crew put their lives on the line to rescue 130 Kentuckians and assisted in missions that saved more than 2,000 lives.', 'Battalion Chief Adam Sorrell and Captain Ryan Hogsten are here with us from the Lexington Fire Department. They were originally dispatched to Hazard, but when they got to Breathitt County, they knew that is where they were needed most. 3\\xa0\\xa0Adam and Ryan and the entire Lexington Fire Department Swift Water Rescue Crew put their lives on the line to rescue 130 Kentuckians and assisted in missions that saved more than 2,000 lives. Stand up and let us thank you for your heroic work and all the first responders that helped during the flooding. In response to the flooding, we immediately secured a federal disaster declaration to speed resources to the region.', 'They were originally dispatched to Hazard, but when they got to Breathitt County, they knew that is where they were needed most. 3\\xa0\\xa0Adam and Ryan and the entire Lexington Fire Department Swift Water Rescue Crew put their lives on the line to rescue 130 Kentuckians and assisted in missions that saved more than 2,000 lives. Stand up and let us thank you for your heroic work and all the first responders that helped during the flooding. In response to the flooding, we immediately secured a federal disaster declaration to speed resources to the region. We set up the Team Eastern Kentucky Flood Relief Fund, which has now raised over $13 million.', '3\\xa0\\xa0Adam and Ryan and the entire Lexington Fire Department Swift Water Rescue Crew put their lives on the line to rescue 130 Kentuckians and assisted in missions that saved more than 2,000 lives. Stand up and let us thank you for your heroic work and all the first responders that helped during the flooding. In response to the flooding, we immediately secured a federal disaster declaration to speed resources to the region. We set up the Team Eastern Kentucky Flood Relief Fund, which has now raised over $13 million. I called a special session, and together we made over $200 million of state funds immediately available to the region.', 'Stand up and let us thank you for your heroic work and all the first responders that helped during the flooding. In response to the flooding, we immediately secured a federal disaster declaration to speed resources to the region. We set up the Team Eastern Kentucky Flood Relief Fund, which has now raised over $13 million. I called a special session, and together we made over $200 million of state funds immediately available to the region. Mr. President, Mr. Speaker, bill sponsor John Blanton, I want to thank you for your leadership on this and thank everyone in the General Assembly for putting the people of Kentucky first.', 'Mr. President, Mr. Speaker, bill sponsor John Blanton, I want to thank you for your leadership on this and thank everyone in the General Assembly for putting the people of Kentucky first. This wasn’t a bipartisan act; it was a non-partisan act. … During and after the floods, we opened up our state parks to people who’d lost their homes, just like we did in the West. With help from Louisiana, we are providing intermediate housing in travel trailers for nearly 700 Kentuckians until they can secure reliable, permanent housing. Tonight, we are joined by Trinity Shepherd, who runs Jenny Wiley State Resort Park, along with some of his co-workers.', 'With help from Louisiana, we are providing intermediate housing in travel trailers for nearly 700 Kentuckians until they can secure reliable, permanent housing. Tonight, we are joined by Trinity Shepherd, who runs Jenny Wiley State Resort Park, along with some of his co-workers. Trinity and his team, some of whom were heavily impacted by the flooding, put their own needs aside and helped our families who lost everything. Trinity, we want to thank you and every Parks employee for caring for our fellow Kentuckians time and time again. And as we headed into the holiday season, the First Lady once again launched a toy drive – the Eastern Kentucky Toy Drive – to give the children who lost so much in the floods a reason to smile at Christmas.', 'Trinity and his team, some of whom were heavily impacted by the flooding, put their own needs aside and helped our families who lost everything. Trinity, we want to thank you and every Parks employee for caring for our fellow Kentuckians time and time again. And as we headed into the holiday season, the First Lady once again launched a toy drive – the Eastern Kentucky Toy Drive – to give the children who lost so much in the floods a reason to smile at Christmas. Once again, the toys poured in, and the kids left with boxes upon boxes of gifts for Christmas. Will, Lila, your mom is a special person.', '4\\xa0\\xa0The task that remains is the long-term rebuilding. Unquestionably, it will be one of the most difficult re-builds that our nation has ever seen. Our mission is to move our families out of the floodplain and out of harm’s way. But doing so gives us a chance to reimagine our communities, to go beyond just rebuilding, and to set the stage for future growth. We have the chance to build new homes, community centers, senior apartments, maybe even new schools, along with strong, modern, resilient infrastructure that will help the entire region.', 'Right before Christmas, we were able to announce that the first high-ground community will be created in Knott County. We will use donated funds, as well as state and federal money, to build new homes, schools and a community center, along with strong, modern infrastructure. This will be just the first of many communities like this that the state will build along with local governments and private-sector partners in the areas most affected by the flooding. Shawn and Tammy are here with us tonight. Y’all chose to make a difference for your community by helping us create a new, safer neighborhood for those who need one.', 'We care about you. And we’re going to be there for you, every step of the way, as long as it takes. And for those in the West affected by the tornadoes, we know there is much work left to be done. We remain committed, and we look forward to celebrating each milestone with you. Last year, I got to introduce you to Kara McKnight and her family.', 'We remain committed, and we look forward to celebrating each milestone with you. Last year, I got to introduce you to Kara McKnight and her family. Just months after losing her brother in a car accident, Kara’s home was taken by the tornadoes. I met her at the Christmas celebration at Pennyrile Park, where Lila and I loaded Kara up with toys. Since then, every time I’m in Western Kentucky, I see Kara and her family.', 'I’ve gotten to know them and have closely followed their recovery. Tonight, I’m proud to report that the McKnights are finally in their new home, and Kara even got to design her own room. Every family impacted by the tornados or the flooding deserves that moment when they walk into a new, safe home. Kara, Jason, Ashley and Jett are watching from their new living room tonight. I want to thank them for their strength and for showing us both healing and better days are possible.', 'We are protecting our national security and we’re getting it done right here in Kentucky. This project is also personal to me. This amazing plant will be built just about 26 miles from Dawson Springs, a town that was nearly wiped off the map by the tornados. It’s a community I deeply love. This plant will ensure that town and its families not only survive, but thrive.'] \n",
      "\n",
      "LOUISIANA\n",
      "['Little did we know how often that statement would be tested. It took a whole lot more gumbo and gumption than we expected, but WE have met every challenge. From the record budget deficit we inherited to the floods of 2016, to the national reckoning over racial injustice and discriminatory policing. From multiple hurricanes, including the two strongest to ever hit our state, Laura and Ida, to tornados and a once a century pandemic. We may have been weary at times but we never wavered.', 'It took a whole lot more gumbo and gumption than we expected, but WE have met every challenge. From the record budget deficit we inherited to the floods of 2016, to the national reckoning over racial injustice and discriminatory policing. From multiple hurricanes, including the two strongest to ever hit our state, Laura and Ida, to tornados and a once a century pandemic. We may have been weary at times but we never wavered. Promises were made.', 'That is a promise I made, and a promise WE’VE kept. Surpluses are also essential to our ability to meet inflationary demands on capital projects and meet our match obligations under the Bipartisan Infrastructure Law. The state also used available dollars to pursue a number of fiscal initiatives that will pay long-term dividends by eliminating debts, including $800 million toward the Hurricane and Storm Damage Risk Reduction System. Our responsible budgeting, strategic investments, and record deposits into the rainy day and revenue stabilization funds will give the next governor and next legislature opportunities and stability we did not have in 2016. Further, there will be another fiscal session in 2025 before any revenue loss happens and in plenty of time to make budget and revenue adjustments should they be necessary.', 'Our “all-of-the-above” strategy has driven new energy investment, while continuing to support companies meeting the current market demand for oil & gas. The result: Louisiana is as a global leader in the energy transition. I’ve already spoken about the hardships, hurricanes and crises we’ve faced in my time as governor. Our small business owners have been hit hard by those challenges, but they have shown tremendous strength. Today, I am honored to be joined by Nick Perioux, the owner of Pat’s of Henderson in Lake Charles.', 'Today, I am honored to be joined by Nick Perioux, the owner of Pat’s of Henderson in Lake Charles. I’m going to ask Nick to stand and be recognized. After having his business shut down by COVID-19 in early 2020, Nick’s restaurant took heavy damage during Hurricanes Laura and Delta. You may remember that Nick was one of my guests at this speech last year. Like so many victims of Hurricanes Laura, Delta, and Ida, he spent months stuck in insurance purgatory while his insurer tried to wear him down and make him quit on a business that means everything to his family and his community.', 'After having his business shut down by COVID-19 in early 2020, Nick’s restaurant took heavy damage during Hurricanes Laura and Delta. You may remember that Nick was one of my guests at this speech last year. Like so many victims of Hurricanes Laura, Delta, and Ida, he spent months stuck in insurance purgatory while his insurer tried to wear him down and make him quit on a business that means everything to his family and his community. Nick refused to give up. He fought through adversity.', 'Nick was kind enough to invite me and the Southwest Louisiana legislative delegation for lunch a few weeks ago. The food and service were sensational and the rebuilt restaurant is beautiful. We’re facing an insurance crisis following Hurricanes Laura, Delta, Ida, and the collateral damage of the collapse of Florida’s insurance market. I am ready and willing to work with anyone to address availability and price concerns in our insurance market, just as I did during the special session earlier this year. But to be clear; the solution to our insurance issues is not to make it impossible for hurricane victims like Nick to be made whole after a storm, or make it even easier for insurers to wear people down.', 'We’re facing an insurance crisis following Hurricanes Laura, Delta, Ida, and the collateral damage of the collapse of Florida’s insurance market. I am ready and willing to work with anyone to address availability and price concerns in our insurance market, just as I did during the special session earlier this year. But to be clear; the solution to our insurance issues is not to make it impossible for hurricane victims like Nick to be made whole after a storm, or make it even easier for insurers to wear people down.  Down that path lies unbearable suffering, increased population loss, and worse. I will be supporting legislation this session that aims to lower insurance rates for our policyholders and make the claims process easier, more transparent, and fairer for everyone.'] \n",
      "\n",
      "MAINE\n",
      "['And we listened to small businesses drowning in health insurance costs and lowered their premiums for the first time in decades.  You asked us to pay attention to what the United Nations scientists have called a “Code Red for Humanity” and the violent storms across the nation damaging homes, towns, fisheries, wildlife, everything our nation holds dear. So, with renewable energy, weatherization, efficiency, alternative heating sources, and a focus on resiliency, we have put Maine on a path towards carbon neutrality, with a plan to protect our precious farms, shorelands and towns from the ravages of climate change.   You asked us to expand broadband, recognizing that it is the communications highway of the future and that high speed Internet is as necessary to everything we do as water is to life. So, we created the Maine Connectivity Authority.', ' And perhaps they too will see those things I believe will never change:  – the way the surf of the mighty Atlantic pounds the granite shores of our state;  – the way Katahdin rises up in all its majesty in the western sky;   – the way the Basilica in Lewiston inspires the people of the mighty Androscoggin;   9  – the way so many institutions of higher learning enrich and grace our towns and cities across the state;  – the way Moxie tickles the throat as it goes down and the way the wild blueberry finds a place in every tasty meal.   One hundred years from now, people not yet born will turn a telescope back in time and find in the Maine of the 2020s a place where government did everything it could to save the lives and livelihoods of its people; took nothing for granted but invested wisely to make Maine a clean, healthy and welcoming place where success is attainable.   And they will remember one sign, one word, that guided our path, our actions and our dreams: “Hopeful.”  It is the highest privilege of my life to serve as your Governor, during hard times and good, stormy seas and calmer waters, as we weather the best and the worst of times together, tackling extraordinary problems, through extraordinary times, alongside you, the extraordinary people of Maine.  It is an honor to lead a people where everything good is possible and where we believe always, deep in our hearts, ‘the best is yet to come!’   Thank you.  ### '] \n",
      "\n",
      "MICHIGAN\n",
      "['That’s money for prescriptions, groceries, gas, or gifts for grandkids. I fought this tax as a legislator and as governor because I knew it hurt people.     We need to get this done for Michiganders like Michael, a retired firefighter from Livonia. He was aghast when his retirement income was taxed. He spent his career putting his life on the line to pull his neighbors from burning buildings, and then the state changed the rules in the middle of the game, raising taxes on his hard-earned dollars.', '    Let’s repeal other dangerous laws prohibiting people from accessing reproductive health care or shaming them for seeking it in the first place.      Let’s repeal outdated laws restricting who you can marry.     And let’s expand the Elliott-Larsen Civil Rights Act so you can’t be fired or evicted against because of who you are or how you identify.      I called for this in my first State of the State back in 2019. I want to thank Senator Moss and Representative Hoskins for introducing this bill.', 'Let’s continue funding law enforcement with better training, oversight, and access to mental health resources. Police officers, state troopers, and prosecutors have tough, dangerous jobs, and if we work together, we get them what they need to keep our communities safe.      Right now, there is a flood of illegal guns on our streets. There’s been a rise of break-ins at gun dealerships and straw purchases, where one person illegally buys a firearm for another. Firearms are getting more dangerous too, thanks to 3D printed technology called Glock switches that turn semi-automatic weapons fully automatic.', 'Police officers, state troopers, and prosecutors have tough, dangerous jobs, and if we work together, we get them what they need to keep our communities safe.      Right now, there is a flood of illegal guns on our streets. There’s been a rise of break-ins at gun dealerships and straw purchases, where one person illegally buys a firearm for another. Firearms are getting more dangerous too, thanks to 3D printed technology called Glock switches that turn semi-automatic weapons fully automatic.      That’s why we launched Operation Safe Neighborhoods, taking hundreds of illegal firearms off the street before they could be used in the commission of a crime.', '     Right now, there is a flood of illegal guns on our streets. There’s been a rise of break-ins at gun dealerships and straw purchases, where one person illegally buys a firearm for another. Firearms are getting more dangerous too, thanks to 3D printed technology called Glock switches that turn semi-automatic weapons fully automatic.      That’s why we launched Operation Safe Neighborhoods, taking hundreds of illegal firearms off the street before they could be used in the commission of a crime. But we must do more so the world our kids inherit is not more violent than the one we inhabit now.', 'There’s been a rise of break-ins at gun dealerships and straw purchases, where one person illegally buys a firearm for another. Firearms are getting more dangerous too, thanks to 3D printed technology called Glock switches that turn semi-automatic weapons fully automatic.      That’s why we launched Operation Safe Neighborhoods, taking hundreds of illegal firearms off the street before they could be used in the commission of a crime. But we must do more so the world our kids inherit is not more violent than the one we inhabit now.      The time for only thoughts and prayers is over.', '     The time for only thoughts and prayers is over. It’s time for commonsense action to reduce gun violence in our communities.     Let’s enact universal background checks for people who want to buy firearms.      Let’s enact safe storage laws so we can make sure firearms are stored safely at home.     And let’s enact extreme risk protection orders, so we can keep guns out of the hands of those who might represent a danger to themselves or others.', 'It’s time for commonsense action to reduce gun violence in our communities.     Let’s enact universal background checks for people who want to buy firearms.      Let’s enact safe storage laws so we can make sure firearms are stored safely at home.     And let’s enact extreme risk protection orders, so we can keep guns out of the hands of those who might represent a danger to themselves or others. If Florida and Indiana can get this done, we sure can, right?'] \n",
      "\n",
      "MISSISSIPPI\n",
      "['Now, over these years some days have been more challenging than others. But no matter what’s thrown at Mississippi, I thank God each night that I have the chance to live, work, and serve alongside of you. There is no place I would have rather weathered tornadoes, floods, hurricanes, or a global pandemic than right here in Mississippi. But Mississippi – and I think you’ll agree too – means more than simply a place to batten down the hatches during natural disasters. Mississippi is all of our home.', 'Not politicians’ pet projects. I’m proud of what we accomplished. But I’m even more fired up to keep the tax cuts coming. You have my word that as long as I’m governor, I’m going to continue relentlessly fighting for permanent, long-term tax relief that lets you keep more of your own hard-earned money. But Mississippi isn’t just witnessing historic achievements in our state’s economy.', 'But we need to do even more to protect Mississippi’s children. We have a duty to keep pushing back against those that are taking advantage of children and using them to advance their sick and twisted ideologies. There was a time in America when saying to kids ‘you can be whatever you want when you grow up’ meant that one day they could become a teacher, police officer, or fire fighter. A professional athlete, a doctor, or even a lawyer. That if you push yourself, there is nothing you can’t accomplish.'] \n",
      "\n",
      "MONTANA\n",
      "['We must protect them for the generations who will follow us. Active management will protect our forests. When a forest is managed properly, we have less severe wildfires, more recreational opportunities, more wildlife habitat, and more jobs. In 2021, we set an ambitious forestry target to match the urgency of the forest health crisis we face.  Thanks to the leadership of Director Amanda Kaster and the hard work of the Department of Natural Resources and Conservation, we more than doubled the number of forested acres treated.', 'In 2021, we set an ambitious forestry target to match the urgency of the forest health crisis we face.  Thanks to the leadership of Director Amanda Kaster and the hard work of the Department of Natural Resources and Conservation, we more than doubled the number of forested acres treated. Our budget proposes $10 million per year to expand the scope of active forest management, so we have fewer wildfires in the first place. For the wellbeing of our people, their homes, their property, and their livelihoods, I urge you to pass our active forest management proposal. And as we better manage our lands, we’re also increasing access to them.'] \n",
      "\n",
      "NEBRASKA\n",
      "['Today, I am also recommending to the Legislature essential investments in law enforcement, infrastructure, and water. Water is vital to Nebraska. The drought makes it even more urgent. We must build the Perkins County Canal. We have had stakeholders from across many sectors in Nebraska working together for more than 20 years for Nebraska’s water rights via the Perkins Canal.'] \n",
      "\n",
      "NEVADA\n",
      "['   19  Dealing with Water Challenges through Leadership and Partnership  Our greatest challenge over the next decade may very well be water. Dealing with it will require both partnership and leadership.  The Colorado River is in the midst a 22-year drought and Lake Mead is at its lowest level since 1937.  Southern Nevada’s unique ability to capture, treat and return water to the Colorado River is a clear competitive advantage, but our future is dependent on our ability to conserve and prioritize our use of water.  It is also dependent on our ability to work with the seven basin states and Mexico to deal with short and long-term water resource solutions.'] \n",
      "\n",
      "NEW JERSEY\n",
      "['  If you send these bills to my desk, I will enthusiastically sign them.   And as we take on crime we also work for justice.   Last year I proudly signed into law a comprehensive police licensing framework, ensuring that law enforcement officers – like Franklin Township Police Department Director of Public Safety Quovella Maeweather, who joins us today – are both recognized as the highly trained and skilled professionals that they are, and are held to high and uniform standards.   And we saw the continued expansion of our transformative ARRIVE Together program, which pairs law enforcement officers with mental health screeners to respond to individuals experiencing a behavioral health crisis.   We must continue our efforts to restore faith and partnership between law enforcement and the communities they serve.'] \n",
      "\n",
      "NEW MEXICO\n",
      "['This fight also requires that we step up what we’re doing to address the sickening scourge of gun violence that has infected our nation. Over 1,000 guns are stolen every year in Albuquerque alone. We all know that we cannot keep our people safe if weapons of war continue to flood our neighborhoods. That is why I am calling for a ban on assault weapons. I am calling for an end to the state loophole on straw purchases of guns, because people with a history of violence should not be able to exploit the system to get a firearm.', 'We all know that we cannot keep our people safe if weapons of war continue to flood our neighborhoods. That is why I am calling for a ban on assault weapons. I am calling for an end to the state loophole on straw purchases of guns, because people with a history of violence should not be able to exploit the system to get a firearm. I am calling for safe storage reforms that impose penalties on anyone who fails to secure an unattended firearm and leaves it accessible to an unsupervised minor. And I am calling for legislation that would allow victims of gun violence to bring civil suits against firearm manufacturers.', 'That is why I am calling for a ban on assault weapons. I am calling for an end to the state loophole on straw purchases of guns, because people with a history of violence should not be able to exploit the system to get a firearm. I am calling for safe storage reforms that impose penalties on anyone who fails to secure an unattended firearm and leaves it accessible to an unsupervised minor. And I am calling for legislation that would allow victims of gun violence to bring civil suits against firearm manufacturers. If we are bold and clear in our knowledge that now is the time to do the right thing, we can save lives and protect futures.', 'I am calling for an end to the state loophole on straw purchases of guns, because people with a history of violence should not be able to exploit the system to get a firearm. I am calling for safe storage reforms that impose penalties on anyone who fails to secure an unattended firearm and leaves it accessible to an unsupervised minor. And I am calling for legislation that would allow victims of gun violence to bring civil suits against firearm manufacturers. If we are bold and clear in our knowledge that now is the time to do the right thing, we can save lives and protect futures. I am determined to succeed, and I will not let up until New Mexico is the safest state in the nation.', 'And frankly, we’ve seen too many lost lives and too many fallen heroes. I’d like to recognize Anita Beers, who is with us today. Anita’s husband, Bernalillo County Sheriff’s Department Lieutenant Fred Beers, lost his life in a helicopter accident alongside three others—Undersheriff Larry Koren, Deputy Michael Levinson, and Bernalillo County Fire Department Lieutenant Matthew King—while assisting with firefighting efforts in San Miguel County. There are no words I can offer to ease your loss or your pain, but I want you to know that you and your husband are in our hearts and our prayers. And I am proud to say that our budget contains $500,000 for the Lieutenant Fred Beers Honor Guard Memorial Fund to help New Mexico’s departments purchase clothing, flags and other honor guard supplies so that our fallen heroes can be buried with dignity and respect.', 'There are no words I can offer to ease your loss or your pain, but I want you to know that you and your husband are in our hearts and our prayers. And I am proud to say that our budget contains $500,000 for the Lieutenant Fred Beers Honor Guard Memorial Fund to help New Mexico’s departments purchase clothing, flags and other honor guard supplies so that our fallen heroes can be buried with dignity and respect. I also recognize that police officers are not the only public safety officials who are asked to risk their lives for others—which is why we’ll be establishing parity in survivor benefits for first responders, including by creating a state fund for the families of firefighters killed in the line of duty. We have a sacred obligation to heroes like Fred who put themselves in harm’s way and to the loved ones who can only hope for their safe return. I want to say to all our first responders and their families: We are profoundly grateful for your service, and we will always stand by your side.', 'We have a sacred obligation to heroes like Fred who put themselves in harm’s way and to the loved ones who can only hope for their safe return. I want to say to all our first responders and their families: We are profoundly grateful for your service, and we will always stand by your side. The danger to our first responders and the communities they serve was brought into sharp relief recently by the wildfires that raged in our state. These devastating fires impacted more than 30,000 people in San Miguel and Mora Counties directly, and thousands of others indirectly—destroying lives and livelihoods, homes and livestock, security and stability—and our responders’ bravery was matched only by the incredible heroism and resiliency of our residents. New Mexico has already led by making sure this horrific event does not occur in other states, and my administration is committed to using our full strength to make New Mexicans whole.', 'I want to say to all our first responders and their families: We are profoundly grateful for your service, and we will always stand by your side. The danger to our first responders and the communities they serve was brought into sharp relief recently by the wildfires that raged in our state. These devastating fires impacted more than 30,000 people in San Miguel and Mora Counties directly, and thousands of others indirectly—destroying lives and livelihoods, homes and livestock, security and stability—and our responders’ bravery was matched only by the incredible heroism and resiliency of our residents. New Mexico has already led by making sure this horrific event does not occur in other states, and my administration is committed to using our full strength to make New Mexicans whole. We will be delivering $100 million for communities affected by the Hermit’s Peak/Calf Canyon fire to begin rebuilding their infrastructure without waiting for the federal government’s investments to be distributed—but make no mistake, we will not rest until the Federal Emergency Management Agency—FEMA—does right by us, and we will not stop until there is a program in place to administer the $2.5 billion fund for victims and their families that Congress approved and that our residents and their families deserve.', 'These devastating fires impacted more than 30,000 people in San Miguel and Mora Counties directly, and thousands of others indirectly—destroying lives and livelihoods, homes and livestock, security and stability—and our responders’ bravery was matched only by the incredible heroism and resiliency of our residents. New Mexico has already led by making sure this horrific event does not occur in other states, and my administration is committed to using our full strength to make New Mexicans whole. We will be delivering $100 million for communities affected by the Hermit’s Peak/Calf Canyon fire to begin rebuilding their infrastructure without waiting for the federal government’s investments to be distributed—but make no mistake, we will not rest until the Federal Emergency Management Agency—FEMA—does right by us, and we will not stop until there is a program in place to administer the $2.5 billion fund for victims and their families that Congress approved and that our residents and their families deserve. We know that these fires were intensified by extreme weather brought on by climate change, and since the beginning of my administration, we have taken that threat seriously—embracing science in order to mitigate climate change’s devastating impact, protect our environment and ramp up clean energy production. Through our 30×30 initiative, we are guarding New Mexico’s natural resources, increasing access for outdoor recreation and building climate change resilience.', 'New Mexico has already led by making sure this horrific event does not occur in other states, and my administration is committed to using our full strength to make New Mexicans whole. We will be delivering $100 million for communities affected by the Hermit’s Peak/Calf Canyon fire to begin rebuilding their infrastructure without waiting for the federal government’s investments to be distributed—but make no mistake, we will not rest until the Federal Emergency Management Agency—FEMA—does right by us, and we will not stop until there is a program in place to administer the $2.5 billion fund for victims and their families that Congress approved and that our residents and their families deserve. We know that these fires were intensified by extreme weather brought on by climate change, and since the beginning of my administration, we have taken that threat seriously—embracing science in order to mitigate climate change’s devastating impact, protect our environment and ramp up clean energy production. Through our 30×30 initiative, we are guarding New Mexico’s natural resources, increasing access for outdoor recreation and building climate change resilience. We’ve more than doubled our wind energy capacity and authorized community solar projects—creating exciting clean energy opportunities and jobs that are powering our state.', 'Through our 30×30 initiative, we are guarding New Mexico’s natural resources, increasing access for outdoor recreation and building climate change resilience. We’ve more than doubled our wind energy capacity and authorized community solar projects—creating exciting clean energy opportunities and jobs that are powering our state. In the days to come, we will redouble our commitment by launching a $75 million Land of Enchantment Legacy Fund to create sustained funding for state programs that protect our environment, combat issues like drought and water scarcity, and address the roots of climate change. This fund will bolster initiatives like the River Stewardship Program, which safeguards our waterways so New Mexicans can continue to hunt, fish and access clean water—offering economic benefits for this generation and those to follow while strengthening our fragile ecosystems. It will support work like the Healthy Soils Program, which promotes resilient farming, ranching and other agricultural management so that the fruits of our land can continue to feed our people.'] \n",
      "\n",
      "NORTH CAROLINA\n",
      "['And let’s invest the resources to recruit and retain more good law enforcement officers and support them with the better pay and training they deserve. Let’s take affirmative steps to make life safer for these brave law enforcement officers and everyday people by keeping guns away from children, criminals and those who are a danger to themselves or others. This is especially true now that death by gunfire has surpassed car accidents as the number one cause of injury deaths for children. A recent report found that in 2021, children in NC were 51% more likely to die from gun violence than children in the U.S. as a whole. If you support the responsible gun ownership that we are granted under the Second Amendment as I do, then we cannot accept this.', 'At the outset of my time as Governor, I set a clear goal. I wanted North Carolinians to be healthier, better educated, with more money in their pockets and to have lives of purpose and abundance. And though we still have hard work ahead — for working families, hurricane survivors, and those who feel forgotten and left behind — I’m encouraged by the progress we’ve made as a state. Progress that’s been possible because we’ve agreed on economic development strategies and worked to create a good business environment with the best employees in the world. Avoiding the worst of the culture wars these past 6 years has also been good for business.'] \n",
      "\n",
      "NORTH DAKOTA\n",
      "['   #####  From the earliest indigenous inhabitants of these lands to the pioneers of modern agriculture, our success in North Dakota has always come from the strength and resiliency of our people.   We are only two weeks since the official “first day of winter,” yet some cities like Bismarck already have received an entire season’s worth of snowfall – over 51 inches, a record for the last three months of any year. This on top of the April snow-and-ice storm that dropped 40 inches of snow during spring calving across North Dakota and knocked out power to tens of thousands of residents, making it the fifth-most costly disaster on record and the largest since the 2011 flooding.    The April storm, the Veterans Day storm, the mid-December blizzard, the whiteout conditions that stalled Christmas travel plans – North Dakotans have handled it all with grit and resiliency.   At the state level, we’ve seen incredible, round the clock, life-protecting efforts from our Department of Transportation snowplow drivers, Highway Patrol troopers, State Radio dispatchers and Department of Emergency Services personnel.', '  We are only two weeks since the official “first day of winter,” yet some cities like Bismarck already have received an entire season’s worth of snowfall – over 51 inches, a record for the last three months of any year. This on top of the April snow-and-ice storm that dropped 40 inches of snow during spring calving across North Dakota and knocked out power to tens of thousands of residents, making it the fifth-most costly disaster on record and the largest since the 2011 flooding.    The April storm, the Veterans Day storm, the mid-December blizzard, the whiteout conditions that stalled Christmas travel plans – North Dakotans have handled it all with grit and resiliency.   At the state level, we’ve seen incredible, round the clock, life-protecting efforts from our Department of Transportation snowplow drivers, Highway Patrol troopers, State Radio dispatchers and Department of Emergency Services personnel.   3  Our DOT had over 350 snowplow operators working across our expansive state to clear 8,500 road miles after April’s storm event.', 'To Trooper Breitbach, who is here with us today, and all our first responders, we say thank you for your service and bravery.    #####  The unprecedented start to the winter season has strained resources at every level of government. This historic weather calls for prompt action. With the sponsorship of 4  Senator Terry Wanzek and Representative Mike Brandenburg, we can expedite $20 million in emergency snow removal grants to be awarded to state, local and tribal governments who have already exceeded their average snow removal budgets. As state leaders, we have an opportunity to act quickly to relieve pressures in communities across the state.', 'We’re grateful to this Legislature for passing a historic bonding bill in 2021 that allowed us to avoid inflation and take advantage of lower interest rates and construction costs, thereby saving millions of taxpayer dollars on roads, bridges, water projects and other critical infrastructure.   We’ve made great progress on DOT’s 10-year infrastructure plan, investing $318 million so far this biennium to rebuild aging roads and bridges and our executive budget proposes an unprecedented $2.4 billion to accelerate our work. We can also build on the work done on water infrastructure last session by investing over $600 million to advance flood protection and our regional and critical water supply infrastructure across the state.   We continue to make strides toward our goal of becoming the first state in the nation to reach 100% access to fast, reliable broadband. Of the funds allocated from the American Rescue Plan Act for broadband grants, there are projects proposed to install 1,100 miles of fiber connecting 2,150 unserved and underserved addresses across the state.', 'We rank second in rye, sunflowers and lentils; third in sugar beets, oats and barley; and in the top dozen states for corn, soybeans, potatoes and chickpeas.   Our farmers and ranchers battle every day to provide food security for our state, country and world. They fight through challenging weather, through droughts and fires, blizzards and floods.   They innovate and expand the use of technology to boost yields and are implementing resilient and regenerative farming and grazing practices. They work through burdensome red tape pushed down from the federal government.', ' Continental Resources also has committed $250 million to the Summit Carbon Solutions pipeline, which will capture the CO2 and enhance the economics of over 30 ethanol plants and their farmer customers across five states.   Today, we’re pleased to have with us the visionary leaders of these businesses which are showing our nation the way with projects working today: Red Trail Energy CEO Gerald Bachmeier, Basin Electric CEO and General Manager Todd Telesz, and Denbury CEO Chris Kendall. I also want to recognize Minnkota President and CEO Mac McLennan, who wasn’t able to make it due to the weather. Thank you and your entire teams for investing to keep North Dakota at the forefront of this emerging industry and secure the future of our ag, oil and gas and coal industries.    #####  I’ve talked about our top two economic sectors, agriculture and energy.'] \n",
      "\n",
      "OHIO\n",
      "['We know that reading unlocks the door for all future learning and provides a lifetime of opportunities.  It opens the door to good jobs -- but really, it opens the door to life.   Reading can take what seems like a dark world and make it bright!   It can fire a child’s imagination -- and turn what looks like a black and white world into vivid and bright colors! But tragically, today 40 percent of all Ohio 3rd Grade students are not proficient in reading -- 40 percent! So today, I am calling for a renewed focus on literacy -- and on the way we teach reading in the State of Ohio. The jury has returned.  The evidence is clear.'] \n",
      "\n",
      "OKLAHOMA\n",
      "['Today, we’ve jumped 23 spots to 26th in the nation for fastest coverage. Last year, thanks to the leadership of House Speaker Charles McCall, we formed the Oklahoma Broadband Office and set a vision to deliver high-speed internet access to 95% of the state by 2028. As companies flood to Oklahoma, workforce is the number one challenge facing businesses. Let’s make sure our universities and higher education are partnering with companies to train the workforce of tomorrow. I want to challenge OU and OSU to grow and deliver a quality education to 40,000 students by 2030.'] \n",
      "\n",
      "PENNSYLVANIA\n",
      "['At a time when our state troopers are asked to do more in communities across the Commonwealth, it’s our responsibility to ensure they have the tools, the flexibility and the personnel to succeed. To ensure police departments are well-staffed, well-funded, and well-equipped, this budget: Investing in First Responders and Emergency Services Law enforcement is not the only class of first responders facing workforce shortages that place a burden on local communities – staffing shortages impact all of Pennsylvania’s first responders. Our emergency medical services (EMS) workers and firefighters put their lives on the line each day to help Pennsylvanians when they are in crisis – and we need to have their backs. To support EMS companies, who can use grants for many things including equipment, facilities upgrades, training, recruitment, and more, Governor Shapiro’s budget: Protecting Vulnerable Populations Supporting the Intellectual Disability and Autism Community Governor Shapiro has heard from those with intellectual disabilities or autism – and those who care for them. He knows that we need to do something different to support home and community-based services and address the shortage of direct support professionals in our Commonwealth, because what we’re doing now isn’t working.'] \n",
      "\n",
      "SOUTH CAROLINA\n",
      "['Thanks to the compensation review conducted by Ms. Marcia Adams, Director of the Department of Administration, our state law enforcement and criminal justice agencies have begun to stem the tide of personnel loss with $40 million in recruitment and retention pay raises provided in last year’s General Appropriations Act. I am proposing that we continue to build on this momentum, by providing an additional $21.5 million for recruitment and retention pay raises this year with the understanding that we will continue doing it. I am also proposing a $2,000 state income tax credit for every active-duty law enforcement officer, firefighter, first responder, and emergency medical technician.  This nonrefundable tax credit will provide a total of $38.4 million in income tax relief for those who put their lives on the line each day to protect and serve our people. Additionally, I recommend that we maintain a proviso suspending the $10,000 retirement cap for anyone enrolled in the Police Officers Retirement System.', 'To strengthen one is to strengthen the other. The question today is: Will anyone recognize South Carolina in 100 years? Will we allow our state’s culturally and environmentally significant structures, monuments, lands, islands, and waters to be lost - to over-development, mismanagement, flooding, erosion, or storm damage?  Or will we preserve and protect our history, our culture and our environment, and the public’s access to them, before they are lost forever.  This is our moment to act.'] \n",
      "\n",
      "SOUTH DAKOTA\n",
      "['When they gave me a tour of their apprenticeship classroom and program, I was impressed. It’s incredible. They already provide apprenticeships in plumbing, fire protection, and HVAC sheetmetal, and they recently worked with the Department of Labor and Regulation to add a mechatronics apprentice program. They are currently in the process of setting up another program for fire sprinkler fitters. Over the years, Howe has used their apprenticeship program to hire more than 60 employees.', 'It’s incredible. They already provide apprenticeships in plumbing, fire protection, and HVAC sheetmetal, and they recently worked with the Department of Labor and Regulation to add a mechatronics apprentice program. They are currently in the process of setting up another program for fire sprinkler fitters. Over the years, Howe has used their apprenticeship program to hire more than 60 employees. It has been a total game changer for their workforce.'] \n",
      "\n",
      "TENNESSEE\n",
      "['Economic pressure is building, and it’s hitting the pocket of every American family.  At times like this, many states are forced to choose between raising taxes or taking on more debt, but not Tennessee.  Decades of smart fiscal stewardship have enabled us to weather the national economic storms and do so while maintaining a healthy savings account and cutting taxes for Tennesseans. So, this year, we’re cutting taxes again. Last August, we gave Tennessee families a one-month break from grocery taxes, to provide relief amid nationwide inflation.'] \n",
      "\n",
      "TEXAS\n",
      "['I will go to Texas!” Texas has also lived up to the next line of our song that we “withstand every test.” Let me highlight just one. I signed 14 bipartisan laws that fixed the flaw in our power grid. Then, last summer we set 11 all-time power generation records, and last month we weathered brutally freezing temperatures across the state. All without any disruption to the Texas grid. Since our bipartisan reforms, no Texan has lost power because of our grid.'] \n",
      "\n",
      "UTAH\n",
      "['  As hard as it is to believe, your moms and dads and grandparents seated next to you tonight were once young, too. I grew up in the ‘80s and ‘90s, and we worried about a lot of things you probably can’t relate to:  We were hiding under our desks to practice for the nuclear bombs we were sure Communist Russia was sending our way — as if those desks would have provided any protection. We worried about overpopulation, acid rain, and — it’s true — the Great Salt Lake destroying homes and businesses in the floods — yes, floods — of 1983.   We hung out at the 49th Street Galleria and the Delta Center — that’s right, the Delta Center — and worried about someone scratching our brand new CD, the world shutting down thanks to Y2K, or accidentally calling long distance when it wasn’t a night or a weekend.  But one thing scared us the most was something known as the hole in the ozone layer.', '  Water  Of course, even good jobs and good homes won’t mean much if we are not good stewards of this beautiful place we get to call home. And any discussion of stewardship in a desert climate must start with water.   We find ourselves in the greatest drought in the western United States in over 1,200 years. Earlier this month, a report predicted that in just five short years the Great Salt Lake will completely disappear. Let me be absolutely clear.', 'And even more important, the people of Utah responded by saving billions of gallons of water in our time of need. I want to thank Ella Mauchley’s grandpa and Zach Wilson’s dad for their dedicated efforts on water legislation.  Now, you have heard me ask our fellow Utahns to unite in faith and prayer in asking God to help deliver us from drought. I have been mocked both at home and abroad by clever comedians and pundits in the media. But, as a man of faith, I make no excuses for my beliefs.', 'I believe there is real power in people of all different faiths and backgrounds uniting together and pleading for help from a higher authority than our own.   I am grateful — and thank God every night — for the impressive amounts of snow we have received so far this season. Miraculously, the Great Salt Lake has already risen more than it did all last year!   A few months ago, before the first big storm, I asked my team to include $5 million in my budget proposal for flood mitigation. I didn’t want to be the person to show up for a prayer meeting without my umbrella. It’s too soon to know, but I sincerely hope we need that money.', \"I didn’t want to be the person to show up for a prayer meeting without my umbrella. It’s too soon to know, but I sincerely hope we need that money.    So, whether you believe in God or karma or the whale at 9th and 9th, I ask again that we join together to ask for relief from this drought, all while “knowing that here on earth God's work must truly be our own.”   You see, I believe that God CAN fill the lake. But if not, then we must.  We have to maintain a continued focus on water conservation and agriculture optimization.\"] \n",
      "\n",
      "VERMONT\n",
      "['This is an area where we share goals but may disagree on how to get there. Still, we’ve proven we can work together, devoting nearly a quarter-billion-dollars over the last two years. This is funding good work to reduce emissions, revitalize old homes, lower energy bills, improve health, and protect communities from flooding. Our weatherization investments are improving thousands of homes for those who could not afford to do it on their own. And it has helped low-income families each save, on average, over 200 gallons of fuel or propane every year.', 'Still, we’ve proven we can work together, devoting nearly a quarter-billion-dollars over the last two years. This is funding good work to reduce emissions, revitalize old homes, lower energy bills, improve health, and protect communities from flooding. Our weatherization investments are improving thousands of homes for those who could not afford to do it on their own. And it has helped low-income families each save, on average, over 200 gallons of fuel or propane every year. But we know people are still hurting and when you consider kerosene, which many families have to use to heat their homes because they have outside, aboveground tanks, is over $6 a gallon, these savings add up.', 'And when we don’t, they lose faith and trust in government. What we learned through Irene and COVID, is that when we put politics aside, when we focus on the people who need our help most, when we work together to solve problems – we can get the results that make a difference. And I’m telling you, the challenges that people face in all these struggling communities are just as urgent as any pandemic or any flood. If you don’t think so, talk to the members of the Rural Caucus. Or let’s go visit the American Legion in Island Pond or the Village School in Irasburg.'] \n",
      "\n",
      "VIRGINIA\n",
      "[' I’m here today to remind us all that the people sent me here, and you here too, to deliver on a vision to lower costs, empower parents and restore excellence in schools, jumpstart the economy, make our communities safe again, make government work for the people, and to clear a path to opportunity and prosperity.   I’m here this afternoon to celebrate the unbreakable foundation of the Spirit of Virginia. A spirit that is alive and well, a fire burning deep inside the resourceful and kind-hearted Virginians who make our Commonwealth a better place.   And I’m here this afternoon to challenge us to build the people’s confidence in their leaders, to demonstrate to our children the best of representative government, not just by what we accomplish, but even more so by how we conduct ourselves, and to bring us closer together as brothers, sisters, friends, and neighbors.   A year ago, I stood here as a newcomer, energized by the perspective of having spent a year listening every day to Virginians and then able to echo their clarion call for change.', 'Through sheer force of will, we gave the children of our foster care system warm beds to sleep in, instead of cold office floors.  We started the work of modernizing our outdated regulatory process.  Most importantly – we stood together in times of trial and tribulation – devastating floods in Southwest Virginia and terrible acts of violence in Bridgewater, Charlottesville, Chesapeake and most recently in Newport News.   In each case, we’ve seen the love, the compassion, the fortitude, and the courage of our fellow Virginians on display. And we began working with cities that were falling further and further behind.'] \n",
      "\n",
      "WEST VIRGINIA\n",
      "[\"It's when the harvest was plentiful. That's when you lost grain. When there was almost nothing there and it was a bad year, of drought or whatever, you never lost anything. Because you'd have to get every single grain. When things are wonderful as they are right now, we've got to be careful.\", \"550 worked in the COVID response. 350 worked at 30 different hospitals. 300 worked in corrections for God's sakes a living they were even fighting fires. And then of all things they took helicopters when Andy Beshear called me and said “will you come and help?” I said you’re dadgum right we'll come. We'll bring the best of the best and they went there and saved people's lives and there's terrible floods in Kentucky.\", \"300 worked in corrections for God's sakes a living they were even fighting fires. And then of all things they took helicopters when Andy Beshear called me and said “will you come and help?” I said you’re dadgum right we'll come. We'll bring the best of the best and they went there and saved people's lives and there's terrible floods in Kentucky. \\r Please give our great National Guard an incredible round of applause. \\r I'm gonna get you up again right now.\"] \n",
      "\n",
      "WISCONSIN\n",
      "['Communities across Wisconsin have been forced to make difficult decisions to cut critical services—including public safety. Last fall, I announced a plan to invest over $100 million to help local governments fund essential services in communities across our state. And that includes a new $10 million program to help specifically fund public safety services like EMS, police, and fire.  The bottom line for me has always been making sure our communities have the resources they need to meet basic and unique needs alike. But there are a lot of different ways we can find compromise to achieve that goal, and together we will.', 'I’m announcing tonight that I want to work together on a budget provision that will send a total of up to 20 percent of the state’s sales tax revenue back to our local communities for shared revenue. This commitment will ensure our communities will see growth in shared revenue in the future after years of state investment not keeping up with our communities’ needs. And it means more than half a billion dollars more per year in new resources to invest in key priorities like EMS, fire, and law enforcement services, transportation, local health and human services, and other challenges facing our communities.  The state must fulfill its obligation to fund our communities, just like we must fully fund our public schools and invest in clean water—our state, our economy, and our workforce depend on these investments. At the same time, just because we’re in the greatest fiscal position in state history doesn’t mean we can afford to be careless.'] \n",
      "\n"
     ]
    }
   ],
   "source": [
    "for index, row in weather_y.iterrows():\n",
    "    print(row['state'].upper())\n",
    "    print(row['weather_comments'], '\\n')"
   ]
  }
 ],
 "metadata": {
  "kernelspec": {
   "display_name": "Python 3 (ipykernel)",
   "language": "python",
   "name": "python3"
  },
  "language_info": {
   "codemirror_mode": {
    "name": "ipython",
    "version": 3
   },
   "file_extension": ".py",
   "mimetype": "text/x-python",
   "name": "python",
   "nbconvert_exporter": "python",
   "pygments_lexer": "ipython3",
   "version": "3.9.12"
  }
 },
 "nbformat": 4,
 "nbformat_minor": 5
}
