{
 "cells": [
  {
   "cell_type": "markdown",
   "id": "2ae81da4",
   "metadata": {},
   "source": [
    "# Analysis of State of the State (SoS) Addresses"
   ]
  },
  {
   "cell_type": "code",
   "execution_count": 117,
   "id": "4d236265",
   "metadata": {},
   "outputs": [
    {
     "name": "stdout",
     "output_type": "stream",
     "text": [
      "Exception reporting mode: Minimal\n"
     ]
    }
   ],
   "source": [
    "# set up \n",
    "import csv\n",
    "import numpy as np\n",
    "import pandas as pd\n",
    "import nltk\n",
    "import matplotlib.pyplot as plt\n",
    "from sklearn.feature_extraction.text import CountVectorizer, TfidfTransformer \n",
    "from sklearn.feature_extraction.text import TfidfVectorizer\n",
    "import random\n",
    "import re \n",
    "from sklearn.decomposition import PCA\n",
    "import nltk\n",
    "from nltk import word_tokenize          \n",
    "from nltk.stem import WordNetLemmatizer \n",
    "\n",
    "from IPython.core.interactiveshell import InteractiveShell \n",
    "InteractiveShell.ast_node_interactivity = \"all\"\n",
    "\n",
    "%xmode Minimal"
   ]
  },
  {
   "cell_type": "code",
   "execution_count": 27,
   "id": "c9c6a7e0",
   "metadata": {},
   "outputs": [],
   "source": [
    "# read in data \n",
    "sos = pd.read_csv('sos_df_23.csv')"
   ]
  },
  {
   "cell_type": "code",
   "execution_count": 28,
   "id": "58233cac",
   "metadata": {},
   "outputs": [
    {
     "name": "stdout",
     "output_type": "stream",
     "text": [
      "<class 'pandas.core.frame.DataFrame'>\n",
      "RangeIndex: 50 entries, 0 to 49\n",
      "Data columns (total 5 columns):\n",
      " #   Column    Non-Null Count  Dtype \n",
      "---  ------    --------------  ----- \n",
      " 0   state     50 non-null     object\n",
      " 1   gov_name  50 non-null     object\n",
      " 2   party     50 non-null     object\n",
      " 3   type      50 non-null     object\n",
      " 4   text      50 non-null     object\n",
      "dtypes: object(5)\n",
      "memory usage: 2.1+ KB\n"
     ]
    },
    {
     "data": {
      "text/html": [
       "<div>\n",
       "<style scoped>\n",
       "    .dataframe tbody tr th:only-of-type {\n",
       "        vertical-align: middle;\n",
       "    }\n",
       "\n",
       "    .dataframe tbody tr th {\n",
       "        vertical-align: top;\n",
       "    }\n",
       "\n",
       "    .dataframe thead th {\n",
       "        text-align: right;\n",
       "    }\n",
       "</style>\n",
       "<table border=\"1\" class=\"dataframe\">\n",
       "  <thead>\n",
       "    <tr style=\"text-align: right;\">\n",
       "      <th></th>\n",
       "      <th>state</th>\n",
       "      <th>gov_name</th>\n",
       "      <th>party</th>\n",
       "      <th>type</th>\n",
       "      <th>text</th>\n",
       "    </tr>\n",
       "  </thead>\n",
       "  <tbody>\n",
       "    <tr>\n",
       "      <th>0</th>\n",
       "      <td>alabama</td>\n",
       "      <td>kay ivey</td>\n",
       "      <td>republican</td>\n",
       "      <td>sos</td>\n",
       "      <td>Page 1 of 8     2023 STATE OF THE STATE ADDRES...</td>\n",
       "    </tr>\n",
       "    <tr>\n",
       "      <th>1</th>\n",
       "      <td>alaska</td>\n",
       "      <td>mike dunleavy</td>\n",
       "      <td>republican</td>\n",
       "      <td>sos</td>\n",
       "      <td>Governor Dunleavy’s 2023 State of the State Ad...</td>\n",
       "    </tr>\n",
       "    <tr>\n",
       "      <th>2</th>\n",
       "      <td>arizona</td>\n",
       "      <td>katie hobbs</td>\n",
       "      <td>democratic</td>\n",
       "      <td>sos</td>\n",
       "      <td>Good afternoon, Chief Justice Brutinel, Secret...</td>\n",
       "    </tr>\n",
       "    <tr>\n",
       "      <th>3</th>\n",
       "      <td>arkansas</td>\n",
       "      <td>sarah huckabee sanders</td>\n",
       "      <td>republican</td>\n",
       "      <td>inaug</td>\n",
       "      <td>LITTLE ROCK, Ark.— Today, Governor Sarah Hucka...</td>\n",
       "    </tr>\n",
       "    <tr>\n",
       "      <th>4</th>\n",
       "      <td>california</td>\n",
       "      <td>gavin newsom</td>\n",
       "      <td>democratic</td>\n",
       "      <td>inaug</td>\n",
       "      <td>Watch Governor Newsom’s swearing-in and inaugu...</td>\n",
       "    </tr>\n",
       "  </tbody>\n",
       "</table>\n",
       "</div>"
      ],
      "text/plain": [
       "        state                gov_name       party   type  \\\n",
       "0     alabama                kay ivey  republican    sos   \n",
       "1      alaska           mike dunleavy  republican    sos   \n",
       "2     arizona             katie hobbs  democratic    sos   \n",
       "3    arkansas  sarah huckabee sanders  republican  inaug   \n",
       "4  california            gavin newsom  democratic  inaug   \n",
       "\n",
       "                                                text  \n",
       "0  Page 1 of 8     2023 STATE OF THE STATE ADDRES...  \n",
       "1  Governor Dunleavy’s 2023 State of the State Ad...  \n",
       "2  Good afternoon, Chief Justice Brutinel, Secret...  \n",
       "3  LITTLE ROCK, Ark.— Today, Governor Sarah Hucka...  \n",
       "4  Watch Governor Newsom’s swearing-in and inaugu...  "
      ]
     },
     "execution_count": 28,
     "metadata": {},
     "output_type": "execute_result"
    }
   ],
   "source": [
    "# explore data\n",
    "sos.info()\n",
    "sos.head()"
   ]
  },
  {
   "cell_type": "markdown",
   "id": "d894f212",
   "metadata": {},
   "source": [
    "## Explore all State of the State addresses"
   ]
  },
  {
   "cell_type": "markdown",
   "id": "aeb52df7",
   "metadata": {
    "heading_collapsed": true
   },
   "source": [
    "### Create Term Frequency - Inverse Document Frequency (TF-IDF) matrix"
   ]
  },
  {
   "cell_type": "code",
   "execution_count": 29,
   "id": "7db1de49",
   "metadata": {
    "hidden": true
   },
   "outputs": [],
   "source": [
    "# add word count columm\n",
    "sos['word_count'] = [len(i.split()) for i in sos.text]"
   ]
  },
  {
   "cell_type": "code",
   "execution_count": 30,
   "id": "185505f7",
   "metadata": {
    "hidden": true
   },
   "outputs": [
    {
     "data": {
      "text/html": [
       "<div>\n",
       "<style scoped>\n",
       "    .dataframe tbody tr th:only-of-type {\n",
       "        vertical-align: middle;\n",
       "    }\n",
       "\n",
       "    .dataframe tbody tr th {\n",
       "        vertical-align: top;\n",
       "    }\n",
       "\n",
       "    .dataframe thead th {\n",
       "        text-align: right;\n",
       "    }\n",
       "</style>\n",
       "<table border=\"1\" class=\"dataframe\">\n",
       "  <thead>\n",
       "    <tr style=\"text-align: right;\">\n",
       "      <th></th>\n",
       "      <th>state</th>\n",
       "      <th>gov_name</th>\n",
       "      <th>party</th>\n",
       "      <th>type</th>\n",
       "      <th>text</th>\n",
       "      <th>word_count</th>\n",
       "    </tr>\n",
       "  </thead>\n",
       "  <tbody>\n",
       "    <tr>\n",
       "      <th>0</th>\n",
       "      <td>alabama</td>\n",
       "      <td>kay ivey</td>\n",
       "      <td>republican</td>\n",
       "      <td>sos</td>\n",
       "      <td>Page 1 of 8     2023 STATE OF THE STATE ADDRES...</td>\n",
       "      <td>2980</td>\n",
       "    </tr>\n",
       "    <tr>\n",
       "      <th>1</th>\n",
       "      <td>alaska</td>\n",
       "      <td>mike dunleavy</td>\n",
       "      <td>republican</td>\n",
       "      <td>sos</td>\n",
       "      <td>Governor Dunleavy’s 2023 State of the State Ad...</td>\n",
       "      <td>6469</td>\n",
       "    </tr>\n",
       "    <tr>\n",
       "      <th>2</th>\n",
       "      <td>arizona</td>\n",
       "      <td>katie hobbs</td>\n",
       "      <td>democratic</td>\n",
       "      <td>sos</td>\n",
       "      <td>Good afternoon, Chief Justice Brutinel, Secret...</td>\n",
       "      <td>4882</td>\n",
       "    </tr>\n",
       "    <tr>\n",
       "      <th>3</th>\n",
       "      <td>arkansas</td>\n",
       "      <td>sarah huckabee sanders</td>\n",
       "      <td>republican</td>\n",
       "      <td>inaug</td>\n",
       "      <td>LITTLE ROCK, Ark.— Today, Governor Sarah Hucka...</td>\n",
       "      <td>2250</td>\n",
       "    </tr>\n",
       "    <tr>\n",
       "      <th>4</th>\n",
       "      <td>california</td>\n",
       "      <td>gavin newsom</td>\n",
       "      <td>democratic</td>\n",
       "      <td>inaug</td>\n",
       "      <td>Watch Governor Newsom’s swearing-in and inaugu...</td>\n",
       "      <td>2456</td>\n",
       "    </tr>\n",
       "    <tr>\n",
       "      <th>5</th>\n",
       "      <td>colorado</td>\n",
       "      <td>jared polis</td>\n",
       "      <td>democratic</td>\n",
       "      <td>sos</td>\n",
       "      <td>ForMedia-2023-StateOfState-GovernorPolis-AsPre...</td>\n",
       "      <td>7859</td>\n",
       "    </tr>\n",
       "    <tr>\n",
       "      <th>6</th>\n",
       "      <td>connecticut</td>\n",
       "      <td>ned lamont</td>\n",
       "      <td>democratic</td>\n",
       "      <td>sos</td>\n",
       "      <td>\\r\\n01/03/2023              2023 State of the ...</td>\n",
       "      <td>1878</td>\n",
       "    </tr>\n",
       "    <tr>\n",
       "      <th>7</th>\n",
       "      <td>delaware</td>\n",
       "      <td>john carney</td>\n",
       "      <td>democratic</td>\n",
       "      <td>sos</td>\n",
       "      <td>January 19, 2023 As prepared for delivery #DE...</td>\n",
       "      <td>4157</td>\n",
       "    </tr>\n",
       "    <tr>\n",
       "      <th>8</th>\n",
       "      <td>florida</td>\n",
       "      <td>ron desantis</td>\n",
       "      <td>republican</td>\n",
       "      <td>sos</td>\n",
       "      <td>From the Space Coast to the Suncoast, from St....</td>\n",
       "      <td>1658</td>\n",
       "    </tr>\n",
       "    <tr>\n",
       "      <th>9</th>\n",
       "      <td>georgia</td>\n",
       "      <td>brian kemp</td>\n",
       "      <td>republican</td>\n",
       "      <td>sos</td>\n",
       "      <td>Lt. Governor Jones, Speaker Burns, President P...</td>\n",
       "      <td>3315</td>\n",
       "    </tr>\n",
       "    <tr>\n",
       "      <th>10</th>\n",
       "      <td>hawaii</td>\n",
       "      <td>josh green</td>\n",
       "      <td>democratic</td>\n",
       "      <td>sos</td>\n",
       "      <td>1 of 17   1 of 17   “ACTION ROOTED IN VALUES”...</td>\n",
       "      <td>5374</td>\n",
       "    </tr>\n",
       "    <tr>\n",
       "      <th>11</th>\n",
       "      <td>idaho</td>\n",
       "      <td>brad little</td>\n",
       "      <td>republican</td>\n",
       "      <td>sos</td>\n",
       "      <td>Page 1 of 11    2 0 23  ST ATE OF  THE  ST ATE...</td>\n",
       "      <td>4148</td>\n",
       "    </tr>\n",
       "    <tr>\n",
       "      <th>12</th>\n",
       "      <td>illinois</td>\n",
       "      <td>jb pritzker</td>\n",
       "      <td>democratic</td>\n",
       "      <td>sos</td>\n",
       "      <td>Gov. Pritzker Proposes Transformative, Gener...</td>\n",
       "      <td>18781</td>\n",
       "    </tr>\n",
       "    <tr>\n",
       "      <th>13</th>\n",
       "      <td>indiana</td>\n",
       "      <td>eric holcomb</td>\n",
       "      <td>republican</td>\n",
       "      <td>sos</td>\n",
       "      <td>Governor Eric J. Holcomb2023 State of the Stat...</td>\n",
       "      <td>2919</td>\n",
       "    </tr>\n",
       "    <tr>\n",
       "      <th>14</th>\n",
       "      <td>iowa</td>\n",
       "      <td>kim reynolds</td>\n",
       "      <td>republican</td>\n",
       "      <td>sos</td>\n",
       "      <td>Tonight, Gov. Reynolds delivered her 2023 Cond...</td>\n",
       "      <td>4805</td>\n",
       "    </tr>\n",
       "    <tr>\n",
       "      <th>15</th>\n",
       "      <td>kansas</td>\n",
       "      <td>laura kelly</td>\n",
       "      <td>democratic</td>\n",
       "      <td>sos</td>\n",
       "      <td>Governor Kelly Delivers Her 2023 State of the ...</td>\n",
       "      <td>4494</td>\n",
       "    </tr>\n",
       "    <tr>\n",
       "      <th>16</th>\n",
       "      <td>kentucky</td>\n",
       "      <td>andy beshear</td>\n",
       "      <td>democratic</td>\n",
       "      <td>sos</td>\n",
       "      <td>Microsoft Word - 20230104_Gov-Beshear_State-of...</td>\n",
       "      <td>4585</td>\n",
       "    </tr>\n",
       "    <tr>\n",
       "      <th>17</th>\n",
       "      <td>louisiana</td>\n",
       "      <td>john bel edwards</td>\n",
       "      <td>democratic</td>\n",
       "      <td>sos</td>\n",
       "      <td>As prepared for delivery: Mr. Speaker, Mr. Pre...</td>\n",
       "      <td>3996</td>\n",
       "    </tr>\n",
       "    <tr>\n",
       "      <th>18</th>\n",
       "      <td>maine</td>\n",
       "      <td>janet mills</td>\n",
       "      <td>democratic</td>\n",
       "      <td>inaug</td>\n",
       "      <td>1  Governor Janet T. Mills Second Inaugural Ad...</td>\n",
       "      <td>3737</td>\n",
       "    </tr>\n",
       "    <tr>\n",
       "      <th>19</th>\n",
       "      <td>maryland</td>\n",
       "      <td>wes moore</td>\n",
       "      <td>democratic</td>\n",
       "      <td>sos</td>\n",
       "      <td>ANNAPOLIS, MD— Today, Governor Wes Moore deli...</td>\n",
       "      <td>4005</td>\n",
       "    </tr>\n",
       "    <tr>\n",
       "      <th>20</th>\n",
       "      <td>massachusetts</td>\n",
       "      <td>maura healey</td>\n",
       "      <td>democratic</td>\n",
       "      <td>inaug</td>\n",
       "      <td>Gov. Maura Healey, the first woman elected gov...</td>\n",
       "      <td>3286</td>\n",
       "    </tr>\n",
       "    <tr>\n",
       "      <th>21</th>\n",
       "      <td>michigan</td>\n",
       "      <td>gretchen whitmer</td>\n",
       "      <td>democratic</td>\n",
       "      <td>sos</td>\n",
       "      <td>FOR IMMEDIATE RELEASE  January 25, 2023   Cont...</td>\n",
       "      <td>4228</td>\n",
       "    </tr>\n",
       "    <tr>\n",
       "      <th>22</th>\n",
       "      <td>minnesota</td>\n",
       "      <td>tim walz</td>\n",
       "      <td>democratic</td>\n",
       "      <td>sos</td>\n",
       "      <td>Governor Walz State of the State Remarks as Pr...</td>\n",
       "      <td>2795</td>\n",
       "    </tr>\n",
       "    <tr>\n",
       "      <th>23</th>\n",
       "      <td>mississippi</td>\n",
       "      <td>tate reeves</td>\n",
       "      <td>republican</td>\n",
       "      <td>sos</td>\n",
       "      <td>Gov. Tate Reeves, a first-term Republican, del...</td>\n",
       "      <td>4734</td>\n",
       "    </tr>\n",
       "    <tr>\n",
       "      <th>24</th>\n",
       "      <td>missouri</td>\n",
       "      <td>mike parson</td>\n",
       "      <td>republican</td>\n",
       "      <td>sos</td>\n",
       "      <td>1  Missouri Governor — Michael L. Parson Offic...</td>\n",
       "      <td>4909</td>\n",
       "    </tr>\n",
       "    <tr>\n",
       "      <th>25</th>\n",
       "      <td>montana</td>\n",
       "      <td>greg gianforte</td>\n",
       "      <td>republican</td>\n",
       "      <td>sos</td>\n",
       "      <td>HELENA, Mont. – Governor Greg Gianforte tonigh...</td>\n",
       "      <td>6765</td>\n",
       "    </tr>\n",
       "    <tr>\n",
       "      <th>26</th>\n",
       "      <td>nebraska</td>\n",
       "      <td>jim pillen</td>\n",
       "      <td>republican</td>\n",
       "      <td>sos</td>\n",
       "      <td>Governor Jim Pillen                          ...</td>\n",
       "      <td>3158</td>\n",
       "    </tr>\n",
       "    <tr>\n",
       "      <th>27</th>\n",
       "      <td>nevada</td>\n",
       "      <td>joe lombardo</td>\n",
       "      <td>republican</td>\n",
       "      <td>sos</td>\n",
       "      <td>Governor Joe Lombardo 2023 State of the State ...</td>\n",
       "      <td>6258</td>\n",
       "    </tr>\n",
       "    <tr>\n",
       "      <th>28</th>\n",
       "      <td>new hampshire</td>\n",
       "      <td>chris sununu</td>\n",
       "      <td>republican</td>\n",
       "      <td>inaug</td>\n",
       "      <td>Concord, NH – Please find below Governor Chris...</td>\n",
       "      <td>3348</td>\n",
       "    </tr>\n",
       "    <tr>\n",
       "      <th>29</th>\n",
       "      <td>new jersey</td>\n",
       "      <td>phil murphy</td>\n",
       "      <td>democratic</td>\n",
       "      <td>sos</td>\n",
       "      <td>Governor Murphy Delivers 2023 State of the Sta...</td>\n",
       "      <td>5926</td>\n",
       "    </tr>\n",
       "    <tr>\n",
       "      <th>30</th>\n",
       "      <td>new mexico</td>\n",
       "      <td>michelle lujan grisham</td>\n",
       "      <td>democratic</td>\n",
       "      <td>sos</td>\n",
       "      <td>FROM THE OFFICE OF THE GOVERNOR Editor’s note:...</td>\n",
       "      <td>4422</td>\n",
       "    </tr>\n",
       "    <tr>\n",
       "      <th>31</th>\n",
       "      <td>new york</td>\n",
       "      <td>kathy hochul</td>\n",
       "      <td>democratic</td>\n",
       "      <td>sos</td>\n",
       "      <td>Governor Kathy Hochul today delivered her 2023...</td>\n",
       "      <td>4670</td>\n",
       "    </tr>\n",
       "    <tr>\n",
       "      <th>32</th>\n",
       "      <td>north carolina</td>\n",
       "      <td>roy cooper</td>\n",
       "      <td>democratic</td>\n",
       "      <td>sos</td>\n",
       "      <td>Governor Roy Cooper Follow 1   Mr. President P...</td>\n",
       "      <td>3287</td>\n",
       "    </tr>\n",
       "    <tr>\n",
       "      <th>33</th>\n",
       "      <td>north dakota</td>\n",
       "      <td>doug burgum</td>\n",
       "      <td>republican</td>\n",
       "      <td>sos</td>\n",
       "      <td>1     State of the State Address January 3, 20...</td>\n",
       "      <td>7590</td>\n",
       "    </tr>\n",
       "    <tr>\n",
       "      <th>34</th>\n",
       "      <td>ohio</td>\n",
       "      <td>mike dewine</td>\n",
       "      <td>republican</td>\n",
       "      <td>sos</td>\n",
       "      <td>(COLUMBUS, Ohio)—Ohio Governor Mike DeWine tod...</td>\n",
       "      <td>5670</td>\n",
       "    </tr>\n",
       "    <tr>\n",
       "      <th>35</th>\n",
       "      <td>oklahoma</td>\n",
       "      <td>kevin stitt</td>\n",
       "      <td>republican</td>\n",
       "      <td>sos</td>\n",
       "      <td>Governor Kevin Stitt delivered the first State...</td>\n",
       "      <td>3050</td>\n",
       "    </tr>\n",
       "    <tr>\n",
       "      <th>36</th>\n",
       "      <td>oregon</td>\n",
       "      <td>tina kotek</td>\n",
       "      <td>democratic</td>\n",
       "      <td>inaug</td>\n",
       "      <td>Inaugural Address (Spanish) January 9, 2023 Go...</td>\n",
       "      <td>4389</td>\n",
       "    </tr>\n",
       "    <tr>\n",
       "      <th>37</th>\n",
       "      <td>pennsylvania</td>\n",
       "      <td>josh shapiro</td>\n",
       "      <td>democratic</td>\n",
       "      <td>budget</td>\n",
       "      <td>February 06, 2024 Governor Shapiro’s budget pr...</td>\n",
       "      <td>2867</td>\n",
       "    </tr>\n",
       "    <tr>\n",
       "      <th>38</th>\n",
       "      <td>rhode island</td>\n",
       "      <td>dan mckee</td>\n",
       "      <td>democratic</td>\n",
       "      <td>sos</td>\n",
       "      <td>Published on Tuesday, January 17, 2023 January...</td>\n",
       "      <td>3359</td>\n",
       "    </tr>\n",
       "    <tr>\n",
       "      <th>39</th>\n",
       "      <td>south carolina</td>\n",
       "      <td>henry mcmaster</td>\n",
       "      <td>republican</td>\n",
       "      <td>sos</td>\n",
       "      <td>Mr. Speaker, Mr. President, ladies and gentlem...</td>\n",
       "      <td>6674</td>\n",
       "    </tr>\n",
       "    <tr>\n",
       "      <th>40</th>\n",
       "      <td>south dakota</td>\n",
       "      <td>kristi noem</td>\n",
       "      <td>republican</td>\n",
       "      <td>sos</td>\n",
       "      <td>2023 State of the State Address   By: Governor...</td>\n",
       "      <td>4418</td>\n",
       "    </tr>\n",
       "    <tr>\n",
       "      <th>41</th>\n",
       "      <td>tennessee</td>\n",
       "      <td>bill lee</td>\n",
       "      <td>republican</td>\n",
       "      <td>sos</td>\n",
       "      <td>Thank you very much. Lieutenant Governor McNal...</td>\n",
       "      <td>4991</td>\n",
       "    </tr>\n",
       "    <tr>\n",
       "      <th>42</th>\n",
       "      <td>texas</td>\n",
       "      <td>greg abbott</td>\n",
       "      <td>republican</td>\n",
       "      <td>inaug</td>\n",
       "      <td>January 17, 2023 | Austin, Texas        |     ...</td>\n",
       "      <td>1858</td>\n",
       "    </tr>\n",
       "    <tr>\n",
       "      <th>43</th>\n",
       "      <td>utah</td>\n",
       "      <td>spencer cox</td>\n",
       "      <td>republican</td>\n",
       "      <td>sos</td>\n",
       "      <td>2023 State of the State Address U...</td>\n",
       "      <td>4056</td>\n",
       "    </tr>\n",
       "    <tr>\n",
       "      <th>44</th>\n",
       "      <td>vermont</td>\n",
       "      <td>phil scott</td>\n",
       "      <td>republican</td>\n",
       "      <td>inaug</td>\n",
       "      <td>Montpelier, Vt. - Governor Phil Scott today wa...</td>\n",
       "      <td>4785</td>\n",
       "    </tr>\n",
       "    <tr>\n",
       "      <th>45</th>\n",
       "      <td>virginia</td>\n",
       "      <td>glenn youngkin</td>\n",
       "      <td>republican</td>\n",
       "      <td>sos</td>\n",
       "      <td>RICHMOND, VA - Governor Youngkin today deliver...</td>\n",
       "      <td>5987</td>\n",
       "    </tr>\n",
       "    <tr>\n",
       "      <th>46</th>\n",
       "      <td>washington</td>\n",
       "      <td>jay inslee</td>\n",
       "      <td>democratic</td>\n",
       "      <td>sos</td>\n",
       "      <td>Sign up Sign in Sign up Sign in Governor Jay I...</td>\n",
       "      <td>3430</td>\n",
       "    </tr>\n",
       "    <tr>\n",
       "      <th>47</th>\n",
       "      <td>west virginia</td>\n",
       "      <td>jim justice</td>\n",
       "      <td>republican</td>\n",
       "      <td>sos</td>\n",
       "      <td>VIEW PHOTO ALBUM     ...</td>\n",
       "      <td>36640</td>\n",
       "    </tr>\n",
       "    <tr>\n",
       "      <th>48</th>\n",
       "      <td>wisconsin</td>\n",
       "      <td>tony evers</td>\n",
       "      <td>democratic</td>\n",
       "      <td>inaug</td>\n",
       "      <td>Good evening, Wisconsin! Honorable Supreme Cou...</td>\n",
       "      <td>4275</td>\n",
       "    </tr>\n",
       "    <tr>\n",
       "      <th>49</th>\n",
       "      <td>wyoming</td>\n",
       "      <td>mark gordon</td>\n",
       "      <td>republican</td>\n",
       "      <td>sos</td>\n",
       "      <td>CHEYENNE, Wyo. –  Governor Mark Gordon’s State...</td>\n",
       "      <td>531</td>\n",
       "    </tr>\n",
       "  </tbody>\n",
       "</table>\n",
       "</div>"
      ],
      "text/plain": [
       "             state                gov_name       party    type  \\\n",
       "0          alabama                kay ivey  republican     sos   \n",
       "1           alaska           mike dunleavy  republican     sos   \n",
       "2          arizona             katie hobbs  democratic     sos   \n",
       "3         arkansas  sarah huckabee sanders  republican   inaug   \n",
       "4       california            gavin newsom  democratic   inaug   \n",
       "5         colorado             jared polis  democratic     sos   \n",
       "6      connecticut              ned lamont  democratic     sos   \n",
       "7         delaware             john carney  democratic     sos   \n",
       "8          florida            ron desantis  republican     sos   \n",
       "9          georgia              brian kemp  republican     sos   \n",
       "10          hawaii              josh green  democratic     sos   \n",
       "11           idaho             brad little  republican     sos   \n",
       "12        illinois             jb pritzker  democratic     sos   \n",
       "13         indiana            eric holcomb  republican     sos   \n",
       "14            iowa            kim reynolds  republican     sos   \n",
       "15          kansas             laura kelly  democratic     sos   \n",
       "16        kentucky            andy beshear  democratic     sos   \n",
       "17       louisiana        john bel edwards  democratic     sos   \n",
       "18           maine             janet mills  democratic   inaug   \n",
       "19        maryland               wes moore  democratic     sos   \n",
       "20   massachusetts            maura healey  democratic   inaug   \n",
       "21        michigan        gretchen whitmer  democratic     sos   \n",
       "22       minnesota                tim walz  democratic     sos   \n",
       "23     mississippi             tate reeves  republican     sos   \n",
       "24        missouri             mike parson  republican     sos   \n",
       "25         montana          greg gianforte  republican     sos   \n",
       "26        nebraska              jim pillen  republican     sos   \n",
       "27          nevada            joe lombardo  republican     sos   \n",
       "28   new hampshire            chris sununu  republican   inaug   \n",
       "29      new jersey             phil murphy  democratic     sos   \n",
       "30      new mexico  michelle lujan grisham  democratic     sos   \n",
       "31        new york            kathy hochul  democratic     sos   \n",
       "32  north carolina              roy cooper  democratic     sos   \n",
       "33    north dakota             doug burgum  republican     sos   \n",
       "34            ohio             mike dewine  republican     sos   \n",
       "35        oklahoma             kevin stitt  republican     sos   \n",
       "36          oregon              tina kotek  democratic   inaug   \n",
       "37    pennsylvania            josh shapiro  democratic  budget   \n",
       "38    rhode island               dan mckee  democratic     sos   \n",
       "39  south carolina          henry mcmaster  republican     sos   \n",
       "40    south dakota             kristi noem  republican     sos   \n",
       "41       tennessee                bill lee  republican     sos   \n",
       "42           texas             greg abbott  republican   inaug   \n",
       "43            utah             spencer cox  republican     sos   \n",
       "44         vermont              phil scott  republican   inaug   \n",
       "45        virginia          glenn youngkin  republican     sos   \n",
       "46      washington              jay inslee  democratic     sos   \n",
       "47   west virginia             jim justice  republican     sos   \n",
       "48       wisconsin              tony evers  democratic   inaug   \n",
       "49         wyoming             mark gordon  republican     sos   \n",
       "\n",
       "                                                 text  word_count  \n",
       "0   Page 1 of 8     2023 STATE OF THE STATE ADDRES...        2980  \n",
       "1   Governor Dunleavy’s 2023 State of the State Ad...        6469  \n",
       "2   Good afternoon, Chief Justice Brutinel, Secret...        4882  \n",
       "3   LITTLE ROCK, Ark.— Today, Governor Sarah Hucka...        2250  \n",
       "4   Watch Governor Newsom’s swearing-in and inaugu...        2456  \n",
       "5   ForMedia-2023-StateOfState-GovernorPolis-AsPre...        7859  \n",
       "6   \\r\\n01/03/2023              2023 State of the ...        1878  \n",
       "7    January 19, 2023 As prepared for delivery #DE...        4157  \n",
       "8   From the Space Coast to the Suncoast, from St....        1658  \n",
       "9   Lt. Governor Jones, Speaker Burns, President P...        3315  \n",
       "10   1 of 17   1 of 17   “ACTION ROOTED IN VALUES”...        5374  \n",
       "11  Page 1 of 11    2 0 23  ST ATE OF  THE  ST ATE...        4148  \n",
       "12    Gov. Pritzker Proposes Transformative, Gener...       18781  \n",
       "13  Governor Eric J. Holcomb2023 State of the Stat...        2919  \n",
       "14  Tonight, Gov. Reynolds delivered her 2023 Cond...        4805  \n",
       "15  Governor Kelly Delivers Her 2023 State of the ...        4494  \n",
       "16  Microsoft Word - 20230104_Gov-Beshear_State-of...        4585  \n",
       "17  As prepared for delivery: Mr. Speaker, Mr. Pre...        3996  \n",
       "18  1  Governor Janet T. Mills Second Inaugural Ad...        3737  \n",
       "19   ANNAPOLIS, MD— Today, Governor Wes Moore deli...        4005  \n",
       "20  Gov. Maura Healey, the first woman elected gov...        3286  \n",
       "21  FOR IMMEDIATE RELEASE  January 25, 2023   Cont...        4228  \n",
       "22  Governor Walz State of the State Remarks as Pr...        2795  \n",
       "23  Gov. Tate Reeves, a first-term Republican, del...        4734  \n",
       "24  1  Missouri Governor — Michael L. Parson Offic...        4909  \n",
       "25  HELENA, Mont. – Governor Greg Gianforte tonigh...        6765  \n",
       "26   Governor Jim Pillen                          ...        3158  \n",
       "27  Governor Joe Lombardo 2023 State of the State ...        6258  \n",
       "28  Concord, NH – Please find below Governor Chris...        3348  \n",
       "29  Governor Murphy Delivers 2023 State of the Sta...        5926  \n",
       "30  FROM THE OFFICE OF THE GOVERNOR Editor’s note:...        4422  \n",
       "31  Governor Kathy Hochul today delivered her 2023...        4670  \n",
       "32  Governor Roy Cooper Follow 1   Mr. President P...        3287  \n",
       "33  1     State of the State Address January 3, 20...        7590  \n",
       "34  (COLUMBUS, Ohio)—Ohio Governor Mike DeWine tod...        5670  \n",
       "35  Governor Kevin Stitt delivered the first State...        3050  \n",
       "36  Inaugural Address (Spanish) January 9, 2023 Go...        4389  \n",
       "37  February 06, 2024 Governor Shapiro’s budget pr...        2867  \n",
       "38  Published on Tuesday, January 17, 2023 January...        3359  \n",
       "39  Mr. Speaker, Mr. President, ladies and gentlem...        6674  \n",
       "40  2023 State of the State Address   By: Governor...        4418  \n",
       "41  Thank you very much. Lieutenant Governor McNal...        4991  \n",
       "42  January 17, 2023 | Austin, Texas        |     ...        1858  \n",
       "43               2023 State of the State Address U...        4056  \n",
       "44  Montpelier, Vt. - Governor Phil Scott today wa...        4785  \n",
       "45  RICHMOND, VA - Governor Youngkin today deliver...        5987  \n",
       "46  Sign up Sign in Sign up Sign in Governor Jay I...        3430  \n",
       "47                           VIEW PHOTO ALBUM     ...       36640  \n",
       "48  Good evening, Wisconsin! Honorable Supreme Cou...        4275  \n",
       "49  CHEYENNE, Wyo. –  Governor Mark Gordon’s State...         531  "
      ]
     },
     "execution_count": 30,
     "metadata": {},
     "output_type": "execute_result"
    }
   ],
   "source": [
    "# check that this worked\n",
    "sos "
   ]
  },
  {
   "cell_type": "markdown",
   "id": "8d98eae6",
   "metadata": {
    "heading_collapsed": true,
    "hidden": true
   },
   "source": [
    "#### Examine distribution of word count and outiers"
   ]
  },
  {
   "cell_type": "code",
   "execution_count": 31,
   "id": "0a124331",
   "metadata": {
    "hidden": true
   },
   "outputs": [
    {
     "data": {
      "text/plain": [
       "count       50.000000\n",
       "mean      5142.080000\n",
       "std       5214.130263\n",
       "min        531.000000\n",
       "25%       3286.250000\n",
       "50%       4251.500000\n",
       "75%       4970.500000\n",
       "max      36640.000000\n",
       "Name: word_count, dtype: float64"
      ]
     },
     "execution_count": 31,
     "metadata": {},
     "output_type": "execute_result"
    }
   ],
   "source": [
    "sos.word_count.describe()"
   ]
  },
  {
   "cell_type": "code",
   "execution_count": 32,
   "id": "3bd1dda7",
   "metadata": {
    "hidden": true
   },
   "outputs": [
    {
     "data": {
      "text/plain": [
       "(array([ 1.,  3.,  2., 11.,  5., 13.,  4.,  4.,  3.,  1.,  1.,  0.,  0.,\n",
       "         0.,  0.,  0.,  0.,  0.,  0.,  0.,  0.,  0.,  0.,  0.,  0.,  1.,\n",
       "         0.,  0.,  0.,  0.,  0.,  0.,  0.,  0.,  0.,  0.,  0.,  0.,  0.,\n",
       "         0.,  0.,  0.,  0.,  0.,  0.,  0.,  0.,  0.,  0.,  1.]),\n",
       " array([  531.  ,  1253.18,  1975.36,  2697.54,  3419.72,  4141.9 ,\n",
       "         4864.08,  5586.26,  6308.44,  7030.62,  7752.8 ,  8474.98,\n",
       "         9197.16,  9919.34, 10641.52, 11363.7 , 12085.88, 12808.06,\n",
       "        13530.24, 14252.42, 14974.6 , 15696.78, 16418.96, 17141.14,\n",
       "        17863.32, 18585.5 , 19307.68, 20029.86, 20752.04, 21474.22,\n",
       "        22196.4 , 22918.58, 23640.76, 24362.94, 25085.12, 25807.3 ,\n",
       "        26529.48, 27251.66, 27973.84, 28696.02, 29418.2 , 30140.38,\n",
       "        30862.56, 31584.74, 32306.92, 33029.1 , 33751.28, 34473.46,\n",
       "        35195.64, 35917.82, 36640.  ]),\n",
       " <BarContainer object of 50 artists>)"
      ]
     },
     "execution_count": 32,
     "metadata": {},
     "output_type": "execute_result"
    },
    {
     "data": {
      "text/plain": [
       "Text(6000, 4, 'Mean length: 5142 words')"
      ]
     },
     "execution_count": 32,
     "metadata": {},
     "output_type": "execute_result"
    },
    {
     "data": {
      "text/plain": [
       "<matplotlib.lines.Line2D at 0x7fc480d9eee0>"
      ]
     },
     "execution_count": 32,
     "metadata": {},
     "output_type": "execute_result"
    },
    {
     "data": {
      "text/plain": [
       "Text(6000, 7, 'Median length: 4251 words')"
      ]
     },
     "execution_count": 32,
     "metadata": {},
     "output_type": "execute_result"
    },
    {
     "data": {
      "text/plain": [
       "<matplotlib.lines.Line2D at 0x7fc470ccb880>"
      ]
     },
     "execution_count": 32,
     "metadata": {},
     "output_type": "execute_result"
    },
    {
     "data": {
      "text/plain": [
       "Text(0.5, 1.0, 'From 50 State of the State Addresses for 2023')"
      ]
     },
     "execution_count": 32,
     "metadata": {},
     "output_type": "execute_result"
    },
    {
     "data": {
      "text/plain": [
       "Text(0.5, 0.98, 'Distribution of Document Length - SOS')"
      ]
     },
     "execution_count": 32,
     "metadata": {},
     "output_type": "execute_result"
    },
    {
     "data": {
      "text/plain": [
       "Text(0.5, 0, 'Document Word Count')"
      ]
     },
     "execution_count": 32,
     "metadata": {},
     "output_type": "execute_result"
    },
    {
     "data": {
      "text/plain": [
       "Text(0, 0.5, 'Number of Documents')"
      ]
     },
     "execution_count": 32,
     "metadata": {},
     "output_type": "execute_result"
    },
    {
     "data": {
      "image/png": "[encoded data removed]",
      "text/plain": [
       "<Figure size 648x360 with 1 Axes>"
      ]
     },
     "metadata": {
      "needs_background": "light"
     },
     "output_type": "display_data"
    }
   ],
   "source": [
    "fig, ax = plt.subplots(figsize=(9,5))\n",
    "ax.hist(sos.word_count, bins = 50, color = 'darkred')\n",
    "ax.text(6000, 4, 'Mean length: 5142 words')\n",
    "plt.axvline(x = 5142, color = 'dimgrey',ls = 'dashed')\n",
    "ax.text(6000, 7, 'Median length: 4251 words')\n",
    "plt.axvline(x = 4251, color = 'dimgrey',ls = 'dashed')\n",
    "plt.title('From 50 State of the State Addresses for 2023', size = 10)\n",
    "plt.suptitle('Distribution of Document Length - SOS', size = 20)\n",
    "plt.xlabel('Document Word Count')\n",
    "plt.ylabel('Number of Documents')\n",
    "# fig.savefig('pompeo2020_hist.png')"
   ]
  },
  {
   "cell_type": "code",
   "execution_count": 33,
   "id": "3dfc4d0c",
   "metadata": {
    "hidden": true
   },
   "outputs": [
    {
     "data": {
      "text/html": [
       "<div>\n",
       "<style scoped>\n",
       "    .dataframe tbody tr th:only-of-type {\n",
       "        vertical-align: middle;\n",
       "    }\n",
       "\n",
       "    .dataframe tbody tr th {\n",
       "        vertical-align: top;\n",
       "    }\n",
       "\n",
       "    .dataframe thead th {\n",
       "        text-align: right;\n",
       "    }\n",
       "</style>\n",
       "<table border=\"1\" class=\"dataframe\">\n",
       "  <thead>\n",
       "    <tr style=\"text-align: right;\">\n",
       "      <th></th>\n",
       "      <th>state</th>\n",
       "      <th>gov_name</th>\n",
       "      <th>party</th>\n",
       "      <th>type</th>\n",
       "      <th>text</th>\n",
       "      <th>word_count</th>\n",
       "    </tr>\n",
       "  </thead>\n",
       "  <tbody>\n",
       "    <tr>\n",
       "      <th>0</th>\n",
       "      <td>illinois</td>\n",
       "      <td>jb pritzker</td>\n",
       "      <td>democratic</td>\n",
       "      <td>sos</td>\n",
       "      <td>Gov. Pritzker Proposes Transformative, Gener...</td>\n",
       "      <td>18781</td>\n",
       "    </tr>\n",
       "    <tr>\n",
       "      <th>1</th>\n",
       "      <td>west virginia</td>\n",
       "      <td>jim justice</td>\n",
       "      <td>republican</td>\n",
       "      <td>sos</td>\n",
       "      <td>VIEW PHOTO ALBUM     ...</td>\n",
       "      <td>36640</td>\n",
       "    </tr>\n",
       "  </tbody>\n",
       "</table>\n",
       "</div>"
      ],
      "text/plain": [
       "           state     gov_name       party type  \\\n",
       "0       illinois  jb pritzker  democratic  sos   \n",
       "1  west virginia  jim justice  republican  sos   \n",
       "\n",
       "                                                text  word_count  \n",
       "0    Gov. Pritzker Proposes Transformative, Gener...       18781  \n",
       "1                           VIEW PHOTO ALBUM     ...       36640  "
      ]
     },
     "execution_count": 33,
     "metadata": {},
     "output_type": "execute_result"
    }
   ],
   "source": [
    "# check the outliers\n",
    "outliers = sos[sos.word_count > 15000].reset_index(drop = True)\n",
    "outliers"
   ]
  },
  {
   "cell_type": "code",
   "execution_count": 34,
   "id": "a72f3606",
   "metadata": {
    "hidden": true
   },
   "outputs": [],
   "source": [
    "# duplicates \n",
    "# looks like text is repeated so let's clean\n",
    "# outliers.text[0]"
   ]
  },
  {
   "cell_type": "code",
   "execution_count": 35,
   "id": "9c383bf4",
   "metadata": {
    "hidden": true
   },
   "outputs": [],
   "source": [
    "# test cleaning method\n",
    "pattern = r'God bless the great state of Illinois'\n",
    "input_string = outliers.text[0]\n",
    "match = re.search(pattern, input_string)\n",
    "clean_string = input_string[:match.end()]\n",
    "\n",
    "# clean_string"
   ]
  },
  {
   "cell_type": "code",
   "execution_count": 36,
   "id": "811ba271",
   "metadata": {
    "hidden": true
   },
   "outputs": [],
   "source": [
    "# same issue \n",
    "# outliers.text[1]"
   ]
  },
  {
   "cell_type": "code",
   "execution_count": 37,
   "id": "a4559c7b",
   "metadata": {
    "hidden": true
   },
   "outputs": [],
   "source": [
    "# test cleaning method for second example\n",
    "pattern2 = r'Thank you so much for having me. And God bless all of you.'\n",
    "\n",
    "input_string2 = outliers.text[1]\n",
    "\n",
    "match2 = re.search(pattern2, input_string2)\n",
    "\n",
    "clean_string2 = input_string2[:match2.end()]\n",
    "\n",
    "# clean_string2 "
   ]
  },
  {
   "cell_type": "code",
   "execution_count": 38,
   "id": "8e3c4231",
   "metadata": {
    "hidden": true
   },
   "outputs": [],
   "source": [
    "# do in main df \n",
    "def replace_text(state, pattern):\n",
    "    input_string = sos.loc[sos.state == state, 'text'].values[0]\n",
    "    match = re.search(pattern, input_string)\n",
    "    clean_string = input_string[:match.end()]\n",
    "    sos.loc[sos.state == state, 'text'] = clean_string\n",
    "    return f'successfully added cleaned text for {state}'"
   ]
  },
  {
   "cell_type": "code",
   "execution_count": 39,
   "id": "1bbd5fe2",
   "metadata": {
    "hidden": true
   },
   "outputs": [
    {
     "data": {
      "text/plain": [
       "'successfully added cleaned text for illinois'"
      ]
     },
     "execution_count": 39,
     "metadata": {},
     "output_type": "execute_result"
    }
   ],
   "source": [
    "replace_text('illinois', r'God bless the great state of Illinois')"
   ]
  },
  {
   "cell_type": "code",
   "execution_count": 40,
   "id": "f54529cf",
   "metadata": {
    "hidden": true
   },
   "outputs": [
    {
     "data": {
      "text/plain": [
       "'successfully added cleaned text for west virginia'"
      ]
     },
     "execution_count": 40,
     "metadata": {},
     "output_type": "execute_result"
    }
   ],
   "source": [
    "replace_text('west virginia', r'Thank you so much for having me. And God bless all of you.')"
   ]
  },
  {
   "cell_type": "code",
   "execution_count": 41,
   "id": "18556d94",
   "metadata": {
    "hidden": true
   },
   "outputs": [],
   "source": [
    "# redo word count \n",
    "sos['new_word_count'] = [len(i.split()) for i in sos.text]"
   ]
  },
  {
   "cell_type": "code",
   "execution_count": 42,
   "id": "9acfa74f",
   "metadata": {
    "hidden": true
   },
   "outputs": [
    {
     "data": {
      "text/plain": [
       "count       50.000000\n",
       "mean      5142.080000\n",
       "std       5214.130263\n",
       "min        531.000000\n",
       "25%       3286.250000\n",
       "50%       4251.500000\n",
       "75%       4970.500000\n",
       "max      36640.000000\n",
       "Name: word_count, dtype: float64"
      ]
     },
     "execution_count": 42,
     "metadata": {},
     "output_type": "execute_result"
    },
    {
     "data": {
      "text/plain": [
       "count      50.000000\n",
       "mean     4342.600000\n",
       "std      1687.350005\n",
       "min       531.000000\n",
       "25%      3286.250000\n",
       "50%      4251.500000\n",
       "75%      4970.500000\n",
       "max      9157.000000\n",
       "Name: new_word_count, dtype: float64"
      ]
     },
     "execution_count": 42,
     "metadata": {},
     "output_type": "execute_result"
    }
   ],
   "source": [
    "sos.word_count.describe()\n",
    "sos.new_word_count.describe() "
   ]
  },
  {
   "cell_type": "code",
   "execution_count": 43,
   "id": "47907bba",
   "metadata": {
    "hidden": true
   },
   "outputs": [
    {
     "data": {
      "text/plain": [
       "(array([ 1.,  1.,  3.,  2., 10.,  2., 11.,  8.,  2.,  3.,  4.,  0.,  2.,\n",
       "         0.,  1.]),\n",
       " array([ 531.        , 1106.06666667, 1681.13333333, 2256.2       ,\n",
       "        2831.26666667, 3406.33333333, 3981.4       , 4556.46666667,\n",
       "        5131.53333333, 5706.6       , 6281.66666667, 6856.73333333,\n",
       "        7431.8       , 8006.86666667, 8581.93333333, 9157.        ]),\n",
       " <BarContainer object of 15 artists>)"
      ]
     },
     "execution_count": 43,
     "metadata": {},
     "output_type": "execute_result"
    },
    {
     "data": {
      "text/plain": [
       "Text(6000, 6, 'Mean length: 4342 words')"
      ]
     },
     "execution_count": 43,
     "metadata": {},
     "output_type": "execute_result"
    },
    {
     "data": {
      "text/plain": [
       "<matplotlib.lines.Line2D at 0x7fc4608c2400>"
      ]
     },
     "execution_count": 43,
     "metadata": {},
     "output_type": "execute_result"
    },
    {
     "data": {
      "text/plain": [
       "Text(0.5, 1.0, 'From 50 State of the State Addresses for 2023')"
      ]
     },
     "execution_count": 43,
     "metadata": {},
     "output_type": "execute_result"
    },
    {
     "data": {
      "text/plain": [
       "Text(0.5, 0.98, 'Distribution of Document Length - SOS')"
      ]
     },
     "execution_count": 43,
     "metadata": {},
     "output_type": "execute_result"
    },
    {
     "data": {
      "text/plain": [
       "Text(0.5, 0, 'Document Word Count')"
      ]
     },
     "execution_count": 43,
     "metadata": {},
     "output_type": "execute_result"
    },
    {
     "data": {
      "text/plain": [
       "Text(0, 0.5, 'Number of Documents')"
      ]
     },
     "execution_count": 43,
     "metadata": {},
     "output_type": "execute_result"
    },
    {
     "data": {
      "image/png": "[encoded data removed]",
      "text/plain": [
       "<Figure size 648x360 with 1 Axes>"
      ]
     },
     "metadata": {
      "needs_background": "light"
     },
     "output_type": "display_data"
    }
   ],
   "source": [
    "fig, ax = plt.subplots(figsize=(9,5))\n",
    "ax.hist(sos.new_word_count, bins = 15, color = 'lightblue')\n",
    "ax.text(6000, 6, 'Mean length: 4342 words')\n",
    "plt.axvline(x = 4342, color = 'dimgrey',ls = 'dashed')\n",
    "plt.title('From 50 State of the State Addresses for 2023', size = 10)\n",
    "plt.suptitle('Distribution of Document Length - SOS', size = 20)\n",
    "plt.xlabel('Document Word Count')\n",
    "plt.ylabel('Number of Documents') \n",
    "# fig.savefig('pompeo2020_hist.png')"
   ]
  },
  {
   "cell_type": "markdown",
   "id": "71bfb20e",
   "metadata": {
    "heading_collapsed": true,
    "hidden": true
   },
   "source": [
    "#### Min doc frequency "
   ]
  },
  {
   "cell_type": "code",
   "execution_count": 82,
   "id": "d8f27577",
   "metadata": {
    "hidden": true
   },
   "outputs": [],
   "source": [
    "# explore min_doc frequency options of 1-30\n",
    "term_count = []\n",
    "\n",
    "for i in range(1, 31):\n",
    "    vectorizer = CountVectorizer(stop_words='english', min_df=i)\n",
    "    dtm = vectorizer.fit_transform(sos.text)\n",
    "    length = dtm.shape[1]\n",
    "    term_count.append(length)\n",
    "\n",
    "min_df = pd.DataFrame(data = {'Min Doc': range(1,31),\n",
    "                              'Term Count': term_count})"
   ]
  },
  {
   "cell_type": "code",
   "execution_count": 83,
   "id": "a5aeb823",
   "metadata": {
    "hidden": true
   },
   "outputs": [
    {
     "data": {
      "text/plain": [
       "<matplotlib.collections.PathCollection at 0x7fc460961be0>"
      ]
     },
     "execution_count": 83,
     "metadata": {},
     "output_type": "execute_result"
    },
    {
     "data": {
      "text/plain": [
       "Text(0.5, 1.0, 'From 50 State of the State Addresses in 2023')"
      ]
     },
     "execution_count": 83,
     "metadata": {},
     "output_type": "execute_result"
    },
    {
     "data": {
      "text/plain": [
       "Text(0.5, 0.98, 'Minimum Document Frequency and Resulting Term Count')"
      ]
     },
     "execution_count": 83,
     "metadata": {},
     "output_type": "execute_result"
    },
    {
     "data": {
      "text/plain": [
       "Text(0, 0.5, 'Term Count')"
      ]
     },
     "execution_count": 83,
     "metadata": {},
     "output_type": "execute_result"
    },
    {
     "data": {
      "text/plain": [
       "Text(0.5, 0, 'Minimum Document Frequency')"
      ]
     },
     "execution_count": 83,
     "metadata": {},
     "output_type": "execute_result"
    },
    {
     "data": {
      "text/plain": [
       "([<matplotlib.axis.XTick at 0x7fc481288e50>,\n",
       "  <matplotlib.axis.XTick at 0x7fc4812883a0>,\n",
       "  <matplotlib.axis.XTick at 0x7fc460961190>,\n",
       "  <matplotlib.axis.XTick at 0x7fc460b3ad00>,\n",
       "  <matplotlib.axis.XTick at 0x7fc460d68970>,\n",
       "  <matplotlib.axis.XTick at 0x7fc48129ba00>,\n",
       "  <matplotlib.axis.XTick at 0x7fc460d7c4c0>,\n",
       "  <matplotlib.axis.XTick at 0x7fc460d72f70>,\n",
       "  <matplotlib.axis.XTick at 0x7fc480cec340>,\n",
       "  <matplotlib.axis.XTick at 0x7fc46029d790>,\n",
       "  <matplotlib.axis.XTick at 0x7fc478bdea00>,\n",
       "  <matplotlib.axis.XTick at 0x7fc460d7d400>,\n",
       "  <matplotlib.axis.XTick at 0x7fc441354a60>,\n",
       "  <matplotlib.axis.XTick at 0x7fc470e33c40>,\n",
       "  <matplotlib.axis.XTick at 0x7fc470e34370>,\n",
       "  <matplotlib.axis.XTick at 0x7fc470d72640>,\n",
       "  <matplotlib.axis.XTick at 0x7fc470e1ed00>,\n",
       "  <matplotlib.axis.XTick at 0x7fc47899e7f0>,\n",
       "  <matplotlib.axis.XTick at 0x7fc480fc6280>,\n",
       "  <matplotlib.axis.XTick at 0x7fc480da3190>,\n",
       "  <matplotlib.axis.XTick at 0x7fc478c15250>,\n",
       "  <matplotlib.axis.XTick at 0x7fc4788582b0>,\n",
       "  <matplotlib.axis.XTick at 0x7fc491639fd0>,\n",
       "  <matplotlib.axis.XTick at 0x7fc470e95460>,\n",
       "  <matplotlib.axis.XTick at 0x7fc470e958b0>,\n",
       "  <matplotlib.axis.XTick at 0x7fc4811509a0>,\n",
       "  <matplotlib.axis.XTick at 0x7fc4602f48b0>,\n",
       "  <matplotlib.axis.XTick at 0x7fc4717ffdc0>,\n",
       "  <matplotlib.axis.XTick at 0x7fc478943370>,\n",
       "  <matplotlib.axis.XTick at 0x7fc4602b39d0>],\n",
       " [Text(1, 0, '1'),\n",
       "  Text(2, 0, '2'),\n",
       "  Text(3, 0, '3'),\n",
       "  Text(4, 0, '4'),\n",
       "  Text(5, 0, '5'),\n",
       "  Text(6, 0, '6'),\n",
       "  Text(7, 0, '7'),\n",
       "  Text(8, 0, '8'),\n",
       "  Text(9, 0, '9'),\n",
       "  Text(10, 0, '10'),\n",
       "  Text(11, 0, '11'),\n",
       "  Text(12, 0, '12'),\n",
       "  Text(13, 0, '13'),\n",
       "  Text(14, 0, '14'),\n",
       "  Text(15, 0, '15'),\n",
       "  Text(16, 0, '16'),\n",
       "  Text(17, 0, '17'),\n",
       "  Text(18, 0, '18'),\n",
       "  Text(19, 0, '19'),\n",
       "  Text(20, 0, '20'),\n",
       "  Text(21, 0, '21'),\n",
       "  Text(22, 0, '22'),\n",
       "  Text(23, 0, '23'),\n",
       "  Text(24, 0, '24'),\n",
       "  Text(25, 0, '25'),\n",
       "  Text(26, 0, '26'),\n",
       "  Text(27, 0, '27'),\n",
       "  Text(28, 0, '28'),\n",
       "  Text(29, 0, '29'),\n",
       "  Text(30, 0, '30')])"
      ]
     },
     "execution_count": 83,
     "metadata": {},
     "output_type": "execute_result"
    },
    {
     "data": {
      "image/png": "[encoded data removed]",
      "text/plain": [
       "<Figure size 864x468 with 1 Axes>"
      ]
     },
     "metadata": {
      "needs_background": "light"
     },
     "output_type": "display_data"
    }
   ],
   "source": [
    "fig, ax = plt.subplots(figsize=(12,6.5))\n",
    "# ax.plot(range(1,26), min_df['Term Count'], linewidth = 2.5, color = 'green')\n",
    "ax.scatter(x = min_df['Min Doc'], y = min_df['Term Count'])\n",
    "plt.title('From 50 State of the State Addresses in 2023')\n",
    "plt.suptitle('Minimum Document Frequency and Resulting Term Count', size = 20)\n",
    "plt.ylabel('Term Count')\n",
    "plt.xlabel('Minimum Document Frequency')\n",
    "plt.xticks(range(1,31))\n",
    "#plt.savefig('min_doc_freq.png')"
   ]
  },
  {
   "cell_type": "code",
   "execution_count": 88,
   "id": "7b1f6d81",
   "metadata": {
    "hidden": true
   },
   "outputs": [],
   "source": [
    "# Let's use 6 to reduce the words but still keep a high term count. Plus our overall sample size (50) is low."
   ]
  },
  {
   "cell_type": "markdown",
   "id": "e8da3a90",
   "metadata": {
    "heading_collapsed": true,
    "hidden": true
   },
   "source": [
    "#### + custom stopwords"
   ]
  },
  {
   "cell_type": "code",
   "execution_count": 89,
   "id": "9728448e",
   "metadata": {
    "hidden": true
   },
   "outputs": [],
   "source": [
    "# define functions for testing hyper parameter easily\n",
    "def convert_to_term_df(dtm_input, tfidf_vectorizer_input):\n",
    "    content_index = pd.DataFrame(dtm_input.toarray()).head()\n",
    "    term_indices = {index: term for term, index in tfidf_vectorizer_input.vocabulary_.items()}\n",
    "    colterms = [term_indices[i] for i in range(dtm_input.shape[1])]\n",
    "    final_df = pd.DataFrame(dtm_input.toarray(), columns=colterms)\n",
    "\n",
    "    return final_df"
   ]
  },
  {
   "cell_type": "code",
   "execution_count": 90,
   "id": "15971ffe",
   "metadata": {
    "hidden": true
   },
   "outputs": [],
   "source": [
    "# https://stackoverflow.com/questions/34232190/scikit-learn-tfidfvectorizer-how-to-get-top-n-terms-with-highest-tf-idf-score\n",
    "def get_top_terms(dtm_input, tfidf_vectorizer_input, num):\n",
    "    importance = np.argsort(np.asarray(dtm_input.sum(axis=0)).ravel())[::-1]\n",
    "    tfidf_feature_names = np.array(tfidf_vectorizer_input.get_feature_names_out())\n",
    "    return tfidf_feature_names[importance[: num]]"
   ]
  },
  {
   "cell_type": "code",
   "execution_count": 91,
   "id": "cb6b050a",
   "metadata": {
    "hidden": true
   },
   "outputs": [
    {
     "data": {
      "text/plain": [
       "(50, 2265)"
      ]
     },
     "execution_count": 91,
     "metadata": {},
     "output_type": "execute_result"
    }
   ],
   "source": [
    "# vectorize with stop words only \n",
    "tfidf_vectorizer = TfidfVectorizer(stop_words='english', min_df=6)\n",
    "dtm = tfidf_vectorizer.fit_transform(sos.text)\n",
    "dtm.shape #(50, 2265)"
   ]
  },
  {
   "cell_type": "code",
   "execution_count": 93,
   "id": "6bbaff0f",
   "metadata": {
    "hidden": true
   },
   "outputs": [
    {
     "data": {
      "text/html": [
       "<div>\n",
       "<style scoped>\n",
       "    .dataframe tbody tr th:only-of-type {\n",
       "        vertical-align: middle;\n",
       "    }\n",
       "\n",
       "    .dataframe tbody tr th {\n",
       "        vertical-align: top;\n",
       "    }\n",
       "\n",
       "    .dataframe thead th {\n",
       "        text-align: right;\n",
       "    }\n",
       "</style>\n",
       "<table border=\"1\" class=\"dataframe\">\n",
       "  <thead>\n",
       "    <tr style=\"text-align: right;\">\n",
       "      <th></th>\n",
       "      <th>000</th>\n",
       "      <th>10</th>\n",
       "      <th>100</th>\n",
       "      <th>11</th>\n",
       "      <th>12</th>\n",
       "      <th>120</th>\n",
       "      <th>13</th>\n",
       "      <th>14</th>\n",
       "      <th>15</th>\n",
       "      <th>150</th>\n",
       "      <th>...</th>\n",
       "      <th>years</th>\n",
       "      <th>yes</th>\n",
       "      <th>yesterday</th>\n",
       "      <th>york</th>\n",
       "      <th>young</th>\n",
       "      <th>youngest</th>\n",
       "      <th>youth</th>\n",
       "      <th>zero</th>\n",
       "      <th>zip</th>\n",
       "      <th>zoning</th>\n",
       "    </tr>\n",
       "  </thead>\n",
       "  <tbody>\n",
       "    <tr>\n",
       "      <th>0</th>\n",
       "      <td>0.011396</td>\n",
       "      <td>0.000000</td>\n",
       "      <td>0.000000</td>\n",
       "      <td>0.000000</td>\n",
       "      <td>0.000000</td>\n",
       "      <td>0.0</td>\n",
       "      <td>0.00000</td>\n",
       "      <td>0.000000</td>\n",
       "      <td>0.000000</td>\n",
       "      <td>0.000000</td>\n",
       "      <td>...</td>\n",
       "      <td>0.060761</td>\n",
       "      <td>0.000000</td>\n",
       "      <td>0.0</td>\n",
       "      <td>0.0</td>\n",
       "      <td>0.041006</td>\n",
       "      <td>0.027155</td>\n",
       "      <td>0.0</td>\n",
       "      <td>0.00000</td>\n",
       "      <td>0.027155</td>\n",
       "      <td>0.000000</td>\n",
       "    </tr>\n",
       "    <tr>\n",
       "      <th>1</th>\n",
       "      <td>0.006169</td>\n",
       "      <td>0.013914</td>\n",
       "      <td>0.015430</td>\n",
       "      <td>0.010683</td>\n",
       "      <td>0.017588</td>\n",
       "      <td>0.0</td>\n",
       "      <td>0.03586</td>\n",
       "      <td>0.011953</td>\n",
       "      <td>0.009656</td>\n",
       "      <td>0.000000</td>\n",
       "      <td>...</td>\n",
       "      <td>0.169932</td>\n",
       "      <td>0.024648</td>\n",
       "      <td>0.0</td>\n",
       "      <td>0.0</td>\n",
       "      <td>0.022197</td>\n",
       "      <td>0.000000</td>\n",
       "      <td>0.0</td>\n",
       "      <td>0.01362</td>\n",
       "      <td>0.000000</td>\n",
       "      <td>0.000000</td>\n",
       "    </tr>\n",
       "    <tr>\n",
       "      <th>2</th>\n",
       "      <td>0.030822</td>\n",
       "      <td>0.017380</td>\n",
       "      <td>0.009637</td>\n",
       "      <td>0.000000</td>\n",
       "      <td>0.032953</td>\n",
       "      <td>0.0</td>\n",
       "      <td>0.00000</td>\n",
       "      <td>0.000000</td>\n",
       "      <td>0.012061</td>\n",
       "      <td>0.013707</td>\n",
       "      <td>...</td>\n",
       "      <td>0.061624</td>\n",
       "      <td>0.000000</td>\n",
       "      <td>0.0</td>\n",
       "      <td>0.0</td>\n",
       "      <td>0.009242</td>\n",
       "      <td>0.000000</td>\n",
       "      <td>0.0</td>\n",
       "      <td>0.00000</td>\n",
       "      <td>0.000000</td>\n",
       "      <td>0.000000</td>\n",
       "    </tr>\n",
       "    <tr>\n",
       "      <th>3</th>\n",
       "      <td>0.015949</td>\n",
       "      <td>0.000000</td>\n",
       "      <td>0.000000</td>\n",
       "      <td>0.027620</td>\n",
       "      <td>0.000000</td>\n",
       "      <td>0.0</td>\n",
       "      <td>0.00000</td>\n",
       "      <td>0.000000</td>\n",
       "      <td>0.000000</td>\n",
       "      <td>0.000000</td>\n",
       "      <td>...</td>\n",
       "      <td>0.085037</td>\n",
       "      <td>0.000000</td>\n",
       "      <td>0.0</td>\n",
       "      <td>0.0</td>\n",
       "      <td>0.019130</td>\n",
       "      <td>0.076009</td>\n",
       "      <td>0.0</td>\n",
       "      <td>0.00000</td>\n",
       "      <td>0.038004</td>\n",
       "      <td>0.000000</td>\n",
       "    </tr>\n",
       "    <tr>\n",
       "      <th>4</th>\n",
       "      <td>0.011349</td>\n",
       "      <td>0.012799</td>\n",
       "      <td>0.014194</td>\n",
       "      <td>0.019654</td>\n",
       "      <td>0.000000</td>\n",
       "      <td>0.0</td>\n",
       "      <td>0.00000</td>\n",
       "      <td>0.000000</td>\n",
       "      <td>0.000000</td>\n",
       "      <td>0.020189</td>\n",
       "      <td>...</td>\n",
       "      <td>0.080681</td>\n",
       "      <td>0.045348</td>\n",
       "      <td>0.0</td>\n",
       "      <td>0.0</td>\n",
       "      <td>0.000000</td>\n",
       "      <td>0.000000</td>\n",
       "      <td>0.0</td>\n",
       "      <td>0.00000</td>\n",
       "      <td>0.000000</td>\n",
       "      <td>0.028208</td>\n",
       "    </tr>\n",
       "  </tbody>\n",
       "</table>\n",
       "<p>5 rows × 2265 columns</p>\n",
       "</div>"
      ],
      "text/plain": [
       "        000        10       100        11        12  120       13        14  \\\n",
       "0  0.011396  0.000000  0.000000  0.000000  0.000000  0.0  0.00000  0.000000   \n",
       "1  0.006169  0.013914  0.015430  0.010683  0.017588  0.0  0.03586  0.011953   \n",
       "2  0.030822  0.017380  0.009637  0.000000  0.032953  0.0  0.00000  0.000000   \n",
       "3  0.015949  0.000000  0.000000  0.027620  0.000000  0.0  0.00000  0.000000   \n",
       "4  0.011349  0.012799  0.014194  0.019654  0.000000  0.0  0.00000  0.000000   \n",
       "\n",
       "         15       150  ...     years       yes  yesterday  york     young  \\\n",
       "0  0.000000  0.000000  ...  0.060761  0.000000        0.0   0.0  0.041006   \n",
       "1  0.009656  0.000000  ...  0.169932  0.024648        0.0   0.0  0.022197   \n",
       "2  0.012061  0.013707  ...  0.061624  0.000000        0.0   0.0  0.009242   \n",
       "3  0.000000  0.000000  ...  0.085037  0.000000        0.0   0.0  0.019130   \n",
       "4  0.000000  0.020189  ...  0.080681  0.045348        0.0   0.0  0.000000   \n",
       "\n",
       "   youngest  youth     zero       zip    zoning  \n",
       "0  0.027155    0.0  0.00000  0.027155  0.000000  \n",
       "1  0.000000    0.0  0.01362  0.000000  0.000000  \n",
       "2  0.000000    0.0  0.00000  0.000000  0.000000  \n",
       "3  0.076009    0.0  0.00000  0.038004  0.000000  \n",
       "4  0.000000    0.0  0.00000  0.000000  0.028208  \n",
       "\n",
       "[5 rows x 2265 columns]"
      ]
     },
     "execution_count": 93,
     "metadata": {},
     "output_type": "execute_result"
    }
   ],
   "source": [
    "# create df\n",
    "df = convert_to_term_df(dtm, tfidf_vectorizer)\n",
    "df.head()"
   ]
  },
  {
   "cell_type": "code",
   "execution_count": 134,
   "id": "3431ef63",
   "metadata": {
    "hidden": true
   },
   "outputs": [],
   "source": [
    "# add custom stop words - (tweaked throughout the process based on later parts of this notebook)\n",
    "# https://aparnamishra144.medium.com/how-to-add-custom-stopwords-and-remove-them-from-text-in-nlp-50d342cfafff\n",
    "\n",
    "stop_list = ['four','absolutely','tonight','state', 'governor', 'year', 'alabama', 'new', 'north', 'south', 'west', 'alaska', 'arizona', 'arkansas', 'california', 'colorado',\n",
    "             'connecticut','delaware','florida','georgia','hawaii','idaho','illinois','indiana','iowa',\n",
    "             'kansas','kentucky','louisiana','maine','maryland','massachusetts','michigan','minnesota',\n",
    "             'mississippi','missouri','montana','nebraska','nevada', 'hampshire', 'jersey', 'mexico','york',\n",
    "             'carolina', 'dakota','ohio','oklahoma','oregon','pennsylvania','rhode','island','tennessee','texas',\n",
    "             'utah','vermont','virginia','washington','west virginia', 'wisconsin','wyoming', \n",
    "             'could', 'doe', 'ha', 'kansa', 'might', 'must', 'need', 'sha', 'wa', 'would']\n",
    "\n",
    "stpwrd = nltk.corpus.stopwords.words('english')\n",
    "stpwrd.extend(stop_list)\n",
    "#stpwrd"
   ]
  },
  {
   "cell_type": "code",
   "execution_count": 94,
   "id": "21d04372",
   "metadata": {
    "hidden": true
   },
   "outputs": [
    {
     "data": {
      "text/plain": [
       "(50, 2347)"
      ]
     },
     "execution_count": 94,
     "metadata": {},
     "output_type": "execute_result"
    }
   ],
   "source": [
    "# vectorize with custom stop words only \n",
    "tfidf_vectorizer1 = TfidfVectorizer(stop_words=stpwrd, min_df=6)\n",
    "dtm1 = tfidf_vectorizer1.fit_transform(sos.text)\n",
    "dtm1.shape # (50, 2347)"
   ]
  },
  {
   "cell_type": "code",
   "execution_count": 97,
   "id": "b887a0c9",
   "metadata": {
    "hidden": true
   },
   "outputs": [
    {
     "data": {
      "text/plain": [
       "array(['people', 'us', 'years', 'one', 'every', 'work', 'make', 'also',\n",
       "       'first', 'today'], dtype=object)"
      ]
     },
     "execution_count": 97,
     "metadata": {},
     "output_type": "execute_result"
    },
    {
     "data": {
      "text/html": [
       "<div>\n",
       "<style scoped>\n",
       "    .dataframe tbody tr th:only-of-type {\n",
       "        vertical-align: middle;\n",
       "    }\n",
       "\n",
       "    .dataframe tbody tr th {\n",
       "        vertical-align: top;\n",
       "    }\n",
       "\n",
       "    .dataframe thead th {\n",
       "        text-align: right;\n",
       "    }\n",
       "</style>\n",
       "<table border=\"1\" class=\"dataframe\">\n",
       "  <thead>\n",
       "    <tr style=\"text-align: right;\">\n",
       "      <th></th>\n",
       "      <th>000</th>\n",
       "      <th>10</th>\n",
       "      <th>100</th>\n",
       "      <th>11</th>\n",
       "      <th>12</th>\n",
       "      <th>120</th>\n",
       "      <th>13</th>\n",
       "      <th>14</th>\n",
       "      <th>15</th>\n",
       "      <th>150</th>\n",
       "      <th>...</th>\n",
       "      <th>years</th>\n",
       "      <th>yes</th>\n",
       "      <th>yesterday</th>\n",
       "      <th>yet</th>\n",
       "      <th>young</th>\n",
       "      <th>youngest</th>\n",
       "      <th>youth</th>\n",
       "      <th>zero</th>\n",
       "      <th>zip</th>\n",
       "      <th>zoning</th>\n",
       "    </tr>\n",
       "  </thead>\n",
       "  <tbody>\n",
       "    <tr>\n",
       "      <th>0</th>\n",
       "      <td>0.011365</td>\n",
       "      <td>0.000000</td>\n",
       "      <td>0.000000</td>\n",
       "      <td>0.000000</td>\n",
       "      <td>0.000000</td>\n",
       "      <td>0.0</td>\n",
       "      <td>0.000000</td>\n",
       "      <td>0.000000</td>\n",
       "      <td>0.000000</td>\n",
       "      <td>0.000000</td>\n",
       "      <td>...</td>\n",
       "      <td>0.060593</td>\n",
       "      <td>0.000000</td>\n",
       "      <td>0.0</td>\n",
       "      <td>0.000000</td>\n",
       "      <td>0.040893</td>\n",
       "      <td>0.027080</td>\n",
       "      <td>0.0</td>\n",
       "      <td>0.000000</td>\n",
       "      <td>0.027080</td>\n",
       "      <td>0.000000</td>\n",
       "    </tr>\n",
       "    <tr>\n",
       "      <th>1</th>\n",
       "      <td>0.006811</td>\n",
       "      <td>0.015362</td>\n",
       "      <td>0.017037</td>\n",
       "      <td>0.011795</td>\n",
       "      <td>0.019418</td>\n",
       "      <td>0.0</td>\n",
       "      <td>0.039593</td>\n",
       "      <td>0.013198</td>\n",
       "      <td>0.010661</td>\n",
       "      <td>0.000000</td>\n",
       "      <td>...</td>\n",
       "      <td>0.187621</td>\n",
       "      <td>0.027214</td>\n",
       "      <td>0.0</td>\n",
       "      <td>0.000000</td>\n",
       "      <td>0.024507</td>\n",
       "      <td>0.000000</td>\n",
       "      <td>0.0</td>\n",
       "      <td>0.015038</td>\n",
       "      <td>0.000000</td>\n",
       "      <td>0.000000</td>\n",
       "    </tr>\n",
       "    <tr>\n",
       "      <th>2</th>\n",
       "      <td>0.031461</td>\n",
       "      <td>0.017740</td>\n",
       "      <td>0.009837</td>\n",
       "      <td>0.000000</td>\n",
       "      <td>0.033636</td>\n",
       "      <td>0.0</td>\n",
       "      <td>0.000000</td>\n",
       "      <td>0.000000</td>\n",
       "      <td>0.012311</td>\n",
       "      <td>0.013991</td>\n",
       "      <td>...</td>\n",
       "      <td>0.062902</td>\n",
       "      <td>0.000000</td>\n",
       "      <td>0.0</td>\n",
       "      <td>0.000000</td>\n",
       "      <td>0.009434</td>\n",
       "      <td>0.000000</td>\n",
       "      <td>0.0</td>\n",
       "      <td>0.000000</td>\n",
       "      <td>0.000000</td>\n",
       "      <td>0.000000</td>\n",
       "    </tr>\n",
       "    <tr>\n",
       "      <th>3</th>\n",
       "      <td>0.015460</td>\n",
       "      <td>0.000000</td>\n",
       "      <td>0.000000</td>\n",
       "      <td>0.026772</td>\n",
       "      <td>0.000000</td>\n",
       "      <td>0.0</td>\n",
       "      <td>0.000000</td>\n",
       "      <td>0.000000</td>\n",
       "      <td>0.000000</td>\n",
       "      <td>0.000000</td>\n",
       "      <td>...</td>\n",
       "      <td>0.082427</td>\n",
       "      <td>0.000000</td>\n",
       "      <td>0.0</td>\n",
       "      <td>0.041238</td>\n",
       "      <td>0.018543</td>\n",
       "      <td>0.073676</td>\n",
       "      <td>0.0</td>\n",
       "      <td>0.000000</td>\n",
       "      <td>0.036838</td>\n",
       "      <td>0.000000</td>\n",
       "    </tr>\n",
       "    <tr>\n",
       "      <th>4</th>\n",
       "      <td>0.015002</td>\n",
       "      <td>0.016918</td>\n",
       "      <td>0.018762</td>\n",
       "      <td>0.025979</td>\n",
       "      <td>0.000000</td>\n",
       "      <td>0.0</td>\n",
       "      <td>0.000000</td>\n",
       "      <td>0.000000</td>\n",
       "      <td>0.000000</td>\n",
       "      <td>0.026686</td>\n",
       "      <td>...</td>\n",
       "      <td>0.106646</td>\n",
       "      <td>0.059942</td>\n",
       "      <td>0.0</td>\n",
       "      <td>0.040016</td>\n",
       "      <td>0.000000</td>\n",
       "      <td>0.000000</td>\n",
       "      <td>0.0</td>\n",
       "      <td>0.000000</td>\n",
       "      <td>0.000000</td>\n",
       "      <td>0.037286</td>\n",
       "    </tr>\n",
       "  </tbody>\n",
       "</table>\n",
       "<p>5 rows × 2347 columns</p>\n",
       "</div>"
      ],
      "text/plain": [
       "        000        10       100        11        12  120        13        14  \\\n",
       "0  0.011365  0.000000  0.000000  0.000000  0.000000  0.0  0.000000  0.000000   \n",
       "1  0.006811  0.015362  0.017037  0.011795  0.019418  0.0  0.039593  0.013198   \n",
       "2  0.031461  0.017740  0.009837  0.000000  0.033636  0.0  0.000000  0.000000   \n",
       "3  0.015460  0.000000  0.000000  0.026772  0.000000  0.0  0.000000  0.000000   \n",
       "4  0.015002  0.016918  0.018762  0.025979  0.000000  0.0  0.000000  0.000000   \n",
       "\n",
       "         15       150  ...     years       yes  yesterday       yet     young  \\\n",
       "0  0.000000  0.000000  ...  0.060593  0.000000        0.0  0.000000  0.040893   \n",
       "1  0.010661  0.000000  ...  0.187621  0.027214        0.0  0.000000  0.024507   \n",
       "2  0.012311  0.013991  ...  0.062902  0.000000        0.0  0.000000  0.009434   \n",
       "3  0.000000  0.000000  ...  0.082427  0.000000        0.0  0.041238  0.018543   \n",
       "4  0.000000  0.026686  ...  0.106646  0.059942        0.0  0.040016  0.000000   \n",
       "\n",
       "   youngest  youth      zero       zip    zoning  \n",
       "0  0.027080    0.0  0.000000  0.027080  0.000000  \n",
       "1  0.000000    0.0  0.015038  0.000000  0.000000  \n",
       "2  0.000000    0.0  0.000000  0.000000  0.000000  \n",
       "3  0.073676    0.0  0.000000  0.036838  0.000000  \n",
       "4  0.000000    0.0  0.000000  0.000000  0.037286  \n",
       "\n",
       "[5 rows x 2347 columns]"
      ]
     },
     "execution_count": 97,
     "metadata": {},
     "output_type": "execute_result"
    }
   ],
   "source": [
    "# get frequent terms \n",
    "get_top_terms(dtm1, tfidf_vectorizer1, 10)\n",
    "\n",
    "# create df\n",
    "df1 = convert_to_term_df(dtm1, tfidf_vectorizer1)\n",
    "df1.head()"
   ]
  },
  {
   "cell_type": "markdown",
   "id": "2fe1a4ff",
   "metadata": {
    "heading_collapsed": true,
    "hidden": true
   },
   "source": [
    "#### + words only"
   ]
  },
  {
   "cell_type": "code",
   "execution_count": 98,
   "id": "ada4949a",
   "metadata": {
    "hidden": true
   },
   "outputs": [
    {
     "data": {
      "text/plain": [
       "(50, 2279)"
      ]
     },
     "execution_count": 98,
     "metadata": {},
     "output_type": "execute_result"
    }
   ],
   "source": [
    "# vectorize with stop words and words only (remove numbers and must be 3 letters minimum)\n",
    "tfidf_vectorizer2 = TfidfVectorizer(stop_words=stpwrd, min_df=6, token_pattern= r'\\b[a-zA-Z]{3,}\\b')\n",
    "dtm2 = tfidf_vectorizer2.fit_transform(sos.text)\n",
    "dtm2.shape #(50, 2279)"
   ]
  },
  {
   "cell_type": "code",
   "execution_count": 99,
   "id": "71f6bfa9",
   "metadata": {
    "hidden": true
   },
   "outputs": [
    {
     "data": {
      "text/plain": [
       "array(['people', 'years', 'one', 'every', 'work', 'make', 'first', 'also',\n",
       "       'today', 'let'], dtype=object)"
      ]
     },
     "execution_count": 99,
     "metadata": {},
     "output_type": "execute_result"
    },
    {
     "data": {
      "text/html": [
       "<div>\n",
       "<style scoped>\n",
       "    .dataframe tbody tr th:only-of-type {\n",
       "        vertical-align: middle;\n",
       "    }\n",
       "\n",
       "    .dataframe tbody tr th {\n",
       "        vertical-align: top;\n",
       "    }\n",
       "\n",
       "    .dataframe thead th {\n",
       "        text-align: right;\n",
       "    }\n",
       "</style>\n",
       "<table border=\"1\" class=\"dataframe\">\n",
       "  <thead>\n",
       "    <tr style=\"text-align: right;\">\n",
       "      <th></th>\n",
       "      <th>abandoned</th>\n",
       "      <th>ability</th>\n",
       "      <th>able</th>\n",
       "      <th>abortion</th>\n",
       "      <th>abundance</th>\n",
       "      <th>abundant</th>\n",
       "      <th>abuse</th>\n",
       "      <th>academy</th>\n",
       "      <th>accelerate</th>\n",
       "      <th>accept</th>\n",
       "      <th>...</th>\n",
       "      <th>years</th>\n",
       "      <th>yes</th>\n",
       "      <th>yesterday</th>\n",
       "      <th>yet</th>\n",
       "      <th>young</th>\n",
       "      <th>youngest</th>\n",
       "      <th>youth</th>\n",
       "      <th>zero</th>\n",
       "      <th>zip</th>\n",
       "      <th>zoning</th>\n",
       "    </tr>\n",
       "  </thead>\n",
       "  <tbody>\n",
       "    <tr>\n",
       "      <th>0</th>\n",
       "      <td>0.0</td>\n",
       "      <td>0.036563</td>\n",
       "      <td>0.013391</td>\n",
       "      <td>0.000000</td>\n",
       "      <td>0.029654</td>\n",
       "      <td>0.000000</td>\n",
       "      <td>0.0</td>\n",
       "      <td>0.0</td>\n",
       "      <td>0.025166</td>\n",
       "      <td>0.024301</td>\n",
       "      <td>...</td>\n",
       "      <td>0.060769</td>\n",
       "      <td>0.000000</td>\n",
       "      <td>0.0</td>\n",
       "      <td>0.000000</td>\n",
       "      <td>0.041011</td>\n",
       "      <td>0.027159</td>\n",
       "      <td>0.0</td>\n",
       "      <td>0.000000</td>\n",
       "      <td>0.027159</td>\n",
       "      <td>0.000000</td>\n",
       "    </tr>\n",
       "    <tr>\n",
       "      <th>1</th>\n",
       "      <td>0.0</td>\n",
       "      <td>0.022441</td>\n",
       "      <td>0.008218</td>\n",
       "      <td>0.000000</td>\n",
       "      <td>0.000000</td>\n",
       "      <td>0.000000</td>\n",
       "      <td>0.0</td>\n",
       "      <td>0.0</td>\n",
       "      <td>0.000000</td>\n",
       "      <td>0.104404</td>\n",
       "      <td>...</td>\n",
       "      <td>0.192699</td>\n",
       "      <td>0.027951</td>\n",
       "      <td>0.0</td>\n",
       "      <td>0.000000</td>\n",
       "      <td>0.025170</td>\n",
       "      <td>0.000000</td>\n",
       "      <td>0.0</td>\n",
       "      <td>0.015445</td>\n",
       "      <td>0.000000</td>\n",
       "      <td>0.000000</td>\n",
       "    </tr>\n",
       "    <tr>\n",
       "      <th>2</th>\n",
       "      <td>0.0</td>\n",
       "      <td>0.000000</td>\n",
       "      <td>0.000000</td>\n",
       "      <td>0.016376</td>\n",
       "      <td>0.000000</td>\n",
       "      <td>0.019735</td>\n",
       "      <td>0.0</td>\n",
       "      <td>0.0</td>\n",
       "      <td>0.000000</td>\n",
       "      <td>0.000000</td>\n",
       "      <td>...</td>\n",
       "      <td>0.063503</td>\n",
       "      <td>0.000000</td>\n",
       "      <td>0.0</td>\n",
       "      <td>0.000000</td>\n",
       "      <td>0.009524</td>\n",
       "      <td>0.000000</td>\n",
       "      <td>0.0</td>\n",
       "      <td>0.000000</td>\n",
       "      <td>0.000000</td>\n",
       "      <td>0.000000</td>\n",
       "    </tr>\n",
       "    <tr>\n",
       "      <th>3</th>\n",
       "      <td>0.0</td>\n",
       "      <td>0.025070</td>\n",
       "      <td>0.000000</td>\n",
       "      <td>0.000000</td>\n",
       "      <td>0.000000</td>\n",
       "      <td>0.038847</td>\n",
       "      <td>0.0</td>\n",
       "      <td>0.0</td>\n",
       "      <td>0.000000</td>\n",
       "      <td>0.033325</td>\n",
       "      <td>...</td>\n",
       "      <td>0.083333</td>\n",
       "      <td>0.000000</td>\n",
       "      <td>0.0</td>\n",
       "      <td>0.041691</td>\n",
       "      <td>0.018746</td>\n",
       "      <td>0.074485</td>\n",
       "      <td>0.0</td>\n",
       "      <td>0.000000</td>\n",
       "      <td>0.037243</td>\n",
       "      <td>0.000000</td>\n",
       "    </tr>\n",
       "    <tr>\n",
       "      <th>4</th>\n",
       "      <td>0.0</td>\n",
       "      <td>0.000000</td>\n",
       "      <td>0.000000</td>\n",
       "      <td>0.031127</td>\n",
       "      <td>0.000000</td>\n",
       "      <td>0.000000</td>\n",
       "      <td>0.0</td>\n",
       "      <td>0.0</td>\n",
       "      <td>0.000000</td>\n",
       "      <td>0.000000</td>\n",
       "      <td>...</td>\n",
       "      <td>0.107292</td>\n",
       "      <td>0.060305</td>\n",
       "      <td>0.0</td>\n",
       "      <td>0.040259</td>\n",
       "      <td>0.000000</td>\n",
       "      <td>0.000000</td>\n",
       "      <td>0.0</td>\n",
       "      <td>0.000000</td>\n",
       "      <td>0.000000</td>\n",
       "      <td>0.037512</td>\n",
       "    </tr>\n",
       "  </tbody>\n",
       "</table>\n",
       "<p>5 rows × 2279 columns</p>\n",
       "</div>"
      ],
      "text/plain": [
       "   abandoned   ability      able  abortion  abundance  abundant  abuse  \\\n",
       "0        0.0  0.036563  0.013391  0.000000   0.029654  0.000000    0.0   \n",
       "1        0.0  0.022441  0.008218  0.000000   0.000000  0.000000    0.0   \n",
       "2        0.0  0.000000  0.000000  0.016376   0.000000  0.019735    0.0   \n",
       "3        0.0  0.025070  0.000000  0.000000   0.000000  0.038847    0.0   \n",
       "4        0.0  0.000000  0.000000  0.031127   0.000000  0.000000    0.0   \n",
       "\n",
       "   academy  accelerate    accept  ...     years       yes  yesterday  \\\n",
       "0      0.0    0.025166  0.024301  ...  0.060769  0.000000        0.0   \n",
       "1      0.0    0.000000  0.104404  ...  0.192699  0.027951        0.0   \n",
       "2      0.0    0.000000  0.000000  ...  0.063503  0.000000        0.0   \n",
       "3      0.0    0.000000  0.033325  ...  0.083333  0.000000        0.0   \n",
       "4      0.0    0.000000  0.000000  ...  0.107292  0.060305        0.0   \n",
       "\n",
       "        yet     young  youngest  youth      zero       zip    zoning  \n",
       "0  0.000000  0.041011  0.027159    0.0  0.000000  0.027159  0.000000  \n",
       "1  0.000000  0.025170  0.000000    0.0  0.015445  0.000000  0.000000  \n",
       "2  0.000000  0.009524  0.000000    0.0  0.000000  0.000000  0.000000  \n",
       "3  0.041691  0.018746  0.074485    0.0  0.000000  0.037243  0.000000  \n",
       "4  0.040259  0.000000  0.000000    0.0  0.000000  0.000000  0.037512  \n",
       "\n",
       "[5 rows x 2279 columns]"
      ]
     },
     "execution_count": 99,
     "metadata": {},
     "output_type": "execute_result"
    }
   ],
   "source": [
    "# get most frequent terms\n",
    "get_top_terms(dtm2, tfidf_vectorizer2, 10)\n",
    "\n",
    "# create df\n",
    "df2 = convert_to_term_df(dtm2, tfidf_vectorizer2)\n",
    "df2.head()"
   ]
  },
  {
   "cell_type": "markdown",
   "id": "89fcae4d",
   "metadata": {
    "heading_collapsed": true,
    "hidden": true
   },
   "source": [
    "#### + bigrams"
   ]
  },
  {
   "cell_type": "code",
   "execution_count": 101,
   "id": "3fc95ea8",
   "metadata": {
    "hidden": true
   },
   "outputs": [
    {
     "data": {
      "text/plain": [
       "(50, 2831)"
      ]
     },
     "execution_count": 101,
     "metadata": {},
     "output_type": "execute_result"
    }
   ],
   "source": [
    "# vectorize with bigrams\n",
    "tfidf_vectorizer3 = TfidfVectorizer(stop_words=stpwrd, min_df=6, ngram_range=(1,2), \n",
    "                                    token_pattern= r'\\b[a-zA-Z]{3,}\\b')\n",
    "dtm3 = tfidf_vectorizer3.fit_transform(sos.text)\n",
    "dtm3.shape  # (50, 2831)\n",
    "# larger number"
   ]
  },
  {
   "cell_type": "code",
   "execution_count": 102,
   "id": "216972b2",
   "metadata": {
    "hidden": true
   },
   "outputs": [
    {
     "data": {
      "text/plain": [
       "array(['people', 'years', 'one', 'every', 'work', 'make', 'first', 'also',\n",
       "       'today', 'let'], dtype=object)"
      ]
     },
     "execution_count": 102,
     "metadata": {},
     "output_type": "execute_result"
    },
    {
     "data": {
      "text/html": [
       "<div>\n",
       "<style scoped>\n",
       "    .dataframe tbody tr th:only-of-type {\n",
       "        vertical-align: middle;\n",
       "    }\n",
       "\n",
       "    .dataframe tbody tr th {\n",
       "        vertical-align: top;\n",
       "    }\n",
       "\n",
       "    .dataframe thead th {\n",
       "        text-align: right;\n",
       "    }\n",
       "</style>\n",
       "<table border=\"1\" class=\"dataframe\">\n",
       "  <thead>\n",
       "    <tr style=\"text-align: right;\">\n",
       "      <th></th>\n",
       "      <th>abandoned</th>\n",
       "      <th>ability</th>\n",
       "      <th>able</th>\n",
       "      <th>able get</th>\n",
       "      <th>abortion</th>\n",
       "      <th>abundance</th>\n",
       "      <th>abundant</th>\n",
       "      <th>abuse</th>\n",
       "      <th>academy</th>\n",
       "      <th>accelerate</th>\n",
       "      <th>...</th>\n",
       "      <th>yesterday</th>\n",
       "      <th>yet</th>\n",
       "      <th>young</th>\n",
       "      <th>young people</th>\n",
       "      <th>youngest</th>\n",
       "      <th>youth</th>\n",
       "      <th>zero</th>\n",
       "      <th>zip</th>\n",
       "      <th>zip code</th>\n",
       "      <th>zoning</th>\n",
       "    </tr>\n",
       "  </thead>\n",
       "  <tbody>\n",
       "    <tr>\n",
       "      <th>0</th>\n",
       "      <td>0.0</td>\n",
       "      <td>0.034371</td>\n",
       "      <td>0.012588</td>\n",
       "      <td>0.027876</td>\n",
       "      <td>0.000000</td>\n",
       "      <td>0.027876</td>\n",
       "      <td>0.000000</td>\n",
       "      <td>0.0</td>\n",
       "      <td>0.0</td>\n",
       "      <td>0.023656</td>\n",
       "      <td>...</td>\n",
       "      <td>0.0</td>\n",
       "      <td>0.000000</td>\n",
       "      <td>0.038552</td>\n",
       "      <td>0.055662</td>\n",
       "      <td>0.025530</td>\n",
       "      <td>0.0</td>\n",
       "      <td>0.000000</td>\n",
       "      <td>0.025530</td>\n",
       "      <td>0.025530</td>\n",
       "      <td>0.000000</td>\n",
       "    </tr>\n",
       "    <tr>\n",
       "      <th>1</th>\n",
       "      <td>0.0</td>\n",
       "      <td>0.021348</td>\n",
       "      <td>0.007818</td>\n",
       "      <td>0.000000</td>\n",
       "      <td>0.000000</td>\n",
       "      <td>0.000000</td>\n",
       "      <td>0.000000</td>\n",
       "      <td>0.0</td>\n",
       "      <td>0.0</td>\n",
       "      <td>0.000000</td>\n",
       "      <td>...</td>\n",
       "      <td>0.0</td>\n",
       "      <td>0.000000</td>\n",
       "      <td>0.023945</td>\n",
       "      <td>0.011524</td>\n",
       "      <td>0.000000</td>\n",
       "      <td>0.0</td>\n",
       "      <td>0.014693</td>\n",
       "      <td>0.000000</td>\n",
       "      <td>0.000000</td>\n",
       "      <td>0.000000</td>\n",
       "    </tr>\n",
       "    <tr>\n",
       "      <th>2</th>\n",
       "      <td>0.0</td>\n",
       "      <td>0.000000</td>\n",
       "      <td>0.000000</td>\n",
       "      <td>0.000000</td>\n",
       "      <td>0.015608</td>\n",
       "      <td>0.000000</td>\n",
       "      <td>0.018810</td>\n",
       "      <td>0.0</td>\n",
       "      <td>0.0</td>\n",
       "      <td>0.000000</td>\n",
       "      <td>...</td>\n",
       "      <td>0.0</td>\n",
       "      <td>0.000000</td>\n",
       "      <td>0.009077</td>\n",
       "      <td>0.000000</td>\n",
       "      <td>0.000000</td>\n",
       "      <td>0.0</td>\n",
       "      <td>0.000000</td>\n",
       "      <td>0.000000</td>\n",
       "      <td>0.000000</td>\n",
       "      <td>0.000000</td>\n",
       "    </tr>\n",
       "    <tr>\n",
       "      <th>3</th>\n",
       "      <td>0.0</td>\n",
       "      <td>0.024083</td>\n",
       "      <td>0.000000</td>\n",
       "      <td>0.000000</td>\n",
       "      <td>0.000000</td>\n",
       "      <td>0.000000</td>\n",
       "      <td>0.037318</td>\n",
       "      <td>0.0</td>\n",
       "      <td>0.0</td>\n",
       "      <td>0.000000</td>\n",
       "      <td>...</td>\n",
       "      <td>0.0</td>\n",
       "      <td>0.040051</td>\n",
       "      <td>0.018009</td>\n",
       "      <td>0.000000</td>\n",
       "      <td>0.071554</td>\n",
       "      <td>0.0</td>\n",
       "      <td>0.000000</td>\n",
       "      <td>0.035777</td>\n",
       "      <td>0.035777</td>\n",
       "      <td>0.000000</td>\n",
       "    </tr>\n",
       "    <tr>\n",
       "      <th>4</th>\n",
       "      <td>0.0</td>\n",
       "      <td>0.000000</td>\n",
       "      <td>0.000000</td>\n",
       "      <td>0.000000</td>\n",
       "      <td>0.030347</td>\n",
       "      <td>0.000000</td>\n",
       "      <td>0.000000</td>\n",
       "      <td>0.0</td>\n",
       "      <td>0.0</td>\n",
       "      <td>0.000000</td>\n",
       "      <td>...</td>\n",
       "      <td>0.0</td>\n",
       "      <td>0.039250</td>\n",
       "      <td>0.000000</td>\n",
       "      <td>0.000000</td>\n",
       "      <td>0.000000</td>\n",
       "      <td>0.0</td>\n",
       "      <td>0.000000</td>\n",
       "      <td>0.000000</td>\n",
       "      <td>0.000000</td>\n",
       "      <td>0.036572</td>\n",
       "    </tr>\n",
       "  </tbody>\n",
       "</table>\n",
       "<p>5 rows × 2831 columns</p>\n",
       "</div>"
      ],
      "text/plain": [
       "   abandoned   ability      able  able get  abortion  abundance  abundant  \\\n",
       "0        0.0  0.034371  0.012588  0.027876  0.000000   0.027876  0.000000   \n",
       "1        0.0  0.021348  0.007818  0.000000  0.000000   0.000000  0.000000   \n",
       "2        0.0  0.000000  0.000000  0.000000  0.015608   0.000000  0.018810   \n",
       "3        0.0  0.024083  0.000000  0.000000  0.000000   0.000000  0.037318   \n",
       "4        0.0  0.000000  0.000000  0.000000  0.030347   0.000000  0.000000   \n",
       "\n",
       "   abuse  academy  accelerate  ...  yesterday       yet     young  \\\n",
       "0    0.0      0.0    0.023656  ...        0.0  0.000000  0.038552   \n",
       "1    0.0      0.0    0.000000  ...        0.0  0.000000  0.023945   \n",
       "2    0.0      0.0    0.000000  ...        0.0  0.000000  0.009077   \n",
       "3    0.0      0.0    0.000000  ...        0.0  0.040051  0.018009   \n",
       "4    0.0      0.0    0.000000  ...        0.0  0.039250  0.000000   \n",
       "\n",
       "   young people  youngest  youth      zero       zip  zip code    zoning  \n",
       "0      0.055662  0.025530    0.0  0.000000  0.025530  0.025530  0.000000  \n",
       "1      0.011524  0.000000    0.0  0.014693  0.000000  0.000000  0.000000  \n",
       "2      0.000000  0.000000    0.0  0.000000  0.000000  0.000000  0.000000  \n",
       "3      0.000000  0.071554    0.0  0.000000  0.035777  0.035777  0.000000  \n",
       "4      0.000000  0.000000    0.0  0.000000  0.000000  0.000000  0.036572  \n",
       "\n",
       "[5 rows x 2831 columns]"
      ]
     },
     "execution_count": 102,
     "metadata": {},
     "output_type": "execute_result"
    }
   ],
   "source": [
    "# get most frequent terms\n",
    "get_top_terms(dtm3, tfidf_vectorizer3, 10)\n",
    "\n",
    "# create df\n",
    "df3 = convert_to_term_df(dtm3, tfidf_vectorizer3)\n",
    "df3.head()"
   ]
  },
  {
   "cell_type": "markdown",
   "id": "1ce41056",
   "metadata": {
    "heading_collapsed": true,
    "hidden": true
   },
   "source": [
    "#### + maxdf "
   ]
  },
  {
   "cell_type": "code",
   "execution_count": 108,
   "id": "e507ffec",
   "metadata": {
    "hidden": true
   },
   "outputs": [
    {
     "data": {
      "text/plain": [
       "(50, 2725)"
      ]
     },
     "execution_count": 108,
     "metadata": {},
     "output_type": "execute_result"
    }
   ],
   "source": [
    "tfidf_vectorizer4 = TfidfVectorizer(stop_words=stpwrd, min_df=6, max_df=0.80, ngram_range=(1,2), \n",
    "                                    token_pattern= r'\\b[a-zA-Z]{3,}\\b')\n",
    "dtm4 = tfidf_vectorizer4.fit_transform(sos.text)\n",
    "dtm4.shape  # (50, 2725) # removed words"
   ]
  },
  {
   "cell_type": "code",
   "execution_count": 105,
   "id": "49042f92",
   "metadata": {
    "hidden": true
   },
   "outputs": [
    {
     "data": {
      "text/plain": [
       "array(['housing', 'schools', 'kids', 'program', 'funding', 'energy',\n",
       "       'workforce', 'investments', 'going', 'system', 'water', 'dollars',\n",
       "       'billion', 'plan', 'teachers', 'legislature', 'local', 'mental',\n",
       "       'services', 'freedom'], dtype=object)"
      ]
     },
     "execution_count": 105,
     "metadata": {},
     "output_type": "execute_result"
    },
    {
     "data": {
      "text/html": [
       "<div>\n",
       "<style scoped>\n",
       "    .dataframe tbody tr th:only-of-type {\n",
       "        vertical-align: middle;\n",
       "    }\n",
       "\n",
       "    .dataframe tbody tr th {\n",
       "        vertical-align: top;\n",
       "    }\n",
       "\n",
       "    .dataframe thead th {\n",
       "        text-align: right;\n",
       "    }\n",
       "</style>\n",
       "<table border=\"1\" class=\"dataframe\">\n",
       "  <thead>\n",
       "    <tr style=\"text-align: right;\">\n",
       "      <th></th>\n",
       "      <th>abandoned</th>\n",
       "      <th>ability</th>\n",
       "      <th>able</th>\n",
       "      <th>able get</th>\n",
       "      <th>abortion</th>\n",
       "      <th>abundance</th>\n",
       "      <th>abundant</th>\n",
       "      <th>abuse</th>\n",
       "      <th>academy</th>\n",
       "      <th>accelerate</th>\n",
       "      <th>...</th>\n",
       "      <th>yesterday</th>\n",
       "      <th>yet</th>\n",
       "      <th>young</th>\n",
       "      <th>young people</th>\n",
       "      <th>youngest</th>\n",
       "      <th>youth</th>\n",
       "      <th>zero</th>\n",
       "      <th>zip</th>\n",
       "      <th>zip code</th>\n",
       "      <th>zoning</th>\n",
       "    </tr>\n",
       "  </thead>\n",
       "  <tbody>\n",
       "    <tr>\n",
       "      <th>0</th>\n",
       "      <td>0.0</td>\n",
       "      <td>0.039964</td>\n",
       "      <td>0.014636</td>\n",
       "      <td>0.032412</td>\n",
       "      <td>0.000000</td>\n",
       "      <td>0.032412</td>\n",
       "      <td>0.000000</td>\n",
       "      <td>0.0</td>\n",
       "      <td>0.0</td>\n",
       "      <td>0.027506</td>\n",
       "      <td>...</td>\n",
       "      <td>0.0</td>\n",
       "      <td>0.000000</td>\n",
       "      <td>0.044825</td>\n",
       "      <td>0.064720</td>\n",
       "      <td>0.029684</td>\n",
       "      <td>0.0</td>\n",
       "      <td>0.000000</td>\n",
       "      <td>0.029684</td>\n",
       "      <td>0.029684</td>\n",
       "      <td>0.000000</td>\n",
       "    </tr>\n",
       "    <tr>\n",
       "      <th>1</th>\n",
       "      <td>0.0</td>\n",
       "      <td>0.026071</td>\n",
       "      <td>0.009548</td>\n",
       "      <td>0.000000</td>\n",
       "      <td>0.000000</td>\n",
       "      <td>0.000000</td>\n",
       "      <td>0.000000</td>\n",
       "      <td>0.0</td>\n",
       "      <td>0.0</td>\n",
       "      <td>0.000000</td>\n",
       "      <td>...</td>\n",
       "      <td>0.0</td>\n",
       "      <td>0.000000</td>\n",
       "      <td>0.029242</td>\n",
       "      <td>0.014074</td>\n",
       "      <td>0.000000</td>\n",
       "      <td>0.0</td>\n",
       "      <td>0.017944</td>\n",
       "      <td>0.000000</td>\n",
       "      <td>0.000000</td>\n",
       "      <td>0.000000</td>\n",
       "    </tr>\n",
       "    <tr>\n",
       "      <th>2</th>\n",
       "      <td>0.0</td>\n",
       "      <td>0.000000</td>\n",
       "      <td>0.000000</td>\n",
       "      <td>0.000000</td>\n",
       "      <td>0.018467</td>\n",
       "      <td>0.000000</td>\n",
       "      <td>0.022255</td>\n",
       "      <td>0.0</td>\n",
       "      <td>0.0</td>\n",
       "      <td>0.000000</td>\n",
       "      <td>...</td>\n",
       "      <td>0.0</td>\n",
       "      <td>0.000000</td>\n",
       "      <td>0.010739</td>\n",
       "      <td>0.000000</td>\n",
       "      <td>0.000000</td>\n",
       "      <td>0.0</td>\n",
       "      <td>0.000000</td>\n",
       "      <td>0.000000</td>\n",
       "      <td>0.000000</td>\n",
       "      <td>0.000000</td>\n",
       "    </tr>\n",
       "    <tr>\n",
       "      <th>3</th>\n",
       "      <td>0.0</td>\n",
       "      <td>0.028343</td>\n",
       "      <td>0.000000</td>\n",
       "      <td>0.000000</td>\n",
       "      <td>0.000000</td>\n",
       "      <td>0.000000</td>\n",
       "      <td>0.043918</td>\n",
       "      <td>0.0</td>\n",
       "      <td>0.0</td>\n",
       "      <td>0.000000</td>\n",
       "      <td>...</td>\n",
       "      <td>0.0</td>\n",
       "      <td>0.047134</td>\n",
       "      <td>0.021194</td>\n",
       "      <td>0.000000</td>\n",
       "      <td>0.084209</td>\n",
       "      <td>0.0</td>\n",
       "      <td>0.000000</td>\n",
       "      <td>0.042105</td>\n",
       "      <td>0.042105</td>\n",
       "      <td>0.000000</td>\n",
       "    </tr>\n",
       "    <tr>\n",
       "      <th>4</th>\n",
       "      <td>0.0</td>\n",
       "      <td>0.000000</td>\n",
       "      <td>0.000000</td>\n",
       "      <td>0.000000</td>\n",
       "      <td>0.033629</td>\n",
       "      <td>0.000000</td>\n",
       "      <td>0.000000</td>\n",
       "      <td>0.0</td>\n",
       "      <td>0.0</td>\n",
       "      <td>0.000000</td>\n",
       "      <td>...</td>\n",
       "      <td>0.0</td>\n",
       "      <td>0.043495</td>\n",
       "      <td>0.000000</td>\n",
       "      <td>0.000000</td>\n",
       "      <td>0.000000</td>\n",
       "      <td>0.0</td>\n",
       "      <td>0.000000</td>\n",
       "      <td>0.000000</td>\n",
       "      <td>0.000000</td>\n",
       "      <td>0.040528</td>\n",
       "    </tr>\n",
       "  </tbody>\n",
       "</table>\n",
       "<p>5 rows × 2725 columns</p>\n",
       "</div>"
      ],
      "text/plain": [
       "   abandoned   ability      able  able get  abortion  abundance  abundant  \\\n",
       "0        0.0  0.039964  0.014636  0.032412  0.000000   0.032412  0.000000   \n",
       "1        0.0  0.026071  0.009548  0.000000  0.000000   0.000000  0.000000   \n",
       "2        0.0  0.000000  0.000000  0.000000  0.018467   0.000000  0.022255   \n",
       "3        0.0  0.028343  0.000000  0.000000  0.000000   0.000000  0.043918   \n",
       "4        0.0  0.000000  0.000000  0.000000  0.033629   0.000000  0.000000   \n",
       "\n",
       "   abuse  academy  accelerate  ...  yesterday       yet     young  \\\n",
       "0    0.0      0.0    0.027506  ...        0.0  0.000000  0.044825   \n",
       "1    0.0      0.0    0.000000  ...        0.0  0.000000  0.029242   \n",
       "2    0.0      0.0    0.000000  ...        0.0  0.000000  0.010739   \n",
       "3    0.0      0.0    0.000000  ...        0.0  0.047134  0.021194   \n",
       "4    0.0      0.0    0.000000  ...        0.0  0.043495  0.000000   \n",
       "\n",
       "   young people  youngest  youth      zero       zip  zip code    zoning  \n",
       "0      0.064720  0.029684    0.0  0.000000  0.029684  0.029684  0.000000  \n",
       "1      0.014074  0.000000    0.0  0.017944  0.000000  0.000000  0.000000  \n",
       "2      0.000000  0.000000    0.0  0.000000  0.000000  0.000000  0.000000  \n",
       "3      0.000000  0.084209    0.0  0.000000  0.042105  0.042105  0.000000  \n",
       "4      0.000000  0.000000    0.0  0.000000  0.000000  0.000000  0.040528  \n",
       "\n",
       "[5 rows x 2725 columns]"
      ]
     },
     "execution_count": 105,
     "metadata": {},
     "output_type": "execute_result"
    }
   ],
   "source": [
    "# get most frequent terms\n",
    "get_top_terms(dtm4, tfidf_vectorizer4, 20)  # a lot more meaningful\n",
    "\n",
    "# create df\n",
    "df4 = convert_to_term_df(dtm4, tfidf_vectorizer4)\n",
    "df4.head() "
   ]
  },
  {
   "cell_type": "code",
   "execution_count": 112,
   "id": "8c0844c3",
   "metadata": {
    "hidden": true
   },
   "outputs": [],
   "source": [
    "# df4.to_csv('sos_2023_dtm.csv', index = False)"
   ]
  },
  {
   "cell_type": "markdown",
   "id": "26cbac21",
   "metadata": {
    "heading_collapsed": true,
    "hidden": true
   },
   "source": [
    "#### + sublinear tf"
   ]
  },
  {
   "cell_type": "code",
   "execution_count": 111,
   "id": "306d1957",
   "metadata": {
    "hidden": true
   },
   "outputs": [
    {
     "data": {
      "text/plain": [
       "(50, 2725)"
      ]
     },
     "execution_count": 111,
     "metadata": {},
     "output_type": "execute_result"
    }
   ],
   "source": [
    "tfidf_vectorizer5 = TfidfVectorizer(stop_words=stpwrd, min_df=6, max_df=0.80, ngram_range=(1,2), \n",
    "                                    token_pattern= r'\\b[a-zA-Z]{3,}\\b', sublinear_tf=True)\n",
    "dtm5 = tfidf_vectorizer5.fit_transform(sos.text)\n",
    "dtm5.shape  # (50, 2725) # no effect on term count"
   ]
  },
  {
   "cell_type": "code",
   "execution_count": 118,
   "id": "acefff58",
   "metadata": {
    "hidden": true
   },
   "outputs": [
    {
     "data": {
      "text/plain": [
       "array(['schools', 'funding', 'kids', 'housing', 'energy', 'workforce',\n",
       "       'program', 'billion', 'investments', 'system', 'legislature',\n",
       "       'lives', 'local', 'teachers', 'plan', 'ever', 'going', 'forward',\n",
       "       'dollars', 'hard'], dtype=object)"
      ]
     },
     "execution_count": 118,
     "metadata": {},
     "output_type": "execute_result"
    },
    {
     "data": {
      "text/html": [
       "<div>\n",
       "<style scoped>\n",
       "    .dataframe tbody tr th:only-of-type {\n",
       "        vertical-align: middle;\n",
       "    }\n",
       "\n",
       "    .dataframe tbody tr th {\n",
       "        vertical-align: top;\n",
       "    }\n",
       "\n",
       "    .dataframe thead th {\n",
       "        text-align: right;\n",
       "    }\n",
       "</style>\n",
       "<table border=\"1\" class=\"dataframe\">\n",
       "  <thead>\n",
       "    <tr style=\"text-align: right;\">\n",
       "      <th></th>\n",
       "      <th>abandoned</th>\n",
       "      <th>ability</th>\n",
       "      <th>able</th>\n",
       "      <th>able get</th>\n",
       "      <th>abortion</th>\n",
       "      <th>abundance</th>\n",
       "      <th>abundant</th>\n",
       "      <th>abuse</th>\n",
       "      <th>academy</th>\n",
       "      <th>accelerate</th>\n",
       "      <th>...</th>\n",
       "      <th>yesterday</th>\n",
       "      <th>yet</th>\n",
       "      <th>young</th>\n",
       "      <th>young people</th>\n",
       "      <th>youngest</th>\n",
       "      <th>youth</th>\n",
       "      <th>zero</th>\n",
       "      <th>zip</th>\n",
       "      <th>zip code</th>\n",
       "      <th>zoning</th>\n",
       "    </tr>\n",
       "  </thead>\n",
       "  <tbody>\n",
       "    <tr>\n",
       "      <th>0</th>\n",
       "      <td>0.0</td>\n",
       "      <td>0.044638</td>\n",
       "      <td>0.019311</td>\n",
       "      <td>0.042764</td>\n",
       "      <td>0.000000</td>\n",
       "      <td>0.042764</td>\n",
       "      <td>0.000000</td>\n",
       "      <td>0.0</td>\n",
       "      <td>0.0</td>\n",
       "      <td>0.036291</td>\n",
       "      <td>...</td>\n",
       "      <td>0.0</td>\n",
       "      <td>0.00000</td>\n",
       "      <td>0.041372</td>\n",
       "      <td>0.059734</td>\n",
       "      <td>0.039165</td>\n",
       "      <td>0.0</td>\n",
       "      <td>0.000000</td>\n",
       "      <td>0.039165</td>\n",
       "      <td>0.039165</td>\n",
       "      <td>0.000000</td>\n",
       "    </tr>\n",
       "    <tr>\n",
       "      <th>1</th>\n",
       "      <td>0.0</td>\n",
       "      <td>0.032614</td>\n",
       "      <td>0.014109</td>\n",
       "      <td>0.000000</td>\n",
       "      <td>0.000000</td>\n",
       "      <td>0.000000</td>\n",
       "      <td>0.000000</td>\n",
       "      <td>0.0</td>\n",
       "      <td>0.0</td>\n",
       "      <td>0.000000</td>\n",
       "      <td>...</td>\n",
       "      <td>0.0</td>\n",
       "      <td>0.00000</td>\n",
       "      <td>0.030228</td>\n",
       "      <td>0.020796</td>\n",
       "      <td>0.000000</td>\n",
       "      <td>0.0</td>\n",
       "      <td>0.026515</td>\n",
       "      <td>0.000000</td>\n",
       "      <td>0.000000</td>\n",
       "      <td>0.000000</td>\n",
       "    </tr>\n",
       "    <tr>\n",
       "      <th>2</th>\n",
       "      <td>0.0</td>\n",
       "      <td>0.000000</td>\n",
       "      <td>0.000000</td>\n",
       "      <td>0.000000</td>\n",
       "      <td>0.026999</td>\n",
       "      <td>0.000000</td>\n",
       "      <td>0.032537</td>\n",
       "      <td>0.0</td>\n",
       "      <td>0.0</td>\n",
       "      <td>0.000000</td>\n",
       "      <td>...</td>\n",
       "      <td>0.0</td>\n",
       "      <td>0.00000</td>\n",
       "      <td>0.015701</td>\n",
       "      <td>0.000000</td>\n",
       "      <td>0.000000</td>\n",
       "      <td>0.0</td>\n",
       "      <td>0.000000</td>\n",
       "      <td>0.000000</td>\n",
       "      <td>0.000000</td>\n",
       "      <td>0.000000</td>\n",
       "    </tr>\n",
       "    <tr>\n",
       "      <th>3</th>\n",
       "      <td>0.0</td>\n",
       "      <td>0.033845</td>\n",
       "      <td>0.000000</td>\n",
       "      <td>0.000000</td>\n",
       "      <td>0.000000</td>\n",
       "      <td>0.000000</td>\n",
       "      <td>0.052445</td>\n",
       "      <td>0.0</td>\n",
       "      <td>0.0</td>\n",
       "      <td>0.000000</td>\n",
       "      <td>...</td>\n",
       "      <td>0.0</td>\n",
       "      <td>0.04765</td>\n",
       "      <td>0.025308</td>\n",
       "      <td>0.000000</td>\n",
       "      <td>0.085131</td>\n",
       "      <td>0.0</td>\n",
       "      <td>0.000000</td>\n",
       "      <td>0.050280</td>\n",
       "      <td>0.050280</td>\n",
       "      <td>0.000000</td>\n",
       "    </tr>\n",
       "    <tr>\n",
       "      <th>4</th>\n",
       "      <td>0.0</td>\n",
       "      <td>0.000000</td>\n",
       "      <td>0.000000</td>\n",
       "      <td>0.000000</td>\n",
       "      <td>0.042852</td>\n",
       "      <td>0.000000</td>\n",
       "      <td>0.000000</td>\n",
       "      <td>0.0</td>\n",
       "      <td>0.0</td>\n",
       "      <td>0.000000</td>\n",
       "      <td>...</td>\n",
       "      <td>0.0</td>\n",
       "      <td>0.04692</td>\n",
       "      <td>0.000000</td>\n",
       "      <td>0.000000</td>\n",
       "      <td>0.000000</td>\n",
       "      <td>0.0</td>\n",
       "      <td>0.000000</td>\n",
       "      <td>0.000000</td>\n",
       "      <td>0.000000</td>\n",
       "      <td>0.051642</td>\n",
       "    </tr>\n",
       "  </tbody>\n",
       "</table>\n",
       "<p>5 rows × 2725 columns</p>\n",
       "</div>"
      ],
      "text/plain": [
       "   abandoned   ability      able  able get  abortion  abundance  abundant  \\\n",
       "0        0.0  0.044638  0.019311  0.042764  0.000000   0.042764  0.000000   \n",
       "1        0.0  0.032614  0.014109  0.000000  0.000000   0.000000  0.000000   \n",
       "2        0.0  0.000000  0.000000  0.000000  0.026999   0.000000  0.032537   \n",
       "3        0.0  0.033845  0.000000  0.000000  0.000000   0.000000  0.052445   \n",
       "4        0.0  0.000000  0.000000  0.000000  0.042852   0.000000  0.000000   \n",
       "\n",
       "   abuse  academy  accelerate  ...  yesterday      yet     young  \\\n",
       "0    0.0      0.0    0.036291  ...        0.0  0.00000  0.041372   \n",
       "1    0.0      0.0    0.000000  ...        0.0  0.00000  0.030228   \n",
       "2    0.0      0.0    0.000000  ...        0.0  0.00000  0.015701   \n",
       "3    0.0      0.0    0.000000  ...        0.0  0.04765  0.025308   \n",
       "4    0.0      0.0    0.000000  ...        0.0  0.04692  0.000000   \n",
       "\n",
       "   young people  youngest  youth      zero       zip  zip code    zoning  \n",
       "0      0.059734  0.039165    0.0  0.000000  0.039165  0.039165  0.000000  \n",
       "1      0.020796  0.000000    0.0  0.026515  0.000000  0.000000  0.000000  \n",
       "2      0.000000  0.000000    0.0  0.000000  0.000000  0.000000  0.000000  \n",
       "3      0.000000  0.085131    0.0  0.000000  0.050280  0.050280  0.000000  \n",
       "4      0.000000  0.000000    0.0  0.000000  0.000000  0.000000  0.051642  \n",
       "\n",
       "[5 rows x 2725 columns]"
      ]
     },
     "execution_count": 118,
     "metadata": {},
     "output_type": "execute_result"
    }
   ],
   "source": [
    "# get most frequent terms\n",
    "get_top_terms(dtm5, tfidf_vectorizer5, 20)  \n",
    "\n",
    "# create df\n",
    "df5 = convert_to_term_df(dtm5, tfidf_vectorizer5) # very little impact \n",
    "df5.head() "
   ]
  },
  {
   "cell_type": "markdown",
   "id": "16d31100",
   "metadata": {
    "heading_collapsed": true,
    "hidden": true
   },
   "source": [
    "#### + lemmonization"
   ]
  },
  {
   "cell_type": "code",
   "execution_count": 119,
   "id": "0f913d93",
   "metadata": {
    "hidden": true
   },
   "outputs": [
    {
     "name": "stderr",
     "output_type": "stream",
     "text": [
      "[nltk_data] Downloading package wordnet to\n",
      "[nltk_data]     /Users/maggiesullivan/nltk_data...\n",
      "[nltk_data]   Package wordnet is already up-to-date!\n"
     ]
    },
    {
     "data": {
      "text/plain": [
       "True"
      ]
     },
     "execution_count": 119,
     "metadata": {},
     "output_type": "execute_result"
    },
    {
     "name": "stderr",
     "output_type": "stream",
     "text": [
      "[nltk_data] Downloading package omw-1.4 to\n",
      "[nltk_data]     /Users/maggiesullivan/nltk_data...\n",
      "[nltk_data]   Package omw-1.4 is already up-to-date!\n"
     ]
    },
    {
     "data": {
      "text/plain": [
       "True"
      ]
     },
     "execution_count": 119,
     "metadata": {},
     "output_type": "execute_result"
    }
   ],
   "source": [
    "nltk.download('wordnet')\n",
    "nltk.download('omw-1.4')"
   ]
  },
  {
   "cell_type": "code",
   "execution_count": 120,
   "id": "d2ecb5c8",
   "metadata": {
    "hidden": true
   },
   "outputs": [],
   "source": [
    "# https://stackoverflow.com/questions/47423854/sklearn-adding-lemmatizer-to-countvectorizer\n",
    "\n",
    "class LemmaTokenizer:\n",
    "    def __init__(self):\n",
    "        self.wnl = WordNetLemmatizer()\n",
    "    def __call__(self, doc):\n",
    "        regex_num_ponctuation = '(\\d+)|([^\\w\\s])'\n",
    "        regex_little_words = r'(\\b\\w{1,2}\\b)'\n",
    "        return [self.wnl.lemmatize(t) for t in word_tokenize(doc) \n",
    "                if not re.search(regex_num_ponctuation, t) and not re.search(regex_little_words, t)]"
   ]
  },
  {
   "cell_type": "code",
   "execution_count": 122,
   "id": "3e248e2e",
   "metadata": {
    "hidden": true
   },
   "outputs": [
    {
     "data": {
      "text/plain": [
       "(50, 2511)"
      ]
     },
     "execution_count": 122,
     "metadata": {},
     "output_type": "execute_result"
    }
   ],
   "source": [
    "tfidf_vectorizer6 = TfidfVectorizer(stop_words=stpwrd, min_df=6, max_df=0.80, ngram_range=(1,2), \n",
    "                                    token_pattern= r'\\b[a-zA-Z]{3,}\\b', sublinear_tf=True, tokenizer=LemmaTokenizer())\n",
    "dtm6 = tfidf_vectorizer6.fit_transform(sos.text)\n",
    "dtm6.shape  # (50, 2511) # shrunk term count"
   ]
  },
  {
   "cell_type": "code",
   "execution_count": 124,
   "id": "885b9702",
   "metadata": {
    "hidden": true
   },
   "outputs": [
    {
     "data": {
      "text/plain": [
       "array(['program', 'kid', 'funding', 'energy', 'housing', 'workforce',\n",
       "       'dollar', 'plan', 'legislature', 'local', 'county', 'going',\n",
       "       'cost', 'access', 'ever', 'ensure', 'create', 'high', 'water',\n",
       "       'effort'], dtype=object)"
      ]
     },
     "execution_count": 124,
     "metadata": {},
     "output_type": "execute_result"
    },
    {
     "data": {
      "text/html": [
       "<div>\n",
       "<style scoped>\n",
       "    .dataframe tbody tr th:only-of-type {\n",
       "        vertical-align: middle;\n",
       "    }\n",
       "\n",
       "    .dataframe tbody tr th {\n",
       "        vertical-align: top;\n",
       "    }\n",
       "\n",
       "    .dataframe thead th {\n",
       "        text-align: right;\n",
       "    }\n",
       "</style>\n",
       "<table border=\"1\" class=\"dataframe\">\n",
       "  <thead>\n",
       "    <tr style=\"text-align: right;\">\n",
       "      <th></th>\n",
       "      <th>ability</th>\n",
       "      <th>able</th>\n",
       "      <th>able get</th>\n",
       "      <th>abortion</th>\n",
       "      <th>abundance</th>\n",
       "      <th>abundant</th>\n",
       "      <th>abuse</th>\n",
       "      <th>academic</th>\n",
       "      <th>academy</th>\n",
       "      <th>accelerate</th>\n",
       "      <th>...</th>\n",
       "      <th>yes</th>\n",
       "      <th>yesterday</th>\n",
       "      <th>yet</th>\n",
       "      <th>young</th>\n",
       "      <th>young people</th>\n",
       "      <th>youngest</th>\n",
       "      <th>youth</th>\n",
       "      <th>zip</th>\n",
       "      <th>zip code</th>\n",
       "      <th>zoning</th>\n",
       "    </tr>\n",
       "  </thead>\n",
       "  <tbody>\n",
       "    <tr>\n",
       "      <th>0</th>\n",
       "      <td>0.043522</td>\n",
       "      <td>0.019762</td>\n",
       "      <td>0.043764</td>\n",
       "      <td>0.000000</td>\n",
       "      <td>0.043764</td>\n",
       "      <td>0.000000</td>\n",
       "      <td>0.0</td>\n",
       "      <td>0.0</td>\n",
       "      <td>0.0</td>\n",
       "      <td>0.037139</td>\n",
       "      <td>...</td>\n",
       "      <td>0.000000</td>\n",
       "      <td>0.0</td>\n",
       "      <td>0.000000</td>\n",
       "      <td>0.042339</td>\n",
       "      <td>0.061130</td>\n",
       "      <td>0.040081</td>\n",
       "      <td>0.000000</td>\n",
       "      <td>0.040081</td>\n",
       "      <td>0.040081</td>\n",
       "      <td>0.000000</td>\n",
       "    </tr>\n",
       "    <tr>\n",
       "      <th>1</th>\n",
       "      <td>0.031896</td>\n",
       "      <td>0.014483</td>\n",
       "      <td>0.000000</td>\n",
       "      <td>0.000000</td>\n",
       "      <td>0.000000</td>\n",
       "      <td>0.000000</td>\n",
       "      <td>0.0</td>\n",
       "      <td>0.0</td>\n",
       "      <td>0.0</td>\n",
       "      <td>0.000000</td>\n",
       "      <td>...</td>\n",
       "      <td>0.041699</td>\n",
       "      <td>0.0</td>\n",
       "      <td>0.000000</td>\n",
       "      <td>0.031029</td>\n",
       "      <td>0.021348</td>\n",
       "      <td>0.000000</td>\n",
       "      <td>0.020797</td>\n",
       "      <td>0.000000</td>\n",
       "      <td>0.000000</td>\n",
       "      <td>0.000000</td>\n",
       "    </tr>\n",
       "    <tr>\n",
       "      <th>2</th>\n",
       "      <td>0.000000</td>\n",
       "      <td>0.000000</td>\n",
       "      <td>0.000000</td>\n",
       "      <td>0.027994</td>\n",
       "      <td>0.000000</td>\n",
       "      <td>0.033736</td>\n",
       "      <td>0.0</td>\n",
       "      <td>0.0</td>\n",
       "      <td>0.0</td>\n",
       "      <td>0.000000</td>\n",
       "      <td>...</td>\n",
       "      <td>0.000000</td>\n",
       "      <td>0.0</td>\n",
       "      <td>0.000000</td>\n",
       "      <td>0.016280</td>\n",
       "      <td>0.000000</td>\n",
       "      <td>0.000000</td>\n",
       "      <td>0.000000</td>\n",
       "      <td>0.000000</td>\n",
       "      <td>0.000000</td>\n",
       "      <td>0.000000</td>\n",
       "    </tr>\n",
       "    <tr>\n",
       "      <th>3</th>\n",
       "      <td>0.033147</td>\n",
       "      <td>0.000000</td>\n",
       "      <td>0.000000</td>\n",
       "      <td>0.000000</td>\n",
       "      <td>0.000000</td>\n",
       "      <td>0.053911</td>\n",
       "      <td>0.0</td>\n",
       "      <td>0.0</td>\n",
       "      <td>0.0</td>\n",
       "      <td>0.000000</td>\n",
       "      <td>...</td>\n",
       "      <td>0.000000</td>\n",
       "      <td>0.0</td>\n",
       "      <td>0.048982</td>\n",
       "      <td>0.026016</td>\n",
       "      <td>0.000000</td>\n",
       "      <td>0.087511</td>\n",
       "      <td>0.000000</td>\n",
       "      <td>0.051685</td>\n",
       "      <td>0.051685</td>\n",
       "      <td>0.000000</td>\n",
       "    </tr>\n",
       "    <tr>\n",
       "      <th>4</th>\n",
       "      <td>0.000000</td>\n",
       "      <td>0.000000</td>\n",
       "      <td>0.000000</td>\n",
       "      <td>0.043944</td>\n",
       "      <td>0.000000</td>\n",
       "      <td>0.000000</td>\n",
       "      <td>0.0</td>\n",
       "      <td>0.0</td>\n",
       "      <td>0.0</td>\n",
       "      <td>0.000000</td>\n",
       "      <td>...</td>\n",
       "      <td>0.072073</td>\n",
       "      <td>0.0</td>\n",
       "      <td>0.048115</td>\n",
       "      <td>0.000000</td>\n",
       "      <td>0.000000</td>\n",
       "      <td>0.000000</td>\n",
       "      <td>0.000000</td>\n",
       "      <td>0.000000</td>\n",
       "      <td>0.000000</td>\n",
       "      <td>0.052957</td>\n",
       "    </tr>\n",
       "  </tbody>\n",
       "</table>\n",
       "<p>5 rows × 2511 columns</p>\n",
       "</div>"
      ],
      "text/plain": [
       "    ability      able  able get  abortion  abundance  abundant  abuse  \\\n",
       "0  0.043522  0.019762  0.043764  0.000000   0.043764  0.000000    0.0   \n",
       "1  0.031896  0.014483  0.000000  0.000000   0.000000  0.000000    0.0   \n",
       "2  0.000000  0.000000  0.000000  0.027994   0.000000  0.033736    0.0   \n",
       "3  0.033147  0.000000  0.000000  0.000000   0.000000  0.053911    0.0   \n",
       "4  0.000000  0.000000  0.000000  0.043944   0.000000  0.000000    0.0   \n",
       "\n",
       "   academic  academy  accelerate  ...       yes  yesterday       yet  \\\n",
       "0       0.0      0.0    0.037139  ...  0.000000        0.0  0.000000   \n",
       "1       0.0      0.0    0.000000  ...  0.041699        0.0  0.000000   \n",
       "2       0.0      0.0    0.000000  ...  0.000000        0.0  0.000000   \n",
       "3       0.0      0.0    0.000000  ...  0.000000        0.0  0.048982   \n",
       "4       0.0      0.0    0.000000  ...  0.072073        0.0  0.048115   \n",
       "\n",
       "      young  young people  youngest     youth       zip  zip code    zoning  \n",
       "0  0.042339      0.061130  0.040081  0.000000  0.040081  0.040081  0.000000  \n",
       "1  0.031029      0.021348  0.000000  0.020797  0.000000  0.000000  0.000000  \n",
       "2  0.016280      0.000000  0.000000  0.000000  0.000000  0.000000  0.000000  \n",
       "3  0.026016      0.000000  0.087511  0.000000  0.051685  0.051685  0.000000  \n",
       "4  0.000000      0.000000  0.000000  0.000000  0.000000  0.000000  0.052957  \n",
       "\n",
       "[5 rows x 2511 columns]"
      ]
     },
     "execution_count": 124,
     "metadata": {},
     "output_type": "execute_result"
    }
   ],
   "source": [
    "# get most frequent terms\n",
    "get_top_terms(dtm6, tfidf_vectorizer6, 20) \n",
    "\n",
    "# create df\n",
    "df6 = convert_to_term_df(dtm6, tfidf_vectorizer6)\n",
    "df6.head() "
   ]
  },
  {
   "cell_type": "markdown",
   "id": "bc2d1ef8",
   "metadata": {},
   "source": [
    "### Conduct PCA "
   ]
  },
  {
   "cell_type": "markdown",
   "id": "d438fc0e",
   "metadata": {},
   "source": [
    "#### For All 50 States"
   ]
  },
  {
   "cell_type": "code",
   "execution_count": 139,
   "id": "7d72d74f",
   "metadata": {},
   "outputs": [],
   "source": [
    "# df4 is most interpretable based on the frequent terms output \n",
    "x = df4.copy()"
   ]
  },
  {
   "cell_type": "code",
   "execution_count": 142,
   "id": "fbc1707c",
   "metadata": {},
   "outputs": [
    {
     "data": {
      "text/plain": [
       "PCA()"
      ]
     },
     "execution_count": 142,
     "metadata": {},
     "output_type": "execute_result"
    }
   ],
   "source": [
    "# generate principle components\n",
    "pca = PCA()\n",
    "pca.fit(x)\n",
    "# pca.explained_variance_ratio_"
   ]
  },
  {
   "cell_type": "code",
   "execution_count": 143,
   "id": "c38f30a0",
   "metadata": {},
   "outputs": [
    {
     "name": "stdout",
     "output_type": "stream",
     "text": [
      "First 5 PC explain 0.178 of variance in full dataset\n"
     ]
    }
   ],
   "source": [
    "# identify variance \n",
    "pc_variance = list(pca.explained_variance_ratio_)\n",
    "pc_variance_top5 = sum(pc_variance[:5])\n",
    "print('First 5 PC explain '+ str(round(pc_variance_top5, 4)) + \n",
    "      ' of variance in full dataset')"
   ]
  },
  {
   "cell_type": "code",
   "execution_count": 144,
   "id": "6b75568b",
   "metadata": {},
   "outputs": [
    {
     "name": "stdout",
     "output_type": "stream",
     "text": [
      "PC 1 explains 0.0454 of variance in full dataset\n",
      "PC 2 explains 0.0415 of variance in full dataset\n",
      "PC 3 explains 0.0326 of variance in full dataset\n",
      "PC 4 explains 0.0301 of variance in full dataset\n",
      "PC 5 explains 0.0284 of variance in full dataset\n"
     ]
    }
   ],
   "source": [
    "# explore variance explained of first 5 PCs\n",
    "pc1_var = sum(pc_variance[0:1])\n",
    "print('PC 1 explains '+ str(round(pc1_var, 4)) + ' of variance in full dataset')\n",
    "pc2_var = sum(pc_variance[1:2])\n",
    "print('PC 2 explains '+ str(round(pc2_var, 4)) + ' of variance in full dataset')\n",
    "pc3_var = sum(pc_variance[2:3])\n",
    "print('PC 3 explains '+ str(round(pc3_var, 4)) + ' of variance in full dataset')\n",
    "pc4_var = sum(pc_variance[3:4])\n",
    "print('PC 4 explains '+ str(round(pc4_var, 4)) + ' of variance in full dataset')\n",
    "pc5_var = sum(pc_variance[4:5])\n",
    "print('PC 5 explains '+ str(round(pc5_var, 4)) + ' of variance in full dataset')"
   ]
  },
  {
   "cell_type": "code",
   "execution_count": 145,
   "id": "eb51f116",
   "metadata": {},
   "outputs": [
    {
     "data": {
      "text/html": [
       "<div>\n",
       "<style scoped>\n",
       "    .dataframe tbody tr th:only-of-type {\n",
       "        vertical-align: middle;\n",
       "    }\n",
       "\n",
       "    .dataframe tbody tr th {\n",
       "        vertical-align: top;\n",
       "    }\n",
       "\n",
       "    .dataframe thead th {\n",
       "        text-align: right;\n",
       "    }\n",
       "</style>\n",
       "<table border=\"1\" class=\"dataframe\">\n",
       "  <thead>\n",
       "    <tr style=\"text-align: right;\">\n",
       "      <th></th>\n",
       "      <th>PC1</th>\n",
       "      <th>PC2</th>\n",
       "      <th>PC3</th>\n",
       "      <th>PC4</th>\n",
       "      <th>PC5</th>\n",
       "    </tr>\n",
       "  </thead>\n",
       "  <tbody>\n",
       "    <tr>\n",
       "      <th>abandoned</th>\n",
       "      <td>-0.008747</td>\n",
       "      <td>0.003246</td>\n",
       "      <td>-0.000436</td>\n",
       "      <td>-0.000132</td>\n",
       "      <td>0.004973</td>\n",
       "    </tr>\n",
       "    <tr>\n",
       "      <th>ability</th>\n",
       "      <td>-0.025835</td>\n",
       "      <td>-0.002644</td>\n",
       "      <td>0.005020</td>\n",
       "      <td>-0.001831</td>\n",
       "      <td>-0.013152</td>\n",
       "    </tr>\n",
       "    <tr>\n",
       "      <th>able</th>\n",
       "      <td>-0.021897</td>\n",
       "      <td>-0.009755</td>\n",
       "      <td>-0.023857</td>\n",
       "      <td>-0.002123</td>\n",
       "      <td>0.024621</td>\n",
       "    </tr>\n",
       "    <tr>\n",
       "      <th>able get</th>\n",
       "      <td>-0.005550</td>\n",
       "      <td>-0.003673</td>\n",
       "      <td>-0.009755</td>\n",
       "      <td>0.008312</td>\n",
       "      <td>0.007050</td>\n",
       "    </tr>\n",
       "    <tr>\n",
       "      <th>abortion</th>\n",
       "      <td>-0.000270</td>\n",
       "      <td>-0.001350</td>\n",
       "      <td>-0.003607</td>\n",
       "      <td>-0.002278</td>\n",
       "      <td>0.008468</td>\n",
       "    </tr>\n",
       "  </tbody>\n",
       "</table>\n",
       "</div>"
      ],
      "text/plain": [
       "                PC1       PC2       PC3       PC4       PC5\n",
       "abandoned -0.008747  0.003246 -0.000436 -0.000132  0.004973\n",
       "ability   -0.025835 -0.002644  0.005020 -0.001831 -0.013152\n",
       "able      -0.021897 -0.009755 -0.023857 -0.002123  0.024621\n",
       "able get  -0.005550 -0.003673 -0.009755  0.008312  0.007050\n",
       "abortion  -0.000270 -0.001350 -0.003607 -0.002278  0.008468"
      ]
     },
     "execution_count": 145,
     "metadata": {},
     "output_type": "execute_result"
    }
   ],
   "source": [
    "# create df of top 5 PCs\n",
    "factor_loadings = pca.components_  #extract the component loadings\n",
    "matrix = np.transpose(factor_loadings) #flip the rows and cols \n",
    "fl = pd.DataFrame(data = matrix, index = x.columns)\n",
    "top_5 = fl.iloc[:,0:5]\n",
    "top_5.columns = ['PC1', 'PC2', 'PC3', 'PC4', 'PC5']\n",
    "top_5.head()"
   ]
  },
  {
   "cell_type": "code",
   "execution_count": 148,
   "id": "085dbbac",
   "metadata": {},
   "outputs": [],
   "source": [
    "# Isolate the top 20 terms for each PC\n",
    "PC1_20 = top_5.sort_values(by = 'PC1', ascending = False).head(20)\n",
    "PC2_20 = top_5.sort_values(by = 'PC2', ascending = False).head(20)\n",
    "PC3_20 = top_5.sort_values(by = 'PC3', ascending = False).head(20)\n",
    "PC4_20 = top_5.sort_values(by = 'PC4', ascending = False).head(20)\n",
    "PC5_20 = top_5.sort_values(by = 'PC5', ascending = False).head(20)"
   ]
  },
  {
   "cell_type": "code",
   "execution_count": 149,
   "id": "64a0db87",
   "metadata": {},
   "outputs": [
    {
     "data": {
      "text/plain": [
       "['freedom',\n",
       " 'america',\n",
       " 'liberty',\n",
       " 'citizens',\n",
       " 'god',\n",
       " 'power',\n",
       " 'delivered',\n",
       " 'free',\n",
       " 'politicians',\n",
       " 'fire',\n",
       " 'love',\n",
       " 'promised',\n",
       " 'lives',\n",
       " 'got',\n",
       " 'reject',\n",
       " 'fear',\n",
       " 'father',\n",
       " 'inaugural',\n",
       " 'earth',\n",
       " 'democracy']"
      ]
     },
     "execution_count": 149,
     "metadata": {},
     "output_type": "execute_result"
    },
    {
     "data": {
      "text/plain": [
       "['housing',\n",
       " 'climate',\n",
       " 'crisis',\n",
       " 'costs',\n",
       " 'homelessness',\n",
       " 'gun',\n",
       " 'affordable',\n",
       " 'homes',\n",
       " 'climate change',\n",
       " 'housing crisis',\n",
       " 'clean',\n",
       " 'energy',\n",
       " 'units',\n",
       " 'beds',\n",
       " 'homeless',\n",
       " 'action',\n",
       " 'mental',\n",
       " 'affordable housing',\n",
       " 'towns',\n",
       " 'shared']"
      ]
     },
     "execution_count": 149,
     "metadata": {},
     "output_type": "execute_result"
    },
    {
     "data": {
      "text/plain": [
       "['energy',\n",
       " 'biden administration',\n",
       " 'oil',\n",
       " 'innovation',\n",
       " 'freedom',\n",
       " 'policies',\n",
       " 'carbon',\n",
       " 'industries',\n",
       " 'delivered',\n",
       " 'security',\n",
       " 'critical',\n",
       " 'agriculture',\n",
       " 'advanced',\n",
       " 'biden',\n",
       " 'fire',\n",
       " 'federal government',\n",
       " 'meant',\n",
       " 'markets',\n",
       " 'winter',\n",
       " 'lead nation']"
      ]
     },
     "execution_count": 149,
     "metadata": {},
     "output_type": "execute_result"
    },
    {
     "data": {
      "text/plain": [
       "['property',\n",
       " 'kids',\n",
       " 'taxes',\n",
       " 'property taxes',\n",
       " 'property tax',\n",
       " 'relief',\n",
       " 'tax relief',\n",
       " 'million dollars',\n",
       " 'page',\n",
       " 'dollars',\n",
       " 'percent',\n",
       " 'cuts',\n",
       " 'water',\n",
       " 'energy',\n",
       " 'income',\n",
       " 'legislature',\n",
       " 'fentanyl',\n",
       " 'american dream',\n",
       " 'tax cuts',\n",
       " 'plan']"
      ]
     },
     "execution_count": 149,
     "metadata": {},
     "output_type": "execute_result"
    },
    {
     "data": {
      "text/plain": [
       "['freedom',\n",
       " 'child care',\n",
       " 'gun',\n",
       " 'lives',\n",
       " 'clean',\n",
       " 'invests',\n",
       " 'mental',\n",
       " 'mental health',\n",
       " 'investments',\n",
       " 'access',\n",
       " 'health care',\n",
       " 'guns',\n",
       " 'gun violence',\n",
       " 'america',\n",
       " 'easier',\n",
       " 'services',\n",
       " 'clean energy',\n",
       " 'universal',\n",
       " 'responders',\n",
       " 'first responders']"
      ]
     },
     "execution_count": 149,
     "metadata": {},
     "output_type": "execute_result"
    }
   ],
   "source": [
    "# Explore the top terms \n",
    "PC1_20_terms = list(PC1_20.index)\n",
    "PC1_20_terms\n",
    "#religious and patriotic terms (america, god etc)\n",
    "\n",
    "PC2_20_terms = list(PC2_20.index)\n",
    "PC2_20_terms\n",
    "# affordable housing and homelessness \n",
    "\n",
    "PC3_20_terms = list(PC3_20.index)\n",
    "PC3_20_terms\n",
    "# energy policy \n",
    "\n",
    "PC4_20_terms = list(PC4_20.index)\n",
    "PC4_20_terms\n",
    "# taxes \n",
    "\n",
    "PC5_20_terms = list(PC5_20.index)\n",
    "PC5_20_terms\n",
    "# mental health and gun violence "
   ]
  },
  {
   "cell_type": "markdown",
   "id": "ed0b9200",
   "metadata": {},
   "source": [
    "#### Create Function"
   ]
  },
  {
   "cell_type": "code",
   "execution_count": 163,
   "id": "7c2bdd15",
   "metadata": {},
   "outputs": [],
   "source": [
    "def print_pca(df, min_df_value):\n",
    "    tfidf_vectorizer = TfidfVectorizer(stop_words=new_stpwrd, min_df=min_df_value, max_df=0.80, ngram_range=(1,2), \n",
    "                                    token_pattern= r'\\b[a-zA-Z]{3,}\\b')\n",
    "    dtm = tfidf_vectorizer.fit_transform(df.text)\n",
    "    x = convert_to_term_df(dtm, tfidf_vectorizer)\n",
    "    pca = PCA()\n",
    "    pca.fit(x)\n",
    "    pc_variance = list(pca.explained_variance_ratio_)\n",
    "    pc_variance_top5 = sum(pc_variance[:5])\n",
    "    print('First 5 PC explain '+ str(round(pc_variance_top5, 4)) + \n",
    "      f' of variance in full dataset')\n",
    "    pc_variance_top10 = sum(pc_variance[:10])\n",
    "    print('First 10 PC explain '+ str(round(pc_variance_top10, 4)) + \n",
    "      f' of variance in full dataset')\n",
    "    factor_loadings = pca.components_  #extract the component loadings\n",
    "    matrix = np.transpose(factor_loadings) #flip the rows and cols \n",
    "    fl = pd.DataFrame(data = matrix, index = x.columns)\n",
    "    top_10 = fl.iloc[:,0:10]\n",
    "    top_10.columns = ['PC1', 'PC2', 'PC3', 'PC4', 'PC5', 'PC6', 'PC7', 'PC8', 'PC9', 'PC10']\n",
    "    PC1_20 = top_10.sort_values(by = 'PC1', ascending = False).head(20)\n",
    "    PC2_20 = top_10.sort_values(by = 'PC2', ascending = False).head(20)\n",
    "    PC3_20 = top_10.sort_values(by = 'PC3', ascending = False).head(20)\n",
    "    PC4_20 = top_10.sort_values(by = 'PC4', ascending = False).head(20)\n",
    "    PC5_20 = top_10.sort_values(by = 'PC5', ascending = False).head(20)\n",
    "    PC6_20 = top_10.sort_values(by = 'PC6', ascending = False).head(20)\n",
    "    PC7_20 = top_10.sort_values(by = 'PC7', ascending = False).head(20)\n",
    "    PC8_20 = top_10.sort_values(by = 'PC8', ascending = False).head(20)\n",
    "    PC9_20 = top_10.sort_values(by = 'PC9', ascending = False).head(20)\n",
    "    PC10_20 = top_10.sort_values(by = 'PC10', ascending = False).head(20)\n",
    "    \n",
    "    # individual variance of PC \n",
    "    pc1_var = round(sum(pc_variance[0:1]), 4)\n",
    "    pc2_var = round(sum(pc_variance[1:2]), 4)\n",
    "    pc3_var = round(sum(pc_variance[2:3]), 4)\n",
    "    pc4_var = round(sum(pc_variance[3:4]), 4)\n",
    "    pc5_var = round(sum(pc_variance[4:5]), 4)\n",
    "    pc6_var = round(sum(pc_variance[5:6]), 4)\n",
    "    pc7_var = round(sum(pc_variance[6:7]), 4)\n",
    "    pc8_var = round(sum(pc_variance[7:8]), 4)\n",
    "    pc9_var = round(sum(pc_variance[8:9]), 4)\n",
    "    pc10_var = round(sum(pc_variance[9:10]), 4)\n",
    "\n",
    "    # terms \n",
    "    PC1_20_terms = list(PC1_20.index)\n",
    "    PC2_20_terms = list(PC2_20.index)\n",
    "    PC3_20_terms = list(PC3_20.index)\n",
    "    PC4_20_terms = list(PC4_20.index)\n",
    "    PC5_20_terms = list(PC5_20.index)\n",
    "    PC6_20_terms = list(PC6_20.index)\n",
    "    PC7_20_terms = list(PC7_20.index)\n",
    "    PC8_20_terms = list(PC8_20.index)\n",
    "    PC9_20_terms = list(PC9_20.index)\n",
    "    PC10_20_terms = list(PC10_20.index)\n",
    "    \n",
    "    return (f'PC1: {pc1_var} -- {PC1_20_terms}', '', \n",
    "            f'PC2: {pc2_var} -- {PC2_20_terms}', '', \n",
    "            f'PC3: {pc3_var} -- {PC3_20_terms}', '', \n",
    "            f'PC4: {pc4_var} -- {PC4_20_terms}', '', \n",
    "            f'PC5: {pc5_var} -- {PC5_20_terms}', '', \n",
    "            f'PC6: {pc6_var} -- {PC6_20_terms}', '', \n",
    "            f'PC7: {pc7_var} -- {PC7_20_terms}', '', \n",
    "            f'PC8: {pc8_var} -- {PC8_20_terms}', '', \n",
    "            f'PC9: {pc9_var} -- {PC9_20_terms}', '', \n",
    "            f'PC10: {pc10_var} -- {PC10_20_terms}') "
   ]
  },
  {
   "cell_type": "markdown",
   "id": "95dd19f2",
   "metadata": {},
   "source": [
    "## Analyze Republicans and Democrats separately"
   ]
  },
  {
   "cell_type": "code",
   "execution_count": 164,
   "id": "bd0b71bc",
   "metadata": {},
   "outputs": [],
   "source": [
    "# create subset dfs based on gov party\n",
    "rep = sos[sos.party == 'republican'].copy().reset_index(drop = True)\n",
    "dem = sos[sos.party == 'democratic'].copy().reset_index(drop = True)"
   ]
  },
  {
   "cell_type": "code",
   "execution_count": 165,
   "id": "f503889c",
   "metadata": {},
   "outputs": [
    {
     "name": "stdout",
     "output_type": "stream",
     "text": [
      "<class 'pandas.core.frame.DataFrame'>\n",
      "RangeIndex: 26 entries, 0 to 25\n",
      "Data columns (total 7 columns):\n",
      " #   Column          Non-Null Count  Dtype \n",
      "---  ------          --------------  ----- \n",
      " 0   state           26 non-null     object\n",
      " 1   gov_name        26 non-null     object\n",
      " 2   party           26 non-null     object\n",
      " 3   type            26 non-null     object\n",
      " 4   text            26 non-null     object\n",
      " 5   word_count      26 non-null     int64 \n",
      " 6   new_word_count  26 non-null     int64 \n",
      "dtypes: int64(2), object(5)\n",
      "memory usage: 1.5+ KB\n",
      "<class 'pandas.core.frame.DataFrame'>\n",
      "RangeIndex: 24 entries, 0 to 23\n",
      "Data columns (total 7 columns):\n",
      " #   Column          Non-Null Count  Dtype \n",
      "---  ------          --------------  ----- \n",
      " 0   state           24 non-null     object\n",
      " 1   gov_name        24 non-null     object\n",
      " 2   party           24 non-null     object\n",
      " 3   type            24 non-null     object\n",
      " 4   text            24 non-null     object\n",
      " 5   word_count      24 non-null     int64 \n",
      " 6   new_word_count  24 non-null     int64 \n",
      "dtypes: int64(2), object(5)\n",
      "memory usage: 1.4+ KB\n"
     ]
    }
   ],
   "source": [
    "# explore both \n",
    "rep.info()\n",
    "dem.info()"
   ]
  },
  {
   "cell_type": "markdown",
   "id": "c63c69f0",
   "metadata": {},
   "source": [
    "#### Republicans"
   ]
  },
  {
   "cell_type": "code",
   "execution_count": 166,
   "id": "99fca148",
   "metadata": {},
   "outputs": [
    {
     "data": {
      "text/plain": [
       "(26, 1379)"
      ]
     },
     "execution_count": 166,
     "metadata": {},
     "output_type": "execute_result"
    }
   ],
   "source": [
    "# use tfidf_vectorizer4 - most interpretable from full df analysis \n",
    "\n",
    "# create custom stop list \n",
    "new_stp_list = ['her', 'them', 'million','four','absolutely','tonight','state', 'governor', 'year', 'alabama', 'new', 'north', 'south', 'west', 'alaska', 'arizona', 'arkansas', 'california', 'colorado',\n",
    "             'connecticut','delaware','florida','georgia','hawaii','idaho','illinois','indiana','iowa',\n",
    "             'kansas','kentucky','louisiana','maine','maryland','massachusetts','michigan','minnesota',\n",
    "             'mississippi','missouri','montana','nebraska','nevada', 'hampshire', 'jersey', 'mexico','york',\n",
    "             'carolina', 'dakota','ohio','oklahoma','oregon','pennsylvania','rhode','island','tennessee','texas',\n",
    "             'utah','vermont','virginia','washington','west virginia', 'wisconsin','wyoming', \n",
    "             'could', 'doe', 'ha', 'kansa', 'might', 'must', 'need', 'sha', 'wa', 'would', 'freedom', 'america',\n",
    "             'delivered', 'lives', 'promised', 'citizens', 'liberty', 'policies', 'free', 'reject', 'biden', \n",
    "             'top', 'number','one', 'got', 'wants', 'american', 'going','really', 'yes', 'mission', 'dreams', \n",
    "             'inaugural','address', 'led', 'bold', 'seek', 'americans', 'ever']\n",
    "\n",
    "new_stpwrd = nltk.corpus.stopwords.words('english')\n",
    "new_stpwrd.extend(new_stp_list)\n",
    "\n",
    "# initialize tfidf\n",
    "tfidf_vectorizer4 = TfidfVectorizer(stop_words=new_stpwrd, min_df=6, max_df=0.80, ngram_range=(1,2), \n",
    "                                    token_pattern= r'\\b[a-zA-Z]{3,}\\b')\n",
    "\n",
    "# create dtm\n",
    "rep_dtm4 = tfidf_vectorizer4.fit_transform(rep.text)\n",
    "rep_dtm4.shape  # (26, 1380)"
   ]
  },
  {
   "cell_type": "code",
   "execution_count": 167,
   "id": "33789a1f",
   "metadata": {},
   "outputs": [
    {
     "data": {
      "text/plain": [
       "array(['schools', 'kids', 'program', 'energy', 'teachers', 'workforce',\n",
       "       'system', 'investment', 'general', 'needs', 'legislature',\n",
       "       'percent', 'property', 'taxes', 'session', 'teacher', 'fund',\n",
       "       'community', 'may', 'made'], dtype=object)"
      ]
     },
     "execution_count": 167,
     "metadata": {},
     "output_type": "execute_result"
    }
   ],
   "source": [
    "# get most frequent terms\n",
    "rep_top_terms = get_top_terms(rep_dtm4, tfidf_vectorizer4, 20)  \n",
    "rep_top_terms\n",
    "\n",
    "# convert to df\n",
    "rep_df4 = convert_to_term_df(rep_dtm4, tfidf_vectorizer4)\n",
    "# rep_df4.head() "
   ]
  },
  {
   "cell_type": "markdown",
   "id": "0a16ef26",
   "metadata": {},
   "source": [
    "###### Hyperparameter tuning"
   ]
  },
  {
   "cell_type": "code",
   "execution_count": 171,
   "id": "08b6bbd1",
   "metadata": {},
   "outputs": [],
   "source": [
    "# explore min_doc frequency options of 1-10\n",
    "def get_min_doc_image(df, party):\n",
    "    term_count = []\n",
    "\n",
    "    for i in range(1, 10):\n",
    "        vectorizer = CountVectorizer(stop_words='english', min_df=i)\n",
    "        dtm = vectorizer.fit_transform(dem.text)\n",
    "        length = dtm.shape[1]\n",
    "        term_count.append(length)\n",
    "\n",
    "    min_df = pd.DataFrame(data = {'Min Doc': range(1,10),\n",
    "                                  'Term Count': term_count})\n",
    "    fig, ax = plt.subplots(figsize=(12,6.5))\n",
    "    # ax.plot(range(1,26), min_df['Term Count'], linewidth = 2.5, color = 'green')\n",
    "    ax.scatter(x = min_df['Min Doc'], y = min_df['Term Count'])\n",
    "    plt.title(f'From {str(df.shape[0])} State of the State Addresses for {party} in 2023')\n",
    "    plt.suptitle('Minimum Document Frequency and Resulting Term Count', size = 20)\n",
    "    plt.ylabel('Term Count')\n",
    "    plt.xlabel('Minimum Document Frequency')\n",
    "    #plt.xticks(range(10,31))\n",
    "    #plt.savefig('min_doc_freq.png')"
   ]
  },
  {
   "cell_type": "code",
   "execution_count": 162,
   "id": "c6c203f7",
   "metadata": {},
   "outputs": [
    {
     "data": {
      "image/png": "[encoded data removed]",
      "text/plain": [
       "<Figure size 864x468 with 1 Axes>"
      ]
     },
     "metadata": {
      "needs_background": "light"
     },
     "output_type": "display_data"
    }
   ],
   "source": [
    "get_min_doc_image(rep, 'Republicans')"
   ]
  },
  {
   "cell_type": "markdown",
   "id": "4495be5e",
   "metadata": {},
   "source": [
    "##### PCA - Republicans"
   ]
  },
  {
   "cell_type": "code",
   "execution_count": 170,
   "id": "943a5dc9",
   "metadata": {},
   "outputs": [
    {
     "name": "stdout",
     "output_type": "stream",
     "text": [
      "First 5 PC explain 0.2764 of variance in full dataset\n",
      "First 10 PC explain 0.4968 of variance in full dataset\n"
     ]
    },
    {
     "data": {
      "text/plain": [
       "(\"PC1: 0.0674 -- ['energy', 'fire', 'power', 'meant', 'enact', 'carbon', 'security', 'innovation', 'produced', 'industries', 'advanced', 'oil', 'mandates', 'land', 'principles', 'fear', 'inflation', 'die', 'national security', 'mind']\",\n",
       " '',\n",
       " \"PC2: 0.0575 -- ['energy', 'carbon', 'industries', 'oil', 'innovation', 'advanced', 'security', 'financial', 'agriculture', 'federal', 'winter', 'youth', 'resiliency', 'private', 'markets', 'areas', 'industry', 'proposed', 'grit', 'federal government']\",\n",
       " '',\n",
       " \"PC3: 0.0535 -- ['property', 'property tax', 'property taxes', 'relief', 'taxes', 'recommending', 'tax relief', 'percent', 'kids', 'cuts', 'fentanyl', 'tax cuts', 'border', 'michael', 'investments', 'investment', 'local', 'dollar', 'school districts', 'districts']\",\n",
       " '',\n",
       " \"PC4: 0.0499 -- ['grid', 'fire', 'border', 'criminals', 'general', 'strong', 'pioneers', 'illegal', 'general assembly', 'schools', 'owners', 'assembly', 'generation', 'pathways', 'hardworking', 'deserve', 'order', 'public safety', 'land', 'men']\",\n",
       " '',\n",
       " \"PC5: 0.0481 -- ['fire', 'dream', 'record', 'apprenticeship', 'mandates', 'enact', 'freedoms', 'industry', 'employees', 'kids', 'ten', 'land', 'fastest', 'production', 'stronger families', 'saw', 'unemployment', 'protecting', 'companies', 'oil']\",\n",
       " '',\n",
       " \"PC6: 0.0468 -- ['schools', 'ten', 'choice', 'sarah', 'quality education', 'pro', 'legislature', 'school choice', 'improving', 'energy', 'charter', 'tomorrow', 'session', 'priority', 'border', 'term', 'needs', 'grid', 'calling', 'means']\",\n",
       " '',\n",
       " \"PC7: 0.045 -- ['voters', 'primary', 'secretary', 'general', 'schools', 'party', 'tell', 'individual', 'system', 'think', 'politics', 'assembly', 'percent', 'power', 'elected', 'executive', 'joining', 'six years', 'services', 'general assembly']\",\n",
       " '',\n",
       " \"PC8: 0.0445 -- ['literally', 'think', 'tell', 'oil', 'wonderful', 'program', 'proposing', 'secretary', 'try', 'lot', 'applause', 'thing', 'tourism', 'round', 'agriculture', 'sergeant', 'kids', 'staff', 'worked', 'benefits']\",\n",
       " '',\n",
       " \"PC9: 0.0425 -- ['grid', 'border', 'oil', 'pioneers', 'use', 'owners', 'uniform', 'housing', 'carbon', 'power', 'largest', 'wave', 'tools', 'anyone', 'spirit', 'bipartisan', 'line', 'action', 'recovery', 'books']\",\n",
       " '',\n",
       " \"PC10: 0.0415 -- ['generation', 'oil', 'sarah', 'mom', 'rock', 'sergeant', 'income tax', 'ten', 'love', 'vision', 'executive', 'forward', 'leadership', 'amazing', 'faith', 'confidence', 'industry', 'freedoms', 'spirit', 'oath']\")"
      ]
     },
     "execution_count": 170,
     "metadata": {},
     "output_type": "execute_result"
    }
   ],
   "source": [
    "# not very meaningful or interpretable \n",
    "print_pca(rep, 4)"
   ]
  },
  {
   "cell_type": "markdown",
   "id": "7b736276",
   "metadata": {},
   "source": [
    "#### Democrats"
   ]
  },
  {
   "cell_type": "code",
   "execution_count": 172,
   "id": "8b980563",
   "metadata": {},
   "outputs": [
    {
     "data": {
      "text/plain": [
       "(24, 1204)"
      ]
     },
     "execution_count": 172,
     "metadata": {},
     "output_type": "execute_result"
    }
   ],
   "source": [
    "# use dtf4 - most interpretable from full ds\n",
    "dem_dtm4 = tfidf_vectorizer4.fit_transform(dem.text)\n",
    "dem_dtm4.shape # (24, 1204)"
   ]
  },
  {
   "cell_type": "code",
   "execution_count": 174,
   "id": "1bed1dd8",
   "metadata": {},
   "outputs": [
    {
     "data": {
      "text/plain": [
       "array(['housing', 'water', 'funding', 'investments', 'workforce',\n",
       "       'mental', 'nation', 'services', 'kids', 'program', 'legislature',\n",
       "       'costs', 'county', 'billion', 'access', 'sure', 'system',\n",
       "       'mental health', 'crisis', 'climate'], dtype=object)"
      ]
     },
     "execution_count": 174,
     "metadata": {},
     "output_type": "execute_result"
    },
    {
     "data": {
      "text/html": [
       "<div>\n",
       "<style scoped>\n",
       "    .dataframe tbody tr th:only-of-type {\n",
       "        vertical-align: middle;\n",
       "    }\n",
       "\n",
       "    .dataframe tbody tr th {\n",
       "        vertical-align: top;\n",
       "    }\n",
       "\n",
       "    .dataframe thead th {\n",
       "        text-align: right;\n",
       "    }\n",
       "</style>\n",
       "<table border=\"1\" class=\"dataframe\">\n",
       "  <thead>\n",
       "    <tr style=\"text-align: right;\">\n",
       "      <th></th>\n",
       "      <th>ability</th>\n",
       "      <th>able</th>\n",
       "      <th>abortion</th>\n",
       "      <th>access</th>\n",
       "      <th>accessible</th>\n",
       "      <th>accomplish</th>\n",
       "      <th>accomplished</th>\n",
       "      <th>achieve</th>\n",
       "      <th>across country</th>\n",
       "      <th>act</th>\n",
       "      <th>...</th>\n",
       "      <th>worth</th>\n",
       "      <th>years ago</th>\n",
       "      <th>years ahead</th>\n",
       "      <th>years come</th>\n",
       "      <th>yet</th>\n",
       "      <th>young</th>\n",
       "      <th>young people</th>\n",
       "      <th>youth</th>\n",
       "      <th>zero</th>\n",
       "      <th>zoning</th>\n",
       "    </tr>\n",
       "  </thead>\n",
       "  <tbody>\n",
       "    <tr>\n",
       "      <th>0</th>\n",
       "      <td>0.000000</td>\n",
       "      <td>0.000000</td>\n",
       "      <td>0.019616</td>\n",
       "      <td>0.023737</td>\n",
       "      <td>0.000000</td>\n",
       "      <td>0.00000</td>\n",
       "      <td>0.0</td>\n",
       "      <td>0.026891</td>\n",
       "      <td>0.000000</td>\n",
       "      <td>0.080672</td>\n",
       "      <td>...</td>\n",
       "      <td>0.000000</td>\n",
       "      <td>0.000000</td>\n",
       "      <td>0.044110</td>\n",
       "      <td>0.022055</td>\n",
       "      <td>0.000000</td>\n",
       "      <td>0.014660</td>\n",
       "      <td>0.000000</td>\n",
       "      <td>0.000000</td>\n",
       "      <td>0.000000</td>\n",
       "      <td>0.000000</td>\n",
       "    </tr>\n",
       "    <tr>\n",
       "      <th>1</th>\n",
       "      <td>0.000000</td>\n",
       "      <td>0.000000</td>\n",
       "      <td>0.042586</td>\n",
       "      <td>0.051531</td>\n",
       "      <td>0.000000</td>\n",
       "      <td>0.04788</td>\n",
       "      <td>0.0</td>\n",
       "      <td>0.000000</td>\n",
       "      <td>0.042586</td>\n",
       "      <td>0.029189</td>\n",
       "      <td>...</td>\n",
       "      <td>0.000000</td>\n",
       "      <td>0.058378</td>\n",
       "      <td>0.000000</td>\n",
       "      <td>0.000000</td>\n",
       "      <td>0.076718</td>\n",
       "      <td>0.000000</td>\n",
       "      <td>0.000000</td>\n",
       "      <td>0.000000</td>\n",
       "      <td>0.000000</td>\n",
       "      <td>0.047880</td>\n",
       "    </tr>\n",
       "    <tr>\n",
       "      <th>2</th>\n",
       "      <td>0.021247</td>\n",
       "      <td>0.008489</td>\n",
       "      <td>0.000000</td>\n",
       "      <td>0.067444</td>\n",
       "      <td>0.000000</td>\n",
       "      <td>0.00000</td>\n",
       "      <td>0.0</td>\n",
       "      <td>0.008489</td>\n",
       "      <td>0.000000</td>\n",
       "      <td>0.050937</td>\n",
       "      <td>...</td>\n",
       "      <td>0.013108</td>\n",
       "      <td>0.016979</td>\n",
       "      <td>0.013926</td>\n",
       "      <td>0.000000</td>\n",
       "      <td>0.011157</td>\n",
       "      <td>0.009256</td>\n",
       "      <td>0.000000</td>\n",
       "      <td>0.011740</td>\n",
       "      <td>0.027851</td>\n",
       "      <td>0.013926</td>\n",
       "    </tr>\n",
       "    <tr>\n",
       "      <th>3</th>\n",
       "      <td>0.000000</td>\n",
       "      <td>0.000000</td>\n",
       "      <td>0.000000</td>\n",
       "      <td>0.024620</td>\n",
       "      <td>0.040693</td>\n",
       "      <td>0.00000</td>\n",
       "      <td>0.0</td>\n",
       "      <td>0.000000</td>\n",
       "      <td>0.000000</td>\n",
       "      <td>0.000000</td>\n",
       "      <td>...</td>\n",
       "      <td>0.000000</td>\n",
       "      <td>0.055783</td>\n",
       "      <td>0.000000</td>\n",
       "      <td>0.000000</td>\n",
       "      <td>0.000000</td>\n",
       "      <td>0.000000</td>\n",
       "      <td>0.000000</td>\n",
       "      <td>0.000000</td>\n",
       "      <td>0.000000</td>\n",
       "      <td>0.000000</td>\n",
       "    </tr>\n",
       "    <tr>\n",
       "      <th>4</th>\n",
       "      <td>0.020050</td>\n",
       "      <td>0.016022</td>\n",
       "      <td>0.000000</td>\n",
       "      <td>0.028286</td>\n",
       "      <td>0.000000</td>\n",
       "      <td>0.00000</td>\n",
       "      <td>0.0</td>\n",
       "      <td>0.016022</td>\n",
       "      <td>0.000000</td>\n",
       "      <td>0.000000</td>\n",
       "      <td>...</td>\n",
       "      <td>0.000000</td>\n",
       "      <td>0.048067</td>\n",
       "      <td>0.026282</td>\n",
       "      <td>0.000000</td>\n",
       "      <td>0.000000</td>\n",
       "      <td>0.034939</td>\n",
       "      <td>0.022158</td>\n",
       "      <td>0.022158</td>\n",
       "      <td>0.000000</td>\n",
       "      <td>0.000000</td>\n",
       "    </tr>\n",
       "  </tbody>\n",
       "</table>\n",
       "<p>5 rows × 1204 columns</p>\n",
       "</div>"
      ],
      "text/plain": [
       "    ability      able  abortion    access  accessible  accomplish  \\\n",
       "0  0.000000  0.000000  0.019616  0.023737    0.000000     0.00000   \n",
       "1  0.000000  0.000000  0.042586  0.051531    0.000000     0.04788   \n",
       "2  0.021247  0.008489  0.000000  0.067444    0.000000     0.00000   \n",
       "3  0.000000  0.000000  0.000000  0.024620    0.040693     0.00000   \n",
       "4  0.020050  0.016022  0.000000  0.028286    0.000000     0.00000   \n",
       "\n",
       "   accomplished   achieve  across country       act  ...     worth  years ago  \\\n",
       "0           0.0  0.026891        0.000000  0.080672  ...  0.000000   0.000000   \n",
       "1           0.0  0.000000        0.042586  0.029189  ...  0.000000   0.058378   \n",
       "2           0.0  0.008489        0.000000  0.050937  ...  0.013108   0.016979   \n",
       "3           0.0  0.000000        0.000000  0.000000  ...  0.000000   0.055783   \n",
       "4           0.0  0.016022        0.000000  0.000000  ...  0.000000   0.048067   \n",
       "\n",
       "   years ahead  years come       yet     young  young people     youth  \\\n",
       "0     0.044110    0.022055  0.000000  0.014660      0.000000  0.000000   \n",
       "1     0.000000    0.000000  0.076718  0.000000      0.000000  0.000000   \n",
       "2     0.013926    0.000000  0.011157  0.009256      0.000000  0.011740   \n",
       "3     0.000000    0.000000  0.000000  0.000000      0.000000  0.000000   \n",
       "4     0.026282    0.000000  0.000000  0.034939      0.022158  0.022158   \n",
       "\n",
       "       zero    zoning  \n",
       "0  0.000000  0.000000  \n",
       "1  0.000000  0.047880  \n",
       "2  0.027851  0.013926  \n",
       "3  0.000000  0.000000  \n",
       "4  0.000000  0.000000  \n",
       "\n",
       "[5 rows x 1204 columns]"
      ]
     },
     "execution_count": 174,
     "metadata": {},
     "output_type": "execute_result"
    }
   ],
   "source": [
    "# isolate the most frequent terms \n",
    "dem_top_terms = get_top_terms(dem_dtm4, tfidf_vectorizer4, 20)  \n",
    "dem_top_terms\n",
    "\n",
    "# convert to df\n",
    "dem_df4 = convert_to_term_df(dem_dtm4, tfidf_vectorizer4)\n",
    "dem_df4.head() "
   ]
  },
  {
   "cell_type": "markdown",
   "id": "d851a67a",
   "metadata": {},
   "source": [
    "##### Hyperparameter Tuning"
   ]
  },
  {
   "cell_type": "code",
   "execution_count": 180,
   "id": "feaeee18",
   "metadata": {},
   "outputs": [
    {
     "data": {
      "image/png": "[encoded data removed]",
      "text/plain": [
       "<Figure size 864x468 with 1 Axes>"
      ]
     },
     "metadata": {
      "needs_background": "light"
     },
     "output_type": "display_data"
    }
   ],
   "source": [
    "get_min_doc_image(dem, 'Democrats')"
   ]
  },
  {
   "cell_type": "markdown",
   "id": "5e285453",
   "metadata": {},
   "source": [
    "##### PCA - Dem"
   ]
  },
  {
   "cell_type": "code",
   "execution_count": 183,
   "id": "c12b7aa7",
   "metadata": {},
   "outputs": [
    {
     "name": "stdout",
     "output_type": "stream",
     "text": [
      "First 5 PC explain 0.2951 of variance in full dataset\n",
      "First 10 PC explain 0.5295 of variance in full dataset\n"
     ]
    },
    {
     "data": {
      "text/plain": [
       "(\"PC1: 0.0697 -- ['housing', 'idea', 'homelessness', 'crisis', 'legislature', 'hope', 'listen', 'democracy', 'climate', 'housing crisis', 'things', 'rights', 'actions', 'homeless', 'values', 'within', 'red', 'father', 'sell', 'housing homelessness']\",\n",
       " '',\n",
       " \"PC2: 0.065 -- ['love', 'easier', 'trying', 'nation', 'world', 'banning', 'else', 'vote', 'anyone', 'something', 'teachers', 'rights', 'story', 'politicians', 'lot', 'river', 'journey', 'second', 'looking', 'father']\",\n",
       " '',\n",
       " \"PC3: 0.0552 -- ['kids', 'safety', 'gun', 'easier', 'child care', 'mental', 'public safety', 'clean', 'services', 'guns', 'mental health', 'clean energy', 'anyone', 'access', 'program', 'nation', 'assistance', 'system', 'talk', 'else']\",\n",
       " '',\n",
       " \"PC4: 0.0538 -- ['fiscal', 'taxpayers', 'growth', 'less', 'starting', 'senator', 'costs', 'worry', 'control', 'labor', 'covid', 'citizen', 'rescue', 'party', 'economic growth', 'election', 'assistance', 'hit', 'gun', 'tell']\",\n",
       " '',\n",
       " \"PC5: 0.0515 -- ['took', 'hope', 'insurance', 'yet', 'medicaid', 'asked', 'father', 'hundred', 'rivers', 'everything', 'times', 'remember', 'became', 'nation', 'past', 'billion', 'services', 'eyes', 'pandemic', 'politicians']\",\n",
       " '',\n",
       " \"PC6: 0.0502 -- ['water', 'costs', 'less', 'taxpayers', 'healthcare', 'fiscal', 'party', 'perhaps', 'secretary', 'workforce', 'legislature', 'rural', 'growth', 'worry', 'medicaid', 'common', 'fix', 'citizen', 'cannot', 'teachers']\",\n",
       " '',\n",
       " \"PC7: 0.0492 -- ['idea', 'listen', 'investing', 'serving', 'listening', 'services', 'things', 'debt', 'party', 'budget proposal', 'cannabis', 'election', 'possibility', 'taxpayers', 'higher education', 'brown', 'creating', 'county', 'access', 'economic growth']\",\n",
       " '',\n",
       " \"PC8: 0.0462 -- ['poverty', 'serve', 'stepped', 'please', 'young', 'please stand', 'young people', 'oath', 'someone', 'military', 'fiscal', 'minimum', 'raised', 'served', 'wage', 'behavioral health', 'insurance', 'minimum wage', 'behavioral', 'civic']\",\n",
       " '',\n",
       " \"PC9: 0.0448 -- ['hope', 'hundred', 'hopeful', 'asked', 'welcoming', 'actions', 'everything', 'signs', 'years ago', 'asking', 'times', 'recognizing', 'western', 'senator', 'woman', 'county', 'oath', 'towns', 'learned', 'kids']\",\n",
       " '',\n",
       " \"PC10: 0.0439 -- ['else', 'medicaid', 'lot', 'easier', 'idea', 'things', 'issue', 'listen', 'session', 'pay', 'thing', 'facing', 'insurance', 'water', 'minimum', 'anyone', 'fiscal', 'role', 'talk', 'result']\")"
      ]
     },
     "execution_count": 183,
     "metadata": {},
     "output_type": "execute_result"
    }
   ],
   "source": [
    "print_pca(dem, 4) # not very interpretative or meaningful "
   ]
  },
  {
   "cell_type": "markdown",
   "id": "71b887c0",
   "metadata": {},
   "source": [
    "#### Compare Top Terms\n",
    "Since the Principal Components for each party were not very interpretable, let's examine the most frequent terms for each instead."
   ]
  },
  {
   "cell_type": "code",
   "execution_count": 175,
   "id": "ae2b76d2",
   "metadata": {},
   "outputs": [
    {
     "name": "stdout",
     "output_type": "stream",
     "text": [
      "BOTH\n"
     ]
    },
    {
     "data": {
      "text/plain": [
       "['workforce', 'kids', 'program', 'legislature', 'system']"
      ]
     },
     "execution_count": 175,
     "metadata": {},
     "output_type": "execute_result"
    }
   ],
   "source": [
    "print('BOTH')\n",
    "[i for i in dem_top_terms if i in rep_top_terms]"
   ]
  },
  {
   "cell_type": "code",
   "execution_count": 178,
   "id": "0ee6fde2",
   "metadata": {},
   "outputs": [
    {
     "name": "stdout",
     "output_type": "stream",
     "text": [
      "DEMOCRATS\n"
     ]
    },
    {
     "data": {
      "text/plain": [
       "['housing',\n",
       " 'water',\n",
       " 'funding',\n",
       " 'investments',\n",
       " 'mental',\n",
       " 'nation',\n",
       " 'services',\n",
       " 'costs',\n",
       " 'county',\n",
       " 'billion',\n",
       " 'access',\n",
       " 'sure',\n",
       " 'mental health',\n",
       " 'crisis',\n",
       " 'climate']"
      ]
     },
     "execution_count": 178,
     "metadata": {},
     "output_type": "execute_result"
    }
   ],
   "source": [
    "print('DEMOCRATS')\n",
    "[i for i in dem_top_terms if i not in rep_top_terms]"
   ]
  },
  {
   "cell_type": "code",
   "execution_count": 179,
   "id": "47006629",
   "metadata": {},
   "outputs": [
    {
     "name": "stdout",
     "output_type": "stream",
     "text": [
      "REPUBLICANS\n"
     ]
    },
    {
     "data": {
      "text/plain": [
       "['schools',\n",
       " 'energy',\n",
       " 'teachers',\n",
       " 'investment',\n",
       " 'general',\n",
       " 'needs',\n",
       " 'percent',\n",
       " 'property',\n",
       " 'taxes',\n",
       " 'session',\n",
       " 'teacher',\n",
       " 'fund',\n",
       " 'community',\n",
       " 'may',\n",
       " 'made']"
      ]
     },
     "execution_count": 179,
     "metadata": {},
     "output_type": "execute_result"
    }
   ],
   "source": [
    "print('REPUBLICANS')\n",
    "[i for i in rep_top_terms if i not in dem_top_terms] "
   ]
  }
 ],
 "metadata": {
  "kernelspec": {
   "display_name": "Python 3 (ipykernel)",
   "language": "python",
   "name": "python3"
  },
  "language_info": {
   "codemirror_mode": {
    "name": "ipython",
    "version": 3
   },
   "file_extension": ".py",
   "mimetype": "text/x-python",
   "name": "python",
   "nbconvert_exporter": "python",
   "pygments_lexer": "ipython3",
   "version": "3.9.12"
  }
 },
 "nbformat": 4,
 "nbformat_minor": 5
}
